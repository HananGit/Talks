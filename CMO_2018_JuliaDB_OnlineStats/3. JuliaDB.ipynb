{
 "cells": [
  {
   "cell_type": "markdown",
   "metadata": {},
   "source": [
    "<center>\n",
    "    <img src=\"https://user-images.githubusercontent.com/25916/36773410-843e61b0-1c7f-11e8-818b-3edb08da8f41.png\" width=200>\n",
    "</center>"
   ]
  },
  {
   "cell_type": "markdown",
   "metadata": {},
   "source": [
    "# What is JuliaDB?\n",
    "\n",
    "- Distributed data tables"
   ]
  },
  {
   "cell_type": "markdown",
   "metadata": {},
   "source": [
    "# JuliaDB Basics\n",
    "\n",
    "- Two columnar table types (with distributed versions)\n",
    "- Can load data from multiple files at once\n",
    "- Can work with data larger than memory"
   ]
  },
  {
   "cell_type": "markdown",
   "metadata": {},
   "source": [
    "---\n",
    "\n",
    "# Outline"
   ]
  },
  {
   "cell_type": "markdown",
   "metadata": {},
   "source": [
    "## Table vs. NDSparse\n",
    "\n",
    "- Creating from Julia vectors\n",
    "    - With/without NamedTuples\n",
    "    - Setting primary key(s)\n",
    "- Accessing data\n",
    "- Iterating over data"
   ]
  },
  {
   "cell_type": "markdown",
   "metadata": {},
   "source": [
    "## Loading Data from CSV\n",
    "\n",
    "- `loadtable` and `loadnsparse`\n",
    "    - `filenamecol` keyword argument\n",
    "    - `indexcols` keyword argument\n",
    "- NDSparse motivation: \"What was closing price for Apple on Feb 10, 1986?\"\n",
    "- Setting `filenamecol`\n",
    "- Saving/loading tables"
   ]
  },
  {
   "cell_type": "markdown",
   "metadata": {},
   "source": [
    "## Selectors\n",
    "\n",
    "- `select`\n",
    "- `filter`\n",
    "- `columns`\n",
    "- `rows`"
   ]
  },
  {
   "cell_type": "markdown",
   "metadata": {},
   "source": [
    "## Distributed Table/NDSparse\n",
    "\n",
    "- `addprocs()` before `loadtable`\n",
    "- Out-of-core processing\n",
    "    - `output` and `chunks` keyword arguments to `loadtable`"
   ]
  },
  {
   "cell_type": "markdown",
   "metadata": {},
   "source": [
    "## OnlineStats Integration\n",
    "\n",
    "- Iteration approach\n",
    "- `reduce`/`groupreduce`"
   ]
  },
  {
   "cell_type": "markdown",
   "metadata": {},
   "source": [
    "# References\n",
    "\n",
    "- See [www.juliabox.com](www.juliabox.com) for another JuliaDB tutorial (plus other Julia tutorials)\n",
    "- Docs: http://juliadb.org/latest/\n",
    "- Source: https://github.com/JuliaComputing/JuliaDB.jl"
   ]
  }
 ],
 "metadata": {
  "kernelspec": {
   "display_name": "Julia 0.6.3",
   "language": "julia",
   "name": "julia-0.6"
  },
  "language_info": {
   "file_extension": ".jl",
   "mimetype": "application/julia",
   "name": "julia",
   "version": "0.6.3"
  }
 },
 "nbformat": 4,
 "nbformat_minor": 2
}
