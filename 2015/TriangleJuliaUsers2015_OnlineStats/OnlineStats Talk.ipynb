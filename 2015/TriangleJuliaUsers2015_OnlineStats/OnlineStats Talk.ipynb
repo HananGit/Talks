{
 "cells": [
  {
   "cell_type": "code",
   "execution_count": 45,
   "metadata": {
    "collapsed": true,
    "slideshow": {
     "slide_type": "slide"
    }
   },
   "outputs": [],
   "source": [
    "using OnlineStats, AverageShiftedHistograms, Distributions"
   ]
  },
  {
   "cell_type": "markdown",
   "metadata": {
    "slideshow": {
     "slide_type": "slide"
    }
   },
   "source": [
    "# OnlineStats.jl\n",
    "\n",
    "- Josh Day, NC State Department of Statistics\n",
    "- https://github.com/joshday/\n",
    "- jtday2@ncsu.edu\n",
    "- December 14, 2015"
   ]
  },
  {
   "cell_type": "markdown",
   "metadata": {
    "slideshow": {
     "slide_type": "slide"
    }
   },
   "source": [
    "### Things to Note\n",
    "\n",
    "- I am a statistician\n",
    "- I am a Julia convert from R\n",
    "- This talk will focus on OnlineStats, but I'll also be demonstrating a few things from Plots.jl (@tbreloff) and AverageShiftedHistograms.jl (@joshday)\n",
    "- Some of the syntax I'm using is not yet available in OnlineStats"
   ]
  },
  {
   "cell_type": "markdown",
   "metadata": {
    "slideshow": {
     "slide_type": "slide"
    }
   },
   "source": [
    "### Outline\n",
    "\n",
    "- Introduction/Motivation\n",
    "- Why Julia?\n",
    "- What Can [OnlineStats.jl](https://github.com/joshday/OnlineStats.jl) do?\n",
    "    - Weighting System\n",
    "    - Trace Plots\n",
    "    - Distribution Fitting\n",
    "    - Density Estimation ([AverageShiftedHistograms.jl](https://github.com/joshday/AverageShiftedHistograms.jl))\n",
    "    - Predictive Models with Regularization"
   ]
  },
  {
   "cell_type": "markdown",
   "metadata": {
    "slideshow": {
     "slide_type": "slide"
    }
   },
   "source": [
    "### Introduction and Motivation\n",
    "\n",
    "- OnlineStats.jl is the implementation of my research into online algorithms for statistics.\n",
    "- Observations are processed one by one and all algorithms use O(1) memory.\n",
    "- Why do we need online algorithms for statistics?"
   ]
  },
  {
   "cell_type": "markdown",
   "metadata": {
    "slideshow": {
     "slide_type": "slide"
    }
   },
   "source": [
    "![](http://www.ibmbigdatahub.com/sites/default/files/infographic_file/4-Vs-of-big-data.jpg)"
   ]
  },
  {
   "cell_type": "markdown",
   "metadata": {
    "slideshow": {
     "slide_type": "slide"
    }
   },
   "source": [
    "- Statistical methods in the realms of Volume and Velocity are very limited.  \n",
    "- Adapting methods to these scenarios is nontrivial"
   ]
  },
  {
   "cell_type": "markdown",
   "metadata": {
    "slideshow": {
     "slide_type": "slide"
    }
   },
   "source": [
    "# Why Julia? (vs. R + RCpp)\n",
    "\n",
    "- Speed\n",
    "- Types \n",
    "    - multiple dispatch and abstraction\n",
    "- Developer tools\n",
    "    - `@time`, the greatest thing\n",
    "- Clarity\n",
    "- The Future"
   ]
  },
  {
   "cell_type": "markdown",
   "metadata": {
    "slideshow": {
     "slide_type": "slide"
    }
   },
   "source": [
    "# What Can OnlineStats.jl Do?\n",
    "\n",
    "- http://joshday.github.io/OnlineStats.jl/#what-onlinestats-can-do\n",
    "- OnlineStats aims to cover online algorithms for each major statistical method, from summary statistics to penalized regression.\n",
    "- Some estimates cannot be exact, but many OnlineStats have analytical solutions\n",
    "  - logistic regression (approximate)\n",
    "  - linear regression (analytical)"
   ]
  },
  {
   "cell_type": "code",
   "execution_count": 46,
   "metadata": {
    "collapsed": false,
    "slideshow": {
     "slide_type": "slide"
    }
   },
   "outputs": [],
   "source": [
    "using OnlineStats\n",
    "y = randn(10_000_000);"
   ]
  },
  {
   "cell_type": "code",
   "execution_count": 57,
   "metadata": {
    "collapsed": false,
    "slideshow": {
     "slide_type": "-"
    }
   },
   "outputs": [],
   "source": [
    "o = Mean()\n",
    "for yi in y\n",
    "    fit!(o, yi)\n",
    "end\n",
    "# fit!(o, y, 5)\n",
    "\n",
    "# Mean(y)"
   ]
  },
  {
   "cell_type": "code",
   "execution_count": 56,
   "metadata": {
    "collapsed": false,
    "slideshow": {
     "slide_type": "-"
    }
   },
   "outputs": [
    {
     "data": {
      "text/plain": [
       "4.412702842016003e-17"
      ]
     },
     "execution_count": 56,
     "metadata": {},
     "output_type": "execute_result"
    }
   ],
   "source": [
    "# Does it work?\n",
    "mean(o) - mean(y)"
   ]
  },
  {
   "cell_type": "code",
   "execution_count": 58,
   "metadata": {
    "collapsed": false,
    "slideshow": {
     "slide_type": "slide"
    }
   },
   "outputs": [],
   "source": [
    "using Plots; gadfly()\n",
    "\n",
    "o = Variance()\n",
    "\n",
    "p = plot([0.], [0. 0.], lab = [\"mean\" \"variance\"])\n",
    "anim = Animation()\n",
    "for i in 1:100\n",
    "    fit!(o, randn(10))\n",
    "    push!(p, nobs(o), [mean(o), var(o)]) \n",
    "    frame(anim)\n",
    "end"
   ]
  },
  {
   "cell_type": "code",
   "execution_count": 59,
   "metadata": {
    "collapsed": false,
    "slideshow": {
     "slide_type": "slide"
    }
   },
   "outputs": [
    {
     "name": "stderr",
     "output_type": "stream",
     "text": [
      "INFO: Saved animation to /Users/joshday/github/TriangleJuliaUsers_OnlineStats/TracePlot.gif\n"
     ]
    },
    {
     "data": {
      "text/html": [
       "<img src=\"TracePlot.gif?0.7933087845686801>\" />"
      ],
      "text/plain": [
       "Plots.AnimatedGif(\"/Users/joshday/github/TriangleJuliaUsers_OnlineStats/TracePlot.gif\")"
      ]
     },
     "execution_count": 59,
     "metadata": {},
     "output_type": "execute_result"
    }
   ],
   "source": [
    "# Do mean and variance go to 0 and 1?\n",
    "gif(anim, \"TracePlot.gif\")"
   ]
  },
  {
   "cell_type": "markdown",
   "metadata": {
    "collapsed": true,
    "slideshow": {
     "slide_type": "slide"
    }
   },
   "source": [
    "### Weight Types\n",
    "\n",
    "OnlineStats has multiple weighting schemes built into the backend of every type.  This means new information can be weighted differently from past information.  Users can add their own types or use those built into OnlineStats:\n",
    "\n",
    "- `EqualWeight`\n",
    "- `ExponentialWeight`\n",
    "- `LearningRate`"
   ]
  },
  {
   "cell_type": "markdown",
   "metadata": {
    "slideshow": {
     "slide_type": "slide"
    }
   },
   "source": [
    "Updating a statistic often takes the form of a weighted average:\n",
    "\n",
    "$\\theta^{(t)} = (1 - \\gamma_t)\\theta^{(t-1)} + \\gamma_t (\\; newval \\;), \\quad 0 < \\gamma_t \\le 1$\n",
    "\n",
    "If we are updating observations one-by-one:\n",
    "\n",
    "- `EqualWeight` \n",
    "    - $\\gamma_t = \\frac{1}{t}$\n",
    "- `ExponentialWeight(minstep)` \n",
    "    - uses `EqualWeight` until $\\gamma_t \\le minstep$, then stays constant at `minstep`\n",
    "- `LearningRate(r)` \n",
    "    - $\\gamma_t = \\frac{1}{t^r}$"
   ]
  },
  {
   "cell_type": "markdown",
   "metadata": {
    "slideshow": {
     "slide_type": "slide"
    }
   },
   "source": [
    "- `LearningRate` is mainly used for stochastic gradient descent (SGD) and its variants:\n",
    "\n",
    "$$\\theta^{(t)} = \\theta^{(t-1)} - \\gamma_t \\; g_t$$\n",
    "\n",
    "- SGD is a standard for creating online algorithms for statistical models. "
   ]
  },
  {
   "cell_type": "markdown",
   "metadata": {
    "slideshow": {
     "slide_type": "slide"
    }
   },
   "source": [
    "### `TracePlot`"
   ]
  },
  {
   "cell_type": "code",
   "execution_count": 66,
   "metadata": {
    "collapsed": false
   },
   "outputs": [
    {
     "data": {
      "image/svg+xml": [
       "<?xml version=\"1.0\" encoding=\"UTF-8\"?>\n",
       "<svg xmlns=\"http://www.w3.org/2000/svg\"\n",
       "     xmlns:xlink=\"http://www.w3.org/1999/xlink\"\n",
       "     xmlns:gadfly=\"http://www.gadflyjl.org/ns\"\n",
       "     version=\"1.2\"\n",
       "     width=\"158.73mm\" height=\"105.82mm\" viewBox=\"0 0 158.73 105.82\"\n",
       "     stroke=\"none\"\n",
       "     fill=\"#000000\"\n",
       "     stroke-width=\"0.3\"\n",
       "     font-size=\"3.88\"\n",
       ">\n",
       "<g stroke=\"#000000\" stroke-opacity=\"0.000\" fill=\"#FFFFFF\" id=\"img-b97fbe2b-1\">\n",
       "  <rect x=\"0\" y=\"0\" width=\"158.73\" height=\"105.82\"/>\n",
       "</g>\n",
       "<g class=\"plotroot xscalable yscalable\" id=\"img-b97fbe2b-2\">\n",
       "  <g font-size=\"3.88\" font-family=\"Helvetica\" fill=\"#000000\" stroke=\"#000000\" stroke-opacity=\"0.000\" id=\"img-b97fbe2b-3\">\n",
       "    <text x=\"78.14\" y=\"98.2\" text-anchor=\"middle\" dy=\"0.6em\">nobs</text>\n",
       "  </g>\n",
       "  <g class=\"guide xlabels\" font-size=\"2.82\" font-family=\"Helvetica\" fill=\"#000000\" id=\"img-b97fbe2b-4\">\n",
       "    <text x=\"9.86\" y=\"91.57\" text-anchor=\"middle\" dy=\"0.6em\">0</text>\n",
       "    <text x=\"78.14\" y=\"91.57\" text-anchor=\"middle\" dy=\"0.6em\">5.0×10³</text>\n",
       "    <text x=\"146.43\" y=\"91.57\" text-anchor=\"middle\" dy=\"0.6em\">1.0×10⁴</text>\n",
       "  </g>\n",
       "  <g class=\"guide colorkey\" id=\"img-b97fbe2b-5\">\n",
       "    <g fill=\"#000000\" font-size=\"2.82\" font-family=\"Helvetica\" id=\"img-b97fbe2b-6\">\n",
       "      <text x=\"152.24\" y=\"42.15\" dy=\"0.35em\">0.25</text>\n",
       "      <text x=\"152.24\" y=\"45.78\" dy=\"0.35em\">0.50</text>\n",
       "      <text x=\"152.24\" y=\"49.42\" dy=\"0.35em\">0.75</text>\n",
       "      <text x=\"152.24\" y=\"53.05\" dy=\"0.35em\">y4</text>\n",
       "    </g>\n",
       "    <g stroke=\"#000000\" stroke-opacity=\"0.000\" id=\"img-b97fbe2b-7\">\n",
       "      <rect x=\"149.43\" y=\"41.24\" width=\"1.82\" height=\"1.82\" fill=\"#009AFA\"/>\n",
       "      <rect x=\"149.43\" y=\"44.87\" width=\"1.82\" height=\"1.82\" fill=\"#E36F47\"/>\n",
       "      <rect x=\"149.43\" y=\"48.51\" width=\"1.82\" height=\"1.82\" fill=\"#00A86C\"/>\n",
       "      <rect x=\"149.43\" y=\"52.14\" width=\"1.82\" height=\"1.82\" fill=\"#C371D2\"/>\n",
       "    </g>\n",
       "    <g fill=\"#000000\" font-size=\"3.88\" font-family=\"Helvetica\" stroke=\"#000000\" stroke-opacity=\"0.000\" id=\"img-b97fbe2b-8\">\n",
       "      <text x=\"149.43\" y=\"38.33\"></text>\n",
       "    </g>\n",
       "  </g>\n",
       "<g clip-path=\"url(#img-b97fbe2b-9)\">\n",
       "  <g id=\"img-b97fbe2b-10\">\n",
       "    <g pointer-events=\"visible\" opacity=\"1\" fill=\"#000000\" fill-opacity=\"0.000\" stroke=\"#000000\" stroke-opacity=\"0.000\" class=\"guide background\" id=\"img-b97fbe2b-11\">\n",
       "      <rect x=\"7.86\" y=\"1\" width=\"140.57\" height=\"89.57\"/>\n",
       "    </g>\n",
       "    <g class=\"guide ygridlines xfixed\" stroke-dasharray=\"0.5,0.5\" stroke-width=\"0.2\" stroke=\"#D0D0E0\" id=\"img-b97fbe2b-12\">\n",
       "      <path fill=\"none\" d=\"M7.86,88.57 L 148.43 88.57\"/>\n",
       "      <path fill=\"none\" d=\"M7.86,67.17 L 148.43 67.17\"/>\n",
       "      <path fill=\"none\" d=\"M7.86,45.78 L 148.43 45.78\"/>\n",
       "      <path fill=\"none\" d=\"M7.86,24.39 L 148.43 24.39\"/>\n",
       "      <path fill=\"none\" d=\"M7.86,3 L 148.43 3\"/>\n",
       "    </g>\n",
       "    <g class=\"guide xgridlines yfixed\" stroke-dasharray=\"0.5,0.5\" stroke-width=\"0.2\" stroke=\"#D0D0E0\" id=\"img-b97fbe2b-13\">\n",
       "      <path fill=\"none\" d=\"M9.86,1 L 9.86 90.57\"/>\n",
       "      <path fill=\"none\" d=\"M78.14,1 L 78.14 90.57\"/>\n",
       "      <path fill=\"none\" d=\"M146.43,1 L 146.43 90.57\"/>\n",
       "    </g>\n",
       "    <g class=\"plotpanel\" id=\"img-b97fbe2b-14\">\n",
       "      <g stroke-width=\"0.26\" fill=\"#000000\" fill-opacity=\"0.000\" class=\"geometry\" stroke-dasharray=\"none\" stroke=\"#009AFA\" id=\"img-b97fbe2b-15\">\n",
       "        <path fill=\"none\" d=\"M9.86,45.78 L 11.23 77.1 12.59 79.26 13.96 75.69 15.32 74.7 16.69 75.58 18.05 75.9 19.42 75.69 20.79 76.03 22.15 75.96 23.52 76.13 24.88 76.48 26.25 76.42 27.61 76.22 28.98 75.57 30.35 75.68 31.71 75.82 33.08 75.8 34.44 75.49 35.81 75.57 37.17 75.66 38.54 74.55 39.9 74.82 41.27 74.67 42.64 73.94 44 74.22 45.37 74.57 46.73 74.92 48.1 75.43 49.46 75.37 50.83 75.71 52.2 75.11 53.56 75.91 54.93 75.55 56.29 75.72 57.66 75.46 59.02 75.4 60.39 75.33 61.76 75.34 63.12 75.13 64.49 75.19 65.85 75.07 67.22 75.02 68.58 74.91 69.95 74.94 71.32 74.89 72.68 74.9 74.05 74.81 75.41 74.88 76.78 74.84 78.14 74.66 79.51 74.53 80.87 74.53 82.24 74.43 83.61 74.43 84.97 74.79 86.34 74.61 87.7 74.49 89.07 74.62 90.43 74.74 91.8 74.74 93.17 75.03 94.53 75.19 95.9 74.97 97.26 75.19 98.63 75.14 99.99 75.18 101.36 75.23 102.73 75.29 104.09 75.38 105.46 75.62 106.82 75.53 108.19 75.63 109.55 75.31 110.92 75.1 112.29 75.1 113.65 75.02 115.02 75.02 116.38 74.97 117.75 75.23 119.11 75.19 120.48 75.25 121.84 75.31 123.21 75.25 124.58 75.28 125.94 75.18 127.31 75.39 128.67 75.29 130.04 75.23 131.4 75.39 132.77 75.19 134.14 75.22 135.5 75.39 136.87 75.31 138.23 75.2 139.6 75.32 140.96 75.29 142.33 75.53 143.7 75.35 145.06 75.67 146.43 75.5\"/>\n",
       "      </g>\n",
       "      <g stroke-width=\"0.26\" fill=\"#000000\" fill-opacity=\"0.000\" class=\"geometry\" stroke-dasharray=\"none\" stroke=\"#E36F47\" id=\"img-b97fbe2b-16\">\n",
       "        <path fill=\"none\" d=\"M9.86,45.78 L 11.23 37.57 12.59 43.27 13.96 44.14 15.32 44.13 16.69 44.96 18.05 45.19 19.42 44.41 20.79 45.13 22.15 46.62 23.52 46.79 24.88 46.62 26.25 46.1 27.61 46.1 28.98 45.59 30.35 46.08 31.71 46.45 33.08 46.86 34.44 46.7 35.81 47.13 37.17 46.78 38.54 45.16 39.9 45.46 41.27 45.39 42.64 45.32 44 45.82 45.37 46.07 46.73 46.19 48.1 46.4 49.46 46.58 50.83 46.83 52.2 46.75 53.56 47.1 54.93 46.99 56.29 47.07 57.66 46.93 59.02 46.84 60.39 46.84 61.76 47 63.12 46.92 64.49 46.96 65.85 46.82 67.22 46.55 68.58 46.48 69.95 46.21 71.32 45.8 72.68 45.8 74.05 45.5 75.41 45.63 76.78 45.49 78.14 45.36 79.51 45.2 80.87 45.22 82.24 45.11 83.61 45.2 84.97 45.34 86.34 45.29 87.7 45.21 89.07 45.2 90.43 45.15 91.8 45.15 93.17 45.29 94.53 45.37 95.9 45.42 97.26 45.39 98.63 45.24 99.99 45.36 101.36 45.32 102.73 45.43 104.09 45.54 105.46 45.49 106.82 45.3 108.19 45.38 109.55 45.1 110.92 44.95 112.29 44.97 113.65 44.91 115.02 44.9 116.38 44.97 117.75 45.02 119.11 44.9 120.48 44.8 121.84 44.92 123.21 45 124.58 45.09 125.94 45.12 127.31 45.3 128.67 45.24 130.04 45.35 131.4 45.53 132.77 45.36 134.14 45.36 135.5 45.44 136.87 45.32 138.23 45.52 139.6 45.58 140.96 45.49 142.33 45.52 143.7 45.45 145.06 45.56 146.43 45.47\"/>\n",
       "      </g>\n",
       "      <g stroke-width=\"0.26\" fill=\"#000000\" fill-opacity=\"0.000\" class=\"geometry\" stroke-dasharray=\"none\" stroke=\"#00A86C\" id=\"img-b97fbe2b-17\">\n",
       "        <path fill=\"none\" d=\"M9.86,45.78 L 11.23 10.61 12.59 16.11 13.96 16.16 15.32 12.86 16.69 13.81 18.05 16.54 19.42 16.41 20.79 17.4 22.15 18.02 23.52 16.89 24.88 16.64 26.25 15.07 27.61 15.48 28.98 15.46 30.35 15.99 31.71 16.66 33.08 17.65 34.44 17.66 35.81 17.75 37.17 18.22 38.54 17.78 39.9 18.1 41.27 17.81 42.64 17.49 44 17.81 45.37 17.81 46.73 18.34 48.1 18.5 49.46 18.49 50.83 18.67 52.2 18.78 53.56 18.82 54.93 18.44 56.29 18.66 57.66 18.72 59.02 18.38 60.39 18.37 61.76 18.59 63.12 18.46 64.49 18.46 65.85 18.41 67.22 18.48 68.58 18.45 69.95 18.04 71.32 17.9 72.68 18.06 74.05 17.79 75.41 17.67 76.78 17.37 78.14 17.44 79.51 17.07 80.87 16.88 82.24 17.08 83.61 17.24 84.97 17.31 86.34 17.36 87.7 17.37 89.07 17.33 90.43 17.29 91.8 17.24 93.17 17.24 94.53 17.27 95.9 17.09 97.26 16.93 98.63 17.01 99.99 17.03 101.36 16.85 102.73 16.88 104.09 16.95 105.46 16.59 106.82 16.21 108.19 16.43 109.55 15.91 110.92 15.7 112.29 15.95 113.65 15.81 115.02 15.73 116.38 15.61 117.75 15.57 119.11 15.65 120.48 15.31 121.84 15.62 123.21 16.07 124.58 16.11 125.94 16.11 127.31 16.34 128.67 16.24 130.04 16.63 131.4 16.64 132.77 16.53 134.14 16.71 135.5 16.76 136.87 16.88 138.23 17.12 139.6 17.15 140.96 17.21 142.33 17.28 143.7 17.43 145.06 17.65 146.43 17.57\"/>\n",
       "      </g>\n",
       "      <g class=\"xfixed\" stroke-dasharray=\"none\" stroke-width=\"0.26\" stroke=\"#C371D2\" id=\"img-b97fbe2b-18\">\n",
       "        <path fill=\"none\" d=\"M7.86,74.64 L 148.43 74.64\"/>\n",
       "        <path fill=\"none\" d=\"M7.86,45.78 L 148.43 45.78\"/>\n",
       "        <path fill=\"none\" d=\"M7.86,16.93 L 148.43 16.93\"/>\n",
       "      </g>\n",
       "    </g>\n",
       "  </g>\n",
       "</g>\n",
       "  <g class=\"guide ylabels\" font-size=\"2.82\" font-family=\"Helvetica\" fill=\"#000000\" id=\"img-b97fbe2b-19\">\n",
       "    <text x=\"6.86\" y=\"88.57\" text-anchor=\"end\" dy=\"0.35em\">-1.0</text>\n",
       "    <text x=\"6.86\" y=\"67.17\" text-anchor=\"end\" dy=\"0.35em\">-0.5</text>\n",
       "    <text x=\"6.86\" y=\"45.78\" text-anchor=\"end\" dy=\"0.35em\">0.0</text>\n",
       "    <text x=\"6.86\" y=\"24.39\" text-anchor=\"end\" dy=\"0.35em\">0.5</text>\n",
       "    <text x=\"6.86\" y=\"3\" text-anchor=\"end\" dy=\"0.35em\">1.0</text>\n",
       "  </g>\n",
       "</g>\n",
       "<defs>\n",
       "  <clipPath id=\"img-b97fbe2b-9\">\n",
       "  <path d=\"M7.86,1 L 148.43 1 148.43 90.57 7.86 90.57\" />\n",
       "</clipPath>\n",
       "</defs>\n",
       "</svg>\n"
      ],
      "text/html": [
       "<?xml version=\"1.0\" encoding=\"UTF-8\"?>\n",
       "<svg xmlns=\"http://www.w3.org/2000/svg\"\n",
       "     xmlns:xlink=\"http://www.w3.org/1999/xlink\"\n",
       "     xmlns:gadfly=\"http://www.gadflyjl.org/ns\"\n",
       "     version=\"1.2\"\n",
       "     width=\"158.73mm\" height=\"105.82mm\" viewBox=\"0 0 158.73 105.82\"\n",
       "     stroke=\"none\"\n",
       "     fill=\"#000000\"\n",
       "     stroke-width=\"0.3\"\n",
       "     font-size=\"3.88\"\n",
       ">\n",
       "<g stroke=\"#000000\" stroke-opacity=\"0.000\" fill=\"#FFFFFF\" id=\"img-b97fbe2b-1\">\n",
       "  <rect x=\"0\" y=\"0\" width=\"158.73\" height=\"105.82\"/>\n",
       "</g>\n",
       "<g class=\"plotroot xscalable yscalable\" id=\"img-b97fbe2b-2\">\n",
       "  <g font-size=\"3.88\" font-family=\"Helvetica\" fill=\"#000000\" stroke=\"#000000\" stroke-opacity=\"0.000\" id=\"img-b97fbe2b-3\">\n",
       "    <text x=\"78.14\" y=\"98.2\" text-anchor=\"middle\" dy=\"0.6em\">nobs</text>\n",
       "  </g>\n",
       "  <g class=\"guide xlabels\" font-size=\"2.82\" font-family=\"Helvetica\" fill=\"#000000\" id=\"img-b97fbe2b-4\">\n",
       "    <text x=\"9.86\" y=\"91.57\" text-anchor=\"middle\" dy=\"0.6em\">0</text>\n",
       "    <text x=\"78.14\" y=\"91.57\" text-anchor=\"middle\" dy=\"0.6em\">5.0×10³</text>\n",
       "    <text x=\"146.43\" y=\"91.57\" text-anchor=\"middle\" dy=\"0.6em\">1.0×10⁴</text>\n",
       "  </g>\n",
       "  <g class=\"guide colorkey\" id=\"img-b97fbe2b-5\">\n",
       "    <g fill=\"#000000\" font-size=\"2.82\" font-family=\"Helvetica\" id=\"img-b97fbe2b-6\">\n",
       "      <text x=\"152.24\" y=\"42.15\" dy=\"0.35em\">0.25</text>\n",
       "      <text x=\"152.24\" y=\"45.78\" dy=\"0.35em\">0.50</text>\n",
       "      <text x=\"152.24\" y=\"49.42\" dy=\"0.35em\">0.75</text>\n",
       "      <text x=\"152.24\" y=\"53.05\" dy=\"0.35em\">y4</text>\n",
       "    </g>\n",
       "    <g stroke=\"#000000\" stroke-opacity=\"0.000\" id=\"img-b97fbe2b-7\">\n",
       "      <rect x=\"149.43\" y=\"41.24\" width=\"1.82\" height=\"1.82\" fill=\"#009AFA\"/>\n",
       "      <rect x=\"149.43\" y=\"44.87\" width=\"1.82\" height=\"1.82\" fill=\"#E36F47\"/>\n",
       "      <rect x=\"149.43\" y=\"48.51\" width=\"1.82\" height=\"1.82\" fill=\"#00A86C\"/>\n",
       "      <rect x=\"149.43\" y=\"52.14\" width=\"1.82\" height=\"1.82\" fill=\"#C371D2\"/>\n",
       "    </g>\n",
       "    <g fill=\"#000000\" font-size=\"3.88\" font-family=\"Helvetica\" stroke=\"#000000\" stroke-opacity=\"0.000\" id=\"img-b97fbe2b-8\">\n",
       "      <text x=\"149.43\" y=\"38.33\"></text>\n",
       "    </g>\n",
       "  </g>\n",
       "<g clip-path=\"url(#img-b97fbe2b-9)\">\n",
       "  <g id=\"img-b97fbe2b-10\">\n",
       "    <g pointer-events=\"visible\" opacity=\"1\" fill=\"#000000\" fill-opacity=\"0.000\" stroke=\"#000000\" stroke-opacity=\"0.000\" class=\"guide background\" id=\"img-b97fbe2b-11\">\n",
       "      <rect x=\"7.86\" y=\"1\" width=\"140.57\" height=\"89.57\"/>\n",
       "    </g>\n",
       "    <g class=\"guide ygridlines xfixed\" stroke-dasharray=\"0.5,0.5\" stroke-width=\"0.2\" stroke=\"#D0D0E0\" id=\"img-b97fbe2b-12\">\n",
       "      <path fill=\"none\" d=\"M7.86,88.57 L 148.43 88.57\"/>\n",
       "      <path fill=\"none\" d=\"M7.86,67.17 L 148.43 67.17\"/>\n",
       "      <path fill=\"none\" d=\"M7.86,45.78 L 148.43 45.78\"/>\n",
       "      <path fill=\"none\" d=\"M7.86,24.39 L 148.43 24.39\"/>\n",
       "      <path fill=\"none\" d=\"M7.86,3 L 148.43 3\"/>\n",
       "    </g>\n",
       "    <g class=\"guide xgridlines yfixed\" stroke-dasharray=\"0.5,0.5\" stroke-width=\"0.2\" stroke=\"#D0D0E0\" id=\"img-b97fbe2b-13\">\n",
       "      <path fill=\"none\" d=\"M9.86,1 L 9.86 90.57\"/>\n",
       "      <path fill=\"none\" d=\"M78.14,1 L 78.14 90.57\"/>\n",
       "      <path fill=\"none\" d=\"M146.43,1 L 146.43 90.57\"/>\n",
       "    </g>\n",
       "    <g class=\"plotpanel\" id=\"img-b97fbe2b-14\">\n",
       "      <g stroke-width=\"0.26\" fill=\"#000000\" fill-opacity=\"0.000\" class=\"geometry\" stroke-dasharray=\"none\" stroke=\"#009AFA\" id=\"img-b97fbe2b-15\">\n",
       "        <path fill=\"none\" d=\"M9.86,45.78 L 11.23 77.1 12.59 79.26 13.96 75.69 15.32 74.7 16.69 75.58 18.05 75.9 19.42 75.69 20.79 76.03 22.15 75.96 23.52 76.13 24.88 76.48 26.25 76.42 27.61 76.22 28.98 75.57 30.35 75.68 31.71 75.82 33.08 75.8 34.44 75.49 35.81 75.57 37.17 75.66 38.54 74.55 39.9 74.82 41.27 74.67 42.64 73.94 44 74.22 45.37 74.57 46.73 74.92 48.1 75.43 49.46 75.37 50.83 75.71 52.2 75.11 53.56 75.91 54.93 75.55 56.29 75.72 57.66 75.46 59.02 75.4 60.39 75.33 61.76 75.34 63.12 75.13 64.49 75.19 65.85 75.07 67.22 75.02 68.58 74.91 69.95 74.94 71.32 74.89 72.68 74.9 74.05 74.81 75.41 74.88 76.78 74.84 78.14 74.66 79.51 74.53 80.87 74.53 82.24 74.43 83.61 74.43 84.97 74.79 86.34 74.61 87.7 74.49 89.07 74.62 90.43 74.74 91.8 74.74 93.17 75.03 94.53 75.19 95.9 74.97 97.26 75.19 98.63 75.14 99.99 75.18 101.36 75.23 102.73 75.29 104.09 75.38 105.46 75.62 106.82 75.53 108.19 75.63 109.55 75.31 110.92 75.1 112.29 75.1 113.65 75.02 115.02 75.02 116.38 74.97 117.75 75.23 119.11 75.19 120.48 75.25 121.84 75.31 123.21 75.25 124.58 75.28 125.94 75.18 127.31 75.39 128.67 75.29 130.04 75.23 131.4 75.39 132.77 75.19 134.14 75.22 135.5 75.39 136.87 75.31 138.23 75.2 139.6 75.32 140.96 75.29 142.33 75.53 143.7 75.35 145.06 75.67 146.43 75.5\"/>\n",
       "      </g>\n",
       "      <g stroke-width=\"0.26\" fill=\"#000000\" fill-opacity=\"0.000\" class=\"geometry\" stroke-dasharray=\"none\" stroke=\"#E36F47\" id=\"img-b97fbe2b-16\">\n",
       "        <path fill=\"none\" d=\"M9.86,45.78 L 11.23 37.57 12.59 43.27 13.96 44.14 15.32 44.13 16.69 44.96 18.05 45.19 19.42 44.41 20.79 45.13 22.15 46.62 23.52 46.79 24.88 46.62 26.25 46.1 27.61 46.1 28.98 45.59 30.35 46.08 31.71 46.45 33.08 46.86 34.44 46.7 35.81 47.13 37.17 46.78 38.54 45.16 39.9 45.46 41.27 45.39 42.64 45.32 44 45.82 45.37 46.07 46.73 46.19 48.1 46.4 49.46 46.58 50.83 46.83 52.2 46.75 53.56 47.1 54.93 46.99 56.29 47.07 57.66 46.93 59.02 46.84 60.39 46.84 61.76 47 63.12 46.92 64.49 46.96 65.85 46.82 67.22 46.55 68.58 46.48 69.95 46.21 71.32 45.8 72.68 45.8 74.05 45.5 75.41 45.63 76.78 45.49 78.14 45.36 79.51 45.2 80.87 45.22 82.24 45.11 83.61 45.2 84.97 45.34 86.34 45.29 87.7 45.21 89.07 45.2 90.43 45.15 91.8 45.15 93.17 45.29 94.53 45.37 95.9 45.42 97.26 45.39 98.63 45.24 99.99 45.36 101.36 45.32 102.73 45.43 104.09 45.54 105.46 45.49 106.82 45.3 108.19 45.38 109.55 45.1 110.92 44.95 112.29 44.97 113.65 44.91 115.02 44.9 116.38 44.97 117.75 45.02 119.11 44.9 120.48 44.8 121.84 44.92 123.21 45 124.58 45.09 125.94 45.12 127.31 45.3 128.67 45.24 130.04 45.35 131.4 45.53 132.77 45.36 134.14 45.36 135.5 45.44 136.87 45.32 138.23 45.52 139.6 45.58 140.96 45.49 142.33 45.52 143.7 45.45 145.06 45.56 146.43 45.47\"/>\n",
       "      </g>\n",
       "      <g stroke-width=\"0.26\" fill=\"#000000\" fill-opacity=\"0.000\" class=\"geometry\" stroke-dasharray=\"none\" stroke=\"#00A86C\" id=\"img-b97fbe2b-17\">\n",
       "        <path fill=\"none\" d=\"M9.86,45.78 L 11.23 10.61 12.59 16.11 13.96 16.16 15.32 12.86 16.69 13.81 18.05 16.54 19.42 16.41 20.79 17.4 22.15 18.02 23.52 16.89 24.88 16.64 26.25 15.07 27.61 15.48 28.98 15.46 30.35 15.99 31.71 16.66 33.08 17.65 34.44 17.66 35.81 17.75 37.17 18.22 38.54 17.78 39.9 18.1 41.27 17.81 42.64 17.49 44 17.81 45.37 17.81 46.73 18.34 48.1 18.5 49.46 18.49 50.83 18.67 52.2 18.78 53.56 18.82 54.93 18.44 56.29 18.66 57.66 18.72 59.02 18.38 60.39 18.37 61.76 18.59 63.12 18.46 64.49 18.46 65.85 18.41 67.22 18.48 68.58 18.45 69.95 18.04 71.32 17.9 72.68 18.06 74.05 17.79 75.41 17.67 76.78 17.37 78.14 17.44 79.51 17.07 80.87 16.88 82.24 17.08 83.61 17.24 84.97 17.31 86.34 17.36 87.7 17.37 89.07 17.33 90.43 17.29 91.8 17.24 93.17 17.24 94.53 17.27 95.9 17.09 97.26 16.93 98.63 17.01 99.99 17.03 101.36 16.85 102.73 16.88 104.09 16.95 105.46 16.59 106.82 16.21 108.19 16.43 109.55 15.91 110.92 15.7 112.29 15.95 113.65 15.81 115.02 15.73 116.38 15.61 117.75 15.57 119.11 15.65 120.48 15.31 121.84 15.62 123.21 16.07 124.58 16.11 125.94 16.11 127.31 16.34 128.67 16.24 130.04 16.63 131.4 16.64 132.77 16.53 134.14 16.71 135.5 16.76 136.87 16.88 138.23 17.12 139.6 17.15 140.96 17.21 142.33 17.28 143.7 17.43 145.06 17.65 146.43 17.57\"/>\n",
       "      </g>\n",
       "      <g class=\"xfixed\" stroke-dasharray=\"none\" stroke-width=\"0.26\" stroke=\"#C371D2\" id=\"img-b97fbe2b-18\">\n",
       "        <path fill=\"none\" d=\"M7.86,74.64 L 148.43 74.64\"/>\n",
       "        <path fill=\"none\" d=\"M7.86,45.78 L 148.43 45.78\"/>\n",
       "        <path fill=\"none\" d=\"M7.86,16.93 L 148.43 16.93\"/>\n",
       "      </g>\n",
       "    </g>\n",
       "  </g>\n",
       "</g>\n",
       "  <g class=\"guide ylabels\" font-size=\"2.82\" font-family=\"Helvetica\" fill=\"#000000\" id=\"img-b97fbe2b-19\">\n",
       "    <text x=\"6.86\" y=\"88.57\" text-anchor=\"end\" dy=\"0.35em\">-1.0</text>\n",
       "    <text x=\"6.86\" y=\"67.17\" text-anchor=\"end\" dy=\"0.35em\">-0.5</text>\n",
       "    <text x=\"6.86\" y=\"45.78\" text-anchor=\"end\" dy=\"0.35em\">0.0</text>\n",
       "    <text x=\"6.86\" y=\"24.39\" text-anchor=\"end\" dy=\"0.35em\">0.5</text>\n",
       "    <text x=\"6.86\" y=\"3\" text-anchor=\"end\" dy=\"0.35em\">1.0</text>\n",
       "  </g>\n",
       "</g>\n",
       "<defs>\n",
       "  <clipPath id=\"img-b97fbe2b-9\">\n",
       "  <path d=\"M7.86,1 L 148.43 1 148.43 90.57 7.86 90.57\" />\n",
       "</clipPath>\n",
       "</defs>\n",
       "</svg>\n"
      ],
      "text/plain": [
       "Compose.SVG(158.73015873015876mm,105.82010582010584mm,IOBuffer(data=UInt8[...], readable=true, writable=true, seekable=true, append=false, size=8208, maxsize=Inf, ptr=8209, mark=-1),nothing,\"img-b97fbe2b\",0,Compose.SVGPropertyFrame[],Dict{Type{T},Union{Compose.Property{P<:Compose.PropertyPrimitive},Void}}(Compose.Property{Compose.FillPrimitive}=>nothing),Dict{Compose.ClipPrimitive{P<:NTuple{N,Measures.Measure}},ASCIIString}(Compose.ClipPrimitive{Tuple{Measures.Length{:mm,Float64},Measures.Length{:mm,Float64}}}([(7.860000000000014mm,1.0mm),(148.42682539682545mm,1.0mm),(148.42682539682545mm,90.56593915343917mm),(7.860000000000014mm,90.56593915343917mm)])=>\"img-b97fbe2b-9\"),Tuple{Compose.FormPrimitive,ASCIIString}[],Set{AbstractString}(),true,false,nothing,true,\"img-b97fbe2b-19\",false,19,AbstractString[\"/Users/joshday/.julia/v0.4/Gadfly/src/gadfly.js\"],Tuple{AbstractString,AbstractString}[(\"Snap.svg\",\"Snap\"),(\"Gadfly\",\"Gadfly\")],AbstractString[\"fig.select(\\\"#img-b97fbe2b-5\\\")\\n   .drag(function() {}, function() {}, function() {});\",\"fig.select(\\\"#img-b97fbe2b-10\\\")\\n   .init_gadfly();\"],false,:none)"
      ]
     },
     "metadata": {},
     "output_type": "display_data"
    },
    {
     "data": {
      "image/png": "[encoded data removed]",
      "image/svg+xml": [],
      "text/plain": [
       "Plot{Plots.GadflyPackage() n=4}"
      ]
     },
     "execution_count": 66,
     "metadata": {},
     "output_type": "execute_result"
    }
   ],
   "source": [
    "o = QuantileMM(LearningRate(.7))  # Online MM Algorithm for quantiles\n",
    "tr = TracePlot(o, value, xlab = \"nobs\", lab = [\"0.25\" \"0.50\" \"0.75\"])\n",
    "for i in 1:100 \n",
    "    fit!(tr, randn(100)) \n",
    "end\n",
    "plot(tr);  hline!(quantile(Normal(), [.25, .5, .75]))"
   ]
  },
  {
   "cell_type": "markdown",
   "metadata": {
    "slideshow": {
     "slide_type": "slide"
    }
   },
   "source": [
    "### Distribution Fitting\n",
    "\n",
    "Fitting specific distributions to data is available through the `FitDistribution` and `FitMvDistribution` types.  Most common types from the Distributions package are covered."
   ]
  },
  {
   "cell_type": "code",
   "execution_count": 69,
   "metadata": {
    "collapsed": false,
    "slideshow": {
     "slide_type": "slide"
    }
   },
   "outputs": [
    {
     "name": "stdout",
     "output_type": "stream",
     "text": [
      "  "
     ]
    },
    {
     "data": {
      "text/plain": [
       "▌ FitDistribution \n",
       " •    value: Distributions.Categorical(K=4, p=[0.2501253,0.2499398,0.2499034,0.2500315])\n",
       " •     nobs: 10000000\n"
      ]
     },
     "execution_count": 69,
     "metadata": {},
     "output_type": "execute_result"
    },
    {
     "name": "stdout",
     "output_type": "stream",
     "text": [
      "0.086866 seconds (19 allocations: 1.203 KB)\n"
     ]
    }
   ],
   "source": [
    "using Distributions\n",
    "y2 = rand(Categorical([.25, .25, .25, .25]), 10_000_000)\n",
    "@time FitDistribution(Categorical, y2)"
   ]
  },
  {
   "cell_type": "code",
   "execution_count": 70,
   "metadata": {
    "collapsed": false,
    "scrolled": true,
    "slideshow": {
     "slide_type": "slide"
    }
   },
   "outputs": [
    {
     "name": "stdout",
     "output_type": "stream",
     "text": [
      "  "
     ]
    },
    {
     "data": {
      "text/plain": [
       "▌ FitMvDistribution \n",
       " •    value: FullNormal(\n",
       "dim: 5\n",
       "μ: [0.0020810478626356087,-0.0026074631585960837,0.004216243721243169,0.0007313848349814912,-0.0001709372614677968]\n",
       "Σ: 5x5 Array{Float64,2}:\n",
       "  1.00169       0.00430865   0.000378094  -0.00381983   -0.00177773\n",
       "  0.00430865    0.999192    -0.00198705   -0.00263692    0.00349144\n",
       "  0.000378094  -0.00198705   0.995824      0.000428808   0.00506568\n",
       " -0.00381983   -0.00263692   0.000428808   1.00161      -0.00061303\n",
       " -0.00177773    0.00349144   0.00506568   -0.00061303    0.997444  \n",
       ")\n",
       "\n",
       " •     nobs: 100000\n"
      ]
     },
     "execution_count": 70,
     "metadata": {},
     "output_type": "execute_result"
    },
    {
     "name": "stdout",
     "output_type": "stream",
     "text": [
      "0.009475 seconds (100.03 k allocations: 4.580 MB)\n"
     ]
    }
   ],
   "source": [
    "y2 = rand(MvNormal(zeros(5), eye(5)), 100_000)'\n",
    "@time FitMvDistribution(MvNormal, y2)"
   ]
  },
  {
   "cell_type": "markdown",
   "metadata": {
    "slideshow": {
     "slide_type": "slide"
    }
   },
   "source": [
    "### Density Estimation with `AverageShiftedHistograms.jl`\n",
    "\n",
    "- An Average Shifted Histogram is essentially a kernel density estimator using a fine-partition histogram instead of individual observations.  \n",
    "- While you lose information by using ASH vs. KDE, complexity of the estimation doesn't grow with $n$."
   ]
  },
  {
   "cell_type": "code",
   "execution_count": 43,
   "metadata": {
    "collapsed": false,
    "slideshow": {
     "slide_type": "slide"
    }
   },
   "outputs": [],
   "source": [
    "using AverageShiftedHistograms\n",
    "a = ash(y[1:10], -5:.1:5, m = 5)\n",
    "p = plot(a.rng, a.y, ylims = (0, .5), xlab = \"nobs: $(nobs(a))\")\n",
    "δ = a.rng.step / a.rng.divisor\n",
    "plot!(a.rng, a.v / sum(δ * a.v), t = :step)\n",
    "plot!(x -> pdf(Normal(), x), -4, 4)\n",
    "\n",
    "rng = 11:20\n",
    "anim = Animation()\n",
    "frame(anim)\n",
    "for i in 1:200\n",
    "    fit!(a, y[rng], warnout = false)\n",
    "    p2 = plot(a.rng, a.y, ylims = (0,.5), xlab = \"nobs: $(nobs(a))\")\n",
    "    plot!(a.rng, a.v / sum(δ * a.v), t = :step)\n",
    "    plot!(x -> pdf(Normal(), x), -4, 4)\n",
    "    p.o = p2.o\n",
    "    frame(anim)\n",
    "    rng += 10\n",
    "end"
   ]
  },
  {
   "cell_type": "code",
   "execution_count": 44,
   "metadata": {
    "collapsed": false,
    "slideshow": {
     "slide_type": "slide"
    }
   },
   "outputs": [
    {
     "name": "stderr",
     "output_type": "stream",
     "text": [
      "INFO: Saved animation to /Users/joshday/github/TriangleJuliaUsers_OnlineStats/ASH.gif\n"
     ]
    },
    {
     "data": {
      "text/html": [
       "<img src=\"ASH.gif?0.6921320989230424>\" />"
      ],
      "text/plain": [
       "Plots.AnimatedGif(\"/Users/joshday/github/TriangleJuliaUsers_OnlineStats/ASH.gif\")"
      ]
     },
     "execution_count": 44,
     "metadata": {},
     "output_type": "execute_result"
    }
   ],
   "source": [
    "gif(anim, \"ASH.gif\")"
   ]
  },
  {
   "cell_type": "markdown",
   "metadata": {
    "slideshow": {
     "slide_type": "slide"
    }
   },
   "source": [
    "### Predictive Models with Regularization\n",
    "\n",
    "Objective:  $$\\text{minimize } L(\\beta) = f(\\beta) + \\lambda g(\\beta)$$\n",
    "\n",
    "\n",
    "- Linear Regression: $f(\\beta) = (y - x\\beta)^T(y-x\\beta)$\n",
    "- Logistic Regression: $f(\\beta) = -\\sum\\left[y_i x_i^T\\beta - \\ln(1 + e^{x_i^T\\beta})\\right]$\n",
    "\n",
    "\n",
    "- Ridge Penalty: $g(\\beta) = \\sum \\beta_i^2$\n",
    "- LASSO Penalty: $g(\\beta) = \\sum |\\beta_i|$"
   ]
  },
  {
   "cell_type": "markdown",
   "metadata": {
    "slideshow": {
     "slide_type": "slide"
    }
   },
   "source": [
    "This framework is done through the `StatLearn` (statistical learning) type.\n",
    "\n",
    "The building blocks of which are:\n",
    "\n",
    "- `ModelDef`\n",
    "    - Model definition, specifies link and loss functions\n",
    "- `Penalty`\n",
    "- `Algorithm` "
   ]
  },
  {
   "cell_type": "markdown",
   "metadata": {
    "slideshow": {
     "slide_type": "slide"
    }
   },
   "source": [
    "### `ModelDef`\n",
    "\n",
    "- `L2Regression()`\n",
    "- `L1Regression()`\n",
    "- `LogisticRegression()`\n",
    "- `PoissonRegression()`\n",
    "- `QuantileRegression(tau)`\n",
    "- `HuberRegression(delta)`\n",
    "- `SVMLike()`"
   ]
  },
  {
   "cell_type": "markdown",
   "metadata": {
    "slideshow": {
     "slide_type": "slide"
    }
   },
   "source": [
    "### Penalty\n",
    "\n",
    "- `NoPenalty()`\n",
    "- `L2Penalty()` (Ridge)\n",
    "- `L1Penalty()` (LASSO)\n",
    "- `ElasticNetPenalty(a)` (weighted avg. of ridge and LASSO)\n",
    "- `SCADPenalty(a)` (smoothly clipped absolute deviation)"
   ]
  },
  {
   "cell_type": "markdown",
   "metadata": {
    "slideshow": {
     "slide_type": "slide"
    }
   },
   "source": [
    "Penalties are currently handled by the prox operator:\n",
    "\n",
    "$$\\text{prox}_g(\\theta) = \\text{argmin}_u \\left( g(u) + \\frac{1}{2}\\|u - \\theta\\|_2^2\\right)$$\n",
    "\n",
    "The intuition is a tradeoff between minimizing $g$ and remaining \"close\" to $\\theta$."
   ]
  },
  {
   "cell_type": "markdown",
   "metadata": {
    "slideshow": {
     "slide_type": "slide"
    }
   },
   "source": [
    "### Algorithm\n",
    "\n",
    "- `SGD()` (stochastic gradient descent)\n",
    "- `AdaGrad()` (self-tuning weights, ignores `Weight`)\n",
    "- `RDA()` (regularized dual averaging)\n",
    "- `MMGrad()` (online MM Gradient)\n",
    "- `AdaMMGrad()` (self-tuning weights, ignores `Weight`)"
   ]
  },
  {
   "cell_type": "markdown",
   "metadata": {
    "slideshow": {
     "slide_type": "slide"
    }
   },
   "source": [
    "### Tangent about MM Algorithm\n",
    "\n",
    "For a difficult-to-minimize objective, create a series of surrogate objectives that are easy to minimize.\n",
    "\n",
    "![](mm_vis4.pdf)"
   ]
  },
  {
   "cell_type": "code",
   "execution_count": 71,
   "metadata": {
    "collapsed": false,
    "slideshow": {
     "slide_type": "slide"
    }
   },
   "outputs": [],
   "source": [
    "# generate some data\n",
    "n, p = 1_000, 10\n",
    "x = randn(n, p)\n",
    "β = collect(linspace(-1, 1, p))\n",
    "y = x*β + randn(n);\n",
    "\n",
    "# Compare models\n",
    "o1 = StatLearn(p, model = L2Regression())\n",
    "o2 = StatLearn(p, model = L1Regression())\n",
    "o3 = StatLearn(p, model = HuberRegression(2.0))\n",
    "\n",
    "tr = CompareTracePlot([o1, o2, o3], o -> mean(abs(y - predict(o,x))))\n",
    "rng = 1:10\n",
    "\n",
    "for i in 1:100\n",
    "    yi = y[rng] \n",
    "    xi = x[rng, :]\n",
    "    fit!(tr, xi, yi)\n",
    "    rng += 10\n",
    "end"
   ]
  },
  {
   "cell_type": "code",
   "execution_count": 72,
   "metadata": {
    "collapsed": false,
    "slideshow": {
     "slide_type": "slide"
    }
   },
   "outputs": [
    {
     "data": {
      "image/svg+xml": [
       "<?xml version=\"1.0\" encoding=\"UTF-8\"?>\n",
       "<svg xmlns=\"http://www.w3.org/2000/svg\"\n",
       "     xmlns:xlink=\"http://www.w3.org/1999/xlink\"\n",
       "     xmlns:gadfly=\"http://www.gadflyjl.org/ns\"\n",
       "     version=\"1.2\"\n",
       "     width=\"158.73mm\" height=\"105.82mm\" viewBox=\"0 0 158.73 105.82\"\n",
       "     stroke=\"none\"\n",
       "     fill=\"#000000\"\n",
       "     stroke-width=\"0.3\"\n",
       "     font-size=\"3.88\"\n",
       ">\n",
       "<g stroke=\"#000000\" stroke-opacity=\"0.000\" fill=\"#FFFFFF\" id=\"img-1acaef1d-1\">\n",
       "  <rect x=\"0\" y=\"0\" width=\"158.73\" height=\"105.82\"/>\n",
       "</g>\n",
       "<g class=\"plotroot xscalable yscalable\" id=\"img-1acaef1d-2\">\n",
       "  <g font-size=\"3.88\" font-family=\"Helvetica\" fill=\"#000000\" stroke=\"#000000\" stroke-opacity=\"0.000\" id=\"img-1acaef1d-3\">\n",
       "    <text x=\"83.52\" y=\"98.2\" text-anchor=\"middle\" dy=\"0.6em\">nobs</text>\n",
       "  </g>\n",
       "  <g class=\"guide xlabels\" font-size=\"2.82\" font-family=\"Helvetica\" fill=\"#000000\" id=\"img-1acaef1d-4\">\n",
       "    <text x=\"18.11\" y=\"91.57\" text-anchor=\"middle\" dy=\"0.6em\">0</text>\n",
       "    <text x=\"83.52\" y=\"91.57\" text-anchor=\"middle\" dy=\"0.6em\">500</text>\n",
       "    <text x=\"148.93\" y=\"91.57\" text-anchor=\"middle\" dy=\"0.6em\">1000</text>\n",
       "  </g>\n",
       "  <g class=\"guide colorkey\" id=\"img-1acaef1d-5\">\n",
       "    <g fill=\"#000000\" font-size=\"2.82\" font-family=\"Helvetica\" id=\"img-1acaef1d-6\">\n",
       "      <text x=\"154.75\" y=\"43.97\" dy=\"0.35em\">y1</text>\n",
       "      <text x=\"154.75\" y=\"47.6\" dy=\"0.35em\">y2</text>\n",
       "      <text x=\"154.75\" y=\"51.23\" dy=\"0.35em\">y3</text>\n",
       "    </g>\n",
       "    <g stroke=\"#000000\" stroke-opacity=\"0.000\" id=\"img-1acaef1d-7\">\n",
       "      <rect x=\"151.93\" y=\"43.06\" width=\"1.82\" height=\"1.82\" fill=\"#009AFA\"/>\n",
       "      <rect x=\"151.93\" y=\"46.69\" width=\"1.82\" height=\"1.82\" fill=\"#E36F47\"/>\n",
       "      <rect x=\"151.93\" y=\"50.32\" width=\"1.82\" height=\"1.82\" fill=\"#00A86C\"/>\n",
       "    </g>\n",
       "    <g fill=\"#000000\" font-size=\"3.88\" font-family=\"Helvetica\" stroke=\"#000000\" stroke-opacity=\"0.000\" id=\"img-1acaef1d-8\">\n",
       "      <text x=\"151.93\" y=\"40.14\"></text>\n",
       "    </g>\n",
       "  </g>\n",
       "<g clip-path=\"url(#img-1acaef1d-9)\">\n",
       "  <g id=\"img-1acaef1d-10\">\n",
       "    <g pointer-events=\"visible\" opacity=\"1\" fill=\"#000000\" fill-opacity=\"0.000\" stroke=\"#000000\" stroke-opacity=\"0.000\" class=\"guide background\" id=\"img-1acaef1d-11\">\n",
       "      <rect x=\"16.11\" y=\"1\" width=\"134.83\" height=\"89.57\"/>\n",
       "    </g>\n",
       "    <g class=\"guide ygridlines xfixed\" stroke-dasharray=\"0.5,0.5\" stroke-width=\"0.2\" stroke=\"#D0D0E0\" id=\"img-1acaef1d-12\">\n",
       "      <path fill=\"none\" d=\"M16.11,88.57 L 150.93 88.57\"/>\n",
       "      <path fill=\"none\" d=\"M16.11,60.04 L 150.93 60.04\"/>\n",
       "      <path fill=\"none\" d=\"M16.11,31.52 L 150.93 31.52\"/>\n",
       "      <path fill=\"none\" d=\"M16.11,3 L 150.93 3\"/>\n",
       "    </g>\n",
       "    <g class=\"guide xgridlines yfixed\" stroke-dasharray=\"0.5,0.5\" stroke-width=\"0.2\" stroke=\"#D0D0E0\" id=\"img-1acaef1d-13\">\n",
       "      <path fill=\"none\" d=\"M18.11,1 L 18.11 90.57\"/>\n",
       "      <path fill=\"none\" d=\"M83.52,1 L 83.52 90.57\"/>\n",
       "      <path fill=\"none\" d=\"M148.93,1 L 148.93 90.57\"/>\n",
       "    </g>\n",
       "    <g class=\"plotpanel\" id=\"img-1acaef1d-14\">\n",
       "      <g stroke-width=\"0.26\" fill=\"#000000\" fill-opacity=\"0.000\" class=\"geometry\" stroke-dasharray=\"none\" stroke=\"#009AFA\" id=\"img-1acaef1d-15\">\n",
       "        <path fill=\"none\" d=\"M18.11,-35.88 L 19.42 -1091.85 20.72 -1243.34 22.03 -740.22 23.34 -439.05 24.65 -241.68 25.96 -81.34 27.27 19.3 28.57 25.95 29.88 57.87 31.19 61.89 32.5 64.63 33.81 57.85 35.11 47.66 36.42 51.8 37.73 68.61 39.04 76.37 40.35 78.59 41.66 72.84 42.96 71.05 44.27 74.6 45.58 75.88 46.89 75.46 48.2 78.18 49.51 76.83 50.81 70.35 52.12 73.77 53.43 79.77 54.74 78 56.05 72.08 57.36 75.06 58.66 76.4 59.97 80.75 61.28 79.29 62.59 75.61 63.9 80.41 65.2 80.05 66.51 77.86 67.82 74.23 69.13 75.47 70.44 77.63 71.75 77.95 73.05 80.27 74.36 79.22 75.67 78.8 76.98 79.98 78.29 72.32 79.6 73.16 80.9 69.69 82.21 72.92 83.52 77.37 84.83 78.05 86.14 77.97 87.45 75.7 88.75 81.4 90.06 78.35 91.37 77.94 92.68 75.2 93.99 78.77 95.29 76.34 96.6 75.67 97.91 70.89 99.22 73.09 100.53 74.44 101.84 70.09 103.14 74.96 104.45 73.37 105.76 80.08 107.07 81.03 108.38 79.87 109.69 80.57 110.99 79.93 112.3 80.64 113.61 81.09 114.92 81.6 116.23 81.5 117.54 79.04 118.84 80.5 120.15 80.51 121.46 80.44 122.77 81.22 124.08 79.62 125.38 79.52 126.69 77.58 128 77.85 129.31 78.25 130.62 74.26 131.93 73.5 133.23 77.15 134.54 78.1 135.85 75.63 137.16 76.31 138.47 71.08 139.78 73.69 141.08 75.89 142.39 79.2 143.7 80.24 145.01 80.65 146.32 80.93 147.63 81.35 148.93 80.67\"/>\n",
       "      </g>\n",
       "      <g stroke-width=\"0.26\" fill=\"#000000\" fill-opacity=\"0.000\" class=\"geometry\" stroke-dasharray=\"none\" stroke=\"#E36F47\" id=\"img-1acaef1d-16\">\n",
       "        <path fill=\"none\" d=\"M18.11,-35.88 L 19.42 -131.71 20.72 -101.79 22.03 -79.05 23.34 -46.95 24.65 -5.59 25.96 -0.42 27.27 17.18 28.57 42.62 29.88 53.16 31.19 65.28 32.5 62.87 33.81 64.54 35.11 48.79 36.42 54.54 37.73 59.23 39.04 63.99 40.35 64.83 41.66 66.17 42.96 61.2 44.27 69.13 45.58 71.89 46.89 72.41 48.2 65.15 49.51 70.44 50.81 65.42 52.12 73.38 53.43 79.41 54.74 77.99 56.05 75.84 57.36 75.93 58.66 69.57 59.97 75.54 61.28 74.45 62.59 75.33 63.9 79.27 65.2 79.91 66.51 77.85 67.82 78.81 69.13 74.04 70.44 73.94 71.75 73.16 73.05 77.29 74.36 75.62 75.67 76.65 76.98 78.78 78.29 76.66 79.6 78.11 80.9 77.4 82.21 73.9 83.52 75.01 84.83 73.2 86.14 73.47 87.45 71.05 88.75 77.03 90.06 81.68 91.37 79.97 92.68 78.59 93.99 80.49 95.29 79.1 96.6 80.17 97.91 76.74 99.22 75.54 100.53 74.54 101.84 70.96 103.14 73.65 104.45 72.41 105.76 77.01 107.07 79.82 108.38 80.8 109.69 80.17 110.99 79.42 112.3 81.09 113.61 78.54 114.92 79.85 116.23 80.4 117.54 77.76 118.84 81.67 120.15 82.23 121.46 81.15 122.77 82.09 124.08 80.64 125.38 80.61 126.69 80.41 128 79.98 129.31 79.87 130.62 79.41 131.93 79.31 133.23 80.2 134.54 79.04 135.85 79.84 137.16 78.08 138.47 74.77 139.78 76 141.08 76.82 142.39 77.89 143.7 78.51 145.01 80.26 146.32 79.67 147.63 78.71 148.93 78.51\"/>\n",
       "      </g>\n",
       "      <g stroke-width=\"0.26\" fill=\"#000000\" fill-opacity=\"0.000\" class=\"geometry\" stroke-dasharray=\"none\" stroke=\"#00A86C\" id=\"img-1acaef1d-17\">\n",
       "        <path fill=\"none\" d=\"M18.11,-35.88 L 19.42 -168 20.72 -81.46 22.03 -7.83 23.34 13.69 24.65 44.58 25.96 40.46 27.27 48.4 28.57 47.71 29.88 68.35 31.19 67.99 32.5 65.08 33.81 58.09 35.11 47.29 36.42 51.86 37.73 70.21 39.04 77.03 40.35 78.78 41.66 73.05 42.96 71.31 44.27 74.43 45.58 75.14 46.89 76.06 48.2 78.62 49.51 77.53 50.81 70.91 52.12 74.4 53.43 79.77 54.74 78.08 56.05 72.45 57.36 75.14 58.66 76.47 59.97 80.92 61.28 79.43 62.59 76.33 63.9 80.88 65.2 80.35 66.51 79.02 67.82 76.52 69.13 77.67 70.44 79.44 71.75 78.24 73.05 81 74.36 80.25 75.67 79.81 76.98 80.4 78.29 77.66 79.6 76.73 80.9 72.28 82.21 74.05 83.52 76.85 84.83 78.17 86.14 77.64 87.45 75.84 88.75 81.47 90.06 79.2 91.37 78.6 92.68 75.7 93.99 79.23 95.29 76.89 96.6 76.8 97.91 71.99 99.22 73.35 100.53 74.75 101.84 70.4 103.14 75.27 104.45 73.56 105.76 80.02 107.07 81.05 108.38 79.95 109.69 80.49 110.99 79.97 112.3 80.64 113.61 81.15 114.92 81.64 116.23 81.51 117.54 79.04 118.84 80.49 120.15 80.44 121.46 80.35 122.77 81.51 124.08 79.54 125.38 79.42 126.69 77.74 128 78.06 129.31 78.46 130.62 77.13 131.93 76.47 133.23 79.02 134.54 78.98 135.85 76.47 137.16 76.85 138.47 73.1 139.78 74.94 141.08 77.81 142.39 80.27 143.7 80.69 145.01 81.1 146.32 81.3 147.63 81.68 148.93 81.07\"/>\n",
       "      </g>\n",
       "    </g>\n",
       "  </g>\n",
       "</g>\n",
       "  <g class=\"guide ylabels\" font-size=\"2.82\" font-family=\"Helvetica\" fill=\"#000000\" id=\"img-1acaef1d-18\">\n",
       "    <text x=\"15.11\" y=\"88.57\" text-anchor=\"end\" dy=\"0.35em\">0.75</text>\n",
       "    <text x=\"15.11\" y=\"60.04\" text-anchor=\"end\" dy=\"0.35em\">1.00</text>\n",
       "    <text x=\"15.11\" y=\"31.52\" text-anchor=\"end\" dy=\"0.35em\">1.25</text>\n",
       "    <text x=\"15.11\" y=\"3\" text-anchor=\"end\" dy=\"0.35em\">1.50</text>\n",
       "  </g>\n",
       "  <g font-size=\"3.88\" font-family=\"Helvetica\" fill=\"#000000\" stroke=\"#000000\" stroke-opacity=\"0.000\" id=\"img-1acaef1d-19\">\n",
       "    <text x=\"4.81\" y=\"43.78\" text-anchor=\"middle\" dy=\"0.35em\" transform=\"rotate(-90, 4.81, 45.78)\">value of function (anonymous function)</text>\n",
       "  </g>\n",
       "</g>\n",
       "<defs>\n",
       "  <clipPath id=\"img-1acaef1d-9\">\n",
       "  <path d=\"M16.11,1 L 150.93 1 150.93 90.57 16.11 90.57\" />\n",
       "</clipPath>\n",
       "</defs>\n",
       "</svg>\n"
      ],
      "text/html": [
       "<?xml version=\"1.0\" encoding=\"UTF-8\"?>\n",
       "<svg xmlns=\"http://www.w3.org/2000/svg\"\n",
       "     xmlns:xlink=\"http://www.w3.org/1999/xlink\"\n",
       "     xmlns:gadfly=\"http://www.gadflyjl.org/ns\"\n",
       "     version=\"1.2\"\n",
       "     width=\"158.73mm\" height=\"105.82mm\" viewBox=\"0 0 158.73 105.82\"\n",
       "     stroke=\"none\"\n",
       "     fill=\"#000000\"\n",
       "     stroke-width=\"0.3\"\n",
       "     font-size=\"3.88\"\n",
       ">\n",
       "<g stroke=\"#000000\" stroke-opacity=\"0.000\" fill=\"#FFFFFF\" id=\"img-1acaef1d-1\">\n",
       "  <rect x=\"0\" y=\"0\" width=\"158.73\" height=\"105.82\"/>\n",
       "</g>\n",
       "<g class=\"plotroot xscalable yscalable\" id=\"img-1acaef1d-2\">\n",
       "  <g font-size=\"3.88\" font-family=\"Helvetica\" fill=\"#000000\" stroke=\"#000000\" stroke-opacity=\"0.000\" id=\"img-1acaef1d-3\">\n",
       "    <text x=\"83.52\" y=\"98.2\" text-anchor=\"middle\" dy=\"0.6em\">nobs</text>\n",
       "  </g>\n",
       "  <g class=\"guide xlabels\" font-size=\"2.82\" font-family=\"Helvetica\" fill=\"#000000\" id=\"img-1acaef1d-4\">\n",
       "    <text x=\"18.11\" y=\"91.57\" text-anchor=\"middle\" dy=\"0.6em\">0</text>\n",
       "    <text x=\"83.52\" y=\"91.57\" text-anchor=\"middle\" dy=\"0.6em\">500</text>\n",
       "    <text x=\"148.93\" y=\"91.57\" text-anchor=\"middle\" dy=\"0.6em\">1000</text>\n",
       "  </g>\n",
       "  <g class=\"guide colorkey\" id=\"img-1acaef1d-5\">\n",
       "    <g fill=\"#000000\" font-size=\"2.82\" font-family=\"Helvetica\" id=\"img-1acaef1d-6\">\n",
       "      <text x=\"154.75\" y=\"43.97\" dy=\"0.35em\">y1</text>\n",
       "      <text x=\"154.75\" y=\"47.6\" dy=\"0.35em\">y2</text>\n",
       "      <text x=\"154.75\" y=\"51.23\" dy=\"0.35em\">y3</text>\n",
       "    </g>\n",
       "    <g stroke=\"#000000\" stroke-opacity=\"0.000\" id=\"img-1acaef1d-7\">\n",
       "      <rect x=\"151.93\" y=\"43.06\" width=\"1.82\" height=\"1.82\" fill=\"#009AFA\"/>\n",
       "      <rect x=\"151.93\" y=\"46.69\" width=\"1.82\" height=\"1.82\" fill=\"#E36F47\"/>\n",
       "      <rect x=\"151.93\" y=\"50.32\" width=\"1.82\" height=\"1.82\" fill=\"#00A86C\"/>\n",
       "    </g>\n",
       "    <g fill=\"#000000\" font-size=\"3.88\" font-family=\"Helvetica\" stroke=\"#000000\" stroke-opacity=\"0.000\" id=\"img-1acaef1d-8\">\n",
       "      <text x=\"151.93\" y=\"40.14\"></text>\n",
       "    </g>\n",
       "  </g>\n",
       "<g clip-path=\"url(#img-1acaef1d-9)\">\n",
       "  <g id=\"img-1acaef1d-10\">\n",
       "    <g pointer-events=\"visible\" opacity=\"1\" fill=\"#000000\" fill-opacity=\"0.000\" stroke=\"#000000\" stroke-opacity=\"0.000\" class=\"guide background\" id=\"img-1acaef1d-11\">\n",
       "      <rect x=\"16.11\" y=\"1\" width=\"134.83\" height=\"89.57\"/>\n",
       "    </g>\n",
       "    <g class=\"guide ygridlines xfixed\" stroke-dasharray=\"0.5,0.5\" stroke-width=\"0.2\" stroke=\"#D0D0E0\" id=\"img-1acaef1d-12\">\n",
       "      <path fill=\"none\" d=\"M16.11,88.57 L 150.93 88.57\"/>\n",
       "      <path fill=\"none\" d=\"M16.11,60.04 L 150.93 60.04\"/>\n",
       "      <path fill=\"none\" d=\"M16.11,31.52 L 150.93 31.52\"/>\n",
       "      <path fill=\"none\" d=\"M16.11,3 L 150.93 3\"/>\n",
       "    </g>\n",
       "    <g class=\"guide xgridlines yfixed\" stroke-dasharray=\"0.5,0.5\" stroke-width=\"0.2\" stroke=\"#D0D0E0\" id=\"img-1acaef1d-13\">\n",
       "      <path fill=\"none\" d=\"M18.11,1 L 18.11 90.57\"/>\n",
       "      <path fill=\"none\" d=\"M83.52,1 L 83.52 90.57\"/>\n",
       "      <path fill=\"none\" d=\"M148.93,1 L 148.93 90.57\"/>\n",
       "    </g>\n",
       "    <g class=\"plotpanel\" id=\"img-1acaef1d-14\">\n",
       "      <g stroke-width=\"0.26\" fill=\"#000000\" fill-opacity=\"0.000\" class=\"geometry\" stroke-dasharray=\"none\" stroke=\"#009AFA\" id=\"img-1acaef1d-15\">\n",
       "        <path fill=\"none\" d=\"M18.11,-35.88 L 19.42 -1091.85 20.72 -1243.34 22.03 -740.22 23.34 -439.05 24.65 -241.68 25.96 -81.34 27.27 19.3 28.57 25.95 29.88 57.87 31.19 61.89 32.5 64.63 33.81 57.85 35.11 47.66 36.42 51.8 37.73 68.61 39.04 76.37 40.35 78.59 41.66 72.84 42.96 71.05 44.27 74.6 45.58 75.88 46.89 75.46 48.2 78.18 49.51 76.83 50.81 70.35 52.12 73.77 53.43 79.77 54.74 78 56.05 72.08 57.36 75.06 58.66 76.4 59.97 80.75 61.28 79.29 62.59 75.61 63.9 80.41 65.2 80.05 66.51 77.86 67.82 74.23 69.13 75.47 70.44 77.63 71.75 77.95 73.05 80.27 74.36 79.22 75.67 78.8 76.98 79.98 78.29 72.32 79.6 73.16 80.9 69.69 82.21 72.92 83.52 77.37 84.83 78.05 86.14 77.97 87.45 75.7 88.75 81.4 90.06 78.35 91.37 77.94 92.68 75.2 93.99 78.77 95.29 76.34 96.6 75.67 97.91 70.89 99.22 73.09 100.53 74.44 101.84 70.09 103.14 74.96 104.45 73.37 105.76 80.08 107.07 81.03 108.38 79.87 109.69 80.57 110.99 79.93 112.3 80.64 113.61 81.09 114.92 81.6 116.23 81.5 117.54 79.04 118.84 80.5 120.15 80.51 121.46 80.44 122.77 81.22 124.08 79.62 125.38 79.52 126.69 77.58 128 77.85 129.31 78.25 130.62 74.26 131.93 73.5 133.23 77.15 134.54 78.1 135.85 75.63 137.16 76.31 138.47 71.08 139.78 73.69 141.08 75.89 142.39 79.2 143.7 80.24 145.01 80.65 146.32 80.93 147.63 81.35 148.93 80.67\"/>\n",
       "      </g>\n",
       "      <g stroke-width=\"0.26\" fill=\"#000000\" fill-opacity=\"0.000\" class=\"geometry\" stroke-dasharray=\"none\" stroke=\"#E36F47\" id=\"img-1acaef1d-16\">\n",
       "        <path fill=\"none\" d=\"M18.11,-35.88 L 19.42 -131.71 20.72 -101.79 22.03 -79.05 23.34 -46.95 24.65 -5.59 25.96 -0.42 27.27 17.18 28.57 42.62 29.88 53.16 31.19 65.28 32.5 62.87 33.81 64.54 35.11 48.79 36.42 54.54 37.73 59.23 39.04 63.99 40.35 64.83 41.66 66.17 42.96 61.2 44.27 69.13 45.58 71.89 46.89 72.41 48.2 65.15 49.51 70.44 50.81 65.42 52.12 73.38 53.43 79.41 54.74 77.99 56.05 75.84 57.36 75.93 58.66 69.57 59.97 75.54 61.28 74.45 62.59 75.33 63.9 79.27 65.2 79.91 66.51 77.85 67.82 78.81 69.13 74.04 70.44 73.94 71.75 73.16 73.05 77.29 74.36 75.62 75.67 76.65 76.98 78.78 78.29 76.66 79.6 78.11 80.9 77.4 82.21 73.9 83.52 75.01 84.83 73.2 86.14 73.47 87.45 71.05 88.75 77.03 90.06 81.68 91.37 79.97 92.68 78.59 93.99 80.49 95.29 79.1 96.6 80.17 97.91 76.74 99.22 75.54 100.53 74.54 101.84 70.96 103.14 73.65 104.45 72.41 105.76 77.01 107.07 79.82 108.38 80.8 109.69 80.17 110.99 79.42 112.3 81.09 113.61 78.54 114.92 79.85 116.23 80.4 117.54 77.76 118.84 81.67 120.15 82.23 121.46 81.15 122.77 82.09 124.08 80.64 125.38 80.61 126.69 80.41 128 79.98 129.31 79.87 130.62 79.41 131.93 79.31 133.23 80.2 134.54 79.04 135.85 79.84 137.16 78.08 138.47 74.77 139.78 76 141.08 76.82 142.39 77.89 143.7 78.51 145.01 80.26 146.32 79.67 147.63 78.71 148.93 78.51\"/>\n",
       "      </g>\n",
       "      <g stroke-width=\"0.26\" fill=\"#000000\" fill-opacity=\"0.000\" class=\"geometry\" stroke-dasharray=\"none\" stroke=\"#00A86C\" id=\"img-1acaef1d-17\">\n",
       "        <path fill=\"none\" d=\"M18.11,-35.88 L 19.42 -168 20.72 -81.46 22.03 -7.83 23.34 13.69 24.65 44.58 25.96 40.46 27.27 48.4 28.57 47.71 29.88 68.35 31.19 67.99 32.5 65.08 33.81 58.09 35.11 47.29 36.42 51.86 37.73 70.21 39.04 77.03 40.35 78.78 41.66 73.05 42.96 71.31 44.27 74.43 45.58 75.14 46.89 76.06 48.2 78.62 49.51 77.53 50.81 70.91 52.12 74.4 53.43 79.77 54.74 78.08 56.05 72.45 57.36 75.14 58.66 76.47 59.97 80.92 61.28 79.43 62.59 76.33 63.9 80.88 65.2 80.35 66.51 79.02 67.82 76.52 69.13 77.67 70.44 79.44 71.75 78.24 73.05 81 74.36 80.25 75.67 79.81 76.98 80.4 78.29 77.66 79.6 76.73 80.9 72.28 82.21 74.05 83.52 76.85 84.83 78.17 86.14 77.64 87.45 75.84 88.75 81.47 90.06 79.2 91.37 78.6 92.68 75.7 93.99 79.23 95.29 76.89 96.6 76.8 97.91 71.99 99.22 73.35 100.53 74.75 101.84 70.4 103.14 75.27 104.45 73.56 105.76 80.02 107.07 81.05 108.38 79.95 109.69 80.49 110.99 79.97 112.3 80.64 113.61 81.15 114.92 81.64 116.23 81.51 117.54 79.04 118.84 80.49 120.15 80.44 121.46 80.35 122.77 81.51 124.08 79.54 125.38 79.42 126.69 77.74 128 78.06 129.31 78.46 130.62 77.13 131.93 76.47 133.23 79.02 134.54 78.98 135.85 76.47 137.16 76.85 138.47 73.1 139.78 74.94 141.08 77.81 142.39 80.27 143.7 80.69 145.01 81.1 146.32 81.3 147.63 81.68 148.93 81.07\"/>\n",
       "      </g>\n",
       "    </g>\n",
       "  </g>\n",
       "</g>\n",
       "  <g class=\"guide ylabels\" font-size=\"2.82\" font-family=\"Helvetica\" fill=\"#000000\" id=\"img-1acaef1d-18\">\n",
       "    <text x=\"15.11\" y=\"88.57\" text-anchor=\"end\" dy=\"0.35em\">0.75</text>\n",
       "    <text x=\"15.11\" y=\"60.04\" text-anchor=\"end\" dy=\"0.35em\">1.00</text>\n",
       "    <text x=\"15.11\" y=\"31.52\" text-anchor=\"end\" dy=\"0.35em\">1.25</text>\n",
       "    <text x=\"15.11\" y=\"3\" text-anchor=\"end\" dy=\"0.35em\">1.50</text>\n",
       "  </g>\n",
       "  <g font-size=\"3.88\" font-family=\"Helvetica\" fill=\"#000000\" stroke=\"#000000\" stroke-opacity=\"0.000\" id=\"img-1acaef1d-19\">\n",
       "    <text x=\"4.81\" y=\"43.78\" text-anchor=\"middle\" dy=\"0.35em\" transform=\"rotate(-90, 4.81, 45.78)\">value of function (anonymous function)</text>\n",
       "  </g>\n",
       "</g>\n",
       "<defs>\n",
       "  <clipPath id=\"img-1acaef1d-9\">\n",
       "  <path d=\"M16.11,1 L 150.93 1 150.93 90.57 16.11 90.57\" />\n",
       "</clipPath>\n",
       "</defs>\n",
       "</svg>\n"
      ],
      "text/plain": [
       "Compose.SVG(158.73015873015876mm,105.82010582010584mm,IOBuffer(data=UInt8[...], readable=true, writable=true, seekable=true, append=false, size=7962, maxsize=Inf, ptr=7963, mark=-1),nothing,\"img-1acaef1d\",0,Compose.SVGPropertyFrame[],Dict{Type{T},Union{Compose.Property{P<:Compose.PropertyPrimitive},Void}}(Compose.Property{Compose.FillPrimitive}=>nothing),Dict{Compose.ClipPrimitive{P<:NTuple{N,Measures.Measure}},ASCIIString}(Compose.ClipPrimitive{Tuple{Measures.Length{:mm,Float64},Measures.Length{:mm,Float64}}}([(16.107500000000016mm,1.0mm),(150.9334920634921mm,1.0mm),(150.9334920634921mm,90.56593915343916mm),(16.107500000000016mm,90.56593915343916mm)])=>\"img-1acaef1d-9\"),Tuple{Compose.FormPrimitive,ASCIIString}[],Set{AbstractString}(),true,false,nothing,true,\"img-1acaef1d-19\",false,19,AbstractString[\"/Users/joshday/.julia/v0.4/Gadfly/src/gadfly.js\"],Tuple{AbstractString,AbstractString}[(\"Snap.svg\",\"Snap\"),(\"Gadfly\",\"Gadfly\")],AbstractString[\"fig.select(\\\"#img-1acaef1d-5\\\")\\n   .drag(function() {}, function() {}, function() {});\",\"fig.select(\\\"#img-1acaef1d-10\\\")\\n   .init_gadfly();\"],false,:none)"
      ]
     },
     "metadata": {},
     "output_type": "display_data"
    },
    {
     "data": {
      "image/png": "[encoded data removed]",
      "image/svg+xml": [],
      "text/plain": [
       "Plot{Plots.GadflyPackage() n=3}"
      ]
     },
     "execution_count": 72,
     "metadata": {},
     "output_type": "execute_result"
    }
   ],
   "source": [
    "plot!(tr.p, ylims = (.75, 1.5))"
   ]
  },
  {
   "cell_type": "markdown",
   "metadata": {
    "slideshow": {
     "slide_type": "slide"
    }
   },
   "source": [
    "### Cross Validation\n",
    "\n",
    "Not yet included in the reorganization of OnlineStats.  For this type, the user provides a test data set.  With each update, several tuning parameters will be tried, and the winner is chosen by which minimizes error on the test set.\n",
    "\n",
    "http://joshday.github.io/OnlineStats.jl/Models/StochasticModel/"
   ]
  },
  {
   "cell_type": "markdown",
   "metadata": {
    "slideshow": {
     "slide_type": "slide"
    }
   },
   "source": [
    "### Advice for `StatLearn`\n",
    "\n",
    "- Use when training time is the bottleneck\n",
    "- Use traceplots of the loss on a test set\n",
    "- If data is static, randomize the order of observations"
   ]
  },
  {
   "cell_type": "markdown",
   "metadata": {
    "slideshow": {
     "slide_type": "slide"
    }
   },
   "source": [
    "### Thank You\n",
    "\n",
    "- GitHub: @joshday\n",
    "- Website: http://joshday.github.io\n",
    "- Email: jtday2@ncsu.edu\n"
   ]
  }
 ],
 "metadata": {
  "celltoolbar": "Slideshow",
  "kernelspec": {
   "display_name": "Julia 0.4.6-pre",
   "language": "julia",
   "name": "julia-0.4"
  },
  "language_info": {
   "file_extension": ".jl",
   "mimetype": "application/julia",
   "name": "julia",
   "version": "0.4.7"
  }
 },
 "nbformat": 4,
 "nbformat_minor": 0
}
