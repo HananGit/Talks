{
 "cells": [
  {
   "cell_type": "markdown",
   "metadata": {},
   "source": [
    "# Add procs, load packages"
   ]
  },
  {
   "cell_type": "code",
   "execution_count": 1,
   "metadata": {},
   "outputs": [],
   "source": [
    "addprocs(4)\n",
    "using JuliaDB, OnlineStats"
   ]
  },
  {
   "cell_type": "markdown",
   "metadata": {},
   "source": [
    "# Identify the CSVs to load"
   ]
  },
  {
   "cell_type": "code",
   "execution_count": 2,
   "metadata": {},
   "outputs": [
    {
     "data": {
      "text/plain": [
       "11-element Array{String,1}:\n",
       " \"/Users/joshday/datasets/taxi/yellow_tripdata_2017-02.csv\"\n",
       " \"/Users/joshday/datasets/taxi/yellow_tripdata_2017-03.csv\"\n",
       " \"/Users/joshday/datasets/taxi/yellow_tripdata_2017-04.csv\"\n",
       " \"/Users/joshday/datasets/taxi/yellow_tripdata_2017-05.csv\"\n",
       " \"/Users/joshday/datasets/taxi/yellow_tripdata_2017-06.csv\"\n",
       " \"/Users/joshday/datasets/taxi/yellow_tripdata_2017-07.csv\"\n",
       " \"/Users/joshday/datasets/taxi/yellow_tripdata_2017-08.csv\"\n",
       " \"/Users/joshday/datasets/taxi/yellow_tripdata_2017-09.csv\"\n",
       " \"/Users/joshday/datasets/taxi/yellow_tripdata_2017-10.csv\"\n",
       " \"/Users/joshday/datasets/taxi/yellow_tripdata_2017-11.csv\"\n",
       " \"/Users/joshday/datasets/taxi/yellow_tripdata_2017-12.csv\""
      ]
     },
     "execution_count": 2,
     "metadata": {},
     "output_type": "execute_result"
    }
   ],
   "source": [
    "files = glob(\"*.csv\", \"/Users/joshday/datasets/taxi/\")[end-10:end]"
   ]
  },
  {
   "cell_type": "markdown",
   "metadata": {},
   "source": [
    "# Load dataset larger than memory (<3 minutes)"
   ]
  },
  {
   "cell_type": "code",
   "execution_count": 3,
   "metadata": {},
   "outputs": [
    {
     "data": {
      "text/plain": [
       "Distributed Table with 103786750 rows in 11 chunks:\n",
       "Columns:\n",
       "\u001b[1m#   \u001b[22m\u001b[1mcolname                \u001b[22m\u001b[1mtype\u001b[22m\n",
       "───────────────────────────────────\n",
       "1   YearMonth              String\n",
       "2   VendorID               Int64\n",
       "3   tpep_pickup_datetime   DateTime\n",
       "4   tpep_dropoff_datetime  DateTime\n",
       "5   passenger_count        Int64\n",
       "6   trip_distance          Float64\n",
       "7   RatecodeID             Int64\n",
       "8   store_and_fwd_flag     String\n",
       "9   PULocationID           Int64\n",
       "10  DOLocationID           Int64\n",
       "11  payment_type           Int64\n",
       "12  fare_amount            Float64\n",
       "13  extra                  Float64\n",
       "14  mta_tax                Float64\n",
       "15  tip_amount             Float64\n",
       "16  tolls_amount           Float64\n",
       "17  improvement_surcharge  Float64\n",
       "18  total_amount           Float64"
      ]
     },
     "execution_count": 3,
     "metadata": {},
     "output_type": "execute_result"
    },
    {
     "name": "stdout",
     "output_type": "stream",
     "text": [
      "147.683731 seconds (3.32 M allocations: 181.816 MiB, 0.17% gc time)\n"
     ]
    }
   ],
   "source": [
    "@time t = loadtable(files, output=\"bin\", chunks = length(files), filenamecol = :YearMonth)"
   ]
  },
  {
   "cell_type": "markdown",
   "metadata": {},
   "source": [
    "# Kill the Kernel, Restart Julia, Load Table from Binary"
   ]
  },
  {
   "cell_type": "code",
   "execution_count": 1,
   "metadata": {},
   "outputs": [
    {
     "data": {
      "text/plain": [
       "Distributed Table with 103786750 rows in 11 chunks:\n",
       "Columns:\n",
       "\u001b[1m#   \u001b[22m\u001b[1mcolname                \u001b[22m\u001b[1mtype\u001b[22m\n",
       "───────────────────────────────────\n",
       "1   YearMonth              String\n",
       "2   VendorID               Int64\n",
       "3   tpep_pickup_datetime   DateTime\n",
       "4   tpep_dropoff_datetime  DateTime\n",
       "5   passenger_count        Int64\n",
       "6   trip_distance          Float64\n",
       "7   RatecodeID             Int64\n",
       "8   store_and_fwd_flag     String\n",
       "9   PULocationID           Int64\n",
       "10  DOLocationID           Int64\n",
       "11  payment_type           Int64\n",
       "12  fare_amount            Float64\n",
       "13  extra                  Float64\n",
       "14  mta_tax                Float64\n",
       "15  tip_amount             Float64\n",
       "16  tolls_amount           Float64\n",
       "17  improvement_surcharge  Float64\n",
       "18  total_amount           Float64"
      ]
     },
     "execution_count": 1,
     "metadata": {},
     "output_type": "execute_result"
    },
    {
     "name": "stdout",
     "output_type": "stream",
     "text": [
      "  0.314782 seconds (130.26 k allocations: 6.893 MiB)\n"
     ]
    }
   ],
   "source": [
    "addprocs(4)\n",
    "using JuliaDB, OnlineStats\n",
    "\n",
    "@time t = load(\"bin\")"
   ]
  },
  {
   "cell_type": "markdown",
   "metadata": {},
   "source": [
    "# Calculate the Average Fare, Grouped by Passenger Count"
   ]
  },
  {
   "cell_type": "code",
   "execution_count": 2,
   "metadata": {},
   "outputs": [
    {
     "name": "stdout",
     "output_type": "stream",
     "text": [
      " 38.113225 seconds (1.78 M allocations: 98.364 MiB)\n"
     ]
    },
    {
     "data": {
      "text/plain": [
       "Distributed Table with 11 rows in 1 chunks:\n",
       "\u001b[1mpassenger_count  \u001b[22mMean\n",
       "─────────────────────────────────────────────────\n",
       "0                Mean: n=165554 | value=13.3116\n",
       "1                Mean: n=74072569 | value=12.9409\n",
       "2                Mean: n=15143017 | value=13.7458\n",
       "3                Mean: n=4357927 | value=13.536\n",
       "4                Mean: n=2075625 | value=13.8076\n",
       "5                Mean: n=4922074 | value=13.0787\n",
       "6                Mean: n=3049058 | value=13.0415\n",
       "7                Mean: n=338 | value=43.7983\n",
       "8                Mean: n=317 | value=45.7156\n",
       "9                Mean: n=270 | value=54.5304\n",
       "192              Mean: n=1 | value=6.5"
      ]
     },
     "execution_count": 2,
     "metadata": {},
     "output_type": "execute_result"
    }
   ],
   "source": [
    "@time groupreduce(Mean(), t, :passenger_count; select = :fare_amount)"
   ]
  }
 ],
 "metadata": {
  "kernelspec": {
   "display_name": "Julia 0.6.3",
   "language": "julia",
   "name": "julia-0.6"
  },
  "language_info": {
   "file_extension": ".jl",
   "mimetype": "application/julia",
   "name": "julia",
   "version": "0.6.3"
  }
 },
 "nbformat": 4,
 "nbformat_minor": 2
}
