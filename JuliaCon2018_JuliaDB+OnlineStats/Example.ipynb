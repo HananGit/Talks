{
 "cells": [
  {
   "cell_type": "markdown",
   "metadata": {},
   "source": [
    "# Add procs, load packages"
   ]
  },
  {
   "cell_type": "code",
   "execution_count": 1,
   "metadata": {},
   "outputs": [],
   "source": [
    "addprocs(4)\n",
    "using JuliaDB, OnlineStats"
   ]
  },
  {
   "cell_type": "markdown",
   "metadata": {},
   "source": [
    "# Identify the CSVs to load"
   ]
  },
  {
   "cell_type": "code",
   "execution_count": 2,
   "metadata": {},
   "outputs": [
    {
     "data": {
      "text/plain": [
       "12-element Array{String,1}:\n",
       " \"/Users/joshday/datasets/taxi/yellow_tripdata_2017-01.csv\"\n",
       " \"/Users/joshday/datasets/taxi/yellow_tripdata_2017-02.csv\"\n",
       " \"/Users/joshday/datasets/taxi/yellow_tripdata_2017-03.csv\"\n",
       " \"/Users/joshday/datasets/taxi/yellow_tripdata_2017-04.csv\"\n",
       " \"/Users/joshday/datasets/taxi/yellow_tripdata_2017-05.csv\"\n",
       " \"/Users/joshday/datasets/taxi/yellow_tripdata_2017-06.csv\"\n",
       " \"/Users/joshday/datasets/taxi/yellow_tripdata_2017-07.csv\"\n",
       " \"/Users/joshday/datasets/taxi/yellow_tripdata_2017-08.csv\"\n",
       " \"/Users/joshday/datasets/taxi/yellow_tripdata_2017-09.csv\"\n",
       " \"/Users/joshday/datasets/taxi/yellow_tripdata_2017-10.csv\"\n",
       " \"/Users/joshday/datasets/taxi/yellow_tripdata_2017-11.csv\"\n",
       " \"/Users/joshday/datasets/taxi/yellow_tripdata_2017-12.csv\""
      ]
     },
     "execution_count": 2,
     "metadata": {},
     "output_type": "execute_result"
    }
   ],
   "source": [
    "files = glob(\"*.csv\", \"/Users/joshday/datasets/taxi/\")"
   ]
  },
  {
   "cell_type": "markdown",
   "metadata": {},
   "source": [
    "# Load dataset larger than memory (under 3 minutes)"
   ]
  },
  {
   "cell_type": "code",
   "execution_count": 3,
   "metadata": {},
   "outputs": [
    {
     "data": {
      "text/plain": [
       "Distributed Table with 113496874 rows in 12 chunks:\n",
       "Columns:\n",
       "\u001b[1m#   \u001b[22m\u001b[1mcolname                \u001b[22m\u001b[1mtype\u001b[22m\n",
       "───────────────────────────────────\n",
       "1   YearMonth              String\n",
       "2   VendorID               Int64\n",
       "3   tpep_pickup_datetime   DateTime\n",
       "4   tpep_dropoff_datetime  DateTime\n",
       "5   passenger_count        Int64\n",
       "6   trip_distance          Float64\n",
       "7   RatecodeID             Int64\n",
       "8   store_and_fwd_flag     String\n",
       "9   PULocationID           Int64\n",
       "10  DOLocationID           Int64\n",
       "11  payment_type           Int64\n",
       "12  fare_amount            Float64\n",
       "13  extra                  Float64\n",
       "14  mta_tax                Float64\n",
       "15  tip_amount             Float64\n",
       "16  tolls_amount           Float64\n",
       "17  improvement_surcharge  Float64\n",
       "18  total_amount           Float64"
      ]
     },
     "execution_count": 3,
     "metadata": {},
     "output_type": "execute_result"
    },
    {
     "name": "stdout",
     "output_type": "stream",
     "text": [
      "152.603136 seconds (3.32 M allocations: 182.853 MiB, 0.25% gc time)\n"
     ]
    }
   ],
   "source": [
    "@time t = loadtable(files, output=\"bin\", chunks = length(files), filenamecol = :YearMonth)"
   ]
  },
  {
   "cell_type": "markdown",
   "metadata": {},
   "source": [
    "# Restart Julia, Load Table from Binary"
   ]
  },
  {
   "cell_type": "code",
   "execution_count": 1,
   "metadata": {},
   "outputs": [
    {
     "data": {
      "text/plain": [
       "Distributed Table with 113496874 rows in 12 chunks:\n",
       "Columns:\n",
       "\u001b[1m#   \u001b[22m\u001b[1mcolname                \u001b[22m\u001b[1mtype\u001b[22m\n",
       "───────────────────────────────────\n",
       "1   YearMonth              String\n",
       "2   VendorID               Int64\n",
       "3   tpep_pickup_datetime   DateTime\n",
       "4   tpep_dropoff_datetime  DateTime\n",
       "5   passenger_count        Int64\n",
       "6   trip_distance          Float64\n",
       "7   RatecodeID             Int64\n",
       "8   store_and_fwd_flag     String\n",
       "9   PULocationID           Int64\n",
       "10  DOLocationID           Int64\n",
       "11  payment_type           Int64\n",
       "12  fare_amount            Float64\n",
       "13  extra                  Float64\n",
       "14  mta_tax                Float64\n",
       "15  tip_amount             Float64\n",
       "16  tolls_amount           Float64\n",
       "17  improvement_surcharge  Float64\n",
       "18  total_amount           Float64"
      ]
     },
     "execution_count": 1,
     "metadata": {},
     "output_type": "execute_result"
    },
    {
     "name": "stdout",
     "output_type": "stream",
     "text": [
      "  0.320673 seconds (130.31 k allocations: 6.894 MiB)\n"
     ]
    }
   ],
   "source": [
    "addprocs(4)\n",
    "using JuliaDB, OnlineStats\n",
    "\n",
    "@time t = load(\"bin\")"
   ]
  },
  {
   "cell_type": "markdown",
   "metadata": {},
   "source": [
    "# Calculate the Average Fare, Grouped by Passenger Count"
   ]
  },
  {
   "cell_type": "code",
   "execution_count": 2,
   "metadata": {},
   "outputs": [
    {
     "name": "stdout",
     "output_type": "stream",
     "text": [
      " 42.047238 seconds (1.78 M allocations: 96.567 MiB)\n"
     ]
    },
    {
     "data": {
      "text/plain": [
       "Distributed Table with 11 rows in 1 chunks:\n",
       "\u001b[1mpassenger_count  \u001b[22mMean\n",
       "─────────────────────────────────────────────────\n",
       "0                Mean: n=166086 | value=13.3626\n",
       "1                Mean: n=81034106 | value=12.8784\n",
       "2                Mean: n=16545529 | value=13.657\n",
       "3                Mean: n=4748847 | value=13.5801\n",
       "4                Mean: n=2257808 | value=13.7136\n",
       "5                Mean: n=5407303 | value=13.012\n",
       "6                Mean: n=3336197 | value=12.9714\n",
       "7                Mean: n=360 | value=43.7429\n",
       "8                Mean: n=339 | value=45.4509\n",
       "9                Mean: n=298 | value=55.4761\n",
       "192              Mean: n=1 | value=6.5"
      ]
     },
     "execution_count": 2,
     "metadata": {},
     "output_type": "execute_result"
    }
   ],
   "source": [
    "@time groupreduce(Mean(), t, :passenger_count; select = :fare_amount)"
   ]
  }
 ],
 "metadata": {
  "kernelspec": {
   "display_name": "Julia 0.6.3",
   "language": "julia",
   "name": "julia-0.6"
  },
  "language_info": {
   "file_extension": ".jl",
   "mimetype": "application/julia",
   "name": "julia",
   "version": "0.6.3"
  }
 },
 "nbformat": 4,
 "nbformat_minor": 2
}
