{
 "cells": [
  {
   "cell_type": "markdown",
   "metadata": {},
   "source": [
    "# Add procs, load packages"
   ]
  },
  {
   "cell_type": "code",
   "execution_count": 1,
   "metadata": {},
   "outputs": [],
   "source": [
    "addprocs(4)\n",
    "using JuliaDB, OnlineStats"
   ]
  },
  {
   "cell_type": "markdown",
   "metadata": {},
   "source": [
    "# Identify the CSVs to load"
   ]
  },
  {
   "cell_type": "code",
   "execution_count": 2,
   "metadata": {},
   "outputs": [
    {
     "data": {
      "text/plain": [
       "11-element Array{String,1}:\n",
       " \"/Users/joshday/datasets/taxi/yellow_tripdata_2017-02.csv\"\n",
       " \"/Users/joshday/datasets/taxi/yellow_tripdata_2017-03.csv\"\n",
       " \"/Users/joshday/datasets/taxi/yellow_tripdata_2017-04.csv\"\n",
       " \"/Users/joshday/datasets/taxi/yellow_tripdata_2017-05.csv\"\n",
       " \"/Users/joshday/datasets/taxi/yellow_tripdata_2017-06.csv\"\n",
       " \"/Users/joshday/datasets/taxi/yellow_tripdata_2017-07.csv\"\n",
       " \"/Users/joshday/datasets/taxi/yellow_tripdata_2017-08.csv\"\n",
       " \"/Users/joshday/datasets/taxi/yellow_tripdata_2017-09.csv\"\n",
       " \"/Users/joshday/datasets/taxi/yellow_tripdata_2017-10.csv\"\n",
       " \"/Users/joshday/datasets/taxi/yellow_tripdata_2017-11.csv\"\n",
       " \"/Users/joshday/datasets/taxi/yellow_tripdata_2017-12.csv\""
      ]
     },
     "execution_count": 2,
     "metadata": {},
     "output_type": "execute_result"
    }
   ],
   "source": [
    "files = glob(\"*.csv\", \"/Users/joshday/datasets/taxi/\")[end-10:end]"
   ]
  },
  {
   "cell_type": "markdown",
   "metadata": {},
   "source": [
    "# Load dataset larger than memory (~2 minutes)"
   ]
  },
  {
   "cell_type": "code",
   "execution_count": null,
   "metadata": {},
   "outputs": [],
   "source": [
    "@time t = loadtable(files, output=\"bin\", chunks = length(files), filenamecol = :YearMonth)"
   ]
  },
  {
   "cell_type": "markdown",
   "metadata": {},
   "source": [
    "# Kill the Kernel, Restart Julia, Load Table from Binary"
   ]
  },
  {
   "cell_type": "code",
   "execution_count": null,
   "metadata": {},
   "outputs": [],
   "source": [
    "addprocs(4)\n",
    "using JuliaDB, OnlineStats\n",
    "\n",
    "@time t = load(\"bin\")"
   ]
  },
  {
   "cell_type": "markdown",
   "metadata": {},
   "source": [
    "# Calculate the Average Fare, Grouped by Passenger Count"
   ]
  },
  {
   "cell_type": "code",
   "execution_count": null,
   "metadata": {},
   "outputs": [],
   "source": [
    "@time groupreduce(Mean(), t, :passenger_count; select = :fare_amount)"
   ]
  }
 ],
 "metadata": {
  "kernelspec": {
   "display_name": "Julia 0.6.3",
   "language": "julia",
   "name": "julia-0.6"
  },
  "language_info": {
   "file_extension": ".jl",
   "mimetype": "application/julia",
   "name": "julia",
   "version": "0.6.3"
  }
 },
 "nbformat": 4,
 "nbformat_minor": 2
}
