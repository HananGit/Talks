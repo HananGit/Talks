{
 "cells": [
  {
   "cell_type": "markdown",
   "metadata": {
    "extensions": {
     "jupyter_dashboards": {
      "version": 1,
      "views": {
       "grid_default": {},
       "report_default": {
        "hidden": false
       }
      }
     }
    }
   },
   "source": [
    "<img width=\"300px\" src=\"https://upload.wikimedia.org/wikipedia/commons/thumb/6/69/Julia_prog_language.svg/1280px-Julia_prog_language.svg.png\">\n",
    "\n",
    "# What's new in Julia\n",
    "\n",
    "This notebook is at: https://github.com/joshday/Talks\n",
    "\n",
    "\n",
    "# TLDR of what's new\n",
    "\n",
    "- Package manager\n",
    "- Composable Multi-threading\n",
    "- Tons of compiler updates\n",
    "- Faster startup time\n",
    "- Lots of improvements to package ecosystem\n",
    "- Missing value support\n",
    "- Generators\n",
    "- New interface for iterators\n",
    "- Founders won J. H. Wilkinson Prize for Numerical Software (given once every four years)\n",
    "- 1.0 released!  1.2 is most recent stable release.\n",
    "\n",
    "\n",
    "## Julia Resources\n",
    "- https://julialang.org\n",
    "- https://pkg.julialang.org/ (finding packages)\n",
    "- https://discourse.julialang.org (ask for help)\n",
    "- http://julialang.slack.com/ (ask for help, typically faster response than Discourse)\n",
    "- https://docs.julialang.org/en/ (documentation)\n",
    "\n",
    "---\n",
    "\n",
    "## First: Why does Julia exist?\n",
    "\n",
    "- Do we need another language?\n",
    "\n",
    "### Sapir-Worf Hypothesis (https://en.wikipedia.org/wiki/Linguistic_relativity)\n",
    "\n",
    "- Your language influences/determines how you think\n",
    "- How you solve problems is influenced by your tools\n",
    "\n",
    "e.g. avoid loops in R/Python\n",
    "\n",
    "### The Two-Language Problem\n",
    "\n",
    "- Write prototype code in an easy language (Python)\n",
    "- Write production code in a fast language (Scala)\n",
    "\n",
    "### Julia's claims are:\n",
    "\n",
    "1. Julia is less restrictive to how you solve problems\n",
    "2. Julia solves the two-language problem\n",
    "\n",
    "### Features\n",
    "\n",
    "**Julia is fast because of this set of features.  There's no magic dust you can go sprinkle on python.**\n",
    "\n",
    "- Type system\n",
    "- Multiple dispatch\n",
    "- Type Inference\n",
    "- Metaprogramming (macros)\n",
    "- Just-in-time (JIT) compilation using LLVM\n",
    "- Clean, familiar syntax\n",
    "- Most of Julia is written in Julia\n",
    "\n",
    "### Micro Benchmarks\n",
    "\n",
    "These micro-benchmarks, while not comprehensive, do test compiler performance on a range of common code patterns, such as function calls, string parsing, sorting, numerical loops, random number generation, recursion, and array operations.\n",
    "\n",
    "![](https://julialang.org/images/benchmarks.svg)"
   ]
  },
  {
   "cell_type": "markdown",
   "metadata": {
    "extensions": {
     "jupyter_dashboards": {
      "version": 1,
      "views": {
       "grid_default": {},
       "report_default": {
        "hidden": false
       }
      }
     }
    }
   },
   "source": [
    "---\n",
    "\n",
    "## How does Julia work?\n",
    "\n",
    "### JIT"
   ]
  },
  {
   "cell_type": "code",
   "execution_count": 1,
   "metadata": {
    "extensions": {
     "jupyter_dashboards": {
      "version": 1,
      "views": {
       "grid_default": {},
       "report_default": {
        "hidden": false
       }
      }
     }
    }
   },
   "outputs": [
    {
     "name": "stdout",
     "output_type": "stream",
     "text": [
      "  0.021731 seconds (93.20 k allocations: 4.829 MiB)\n"
     ]
    },
    {
     "data": {
      "text/plain": [
       "6.750607670766725"
      ]
     },
     "execution_count": 1,
     "metadata": {},
     "output_type": "execute_result"
    }
   ],
   "source": [
    "using Random\n",
    "\n",
    "x = randn(100)\n",
    "\n",
    "@time sum(x)  # compile, then run"
   ]
  },
  {
   "cell_type": "code",
   "execution_count": 2,
   "metadata": {
    "extensions": {
     "jupyter_dashboards": {
      "version": 1,
      "views": {
       "grid_default": {},
       "report_default": {
        "hidden": false
       }
      }
     }
    }
   },
   "outputs": [
    {
     "name": "stdout",
     "output_type": "stream",
     "text": [
      "  0.000002 seconds (5 allocations: 176 bytes)\n"
     ]
    },
    {
     "data": {
      "text/plain": [
       "6.750607670766725"
      ]
     },
     "execution_count": 2,
     "metadata": {},
     "output_type": "execute_result"
    }
   ],
   "source": [
    "@time sum(x)  # call compiled function"
   ]
  },
  {
   "cell_type": "code",
   "execution_count": 3,
   "metadata": {},
   "outputs": [
    {
     "name": "stdout",
     "output_type": "stream",
     "text": [
      "  0.004873 seconds (12.47 k allocations: 683.787 KiB)\n"
     ]
    },
    {
     "data": {
      "text/plain": [
       "55"
      ]
     },
     "execution_count": 3,
     "metadata": {},
     "output_type": "execute_result"
    }
   ],
   "source": [
    "@time sum(1:10)  # So why is this slow?"
   ]
  },
  {
   "cell_type": "markdown",
   "metadata": {
    "extensions": {
     "jupyter_dashboards": {
      "version": 1,
      "views": {
       "grid_default": {},
       "report_default": {
        "hidden": false
       }
      }
     }
    }
   },
   "source": [
    "### Type System/Multiple Dispatch"
   ]
  },
  {
   "cell_type": "code",
   "execution_count": 4,
   "metadata": {
    "extensions": {
     "jupyter_dashboards": {
      "version": 1,
      "views": {
       "grid_default": {},
       "report_default": {
        "hidden": false
       }
      }
     }
    }
   },
   "outputs": [
    {
     "data": {
      "text/plain": [
       "f (generic function with 3 methods)"
      ]
     },
     "execution_count": 4,
     "metadata": {},
     "output_type": "execute_result"
    }
   ],
   "source": [
    "f(x) = 0  # same as f(x::Any)\n",
    "f(x::Int) = 1\n",
    "f(x::Number) = 2"
   ]
  },
  {
   "cell_type": "code",
   "execution_count": 5,
   "metadata": {
    "extensions": {
     "jupyter_dashboards": {
      "version": 1,
      "views": {
       "grid_default": {},
       "report_default": {
        "hidden": false
       }
      }
     }
    }
   },
   "outputs": [
    {
     "data": {
      "text/plain": [
       "1"
      ]
     },
     "execution_count": 5,
     "metadata": {},
     "output_type": "execute_result"
    }
   ],
   "source": [
    "f(1)"
   ]
  },
  {
   "cell_type": "code",
   "execution_count": 6,
   "metadata": {
    "extensions": {
     "jupyter_dashboards": {
      "version": 1,
      "views": {
       "grid_default": {},
       "report_default": {
        "hidden": false
       }
      }
     }
    }
   },
   "outputs": [
    {
     "data": {
      "text/plain": [
       "(2, 2)"
      ]
     },
     "execution_count": 6,
     "metadata": {},
     "output_type": "execute_result"
    }
   ],
   "source": [
    "f(1.0), f(Float32(1.0))"
   ]
  },
  {
   "cell_type": "code",
   "execution_count": 7,
   "metadata": {
    "extensions": {
     "jupyter_dashboards": {
      "version": 1,
      "views": {
       "grid_default": {},
       "report_default": {
        "hidden": false
       }
      }
     }
    }
   },
   "outputs": [
    {
     "data": {
      "text/plain": [
       "0"
      ]
     },
     "execution_count": 7,
     "metadata": {},
     "output_type": "execute_result"
    }
   ],
   "source": [
    "f(\"hi\")"
   ]
  },
  {
   "cell_type": "markdown",
   "metadata": {
    "extensions": {
     "jupyter_dashboards": {
      "version": 1,
      "views": {
       "grid_default": {},
       "report_default": {
        "hidden": false
       }
      }
     }
    }
   },
   "source": [
    "### Generic functions specialize to argument types!"
   ]
  },
  {
   "cell_type": "code",
   "execution_count": 8,
   "metadata": {
    "extensions": {
     "jupyter_dashboards": {
      "version": 1,
      "views": {
       "grid_default": {},
       "report_default": {
        "hidden": false
       }
      }
     }
    }
   },
   "outputs": [
    {
     "name": "stdout",
     "output_type": "stream",
     "text": [
      "\n",
      ";  @ In[4]:1 within `f'\n",
      "define i64 @julia_f_16476(%jl_value_t addrspace(10)* nonnull) {\n",
      "top:\n",
      "  ret i64 0\n",
      "}\n"
     ]
    }
   ],
   "source": [
    "@code_llvm f(\"hi\")"
   ]
  },
  {
   "cell_type": "markdown",
   "metadata": {
    "extensions": {
     "jupyter_dashboards": {
      "version": 1,
      "views": {
       "grid_default": {},
       "report_default": {
        "hidden": false
       }
      }
     }
    }
   },
   "source": [
    "#### For types, think set theory"
   ]
  },
  {
   "cell_type": "code",
   "execution_count": 9,
   "metadata": {
    "extensions": {
     "jupyter_dashboards": {
      "version": 1,
      "views": {
       "grid_default": {},
       "report_default": {
        "hidden": false
       }
      }
     }
    }
   },
   "outputs": [
    {
     "data": {
      "text/html": [
       "<script>\n",
       "// Immediately-invoked-function-expression to avoid global variables.\n",
       "(function() {\n",
       "    var warning_div = document.getElementById(\"webio-warning-14791677780240194915\");\n",
       "    var hide = function () {\n",
       "        var script = document.getElementById(\"webio-setup-14668872117718423794\");\n",
       "        var parent = script && script.parentElement;\n",
       "        var grandparent = parent && parent.parentElement;\n",
       "        if (grandparent) {\n",
       "            grandparent.style.display = \"none\";\n",
       "        }\n",
       "        warning_div.style.display = \"none\";\n",
       "    };\n",
       "    if (typeof Jupyter !== \"undefined\") {\n",
       "        console.log(\"WebIO detected Jupyter notebook environment.\");\n",
       "        // Jupyter notebook.\n",
       "        var extensions = (\n",
       "            Jupyter\n",
       "            && Jupyter.notebook.config.data\n",
       "            && Jupyter.notebook.config.data.load_extensions\n",
       "        );\n",
       "        if (extensions && extensions[\"webio-jupyter-notebook\"]) {\n",
       "            // Extension already loaded.\n",
       "            console.log(\"Jupyter WebIO nbextension detected; not loading ad-hoc.\");\n",
       "            hide();\n",
       "            return;\n",
       "        }\n",
       "    } else if (window.location.pathname.includes(\"/lab\")) {\n",
       "        // Guessing JupyterLa\n",
       "        console.log(\"Jupyter Lab detected; make sure the @webio/jupyter-lab-provider labextension is installed.\");\n",
       "        hide();\n",
       "        return;\n",
       "    }\n",
       "})();\n",
       "\n",
       "</script>\n",
       "<p\n",
       "    id=\"webio-warning-14791677780240194915\"\n",
       "    class=\"output_text output_stderr\"\n",
       "    style=\"padding: 1em; font-weight: bold;\"\n",
       ">\n",
       "    Unable to load WebIO. Please make sure WebIO works for your Jupyter client.\n",
       "    For troubleshooting, please see <a href=\"https://juliagizmos.github.io/WebIO.jl/latest/providers/ijulia/\">\n",
       "    the WebIO/IJulia documentation</a>.\n",
       "    <!-- TODO: link to installation docs. -->\n",
       "</p>\n"
      ],
      "text/plain": [
       "HTML{String}(\"<script>\\n// Immediately-invoked-function-expression to avoid global variables.\\n(function() {\\n    var warning_div = document.getElementById(\\\"webio-warning-14791677780240194915\\\");\\n    var hide = function () {\\n        var script = document.getElementById(\\\"webio-setup-14668872117718423794\\\");\\n        var parent = script && script.parentElement;\\n        var grandparent = parent && parent.parentElement;\\n        if (grandparent) {\\n            grandparent.style.display = \\\"none\\\";\\n        }\\n        warning_div.style.display = \\\"none\\\";\\n    };\\n    if (typeof Jupyter !== \\\"undefined\\\") {\\n        console.log(\\\"WebIO detected Jupyter notebook environment.\\\");\\n        // Jupyter notebook.\\n        var extensions = (\\n            Jupyter\\n            && Jupyter.notebook.config.data\\n            && Jupyter.notebook.config.data.load_extensions\\n        );\\n        if (extensions && extensions[\\\"webio-jupyter-notebook\\\"]) {\\n            // Extension already loaded.\\n            console.log(\\\"Jupyter WebIO nbextension detected; not loading ad-hoc.\\\");\\n            hide();\\n            return;\\n        }\\n    } else if (window.location.pathname.includes(\\\"/lab\\\")) {\\n        // Guessing JupyterLa\\n        console.log(\\\"Jupyter Lab detected; make sure the @webio/jupyter-lab-provider labextension is installed.\\\");\\n        hide();\\n        return;\\n    }\\n})();\\n\\n</script>\\n<p\\n    id=\\\"webio-warning-14791677780240194915\\\"\\n    class=\\\"output_text output_stderr\\\"\\n    style=\\\"padding: 1em; font-weight: bold;\\\"\\n>\\n    Unable to load WebIO. Please make sure WebIO works for your Jupyter client.\\n    For troubleshooting, please see <a href=\\\"https://juliagizmos.github.io/WebIO.jl/latest/providers/ijulia/\\\">\\n    the WebIO/IJulia documentation</a>.\\n    <!-- TODO: link to installation docs. -->\\n</p>\\n\")"
      ]
     },
     "metadata": {},
     "output_type": "display_data"
    },
    {
     "name": "stderr",
     "output_type": "stream",
     "text": [
      "┌ Warning: Accessing `scope.id` is deprecated, use `scopeid(scope)` instead.\n",
      "│   caller = ip:0x0\n",
      "└ @ Core :-1\n"
     ]
    },
    {
     "data": {
      "application/vnd.webio.node+json": {
       "children": [
        {
         "children": [
          {
           "children": [
            {
             "children": [
              {
               "children": [
                {
                 "children": [
                  "T"
                 ],
                 "instanceArgs": {
                  "namespace": "html",
                  "tag": "label"
                 },
                 "nodeType": "DOM",
                 "props": {
                  "className": "interact ",
                  "style": {
                   "padding": "5px 10px 0px 10px"
                  }
                 },
                 "type": "node"
                }
               ],
               "instanceArgs": {
                "namespace": "html",
                "tag": "div"
               },
               "nodeType": "DOM",
               "props": {
                "className": "interact-flex-row-left"
               },
               "type": "node"
              },
              {
               "children": [
                {
                 "children": [
                  {
                   "children": [
                    {
                     "children": [],
                     "instanceArgs": {
                      "namespace": "html",
                      "tag": "label"
                     },
                     "nodeType": "DOM",
                     "props": {
                      "attributes": {
                       "data-bind": "text : key"
                      }
                     },
                     "type": "node"
                    }
                   ],
                   "instanceArgs": {
                    "namespace": "html",
                    "tag": "span"
                   },
                   "nodeType": "DOM",
                   "props": {
                    "attributes": {
                     "data-bind": "click: function (){$root.update(val)}, css: {'is-primary is-selected' : $root.index() == val, 'interact-widget is-medium button ' : true}"
                    }
                   },
                   "type": "node"
                  }
                 ],
                 "instanceArgs": {
                  "namespace": "html",
                  "tag": "div"
                 },
                 "nodeType": "DOM",
                 "props": {
                  "attributes": {
                   "data-bind": "foreach : options_js"
                  },
                  "className": "buttons has-addons is-centered"
                 },
                 "type": "node"
                }
               ],
               "instanceArgs": {
                "namespace": "html",
                "tag": "div"
               },
               "nodeType": "DOM",
               "props": {
                "className": "interact-flex-row-center"
               },
               "type": "node"
              },
              {
               "children": [
                {
                 "children": [],
                 "instanceArgs": {
                  "namespace": "html",
                  "tag": "div"
                 },
                 "nodeType": "DOM",
                 "props": {},
                 "type": "node"
                }
               ],
               "instanceArgs": {
                "namespace": "html",
                "tag": "div"
               },
               "nodeType": "DOM",
               "props": {
                "className": "interact-flex-row-right"
               },
               "type": "node"
              }
             ],
             "instanceArgs": {
              "namespace": "html",
              "tag": "div"
             },
             "nodeType": "DOM",
             "props": {
              "className": "interact-flex-row interact-widget"
             },
             "type": "node"
            }
           ],
           "instanceArgs": {
            "handlers": {
             "index": [
              "(function (val){return (val!=this.model[\"index\"]()) ? (this.valueFromJulia[\"index\"]=true, this.model[\"index\"](val)) : undefined})"
             ],
             "options_js": [
              "(function (val){return (val!=this.model[\"options_js\"]()) ? (this.valueFromJulia[\"options_js\"]=true, this.model[\"options_js\"](val)) : undefined})"
             ]
            },
            "id": "12951940940876975593",
            "imports": {
             "data": [
              {
               "name": "knockout",
               "type": "js",
               "url": "/assetserver/bf3e344bbbe45b806bbda88c6101232eb1f7318f-knockout.js"
              },
              {
               "name": "knockout_punches",
               "type": "js",
               "url": "/assetserver/3ad363ca1664d7335dff0eabc7ebe7d829397430-knockout_punches.js"
              },
              {
               "name": null,
               "type": "js",
               "url": "/assetserver/c17843d82807177c96402335f7810c38fb70de05-all.js"
              },
              {
               "name": null,
               "type": "css",
               "url": "/assetserver/cf9b1ef11d5ef7ab3ff5a3942d24ca77dcb679d2-style.css"
              },
              {
               "name": null,
               "type": "css",
               "url": "/assetserver/c591c2d5f890a3e4541fd6b806094298d3ec794b-bulma_confined.min.css"
              }
             ],
             "type": "async_block"
            },
            "mount_callbacks": [
             "function () {\n    var handler = (function (ko, koPunches) {\n    ko.punches.enableAll();\n    ko.bindingHandlers.numericValue = {\n        init: function(element, valueAccessor, allBindings, data, context) {\n            var stringified = ko.observable(ko.unwrap(valueAccessor()));\n            stringified.subscribe(function(value) {\n                var val = parseFloat(value);\n                if (!isNaN(val)) {\n                    valueAccessor()(val);\n                }\n            });\n            valueAccessor().subscribe(function(value) {\n                var str = JSON.stringify(value);\n                if ((str == \"0\") && ([\"-0\", \"-0.\"].indexOf(stringified()) >= 0))\n                     return;\n                 if ([\"null\", \"\"].indexOf(str) >= 0)\n                     return;\n                stringified(str);\n            });\n            ko.applyBindingsToNode(\n                element,\n                {\n                    value: stringified,\n                    valueUpdate: allBindings.get('valueUpdate'),\n                },\n                context,\n            );\n        }\n    };\n    var json_data = {\"options_js\":WebIO.getval({\"name\":\"options_js\",\"scope\":\"12951940940876975593\",\"id\":\"ob_05\",\"type\":\"observable\"}),\"index\":WebIO.getval({\"name\":\"index\",\"scope\":\"12951940940876975593\",\"id\":\"ob_04\",\"type\":\"observable\"})};\n    var self = this;\n    function AppViewModel() {\n        for (var key in json_data) {\n            var el = json_data[key];\n            this[key] = Array.isArray(el) ? ko.observableArray(el) : ko.observable(el);\n        }\n        [this[\"update\"]=function (val) {this.index(val)}]\n        \n        [this[\"options_js\"].subscribe((function (val){!(this.valueFromJulia[\"options_js\"]) ? (WebIO.setval({\"name\":\"options_js\",\"scope\":\"12951940940876975593\",\"id\":\"ob_05\",\"type\":\"observable\"},val)) : undefined; return this.valueFromJulia[\"options_js\"]=false}),self),this[\"index\"].subscribe((function (val){!(this.valueFromJulia[\"index\"]) ? (WebIO.setval({\"name\":\"index\",\"scope\":\"12951940940876975593\",\"id\":\"ob_04\",\"type\":\"observable\"},val)) : undefined; return this.valueFromJulia[\"index\"]=false}),self)]\n        \n    }\n    self.model = new AppViewModel();\n    self.valueFromJulia = {};\n    for (var key in json_data) {\n        self.valueFromJulia[key] = false;\n    }\n    ko.applyBindings(self.model, self.dom);\n}\n);\n    (WebIO.importBlock({\"data\":[{\"name\":\"knockout\",\"type\":\"js\",\"url\":\"/assetserver/bf3e344bbbe45b806bbda88c6101232eb1f7318f-knockout.js\"},{\"name\":\"knockout_punches\",\"type\":\"js\",\"url\":\"/assetserver/3ad363ca1664d7335dff0eabc7ebe7d829397430-knockout_punches.js\"}],\"type\":\"async_block\"})).then((imports) => handler.apply(this, imports));\n}\n"
            ],
            "observables": {
             "index": {
              "id": "ob_04",
              "sync": true,
              "value": 1
             },
             "options_js": {
              "id": "ob_05",
              "sync": false,
              "value": [
               {
                "id": "idXVbXfyH5",
                "key": "Int64",
                "val": 1
               },
               {
                "id": "idjEdRbz7h",
                "key": "Signed",
                "val": 2
               },
               {
                "id": "idib9npT7A",
                "key": "Integer",
                "val": 3
               },
               {
                "id": "idqu6K38tY",
                "key": "Real",
                "val": 4
               },
               {
                "id": "idMrVGeE9z",
                "key": "Number",
                "val": 5
               }
              ]
             }
            },
            "systemjs_options": null
           },
           "nodeType": "Scope",
           "props": {},
           "type": "node"
          }
         ],
         "instanceArgs": {
          "namespace": "html",
          "tag": "div"
         },
         "nodeType": "DOM",
         "props": {
          "className": "interact-widget"
         },
         "type": "node"
        },
        {
         "children": [
          {
           "children": [],
           "instanceArgs": {
            "id": "ob_11",
            "name": "obs-node"
           },
           "nodeType": "ObservableNode",
           "props": {},
           "type": "node"
          }
         ],
         "instanceArgs": {
          "handlers": {},
          "id": "15529367745016509356",
          "imports": {
           "data": [],
           "type": "async_block"
          },
          "mount_callbacks": [],
          "observables": {
           "obs-node": {
            "id": "ob_11",
            "sync": false,
            "value": {
             "children": [
              {
               "children": [],
               "instanceArgs": {
                "namespace": "html",
                "tag": "div"
               },
               "nodeType": "DOM",
               "props": {
                "setInnerHtml": "<?xml version=\"1.0\" encoding=\"utf-8\"?>\n<svg xmlns=\"http://www.w3.org/2000/svg\" xmlns:xlink=\"http://www.w3.org/1999/xlink\" width=\"800\" height=\"800\" viewBox=\"0 0 3200 3200\">\n<defs>\n  <clipPath id=\"clip4600\">\n    <rect x=\"0\" y=\"0\" width=\"3200\" height=\"3200\"/>\n  </clipPath>\n</defs>\n<polygon clip-path=\"url(#clip4600)\" points=\"\n0,3200 3200,3200 3200,0 0,0 \n  \" fill=\"#ffffff\" fill-rule=\"evenodd\" fill-opacity=\"1\"/>\n<defs>\n  <clipPath id=\"clip4601\">\n    <rect x=\"640\" y=\"320\" width=\"2241\" height=\"2241\"/>\n  </clipPath>\n</defs>\n<polygon clip-path=\"url(#clip4600)\" points=\"\n94.9921,3105.01 3152.76,3105.01 3152.76,47.2441 94.9921,47.2441 \n  \" fill=\"#ffffff\" fill-rule=\"evenodd\" fill-opacity=\"1\"/>\n<defs>\n  <clipPath id=\"clip4602\">\n    <rect x=\"94\" y=\"47\" width=\"3059\" height=\"3059\"/>\n  </clipPath>\n</defs>\n<polyline clip-path=\"url(#clip4602)\" style=\"stroke:#d968a2; stroke-width:4; stroke-opacity:1; fill:none\" points=\"\n  185.168,133.785 185.156,154.4 185.119,175.451 185.06,196.906 184.98,218.733 184.881,240.899 184.766,263.373 184.635,286.121 184.491,309.111 184.335,332.312 \n  184.169,355.69 183.996,379.214 183.816,402.851 183.631,426.569 183.444,450.335 183.256,474.117 183.069,497.884 182.885,521.601 182.705,545.238 182.531,568.762 \n  182.366,592.14 182.21,615.341 182.066,638.331 181.935,661.08 181.82,683.553 181.721,705.719 181.641,727.546 181.582,749.002 181.545,770.053 181.533,790.668 \n  \n  \"/>\n<polyline clip-path=\"url(#clip4602)\" style=\"stroke:#d968a2; stroke-width:4; stroke-opacity:1; fill:none\" points=\"\n  181.533,790.668 191.586,808.691 220.801,826.156 267.757,843.105 331.036,859.578 409.218,875.618 500.883,891.265 604.613,906.561 718.988,921.548 842.589,936.265 \n  973.995,950.756 1111.79,965.06 1254.55,979.22 1400.86,993.277 1549.3,1007.27 1698.45,1021.25 1846.89,1035.24 1993.2,1049.3 2135.96,1063.46 2273.75,1077.76 \n  2405.16,1092.25 2528.76,1106.97 2643.13,1121.96 2746.86,1137.25 2838.53,1152.9 2916.71,1168.94 2979.99,1185.41 3026.95,1202.36 3056.16,1219.83 3066.22,1237.85 \n  \n  \"/>\n<polyline clip-path=\"url(#clip4602)\" style=\"stroke:#d968a2; stroke-width:4; stroke-opacity:1; fill:none\" points=\"\n  3066.22,1237.85 3059.47,1255.03 3039.89,1272.15 3008.4,1289.22 2965.97,1306.24 2913.55,1323.22 2852.09,1340.16 2782.54,1357.06 2705.85,1373.94 2622.97,1390.79 \n  2534.86,1407.61 2442.47,1424.42 2346.75,1441.21 2248.65,1457.99 2149.12,1474.77 2049.11,1491.54 1949.58,1508.31 1851.48,1525.1 1755.76,1541.89 1663.37,1558.69 \n  1575.26,1575.52 1492.38,1592.37 1415.69,1609.24 1346.14,1626.15 1284.68,1643.09 1232.26,1660.06 1189.83,1677.09 1158.35,1694.16 1138.76,1711.28 1132.02,1728.46 \n  \n  \"/>\n<polyline clip-path=\"url(#clip4602)\" style=\"stroke:#d968a2; stroke-width:4; stroke-opacity:1; fill:none\" points=\"\n  1132.02,1728.46 1132.53,1748.77 1134.01,1769.52 1136.39,1790.66 1139.61,1812.17 1143.58,1834.01 1148.23,1856.15 1153.5,1878.57 1159.3,1901.22 1165.58,1924.07 \n  1172.25,1947.1 1179.24,1970.27 1186.49,1993.56 1193.92,2016.92 1201.46,2040.33 1209.03,2063.76 1216.57,2087.17 1223.99,2110.53 1231.24,2133.81 1238.24,2156.99 \n  1244.91,2180.02 1251.18,2202.87 1256.99,2225.52 1262.26,2247.93 1266.91,2270.07 1270.88,2291.92 1274.09,2313.42 1276.48,2334.57 1277.96,2355.31 1278.47,2375.63 \n  \n  \"/>\n<polyline clip-path=\"url(#clip4602)\" style=\"stroke:#d968a2; stroke-width:4; stroke-opacity:1; fill:none\" points=\"\n  1278.47,2375.63 1278.57,2395.81 1278.87,2416.41 1279.35,2437.4 1279.99,2458.76 1280.78,2480.46 1281.72,2502.45 1282.77,2524.71 1283.93,2547.21 1285.19,2569.91 \n  1286.52,2592.79 1287.92,2615.81 1289.38,2638.94 1290.86,2662.16 1292.37,2685.41 1293.89,2708.69 1295.4,2731.94 1296.88,2755.15 1298.33,2778.29 1299.73,2801.31 \n  1301.07,2824.18 1302.33,2846.89 1303.49,2869.39 1304.54,2891.65 1305.47,2913.64 1306.27,2935.33 1306.91,2956.69 1307.39,2977.69 1307.69,2998.29 1307.79,3018.47 \n  \n  \"/>\n<polygon clip-path=\"url(#clip4600)\" points=\"\n185.168,194.618 230.285,191.641 270.985,183 303.285,169.542 324.022,152.583 331.168,133.785 324.022,114.986 303.285,98.0276 270.985,84.5694 230.285,75.9286 \n  185.168,72.9512 140.052,75.9286 99.3516,84.5694 67.0517,98.0276 46.314,114.986 39.1682,133.785 46.314,152.583 67.0517,169.542 99.3516,183 140.052,191.641 \n  185.168,194.618 \n  \" fill=\"#000000\" fill-rule=\"evenodd\" fill-opacity=\"1\"/>\n<polygon clip-path=\"url(#clip4600)\" points=\"\n185.168,192.118 228.431,189.263 267.458,180.977 298.431,168.072 318.316,151.811 325.168,133.785 318.316,115.759 298.431,99.4971 267.458,86.5919 228.431,78.3063 \n  185.168,75.4512 141.906,78.3063 102.878,86.5919 71.9058,99.4971 52.0203,115.759 45.1682,133.785 52.0203,151.811 71.9058,168.072 102.878,180.977 141.906,189.263 \n  185.168,192.118 \n  \" fill=\"#009af9\" fill-rule=\"evenodd\" fill-opacity=\"1\"/>\n<polygon clip-path=\"url(#clip4600)\" points=\"\n181.533,850.251 269.911,847.335 349.639,838.872 412.911,825.69 453.535,809.08 467.533,790.668 453.535,772.256 412.911,755.646 349.639,742.464 269.911,734.001 \n  181.533,731.085 93.1537,734.001 13.426,742.464 -49.8463,755.646 -90.4696,772.256 -104.467,790.668 -90.4696,809.08 -49.8463,825.69 13.426,838.872 93.1537,847.335 \n  181.533,850.251 \n  \" fill=\"#000000\" fill-rule=\"evenodd\" fill-opacity=\"1\"/>\n<polygon clip-path=\"url(#clip4600)\" points=\"\n181.533,849.001 268.057,846.146 346.112,837.861 408.057,824.955 447.828,808.694 461.533,790.668 447.828,772.642 408.057,756.38 346.112,743.475 268.057,735.19 \n  181.533,732.335 95.0079,735.19 16.9527,743.475 -44.9921,756.38 -84.7632,772.642 -98.4674,790.668 -84.7632,808.694 -44.9921,824.955 16.9527,837.861 95.0079,846.146 \n  181.533,849.001 \n  \" fill=\"#009af9\" fill-rule=\"evenodd\" fill-opacity=\"1\"/>\n<polygon clip-path=\"url(#clip4600)\" points=\"\n3066.22,1298.06 3125.75,1295.11 3179.46,1286.56 3222.09,1273.24 3249.45,1256.45 3258.88,1237.85 3249.45,1219.24 3222.09,1202.46 3179.46,1189.14 3125.75,1180.59 \n  3066.22,1177.64 3006.68,1180.59 2952.97,1189.14 2910.34,1202.46 2882.98,1219.24 2873.55,1237.85 2882.98,1256.45 2910.34,1273.24 2952.97,1286.56 3006.68,1295.11 \n  3066.22,1298.06 \n  \" fill=\"#000000\" fill-rule=\"evenodd\" fill-opacity=\"1\"/>\n<polygon clip-path=\"url(#clip4600)\" points=\"\n3066.22,1296.18 3123.9,1293.33 3175.94,1285.04 3217.23,1272.14 3243.75,1255.87 3252.88,1237.85 3243.75,1219.82 3217.23,1203.56 3175.94,1190.66 3123.9,1182.37 \n  3066.22,1179.52 3008.53,1182.37 2956.5,1190.66 2915.2,1203.56 2888.68,1219.82 2879.55,1237.85 2888.68,1255.87 2915.2,1272.14 2956.5,1285.04 3008.53,1293.33 \n  3066.22,1296.18 \n  \" fill=\"#009af9\" fill-rule=\"evenodd\" fill-opacity=\"1\"/>\n<polygon clip-path=\"url(#clip4600)\" points=\"\n1132.02,1787.86 1234.82,1784.95 1327.55,1776.51 1401.15,1763.37 1448.4,1746.81 1464.68,1728.46 1448.4,1710.1 1401.15,1693.54 1327.55,1680.4 1234.82,1671.96 \n  1132.02,1669.05 1029.22,1671.96 936.48,1680.4 862.883,1693.54 815.631,1710.1 799.35,1728.46 815.631,1746.81 862.883,1763.37 936.48,1776.51 1029.22,1784.95 \n  1132.02,1787.86 \n  \" fill=\"#000000\" fill-rule=\"evenodd\" fill-opacity=\"1\"/>\n<polygon clip-path=\"url(#clip4600)\" points=\"\n1132.02,1786.79 1232.96,1783.93 1324.03,1775.65 1396.3,1762.74 1442.69,1746.48 1458.68,1728.46 1442.69,1710.43 1396.3,1694.17 1324.03,1681.26 1232.96,1672.98 \n  1132.02,1670.12 1031.07,1672.98 940.006,1681.26 867.737,1694.17 821.338,1710.43 805.35,1728.46 821.338,1746.48 867.737,1762.74 940.006,1775.65 1031.07,1783.93 \n  1132.02,1786.79 \n  \" fill=\"#009af9\" fill-rule=\"evenodd\" fill-opacity=\"1\"/>\n<polygon clip-path=\"url(#clip4600)\" points=\"\n1278.47,2435.22 1366.85,2432.3 1446.58,2423.84 1509.85,2410.65 1550.47,2394.04 1564.47,2375.63 1550.47,2357.22 1509.85,2340.61 1446.58,2327.43 1366.85,2318.96 \n  1278.47,2316.05 1190.09,2318.96 1110.36,2327.43 1047.09,2340.61 1006.47,2357.22 992.47,2375.63 1006.47,2394.04 1047.09,2410.65 1110.36,2423.84 1190.09,2432.3 \n  1278.47,2435.22 \n  \" fill=\"#000000\" fill-rule=\"evenodd\" fill-opacity=\"1\"/>\n<polygon clip-path=\"url(#clip4600)\" points=\"\n1278.47,2433.97 1364.99,2431.11 1443.05,2422.82 1504.99,2409.92 1544.77,2393.66 1558.47,2375.63 1544.77,2357.61 1504.99,2341.34 1443.05,2328.44 1364.99,2320.15 \n  1278.47,2317.3 1191.95,2320.15 1113.89,2328.44 1051.95,2341.34 1012.17,2357.61 998.47,2375.63 1012.17,2393.66 1051.95,2409.92 1113.89,2422.82 1191.95,2431.11 \n  1278.47,2433.97 \n  \" fill=\"#009af9\" fill-rule=\"evenodd\" fill-opacity=\"1\"/>\n<polygon clip-path=\"url(#clip4600)\" points=\"\n1307.79,3078.3 1381.75,3075.37 1448.46,3066.87 1501.41,3053.64 1535.41,3036.96 1547.12,3018.47 1535.41,2999.98 1501.41,2983.3 1448.46,2970.06 1381.75,2961.56 \n  1307.79,2958.63 1233.83,2961.56 1167.11,2970.06 1114.16,2983.3 1080.17,2999.98 1068.45,3018.47 1080.17,3036.96 1114.16,3053.64 1167.11,3066.87 1233.83,3075.37 \n  1307.79,3078.3 \n  \" fill=\"#000000\" fill-rule=\"evenodd\" fill-opacity=\"1\"/>\n<polygon clip-path=\"url(#clip4600)\" points=\"\n1307.79,3076.8 1379.89,3073.95 1444.94,3065.66 1496.56,3052.75 1529.7,3036.49 1541.12,3018.47 1529.7,3000.44 1496.56,2984.18 1444.94,2971.27 1379.89,2962.99 \n  1307.79,2960.13 1235.68,2962.99 1170.64,2971.27 1119.02,2984.18 1085.87,3000.44 1074.45,3018.47 1085.87,3036.49 1119.02,3052.75 1170.64,3065.66 1235.68,3073.95 \n  1307.79,3076.8 \n  \" fill=\"#009af9\" fill-rule=\"evenodd\" fill-opacity=\"1\"/>\n<g clip-path=\"url(#clip4600)\">\n<text style=\"fill:#000000; fill-opacity:1; font-family:Arial,Helvetica Neue,Helvetica,sans-serif; font-size:82px; text-anchor:middle;\" transform=\"rotate(0, 185.168, 163.785)\" x=\"185.168\" y=\"163.785\">Any</text>\n</g>\n<g clip-path=\"url(#clip4600)\">\n<text style=\"fill:#000000; fill-opacity:1; font-family:Arial,Helvetica Neue,Helvetica,sans-serif; font-size:82px; text-anchor:middle;\" transform=\"rotate(0, 181.533, 820.668)\" x=\"181.533\" y=\"820.668\">Number</text>\n</g>\n<g clip-path=\"url(#clip4600)\">\n<text style=\"fill:#000000; fill-opacity:1; font-family:Arial,Helvetica Neue,Helvetica,sans-serif; font-size:82px; text-anchor:middle;\" transform=\"rotate(0, 3066.22, 1267.85)\" x=\"3066.22\" y=\"1267.85\">Real</text>\n</g>\n<g clip-path=\"url(#clip4600)\">\n<text style=\"fill:#000000; fill-opacity:1; font-family:Arial,Helvetica Neue,Helvetica,sans-serif; font-size:82px; text-anchor:middle;\" transform=\"rotate(0, 1132.02, 1758.46)\" x=\"1132.02\" y=\"1758.46\">Integer</text>\n</g>\n<g clip-path=\"url(#clip4600)\">\n<text style=\"fill:#000000; fill-opacity:1; font-family:Arial,Helvetica Neue,Helvetica,sans-serif; font-size:82px; text-anchor:middle;\" transform=\"rotate(0, 1278.47, 2405.63)\" x=\"1278.47\" y=\"2405.63\">Signed</text>\n</g>\n<g clip-path=\"url(#clip4600)\">\n<text style=\"fill:#000000; fill-opacity:1; font-family:Arial,Helvetica Neue,Helvetica,sans-serif; font-size:82px; text-anchor:middle;\" transform=\"rotate(0, 1307.79, 3048.47)\" x=\"1307.79\" y=\"3048.47\">Int64</text>\n</g>\n</svg>\n"
               },
               "type": "node"
              }
             ],
             "instanceArgs": {
              "namespace": "html",
              "tag": "div"
             },
             "nodeType": "DOM",
             "props": {
              "className": "interact-flex-row interact-widget"
             },
             "type": "node"
            }
           }
          },
          "systemjs_options": null
         },
         "nodeType": "Scope",
         "props": {},
         "type": "node"
        }
       ],
       "instanceArgs": {
        "namespace": "html",
        "tag": "div"
       },
       "nodeType": "DOM",
       "props": {},
       "type": "node"
      },
      "text/html": [
       "<div\n",
       "    class=\"webio-mountpoint\"\n",
       "    data-webio-mountpoint=\"17323727994885450972\"\n",
       ">\n",
       "    <script>\n",
       "    if (window.require && require.defined && require.defined(\"nbextensions/webio-jupyter-notebook\")) {\n",
       "        console.log(\"Jupyter WebIO extension detected, not mounting.\");\n",
       "    } else if (window.WebIO) {\n",
       "        WebIO.mount(\n",
       "            document.querySelector('[data-webio-mountpoint=\"17323727994885450972\"]'),\n",
       "            {\"props\":{},\"nodeType\":\"DOM\",\"type\":\"node\",\"instanceArgs\":{\"namespace\":\"html\",\"tag\":\"div\"},\"children\":[{\"props\":{\"className\":\"interact-widget\"},\"nodeType\":\"DOM\",\"type\":\"node\",\"instanceArgs\":{\"namespace\":\"html\",\"tag\":\"div\"},\"children\":[{\"props\":{},\"nodeType\":\"Scope\",\"type\":\"node\",\"instanceArgs\":{\"imports\":{\"data\":[{\"name\":\"knockout\",\"type\":\"js\",\"url\":\"\\/assetserver\\/bf3e344bbbe45b806bbda88c6101232eb1f7318f-knockout.js\"},{\"name\":\"knockout_punches\",\"type\":\"js\",\"url\":\"\\/assetserver\\/3ad363ca1664d7335dff0eabc7ebe7d829397430-knockout_punches.js\"},{\"name\":null,\"type\":\"js\",\"url\":\"\\/assetserver\\/c17843d82807177c96402335f7810c38fb70de05-all.js\"},{\"name\":null,\"type\":\"css\",\"url\":\"\\/assetserver\\/cf9b1ef11d5ef7ab3ff5a3942d24ca77dcb679d2-style.css\"},{\"name\":null,\"type\":\"css\",\"url\":\"\\/assetserver\\/c591c2d5f890a3e4541fd6b806094298d3ec794b-bulma_confined.min.css\"}],\"type\":\"async_block\"},\"id\":\"12951940940876975593\",\"handlers\":{\"options_js\":[\"(function (val){return (val!=this.model[\\\"options_js\\\"]()) ? (this.valueFromJulia[\\\"options_js\\\"]=true, this.model[\\\"options_js\\\"](val)) : undefined})\"],\"index\":[\"(function (val){return (val!=this.model[\\\"index\\\"]()) ? (this.valueFromJulia[\\\"index\\\"]=true, this.model[\\\"index\\\"](val)) : undefined})\"]},\"systemjs_options\":null,\"mount_callbacks\":[\"function () {\\n    var handler = (function (ko, koPunches) {\\n    ko.punches.enableAll();\\n    ko.bindingHandlers.numericValue = {\\n        init: function(element, valueAccessor, allBindings, data, context) {\\n            var stringified = ko.observable(ko.unwrap(valueAccessor()));\\n            stringified.subscribe(function(value) {\\n                var val = parseFloat(value);\\n                if (!isNaN(val)) {\\n                    valueAccessor()(val);\\n                }\\n            });\\n            valueAccessor().subscribe(function(value) {\\n                var str = JSON.stringify(value);\\n                if ((str == \\\"0\\\") && ([\\\"-0\\\", \\\"-0.\\\"].indexOf(stringified()) >= 0))\\n                     return;\\n                 if ([\\\"null\\\", \\\"\\\"].indexOf(str) >= 0)\\n                     return;\\n                stringified(str);\\n            });\\n            ko.applyBindingsToNode(\\n                element,\\n                {\\n                    value: stringified,\\n                    valueUpdate: allBindings.get('valueUpdate'),\\n                },\\n                context,\\n            );\\n        }\\n    };\\n    var json_data = {\\\"options_js\\\":WebIO.getval({\\\"name\\\":\\\"options_js\\\",\\\"scope\\\":\\\"12951940940876975593\\\",\\\"id\\\":\\\"ob_05\\\",\\\"type\\\":\\\"observable\\\"}),\\\"index\\\":WebIO.getval({\\\"name\\\":\\\"index\\\",\\\"scope\\\":\\\"12951940940876975593\\\",\\\"id\\\":\\\"ob_04\\\",\\\"type\\\":\\\"observable\\\"})};\\n    var self = this;\\n    function AppViewModel() {\\n        for (var key in json_data) {\\n            var el = json_data[key];\\n            this[key] = Array.isArray(el) ? ko.observableArray(el) : ko.observable(el);\\n        }\\n        [this[\\\"update\\\"]=function (val) {this.index(val)}]\\n        \\n        [this[\\\"options_js\\\"].subscribe((function (val){!(this.valueFromJulia[\\\"options_js\\\"]) ? (WebIO.setval({\\\"name\\\":\\\"options_js\\\",\\\"scope\\\":\\\"12951940940876975593\\\",\\\"id\\\":\\\"ob_05\\\",\\\"type\\\":\\\"observable\\\"},val)) : undefined; return this.valueFromJulia[\\\"options_js\\\"]=false}),self),this[\\\"index\\\"].subscribe((function (val){!(this.valueFromJulia[\\\"index\\\"]) ? (WebIO.setval({\\\"name\\\":\\\"index\\\",\\\"scope\\\":\\\"12951940940876975593\\\",\\\"id\\\":\\\"ob_04\\\",\\\"type\\\":\\\"observable\\\"},val)) : undefined; return this.valueFromJulia[\\\"index\\\"]=false}),self)]\\n        \\n    }\\n    self.model = new AppViewModel();\\n    self.valueFromJulia = {};\\n    for (var key in json_data) {\\n        self.valueFromJulia[key] = false;\\n    }\\n    ko.applyBindings(self.model, self.dom);\\n}\\n);\\n    (WebIO.importBlock({\\\"data\\\":[{\\\"name\\\":\\\"knockout\\\",\\\"type\\\":\\\"js\\\",\\\"url\\\":\\\"\\/assetserver\\/bf3e344bbbe45b806bbda88c6101232eb1f7318f-knockout.js\\\"},{\\\"name\\\":\\\"knockout_punches\\\",\\\"type\\\":\\\"js\\\",\\\"url\\\":\\\"\\/assetserver\\/3ad363ca1664d7335dff0eabc7ebe7d829397430-knockout_punches.js\\\"}],\\\"type\\\":\\\"async_block\\\"})).then((imports) => handler.apply(this, imports));\\n}\\n\"],\"observables\":{\"options_js\":{\"sync\":false,\"id\":\"ob_05\",\"value\":[{\"key\":\"Int64\",\"val\":1,\"id\":\"idXVbXfyH5\"},{\"key\":\"Signed\",\"val\":2,\"id\":\"idjEdRbz7h\"},{\"key\":\"Integer\",\"val\":3,\"id\":\"idib9npT7A\"},{\"key\":\"Real\",\"val\":4,\"id\":\"idqu6K38tY\"},{\"key\":\"Number\",\"val\":5,\"id\":\"idMrVGeE9z\"}]},\"index\":{\"sync\":true,\"id\":\"ob_04\",\"value\":1}}},\"children\":[{\"props\":{\"className\":\"interact-flex-row interact-widget\"},\"nodeType\":\"DOM\",\"type\":\"node\",\"instanceArgs\":{\"namespace\":\"html\",\"tag\":\"div\"},\"children\":[{\"props\":{\"className\":\"interact-flex-row-left\"},\"nodeType\":\"DOM\",\"type\":\"node\",\"instanceArgs\":{\"namespace\":\"html\",\"tag\":\"div\"},\"children\":[{\"props\":{\"className\":\"interact \",\"style\":{\"padding\":\"5px 10px 0px 10px\"}},\"nodeType\":\"DOM\",\"type\":\"node\",\"instanceArgs\":{\"namespace\":\"html\",\"tag\":\"label\"},\"children\":[\"T\"]}]},{\"props\":{\"className\":\"interact-flex-row-center\"},\"nodeType\":\"DOM\",\"type\":\"node\",\"instanceArgs\":{\"namespace\":\"html\",\"tag\":\"div\"},\"children\":[{\"props\":{\"attributes\":{\"data-bind\":\"foreach : options_js\"},\"className\":\"buttons has-addons is-centered\"},\"nodeType\":\"DOM\",\"type\":\"node\",\"instanceArgs\":{\"namespace\":\"html\",\"tag\":\"div\"},\"children\":[{\"props\":{\"attributes\":{\"data-bind\":\"click: function (){$root.update(val)}, css: {'is-primary is-selected' : $root.index() == val, 'interact-widget is-medium button ' : true}\"}},\"nodeType\":\"DOM\",\"type\":\"node\",\"instanceArgs\":{\"namespace\":\"html\",\"tag\":\"span\"},\"children\":[{\"props\":{\"attributes\":{\"data-bind\":\"text : key\"}},\"nodeType\":\"DOM\",\"type\":\"node\",\"instanceArgs\":{\"namespace\":\"html\",\"tag\":\"label\"},\"children\":[]}]}]}]},{\"props\":{\"className\":\"interact-flex-row-right\"},\"nodeType\":\"DOM\",\"type\":\"node\",\"instanceArgs\":{\"namespace\":\"html\",\"tag\":\"div\"},\"children\":[{\"props\":{},\"nodeType\":\"DOM\",\"type\":\"node\",\"instanceArgs\":{\"namespace\":\"html\",\"tag\":\"div\"},\"children\":[]}]}]}]}]},{\"props\":{},\"nodeType\":\"Scope\",\"type\":\"node\",\"instanceArgs\":{\"imports\":{\"data\":[],\"type\":\"async_block\"},\"id\":\"15713253190125208142\",\"handlers\":{},\"systemjs_options\":null,\"mount_callbacks\":[],\"observables\":{\"obs-node\":{\"sync\":false,\"id\":\"ob_09\",\"value\":{\"props\":{\"className\":\"interact-flex-row interact-widget\"},\"nodeType\":\"DOM\",\"type\":\"node\",\"instanceArgs\":{\"namespace\":\"html\",\"tag\":\"div\"},\"children\":[{\"props\":{\"setInnerHtml\":\"<?xml version=\\\"1.0\\\" encoding=\\\"utf-8\\\"?>\\n<svg xmlns=\\\"http:\\/\\/www.w3.org\\/2000\\/svg\\\" xmlns:xlink=\\\"http:\\/\\/www.w3.org\\/1999\\/xlink\\\" width=\\\"800\\\" height=\\\"800\\\" viewBox=\\\"0 0 3200 3200\\\">\\n<defs>\\n  <clipPath id=\\\"clip4200\\\">\\n    <rect x=\\\"0\\\" y=\\\"0\\\" width=\\\"3200\\\" height=\\\"3200\\\"\\/>\\n  <\\/clipPath>\\n<\\/defs>\\n<polygon clip-path=\\\"url(#clip4200)\\\" points=\\\"\\n0,3200 3200,3200 3200,0 0,0 \\n  \\\" fill=\\\"#ffffff\\\" fill-rule=\\\"evenodd\\\" fill-opacity=\\\"1\\\"\\/>\\n<defs>\\n  <clipPath id=\\\"clip4201\\\">\\n    <rect x=\\\"640\\\" y=\\\"320\\\" width=\\\"2241\\\" height=\\\"2241\\\"\\/>\\n  <\\/clipPath>\\n<\\/defs>\\n<polygon clip-path=\\\"url(#clip4200)\\\" points=\\\"\\n86.9921,3121.01 3152.76,3121.01 3152.76,47.2441 86.9921,47.2441 \\n  \\\" fill=\\\"#ffffff\\\" fill-rule=\\\"evenodd\\\" fill-opacity=\\\"1\\\"\\/>\\n<defs>\\n  <clipPath id=\\\"clip4202\\\">\\n    <rect x=\\\"86\\\" y=\\\"47\\\" width=\\\"3067\\\" height=\\\"3075\\\"\\/>\\n  <\\/clipPath>\\n<\\/defs>\\n<polyline clip-path=\\\"url(#clip4202)\\\" style=\\\"stroke:#d968a2; stroke-width:4; stroke-opacity:1; fill:none\\\" points=\\\"\\n  177.404,134.237 177.391,154.96 177.355,176.122 177.295,197.689 177.215,219.63 177.116,241.913 177.001,264.504 176.87,287.371 176.725,310.482 176.569,333.804 \\n  176.403,357.304 176.229,380.951 176.048,404.712 175.863,428.554 175.676,452.444 175.487,476.351 175.3,500.242 175.115,524.083 174.935,547.844 174.76,571.491 \\n  174.594,594.992 174.438,618.314 174.294,641.424 174.163,664.292 174.047,686.883 173.948,709.165 173.868,731.106 173.809,752.674 173.772,773.835 173.759,794.558 \\n  \\n  \\\"\\/>\\n<polyline clip-path=\\\"url(#clip4202)\\\" style=\\\"stroke:#d968a2; stroke-width:4; stroke-opacity:1; fill:none\\\" points=\\\"\\n  173.759,794.558 183.839,812.675 213.13,830.232 260.209,847.269 323.654,863.829 402.04,879.953 493.945,895.682 597.946,911.058 712.621,926.123 836.544,940.917 \\n  968.295,955.483 1106.45,969.863 1249.58,984.097 1396.28,998.227 1545.1,1012.29 1694.64,1026.34 1843.47,1040.41 1990.16,1054.54 2133.3,1068.77 2271.45,1083.15 \\n  2403.2,1097.72 2527.13,1112.51 2641.8,1127.58 2745.8,1142.95 2837.71,1158.68 2916.09,1174.81 2979.54,1191.37 3026.62,1208.4 3055.91,1225.96 3065.99,1244.08 \\n  \\n  \\\"\\/>\\n<polyline clip-path=\\\"url(#clip4202)\\\" style=\\\"stroke:#d968a2; stroke-width:4; stroke-opacity:1; fill:none\\\" points=\\\"\\n  3065.99,1244.08 3059.23,1261.35 3039.59,1278.56 3008.02,1295.72 2965.48,1312.83 2912.93,1329.9 2851.3,1346.92 2781.57,1363.92 2704.68,1380.88 2621.59,1397.82 \\n  2533.25,1414.73 2440.61,1431.62 2344.64,1448.5 2246.28,1465.37 2146.49,1482.23 2046.23,1499.1 1946.44,1515.96 1848.08,1532.83 1752.1,1549.71 1659.47,1566.6 \\n  1571.13,1583.52 1488.04,1600.45 1411.15,1617.41 1341.42,1634.41 1279.79,1651.44 1227.23,1668.5 1184.69,1685.62 1153.13,1702.77 1133.49,1719.99 1126.73,1737.25 \\n  \\n  \\\"\\/>\\n<polyline clip-path=\\\"url(#clip4202)\\\" style=\\\"stroke:#d968a2; stroke-width:4; stroke-opacity:1; fill:none\\\" points=\\\"\\n  1126.73,1737.25 1127.24,1757.68 1128.73,1778.53 1131.12,1799.79 1134.34,1821.41 1138.32,1843.36 1142.99,1865.62 1148.27,1888.15 1154.09,1910.92 1160.38,1933.89 \\n  1167.07,1957.04 1174.08,1980.34 1181.35,2003.74 1188.8,2027.23 1196.35,2050.76 1203.94,2074.31 1211.5,2097.84 1218.95,2121.33 1226.21,2144.73 1233.23,2168.03 \\n  1239.92,2191.18 1246.21,2214.15 1252.03,2236.92 1257.31,2259.45 1261.98,2281.71 1265.96,2303.66 1269.18,2325.28 1271.57,2346.54 1273.05,2367.39 1273.57,2387.82 \\n  \\n  \\\"\\/>\\n<polyline clip-path=\\\"url(#clip4202)\\\" style=\\\"stroke:#d968a2; stroke-width:4; stroke-opacity:1; fill:none\\\" points=\\\"\\n  1273.57,2387.82 1273.67,2408.1 1273.97,2428.8 1274.44,2449.91 1275.09,2471.38 1275.89,2493.19 1276.82,2515.3 1277.88,2537.67 1279.04,2560.29 1280.3,2583.11 \\n  1281.64,2606.11 1283.05,2629.25 1284.5,2652.51 1285.99,2675.84 1287.5,2699.22 1289.02,2722.61 1290.54,2745.99 1292.03,2769.32 1293.48,2792.58 1294.89,2815.72 \\n  1296.22,2838.72 1297.48,2861.54 1298.65,2884.15 1299.71,2906.53 1300.64,2928.64 1301.44,2950.45 1302.08,2971.92 1302.56,2993.03 1302.86,3013.73 1302.96,3034.01 \\n  \\n  \\\"\\/>\\n<polygon clip-path=\\\"url(#clip4200)\\\" points=\\\"\\n177.404,195.071 222.521,192.093 263.221,183.453 295.521,169.994 316.258,153.036 323.404,134.237 316.258,115.439 295.521,98.4805 263.221,85.0222 222.521,76.3815 \\n  177.404,73.4041 132.288,76.3815 91.5875,85.0222 59.2877,98.4805 38.5499,115.439 31.4041,134.237 38.5499,153.036 59.2877,169.994 91.5875,183.453 132.288,192.093 \\n  177.404,195.071 \\n  \\\" fill=\\\"#000000\\\" fill-rule=\\\"evenodd\\\" fill-opacity=\\\"1\\\"\\/>\\n<polygon clip-path=\\\"url(#clip4200)\\\" points=\\\"\\n177.404,192.571 220.667,189.716 259.694,181.43 290.667,168.525 310.552,152.263 317.404,134.237 310.552,116.211 290.667,99.9499 259.694,87.0448 220.667,78.7591 \\n  177.404,75.9041 134.142,78.7591 95.1142,87.0448 64.1418,99.9499 44.2562,116.211 37.4041,134.237 44.2562,152.263 64.1418,168.525 95.1142,181.43 134.142,189.716 \\n  177.404,192.571 \\n  \\\" fill=\\\"#009af9\\\" fill-rule=\\\"evenodd\\\" fill-opacity=\\\"1\\\"\\/>\\n<polygon clip-path=\\\"url(#clip4200)\\\" points=\\\"\\n173.759,854.141 262.138,851.225 341.866,842.762 405.138,829.58 445.761,812.97 459.759,794.558 445.761,776.146 405.138,759.536 341.866,746.354 262.138,737.891 \\n  173.759,734.975 85.3802,737.891 5.65244,746.354 -57.6198,759.536 -98.2431,776.146 -112.241,794.558 -98.2431,812.97 -57.6198,829.58 5.65244,842.762 85.3802,851.225 \\n  173.759,854.141 \\n  \\\" fill=\\\"#000000\\\" fill-rule=\\\"evenodd\\\" fill-opacity=\\\"1\\\"\\/>\\n<polygon clip-path=\\\"url(#clip4200)\\\" points=\\\"\\n173.759,852.891 260.284,850.036 338.339,841.751 400.284,828.845 440.055,812.584 453.759,794.558 440.055,776.532 400.284,760.27 338.339,747.365 260.284,739.08 \\n  173.759,736.225 87.2343,739.08 9.17915,747.365 -52.7657,760.27 -92.5368,776.532 -106.241,794.558 -92.5368,812.584 -52.7657,828.845 9.17915,841.751 87.2343,850.036 \\n  173.759,852.891 \\n  \\\" fill=\\\"#009af9\\\" fill-rule=\\\"evenodd\\\" fill-opacity=\\\"1\\\"\\/>\\n<polygon clip-path=\\\"url(#clip4200)\\\" points=\\\"\\n3065.99,1304.29 3125.53,1301.34 3179.24,1292.79 3221.86,1279.47 3249.23,1262.68 3258.66,1244.08 3249.23,1225.47 3221.86,1208.69 3179.24,1195.37 3125.53,1186.82 \\n  3065.99,1183.87 3006.45,1186.82 2952.74,1195.37 2910.12,1208.69 2882.75,1225.47 2873.32,1244.08 2882.75,1262.68 2910.12,1279.47 2952.74,1292.79 3006.45,1301.34 \\n  3065.99,1304.29 \\n  \\\" fill=\\\"#000000\\\" fill-rule=\\\"evenodd\\\" fill-opacity=\\\"1\\\"\\/>\\n<polygon clip-path=\\\"url(#clip4200)\\\" points=\\\"\\n3065.99,1302.41 3123.67,1299.56 3175.71,1291.27 3217.01,1278.37 3243.52,1262.1 3252.66,1244.08 3243.52,1226.05 3217.01,1209.79 3175.71,1196.89 3123.67,1188.6 \\n  3065.99,1185.75 3008.31,1188.6 2956.27,1196.89 2914.97,1209.79 2888.46,1226.05 2879.32,1244.08 2888.46,1262.1 2914.97,1278.37 2956.27,1291.27 3008.31,1299.56 \\n  3065.99,1302.41 \\n  \\\" fill=\\\"#009af9\\\" fill-rule=\\\"evenodd\\\" fill-opacity=\\\"1\\\"\\/>\\n<polygon clip-path=\\\"url(#clip4200)\\\" points=\\\"\\n1126.73,1796.66 1229.53,1793.75 1322.27,1785.31 1395.86,1772.17 1443.11,1755.61 1459.4,1737.25 1443.11,1718.9 1395.86,1702.33 1322.27,1689.19 1229.53,1680.75 \\n  1126.73,1677.85 1023.93,1680.75 931.193,1689.19 857.596,1702.33 810.345,1718.9 794.063,1737.25 810.345,1755.61 857.596,1772.17 931.193,1785.31 1023.93,1793.75 \\n  1126.73,1796.66 \\n  \\\" fill=\\\"#000000\\\" fill-rule=\\\"evenodd\\\" fill-opacity=\\\"1\\\"\\/>\\n<polygon clip-path=\\\"url(#clip4200)\\\" points=\\\"\\n1126.73,1795.59 1227.67,1792.73 1318.74,1784.44 1391.01,1771.54 1437.41,1755.28 1453.4,1737.25 1437.41,1719.23 1391.01,1702.96 1318.74,1690.06 1227.67,1681.77 \\n  1126.73,1678.92 1025.78,1681.77 934.72,1690.06 862.451,1702.96 816.051,1719.23 800.063,1737.25 816.051,1755.28 862.451,1771.54 934.72,1784.44 1025.78,1792.73 \\n  1126.73,1795.59 \\n  \\\" fill=\\\"#009af9\\\" fill-rule=\\\"evenodd\\\" fill-opacity=\\\"1\\\"\\/>\\n<polygon clip-path=\\\"url(#clip4200)\\\" points=\\\"\\n1273.57,2447.4 1361.95,2444.48 1441.67,2436.02 1504.95,2422.84 1545.57,2406.23 1559.57,2387.82 1545.57,2369.4 1504.95,2352.79 1441.67,2339.61 1361.95,2331.15 \\n  1273.57,2328.23 1185.19,2331.15 1105.46,2339.61 1042.19,2352.79 1001.56,2369.4 987.566,2387.82 1001.56,2406.23 1042.19,2422.84 1105.46,2436.02 1185.19,2444.48 \\n  1273.57,2447.4 \\n  \\\" fill=\\\"#000000\\\" fill-rule=\\\"evenodd\\\" fill-opacity=\\\"1\\\"\\/>\\n<polygon clip-path=\\\"url(#clip4200)\\\" points=\\\"\\n1273.57,2446.15 1360.09,2443.29 1438.15,2435.01 1500.09,2422.1 1539.86,2405.84 1553.57,2387.82 1539.86,2369.79 1500.09,2353.53 1438.15,2340.62 1360.09,2332.34 \\n  1273.57,2329.48 1187.04,2332.34 1108.99,2340.62 1047.04,2353.53 1007.27,2369.79 993.566,2387.82 1007.27,2405.84 1047.04,2422.1 1108.99,2435.01 1187.04,2443.29 \\n  1273.57,2446.15 \\n  \\\" fill=\\\"#009af9\\\" fill-rule=\\\"evenodd\\\" fill-opacity=\\\"1\\\"\\/>\\n<polygon clip-path=\\\"url(#clip4200)\\\" points=\\\"\\n1302.96,3093.85 1376.92,3090.92 1443.64,3082.42 1496.59,3069.18 1530.58,3052.5 1542.29,3034.01 1530.58,3015.53 1496.59,2998.85 1443.64,2985.61 1376.92,2977.11 \\n  1302.96,2974.18 1229,2977.11 1162.28,2985.61 1109.34,2998.85 1075.34,3015.53 1063.63,3034.01 1075.34,3052.5 1109.34,3069.18 1162.28,3082.42 1229,3090.92 \\n  1302.96,3093.85 \\n  \\\" fill=\\\"#000000\\\" fill-rule=\\\"evenodd\\\" fill-opacity=\\\"1\\\"\\/>\\n<polygon clip-path=\\\"url(#clip4200)\\\" points=\\\"\\n1302.96,3092.35 1375.06,3089.49 1440.11,3081.21 1491.73,3068.3 1524.87,3052.04 1536.29,3034.01 1524.87,3015.99 1491.73,2999.73 1440.11,2986.82 1375.06,2978.54 \\n  1302.96,2975.68 1230.86,2978.54 1165.81,2986.82 1114.19,2999.73 1081.05,3015.99 1069.63,3034.01 1081.05,3052.04 1114.19,3068.3 1165.81,3081.21 1230.86,3089.49 \\n  1302.96,3092.35 \\n  \\\" fill=\\\"#009af9\\\" fill-rule=\\\"evenodd\\\" fill-opacity=\\\"1\\\"\\/>\\n<g clip-path=\\\"url(#clip4200)\\\">\\n<text style=\\\"fill:#000000; fill-opacity:1; font-family:Arial,Helvetica Neue,Helvetica,sans-serif; font-size:82px; text-anchor:middle;\\\" transform=\\\"rotate(0, 177.404, 164.237)\\\" x=\\\"177.404\\\" y=\\\"164.237\\\">Any<\\/text>\\n<\\/g>\\n<g clip-path=\\\"url(#clip4200)\\\">\\n<text style=\\\"fill:#000000; fill-opacity:1; font-family:Arial,Helvetica Neue,Helvetica,sans-serif; font-size:82px; text-anchor:middle;\\\" transform=\\\"rotate(0, 173.759, 824.558)\\\" x=\\\"173.759\\\" y=\\\"824.558\\\">Number<\\/text>\\n<\\/g>\\n<g clip-path=\\\"url(#clip4200)\\\">\\n<text style=\\\"fill:#000000; fill-opacity:1; font-family:Arial,Helvetica Neue,Helvetica,sans-serif; font-size:82px; text-anchor:middle;\\\" transform=\\\"rotate(0, 3065.99, 1274.08)\\\" x=\\\"3065.99\\\" y=\\\"1274.08\\\">Real<\\/text>\\n<\\/g>\\n<g clip-path=\\\"url(#clip4200)\\\">\\n<text style=\\\"fill:#000000; fill-opacity:1; font-family:Arial,Helvetica Neue,Helvetica,sans-serif; font-size:82px; text-anchor:middle;\\\" transform=\\\"rotate(0, 1126.73, 1767.25)\\\" x=\\\"1126.73\\\" y=\\\"1767.25\\\">Integer<\\/text>\\n<\\/g>\\n<g clip-path=\\\"url(#clip4200)\\\">\\n<text style=\\\"fill:#000000; fill-opacity:1; font-family:Arial,Helvetica Neue,Helvetica,sans-serif; font-size:82px; text-anchor:middle;\\\" transform=\\\"rotate(0, 1273.57, 2417.82)\\\" x=\\\"1273.57\\\" y=\\\"2417.82\\\">Signed<\\/text>\\n<\\/g>\\n<g clip-path=\\\"url(#clip4200)\\\">\\n<text style=\\\"fill:#000000; fill-opacity:1; font-family:Arial,Helvetica Neue,Helvetica,sans-serif; font-size:82px; text-anchor:middle;\\\" transform=\\\"rotate(0, 1302.96, 3064.01)\\\" x=\\\"1302.96\\\" y=\\\"3064.01\\\">Int64<\\/text>\\n<\\/g>\\n<\\/svg>\\n\"},\"nodeType\":\"DOM\",\"type\":\"node\",\"instanceArgs\":{\"namespace\":\"html\",\"tag\":\"div\"},\"children\":[]}]}}}},\"children\":[{\"props\":{},\"nodeType\":\"ObservableNode\",\"type\":\"node\",\"instanceArgs\":{\"id\":\"ob_09\",\"name\":\"obs-node\"},\"children\":[]}]}]},\n",
       "            window,\n",
       "        );\n",
       "    } else {\n",
       "        document\n",
       "            .querySelector('[data-webio-mountpoint=\"17323727994885450972\"]')\n",
       "            .innerHTML = (\n",
       "                '<strong>WebIO not detected. Please read ' +\n",
       "                '<a href=\"https://juliagizmos.github.io/WebIO.jl/latest/troubleshooting/not-detected/\">the troubleshooting guide</a> ' +\n",
       "                'for more information on how to resolve this issue.' +\n",
       "                '</strong>'\n",
       "            );\n",
       "    }\n",
       "    </script>\n",
       "</div>\n"
      ],
      "text/plain": [
       "Node{WebIO.DOM}(WebIO.DOM(:html, :div), Any[Node{WebIO.DOM}(WebIO.DOM(:html, :div), Any[Scope(Node{WebIO.DOM}(WebIO.DOM(:html, :div), Any[Node{WebIO.DOM}(WebIO.DOM(:html, :div), Any[Node{WebIO.DOM}(WebIO.DOM(:html, :label), Any[\"T\"], Dict{Symbol,Any}(:className => \"interact \",:style => Dict{Any,Any}(:padding => \"5px 10px 0px 10px\")))], Dict{Symbol,Any}(:className => \"interact-flex-row-left\")), Node{WebIO.DOM}(WebIO.DOM(:html, :div), Any[Node{WebIO.DOM}(WebIO.DOM(:html, :div), Any[Node{WebIO.DOM}(WebIO.DOM(:html, :span), Any[Node{WebIO.DOM}(WebIO.DOM(:html, :label), Any[], Dict{Symbol,Any}(:attributes => Dict(\"data-bind\" => \"text : key\")))], Dict{Symbol,Any}(:attributes => Dict(\"data-bind\" => \"click: function (){\\$root.update(val)}, css: {'is-primary is-selected' : \\$root.index() == val, 'interact-widget is-medium button ' : true}\")))], Dict{Symbol,Any}(:attributes => (\"data-bind\" => \"foreach : options_js\"),:className => \"buttons has-addons is-centered\"))], Dict{Symbol,Any}(:className => \"interact-flex-row-center\")), Node{WebIO.DOM}(WebIO.DOM(:html, :div), Any[Node{WebIO.DOM}(WebIO.DOM(:html, :div), Any[], Dict{Symbol,Any}())], Dict{Symbol,Any}(:className => \"interact-flex-row-right\"))], Dict{Symbol,Any}(:className => \"interact-flex-row interact-widget\")), Dict{String,Tuple{Observables.AbstractObservable,Union{Nothing, Bool}}}(\"options_js\" => (Observable{Any} with 1 listeners. Value:\n",
       "OrderedDict[OrderedDict{String,Any}(\"key\" => \"Int64\",\"val\" => 1,\"id\" => \"idXVbXfyH5\"), OrderedDict{String,Any}(\"key\" => \"Signed\",\"val\" => 2,\"id\" => \"idjEdRbz7h\"), OrderedDict{String,Any}(\"key\" => \"Integer\",\"val\" => 3,\"id\" => \"idib9npT7A\"), OrderedDict{String,Any}(\"key\" => \"Real\",\"val\" => 4,\"id\" => \"idqu6K38tY\"), OrderedDict{String,Any}(\"key\" => \"Number\",\"val\" => 5,\"id\" => \"idMrVGeE9z\")], nothing),\"index\" => (Observable{Any} with 2 listeners. Value:\n",
       "1, nothing)), Set(String[]), nothing, Asset[Asset(\"js\", \"knockout\", \"/Users/joday/.julia/packages/Knockout/1sDlc/src/../assets/knockout.js\"), Asset(\"js\", \"knockout_punches\", \"/Users/joday/.julia/packages/Knockout/1sDlc/src/../assets/knockout_punches.js\"), Asset(\"js\", nothing, \"/Users/joday/.julia/packages/InteractBase/9mFwe/src/../assets/all.js\"), Asset(\"css\", nothing, \"/Users/joday/.julia/packages/InteractBase/9mFwe/src/../assets/style.css\"), Asset(\"css\", nothing, \"/Users/joday/.julia/packages/Interact/SbgIk/src/../assets/bulma_confined.min.css\")], Dict{Any,Any}(\"options_js\" => Any[WebIO.JSString(\"(function (val){return (val!=this.model[\\\"options_js\\\"]()) ? (this.valueFromJulia[\\\"options_js\\\"]=true, this.model[\\\"options_js\\\"](val)) : undefined})\")],\"index\" => Any[WebIO.JSString(\"(function (val){return (val!=this.model[\\\"index\\\"]()) ? (this.valueFromJulia[\\\"index\\\"]=true, this.model[\\\"index\\\"](val)) : undefined})\")]), WebIO.ConnectionPool(Channel{Any}(sz_max:32,sz_curr:0), Set(AbstractConnection[]), Base.GenericCondition{Base.AlwaysLockedST}(Base.InvasiveLinkedList{Task}(Task (runnable) @0x00000001346cd450, Task (runnable) @0x00000001346cd450), Base.AlwaysLockedST(1))), WebIO.JSString[WebIO.JSString(\"function () {\\n    var handler = (function (ko, koPunches) {\\n    ko.punches.enableAll();\\n    ko.bindingHandlers.numericValue = {\\n        init: function(element, valueAccessor, allBindings, data, context) {\\n            var stringified = ko.observable(ko.unwrap(valueAccessor()));\\n            stringified.subscribe(function(value) {\\n                var val = parseFloat(value);\\n                if (!isNaN(val)) {\\n                    valueAccessor()(val);\\n                }\\n            });\\n            valueAccessor().subscribe(function(value) {\\n                var str = JSON.stringify(value);\\n                if ((str == \\\"0\\\") && ([\\\"-0\\\", \\\"-0.\\\"].indexOf(stringified()) >= 0))\\n                     return;\\n                 if ([\\\"null\\\", \\\"\\\"].indexOf(str) >= 0)\\n                     return;\\n                stringified(str);\\n            });\\n            ko.applyBindingsToNode(\\n                element,\\n                {\\n                    value: stringified,\\n                    valueUpdate: allBindings.get('valueUpdate'),\\n                },\\n                context,\\n            );\\n        }\\n    };\\n    var json_data = {\\\"options_js\\\":WebIO.getval({\\\"name\\\":\\\"options_js\\\",\\\"scope\\\":\\\"12951940940876975593\\\",\\\"id\\\":\\\"ob_05\\\",\\\"type\\\":\\\"observable\\\"}),\\\"index\\\":WebIO.getval({\\\"name\\\":\\\"index\\\",\\\"scope\\\":\\\"12951940940876975593\\\",\\\"id\\\":\\\"ob_04\\\",\\\"type\\\":\\\"observable\\\"})};\\n    var self = this;\\n    function AppViewModel() {\\n        for (var key in json_data) {\\n            var el = json_data[key];\\n            this[key] = Array.isArray(el) ? ko.observableArray(el) : ko.observable(el);\\n        }\\n        [this[\\\"update\\\"]=function (val) {this.index(val)}]\\n        \\n        [this[\\\"options_js\\\"].subscribe((function (val){!(this.valueFromJulia[\\\"options_js\\\"]) ? (WebIO.setval({\\\"name\\\":\\\"options_js\\\",\\\"scope\\\":\\\"12951940940876975593\\\",\\\"id\\\":\\\"ob_05\\\",\\\"type\\\":\\\"observable\\\"},val)) : undefined; return this.valueFromJulia[\\\"options_js\\\"]=false}),self),this[\\\"index\\\"].subscribe((function (val){!(this.valueFromJulia[\\\"index\\\"]) ? (WebIO.setval({\\\"name\\\":\\\"index\\\",\\\"scope\\\":\\\"12951940940876975593\\\",\\\"id\\\":\\\"ob_04\\\",\\\"type\\\":\\\"observable\\\"},val)) : undefined; return this.valueFromJulia[\\\"index\\\"]=false}),self)]\\n        \\n    }\\n    self.model = new AppViewModel();\\n    self.valueFromJulia = {};\\n    for (var key in json_data) {\\n        self.valueFromJulia[key] = false;\\n    }\\n    ko.applyBindings(self.model, self.dom);\\n}\\n);\\n    (WebIO.importBlock({\\\"data\\\":[{\\\"name\\\":\\\"knockout\\\",\\\"type\\\":\\\"js\\\",\\\"url\\\":\\\"/assetserver/bf3e344bbbe45b806bbda88c6101232eb1f7318f-knockout.js\\\"},{\\\"name\\\":\\\"knockout_punches\\\",\\\"type\\\":\\\"js\\\",\\\"url\\\":\\\"/assetserver/3ad363ca1664d7335dff0eabc7ebe7d829397430-knockout_punches.js\\\"}],\\\"type\\\":\\\"async_block\\\"})).then((imports) => handler.apply(this, imports));\\n}\\n\")])], Dict{Symbol,Any}(:className => \"interact-widget\")), Observable{Any} with 0 listeners. Value:\n",
       "Node{WebIO.DOM}(WebIO.DOM(:html, :div), Any[Plot{Plots.GRBackend() n=2}], Dict{Symbol,Any}(:className => \"interact-flex-row interact-widget\"))], Dict{Symbol,Any}())"
      ]
     },
     "execution_count": 9,
     "metadata": {
      "application/vnd.webio.node+json": {
       "kernelId": "2012f275-fd17-4087-a58b-0a4ccf18334b"
      }
     },
     "output_type": "execute_result"
    }
   ],
   "source": [
    "using GraphRecipes\n",
    "using Plots\n",
    "using Interact\n",
    "gr(size=(800, 800))\n",
    "\n",
    "@manipulate for T in [Int64, Signed, Integer, Real, Number]\n",
    "    plot(T, nodeshape=:circle, nodesize=3, method=:tree)\n",
    "end"
   ]
  },
  {
   "cell_type": "markdown",
   "metadata": {
    "extensions": {
     "jupyter_dashboards": {
      "version": 1,
      "views": {
       "grid_default": {},
       "report_default": {
        "hidden": false
       }
      }
     }
    }
   },
   "source": [
    "### Metaprogramming (Macros)\n",
    "\n",
    "- Functions of **expressions**\n",
    "- You can change the expression to whatever you want inside of a macro"
   ]
  },
  {
   "cell_type": "code",
   "execution_count": 33,
   "metadata": {
    "extensions": {
     "jupyter_dashboards": {
      "version": 1,
      "views": {
       "grid_default": {},
       "report_default": {
        "hidden": true
       }
      }
     }
    }
   },
   "outputs": [
    {
     "data": {
      "text/plain": [
       "10"
      ]
     },
     "execution_count": 33,
     "metadata": {},
     "output_type": "execute_result"
    }
   ],
   "source": [
    "x = 10"
   ]
  },
  {
   "cell_type": "code",
   "execution_count": 34,
   "metadata": {
    "extensions": {
     "jupyter_dashboards": {
      "version": 1,
      "views": {
       "grid_default": {},
       "report_default": {
        "hidden": true
       }
      }
     }
    }
   },
   "outputs": [
    {
     "name": "stdout",
     "output_type": "stream",
     "text": [
      "15"
     ]
    }
   ],
   "source": [
    "show(x + 5)"
   ]
  },
  {
   "cell_type": "code",
   "execution_count": 35,
   "metadata": {
    "extensions": {
     "jupyter_dashboards": {
      "version": 1,
      "views": {
       "grid_default": {},
       "report_default": {
        "hidden": true
       }
      }
     }
    }
   },
   "outputs": [
    {
     "name": "stdout",
     "output_type": "stream",
     "text": [
      "x + 5 = 15\n"
     ]
    }
   ],
   "source": [
    "@show x + 5;"
   ]
  },
  {
   "cell_type": "markdown",
   "metadata": {
    "extensions": {
     "jupyter_dashboards": {
      "version": 1,
      "views": {
       "grid_default": {},
       "report_default": {
        "hidden": false
       }
      }
     }
    }
   },
   "source": [
    "### The best macro: `@time`"
   ]
  },
  {
   "cell_type": "code",
   "execution_count": 38,
   "metadata": {
    "extensions": {
     "jupyter_dashboards": {
      "version": 1,
      "views": {
       "grid_default": {},
       "report_default": {
        "hidden": true
       }
      }
     }
    }
   },
   "outputs": [
    {
     "name": "stdout",
     "output_type": "stream",
     "text": [
      "  1.258800 seconds (109.29 k allocations: 5.699 MiB)\n"
     ]
    },
    {
     "data": {
      "text/plain": [
       "-7724.197558649422"
      ]
     },
     "execution_count": 38,
     "metadata": {},
     "output_type": "execute_result"
    }
   ],
   "source": [
    "using BenchmarkTools\n",
    "\n",
    "function f2(n)\n",
    "    x = 0.0\n",
    "    for i in 1:n\n",
    "#         x += sum(randn(1000, 1000))\n",
    "        x += sum(randn() for i in 1:1000^2)\n",
    "    end\n",
    "    x\n",
    "end\n",
    "\n",
    "@time f2(200)"
   ]
  },
  {
   "cell_type": "markdown",
   "metadata": {
    "extensions": {
     "jupyter_dashboards": {
      "version": 1,
      "views": {
       "grid_default": {},
       "report_default": {
        "hidden": false
       }
      }
     }
    }
   },
   "source": [
    "### Usefulness of Multiple Dispatch\n",
    "\n",
    "Newton's method for finding the root of a function (where $f(\\theta) = 0$):\n",
    "\n",
    "$$\n",
    "\\theta_{t+1} = \\theta_t - \\frac{F(\\theta_t)}{F'(\\theta_t)}\n",
    "$$\n",
    "\n",
    "Quantile finder for continuous univariate distributions\n",
    "\n",
    "- Want to find $\\theta$ such that $F(\\theta) = q$ for cumulative distribution function $F$ and quantile $0<q<1$."
   ]
  },
  {
   "cell_type": "code",
   "execution_count": 14,
   "metadata": {
    "extensions": {
     "jupyter_dashboards": {
      "version": 1,
      "views": {
       "grid_default": {},
       "report_default": {
        "hidden": true
       }
      }
     }
    }
   },
   "outputs": [
    {
     "data": {
      "text/plain": [
       "my_quantile (generic function with 1 method)"
      ]
     },
     "execution_count": 14,
     "metadata": {},
     "output_type": "execute_result"
    }
   ],
   "source": [
    "using Distributions\n",
    "\n",
    "function my_quantile(d, q)\n",
    "    θ = mean(d)\n",
    "    for i in 1:20\n",
    "        θ -= (cdf(d, θ) - q) / pdf(d, θ)\n",
    "    end\n",
    "    θ\n",
    "end"
   ]
  },
  {
   "cell_type": "markdown",
   "metadata": {},
   "source": [
    "**Note: In R/SciPy, you would need a new function for every distribution**"
   ]
  },
  {
   "cell_type": "code",
   "execution_count": 15,
   "metadata": {
    "extensions": {
     "jupyter_dashboards": {
      "version": 1,
      "views": {
       "grid_default": {},
       "report_default": {
        "hidden": true
       }
      }
     }
    }
   },
   "outputs": [
    {
     "name": "stdout",
     "output_type": "stream",
     "text": [
      "my_quantile(Normal(), q) = -1.2815515655446004\n",
      "my_quantile(Normal(), q) = 0.0\n",
      "my_quantile(Normal(), q) = 1.2815515655446006\n"
     ]
    }
   ],
   "source": [
    "for q in [.1, .5, .9]\n",
    "    @show my_quantile(Normal(), q)\n",
    "end"
   ]
  },
  {
   "cell_type": "code",
   "execution_count": 16,
   "metadata": {
    "extensions": {
     "jupyter_dashboards": {
      "version": 1,
      "views": {
       "grid_default": {},
       "report_default": {
        "hidden": true
       }
      }
     }
    }
   },
   "outputs": [
    {
     "name": "stdout",
     "output_type": "stream",
     "text": [
      "my_quantile(Uniform(), q) = 0.1\n",
      "my_quantile(Uniform(), q) = 0.5\n",
      "my_quantile(Uniform(), q) = 0.9\n"
     ]
    }
   ],
   "source": [
    "for q in [.1, .5, .9]\n",
    "    @show my_quantile(Uniform(), q)\n",
    "end"
   ]
  },
  {
   "cell_type": "markdown",
   "metadata": {
    "extensions": {
     "jupyter_dashboards": {
      "version": 1,
      "views": {
       "grid_default": {},
       "report_default": {
        "hidden": false
       }
      }
     }
    }
   },
   "source": [
    "## Fused Broadcasting\n",
    "\n",
    "- Note: Broadcasting must be explicit"
   ]
  },
  {
   "cell_type": "code",
   "execution_count": 17,
   "metadata": {
    "extensions": {
     "jupyter_dashboards": {
      "version": 1,
      "views": {
       "grid_default": {},
       "report_default": {
        "hidden": true
       }
      }
     }
    }
   },
   "outputs": [
    {
     "name": "stdout",
     "output_type": "stream",
     "text": [
      "a == b = true\n"
     ]
    },
    {
     "data": {
      "text/plain": [
       "2×2 Array{Float64,2}:\n",
       " 0.666367  0.6143  \n",
       " 0.990059  0.727035"
      ]
     },
     "execution_count": 17,
     "metadata": {},
     "output_type": "execute_result"
    }
   ],
   "source": [
    "x = [1 2; 3 4]\n",
    "\n",
    "a = cos.(sin.(abs.(x)))\n",
    "\n",
    "b = @. cos(sin(abs(x)))\n",
    "\n",
    "@show a == b\n",
    "\n",
    "a"
   ]
  },
  {
   "cell_type": "markdown",
   "metadata": {
    "extensions": {
     "jupyter_dashboards": {
      "version": 1,
      "views": {
       "grid_default": {},
       "report_default": {
        "hidden": false
       }
      }
     }
    }
   },
   "source": [
    "--- \n",
    "\n",
    "# Interop"
   ]
  },
  {
   "cell_type": "code",
   "execution_count": 39,
   "metadata": {
    "extensions": {
     "jupyter_dashboards": {
      "version": 1,
      "views": {
       "grid_default": {},
       "report_default": {
        "hidden": true
       }
      }
     }
    }
   },
   "outputs": [
    {
     "data": {
      "image/png": "[encoded data removed]"
     },
     "metadata": {},
     "output_type": "display_data"
    },
    {
     "data": {
      "text/plain": [
       "RObject{VecSxp}\n"
      ]
     },
     "execution_count": 39,
     "metadata": {},
     "output_type": "execute_result"
    },
    {
     "name": "stderr",
     "output_type": "stream",
     "text": [
      "┌ Warning: RCall.jl: `stat_bin()` using `bins = 30`. Pick better value with `binwidth`.\n",
      "└ @ RCall /Users/joday/.julia/packages/RCall/g7dhB/src/io.jl:113\n"
     ]
    }
   ],
   "source": [
    "using RCall\n",
    "\n",
    "x = randn(10^5)\n",
    "\n",
    "R\"\"\"\n",
    "library(ggplot2); qplot($x)\n",
    "\"\"\""
   ]
  },
  {
   "cell_type": "code",
   "execution_count": 40,
   "metadata": {
    "extensions": {
     "jupyter_dashboards": {
      "version": 1,
      "views": {
       "grid_default": {},
       "report_default": {
        "hidden": true
       }
      }
     }
    }
   },
   "outputs": [
    {
     "data": {
      "text/plain": [
       "3×4 Array{Float64,2}:\n",
       " 0.0227172  0.0755826  0.828161   0.579597\n",
       " 0.480022   0.589313   0.0979558  0.635666\n",
       " 0.0905174  0.871578   0.594314   0.602999"
      ]
     },
     "execution_count": 40,
     "metadata": {},
     "output_type": "execute_result"
    }
   ],
   "source": [
    "using PyCall\n",
    "\n",
    "nr = pyimport(\"numpy.random\")\n",
    "\n",
    "nr.rand(3, 4)"
   ]
  },
  {
   "cell_type": "markdown",
   "metadata": {
    "extensions": {
     "jupyter_dashboards": {
      "version": 1,
      "views": {
       "grid_default": {},
       "report_default": {
        "hidden": false
       }
      }
     }
    }
   },
   "source": [
    "---\n",
    "\n",
    "# REPL Modes\n",
    "\n",
    "- `?` (Help)\n",
    "- `;` (Shell)\n",
    "- `]` (Pkg)\n",
    "- `$` (RCall)"
   ]
  },
  {
   "cell_type": "markdown",
   "metadata": {
    "extensions": {
     "jupyter_dashboards": {
      "version": 1,
      "views": {
       "grid_default": {},
       "report_default": {
        "hidden": false
       }
      }
     }
    }
   },
   "source": [
    "---\n",
    "\n",
    "# State of the Art Packages in Julia 1.0 (although we're now at 1.2)\n",
    "\n",
    "http://www.stochasticlifestyle.com/some-state-of-the-art-packages-in-julia-v1-0/\n",
    "\n"
   ]
  },
  {
   "cell_type": "markdown",
   "metadata": {
    "extensions": {
     "jupyter_dashboards": {
      "version": 1,
      "views": {
       "grid_default": {},
       "report_default": {
        "hidden": false
       }
      }
     }
    }
   },
   "source": [
    "## DifferentialEquations.jl\n",
    "\n",
    "- State-of-the-art differential equation solvers\n",
    "\n",
    "![](https://camo.githubusercontent.com/011fe73b3a9c48dd7c36c0a5f31d2b37d8d55162/687474703a2f2f7777772e73746f636861737469636c6966657374796c652e636f6d2f77702d636f6e74656e742f75706c6f6164732f323031392f30382f64655f736f6c7665725f736f6674776172655f636f6d70617273696f6e2d312e706e67)"
   ]
  },
  {
   "cell_type": "code",
   "execution_count": 20,
   "metadata": {
    "extensions": {
     "jupyter_dashboards": {
      "version": 1,
      "views": {
       "grid_default": {},
       "report_default": {
        "hidden": true
       }
      }
     }
    }
   },
   "outputs": [],
   "source": [
    "using Flux"
   ]
  },
  {
   "cell_type": "markdown",
   "metadata": {
    "extensions": {
     "jupyter_dashboards": {
      "version": 1,
      "views": {
       "grid_default": {},
       "report_default": {
        "hidden": false
       }
      }
     }
    }
   },
   "source": [
    "# Flux.jl\n",
    "\n",
    "- Deep Neural Networks in pure Julia\n",
    "\n",
    "```julia\n",
    "model = Chain(\n",
    "  Dense(768, 128, σ),\n",
    "  LSTM(128, 256),\n",
    "  LSTM(256, 128),\n",
    "  Dense(128, 10),\n",
    "  softmax)\n",
    "\n",
    "loss(x, y) = crossentropy(model(x), y)\n",
    "\n",
    "Flux.train!(loss, data, ADAM(...))\n",
    "```"
   ]
  },
  {
   "cell_type": "markdown",
   "metadata": {
    "extensions": {
     "jupyter_dashboards": {
      "version": 1,
      "views": {
       "grid_default": {},
       "report_default": {
        "hidden": false
       }
      }
     }
    }
   },
   "source": [
    "## Zygote.jl\n",
    "\n",
    "- Automatic differentiation for arbitrary Julia code\n",
    "- This is a fairly big deal for deep learning applications"
   ]
  },
  {
   "cell_type": "code",
   "execution_count": 21,
   "metadata": {
    "extensions": {
     "jupyter_dashboards": {
      "version": 1,
      "views": {
       "grid_default": {},
       "report_default": {
        "hidden": true
       }
      }
     }
    }
   },
   "outputs": [
    {
     "data": {
      "text/plain": [
       "(53, 5)"
      ]
     },
     "execution_count": 21,
     "metadata": {},
     "output_type": "execute_result"
    }
   ],
   "source": [
    "using Zygote\n",
    "\n",
    "thing(x) = 5x + 3\n",
    "\n",
    "thing(10), thing'(10)"
   ]
  },
  {
   "cell_type": "markdown",
   "metadata": {
    "extensions": {
     "jupyter_dashboards": {
      "version": 1,
      "views": {
       "grid_default": {},
       "report_default": {
        "hidden": false
       }
      }
     }
    }
   },
   "source": [
    "# MLJ.jl\n",
    "\n",
    "- Big ML Framework in Julia.  Wrapper around SciKitLearn.jl + much more"
   ]
  },
  {
   "cell_type": "code",
   "execution_count": 22,
   "metadata": {
    "extensions": {
     "jupyter_dashboards": {
      "version": 1,
      "views": {
       "grid_default": {},
       "report_default": {
        "hidden": true
       }
      }
     }
    }
   },
   "outputs": [
    {
     "name": "stderr",
     "output_type": "stream",
     "text": [
      "WARNING: using MLJ.Node in module Main conflicts with an existing identifier.\n",
      "WARNING: both CSSUtil and Base export \"empty\"; uses of it in module Interact must be qualified\n"
     ]
    },
    {
     "data": {
      "text/plain": [
       "Dict{Any,Any} with 9 entries:\n",
       "  \"MultivariateStats\" => Any[\"RidgeRegressor\", \"PCA\"]\n",
       "  \"MLJ\"               => Any[\"ConstantClassifier\", \"Standardizer\", \"SimpleRidge…\n",
       "  \"DecisionTree\"      => Any[\"DecisionTreeRegressor\", \"DecisionTreeClassifier\"]\n",
       "  \"ScikitLearn\"       => Any[\"SVMLRegressor\", \"SVMNuClassifier\", \"ElasticNet\", …\n",
       "  \"LIBSVM\"            => Any[\"EpsilonSVR\", \"LinearSVC\", \"NuSVR\", \"NuSVC\", \"SVC\"…\n",
       "  \"Clustering\"        => Any[\"KMeans\", \"KMedoids\"]\n",
       "  \"GLM\"               => Any[\"OLSRegressor\", \"GLMCountRegressor\"]\n",
       "  \"NaiveBayes\"        => Any[\"GaussianNBClassifier\", \"MultinomialNBClassifier\"]\n",
       "  \"XGBoost\"           => Any[\"XGBoostCount\", \"XGBoostRegressor\", \"XGBoostClassi…"
      ]
     },
     "execution_count": 22,
     "metadata": {},
     "output_type": "execute_result"
    }
   ],
   "source": [
    "using MLJ\n",
    "models()"
   ]
  },
  {
   "cell_type": "markdown",
   "metadata": {
    "extensions": {
     "jupyter_dashboards": {
      "version": 1,
      "views": {
       "grid_default": {},
       "report_default": {
        "hidden": false
       }
      }
     }
    }
   },
   "source": [
    "## Interact.jl\n",
    "\n",
    "- Interactive widgets for Julia"
   ]
  },
  {
   "cell_type": "code",
   "execution_count": 41,
   "metadata": {
    "extensions": {
     "jupyter_dashboards": {
      "version": 1,
      "views": {
       "grid_default": {},
       "report_default": {
        "hidden": true
       }
      }
     }
    }
   },
   "outputs": [
    {
     "data": {
      "application/vnd.webio.node+json": {
       "children": [
        {
         "children": [
          {
           "children": [
            {
             "children": [
              {
               "children": [
                {
                 "children": [
                  "i"
                 ],
                 "instanceArgs": {
                  "namespace": "html",
                  "tag": "label"
                 },
                 "nodeType": "DOM",
                 "props": {
                  "className": "interact ",
                  "style": {
                   "padding": "5px 10px 0px 10px"
                  }
                 },
                 "type": "node"
                }
               ],
               "instanceArgs": {
                "namespace": "html",
                "tag": "div"
               },
               "nodeType": "DOM",
               "props": {
                "className": "interact-flex-row-left"
               },
               "type": "node"
              },
              {
               "children": [
                {
                 "children": [],
                 "instanceArgs": {
                  "namespace": "html",
                  "tag": "input"
                 },
                 "nodeType": "DOM",
                 "props": {
                  "attributes": {
                   "data-bind": "numericValue: index, valueUpdate: 'input', event: {change: function (){this.changes(this.changes()+1)}}",
                   "orient": "horizontal",
                   "type": "range"
                  },
                  "className": "slider slider is-fullwidth",
                  "max": 50,
                  "min": 1,
                  "step": 1,
                  "style": {}
                 },
                 "type": "node"
                }
               ],
               "instanceArgs": {
                "namespace": "html",
                "tag": "div"
               },
               "nodeType": "DOM",
               "props": {
                "className": "interact-flex-row-center"
               },
               "type": "node"
              },
              {
               "children": [
                {
                 "children": [],
                 "instanceArgs": {
                  "namespace": "html",
                  "tag": "p"
                 },
                 "nodeType": "DOM",
                 "props": {
                  "attributes": {
                   "data-bind": "text: formatted_val"
                  }
                 },
                 "type": "node"
                }
               ],
               "instanceArgs": {
                "namespace": "html",
                "tag": "div"
               },
               "nodeType": "DOM",
               "props": {
                "className": "interact-flex-row-right"
               },
               "type": "node"
              }
             ],
             "instanceArgs": {
              "namespace": "html",
              "tag": "div"
             },
             "nodeType": "DOM",
             "props": {
              "className": "interact-flex-row interact-widget"
             },
             "type": "node"
            }
           ],
           "instanceArgs": {
            "handlers": {
             "changes": [
              "(function (val){return (val!=this.model[\"changes\"]()) ? (this.valueFromJulia[\"changes\"]=true, this.model[\"changes\"](val)) : undefined})"
             ],
             "index": [
              "(function (val){return (val!=this.model[\"index\"]()) ? (this.valueFromJulia[\"index\"]=true, this.model[\"index\"](val)) : undefined})"
             ]
            },
            "id": "11622179062171589222",
            "imports": {
             "data": [
              {
               "name": "knockout",
               "type": "js",
               "url": "/assetserver/bf3e344bbbe45b806bbda88c6101232eb1f7318f-knockout.js"
              },
              {
               "name": "knockout_punches",
               "type": "js",
               "url": "/assetserver/3ad363ca1664d7335dff0eabc7ebe7d829397430-knockout_punches.js"
              },
              {
               "name": null,
               "type": "js",
               "url": "/assetserver/c17843d82807177c96402335f7810c38fb70de05-all.js"
              },
              {
               "name": null,
               "type": "css",
               "url": "/assetserver/cf9b1ef11d5ef7ab3ff5a3942d24ca77dcb679d2-style.css"
              },
              {
               "name": null,
               "type": "css",
               "url": "/assetserver/c591c2d5f890a3e4541fd6b806094298d3ec794b-bulma_confined.min.css"
              }
             ],
             "type": "async_block"
            },
            "mount_callbacks": [
             "function () {\n    var handler = (function (ko, koPunches) {\n    ko.punches.enableAll();\n    ko.bindingHandlers.numericValue = {\n        init: function(element, valueAccessor, allBindings, data, context) {\n            var stringified = ko.observable(ko.unwrap(valueAccessor()));\n            stringified.subscribe(function(value) {\n                var val = parseFloat(value);\n                if (!isNaN(val)) {\n                    valueAccessor()(val);\n                }\n            });\n            valueAccessor().subscribe(function(value) {\n                var str = JSON.stringify(value);\n                if ((str == \"0\") && ([\"-0\", \"-0.\"].indexOf(stringified()) >= 0))\n                     return;\n                 if ([\"null\", \"\"].indexOf(str) >= 0)\n                     return;\n                stringified(str);\n            });\n            ko.applyBindingsToNode(\n                element,\n                {\n                    value: stringified,\n                    valueUpdate: allBindings.get('valueUpdate'),\n                },\n                context,\n            );\n        }\n    };\n    var json_data = {\"formatted_vals\":[\"1\",\"2\",\"3\",\"4\",\"5\",\"6\",\"7\",\"8\",\"9\",\"10\",\"11\",\"12\",\"13\",\"14\",\"15\",\"16\",\"17\",\"18\",\"19\",\"20\",\"21\",\"22\",\"23\",\"24\",\"25\",\"26\",\"27\",\"28\",\"29\",\"30\",\"31\",\"32\",\"33\",\"34\",\"35\",\"36\",\"37\",\"38\",\"39\",\"40\",\"41\",\"42\",\"43\",\"44\",\"45\",\"46\",\"47\",\"48\",\"49\",\"50\"],\"changes\":WebIO.getval({\"name\":\"changes\",\"scope\":\"11622179062171589222\",\"id\":\"ob_29\",\"type\":\"observable\"}),\"index\":WebIO.getval({\"name\":\"index\",\"scope\":\"11622179062171589222\",\"id\":\"ob_28\",\"type\":\"observable\"})};\n    var self = this;\n    function AppViewModel() {\n        for (var key in json_data) {\n            var el = json_data[key];\n            this[key] = Array.isArray(el) ? ko.observableArray(el) : ko.observable(el);\n        }\n        \n        [this[\"formatted_val\"]=ko.computed(    function(){\n        return this.formatted_vals()[parseInt(this.index())-(1)];\n    }\n,this)]\n        [this[\"changes\"].subscribe((function (val){!(this.valueFromJulia[\"changes\"]) ? (WebIO.setval({\"name\":\"changes\",\"scope\":\"11622179062171589222\",\"id\":\"ob_29\",\"type\":\"observable\"},val)) : undefined; return this.valueFromJulia[\"changes\"]=false}),self),this[\"index\"].subscribe((function (val){!(this.valueFromJulia[\"index\"]) ? (WebIO.setval({\"name\":\"index\",\"scope\":\"11622179062171589222\",\"id\":\"ob_28\",\"type\":\"observable\"},val)) : undefined; return this.valueFromJulia[\"index\"]=false}),self)]\n        \n    }\n    self.model = new AppViewModel();\n    self.valueFromJulia = {};\n    for (var key in json_data) {\n        self.valueFromJulia[key] = false;\n    }\n    ko.applyBindings(self.model, self.dom);\n}\n);\n    (WebIO.importBlock({\"data\":[{\"name\":\"knockout\",\"type\":\"js\",\"url\":\"/assetserver/bf3e344bbbe45b806bbda88c6101232eb1f7318f-knockout.js\"},{\"name\":\"knockout_punches\",\"type\":\"js\",\"url\":\"/assetserver/3ad363ca1664d7335dff0eabc7ebe7d829397430-knockout_punches.js\"}],\"type\":\"async_block\"})).then((imports) => handler.apply(this, imports));\n}\n"
            ],
            "observables": {
             "changes": {
              "id": "ob_29",
              "sync": false,
              "value": 0
             },
             "index": {
              "id": "ob_28",
              "sync": true,
              "value": 25
             }
            },
            "systemjs_options": null
           },
           "nodeType": "Scope",
           "props": {},
           "type": "node"
          }
         ],
         "instanceArgs": {
          "namespace": "html",
          "tag": "div"
         },
         "nodeType": "DOM",
         "props": {
          "className": "field interact-widget"
         },
         "type": "node"
        },
        {
         "children": [
          {
           "children": [
            {
             "children": [
              {
               "children": [
                {
                 "children": [
                  "color"
                 ],
                 "instanceArgs": {
                  "namespace": "html",
                  "tag": "label"
                 },
                 "nodeType": "DOM",
                 "props": {
                  "className": "interact ",
                  "style": {
                   "padding": "5px 10px 0px 10px"
                  }
                 },
                 "type": "node"
                }
               ],
               "instanceArgs": {
                "namespace": "html",
                "tag": "div"
               },
               "nodeType": "DOM",
               "props": {
                "className": "interact-flex-row-left"
               },
               "type": "node"
              },
              {
               "children": [
                {
                 "children": [
                  {
                   "children": [
                    {
                     "children": [],
                     "instanceArgs": {
                      "namespace": "html",
                      "tag": "label"
                     },
                     "nodeType": "DOM",
                     "props": {
                      "attributes": {
                       "data-bind": "text : key"
                      }
                     },
                     "type": "node"
                    }
                   ],
                   "instanceArgs": {
                    "namespace": "html",
                    "tag": "span"
                   },
                   "nodeType": "DOM",
                   "props": {
                    "attributes": {
                     "data-bind": "click: function (){$root.update(val)}, css: {'is-primary is-selected' : $root.index() == val, 'interact-widget is-medium button ' : true}"
                    }
                   },
                   "type": "node"
                  }
                 ],
                 "instanceArgs": {
                  "namespace": "html",
                  "tag": "div"
                 },
                 "nodeType": "DOM",
                 "props": {
                  "attributes": {
                   "data-bind": "foreach : options_js"
                  },
                  "className": "buttons has-addons is-centered"
                 },
                 "type": "node"
                }
               ],
               "instanceArgs": {
                "namespace": "html",
                "tag": "div"
               },
               "nodeType": "DOM",
               "props": {
                "className": "interact-flex-row-center"
               },
               "type": "node"
              },
              {
               "children": [
                {
                 "children": [],
                 "instanceArgs": {
                  "namespace": "html",
                  "tag": "div"
                 },
                 "nodeType": "DOM",
                 "props": {},
                 "type": "node"
                }
               ],
               "instanceArgs": {
                "namespace": "html",
                "tag": "div"
               },
               "nodeType": "DOM",
               "props": {
                "className": "interact-flex-row-right"
               },
               "type": "node"
              }
             ],
             "instanceArgs": {
              "namespace": "html",
              "tag": "div"
             },
             "nodeType": "DOM",
             "props": {
              "className": "interact-flex-row interact-widget"
             },
             "type": "node"
            }
           ],
           "instanceArgs": {
            "handlers": {
             "index": [
              "(function (val){return (val!=this.model[\"index\"]()) ? (this.valueFromJulia[\"index\"]=true, this.model[\"index\"](val)) : undefined})"
             ],
             "options_js": [
              "(function (val){return (val!=this.model[\"options_js\"]()) ? (this.valueFromJulia[\"options_js\"]=true, this.model[\"options_js\"](val)) : undefined})"
             ]
            },
            "id": "633410034335891009",
            "imports": {
             "data": [
              {
               "name": "knockout",
               "type": "js",
               "url": "/assetserver/bf3e344bbbe45b806bbda88c6101232eb1f7318f-knockout.js"
              },
              {
               "name": "knockout_punches",
               "type": "js",
               "url": "/assetserver/3ad363ca1664d7335dff0eabc7ebe7d829397430-knockout_punches.js"
              },
              {
               "name": null,
               "type": "js",
               "url": "/assetserver/c17843d82807177c96402335f7810c38fb70de05-all.js"
              },
              {
               "name": null,
               "type": "css",
               "url": "/assetserver/cf9b1ef11d5ef7ab3ff5a3942d24ca77dcb679d2-style.css"
              },
              {
               "name": null,
               "type": "css",
               "url": "/assetserver/c591c2d5f890a3e4541fd6b806094298d3ec794b-bulma_confined.min.css"
              }
             ],
             "type": "async_block"
            },
            "mount_callbacks": [
             "function () {\n    var handler = (function (ko, koPunches) {\n    ko.punches.enableAll();\n    ko.bindingHandlers.numericValue = {\n        init: function(element, valueAccessor, allBindings, data, context) {\n            var stringified = ko.observable(ko.unwrap(valueAccessor()));\n            stringified.subscribe(function(value) {\n                var val = parseFloat(value);\n                if (!isNaN(val)) {\n                    valueAccessor()(val);\n                }\n            });\n            valueAccessor().subscribe(function(value) {\n                var str = JSON.stringify(value);\n                if ((str == \"0\") && ([\"-0\", \"-0.\"].indexOf(stringified()) >= 0))\n                     return;\n                 if ([\"null\", \"\"].indexOf(str) >= 0)\n                     return;\n                stringified(str);\n            });\n            ko.applyBindingsToNode(\n                element,\n                {\n                    value: stringified,\n                    valueUpdate: allBindings.get('valueUpdate'),\n                },\n                context,\n            );\n        }\n    };\n    var json_data = {\"options_js\":WebIO.getval({\"name\":\"options_js\",\"scope\":\"633410034335891009\",\"id\":\"ob_34\",\"type\":\"observable\"}),\"index\":WebIO.getval({\"name\":\"index\",\"scope\":\"633410034335891009\",\"id\":\"ob_33\",\"type\":\"observable\"})};\n    var self = this;\n    function AppViewModel() {\n        for (var key in json_data) {\n            var el = json_data[key];\n            this[key] = Array.isArray(el) ? ko.observableArray(el) : ko.observable(el);\n        }\n        [this[\"update\"]=function (val) {this.index(val)}]\n        \n        [this[\"options_js\"].subscribe((function (val){!(this.valueFromJulia[\"options_js\"]) ? (WebIO.setval({\"name\":\"options_js\",\"scope\":\"633410034335891009\",\"id\":\"ob_34\",\"type\":\"observable\"},val)) : undefined; return this.valueFromJulia[\"options_js\"]=false}),self),this[\"index\"].subscribe((function (val){!(this.valueFromJulia[\"index\"]) ? (WebIO.setval({\"name\":\"index\",\"scope\":\"633410034335891009\",\"id\":\"ob_33\",\"type\":\"observable\"},val)) : undefined; return this.valueFromJulia[\"index\"]=false}),self)]\n        \n    }\n    self.model = new AppViewModel();\n    self.valueFromJulia = {};\n    for (var key in json_data) {\n        self.valueFromJulia[key] = false;\n    }\n    ko.applyBindings(self.model, self.dom);\n}\n);\n    (WebIO.importBlock({\"data\":[{\"name\":\"knockout\",\"type\":\"js\",\"url\":\"/assetserver/bf3e344bbbe45b806bbda88c6101232eb1f7318f-knockout.js\"},{\"name\":\"knockout_punches\",\"type\":\"js\",\"url\":\"/assetserver/3ad363ca1664d7335dff0eabc7ebe7d829397430-knockout_punches.js\"}],\"type\":\"async_block\"})).then((imports) => handler.apply(this, imports));\n}\n"
            ],
            "observables": {
             "index": {
              "id": "ob_33",
              "sync": true,
              "value": 1
             },
             "options_js": {
              "id": "ob_34",
              "sync": false,
              "value": [
               {
                "id": "idR8g3PsVZ",
                "key": "black",
                "val": 1
               },
               {
                "id": "idaZnYN74X",
                "key": "blue",
                "val": 2
               },
               {
                "id": "idMWC55swo",
                "key": "green",
                "val": 3
               },
               {
                "id": "idJVumm8v0",
                "key": "red",
                "val": 4
               }
              ]
             }
            },
            "systemjs_options": null
           },
           "nodeType": "Scope",
           "props": {},
           "type": "node"
          }
         ],
         "instanceArgs": {
          "namespace": "html",
          "tag": "div"
         },
         "nodeType": "DOM",
         "props": {
          "className": "interact-widget"
         },
         "type": "node"
        },
        {
         "children": [
          {
           "children": [
            {
             "children": [
              {
               "children": [
                {
                 "children": [
                  "lw"
                 ],
                 "instanceArgs": {
                  "namespace": "html",
                  "tag": "label"
                 },
                 "nodeType": "DOM",
                 "props": {
                  "className": "interact ",
                  "style": {
                   "padding": "5px 10px 0px 10px"
                  }
                 },
                 "type": "node"
                }
               ],
               "instanceArgs": {
                "namespace": "html",
                "tag": "div"
               },
               "nodeType": "DOM",
               "props": {
                "className": "interact-flex-row-left"
               },
               "type": "node"
              },
              {
               "children": [
                {
                 "children": [],
                 "instanceArgs": {
                  "namespace": "html",
                  "tag": "input"
                 },
                 "nodeType": "DOM",
                 "props": {
                  "attributes": {
                   "data-bind": "numericValue: index, valueUpdate: 'input', event: {change: function (){this.changes(this.changes()+1)}}",
                   "orient": "horizontal",
                   "type": "range"
                  },
                  "className": "slider slider is-fullwidth",
                  "max": 46,
                  "min": 1,
                  "step": 1,
                  "style": {}
                 },
                 "type": "node"
                }
               ],
               "instanceArgs": {
                "namespace": "html",
                "tag": "div"
               },
               "nodeType": "DOM",
               "props": {
                "className": "interact-flex-row-center"
               },
               "type": "node"
              },
              {
               "children": [
                {
                 "children": [],
                 "instanceArgs": {
                  "namespace": "html",
                  "tag": "p"
                 },
                 "nodeType": "DOM",
                 "props": {
                  "attributes": {
                   "data-bind": "text: formatted_val"
                  }
                 },
                 "type": "node"
                }
               ],
               "instanceArgs": {
                "namespace": "html",
                "tag": "div"
               },
               "nodeType": "DOM",
               "props": {
                "className": "interact-flex-row-right"
               },
               "type": "node"
              }
             ],
             "instanceArgs": {
              "namespace": "html",
              "tag": "div"
             },
             "nodeType": "DOM",
             "props": {
              "className": "interact-flex-row interact-widget"
             },
             "type": "node"
            }
           ],
           "instanceArgs": {
            "handlers": {
             "changes": [
              "(function (val){return (val!=this.model[\"changes\"]()) ? (this.valueFromJulia[\"changes\"]=true, this.model[\"changes\"](val)) : undefined})"
             ],
             "index": [
              "(function (val){return (val!=this.model[\"index\"]()) ? (this.valueFromJulia[\"index\"]=true, this.model[\"index\"](val)) : undefined})"
             ]
            },
            "id": "15786896380768564873",
            "imports": {
             "data": [
              {
               "name": "knockout",
               "type": "js",
               "url": "/assetserver/bf3e344bbbe45b806bbda88c6101232eb1f7318f-knockout.js"
              },
              {
               "name": "knockout_punches",
               "type": "js",
               "url": "/assetserver/3ad363ca1664d7335dff0eabc7ebe7d829397430-knockout_punches.js"
              },
              {
               "name": null,
               "type": "js",
               "url": "/assetserver/c17843d82807177c96402335f7810c38fb70de05-all.js"
              },
              {
               "name": null,
               "type": "css",
               "url": "/assetserver/cf9b1ef11d5ef7ab3ff5a3942d24ca77dcb679d2-style.css"
              },
              {
               "name": null,
               "type": "css",
               "url": "/assetserver/c591c2d5f890a3e4541fd6b806094298d3ec794b-bulma_confined.min.css"
              }
             ],
             "type": "async_block"
            },
            "mount_callbacks": [
             "function () {\n    var handler = (function (ko, koPunches) {\n    ko.punches.enableAll();\n    ko.bindingHandlers.numericValue = {\n        init: function(element, valueAccessor, allBindings, data, context) {\n            var stringified = ko.observable(ko.unwrap(valueAccessor()));\n            stringified.subscribe(function(value) {\n                var val = parseFloat(value);\n                if (!isNaN(val)) {\n                    valueAccessor()(val);\n                }\n            });\n            valueAccessor().subscribe(function(value) {\n                var str = JSON.stringify(value);\n                if ((str == \"0\") && ([\"-0\", \"-0.\"].indexOf(stringified()) >= 0))\n                     return;\n                 if ([\"null\", \"\"].indexOf(str) >= 0)\n                     return;\n                stringified(str);\n            });\n            ko.applyBindingsToNode(\n                element,\n                {\n                    value: stringified,\n                    valueUpdate: allBindings.get('valueUpdate'),\n                },\n                context,\n            );\n        }\n    };\n    var json_data = {\"formatted_vals\":[\"1.0\",\"1.2\",\"1.4\",\"1.6\",\"1.8\",\"2.0\",\"2.2\",\"2.4\",\"2.6\",\"2.8\",\"3.0\",\"3.2\",\"3.4\",\"3.6\",\"3.8\",\"4.0\",\"4.2\",\"4.4\",\"4.6\",\"4.8\",\"5.0\",\"5.2\",\"5.4\",\"5.6\",\"5.8\",\"6.0\",\"6.2\",\"6.4\",\"6.6\",\"6.8\",\"7.0\",\"7.2\",\"7.4\",\"7.6\",\"7.8\",\"8.0\",\"8.2\",\"8.4\",\"8.6\",\"8.8\",\"9.0\",\"9.2\",\"9.4\",\"9.6\",\"9.8\",\"10.0\"],\"changes\":WebIO.getval({\"name\":\"changes\",\"scope\":\"15786896380768564873\",\"id\":\"ob_37\",\"type\":\"observable\"}),\"index\":WebIO.getval({\"name\":\"index\",\"scope\":\"15786896380768564873\",\"id\":\"ob_36\",\"type\":\"observable\"})};\n    var self = this;\n    function AppViewModel() {\n        for (var key in json_data) {\n            var el = json_data[key];\n            this[key] = Array.isArray(el) ? ko.observableArray(el) : ko.observable(el);\n        }\n        \n        [this[\"formatted_val\"]=ko.computed(    function(){\n        return this.formatted_vals()[parseInt(this.index())-(1)];\n    }\n,this)]\n        [this[\"changes\"].subscribe((function (val){!(this.valueFromJulia[\"changes\"]) ? (WebIO.setval({\"name\":\"changes\",\"scope\":\"15786896380768564873\",\"id\":\"ob_37\",\"type\":\"observable\"},val)) : undefined; return this.valueFromJulia[\"changes\"]=false}),self),this[\"index\"].subscribe((function (val){!(this.valueFromJulia[\"index\"]) ? (WebIO.setval({\"name\":\"index\",\"scope\":\"15786896380768564873\",\"id\":\"ob_36\",\"type\":\"observable\"},val)) : undefined; return this.valueFromJulia[\"index\"]=false}),self)]\n        \n    }\n    self.model = new AppViewModel();\n    self.valueFromJulia = {};\n    for (var key in json_data) {\n        self.valueFromJulia[key] = false;\n    }\n    ko.applyBindings(self.model, self.dom);\n}\n);\n    (WebIO.importBlock({\"data\":[{\"name\":\"knockout\",\"type\":\"js\",\"url\":\"/assetserver/bf3e344bbbe45b806bbda88c6101232eb1f7318f-knockout.js\"},{\"name\":\"knockout_punches\",\"type\":\"js\",\"url\":\"/assetserver/3ad363ca1664d7335dff0eabc7ebe7d829397430-knockout_punches.js\"}],\"type\":\"async_block\"})).then((imports) => handler.apply(this, imports));\n}\n"
            ],
            "observables": {
             "changes": {
              "id": "ob_37",
              "sync": false,
              "value": 0
             },
             "index": {
              "id": "ob_36",
              "sync": true,
              "value": 23
             }
            },
            "systemjs_options": null
           },
           "nodeType": "Scope",
           "props": {},
           "type": "node"
          }
         ],
         "instanceArgs": {
          "namespace": "html",
          "tag": "div"
         },
         "nodeType": "DOM",
         "props": {
          "className": "field interact-widget"
         },
         "type": "node"
        },
        {
         "children": [
          {
           "children": [],
           "instanceArgs": {
            "id": "ob_43",
            "name": "obs-node"
           },
           "nodeType": "ObservableNode",
           "props": {},
           "type": "node"
          }
         ],
         "instanceArgs": {
          "handlers": {},
          "id": "18241912188816166202",
          "imports": {
           "data": [],
           "type": "async_block"
          },
          "mount_callbacks": [],
          "observables": {
           "obs-node": {
            "id": "ob_43",
            "sync": false,
            "value": {
             "children": [
              {
               "children": [],
               "instanceArgs": {
                "namespace": "html",
                "tag": "div"
               },
               "nodeType": "DOM",
               "props": {
                "setInnerHtml": "<?xml version=\"1.0\" encoding=\"utf-8\"?>\n<svg xmlns=\"http://www.w3.org/2000/svg\" xmlns:xlink=\"http://www.w3.org/1999/xlink\" width=\"800\" height=\"500\" viewBox=\"0 0 3200 2000\">\n<defs>\n  <clipPath id=\"clip3400\">\n    <rect x=\"0\" y=\"0\" width=\"3200\" height=\"2000\"/>\n  </clipPath>\n</defs>\n<polygon clip-path=\"url(#clip3400)\" points=\"\n0,2000 3200,2000 3200,0 0,0 \n  \" fill=\"#ffffff\" fill-rule=\"evenodd\" fill-opacity=\"1\"/>\n<defs>\n  <clipPath id=\"clip3401\">\n    <rect x=\"640\" y=\"0\" width=\"2241\" height=\"2000\"/>\n  </clipPath>\n</defs>\n<polygon clip-path=\"url(#clip3400)\" points=\"\n161.898,1885.57 3152.76,1885.57 3152.76,47.2441 161.898,47.2441 \n  \" fill=\"#ffffff\" fill-rule=\"evenodd\" fill-opacity=\"1\"/>\n<defs>\n  <clipPath id=\"clip3402\">\n    <rect x=\"161\" y=\"47\" width=\"2992\" height=\"1839\"/>\n  </clipPath>\n</defs>\n<polyline clip-path=\"url(#clip3402)\" style=\"stroke:#000000; stroke-width:2; stroke-opacity:0.1; fill:none\" points=\"\n  161.898,1885.57 161.898,47.2441 \n  \"/>\n<polyline clip-path=\"url(#clip3402)\" style=\"stroke:#000000; stroke-width:2; stroke-opacity:0.1; fill:none\" points=\"\n  760.07,1885.57 760.07,47.2441 \n  \"/>\n<polyline clip-path=\"url(#clip3402)\" style=\"stroke:#000000; stroke-width:2; stroke-opacity:0.1; fill:none\" points=\"\n  1358.24,1885.57 1358.24,47.2441 \n  \"/>\n<polyline clip-path=\"url(#clip3402)\" style=\"stroke:#000000; stroke-width:2; stroke-opacity:0.1; fill:none\" points=\"\n  1956.41,1885.57 1956.41,47.2441 \n  \"/>\n<polyline clip-path=\"url(#clip3402)\" style=\"stroke:#000000; stroke-width:2; stroke-opacity:0.1; fill:none\" points=\"\n  2554.58,1885.57 2554.58,47.2441 \n  \"/>\n<polyline clip-path=\"url(#clip3402)\" style=\"stroke:#000000; stroke-width:2; stroke-opacity:0.1; fill:none\" points=\"\n  3152.76,1885.57 3152.76,47.2441 \n  \"/>\n<polyline clip-path=\"url(#clip3402)\" style=\"stroke:#000000; stroke-width:2; stroke-opacity:0.1; fill:none\" points=\"\n  161.898,1885.57 3152.76,1885.57 \n  \"/>\n<polyline clip-path=\"url(#clip3402)\" style=\"stroke:#000000; stroke-width:2; stroke-opacity:0.1; fill:none\" points=\"\n  161.898,1517.91 3152.76,1517.91 \n  \"/>\n<polyline clip-path=\"url(#clip3402)\" style=\"stroke:#000000; stroke-width:2; stroke-opacity:0.1; fill:none\" points=\"\n  161.898,1150.24 3152.76,1150.24 \n  \"/>\n<polyline clip-path=\"url(#clip3402)\" style=\"stroke:#000000; stroke-width:2; stroke-opacity:0.1; fill:none\" points=\"\n  161.898,782.575 3152.76,782.575 \n  \"/>\n<polyline clip-path=\"url(#clip3402)\" style=\"stroke:#000000; stroke-width:2; stroke-opacity:0.1; fill:none\" points=\"\n  161.898,414.909 3152.76,414.909 \n  \"/>\n<polyline clip-path=\"url(#clip3402)\" style=\"stroke:#000000; stroke-width:2; stroke-opacity:0.1; fill:none\" points=\"\n  161.898,47.2441 3152.76,47.2441 \n  \"/>\n<polyline clip-path=\"url(#clip3400)\" style=\"stroke:#000000; stroke-width:4; stroke-opacity:1; fill:none\" points=\"\n  161.898,1885.57 3152.76,1885.57 \n  \"/>\n<polyline clip-path=\"url(#clip3400)\" style=\"stroke:#000000; stroke-width:4; stroke-opacity:1; fill:none\" points=\"\n  161.898,1885.57 161.898,47.2441 \n  \"/>\n<polyline clip-path=\"url(#clip3400)\" style=\"stroke:#000000; stroke-width:4; stroke-opacity:1; fill:none\" points=\"\n  161.898,1885.57 161.898,1858 \n  \"/>\n<polyline clip-path=\"url(#clip3400)\" style=\"stroke:#000000; stroke-width:4; stroke-opacity:1; fill:none\" points=\"\n  760.07,1885.57 760.07,1858 \n  \"/>\n<polyline clip-path=\"url(#clip3400)\" style=\"stroke:#000000; stroke-width:4; stroke-opacity:1; fill:none\" points=\"\n  1358.24,1885.57 1358.24,1858 \n  \"/>\n<polyline clip-path=\"url(#clip3400)\" style=\"stroke:#000000; stroke-width:4; stroke-opacity:1; fill:none\" points=\"\n  1956.41,1885.57 1956.41,1858 \n  \"/>\n<polyline clip-path=\"url(#clip3400)\" style=\"stroke:#000000; stroke-width:4; stroke-opacity:1; fill:none\" points=\"\n  2554.58,1885.57 2554.58,1858 \n  \"/>\n<polyline clip-path=\"url(#clip3400)\" style=\"stroke:#000000; stroke-width:4; stroke-opacity:1; fill:none\" points=\"\n  3152.76,1885.57 3152.76,1858 \n  \"/>\n<polyline clip-path=\"url(#clip3400)\" style=\"stroke:#000000; stroke-width:4; stroke-opacity:1; fill:none\" points=\"\n  161.898,1885.57 206.761,1885.57 \n  \"/>\n<polyline clip-path=\"url(#clip3400)\" style=\"stroke:#000000; stroke-width:4; stroke-opacity:1; fill:none\" points=\"\n  161.898,1517.91 206.761,1517.91 \n  \"/>\n<polyline clip-path=\"url(#clip3400)\" style=\"stroke:#000000; stroke-width:4; stroke-opacity:1; fill:none\" points=\"\n  161.898,1150.24 206.761,1150.24 \n  \"/>\n<polyline clip-path=\"url(#clip3400)\" style=\"stroke:#000000; stroke-width:4; stroke-opacity:1; fill:none\" points=\"\n  161.898,782.575 206.761,782.575 \n  \"/>\n<polyline clip-path=\"url(#clip3400)\" style=\"stroke:#000000; stroke-width:4; stroke-opacity:1; fill:none\" points=\"\n  161.898,414.909 206.761,414.909 \n  \"/>\n<polyline clip-path=\"url(#clip3400)\" style=\"stroke:#000000; stroke-width:4; stroke-opacity:1; fill:none\" points=\"\n  161.898,47.2441 206.761,47.2441 \n  \"/>\n<g clip-path=\"url(#clip3400)\">\n<text style=\"fill:#000000; fill-opacity:1; font-family:Arial,Helvetica Neue,Helvetica,sans-serif; font-size:48px; text-anchor:middle;\" transform=\"rotate(0, 161.898, 1943.57)\" x=\"161.898\" y=\"1943.57\">0</text>\n</g>\n<g clip-path=\"url(#clip3400)\">\n<text style=\"fill:#000000; fill-opacity:1; font-family:Arial,Helvetica Neue,Helvetica,sans-serif; font-size:48px; text-anchor:middle;\" transform=\"rotate(0, 760.07, 1943.57)\" x=\"760.07\" y=\"1943.57\">10</text>\n</g>\n<g clip-path=\"url(#clip3400)\">\n<text style=\"fill:#000000; fill-opacity:1; font-family:Arial,Helvetica Neue,Helvetica,sans-serif; font-size:48px; text-anchor:middle;\" transform=\"rotate(0, 1358.24, 1943.57)\" x=\"1358.24\" y=\"1943.57\">20</text>\n</g>\n<g clip-path=\"url(#clip3400)\">\n<text style=\"fill:#000000; fill-opacity:1; font-family:Arial,Helvetica Neue,Helvetica,sans-serif; font-size:48px; text-anchor:middle;\" transform=\"rotate(0, 1956.41, 1943.57)\" x=\"1956.41\" y=\"1943.57\">30</text>\n</g>\n<g clip-path=\"url(#clip3400)\">\n<text style=\"fill:#000000; fill-opacity:1; font-family:Arial,Helvetica Neue,Helvetica,sans-serif; font-size:48px; text-anchor:middle;\" transform=\"rotate(0, 2554.58, 1943.57)\" x=\"2554.58\" y=\"1943.57\">40</text>\n</g>\n<g clip-path=\"url(#clip3400)\">\n<text style=\"fill:#000000; fill-opacity:1; font-family:Arial,Helvetica Neue,Helvetica,sans-serif; font-size:48px; text-anchor:middle;\" transform=\"rotate(0, 3152.76, 1943.57)\" x=\"3152.76\" y=\"1943.57\">50</text>\n</g>\n<g clip-path=\"url(#clip3400)\">\n<text style=\"fill:#000000; fill-opacity:1; font-family:Arial,Helvetica Neue,Helvetica,sans-serif; font-size:48px; text-anchor:end;\" transform=\"rotate(0, 129.898, 1903.07)\" x=\"129.898\" y=\"1903.07\">0.0</text>\n</g>\n<g clip-path=\"url(#clip3400)\">\n<text style=\"fill:#000000; fill-opacity:1; font-family:Arial,Helvetica Neue,Helvetica,sans-serif; font-size:48px; text-anchor:end;\" transform=\"rotate(0, 129.898, 1535.41)\" x=\"129.898\" y=\"1535.41\">0.2</text>\n</g>\n<g clip-path=\"url(#clip3400)\">\n<text style=\"fill:#000000; fill-opacity:1; font-family:Arial,Helvetica Neue,Helvetica,sans-serif; font-size:48px; text-anchor:end;\" transform=\"rotate(0, 129.898, 1167.74)\" x=\"129.898\" y=\"1167.74\">0.4</text>\n</g>\n<g clip-path=\"url(#clip3400)\">\n<text style=\"fill:#000000; fill-opacity:1; font-family:Arial,Helvetica Neue,Helvetica,sans-serif; font-size:48px; text-anchor:end;\" transform=\"rotate(0, 129.898, 800.075)\" x=\"129.898\" y=\"800.075\">0.6</text>\n</g>\n<g clip-path=\"url(#clip3400)\">\n<text style=\"fill:#000000; fill-opacity:1; font-family:Arial,Helvetica Neue,Helvetica,sans-serif; font-size:48px; text-anchor:end;\" transform=\"rotate(0, 129.898, 432.409)\" x=\"129.898\" y=\"432.409\">0.8</text>\n</g>\n<g clip-path=\"url(#clip3400)\">\n<text style=\"fill:#000000; fill-opacity:1; font-family:Arial,Helvetica Neue,Helvetica,sans-serif; font-size:48px; text-anchor:end;\" transform=\"rotate(0, 129.898, 64.7441)\" x=\"129.898\" y=\"64.7441\">1.0</text>\n</g>\n<circle clip-path=\"url(#clip3402)\" style=\"fill:#000000; stroke:none; fill-opacity:0.5\" cx=\"221.715\" cy=\"472.913\" r=\"18\"/>\n<circle clip-path=\"url(#clip3402)\" style=\"fill:#000000; stroke:none; fill-opacity:0.5\" cx=\"221.715\" cy=\"472.913\" r=\"14\"/>\n<circle clip-path=\"url(#clip3402)\" style=\"fill:#000000; stroke:none; fill-opacity:0.5\" cx=\"281.532\" cy=\"156.597\" r=\"18\"/>\n<circle clip-path=\"url(#clip3402)\" style=\"fill:#000000; stroke:none; fill-opacity:0.5\" cx=\"281.532\" cy=\"156.597\" r=\"14\"/>\n<circle clip-path=\"url(#clip3402)\" style=\"fill:#000000; stroke:none; fill-opacity:0.5\" cx=\"341.349\" cy=\"646.614\" r=\"18\"/>\n<circle clip-path=\"url(#clip3402)\" style=\"fill:#000000; stroke:none; fill-opacity:0.5\" cx=\"341.349\" cy=\"646.614\" r=\"14\"/>\n<circle clip-path=\"url(#clip3402)\" style=\"fill:#000000; stroke:none; fill-opacity:0.5\" cx=\"401.167\" cy=\"1158.6\" r=\"18\"/>\n<circle clip-path=\"url(#clip3402)\" style=\"fill:#000000; stroke:none; fill-opacity:0.5\" cx=\"401.167\" cy=\"1158.6\" r=\"14\"/>\n<circle clip-path=\"url(#clip3402)\" style=\"fill:#000000; stroke:none; fill-opacity:0.5\" cx=\"460.984\" cy=\"1309.73\" r=\"18\"/>\n<circle clip-path=\"url(#clip3402)\" style=\"fill:#000000; stroke:none; fill-opacity:0.5\" cx=\"460.984\" cy=\"1309.73\" r=\"14\"/>\n<circle clip-path=\"url(#clip3402)\" style=\"fill:#000000; stroke:none; fill-opacity:0.5\" cx=\"520.801\" cy=\"667.579\" r=\"18\"/>\n<circle clip-path=\"url(#clip3402)\" style=\"fill:#000000; stroke:none; fill-opacity:0.5\" cx=\"520.801\" cy=\"667.579\" r=\"14\"/>\n<circle clip-path=\"url(#clip3402)\" style=\"fill:#000000; stroke:none; fill-opacity:0.5\" cx=\"580.618\" cy=\"808.271\" r=\"18\"/>\n<circle clip-path=\"url(#clip3402)\" style=\"fill:#000000; stroke:none; fill-opacity:0.5\" cx=\"580.618\" cy=\"808.271\" r=\"14\"/>\n<circle clip-path=\"url(#clip3402)\" style=\"fill:#000000; stroke:none; fill-opacity:0.5\" cx=\"640.435\" cy=\"1789.73\" r=\"18\"/>\n<circle clip-path=\"url(#clip3402)\" style=\"fill:#000000; stroke:none; fill-opacity:0.5\" cx=\"640.435\" cy=\"1789.73\" r=\"14\"/>\n<circle clip-path=\"url(#clip3402)\" style=\"fill:#000000; stroke:none; fill-opacity:0.5\" cx=\"700.252\" cy=\"1391.72\" r=\"18\"/>\n<circle clip-path=\"url(#clip3402)\" style=\"fill:#000000; stroke:none; fill-opacity:0.5\" cx=\"700.252\" cy=\"1391.72\" r=\"14\"/>\n<circle clip-path=\"url(#clip3402)\" style=\"fill:#000000; stroke:none; fill-opacity:0.5\" cx=\"760.07\" cy=\"1685.43\" r=\"18\"/>\n<circle clip-path=\"url(#clip3402)\" style=\"fill:#000000; stroke:none; fill-opacity:0.5\" cx=\"760.07\" cy=\"1685.43\" r=\"14\"/>\n<circle clip-path=\"url(#clip3402)\" style=\"fill:#000000; stroke:none; fill-opacity:0.5\" cx=\"819.887\" cy=\"1584.7\" r=\"18\"/>\n<circle clip-path=\"url(#clip3402)\" style=\"fill:#000000; stroke:none; fill-opacity:0.5\" cx=\"819.887\" cy=\"1584.7\" r=\"14\"/>\n<circle clip-path=\"url(#clip3402)\" style=\"fill:#000000; stroke:none; fill-opacity:0.5\" cx=\"879.704\" cy=\"1016.01\" r=\"18\"/>\n<circle clip-path=\"url(#clip3402)\" style=\"fill:#000000; stroke:none; fill-opacity:0.5\" cx=\"879.704\" cy=\"1016.01\" r=\"14\"/>\n<circle clip-path=\"url(#clip3402)\" style=\"fill:#000000; stroke:none; fill-opacity:0.5\" cx=\"939.521\" cy=\"294.661\" r=\"18\"/>\n<circle clip-path=\"url(#clip3402)\" style=\"fill:#000000; stroke:none; fill-opacity:0.5\" cx=\"939.521\" cy=\"294.661\" r=\"14\"/>\n<circle clip-path=\"url(#clip3402)\" style=\"fill:#000000; stroke:none; fill-opacity:0.5\" cx=\"999.338\" cy=\"750.419\" r=\"18\"/>\n<circle clip-path=\"url(#clip3402)\" style=\"fill:#000000; stroke:none; fill-opacity:0.5\" cx=\"999.338\" cy=\"750.419\" r=\"14\"/>\n<circle clip-path=\"url(#clip3402)\" style=\"fill:#000000; stroke:none; fill-opacity:0.5\" cx=\"1059.16\" cy=\"1360.36\" r=\"18\"/>\n<circle clip-path=\"url(#clip3402)\" style=\"fill:#000000; stroke:none; fill-opacity:0.5\" cx=\"1059.16\" cy=\"1360.36\" r=\"14\"/>\n<circle clip-path=\"url(#clip3402)\" style=\"fill:#000000; stroke:none; fill-opacity:0.5\" cx=\"1118.97\" cy=\"1032.87\" r=\"18\"/>\n<circle clip-path=\"url(#clip3402)\" style=\"fill:#000000; stroke:none; fill-opacity:0.5\" cx=\"1118.97\" cy=\"1032.87\" r=\"14\"/>\n<circle clip-path=\"url(#clip3402)\" style=\"fill:#000000; stroke:none; fill-opacity:0.5\" cx=\"1178.79\" cy=\"1378.52\" r=\"18\"/>\n<circle clip-path=\"url(#clip3402)\" style=\"fill:#000000; stroke:none; fill-opacity:0.5\" cx=\"1178.79\" cy=\"1378.52\" r=\"14\"/>\n<circle clip-path=\"url(#clip3402)\" style=\"fill:#000000; stroke:none; fill-opacity:0.5\" cx=\"1238.61\" cy=\"1064.63\" r=\"18\"/>\n<circle clip-path=\"url(#clip3402)\" style=\"fill:#000000; stroke:none; fill-opacity:0.5\" cx=\"1238.61\" cy=\"1064.63\" r=\"14\"/>\n<circle clip-path=\"url(#clip3402)\" style=\"fill:#000000; stroke:none; fill-opacity:0.5\" cx=\"1298.42\" cy=\"815.08\" r=\"18\"/>\n<circle clip-path=\"url(#clip3402)\" style=\"fill:#000000; stroke:none; fill-opacity:0.5\" cx=\"1298.42\" cy=\"815.08\" r=\"14\"/>\n<circle clip-path=\"url(#clip3402)\" style=\"fill:#000000; stroke:none; fill-opacity:0.5\" cx=\"1358.24\" cy=\"1414.99\" r=\"18\"/>\n<circle clip-path=\"url(#clip3402)\" style=\"fill:#000000; stroke:none; fill-opacity:0.5\" cx=\"1358.24\" cy=\"1414.99\" r=\"14\"/>\n<circle clip-path=\"url(#clip3402)\" style=\"fill:#000000; stroke:none; fill-opacity:0.5\" cx=\"1418.06\" cy=\"587.969\" r=\"18\"/>\n<circle clip-path=\"url(#clip3402)\" style=\"fill:#000000; stroke:none; fill-opacity:0.5\" cx=\"1418.06\" cy=\"587.969\" r=\"14\"/>\n<circle clip-path=\"url(#clip3402)\" style=\"fill:#000000; stroke:none; fill-opacity:0.5\" cx=\"1477.88\" cy=\"1348.82\" r=\"18\"/>\n<circle clip-path=\"url(#clip3402)\" style=\"fill:#000000; stroke:none; fill-opacity:0.5\" cx=\"1477.88\" cy=\"1348.82\" r=\"14\"/>\n<circle clip-path=\"url(#clip3402)\" style=\"fill:#000000; stroke:none; fill-opacity:0.5\" cx=\"1537.69\" cy=\"1368.88\" r=\"18\"/>\n<circle clip-path=\"url(#clip3402)\" style=\"fill:#000000; stroke:none; fill-opacity:0.5\" cx=\"1537.69\" cy=\"1368.88\" r=\"14\"/>\n<circle clip-path=\"url(#clip3402)\" style=\"fill:#000000; stroke:none; fill-opacity:0.5\" cx=\"1597.51\" cy=\"427.904\" r=\"18\"/>\n<circle clip-path=\"url(#clip3402)\" style=\"fill:#000000; stroke:none; fill-opacity:0.5\" cx=\"1597.51\" cy=\"427.904\" r=\"14\"/>\n<circle clip-path=\"url(#clip3402)\" style=\"fill:#000000; stroke:none; fill-opacity:0.5\" cx=\"1657.33\" cy=\"1500.94\" r=\"18\"/>\n<circle clip-path=\"url(#clip3402)\" style=\"fill:#000000; stroke:none; fill-opacity:0.5\" cx=\"1657.33\" cy=\"1500.94\" r=\"14\"/>\n<polyline clip-path=\"url(#clip3402)\" style=\"stroke:#000000; stroke-width:21.6; stroke-opacity:1; fill:none\" points=\"\n  165.549,1773.44 169.2,1661.72 172.851,1550.83 176.502,1441.2 184.942,1194.77 193.382,962.062 201.821,747.713 210.261,555.978 218.701,390.667 227.141,255.067 \n  235.58,151.87 244.02,83.1296 252.46,50.2108 260.899,53.768 269.339,93.7305 277.779,169.304 286.219,278.987 294.658,420.599 303.098,591.326 311.538,787.775 \n  321.682,1052.38 331.826,1340.89 341.97,1645.03 352.113,1956.06 362.257,2265.08 372.401,2563.2 382.545,2841.89 392.689,3093.14 401.265,3278.8 409.842,3435.87 \n  418.418,3561.13 426.995,3652 435.571,3706.62 444.148,3723.86 452.724,3703.38 461.301,3645.6 470.617,3541.95 479.934,3398.21 489.25,3217.85 498.567,3005.24 \n  517.2,2504.49 535.833,1944.18 553.011,1421.35 570.189,936.54 578.778,721.016 587.367,529.461 595.956,365.818 604.545,233.454 613.753,129.374 622.961,66.8296 \n  632.17,47.3006 641.378,71.2484 650.586,138.107 659.795,246.294 664.399,315.124 669.003,393.253 673.607,480.218 678.211,575.506 688.88,825.084 699.549,1108.31 \n  710.217,1416.19 720.886,1738.97 731.555,2066.4 742.223,2388.09 752.892,2693.83 763.561,2973.94 773.042,3194.13 782.523,3381.53 792.004,3531.42 801.485,3640.04 \n  810.966,3704.68 820.448,3723.72 829.929,3696.68 839.41,3624.23 847.724,3524.73 856.038,3393.63 864.352,3233.44 872.666,3047.25 889.294,2611.67 905.922,2120.35 \n  924.051,1565.48 942.181,1039.79 951.245,803.084 960.31,591.192 969.374,408.966 978.439,260.584 987.557,148.903 996.676,77.4996 1005.79,48.0299 1014.91,61.1774 \n  1024.03,116.637 1033.15,213.123 1037.71,276.087 1042.27,348.397 1046.83,429.633 1051.39,519.322 1061.47,744.999 1071.55,1003 1081.63,1286.01 1091.71,1586.01 \n  1111.88,2202.74 1132.04,2783.77 1141.63,3028.36 1151.22,3243.62 1160.82,3424.03 1170.41,3564.97 1180,3662.81 1189.59,3715.05 1194.39,3723.6 1199.19,3720.34 \n  1203.98,3705.29 1208.78,3678.55 1213.77,3638.53 1218.75,3586.33 1223.74,3522.32 1228.73,3446.94 1238.7,3264.24 1248.67,3043.3 1258.65,2790.25 1268.62,2512.1 \n  1278.6,2216.58 1288.57,1911.87 1305.36,1401.59 1322.15,929.206 1330.55,718.975 1338.94,531.688 1347.34,371.03 1355.74,240.16 1360.86,176.041 1365.99,124.464 \n  1371.11,85.808 1376.24,60.3564 1381.36,48.2958 1386.49,49.7149 1391.61,64.6033 1396.74,92.8516 1406.99,188.503 1417.24,333.866 1422.36,423.914 1427.49,524.685 \n  1432.61,635.44 1437.74,755.367 1457.01,1272.58 1476.28,1852.87 1495.55,2436.52 1514.82,2963.48 1522.54,3146.14 1530.26,3307.84 1537.98,3445.89 1545.7,3558 \n  1553.42,3642.3 1561.14,3697.39 1568.85,3722.35 1576.57,3716.78 1584.29,3680.75 1592.01,3614.88 1599.73,3520.26 1607.45,3398.45 1615.17,3251.49 1622.88,3081.82 \n  1630.6,2892.26 1638.32,2685.96 1643.07,2552.12 1647.82,2414.07 1652.58,2272.69 \n  \"/>\n<polygon clip-path=\"url(#clip3400)\" points=\"\n2685.93,360.204 3056.76,360.204 3056.76,178.764 2685.93,178.764 \n  \" fill=\"#ffffff\" fill-rule=\"evenodd\" fill-opacity=\"1\"/>\n<polyline clip-path=\"url(#clip3400)\" style=\"stroke:#000000; stroke-width:4; stroke-opacity:1; fill:none\" points=\"\n  2685.93,360.204 3056.76,360.204 3056.76,178.764 2685.93,178.764 2685.93,360.204 \n  \"/>\n<circle clip-path=\"url(#clip3400)\" style=\"fill:#000000; stroke:none; fill-opacity:0.5\" cx=\"2829.93\" cy=\"239.244\" r=\"25\"/>\n<circle clip-path=\"url(#clip3400)\" style=\"fill:#000000; stroke:none; fill-opacity:0.5\" cx=\"2829.93\" cy=\"239.244\" r=\"21\"/>\n<g clip-path=\"url(#clip3400)\">\n<text style=\"fill:#000000; fill-opacity:1; font-family:Arial,Helvetica Neue,Helvetica,sans-serif; font-size:48px; text-anchor:start;\" transform=\"rotate(0, 2941.93, 256.744)\" x=\"2941.93\" y=\"256.744\">y1</text>\n</g>\n<polyline clip-path=\"url(#clip3400)\" style=\"stroke:#000000; stroke-width:21.6; stroke-opacity:1; fill:none\" points=\"\n  2717.93,299.724 2909.93,299.724 \n  \"/>\n<g clip-path=\"url(#clip3400)\">\n<text style=\"fill:#000000; fill-opacity:1; font-family:Arial,Helvetica Neue,Helvetica,sans-serif; font-size:48px; text-anchor:start;\" transform=\"rotate(0, 2941.93, 317.224)\" x=\"2941.93\" y=\"317.224\">y2</text>\n</g>\n</svg>\n"
               },
               "type": "node"
              }
             ],
             "instanceArgs": {
              "namespace": "html",
              "tag": "div"
             },
             "nodeType": "DOM",
             "props": {
              "className": "interact-flex-row interact-widget"
             },
             "type": "node"
            }
           }
          },
          "systemjs_options": null
         },
         "nodeType": "Scope",
         "props": {},
         "type": "node"
        }
       ],
       "instanceArgs": {
        "namespace": "html",
        "tag": "div"
       },
       "nodeType": "DOM",
       "props": {},
       "type": "node"
      },
      "text/html": [
       "<div\n",
       "    class=\"webio-mountpoint\"\n",
       "    data-webio-mountpoint=\"18267985515607794011\"\n",
       ">\n",
       "    <script>\n",
       "    if (window.require && require.defined && require.defined(\"nbextensions/webio-jupyter-notebook\")) {\n",
       "        console.log(\"Jupyter WebIO extension detected, not mounting.\");\n",
       "    } else if (window.WebIO) {\n",
       "        WebIO.mount(\n",
       "            document.querySelector('[data-webio-mountpoint=\"18267985515607794011\"]'),\n",
       "            {\"props\":{},\"nodeType\":\"DOM\",\"type\":\"node\",\"instanceArgs\":{\"namespace\":\"html\",\"tag\":\"div\"},\"children\":[{\"props\":{\"className\":\"field interact-widget\"},\"nodeType\":\"DOM\",\"type\":\"node\",\"instanceArgs\":{\"namespace\":\"html\",\"tag\":\"div\"},\"children\":[{\"props\":{},\"nodeType\":\"Scope\",\"type\":\"node\",\"instanceArgs\":{\"imports\":{\"data\":[{\"name\":\"knockout\",\"type\":\"js\",\"url\":\"\\/assetserver\\/bf3e344bbbe45b806bbda88c6101232eb1f7318f-knockout.js\"},{\"name\":\"knockout_punches\",\"type\":\"js\",\"url\":\"\\/assetserver\\/3ad363ca1664d7335dff0eabc7ebe7d829397430-knockout_punches.js\"},{\"name\":null,\"type\":\"js\",\"url\":\"\\/assetserver\\/c17843d82807177c96402335f7810c38fb70de05-all.js\"},{\"name\":null,\"type\":\"css\",\"url\":\"\\/assetserver\\/cf9b1ef11d5ef7ab3ff5a3942d24ca77dcb679d2-style.css\"},{\"name\":null,\"type\":\"css\",\"url\":\"\\/assetserver\\/c591c2d5f890a3e4541fd6b806094298d3ec794b-bulma_confined.min.css\"}],\"type\":\"async_block\"},\"id\":\"11622179062171589222\",\"handlers\":{\"changes\":[\"(function (val){return (val!=this.model[\\\"changes\\\"]()) ? (this.valueFromJulia[\\\"changes\\\"]=true, this.model[\\\"changes\\\"](val)) : undefined})\"],\"index\":[\"(function (val){return (val!=this.model[\\\"index\\\"]()) ? (this.valueFromJulia[\\\"index\\\"]=true, this.model[\\\"index\\\"](val)) : undefined})\"]},\"systemjs_options\":null,\"mount_callbacks\":[\"function () {\\n    var handler = (function (ko, koPunches) {\\n    ko.punches.enableAll();\\n    ko.bindingHandlers.numericValue = {\\n        init: function(element, valueAccessor, allBindings, data, context) {\\n            var stringified = ko.observable(ko.unwrap(valueAccessor()));\\n            stringified.subscribe(function(value) {\\n                var val = parseFloat(value);\\n                if (!isNaN(val)) {\\n                    valueAccessor()(val);\\n                }\\n            });\\n            valueAccessor().subscribe(function(value) {\\n                var str = JSON.stringify(value);\\n                if ((str == \\\"0\\\") && ([\\\"-0\\\", \\\"-0.\\\"].indexOf(stringified()) >= 0))\\n                     return;\\n                 if ([\\\"null\\\", \\\"\\\"].indexOf(str) >= 0)\\n                     return;\\n                stringified(str);\\n            });\\n            ko.applyBindingsToNode(\\n                element,\\n                {\\n                    value: stringified,\\n                    valueUpdate: allBindings.get('valueUpdate'),\\n                },\\n                context,\\n            );\\n        }\\n    };\\n    var json_data = {\\\"formatted_vals\\\":[\\\"1\\\",\\\"2\\\",\\\"3\\\",\\\"4\\\",\\\"5\\\",\\\"6\\\",\\\"7\\\",\\\"8\\\",\\\"9\\\",\\\"10\\\",\\\"11\\\",\\\"12\\\",\\\"13\\\",\\\"14\\\",\\\"15\\\",\\\"16\\\",\\\"17\\\",\\\"18\\\",\\\"19\\\",\\\"20\\\",\\\"21\\\",\\\"22\\\",\\\"23\\\",\\\"24\\\",\\\"25\\\",\\\"26\\\",\\\"27\\\",\\\"28\\\",\\\"29\\\",\\\"30\\\",\\\"31\\\",\\\"32\\\",\\\"33\\\",\\\"34\\\",\\\"35\\\",\\\"36\\\",\\\"37\\\",\\\"38\\\",\\\"39\\\",\\\"40\\\",\\\"41\\\",\\\"42\\\",\\\"43\\\",\\\"44\\\",\\\"45\\\",\\\"46\\\",\\\"47\\\",\\\"48\\\",\\\"49\\\",\\\"50\\\"],\\\"changes\\\":WebIO.getval({\\\"name\\\":\\\"changes\\\",\\\"scope\\\":\\\"11622179062171589222\\\",\\\"id\\\":\\\"ob_29\\\",\\\"type\\\":\\\"observable\\\"}),\\\"index\\\":WebIO.getval({\\\"name\\\":\\\"index\\\",\\\"scope\\\":\\\"11622179062171589222\\\",\\\"id\\\":\\\"ob_28\\\",\\\"type\\\":\\\"observable\\\"})};\\n    var self = this;\\n    function AppViewModel() {\\n        for (var key in json_data) {\\n            var el = json_data[key];\\n            this[key] = Array.isArray(el) ? ko.observableArray(el) : ko.observable(el);\\n        }\\n        \\n        [this[\\\"formatted_val\\\"]=ko.computed(    function(){\\n        return this.formatted_vals()[parseInt(this.index())-(1)];\\n    }\\n,this)]\\n        [this[\\\"changes\\\"].subscribe((function (val){!(this.valueFromJulia[\\\"changes\\\"]) ? (WebIO.setval({\\\"name\\\":\\\"changes\\\",\\\"scope\\\":\\\"11622179062171589222\\\",\\\"id\\\":\\\"ob_29\\\",\\\"type\\\":\\\"observable\\\"},val)) : undefined; return this.valueFromJulia[\\\"changes\\\"]=false}),self),this[\\\"index\\\"].subscribe((function (val){!(this.valueFromJulia[\\\"index\\\"]) ? (WebIO.setval({\\\"name\\\":\\\"index\\\",\\\"scope\\\":\\\"11622179062171589222\\\",\\\"id\\\":\\\"ob_28\\\",\\\"type\\\":\\\"observable\\\"},val)) : undefined; return this.valueFromJulia[\\\"index\\\"]=false}),self)]\\n        \\n    }\\n    self.model = new AppViewModel();\\n    self.valueFromJulia = {};\\n    for (var key in json_data) {\\n        self.valueFromJulia[key] = false;\\n    }\\n    ko.applyBindings(self.model, self.dom);\\n}\\n);\\n    (WebIO.importBlock({\\\"data\\\":[{\\\"name\\\":\\\"knockout\\\",\\\"type\\\":\\\"js\\\",\\\"url\\\":\\\"\\/assetserver\\/bf3e344bbbe45b806bbda88c6101232eb1f7318f-knockout.js\\\"},{\\\"name\\\":\\\"knockout_punches\\\",\\\"type\\\":\\\"js\\\",\\\"url\\\":\\\"\\/assetserver\\/3ad363ca1664d7335dff0eabc7ebe7d829397430-knockout_punches.js\\\"}],\\\"type\\\":\\\"async_block\\\"})).then((imports) => handler.apply(this, imports));\\n}\\n\"],\"observables\":{\"changes\":{\"sync\":false,\"id\":\"ob_29\",\"value\":0},\"index\":{\"sync\":true,\"id\":\"ob_28\",\"value\":25}}},\"children\":[{\"props\":{\"className\":\"interact-flex-row interact-widget\"},\"nodeType\":\"DOM\",\"type\":\"node\",\"instanceArgs\":{\"namespace\":\"html\",\"tag\":\"div\"},\"children\":[{\"props\":{\"className\":\"interact-flex-row-left\"},\"nodeType\":\"DOM\",\"type\":\"node\",\"instanceArgs\":{\"namespace\":\"html\",\"tag\":\"div\"},\"children\":[{\"props\":{\"className\":\"interact \",\"style\":{\"padding\":\"5px 10px 0px 10px\"}},\"nodeType\":\"DOM\",\"type\":\"node\",\"instanceArgs\":{\"namespace\":\"html\",\"tag\":\"label\"},\"children\":[\"i\"]}]},{\"props\":{\"className\":\"interact-flex-row-center\"},\"nodeType\":\"DOM\",\"type\":\"node\",\"instanceArgs\":{\"namespace\":\"html\",\"tag\":\"div\"},\"children\":[{\"props\":{\"max\":50,\"min\":1,\"attributes\":{\"type\":\"range\",\"data-bind\":\"numericValue: index, valueUpdate: 'input', event: {change: function (){this.changes(this.changes()+1)}}\",\"orient\":\"horizontal\"},\"step\":1,\"className\":\"slider slider is-fullwidth\",\"style\":{}},\"nodeType\":\"DOM\",\"type\":\"node\",\"instanceArgs\":{\"namespace\":\"html\",\"tag\":\"input\"},\"children\":[]}]},{\"props\":{\"className\":\"interact-flex-row-right\"},\"nodeType\":\"DOM\",\"type\":\"node\",\"instanceArgs\":{\"namespace\":\"html\",\"tag\":\"div\"},\"children\":[{\"props\":{\"attributes\":{\"data-bind\":\"text: formatted_val\"}},\"nodeType\":\"DOM\",\"type\":\"node\",\"instanceArgs\":{\"namespace\":\"html\",\"tag\":\"p\"},\"children\":[]}]}]}]}]},{\"props\":{\"className\":\"interact-widget\"},\"nodeType\":\"DOM\",\"type\":\"node\",\"instanceArgs\":{\"namespace\":\"html\",\"tag\":\"div\"},\"children\":[{\"props\":{},\"nodeType\":\"Scope\",\"type\":\"node\",\"instanceArgs\":{\"imports\":{\"data\":[{\"name\":\"knockout\",\"type\":\"js\",\"url\":\"\\/assetserver\\/bf3e344bbbe45b806bbda88c6101232eb1f7318f-knockout.js\"},{\"name\":\"knockout_punches\",\"type\":\"js\",\"url\":\"\\/assetserver\\/3ad363ca1664d7335dff0eabc7ebe7d829397430-knockout_punches.js\"},{\"name\":null,\"type\":\"js\",\"url\":\"\\/assetserver\\/c17843d82807177c96402335f7810c38fb70de05-all.js\"},{\"name\":null,\"type\":\"css\",\"url\":\"\\/assetserver\\/cf9b1ef11d5ef7ab3ff5a3942d24ca77dcb679d2-style.css\"},{\"name\":null,\"type\":\"css\",\"url\":\"\\/assetserver\\/c591c2d5f890a3e4541fd6b806094298d3ec794b-bulma_confined.min.css\"}],\"type\":\"async_block\"},\"id\":\"633410034335891009\",\"handlers\":{\"options_js\":[\"(function (val){return (val!=this.model[\\\"options_js\\\"]()) ? (this.valueFromJulia[\\\"options_js\\\"]=true, this.model[\\\"options_js\\\"](val)) : undefined})\"],\"index\":[\"(function (val){return (val!=this.model[\\\"index\\\"]()) ? (this.valueFromJulia[\\\"index\\\"]=true, this.model[\\\"index\\\"](val)) : undefined})\"]},\"systemjs_options\":null,\"mount_callbacks\":[\"function () {\\n    var handler = (function (ko, koPunches) {\\n    ko.punches.enableAll();\\n    ko.bindingHandlers.numericValue = {\\n        init: function(element, valueAccessor, allBindings, data, context) {\\n            var stringified = ko.observable(ko.unwrap(valueAccessor()));\\n            stringified.subscribe(function(value) {\\n                var val = parseFloat(value);\\n                if (!isNaN(val)) {\\n                    valueAccessor()(val);\\n                }\\n            });\\n            valueAccessor().subscribe(function(value) {\\n                var str = JSON.stringify(value);\\n                if ((str == \\\"0\\\") && ([\\\"-0\\\", \\\"-0.\\\"].indexOf(stringified()) >= 0))\\n                     return;\\n                 if ([\\\"null\\\", \\\"\\\"].indexOf(str) >= 0)\\n                     return;\\n                stringified(str);\\n            });\\n            ko.applyBindingsToNode(\\n                element,\\n                {\\n                    value: stringified,\\n                    valueUpdate: allBindings.get('valueUpdate'),\\n                },\\n                context,\\n            );\\n        }\\n    };\\n    var json_data = {\\\"options_js\\\":WebIO.getval({\\\"name\\\":\\\"options_js\\\",\\\"scope\\\":\\\"633410034335891009\\\",\\\"id\\\":\\\"ob_34\\\",\\\"type\\\":\\\"observable\\\"}),\\\"index\\\":WebIO.getval({\\\"name\\\":\\\"index\\\",\\\"scope\\\":\\\"633410034335891009\\\",\\\"id\\\":\\\"ob_33\\\",\\\"type\\\":\\\"observable\\\"})};\\n    var self = this;\\n    function AppViewModel() {\\n        for (var key in json_data) {\\n            var el = json_data[key];\\n            this[key] = Array.isArray(el) ? ko.observableArray(el) : ko.observable(el);\\n        }\\n        [this[\\\"update\\\"]=function (val) {this.index(val)}]\\n        \\n        [this[\\\"options_js\\\"].subscribe((function (val){!(this.valueFromJulia[\\\"options_js\\\"]) ? (WebIO.setval({\\\"name\\\":\\\"options_js\\\",\\\"scope\\\":\\\"633410034335891009\\\",\\\"id\\\":\\\"ob_34\\\",\\\"type\\\":\\\"observable\\\"},val)) : undefined; return this.valueFromJulia[\\\"options_js\\\"]=false}),self),this[\\\"index\\\"].subscribe((function (val){!(this.valueFromJulia[\\\"index\\\"]) ? (WebIO.setval({\\\"name\\\":\\\"index\\\",\\\"scope\\\":\\\"633410034335891009\\\",\\\"id\\\":\\\"ob_33\\\",\\\"type\\\":\\\"observable\\\"},val)) : undefined; return this.valueFromJulia[\\\"index\\\"]=false}),self)]\\n        \\n    }\\n    self.model = new AppViewModel();\\n    self.valueFromJulia = {};\\n    for (var key in json_data) {\\n        self.valueFromJulia[key] = false;\\n    }\\n    ko.applyBindings(self.model, self.dom);\\n}\\n);\\n    (WebIO.importBlock({\\\"data\\\":[{\\\"name\\\":\\\"knockout\\\",\\\"type\\\":\\\"js\\\",\\\"url\\\":\\\"\\/assetserver\\/bf3e344bbbe45b806bbda88c6101232eb1f7318f-knockout.js\\\"},{\\\"name\\\":\\\"knockout_punches\\\",\\\"type\\\":\\\"js\\\",\\\"url\\\":\\\"\\/assetserver\\/3ad363ca1664d7335dff0eabc7ebe7d829397430-knockout_punches.js\\\"}],\\\"type\\\":\\\"async_block\\\"})).then((imports) => handler.apply(this, imports));\\n}\\n\"],\"observables\":{\"options_js\":{\"sync\":false,\"id\":\"ob_34\",\"value\":[{\"key\":\"black\",\"val\":1,\"id\":\"idR8g3PsVZ\"},{\"key\":\"blue\",\"val\":2,\"id\":\"idaZnYN74X\"},{\"key\":\"green\",\"val\":3,\"id\":\"idMWC55swo\"},{\"key\":\"red\",\"val\":4,\"id\":\"idJVumm8v0\"}]},\"index\":{\"sync\":true,\"id\":\"ob_33\",\"value\":1}}},\"children\":[{\"props\":{\"className\":\"interact-flex-row interact-widget\"},\"nodeType\":\"DOM\",\"type\":\"node\",\"instanceArgs\":{\"namespace\":\"html\",\"tag\":\"div\"},\"children\":[{\"props\":{\"className\":\"interact-flex-row-left\"},\"nodeType\":\"DOM\",\"type\":\"node\",\"instanceArgs\":{\"namespace\":\"html\",\"tag\":\"div\"},\"children\":[{\"props\":{\"className\":\"interact \",\"style\":{\"padding\":\"5px 10px 0px 10px\"}},\"nodeType\":\"DOM\",\"type\":\"node\",\"instanceArgs\":{\"namespace\":\"html\",\"tag\":\"label\"},\"children\":[\"color\"]}]},{\"props\":{\"className\":\"interact-flex-row-center\"},\"nodeType\":\"DOM\",\"type\":\"node\",\"instanceArgs\":{\"namespace\":\"html\",\"tag\":\"div\"},\"children\":[{\"props\":{\"attributes\":{\"data-bind\":\"foreach : options_js\"},\"className\":\"buttons has-addons is-centered\"},\"nodeType\":\"DOM\",\"type\":\"node\",\"instanceArgs\":{\"namespace\":\"html\",\"tag\":\"div\"},\"children\":[{\"props\":{\"attributes\":{\"data-bind\":\"click: function (){$root.update(val)}, css: {'is-primary is-selected' : $root.index() == val, 'interact-widget is-medium button ' : true}\"}},\"nodeType\":\"DOM\",\"type\":\"node\",\"instanceArgs\":{\"namespace\":\"html\",\"tag\":\"span\"},\"children\":[{\"props\":{\"attributes\":{\"data-bind\":\"text : key\"}},\"nodeType\":\"DOM\",\"type\":\"node\",\"instanceArgs\":{\"namespace\":\"html\",\"tag\":\"label\"},\"children\":[]}]}]}]},{\"props\":{\"className\":\"interact-flex-row-right\"},\"nodeType\":\"DOM\",\"type\":\"node\",\"instanceArgs\":{\"namespace\":\"html\",\"tag\":\"div\"},\"children\":[{\"props\":{},\"nodeType\":\"DOM\",\"type\":\"node\",\"instanceArgs\":{\"namespace\":\"html\",\"tag\":\"div\"},\"children\":[]}]}]}]}]},{\"props\":{\"className\":\"field interact-widget\"},\"nodeType\":\"DOM\",\"type\":\"node\",\"instanceArgs\":{\"namespace\":\"html\",\"tag\":\"div\"},\"children\":[{\"props\":{},\"nodeType\":\"Scope\",\"type\":\"node\",\"instanceArgs\":{\"imports\":{\"data\":[{\"name\":\"knockout\",\"type\":\"js\",\"url\":\"\\/assetserver\\/bf3e344bbbe45b806bbda88c6101232eb1f7318f-knockout.js\"},{\"name\":\"knockout_punches\",\"type\":\"js\",\"url\":\"\\/assetserver\\/3ad363ca1664d7335dff0eabc7ebe7d829397430-knockout_punches.js\"},{\"name\":null,\"type\":\"js\",\"url\":\"\\/assetserver\\/c17843d82807177c96402335f7810c38fb70de05-all.js\"},{\"name\":null,\"type\":\"css\",\"url\":\"\\/assetserver\\/cf9b1ef11d5ef7ab3ff5a3942d24ca77dcb679d2-style.css\"},{\"name\":null,\"type\":\"css\",\"url\":\"\\/assetserver\\/c591c2d5f890a3e4541fd6b806094298d3ec794b-bulma_confined.min.css\"}],\"type\":\"async_block\"},\"id\":\"15786896380768564873\",\"handlers\":{\"changes\":[\"(function (val){return (val!=this.model[\\\"changes\\\"]()) ? (this.valueFromJulia[\\\"changes\\\"]=true, this.model[\\\"changes\\\"](val)) : undefined})\"],\"index\":[\"(function (val){return (val!=this.model[\\\"index\\\"]()) ? (this.valueFromJulia[\\\"index\\\"]=true, this.model[\\\"index\\\"](val)) : undefined})\"]},\"systemjs_options\":null,\"mount_callbacks\":[\"function () {\\n    var handler = (function (ko, koPunches) {\\n    ko.punches.enableAll();\\n    ko.bindingHandlers.numericValue = {\\n        init: function(element, valueAccessor, allBindings, data, context) {\\n            var stringified = ko.observable(ko.unwrap(valueAccessor()));\\n            stringified.subscribe(function(value) {\\n                var val = parseFloat(value);\\n                if (!isNaN(val)) {\\n                    valueAccessor()(val);\\n                }\\n            });\\n            valueAccessor().subscribe(function(value) {\\n                var str = JSON.stringify(value);\\n                if ((str == \\\"0\\\") && ([\\\"-0\\\", \\\"-0.\\\"].indexOf(stringified()) >= 0))\\n                     return;\\n                 if ([\\\"null\\\", \\\"\\\"].indexOf(str) >= 0)\\n                     return;\\n                stringified(str);\\n            });\\n            ko.applyBindingsToNode(\\n                element,\\n                {\\n                    value: stringified,\\n                    valueUpdate: allBindings.get('valueUpdate'),\\n                },\\n                context,\\n            );\\n        }\\n    };\\n    var json_data = {\\\"formatted_vals\\\":[\\\"1.0\\\",\\\"1.2\\\",\\\"1.4\\\",\\\"1.6\\\",\\\"1.8\\\",\\\"2.0\\\",\\\"2.2\\\",\\\"2.4\\\",\\\"2.6\\\",\\\"2.8\\\",\\\"3.0\\\",\\\"3.2\\\",\\\"3.4\\\",\\\"3.6\\\",\\\"3.8\\\",\\\"4.0\\\",\\\"4.2\\\",\\\"4.4\\\",\\\"4.6\\\",\\\"4.8\\\",\\\"5.0\\\",\\\"5.2\\\",\\\"5.4\\\",\\\"5.6\\\",\\\"5.8\\\",\\\"6.0\\\",\\\"6.2\\\",\\\"6.4\\\",\\\"6.6\\\",\\\"6.8\\\",\\\"7.0\\\",\\\"7.2\\\",\\\"7.4\\\",\\\"7.6\\\",\\\"7.8\\\",\\\"8.0\\\",\\\"8.2\\\",\\\"8.4\\\",\\\"8.6\\\",\\\"8.8\\\",\\\"9.0\\\",\\\"9.2\\\",\\\"9.4\\\",\\\"9.6\\\",\\\"9.8\\\",\\\"10.0\\\"],\\\"changes\\\":WebIO.getval({\\\"name\\\":\\\"changes\\\",\\\"scope\\\":\\\"15786896380768564873\\\",\\\"id\\\":\\\"ob_37\\\",\\\"type\\\":\\\"observable\\\"}),\\\"index\\\":WebIO.getval({\\\"name\\\":\\\"index\\\",\\\"scope\\\":\\\"15786896380768564873\\\",\\\"id\\\":\\\"ob_36\\\",\\\"type\\\":\\\"observable\\\"})};\\n    var self = this;\\n    function AppViewModel() {\\n        for (var key in json_data) {\\n            var el = json_data[key];\\n            this[key] = Array.isArray(el) ? ko.observableArray(el) : ko.observable(el);\\n        }\\n        \\n        [this[\\\"formatted_val\\\"]=ko.computed(    function(){\\n        return this.formatted_vals()[parseInt(this.index())-(1)];\\n    }\\n,this)]\\n        [this[\\\"changes\\\"].subscribe((function (val){!(this.valueFromJulia[\\\"changes\\\"]) ? (WebIO.setval({\\\"name\\\":\\\"changes\\\",\\\"scope\\\":\\\"15786896380768564873\\\",\\\"id\\\":\\\"ob_37\\\",\\\"type\\\":\\\"observable\\\"},val)) : undefined; return this.valueFromJulia[\\\"changes\\\"]=false}),self),this[\\\"index\\\"].subscribe((function (val){!(this.valueFromJulia[\\\"index\\\"]) ? (WebIO.setval({\\\"name\\\":\\\"index\\\",\\\"scope\\\":\\\"15786896380768564873\\\",\\\"id\\\":\\\"ob_36\\\",\\\"type\\\":\\\"observable\\\"},val)) : undefined; return this.valueFromJulia[\\\"index\\\"]=false}),self)]\\n        \\n    }\\n    self.model = new AppViewModel();\\n    self.valueFromJulia = {};\\n    for (var key in json_data) {\\n        self.valueFromJulia[key] = false;\\n    }\\n    ko.applyBindings(self.model, self.dom);\\n}\\n);\\n    (WebIO.importBlock({\\\"data\\\":[{\\\"name\\\":\\\"knockout\\\",\\\"type\\\":\\\"js\\\",\\\"url\\\":\\\"\\/assetserver\\/bf3e344bbbe45b806bbda88c6101232eb1f7318f-knockout.js\\\"},{\\\"name\\\":\\\"knockout_punches\\\",\\\"type\\\":\\\"js\\\",\\\"url\\\":\\\"\\/assetserver\\/3ad363ca1664d7335dff0eabc7ebe7d829397430-knockout_punches.js\\\"}],\\\"type\\\":\\\"async_block\\\"})).then((imports) => handler.apply(this, imports));\\n}\\n\"],\"observables\":{\"changes\":{\"sync\":false,\"id\":\"ob_37\",\"value\":0},\"index\":{\"sync\":true,\"id\":\"ob_36\",\"value\":23}}},\"children\":[{\"props\":{\"className\":\"interact-flex-row interact-widget\"},\"nodeType\":\"DOM\",\"type\":\"node\",\"instanceArgs\":{\"namespace\":\"html\",\"tag\":\"div\"},\"children\":[{\"props\":{\"className\":\"interact-flex-row-left\"},\"nodeType\":\"DOM\",\"type\":\"node\",\"instanceArgs\":{\"namespace\":\"html\",\"tag\":\"div\"},\"children\":[{\"props\":{\"className\":\"interact \",\"style\":{\"padding\":\"5px 10px 0px 10px\"}},\"nodeType\":\"DOM\",\"type\":\"node\",\"instanceArgs\":{\"namespace\":\"html\",\"tag\":\"label\"},\"children\":[\"lw\"]}]},{\"props\":{\"className\":\"interact-flex-row-center\"},\"nodeType\":\"DOM\",\"type\":\"node\",\"instanceArgs\":{\"namespace\":\"html\",\"tag\":\"div\"},\"children\":[{\"props\":{\"max\":46,\"min\":1,\"attributes\":{\"type\":\"range\",\"data-bind\":\"numericValue: index, valueUpdate: 'input', event: {change: function (){this.changes(this.changes()+1)}}\",\"orient\":\"horizontal\"},\"step\":1,\"className\":\"slider slider is-fullwidth\",\"style\":{}},\"nodeType\":\"DOM\",\"type\":\"node\",\"instanceArgs\":{\"namespace\":\"html\",\"tag\":\"input\"},\"children\":[]}]},{\"props\":{\"className\":\"interact-flex-row-right\"},\"nodeType\":\"DOM\",\"type\":\"node\",\"instanceArgs\":{\"namespace\":\"html\",\"tag\":\"div\"},\"children\":[{\"props\":{\"attributes\":{\"data-bind\":\"text: formatted_val\"}},\"nodeType\":\"DOM\",\"type\":\"node\",\"instanceArgs\":{\"namespace\":\"html\",\"tag\":\"p\"},\"children\":[]}]}]}]}]},{\"props\":{},\"nodeType\":\"Scope\",\"type\":\"node\",\"instanceArgs\":{\"imports\":{\"data\":[],\"type\":\"async_block\"},\"id\":\"10351792904791581921\",\"handlers\":{},\"systemjs_options\":null,\"mount_callbacks\":[],\"observables\":{\"obs-node\":{\"sync\":false,\"id\":\"ob_41\",\"value\":{\"props\":{\"className\":\"interact-flex-row interact-widget\"},\"nodeType\":\"DOM\",\"type\":\"node\",\"instanceArgs\":{\"namespace\":\"html\",\"tag\":\"div\"},\"children\":[{\"props\":{\"setInnerHtml\":\"<?xml version=\\\"1.0\\\" encoding=\\\"utf-8\\\"?>\\n<svg xmlns=\\\"http:\\/\\/www.w3.org\\/2000\\/svg\\\" xmlns:xlink=\\\"http:\\/\\/www.w3.org\\/1999\\/xlink\\\" width=\\\"800\\\" height=\\\"500\\\" viewBox=\\\"0 0 3200 2000\\\">\\n<defs>\\n  <clipPath id=\\\"clip3000\\\">\\n    <rect x=\\\"0\\\" y=\\\"0\\\" width=\\\"3200\\\" height=\\\"2000\\\"\\/>\\n  <\\/clipPath>\\n<\\/defs>\\n<polygon clip-path=\\\"url(#clip3000)\\\" points=\\\"\\n0,2000 3200,2000 3200,0 0,0 \\n  \\\" fill=\\\"#ffffff\\\" fill-rule=\\\"evenodd\\\" fill-opacity=\\\"1\\\"\\/>\\n<defs>\\n  <clipPath id=\\\"clip3001\\\">\\n    <rect x=\\\"640\\\" y=\\\"0\\\" width=\\\"2241\\\" height=\\\"2000\\\"\\/>\\n  <\\/clipPath>\\n<\\/defs>\\n<polygon clip-path=\\\"url(#clip3000)\\\" points=\\\"\\n161.898,1885.57 3152.76,1885.57 3152.76,47.2441 161.898,47.2441 \\n  \\\" fill=\\\"#ffffff\\\" fill-rule=\\\"evenodd\\\" fill-opacity=\\\"1\\\"\\/>\\n<defs>\\n  <clipPath id=\\\"clip3002\\\">\\n    <rect x=\\\"161\\\" y=\\\"47\\\" width=\\\"2992\\\" height=\\\"1839\\\"\\/>\\n  <\\/clipPath>\\n<\\/defs>\\n<polyline clip-path=\\\"url(#clip3002)\\\" style=\\\"stroke:#000000; stroke-width:2; stroke-opacity:0.1; fill:none\\\" points=\\\"\\n  161.898,1885.57 161.898,47.2441 \\n  \\\"\\/>\\n<polyline clip-path=\\\"url(#clip3002)\\\" style=\\\"stroke:#000000; stroke-width:2; stroke-opacity:0.1; fill:none\\\" points=\\\"\\n  760.07,1885.57 760.07,47.2441 \\n  \\\"\\/>\\n<polyline clip-path=\\\"url(#clip3002)\\\" style=\\\"stroke:#000000; stroke-width:2; stroke-opacity:0.1; fill:none\\\" points=\\\"\\n  1358.24,1885.57 1358.24,47.2441 \\n  \\\"\\/>\\n<polyline clip-path=\\\"url(#clip3002)\\\" style=\\\"stroke:#000000; stroke-width:2; stroke-opacity:0.1; fill:none\\\" points=\\\"\\n  1956.41,1885.57 1956.41,47.2441 \\n  \\\"\\/>\\n<polyline clip-path=\\\"url(#clip3002)\\\" style=\\\"stroke:#000000; stroke-width:2; stroke-opacity:0.1; fill:none\\\" points=\\\"\\n  2554.58,1885.57 2554.58,47.2441 \\n  \\\"\\/>\\n<polyline clip-path=\\\"url(#clip3002)\\\" style=\\\"stroke:#000000; stroke-width:2; stroke-opacity:0.1; fill:none\\\" points=\\\"\\n  3152.76,1885.57 3152.76,47.2441 \\n  \\\"\\/>\\n<polyline clip-path=\\\"url(#clip3002)\\\" style=\\\"stroke:#000000; stroke-width:2; stroke-opacity:0.1; fill:none\\\" points=\\\"\\n  161.898,1885.57 3152.76,1885.57 \\n  \\\"\\/>\\n<polyline clip-path=\\\"url(#clip3002)\\\" style=\\\"stroke:#000000; stroke-width:2; stroke-opacity:0.1; fill:none\\\" points=\\\"\\n  161.898,1517.91 3152.76,1517.91 \\n  \\\"\\/>\\n<polyline clip-path=\\\"url(#clip3002)\\\" style=\\\"stroke:#000000; stroke-width:2; stroke-opacity:0.1; fill:none\\\" points=\\\"\\n  161.898,1150.24 3152.76,1150.24 \\n  \\\"\\/>\\n<polyline clip-path=\\\"url(#clip3002)\\\" style=\\\"stroke:#000000; stroke-width:2; stroke-opacity:0.1; fill:none\\\" points=\\\"\\n  161.898,782.575 3152.76,782.575 \\n  \\\"\\/>\\n<polyline clip-path=\\\"url(#clip3002)\\\" style=\\\"stroke:#000000; stroke-width:2; stroke-opacity:0.1; fill:none\\\" points=\\\"\\n  161.898,414.909 3152.76,414.909 \\n  \\\"\\/>\\n<polyline clip-path=\\\"url(#clip3002)\\\" style=\\\"stroke:#000000; stroke-width:2; stroke-opacity:0.1; fill:none\\\" points=\\\"\\n  161.898,47.2441 3152.76,47.2441 \\n  \\\"\\/>\\n<polyline clip-path=\\\"url(#clip3000)\\\" style=\\\"stroke:#000000; stroke-width:4; stroke-opacity:1; fill:none\\\" points=\\\"\\n  161.898,1885.57 3152.76,1885.57 \\n  \\\"\\/>\\n<polyline clip-path=\\\"url(#clip3000)\\\" style=\\\"stroke:#000000; stroke-width:4; stroke-opacity:1; fill:none\\\" points=\\\"\\n  161.898,1885.57 161.898,47.2441 \\n  \\\"\\/>\\n<polyline clip-path=\\\"url(#clip3000)\\\" style=\\\"stroke:#000000; stroke-width:4; stroke-opacity:1; fill:none\\\" points=\\\"\\n  161.898,1885.57 161.898,1858 \\n  \\\"\\/>\\n<polyline clip-path=\\\"url(#clip3000)\\\" style=\\\"stroke:#000000; stroke-width:4; stroke-opacity:1; fill:none\\\" points=\\\"\\n  760.07,1885.57 760.07,1858 \\n  \\\"\\/>\\n<polyline clip-path=\\\"url(#clip3000)\\\" style=\\\"stroke:#000000; stroke-width:4; stroke-opacity:1; fill:none\\\" points=\\\"\\n  1358.24,1885.57 1358.24,1858 \\n  \\\"\\/>\\n<polyline clip-path=\\\"url(#clip3000)\\\" style=\\\"stroke:#000000; stroke-width:4; stroke-opacity:1; fill:none\\\" points=\\\"\\n  1956.41,1885.57 1956.41,1858 \\n  \\\"\\/>\\n<polyline clip-path=\\\"url(#clip3000)\\\" style=\\\"stroke:#000000; stroke-width:4; stroke-opacity:1; fill:none\\\" points=\\\"\\n  2554.58,1885.57 2554.58,1858 \\n  \\\"\\/>\\n<polyline clip-path=\\\"url(#clip3000)\\\" style=\\\"stroke:#000000; stroke-width:4; stroke-opacity:1; fill:none\\\" points=\\\"\\n  3152.76,1885.57 3152.76,1858 \\n  \\\"\\/>\\n<polyline clip-path=\\\"url(#clip3000)\\\" style=\\\"stroke:#000000; stroke-width:4; stroke-opacity:1; fill:none\\\" points=\\\"\\n  161.898,1885.57 206.761,1885.57 \\n  \\\"\\/>\\n<polyline clip-path=\\\"url(#clip3000)\\\" style=\\\"stroke:#000000; stroke-width:4; stroke-opacity:1; fill:none\\\" points=\\\"\\n  161.898,1517.91 206.761,1517.91 \\n  \\\"\\/>\\n<polyline clip-path=\\\"url(#clip3000)\\\" style=\\\"stroke:#000000; stroke-width:4; stroke-opacity:1; fill:none\\\" points=\\\"\\n  161.898,1150.24 206.761,1150.24 \\n  \\\"\\/>\\n<polyline clip-path=\\\"url(#clip3000)\\\" style=\\\"stroke:#000000; stroke-width:4; stroke-opacity:1; fill:none\\\" points=\\\"\\n  161.898,782.575 206.761,782.575 \\n  \\\"\\/>\\n<polyline clip-path=\\\"url(#clip3000)\\\" style=\\\"stroke:#000000; stroke-width:4; stroke-opacity:1; fill:none\\\" points=\\\"\\n  161.898,414.909 206.761,414.909 \\n  \\\"\\/>\\n<polyline clip-path=\\\"url(#clip3000)\\\" style=\\\"stroke:#000000; stroke-width:4; stroke-opacity:1; fill:none\\\" points=\\\"\\n  161.898,47.2441 206.761,47.2441 \\n  \\\"\\/>\\n<g clip-path=\\\"url(#clip3000)\\\">\\n<text style=\\\"fill:#000000; fill-opacity:1; font-family:Arial,Helvetica Neue,Helvetica,sans-serif; font-size:48px; text-anchor:middle;\\\" transform=\\\"rotate(0, 161.898, 1943.57)\\\" x=\\\"161.898\\\" y=\\\"1943.57\\\">0<\\/text>\\n<\\/g>\\n<g clip-path=\\\"url(#clip3000)\\\">\\n<text style=\\\"fill:#000000; fill-opacity:1; font-family:Arial,Helvetica Neue,Helvetica,sans-serif; font-size:48px; text-anchor:middle;\\\" transform=\\\"rotate(0, 760.07, 1943.57)\\\" x=\\\"760.07\\\" y=\\\"1943.57\\\">10<\\/text>\\n<\\/g>\\n<g clip-path=\\\"url(#clip3000)\\\">\\n<text style=\\\"fill:#000000; fill-opacity:1; font-family:Arial,Helvetica Neue,Helvetica,sans-serif; font-size:48px; text-anchor:middle;\\\" transform=\\\"rotate(0, 1358.24, 1943.57)\\\" x=\\\"1358.24\\\" y=\\\"1943.57\\\">20<\\/text>\\n<\\/g>\\n<g clip-path=\\\"url(#clip3000)\\\">\\n<text style=\\\"fill:#000000; fill-opacity:1; font-family:Arial,Helvetica Neue,Helvetica,sans-serif; font-size:48px; text-anchor:middle;\\\" transform=\\\"rotate(0, 1956.41, 1943.57)\\\" x=\\\"1956.41\\\" y=\\\"1943.57\\\">30<\\/text>\\n<\\/g>\\n<g clip-path=\\\"url(#clip3000)\\\">\\n<text style=\\\"fill:#000000; fill-opacity:1; font-family:Arial,Helvetica Neue,Helvetica,sans-serif; font-size:48px; text-anchor:middle;\\\" transform=\\\"rotate(0, 2554.58, 1943.57)\\\" x=\\\"2554.58\\\" y=\\\"1943.57\\\">40<\\/text>\\n<\\/g>\\n<g clip-path=\\\"url(#clip3000)\\\">\\n<text style=\\\"fill:#000000; fill-opacity:1; font-family:Arial,Helvetica Neue,Helvetica,sans-serif; font-size:48px; text-anchor:middle;\\\" transform=\\\"rotate(0, 3152.76, 1943.57)\\\" x=\\\"3152.76\\\" y=\\\"1943.57\\\">50<\\/text>\\n<\\/g>\\n<g clip-path=\\\"url(#clip3000)\\\">\\n<text style=\\\"fill:#000000; fill-opacity:1; font-family:Arial,Helvetica Neue,Helvetica,sans-serif; font-size:48px; text-anchor:end;\\\" transform=\\\"rotate(0, 129.898, 1903.07)\\\" x=\\\"129.898\\\" y=\\\"1903.07\\\">0.0<\\/text>\\n<\\/g>\\n<g clip-path=\\\"url(#clip3000)\\\">\\n<text style=\\\"fill:#000000; fill-opacity:1; font-family:Arial,Helvetica Neue,Helvetica,sans-serif; font-size:48px; text-anchor:end;\\\" transform=\\\"rotate(0, 129.898, 1535.41)\\\" x=\\\"129.898\\\" y=\\\"1535.41\\\">0.2<\\/text>\\n<\\/g>\\n<g clip-path=\\\"url(#clip3000)\\\">\\n<text style=\\\"fill:#000000; fill-opacity:1; font-family:Arial,Helvetica Neue,Helvetica,sans-serif; font-size:48px; text-anchor:end;\\\" transform=\\\"rotate(0, 129.898, 1167.74)\\\" x=\\\"129.898\\\" y=\\\"1167.74\\\">0.4<\\/text>\\n<\\/g>\\n<g clip-path=\\\"url(#clip3000)\\\">\\n<text style=\\\"fill:#000000; fill-opacity:1; font-family:Arial,Helvetica Neue,Helvetica,sans-serif; font-size:48px; text-anchor:end;\\\" transform=\\\"rotate(0, 129.898, 800.075)\\\" x=\\\"129.898\\\" y=\\\"800.075\\\">0.6<\\/text>\\n<\\/g>\\n<g clip-path=\\\"url(#clip3000)\\\">\\n<text style=\\\"fill:#000000; fill-opacity:1; font-family:Arial,Helvetica Neue,Helvetica,sans-serif; font-size:48px; text-anchor:end;\\\" transform=\\\"rotate(0, 129.898, 432.409)\\\" x=\\\"129.898\\\" y=\\\"432.409\\\">0.8<\\/text>\\n<\\/g>\\n<g clip-path=\\\"url(#clip3000)\\\">\\n<text style=\\\"fill:#000000; fill-opacity:1; font-family:Arial,Helvetica Neue,Helvetica,sans-serif; font-size:48px; text-anchor:end;\\\" transform=\\\"rotate(0, 129.898, 64.7441)\\\" x=\\\"129.898\\\" y=\\\"64.7441\\\">1.0<\\/text>\\n<\\/g>\\n<circle clip-path=\\\"url(#clip3002)\\\" style=\\\"fill:#000000; stroke:none; fill-opacity:0.5\\\" cx=\\\"221.715\\\" cy=\\\"472.913\\\" r=\\\"18\\\"\\/>\\n<circle clip-path=\\\"url(#clip3002)\\\" style=\\\"fill:#000000; stroke:none; fill-opacity:0.5\\\" cx=\\\"221.715\\\" cy=\\\"472.913\\\" r=\\\"14\\\"\\/>\\n<circle clip-path=\\\"url(#clip3002)\\\" style=\\\"fill:#000000; stroke:none; fill-opacity:0.5\\\" cx=\\\"281.532\\\" cy=\\\"156.597\\\" r=\\\"18\\\"\\/>\\n<circle clip-path=\\\"url(#clip3002)\\\" style=\\\"fill:#000000; stroke:none; fill-opacity:0.5\\\" cx=\\\"281.532\\\" cy=\\\"156.597\\\" r=\\\"14\\\"\\/>\\n<circle clip-path=\\\"url(#clip3002)\\\" style=\\\"fill:#000000; stroke:none; fill-opacity:0.5\\\" cx=\\\"341.349\\\" cy=\\\"646.614\\\" r=\\\"18\\\"\\/>\\n<circle clip-path=\\\"url(#clip3002)\\\" style=\\\"fill:#000000; stroke:none; fill-opacity:0.5\\\" cx=\\\"341.349\\\" cy=\\\"646.614\\\" r=\\\"14\\\"\\/>\\n<circle clip-path=\\\"url(#clip3002)\\\" style=\\\"fill:#000000; stroke:none; fill-opacity:0.5\\\" cx=\\\"401.167\\\" cy=\\\"1158.6\\\" r=\\\"18\\\"\\/>\\n<circle clip-path=\\\"url(#clip3002)\\\" style=\\\"fill:#000000; stroke:none; fill-opacity:0.5\\\" cx=\\\"401.167\\\" cy=\\\"1158.6\\\" r=\\\"14\\\"\\/>\\n<circle clip-path=\\\"url(#clip3002)\\\" style=\\\"fill:#000000; stroke:none; fill-opacity:0.5\\\" cx=\\\"460.984\\\" cy=\\\"1309.73\\\" r=\\\"18\\\"\\/>\\n<circle clip-path=\\\"url(#clip3002)\\\" style=\\\"fill:#000000; stroke:none; fill-opacity:0.5\\\" cx=\\\"460.984\\\" cy=\\\"1309.73\\\" r=\\\"14\\\"\\/>\\n<circle clip-path=\\\"url(#clip3002)\\\" style=\\\"fill:#000000; stroke:none; fill-opacity:0.5\\\" cx=\\\"520.801\\\" cy=\\\"667.579\\\" r=\\\"18\\\"\\/>\\n<circle clip-path=\\\"url(#clip3002)\\\" style=\\\"fill:#000000; stroke:none; fill-opacity:0.5\\\" cx=\\\"520.801\\\" cy=\\\"667.579\\\" r=\\\"14\\\"\\/>\\n<circle clip-path=\\\"url(#clip3002)\\\" style=\\\"fill:#000000; stroke:none; fill-opacity:0.5\\\" cx=\\\"580.618\\\" cy=\\\"808.271\\\" r=\\\"18\\\"\\/>\\n<circle clip-path=\\\"url(#clip3002)\\\" style=\\\"fill:#000000; stroke:none; fill-opacity:0.5\\\" cx=\\\"580.618\\\" cy=\\\"808.271\\\" r=\\\"14\\\"\\/>\\n<circle clip-path=\\\"url(#clip3002)\\\" style=\\\"fill:#000000; stroke:none; fill-opacity:0.5\\\" cx=\\\"640.435\\\" cy=\\\"1789.73\\\" r=\\\"18\\\"\\/>\\n<circle clip-path=\\\"url(#clip3002)\\\" style=\\\"fill:#000000; stroke:none; fill-opacity:0.5\\\" cx=\\\"640.435\\\" cy=\\\"1789.73\\\" r=\\\"14\\\"\\/>\\n<circle clip-path=\\\"url(#clip3002)\\\" style=\\\"fill:#000000; stroke:none; fill-opacity:0.5\\\" cx=\\\"700.252\\\" cy=\\\"1391.72\\\" r=\\\"18\\\"\\/>\\n<circle clip-path=\\\"url(#clip3002)\\\" style=\\\"fill:#000000; stroke:none; fill-opacity:0.5\\\" cx=\\\"700.252\\\" cy=\\\"1391.72\\\" r=\\\"14\\\"\\/>\\n<circle clip-path=\\\"url(#clip3002)\\\" style=\\\"fill:#000000; stroke:none; fill-opacity:0.5\\\" cx=\\\"760.07\\\" cy=\\\"1685.43\\\" r=\\\"18\\\"\\/>\\n<circle clip-path=\\\"url(#clip3002)\\\" style=\\\"fill:#000000; stroke:none; fill-opacity:0.5\\\" cx=\\\"760.07\\\" cy=\\\"1685.43\\\" r=\\\"14\\\"\\/>\\n<circle clip-path=\\\"url(#clip3002)\\\" style=\\\"fill:#000000; stroke:none; fill-opacity:0.5\\\" cx=\\\"819.887\\\" cy=\\\"1584.7\\\" r=\\\"18\\\"\\/>\\n<circle clip-path=\\\"url(#clip3002)\\\" style=\\\"fill:#000000; stroke:none; fill-opacity:0.5\\\" cx=\\\"819.887\\\" cy=\\\"1584.7\\\" r=\\\"14\\\"\\/>\\n<circle clip-path=\\\"url(#clip3002)\\\" style=\\\"fill:#000000; stroke:none; fill-opacity:0.5\\\" cx=\\\"879.704\\\" cy=\\\"1016.01\\\" r=\\\"18\\\"\\/>\\n<circle clip-path=\\\"url(#clip3002)\\\" style=\\\"fill:#000000; stroke:none; fill-opacity:0.5\\\" cx=\\\"879.704\\\" cy=\\\"1016.01\\\" r=\\\"14\\\"\\/>\\n<circle clip-path=\\\"url(#clip3002)\\\" style=\\\"fill:#000000; stroke:none; fill-opacity:0.5\\\" cx=\\\"939.521\\\" cy=\\\"294.661\\\" r=\\\"18\\\"\\/>\\n<circle clip-path=\\\"url(#clip3002)\\\" style=\\\"fill:#000000; stroke:none; fill-opacity:0.5\\\" cx=\\\"939.521\\\" cy=\\\"294.661\\\" r=\\\"14\\\"\\/>\\n<circle clip-path=\\\"url(#clip3002)\\\" style=\\\"fill:#000000; stroke:none; fill-opacity:0.5\\\" cx=\\\"999.338\\\" cy=\\\"750.419\\\" r=\\\"18\\\"\\/>\\n<circle clip-path=\\\"url(#clip3002)\\\" style=\\\"fill:#000000; stroke:none; fill-opacity:0.5\\\" cx=\\\"999.338\\\" cy=\\\"750.419\\\" r=\\\"14\\\"\\/>\\n<circle clip-path=\\\"url(#clip3002)\\\" style=\\\"fill:#000000; stroke:none; fill-opacity:0.5\\\" cx=\\\"1059.16\\\" cy=\\\"1360.36\\\" r=\\\"18\\\"\\/>\\n<circle clip-path=\\\"url(#clip3002)\\\" style=\\\"fill:#000000; stroke:none; fill-opacity:0.5\\\" cx=\\\"1059.16\\\" cy=\\\"1360.36\\\" r=\\\"14\\\"\\/>\\n<circle clip-path=\\\"url(#clip3002)\\\" style=\\\"fill:#000000; stroke:none; fill-opacity:0.5\\\" cx=\\\"1118.97\\\" cy=\\\"1032.87\\\" r=\\\"18\\\"\\/>\\n<circle clip-path=\\\"url(#clip3002)\\\" style=\\\"fill:#000000; stroke:none; fill-opacity:0.5\\\" cx=\\\"1118.97\\\" cy=\\\"1032.87\\\" r=\\\"14\\\"\\/>\\n<circle clip-path=\\\"url(#clip3002)\\\" style=\\\"fill:#000000; stroke:none; fill-opacity:0.5\\\" cx=\\\"1178.79\\\" cy=\\\"1378.52\\\" r=\\\"18\\\"\\/>\\n<circle clip-path=\\\"url(#clip3002)\\\" style=\\\"fill:#000000; stroke:none; fill-opacity:0.5\\\" cx=\\\"1178.79\\\" cy=\\\"1378.52\\\" r=\\\"14\\\"\\/>\\n<circle clip-path=\\\"url(#clip3002)\\\" style=\\\"fill:#000000; stroke:none; fill-opacity:0.5\\\" cx=\\\"1238.61\\\" cy=\\\"1064.63\\\" r=\\\"18\\\"\\/>\\n<circle clip-path=\\\"url(#clip3002)\\\" style=\\\"fill:#000000; stroke:none; fill-opacity:0.5\\\" cx=\\\"1238.61\\\" cy=\\\"1064.63\\\" r=\\\"14\\\"\\/>\\n<circle clip-path=\\\"url(#clip3002)\\\" style=\\\"fill:#000000; stroke:none; fill-opacity:0.5\\\" cx=\\\"1298.42\\\" cy=\\\"815.08\\\" r=\\\"18\\\"\\/>\\n<circle clip-path=\\\"url(#clip3002)\\\" style=\\\"fill:#000000; stroke:none; fill-opacity:0.5\\\" cx=\\\"1298.42\\\" cy=\\\"815.08\\\" r=\\\"14\\\"\\/>\\n<circle clip-path=\\\"url(#clip3002)\\\" style=\\\"fill:#000000; stroke:none; fill-opacity:0.5\\\" cx=\\\"1358.24\\\" cy=\\\"1414.99\\\" r=\\\"18\\\"\\/>\\n<circle clip-path=\\\"url(#clip3002)\\\" style=\\\"fill:#000000; stroke:none; fill-opacity:0.5\\\" cx=\\\"1358.24\\\" cy=\\\"1414.99\\\" r=\\\"14\\\"\\/>\\n<circle clip-path=\\\"url(#clip3002)\\\" style=\\\"fill:#000000; stroke:none; fill-opacity:0.5\\\" cx=\\\"1418.06\\\" cy=\\\"587.969\\\" r=\\\"18\\\"\\/>\\n<circle clip-path=\\\"url(#clip3002)\\\" style=\\\"fill:#000000; stroke:none; fill-opacity:0.5\\\" cx=\\\"1418.06\\\" cy=\\\"587.969\\\" r=\\\"14\\\"\\/>\\n<circle clip-path=\\\"url(#clip3002)\\\" style=\\\"fill:#000000; stroke:none; fill-opacity:0.5\\\" cx=\\\"1477.88\\\" cy=\\\"1348.82\\\" r=\\\"18\\\"\\/>\\n<circle clip-path=\\\"url(#clip3002)\\\" style=\\\"fill:#000000; stroke:none; fill-opacity:0.5\\\" cx=\\\"1477.88\\\" cy=\\\"1348.82\\\" r=\\\"14\\\"\\/>\\n<circle clip-path=\\\"url(#clip3002)\\\" style=\\\"fill:#000000; stroke:none; fill-opacity:0.5\\\" cx=\\\"1537.69\\\" cy=\\\"1368.88\\\" r=\\\"18\\\"\\/>\\n<circle clip-path=\\\"url(#clip3002)\\\" style=\\\"fill:#000000; stroke:none; fill-opacity:0.5\\\" cx=\\\"1537.69\\\" cy=\\\"1368.88\\\" r=\\\"14\\\"\\/>\\n<circle clip-path=\\\"url(#clip3002)\\\" style=\\\"fill:#000000; stroke:none; fill-opacity:0.5\\\" cx=\\\"1597.51\\\" cy=\\\"427.904\\\" r=\\\"18\\\"\\/>\\n<circle clip-path=\\\"url(#clip3002)\\\" style=\\\"fill:#000000; stroke:none; fill-opacity:0.5\\\" cx=\\\"1597.51\\\" cy=\\\"427.904\\\" r=\\\"14\\\"\\/>\\n<circle clip-path=\\\"url(#clip3002)\\\" style=\\\"fill:#000000; stroke:none; fill-opacity:0.5\\\" cx=\\\"1657.33\\\" cy=\\\"1500.94\\\" r=\\\"18\\\"\\/>\\n<circle clip-path=\\\"url(#clip3002)\\\" style=\\\"fill:#000000; stroke:none; fill-opacity:0.5\\\" cx=\\\"1657.33\\\" cy=\\\"1500.94\\\" r=\\\"14\\\"\\/>\\n<polyline clip-path=\\\"url(#clip3002)\\\" style=\\\"stroke:#000000; stroke-width:21.6; stroke-opacity:1; fill:none\\\" points=\\\"\\n  165.549,1773.44 169.2,1661.72 172.851,1550.83 176.502,1441.2 184.942,1194.77 193.382,962.062 201.821,747.713 210.261,555.978 218.701,390.667 227.141,255.067 \\n  235.58,151.87 244.02,83.1296 252.46,50.2108 260.899,53.768 269.339,93.7305 277.779,169.304 286.219,278.987 294.658,420.599 303.098,591.326 311.538,787.775 \\n  321.682,1052.38 331.826,1340.89 341.97,1645.03 352.113,1956.06 362.257,2265.08 372.401,2563.2 382.545,2841.89 392.689,3093.14 401.265,3278.8 409.842,3435.87 \\n  418.418,3561.13 426.995,3652 435.571,3706.62 444.148,3723.86 452.724,3703.38 461.301,3645.6 470.617,3541.95 479.934,3398.21 489.25,3217.85 498.567,3005.24 \\n  517.2,2504.49 535.833,1944.18 553.011,1421.35 570.189,936.54 578.778,721.016 587.367,529.461 595.956,365.818 604.545,233.454 613.753,129.374 622.961,66.8296 \\n  632.17,47.3006 641.378,71.2484 650.586,138.107 659.795,246.294 664.399,315.124 669.003,393.253 673.607,480.218 678.211,575.506 688.88,825.084 699.549,1108.31 \\n  710.217,1416.19 720.886,1738.97 731.555,2066.4 742.223,2388.09 752.892,2693.83 763.561,2973.94 773.042,3194.13 782.523,3381.53 792.004,3531.42 801.485,3640.04 \\n  810.966,3704.68 820.448,3723.72 829.929,3696.68 839.41,3624.23 847.724,3524.73 856.038,3393.63 864.352,3233.44 872.666,3047.25 889.294,2611.67 905.922,2120.35 \\n  924.051,1565.48 942.181,1039.79 951.245,803.084 960.31,591.192 969.374,408.966 978.439,260.584 987.557,148.903 996.676,77.4996 1005.79,48.0299 1014.91,61.1774 \\n  1024.03,116.637 1033.15,213.123 1037.71,276.087 1042.27,348.397 1046.83,429.633 1051.39,519.322 1061.47,744.999 1071.55,1003 1081.63,1286.01 1091.71,1586.01 \\n  1111.88,2202.74 1132.04,2783.77 1141.63,3028.36 1151.22,3243.62 1160.82,3424.03 1170.41,3564.97 1180,3662.81 1189.59,3715.05 1194.39,3723.6 1199.19,3720.34 \\n  1203.98,3705.29 1208.78,3678.55 1213.77,3638.53 1218.75,3586.33 1223.74,3522.32 1228.73,3446.94 1238.7,3264.24 1248.67,3043.3 1258.65,2790.25 1268.62,2512.1 \\n  1278.6,2216.58 1288.57,1911.87 1305.36,1401.59 1322.15,929.206 1330.55,718.975 1338.94,531.688 1347.34,371.03 1355.74,240.16 1360.86,176.041 1365.99,124.464 \\n  1371.11,85.808 1376.24,60.3564 1381.36,48.2958 1386.49,49.7149 1391.61,64.6033 1396.74,92.8516 1406.99,188.503 1417.24,333.866 1422.36,423.914 1427.49,524.685 \\n  1432.61,635.44 1437.74,755.367 1457.01,1272.58 1476.28,1852.87 1495.55,2436.52 1514.82,2963.48 1522.54,3146.14 1530.26,3307.84 1537.98,3445.89 1545.7,3558 \\n  1553.42,3642.3 1561.14,3697.39 1568.85,3722.35 1576.57,3716.78 1584.29,3680.75 1592.01,3614.88 1599.73,3520.26 1607.45,3398.45 1615.17,3251.49 1622.88,3081.82 \\n  1630.6,2892.26 1638.32,2685.96 1643.07,2552.12 1647.82,2414.07 1652.58,2272.69 \\n  \\\"\\/>\\n<polygon clip-path=\\\"url(#clip3000)\\\" points=\\\"\\n2685.93,360.204 3056.76,360.204 3056.76,178.764 2685.93,178.764 \\n  \\\" fill=\\\"#ffffff\\\" fill-rule=\\\"evenodd\\\" fill-opacity=\\\"1\\\"\\/>\\n<polyline clip-path=\\\"url(#clip3000)\\\" style=\\\"stroke:#000000; stroke-width:4; stroke-opacity:1; fill:none\\\" points=\\\"\\n  2685.93,360.204 3056.76,360.204 3056.76,178.764 2685.93,178.764 2685.93,360.204 \\n  \\\"\\/>\\n<circle clip-path=\\\"url(#clip3000)\\\" style=\\\"fill:#000000; stroke:none; fill-opacity:0.5\\\" cx=\\\"2829.93\\\" cy=\\\"239.244\\\" r=\\\"25\\\"\\/>\\n<circle clip-path=\\\"url(#clip3000)\\\" style=\\\"fill:#000000; stroke:none; fill-opacity:0.5\\\" cx=\\\"2829.93\\\" cy=\\\"239.244\\\" r=\\\"21\\\"\\/>\\n<g clip-path=\\\"url(#clip3000)\\\">\\n<text style=\\\"fill:#000000; fill-opacity:1; font-family:Arial,Helvetica Neue,Helvetica,sans-serif; font-size:48px; text-anchor:start;\\\" transform=\\\"rotate(0, 2941.93, 256.744)\\\" x=\\\"2941.93\\\" y=\\\"256.744\\\">y1<\\/text>\\n<\\/g>\\n<polyline clip-path=\\\"url(#clip3000)\\\" style=\\\"stroke:#000000; stroke-width:21.6; stroke-opacity:1; fill:none\\\" points=\\\"\\n  2717.93,299.724 2909.93,299.724 \\n  \\\"\\/>\\n<g clip-path=\\\"url(#clip3000)\\\">\\n<text style=\\\"fill:#000000; fill-opacity:1; font-family:Arial,Helvetica Neue,Helvetica,sans-serif; font-size:48px; text-anchor:start;\\\" transform=\\\"rotate(0, 2941.93, 317.224)\\\" x=\\\"2941.93\\\" y=\\\"317.224\\\">y2<\\/text>\\n<\\/g>\\n<\\/svg>\\n\"},\"nodeType\":\"DOM\",\"type\":\"node\",\"instanceArgs\":{\"namespace\":\"html\",\"tag\":\"div\"},\"children\":[]}]}}}},\"children\":[{\"props\":{},\"nodeType\":\"ObservableNode\",\"type\":\"node\",\"instanceArgs\":{\"id\":\"ob_41\",\"name\":\"obs-node\"},\"children\":[]}]}]},\n",
       "            window,\n",
       "        );\n",
       "    } else {\n",
       "        document\n",
       "            .querySelector('[data-webio-mountpoint=\"18267985515607794011\"]')\n",
       "            .innerHTML = (\n",
       "                '<strong>WebIO not detected. Please read ' +\n",
       "                '<a href=\"https://juliagizmos.github.io/WebIO.jl/latest/troubleshooting/not-detected/\">the troubleshooting guide</a> ' +\n",
       "                'for more information on how to resolve this issue.' +\n",
       "                '</strong>'\n",
       "            );\n",
       "    }\n",
       "    </script>\n",
       "</div>\n"
      ],
      "text/plain": [
       "Node{WebIO.DOM}(WebIO.DOM(:html, :div), Any[Node{WebIO.DOM}(WebIO.DOM(:html, :div), Any[Scope(Node{WebIO.DOM}(WebIO.DOM(:html, :div), Any[Node{WebIO.DOM}(WebIO.DOM(:html, :div), Any[Node{WebIO.DOM}(WebIO.DOM(:html, :label), Any[\"i\"], Dict{Symbol,Any}(:className => \"interact \",:style => Dict{Any,Any}(:padding => \"5px 10px 0px 10px\")))], Dict{Symbol,Any}(:className => \"interact-flex-row-left\")), Node{WebIO.DOM}(WebIO.DOM(:html, :div), Any[Node{WebIO.DOM}(WebIO.DOM(:html, :input), Any[], Dict{Symbol,Any}(:max => 50,:min => 1,:attributes => Dict{Any,Any}(:type => \"range\",Symbol(\"data-bind\") => \"numericValue: index, valueUpdate: 'input', event: {change: function (){this.changes(this.changes()+1)}}\",\"orient\" => \"horizontal\"),:step => 1,:className => \"slider slider is-fullwidth\",:style => Dict{Any,Any}()))], Dict{Symbol,Any}(:className => \"interact-flex-row-center\")), Node{WebIO.DOM}(WebIO.DOM(:html, :div), Any[Node{WebIO.DOM}(WebIO.DOM(:html, :p), Any[], Dict{Symbol,Any}(:attributes => Dict(\"data-bind\" => \"text: formatted_val\")))], Dict{Symbol,Any}(:className => \"interact-flex-row-right\"))], Dict{Symbol,Any}(:className => \"interact-flex-row interact-widget\")), Dict{String,Tuple{Observables.AbstractObservable,Union{Nothing, Bool}}}(\"changes\" => (Observable{Int64} with 1 listeners. Value:\n",
       "0, nothing),\"index\" => (Observable{Int64} with 2 listeners. Value:\n",
       "25, nothing)), Set(String[]), nothing, Asset[Asset(\"js\", \"knockout\", \"/Users/joday/.julia/packages/Knockout/1sDlc/src/../assets/knockout.js\"), Asset(\"js\", \"knockout_punches\", \"/Users/joday/.julia/packages/Knockout/1sDlc/src/../assets/knockout_punches.js\"), Asset(\"js\", nothing, \"/Users/joday/.julia/packages/InteractBase/9mFwe/src/../assets/all.js\"), Asset(\"css\", nothing, \"/Users/joday/.julia/packages/InteractBase/9mFwe/src/../assets/style.css\"), Asset(\"css\", nothing, \"/Users/joday/.julia/packages/Interact/SbgIk/src/../assets/bulma_confined.min.css\")], Dict{Any,Any}(\"changes\" => Any[WebIO.JSString(\"(function (val){return (val!=this.model[\\\"changes\\\"]()) ? (this.valueFromJulia[\\\"changes\\\"]=true, this.model[\\\"changes\\\"](val)) : undefined})\")],\"index\" => Any[WebIO.JSString(\"(function (val){return (val!=this.model[\\\"index\\\"]()) ? (this.valueFromJulia[\\\"index\\\"]=true, this.model[\\\"index\\\"](val)) : undefined})\")]), WebIO.ConnectionPool(Channel{Any}(sz_max:32,sz_curr:0), Set(AbstractConnection[]), Base.GenericCondition{Base.AlwaysLockedST}(Base.InvasiveLinkedList{Task}(Task (runnable) @0x000000013580f850, Task (runnable) @0x000000013580f850), Base.AlwaysLockedST(1))), WebIO.JSString[WebIO.JSString(\"function () {\\n    var handler = (function (ko, koPunches) {\\n    ko.punches.enableAll();\\n    ko.bindingHandlers.numericValue = {\\n        init: function(element, valueAccessor, allBindings, data, context) {\\n            var stringified = ko.observable(ko.unwrap(valueAccessor()));\\n            stringified.subscribe(function(value) {\\n                var val = parseFloat(value);\\n                if (!isNaN(val)) {\\n                    valueAccessor()(val);\\n                }\\n            });\\n            valueAccessor().subscribe(function(value) {\\n                var str = JSON.stringify(value);\\n                if ((str == \\\"0\\\") && ([\\\"-0\\\", \\\"-0.\\\"].indexOf(stringified()) >= 0))\\n                     return;\\n                 if ([\\\"null\\\", \\\"\\\"].indexOf(str) >= 0)\\n                     return;\\n                stringified(str);\\n            });\\n            ko.applyBindingsToNode(\\n                element,\\n                {\\n                    value: stringified,\\n                    valueUpdate: allBindings.get('valueUpdate'),\\n                },\\n                context,\\n            );\\n        }\\n    };\\n    var json_data = {\\\"formatted_vals\\\":[\\\"1\\\",\\\"2\\\",\\\"3\\\",\\\"4\\\",\\\"5\\\",\\\"6\\\",\\\"7\\\",\\\"8\\\",\\\"9\\\",\\\"10\\\",\\\"11\\\",\\\"12\\\",\\\"13\\\",\\\"14\\\",\\\"15\\\",\\\"16\\\",\\\"17\\\",\\\"18\\\",\\\"19\\\",\\\"20\\\",\\\"21\\\",\\\"22\\\",\\\"23\\\",\\\"24\\\",\\\"25\\\",\\\"26\\\",\\\"27\\\",\\\"28\\\",\\\"29\\\",\\\"30\\\",\\\"31\\\",\\\"32\\\",\\\"33\\\",\\\"34\\\",\\\"35\\\",\\\"36\\\",\\\"37\\\",\\\"38\\\",\\\"39\\\",\\\"40\\\",\\\"41\\\",\\\"42\\\",\\\"43\\\",\\\"44\\\",\\\"45\\\",\\\"46\\\",\\\"47\\\",\\\"48\\\",\\\"49\\\",\\\"50\\\"],\\\"changes\\\":WebIO.getval({\\\"name\\\":\\\"changes\\\",\\\"scope\\\":\\\"11622179062171589222\\\",\\\"id\\\":\\\"ob_29\\\",\\\"type\\\":\\\"observable\\\"}),\\\"index\\\":WebIO.getval({\\\"name\\\":\\\"index\\\",\\\"scope\\\":\\\"11622179062171589222\\\",\\\"id\\\":\\\"ob_28\\\",\\\"type\\\":\\\"observable\\\"})};\\n    var self = this;\\n    function AppViewModel() {\\n        for (var key in json_data) {\\n            var el = json_data[key];\\n            this[key] = Array.isArray(el) ? ko.observableArray(el) : ko.observable(el);\\n        }\\n        \\n        [this[\\\"formatted_val\\\"]=ko.computed(    function(){\\n        return this.formatted_vals()[parseInt(this.index())-(1)];\\n    }\\n,this)]\\n        [this[\\\"changes\\\"].subscribe((function (val){!(this.valueFromJulia[\\\"changes\\\"]) ? (WebIO.setval({\\\"name\\\":\\\"changes\\\",\\\"scope\\\":\\\"11622179062171589222\\\",\\\"id\\\":\\\"ob_29\\\",\\\"type\\\":\\\"observable\\\"},val)) : undefined; return this.valueFromJulia[\\\"changes\\\"]=false}),self),this[\\\"index\\\"].subscribe((function (val){!(this.valueFromJulia[\\\"index\\\"]) ? (WebIO.setval({\\\"name\\\":\\\"index\\\",\\\"scope\\\":\\\"11622179062171589222\\\",\\\"id\\\":\\\"ob_28\\\",\\\"type\\\":\\\"observable\\\"},val)) : undefined; return this.valueFromJulia[\\\"index\\\"]=false}),self)]\\n        \\n    }\\n    self.model = new AppViewModel();\\n    self.valueFromJulia = {};\\n    for (var key in json_data) {\\n        self.valueFromJulia[key] = false;\\n    }\\n    ko.applyBindings(self.model, self.dom);\\n}\\n);\\n    (WebIO.importBlock({\\\"data\\\":[{\\\"name\\\":\\\"knockout\\\",\\\"type\\\":\\\"js\\\",\\\"url\\\":\\\"/assetserver/bf3e344bbbe45b806bbda88c6101232eb1f7318f-knockout.js\\\"},{\\\"name\\\":\\\"knockout_punches\\\",\\\"type\\\":\\\"js\\\",\\\"url\\\":\\\"/assetserver/3ad363ca1664d7335dff0eabc7ebe7d829397430-knockout_punches.js\\\"}],\\\"type\\\":\\\"async_block\\\"})).then((imports) => handler.apply(this, imports));\\n}\\n\")])], Dict{Symbol,Any}(:className => \"field interact-widget\")), Node{WebIO.DOM}(WebIO.DOM(:html, :div), Any[Scope(Node{WebIO.DOM}(WebIO.DOM(:html, :div), Any[Node{WebIO.DOM}(WebIO.DOM(:html, :div), Any[Node{WebIO.DOM}(WebIO.DOM(:html, :label), Any[\"color\"], Dict{Symbol,Any}(:className => \"interact \",:style => Dict{Any,Any}(:padding => \"5px 10px 0px 10px\")))], Dict{Symbol,Any}(:className => \"interact-flex-row-left\")), Node{WebIO.DOM}(WebIO.DOM(:html, :div), Any[Node{WebIO.DOM}(WebIO.DOM(:html, :div), Any[Node{WebIO.DOM}(WebIO.DOM(:html, :span), Any[Node{WebIO.DOM}(WebIO.DOM(:html, :label), Any[], Dict{Symbol,Any}(:attributes => Dict(\"data-bind\" => \"text : key\")))], Dict{Symbol,Any}(:attributes => Dict(\"data-bind\" => \"click: function (){\\$root.update(val)}, css: {'is-primary is-selected' : \\$root.index() == val, 'interact-widget is-medium button ' : true}\")))], Dict{Symbol,Any}(:attributes => (\"data-bind\" => \"foreach : options_js\"),:className => \"buttons has-addons is-centered\"))], Dict{Symbol,Any}(:className => \"interact-flex-row-center\")), Node{WebIO.DOM}(WebIO.DOM(:html, :div), Any[Node{WebIO.DOM}(WebIO.DOM(:html, :div), Any[], Dict{Symbol,Any}())], Dict{Symbol,Any}(:className => \"interact-flex-row-right\"))], Dict{Symbol,Any}(:className => \"interact-flex-row interact-widget\")), Dict{String,Tuple{Observables.AbstractObservable,Union{Nothing, Bool}}}(\"options_js\" => (Observable{Any} with 1 listeners. Value:\n",
       "OrderedDict[OrderedDict{String,Any}(\"key\" => \"black\",\"val\" => 1,\"id\" => \"idR8g3PsVZ\"), OrderedDict{String,Any}(\"key\" => \"blue\",\"val\" => 2,\"id\" => \"idaZnYN74X\"), OrderedDict{String,Any}(\"key\" => \"green\",\"val\" => 3,\"id\" => \"idMWC55swo\"), OrderedDict{String,Any}(\"key\" => \"red\",\"val\" => 4,\"id\" => \"idJVumm8v0\")], nothing),\"index\" => (Observable{Any} with 2 listeners. Value:\n",
       "1, nothing)), Set(String[]), nothing, Asset[Asset(\"js\", \"knockout\", \"/Users/joday/.julia/packages/Knockout/1sDlc/src/../assets/knockout.js\"), Asset(\"js\", \"knockout_punches\", \"/Users/joday/.julia/packages/Knockout/1sDlc/src/../assets/knockout_punches.js\"), Asset(\"js\", nothing, \"/Users/joday/.julia/packages/InteractBase/9mFwe/src/../assets/all.js\"), Asset(\"css\", nothing, \"/Users/joday/.julia/packages/InteractBase/9mFwe/src/../assets/style.css\"), Asset(\"css\", nothing, \"/Users/joday/.julia/packages/Interact/SbgIk/src/../assets/bulma_confined.min.css\")], Dict{Any,Any}(\"options_js\" => Any[WebIO.JSString(\"(function (val){return (val!=this.model[\\\"options_js\\\"]()) ? (this.valueFromJulia[\\\"options_js\\\"]=true, this.model[\\\"options_js\\\"](val)) : undefined})\")],\"index\" => Any[WebIO.JSString(\"(function (val){return (val!=this.model[\\\"index\\\"]()) ? (this.valueFromJulia[\\\"index\\\"]=true, this.model[\\\"index\\\"](val)) : undefined})\")]), WebIO.ConnectionPool(Channel{Any}(sz_max:32,sz_curr:0), Set(AbstractConnection[]), Base.GenericCondition{Base.AlwaysLockedST}(Base.InvasiveLinkedList{Task}(Task (runnable) @0x0000000136b14250, Task (runnable) @0x0000000136b14250), Base.AlwaysLockedST(1))), WebIO.JSString[WebIO.JSString(\"function () {\\n    var handler = (function (ko, koPunches) {\\n    ko.punches.enableAll();\\n    ko.bindingHandlers.numericValue = {\\n        init: function(element, valueAccessor, allBindings, data, context) {\\n            var stringified = ko.observable(ko.unwrap(valueAccessor()));\\n            stringified.subscribe(function(value) {\\n                var val = parseFloat(value);\\n                if (!isNaN(val)) {\\n                    valueAccessor()(val);\\n                }\\n            });\\n            valueAccessor().subscribe(function(value) {\\n                var str = JSON.stringify(value);\\n                if ((str == \\\"0\\\") && ([\\\"-0\\\", \\\"-0.\\\"].indexOf(stringified()) >= 0))\\n                     return;\\n                 if ([\\\"null\\\", \\\"\\\"].indexOf(str) >= 0)\\n                     return;\\n                stringified(str);\\n            });\\n            ko.applyBindingsToNode(\\n                element,\\n                {\\n                    value: stringified,\\n                    valueUpdate: allBindings.get('valueUpdate'),\\n                },\\n                context,\\n            );\\n        }\\n    };\\n    var json_data = {\\\"options_js\\\":WebIO.getval({\\\"name\\\":\\\"options_js\\\",\\\"scope\\\":\\\"633410034335891009\\\",\\\"id\\\":\\\"ob_34\\\",\\\"type\\\":\\\"observable\\\"}),\\\"index\\\":WebIO.getval({\\\"name\\\":\\\"index\\\",\\\"scope\\\":\\\"633410034335891009\\\",\\\"id\\\":\\\"ob_33\\\",\\\"type\\\":\\\"observable\\\"})};\\n    var self = this;\\n    function AppViewModel() {\\n        for (var key in json_data) {\\n            var el = json_data[key];\\n            this[key] = Array.isArray(el) ? ko.observableArray(el) : ko.observable(el);\\n        }\\n        [this[\\\"update\\\"]=function (val) {this.index(val)}]\\n        \\n        [this[\\\"options_js\\\"].subscribe((function (val){!(this.valueFromJulia[\\\"options_js\\\"]) ? (WebIO.setval({\\\"name\\\":\\\"options_js\\\",\\\"scope\\\":\\\"633410034335891009\\\",\\\"id\\\":\\\"ob_34\\\",\\\"type\\\":\\\"observable\\\"},val)) : undefined; return this.valueFromJulia[\\\"options_js\\\"]=false}),self),this[\\\"index\\\"].subscribe((function (val){!(this.valueFromJulia[\\\"index\\\"]) ? (WebIO.setval({\\\"name\\\":\\\"index\\\",\\\"scope\\\":\\\"633410034335891009\\\",\\\"id\\\":\\\"ob_33\\\",\\\"type\\\":\\\"observable\\\"},val)) : undefined; return this.valueFromJulia[\\\"index\\\"]=false}),self)]\\n        \\n    }\\n    self.model = new AppViewModel();\\n    self.valueFromJulia = {};\\n    for (var key in json_data) {\\n        self.valueFromJulia[key] = false;\\n    }\\n    ko.applyBindings(self.model, self.dom);\\n}\\n);\\n    (WebIO.importBlock({\\\"data\\\":[{\\\"name\\\":\\\"knockout\\\",\\\"type\\\":\\\"js\\\",\\\"url\\\":\\\"/assetserver/bf3e344bbbe45b806bbda88c6101232eb1f7318f-knockout.js\\\"},{\\\"name\\\":\\\"knockout_punches\\\",\\\"type\\\":\\\"js\\\",\\\"url\\\":\\\"/assetserver/3ad363ca1664d7335dff0eabc7ebe7d829397430-knockout_punches.js\\\"}],\\\"type\\\":\\\"async_block\\\"})).then((imports) => handler.apply(this, imports));\\n}\\n\")])], Dict{Symbol,Any}(:className => \"interact-widget\")), Node{WebIO.DOM}(WebIO.DOM(:html, :div), Any[Scope(Node{WebIO.DOM}(WebIO.DOM(:html, :div), Any[Node{WebIO.DOM}(WebIO.DOM(:html, :div), Any[Node{WebIO.DOM}(WebIO.DOM(:html, :label), Any[\"lw\"], Dict{Symbol,Any}(:className => \"interact \",:style => Dict{Any,Any}(:padding => \"5px 10px 0px 10px\")))], Dict{Symbol,Any}(:className => \"interact-flex-row-left\")), Node{WebIO.DOM}(WebIO.DOM(:html, :div), Any[Node{WebIO.DOM}(WebIO.DOM(:html, :input), Any[], Dict{Symbol,Any}(:max => 46,:min => 1,:attributes => Dict{Any,Any}(:type => \"range\",Symbol(\"data-bind\") => \"numericValue: index, valueUpdate: 'input', event: {change: function (){this.changes(this.changes()+1)}}\",\"orient\" => \"horizontal\"),:step => 1,:className => \"slider slider is-fullwidth\",:style => Dict{Any,Any}()))], Dict{Symbol,Any}(:className => \"interact-flex-row-center\")), Node{WebIO.DOM}(WebIO.DOM(:html, :div), Any[Node{WebIO.DOM}(WebIO.DOM(:html, :p), Any[], Dict{Symbol,Any}(:attributes => Dict(\"data-bind\" => \"text: formatted_val\")))], Dict{Symbol,Any}(:className => \"interact-flex-row-right\"))], Dict{Symbol,Any}(:className => \"interact-flex-row interact-widget\")), Dict{String,Tuple{Observables.AbstractObservable,Union{Nothing, Bool}}}(\"changes\" => (Observable{Int64} with 1 listeners. Value:\n",
       "0, nothing),\"index\" => (Observable{Any} with 2 listeners. Value:\n",
       "23, nothing)), Set(String[]), nothing, Asset[Asset(\"js\", \"knockout\", \"/Users/joday/.julia/packages/Knockout/1sDlc/src/../assets/knockout.js\"), Asset(\"js\", \"knockout_punches\", \"/Users/joday/.julia/packages/Knockout/1sDlc/src/../assets/knockout_punches.js\"), Asset(\"js\", nothing, \"/Users/joday/.julia/packages/InteractBase/9mFwe/src/../assets/all.js\"), Asset(\"css\", nothing, \"/Users/joday/.julia/packages/InteractBase/9mFwe/src/../assets/style.css\"), Asset(\"css\", nothing, \"/Users/joday/.julia/packages/Interact/SbgIk/src/../assets/bulma_confined.min.css\")], Dict{Any,Any}(\"changes\" => Any[WebIO.JSString(\"(function (val){return (val!=this.model[\\\"changes\\\"]()) ? (this.valueFromJulia[\\\"changes\\\"]=true, this.model[\\\"changes\\\"](val)) : undefined})\")],\"index\" => Any[WebIO.JSString(\"(function (val){return (val!=this.model[\\\"index\\\"]()) ? (this.valueFromJulia[\\\"index\\\"]=true, this.model[\\\"index\\\"](val)) : undefined})\")]), WebIO.ConnectionPool(Channel{Any}(sz_max:32,sz_curr:0), Set(AbstractConnection[]), Base.GenericCondition{Base.AlwaysLockedST}(Base.InvasiveLinkedList{Task}(Task (runnable) @0x0000000136b14fd0, Task (runnable) @0x0000000136b14fd0), Base.AlwaysLockedST(1))), WebIO.JSString[WebIO.JSString(\"function () {\\n    var handler = (function (ko, koPunches) {\\n    ko.punches.enableAll();\\n    ko.bindingHandlers.numericValue = {\\n        init: function(element, valueAccessor, allBindings, data, context) {\\n            var stringified = ko.observable(ko.unwrap(valueAccessor()));\\n            stringified.subscribe(function(value) {\\n                var val = parseFloat(value);\\n                if (!isNaN(val)) {\\n                    valueAccessor()(val);\\n                }\\n            });\\n            valueAccessor().subscribe(function(value) {\\n                var str = JSON.stringify(value);\\n                if ((str == \\\"0\\\") && ([\\\"-0\\\", \\\"-0.\\\"].indexOf(stringified()) >= 0))\\n                     return;\\n                 if ([\\\"null\\\", \\\"\\\"].indexOf(str) >= 0)\\n                     return;\\n                stringified(str);\\n            });\\n            ko.applyBindingsToNode(\\n                element,\\n                {\\n                    value: stringified,\\n                    valueUpdate: allBindings.get('valueUpdate'),\\n                },\\n                context,\\n            );\\n        }\\n    };\\n    var json_data = {\\\"formatted_vals\\\":[\\\"1.0\\\",\\\"1.2\\\",\\\"1.4\\\",\\\"1.6\\\",\\\"1.8\\\",\\\"2.0\\\",\\\"2.2\\\",\\\"2.4\\\",\\\"2.6\\\",\\\"2.8\\\",\\\"3.0\\\",\\\"3.2\\\",\\\"3.4\\\",\\\"3.6\\\",\\\"3.8\\\",\\\"4.0\\\",\\\"4.2\\\",\\\"4.4\\\",\\\"4.6\\\",\\\"4.8\\\",\\\"5.0\\\",\\\"5.2\\\",\\\"5.4\\\",\\\"5.6\\\",\\\"5.8\\\",\\\"6.0\\\",\\\"6.2\\\",\\\"6.4\\\",\\\"6.6\\\",\\\"6.8\\\",\\\"7.0\\\",\\\"7.2\\\",\\\"7.4\\\",\\\"7.6\\\",\\\"7.8\\\",\\\"8.0\\\",\\\"8.2\\\",\\\"8.4\\\",\\\"8.6\\\",\\\"8.8\\\",\\\"9.0\\\",\\\"9.2\\\",\\\"9.4\\\",\\\"9.6\\\",\\\"9.8\\\",\\\"10.0\\\"],\\\"changes\\\":WebIO.getval({\\\"name\\\":\\\"changes\\\",\\\"scope\\\":\\\"15786896380768564873\\\",\\\"id\\\":\\\"ob_37\\\",\\\"type\\\":\\\"observable\\\"}),\\\"index\\\":WebIO.getval({\\\"name\\\":\\\"index\\\",\\\"scope\\\":\\\"15786896380768564873\\\",\\\"id\\\":\\\"ob_36\\\",\\\"type\\\":\\\"observable\\\"})};\\n    var self = this;\\n    function AppViewModel() {\\n        for (var key in json_data) {\\n            var el = json_data[key];\\n            this[key] = Array.isArray(el) ? ko.observableArray(el) : ko.observable(el);\\n        }\\n        \\n        [this[\\\"formatted_val\\\"]=ko.computed(    function(){\\n        return this.formatted_vals()[parseInt(this.index())-(1)];\\n    }\\n,this)]\\n        [this[\\\"changes\\\"].subscribe((function (val){!(this.valueFromJulia[\\\"changes\\\"]) ? (WebIO.setval({\\\"name\\\":\\\"changes\\\",\\\"scope\\\":\\\"15786896380768564873\\\",\\\"id\\\":\\\"ob_37\\\",\\\"type\\\":\\\"observable\\\"},val)) : undefined; return this.valueFromJulia[\\\"changes\\\"]=false}),self),this[\\\"index\\\"].subscribe((function (val){!(this.valueFromJulia[\\\"index\\\"]) ? (WebIO.setval({\\\"name\\\":\\\"index\\\",\\\"scope\\\":\\\"15786896380768564873\\\",\\\"id\\\":\\\"ob_36\\\",\\\"type\\\":\\\"observable\\\"},val)) : undefined; return this.valueFromJulia[\\\"index\\\"]=false}),self)]\\n        \\n    }\\n    self.model = new AppViewModel();\\n    self.valueFromJulia = {};\\n    for (var key in json_data) {\\n        self.valueFromJulia[key] = false;\\n    }\\n    ko.applyBindings(self.model, self.dom);\\n}\\n);\\n    (WebIO.importBlock({\\\"data\\\":[{\\\"name\\\":\\\"knockout\\\",\\\"type\\\":\\\"js\\\",\\\"url\\\":\\\"/assetserver/bf3e344bbbe45b806bbda88c6101232eb1f7318f-knockout.js\\\"},{\\\"name\\\":\\\"knockout_punches\\\",\\\"type\\\":\\\"js\\\",\\\"url\\\":\\\"/assetserver/3ad363ca1664d7335dff0eabc7ebe7d829397430-knockout_punches.js\\\"}],\\\"type\\\":\\\"async_block\\\"})).then((imports) => handler.apply(this, imports));\\n}\\n\")])], Dict{Symbol,Any}(:className => \"field interact-widget\")), Observable{Any} with 0 listeners. Value:\n",
       "Node{WebIO.DOM}(WebIO.DOM(:html, :div), Any[Plot{Plots.GRBackend() n=2}], Dict{Symbol,Any}(:className => \"interact-flex-row interact-widget\"))], Dict{Symbol,Any}())"
      ]
     },
     "execution_count": 41,
     "metadata": {
      "application/vnd.webio.node+json": {
       "kernelId": "2012f275-fd17-4087-a58b-0a4ccf18334b"
      }
     },
     "output_type": "execute_result"
    }
   ],
   "source": [
    "using Interact, Plots, Random\n",
    "gr(size=(800, 500))\n",
    "\n",
    "@manipulate for i in 1:50, color in [:black, :blue, :green, :red], lw in 1:.2:10\n",
    "    Random.seed!(123)\n",
    "    scatter(rand(i), alpha = i/50, ylim=(0,1), xlim=(0,50), color=color)\n",
    "    plot!(sin, 0, i, color=color, linewidth=lw)\n",
    "end"
   ]
  },
  {
   "cell_type": "markdown",
   "metadata": {
    "extensions": {
     "jupyter_dashboards": {
      "version": 1,
      "views": {
       "grid_default": {},
       "report_default": {
        "hidden": false
       }
      }
     }
    }
   },
   "source": [
    "## Packages working together with no glue code!\n",
    "\n",
    "- Taxi trip records for every yellow Taxi in NYC in 2018\n",
    "    - 10.43 GB\n",
    "    - ~112 Million Rows\n",
    "    - https://data.cityofnewyork.us/Transportation/2018-Yellow-Taxi-Trip-Data/t29m-gskq/data\n",
    "- **Pandas took 165 seconds to load the table into memory.**"
   ]
  },
  {
   "cell_type": "code",
   "execution_count": 24,
   "metadata": {
    "extensions": {
     "jupyter_dashboards": {
      "version": 1,
      "views": {
       "grid_default": {},
       "report_default": {
        "hidden": true
       }
      }
     }
    }
   },
   "outputs": [
    {
     "name": "stdout",
     "output_type": "stream",
     "text": [
      " 49.471624 seconds (452.27 M allocations: 16.890 GiB, 9.66% gc time)\n"
     ]
    },
    {
     "data": {
      "image/svg+xml": [
       "<?xml version=\"1.0\" encoding=\"utf-8\"?>\n",
       "<svg xmlns=\"http://www.w3.org/2000/svg\" xmlns:xlink=\"http://www.w3.org/1999/xlink\" width=\"800\" height=\"500\" viewBox=\"0 0 3200 2000\">\n",
       "<defs>\n",
       "  <clipPath id=\"clip5800\">\n",
       "    <rect x=\"0\" y=\"0\" width=\"3200\" height=\"2000\"/>\n",
       "  </clipPath>\n",
       "</defs>\n",
       "<polygon clip-path=\"url(#clip5800)\" points=\"\n",
       "0,2000 3200,2000 3200,0 0,0 \n",
       "  \" fill=\"#ffffff\" fill-rule=\"evenodd\" fill-opacity=\"1\"/>\n",
       "<defs>\n",
       "  <clipPath id=\"clip5801\">\n",
       "    <rect x=\"640\" y=\"0\" width=\"2241\" height=\"2000\"/>\n",
       "  </clipPath>\n",
       "</defs>\n",
       "<polygon clip-path=\"url(#clip5800)\" points=\"\n",
       "259.272,1885.57 3152.76,1885.57 3152.76,118.007 259.272,118.007 \n",
       "  \" fill=\"#ffffff\" fill-rule=\"evenodd\" fill-opacity=\"1\"/>\n",
       "<defs>\n",
       "  <clipPath id=\"clip5802\">\n",
       "    <rect x=\"259\" y=\"118\" width=\"2894\" height=\"1769\"/>\n",
       "  </clipPath>\n",
       "</defs>\n",
       "<polyline clip-path=\"url(#clip5802)\" style=\"stroke:#000000; stroke-width:2; stroke-opacity:0.1; fill:none\" points=\"\n",
       "  505.714,1885.57 505.714,118.007 \n",
       "  \"/>\n",
       "<polyline clip-path=\"url(#clip5802)\" style=\"stroke:#000000; stroke-width:2; stroke-opacity:0.1; fill:none\" points=\"\n",
       "  723.95,1885.57 723.95,118.007 \n",
       "  \"/>\n",
       "<polyline clip-path=\"url(#clip5802)\" style=\"stroke:#000000; stroke-width:2; stroke-opacity:0.1; fill:none\" points=\"\n",
       "  942.187,1885.57 942.187,118.007 \n",
       "  \"/>\n",
       "<polyline clip-path=\"url(#clip5802)\" style=\"stroke:#000000; stroke-width:2; stroke-opacity:0.1; fill:none\" points=\"\n",
       "  1160.42,1885.57 1160.42,118.007 \n",
       "  \"/>\n",
       "<polyline clip-path=\"url(#clip5802)\" style=\"stroke:#000000; stroke-width:2; stroke-opacity:0.1; fill:none\" points=\"\n",
       "  1378.66,1885.57 1378.66,118.007 \n",
       "  \"/>\n",
       "<polyline clip-path=\"url(#clip5802)\" style=\"stroke:#000000; stroke-width:2; stroke-opacity:0.1; fill:none\" points=\"\n",
       "  1596.9,1885.57 1596.9,118.007 \n",
       "  \"/>\n",
       "<polyline clip-path=\"url(#clip5802)\" style=\"stroke:#000000; stroke-width:2; stroke-opacity:0.1; fill:none\" points=\"\n",
       "  1815.13,1885.57 1815.13,118.007 \n",
       "  \"/>\n",
       "<polyline clip-path=\"url(#clip5802)\" style=\"stroke:#000000; stroke-width:2; stroke-opacity:0.1; fill:none\" points=\"\n",
       "  2033.37,1885.57 2033.37,118.007 \n",
       "  \"/>\n",
       "<polyline clip-path=\"url(#clip5802)\" style=\"stroke:#000000; stroke-width:2; stroke-opacity:0.1; fill:none\" points=\"\n",
       "  2251.61,1885.57 2251.61,118.007 \n",
       "  \"/>\n",
       "<polyline clip-path=\"url(#clip5802)\" style=\"stroke:#000000; stroke-width:2; stroke-opacity:0.1; fill:none\" points=\"\n",
       "  2469.84,1885.57 2469.84,118.007 \n",
       "  \"/>\n",
       "<polyline clip-path=\"url(#clip5802)\" style=\"stroke:#000000; stroke-width:2; stroke-opacity:0.1; fill:none\" points=\"\n",
       "  2688.08,1885.57 2688.08,118.007 \n",
       "  \"/>\n",
       "<polyline clip-path=\"url(#clip5802)\" style=\"stroke:#000000; stroke-width:2; stroke-opacity:0.1; fill:none\" points=\"\n",
       "  2906.31,1885.57 2906.31,118.007 \n",
       "  \"/>\n",
       "<polyline clip-path=\"url(#clip5802)\" style=\"stroke:#000000; stroke-width:2; stroke-opacity:0.1; fill:none\" points=\"\n",
       "  259.272,1835.55 3152.76,1835.55 \n",
       "  \"/>\n",
       "<polyline clip-path=\"url(#clip5802)\" style=\"stroke:#000000; stroke-width:2; stroke-opacity:0.1; fill:none\" points=\"\n",
       "  259.272,1417.55 3152.76,1417.55 \n",
       "  \"/>\n",
       "<polyline clip-path=\"url(#clip5802)\" style=\"stroke:#000000; stroke-width:2; stroke-opacity:0.1; fill:none\" points=\"\n",
       "  259.272,999.56 3152.76,999.56 \n",
       "  \"/>\n",
       "<polyline clip-path=\"url(#clip5802)\" style=\"stroke:#000000; stroke-width:2; stroke-opacity:0.1; fill:none\" points=\"\n",
       "  259.272,581.567 3152.76,581.567 \n",
       "  \"/>\n",
       "<polyline clip-path=\"url(#clip5802)\" style=\"stroke:#000000; stroke-width:2; stroke-opacity:0.1; fill:none\" points=\"\n",
       "  259.272,163.574 3152.76,163.574 \n",
       "  \"/>\n",
       "<polyline clip-path=\"url(#clip5800)\" style=\"stroke:#000000; stroke-width:4; stroke-opacity:1; fill:none\" points=\"\n",
       "  259.272,1885.57 3152.76,1885.57 \n",
       "  \"/>\n",
       "<polyline clip-path=\"url(#clip5800)\" style=\"stroke:#000000; stroke-width:4; stroke-opacity:1; fill:none\" points=\"\n",
       "  259.272,1885.57 259.272,118.007 \n",
       "  \"/>\n",
       "<polyline clip-path=\"url(#clip5800)\" style=\"stroke:#000000; stroke-width:4; stroke-opacity:1; fill:none\" points=\"\n",
       "  505.714,1885.57 505.714,1859.06 \n",
       "  \"/>\n",
       "<polyline clip-path=\"url(#clip5800)\" style=\"stroke:#000000; stroke-width:4; stroke-opacity:1; fill:none\" points=\"\n",
       "  723.95,1885.57 723.95,1859.06 \n",
       "  \"/>\n",
       "<polyline clip-path=\"url(#clip5800)\" style=\"stroke:#000000; stroke-width:4; stroke-opacity:1; fill:none\" points=\"\n",
       "  942.187,1885.57 942.187,1859.06 \n",
       "  \"/>\n",
       "<polyline clip-path=\"url(#clip5800)\" style=\"stroke:#000000; stroke-width:4; stroke-opacity:1; fill:none\" points=\"\n",
       "  1160.42,1885.57 1160.42,1859.06 \n",
       "  \"/>\n",
       "<polyline clip-path=\"url(#clip5800)\" style=\"stroke:#000000; stroke-width:4; stroke-opacity:1; fill:none\" points=\"\n",
       "  1378.66,1885.57 1378.66,1859.06 \n",
       "  \"/>\n",
       "<polyline clip-path=\"url(#clip5800)\" style=\"stroke:#000000; stroke-width:4; stroke-opacity:1; fill:none\" points=\"\n",
       "  1596.9,1885.57 1596.9,1859.06 \n",
       "  \"/>\n",
       "<polyline clip-path=\"url(#clip5800)\" style=\"stroke:#000000; stroke-width:4; stroke-opacity:1; fill:none\" points=\"\n",
       "  1815.13,1885.57 1815.13,1859.06 \n",
       "  \"/>\n",
       "<polyline clip-path=\"url(#clip5800)\" style=\"stroke:#000000; stroke-width:4; stroke-opacity:1; fill:none\" points=\"\n",
       "  2033.37,1885.57 2033.37,1859.06 \n",
       "  \"/>\n",
       "<polyline clip-path=\"url(#clip5800)\" style=\"stroke:#000000; stroke-width:4; stroke-opacity:1; fill:none\" points=\"\n",
       "  2251.61,1885.57 2251.61,1859.06 \n",
       "  \"/>\n",
       "<polyline clip-path=\"url(#clip5800)\" style=\"stroke:#000000; stroke-width:4; stroke-opacity:1; fill:none\" points=\"\n",
       "  2469.84,1885.57 2469.84,1859.06 \n",
       "  \"/>\n",
       "<polyline clip-path=\"url(#clip5800)\" style=\"stroke:#000000; stroke-width:4; stroke-opacity:1; fill:none\" points=\"\n",
       "  2688.08,1885.57 2688.08,1859.06 \n",
       "  \"/>\n",
       "<polyline clip-path=\"url(#clip5800)\" style=\"stroke:#000000; stroke-width:4; stroke-opacity:1; fill:none\" points=\"\n",
       "  2906.31,1885.57 2906.31,1859.06 \n",
       "  \"/>\n",
       "<polyline clip-path=\"url(#clip5800)\" style=\"stroke:#000000; stroke-width:4; stroke-opacity:1; fill:none\" points=\"\n",
       "  259.272,1835.55 302.675,1835.55 \n",
       "  \"/>\n",
       "<polyline clip-path=\"url(#clip5800)\" style=\"stroke:#000000; stroke-width:4; stroke-opacity:1; fill:none\" points=\"\n",
       "  259.272,1417.55 302.675,1417.55 \n",
       "  \"/>\n",
       "<polyline clip-path=\"url(#clip5800)\" style=\"stroke:#000000; stroke-width:4; stroke-opacity:1; fill:none\" points=\"\n",
       "  259.272,999.56 302.675,999.56 \n",
       "  \"/>\n",
       "<polyline clip-path=\"url(#clip5800)\" style=\"stroke:#000000; stroke-width:4; stroke-opacity:1; fill:none\" points=\"\n",
       "  259.272,581.567 302.675,581.567 \n",
       "  \"/>\n",
       "<polyline clip-path=\"url(#clip5800)\" style=\"stroke:#000000; stroke-width:4; stroke-opacity:1; fill:none\" points=\"\n",
       "  259.272,163.574 302.675,163.574 \n",
       "  \"/>\n",
       "<g clip-path=\"url(#clip5800)\">\n",
       "<text style=\"fill:#000000; fill-opacity:1; font-family:Arial,Helvetica Neue,Helvetica,sans-serif; font-size:48px; text-anchor:middle;\" transform=\"rotate(0, 505.714, 1943.57)\" x=\"505.714\" y=\"1943.57\">0</text>\n",
       "</g>\n",
       "<g clip-path=\"url(#clip5800)\">\n",
       "<text style=\"fill:#000000; fill-opacity:1; font-family:Arial,Helvetica Neue,Helvetica,sans-serif; font-size:48px; text-anchor:middle;\" transform=\"rotate(0, 723.95, 1943.57)\" x=\"723.95\" y=\"1943.57\">1</text>\n",
       "</g>\n",
       "<g clip-path=\"url(#clip5800)\">\n",
       "<text style=\"fill:#000000; fill-opacity:1; font-family:Arial,Helvetica Neue,Helvetica,sans-serif; font-size:48px; text-anchor:middle;\" transform=\"rotate(0, 942.187, 1943.57)\" x=\"942.187\" y=\"1943.57\">2</text>\n",
       "</g>\n",
       "<g clip-path=\"url(#clip5800)\">\n",
       "<text style=\"fill:#000000; fill-opacity:1; font-family:Arial,Helvetica Neue,Helvetica,sans-serif; font-size:48px; text-anchor:middle;\" transform=\"rotate(0, 1160.42, 1943.57)\" x=\"1160.42\" y=\"1943.57\">3</text>\n",
       "</g>\n",
       "<g clip-path=\"url(#clip5800)\">\n",
       "<text style=\"fill:#000000; fill-opacity:1; font-family:Arial,Helvetica Neue,Helvetica,sans-serif; font-size:48px; text-anchor:middle;\" transform=\"rotate(0, 1378.66, 1943.57)\" x=\"1378.66\" y=\"1943.57\">4</text>\n",
       "</g>\n",
       "<g clip-path=\"url(#clip5800)\">\n",
       "<text style=\"fill:#000000; fill-opacity:1; font-family:Arial,Helvetica Neue,Helvetica,sans-serif; font-size:48px; text-anchor:middle;\" transform=\"rotate(0, 1596.9, 1943.57)\" x=\"1596.9\" y=\"1943.57\">5</text>\n",
       "</g>\n",
       "<g clip-path=\"url(#clip5800)\">\n",
       "<text style=\"fill:#000000; fill-opacity:1; font-family:Arial,Helvetica Neue,Helvetica,sans-serif; font-size:48px; text-anchor:middle;\" transform=\"rotate(0, 1815.13, 1943.57)\" x=\"1815.13\" y=\"1943.57\">6</text>\n",
       "</g>\n",
       "<g clip-path=\"url(#clip5800)\">\n",
       "<text style=\"fill:#000000; fill-opacity:1; font-family:Arial,Helvetica Neue,Helvetica,sans-serif; font-size:48px; text-anchor:middle;\" transform=\"rotate(0, 2033.37, 1943.57)\" x=\"2033.37\" y=\"1943.57\">7</text>\n",
       "</g>\n",
       "<g clip-path=\"url(#clip5800)\">\n",
       "<text style=\"fill:#000000; fill-opacity:1; font-family:Arial,Helvetica Neue,Helvetica,sans-serif; font-size:48px; text-anchor:middle;\" transform=\"rotate(0, 2251.61, 1943.57)\" x=\"2251.61\" y=\"1943.57\">8</text>\n",
       "</g>\n",
       "<g clip-path=\"url(#clip5800)\">\n",
       "<text style=\"fill:#000000; fill-opacity:1; font-family:Arial,Helvetica Neue,Helvetica,sans-serif; font-size:48px; text-anchor:middle;\" transform=\"rotate(0, 2469.84, 1943.57)\" x=\"2469.84\" y=\"1943.57\">9</text>\n",
       "</g>\n",
       "<g clip-path=\"url(#clip5800)\">\n",
       "<text style=\"fill:#000000; fill-opacity:1; font-family:Arial,Helvetica Neue,Helvetica,sans-serif; font-size:48px; text-anchor:middle;\" transform=\"rotate(0, 2688.08, 1943.57)\" x=\"2688.08\" y=\"1943.57\">96</text>\n",
       "</g>\n",
       "<g clip-path=\"url(#clip5800)\">\n",
       "<text style=\"fill:#000000; fill-opacity:1; font-family:Arial,Helvetica Neue,Helvetica,sans-serif; font-size:48px; text-anchor:middle;\" transform=\"rotate(0, 2906.31, 1943.57)\" x=\"2906.31\" y=\"1943.57\">192</text>\n",
       "</g>\n",
       "<g clip-path=\"url(#clip5800)\">\n",
       "<text style=\"fill:#000000; fill-opacity:1; font-family:Arial,Helvetica Neue,Helvetica,sans-serif; font-size:48px; text-anchor:end;\" transform=\"rotate(0, 227.272, 1853.05)\" x=\"227.272\" y=\"1853.05\">0</text>\n",
       "</g>\n",
       "<g clip-path=\"url(#clip5800)\">\n",
       "<text style=\"fill:#000000; fill-opacity:1; font-family:Arial,Helvetica Neue,Helvetica,sans-serif; font-size:48px; text-anchor:start;\" transform=\"rotate(0, 97.131, 1441.28)\" x=\"97.131\" y=\"1441.28\">2×10</text>\n",
       "</g>\n",
       "<g clip-path=\"url(#clip5800)\">\n",
       "<text style=\"fill:#000000; fill-opacity:1; font-family:Arial,Helvetica Neue,Helvetica,sans-serif; font-size:38px; text-anchor:start;\" transform=\"rotate(0, 205.528, 1413.87)\" x=\"205.528\" y=\"1413.87\">7</text>\n",
       "</g>\n",
       "<g clip-path=\"url(#clip5800)\">\n",
       "<text style=\"fill:#000000; fill-opacity:1; font-family:Arial,Helvetica Neue,Helvetica,sans-serif; font-size:48px; text-anchor:start;\" transform=\"rotate(0, 97.131, 1023.29)\" x=\"97.131\" y=\"1023.29\">4×10</text>\n",
       "</g>\n",
       "<g clip-path=\"url(#clip5800)\">\n",
       "<text style=\"fill:#000000; fill-opacity:1; font-family:Arial,Helvetica Neue,Helvetica,sans-serif; font-size:38px; text-anchor:start;\" transform=\"rotate(0, 205.528, 995.877)\" x=\"205.528\" y=\"995.877\">7</text>\n",
       "</g>\n",
       "<g clip-path=\"url(#clip5800)\">\n",
       "<text style=\"fill:#000000; fill-opacity:1; font-family:Arial,Helvetica Neue,Helvetica,sans-serif; font-size:48px; text-anchor:start;\" transform=\"rotate(0, 97.131, 605.295)\" x=\"97.131\" y=\"605.295\">6×10</text>\n",
       "</g>\n",
       "<g clip-path=\"url(#clip5800)\">\n",
       "<text style=\"fill:#000000; fill-opacity:1; font-family:Arial,Helvetica Neue,Helvetica,sans-serif; font-size:38px; text-anchor:start;\" transform=\"rotate(0, 205.528, 577.884)\" x=\"205.528\" y=\"577.884\">7</text>\n",
       "</g>\n",
       "<g clip-path=\"url(#clip5800)\">\n",
       "<text style=\"fill:#000000; fill-opacity:1; font-family:Arial,Helvetica Neue,Helvetica,sans-serif; font-size:48px; text-anchor:start;\" transform=\"rotate(0, 97.131, 187.302)\" x=\"97.131\" y=\"187.302\">8×10</text>\n",
       "</g>\n",
       "<g clip-path=\"url(#clip5800)\">\n",
       "<text style=\"fill:#000000; fill-opacity:1; font-family:Arial,Helvetica Neue,Helvetica,sans-serif; font-size:38px; text-anchor:start;\" transform=\"rotate(0, 205.528, 159.891)\" x=\"205.528\" y=\"159.891\">7</text>\n",
       "</g>\n",
       "<g clip-path=\"url(#clip5800)\">\n",
       "<text style=\"fill:#000000; fill-opacity:1; font-family:Arial,Helvetica Neue,Helvetica,sans-serif; font-size:82px; text-anchor:middle;\" transform=\"rotate(0, 1706.01, 72)\" x=\"1706.01\" y=\"72\">Number of Passengers in NYC Yellow Taxis (2018)</text>\n",
       "</g>\n",
       "<polygon clip-path=\"url(#clip5802)\" points=\"\n",
       "418.419,1814.58 418.419,1835.55 593.008,1835.55 593.008,1814.58 418.419,1814.58 418.419,1814.58 \n",
       "  \" fill=\"#009af9\" fill-rule=\"evenodd\" fill-opacity=\"1\"/>\n",
       "<polyline clip-path=\"url(#clip5802)\" style=\"stroke:#000000; stroke-width:4; stroke-opacity:1; fill:none\" points=\"\n",
       "  418.419,1814.58 418.419,1835.55 593.008,1835.55 593.008,1814.58 418.419,1814.58 \n",
       "  \"/>\n",
       "<polygon clip-path=\"url(#clip5802)\" points=\"\n",
       "636.656,168.033 636.656,1835.55 811.245,1835.55 811.245,168.033 636.656,168.033 636.656,168.033 \n",
       "  \" fill=\"#009af9\" fill-rule=\"evenodd\" fill-opacity=\"1\"/>\n",
       "<polyline clip-path=\"url(#clip5802)\" style=\"stroke:#000000; stroke-width:4; stroke-opacity:1; fill:none\" points=\"\n",
       "  636.656,168.033 636.656,1835.55 811.245,1835.55 811.245,168.033 636.656,168.033 \n",
       "  \"/>\n",
       "<polygon clip-path=\"url(#clip5802)\" points=\"\n",
       "854.892,1491.37 854.892,1835.55 1029.48,1835.55 1029.48,1491.37 854.892,1491.37 854.892,1491.37 \n",
       "  \" fill=\"#009af9\" fill-rule=\"evenodd\" fill-opacity=\"1\"/>\n",
       "<polyline clip-path=\"url(#clip5802)\" style=\"stroke:#000000; stroke-width:4; stroke-opacity:1; fill:none\" points=\"\n",
       "  854.892,1491.37 854.892,1835.55 1029.48,1835.55 1029.48,1491.37 854.892,1491.37 \n",
       "  \"/>\n",
       "<polygon clip-path=\"url(#clip5802)\" points=\"\n",
       "1073.13,1737.65 1073.13,1835.55 1247.72,1835.55 1247.72,1737.65 1073.13,1737.65 1073.13,1737.65 \n",
       "  \" fill=\"#009af9\" fill-rule=\"evenodd\" fill-opacity=\"1\"/>\n",
       "<polyline clip-path=\"url(#clip5802)\" style=\"stroke:#000000; stroke-width:4; stroke-opacity:1; fill:none\" points=\"\n",
       "  1073.13,1737.65 1073.13,1835.55 1247.72,1835.55 1247.72,1737.65 1073.13,1737.65 \n",
       "  \"/>\n",
       "<polygon clip-path=\"url(#clip5802)\" points=\"\n",
       "1291.36,1789.37 1291.36,1835.55 1465.95,1835.55 1465.95,1789.37 1291.36,1789.37 1291.36,1789.37 \n",
       "  \" fill=\"#009af9\" fill-rule=\"evenodd\" fill-opacity=\"1\"/>\n",
       "<polyline clip-path=\"url(#clip5802)\" style=\"stroke:#000000; stroke-width:4; stroke-opacity:1; fill:none\" points=\"\n",
       "  1291.36,1789.37 1291.36,1835.55 1465.95,1835.55 1465.95,1789.37 1291.36,1789.37 \n",
       "  \"/>\n",
       "<polygon clip-path=\"url(#clip5802)\" points=\"\n",
       "1509.6,1730.19 1509.6,1835.55 1684.19,1835.55 1684.19,1730.19 1509.6,1730.19 1509.6,1730.19 \n",
       "  \" fill=\"#009af9\" fill-rule=\"evenodd\" fill-opacity=\"1\"/>\n",
       "<polyline clip-path=\"url(#clip5802)\" style=\"stroke:#000000; stroke-width:4; stroke-opacity:1; fill:none\" points=\"\n",
       "  1509.6,1730.19 1509.6,1835.55 1684.19,1835.55 1684.19,1730.19 1509.6,1730.19 \n",
       "  \"/>\n",
       "<polygon clip-path=\"url(#clip5802)\" points=\"\n",
       "1727.84,1771.99 1727.84,1835.55 1902.43,1835.55 1902.43,1771.99 1727.84,1771.99 1727.84,1771.99 \n",
       "  \" fill=\"#009af9\" fill-rule=\"evenodd\" fill-opacity=\"1\"/>\n",
       "<polyline clip-path=\"url(#clip5802)\" style=\"stroke:#000000; stroke-width:4; stroke-opacity:1; fill:none\" points=\"\n",
       "  1727.84,1771.99 1727.84,1835.55 1902.43,1835.55 1902.43,1771.99 1727.84,1771.99 \n",
       "  \"/>\n",
       "<polygon clip-path=\"url(#clip5802)\" points=\"\n",
       "1946.07,1835.54 1946.07,1835.55 2120.66,1835.55 2120.66,1835.54 1946.07,1835.54 1946.07,1835.54 \n",
       "  \" fill=\"#009af9\" fill-rule=\"evenodd\" fill-opacity=\"1\"/>\n",
       "<polyline clip-path=\"url(#clip5802)\" style=\"stroke:#000000; stroke-width:4; stroke-opacity:1; fill:none\" points=\"\n",
       "  1946.07,1835.54 1946.07,1835.55 2120.66,1835.55 2120.66,1835.54 1946.07,1835.54 \n",
       "  \"/>\n",
       "<polygon clip-path=\"url(#clip5802)\" points=\"\n",
       "2164.31,1835.54 2164.31,1835.55 2338.9,1835.55 2338.9,1835.54 2164.31,1835.54 2164.31,1835.54 \n",
       "  \" fill=\"#009af9\" fill-rule=\"evenodd\" fill-opacity=\"1\"/>\n",
       "<polyline clip-path=\"url(#clip5802)\" style=\"stroke:#000000; stroke-width:4; stroke-opacity:1; fill:none\" points=\"\n",
       "  2164.31,1835.54 2164.31,1835.55 2338.9,1835.55 2338.9,1835.54 2164.31,1835.54 \n",
       "  \"/>\n",
       "<polygon clip-path=\"url(#clip5802)\" points=\"\n",
       "2382.55,1835.54 2382.55,1835.55 2557.14,1835.55 2557.14,1835.54 2382.55,1835.54 2382.55,1835.54 \n",
       "  \" fill=\"#009af9\" fill-rule=\"evenodd\" fill-opacity=\"1\"/>\n",
       "<polyline clip-path=\"url(#clip5802)\" style=\"stroke:#000000; stroke-width:4; stroke-opacity:1; fill:none\" points=\"\n",
       "  2382.55,1835.54 2382.55,1835.55 2557.14,1835.55 2557.14,1835.54 2382.55,1835.54 \n",
       "  \"/>\n",
       "<polygon clip-path=\"url(#clip5802)\" points=\"\n",
       "2600.78,1835.55 2600.78,1835.55 2775.37,1835.55 2775.37,1835.55 2600.78,1835.55 2600.78,1835.55 \n",
       "  \" fill=\"#009af9\" fill-rule=\"evenodd\" fill-opacity=\"1\"/>\n",
       "<polyline clip-path=\"url(#clip5802)\" style=\"stroke:#000000; stroke-width:4; stroke-opacity:1; fill:none\" points=\"\n",
       "  2600.78,1835.55 2600.78,1835.55 2775.37,1835.55 2775.37,1835.55 2600.78,1835.55 \n",
       "  \"/>\n",
       "<polygon clip-path=\"url(#clip5802)\" points=\"\n",
       "2819.02,1835.55 2819.02,1835.55 2993.61,1835.55 2993.61,1835.55 2819.02,1835.55 2819.02,1835.55 \n",
       "  \" fill=\"#009af9\" fill-rule=\"evenodd\" fill-opacity=\"1\"/>\n",
       "<polyline clip-path=\"url(#clip5802)\" style=\"stroke:#000000; stroke-width:4; stroke-opacity:1; fill:none\" points=\"\n",
       "  2819.02,1835.55 2819.02,1835.55 2993.61,1835.55 2993.61,1835.55 2819.02,1835.55 \n",
       "  \"/>\n",
       "<polygon clip-path=\"url(#clip5800)\" points=\"\n",
       "2608.34,370.487 3056.76,370.487 3056.76,249.527 2608.34,249.527 \n",
       "  \" fill=\"#ffffff\" fill-rule=\"evenodd\" fill-opacity=\"1\"/>\n",
       "<polyline clip-path=\"url(#clip5800)\" style=\"stroke:#000000; stroke-width:4; stroke-opacity:1; fill:none\" points=\"\n",
       "  2608.34,370.487 3056.76,370.487 3056.76,249.527 2608.34,249.527 2608.34,370.487 \n",
       "  \"/>\n",
       "<polygon clip-path=\"url(#clip5800)\" points=\"\n",
       "2640.34,334.199 2832.34,334.199 2832.34,285.815 2640.34,285.815 2640.34,334.199 \n",
       "  \" fill=\"#009af9\" fill-rule=\"evenodd\" fill-opacity=\"1\"/>\n",
       "<polyline clip-path=\"url(#clip5800)\" style=\"stroke:#000000; stroke-width:4; stroke-opacity:1; fill:none\" points=\"\n",
       "  2640.34,334.199 2832.34,334.199 2832.34,285.815 2640.34,285.815 2640.34,334.199 \n",
       "  \"/>\n",
       "<g clip-path=\"url(#clip5800)\">\n",
       "<text style=\"fill:#000000; fill-opacity:1; font-family:Arial,Helvetica Neue,Helvetica,sans-serif; font-size:48px; text-anchor:start;\" transform=\"rotate(0, 2864.34, 327.507)\" x=\"2864.34\" y=\"327.507\">Count</text>\n",
       "</g>\n",
       "</svg>\n"
      ]
     },
     "execution_count": 24,
     "metadata": {},
     "output_type": "execute_result"
    }
   ],
   "source": [
    "using Plots, OnlineStats, CSV, Parsers\n",
    "\n",
    "o = CountMap(Int)\n",
    "\n",
    "path = \"/Users/joday/datasets/2018_Yellow_Taxi_Trip_data.csv\"\n",
    "\n",
    "@time for row in CSV.Rows(path; reusebuffer=true)\n",
    "    fit!(o, Parsers.parse(Int, row.passenger_count))\n",
    "end\n",
    "\n",
    "sort!(o.value)\n",
    "plot(o, title=\"Number of Passengers in NYC Yellow Taxis (2018)\")"
   ]
  },
  {
   "cell_type": "markdown",
   "metadata": {
    "extensions": {
     "jupyter_dashboards": {
      "version": 1,
      "views": {
       "grid_default": {},
       "report_default": {
        "hidden": false
       }
      }
     }
    }
   },
   "source": [
    "# What's new?"
   ]
  },
  {
   "cell_type": "markdown",
   "metadata": {
    "extensions": {
     "jupyter_dashboards": {
      "version": 1,
      "views": {
       "grid_default": {},
       "report_default": {
        "hidden": false
       }
      }
     }
    }
   },
   "source": [
    "## Missing"
   ]
  },
  {
   "cell_type": "code",
   "execution_count": 25,
   "metadata": {
    "extensions": {
     "jupyter_dashboards": {
      "version": 1,
      "views": {
       "grid_default": {},
       "report_default": {
        "hidden": true
       }
      }
     }
    }
   },
   "outputs": [
    {
     "data": {
      "text/plain": [
       "missing"
      ]
     },
     "execution_count": 25,
     "metadata": {},
     "output_type": "execute_result"
    }
   ],
   "source": [
    "missing"
   ]
  },
  {
   "cell_type": "code",
   "execution_count": 26,
   "metadata": {
    "extensions": {
     "jupyter_dashboards": {
      "version": 1,
      "views": {
       "grid_default": {},
       "report_default": {
        "hidden": true
       }
      }
     }
    }
   },
   "outputs": [
    {
     "data": {
      "text/plain": [
       "missing"
      ]
     },
     "execution_count": 26,
     "metadata": {},
     "output_type": "execute_result"
    }
   ],
   "source": [
    "sum([1, missing, 3])"
   ]
  },
  {
   "cell_type": "code",
   "execution_count": 27,
   "metadata": {
    "extensions": {
     "jupyter_dashboards": {
      "version": 1,
      "views": {
       "grid_default": {},
       "report_default": {
        "hidden": true
       }
      }
     }
    }
   },
   "outputs": [
    {
     "data": {
      "text/plain": [
       "4"
      ]
     },
     "execution_count": 27,
     "metadata": {},
     "output_type": "execute_result"
    }
   ],
   "source": [
    "sum(skipmissing([1, missing, 3]))"
   ]
  },
  {
   "cell_type": "markdown",
   "metadata": {
    "extensions": {
     "jupyter_dashboards": {
      "version": 1,
      "views": {
       "grid_default": {},
       "report_default": {
        "hidden": false
       }
      }
     }
    }
   },
   "source": [
    "## Package Manager, `Pkg`\n",
    "\n",
    "Based on two files: \n",
    "\n",
    "1. `Project.toml` - List of dependencies\n",
    "2. `Manifest.toml` - List of exact package versions installed\n",
    "\n",
    "Replicate an environment exactly by simply sharing your `Manifest.toml` file"
   ]
  },
  {
   "cell_type": "code",
   "execution_count": 28,
   "metadata": {
    "extensions": {
     "jupyter_dashboards": {
      "version": 1,
      "views": {
       "grid_default": {},
       "report_default": {
        "hidden": true
       }
      }
     }
    }
   },
   "outputs": [
    {
     "name": "stdout",
     "output_type": "stream",
     "text": [
      "\u001b[32m\u001b[1m    Status\u001b[22m\u001b[39m `~/.julia/environments/v1.2/Project.toml`\n",
      " \u001b[90m [77b51b56]\u001b[39m\u001b[37m AverageShiftedHistograms v0.8.1\u001b[39m\n",
      " \u001b[90m [6e4b80f9]\u001b[39m\u001b[37m BenchmarkTools v0.4.2\u001b[39m\n",
      " \u001b[90m [336ed68f]\u001b[39m\u001b[37m CSV v0.5.11\u001b[39m\n",
      " \u001b[90m [a93c6f00]\u001b[39m\u001b[37m DataFrames v0.19.3\u001b[39m\n",
      " \u001b[90m [31c24e10]\u001b[39m\u001b[37m Distributions v0.21.1\u001b[39m\n",
      " \u001b[90m [587475ba]\u001b[39m\u001b[37m Flux v0.9.0\u001b[39m\n",
      " \u001b[90m [bd48cda9]\u001b[39m\u001b[37m GraphRecipes v0.4.0\u001b[39m\n",
      " \u001b[90m [7073ff75]\u001b[39m\u001b[37m IJulia v1.20.0\u001b[39m\n",
      " \u001b[90m [6deec6e2]\u001b[39m\u001b[37m IndexedTables v0.12.2\u001b[39m\n",
      " \u001b[90m [c601a237]\u001b[39m\u001b[37m Interact v0.10.3\u001b[39m\n",
      " \u001b[90m [d3863d7c]\u001b[39m\u001b[37m InteractBase v0.10.3\u001b[39m\n",
      " \u001b[90m [a93385a2]\u001b[39m\u001b[37m JuliaDB v0.12.0\u001b[39m\n",
      " \u001b[90m [30fc2ffe]\u001b[39m\u001b[37m LossFunctions v0.5.1+ [`~/.julia/dev/LossFunctions`]\u001b[39m\n",
      " \u001b[90m [add582a8]\u001b[39m\u001b[37m MLJ v0.2.3\u001b[39m\n",
      " \u001b[90m [a15396b6]\u001b[39m\u001b[37m OnlineStats v0.23.0\u001b[39m\n",
      " \u001b[90m [925886fa]\u001b[39m\u001b[37m OnlineStatsBase v0.10.2\u001b[39m\n",
      " \u001b[90m [bac558e1]\u001b[39m\u001b[37m OrderedCollections v1.1.0\u001b[39m\n",
      " \u001b[90m [69de0a69]\u001b[39m\u001b[37m Parsers v0.3.7\u001b[39m\n",
      " \u001b[90m [91a5bcdd]\u001b[39m\u001b[37m Plots v0.26.2\u001b[39m\n",
      " \u001b[90m [92933f4c]\u001b[39m\u001b[37m ProgressMeter v1.0.0\u001b[39m\n",
      " \u001b[90m [438e738f]\u001b[39m\u001b[37m PyCall v1.91.2\u001b[39m\n",
      " \u001b[90m [6f49c342]\u001b[39m\u001b[37m RCall v0.13.4\u001b[39m\n",
      " \u001b[90m [3cdcf5f2]\u001b[39m\u001b[37m RecipesBase v0.7.0\u001b[39m\n",
      " \u001b[90m [2913bbd2]\u001b[39m\u001b[37m StatsBase v0.32.0\u001b[39m\n",
      " \u001b[90m [f3b207a7]\u001b[39m\u001b[37m StatsPlots v0.10.2\u001b[39m\n",
      " \u001b[90m [0f1e0344]\u001b[39m\u001b[37m WebIO v0.8.11\u001b[39m\n",
      " \u001b[90m [e88e6eb3]\u001b[39m\u001b[37m Zygote v0.3.4\u001b[39m\n"
     ]
    }
   ],
   "source": [
    "using Pkg\n",
    "\n",
    "Pkg.status()"
   ]
  },
  {
   "cell_type": "markdown",
   "metadata": {
    "extensions": {
     "jupyter_dashboards": {
      "version": 1,
      "views": {
       "grid_default": {},
       "report_default": {
        "hidden": false
       }
      }
     }
    }
   },
   "source": [
    "# Named Tuples"
   ]
  },
  {
   "cell_type": "code",
   "execution_count": 29,
   "metadata": {
    "extensions": {
     "jupyter_dashboards": {
      "version": 1,
      "views": {
       "grid_default": {},
       "report_default": {
        "hidden": true
       }
      }
     }
    }
   },
   "outputs": [
    {
     "data": {
      "text/plain": [
       "(x = 1,\n",
       " y = 2,)"
      ]
     },
     "execution_count": 29,
     "metadata": {},
     "output_type": "execute_result"
    }
   ],
   "source": [
    "(x=1, y=2)"
   ]
  },
  {
   "cell_type": "markdown",
   "metadata": {
    "extensions": {
     "jupyter_dashboards": {
      "version": 1,
      "views": {
       "grid_default": {},
       "report_default": {
        "hidden": false
       }
      }
     }
    }
   },
   "source": [
    "# Generators\n",
    "\n",
    "- Lazily map a function/filter to a collection"
   ]
  },
  {
   "cell_type": "code",
   "execution_count": 30,
   "metadata": {
    "extensions": {
     "jupyter_dashboards": {
      "version": 1,
      "views": {
       "grid_default": {},
       "report_default": {
        "hidden": true
       }
      }
     }
    }
   },
   "outputs": [
    {
     "data": {
      "text/plain": [
       "0.9998229684236556"
      ]
     },
     "execution_count": 30,
     "metadata": {},
     "output_type": "execute_result"
    }
   ],
   "source": [
    "x = randn(10^7)\n",
    "\n",
    "g = (xi^2 for xi in x if xi > 0)\n",
    "\n",
    "mean(g)"
   ]
  },
  {
   "cell_type": "markdown",
   "metadata": {
    "extensions": {
     "jupyter_dashboards": {
      "version": 1,
      "views": {
       "grid_default": {},
       "report_default": {
        "hidden": false
       }
      }
     }
    }
   },
   "source": [
    "# Composable (parallel tasks that call other parallel tasks) Multi-threading!\n",
    "\n",
    "- Partially supported in 1.2.  Full support coming in 1.3!\n",
    "\n",
    "https://julialang.org/blog/2019/07/multithreading"
   ]
  },
  {
   "cell_type": "code",
   "execution_count": 31,
   "metadata": {
    "extensions": {
     "jupyter_dashboards": {
      "version": 1,
      "views": {
       "grid_default": {},
       "report_default": {
        "hidden": true
       }
      }
     }
    }
   },
   "outputs": [
    {
     "name": "stdout",
     "output_type": "stream",
     "text": [
      "i = 7 on thread 3\n",
      "i = 1 on thread 1\n",
      "i = 4 on thread 2\n",
      "i = 8 on thread 3\n",
      "i = 2 on thread 1\n",
      "i = 5 on thread 2\n",
      "i = 3 on thread 1\n",
      "i = 9 on thread 4\n",
      "i = 10 on thread 4\n",
      "i = 6 on thread 2\n"
     ]
    }
   ],
   "source": [
    "Threads.@threads for i = 1:10\n",
    "    println(\"i = $i on thread $(Threads.threadid())\")\n",
    "end"
   ]
  },
  {
   "cell_type": "markdown",
   "metadata": {
    "extensions": {
     "jupyter_dashboards": {
      "version": 1,
      "views": {
       "grid_default": {},
       "report_default": {
        "hidden": false
       }
      }
     }
    }
   },
   "source": [
    "# Distributed Parallelism"
   ]
  },
  {
   "cell_type": "code",
   "execution_count": 32,
   "metadata": {
    "extensions": {
     "jupyter_dashboards": {
      "version": 1,
      "views": {
       "grid_default": {},
       "report_default": {
        "hidden": true
       }
      }
     }
    }
   },
   "outputs": [
    {
     "data": {
      "image/svg+xml": [
       "<?xml version=\"1.0\" encoding=\"utf-8\"?>\n",
       "<svg xmlns=\"http://www.w3.org/2000/svg\" xmlns:xlink=\"http://www.w3.org/1999/xlink\" width=\"800\" height=\"500\" viewBox=\"0 0 3200 2000\">\n",
       "<defs>\n",
       "  <clipPath id=\"clip6200\">\n",
       "    <rect x=\"0\" y=\"0\" width=\"3200\" height=\"2000\"/>\n",
       "  </clipPath>\n",
       "</defs>\n",
       "<polygon clip-path=\"url(#clip6200)\" points=\"\n",
       "0,2000 3200,2000 3200,0 0,0 \n",
       "  \" fill=\"#ffffff\" fill-rule=\"evenodd\" fill-opacity=\"1\"/>\n",
       "<defs>\n",
       "  <clipPath id=\"clip6201\">\n",
       "    <rect x=\"640\" y=\"0\" width=\"2241\" height=\"2000\"/>\n",
       "  </clipPath>\n",
       "</defs>\n",
       "<polygon clip-path=\"url(#clip6200)\" points=\"\n",
       "161.898,1885.57 3152.76,1885.57 3152.76,47.2441 161.898,47.2441 \n",
       "  \" fill=\"#ffffff\" fill-rule=\"evenodd\" fill-opacity=\"1\"/>\n",
       "<defs>\n",
       "  <clipPath id=\"clip6202\">\n",
       "    <rect x=\"161\" y=\"47\" width=\"2992\" height=\"1839\"/>\n",
       "  </clipPath>\n",
       "</defs>\n",
       "<polyline clip-path=\"url(#clip6202)\" style=\"stroke:#000000; stroke-width:2; stroke-opacity:0.1; fill:none\" points=\"\n",
       "  640.72,1885.57 640.72,47.2441 \n",
       "  \"/>\n",
       "<polyline clip-path=\"url(#clip6202)\" style=\"stroke:#000000; stroke-width:2; stroke-opacity:0.1; fill:none\" points=\"\n",
       "  1161.21,1885.57 1161.21,47.2441 \n",
       "  \"/>\n",
       "<polyline clip-path=\"url(#clip6202)\" style=\"stroke:#000000; stroke-width:2; stroke-opacity:0.1; fill:none\" points=\"\n",
       "  1681.69,1885.57 1681.69,47.2441 \n",
       "  \"/>\n",
       "<polyline clip-path=\"url(#clip6202)\" style=\"stroke:#000000; stroke-width:2; stroke-opacity:0.1; fill:none\" points=\"\n",
       "  2202.18,1885.57 2202.18,47.2441 \n",
       "  \"/>\n",
       "<polyline clip-path=\"url(#clip6202)\" style=\"stroke:#000000; stroke-width:2; stroke-opacity:0.1; fill:none\" points=\"\n",
       "  2722.66,1885.57 2722.66,47.2441 \n",
       "  \"/>\n",
       "<polyline clip-path=\"url(#clip6202)\" style=\"stroke:#000000; stroke-width:2; stroke-opacity:0.1; fill:none\" points=\"\n",
       "  161.898,1833.54 3152.76,1833.54 \n",
       "  \"/>\n",
       "<polyline clip-path=\"url(#clip6202)\" style=\"stroke:#000000; stroke-width:2; stroke-opacity:0.1; fill:none\" points=\"\n",
       "  161.898,1404.68 3152.76,1404.68 \n",
       "  \"/>\n",
       "<polyline clip-path=\"url(#clip6202)\" style=\"stroke:#000000; stroke-width:2; stroke-opacity:0.1; fill:none\" points=\"\n",
       "  161.898,975.812 3152.76,975.812 \n",
       "  \"/>\n",
       "<polyline clip-path=\"url(#clip6202)\" style=\"stroke:#000000; stroke-width:2; stroke-opacity:0.1; fill:none\" points=\"\n",
       "  161.898,546.946 3152.76,546.946 \n",
       "  \"/>\n",
       "<polyline clip-path=\"url(#clip6202)\" style=\"stroke:#000000; stroke-width:2; stroke-opacity:0.1; fill:none\" points=\"\n",
       "  161.898,118.081 3152.76,118.081 \n",
       "  \"/>\n",
       "<polyline clip-path=\"url(#clip6200)\" style=\"stroke:#000000; stroke-width:4; stroke-opacity:1; fill:none\" points=\"\n",
       "  161.898,1885.57 3152.76,1885.57 \n",
       "  \"/>\n",
       "<polyline clip-path=\"url(#clip6200)\" style=\"stroke:#000000; stroke-width:4; stroke-opacity:1; fill:none\" points=\"\n",
       "  161.898,1885.57 161.898,47.2441 \n",
       "  \"/>\n",
       "<polyline clip-path=\"url(#clip6200)\" style=\"stroke:#000000; stroke-width:4; stroke-opacity:1; fill:none\" points=\"\n",
       "  640.72,1885.57 640.72,1858 \n",
       "  \"/>\n",
       "<polyline clip-path=\"url(#clip6200)\" style=\"stroke:#000000; stroke-width:4; stroke-opacity:1; fill:none\" points=\"\n",
       "  1161.21,1885.57 1161.21,1858 \n",
       "  \"/>\n",
       "<polyline clip-path=\"url(#clip6200)\" style=\"stroke:#000000; stroke-width:4; stroke-opacity:1; fill:none\" points=\"\n",
       "  1681.69,1885.57 1681.69,1858 \n",
       "  \"/>\n",
       "<polyline clip-path=\"url(#clip6200)\" style=\"stroke:#000000; stroke-width:4; stroke-opacity:1; fill:none\" points=\"\n",
       "  2202.18,1885.57 2202.18,1858 \n",
       "  \"/>\n",
       "<polyline clip-path=\"url(#clip6200)\" style=\"stroke:#000000; stroke-width:4; stroke-opacity:1; fill:none\" points=\"\n",
       "  2722.66,1885.57 2722.66,1858 \n",
       "  \"/>\n",
       "<polyline clip-path=\"url(#clip6200)\" style=\"stroke:#000000; stroke-width:4; stroke-opacity:1; fill:none\" points=\"\n",
       "  161.898,1833.54 206.761,1833.54 \n",
       "  \"/>\n",
       "<polyline clip-path=\"url(#clip6200)\" style=\"stroke:#000000; stroke-width:4; stroke-opacity:1; fill:none\" points=\"\n",
       "  161.898,1404.68 206.761,1404.68 \n",
       "  \"/>\n",
       "<polyline clip-path=\"url(#clip6200)\" style=\"stroke:#000000; stroke-width:4; stroke-opacity:1; fill:none\" points=\"\n",
       "  161.898,975.812 206.761,975.812 \n",
       "  \"/>\n",
       "<polyline clip-path=\"url(#clip6200)\" style=\"stroke:#000000; stroke-width:4; stroke-opacity:1; fill:none\" points=\"\n",
       "  161.898,546.946 206.761,546.946 \n",
       "  \"/>\n",
       "<polyline clip-path=\"url(#clip6200)\" style=\"stroke:#000000; stroke-width:4; stroke-opacity:1; fill:none\" points=\"\n",
       "  161.898,118.081 206.761,118.081 \n",
       "  \"/>\n",
       "<g clip-path=\"url(#clip6200)\">\n",
       "<text style=\"fill:#000000; fill-opacity:1; font-family:Arial,Helvetica Neue,Helvetica,sans-serif; font-size:48px; text-anchor:middle;\" transform=\"rotate(0, 640.72, 1943.57)\" x=\"640.72\" y=\"1943.57\">-4</text>\n",
       "</g>\n",
       "<g clip-path=\"url(#clip6200)\">\n",
       "<text style=\"fill:#000000; fill-opacity:1; font-family:Arial,Helvetica Neue,Helvetica,sans-serif; font-size:48px; text-anchor:middle;\" transform=\"rotate(0, 1161.21, 1943.57)\" x=\"1161.21\" y=\"1943.57\">-2</text>\n",
       "</g>\n",
       "<g clip-path=\"url(#clip6200)\">\n",
       "<text style=\"fill:#000000; fill-opacity:1; font-family:Arial,Helvetica Neue,Helvetica,sans-serif; font-size:48px; text-anchor:middle;\" transform=\"rotate(0, 1681.69, 1943.57)\" x=\"1681.69\" y=\"1943.57\">0</text>\n",
       "</g>\n",
       "<g clip-path=\"url(#clip6200)\">\n",
       "<text style=\"fill:#000000; fill-opacity:1; font-family:Arial,Helvetica Neue,Helvetica,sans-serif; font-size:48px; text-anchor:middle;\" transform=\"rotate(0, 2202.18, 1943.57)\" x=\"2202.18\" y=\"1943.57\">2</text>\n",
       "</g>\n",
       "<g clip-path=\"url(#clip6200)\">\n",
       "<text style=\"fill:#000000; fill-opacity:1; font-family:Arial,Helvetica Neue,Helvetica,sans-serif; font-size:48px; text-anchor:middle;\" transform=\"rotate(0, 2722.66, 1943.57)\" x=\"2722.66\" y=\"1943.57\">4</text>\n",
       "</g>\n",
       "<g clip-path=\"url(#clip6200)\">\n",
       "<text style=\"fill:#000000; fill-opacity:1; font-family:Arial,Helvetica Neue,Helvetica,sans-serif; font-size:48px; text-anchor:end;\" transform=\"rotate(0, 129.898, 1851.04)\" x=\"129.898\" y=\"1851.04\">0.0</text>\n",
       "</g>\n",
       "<g clip-path=\"url(#clip6200)\">\n",
       "<text style=\"fill:#000000; fill-opacity:1; font-family:Arial,Helvetica Neue,Helvetica,sans-serif; font-size:48px; text-anchor:end;\" transform=\"rotate(0, 129.898, 1422.18)\" x=\"129.898\" y=\"1422.18\">0.1</text>\n",
       "</g>\n",
       "<g clip-path=\"url(#clip6200)\">\n",
       "<text style=\"fill:#000000; fill-opacity:1; font-family:Arial,Helvetica Neue,Helvetica,sans-serif; font-size:48px; text-anchor:end;\" transform=\"rotate(0, 129.898, 993.312)\" x=\"129.898\" y=\"993.312\">0.2</text>\n",
       "</g>\n",
       "<g clip-path=\"url(#clip6200)\">\n",
       "<text style=\"fill:#000000; fill-opacity:1; font-family:Arial,Helvetica Neue,Helvetica,sans-serif; font-size:48px; text-anchor:end;\" transform=\"rotate(0, 129.898, 564.446)\" x=\"129.898\" y=\"564.446\">0.3</text>\n",
       "</g>\n",
       "<g clip-path=\"url(#clip6200)\">\n",
       "<text style=\"fill:#000000; fill-opacity:1; font-family:Arial,Helvetica Neue,Helvetica,sans-serif; font-size:48px; text-anchor:end;\" transform=\"rotate(0, 129.898, 135.581)\" x=\"129.898\" y=\"135.581\">0.4</text>\n",
       "</g>\n",
       "<polyline clip-path=\"url(#clip6202)\" style=\"stroke:#009af9; stroke-width:12; stroke-opacity:0.5; fill:none\" points=\"\n",
       "  246.545,1833.54 246.545,1833.54 \n",
       "  \"/>\n",
       "<polyline clip-path=\"url(#clip6202)\" style=\"stroke:#009af9; stroke-width:12; stroke-opacity:0.5; fill:none\" points=\"\n",
       "  273.472,1833.54 273.472,1833.53 \n",
       "  \"/>\n",
       "<polyline clip-path=\"url(#clip6202)\" style=\"stroke:#009af9; stroke-width:12; stroke-opacity:0.5; fill:none\" points=\"\n",
       "  421.256,1833.54 421.256,1833.54 \n",
       "  \"/>\n",
       "<polyline clip-path=\"url(#clip6202)\" style=\"stroke:#009af9; stroke-width:12; stroke-opacity:0.5; fill:none\" points=\"\n",
       "  532.089,1833.54 532.089,1833.46 \n",
       "  \"/>\n",
       "<polyline clip-path=\"url(#clip6202)\" style=\"stroke:#009af9; stroke-width:12; stroke-opacity:0.5; fill:none\" points=\"\n",
       "  618.659,1833.54 618.659,1833.22 \n",
       "  \"/>\n",
       "<polyline clip-path=\"url(#clip6202)\" style=\"stroke:#009af9; stroke-width:12; stroke-opacity:0.5; fill:none\" points=\"\n",
       "  707.855,1833.54 707.855,1831.9 \n",
       "  \"/>\n",
       "<polyline clip-path=\"url(#clip6202)\" style=\"stroke:#009af9; stroke-width:12; stroke-opacity:0.5; fill:none\" points=\"\n",
       "  795.497,1833.54 795.497,1828.37 \n",
       "  \"/>\n",
       "<polyline clip-path=\"url(#clip6202)\" style=\"stroke:#009af9; stroke-width:12; stroke-opacity:0.5; fill:none\" points=\"\n",
       "  880.971,1833.54 880.971,1820.13 \n",
       "  \"/>\n",
       "<polyline clip-path=\"url(#clip6202)\" style=\"stroke:#009af9; stroke-width:12; stroke-opacity:0.5; fill:none\" points=\"\n",
       "  973.804,1833.54 973.804,1790.59 \n",
       "  \"/>\n",
       "<polyline clip-path=\"url(#clip6202)\" style=\"stroke:#009af9; stroke-width:12; stroke-opacity:0.5; fill:none\" points=\"\n",
       "  1061.39,1833.54 1061.39,1746.92 \n",
       "  \"/>\n",
       "<polyline clip-path=\"url(#clip6202)\" style=\"stroke:#009af9; stroke-width:12; stroke-opacity:0.5; fill:none\" points=\"\n",
       "  1164.53,1833.54 1164.53,1491.09 \n",
       "  \"/>\n",
       "<polyline clip-path=\"url(#clip6202)\" style=\"stroke:#009af9; stroke-width:12; stroke-opacity:0.5; fill:none\" points=\"\n",
       "  1265.84,1833.54 1265.84,1394.33 \n",
       "  \"/>\n",
       "<polyline clip-path=\"url(#clip6202)\" style=\"stroke:#009af9; stroke-width:12; stroke-opacity:0.5; fill:none\" points=\"\n",
       "  1352.91,1833.54 1352.91,1031.74 \n",
       "  \"/>\n",
       "<polyline clip-path=\"url(#clip6202)\" style=\"stroke:#009af9; stroke-width:12; stroke-opacity:0.5; fill:none\" points=\"\n",
       "  1434.28,1833.54 1434.28,831.534 \n",
       "  \"/>\n",
       "<polyline clip-path=\"url(#clip6202)\" style=\"stroke:#009af9; stroke-width:12; stroke-opacity:0.5; fill:none\" points=\"\n",
       "  1511.13,1833.54 1511.13,646.181 \n",
       "  \"/>\n",
       "<polyline clip-path=\"url(#clip6202)\" style=\"stroke:#009af9; stroke-width:12; stroke-opacity:0.5; fill:none\" points=\"\n",
       "  1586.82,1833.54 1586.82,398.685 \n",
       "  \"/>\n",
       "<polyline clip-path=\"url(#clip6202)\" style=\"stroke:#009af9; stroke-width:12; stroke-opacity:0.5; fill:none\" points=\"\n",
       "  1665.03,1833.54 1665.03,273.577 \n",
       "  \"/>\n",
       "<polyline clip-path=\"url(#clip6202)\" style=\"stroke:#009af9; stroke-width:12; stroke-opacity:0.5; fill:none\" points=\"\n",
       "  1747.28,1833.54 1747.28,169.69 \n",
       "  \"/>\n",
       "<polyline clip-path=\"url(#clip6202)\" style=\"stroke:#009af9; stroke-width:12; stroke-opacity:0.5; fill:none\" points=\"\n",
       "  1840.02,1833.54 1840.02,99.2722 \n",
       "  \"/>\n",
       "<polyline clip-path=\"url(#clip6202)\" style=\"stroke:#009af9; stroke-width:12; stroke-opacity:0.5; fill:none\" points=\"\n",
       "  1938.59,1833.54 1938.59,750.59 \n",
       "  \"/>\n",
       "<polyline clip-path=\"url(#clip6202)\" style=\"stroke:#009af9; stroke-width:12; stroke-opacity:0.5; fill:none\" points=\"\n",
       "  2029.37,1833.54 2029.37,1113.12 \n",
       "  \"/>\n",
       "<polyline clip-path=\"url(#clip6202)\" style=\"stroke:#009af9; stroke-width:12; stroke-opacity:0.5; fill:none\" points=\"\n",
       "  2117.24,1833.54 2117.24,1387.11 \n",
       "  \"/>\n",
       "<polyline clip-path=\"url(#clip6202)\" style=\"stroke:#009af9; stroke-width:12; stroke-opacity:0.5; fill:none\" points=\"\n",
       "  2207.69,1833.54 2207.69,1603.56 \n",
       "  \"/>\n",
       "<polyline clip-path=\"url(#clip6202)\" style=\"stroke:#009af9; stroke-width:12; stroke-opacity:0.5; fill:none\" points=\"\n",
       "  2297.47,1833.54 2297.47,1744.99 \n",
       "  \"/>\n",
       "<polyline clip-path=\"url(#clip6202)\" style=\"stroke:#009af9; stroke-width:12; stroke-opacity:0.5; fill:none\" points=\"\n",
       "  2376.93,1833.54 2376.93,1786.2 \n",
       "  \"/>\n",
       "<polyline clip-path=\"url(#clip6202)\" style=\"stroke:#009af9; stroke-width:12; stroke-opacity:0.5; fill:none\" points=\"\n",
       "  2458.77,1833.54 2458.77,1815.99 \n",
       "  \"/>\n",
       "<polyline clip-path=\"url(#clip6202)\" style=\"stroke:#009af9; stroke-width:12; stroke-opacity:0.5; fill:none\" points=\"\n",
       "  2553.93,1833.54 2553.93,1825.5 \n",
       "  \"/>\n",
       "<polyline clip-path=\"url(#clip6202)\" style=\"stroke:#009af9; stroke-width:12; stroke-opacity:0.5; fill:none\" points=\"\n",
       "  2684.02,1833.54 2684.02,1832.39 \n",
       "  \"/>\n",
       "<polyline clip-path=\"url(#clip6202)\" style=\"stroke:#009af9; stroke-width:12; stroke-opacity:0.5; fill:none\" points=\"\n",
       "  2779.5,1833.54 2779.5,1833.21 \n",
       "  \"/>\n",
       "<polyline clip-path=\"url(#clip6202)\" style=\"stroke:#009af9; stroke-width:12; stroke-opacity:0.5; fill:none\" points=\"\n",
       "  2951.09,1833.54 2951.09,1833.53 \n",
       "  \"/>\n",
       "<polyline clip-path=\"url(#clip6202)\" style=\"stroke:#009af9; stroke-width:12; stroke-opacity:0.5; fill:none\" points=\"\n",
       "  3068.11,1833.54 3068.11,1833.54 \n",
       "  \"/>\n",
       "<polygon clip-path=\"url(#clip6200)\" points=\"\n",
       "2685.93,299.724 3056.76,299.724 3056.76,178.764 2685.93,178.764 \n",
       "  \" fill=\"#ffffff\" fill-rule=\"evenodd\" fill-opacity=\"1\"/>\n",
       "<polyline clip-path=\"url(#clip6200)\" style=\"stroke:#000000; stroke-width:4; stroke-opacity:1; fill:none\" points=\"\n",
       "  2685.93,299.724 3056.76,299.724 3056.76,178.764 2685.93,178.764 2685.93,299.724 \n",
       "  \"/>\n",
       "<polyline clip-path=\"url(#clip6200)\" style=\"stroke:#009af9; stroke-width:12; stroke-opacity:0.5; fill:none\" points=\"\n",
       "  2717.93,239.244 2909.93,239.244 \n",
       "  \"/>\n",
       "<g clip-path=\"url(#clip6200)\">\n",
       "<text style=\"fill:#000000; fill-opacity:1; font-family:Arial,Helvetica Neue,Helvetica,sans-serif; font-size:48px; text-anchor:start;\" transform=\"rotate(0, 2941.93, 256.744)\" x=\"2941.93\" y=\"256.744\">y1</text>\n",
       "</g>\n",
       "</svg>\n"
      ]
     },
     "execution_count": 32,
     "metadata": {},
     "output_type": "execute_result"
    },
    {
     "name": "stderr",
     "output_type": "stream",
     "text": [
      "WARNING: both OnlineStatsBase and Base export \"eachcol\"; uses of it in module OnlineStats must be qualified\n"
     ]
    }
   ],
   "source": [
    "using Distributed\n",
    "addprocs(3)\n",
    "@everywhere using OnlineStats\n",
    "\n",
    "o = @distributed merge for i in 1:3\n",
    "    s = fit!(KHist(30), randn(10^6))\n",
    "end\n",
    "\n",
    "plot(o, seriestype=sticks, lw=3)"
   ]
  }
 ],
 "metadata": {
  "@webio": {
   "lastCommId": "66ef867681d2482699e9c6b4754924f1",
   "lastKernelId": "7435470a-0e5b-4308-b610-a3f07c6afee1"
  },
  "extensions": {
   "jupyter_dashboards": {
    "activeView": "report_default",
    "version": 1,
    "views": {
     "grid_default": {
      "name": "grid",
      "type": "grid"
     },
     "report_default": {
      "name": "report",
      "type": "report"
     }
    }
   }
  },
  "kernelspec": {
   "display_name": "Julia 1.2.0",
   "language": "julia",
   "name": "julia-1.2"
  },
  "language_info": {
   "file_extension": ".jl",
   "mimetype": "application/julia",
   "name": "julia",
   "version": "1.2.0"
  }
 },
 "nbformat": 4,
 "nbformat_minor": 2
}
