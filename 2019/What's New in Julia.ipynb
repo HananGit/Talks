{
 "cells": [
  {
   "cell_type": "markdown",
   "metadata": {
    "extensions": {
     "jupyter_dashboards": {
      "version": 1,
      "views": {
       "grid_default": {},
       "report_default": {
        "hidden": false
       }
      }
     }
    }
   },
   "source": [
    "<img width=\"300px\" src=\"https://upload.wikimedia.org/wikipedia/commons/thumb/6/69/Julia_prog_language.svg/1280px-Julia_prog_language.svg.png\">\n",
    "\n",
    "# What's new in Julia\n",
    "\n",
    "This notebook is at: https://github.com/joshday/Talks\n",
    "\n",
    "\n",
    "# TLDR of what's new\n",
    "\n",
    "- Package manager\n",
    "- Composable Multi-threading\n",
    "- Tons of compiler updates\n",
    "- Faster startup time\n",
    "- Lots of improvements to package ecosystem\n",
    "- Missing value support\n",
    "- Generators\n",
    "- New interface for iterators\n",
    "- Founders won J. H. Wilkinson Prize for Numerical Software (given once every four years)\n",
    "- 1.0 released!  1.2 is most recent stable release.\n",
    "\n",
    "\n",
    "## Julia Resources\n",
    "- https://julialang.org\n",
    "- https://pkg.julialang.org/ (finding packages)\n",
    "- https://discourse.julialang.org (ask for help)\n",
    "- http://julialang.slack.com/ (ask for help, typically faster response than Discourse)\n",
    "- https://docs.julialang.org/en/ (documentation)\n",
    "\n",
    "---\n",
    "\n",
    "## First: Why does Julia exist?\n",
    "\n",
    "- Do we need another language?\n",
    "\n",
    "### Sapir-Worf Hypothesis (https://en.wikipedia.org/wiki/Linguistic_relativity)\n",
    "\n",
    "- Your language influences/determines how you think\n",
    "- How you solve problems is influenced by your tools\n",
    "\n",
    "e.g. avoid loops in R/Python\n",
    "\n",
    "### The Two-Language Problem\n",
    "\n",
    "- Write prototype code in an easy language (Python)\n",
    "- Write production code in a fast language (Scala)\n",
    "\n",
    "### Julia's claims are:\n",
    "\n",
    "1. Julia is less restrictive to how you solve problems\n",
    "2. Julia solves the two-language problem\n",
    "\n",
    "### Features\n",
    "\n",
    "**Julia is fast because of this set of features.  There's no magic dust you can go sprinkle on python.**\n",
    "\n",
    "- Type system\n",
    "- Multiple dispatch\n",
    "- Type Inference\n",
    "- Metaprogramming (macros)\n",
    "- Just-in-time (JIT) compilation using LLVM\n",
    "- Clean, familiar syntax\n",
    "- Most of Julia is written in Julia\n",
    "\n",
    "### Micro Benchmarks\n",
    "\n",
    "These micro-benchmarks, while not comprehensive, do test compiler performance on a range of common code patterns, such as function calls, string parsing, sorting, numerical loops, random number generation, recursion, and array operations.\n",
    "\n",
    "![](https://julialang.org/images/benchmarks.svg)"
   ]
  },
  {
   "cell_type": "markdown",
   "metadata": {
    "extensions": {
     "jupyter_dashboards": {
      "version": 1,
      "views": {
       "grid_default": {},
       "report_default": {
        "hidden": false
       }
      }
     }
    }
   },
   "source": [
    "---\n",
    "\n",
    "## How does Julia work?\n",
    "\n",
    "### JIT"
   ]
  },
  {
   "cell_type": "code",
   "execution_count": 1,
   "metadata": {
    "extensions": {
     "jupyter_dashboards": {
      "version": 1,
      "views": {
       "grid_default": {},
       "report_default": {
        "hidden": false
       }
      }
     }
    }
   },
   "outputs": [
    {
     "name": "stdout",
     "output_type": "stream",
     "text": [
      "  0.020400 seconds (93.20 k allocations: 4.829 MiB)\n"
     ]
    },
    {
     "data": {
      "text/plain": [
       "-0.8765993405975143"
      ]
     },
     "execution_count": 1,
     "metadata": {},
     "output_type": "execute_result"
    }
   ],
   "source": [
    "using Random\n",
    "\n",
    "x = randn(100)\n",
    "\n",
    "@time sum(x)  # compile, then run"
   ]
  },
  {
   "cell_type": "code",
   "execution_count": 2,
   "metadata": {
    "extensions": {
     "jupyter_dashboards": {
      "version": 1,
      "views": {
       "grid_default": {},
       "report_default": {
        "hidden": false
       }
      }
     }
    }
   },
   "outputs": [
    {
     "name": "stdout",
     "output_type": "stream",
     "text": [
      "  0.000002 seconds (5 allocations: 176 bytes)\n"
     ]
    },
    {
     "data": {
      "text/plain": [
       "-0.8765993405975143"
      ]
     },
     "execution_count": 2,
     "metadata": {},
     "output_type": "execute_result"
    }
   ],
   "source": [
    "@time sum(x)  # call compiled function"
   ]
  },
  {
   "cell_type": "code",
   "execution_count": 3,
   "metadata": {},
   "outputs": [
    {
     "name": "stdout",
     "output_type": "stream",
     "text": [
      "  0.005331 seconds (12.47 k allocations: 683.787 KiB)\n"
     ]
    },
    {
     "data": {
      "text/plain": [
       "55"
      ]
     },
     "execution_count": 3,
     "metadata": {},
     "output_type": "execute_result"
    }
   ],
   "source": [
    "@time sum(1:10)  # So why is this slow?"
   ]
  },
  {
   "cell_type": "markdown",
   "metadata": {
    "extensions": {
     "jupyter_dashboards": {
      "version": 1,
      "views": {
       "grid_default": {},
       "report_default": {
        "hidden": false
       }
      }
     }
    }
   },
   "source": [
    "### Type System/Multiple Dispatch"
   ]
  },
  {
   "cell_type": "code",
   "execution_count": 4,
   "metadata": {
    "extensions": {
     "jupyter_dashboards": {
      "version": 1,
      "views": {
       "grid_default": {},
       "report_default": {
        "hidden": false
       }
      }
     }
    }
   },
   "outputs": [
    {
     "data": {
      "text/plain": [
       "f (generic function with 3 methods)"
      ]
     },
     "execution_count": 4,
     "metadata": {},
     "output_type": "execute_result"
    }
   ],
   "source": [
    "f(x) = 0  # same as f(x::Any)\n",
    "f(x::Int) = 1\n",
    "f(x::Number) = 2"
   ]
  },
  {
   "cell_type": "code",
   "execution_count": 5,
   "metadata": {
    "extensions": {
     "jupyter_dashboards": {
      "version": 1,
      "views": {
       "grid_default": {},
       "report_default": {
        "hidden": false
       }
      }
     }
    }
   },
   "outputs": [
    {
     "data": {
      "text/plain": [
       "1"
      ]
     },
     "execution_count": 5,
     "metadata": {},
     "output_type": "execute_result"
    }
   ],
   "source": [
    "f(1)"
   ]
  },
  {
   "cell_type": "code",
   "execution_count": 6,
   "metadata": {
    "extensions": {
     "jupyter_dashboards": {
      "version": 1,
      "views": {
       "grid_default": {},
       "report_default": {
        "hidden": false
       }
      }
     }
    }
   },
   "outputs": [
    {
     "data": {
      "text/plain": [
       "(2, 2)"
      ]
     },
     "execution_count": 6,
     "metadata": {},
     "output_type": "execute_result"
    }
   ],
   "source": [
    "f(1.0), f(Float32(1.0))"
   ]
  },
  {
   "cell_type": "code",
   "execution_count": 7,
   "metadata": {
    "extensions": {
     "jupyter_dashboards": {
      "version": 1,
      "views": {
       "grid_default": {},
       "report_default": {
        "hidden": false
       }
      }
     }
    }
   },
   "outputs": [
    {
     "data": {
      "text/plain": [
       "0"
      ]
     },
     "execution_count": 7,
     "metadata": {},
     "output_type": "execute_result"
    }
   ],
   "source": [
    "f(\"hi\")"
   ]
  },
  {
   "cell_type": "markdown",
   "metadata": {
    "extensions": {
     "jupyter_dashboards": {
      "version": 1,
      "views": {
       "grid_default": {},
       "report_default": {
        "hidden": false
       }
      }
     }
    }
   },
   "source": [
    "### Generic functions specialize to argument types!"
   ]
  },
  {
   "cell_type": "code",
   "execution_count": 8,
   "metadata": {
    "extensions": {
     "jupyter_dashboards": {
      "version": 1,
      "views": {
       "grid_default": {},
       "report_default": {
        "hidden": false
       }
      }
     }
    }
   },
   "outputs": [
    {
     "name": "stdout",
     "output_type": "stream",
     "text": [
      "\n",
      ";  @ In[4]:1 within `f'\n",
      "define i64 @julia_f_16476(%jl_value_t addrspace(10)* nonnull) {\n",
      "top:\n",
      "  ret i64 0\n",
      "}\n"
     ]
    }
   ],
   "source": [
    "@code_llvm f(\"hi\")"
   ]
  },
  {
   "cell_type": "markdown",
   "metadata": {
    "extensions": {
     "jupyter_dashboards": {
      "version": 1,
      "views": {
       "grid_default": {},
       "report_default": {
        "hidden": false
       }
      }
     }
    }
   },
   "source": [
    "#### For types, think set theory"
   ]
  },
  {
   "cell_type": "code",
   "execution_count": 9,
   "metadata": {
    "extensions": {
     "jupyter_dashboards": {
      "version": 1,
      "views": {
       "grid_default": {},
       "report_default": {
        "hidden": false
       }
      }
     }
    }
   },
   "outputs": [
    {
     "data": {
      "text/html": [
       "<script>\n",
       "// Immediately-invoked-function-expression to avoid global variables.\n",
       "(function() {\n",
       "    var warning_div = document.getElementById(\"webio-warning-15980635018229018151\");\n",
       "    var hide = function () {\n",
       "        var script = document.getElementById(\"webio-setup-10548346783495652833\");\n",
       "        var parent = script && script.parentElement;\n",
       "        var grandparent = parent && parent.parentElement;\n",
       "        if (grandparent) {\n",
       "            grandparent.style.display = \"none\";\n",
       "        }\n",
       "        warning_div.style.display = \"none\";\n",
       "    };\n",
       "    if (typeof Jupyter !== \"undefined\") {\n",
       "        console.log(\"WebIO detected Jupyter notebook environment.\");\n",
       "        // Jupyter notebook.\n",
       "        var extensions = (\n",
       "            Jupyter\n",
       "            && Jupyter.notebook.config.data\n",
       "            && Jupyter.notebook.config.data.load_extensions\n",
       "        );\n",
       "        if (extensions && extensions[\"webio-jupyter-notebook\"]) {\n",
       "            // Extension already loaded.\n",
       "            console.log(\"Jupyter WebIO nbextension detected; not loading ad-hoc.\");\n",
       "            hide();\n",
       "            return;\n",
       "        }\n",
       "    } else if (window.location.pathname.includes(\"/lab\")) {\n",
       "        // Guessing JupyterLa\n",
       "        console.log(\"Jupyter Lab detected; make sure the @webio/jupyter-lab-provider labextension is installed.\");\n",
       "        hide();\n",
       "        return;\n",
       "    }\n",
       "})();\n",
       "\n",
       "</script>\n",
       "<p\n",
       "    id=\"webio-warning-15980635018229018151\"\n",
       "    class=\"output_text output_stderr\"\n",
       "    style=\"padding: 1em; font-weight: bold;\"\n",
       ">\n",
       "    Unable to load WebIO. Please make sure WebIO works for your Jupyter client.\n",
       "    For troubleshooting, please see <a href=\"https://juliagizmos.github.io/WebIO.jl/latest/providers/ijulia/\">\n",
       "    the WebIO/IJulia documentation</a>.\n",
       "    <!-- TODO: link to installation docs. -->\n",
       "</p>\n"
      ],
      "text/plain": [
       "HTML{String}(\"<script>\\n// Immediately-invoked-function-expression to avoid global variables.\\n(function() {\\n    var warning_div = document.getElementById(\\\"webio-warning-15980635018229018151\\\");\\n    var hide = function () {\\n        var script = document.getElementById(\\\"webio-setup-10548346783495652833\\\");\\n        var parent = script && script.parentElement;\\n        var grandparent = parent && parent.parentElement;\\n        if (grandparent) {\\n            grandparent.style.display = \\\"none\\\";\\n        }\\n        warning_div.style.display = \\\"none\\\";\\n    };\\n    if (typeof Jupyter !== \\\"undefined\\\") {\\n        console.log(\\\"WebIO detected Jupyter notebook environment.\\\");\\n        // Jupyter notebook.\\n        var extensions = (\\n            Jupyter\\n            && Jupyter.notebook.config.data\\n            && Jupyter.notebook.config.data.load_extensions\\n        );\\n        if (extensions && extensions[\\\"webio-jupyter-notebook\\\"]) {\\n            // Extension already loaded.\\n            console.log(\\\"Jupyter WebIO nbextension detected; not loading ad-hoc.\\\");\\n            hide();\\n            return;\\n        }\\n    } else if (window.location.pathname.includes(\\\"/lab\\\")) {\\n        // Guessing JupyterLa\\n        console.log(\\\"Jupyter Lab detected; make sure the @webio/jupyter-lab-provider labextension is installed.\\\");\\n        hide();\\n        return;\\n    }\\n})();\\n\\n</script>\\n<p\\n    id=\\\"webio-warning-15980635018229018151\\\"\\n    class=\\\"output_text output_stderr\\\"\\n    style=\\\"padding: 1em; font-weight: bold;\\\"\\n>\\n    Unable to load WebIO. Please make sure WebIO works for your Jupyter client.\\n    For troubleshooting, please see <a href=\\\"https://juliagizmos.github.io/WebIO.jl/latest/providers/ijulia/\\\">\\n    the WebIO/IJulia documentation</a>.\\n    <!-- TODO: link to installation docs. -->\\n</p>\\n\")"
      ]
     },
     "metadata": {},
     "output_type": "display_data"
    },
    {
     "name": "stderr",
     "output_type": "stream",
     "text": [
      "┌ Warning: Accessing `scope.id` is deprecated, use `scopeid(scope)` instead.\n",
      "│   caller = ip:0x0\n",
      "└ @ Core :-1\n"
     ]
    },
    {
     "data": {
      "application/vnd.webio.node+json": {
       "children": [
        {
         "children": [
          {
           "children": [
            {
             "children": [
              {
               "children": [
                {
                 "children": [
                  "T"
                 ],
                 "instanceArgs": {
                  "namespace": "html",
                  "tag": "label"
                 },
                 "nodeType": "DOM",
                 "props": {
                  "className": "interact ",
                  "style": {
                   "padding": "5px 10px 0px 10px"
                  }
                 },
                 "type": "node"
                }
               ],
               "instanceArgs": {
                "namespace": "html",
                "tag": "div"
               },
               "nodeType": "DOM",
               "props": {
                "className": "interact-flex-row-left"
               },
               "type": "node"
              },
              {
               "children": [
                {
                 "children": [
                  {
                   "children": [
                    {
                     "children": [],
                     "instanceArgs": {
                      "namespace": "html",
                      "tag": "label"
                     },
                     "nodeType": "DOM",
                     "props": {
                      "attributes": {
                       "data-bind": "text : key"
                      }
                     },
                     "type": "node"
                    }
                   ],
                   "instanceArgs": {
                    "namespace": "html",
                    "tag": "span"
                   },
                   "nodeType": "DOM",
                   "props": {
                    "attributes": {
                     "data-bind": "click: function (){$root.update(val)}, css: {'is-primary is-selected' : $root.index() == val, 'interact-widget is-medium button ' : true}"
                    }
                   },
                   "type": "node"
                  }
                 ],
                 "instanceArgs": {
                  "namespace": "html",
                  "tag": "div"
                 },
                 "nodeType": "DOM",
                 "props": {
                  "attributes": {
                   "data-bind": "foreach : options_js"
                  },
                  "className": "buttons has-addons is-centered"
                 },
                 "type": "node"
                }
               ],
               "instanceArgs": {
                "namespace": "html",
                "tag": "div"
               },
               "nodeType": "DOM",
               "props": {
                "className": "interact-flex-row-center"
               },
               "type": "node"
              },
              {
               "children": [
                {
                 "children": [],
                 "instanceArgs": {
                  "namespace": "html",
                  "tag": "div"
                 },
                 "nodeType": "DOM",
                 "props": {},
                 "type": "node"
                }
               ],
               "instanceArgs": {
                "namespace": "html",
                "tag": "div"
               },
               "nodeType": "DOM",
               "props": {
                "className": "interact-flex-row-right"
               },
               "type": "node"
              }
             ],
             "instanceArgs": {
              "namespace": "html",
              "tag": "div"
             },
             "nodeType": "DOM",
             "props": {
              "className": "interact-flex-row interact-widget"
             },
             "type": "node"
            }
           ],
           "instanceArgs": {
            "handlers": {
             "index": [
              "(function (val){return (val!=this.model[\"index\"]()) ? (this.valueFromJulia[\"index\"]=true, this.model[\"index\"](val)) : undefined})"
             ],
             "options_js": [
              "(function (val){return (val!=this.model[\"options_js\"]()) ? (this.valueFromJulia[\"options_js\"]=true, this.model[\"options_js\"](val)) : undefined})"
             ]
            },
            "id": "10643558754937891149",
            "imports": {
             "data": [
              {
               "name": "knockout",
               "type": "js",
               "url": "/assetserver/bf3e344bbbe45b806bbda88c6101232eb1f7318f-knockout.js"
              },
              {
               "name": "knockout_punches",
               "type": "js",
               "url": "/assetserver/3ad363ca1664d7335dff0eabc7ebe7d829397430-knockout_punches.js"
              },
              {
               "name": null,
               "type": "js",
               "url": "/assetserver/c17843d82807177c96402335f7810c38fb70de05-all.js"
              },
              {
               "name": null,
               "type": "css",
               "url": "/assetserver/cf9b1ef11d5ef7ab3ff5a3942d24ca77dcb679d2-style.css"
              },
              {
               "name": null,
               "type": "css",
               "url": "/assetserver/c591c2d5f890a3e4541fd6b806094298d3ec794b-bulma_confined.min.css"
              }
             ],
             "type": "async_block"
            },
            "mount_callbacks": [
             "function () {\n    var handler = (function (ko, koPunches) {\n    ko.punches.enableAll();\n    ko.bindingHandlers.numericValue = {\n        init: function(element, valueAccessor, allBindings, data, context) {\n            var stringified = ko.observable(ko.unwrap(valueAccessor()));\n            stringified.subscribe(function(value) {\n                var val = parseFloat(value);\n                if (!isNaN(val)) {\n                    valueAccessor()(val);\n                }\n            });\n            valueAccessor().subscribe(function(value) {\n                var str = JSON.stringify(value);\n                if ((str == \"0\") && ([\"-0\", \"-0.\"].indexOf(stringified()) >= 0))\n                     return;\n                 if ([\"null\", \"\"].indexOf(str) >= 0)\n                     return;\n                stringified(str);\n            });\n            ko.applyBindingsToNode(\n                element,\n                {\n                    value: stringified,\n                    valueUpdate: allBindings.get('valueUpdate'),\n                },\n                context,\n            );\n        }\n    };\n    var json_data = {\"options_js\":WebIO.getval({\"name\":\"options_js\",\"scope\":\"10643558754937891149\",\"id\":\"ob_05\",\"type\":\"observable\"}),\"index\":WebIO.getval({\"name\":\"index\",\"scope\":\"10643558754937891149\",\"id\":\"ob_04\",\"type\":\"observable\"})};\n    var self = this;\n    function AppViewModel() {\n        for (var key in json_data) {\n            var el = json_data[key];\n            this[key] = Array.isArray(el) ? ko.observableArray(el) : ko.observable(el);\n        }\n        [this[\"update\"]=function (val) {this.index(val)}]\n        \n        [this[\"options_js\"].subscribe((function (val){!(this.valueFromJulia[\"options_js\"]) ? (WebIO.setval({\"name\":\"options_js\",\"scope\":\"10643558754937891149\",\"id\":\"ob_05\",\"type\":\"observable\"},val)) : undefined; return this.valueFromJulia[\"options_js\"]=false}),self),this[\"index\"].subscribe((function (val){!(this.valueFromJulia[\"index\"]) ? (WebIO.setval({\"name\":\"index\",\"scope\":\"10643558754937891149\",\"id\":\"ob_04\",\"type\":\"observable\"},val)) : undefined; return this.valueFromJulia[\"index\"]=false}),self)]\n        \n    }\n    self.model = new AppViewModel();\n    self.valueFromJulia = {};\n    for (var key in json_data) {\n        self.valueFromJulia[key] = false;\n    }\n    ko.applyBindings(self.model, self.dom);\n}\n);\n    (WebIO.importBlock({\"data\":[{\"name\":\"knockout\",\"type\":\"js\",\"url\":\"/assetserver/bf3e344bbbe45b806bbda88c6101232eb1f7318f-knockout.js\"},{\"name\":\"knockout_punches\",\"type\":\"js\",\"url\":\"/assetserver/3ad363ca1664d7335dff0eabc7ebe7d829397430-knockout_punches.js\"}],\"type\":\"async_block\"})).then((imports) => handler.apply(this, imports));\n}\n"
            ],
            "observables": {
             "index": {
              "id": "ob_04",
              "sync": true,
              "value": 1
             },
             "options_js": {
              "id": "ob_05",
              "sync": false,
              "value": [
               {
                "id": "id9oGVTmxm",
                "key": "Int64",
                "val": 1
               },
               {
                "id": "idZYlitimb",
                "key": "Signed",
                "val": 2
               },
               {
                "id": "idQhtdi7vM",
                "key": "Integer",
                "val": 3
               },
               {
                "id": "idWUOjl0PL",
                "key": "Real",
                "val": 4
               },
               {
                "id": "idLeXCJeg9",
                "key": "Number",
                "val": 5
               }
              ]
             }
            },
            "systemjs_options": null
           },
           "nodeType": "Scope",
           "props": {},
           "type": "node"
          }
         ],
         "instanceArgs": {
          "namespace": "html",
          "tag": "div"
         },
         "nodeType": "DOM",
         "props": {
          "className": "interact-widget"
         },
         "type": "node"
        },
        {
         "children": [
          {
           "children": [],
           "instanceArgs": {
            "id": "ob_11",
            "name": "obs-node"
           },
           "nodeType": "ObservableNode",
           "props": {},
           "type": "node"
          }
         ],
         "instanceArgs": {
          "handlers": {},
          "id": "11845948160110998655",
          "imports": {
           "data": [],
           "type": "async_block"
          },
          "mount_callbacks": [],
          "observables": {
           "obs-node": {
            "id": "ob_11",
            "sync": false,
            "value": {
             "children": [
              {
               "children": [],
               "instanceArgs": {
                "namespace": "html",
                "tag": "div"
               },
               "nodeType": "DOM",
               "props": {
                "setInnerHtml": "<?xml version=\"1.0\" encoding=\"utf-8\"?>\n<svg xmlns=\"http://www.w3.org/2000/svg\" xmlns:xlink=\"http://www.w3.org/1999/xlink\" width=\"800\" height=\"800\" viewBox=\"0 0 3200 3200\">\n<defs>\n  <clipPath id=\"clip5600\">\n    <rect x=\"0\" y=\"0\" width=\"3200\" height=\"3200\"/>\n  </clipPath>\n</defs>\n<polygon clip-path=\"url(#clip5600)\" points=\"\n0,3200 3200,3200 3200,0 0,0 \n  \" fill=\"#ffffff\" fill-rule=\"evenodd\" fill-opacity=\"1\"/>\n<defs>\n  <clipPath id=\"clip5601\">\n    <rect x=\"640\" y=\"320\" width=\"2241\" height=\"2241\"/>\n  </clipPath>\n</defs>\n<polygon clip-path=\"url(#clip5600)\" points=\"\n94.9921,3105.01 3152.76,3105.01 3152.76,47.2441 94.9921,47.2441 \n  \" fill=\"#ffffff\" fill-rule=\"evenodd\" fill-opacity=\"1\"/>\n<defs>\n  <clipPath id=\"clip5602\">\n    <rect x=\"94\" y=\"47\" width=\"3059\" height=\"3059\"/>\n  </clipPath>\n</defs>\n<polyline clip-path=\"url(#clip5602)\" style=\"stroke:#d968a2; stroke-width:4; stroke-opacity:1; fill:none\" points=\"\n  3066.22,133.785 3056.95,151.249 3030.01,167.599 2986.71,182.916 2928.36,197.284 2856.27,210.785 2771.75,223.501 2676.1,235.516 2570.63,246.911 2456.66,257.769 \n  2335.49,268.174 2208.43,278.206 2076.8,287.95 1941.88,297.487 1805.01,306.901 1667.48,316.273 1530.61,325.686 1395.7,335.224 1264.06,344.967 1137,355 \n  1015.83,365.404 901.86,376.263 796.396,387.658 700.748,399.672 616.224,412.389 544.133,425.89 485.784,440.258 442.486,455.575 415.548,471.925 406.277,489.389 \n  \n  \"/>\n<polyline clip-path=\"url(#clip5602)\" style=\"stroke:#d968a2; stroke-width:4; stroke-opacity:1; fill:none\" points=\"\n  406.277,489.389 406.027,510.833 405.299,532.73 404.129,555.046 402.552,577.748 400.605,600.803 398.321,624.177 395.736,647.836 392.886,671.746 389.807,695.875 \n  386.533,720.189 383.1,744.653 379.543,769.235 375.897,793.901 372.199,818.617 368.483,843.35 364.784,868.067 361.139,892.732 357.582,917.314 354.148,941.779 \n  350.874,966.092 347.795,990.221 344.945,1014.13 342.361,1037.79 340.077,1061.16 338.129,1084.22 336.552,1106.92 335.382,1129.24 334.654,1151.13 334.404,1172.58 \n  \n  \"/>\n<polyline clip-path=\"url(#clip5602)\" style=\"stroke:#d968a2; stroke-width:4; stroke-opacity:1; fill:none\" points=\"\n  334.404,1172.58 333.871,1195.47 332.323,1218.84 329.834,1242.66 326.481,1266.89 322.338,1291.49 317.48,1316.43 311.983,1341.67 305.922,1367.19 299.372,1392.93 \n  292.408,1418.87 285.106,1444.97 277.54,1471.19 269.787,1497.51 261.92,1523.87 254.016,1550.26 246.15,1576.62 238.396,1602.94 230.831,1629.16 223.528,1655.26 \n  216.565,1681.2 210.015,1706.95 203.953,1732.46 198.456,1757.7 193.599,1782.64 189.455,1807.24 186.102,1831.47 183.614,1855.29 182.065,1878.66 181.533,1901.55 \n  \n  \"/>\n<polyline clip-path=\"url(#clip5602)\" style=\"stroke:#d968a2; stroke-width:4; stroke-opacity:1; fill:none\" points=\"\n  181.533,1901.55 187.371,1918.98 204.337,1936.25 231.606,1953.37 268.355,1970.37 313.758,1987.23 366.991,2003.99 427.231,2020.65 493.652,2037.22 565.432,2053.71 \n  641.744,2070.14 721.766,2086.52 804.673,2102.86 889.641,2119.17 975.844,2135.46 1062.46,2151.74 1148.66,2168.03 1233.63,2184.34 1316.54,2200.68 1396.56,2217.05 \n  1472.87,2233.48 1544.65,2249.98 1611.07,2266.55 1671.31,2283.21 1724.55,2299.96 1769.95,2316.83 1806.7,2333.82 1833.97,2350.95 1850.93,2368.22 1856.77,2385.65 \n  \n  \"/>\n<polyline clip-path=\"url(#clip5602)\" style=\"stroke:#d968a2; stroke-width:4; stroke-opacity:1; fill:none\" points=\"\n  1856.77,2385.65 1856.28,2405.52 1854.84,2425.81 1852.53,2446.49 1849.42,2467.52 1845.57,2488.88 1841.07,2510.53 1835.97,2532.44 1830.34,2554.59 1824.26,2576.94 \n  1817.8,2599.45 1811.02,2622.11 1804,2644.87 1796.81,2667.72 1789.51,2690.6 1782.17,2713.51 1774.87,2736.4 1767.68,2759.24 1760.65,2782 1753.88,2804.66 \n  1747.42,2827.18 1741.34,2849.52 1735.71,2871.67 1730.61,2893.58 1726.1,2915.24 1722.26,2936.59 1719.15,2957.63 1716.84,2978.3 1715.4,2998.59 1714.91,3018.47 \n  \n  \"/>\n<polygon clip-path=\"url(#clip5600)\" points=\"\n3066.22,194.618 3111.33,191.641 3152.03,183 3184.33,169.542 3205.07,152.583 3212.22,133.785 3205.07,114.986 3184.33,98.0276 3152.03,84.5694 3111.33,75.9286 \n  3066.22,72.9512 3021.1,75.9286 2980.4,84.5694 2948.1,98.0276 2927.36,114.986 2920.22,133.785 2927.36,152.583 2948.1,169.542 2980.4,183 3021.1,191.641 \n  3066.22,194.618 \n  \" fill=\"#000000\" fill-rule=\"evenodd\" fill-opacity=\"1\"/>\n<polygon clip-path=\"url(#clip5600)\" points=\"\n3066.22,192.118 3109.48,189.263 3148.51,180.977 3179.48,168.072 3199.36,151.811 3206.22,133.785 3199.36,115.759 3179.48,99.4971 3148.51,86.5919 3109.48,78.3063 \n  3066.22,75.4512 3022.95,78.3063 2983.93,86.5919 2952.95,99.4971 2933.07,115.759 2926.22,133.785 2933.07,151.811 2952.95,168.072 2983.93,180.977 3022.95,189.263 \n  3066.22,192.118 \n  \" fill=\"#009af9\" fill-rule=\"evenodd\" fill-opacity=\"1\"/>\n<polygon clip-path=\"url(#clip5600)\" points=\"\n406.277,548.972 494.656,546.056 574.384,537.593 637.656,524.411 678.28,507.801 692.277,489.389 678.28,470.977 637.656,454.367 574.384,441.185 494.656,432.722 \n  406.277,429.806 317.899,432.722 238.171,441.185 174.899,454.367 134.275,470.977 120.277,489.389 134.275,507.801 174.899,524.411 238.171,537.593 317.899,546.056 \n  406.277,548.972 \n  \" fill=\"#000000\" fill-rule=\"evenodd\" fill-opacity=\"1\"/>\n<polygon clip-path=\"url(#clip5600)\" points=\"\n406.277,547.722 492.802,544.867 570.857,536.582 632.802,523.677 672.573,507.415 686.277,489.389 672.573,471.363 632.802,455.102 570.857,442.196 492.802,433.911 \n  406.277,431.056 319.753,433.911 241.698,442.196 179.753,455.102 139.982,471.363 126.277,489.389 139.982,507.415 179.753,523.677 241.698,536.582 319.753,544.867 \n  406.277,547.722 \n  \" fill=\"#009af9\" fill-rule=\"evenodd\" fill-opacity=\"1\"/>\n<polygon clip-path=\"url(#clip5600)\" points=\"\n334.404,1232.79 393.941,1229.84 447.65,1221.29 490.274,1207.97 517.641,1191.18 527.07,1172.58 517.641,1153.97 490.274,1137.19 447.65,1123.87 393.941,1115.32 \n  334.404,1112.37 274.867,1115.32 221.157,1123.87 178.533,1137.19 151.167,1153.97 141.737,1172.58 151.167,1191.18 178.533,1207.97 221.157,1221.29 274.867,1229.84 \n  334.404,1232.79 \n  \" fill=\"#000000\" fill-rule=\"evenodd\" fill-opacity=\"1\"/>\n<polygon clip-path=\"url(#clip5600)\" points=\"\n334.404,1230.91 392.087,1228.06 444.124,1219.77 485.42,1206.87 511.934,1190.6 521.07,1172.58 511.934,1154.55 485.42,1138.29 444.124,1125.39 392.087,1117.1 \n  334.404,1114.25 276.721,1117.1 224.684,1125.39 183.387,1138.29 156.873,1154.55 147.737,1172.58 156.873,1190.6 183.387,1206.87 224.684,1219.77 276.721,1228.06 \n  334.404,1230.91 \n  \" fill=\"#009af9\" fill-rule=\"evenodd\" fill-opacity=\"1\"/>\n<polygon clip-path=\"url(#clip5600)\" points=\"\n181.533,1960.96 284.332,1958.05 377.069,1949.61 450.666,1936.47 497.917,1919.91 514.199,1901.55 497.917,1883.19 450.666,1866.63 377.069,1853.49 284.332,1845.05 \n  181.533,1842.15 78.733,1845.05 -14.004,1853.49 -87.6004,1866.63 -134.852,1883.19 -151.134,1901.55 -134.852,1919.91 -87.6004,1936.47 -14.004,1949.61 78.733,1958.05 \n  181.533,1960.96 \n  \" fill=\"#000000\" fill-rule=\"evenodd\" fill-opacity=\"1\"/>\n<polygon clip-path=\"url(#clip5600)\" points=\"\n181.533,1959.89 282.478,1957.03 373.542,1948.74 445.811,1935.84 492.211,1919.58 508.199,1901.55 492.211,1883.53 445.811,1867.26 373.542,1854.36 282.478,1846.07 \n  181.533,1843.22 80.5871,1846.07 -10.4772,1854.36 -82.7463,1867.26 -129.146,1883.53 -145.134,1901.55 -129.146,1919.58 -82.7463,1935.84 -10.4772,1948.74 80.5871,1957.03 \n  181.533,1959.89 \n  \" fill=\"#009af9\" fill-rule=\"evenodd\" fill-opacity=\"1\"/>\n<polygon clip-path=\"url(#clip5600)\" points=\"\n1856.77,2445.23 1945.15,2442.31 2024.88,2433.85 2088.15,2420.67 2128.77,2404.06 2142.77,2385.65 2128.77,2367.23 2088.15,2350.62 2024.88,2337.44 1945.15,2328.98 \n  1856.77,2326.06 1768.39,2328.98 1688.67,2337.44 1625.39,2350.62 1584.77,2367.23 1570.77,2385.65 1584.77,2404.06 1625.39,2420.67 1688.67,2433.85 1768.39,2442.31 \n  1856.77,2445.23 \n  \" fill=\"#000000\" fill-rule=\"evenodd\" fill-opacity=\"1\"/>\n<polygon clip-path=\"url(#clip5600)\" points=\"\n1856.77,2443.98 1943.3,2441.12 2021.35,2432.84 2083.3,2419.93 2123.07,2403.67 2136.77,2385.65 2123.07,2367.62 2083.3,2351.36 2021.35,2338.45 1943.3,2330.17 \n  1856.77,2327.31 1770.25,2330.17 1692.19,2338.45 1630.25,2351.36 1590.48,2367.62 1576.77,2385.65 1590.48,2403.67 1630.25,2419.93 1692.19,2432.84 1770.25,2441.12 \n  1856.77,2443.98 \n  \" fill=\"#009af9\" fill-rule=\"evenodd\" fill-opacity=\"1\"/>\n<polygon clip-path=\"url(#clip5600)\" points=\"\n1714.91,3078.3 1788.86,3075.37 1855.58,3066.87 1908.53,3053.64 1942.52,3036.96 1954.24,3018.47 1942.52,2999.98 1908.53,2983.3 1855.58,2970.06 1788.86,2961.56 \n  1714.91,2958.63 1640.95,2961.56 1574.23,2970.06 1521.28,2983.3 1487.29,2999.98 1475.57,3018.47 1487.29,3036.96 1521.28,3053.64 1574.23,3066.87 1640.95,3075.37 \n  1714.91,3078.3 \n  \" fill=\"#000000\" fill-rule=\"evenodd\" fill-opacity=\"1\"/>\n<polygon clip-path=\"url(#clip5600)\" points=\"\n1714.91,3076.8 1787.01,3073.95 1852.06,3065.66 1903.68,3052.75 1936.82,3036.49 1948.24,3018.47 1936.82,3000.44 1903.68,2984.18 1852.06,2971.27 1787.01,2962.99 \n  1714.91,2960.13 1642.8,2962.99 1577.76,2971.27 1526.13,2984.18 1492.99,3000.44 1481.57,3018.47 1492.99,3036.49 1526.13,3052.75 1577.76,3065.66 1642.8,3073.95 \n  1714.91,3076.8 \n  \" fill=\"#009af9\" fill-rule=\"evenodd\" fill-opacity=\"1\"/>\n<g clip-path=\"url(#clip5600)\">\n<text style=\"fill:#000000; fill-opacity:1; font-family:Arial,Helvetica Neue,Helvetica,sans-serif; font-size:82px; text-anchor:middle;\" transform=\"rotate(0, 3066.22, 163.785)\" x=\"3066.22\" y=\"163.785\">Any</text>\n</g>\n<g clip-path=\"url(#clip5600)\">\n<text style=\"fill:#000000; fill-opacity:1; font-family:Arial,Helvetica Neue,Helvetica,sans-serif; font-size:82px; text-anchor:middle;\" transform=\"rotate(0, 406.277, 519.389)\" x=\"406.277\" y=\"519.389\">Number</text>\n</g>\n<g clip-path=\"url(#clip5600)\">\n<text style=\"fill:#000000; fill-opacity:1; font-family:Arial,Helvetica Neue,Helvetica,sans-serif; font-size:82px; text-anchor:middle;\" transform=\"rotate(0, 334.404, 1202.58)\" x=\"334.404\" y=\"1202.58\">Real</text>\n</g>\n<g clip-path=\"url(#clip5600)\">\n<text style=\"fill:#000000; fill-opacity:1; font-family:Arial,Helvetica Neue,Helvetica,sans-serif; font-size:82px; text-anchor:middle;\" transform=\"rotate(0, 181.533, 1931.55)\" x=\"181.533\" y=\"1931.55\">Integer</text>\n</g>\n<g clip-path=\"url(#clip5600)\">\n<text style=\"fill:#000000; fill-opacity:1; font-family:Arial,Helvetica Neue,Helvetica,sans-serif; font-size:82px; text-anchor:middle;\" transform=\"rotate(0, 1856.77, 2415.65)\" x=\"1856.77\" y=\"2415.65\">Signed</text>\n</g>\n<g clip-path=\"url(#clip5600)\">\n<text style=\"fill:#000000; fill-opacity:1; font-family:Arial,Helvetica Neue,Helvetica,sans-serif; font-size:82px; text-anchor:middle;\" transform=\"rotate(0, 1714.91, 3048.47)\" x=\"1714.91\" y=\"3048.47\">Int64</text>\n</g>\n</svg>\n"
               },
               "type": "node"
              }
             ],
             "instanceArgs": {
              "namespace": "html",
              "tag": "div"
             },
             "nodeType": "DOM",
             "props": {
              "className": "interact-flex-row interact-widget"
             },
             "type": "node"
            }
           }
          },
          "systemjs_options": null
         },
         "nodeType": "Scope",
         "props": {},
         "type": "node"
        }
       ],
       "instanceArgs": {
        "namespace": "html",
        "tag": "div"
       },
       "nodeType": "DOM",
       "props": {},
       "type": "node"
      },
      "text/html": [
       "<div\n",
       "    class=\"webio-mountpoint\"\n",
       "    data-webio-mountpoint=\"2772744118716446684\"\n",
       ">\n",
       "    <script>\n",
       "    if (window.require && require.defined && require.defined(\"nbextensions/webio-jupyter-notebook\")) {\n",
       "        console.log(\"Jupyter WebIO extension detected, not mounting.\");\n",
       "    } else if (window.WebIO) {\n",
       "        WebIO.mount(\n",
       "            document.querySelector('[data-webio-mountpoint=\"2772744118716446684\"]'),\n",
       "            {\"props\":{},\"nodeType\":\"DOM\",\"type\":\"node\",\"instanceArgs\":{\"namespace\":\"html\",\"tag\":\"div\"},\"children\":[{\"props\":{\"className\":\"interact-widget\"},\"nodeType\":\"DOM\",\"type\":\"node\",\"instanceArgs\":{\"namespace\":\"html\",\"tag\":\"div\"},\"children\":[{\"props\":{},\"nodeType\":\"Scope\",\"type\":\"node\",\"instanceArgs\":{\"imports\":{\"data\":[{\"name\":\"knockout\",\"type\":\"js\",\"url\":\"\\/assetserver\\/bf3e344bbbe45b806bbda88c6101232eb1f7318f-knockout.js\"},{\"name\":\"knockout_punches\",\"type\":\"js\",\"url\":\"\\/assetserver\\/3ad363ca1664d7335dff0eabc7ebe7d829397430-knockout_punches.js\"},{\"name\":null,\"type\":\"js\",\"url\":\"\\/assetserver\\/c17843d82807177c96402335f7810c38fb70de05-all.js\"},{\"name\":null,\"type\":\"css\",\"url\":\"\\/assetserver\\/cf9b1ef11d5ef7ab3ff5a3942d24ca77dcb679d2-style.css\"},{\"name\":null,\"type\":\"css\",\"url\":\"\\/assetserver\\/c591c2d5f890a3e4541fd6b806094298d3ec794b-bulma_confined.min.css\"}],\"type\":\"async_block\"},\"id\":\"10643558754937891149\",\"handlers\":{\"options_js\":[\"(function (val){return (val!=this.model[\\\"options_js\\\"]()) ? (this.valueFromJulia[\\\"options_js\\\"]=true, this.model[\\\"options_js\\\"](val)) : undefined})\"],\"index\":[\"(function (val){return (val!=this.model[\\\"index\\\"]()) ? (this.valueFromJulia[\\\"index\\\"]=true, this.model[\\\"index\\\"](val)) : undefined})\"]},\"systemjs_options\":null,\"mount_callbacks\":[\"function () {\\n    var handler = (function (ko, koPunches) {\\n    ko.punches.enableAll();\\n    ko.bindingHandlers.numericValue = {\\n        init: function(element, valueAccessor, allBindings, data, context) {\\n            var stringified = ko.observable(ko.unwrap(valueAccessor()));\\n            stringified.subscribe(function(value) {\\n                var val = parseFloat(value);\\n                if (!isNaN(val)) {\\n                    valueAccessor()(val);\\n                }\\n            });\\n            valueAccessor().subscribe(function(value) {\\n                var str = JSON.stringify(value);\\n                if ((str == \\\"0\\\") && ([\\\"-0\\\", \\\"-0.\\\"].indexOf(stringified()) >= 0))\\n                     return;\\n                 if ([\\\"null\\\", \\\"\\\"].indexOf(str) >= 0)\\n                     return;\\n                stringified(str);\\n            });\\n            ko.applyBindingsToNode(\\n                element,\\n                {\\n                    value: stringified,\\n                    valueUpdate: allBindings.get('valueUpdate'),\\n                },\\n                context,\\n            );\\n        }\\n    };\\n    var json_data = {\\\"options_js\\\":WebIO.getval({\\\"name\\\":\\\"options_js\\\",\\\"scope\\\":\\\"10643558754937891149\\\",\\\"id\\\":\\\"ob_05\\\",\\\"type\\\":\\\"observable\\\"}),\\\"index\\\":WebIO.getval({\\\"name\\\":\\\"index\\\",\\\"scope\\\":\\\"10643558754937891149\\\",\\\"id\\\":\\\"ob_04\\\",\\\"type\\\":\\\"observable\\\"})};\\n    var self = this;\\n    function AppViewModel() {\\n        for (var key in json_data) {\\n            var el = json_data[key];\\n            this[key] = Array.isArray(el) ? ko.observableArray(el) : ko.observable(el);\\n        }\\n        [this[\\\"update\\\"]=function (val) {this.index(val)}]\\n        \\n        [this[\\\"options_js\\\"].subscribe((function (val){!(this.valueFromJulia[\\\"options_js\\\"]) ? (WebIO.setval({\\\"name\\\":\\\"options_js\\\",\\\"scope\\\":\\\"10643558754937891149\\\",\\\"id\\\":\\\"ob_05\\\",\\\"type\\\":\\\"observable\\\"},val)) : undefined; return this.valueFromJulia[\\\"options_js\\\"]=false}),self),this[\\\"index\\\"].subscribe((function (val){!(this.valueFromJulia[\\\"index\\\"]) ? (WebIO.setval({\\\"name\\\":\\\"index\\\",\\\"scope\\\":\\\"10643558754937891149\\\",\\\"id\\\":\\\"ob_04\\\",\\\"type\\\":\\\"observable\\\"},val)) : undefined; return this.valueFromJulia[\\\"index\\\"]=false}),self)]\\n        \\n    }\\n    self.model = new AppViewModel();\\n    self.valueFromJulia = {};\\n    for (var key in json_data) {\\n        self.valueFromJulia[key] = false;\\n    }\\n    ko.applyBindings(self.model, self.dom);\\n}\\n);\\n    (WebIO.importBlock({\\\"data\\\":[{\\\"name\\\":\\\"knockout\\\",\\\"type\\\":\\\"js\\\",\\\"url\\\":\\\"\\/assetserver\\/bf3e344bbbe45b806bbda88c6101232eb1f7318f-knockout.js\\\"},{\\\"name\\\":\\\"knockout_punches\\\",\\\"type\\\":\\\"js\\\",\\\"url\\\":\\\"\\/assetserver\\/3ad363ca1664d7335dff0eabc7ebe7d829397430-knockout_punches.js\\\"}],\\\"type\\\":\\\"async_block\\\"})).then((imports) => handler.apply(this, imports));\\n}\\n\"],\"observables\":{\"options_js\":{\"sync\":false,\"id\":\"ob_05\",\"value\":[{\"key\":\"Int64\",\"val\":1,\"id\":\"id9oGVTmxm\"},{\"key\":\"Signed\",\"val\":2,\"id\":\"idZYlitimb\"},{\"key\":\"Integer\",\"val\":3,\"id\":\"idQhtdi7vM\"},{\"key\":\"Real\",\"val\":4,\"id\":\"idWUOjl0PL\"},{\"key\":\"Number\",\"val\":5,\"id\":\"idLeXCJeg9\"}]},\"index\":{\"sync\":true,\"id\":\"ob_04\",\"value\":1}}},\"children\":[{\"props\":{\"className\":\"interact-flex-row interact-widget\"},\"nodeType\":\"DOM\",\"type\":\"node\",\"instanceArgs\":{\"namespace\":\"html\",\"tag\":\"div\"},\"children\":[{\"props\":{\"className\":\"interact-flex-row-left\"},\"nodeType\":\"DOM\",\"type\":\"node\",\"instanceArgs\":{\"namespace\":\"html\",\"tag\":\"div\"},\"children\":[{\"props\":{\"className\":\"interact \",\"style\":{\"padding\":\"5px 10px 0px 10px\"}},\"nodeType\":\"DOM\",\"type\":\"node\",\"instanceArgs\":{\"namespace\":\"html\",\"tag\":\"label\"},\"children\":[\"T\"]}]},{\"props\":{\"className\":\"interact-flex-row-center\"},\"nodeType\":\"DOM\",\"type\":\"node\",\"instanceArgs\":{\"namespace\":\"html\",\"tag\":\"div\"},\"children\":[{\"props\":{\"attributes\":{\"data-bind\":\"foreach : options_js\"},\"className\":\"buttons has-addons is-centered\"},\"nodeType\":\"DOM\",\"type\":\"node\",\"instanceArgs\":{\"namespace\":\"html\",\"tag\":\"div\"},\"children\":[{\"props\":{\"attributes\":{\"data-bind\":\"click: function (){$root.update(val)}, css: {'is-primary is-selected' : $root.index() == val, 'interact-widget is-medium button ' : true}\"}},\"nodeType\":\"DOM\",\"type\":\"node\",\"instanceArgs\":{\"namespace\":\"html\",\"tag\":\"span\"},\"children\":[{\"props\":{\"attributes\":{\"data-bind\":\"text : key\"}},\"nodeType\":\"DOM\",\"type\":\"node\",\"instanceArgs\":{\"namespace\":\"html\",\"tag\":\"label\"},\"children\":[]}]}]}]},{\"props\":{\"className\":\"interact-flex-row-right\"},\"nodeType\":\"DOM\",\"type\":\"node\",\"instanceArgs\":{\"namespace\":\"html\",\"tag\":\"div\"},\"children\":[{\"props\":{},\"nodeType\":\"DOM\",\"type\":\"node\",\"instanceArgs\":{\"namespace\":\"html\",\"tag\":\"div\"},\"children\":[]}]}]}]}]},{\"props\":{},\"nodeType\":\"Scope\",\"type\":\"node\",\"instanceArgs\":{\"imports\":{\"data\":[],\"type\":\"async_block\"},\"id\":\"6408192737221654455\",\"handlers\":{},\"systemjs_options\":null,\"mount_callbacks\":[],\"observables\":{\"obs-node\":{\"sync\":false,\"id\":\"ob_09\",\"value\":{\"props\":{\"className\":\"interact-flex-row interact-widget\"},\"nodeType\":\"DOM\",\"type\":\"node\",\"instanceArgs\":{\"namespace\":\"html\",\"tag\":\"div\"},\"children\":[{\"props\":{\"setInnerHtml\":\"<?xml version=\\\"1.0\\\" encoding=\\\"utf-8\\\"?>\\n<svg xmlns=\\\"http:\\/\\/www.w3.org\\/2000\\/svg\\\" xmlns:xlink=\\\"http:\\/\\/www.w3.org\\/1999\\/xlink\\\" width=\\\"800\\\" height=\\\"800\\\" viewBox=\\\"0 0 3200 3200\\\">\\n<defs>\\n  <clipPath id=\\\"clip5200\\\">\\n    <rect x=\\\"0\\\" y=\\\"0\\\" width=\\\"3200\\\" height=\\\"3200\\\"\\/>\\n  <\\/clipPath>\\n<\\/defs>\\n<polygon clip-path=\\\"url(#clip5200)\\\" points=\\\"\\n0,3200 3200,3200 3200,0 0,0 \\n  \\\" fill=\\\"#ffffff\\\" fill-rule=\\\"evenodd\\\" fill-opacity=\\\"1\\\"\\/>\\n<defs>\\n  <clipPath id=\\\"clip5201\\\">\\n    <rect x=\\\"640\\\" y=\\\"320\\\" width=\\\"2241\\\" height=\\\"2241\\\"\\/>\\n  <\\/clipPath>\\n<\\/defs>\\n<polygon clip-path=\\\"url(#clip5200)\\\" points=\\\"\\n86.9921,3121.01 3152.76,3121.01 3152.76,47.2441 86.9921,47.2441 \\n  \\\" fill=\\\"#ffffff\\\" fill-rule=\\\"evenodd\\\" fill-opacity=\\\"1\\\"\\/>\\n<defs>\\n  <clipPath id=\\\"clip5202\\\">\\n    <rect x=\\\"86\\\" y=\\\"47\\\" width=\\\"3067\\\" height=\\\"3075\\\"\\/>\\n  <\\/clipPath>\\n<\\/defs>\\n<polyline clip-path=\\\"url(#clip5202)\\\" style=\\\"stroke:#d968a2; stroke-width:4; stroke-opacity:1; fill:none\\\" points=\\\"\\n  3065.99,134.237 3056.69,151.793 3029.69,168.228 2986.27,183.626 2927.77,198.069 2855.49,211.641 2770.75,224.424 2674.85,236.501 2569.11,247.956 2454.84,258.871 \\n  2333.35,269.33 2205.96,279.415 2073.98,289.21 1938.72,298.797 1801.48,308.259 1663.6,317.681 1526.36,327.143 1391.1,336.73 1259.12,346.525 1131.73,356.61 \\n  1010.24,367.069 895.971,377.984 790.231,389.439 694.332,401.516 609.587,414.299 537.308,427.871 478.807,442.314 435.395,457.712 408.386,474.147 399.092,491.703 \\n  \\n  \\\"\\/>\\n<polyline clip-path=\\\"url(#clip5202)\\\" style=\\\"stroke:#d968a2; stroke-width:4; stroke-opacity:1; fill:none\\\" points=\\\"\\n  399.092,491.703 398.841,513.259 398.111,535.27 396.938,557.703 395.357,580.524 393.404,603.7 391.114,627.196 388.523,650.978 385.666,675.014 382.578,699.269 \\n  379.295,723.71 375.853,748.302 372.287,773.013 368.632,797.808 364.924,822.654 361.198,847.516 357.49,872.362 353.835,897.157 350.269,921.867 346.827,946.46 \\n  343.544,970.9 340.456,995.155 337.599,1019.19 335.008,1042.97 332.718,1066.47 330.765,1089.65 329.184,1112.47 328.011,1134.9 327.281,1156.91 327.03,1178.47 \\n  \\n  \\\"\\/>\\n<polyline clip-path=\\\"url(#clip5202)\\\" style=\\\"stroke:#d968a2; stroke-width:4; stroke-opacity:1; fill:none\\\" points=\\\"\\n  327.03,1178.47 326.496,1201.48 324.944,1224.97 322.449,1248.91 319.087,1273.27 314.933,1298 310.062,1323.07 304.551,1348.45 298.474,1374.09 291.906,1399.97 \\n  284.924,1426.05 277.603,1452.28 270.018,1478.64 262.244,1505.09 254.357,1531.6 246.432,1558.12 238.545,1584.63 230.771,1611.08 223.186,1637.44 215.865,1663.68 \\n  208.883,1689.75 202.316,1715.63 196.238,1741.27 190.727,1766.65 185.857,1791.72 181.703,1816.45 178.34,1840.81 175.845,1864.75 174.293,1888.24 173.759,1911.25 \\n  \\n  \\\"\\/>\\n<polyline clip-path=\\\"url(#clip5202)\\\" style=\\\"stroke:#d968a2; stroke-width:4; stroke-opacity:1; fill:none\\\" points=\\\"\\n  173.759,1911.25 179.613,1928.77 196.623,1946.13 223.964,1963.35 260.808,1980.43 306.33,1997.38 359.703,2014.23 420.1,2030.97 486.695,2047.63 558.662,2064.21 \\n  635.175,2080.73 715.406,2097.19 798.53,2113.61 883.72,2130.01 970.149,2146.38 1056.99,2162.75 1143.42,2179.13 1228.61,2195.52 1311.73,2211.94 1391.97,2228.41 \\n  1468.48,2244.92 1540.45,2261.5 1607.04,2278.16 1667.44,2294.91 1720.81,2311.75 1766.33,2328.71 1803.18,2345.79 1830.52,2363 1847.53,2380.36 1853.38,2397.88 \\n  \\n  \\\"\\/>\\n<polyline clip-path=\\\"url(#clip5202)\\\" style=\\\"stroke:#d968a2; stroke-width:4; stroke-opacity:1; fill:none\\\" points=\\\"\\n  1853.38,2397.88 1852.89,2417.86 1851.45,2438.25 1849.13,2459.04 1846.01,2480.18 1842.15,2501.65 1837.63,2523.42 1832.52,2545.45 1826.88,2567.71 1820.79,2590.17 \\n  1814.31,2612.81 1807.51,2635.58 1800.47,2658.47 1793.26,2681.43 1785.94,2704.44 1778.59,2727.46 1771.27,2750.47 1764.05,2773.43 1757.01,2796.31 1750.22,2819.09 \\n  1743.74,2841.72 1737.64,2864.19 1732,2886.45 1726.89,2908.48 1722.37,2930.24 1718.52,2951.71 1715.39,2972.86 1713.08,2993.64 1711.64,3014.04 1711.14,3034.01 \\n  \\n  \\\"\\/>\\n<polygon clip-path=\\\"url(#clip5200)\\\" points=\\\"\\n3065.99,195.071 3111.11,192.093 3151.81,183.453 3184.11,169.994 3204.84,153.036 3211.99,134.237 3204.84,115.439 3184.11,98.4805 3151.81,85.0222 3111.11,76.3815 \\n  3065.99,73.4041 3020.87,76.3815 2980.17,85.0222 2947.87,98.4805 2927.13,115.439 2919.99,134.237 2927.13,153.036 2947.87,169.994 2980.17,183.453 3020.87,192.093 \\n  3065.99,195.071 \\n  \\\" fill=\\\"#000000\\\" fill-rule=\\\"evenodd\\\" fill-opacity=\\\"1\\\"\\/>\\n<polygon clip-path=\\\"url(#clip5200)\\\" points=\\\"\\n3065.99,192.571 3109.25,189.716 3148.28,181.43 3179.25,168.525 3199.14,152.263 3205.99,134.237 3199.14,116.211 3179.25,99.9499 3148.28,87.0448 3109.25,78.7591 \\n  3065.99,75.9041 3022.73,78.7591 2983.7,87.0448 2952.73,99.9499 2932.84,116.211 2925.99,134.237 2932.84,152.263 2952.73,168.525 2983.7,181.43 3022.73,189.716 \\n  3065.99,192.571 \\n  \\\" fill=\\\"#009af9\\\" fill-rule=\\\"evenodd\\\" fill-opacity=\\\"1\\\"\\/>\\n<polygon clip-path=\\\"url(#clip5200)\\\" points=\\\"\\n399.092,551.286 487.471,548.37 567.198,539.907 630.471,526.725 671.094,510.115 685.092,491.703 671.094,473.29 630.471,456.68 567.198,443.499 487.471,435.036 \\n  399.092,432.119 310.713,435.036 230.985,443.499 167.713,456.68 127.09,473.29 113.092,491.703 127.09,510.115 167.713,526.725 230.985,539.907 310.713,548.37 \\n  399.092,551.286 \\n  \\\" fill=\\\"#000000\\\" fill-rule=\\\"evenodd\\\" fill-opacity=\\\"1\\\"\\/>\\n<polygon clip-path=\\\"url(#clip5200)\\\" points=\\\"\\n399.092,550.036 485.617,547.181 563.672,538.895 625.617,525.99 665.388,509.729 679.092,491.703 665.388,473.677 625.617,457.415 563.672,444.51 485.617,436.224 \\n  399.092,433.369 312.567,436.224 234.512,444.51 172.567,457.415 132.796,473.677 119.092,491.703 132.796,509.729 172.567,525.99 234.512,538.895 312.567,547.181 \\n  399.092,550.036 \\n  \\\" fill=\\\"#009af9\\\" fill-rule=\\\"evenodd\\\" fill-opacity=\\\"1\\\"\\/>\\n<polygon clip-path=\\\"url(#clip5200)\\\" points=\\\"\\n327.03,1238.68 386.567,1235.73 440.277,1227.18 482.901,1213.86 510.267,1197.07 519.697,1178.47 510.267,1159.86 482.901,1143.08 440.277,1129.76 386.567,1121.21 \\n  327.03,1118.26 267.493,1121.21 213.784,1129.76 171.16,1143.08 143.793,1159.86 134.364,1178.47 143.793,1197.07 171.16,1213.86 213.784,1227.18 267.493,1235.73 \\n  327.03,1238.68 \\n  \\\" fill=\\\"#000000\\\" fill-rule=\\\"evenodd\\\" fill-opacity=\\\"1\\\"\\/>\\n<polygon clip-path=\\\"url(#clip5200)\\\" points=\\\"\\n327.03,1236.8 384.713,1233.95 436.75,1225.66 478.047,1212.75 504.561,1196.49 513.697,1178.47 504.561,1160.44 478.047,1144.18 436.75,1131.27 384.713,1122.99 \\n  327.03,1120.13 269.347,1122.99 217.31,1131.27 176.014,1144.18 149.5,1160.44 140.364,1178.47 149.5,1196.49 176.014,1212.75 217.31,1225.66 269.347,1233.95 \\n  327.03,1236.8 \\n  \\\" fill=\\\"#009af9\\\" fill-rule=\\\"evenodd\\\" fill-opacity=\\\"1\\\"\\/>\\n<polygon clip-path=\\\"url(#clip5200)\\\" points=\\\"\\n173.759,1970.66 276.559,1967.75 369.296,1959.31 442.892,1946.17 490.144,1929.61 506.426,1911.25 490.144,1892.9 442.892,1876.34 369.296,1863.2 276.559,1854.76 \\n  173.759,1851.85 70.9594,1854.76 -21.7775,1863.2 -95.374,1876.34 -142.626,1892.9 -158.908,1911.25 -142.626,1929.61 -95.374,1946.17 -21.7775,1959.31 70.9594,1967.75 \\n  173.759,1970.66 \\n  \\\" fill=\\\"#000000\\\" fill-rule=\\\"evenodd\\\" fill-opacity=\\\"1\\\"\\/>\\n<polygon clip-path=\\\"url(#clip5200)\\\" points=\\\"\\n173.759,1969.59 274.705,1966.73 365.769,1958.45 438.038,1945.54 484.437,1929.28 500.426,1911.25 484.437,1893.23 438.038,1876.97 365.769,1864.06 274.705,1855.78 \\n  173.759,1852.92 72.8135,1855.78 -18.2508,1864.06 -90.5199,1876.97 -136.919,1893.23 -152.908,1911.25 -136.919,1929.28 -90.5199,1945.54 -18.2508,1958.45 72.8135,1966.73 \\n  173.759,1969.59 \\n  \\\" fill=\\\"#009af9\\\" fill-rule=\\\"evenodd\\\" fill-opacity=\\\"1\\\"\\/>\\n<polygon clip-path=\\\"url(#clip5200)\\\" points=\\\"\\n1853.38,2457.46 1941.76,2454.55 2021.49,2446.08 2084.76,2432.9 2125.38,2416.29 2139.38,2397.88 2125.38,2379.47 2084.76,2362.86 2021.49,2349.68 1941.76,2341.21 \\n  1853.38,2338.3 1765,2341.21 1685.27,2349.68 1622,2362.86 1581.38,2379.47 1567.38,2397.88 1581.38,2416.29 1622,2432.9 1685.27,2446.08 1765,2454.55 \\n  1853.38,2457.46 \\n  \\\" fill=\\\"#000000\\\" fill-rule=\\\"evenodd\\\" fill-opacity=\\\"1\\\"\\/>\\n<polygon clip-path=\\\"url(#clip5200)\\\" points=\\\"\\n1853.38,2456.21 1939.91,2453.36 2017.96,2445.07 2079.91,2432.17 2119.68,2415.91 2133.38,2397.88 2119.68,2379.85 2079.91,2363.59 2017.96,2350.69 1939.91,2342.4 \\n  1853.38,2339.55 1766.86,2342.4 1688.8,2350.69 1626.86,2363.59 1587.09,2379.85 1573.38,2397.88 1587.09,2415.91 1626.86,2432.17 1688.8,2445.07 1766.86,2453.36 \\n  1853.38,2456.21 \\n  \\\" fill=\\\"#009af9\\\" fill-rule=\\\"evenodd\\\" fill-opacity=\\\"1\\\"\\/>\\n<polygon clip-path=\\\"url(#clip5200)\\\" points=\\\"\\n1711.14,3093.85 1785.1,3090.92 1851.82,3082.42 1904.77,3069.18 1938.76,3052.5 1950.48,3034.01 1938.76,3015.53 1904.77,2998.85 1851.82,2985.61 1785.1,2977.11 \\n  1711.14,2974.18 1637.19,2977.11 1570.47,2985.61 1517.52,2998.85 1483.52,3015.53 1471.81,3034.01 1483.52,3052.5 1517.52,3069.18 1570.47,3082.42 1637.19,3090.92 \\n  1711.14,3093.85 \\n  \\\" fill=\\\"#000000\\\" fill-rule=\\\"evenodd\\\" fill-opacity=\\\"1\\\"\\/>\\n<polygon clip-path=\\\"url(#clip5200)\\\" points=\\\"\\n1711.14,3092.35 1783.25,3089.49 1848.29,3081.21 1899.91,3068.3 1933.06,3052.04 1944.48,3034.01 1933.06,3015.99 1899.91,2999.73 1848.29,2986.82 1783.25,2978.54 \\n  1711.14,2975.68 1639.04,2978.54 1573.99,2986.82 1522.37,2999.73 1489.23,3015.99 1477.81,3034.01 1489.23,3052.04 1522.37,3068.3 1573.99,3081.21 1639.04,3089.49 \\n  1711.14,3092.35 \\n  \\\" fill=\\\"#009af9\\\" fill-rule=\\\"evenodd\\\" fill-opacity=\\\"1\\\"\\/>\\n<g clip-path=\\\"url(#clip5200)\\\">\\n<text style=\\\"fill:#000000; fill-opacity:1; font-family:Arial,Helvetica Neue,Helvetica,sans-serif; font-size:82px; text-anchor:middle;\\\" transform=\\\"rotate(0, 3065.99, 164.237)\\\" x=\\\"3065.99\\\" y=\\\"164.237\\\">Any<\\/text>\\n<\\/g>\\n<g clip-path=\\\"url(#clip5200)\\\">\\n<text style=\\\"fill:#000000; fill-opacity:1; font-family:Arial,Helvetica Neue,Helvetica,sans-serif; font-size:82px; text-anchor:middle;\\\" transform=\\\"rotate(0, 399.092, 521.703)\\\" x=\\\"399.092\\\" y=\\\"521.703\\\">Number<\\/text>\\n<\\/g>\\n<g clip-path=\\\"url(#clip5200)\\\">\\n<text style=\\\"fill:#000000; fill-opacity:1; font-family:Arial,Helvetica Neue,Helvetica,sans-serif; font-size:82px; text-anchor:middle;\\\" transform=\\\"rotate(0, 327.03, 1208.47)\\\" x=\\\"327.03\\\" y=\\\"1208.47\\\">Real<\\/text>\\n<\\/g>\\n<g clip-path=\\\"url(#clip5200)\\\">\\n<text style=\\\"fill:#000000; fill-opacity:1; font-family:Arial,Helvetica Neue,Helvetica,sans-serif; font-size:82px; text-anchor:middle;\\\" transform=\\\"rotate(0, 173.759, 1941.25)\\\" x=\\\"173.759\\\" y=\\\"1941.25\\\">Integer<\\/text>\\n<\\/g>\\n<g clip-path=\\\"url(#clip5200)\\\">\\n<text style=\\\"fill:#000000; fill-opacity:1; font-family:Arial,Helvetica Neue,Helvetica,sans-serif; font-size:82px; text-anchor:middle;\\\" transform=\\\"rotate(0, 1853.38, 2427.88)\\\" x=\\\"1853.38\\\" y=\\\"2427.88\\\">Signed<\\/text>\\n<\\/g>\\n<g clip-path=\\\"url(#clip5200)\\\">\\n<text style=\\\"fill:#000000; fill-opacity:1; font-family:Arial,Helvetica Neue,Helvetica,sans-serif; font-size:82px; text-anchor:middle;\\\" transform=\\\"rotate(0, 1711.14, 3064.01)\\\" x=\\\"1711.14\\\" y=\\\"3064.01\\\">Int64<\\/text>\\n<\\/g>\\n<\\/svg>\\n\"},\"nodeType\":\"DOM\",\"type\":\"node\",\"instanceArgs\":{\"namespace\":\"html\",\"tag\":\"div\"},\"children\":[]}]}}}},\"children\":[{\"props\":{},\"nodeType\":\"ObservableNode\",\"type\":\"node\",\"instanceArgs\":{\"id\":\"ob_09\",\"name\":\"obs-node\"},\"children\":[]}]}]},\n",
       "            window,\n",
       "        );\n",
       "    } else {\n",
       "        document\n",
       "            .querySelector('[data-webio-mountpoint=\"2772744118716446684\"]')\n",
       "            .innerHTML = (\n",
       "                '<strong>WebIO not detected. Please read ' +\n",
       "                '<a href=\"https://juliagizmos.github.io/WebIO.jl/latest/troubleshooting/not-detected/\">the troubleshooting guide</a> ' +\n",
       "                'for more information on how to resolve this issue.' +\n",
       "                '</strong>'\n",
       "            );\n",
       "    }\n",
       "    </script>\n",
       "</div>\n"
      ],
      "text/plain": [
       "Node{WebIO.DOM}(WebIO.DOM(:html, :div), Any[Node{WebIO.DOM}(WebIO.DOM(:html, :div), Any[Scope(Node{WebIO.DOM}(WebIO.DOM(:html, :div), Any[Node{WebIO.DOM}(WebIO.DOM(:html, :div), Any[Node{WebIO.DOM}(WebIO.DOM(:html, :label), Any[\"T\"], Dict{Symbol,Any}(:className => \"interact \",:style => Dict{Any,Any}(:padding => \"5px 10px 0px 10px\")))], Dict{Symbol,Any}(:className => \"interact-flex-row-left\")), Node{WebIO.DOM}(WebIO.DOM(:html, :div), Any[Node{WebIO.DOM}(WebIO.DOM(:html, :div), Any[Node{WebIO.DOM}(WebIO.DOM(:html, :span), Any[Node{WebIO.DOM}(WebIO.DOM(:html, :label), Any[], Dict{Symbol,Any}(:attributes => Dict(\"data-bind\" => \"text : key\")))], Dict{Symbol,Any}(:attributes => Dict(\"data-bind\" => \"click: function (){\\$root.update(val)}, css: {'is-primary is-selected' : \\$root.index() == val, 'interact-widget is-medium button ' : true}\")))], Dict{Symbol,Any}(:attributes => (\"data-bind\" => \"foreach : options_js\"),:className => \"buttons has-addons is-centered\"))], Dict{Symbol,Any}(:className => \"interact-flex-row-center\")), Node{WebIO.DOM}(WebIO.DOM(:html, :div), Any[Node{WebIO.DOM}(WebIO.DOM(:html, :div), Any[], Dict{Symbol,Any}())], Dict{Symbol,Any}(:className => \"interact-flex-row-right\"))], Dict{Symbol,Any}(:className => \"interact-flex-row interact-widget\")), Dict{String,Tuple{Observables.AbstractObservable,Union{Nothing, Bool}}}(\"options_js\" => (Observable{Any} with 1 listeners. Value:\n",
       "OrderedDict[OrderedDict{String,Any}(\"key\" => \"Int64\",\"val\" => 1,\"id\" => \"id9oGVTmxm\"), OrderedDict{String,Any}(\"key\" => \"Signed\",\"val\" => 2,\"id\" => \"idZYlitimb\"), OrderedDict{String,Any}(\"key\" => \"Integer\",\"val\" => 3,\"id\" => \"idQhtdi7vM\"), OrderedDict{String,Any}(\"key\" => \"Real\",\"val\" => 4,\"id\" => \"idWUOjl0PL\"), OrderedDict{String,Any}(\"key\" => \"Number\",\"val\" => 5,\"id\" => \"idLeXCJeg9\")], nothing),\"index\" => (Observable{Any} with 2 listeners. Value:\n",
       "1, nothing)), Set(String[]), nothing, Asset[Asset(\"js\", \"knockout\", \"/Users/joday/.julia/packages/Knockout/1sDlc/src/../assets/knockout.js\"), Asset(\"js\", \"knockout_punches\", \"/Users/joday/.julia/packages/Knockout/1sDlc/src/../assets/knockout_punches.js\"), Asset(\"js\", nothing, \"/Users/joday/.julia/packages/InteractBase/9mFwe/src/../assets/all.js\"), Asset(\"css\", nothing, \"/Users/joday/.julia/packages/InteractBase/9mFwe/src/../assets/style.css\"), Asset(\"css\", nothing, \"/Users/joday/.julia/packages/Interact/SbgIk/src/../assets/bulma_confined.min.css\")], Dict{Any,Any}(\"options_js\" => Any[WebIO.JSString(\"(function (val){return (val!=this.model[\\\"options_js\\\"]()) ? (this.valueFromJulia[\\\"options_js\\\"]=true, this.model[\\\"options_js\\\"](val)) : undefined})\")],\"index\" => Any[WebIO.JSString(\"(function (val){return (val!=this.model[\\\"index\\\"]()) ? (this.valueFromJulia[\\\"index\\\"]=true, this.model[\\\"index\\\"](val)) : undefined})\")]), WebIO.ConnectionPool(Channel{Any}(sz_max:32,sz_curr:0), Set(AbstractConnection[]), Base.GenericCondition{Base.AlwaysLockedST}(Base.InvasiveLinkedList{Task}(Task (runnable) @0x000000013358d450, Task (runnable) @0x000000013358d450), Base.AlwaysLockedST(1))), WebIO.JSString[WebIO.JSString(\"function () {\\n    var handler = (function (ko, koPunches) {\\n    ko.punches.enableAll();\\n    ko.bindingHandlers.numericValue = {\\n        init: function(element, valueAccessor, allBindings, data, context) {\\n            var stringified = ko.observable(ko.unwrap(valueAccessor()));\\n            stringified.subscribe(function(value) {\\n                var val = parseFloat(value);\\n                if (!isNaN(val)) {\\n                    valueAccessor()(val);\\n                }\\n            });\\n            valueAccessor().subscribe(function(value) {\\n                var str = JSON.stringify(value);\\n                if ((str == \\\"0\\\") && ([\\\"-0\\\", \\\"-0.\\\"].indexOf(stringified()) >= 0))\\n                     return;\\n                 if ([\\\"null\\\", \\\"\\\"].indexOf(str) >= 0)\\n                     return;\\n                stringified(str);\\n            });\\n            ko.applyBindingsToNode(\\n                element,\\n                {\\n                    value: stringified,\\n                    valueUpdate: allBindings.get('valueUpdate'),\\n                },\\n                context,\\n            );\\n        }\\n    };\\n    var json_data = {\\\"options_js\\\":WebIO.getval({\\\"name\\\":\\\"options_js\\\",\\\"scope\\\":\\\"10643558754937891149\\\",\\\"id\\\":\\\"ob_05\\\",\\\"type\\\":\\\"observable\\\"}),\\\"index\\\":WebIO.getval({\\\"name\\\":\\\"index\\\",\\\"scope\\\":\\\"10643558754937891149\\\",\\\"id\\\":\\\"ob_04\\\",\\\"type\\\":\\\"observable\\\"})};\\n    var self = this;\\n    function AppViewModel() {\\n        for (var key in json_data) {\\n            var el = json_data[key];\\n            this[key] = Array.isArray(el) ? ko.observableArray(el) : ko.observable(el);\\n        }\\n        [this[\\\"update\\\"]=function (val) {this.index(val)}]\\n        \\n        [this[\\\"options_js\\\"].subscribe((function (val){!(this.valueFromJulia[\\\"options_js\\\"]) ? (WebIO.setval({\\\"name\\\":\\\"options_js\\\",\\\"scope\\\":\\\"10643558754937891149\\\",\\\"id\\\":\\\"ob_05\\\",\\\"type\\\":\\\"observable\\\"},val)) : undefined; return this.valueFromJulia[\\\"options_js\\\"]=false}),self),this[\\\"index\\\"].subscribe((function (val){!(this.valueFromJulia[\\\"index\\\"]) ? (WebIO.setval({\\\"name\\\":\\\"index\\\",\\\"scope\\\":\\\"10643558754937891149\\\",\\\"id\\\":\\\"ob_04\\\",\\\"type\\\":\\\"observable\\\"},val)) : undefined; return this.valueFromJulia[\\\"index\\\"]=false}),self)]\\n        \\n    }\\n    self.model = new AppViewModel();\\n    self.valueFromJulia = {};\\n    for (var key in json_data) {\\n        self.valueFromJulia[key] = false;\\n    }\\n    ko.applyBindings(self.model, self.dom);\\n}\\n);\\n    (WebIO.importBlock({\\\"data\\\":[{\\\"name\\\":\\\"knockout\\\",\\\"type\\\":\\\"js\\\",\\\"url\\\":\\\"/assetserver/bf3e344bbbe45b806bbda88c6101232eb1f7318f-knockout.js\\\"},{\\\"name\\\":\\\"knockout_punches\\\",\\\"type\\\":\\\"js\\\",\\\"url\\\":\\\"/assetserver/3ad363ca1664d7335dff0eabc7ebe7d829397430-knockout_punches.js\\\"}],\\\"type\\\":\\\"async_block\\\"})).then((imports) => handler.apply(this, imports));\\n}\\n\")])], Dict{Symbol,Any}(:className => \"interact-widget\")), Observable{Any} with 0 listeners. Value:\n",
       "Node{WebIO.DOM}(WebIO.DOM(:html, :div), Any[Plot{Plots.GRBackend() n=2}], Dict{Symbol,Any}(:className => \"interact-flex-row interact-widget\"))], Dict{Symbol,Any}())"
      ]
     },
     "execution_count": 9,
     "metadata": {
      "application/vnd.webio.node+json": {
       "kernelId": "8378a9e8-0926-4fd0-ad3d-b73e13156582"
      }
     },
     "output_type": "execute_result"
    }
   ],
   "source": [
    "using GraphRecipes\n",
    "using Plots\n",
    "using Interact\n",
    "gr(size=(800, 800))\n",
    "\n",
    "@manipulate for T in [Int64, Signed, Integer, Real, Number]\n",
    "    plot(T, nodeshape=:circle, nodesize=3, method=:tree)\n",
    "end"
   ]
  },
  {
   "cell_type": "markdown",
   "metadata": {
    "extensions": {
     "jupyter_dashboards": {
      "version": 1,
      "views": {
       "grid_default": {},
       "report_default": {
        "hidden": false
       }
      }
     }
    }
   },
   "source": [
    "### Metaprogramming (Macros)\n",
    "\n",
    "- Functions of **expressions**\n",
    "- You can change the expression to whatever you want inside of a macro"
   ]
  },
  {
   "cell_type": "code",
   "execution_count": 10,
   "metadata": {
    "extensions": {
     "jupyter_dashboards": {
      "version": 1,
      "views": {
       "grid_default": {},
       "report_default": {
        "hidden": true
       }
      }
     }
    }
   },
   "outputs": [
    {
     "data": {
      "text/plain": [
       "10"
      ]
     },
     "execution_count": 10,
     "metadata": {},
     "output_type": "execute_result"
    }
   ],
   "source": [
    "x = 10"
   ]
  },
  {
   "cell_type": "code",
   "execution_count": 11,
   "metadata": {
    "extensions": {
     "jupyter_dashboards": {
      "version": 1,
      "views": {
       "grid_default": {},
       "report_default": {
        "hidden": true
       }
      }
     }
    }
   },
   "outputs": [
    {
     "name": "stdout",
     "output_type": "stream",
     "text": [
      "15"
     ]
    }
   ],
   "source": [
    "show(x + 5)"
   ]
  },
  {
   "cell_type": "code",
   "execution_count": 12,
   "metadata": {
    "extensions": {
     "jupyter_dashboards": {
      "version": 1,
      "views": {
       "grid_default": {},
       "report_default": {
        "hidden": true
       }
      }
     }
    }
   },
   "outputs": [
    {
     "name": "stdout",
     "output_type": "stream",
     "text": [
      "x + 5 = 15\n"
     ]
    }
   ],
   "source": [
    "@show x + 5;"
   ]
  },
  {
   "cell_type": "markdown",
   "metadata": {
    "extensions": {
     "jupyter_dashboards": {
      "version": 1,
      "views": {
       "grid_default": {},
       "report_default": {
        "hidden": false
       }
      }
     }
    }
   },
   "source": [
    "### The best macro: `@time`"
   ]
  },
  {
   "cell_type": "code",
   "execution_count": 13,
   "metadata": {
    "extensions": {
     "jupyter_dashboards": {
      "version": 1,
      "views": {
       "grid_default": {},
       "report_default": {
        "hidden": true
       }
      }
     }
    }
   },
   "outputs": [
    {
     "name": "stdout",
     "output_type": "stream",
     "text": [
      "  1.716562 seconds (106.16 k allocations: 1.496 GiB, 11.85% gc time)\n"
     ]
    },
    {
     "data": {
      "text/plain": [
       "-6773.564618682208"
      ]
     },
     "execution_count": 13,
     "metadata": {},
     "output_type": "execute_result"
    }
   ],
   "source": [
    "using BenchmarkTools\n",
    "\n",
    "function f2(n)\n",
    "    x = 0.0\n",
    "    for i in 1:n\n",
    "        x += sum(randn(1000, 1000))\n",
    "    end\n",
    "    x\n",
    "end\n",
    "\n",
    "@time f2(200)"
   ]
  },
  {
   "cell_type": "markdown",
   "metadata": {
    "extensions": {
     "jupyter_dashboards": {
      "version": 1,
      "views": {
       "grid_default": {},
       "report_default": {
        "hidden": false
       }
      }
     }
    }
   },
   "source": [
    "### Usefulness of Multiple Dispatch\n",
    "\n",
    "Newton's method for finding the root of a function (where $f(\\theta) = 0$):\n",
    "\n",
    "$$\n",
    "\\theta_{t+1} = \\theta_t - \\frac{F(\\theta_t)}{F'(\\theta_t)}\n",
    "$$\n",
    "\n",
    "Quantile finder for continuous univariate distributions\n",
    "\n",
    "- Want to find $\\theta$ such that $F(\\theta) = q$ for cumulative distribution function $F$ and quantile $0<q<1$."
   ]
  },
  {
   "cell_type": "code",
   "execution_count": 14,
   "metadata": {
    "extensions": {
     "jupyter_dashboards": {
      "version": 1,
      "views": {
       "grid_default": {},
       "report_default": {
        "hidden": true
       }
      }
     }
    }
   },
   "outputs": [
    {
     "data": {
      "text/plain": [
       "my_quantile (generic function with 1 method)"
      ]
     },
     "execution_count": 14,
     "metadata": {},
     "output_type": "execute_result"
    }
   ],
   "source": [
    "using Distributions\n",
    "\n",
    "function my_quantile(d, q)\n",
    "    θ = mean(d)\n",
    "    for i in 1:20\n",
    "        θ -= (cdf(d, θ) - q) / pdf(d, θ)\n",
    "    end\n",
    "    θ\n",
    "end"
   ]
  },
  {
   "cell_type": "markdown",
   "metadata": {},
   "source": [
    "**Note: In R/SciPy, you would need a new function for every distribution**"
   ]
  },
  {
   "cell_type": "code",
   "execution_count": 15,
   "metadata": {
    "extensions": {
     "jupyter_dashboards": {
      "version": 1,
      "views": {
       "grid_default": {},
       "report_default": {
        "hidden": true
       }
      }
     }
    }
   },
   "outputs": [
    {
     "name": "stdout",
     "output_type": "stream",
     "text": [
      "my_quantile(Normal(), q) = -1.2815515655446004\n",
      "my_quantile(Normal(), q) = 0.0\n",
      "my_quantile(Normal(), q) = 1.2815515655446006\n"
     ]
    }
   ],
   "source": [
    "for q in [.1, .5, .9]\n",
    "    @show my_quantile(Normal(), q)\n",
    "end"
   ]
  },
  {
   "cell_type": "code",
   "execution_count": 16,
   "metadata": {
    "extensions": {
     "jupyter_dashboards": {
      "version": 1,
      "views": {
       "grid_default": {},
       "report_default": {
        "hidden": true
       }
      }
     }
    }
   },
   "outputs": [
    {
     "name": "stdout",
     "output_type": "stream",
     "text": [
      "my_quantile(Uniform(), q) = 0.1\n",
      "my_quantile(Uniform(), q) = 0.5\n",
      "my_quantile(Uniform(), q) = 0.9\n"
     ]
    }
   ],
   "source": [
    "for q in [.1, .5, .9]\n",
    "    @show my_quantile(Uniform(), q)\n",
    "end"
   ]
  },
  {
   "cell_type": "markdown",
   "metadata": {
    "extensions": {
     "jupyter_dashboards": {
      "version": 1,
      "views": {
       "grid_default": {},
       "report_default": {
        "hidden": false
       }
      }
     }
    }
   },
   "source": [
    "## Fused Broadcasting\n",
    "\n",
    "- Note: Broadcasting must be explicit"
   ]
  },
  {
   "cell_type": "code",
   "execution_count": 17,
   "metadata": {
    "extensions": {
     "jupyter_dashboards": {
      "version": 1,
      "views": {
       "grid_default": {},
       "report_default": {
        "hidden": true
       }
      }
     }
    }
   },
   "outputs": [
    {
     "name": "stdout",
     "output_type": "stream",
     "text": [
      "a == b = true\n"
     ]
    },
    {
     "data": {
      "text/plain": [
       "2×2 Array{Float64,2}:\n",
       " 0.666367  0.6143  \n",
       " 0.990059  0.727035"
      ]
     },
     "execution_count": 17,
     "metadata": {},
     "output_type": "execute_result"
    }
   ],
   "source": [
    "x = [1 2; 3 4]\n",
    "\n",
    "a = cos.(sin.(abs.(x)))\n",
    "\n",
    "b = @. cos(sin(abs(x)))\n",
    "\n",
    "@show a == b\n",
    "\n",
    "a"
   ]
  },
  {
   "cell_type": "markdown",
   "metadata": {
    "extensions": {
     "jupyter_dashboards": {
      "version": 1,
      "views": {
       "grid_default": {},
       "report_default": {
        "hidden": false
       }
      }
     }
    }
   },
   "source": [
    "--- \n",
    "\n",
    "# Interop"
   ]
  },
  {
   "cell_type": "code",
   "execution_count": 18,
   "metadata": {
    "extensions": {
     "jupyter_dashboards": {
      "version": 1,
      "views": {
       "grid_default": {},
       "report_default": {
        "hidden": true
       }
      }
     }
    }
   },
   "outputs": [
    {
     "data": {
      "image/png": "[encoded data removed]"
     },
     "metadata": {},
     "output_type": "display_data"
    },
    {
     "data": {
      "text/plain": [
       "RObject{VecSxp}\n"
      ]
     },
     "execution_count": 18,
     "metadata": {},
     "output_type": "execute_result"
    },
    {
     "name": "stderr",
     "output_type": "stream",
     "text": [
      "┌ Warning: RCall.jl: `stat_bin()` using `bins = 30`. Pick better value with `binwidth`.\n",
      "└ @ RCall /Users/joday/.julia/packages/RCall/g7dhB/src/io.jl:113\n"
     ]
    }
   ],
   "source": [
    "using RCall\n",
    "\n",
    "x = randn(10^5)\n",
    "\n",
    "R\"\"\"\n",
    "library(ggplot2); qplot($x)\n",
    "\"\"\""
   ]
  },
  {
   "cell_type": "code",
   "execution_count": 19,
   "metadata": {
    "extensions": {
     "jupyter_dashboards": {
      "version": 1,
      "views": {
       "grid_default": {},
       "report_default": {
        "hidden": true
       }
      }
     }
    }
   },
   "outputs": [
    {
     "data": {
      "text/plain": [
       "3×4 Array{Float64,2}:\n",
       " 0.372918  0.301468  0.511817  0.424344\n",
       " 0.493635  0.937244  0.685834  0.842786\n",
       " 0.807467  0.368503  0.887337  0.211927"
      ]
     },
     "execution_count": 19,
     "metadata": {},
     "output_type": "execute_result"
    }
   ],
   "source": [
    "using PyCall\n",
    "\n",
    "nr = pyimport(\"numpy.random\")\n",
    "\n",
    "nr.rand(3, 4)"
   ]
  },
  {
   "cell_type": "markdown",
   "metadata": {
    "extensions": {
     "jupyter_dashboards": {
      "version": 1,
      "views": {
       "grid_default": {},
       "report_default": {
        "hidden": false
       }
      }
     }
    }
   },
   "source": [
    "---\n",
    "\n",
    "# REPL Modes\n",
    "\n",
    "- `?` (Help)\n",
    "- `;` (Shell)\n",
    "- `]` (Pkg)\n",
    "- `$` (RCall)"
   ]
  },
  {
   "cell_type": "markdown",
   "metadata": {
    "extensions": {
     "jupyter_dashboards": {
      "version": 1,
      "views": {
       "grid_default": {},
       "report_default": {
        "hidden": false
       }
      }
     }
    }
   },
   "source": [
    "---\n",
    "\n",
    "# State of the Art Packages in Julia 1.0 (although we're now at 1.2)\n",
    "\n",
    "http://www.stochasticlifestyle.com/some-state-of-the-art-packages-in-julia-v1-0/\n",
    "\n"
   ]
  },
  {
   "cell_type": "markdown",
   "metadata": {
    "extensions": {
     "jupyter_dashboards": {
      "version": 1,
      "views": {
       "grid_default": {},
       "report_default": {
        "hidden": false
       }
      }
     }
    }
   },
   "source": [
    "## DifferentialEquations.jl\n",
    "\n",
    "- State-of-the-art differential equation solvers\n",
    "\n",
    "![](https://camo.githubusercontent.com/011fe73b3a9c48dd7c36c0a5f31d2b37d8d55162/687474703a2f2f7777772e73746f636861737469636c6966657374796c652e636f6d2f77702d636f6e74656e742f75706c6f6164732f323031392f30382f64655f736f6c7665725f736f6674776172655f636f6d70617273696f6e2d312e706e67)"
   ]
  },
  {
   "cell_type": "code",
   "execution_count": 20,
   "metadata": {
    "extensions": {
     "jupyter_dashboards": {
      "version": 1,
      "views": {
       "grid_default": {},
       "report_default": {
        "hidden": true
       }
      }
     }
    }
   },
   "outputs": [],
   "source": [
    "using Flux"
   ]
  },
  {
   "cell_type": "markdown",
   "metadata": {
    "extensions": {
     "jupyter_dashboards": {
      "version": 1,
      "views": {
       "grid_default": {},
       "report_default": {
        "hidden": false
       }
      }
     }
    }
   },
   "source": [
    "# Flux.jl\n",
    "\n",
    "- Deep Neural Networks in pure Julia\n",
    "\n",
    "```julia\n",
    "model = Chain(\n",
    "  Dense(768, 128, σ),\n",
    "  LSTM(128, 256),\n",
    "  LSTM(256, 128),\n",
    "  Dense(128, 10),\n",
    "  softmax)\n",
    "\n",
    "loss(x, y) = crossentropy(model(x), y)\n",
    "\n",
    "Flux.train!(loss, data, ADAM(...))\n",
    "```"
   ]
  },
  {
   "cell_type": "markdown",
   "metadata": {
    "extensions": {
     "jupyter_dashboards": {
      "version": 1,
      "views": {
       "grid_default": {},
       "report_default": {
        "hidden": false
       }
      }
     }
    }
   },
   "source": [
    "## Zygote.jl\n",
    "\n",
    "- Automatic differentiation for arbitrary Julia code\n",
    "- This is a fairly big deal for deep learning applications"
   ]
  },
  {
   "cell_type": "code",
   "execution_count": 21,
   "metadata": {
    "extensions": {
     "jupyter_dashboards": {
      "version": 1,
      "views": {
       "grid_default": {},
       "report_default": {
        "hidden": true
       }
      }
     }
    }
   },
   "outputs": [
    {
     "data": {
      "text/plain": [
       "(53, 5)"
      ]
     },
     "execution_count": 21,
     "metadata": {},
     "output_type": "execute_result"
    }
   ],
   "source": [
    "using Zygote\n",
    "\n",
    "thing(x) = 5x + 3\n",
    "\n",
    "thing(10), thing'(10)"
   ]
  },
  {
   "cell_type": "markdown",
   "metadata": {
    "extensions": {
     "jupyter_dashboards": {
      "version": 1,
      "views": {
       "grid_default": {},
       "report_default": {
        "hidden": false
       }
      }
     }
    }
   },
   "source": [
    "# MLJ.jl\n",
    "\n",
    "- Big ML Framework in Julia.  Wrapper around SciKitLearn.jl + much more"
   ]
  },
  {
   "cell_type": "code",
   "execution_count": 22,
   "metadata": {
    "extensions": {
     "jupyter_dashboards": {
      "version": 1,
      "views": {
       "grid_default": {},
       "report_default": {
        "hidden": true
       }
      }
     }
    }
   },
   "outputs": [
    {
     "name": "stderr",
     "output_type": "stream",
     "text": [
      "WARNING: using MLJ.Node in module Main conflicts with an existing identifier.\n",
      "WARNING: both CSSUtil and Base export \"empty\"; uses of it in module Interact must be qualified\n"
     ]
    },
    {
     "data": {
      "text/plain": [
       "Dict{Any,Any} with 9 entries:\n",
       "  \"MultivariateStats\" => Any[\"RidgeRegressor\", \"PCA\"]\n",
       "  \"MLJ\"               => Any[\"ConstantClassifier\", \"Standardizer\", \"SimpleRidge…\n",
       "  \"DecisionTree\"      => Any[\"DecisionTreeRegressor\", \"DecisionTreeClassifier\"]\n",
       "  \"ScikitLearn\"       => Any[\"SVMLRegressor\", \"SVMNuClassifier\", \"ElasticNet\", …\n",
       "  \"LIBSVM\"            => Any[\"EpsilonSVR\", \"LinearSVC\", \"NuSVR\", \"NuSVC\", \"SVC\"…\n",
       "  \"Clustering\"        => Any[\"KMeans\", \"KMedoids\"]\n",
       "  \"GLM\"               => Any[\"OLSRegressor\", \"GLMCountRegressor\"]\n",
       "  \"NaiveBayes\"        => Any[\"GaussianNBClassifier\", \"MultinomialNBClassifier\"]\n",
       "  \"XGBoost\"           => Any[\"XGBoostCount\", \"XGBoostRegressor\", \"XGBoostClassi…"
      ]
     },
     "execution_count": 22,
     "metadata": {},
     "output_type": "execute_result"
    }
   ],
   "source": [
    "using MLJ\n",
    "models()"
   ]
  },
  {
   "cell_type": "markdown",
   "metadata": {
    "extensions": {
     "jupyter_dashboards": {
      "version": 1,
      "views": {
       "grid_default": {},
       "report_default": {
        "hidden": false
       }
      }
     }
    }
   },
   "source": [
    "## Interact.jl\n",
    "\n",
    "- Interactive widgets for Julia"
   ]
  },
  {
   "cell_type": "code",
   "execution_count": 23,
   "metadata": {
    "extensions": {
     "jupyter_dashboards": {
      "version": 1,
      "views": {
       "grid_default": {},
       "report_default": {
        "hidden": true
       }
      }
     }
    }
   },
   "outputs": [
    {
     "data": {
      "application/vnd.webio.node+json": {
       "children": [
        {
         "children": [
          {
           "children": [
            {
             "children": [
              {
               "children": [
                {
                 "children": [
                  "i"
                 ],
                 "instanceArgs": {
                  "namespace": "html",
                  "tag": "label"
                 },
                 "nodeType": "DOM",
                 "props": {
                  "className": "interact ",
                  "style": {
                   "padding": "5px 10px 0px 10px"
                  }
                 },
                 "type": "node"
                }
               ],
               "instanceArgs": {
                "namespace": "html",
                "tag": "div"
               },
               "nodeType": "DOM",
               "props": {
                "className": "interact-flex-row-left"
               },
               "type": "node"
              },
              {
               "children": [
                {
                 "children": [],
                 "instanceArgs": {
                  "namespace": "html",
                  "tag": "input"
                 },
                 "nodeType": "DOM",
                 "props": {
                  "attributes": {
                   "data-bind": "numericValue: index, valueUpdate: 'input', event: {change: function (){this.changes(this.changes()+1)}}",
                   "orient": "horizontal",
                   "type": "range"
                  },
                  "className": "slider slider is-fullwidth",
                  "max": 50,
                  "min": 1,
                  "step": 1,
                  "style": {}
                 },
                 "type": "node"
                }
               ],
               "instanceArgs": {
                "namespace": "html",
                "tag": "div"
               },
               "nodeType": "DOM",
               "props": {
                "className": "interact-flex-row-center"
               },
               "type": "node"
              },
              {
               "children": [
                {
                 "children": [],
                 "instanceArgs": {
                  "namespace": "html",
                  "tag": "p"
                 },
                 "nodeType": "DOM",
                 "props": {
                  "attributes": {
                   "data-bind": "text: formatted_val"
                  }
                 },
                 "type": "node"
                }
               ],
               "instanceArgs": {
                "namespace": "html",
                "tag": "div"
               },
               "nodeType": "DOM",
               "props": {
                "className": "interact-flex-row-right"
               },
               "type": "node"
              }
             ],
             "instanceArgs": {
              "namespace": "html",
              "tag": "div"
             },
             "nodeType": "DOM",
             "props": {
              "className": "interact-flex-row interact-widget"
             },
             "type": "node"
            }
           ],
           "instanceArgs": {
            "handlers": {
             "changes": [
              "(function (val){return (val!=this.model[\"changes\"]()) ? (this.valueFromJulia[\"changes\"]=true, this.model[\"changes\"](val)) : undefined})"
             ],
             "index": [
              "(function (val){return (val!=this.model[\"index\"]()) ? (this.valueFromJulia[\"index\"]=true, this.model[\"index\"](val)) : undefined})"
             ]
            },
            "id": "17009662384221209456",
            "imports": {
             "data": [
              {
               "name": "knockout",
               "type": "js",
               "url": "/assetserver/bf3e344bbbe45b806bbda88c6101232eb1f7318f-knockout.js"
              },
              {
               "name": "knockout_punches",
               "type": "js",
               "url": "/assetserver/3ad363ca1664d7335dff0eabc7ebe7d829397430-knockout_punches.js"
              },
              {
               "name": null,
               "type": "js",
               "url": "/assetserver/c17843d82807177c96402335f7810c38fb70de05-all.js"
              },
              {
               "name": null,
               "type": "css",
               "url": "/assetserver/cf9b1ef11d5ef7ab3ff5a3942d24ca77dcb679d2-style.css"
              },
              {
               "name": null,
               "type": "css",
               "url": "/assetserver/c591c2d5f890a3e4541fd6b806094298d3ec794b-bulma_confined.min.css"
              }
             ],
             "type": "async_block"
            },
            "mount_callbacks": [
             "function () {\n    var handler = (function (ko, koPunches) {\n    ko.punches.enableAll();\n    ko.bindingHandlers.numericValue = {\n        init: function(element, valueAccessor, allBindings, data, context) {\n            var stringified = ko.observable(ko.unwrap(valueAccessor()));\n            stringified.subscribe(function(value) {\n                var val = parseFloat(value);\n                if (!isNaN(val)) {\n                    valueAccessor()(val);\n                }\n            });\n            valueAccessor().subscribe(function(value) {\n                var str = JSON.stringify(value);\n                if ((str == \"0\") && ([\"-0\", \"-0.\"].indexOf(stringified()) >= 0))\n                     return;\n                 if ([\"null\", \"\"].indexOf(str) >= 0)\n                     return;\n                stringified(str);\n            });\n            ko.applyBindingsToNode(\n                element,\n                {\n                    value: stringified,\n                    valueUpdate: allBindings.get('valueUpdate'),\n                },\n                context,\n            );\n        }\n    };\n    var json_data = {\"formatted_vals\":[\"1\",\"2\",\"3\",\"4\",\"5\",\"6\",\"7\",\"8\",\"9\",\"10\",\"11\",\"12\",\"13\",\"14\",\"15\",\"16\",\"17\",\"18\",\"19\",\"20\",\"21\",\"22\",\"23\",\"24\",\"25\",\"26\",\"27\",\"28\",\"29\",\"30\",\"31\",\"32\",\"33\",\"34\",\"35\",\"36\",\"37\",\"38\",\"39\",\"40\",\"41\",\"42\",\"43\",\"44\",\"45\",\"46\",\"47\",\"48\",\"49\",\"50\"],\"changes\":WebIO.getval({\"name\":\"changes\",\"scope\":\"17009662384221209456\",\"id\":\"ob_13\",\"type\":\"observable\"}),\"index\":WebIO.getval({\"name\":\"index\",\"scope\":\"17009662384221209456\",\"id\":\"ob_12\",\"type\":\"observable\"})};\n    var self = this;\n    function AppViewModel() {\n        for (var key in json_data) {\n            var el = json_data[key];\n            this[key] = Array.isArray(el) ? ko.observableArray(el) : ko.observable(el);\n        }\n        \n        [this[\"formatted_val\"]=ko.computed(    function(){\n        return this.formatted_vals()[parseInt(this.index())-(1)];\n    }\n,this)]\n        [this[\"changes\"].subscribe((function (val){!(this.valueFromJulia[\"changes\"]) ? (WebIO.setval({\"name\":\"changes\",\"scope\":\"17009662384221209456\",\"id\":\"ob_13\",\"type\":\"observable\"},val)) : undefined; return this.valueFromJulia[\"changes\"]=false}),self),this[\"index\"].subscribe((function (val){!(this.valueFromJulia[\"index\"]) ? (WebIO.setval({\"name\":\"index\",\"scope\":\"17009662384221209456\",\"id\":\"ob_12\",\"type\":\"observable\"},val)) : undefined; return this.valueFromJulia[\"index\"]=false}),self)]\n        \n    }\n    self.model = new AppViewModel();\n    self.valueFromJulia = {};\n    for (var key in json_data) {\n        self.valueFromJulia[key] = false;\n    }\n    ko.applyBindings(self.model, self.dom);\n}\n);\n    (WebIO.importBlock({\"data\":[{\"name\":\"knockout\",\"type\":\"js\",\"url\":\"/assetserver/bf3e344bbbe45b806bbda88c6101232eb1f7318f-knockout.js\"},{\"name\":\"knockout_punches\",\"type\":\"js\",\"url\":\"/assetserver/3ad363ca1664d7335dff0eabc7ebe7d829397430-knockout_punches.js\"}],\"type\":\"async_block\"})).then((imports) => handler.apply(this, imports));\n}\n"
            ],
            "observables": {
             "changes": {
              "id": "ob_13",
              "sync": false,
              "value": 0
             },
             "index": {
              "id": "ob_12",
              "sync": true,
              "value": 25
             }
            },
            "systemjs_options": null
           },
           "nodeType": "Scope",
           "props": {},
           "type": "node"
          }
         ],
         "instanceArgs": {
          "namespace": "html",
          "tag": "div"
         },
         "nodeType": "DOM",
         "props": {
          "className": "field interact-widget"
         },
         "type": "node"
        },
        {
         "children": [
          {
           "children": [
            {
             "children": [
              {
               "children": [
                {
                 "children": [
                  "color"
                 ],
                 "instanceArgs": {
                  "namespace": "html",
                  "tag": "label"
                 },
                 "nodeType": "DOM",
                 "props": {
                  "className": "interact ",
                  "style": {
                   "padding": "5px 10px 0px 10px"
                  }
                 },
                 "type": "node"
                }
               ],
               "instanceArgs": {
                "namespace": "html",
                "tag": "div"
               },
               "nodeType": "DOM",
               "props": {
                "className": "interact-flex-row-left"
               },
               "type": "node"
              },
              {
               "children": [
                {
                 "children": [
                  {
                   "children": [
                    {
                     "children": [],
                     "instanceArgs": {
                      "namespace": "html",
                      "tag": "label"
                     },
                     "nodeType": "DOM",
                     "props": {
                      "attributes": {
                       "data-bind": "text : key"
                      }
                     },
                     "type": "node"
                    }
                   ],
                   "instanceArgs": {
                    "namespace": "html",
                    "tag": "span"
                   },
                   "nodeType": "DOM",
                   "props": {
                    "attributes": {
                     "data-bind": "click: function (){$root.update(val)}, css: {'is-primary is-selected' : $root.index() == val, 'interact-widget is-medium button ' : true}"
                    }
                   },
                   "type": "node"
                  }
                 ],
                 "instanceArgs": {
                  "namespace": "html",
                  "tag": "div"
                 },
                 "nodeType": "DOM",
                 "props": {
                  "attributes": {
                   "data-bind": "foreach : options_js"
                  },
                  "className": "buttons has-addons is-centered"
                 },
                 "type": "node"
                }
               ],
               "instanceArgs": {
                "namespace": "html",
                "tag": "div"
               },
               "nodeType": "DOM",
               "props": {
                "className": "interact-flex-row-center"
               },
               "type": "node"
              },
              {
               "children": [
                {
                 "children": [],
                 "instanceArgs": {
                  "namespace": "html",
                  "tag": "div"
                 },
                 "nodeType": "DOM",
                 "props": {},
                 "type": "node"
                }
               ],
               "instanceArgs": {
                "namespace": "html",
                "tag": "div"
               },
               "nodeType": "DOM",
               "props": {
                "className": "interact-flex-row-right"
               },
               "type": "node"
              }
             ],
             "instanceArgs": {
              "namespace": "html",
              "tag": "div"
             },
             "nodeType": "DOM",
             "props": {
              "className": "interact-flex-row interact-widget"
             },
             "type": "node"
            }
           ],
           "instanceArgs": {
            "handlers": {
             "index": [
              "(function (val){return (val!=this.model[\"index\"]()) ? (this.valueFromJulia[\"index\"]=true, this.model[\"index\"](val)) : undefined})"
             ],
             "options_js": [
              "(function (val){return (val!=this.model[\"options_js\"]()) ? (this.valueFromJulia[\"options_js\"]=true, this.model[\"options_js\"](val)) : undefined})"
             ]
            },
            "id": "2612187668636345745",
            "imports": {
             "data": [
              {
               "name": "knockout",
               "type": "js",
               "url": "/assetserver/bf3e344bbbe45b806bbda88c6101232eb1f7318f-knockout.js"
              },
              {
               "name": "knockout_punches",
               "type": "js",
               "url": "/assetserver/3ad363ca1664d7335dff0eabc7ebe7d829397430-knockout_punches.js"
              },
              {
               "name": null,
               "type": "js",
               "url": "/assetserver/c17843d82807177c96402335f7810c38fb70de05-all.js"
              },
              {
               "name": null,
               "type": "css",
               "url": "/assetserver/cf9b1ef11d5ef7ab3ff5a3942d24ca77dcb679d2-style.css"
              },
              {
               "name": null,
               "type": "css",
               "url": "/assetserver/c591c2d5f890a3e4541fd6b806094298d3ec794b-bulma_confined.min.css"
              }
             ],
             "type": "async_block"
            },
            "mount_callbacks": [
             "function () {\n    var handler = (function (ko, koPunches) {\n    ko.punches.enableAll();\n    ko.bindingHandlers.numericValue = {\n        init: function(element, valueAccessor, allBindings, data, context) {\n            var stringified = ko.observable(ko.unwrap(valueAccessor()));\n            stringified.subscribe(function(value) {\n                var val = parseFloat(value);\n                if (!isNaN(val)) {\n                    valueAccessor()(val);\n                }\n            });\n            valueAccessor().subscribe(function(value) {\n                var str = JSON.stringify(value);\n                if ((str == \"0\") && ([\"-0\", \"-0.\"].indexOf(stringified()) >= 0))\n                     return;\n                 if ([\"null\", \"\"].indexOf(str) >= 0)\n                     return;\n                stringified(str);\n            });\n            ko.applyBindingsToNode(\n                element,\n                {\n                    value: stringified,\n                    valueUpdate: allBindings.get('valueUpdate'),\n                },\n                context,\n            );\n        }\n    };\n    var json_data = {\"options_js\":WebIO.getval({\"name\":\"options_js\",\"scope\":\"2612187668636345745\",\"id\":\"ob_18\",\"type\":\"observable\"}),\"index\":WebIO.getval({\"name\":\"index\",\"scope\":\"2612187668636345745\",\"id\":\"ob_17\",\"type\":\"observable\"})};\n    var self = this;\n    function AppViewModel() {\n        for (var key in json_data) {\n            var el = json_data[key];\n            this[key] = Array.isArray(el) ? ko.observableArray(el) : ko.observable(el);\n        }\n        [this[\"update\"]=function (val) {this.index(val)}]\n        \n        [this[\"options_js\"].subscribe((function (val){!(this.valueFromJulia[\"options_js\"]) ? (WebIO.setval({\"name\":\"options_js\",\"scope\":\"2612187668636345745\",\"id\":\"ob_18\",\"type\":\"observable\"},val)) : undefined; return this.valueFromJulia[\"options_js\"]=false}),self),this[\"index\"].subscribe((function (val){!(this.valueFromJulia[\"index\"]) ? (WebIO.setval({\"name\":\"index\",\"scope\":\"2612187668636345745\",\"id\":\"ob_17\",\"type\":\"observable\"},val)) : undefined; return this.valueFromJulia[\"index\"]=false}),self)]\n        \n    }\n    self.model = new AppViewModel();\n    self.valueFromJulia = {};\n    for (var key in json_data) {\n        self.valueFromJulia[key] = false;\n    }\n    ko.applyBindings(self.model, self.dom);\n}\n);\n    (WebIO.importBlock({\"data\":[{\"name\":\"knockout\",\"type\":\"js\",\"url\":\"/assetserver/bf3e344bbbe45b806bbda88c6101232eb1f7318f-knockout.js\"},{\"name\":\"knockout_punches\",\"type\":\"js\",\"url\":\"/assetserver/3ad363ca1664d7335dff0eabc7ebe7d829397430-knockout_punches.js\"}],\"type\":\"async_block\"})).then((imports) => handler.apply(this, imports));\n}\n"
            ],
            "observables": {
             "index": {
              "id": "ob_17",
              "sync": true,
              "value": 1
             },
             "options_js": {
              "id": "ob_18",
              "sync": false,
              "value": [
               {
                "id": "idL5CsGoBx",
                "key": "black",
                "val": 1
               },
               {
                "id": "idhRcNkCsr",
                "key": "blue",
                "val": 2
               },
               {
                "id": "idtybtwAWu",
                "key": "green",
                "val": 3
               },
               {
                "id": "id8OCFZlDH",
                "key": "red",
                "val": 4
               }
              ]
             }
            },
            "systemjs_options": null
           },
           "nodeType": "Scope",
           "props": {},
           "type": "node"
          }
         ],
         "instanceArgs": {
          "namespace": "html",
          "tag": "div"
         },
         "nodeType": "DOM",
         "props": {
          "className": "interact-widget"
         },
         "type": "node"
        },
        {
         "children": [
          {
           "children": [
            {
             "children": [
              {
               "children": [
                {
                 "children": [
                  "lw"
                 ],
                 "instanceArgs": {
                  "namespace": "html",
                  "tag": "label"
                 },
                 "nodeType": "DOM",
                 "props": {
                  "className": "interact ",
                  "style": {
                   "padding": "5px 10px 0px 10px"
                  }
                 },
                 "type": "node"
                }
               ],
               "instanceArgs": {
                "namespace": "html",
                "tag": "div"
               },
               "nodeType": "DOM",
               "props": {
                "className": "interact-flex-row-left"
               },
               "type": "node"
              },
              {
               "children": [
                {
                 "children": [],
                 "instanceArgs": {
                  "namespace": "html",
                  "tag": "input"
                 },
                 "nodeType": "DOM",
                 "props": {
                  "attributes": {
                   "data-bind": "numericValue: index, valueUpdate: 'input', event: {change: function (){this.changes(this.changes()+1)}}",
                   "orient": "horizontal",
                   "type": "range"
                  },
                  "className": "slider slider is-fullwidth",
                  "max": 46,
                  "min": 1,
                  "step": 1,
                  "style": {}
                 },
                 "type": "node"
                }
               ],
               "instanceArgs": {
                "namespace": "html",
                "tag": "div"
               },
               "nodeType": "DOM",
               "props": {
                "className": "interact-flex-row-center"
               },
               "type": "node"
              },
              {
               "children": [
                {
                 "children": [],
                 "instanceArgs": {
                  "namespace": "html",
                  "tag": "p"
                 },
                 "nodeType": "DOM",
                 "props": {
                  "attributes": {
                   "data-bind": "text: formatted_val"
                  }
                 },
                 "type": "node"
                }
               ],
               "instanceArgs": {
                "namespace": "html",
                "tag": "div"
               },
               "nodeType": "DOM",
               "props": {
                "className": "interact-flex-row-right"
               },
               "type": "node"
              }
             ],
             "instanceArgs": {
              "namespace": "html",
              "tag": "div"
             },
             "nodeType": "DOM",
             "props": {
              "className": "interact-flex-row interact-widget"
             },
             "type": "node"
            }
           ],
           "instanceArgs": {
            "handlers": {
             "changes": [
              "(function (val){return (val!=this.model[\"changes\"]()) ? (this.valueFromJulia[\"changes\"]=true, this.model[\"changes\"](val)) : undefined})"
             ],
             "index": [
              "(function (val){return (val!=this.model[\"index\"]()) ? (this.valueFromJulia[\"index\"]=true, this.model[\"index\"](val)) : undefined})"
             ]
            },
            "id": "5584364319559300298",
            "imports": {
             "data": [
              {
               "name": "knockout",
               "type": "js",
               "url": "/assetserver/bf3e344bbbe45b806bbda88c6101232eb1f7318f-knockout.js"
              },
              {
               "name": "knockout_punches",
               "type": "js",
               "url": "/assetserver/3ad363ca1664d7335dff0eabc7ebe7d829397430-knockout_punches.js"
              },
              {
               "name": null,
               "type": "js",
               "url": "/assetserver/c17843d82807177c96402335f7810c38fb70de05-all.js"
              },
              {
               "name": null,
               "type": "css",
               "url": "/assetserver/cf9b1ef11d5ef7ab3ff5a3942d24ca77dcb679d2-style.css"
              },
              {
               "name": null,
               "type": "css",
               "url": "/assetserver/c591c2d5f890a3e4541fd6b806094298d3ec794b-bulma_confined.min.css"
              }
             ],
             "type": "async_block"
            },
            "mount_callbacks": [
             "function () {\n    var handler = (function (ko, koPunches) {\n    ko.punches.enableAll();\n    ko.bindingHandlers.numericValue = {\n        init: function(element, valueAccessor, allBindings, data, context) {\n            var stringified = ko.observable(ko.unwrap(valueAccessor()));\n            stringified.subscribe(function(value) {\n                var val = parseFloat(value);\n                if (!isNaN(val)) {\n                    valueAccessor()(val);\n                }\n            });\n            valueAccessor().subscribe(function(value) {\n                var str = JSON.stringify(value);\n                if ((str == \"0\") && ([\"-0\", \"-0.\"].indexOf(stringified()) >= 0))\n                     return;\n                 if ([\"null\", \"\"].indexOf(str) >= 0)\n                     return;\n                stringified(str);\n            });\n            ko.applyBindingsToNode(\n                element,\n                {\n                    value: stringified,\n                    valueUpdate: allBindings.get('valueUpdate'),\n                },\n                context,\n            );\n        }\n    };\n    var json_data = {\"formatted_vals\":[\"1.0\",\"1.2\",\"1.4\",\"1.6\",\"1.8\",\"2.0\",\"2.2\",\"2.4\",\"2.6\",\"2.8\",\"3.0\",\"3.2\",\"3.4\",\"3.6\",\"3.8\",\"4.0\",\"4.2\",\"4.4\",\"4.6\",\"4.8\",\"5.0\",\"5.2\",\"5.4\",\"5.6\",\"5.8\",\"6.0\",\"6.2\",\"6.4\",\"6.6\",\"6.8\",\"7.0\",\"7.2\",\"7.4\",\"7.6\",\"7.8\",\"8.0\",\"8.2\",\"8.4\",\"8.6\",\"8.8\",\"9.0\",\"9.2\",\"9.4\",\"9.6\",\"9.8\",\"10.0\"],\"changes\":WebIO.getval({\"name\":\"changes\",\"scope\":\"5584364319559300298\",\"id\":\"ob_21\",\"type\":\"observable\"}),\"index\":WebIO.getval({\"name\":\"index\",\"scope\":\"5584364319559300298\",\"id\":\"ob_20\",\"type\":\"observable\"})};\n    var self = this;\n    function AppViewModel() {\n        for (var key in json_data) {\n            var el = json_data[key];\n            this[key] = Array.isArray(el) ? ko.observableArray(el) : ko.observable(el);\n        }\n        \n        [this[\"formatted_val\"]=ko.computed(    function(){\n        return this.formatted_vals()[parseInt(this.index())-(1)];\n    }\n,this)]\n        [this[\"changes\"].subscribe((function (val){!(this.valueFromJulia[\"changes\"]) ? (WebIO.setval({\"name\":\"changes\",\"scope\":\"5584364319559300298\",\"id\":\"ob_21\",\"type\":\"observable\"},val)) : undefined; return this.valueFromJulia[\"changes\"]=false}),self),this[\"index\"].subscribe((function (val){!(this.valueFromJulia[\"index\"]) ? (WebIO.setval({\"name\":\"index\",\"scope\":\"5584364319559300298\",\"id\":\"ob_20\",\"type\":\"observable\"},val)) : undefined; return this.valueFromJulia[\"index\"]=false}),self)]\n        \n    }\n    self.model = new AppViewModel();\n    self.valueFromJulia = {};\n    for (var key in json_data) {\n        self.valueFromJulia[key] = false;\n    }\n    ko.applyBindings(self.model, self.dom);\n}\n);\n    (WebIO.importBlock({\"data\":[{\"name\":\"knockout\",\"type\":\"js\",\"url\":\"/assetserver/bf3e344bbbe45b806bbda88c6101232eb1f7318f-knockout.js\"},{\"name\":\"knockout_punches\",\"type\":\"js\",\"url\":\"/assetserver/3ad363ca1664d7335dff0eabc7ebe7d829397430-knockout_punches.js\"}],\"type\":\"async_block\"})).then((imports) => handler.apply(this, imports));\n}\n"
            ],
            "observables": {
             "changes": {
              "id": "ob_21",
              "sync": false,
              "value": 0
             },
             "index": {
              "id": "ob_20",
              "sync": true,
              "value": 23
             }
            },
            "systemjs_options": null
           },
           "nodeType": "Scope",
           "props": {},
           "type": "node"
          }
         ],
         "instanceArgs": {
          "namespace": "html",
          "tag": "div"
         },
         "nodeType": "DOM",
         "props": {
          "className": "field interact-widget"
         },
         "type": "node"
        },
        {
         "children": [
          {
           "children": [],
           "instanceArgs": {
            "id": "ob_27",
            "name": "obs-node"
           },
           "nodeType": "ObservableNode",
           "props": {},
           "type": "node"
          }
         ],
         "instanceArgs": {
          "handlers": {},
          "id": "9221338890884834222",
          "imports": {
           "data": [],
           "type": "async_block"
          },
          "mount_callbacks": [],
          "observables": {
           "obs-node": {
            "id": "ob_27",
            "sync": false,
            "value": {
             "children": [
              {
               "children": [],
               "instanceArgs": {
                "namespace": "html",
                "tag": "div"
               },
               "nodeType": "DOM",
               "props": {
                "setInnerHtml": "<?xml version=\"1.0\" encoding=\"utf-8\"?>\n<svg xmlns=\"http://www.w3.org/2000/svg\" xmlns:xlink=\"http://www.w3.org/1999/xlink\" width=\"800\" height=\"500\" viewBox=\"0 0 3200 2000\">\n<defs>\n  <clipPath id=\"clip6400\">\n    <rect x=\"0\" y=\"0\" width=\"3200\" height=\"2000\"/>\n  </clipPath>\n</defs>\n<polygon clip-path=\"url(#clip6400)\" points=\"\n0,2000 3200,2000 3200,0 0,0 \n  \" fill=\"#ffffff\" fill-rule=\"evenodd\" fill-opacity=\"1\"/>\n<defs>\n  <clipPath id=\"clip6401\">\n    <rect x=\"640\" y=\"0\" width=\"2241\" height=\"2000\"/>\n  </clipPath>\n</defs>\n<polygon clip-path=\"url(#clip6400)\" points=\"\n161.898,1885.57 3152.76,1885.57 3152.76,47.2441 161.898,47.2441 \n  \" fill=\"#ffffff\" fill-rule=\"evenodd\" fill-opacity=\"1\"/>\n<defs>\n  <clipPath id=\"clip6402\">\n    <rect x=\"161\" y=\"47\" width=\"2992\" height=\"1839\"/>\n  </clipPath>\n</defs>\n<polyline clip-path=\"url(#clip6402)\" style=\"stroke:#000000; stroke-width:2; stroke-opacity:0.1; fill:none\" points=\"\n  161.898,1885.57 161.898,47.2441 \n  \"/>\n<polyline clip-path=\"url(#clip6402)\" style=\"stroke:#000000; stroke-width:2; stroke-opacity:0.1; fill:none\" points=\"\n  760.07,1885.57 760.07,47.2441 \n  \"/>\n<polyline clip-path=\"url(#clip6402)\" style=\"stroke:#000000; stroke-width:2; stroke-opacity:0.1; fill:none\" points=\"\n  1358.24,1885.57 1358.24,47.2441 \n  \"/>\n<polyline clip-path=\"url(#clip6402)\" style=\"stroke:#000000; stroke-width:2; stroke-opacity:0.1; fill:none\" points=\"\n  1956.41,1885.57 1956.41,47.2441 \n  \"/>\n<polyline clip-path=\"url(#clip6402)\" style=\"stroke:#000000; stroke-width:2; stroke-opacity:0.1; fill:none\" points=\"\n  2554.58,1885.57 2554.58,47.2441 \n  \"/>\n<polyline clip-path=\"url(#clip6402)\" style=\"stroke:#000000; stroke-width:2; stroke-opacity:0.1; fill:none\" points=\"\n  3152.76,1885.57 3152.76,47.2441 \n  \"/>\n<polyline clip-path=\"url(#clip6402)\" style=\"stroke:#000000; stroke-width:2; stroke-opacity:0.1; fill:none\" points=\"\n  161.898,1885.57 3152.76,1885.57 \n  \"/>\n<polyline clip-path=\"url(#clip6402)\" style=\"stroke:#000000; stroke-width:2; stroke-opacity:0.1; fill:none\" points=\"\n  161.898,1517.91 3152.76,1517.91 \n  \"/>\n<polyline clip-path=\"url(#clip6402)\" style=\"stroke:#000000; stroke-width:2; stroke-opacity:0.1; fill:none\" points=\"\n  161.898,1150.24 3152.76,1150.24 \n  \"/>\n<polyline clip-path=\"url(#clip6402)\" style=\"stroke:#000000; stroke-width:2; stroke-opacity:0.1; fill:none\" points=\"\n  161.898,782.575 3152.76,782.575 \n  \"/>\n<polyline clip-path=\"url(#clip6402)\" style=\"stroke:#000000; stroke-width:2; stroke-opacity:0.1; fill:none\" points=\"\n  161.898,414.909 3152.76,414.909 \n  \"/>\n<polyline clip-path=\"url(#clip6402)\" style=\"stroke:#000000; stroke-width:2; stroke-opacity:0.1; fill:none\" points=\"\n  161.898,47.2441 3152.76,47.2441 \n  \"/>\n<polyline clip-path=\"url(#clip6400)\" style=\"stroke:#000000; stroke-width:4; stroke-opacity:1; fill:none\" points=\"\n  161.898,1885.57 3152.76,1885.57 \n  \"/>\n<polyline clip-path=\"url(#clip6400)\" style=\"stroke:#000000; stroke-width:4; stroke-opacity:1; fill:none\" points=\"\n  161.898,1885.57 161.898,47.2441 \n  \"/>\n<polyline clip-path=\"url(#clip6400)\" style=\"stroke:#000000; stroke-width:4; stroke-opacity:1; fill:none\" points=\"\n  161.898,1885.57 161.898,1858 \n  \"/>\n<polyline clip-path=\"url(#clip6400)\" style=\"stroke:#000000; stroke-width:4; stroke-opacity:1; fill:none\" points=\"\n  760.07,1885.57 760.07,1858 \n  \"/>\n<polyline clip-path=\"url(#clip6400)\" style=\"stroke:#000000; stroke-width:4; stroke-opacity:1; fill:none\" points=\"\n  1358.24,1885.57 1358.24,1858 \n  \"/>\n<polyline clip-path=\"url(#clip6400)\" style=\"stroke:#000000; stroke-width:4; stroke-opacity:1; fill:none\" points=\"\n  1956.41,1885.57 1956.41,1858 \n  \"/>\n<polyline clip-path=\"url(#clip6400)\" style=\"stroke:#000000; stroke-width:4; stroke-opacity:1; fill:none\" points=\"\n  2554.58,1885.57 2554.58,1858 \n  \"/>\n<polyline clip-path=\"url(#clip6400)\" style=\"stroke:#000000; stroke-width:4; stroke-opacity:1; fill:none\" points=\"\n  3152.76,1885.57 3152.76,1858 \n  \"/>\n<polyline clip-path=\"url(#clip6400)\" style=\"stroke:#000000; stroke-width:4; stroke-opacity:1; fill:none\" points=\"\n  161.898,1885.57 206.761,1885.57 \n  \"/>\n<polyline clip-path=\"url(#clip6400)\" style=\"stroke:#000000; stroke-width:4; stroke-opacity:1; fill:none\" points=\"\n  161.898,1517.91 206.761,1517.91 \n  \"/>\n<polyline clip-path=\"url(#clip6400)\" style=\"stroke:#000000; stroke-width:4; stroke-opacity:1; fill:none\" points=\"\n  161.898,1150.24 206.761,1150.24 \n  \"/>\n<polyline clip-path=\"url(#clip6400)\" style=\"stroke:#000000; stroke-width:4; stroke-opacity:1; fill:none\" points=\"\n  161.898,782.575 206.761,782.575 \n  \"/>\n<polyline clip-path=\"url(#clip6400)\" style=\"stroke:#000000; stroke-width:4; stroke-opacity:1; fill:none\" points=\"\n  161.898,414.909 206.761,414.909 \n  \"/>\n<polyline clip-path=\"url(#clip6400)\" style=\"stroke:#000000; stroke-width:4; stroke-opacity:1; fill:none\" points=\"\n  161.898,47.2441 206.761,47.2441 \n  \"/>\n<g clip-path=\"url(#clip6400)\">\n<text style=\"fill:#000000; fill-opacity:1; font-family:Arial,Helvetica Neue,Helvetica,sans-serif; font-size:48px; text-anchor:middle;\" transform=\"rotate(0, 161.898, 1943.57)\" x=\"161.898\" y=\"1943.57\">0</text>\n</g>\n<g clip-path=\"url(#clip6400)\">\n<text style=\"fill:#000000; fill-opacity:1; font-family:Arial,Helvetica Neue,Helvetica,sans-serif; font-size:48px; text-anchor:middle;\" transform=\"rotate(0, 760.07, 1943.57)\" x=\"760.07\" y=\"1943.57\">10</text>\n</g>\n<g clip-path=\"url(#clip6400)\">\n<text style=\"fill:#000000; fill-opacity:1; font-family:Arial,Helvetica Neue,Helvetica,sans-serif; font-size:48px; text-anchor:middle;\" transform=\"rotate(0, 1358.24, 1943.57)\" x=\"1358.24\" y=\"1943.57\">20</text>\n</g>\n<g clip-path=\"url(#clip6400)\">\n<text style=\"fill:#000000; fill-opacity:1; font-family:Arial,Helvetica Neue,Helvetica,sans-serif; font-size:48px; text-anchor:middle;\" transform=\"rotate(0, 1956.41, 1943.57)\" x=\"1956.41\" y=\"1943.57\">30</text>\n</g>\n<g clip-path=\"url(#clip6400)\">\n<text style=\"fill:#000000; fill-opacity:1; font-family:Arial,Helvetica Neue,Helvetica,sans-serif; font-size:48px; text-anchor:middle;\" transform=\"rotate(0, 2554.58, 1943.57)\" x=\"2554.58\" y=\"1943.57\">40</text>\n</g>\n<g clip-path=\"url(#clip6400)\">\n<text style=\"fill:#000000; fill-opacity:1; font-family:Arial,Helvetica Neue,Helvetica,sans-serif; font-size:48px; text-anchor:middle;\" transform=\"rotate(0, 3152.76, 1943.57)\" x=\"3152.76\" y=\"1943.57\">50</text>\n</g>\n<g clip-path=\"url(#clip6400)\">\n<text style=\"fill:#000000; fill-opacity:1; font-family:Arial,Helvetica Neue,Helvetica,sans-serif; font-size:48px; text-anchor:end;\" transform=\"rotate(0, 129.898, 1903.07)\" x=\"129.898\" y=\"1903.07\">0.0</text>\n</g>\n<g clip-path=\"url(#clip6400)\">\n<text style=\"fill:#000000; fill-opacity:1; font-family:Arial,Helvetica Neue,Helvetica,sans-serif; font-size:48px; text-anchor:end;\" transform=\"rotate(0, 129.898, 1535.41)\" x=\"129.898\" y=\"1535.41\">0.2</text>\n</g>\n<g clip-path=\"url(#clip6400)\">\n<text style=\"fill:#000000; fill-opacity:1; font-family:Arial,Helvetica Neue,Helvetica,sans-serif; font-size:48px; text-anchor:end;\" transform=\"rotate(0, 129.898, 1167.74)\" x=\"129.898\" y=\"1167.74\">0.4</text>\n</g>\n<g clip-path=\"url(#clip6400)\">\n<text style=\"fill:#000000; fill-opacity:1; font-family:Arial,Helvetica Neue,Helvetica,sans-serif; font-size:48px; text-anchor:end;\" transform=\"rotate(0, 129.898, 800.075)\" x=\"129.898\" y=\"800.075\">0.6</text>\n</g>\n<g clip-path=\"url(#clip6400)\">\n<text style=\"fill:#000000; fill-opacity:1; font-family:Arial,Helvetica Neue,Helvetica,sans-serif; font-size:48px; text-anchor:end;\" transform=\"rotate(0, 129.898, 432.409)\" x=\"129.898\" y=\"432.409\">0.8</text>\n</g>\n<g clip-path=\"url(#clip6400)\">\n<text style=\"fill:#000000; fill-opacity:1; font-family:Arial,Helvetica Neue,Helvetica,sans-serif; font-size:48px; text-anchor:end;\" transform=\"rotate(0, 129.898, 64.7441)\" x=\"129.898\" y=\"64.7441\">1.0</text>\n</g>\n<circle clip-path=\"url(#clip6402)\" style=\"fill:#000000; stroke:none; fill-opacity:0.5\" cx=\"221.715\" cy=\"472.913\" r=\"18\"/>\n<circle clip-path=\"url(#clip6402)\" style=\"fill:#000000; stroke:none; fill-opacity:0.5\" cx=\"221.715\" cy=\"472.913\" r=\"14\"/>\n<circle clip-path=\"url(#clip6402)\" style=\"fill:#000000; stroke:none; fill-opacity:0.5\" cx=\"281.532\" cy=\"156.597\" r=\"18\"/>\n<circle clip-path=\"url(#clip6402)\" style=\"fill:#000000; stroke:none; fill-opacity:0.5\" cx=\"281.532\" cy=\"156.597\" r=\"14\"/>\n<circle clip-path=\"url(#clip6402)\" style=\"fill:#000000; stroke:none; fill-opacity:0.5\" cx=\"341.349\" cy=\"646.614\" r=\"18\"/>\n<circle clip-path=\"url(#clip6402)\" style=\"fill:#000000; stroke:none; fill-opacity:0.5\" cx=\"341.349\" cy=\"646.614\" r=\"14\"/>\n<circle clip-path=\"url(#clip6402)\" style=\"fill:#000000; stroke:none; fill-opacity:0.5\" cx=\"401.167\" cy=\"1158.6\" r=\"18\"/>\n<circle clip-path=\"url(#clip6402)\" style=\"fill:#000000; stroke:none; fill-opacity:0.5\" cx=\"401.167\" cy=\"1158.6\" r=\"14\"/>\n<circle clip-path=\"url(#clip6402)\" style=\"fill:#000000; stroke:none; fill-opacity:0.5\" cx=\"460.984\" cy=\"1309.73\" r=\"18\"/>\n<circle clip-path=\"url(#clip6402)\" style=\"fill:#000000; stroke:none; fill-opacity:0.5\" cx=\"460.984\" cy=\"1309.73\" r=\"14\"/>\n<circle clip-path=\"url(#clip6402)\" style=\"fill:#000000; stroke:none; fill-opacity:0.5\" cx=\"520.801\" cy=\"667.579\" r=\"18\"/>\n<circle clip-path=\"url(#clip6402)\" style=\"fill:#000000; stroke:none; fill-opacity:0.5\" cx=\"520.801\" cy=\"667.579\" r=\"14\"/>\n<circle clip-path=\"url(#clip6402)\" style=\"fill:#000000; stroke:none; fill-opacity:0.5\" cx=\"580.618\" cy=\"808.271\" r=\"18\"/>\n<circle clip-path=\"url(#clip6402)\" style=\"fill:#000000; stroke:none; fill-opacity:0.5\" cx=\"580.618\" cy=\"808.271\" r=\"14\"/>\n<circle clip-path=\"url(#clip6402)\" style=\"fill:#000000; stroke:none; fill-opacity:0.5\" cx=\"640.435\" cy=\"1789.73\" r=\"18\"/>\n<circle clip-path=\"url(#clip6402)\" style=\"fill:#000000; stroke:none; fill-opacity:0.5\" cx=\"640.435\" cy=\"1789.73\" r=\"14\"/>\n<circle clip-path=\"url(#clip6402)\" style=\"fill:#000000; stroke:none; fill-opacity:0.5\" cx=\"700.252\" cy=\"1391.72\" r=\"18\"/>\n<circle clip-path=\"url(#clip6402)\" style=\"fill:#000000; stroke:none; fill-opacity:0.5\" cx=\"700.252\" cy=\"1391.72\" r=\"14\"/>\n<circle clip-path=\"url(#clip6402)\" style=\"fill:#000000; stroke:none; fill-opacity:0.5\" cx=\"760.07\" cy=\"1685.43\" r=\"18\"/>\n<circle clip-path=\"url(#clip6402)\" style=\"fill:#000000; stroke:none; fill-opacity:0.5\" cx=\"760.07\" cy=\"1685.43\" r=\"14\"/>\n<circle clip-path=\"url(#clip6402)\" style=\"fill:#000000; stroke:none; fill-opacity:0.5\" cx=\"819.887\" cy=\"1584.7\" r=\"18\"/>\n<circle clip-path=\"url(#clip6402)\" style=\"fill:#000000; stroke:none; fill-opacity:0.5\" cx=\"819.887\" cy=\"1584.7\" r=\"14\"/>\n<circle clip-path=\"url(#clip6402)\" style=\"fill:#000000; stroke:none; fill-opacity:0.5\" cx=\"879.704\" cy=\"1016.01\" r=\"18\"/>\n<circle clip-path=\"url(#clip6402)\" style=\"fill:#000000; stroke:none; fill-opacity:0.5\" cx=\"879.704\" cy=\"1016.01\" r=\"14\"/>\n<circle clip-path=\"url(#clip6402)\" style=\"fill:#000000; stroke:none; fill-opacity:0.5\" cx=\"939.521\" cy=\"294.661\" r=\"18\"/>\n<circle clip-path=\"url(#clip6402)\" style=\"fill:#000000; stroke:none; fill-opacity:0.5\" cx=\"939.521\" cy=\"294.661\" r=\"14\"/>\n<circle clip-path=\"url(#clip6402)\" style=\"fill:#000000; stroke:none; fill-opacity:0.5\" cx=\"999.338\" cy=\"750.419\" r=\"18\"/>\n<circle clip-path=\"url(#clip6402)\" style=\"fill:#000000; stroke:none; fill-opacity:0.5\" cx=\"999.338\" cy=\"750.419\" r=\"14\"/>\n<circle clip-path=\"url(#clip6402)\" style=\"fill:#000000; stroke:none; fill-opacity:0.5\" cx=\"1059.16\" cy=\"1360.36\" r=\"18\"/>\n<circle clip-path=\"url(#clip6402)\" style=\"fill:#000000; stroke:none; fill-opacity:0.5\" cx=\"1059.16\" cy=\"1360.36\" r=\"14\"/>\n<circle clip-path=\"url(#clip6402)\" style=\"fill:#000000; stroke:none; fill-opacity:0.5\" cx=\"1118.97\" cy=\"1032.87\" r=\"18\"/>\n<circle clip-path=\"url(#clip6402)\" style=\"fill:#000000; stroke:none; fill-opacity:0.5\" cx=\"1118.97\" cy=\"1032.87\" r=\"14\"/>\n<circle clip-path=\"url(#clip6402)\" style=\"fill:#000000; stroke:none; fill-opacity:0.5\" cx=\"1178.79\" cy=\"1378.52\" r=\"18\"/>\n<circle clip-path=\"url(#clip6402)\" style=\"fill:#000000; stroke:none; fill-opacity:0.5\" cx=\"1178.79\" cy=\"1378.52\" r=\"14\"/>\n<circle clip-path=\"url(#clip6402)\" style=\"fill:#000000; stroke:none; fill-opacity:0.5\" cx=\"1238.61\" cy=\"1064.63\" r=\"18\"/>\n<circle clip-path=\"url(#clip6402)\" style=\"fill:#000000; stroke:none; fill-opacity:0.5\" cx=\"1238.61\" cy=\"1064.63\" r=\"14\"/>\n<circle clip-path=\"url(#clip6402)\" style=\"fill:#000000; stroke:none; fill-opacity:0.5\" cx=\"1298.42\" cy=\"815.08\" r=\"18\"/>\n<circle clip-path=\"url(#clip6402)\" style=\"fill:#000000; stroke:none; fill-opacity:0.5\" cx=\"1298.42\" cy=\"815.08\" r=\"14\"/>\n<circle clip-path=\"url(#clip6402)\" style=\"fill:#000000; stroke:none; fill-opacity:0.5\" cx=\"1358.24\" cy=\"1414.99\" r=\"18\"/>\n<circle clip-path=\"url(#clip6402)\" style=\"fill:#000000; stroke:none; fill-opacity:0.5\" cx=\"1358.24\" cy=\"1414.99\" r=\"14\"/>\n<circle clip-path=\"url(#clip6402)\" style=\"fill:#000000; stroke:none; fill-opacity:0.5\" cx=\"1418.06\" cy=\"587.969\" r=\"18\"/>\n<circle clip-path=\"url(#clip6402)\" style=\"fill:#000000; stroke:none; fill-opacity:0.5\" cx=\"1418.06\" cy=\"587.969\" r=\"14\"/>\n<circle clip-path=\"url(#clip6402)\" style=\"fill:#000000; stroke:none; fill-opacity:0.5\" cx=\"1477.88\" cy=\"1348.82\" r=\"18\"/>\n<circle clip-path=\"url(#clip6402)\" style=\"fill:#000000; stroke:none; fill-opacity:0.5\" cx=\"1477.88\" cy=\"1348.82\" r=\"14\"/>\n<circle clip-path=\"url(#clip6402)\" style=\"fill:#000000; stroke:none; fill-opacity:0.5\" cx=\"1537.69\" cy=\"1368.88\" r=\"18\"/>\n<circle clip-path=\"url(#clip6402)\" style=\"fill:#000000; stroke:none; fill-opacity:0.5\" cx=\"1537.69\" cy=\"1368.88\" r=\"14\"/>\n<circle clip-path=\"url(#clip6402)\" style=\"fill:#000000; stroke:none; fill-opacity:0.5\" cx=\"1597.51\" cy=\"427.904\" r=\"18\"/>\n<circle clip-path=\"url(#clip6402)\" style=\"fill:#000000; stroke:none; fill-opacity:0.5\" cx=\"1597.51\" cy=\"427.904\" r=\"14\"/>\n<circle clip-path=\"url(#clip6402)\" style=\"fill:#000000; stroke:none; fill-opacity:0.5\" cx=\"1657.33\" cy=\"1500.94\" r=\"18\"/>\n<circle clip-path=\"url(#clip6402)\" style=\"fill:#000000; stroke:none; fill-opacity:0.5\" cx=\"1657.33\" cy=\"1500.94\" r=\"14\"/>\n<polyline clip-path=\"url(#clip6402)\" style=\"stroke:#000000; stroke-width:21.6; stroke-opacity:1; fill:none\" points=\"\n  165.549,1773.44 169.2,1661.72 172.851,1550.83 176.502,1441.2 184.942,1194.77 193.382,962.062 201.821,747.713 210.261,555.978 218.701,390.667 227.141,255.067 \n  235.58,151.87 244.02,83.1296 252.46,50.2108 260.899,53.768 269.339,93.7305 277.779,169.304 286.219,278.987 294.658,420.599 303.098,591.326 311.538,787.775 \n  321.682,1052.38 331.826,1340.89 341.97,1645.03 352.113,1956.06 362.257,2265.08 372.401,2563.2 382.545,2841.89 392.689,3093.14 401.265,3278.8 409.842,3435.87 \n  418.418,3561.13 426.995,3652 435.571,3706.62 444.148,3723.86 452.724,3703.38 461.301,3645.6 470.617,3541.95 479.934,3398.21 489.25,3217.85 498.567,3005.24 \n  517.2,2504.49 535.833,1944.18 553.011,1421.35 570.189,936.54 578.778,721.016 587.367,529.461 595.956,365.818 604.545,233.454 613.753,129.374 622.961,66.8296 \n  632.17,47.3006 641.378,71.2484 650.586,138.107 659.795,246.294 664.399,315.124 669.003,393.253 673.607,480.218 678.211,575.506 688.88,825.084 699.549,1108.31 \n  710.217,1416.19 720.886,1738.97 731.555,2066.4 742.223,2388.09 752.892,2693.83 763.561,2973.94 773.042,3194.13 782.523,3381.53 792.004,3531.42 801.485,3640.04 \n  810.966,3704.68 820.448,3723.72 829.929,3696.68 839.41,3624.23 847.724,3524.73 856.038,3393.63 864.352,3233.44 872.666,3047.25 889.294,2611.67 905.922,2120.35 \n  924.051,1565.48 942.181,1039.79 951.245,803.084 960.31,591.192 969.374,408.966 978.439,260.584 987.557,148.903 996.676,77.4996 1005.79,48.0299 1014.91,61.1774 \n  1024.03,116.637 1033.15,213.123 1037.71,276.087 1042.27,348.397 1046.83,429.633 1051.39,519.322 1061.47,744.999 1071.55,1003 1081.63,1286.01 1091.71,1586.01 \n  1111.88,2202.74 1132.04,2783.77 1141.63,3028.36 1151.22,3243.62 1160.82,3424.03 1170.41,3564.97 1180,3662.81 1189.59,3715.05 1194.39,3723.6 1199.19,3720.34 \n  1203.98,3705.29 1208.78,3678.55 1213.77,3638.53 1218.75,3586.33 1223.74,3522.32 1228.73,3446.94 1238.7,3264.24 1248.67,3043.3 1258.65,2790.25 1268.62,2512.1 \n  1278.6,2216.58 1288.57,1911.87 1305.36,1401.59 1322.15,929.206 1330.55,718.975 1338.94,531.688 1347.34,371.03 1355.74,240.16 1360.86,176.041 1365.99,124.464 \n  1371.11,85.808 1376.24,60.3564 1381.36,48.2958 1386.49,49.7149 1391.61,64.6033 1396.74,92.8516 1406.99,188.503 1417.24,333.866 1422.36,423.914 1427.49,524.685 \n  1432.61,635.44 1437.74,755.367 1457.01,1272.58 1476.28,1852.87 1495.55,2436.52 1514.82,2963.48 1522.54,3146.14 1530.26,3307.84 1537.98,3445.89 1545.7,3558 \n  1553.42,3642.3 1561.14,3697.39 1568.85,3722.35 1576.57,3716.78 1584.29,3680.75 1592.01,3614.88 1599.73,3520.26 1607.45,3398.45 1615.17,3251.49 1622.88,3081.82 \n  1630.6,2892.26 1638.32,2685.96 1643.07,2552.12 1647.82,2414.07 1652.58,2272.69 \n  \"/>\n<polygon clip-path=\"url(#clip6400)\" points=\"\n2685.93,360.204 3056.76,360.204 3056.76,178.764 2685.93,178.764 \n  \" fill=\"#ffffff\" fill-rule=\"evenodd\" fill-opacity=\"1\"/>\n<polyline clip-path=\"url(#clip6400)\" style=\"stroke:#000000; stroke-width:4; stroke-opacity:1; fill:none\" points=\"\n  2685.93,360.204 3056.76,360.204 3056.76,178.764 2685.93,178.764 2685.93,360.204 \n  \"/>\n<circle clip-path=\"url(#clip6400)\" style=\"fill:#000000; stroke:none; fill-opacity:0.5\" cx=\"2829.93\" cy=\"239.244\" r=\"25\"/>\n<circle clip-path=\"url(#clip6400)\" style=\"fill:#000000; stroke:none; fill-opacity:0.5\" cx=\"2829.93\" cy=\"239.244\" r=\"21\"/>\n<g clip-path=\"url(#clip6400)\">\n<text style=\"fill:#000000; fill-opacity:1; font-family:Arial,Helvetica Neue,Helvetica,sans-serif; font-size:48px; text-anchor:start;\" transform=\"rotate(0, 2941.93, 256.744)\" x=\"2941.93\" y=\"256.744\">y1</text>\n</g>\n<polyline clip-path=\"url(#clip6400)\" style=\"stroke:#000000; stroke-width:21.6; stroke-opacity:1; fill:none\" points=\"\n  2717.93,299.724 2909.93,299.724 \n  \"/>\n<g clip-path=\"url(#clip6400)\">\n<text style=\"fill:#000000; fill-opacity:1; font-family:Arial,Helvetica Neue,Helvetica,sans-serif; font-size:48px; text-anchor:start;\" transform=\"rotate(0, 2941.93, 317.224)\" x=\"2941.93\" y=\"317.224\">y2</text>\n</g>\n</svg>\n"
               },
               "type": "node"
              }
             ],
             "instanceArgs": {
              "namespace": "html",
              "tag": "div"
             },
             "nodeType": "DOM",
             "props": {
              "className": "interact-flex-row interact-widget"
             },
             "type": "node"
            }
           }
          },
          "systemjs_options": null
         },
         "nodeType": "Scope",
         "props": {},
         "type": "node"
        }
       ],
       "instanceArgs": {
        "namespace": "html",
        "tag": "div"
       },
       "nodeType": "DOM",
       "props": {},
       "type": "node"
      },
      "text/html": [
       "<div\n",
       "    class=\"webio-mountpoint\"\n",
       "    data-webio-mountpoint=\"18267985515607794011\"\n",
       ">\n",
       "    <script>\n",
       "    if (window.require && require.defined && require.defined(\"nbextensions/webio-jupyter-notebook\")) {\n",
       "        console.log(\"Jupyter WebIO extension detected, not mounting.\");\n",
       "    } else if (window.WebIO) {\n",
       "        WebIO.mount(\n",
       "            document.querySelector('[data-webio-mountpoint=\"18267985515607794011\"]'),\n",
       "            {\"props\":{},\"nodeType\":\"DOM\",\"type\":\"node\",\"instanceArgs\":{\"namespace\":\"html\",\"tag\":\"div\"},\"children\":[{\"props\":{\"className\":\"field interact-widget\"},\"nodeType\":\"DOM\",\"type\":\"node\",\"instanceArgs\":{\"namespace\":\"html\",\"tag\":\"div\"},\"children\":[{\"props\":{},\"nodeType\":\"Scope\",\"type\":\"node\",\"instanceArgs\":{\"imports\":{\"data\":[{\"name\":\"knockout\",\"type\":\"js\",\"url\":\"\\/assetserver\\/bf3e344bbbe45b806bbda88c6101232eb1f7318f-knockout.js\"},{\"name\":\"knockout_punches\",\"type\":\"js\",\"url\":\"\\/assetserver\\/3ad363ca1664d7335dff0eabc7ebe7d829397430-knockout_punches.js\"},{\"name\":null,\"type\":\"js\",\"url\":\"\\/assetserver\\/c17843d82807177c96402335f7810c38fb70de05-all.js\"},{\"name\":null,\"type\":\"css\",\"url\":\"\\/assetserver\\/cf9b1ef11d5ef7ab3ff5a3942d24ca77dcb679d2-style.css\"},{\"name\":null,\"type\":\"css\",\"url\":\"\\/assetserver\\/c591c2d5f890a3e4541fd6b806094298d3ec794b-bulma_confined.min.css\"}],\"type\":\"async_block\"},\"id\":\"17009662384221209456\",\"handlers\":{\"changes\":[\"(function (val){return (val!=this.model[\\\"changes\\\"]()) ? (this.valueFromJulia[\\\"changes\\\"]=true, this.model[\\\"changes\\\"](val)) : undefined})\"],\"index\":[\"(function (val){return (val!=this.model[\\\"index\\\"]()) ? (this.valueFromJulia[\\\"index\\\"]=true, this.model[\\\"index\\\"](val)) : undefined})\"]},\"systemjs_options\":null,\"mount_callbacks\":[\"function () {\\n    var handler = (function (ko, koPunches) {\\n    ko.punches.enableAll();\\n    ko.bindingHandlers.numericValue = {\\n        init: function(element, valueAccessor, allBindings, data, context) {\\n            var stringified = ko.observable(ko.unwrap(valueAccessor()));\\n            stringified.subscribe(function(value) {\\n                var val = parseFloat(value);\\n                if (!isNaN(val)) {\\n                    valueAccessor()(val);\\n                }\\n            });\\n            valueAccessor().subscribe(function(value) {\\n                var str = JSON.stringify(value);\\n                if ((str == \\\"0\\\") && ([\\\"-0\\\", \\\"-0.\\\"].indexOf(stringified()) >= 0))\\n                     return;\\n                 if ([\\\"null\\\", \\\"\\\"].indexOf(str) >= 0)\\n                     return;\\n                stringified(str);\\n            });\\n            ko.applyBindingsToNode(\\n                element,\\n                {\\n                    value: stringified,\\n                    valueUpdate: allBindings.get('valueUpdate'),\\n                },\\n                context,\\n            );\\n        }\\n    };\\n    var json_data = {\\\"formatted_vals\\\":[\\\"1\\\",\\\"2\\\",\\\"3\\\",\\\"4\\\",\\\"5\\\",\\\"6\\\",\\\"7\\\",\\\"8\\\",\\\"9\\\",\\\"10\\\",\\\"11\\\",\\\"12\\\",\\\"13\\\",\\\"14\\\",\\\"15\\\",\\\"16\\\",\\\"17\\\",\\\"18\\\",\\\"19\\\",\\\"20\\\",\\\"21\\\",\\\"22\\\",\\\"23\\\",\\\"24\\\",\\\"25\\\",\\\"26\\\",\\\"27\\\",\\\"28\\\",\\\"29\\\",\\\"30\\\",\\\"31\\\",\\\"32\\\",\\\"33\\\",\\\"34\\\",\\\"35\\\",\\\"36\\\",\\\"37\\\",\\\"38\\\",\\\"39\\\",\\\"40\\\",\\\"41\\\",\\\"42\\\",\\\"43\\\",\\\"44\\\",\\\"45\\\",\\\"46\\\",\\\"47\\\",\\\"48\\\",\\\"49\\\",\\\"50\\\"],\\\"changes\\\":WebIO.getval({\\\"name\\\":\\\"changes\\\",\\\"scope\\\":\\\"17009662384221209456\\\",\\\"id\\\":\\\"ob_13\\\",\\\"type\\\":\\\"observable\\\"}),\\\"index\\\":WebIO.getval({\\\"name\\\":\\\"index\\\",\\\"scope\\\":\\\"17009662384221209456\\\",\\\"id\\\":\\\"ob_12\\\",\\\"type\\\":\\\"observable\\\"})};\\n    var self = this;\\n    function AppViewModel() {\\n        for (var key in json_data) {\\n            var el = json_data[key];\\n            this[key] = Array.isArray(el) ? ko.observableArray(el) : ko.observable(el);\\n        }\\n        \\n        [this[\\\"formatted_val\\\"]=ko.computed(    function(){\\n        return this.formatted_vals()[parseInt(this.index())-(1)];\\n    }\\n,this)]\\n        [this[\\\"changes\\\"].subscribe((function (val){!(this.valueFromJulia[\\\"changes\\\"]) ? (WebIO.setval({\\\"name\\\":\\\"changes\\\",\\\"scope\\\":\\\"17009662384221209456\\\",\\\"id\\\":\\\"ob_13\\\",\\\"type\\\":\\\"observable\\\"},val)) : undefined; return this.valueFromJulia[\\\"changes\\\"]=false}),self),this[\\\"index\\\"].subscribe((function (val){!(this.valueFromJulia[\\\"index\\\"]) ? (WebIO.setval({\\\"name\\\":\\\"index\\\",\\\"scope\\\":\\\"17009662384221209456\\\",\\\"id\\\":\\\"ob_12\\\",\\\"type\\\":\\\"observable\\\"},val)) : undefined; return this.valueFromJulia[\\\"index\\\"]=false}),self)]\\n        \\n    }\\n    self.model = new AppViewModel();\\n    self.valueFromJulia = {};\\n    for (var key in json_data) {\\n        self.valueFromJulia[key] = false;\\n    }\\n    ko.applyBindings(self.model, self.dom);\\n}\\n);\\n    (WebIO.importBlock({\\\"data\\\":[{\\\"name\\\":\\\"knockout\\\",\\\"type\\\":\\\"js\\\",\\\"url\\\":\\\"\\/assetserver\\/bf3e344bbbe45b806bbda88c6101232eb1f7318f-knockout.js\\\"},{\\\"name\\\":\\\"knockout_punches\\\",\\\"type\\\":\\\"js\\\",\\\"url\\\":\\\"\\/assetserver\\/3ad363ca1664d7335dff0eabc7ebe7d829397430-knockout_punches.js\\\"}],\\\"type\\\":\\\"async_block\\\"})).then((imports) => handler.apply(this, imports));\\n}\\n\"],\"observables\":{\"changes\":{\"sync\":false,\"id\":\"ob_13\",\"value\":0},\"index\":{\"sync\":true,\"id\":\"ob_12\",\"value\":25}}},\"children\":[{\"props\":{\"className\":\"interact-flex-row interact-widget\"},\"nodeType\":\"DOM\",\"type\":\"node\",\"instanceArgs\":{\"namespace\":\"html\",\"tag\":\"div\"},\"children\":[{\"props\":{\"className\":\"interact-flex-row-left\"},\"nodeType\":\"DOM\",\"type\":\"node\",\"instanceArgs\":{\"namespace\":\"html\",\"tag\":\"div\"},\"children\":[{\"props\":{\"className\":\"interact \",\"style\":{\"padding\":\"5px 10px 0px 10px\"}},\"nodeType\":\"DOM\",\"type\":\"node\",\"instanceArgs\":{\"namespace\":\"html\",\"tag\":\"label\"},\"children\":[\"i\"]}]},{\"props\":{\"className\":\"interact-flex-row-center\"},\"nodeType\":\"DOM\",\"type\":\"node\",\"instanceArgs\":{\"namespace\":\"html\",\"tag\":\"div\"},\"children\":[{\"props\":{\"max\":50,\"min\":1,\"attributes\":{\"type\":\"range\",\"data-bind\":\"numericValue: index, valueUpdate: 'input', event: {change: function (){this.changes(this.changes()+1)}}\",\"orient\":\"horizontal\"},\"step\":1,\"className\":\"slider slider is-fullwidth\",\"style\":{}},\"nodeType\":\"DOM\",\"type\":\"node\",\"instanceArgs\":{\"namespace\":\"html\",\"tag\":\"input\"},\"children\":[]}]},{\"props\":{\"className\":\"interact-flex-row-right\"},\"nodeType\":\"DOM\",\"type\":\"node\",\"instanceArgs\":{\"namespace\":\"html\",\"tag\":\"div\"},\"children\":[{\"props\":{\"attributes\":{\"data-bind\":\"text: formatted_val\"}},\"nodeType\":\"DOM\",\"type\":\"node\",\"instanceArgs\":{\"namespace\":\"html\",\"tag\":\"p\"},\"children\":[]}]}]}]}]},{\"props\":{\"className\":\"interact-widget\"},\"nodeType\":\"DOM\",\"type\":\"node\",\"instanceArgs\":{\"namespace\":\"html\",\"tag\":\"div\"},\"children\":[{\"props\":{},\"nodeType\":\"Scope\",\"type\":\"node\",\"instanceArgs\":{\"imports\":{\"data\":[{\"name\":\"knockout\",\"type\":\"js\",\"url\":\"\\/assetserver\\/bf3e344bbbe45b806bbda88c6101232eb1f7318f-knockout.js\"},{\"name\":\"knockout_punches\",\"type\":\"js\",\"url\":\"\\/assetserver\\/3ad363ca1664d7335dff0eabc7ebe7d829397430-knockout_punches.js\"},{\"name\":null,\"type\":\"js\",\"url\":\"\\/assetserver\\/c17843d82807177c96402335f7810c38fb70de05-all.js\"},{\"name\":null,\"type\":\"css\",\"url\":\"\\/assetserver\\/cf9b1ef11d5ef7ab3ff5a3942d24ca77dcb679d2-style.css\"},{\"name\":null,\"type\":\"css\",\"url\":\"\\/assetserver\\/c591c2d5f890a3e4541fd6b806094298d3ec794b-bulma_confined.min.css\"}],\"type\":\"async_block\"},\"id\":\"2612187668636345745\",\"handlers\":{\"options_js\":[\"(function (val){return (val!=this.model[\\\"options_js\\\"]()) ? (this.valueFromJulia[\\\"options_js\\\"]=true, this.model[\\\"options_js\\\"](val)) : undefined})\"],\"index\":[\"(function (val){return (val!=this.model[\\\"index\\\"]()) ? (this.valueFromJulia[\\\"index\\\"]=true, this.model[\\\"index\\\"](val)) : undefined})\"]},\"systemjs_options\":null,\"mount_callbacks\":[\"function () {\\n    var handler = (function (ko, koPunches) {\\n    ko.punches.enableAll();\\n    ko.bindingHandlers.numericValue = {\\n        init: function(element, valueAccessor, allBindings, data, context) {\\n            var stringified = ko.observable(ko.unwrap(valueAccessor()));\\n            stringified.subscribe(function(value) {\\n                var val = parseFloat(value);\\n                if (!isNaN(val)) {\\n                    valueAccessor()(val);\\n                }\\n            });\\n            valueAccessor().subscribe(function(value) {\\n                var str = JSON.stringify(value);\\n                if ((str == \\\"0\\\") && ([\\\"-0\\\", \\\"-0.\\\"].indexOf(stringified()) >= 0))\\n                     return;\\n                 if ([\\\"null\\\", \\\"\\\"].indexOf(str) >= 0)\\n                     return;\\n                stringified(str);\\n            });\\n            ko.applyBindingsToNode(\\n                element,\\n                {\\n                    value: stringified,\\n                    valueUpdate: allBindings.get('valueUpdate'),\\n                },\\n                context,\\n            );\\n        }\\n    };\\n    var json_data = {\\\"options_js\\\":WebIO.getval({\\\"name\\\":\\\"options_js\\\",\\\"scope\\\":\\\"2612187668636345745\\\",\\\"id\\\":\\\"ob_18\\\",\\\"type\\\":\\\"observable\\\"}),\\\"index\\\":WebIO.getval({\\\"name\\\":\\\"index\\\",\\\"scope\\\":\\\"2612187668636345745\\\",\\\"id\\\":\\\"ob_17\\\",\\\"type\\\":\\\"observable\\\"})};\\n    var self = this;\\n    function AppViewModel() {\\n        for (var key in json_data) {\\n            var el = json_data[key];\\n            this[key] = Array.isArray(el) ? ko.observableArray(el) : ko.observable(el);\\n        }\\n        [this[\\\"update\\\"]=function (val) {this.index(val)}]\\n        \\n        [this[\\\"options_js\\\"].subscribe((function (val){!(this.valueFromJulia[\\\"options_js\\\"]) ? (WebIO.setval({\\\"name\\\":\\\"options_js\\\",\\\"scope\\\":\\\"2612187668636345745\\\",\\\"id\\\":\\\"ob_18\\\",\\\"type\\\":\\\"observable\\\"},val)) : undefined; return this.valueFromJulia[\\\"options_js\\\"]=false}),self),this[\\\"index\\\"].subscribe((function (val){!(this.valueFromJulia[\\\"index\\\"]) ? (WebIO.setval({\\\"name\\\":\\\"index\\\",\\\"scope\\\":\\\"2612187668636345745\\\",\\\"id\\\":\\\"ob_17\\\",\\\"type\\\":\\\"observable\\\"},val)) : undefined; return this.valueFromJulia[\\\"index\\\"]=false}),self)]\\n        \\n    }\\n    self.model = new AppViewModel();\\n    self.valueFromJulia = {};\\n    for (var key in json_data) {\\n        self.valueFromJulia[key] = false;\\n    }\\n    ko.applyBindings(self.model, self.dom);\\n}\\n);\\n    (WebIO.importBlock({\\\"data\\\":[{\\\"name\\\":\\\"knockout\\\",\\\"type\\\":\\\"js\\\",\\\"url\\\":\\\"\\/assetserver\\/bf3e344bbbe45b806bbda88c6101232eb1f7318f-knockout.js\\\"},{\\\"name\\\":\\\"knockout_punches\\\",\\\"type\\\":\\\"js\\\",\\\"url\\\":\\\"\\/assetserver\\/3ad363ca1664d7335dff0eabc7ebe7d829397430-knockout_punches.js\\\"}],\\\"type\\\":\\\"async_block\\\"})).then((imports) => handler.apply(this, imports));\\n}\\n\"],\"observables\":{\"options_js\":{\"sync\":false,\"id\":\"ob_18\",\"value\":[{\"key\":\"black\",\"val\":1,\"id\":\"idL5CsGoBx\"},{\"key\":\"blue\",\"val\":2,\"id\":\"idhRcNkCsr\"},{\"key\":\"green\",\"val\":3,\"id\":\"idtybtwAWu\"},{\"key\":\"red\",\"val\":4,\"id\":\"id8OCFZlDH\"}]},\"index\":{\"sync\":true,\"id\":\"ob_17\",\"value\":1}}},\"children\":[{\"props\":{\"className\":\"interact-flex-row interact-widget\"},\"nodeType\":\"DOM\",\"type\":\"node\",\"instanceArgs\":{\"namespace\":\"html\",\"tag\":\"div\"},\"children\":[{\"props\":{\"className\":\"interact-flex-row-left\"},\"nodeType\":\"DOM\",\"type\":\"node\",\"instanceArgs\":{\"namespace\":\"html\",\"tag\":\"div\"},\"children\":[{\"props\":{\"className\":\"interact \",\"style\":{\"padding\":\"5px 10px 0px 10px\"}},\"nodeType\":\"DOM\",\"type\":\"node\",\"instanceArgs\":{\"namespace\":\"html\",\"tag\":\"label\"},\"children\":[\"color\"]}]},{\"props\":{\"className\":\"interact-flex-row-center\"},\"nodeType\":\"DOM\",\"type\":\"node\",\"instanceArgs\":{\"namespace\":\"html\",\"tag\":\"div\"},\"children\":[{\"props\":{\"attributes\":{\"data-bind\":\"foreach : options_js\"},\"className\":\"buttons has-addons is-centered\"},\"nodeType\":\"DOM\",\"type\":\"node\",\"instanceArgs\":{\"namespace\":\"html\",\"tag\":\"div\"},\"children\":[{\"props\":{\"attributes\":{\"data-bind\":\"click: function (){$root.update(val)}, css: {'is-primary is-selected' : $root.index() == val, 'interact-widget is-medium button ' : true}\"}},\"nodeType\":\"DOM\",\"type\":\"node\",\"instanceArgs\":{\"namespace\":\"html\",\"tag\":\"span\"},\"children\":[{\"props\":{\"attributes\":{\"data-bind\":\"text : key\"}},\"nodeType\":\"DOM\",\"type\":\"node\",\"instanceArgs\":{\"namespace\":\"html\",\"tag\":\"label\"},\"children\":[]}]}]}]},{\"props\":{\"className\":\"interact-flex-row-right\"},\"nodeType\":\"DOM\",\"type\":\"node\",\"instanceArgs\":{\"namespace\":\"html\",\"tag\":\"div\"},\"children\":[{\"props\":{},\"nodeType\":\"DOM\",\"type\":\"node\",\"instanceArgs\":{\"namespace\":\"html\",\"tag\":\"div\"},\"children\":[]}]}]}]}]},{\"props\":{\"className\":\"field interact-widget\"},\"nodeType\":\"DOM\",\"type\":\"node\",\"instanceArgs\":{\"namespace\":\"html\",\"tag\":\"div\"},\"children\":[{\"props\":{},\"nodeType\":\"Scope\",\"type\":\"node\",\"instanceArgs\":{\"imports\":{\"data\":[{\"name\":\"knockout\",\"type\":\"js\",\"url\":\"\\/assetserver\\/bf3e344bbbe45b806bbda88c6101232eb1f7318f-knockout.js\"},{\"name\":\"knockout_punches\",\"type\":\"js\",\"url\":\"\\/assetserver\\/3ad363ca1664d7335dff0eabc7ebe7d829397430-knockout_punches.js\"},{\"name\":null,\"type\":\"js\",\"url\":\"\\/assetserver\\/c17843d82807177c96402335f7810c38fb70de05-all.js\"},{\"name\":null,\"type\":\"css\",\"url\":\"\\/assetserver\\/cf9b1ef11d5ef7ab3ff5a3942d24ca77dcb679d2-style.css\"},{\"name\":null,\"type\":\"css\",\"url\":\"\\/assetserver\\/c591c2d5f890a3e4541fd6b806094298d3ec794b-bulma_confined.min.css\"}],\"type\":\"async_block\"},\"id\":\"5584364319559300298\",\"handlers\":{\"changes\":[\"(function (val){return (val!=this.model[\\\"changes\\\"]()) ? (this.valueFromJulia[\\\"changes\\\"]=true, this.model[\\\"changes\\\"](val)) : undefined})\"],\"index\":[\"(function (val){return (val!=this.model[\\\"index\\\"]()) ? (this.valueFromJulia[\\\"index\\\"]=true, this.model[\\\"index\\\"](val)) : undefined})\"]},\"systemjs_options\":null,\"mount_callbacks\":[\"function () {\\n    var handler = (function (ko, koPunches) {\\n    ko.punches.enableAll();\\n    ko.bindingHandlers.numericValue = {\\n        init: function(element, valueAccessor, allBindings, data, context) {\\n            var stringified = ko.observable(ko.unwrap(valueAccessor()));\\n            stringified.subscribe(function(value) {\\n                var val = parseFloat(value);\\n                if (!isNaN(val)) {\\n                    valueAccessor()(val);\\n                }\\n            });\\n            valueAccessor().subscribe(function(value) {\\n                var str = JSON.stringify(value);\\n                if ((str == \\\"0\\\") && ([\\\"-0\\\", \\\"-0.\\\"].indexOf(stringified()) >= 0))\\n                     return;\\n                 if ([\\\"null\\\", \\\"\\\"].indexOf(str) >= 0)\\n                     return;\\n                stringified(str);\\n            });\\n            ko.applyBindingsToNode(\\n                element,\\n                {\\n                    value: stringified,\\n                    valueUpdate: allBindings.get('valueUpdate'),\\n                },\\n                context,\\n            );\\n        }\\n    };\\n    var json_data = {\\\"formatted_vals\\\":[\\\"1.0\\\",\\\"1.2\\\",\\\"1.4\\\",\\\"1.6\\\",\\\"1.8\\\",\\\"2.0\\\",\\\"2.2\\\",\\\"2.4\\\",\\\"2.6\\\",\\\"2.8\\\",\\\"3.0\\\",\\\"3.2\\\",\\\"3.4\\\",\\\"3.6\\\",\\\"3.8\\\",\\\"4.0\\\",\\\"4.2\\\",\\\"4.4\\\",\\\"4.6\\\",\\\"4.8\\\",\\\"5.0\\\",\\\"5.2\\\",\\\"5.4\\\",\\\"5.6\\\",\\\"5.8\\\",\\\"6.0\\\",\\\"6.2\\\",\\\"6.4\\\",\\\"6.6\\\",\\\"6.8\\\",\\\"7.0\\\",\\\"7.2\\\",\\\"7.4\\\",\\\"7.6\\\",\\\"7.8\\\",\\\"8.0\\\",\\\"8.2\\\",\\\"8.4\\\",\\\"8.6\\\",\\\"8.8\\\",\\\"9.0\\\",\\\"9.2\\\",\\\"9.4\\\",\\\"9.6\\\",\\\"9.8\\\",\\\"10.0\\\"],\\\"changes\\\":WebIO.getval({\\\"name\\\":\\\"changes\\\",\\\"scope\\\":\\\"5584364319559300298\\\",\\\"id\\\":\\\"ob_21\\\",\\\"type\\\":\\\"observable\\\"}),\\\"index\\\":WebIO.getval({\\\"name\\\":\\\"index\\\",\\\"scope\\\":\\\"5584364319559300298\\\",\\\"id\\\":\\\"ob_20\\\",\\\"type\\\":\\\"observable\\\"})};\\n    var self = this;\\n    function AppViewModel() {\\n        for (var key in json_data) {\\n            var el = json_data[key];\\n            this[key] = Array.isArray(el) ? ko.observableArray(el) : ko.observable(el);\\n        }\\n        \\n        [this[\\\"formatted_val\\\"]=ko.computed(    function(){\\n        return this.formatted_vals()[parseInt(this.index())-(1)];\\n    }\\n,this)]\\n        [this[\\\"changes\\\"].subscribe((function (val){!(this.valueFromJulia[\\\"changes\\\"]) ? (WebIO.setval({\\\"name\\\":\\\"changes\\\",\\\"scope\\\":\\\"5584364319559300298\\\",\\\"id\\\":\\\"ob_21\\\",\\\"type\\\":\\\"observable\\\"},val)) : undefined; return this.valueFromJulia[\\\"changes\\\"]=false}),self),this[\\\"index\\\"].subscribe((function (val){!(this.valueFromJulia[\\\"index\\\"]) ? (WebIO.setval({\\\"name\\\":\\\"index\\\",\\\"scope\\\":\\\"5584364319559300298\\\",\\\"id\\\":\\\"ob_20\\\",\\\"type\\\":\\\"observable\\\"},val)) : undefined; return this.valueFromJulia[\\\"index\\\"]=false}),self)]\\n        \\n    }\\n    self.model = new AppViewModel();\\n    self.valueFromJulia = {};\\n    for (var key in json_data) {\\n        self.valueFromJulia[key] = false;\\n    }\\n    ko.applyBindings(self.model, self.dom);\\n}\\n);\\n    (WebIO.importBlock({\\\"data\\\":[{\\\"name\\\":\\\"knockout\\\",\\\"type\\\":\\\"js\\\",\\\"url\\\":\\\"\\/assetserver\\/bf3e344bbbe45b806bbda88c6101232eb1f7318f-knockout.js\\\"},{\\\"name\\\":\\\"knockout_punches\\\",\\\"type\\\":\\\"js\\\",\\\"url\\\":\\\"\\/assetserver\\/3ad363ca1664d7335dff0eabc7ebe7d829397430-knockout_punches.js\\\"}],\\\"type\\\":\\\"async_block\\\"})).then((imports) => handler.apply(this, imports));\\n}\\n\"],\"observables\":{\"changes\":{\"sync\":false,\"id\":\"ob_21\",\"value\":0},\"index\":{\"sync\":true,\"id\":\"ob_20\",\"value\":23}}},\"children\":[{\"props\":{\"className\":\"interact-flex-row interact-widget\"},\"nodeType\":\"DOM\",\"type\":\"node\",\"instanceArgs\":{\"namespace\":\"html\",\"tag\":\"div\"},\"children\":[{\"props\":{\"className\":\"interact-flex-row-left\"},\"nodeType\":\"DOM\",\"type\":\"node\",\"instanceArgs\":{\"namespace\":\"html\",\"tag\":\"div\"},\"children\":[{\"props\":{\"className\":\"interact \",\"style\":{\"padding\":\"5px 10px 0px 10px\"}},\"nodeType\":\"DOM\",\"type\":\"node\",\"instanceArgs\":{\"namespace\":\"html\",\"tag\":\"label\"},\"children\":[\"lw\"]}]},{\"props\":{\"className\":\"interact-flex-row-center\"},\"nodeType\":\"DOM\",\"type\":\"node\",\"instanceArgs\":{\"namespace\":\"html\",\"tag\":\"div\"},\"children\":[{\"props\":{\"max\":46,\"min\":1,\"attributes\":{\"type\":\"range\",\"data-bind\":\"numericValue: index, valueUpdate: 'input', event: {change: function (){this.changes(this.changes()+1)}}\",\"orient\":\"horizontal\"},\"step\":1,\"className\":\"slider slider is-fullwidth\",\"style\":{}},\"nodeType\":\"DOM\",\"type\":\"node\",\"instanceArgs\":{\"namespace\":\"html\",\"tag\":\"input\"},\"children\":[]}]},{\"props\":{\"className\":\"interact-flex-row-right\"},\"nodeType\":\"DOM\",\"type\":\"node\",\"instanceArgs\":{\"namespace\":\"html\",\"tag\":\"div\"},\"children\":[{\"props\":{\"attributes\":{\"data-bind\":\"text: formatted_val\"}},\"nodeType\":\"DOM\",\"type\":\"node\",\"instanceArgs\":{\"namespace\":\"html\",\"tag\":\"p\"},\"children\":[]}]}]}]}]},{\"props\":{},\"nodeType\":\"Scope\",\"type\":\"node\",\"instanceArgs\":{\"imports\":{\"data\":[],\"type\":\"async_block\"},\"id\":\"1877084262497078651\",\"handlers\":{},\"systemjs_options\":null,\"mount_callbacks\":[],\"observables\":{\"obs-node\":{\"sync\":false,\"id\":\"ob_25\",\"value\":{\"props\":{\"className\":\"interact-flex-row interact-widget\"},\"nodeType\":\"DOM\",\"type\":\"node\",\"instanceArgs\":{\"namespace\":\"html\",\"tag\":\"div\"},\"children\":[{\"props\":{\"setInnerHtml\":\"<?xml version=\\\"1.0\\\" encoding=\\\"utf-8\\\"?>\\n<svg xmlns=\\\"http:\\/\\/www.w3.org\\/2000\\/svg\\\" xmlns:xlink=\\\"http:\\/\\/www.w3.org\\/1999\\/xlink\\\" width=\\\"800\\\" height=\\\"500\\\" viewBox=\\\"0 0 3200 2000\\\">\\n<defs>\\n  <clipPath id=\\\"clip6000\\\">\\n    <rect x=\\\"0\\\" y=\\\"0\\\" width=\\\"3200\\\" height=\\\"2000\\\"\\/>\\n  <\\/clipPath>\\n<\\/defs>\\n<polygon clip-path=\\\"url(#clip6000)\\\" points=\\\"\\n0,2000 3200,2000 3200,0 0,0 \\n  \\\" fill=\\\"#ffffff\\\" fill-rule=\\\"evenodd\\\" fill-opacity=\\\"1\\\"\\/>\\n<defs>\\n  <clipPath id=\\\"clip6001\\\">\\n    <rect x=\\\"640\\\" y=\\\"0\\\" width=\\\"2241\\\" height=\\\"2000\\\"\\/>\\n  <\\/clipPath>\\n<\\/defs>\\n<polygon clip-path=\\\"url(#clip6000)\\\" points=\\\"\\n161.898,1854.71 3152.76,1854.71 3152.76,47.2441 161.898,47.2441 \\n  \\\" fill=\\\"#ffffff\\\" fill-rule=\\\"evenodd\\\" fill-opacity=\\\"1\\\"\\/>\\n<defs>\\n  <clipPath id=\\\"clip6002\\\">\\n    <rect x=\\\"161\\\" y=\\\"47\\\" width=\\\"2992\\\" height=\\\"1808\\\"\\/>\\n  <\\/clipPath>\\n<\\/defs>\\n<polyline clip-path=\\\"url(#clip6002)\\\" style=\\\"stroke:#000000; stroke-width:2; stroke-opacity:0.1; fill:none\\\" points=\\\"\\n  161.898,1854.71 161.898,47.2441 \\n  \\\"\\/>\\n<polyline clip-path=\\\"url(#clip6002)\\\" style=\\\"stroke:#000000; stroke-width:2; stroke-opacity:0.1; fill:none\\\" points=\\\"\\n  760.07,1854.71 760.07,47.2441 \\n  \\\"\\/>\\n<polyline clip-path=\\\"url(#clip6002)\\\" style=\\\"stroke:#000000; stroke-width:2; stroke-opacity:0.1; fill:none\\\" points=\\\"\\n  1358.24,1854.71 1358.24,47.2441 \\n  \\\"\\/>\\n<polyline clip-path=\\\"url(#clip6002)\\\" style=\\\"stroke:#000000; stroke-width:2; stroke-opacity:0.1; fill:none\\\" points=\\\"\\n  1956.41,1854.71 1956.41,47.2441 \\n  \\\"\\/>\\n<polyline clip-path=\\\"url(#clip6002)\\\" style=\\\"stroke:#000000; stroke-width:2; stroke-opacity:0.1; fill:none\\\" points=\\\"\\n  2554.58,1854.71 2554.58,47.2441 \\n  \\\"\\/>\\n<polyline clip-path=\\\"url(#clip6002)\\\" style=\\\"stroke:#000000; stroke-width:2; stroke-opacity:0.1; fill:none\\\" points=\\\"\\n  3152.76,1854.71 3152.76,47.2441 \\n  \\\"\\/>\\n<polyline clip-path=\\\"url(#clip6002)\\\" style=\\\"stroke:#000000; stroke-width:2; stroke-opacity:0.1; fill:none\\\" points=\\\"\\n  161.898,1854.71 3152.76,1854.71 \\n  \\\"\\/>\\n<polyline clip-path=\\\"url(#clip6002)\\\" style=\\\"stroke:#000000; stroke-width:2; stroke-opacity:0.1; fill:none\\\" points=\\\"\\n  161.898,1493.22 3152.76,1493.22 \\n  \\\"\\/>\\n<polyline clip-path=\\\"url(#clip6002)\\\" style=\\\"stroke:#000000; stroke-width:2; stroke-opacity:0.1; fill:none\\\" points=\\\"\\n  161.898,1131.72 3152.76,1131.72 \\n  \\\"\\/>\\n<polyline clip-path=\\\"url(#clip6002)\\\" style=\\\"stroke:#000000; stroke-width:2; stroke-opacity:0.1; fill:none\\\" points=\\\"\\n  161.898,770.23 3152.76,770.23 \\n  \\\"\\/>\\n<polyline clip-path=\\\"url(#clip6002)\\\" style=\\\"stroke:#000000; stroke-width:2; stroke-opacity:0.1; fill:none\\\" points=\\\"\\n  161.898,408.737 3152.76,408.737 \\n  \\\"\\/>\\n<polyline clip-path=\\\"url(#clip6002)\\\" style=\\\"stroke:#000000; stroke-width:2; stroke-opacity:0.1; fill:none\\\" points=\\\"\\n  161.898,47.2441 3152.76,47.2441 \\n  \\\"\\/>\\n<polyline clip-path=\\\"url(#clip6000)\\\" style=\\\"stroke:#000000; stroke-width:4; stroke-opacity:1; fill:none\\\" points=\\\"\\n  161.898,1854.71 3152.76,1854.71 \\n  \\\"\\/>\\n<polyline clip-path=\\\"url(#clip6000)\\\" style=\\\"stroke:#000000; stroke-width:4; stroke-opacity:1; fill:none\\\" points=\\\"\\n  161.898,1854.71 161.898,47.2441 \\n  \\\"\\/>\\n<polyline clip-path=\\\"url(#clip6000)\\\" style=\\\"stroke:#000000; stroke-width:4; stroke-opacity:1; fill:none\\\" points=\\\"\\n  161.898,1854.71 161.898,1827.6 \\n  \\\"\\/>\\n<polyline clip-path=\\\"url(#clip6000)\\\" style=\\\"stroke:#000000; stroke-width:4; stroke-opacity:1; fill:none\\\" points=\\\"\\n  760.07,1854.71 760.07,1827.6 \\n  \\\"\\/>\\n<polyline clip-path=\\\"url(#clip6000)\\\" style=\\\"stroke:#000000; stroke-width:4; stroke-opacity:1; fill:none\\\" points=\\\"\\n  1358.24,1854.71 1358.24,1827.6 \\n  \\\"\\/>\\n<polyline clip-path=\\\"url(#clip6000)\\\" style=\\\"stroke:#000000; stroke-width:4; stroke-opacity:1; fill:none\\\" points=\\\"\\n  1956.41,1854.71 1956.41,1827.6 \\n  \\\"\\/>\\n<polyline clip-path=\\\"url(#clip6000)\\\" style=\\\"stroke:#000000; stroke-width:4; stroke-opacity:1; fill:none\\\" points=\\\"\\n  2554.58,1854.71 2554.58,1827.6 \\n  \\\"\\/>\\n<polyline clip-path=\\\"url(#clip6000)\\\" style=\\\"stroke:#000000; stroke-width:4; stroke-opacity:1; fill:none\\\" points=\\\"\\n  3152.76,1854.71 3152.76,1827.6 \\n  \\\"\\/>\\n<polyline clip-path=\\\"url(#clip6000)\\\" style=\\\"stroke:#000000; stroke-width:4; stroke-opacity:1; fill:none\\\" points=\\\"\\n  161.898,1854.71 206.761,1854.71 \\n  \\\"\\/>\\n<polyline clip-path=\\\"url(#clip6000)\\\" style=\\\"stroke:#000000; stroke-width:4; stroke-opacity:1; fill:none\\\" points=\\\"\\n  161.898,1493.22 206.761,1493.22 \\n  \\\"\\/>\\n<polyline clip-path=\\\"url(#clip6000)\\\" style=\\\"stroke:#000000; stroke-width:4; stroke-opacity:1; fill:none\\\" points=\\\"\\n  161.898,1131.72 206.761,1131.72 \\n  \\\"\\/>\\n<polyline clip-path=\\\"url(#clip6000)\\\" style=\\\"stroke:#000000; stroke-width:4; stroke-opacity:1; fill:none\\\" points=\\\"\\n  161.898,770.23 206.761,770.23 \\n  \\\"\\/>\\n<polyline clip-path=\\\"url(#clip6000)\\\" style=\\\"stroke:#000000; stroke-width:4; stroke-opacity:1; fill:none\\\" points=\\\"\\n  161.898,408.737 206.761,408.737 \\n  \\\"\\/>\\n<polyline clip-path=\\\"url(#clip6000)\\\" style=\\\"stroke:#000000; stroke-width:4; stroke-opacity:1; fill:none\\\" points=\\\"\\n  161.898,47.2441 206.761,47.2441 \\n  \\\"\\/>\\n<g clip-path=\\\"url(#clip6000)\\\">\\n<text style=\\\"fill:#000000; fill-opacity:1; font-family:Arial,Helvetica Neue,Helvetica,sans-serif; font-size:48px; text-anchor:middle;\\\" transform=\\\"rotate(0, 161.898, 1912.71)\\\" x=\\\"161.898\\\" y=\\\"1912.71\\\">0<\\/text>\\n<\\/g>\\n<g clip-path=\\\"url(#clip6000)\\\">\\n<text style=\\\"fill:#000000; fill-opacity:1; font-family:Arial,Helvetica Neue,Helvetica,sans-serif; font-size:48px; text-anchor:middle;\\\" transform=\\\"rotate(0, 760.07, 1912.71)\\\" x=\\\"760.07\\\" y=\\\"1912.71\\\">10<\\/text>\\n<\\/g>\\n<g clip-path=\\\"url(#clip6000)\\\">\\n<text style=\\\"fill:#000000; fill-opacity:1; font-family:Arial,Helvetica Neue,Helvetica,sans-serif; font-size:48px; text-anchor:middle;\\\" transform=\\\"rotate(0, 1358.24, 1912.71)\\\" x=\\\"1358.24\\\" y=\\\"1912.71\\\">20<\\/text>\\n<\\/g>\\n<g clip-path=\\\"url(#clip6000)\\\">\\n<text style=\\\"fill:#000000; fill-opacity:1; font-family:Arial,Helvetica Neue,Helvetica,sans-serif; font-size:48px; text-anchor:middle;\\\" transform=\\\"rotate(0, 1956.41, 1912.71)\\\" x=\\\"1956.41\\\" y=\\\"1912.71\\\">30<\\/text>\\n<\\/g>\\n<g clip-path=\\\"url(#clip6000)\\\">\\n<text style=\\\"fill:#000000; fill-opacity:1; font-family:Arial,Helvetica Neue,Helvetica,sans-serif; font-size:48px; text-anchor:middle;\\\" transform=\\\"rotate(0, 2554.58, 1912.71)\\\" x=\\\"2554.58\\\" y=\\\"1912.71\\\">40<\\/text>\\n<\\/g>\\n<g clip-path=\\\"url(#clip6000)\\\">\\n<text style=\\\"fill:#000000; fill-opacity:1; font-family:Arial,Helvetica Neue,Helvetica,sans-serif; font-size:48px; text-anchor:middle;\\\" transform=\\\"rotate(0, 3152.76, 1912.71)\\\" x=\\\"3152.76\\\" y=\\\"1912.71\\\">50<\\/text>\\n<\\/g>\\n<g clip-path=\\\"url(#clip6000)\\\">\\n<text style=\\\"fill:#000000; fill-opacity:1; font-family:Arial,Helvetica Neue,Helvetica,sans-serif; font-size:48px; text-anchor:end;\\\" transform=\\\"rotate(0, 129.898, 1872.21)\\\" x=\\\"129.898\\\" y=\\\"1872.21\\\">0.0<\\/text>\\n<\\/g>\\n<g clip-path=\\\"url(#clip6000)\\\">\\n<text style=\\\"fill:#000000; fill-opacity:1; font-family:Arial,Helvetica Neue,Helvetica,sans-serif; font-size:48px; text-anchor:end;\\\" transform=\\\"rotate(0, 129.898, 1510.72)\\\" x=\\\"129.898\\\" y=\\\"1510.72\\\">0.2<\\/text>\\n<\\/g>\\n<g clip-path=\\\"url(#clip6000)\\\">\\n<text style=\\\"fill:#000000; fill-opacity:1; font-family:Arial,Helvetica Neue,Helvetica,sans-serif; font-size:48px; text-anchor:end;\\\" transform=\\\"rotate(0, 129.898, 1149.22)\\\" x=\\\"129.898\\\" y=\\\"1149.22\\\">0.4<\\/text>\\n<\\/g>\\n<g clip-path=\\\"url(#clip6000)\\\">\\n<text style=\\\"fill:#000000; fill-opacity:1; font-family:Arial,Helvetica Neue,Helvetica,sans-serif; font-size:48px; text-anchor:end;\\\" transform=\\\"rotate(0, 129.898, 787.73)\\\" x=\\\"129.898\\\" y=\\\"787.73\\\">0.6<\\/text>\\n<\\/g>\\n<g clip-path=\\\"url(#clip6000)\\\">\\n<text style=\\\"fill:#000000; fill-opacity:1; font-family:Arial,Helvetica Neue,Helvetica,sans-serif; font-size:48px; text-anchor:end;\\\" transform=\\\"rotate(0, 129.898, 426.237)\\\" x=\\\"129.898\\\" y=\\\"426.237\\\">0.8<\\/text>\\n<\\/g>\\n<g clip-path=\\\"url(#clip6000)\\\">\\n<text style=\\\"fill:#000000; fill-opacity:1; font-family:Arial,Helvetica Neue,Helvetica,sans-serif; font-size:48px; text-anchor:end;\\\" transform=\\\"rotate(0, 129.898, 64.7441)\\\" x=\\\"129.898\\\" y=\\\"64.7441\\\">1.0<\\/text>\\n<\\/g>\\n<circle clip-path=\\\"url(#clip6002)\\\" style=\\\"fill:#000000; stroke:none; fill-opacity:0.5\\\" cx=\\\"221.715\\\" cy=\\\"465.767\\\" r=\\\"18\\\"\\/>\\n<circle clip-path=\\\"url(#clip6002)\\\" style=\\\"fill:#000000; stroke:none; fill-opacity:0.5\\\" cx=\\\"221.715\\\" cy=\\\"465.767\\\" r=\\\"14\\\"\\/>\\n<circle clip-path=\\\"url(#clip6002)\\\" style=\\\"fill:#000000; stroke:none; fill-opacity:0.5\\\" cx=\\\"281.532\\\" cy=\\\"154.761\\\" r=\\\"18\\\"\\/>\\n<circle clip-path=\\\"url(#clip6002)\\\" style=\\\"fill:#000000; stroke:none; fill-opacity:0.5\\\" cx=\\\"281.532\\\" cy=\\\"154.761\\\" r=\\\"14\\\"\\/>\\n<circle clip-path=\\\"url(#clip6002)\\\" style=\\\"fill:#000000; stroke:none; fill-opacity:0.5\\\" cx=\\\"341.349\\\" cy=\\\"636.552\\\" r=\\\"18\\\"\\/>\\n<circle clip-path=\\\"url(#clip6002)\\\" style=\\\"fill:#000000; stroke:none; fill-opacity:0.5\\\" cx=\\\"341.349\\\" cy=\\\"636.552\\\" r=\\\"14\\\"\\/>\\n<circle clip-path=\\\"url(#clip6002)\\\" style=\\\"fill:#000000; stroke:none; fill-opacity:0.5\\\" cx=\\\"401.167\\\" cy=\\\"1139.94\\\" r=\\\"18\\\"\\/>\\n<circle clip-path=\\\"url(#clip6002)\\\" style=\\\"fill:#000000; stroke:none; fill-opacity:0.5\\\" cx=\\\"401.167\\\" cy=\\\"1139.94\\\" r=\\\"14\\\"\\/>\\n<circle clip-path=\\\"url(#clip6002)\\\" style=\\\"fill:#000000; stroke:none; fill-opacity:0.5\\\" cx=\\\"460.984\\\" cy=\\\"1288.53\\\" r=\\\"18\\\"\\/>\\n<circle clip-path=\\\"url(#clip6002)\\\" style=\\\"fill:#000000; stroke:none; fill-opacity:0.5\\\" cx=\\\"460.984\\\" cy=\\\"1288.53\\\" r=\\\"14\\\"\\/>\\n<circle clip-path=\\\"url(#clip6002)\\\" style=\\\"fill:#000000; stroke:none; fill-opacity:0.5\\\" cx=\\\"520.801\\\" cy=\\\"657.164\\\" r=\\\"18\\\"\\/>\\n<circle clip-path=\\\"url(#clip6002)\\\" style=\\\"fill:#000000; stroke:none; fill-opacity:0.5\\\" cx=\\\"520.801\\\" cy=\\\"657.164\\\" r=\\\"14\\\"\\/>\\n<circle clip-path=\\\"url(#clip6002)\\\" style=\\\"fill:#000000; stroke:none; fill-opacity:0.5\\\" cx=\\\"580.618\\\" cy=\\\"795.494\\\" r=\\\"18\\\"\\/>\\n<circle clip-path=\\\"url(#clip6002)\\\" style=\\\"fill:#000000; stroke:none; fill-opacity:0.5\\\" cx=\\\"580.618\\\" cy=\\\"795.494\\\" r=\\\"14\\\"\\/>\\n<circle clip-path=\\\"url(#clip6002)\\\" style=\\\"fill:#000000; stroke:none; fill-opacity:0.5\\\" cx=\\\"640.435\\\" cy=\\\"1760.48\\\" r=\\\"18\\\"\\/>\\n<circle clip-path=\\\"url(#clip6002)\\\" style=\\\"fill:#000000; stroke:none; fill-opacity:0.5\\\" cx=\\\"640.435\\\" cy=\\\"1760.48\\\" r=\\\"14\\\"\\/>\\n<circle clip-path=\\\"url(#clip6002)\\\" style=\\\"fill:#000000; stroke:none; fill-opacity:0.5\\\" cx=\\\"700.252\\\" cy=\\\"1369.15\\\" r=\\\"18\\\"\\/>\\n<circle clip-path=\\\"url(#clip6002)\\\" style=\\\"fill:#000000; stroke:none; fill-opacity:0.5\\\" cx=\\\"700.252\\\" cy=\\\"1369.15\\\" r=\\\"14\\\"\\/>\\n<circle clip-path=\\\"url(#clip6002)\\\" style=\\\"fill:#000000; stroke:none; fill-opacity:0.5\\\" cx=\\\"760.07\\\" cy=\\\"1657.93\\\" r=\\\"18\\\"\\/>\\n<circle clip-path=\\\"url(#clip6002)\\\" style=\\\"fill:#000000; stroke:none; fill-opacity:0.5\\\" cx=\\\"760.07\\\" cy=\\\"1657.93\\\" r=\\\"14\\\"\\/>\\n<circle clip-path=\\\"url(#clip6002)\\\" style=\\\"fill:#000000; stroke:none; fill-opacity:0.5\\\" cx=\\\"819.887\\\" cy=\\\"1558.89\\\" r=\\\"18\\\"\\/>\\n<circle clip-path=\\\"url(#clip6002)\\\" style=\\\"fill:#000000; stroke:none; fill-opacity:0.5\\\" cx=\\\"819.887\\\" cy=\\\"1558.89\\\" r=\\\"14\\\"\\/>\\n<circle clip-path=\\\"url(#clip6002)\\\" style=\\\"fill:#000000; stroke:none; fill-opacity:0.5\\\" cx=\\\"879.704\\\" cy=\\\"999.747\\\" r=\\\"18\\\"\\/>\\n<circle clip-path=\\\"url(#clip6002)\\\" style=\\\"fill:#000000; stroke:none; fill-opacity:0.5\\\" cx=\\\"879.704\\\" cy=\\\"999.747\\\" r=\\\"14\\\"\\/>\\n<circle clip-path=\\\"url(#clip6002)\\\" style=\\\"fill:#000000; stroke:none; fill-opacity:0.5\\\" cx=\\\"939.521\\\" cy=\\\"290.507\\\" r=\\\"18\\\"\\/>\\n<circle clip-path=\\\"url(#clip6002)\\\" style=\\\"fill:#000000; stroke:none; fill-opacity:0.5\\\" cx=\\\"939.521\\\" cy=\\\"290.507\\\" r=\\\"14\\\"\\/>\\n<circle clip-path=\\\"url(#clip6002)\\\" style=\\\"fill:#000000; stroke:none; fill-opacity:0.5\\\" cx=\\\"999.338\\\" cy=\\\"738.614\\\" r=\\\"18\\\"\\/>\\n<circle clip-path=\\\"url(#clip6002)\\\" style=\\\"fill:#000000; stroke:none; fill-opacity:0.5\\\" cx=\\\"999.338\\\" cy=\\\"738.614\\\" r=\\\"14\\\"\\/>\\n<circle clip-path=\\\"url(#clip6002)\\\" style=\\\"fill:#000000; stroke:none; fill-opacity:0.5\\\" cx=\\\"1059.16\\\" cy=\\\"1338.32\\\" r=\\\"18\\\"\\/>\\n<circle clip-path=\\\"url(#clip6002)\\\" style=\\\"fill:#000000; stroke:none; fill-opacity:0.5\\\" cx=\\\"1059.16\\\" cy=\\\"1338.32\\\" r=\\\"14\\\"\\/>\\n<circle clip-path=\\\"url(#clip6002)\\\" style=\\\"fill:#000000; stroke:none; fill-opacity:0.5\\\" cx=\\\"1118.97\\\" cy=\\\"1016.32\\\" r=\\\"18\\\"\\/>\\n<circle clip-path=\\\"url(#clip6002)\\\" style=\\\"fill:#000000; stroke:none; fill-opacity:0.5\\\" cx=\\\"1118.97\\\" cy=\\\"1016.32\\\" r=\\\"14\\\"\\/>\\n<circle clip-path=\\\"url(#clip6002)\\\" style=\\\"fill:#000000; stroke:none; fill-opacity:0.5\\\" cx=\\\"1178.79\\\" cy=\\\"1356.18\\\" r=\\\"18\\\"\\/>\\n<circle clip-path=\\\"url(#clip6002)\\\" style=\\\"fill:#000000; stroke:none; fill-opacity:0.5\\\" cx=\\\"1178.79\\\" cy=\\\"1356.18\\\" r=\\\"14\\\"\\/>\\n<circle clip-path=\\\"url(#clip6002)\\\" style=\\\"fill:#000000; stroke:none; fill-opacity:0.5\\\" cx=\\\"1238.61\\\" cy=\\\"1047.55\\\" r=\\\"18\\\"\\/>\\n<circle clip-path=\\\"url(#clip6002)\\\" style=\\\"fill:#000000; stroke:none; fill-opacity:0.5\\\" cx=\\\"1238.61\\\" cy=\\\"1047.55\\\" r=\\\"14\\\"\\/>\\n<circle clip-path=\\\"url(#clip6002)\\\" style=\\\"fill:#000000; stroke:none; fill-opacity:0.5\\\" cx=\\\"1298.42\\\" cy=\\\"802.19\\\" r=\\\"18\\\"\\/>\\n<circle clip-path=\\\"url(#clip6002)\\\" style=\\\"fill:#000000; stroke:none; fill-opacity:0.5\\\" cx=\\\"1298.42\\\" cy=\\\"802.19\\\" r=\\\"14\\\"\\/>\\n<circle clip-path=\\\"url(#clip6002)\\\" style=\\\"fill:#000000; stroke:none; fill-opacity:0.5\\\" cx=\\\"1358.24\\\" cy=\\\"1392.03\\\" r=\\\"18\\\"\\/>\\n<circle clip-path=\\\"url(#clip6002)\\\" style=\\\"fill:#000000; stroke:none; fill-opacity:0.5\\\" cx=\\\"1358.24\\\" cy=\\\"1392.03\\\" r=\\\"14\\\"\\/>\\n<circle clip-path=\\\"url(#clip6002)\\\" style=\\\"fill:#000000; stroke:none; fill-opacity:0.5\\\" cx=\\\"1418.06\\\" cy=\\\"578.891\\\" r=\\\"18\\\"\\/>\\n<circle clip-path=\\\"url(#clip6002)\\\" style=\\\"fill:#000000; stroke:none; fill-opacity:0.5\\\" cx=\\\"1418.06\\\" cy=\\\"578.891\\\" r=\\\"14\\\"\\/>\\n<circle clip-path=\\\"url(#clip6002)\\\" style=\\\"fill:#000000; stroke:none; fill-opacity:0.5\\\" cx=\\\"1477.88\\\" cy=\\\"1326.97\\\" r=\\\"18\\\"\\/>\\n<circle clip-path=\\\"url(#clip6002)\\\" style=\\\"fill:#000000; stroke:none; fill-opacity:0.5\\\" cx=\\\"1477.88\\\" cy=\\\"1326.97\\\" r=\\\"14\\\"\\/>\\n<circle clip-path=\\\"url(#clip6002)\\\" style=\\\"fill:#000000; stroke:none; fill-opacity:0.5\\\" cx=\\\"1537.69\\\" cy=\\\"1346.69\\\" r=\\\"18\\\"\\/>\\n<circle clip-path=\\\"url(#clip6002)\\\" style=\\\"fill:#000000; stroke:none; fill-opacity:0.5\\\" cx=\\\"1537.69\\\" cy=\\\"1346.69\\\" r=\\\"14\\\"\\/>\\n<circle clip-path=\\\"url(#clip6002)\\\" style=\\\"fill:#000000; stroke:none; fill-opacity:0.5\\\" cx=\\\"1597.51\\\" cy=\\\"421.514\\\" r=\\\"18\\\"\\/>\\n<circle clip-path=\\\"url(#clip6002)\\\" style=\\\"fill:#000000; stroke:none; fill-opacity:0.5\\\" cx=\\\"1597.51\\\" cy=\\\"421.514\\\" r=\\\"14\\\"\\/>\\n<circle clip-path=\\\"url(#clip6002)\\\" style=\\\"fill:#000000; stroke:none; fill-opacity:0.5\\\" cx=\\\"1657.33\\\" cy=\\\"1476.53\\\" r=\\\"18\\\"\\/>\\n<circle clip-path=\\\"url(#clip6002)\\\" style=\\\"fill:#000000; stroke:none; fill-opacity:0.5\\\" cx=\\\"1657.33\\\" cy=\\\"1476.53\\\" r=\\\"14\\\"\\/>\\n<polyline clip-path=\\\"url(#clip6002)\\\" style=\\\"stroke:#000000; stroke-width:21.6; stroke-opacity:1; fill:none\\\" points=\\\"\\n  165.549,1744.46 169.2,1634.61 172.851,1525.59 176.502,1417.79 184.942,1175.5 193.382,946.704 201.821,735.954 210.261,547.437 218.701,384.902 227.141,251.578 \\n  235.58,150.114 244.02,82.5272 252.46,50.161 260.899,53.6585 269.339,92.9501 277.779,167.255 286.219,275.096 294.658,414.331 303.098,582.192 311.538,775.343 \\n  321.682,1035.51 331.826,1319.17 341.97,1618.2 352.113,1924.02 362.257,2227.84 372.401,2520.96 382.545,2794.97 392.689,3042 401.265,3224.55 409.842,3378.98 \\n  418.418,3502.14 426.995,3591.48 435.571,3645.18 444.148,3662.14 452.724,3642 461.301,3585.19 470.617,3483.28 479.934,3341.95 489.25,3164.62 498.567,2955.58 \\n  517.2,2463.24 535.833,1912.33 553.011,1398.28 570.189,921.61 578.778,709.705 587.367,521.366 595.956,360.469 604.545,230.327 613.753,127.995 622.961,66.5008 \\n  632.17,47.2996 641.378,70.8454 650.586,136.581 659.795,242.953 664.399,310.627 669.003,387.444 673.607,472.949 678.211,566.637 688.88,812.026 699.549,1090.5 \\n  710.217,1393.21 720.886,1710.57 731.555,2032.5 742.223,2348.79 752.892,2649.4 763.561,2924.8 773.042,3141.3 782.523,3325.55 792.004,3472.92 801.485,3579.73 \\n  810.966,3643.28 820.448,3662 829.929,3635.41 839.41,3564.17 847.724,3466.35 856.038,3337.45 864.352,3179.94 872.666,2996.88 889.294,2568.62 905.922,2085.54 \\n  924.051,1539.99 942.181,1023.12 951.245,790.395 960.31,582.06 969.374,402.894 978.439,257.003 987.557,147.196 996.676,76.9917 1005.79,48.0167 1014.91,60.9435 \\n  1024.03,115.472 1033.15,210.338 1037.71,272.245 1042.27,343.341 1046.83,423.213 1051.39,511.397 1061.47,733.285 1071.55,986.953 1081.63,1265.21 1091.71,1560.18 \\n  1111.88,2166.55 1132.04,2737.83 1141.63,2978.31 1151.22,3189.96 1160.82,3367.34 1170.41,3505.91 1180,3602.11 1189.59,3653.47 1194.39,3661.88 1199.19,3658.68 \\n  1203.98,3643.88 1208.78,3617.59 1213.77,3578.24 1218.75,3526.92 1223.74,3463.98 1228.73,3389.87 1238.7,3210.24 1248.67,2993 1258.65,2744.2 1268.62,2470.72 \\n  1278.6,2180.16 1288.57,1880.57 1305.36,1378.86 1322.15,914.399 1330.55,707.697 1338.94,523.555 1347.34,365.594 1355.74,236.922 1360.86,173.879 1365.99,123.168 \\n  1371.11,85.1606 1376.24,60.1362 1381.36,48.2782 1386.49,49.6735 1391.61,64.3118 1396.74,92.0859 1406.99,186.131 1417.24,329.055 1422.36,417.59 1427.49,516.669 \\n  1432.61,625.565 1437.74,743.479 1457.01,1252.01 1476.28,1822.55 1495.55,2396.41 1514.82,2914.52 1522.54,3094.12 1530.26,3253.1 1537.98,3388.83 1545.7,3499.06 \\n  1553.42,3581.94 1561.14,3636.11 1568.85,3660.65 1576.57,3655.17 1584.29,3619.75 1592.01,3554.99 1599.73,3461.95 1607.45,3342.19 1615.17,3197.7 1622.88,3030.87 \\n  1630.6,2844.49 1638.32,2641.66 1643.07,2510.06 1647.82,2374.34 1652.58,2235.33 \\n  \\\"\\/>\\n<polygon clip-path=\\\"url(#clip6000)\\\" points=\\\"\\n2685.93,360.204 3056.76,360.204 3056.76,178.764 2685.93,178.764 \\n  \\\" fill=\\\"#ffffff\\\" fill-rule=\\\"evenodd\\\" fill-opacity=\\\"1\\\"\\/>\\n<polyline clip-path=\\\"url(#clip6000)\\\" style=\\\"stroke:#000000; stroke-width:4; stroke-opacity:1; fill:none\\\" points=\\\"\\n  2685.93,360.204 3056.76,360.204 3056.76,178.764 2685.93,178.764 2685.93,360.204 \\n  \\\"\\/>\\n<circle clip-path=\\\"url(#clip6000)\\\" style=\\\"fill:#000000; stroke:none; fill-opacity:0.5\\\" cx=\\\"2829.93\\\" cy=\\\"239.244\\\" r=\\\"25\\\"\\/>\\n<circle clip-path=\\\"url(#clip6000)\\\" style=\\\"fill:#000000; stroke:none; fill-opacity:0.5\\\" cx=\\\"2829.93\\\" cy=\\\"239.244\\\" r=\\\"21\\\"\\/>\\n<g clip-path=\\\"url(#clip6000)\\\">\\n<text style=\\\"fill:#000000; fill-opacity:1; font-family:Arial,Helvetica Neue,Helvetica,sans-serif; font-size:48px; text-anchor:start;\\\" transform=\\\"rotate(0, 2941.93, 256.744)\\\" x=\\\"2941.93\\\" y=\\\"256.744\\\">y1<\\/text>\\n<\\/g>\\n<polyline clip-path=\\\"url(#clip6000)\\\" style=\\\"stroke:#000000; stroke-width:21.6; stroke-opacity:1; fill:none\\\" points=\\\"\\n  2717.93,299.724 2909.93,299.724 \\n  \\\"\\/>\\n<g clip-path=\\\"url(#clip6000)\\\">\\n<text style=\\\"fill:#000000; fill-opacity:1; font-family:Arial,Helvetica Neue,Helvetica,sans-serif; font-size:48px; text-anchor:start;\\\" transform=\\\"rotate(0, 2941.93, 317.224)\\\" x=\\\"2941.93\\\" y=\\\"317.224\\\">y2<\\/text>\\n<\\/g>\\n<\\/svg>\\n\"},\"nodeType\":\"DOM\",\"type\":\"node\",\"instanceArgs\":{\"namespace\":\"html\",\"tag\":\"div\"},\"children\":[]}]}}}},\"children\":[{\"props\":{},\"nodeType\":\"ObservableNode\",\"type\":\"node\",\"instanceArgs\":{\"id\":\"ob_25\",\"name\":\"obs-node\"},\"children\":[]}]}]},\n",
       "            window,\n",
       "        );\n",
       "    } else {\n",
       "        document\n",
       "            .querySelector('[data-webio-mountpoint=\"18267985515607794011\"]')\n",
       "            .innerHTML = (\n",
       "                '<strong>WebIO not detected. Please read ' +\n",
       "                '<a href=\"https://juliagizmos.github.io/WebIO.jl/latest/troubleshooting/not-detected/\">the troubleshooting guide</a> ' +\n",
       "                'for more information on how to resolve this issue.' +\n",
       "                '</strong>'\n",
       "            );\n",
       "    }\n",
       "    </script>\n",
       "</div>\n"
      ],
      "text/plain": [
       "Node{WebIO.DOM}(WebIO.DOM(:html, :div), Any[Node{WebIO.DOM}(WebIO.DOM(:html, :div), Any[Scope(Node{WebIO.DOM}(WebIO.DOM(:html, :div), Any[Node{WebIO.DOM}(WebIO.DOM(:html, :div), Any[Node{WebIO.DOM}(WebIO.DOM(:html, :label), Any[\"i\"], Dict{Symbol,Any}(:className => \"interact \",:style => Dict{Any,Any}(:padding => \"5px 10px 0px 10px\")))], Dict{Symbol,Any}(:className => \"interact-flex-row-left\")), Node{WebIO.DOM}(WebIO.DOM(:html, :div), Any[Node{WebIO.DOM}(WebIO.DOM(:html, :input), Any[], Dict{Symbol,Any}(:max => 50,:min => 1,:attributes => Dict{Any,Any}(:type => \"range\",Symbol(\"data-bind\") => \"numericValue: index, valueUpdate: 'input', event: {change: function (){this.changes(this.changes()+1)}}\",\"orient\" => \"horizontal\"),:step => 1,:className => \"slider slider is-fullwidth\",:style => Dict{Any,Any}()))], Dict{Symbol,Any}(:className => \"interact-flex-row-center\")), Node{WebIO.DOM}(WebIO.DOM(:html, :div), Any[Node{WebIO.DOM}(WebIO.DOM(:html, :p), Any[], Dict{Symbol,Any}(:attributes => Dict(\"data-bind\" => \"text: formatted_val\")))], Dict{Symbol,Any}(:className => \"interact-flex-row-right\"))], Dict{Symbol,Any}(:className => \"interact-flex-row interact-widget\")), Dict{String,Tuple{Observables.AbstractObservable,Union{Nothing, Bool}}}(\"changes\" => (Observable{Int64} with 1 listeners. Value:\n",
       "0, nothing),\"index\" => (Observable{Int64} with 2 listeners. Value:\n",
       "25, nothing)), Set(String[]), nothing, Asset[Asset(\"js\", \"knockout\", \"/Users/joday/.julia/packages/Knockout/1sDlc/src/../assets/knockout.js\"), Asset(\"js\", \"knockout_punches\", \"/Users/joday/.julia/packages/Knockout/1sDlc/src/../assets/knockout_punches.js\"), Asset(\"js\", nothing, \"/Users/joday/.julia/packages/InteractBase/9mFwe/src/../assets/all.js\"), Asset(\"css\", nothing, \"/Users/joday/.julia/packages/InteractBase/9mFwe/src/../assets/style.css\"), Asset(\"css\", nothing, \"/Users/joday/.julia/packages/Interact/SbgIk/src/../assets/bulma_confined.min.css\")], Dict{Any,Any}(\"changes\" => Any[WebIO.JSString(\"(function (val){return (val!=this.model[\\\"changes\\\"]()) ? (this.valueFromJulia[\\\"changes\\\"]=true, this.model[\\\"changes\\\"](val)) : undefined})\")],\"index\" => Any[WebIO.JSString(\"(function (val){return (val!=this.model[\\\"index\\\"]()) ? (this.valueFromJulia[\\\"index\\\"]=true, this.model[\\\"index\\\"](val)) : undefined})\")]), WebIO.ConnectionPool(Channel{Any}(sz_max:32,sz_curr:0), Set(AbstractConnection[]), Base.GenericCondition{Base.AlwaysLockedST}(Base.InvasiveLinkedList{Task}(Task (runnable) @0x00000001346cd450, Task (runnable) @0x00000001346cd450), Base.AlwaysLockedST(1))), WebIO.JSString[WebIO.JSString(\"function () {\\n    var handler = (function (ko, koPunches) {\\n    ko.punches.enableAll();\\n    ko.bindingHandlers.numericValue = {\\n        init: function(element, valueAccessor, allBindings, data, context) {\\n            var stringified = ko.observable(ko.unwrap(valueAccessor()));\\n            stringified.subscribe(function(value) {\\n                var val = parseFloat(value);\\n                if (!isNaN(val)) {\\n                    valueAccessor()(val);\\n                }\\n            });\\n            valueAccessor().subscribe(function(value) {\\n                var str = JSON.stringify(value);\\n                if ((str == \\\"0\\\") && ([\\\"-0\\\", \\\"-0.\\\"].indexOf(stringified()) >= 0))\\n                     return;\\n                 if ([\\\"null\\\", \\\"\\\"].indexOf(str) >= 0)\\n                     return;\\n                stringified(str);\\n            });\\n            ko.applyBindingsToNode(\\n                element,\\n                {\\n                    value: stringified,\\n                    valueUpdate: allBindings.get('valueUpdate'),\\n                },\\n                context,\\n            );\\n        }\\n    };\\n    var json_data = {\\\"formatted_vals\\\":[\\\"1\\\",\\\"2\\\",\\\"3\\\",\\\"4\\\",\\\"5\\\",\\\"6\\\",\\\"7\\\",\\\"8\\\",\\\"9\\\",\\\"10\\\",\\\"11\\\",\\\"12\\\",\\\"13\\\",\\\"14\\\",\\\"15\\\",\\\"16\\\",\\\"17\\\",\\\"18\\\",\\\"19\\\",\\\"20\\\",\\\"21\\\",\\\"22\\\",\\\"23\\\",\\\"24\\\",\\\"25\\\",\\\"26\\\",\\\"27\\\",\\\"28\\\",\\\"29\\\",\\\"30\\\",\\\"31\\\",\\\"32\\\",\\\"33\\\",\\\"34\\\",\\\"35\\\",\\\"36\\\",\\\"37\\\",\\\"38\\\",\\\"39\\\",\\\"40\\\",\\\"41\\\",\\\"42\\\",\\\"43\\\",\\\"44\\\",\\\"45\\\",\\\"46\\\",\\\"47\\\",\\\"48\\\",\\\"49\\\",\\\"50\\\"],\\\"changes\\\":WebIO.getval({\\\"name\\\":\\\"changes\\\",\\\"scope\\\":\\\"17009662384221209456\\\",\\\"id\\\":\\\"ob_13\\\",\\\"type\\\":\\\"observable\\\"}),\\\"index\\\":WebIO.getval({\\\"name\\\":\\\"index\\\",\\\"scope\\\":\\\"17009662384221209456\\\",\\\"id\\\":\\\"ob_12\\\",\\\"type\\\":\\\"observable\\\"})};\\n    var self = this;\\n    function AppViewModel() {\\n        for (var key in json_data) {\\n            var el = json_data[key];\\n            this[key] = Array.isArray(el) ? ko.observableArray(el) : ko.observable(el);\\n        }\\n        \\n        [this[\\\"formatted_val\\\"]=ko.computed(    function(){\\n        return this.formatted_vals()[parseInt(this.index())-(1)];\\n    }\\n,this)]\\n        [this[\\\"changes\\\"].subscribe((function (val){!(this.valueFromJulia[\\\"changes\\\"]) ? (WebIO.setval({\\\"name\\\":\\\"changes\\\",\\\"scope\\\":\\\"17009662384221209456\\\",\\\"id\\\":\\\"ob_13\\\",\\\"type\\\":\\\"observable\\\"},val)) : undefined; return this.valueFromJulia[\\\"changes\\\"]=false}),self),this[\\\"index\\\"].subscribe((function (val){!(this.valueFromJulia[\\\"index\\\"]) ? (WebIO.setval({\\\"name\\\":\\\"index\\\",\\\"scope\\\":\\\"17009662384221209456\\\",\\\"id\\\":\\\"ob_12\\\",\\\"type\\\":\\\"observable\\\"},val)) : undefined; return this.valueFromJulia[\\\"index\\\"]=false}),self)]\\n        \\n    }\\n    self.model = new AppViewModel();\\n    self.valueFromJulia = {};\\n    for (var key in json_data) {\\n        self.valueFromJulia[key] = false;\\n    }\\n    ko.applyBindings(self.model, self.dom);\\n}\\n);\\n    (WebIO.importBlock({\\\"data\\\":[{\\\"name\\\":\\\"knockout\\\",\\\"type\\\":\\\"js\\\",\\\"url\\\":\\\"/assetserver/bf3e344bbbe45b806bbda88c6101232eb1f7318f-knockout.js\\\"},{\\\"name\\\":\\\"knockout_punches\\\",\\\"type\\\":\\\"js\\\",\\\"url\\\":\\\"/assetserver/3ad363ca1664d7335dff0eabc7ebe7d829397430-knockout_punches.js\\\"}],\\\"type\\\":\\\"async_block\\\"})).then((imports) => handler.apply(this, imports));\\n}\\n\")])], Dict{Symbol,Any}(:className => \"field interact-widget\")), Node{WebIO.DOM}(WebIO.DOM(:html, :div), Any[Scope(Node{WebIO.DOM}(WebIO.DOM(:html, :div), Any[Node{WebIO.DOM}(WebIO.DOM(:html, :div), Any[Node{WebIO.DOM}(WebIO.DOM(:html, :label), Any[\"color\"], Dict{Symbol,Any}(:className => \"interact \",:style => Dict{Any,Any}(:padding => \"5px 10px 0px 10px\")))], Dict{Symbol,Any}(:className => \"interact-flex-row-left\")), Node{WebIO.DOM}(WebIO.DOM(:html, :div), Any[Node{WebIO.DOM}(WebIO.DOM(:html, :div), Any[Node{WebIO.DOM}(WebIO.DOM(:html, :span), Any[Node{WebIO.DOM}(WebIO.DOM(:html, :label), Any[], Dict{Symbol,Any}(:attributes => Dict(\"data-bind\" => \"text : key\")))], Dict{Symbol,Any}(:attributes => Dict(\"data-bind\" => \"click: function (){\\$root.update(val)}, css: {'is-primary is-selected' : \\$root.index() == val, 'interact-widget is-medium button ' : true}\")))], Dict{Symbol,Any}(:attributes => (\"data-bind\" => \"foreach : options_js\"),:className => \"buttons has-addons is-centered\"))], Dict{Symbol,Any}(:className => \"interact-flex-row-center\")), Node{WebIO.DOM}(WebIO.DOM(:html, :div), Any[Node{WebIO.DOM}(WebIO.DOM(:html, :div), Any[], Dict{Symbol,Any}())], Dict{Symbol,Any}(:className => \"interact-flex-row-right\"))], Dict{Symbol,Any}(:className => \"interact-flex-row interact-widget\")), Dict{String,Tuple{Observables.AbstractObservable,Union{Nothing, Bool}}}(\"options_js\" => (Observable{Any} with 1 listeners. Value:\n",
       "OrderedDict[OrderedDict{String,Any}(\"key\" => \"black\",\"val\" => 1,\"id\" => \"idL5CsGoBx\"), OrderedDict{String,Any}(\"key\" => \"blue\",\"val\" => 2,\"id\" => \"idhRcNkCsr\"), OrderedDict{String,Any}(\"key\" => \"green\",\"val\" => 3,\"id\" => \"idtybtwAWu\"), OrderedDict{String,Any}(\"key\" => \"red\",\"val\" => 4,\"id\" => \"id8OCFZlDH\")], nothing),\"index\" => (Observable{Any} with 2 listeners. Value:\n",
       "1, nothing)), Set(String[]), nothing, Asset[Asset(\"js\", \"knockout\", \"/Users/joday/.julia/packages/Knockout/1sDlc/src/../assets/knockout.js\"), Asset(\"js\", \"knockout_punches\", \"/Users/joday/.julia/packages/Knockout/1sDlc/src/../assets/knockout_punches.js\"), Asset(\"js\", nothing, \"/Users/joday/.julia/packages/InteractBase/9mFwe/src/../assets/all.js\"), Asset(\"css\", nothing, \"/Users/joday/.julia/packages/InteractBase/9mFwe/src/../assets/style.css\"), Asset(\"css\", nothing, \"/Users/joday/.julia/packages/Interact/SbgIk/src/../assets/bulma_confined.min.css\")], Dict{Any,Any}(\"options_js\" => Any[WebIO.JSString(\"(function (val){return (val!=this.model[\\\"options_js\\\"]()) ? (this.valueFromJulia[\\\"options_js\\\"]=true, this.model[\\\"options_js\\\"](val)) : undefined})\")],\"index\" => Any[WebIO.JSString(\"(function (val){return (val!=this.model[\\\"index\\\"]()) ? (this.valueFromJulia[\\\"index\\\"]=true, this.model[\\\"index\\\"](val)) : undefined})\")]), WebIO.ConnectionPool(Channel{Any}(sz_max:32,sz_curr:0), Set(AbstractConnection[]), Base.GenericCondition{Base.AlwaysLockedST}(Base.InvasiveLinkedList{Task}(Task (runnable) @0x00000001346ccfd0, Task (runnable) @0x00000001346ccfd0), Base.AlwaysLockedST(1))), WebIO.JSString[WebIO.JSString(\"function () {\\n    var handler = (function (ko, koPunches) {\\n    ko.punches.enableAll();\\n    ko.bindingHandlers.numericValue = {\\n        init: function(element, valueAccessor, allBindings, data, context) {\\n            var stringified = ko.observable(ko.unwrap(valueAccessor()));\\n            stringified.subscribe(function(value) {\\n                var val = parseFloat(value);\\n                if (!isNaN(val)) {\\n                    valueAccessor()(val);\\n                }\\n            });\\n            valueAccessor().subscribe(function(value) {\\n                var str = JSON.stringify(value);\\n                if ((str == \\\"0\\\") && ([\\\"-0\\\", \\\"-0.\\\"].indexOf(stringified()) >= 0))\\n                     return;\\n                 if ([\\\"null\\\", \\\"\\\"].indexOf(str) >= 0)\\n                     return;\\n                stringified(str);\\n            });\\n            ko.applyBindingsToNode(\\n                element,\\n                {\\n                    value: stringified,\\n                    valueUpdate: allBindings.get('valueUpdate'),\\n                },\\n                context,\\n            );\\n        }\\n    };\\n    var json_data = {\\\"options_js\\\":WebIO.getval({\\\"name\\\":\\\"options_js\\\",\\\"scope\\\":\\\"2612187668636345745\\\",\\\"id\\\":\\\"ob_18\\\",\\\"type\\\":\\\"observable\\\"}),\\\"index\\\":WebIO.getval({\\\"name\\\":\\\"index\\\",\\\"scope\\\":\\\"2612187668636345745\\\",\\\"id\\\":\\\"ob_17\\\",\\\"type\\\":\\\"observable\\\"})};\\n    var self = this;\\n    function AppViewModel() {\\n        for (var key in json_data) {\\n            var el = json_data[key];\\n            this[key] = Array.isArray(el) ? ko.observableArray(el) : ko.observable(el);\\n        }\\n        [this[\\\"update\\\"]=function (val) {this.index(val)}]\\n        \\n        [this[\\\"options_js\\\"].subscribe((function (val){!(this.valueFromJulia[\\\"options_js\\\"]) ? (WebIO.setval({\\\"name\\\":\\\"options_js\\\",\\\"scope\\\":\\\"2612187668636345745\\\",\\\"id\\\":\\\"ob_18\\\",\\\"type\\\":\\\"observable\\\"},val)) : undefined; return this.valueFromJulia[\\\"options_js\\\"]=false}),self),this[\\\"index\\\"].subscribe((function (val){!(this.valueFromJulia[\\\"index\\\"]) ? (WebIO.setval({\\\"name\\\":\\\"index\\\",\\\"scope\\\":\\\"2612187668636345745\\\",\\\"id\\\":\\\"ob_17\\\",\\\"type\\\":\\\"observable\\\"},val)) : undefined; return this.valueFromJulia[\\\"index\\\"]=false}),self)]\\n        \\n    }\\n    self.model = new AppViewModel();\\n    self.valueFromJulia = {};\\n    for (var key in json_data) {\\n        self.valueFromJulia[key] = false;\\n    }\\n    ko.applyBindings(self.model, self.dom);\\n}\\n);\\n    (WebIO.importBlock({\\\"data\\\":[{\\\"name\\\":\\\"knockout\\\",\\\"type\\\":\\\"js\\\",\\\"url\\\":\\\"/assetserver/bf3e344bbbe45b806bbda88c6101232eb1f7318f-knockout.js\\\"},{\\\"name\\\":\\\"knockout_punches\\\",\\\"type\\\":\\\"js\\\",\\\"url\\\":\\\"/assetserver/3ad363ca1664d7335dff0eabc7ebe7d829397430-knockout_punches.js\\\"}],\\\"type\\\":\\\"async_block\\\"})).then((imports) => handler.apply(this, imports));\\n}\\n\")])], Dict{Symbol,Any}(:className => \"interact-widget\")), Node{WebIO.DOM}(WebIO.DOM(:html, :div), Any[Scope(Node{WebIO.DOM}(WebIO.DOM(:html, :div), Any[Node{WebIO.DOM}(WebIO.DOM(:html, :div), Any[Node{WebIO.DOM}(WebIO.DOM(:html, :label), Any[\"lw\"], Dict{Symbol,Any}(:className => \"interact \",:style => Dict{Any,Any}(:padding => \"5px 10px 0px 10px\")))], Dict{Symbol,Any}(:className => \"interact-flex-row-left\")), Node{WebIO.DOM}(WebIO.DOM(:html, :div), Any[Node{WebIO.DOM}(WebIO.DOM(:html, :input), Any[], Dict{Symbol,Any}(:max => 46,:min => 1,:attributes => Dict{Any,Any}(:type => \"range\",Symbol(\"data-bind\") => \"numericValue: index, valueUpdate: 'input', event: {change: function (){this.changes(this.changes()+1)}}\",\"orient\" => \"horizontal\"),:step => 1,:className => \"slider slider is-fullwidth\",:style => Dict{Any,Any}()))], Dict{Symbol,Any}(:className => \"interact-flex-row-center\")), Node{WebIO.DOM}(WebIO.DOM(:html, :div), Any[Node{WebIO.DOM}(WebIO.DOM(:html, :p), Any[], Dict{Symbol,Any}(:attributes => Dict(\"data-bind\" => \"text: formatted_val\")))], Dict{Symbol,Any}(:className => \"interact-flex-row-right\"))], Dict{Symbol,Any}(:className => \"interact-flex-row interact-widget\")), Dict{String,Tuple{Observables.AbstractObservable,Union{Nothing, Bool}}}(\"changes\" => (Observable{Int64} with 1 listeners. Value:\n",
       "0, nothing),\"index\" => (Observable{Any} with 2 listeners. Value:\n",
       "23, nothing)), Set(String[]), nothing, Asset[Asset(\"js\", \"knockout\", \"/Users/joday/.julia/packages/Knockout/1sDlc/src/../assets/knockout.js\"), Asset(\"js\", \"knockout_punches\", \"/Users/joday/.julia/packages/Knockout/1sDlc/src/../assets/knockout_punches.js\"), Asset(\"js\", nothing, \"/Users/joday/.julia/packages/InteractBase/9mFwe/src/../assets/all.js\"), Asset(\"css\", nothing, \"/Users/joday/.julia/packages/InteractBase/9mFwe/src/../assets/style.css\"), Asset(\"css\", nothing, \"/Users/joday/.julia/packages/Interact/SbgIk/src/../assets/bulma_confined.min.css\")], Dict{Any,Any}(\"changes\" => Any[WebIO.JSString(\"(function (val){return (val!=this.model[\\\"changes\\\"]()) ? (this.valueFromJulia[\\\"changes\\\"]=true, this.model[\\\"changes\\\"](val)) : undefined})\")],\"index\" => Any[WebIO.JSString(\"(function (val){return (val!=this.model[\\\"index\\\"]()) ? (this.valueFromJulia[\\\"index\\\"]=true, this.model[\\\"index\\\"](val)) : undefined})\")]), WebIO.ConnectionPool(Channel{Any}(sz_max:32,sz_curr:0), Set(AbstractConnection[]), Base.GenericCondition{Base.AlwaysLockedST}(Base.InvasiveLinkedList{Task}(Task (runnable) @0x00000001359d0910, Task (runnable) @0x00000001359d0910), Base.AlwaysLockedST(1))), WebIO.JSString[WebIO.JSString(\"function () {\\n    var handler = (function (ko, koPunches) {\\n    ko.punches.enableAll();\\n    ko.bindingHandlers.numericValue = {\\n        init: function(element, valueAccessor, allBindings, data, context) {\\n            var stringified = ko.observable(ko.unwrap(valueAccessor()));\\n            stringified.subscribe(function(value) {\\n                var val = parseFloat(value);\\n                if (!isNaN(val)) {\\n                    valueAccessor()(val);\\n                }\\n            });\\n            valueAccessor().subscribe(function(value) {\\n                var str = JSON.stringify(value);\\n                if ((str == \\\"0\\\") && ([\\\"-0\\\", \\\"-0.\\\"].indexOf(stringified()) >= 0))\\n                     return;\\n                 if ([\\\"null\\\", \\\"\\\"].indexOf(str) >= 0)\\n                     return;\\n                stringified(str);\\n            });\\n            ko.applyBindingsToNode(\\n                element,\\n                {\\n                    value: stringified,\\n                    valueUpdate: allBindings.get('valueUpdate'),\\n                },\\n                context,\\n            );\\n        }\\n    };\\n    var json_data = {\\\"formatted_vals\\\":[\\\"1.0\\\",\\\"1.2\\\",\\\"1.4\\\",\\\"1.6\\\",\\\"1.8\\\",\\\"2.0\\\",\\\"2.2\\\",\\\"2.4\\\",\\\"2.6\\\",\\\"2.8\\\",\\\"3.0\\\",\\\"3.2\\\",\\\"3.4\\\",\\\"3.6\\\",\\\"3.8\\\",\\\"4.0\\\",\\\"4.2\\\",\\\"4.4\\\",\\\"4.6\\\",\\\"4.8\\\",\\\"5.0\\\",\\\"5.2\\\",\\\"5.4\\\",\\\"5.6\\\",\\\"5.8\\\",\\\"6.0\\\",\\\"6.2\\\",\\\"6.4\\\",\\\"6.6\\\",\\\"6.8\\\",\\\"7.0\\\",\\\"7.2\\\",\\\"7.4\\\",\\\"7.6\\\",\\\"7.8\\\",\\\"8.0\\\",\\\"8.2\\\",\\\"8.4\\\",\\\"8.6\\\",\\\"8.8\\\",\\\"9.0\\\",\\\"9.2\\\",\\\"9.4\\\",\\\"9.6\\\",\\\"9.8\\\",\\\"10.0\\\"],\\\"changes\\\":WebIO.getval({\\\"name\\\":\\\"changes\\\",\\\"scope\\\":\\\"5584364319559300298\\\",\\\"id\\\":\\\"ob_21\\\",\\\"type\\\":\\\"observable\\\"}),\\\"index\\\":WebIO.getval({\\\"name\\\":\\\"index\\\",\\\"scope\\\":\\\"5584364319559300298\\\",\\\"id\\\":\\\"ob_20\\\",\\\"type\\\":\\\"observable\\\"})};\\n    var self = this;\\n    function AppViewModel() {\\n        for (var key in json_data) {\\n            var el = json_data[key];\\n            this[key] = Array.isArray(el) ? ko.observableArray(el) : ko.observable(el);\\n        }\\n        \\n        [this[\\\"formatted_val\\\"]=ko.computed(    function(){\\n        return this.formatted_vals()[parseInt(this.index())-(1)];\\n    }\\n,this)]\\n        [this[\\\"changes\\\"].subscribe((function (val){!(this.valueFromJulia[\\\"changes\\\"]) ? (WebIO.setval({\\\"name\\\":\\\"changes\\\",\\\"scope\\\":\\\"5584364319559300298\\\",\\\"id\\\":\\\"ob_21\\\",\\\"type\\\":\\\"observable\\\"},val)) : undefined; return this.valueFromJulia[\\\"changes\\\"]=false}),self),this[\\\"index\\\"].subscribe((function (val){!(this.valueFromJulia[\\\"index\\\"]) ? (WebIO.setval({\\\"name\\\":\\\"index\\\",\\\"scope\\\":\\\"5584364319559300298\\\",\\\"id\\\":\\\"ob_20\\\",\\\"type\\\":\\\"observable\\\"},val)) : undefined; return this.valueFromJulia[\\\"index\\\"]=false}),self)]\\n        \\n    }\\n    self.model = new AppViewModel();\\n    self.valueFromJulia = {};\\n    for (var key in json_data) {\\n        self.valueFromJulia[key] = false;\\n    }\\n    ko.applyBindings(self.model, self.dom);\\n}\\n);\\n    (WebIO.importBlock({\\\"data\\\":[{\\\"name\\\":\\\"knockout\\\",\\\"type\\\":\\\"js\\\",\\\"url\\\":\\\"/assetserver/bf3e344bbbe45b806bbda88c6101232eb1f7318f-knockout.js\\\"},{\\\"name\\\":\\\"knockout_punches\\\",\\\"type\\\":\\\"js\\\",\\\"url\\\":\\\"/assetserver/3ad363ca1664d7335dff0eabc7ebe7d829397430-knockout_punches.js\\\"}],\\\"type\\\":\\\"async_block\\\"})).then((imports) => handler.apply(this, imports));\\n}\\n\")])], Dict{Symbol,Any}(:className => \"field interact-widget\")), Observable{Any} with 0 listeners. Value:\n",
       "Node{WebIO.DOM}(WebIO.DOM(:html, :div), Any[Plot{Plots.GRBackend() n=2}], Dict{Symbol,Any}(:className => \"interact-flex-row interact-widget\"))], Dict{Symbol,Any}())"
      ]
     },
     "execution_count": 23,
     "metadata": {
      "application/vnd.webio.node+json": {
       "kernelId": "8378a9e8-0926-4fd0-ad3d-b73e13156582"
      }
     },
     "output_type": "execute_result"
    }
   ],
   "source": [
    "using Interact, Plots, Random\n",
    "gr(size=(800, 500))\n",
    "\n",
    "@manipulate for i in 1:50, color in [:black, :blue, :green, :red], lw in 1:.2:10\n",
    "    Random.seed!(123)\n",
    "    scatter(rand(i), alpha = i/50, ylim=(0,1), xlim=(0,50), color=color)\n",
    "    plot!(sin, 0, i, color=color, linewidth=lw)\n",
    "end"
   ]
  },
  {
   "cell_type": "markdown",
   "metadata": {
    "extensions": {
     "jupyter_dashboards": {
      "version": 1,
      "views": {
       "grid_default": {},
       "report_default": {
        "hidden": false
       }
      }
     }
    }
   },
   "source": [
    "## Packages working together with no glue code!\n",
    "\n",
    "- Taxi trip records for every yellow Taxi in NYC in 2018\n",
    "    - 10.43 GB\n",
    "    - ~112 Million Rows\n",
    "    - https://data.cityofnewyork.us/Transportation/2018-Yellow-Taxi-Trip-Data/t29m-gskq/data\n",
    "- **Pandas took 165 seconds to load the table into memory.**"
   ]
  },
  {
   "cell_type": "code",
   "execution_count": 24,
   "metadata": {
    "extensions": {
     "jupyter_dashboards": {
      "version": 1,
      "views": {
       "grid_default": {},
       "report_default": {
        "hidden": true
       }
      }
     }
    }
   },
   "outputs": [
    {
     "name": "stdout",
     "output_type": "stream",
     "text": [
      " 45.002162 seconds (452.27 M allocations: 16.890 GiB, 9.49% gc time)\n"
     ]
    },
    {
     "data": {
      "image/svg+xml": [
       "<?xml version=\"1.0\" encoding=\"utf-8\"?>\n",
       "<svg xmlns=\"http://www.w3.org/2000/svg\" xmlns:xlink=\"http://www.w3.org/1999/xlink\" width=\"800\" height=\"500\" viewBox=\"0 0 3200 2000\">\n",
       "<defs>\n",
       "  <clipPath id=\"clip6800\">\n",
       "    <rect x=\"0\" y=\"0\" width=\"3200\" height=\"2000\"/>\n",
       "  </clipPath>\n",
       "</defs>\n",
       "<polygon clip-path=\"url(#clip6800)\" points=\"\n",
       "0,2000 3200,2000 3200,0 0,0 \n",
       "  \" fill=\"#ffffff\" fill-rule=\"evenodd\" fill-opacity=\"1\"/>\n",
       "<defs>\n",
       "  <clipPath id=\"clip6801\">\n",
       "    <rect x=\"640\" y=\"0\" width=\"2241\" height=\"2000\"/>\n",
       "  </clipPath>\n",
       "</defs>\n",
       "<polygon clip-path=\"url(#clip6800)\" points=\"\n",
       "259.272,1885.57 3152.76,1885.57 3152.76,118.007 259.272,118.007 \n",
       "  \" fill=\"#ffffff\" fill-rule=\"evenodd\" fill-opacity=\"1\"/>\n",
       "<defs>\n",
       "  <clipPath id=\"clip6802\">\n",
       "    <rect x=\"259\" y=\"118\" width=\"2894\" height=\"1769\"/>\n",
       "  </clipPath>\n",
       "</defs>\n",
       "<polyline clip-path=\"url(#clip6802)\" style=\"stroke:#000000; stroke-width:2; stroke-opacity:0.1; fill:none\" points=\"\n",
       "  505.714,1885.57 505.714,118.007 \n",
       "  \"/>\n",
       "<polyline clip-path=\"url(#clip6802)\" style=\"stroke:#000000; stroke-width:2; stroke-opacity:0.1; fill:none\" points=\"\n",
       "  723.95,1885.57 723.95,118.007 \n",
       "  \"/>\n",
       "<polyline clip-path=\"url(#clip6802)\" style=\"stroke:#000000; stroke-width:2; stroke-opacity:0.1; fill:none\" points=\"\n",
       "  942.187,1885.57 942.187,118.007 \n",
       "  \"/>\n",
       "<polyline clip-path=\"url(#clip6802)\" style=\"stroke:#000000; stroke-width:2; stroke-opacity:0.1; fill:none\" points=\"\n",
       "  1160.42,1885.57 1160.42,118.007 \n",
       "  \"/>\n",
       "<polyline clip-path=\"url(#clip6802)\" style=\"stroke:#000000; stroke-width:2; stroke-opacity:0.1; fill:none\" points=\"\n",
       "  1378.66,1885.57 1378.66,118.007 \n",
       "  \"/>\n",
       "<polyline clip-path=\"url(#clip6802)\" style=\"stroke:#000000; stroke-width:2; stroke-opacity:0.1; fill:none\" points=\"\n",
       "  1596.9,1885.57 1596.9,118.007 \n",
       "  \"/>\n",
       "<polyline clip-path=\"url(#clip6802)\" style=\"stroke:#000000; stroke-width:2; stroke-opacity:0.1; fill:none\" points=\"\n",
       "  1815.13,1885.57 1815.13,118.007 \n",
       "  \"/>\n",
       "<polyline clip-path=\"url(#clip6802)\" style=\"stroke:#000000; stroke-width:2; stroke-opacity:0.1; fill:none\" points=\"\n",
       "  2033.37,1885.57 2033.37,118.007 \n",
       "  \"/>\n",
       "<polyline clip-path=\"url(#clip6802)\" style=\"stroke:#000000; stroke-width:2; stroke-opacity:0.1; fill:none\" points=\"\n",
       "  2251.61,1885.57 2251.61,118.007 \n",
       "  \"/>\n",
       "<polyline clip-path=\"url(#clip6802)\" style=\"stroke:#000000; stroke-width:2; stroke-opacity:0.1; fill:none\" points=\"\n",
       "  2469.84,1885.57 2469.84,118.007 \n",
       "  \"/>\n",
       "<polyline clip-path=\"url(#clip6802)\" style=\"stroke:#000000; stroke-width:2; stroke-opacity:0.1; fill:none\" points=\"\n",
       "  2688.08,1885.57 2688.08,118.007 \n",
       "  \"/>\n",
       "<polyline clip-path=\"url(#clip6802)\" style=\"stroke:#000000; stroke-width:2; stroke-opacity:0.1; fill:none\" points=\"\n",
       "  2906.31,1885.57 2906.31,118.007 \n",
       "  \"/>\n",
       "<polyline clip-path=\"url(#clip6802)\" style=\"stroke:#000000; stroke-width:2; stroke-opacity:0.1; fill:none\" points=\"\n",
       "  259.272,1835.55 3152.76,1835.55 \n",
       "  \"/>\n",
       "<polyline clip-path=\"url(#clip6802)\" style=\"stroke:#000000; stroke-width:2; stroke-opacity:0.1; fill:none\" points=\"\n",
       "  259.272,1417.55 3152.76,1417.55 \n",
       "  \"/>\n",
       "<polyline clip-path=\"url(#clip6802)\" style=\"stroke:#000000; stroke-width:2; stroke-opacity:0.1; fill:none\" points=\"\n",
       "  259.272,999.56 3152.76,999.56 \n",
       "  \"/>\n",
       "<polyline clip-path=\"url(#clip6802)\" style=\"stroke:#000000; stroke-width:2; stroke-opacity:0.1; fill:none\" points=\"\n",
       "  259.272,581.567 3152.76,581.567 \n",
       "  \"/>\n",
       "<polyline clip-path=\"url(#clip6802)\" style=\"stroke:#000000; stroke-width:2; stroke-opacity:0.1; fill:none\" points=\"\n",
       "  259.272,163.574 3152.76,163.574 \n",
       "  \"/>\n",
       "<polyline clip-path=\"url(#clip6800)\" style=\"stroke:#000000; stroke-width:4; stroke-opacity:1; fill:none\" points=\"\n",
       "  259.272,1885.57 3152.76,1885.57 \n",
       "  \"/>\n",
       "<polyline clip-path=\"url(#clip6800)\" style=\"stroke:#000000; stroke-width:4; stroke-opacity:1; fill:none\" points=\"\n",
       "  259.272,1885.57 259.272,118.007 \n",
       "  \"/>\n",
       "<polyline clip-path=\"url(#clip6800)\" style=\"stroke:#000000; stroke-width:4; stroke-opacity:1; fill:none\" points=\"\n",
       "  505.714,1885.57 505.714,1859.06 \n",
       "  \"/>\n",
       "<polyline clip-path=\"url(#clip6800)\" style=\"stroke:#000000; stroke-width:4; stroke-opacity:1; fill:none\" points=\"\n",
       "  723.95,1885.57 723.95,1859.06 \n",
       "  \"/>\n",
       "<polyline clip-path=\"url(#clip6800)\" style=\"stroke:#000000; stroke-width:4; stroke-opacity:1; fill:none\" points=\"\n",
       "  942.187,1885.57 942.187,1859.06 \n",
       "  \"/>\n",
       "<polyline clip-path=\"url(#clip6800)\" style=\"stroke:#000000; stroke-width:4; stroke-opacity:1; fill:none\" points=\"\n",
       "  1160.42,1885.57 1160.42,1859.06 \n",
       "  \"/>\n",
       "<polyline clip-path=\"url(#clip6800)\" style=\"stroke:#000000; stroke-width:4; stroke-opacity:1; fill:none\" points=\"\n",
       "  1378.66,1885.57 1378.66,1859.06 \n",
       "  \"/>\n",
       "<polyline clip-path=\"url(#clip6800)\" style=\"stroke:#000000; stroke-width:4; stroke-opacity:1; fill:none\" points=\"\n",
       "  1596.9,1885.57 1596.9,1859.06 \n",
       "  \"/>\n",
       "<polyline clip-path=\"url(#clip6800)\" style=\"stroke:#000000; stroke-width:4; stroke-opacity:1; fill:none\" points=\"\n",
       "  1815.13,1885.57 1815.13,1859.06 \n",
       "  \"/>\n",
       "<polyline clip-path=\"url(#clip6800)\" style=\"stroke:#000000; stroke-width:4; stroke-opacity:1; fill:none\" points=\"\n",
       "  2033.37,1885.57 2033.37,1859.06 \n",
       "  \"/>\n",
       "<polyline clip-path=\"url(#clip6800)\" style=\"stroke:#000000; stroke-width:4; stroke-opacity:1; fill:none\" points=\"\n",
       "  2251.61,1885.57 2251.61,1859.06 \n",
       "  \"/>\n",
       "<polyline clip-path=\"url(#clip6800)\" style=\"stroke:#000000; stroke-width:4; stroke-opacity:1; fill:none\" points=\"\n",
       "  2469.84,1885.57 2469.84,1859.06 \n",
       "  \"/>\n",
       "<polyline clip-path=\"url(#clip6800)\" style=\"stroke:#000000; stroke-width:4; stroke-opacity:1; fill:none\" points=\"\n",
       "  2688.08,1885.57 2688.08,1859.06 \n",
       "  \"/>\n",
       "<polyline clip-path=\"url(#clip6800)\" style=\"stroke:#000000; stroke-width:4; stroke-opacity:1; fill:none\" points=\"\n",
       "  2906.31,1885.57 2906.31,1859.06 \n",
       "  \"/>\n",
       "<polyline clip-path=\"url(#clip6800)\" style=\"stroke:#000000; stroke-width:4; stroke-opacity:1; fill:none\" points=\"\n",
       "  259.272,1835.55 302.675,1835.55 \n",
       "  \"/>\n",
       "<polyline clip-path=\"url(#clip6800)\" style=\"stroke:#000000; stroke-width:4; stroke-opacity:1; fill:none\" points=\"\n",
       "  259.272,1417.55 302.675,1417.55 \n",
       "  \"/>\n",
       "<polyline clip-path=\"url(#clip6800)\" style=\"stroke:#000000; stroke-width:4; stroke-opacity:1; fill:none\" points=\"\n",
       "  259.272,999.56 302.675,999.56 \n",
       "  \"/>\n",
       "<polyline clip-path=\"url(#clip6800)\" style=\"stroke:#000000; stroke-width:4; stroke-opacity:1; fill:none\" points=\"\n",
       "  259.272,581.567 302.675,581.567 \n",
       "  \"/>\n",
       "<polyline clip-path=\"url(#clip6800)\" style=\"stroke:#000000; stroke-width:4; stroke-opacity:1; fill:none\" points=\"\n",
       "  259.272,163.574 302.675,163.574 \n",
       "  \"/>\n",
       "<g clip-path=\"url(#clip6800)\">\n",
       "<text style=\"fill:#000000; fill-opacity:1; font-family:Arial,Helvetica Neue,Helvetica,sans-serif; font-size:48px; text-anchor:middle;\" transform=\"rotate(0, 505.714, 1943.57)\" x=\"505.714\" y=\"1943.57\">0</text>\n",
       "</g>\n",
       "<g clip-path=\"url(#clip6800)\">\n",
       "<text style=\"fill:#000000; fill-opacity:1; font-family:Arial,Helvetica Neue,Helvetica,sans-serif; font-size:48px; text-anchor:middle;\" transform=\"rotate(0, 723.95, 1943.57)\" x=\"723.95\" y=\"1943.57\">1</text>\n",
       "</g>\n",
       "<g clip-path=\"url(#clip6800)\">\n",
       "<text style=\"fill:#000000; fill-opacity:1; font-family:Arial,Helvetica Neue,Helvetica,sans-serif; font-size:48px; text-anchor:middle;\" transform=\"rotate(0, 942.187, 1943.57)\" x=\"942.187\" y=\"1943.57\">2</text>\n",
       "</g>\n",
       "<g clip-path=\"url(#clip6800)\">\n",
       "<text style=\"fill:#000000; fill-opacity:1; font-family:Arial,Helvetica Neue,Helvetica,sans-serif; font-size:48px; text-anchor:middle;\" transform=\"rotate(0, 1160.42, 1943.57)\" x=\"1160.42\" y=\"1943.57\">3</text>\n",
       "</g>\n",
       "<g clip-path=\"url(#clip6800)\">\n",
       "<text style=\"fill:#000000; fill-opacity:1; font-family:Arial,Helvetica Neue,Helvetica,sans-serif; font-size:48px; text-anchor:middle;\" transform=\"rotate(0, 1378.66, 1943.57)\" x=\"1378.66\" y=\"1943.57\">4</text>\n",
       "</g>\n",
       "<g clip-path=\"url(#clip6800)\">\n",
       "<text style=\"fill:#000000; fill-opacity:1; font-family:Arial,Helvetica Neue,Helvetica,sans-serif; font-size:48px; text-anchor:middle;\" transform=\"rotate(0, 1596.9, 1943.57)\" x=\"1596.9\" y=\"1943.57\">5</text>\n",
       "</g>\n",
       "<g clip-path=\"url(#clip6800)\">\n",
       "<text style=\"fill:#000000; fill-opacity:1; font-family:Arial,Helvetica Neue,Helvetica,sans-serif; font-size:48px; text-anchor:middle;\" transform=\"rotate(0, 1815.13, 1943.57)\" x=\"1815.13\" y=\"1943.57\">6</text>\n",
       "</g>\n",
       "<g clip-path=\"url(#clip6800)\">\n",
       "<text style=\"fill:#000000; fill-opacity:1; font-family:Arial,Helvetica Neue,Helvetica,sans-serif; font-size:48px; text-anchor:middle;\" transform=\"rotate(0, 2033.37, 1943.57)\" x=\"2033.37\" y=\"1943.57\">7</text>\n",
       "</g>\n",
       "<g clip-path=\"url(#clip6800)\">\n",
       "<text style=\"fill:#000000; fill-opacity:1; font-family:Arial,Helvetica Neue,Helvetica,sans-serif; font-size:48px; text-anchor:middle;\" transform=\"rotate(0, 2251.61, 1943.57)\" x=\"2251.61\" y=\"1943.57\">8</text>\n",
       "</g>\n",
       "<g clip-path=\"url(#clip6800)\">\n",
       "<text style=\"fill:#000000; fill-opacity:1; font-family:Arial,Helvetica Neue,Helvetica,sans-serif; font-size:48px; text-anchor:middle;\" transform=\"rotate(0, 2469.84, 1943.57)\" x=\"2469.84\" y=\"1943.57\">9</text>\n",
       "</g>\n",
       "<g clip-path=\"url(#clip6800)\">\n",
       "<text style=\"fill:#000000; fill-opacity:1; font-family:Arial,Helvetica Neue,Helvetica,sans-serif; font-size:48px; text-anchor:middle;\" transform=\"rotate(0, 2688.08, 1943.57)\" x=\"2688.08\" y=\"1943.57\">96</text>\n",
       "</g>\n",
       "<g clip-path=\"url(#clip6800)\">\n",
       "<text style=\"fill:#000000; fill-opacity:1; font-family:Arial,Helvetica Neue,Helvetica,sans-serif; font-size:48px; text-anchor:middle;\" transform=\"rotate(0, 2906.31, 1943.57)\" x=\"2906.31\" y=\"1943.57\">192</text>\n",
       "</g>\n",
       "<g clip-path=\"url(#clip6800)\">\n",
       "<text style=\"fill:#000000; fill-opacity:1; font-family:Arial,Helvetica Neue,Helvetica,sans-serif; font-size:48px; text-anchor:end;\" transform=\"rotate(0, 227.272, 1853.05)\" x=\"227.272\" y=\"1853.05\">0</text>\n",
       "</g>\n",
       "<g clip-path=\"url(#clip6800)\">\n",
       "<text style=\"fill:#000000; fill-opacity:1; font-family:Arial,Helvetica Neue,Helvetica,sans-serif; font-size:48px; text-anchor:start;\" transform=\"rotate(0, 97.131, 1441.28)\" x=\"97.131\" y=\"1441.28\">2×10</text>\n",
       "</g>\n",
       "<g clip-path=\"url(#clip6800)\">\n",
       "<text style=\"fill:#000000; fill-opacity:1; font-family:Arial,Helvetica Neue,Helvetica,sans-serif; font-size:38px; text-anchor:start;\" transform=\"rotate(0, 205.528, 1413.87)\" x=\"205.528\" y=\"1413.87\">7</text>\n",
       "</g>\n",
       "<g clip-path=\"url(#clip6800)\">\n",
       "<text style=\"fill:#000000; fill-opacity:1; font-family:Arial,Helvetica Neue,Helvetica,sans-serif; font-size:48px; text-anchor:start;\" transform=\"rotate(0, 97.131, 1023.29)\" x=\"97.131\" y=\"1023.29\">4×10</text>\n",
       "</g>\n",
       "<g clip-path=\"url(#clip6800)\">\n",
       "<text style=\"fill:#000000; fill-opacity:1; font-family:Arial,Helvetica Neue,Helvetica,sans-serif; font-size:38px; text-anchor:start;\" transform=\"rotate(0, 205.528, 995.877)\" x=\"205.528\" y=\"995.877\">7</text>\n",
       "</g>\n",
       "<g clip-path=\"url(#clip6800)\">\n",
       "<text style=\"fill:#000000; fill-opacity:1; font-family:Arial,Helvetica Neue,Helvetica,sans-serif; font-size:48px; text-anchor:start;\" transform=\"rotate(0, 97.131, 605.295)\" x=\"97.131\" y=\"605.295\">6×10</text>\n",
       "</g>\n",
       "<g clip-path=\"url(#clip6800)\">\n",
       "<text style=\"fill:#000000; fill-opacity:1; font-family:Arial,Helvetica Neue,Helvetica,sans-serif; font-size:38px; text-anchor:start;\" transform=\"rotate(0, 205.528, 577.884)\" x=\"205.528\" y=\"577.884\">7</text>\n",
       "</g>\n",
       "<g clip-path=\"url(#clip6800)\">\n",
       "<text style=\"fill:#000000; fill-opacity:1; font-family:Arial,Helvetica Neue,Helvetica,sans-serif; font-size:48px; text-anchor:start;\" transform=\"rotate(0, 97.131, 187.302)\" x=\"97.131\" y=\"187.302\">8×10</text>\n",
       "</g>\n",
       "<g clip-path=\"url(#clip6800)\">\n",
       "<text style=\"fill:#000000; fill-opacity:1; font-family:Arial,Helvetica Neue,Helvetica,sans-serif; font-size:38px; text-anchor:start;\" transform=\"rotate(0, 205.528, 159.891)\" x=\"205.528\" y=\"159.891\">7</text>\n",
       "</g>\n",
       "<g clip-path=\"url(#clip6800)\">\n",
       "<text style=\"fill:#000000; fill-opacity:1; font-family:Arial,Helvetica Neue,Helvetica,sans-serif; font-size:82px; text-anchor:middle;\" transform=\"rotate(0, 1706.01, 72)\" x=\"1706.01\" y=\"72\">Number of Passengers in NYC Yellow Taxis (2018)</text>\n",
       "</g>\n",
       "<polygon clip-path=\"url(#clip6802)\" points=\"\n",
       "418.419,1814.58 418.419,1835.55 593.008,1835.55 593.008,1814.58 418.419,1814.58 418.419,1814.58 \n",
       "  \" fill=\"#009af9\" fill-rule=\"evenodd\" fill-opacity=\"1\"/>\n",
       "<polyline clip-path=\"url(#clip6802)\" style=\"stroke:#000000; stroke-width:4; stroke-opacity:1; fill:none\" points=\"\n",
       "  418.419,1814.58 418.419,1835.55 593.008,1835.55 593.008,1814.58 418.419,1814.58 \n",
       "  \"/>\n",
       "<polygon clip-path=\"url(#clip6802)\" points=\"\n",
       "636.656,168.033 636.656,1835.55 811.245,1835.55 811.245,168.033 636.656,168.033 636.656,168.033 \n",
       "  \" fill=\"#009af9\" fill-rule=\"evenodd\" fill-opacity=\"1\"/>\n",
       "<polyline clip-path=\"url(#clip6802)\" style=\"stroke:#000000; stroke-width:4; stroke-opacity:1; fill:none\" points=\"\n",
       "  636.656,168.033 636.656,1835.55 811.245,1835.55 811.245,168.033 636.656,168.033 \n",
       "  \"/>\n",
       "<polygon clip-path=\"url(#clip6802)\" points=\"\n",
       "854.892,1491.37 854.892,1835.55 1029.48,1835.55 1029.48,1491.37 854.892,1491.37 854.892,1491.37 \n",
       "  \" fill=\"#009af9\" fill-rule=\"evenodd\" fill-opacity=\"1\"/>\n",
       "<polyline clip-path=\"url(#clip6802)\" style=\"stroke:#000000; stroke-width:4; stroke-opacity:1; fill:none\" points=\"\n",
       "  854.892,1491.37 854.892,1835.55 1029.48,1835.55 1029.48,1491.37 854.892,1491.37 \n",
       "  \"/>\n",
       "<polygon clip-path=\"url(#clip6802)\" points=\"\n",
       "1073.13,1737.65 1073.13,1835.55 1247.72,1835.55 1247.72,1737.65 1073.13,1737.65 1073.13,1737.65 \n",
       "  \" fill=\"#009af9\" fill-rule=\"evenodd\" fill-opacity=\"1\"/>\n",
       "<polyline clip-path=\"url(#clip6802)\" style=\"stroke:#000000; stroke-width:4; stroke-opacity:1; fill:none\" points=\"\n",
       "  1073.13,1737.65 1073.13,1835.55 1247.72,1835.55 1247.72,1737.65 1073.13,1737.65 \n",
       "  \"/>\n",
       "<polygon clip-path=\"url(#clip6802)\" points=\"\n",
       "1291.36,1789.37 1291.36,1835.55 1465.95,1835.55 1465.95,1789.37 1291.36,1789.37 1291.36,1789.37 \n",
       "  \" fill=\"#009af9\" fill-rule=\"evenodd\" fill-opacity=\"1\"/>\n",
       "<polyline clip-path=\"url(#clip6802)\" style=\"stroke:#000000; stroke-width:4; stroke-opacity:1; fill:none\" points=\"\n",
       "  1291.36,1789.37 1291.36,1835.55 1465.95,1835.55 1465.95,1789.37 1291.36,1789.37 \n",
       "  \"/>\n",
       "<polygon clip-path=\"url(#clip6802)\" points=\"\n",
       "1509.6,1730.19 1509.6,1835.55 1684.19,1835.55 1684.19,1730.19 1509.6,1730.19 1509.6,1730.19 \n",
       "  \" fill=\"#009af9\" fill-rule=\"evenodd\" fill-opacity=\"1\"/>\n",
       "<polyline clip-path=\"url(#clip6802)\" style=\"stroke:#000000; stroke-width:4; stroke-opacity:1; fill:none\" points=\"\n",
       "  1509.6,1730.19 1509.6,1835.55 1684.19,1835.55 1684.19,1730.19 1509.6,1730.19 \n",
       "  \"/>\n",
       "<polygon clip-path=\"url(#clip6802)\" points=\"\n",
       "1727.84,1771.99 1727.84,1835.55 1902.43,1835.55 1902.43,1771.99 1727.84,1771.99 1727.84,1771.99 \n",
       "  \" fill=\"#009af9\" fill-rule=\"evenodd\" fill-opacity=\"1\"/>\n",
       "<polyline clip-path=\"url(#clip6802)\" style=\"stroke:#000000; stroke-width:4; stroke-opacity:1; fill:none\" points=\"\n",
       "  1727.84,1771.99 1727.84,1835.55 1902.43,1835.55 1902.43,1771.99 1727.84,1771.99 \n",
       "  \"/>\n",
       "<polygon clip-path=\"url(#clip6802)\" points=\"\n",
       "1946.07,1835.54 1946.07,1835.55 2120.66,1835.55 2120.66,1835.54 1946.07,1835.54 1946.07,1835.54 \n",
       "  \" fill=\"#009af9\" fill-rule=\"evenodd\" fill-opacity=\"1\"/>\n",
       "<polyline clip-path=\"url(#clip6802)\" style=\"stroke:#000000; stroke-width:4; stroke-opacity:1; fill:none\" points=\"\n",
       "  1946.07,1835.54 1946.07,1835.55 2120.66,1835.55 2120.66,1835.54 1946.07,1835.54 \n",
       "  \"/>\n",
       "<polygon clip-path=\"url(#clip6802)\" points=\"\n",
       "2164.31,1835.54 2164.31,1835.55 2338.9,1835.55 2338.9,1835.54 2164.31,1835.54 2164.31,1835.54 \n",
       "  \" fill=\"#009af9\" fill-rule=\"evenodd\" fill-opacity=\"1\"/>\n",
       "<polyline clip-path=\"url(#clip6802)\" style=\"stroke:#000000; stroke-width:4; stroke-opacity:1; fill:none\" points=\"\n",
       "  2164.31,1835.54 2164.31,1835.55 2338.9,1835.55 2338.9,1835.54 2164.31,1835.54 \n",
       "  \"/>\n",
       "<polygon clip-path=\"url(#clip6802)\" points=\"\n",
       "2382.55,1835.54 2382.55,1835.55 2557.14,1835.55 2557.14,1835.54 2382.55,1835.54 2382.55,1835.54 \n",
       "  \" fill=\"#009af9\" fill-rule=\"evenodd\" fill-opacity=\"1\"/>\n",
       "<polyline clip-path=\"url(#clip6802)\" style=\"stroke:#000000; stroke-width:4; stroke-opacity:1; fill:none\" points=\"\n",
       "  2382.55,1835.54 2382.55,1835.55 2557.14,1835.55 2557.14,1835.54 2382.55,1835.54 \n",
       "  \"/>\n",
       "<polygon clip-path=\"url(#clip6802)\" points=\"\n",
       "2600.78,1835.55 2600.78,1835.55 2775.37,1835.55 2775.37,1835.55 2600.78,1835.55 2600.78,1835.55 \n",
       "  \" fill=\"#009af9\" fill-rule=\"evenodd\" fill-opacity=\"1\"/>\n",
       "<polyline clip-path=\"url(#clip6802)\" style=\"stroke:#000000; stroke-width:4; stroke-opacity:1; fill:none\" points=\"\n",
       "  2600.78,1835.55 2600.78,1835.55 2775.37,1835.55 2775.37,1835.55 2600.78,1835.55 \n",
       "  \"/>\n",
       "<polygon clip-path=\"url(#clip6802)\" points=\"\n",
       "2819.02,1835.55 2819.02,1835.55 2993.61,1835.55 2993.61,1835.55 2819.02,1835.55 2819.02,1835.55 \n",
       "  \" fill=\"#009af9\" fill-rule=\"evenodd\" fill-opacity=\"1\"/>\n",
       "<polyline clip-path=\"url(#clip6802)\" style=\"stroke:#000000; stroke-width:4; stroke-opacity:1; fill:none\" points=\"\n",
       "  2819.02,1835.55 2819.02,1835.55 2993.61,1835.55 2993.61,1835.55 2819.02,1835.55 \n",
       "  \"/>\n",
       "<polygon clip-path=\"url(#clip6800)\" points=\"\n",
       "2608.34,370.487 3056.76,370.487 3056.76,249.527 2608.34,249.527 \n",
       "  \" fill=\"#ffffff\" fill-rule=\"evenodd\" fill-opacity=\"1\"/>\n",
       "<polyline clip-path=\"url(#clip6800)\" style=\"stroke:#000000; stroke-width:4; stroke-opacity:1; fill:none\" points=\"\n",
       "  2608.34,370.487 3056.76,370.487 3056.76,249.527 2608.34,249.527 2608.34,370.487 \n",
       "  \"/>\n",
       "<polygon clip-path=\"url(#clip6800)\" points=\"\n",
       "2640.34,334.199 2832.34,334.199 2832.34,285.815 2640.34,285.815 2640.34,334.199 \n",
       "  \" fill=\"#009af9\" fill-rule=\"evenodd\" fill-opacity=\"1\"/>\n",
       "<polyline clip-path=\"url(#clip6800)\" style=\"stroke:#000000; stroke-width:4; stroke-opacity:1; fill:none\" points=\"\n",
       "  2640.34,334.199 2832.34,334.199 2832.34,285.815 2640.34,285.815 2640.34,334.199 \n",
       "  \"/>\n",
       "<g clip-path=\"url(#clip6800)\">\n",
       "<text style=\"fill:#000000; fill-opacity:1; font-family:Arial,Helvetica Neue,Helvetica,sans-serif; font-size:48px; text-anchor:start;\" transform=\"rotate(0, 2864.34, 327.507)\" x=\"2864.34\" y=\"327.507\">Count</text>\n",
       "</g>\n",
       "</svg>\n"
      ]
     },
     "execution_count": 24,
     "metadata": {},
     "output_type": "execute_result"
    }
   ],
   "source": [
    "using Plots, OnlineStats, CSV, Parsers\n",
    "\n",
    "o = CountMap(Int)\n",
    "\n",
    "path = \"/Users/joday/datasets/2018_Yellow_Taxi_Trip_data.csv\"\n",
    "\n",
    "@time for row in CSV.Rows(path; reusebuffer=true)\n",
    "    fit!(o, Parsers.parse(Int, row.passenger_count))\n",
    "end\n",
    "\n",
    "sort!(o.value)\n",
    "plot(o, title=\"Number of Passengers in NYC Yellow Taxis (2018)\")"
   ]
  },
  {
   "cell_type": "markdown",
   "metadata": {
    "extensions": {
     "jupyter_dashboards": {
      "version": 1,
      "views": {
       "grid_default": {},
       "report_default": {
        "hidden": false
       }
      }
     }
    }
   },
   "source": [
    "# What's new?"
   ]
  },
  {
   "cell_type": "markdown",
   "metadata": {
    "extensions": {
     "jupyter_dashboards": {
      "version": 1,
      "views": {
       "grid_default": {},
       "report_default": {
        "hidden": false
       }
      }
     }
    }
   },
   "source": [
    "## Missing"
   ]
  },
  {
   "cell_type": "code",
   "execution_count": 25,
   "metadata": {
    "extensions": {
     "jupyter_dashboards": {
      "version": 1,
      "views": {
       "grid_default": {},
       "report_default": {
        "hidden": true
       }
      }
     }
    }
   },
   "outputs": [
    {
     "data": {
      "text/plain": [
       "missing"
      ]
     },
     "execution_count": 25,
     "metadata": {},
     "output_type": "execute_result"
    }
   ],
   "source": [
    "missing"
   ]
  },
  {
   "cell_type": "code",
   "execution_count": 26,
   "metadata": {
    "extensions": {
     "jupyter_dashboards": {
      "version": 1,
      "views": {
       "grid_default": {},
       "report_default": {
        "hidden": true
       }
      }
     }
    }
   },
   "outputs": [
    {
     "data": {
      "text/plain": [
       "missing"
      ]
     },
     "execution_count": 26,
     "metadata": {},
     "output_type": "execute_result"
    }
   ],
   "source": [
    "sum([1, missing, 3])"
   ]
  },
  {
   "cell_type": "code",
   "execution_count": 27,
   "metadata": {
    "extensions": {
     "jupyter_dashboards": {
      "version": 1,
      "views": {
       "grid_default": {},
       "report_default": {
        "hidden": true
       }
      }
     }
    }
   },
   "outputs": [
    {
     "data": {
      "text/plain": [
       "4"
      ]
     },
     "execution_count": 27,
     "metadata": {},
     "output_type": "execute_result"
    }
   ],
   "source": [
    "sum(skipmissing([1, missing, 3]))"
   ]
  },
  {
   "cell_type": "markdown",
   "metadata": {
    "extensions": {
     "jupyter_dashboards": {
      "version": 1,
      "views": {
       "grid_default": {},
       "report_default": {
        "hidden": false
       }
      }
     }
    }
   },
   "source": [
    "## Package Manager, `Pkg`\n",
    "\n",
    "Based on two files: \n",
    "\n",
    "1. `Project.toml` - List of dependencies\n",
    "2. `Manifest.toml` - List of exact package versions installed\n",
    "\n",
    "Replicate an environment exactly by simply sharing your `Manifest.toml` file"
   ]
  },
  {
   "cell_type": "code",
   "execution_count": 28,
   "metadata": {
    "extensions": {
     "jupyter_dashboards": {
      "version": 1,
      "views": {
       "grid_default": {},
       "report_default": {
        "hidden": true
       }
      }
     }
    }
   },
   "outputs": [
    {
     "name": "stdout",
     "output_type": "stream",
     "text": [
      "\u001b[32m\u001b[1m    Status\u001b[22m\u001b[39m `~/.julia/environments/v1.2/Project.toml`\n",
      " \u001b[90m [77b51b56]\u001b[39m\u001b[37m AverageShiftedHistograms v0.8.1\u001b[39m\n",
      " \u001b[90m [6e4b80f9]\u001b[39m\u001b[37m BenchmarkTools v0.4.2\u001b[39m\n",
      " \u001b[90m [336ed68f]\u001b[39m\u001b[37m CSV v0.5.11\u001b[39m\n",
      " \u001b[90m [a93c6f00]\u001b[39m\u001b[37m DataFrames v0.19.3\u001b[39m\n",
      " \u001b[90m [31c24e10]\u001b[39m\u001b[37m Distributions v0.21.1\u001b[39m\n",
      " \u001b[90m [587475ba]\u001b[39m\u001b[37m Flux v0.9.0\u001b[39m\n",
      " \u001b[90m [bd48cda9]\u001b[39m\u001b[37m GraphRecipes v0.4.0\u001b[39m\n",
      " \u001b[90m [7073ff75]\u001b[39m\u001b[37m IJulia v1.20.0\u001b[39m\n",
      " \u001b[90m [6deec6e2]\u001b[39m\u001b[37m IndexedTables v0.12.2\u001b[39m\n",
      " \u001b[90m [c601a237]\u001b[39m\u001b[37m Interact v0.10.3\u001b[39m\n",
      " \u001b[90m [d3863d7c]\u001b[39m\u001b[37m InteractBase v0.10.3\u001b[39m\n",
      " \u001b[90m [a93385a2]\u001b[39m\u001b[37m JuliaDB v0.12.0\u001b[39m\n",
      " \u001b[90m [30fc2ffe]\u001b[39m\u001b[37m LossFunctions v0.5.1+ [`~/.julia/dev/LossFunctions`]\u001b[39m\n",
      " \u001b[90m [add582a8]\u001b[39m\u001b[37m MLJ v0.2.3\u001b[39m\n",
      " \u001b[90m [a15396b6]\u001b[39m\u001b[37m OnlineStats v0.23.0\u001b[39m\n",
      " \u001b[90m [925886fa]\u001b[39m\u001b[37m OnlineStatsBase v0.10.2\u001b[39m\n",
      " \u001b[90m [bac558e1]\u001b[39m\u001b[37m OrderedCollections v1.1.0\u001b[39m\n",
      " \u001b[90m [69de0a69]\u001b[39m\u001b[37m Parsers v0.3.7\u001b[39m\n",
      " \u001b[90m [91a5bcdd]\u001b[39m\u001b[37m Plots v0.26.2\u001b[39m\n",
      " \u001b[90m [92933f4c]\u001b[39m\u001b[37m ProgressMeter v1.0.0\u001b[39m\n",
      " \u001b[90m [438e738f]\u001b[39m\u001b[37m PyCall v1.91.2\u001b[39m\n",
      " \u001b[90m [6f49c342]\u001b[39m\u001b[37m RCall v0.13.4\u001b[39m\n",
      " \u001b[90m [3cdcf5f2]\u001b[39m\u001b[37m RecipesBase v0.7.0\u001b[39m\n",
      " \u001b[90m [2913bbd2]\u001b[39m\u001b[37m StatsBase v0.32.0\u001b[39m\n",
      " \u001b[90m [f3b207a7]\u001b[39m\u001b[37m StatsPlots v0.10.2\u001b[39m\n",
      " \u001b[90m [0f1e0344]\u001b[39m\u001b[37m WebIO v0.8.11\u001b[39m\n",
      " \u001b[90m [e88e6eb3]\u001b[39m\u001b[37m Zygote v0.3.4\u001b[39m\n"
     ]
    }
   ],
   "source": [
    "using Pkg\n",
    "\n",
    "Pkg.status()"
   ]
  },
  {
   "cell_type": "markdown",
   "metadata": {
    "extensions": {
     "jupyter_dashboards": {
      "version": 1,
      "views": {
       "grid_default": {},
       "report_default": {
        "hidden": false
       }
      }
     }
    }
   },
   "source": [
    "# Named Tuples"
   ]
  },
  {
   "cell_type": "code",
   "execution_count": 29,
   "metadata": {
    "extensions": {
     "jupyter_dashboards": {
      "version": 1,
      "views": {
       "grid_default": {},
       "report_default": {
        "hidden": true
       }
      }
     }
    }
   },
   "outputs": [
    {
     "data": {
      "text/plain": [
       "(x = 1,\n",
       " y = 2,)"
      ]
     },
     "execution_count": 29,
     "metadata": {},
     "output_type": "execute_result"
    }
   ],
   "source": [
    "(x=1, y=2)"
   ]
  },
  {
   "cell_type": "markdown",
   "metadata": {
    "extensions": {
     "jupyter_dashboards": {
      "version": 1,
      "views": {
       "grid_default": {},
       "report_default": {
        "hidden": false
       }
      }
     }
    }
   },
   "source": [
    "# Generators\n",
    "\n",
    "- Lazily map a function/filter to a collection"
   ]
  },
  {
   "cell_type": "code",
   "execution_count": 30,
   "metadata": {
    "extensions": {
     "jupyter_dashboards": {
      "version": 1,
      "views": {
       "grid_default": {},
       "report_default": {
        "hidden": true
       }
      }
     }
    }
   },
   "outputs": [
    {
     "data": {
      "text/plain": [
       "0.9998229684236556"
      ]
     },
     "execution_count": 30,
     "metadata": {},
     "output_type": "execute_result"
    }
   ],
   "source": [
    "x = randn(10^7)\n",
    "\n",
    "g = (xi^2 for xi in x if xi > 0)\n",
    "\n",
    "mean(g)"
   ]
  },
  {
   "cell_type": "markdown",
   "metadata": {
    "extensions": {
     "jupyter_dashboards": {
      "version": 1,
      "views": {
       "grid_default": {},
       "report_default": {
        "hidden": false
       }
      }
     }
    }
   },
   "source": [
    "# Composable (parallel tasks that call other parallel tasks) Multi-threading!\n",
    "\n",
    "- Partially supported in 1.2.  Full support coming in 1.3!\n",
    "\n",
    "https://julialang.org/blog/2019/07/multithreading"
   ]
  },
  {
   "cell_type": "code",
   "execution_count": 31,
   "metadata": {
    "extensions": {
     "jupyter_dashboards": {
      "version": 1,
      "views": {
       "grid_default": {},
       "report_default": {
        "hidden": true
       }
      }
     }
    }
   },
   "outputs": [
    {
     "name": "stdout",
     "output_type": "stream",
     "text": [
      "i = 7 on thread 3\n",
      "i = 4 on thread 2\n",
      "i = 1 on thread 1\n",
      "i = 5 on thread 2\n",
      "i = 9 on thread 4"
     ]
    }
   ],
   "source": [
    "Threads.@threads for i = 1:10\n",
    "    println(\"i = $i on thread $(Threads.threadid())\")\n",
    "end"
   ]
  },
  {
   "cell_type": "markdown",
   "metadata": {
    "extensions": {
     "jupyter_dashboards": {
      "version": 1,
      "views": {
       "grid_default": {},
       "report_default": {
        "hidden": false
       }
      }
     }
    }
   },
   "source": [
    "# Distributed Parallelism"
   ]
  },
  {
   "cell_type": "code",
   "execution_count": 32,
   "metadata": {
    "extensions": {
     "jupyter_dashboards": {
      "version": 1,
      "views": {
       "grid_default": {},
       "report_default": {
        "hidden": true
       }
      }
     }
    }
   },
   "outputs": [
    {
     "data": {
      "image/svg+xml": [
       "<?xml version=\"1.0\" encoding=\"utf-8\"?>\n",
       "<svg xmlns=\"http://www.w3.org/2000/svg\" xmlns:xlink=\"http://www.w3.org/1999/xlink\" width=\"800\" height=\"500\" viewBox=\"0 0 3200 2000\">\n",
       "<defs>\n",
       "  <clipPath id=\"clip7200\">\n",
       "    <rect x=\"0\" y=\"0\" width=\"3200\" height=\"2000\"/>\n",
       "  </clipPath>\n",
       "</defs>\n",
       "<polygon clip-path=\"url(#clip7200)\" points=\"\n",
       "0,2000 3200,2000 3200,0 0,0 \n",
       "  \" fill=\"#ffffff\" fill-rule=\"evenodd\" fill-opacity=\"1\"/>\n",
       "<defs>\n",
       "  <clipPath id=\"clip7201\">\n",
       "    <rect x=\"640\" y=\"0\" width=\"2241\" height=\"2000\"/>\n",
       "  </clipPath>\n",
       "</defs>\n",
       "<polygon clip-path=\"url(#clip7200)\" points=\"\n",
       "161.898,1885.57 3152.76,1885.57 3152.76,47.2441 161.898,47.2441 \n",
       "  \" fill=\"#ffffff\" fill-rule=\"evenodd\" fill-opacity=\"1\"/>\n",
       "<defs>\n",
       "  <clipPath id=\"clip7202\">\n",
       "    <rect x=\"161\" y=\"47\" width=\"2992\" height=\"1839\"/>\n",
       "  </clipPath>\n",
       "</defs>\n",
       "<polyline clip-path=\"url(#clip7202)\" style=\"stroke:#000000; stroke-width:2; stroke-opacity:0.1; fill:none\" points=\"\n",
       "  543.292,1885.57 543.292,47.2441 \n",
       "  \"/>\n",
       "<polyline clip-path=\"url(#clip7202)\" style=\"stroke:#000000; stroke-width:2; stroke-opacity:0.1; fill:none\" points=\"\n",
       "  1100.06,1885.57 1100.06,47.2441 \n",
       "  \"/>\n",
       "<polyline clip-path=\"url(#clip7202)\" style=\"stroke:#000000; stroke-width:2; stroke-opacity:0.1; fill:none\" points=\"\n",
       "  1656.82,1885.57 1656.82,47.2441 \n",
       "  \"/>\n",
       "<polyline clip-path=\"url(#clip7202)\" style=\"stroke:#000000; stroke-width:2; stroke-opacity:0.1; fill:none\" points=\"\n",
       "  2213.59,1885.57 2213.59,47.2441 \n",
       "  \"/>\n",
       "<polyline clip-path=\"url(#clip7202)\" style=\"stroke:#000000; stroke-width:2; stroke-opacity:0.1; fill:none\" points=\"\n",
       "  2770.36,1885.57 2770.36,47.2441 \n",
       "  \"/>\n",
       "<polyline clip-path=\"url(#clip7202)\" style=\"stroke:#000000; stroke-width:2; stroke-opacity:0.1; fill:none\" points=\"\n",
       "  161.898,1833.54 3152.76,1833.54 \n",
       "  \"/>\n",
       "<polyline clip-path=\"url(#clip7202)\" style=\"stroke:#000000; stroke-width:2; stroke-opacity:0.1; fill:none\" points=\"\n",
       "  161.898,1514.36 3152.76,1514.36 \n",
       "  \"/>\n",
       "<polyline clip-path=\"url(#clip7202)\" style=\"stroke:#000000; stroke-width:2; stroke-opacity:0.1; fill:none\" points=\"\n",
       "  161.898,1195.18 3152.76,1195.18 \n",
       "  \"/>\n",
       "<polyline clip-path=\"url(#clip7202)\" style=\"stroke:#000000; stroke-width:2; stroke-opacity:0.1; fill:none\" points=\"\n",
       "  161.898,876.005 3152.76,876.005 \n",
       "  \"/>\n",
       "<polyline clip-path=\"url(#clip7202)\" style=\"stroke:#000000; stroke-width:2; stroke-opacity:0.1; fill:none\" points=\"\n",
       "  161.898,556.825 3152.76,556.825 \n",
       "  \"/>\n",
       "<polyline clip-path=\"url(#clip7202)\" style=\"stroke:#000000; stroke-width:2; stroke-opacity:0.1; fill:none\" points=\"\n",
       "  161.898,237.646 3152.76,237.646 \n",
       "  \"/>\n",
       "<polyline clip-path=\"url(#clip7200)\" style=\"stroke:#000000; stroke-width:4; stroke-opacity:1; fill:none\" points=\"\n",
       "  161.898,1885.57 3152.76,1885.57 \n",
       "  \"/>\n",
       "<polyline clip-path=\"url(#clip7200)\" style=\"stroke:#000000; stroke-width:4; stroke-opacity:1; fill:none\" points=\"\n",
       "  161.898,1885.57 161.898,47.2441 \n",
       "  \"/>\n",
       "<polyline clip-path=\"url(#clip7200)\" style=\"stroke:#000000; stroke-width:4; stroke-opacity:1; fill:none\" points=\"\n",
       "  543.292,1885.57 543.292,1858 \n",
       "  \"/>\n",
       "<polyline clip-path=\"url(#clip7200)\" style=\"stroke:#000000; stroke-width:4; stroke-opacity:1; fill:none\" points=\"\n",
       "  1100.06,1885.57 1100.06,1858 \n",
       "  \"/>\n",
       "<polyline clip-path=\"url(#clip7200)\" style=\"stroke:#000000; stroke-width:4; stroke-opacity:1; fill:none\" points=\"\n",
       "  1656.82,1885.57 1656.82,1858 \n",
       "  \"/>\n",
       "<polyline clip-path=\"url(#clip7200)\" style=\"stroke:#000000; stroke-width:4; stroke-opacity:1; fill:none\" points=\"\n",
       "  2213.59,1885.57 2213.59,1858 \n",
       "  \"/>\n",
       "<polyline clip-path=\"url(#clip7200)\" style=\"stroke:#000000; stroke-width:4; stroke-opacity:1; fill:none\" points=\"\n",
       "  2770.36,1885.57 2770.36,1858 \n",
       "  \"/>\n",
       "<polyline clip-path=\"url(#clip7200)\" style=\"stroke:#000000; stroke-width:4; stroke-opacity:1; fill:none\" points=\"\n",
       "  161.898,1833.54 206.761,1833.54 \n",
       "  \"/>\n",
       "<polyline clip-path=\"url(#clip7200)\" style=\"stroke:#000000; stroke-width:4; stroke-opacity:1; fill:none\" points=\"\n",
       "  161.898,1514.36 206.761,1514.36 \n",
       "  \"/>\n",
       "<polyline clip-path=\"url(#clip7200)\" style=\"stroke:#000000; stroke-width:4; stroke-opacity:1; fill:none\" points=\"\n",
       "  161.898,1195.18 206.761,1195.18 \n",
       "  \"/>\n",
       "<polyline clip-path=\"url(#clip7200)\" style=\"stroke:#000000; stroke-width:4; stroke-opacity:1; fill:none\" points=\"\n",
       "  161.898,876.005 206.761,876.005 \n",
       "  \"/>\n",
       "<polyline clip-path=\"url(#clip7200)\" style=\"stroke:#000000; stroke-width:4; stroke-opacity:1; fill:none\" points=\"\n",
       "  161.898,556.825 206.761,556.825 \n",
       "  \"/>\n",
       "<polyline clip-path=\"url(#clip7200)\" style=\"stroke:#000000; stroke-width:4; stroke-opacity:1; fill:none\" points=\"\n",
       "  161.898,237.646 206.761,237.646 \n",
       "  \"/>\n",
       "<g clip-path=\"url(#clip7200)\">\n",
       "<text style=\"fill:#000000; fill-opacity:1; font-family:Arial,Helvetica Neue,Helvetica,sans-serif; font-size:48px; text-anchor:middle;\" transform=\"rotate(0, 543.292, 1943.57)\" x=\"543.292\" y=\"1943.57\">-4</text>\n",
       "</g>\n",
       "<g clip-path=\"url(#clip7200)\">\n",
       "<text style=\"fill:#000000; fill-opacity:1; font-family:Arial,Helvetica Neue,Helvetica,sans-serif; font-size:48px; text-anchor:middle;\" transform=\"rotate(0, 1100.06, 1943.57)\" x=\"1100.06\" y=\"1943.57\">-2</text>\n",
       "</g>\n",
       "<g clip-path=\"url(#clip7200)\">\n",
       "<text style=\"fill:#000000; fill-opacity:1; font-family:Arial,Helvetica Neue,Helvetica,sans-serif; font-size:48px; text-anchor:middle;\" transform=\"rotate(0, 1656.82, 1943.57)\" x=\"1656.82\" y=\"1943.57\">0</text>\n",
       "</g>\n",
       "<g clip-path=\"url(#clip7200)\">\n",
       "<text style=\"fill:#000000; fill-opacity:1; font-family:Arial,Helvetica Neue,Helvetica,sans-serif; font-size:48px; text-anchor:middle;\" transform=\"rotate(0, 2213.59, 1943.57)\" x=\"2213.59\" y=\"1943.57\">2</text>\n",
       "</g>\n",
       "<g clip-path=\"url(#clip7200)\">\n",
       "<text style=\"fill:#000000; fill-opacity:1; font-family:Arial,Helvetica Neue,Helvetica,sans-serif; font-size:48px; text-anchor:middle;\" transform=\"rotate(0, 2770.36, 1943.57)\" x=\"2770.36\" y=\"1943.57\">4</text>\n",
       "</g>\n",
       "<g clip-path=\"url(#clip7200)\">\n",
       "<text style=\"fill:#000000; fill-opacity:1; font-family:Arial,Helvetica Neue,Helvetica,sans-serif; font-size:48px; text-anchor:end;\" transform=\"rotate(0, 129.898, 1851.04)\" x=\"129.898\" y=\"1851.04\">0.0</text>\n",
       "</g>\n",
       "<g clip-path=\"url(#clip7200)\">\n",
       "<text style=\"fill:#000000; fill-opacity:1; font-family:Arial,Helvetica Neue,Helvetica,sans-serif; font-size:48px; text-anchor:end;\" transform=\"rotate(0, 129.898, 1531.86)\" x=\"129.898\" y=\"1531.86\">0.1</text>\n",
       "</g>\n",
       "<g clip-path=\"url(#clip7200)\">\n",
       "<text style=\"fill:#000000; fill-opacity:1; font-family:Arial,Helvetica Neue,Helvetica,sans-serif; font-size:48px; text-anchor:end;\" transform=\"rotate(0, 129.898, 1212.68)\" x=\"129.898\" y=\"1212.68\">0.2</text>\n",
       "</g>\n",
       "<g clip-path=\"url(#clip7200)\">\n",
       "<text style=\"fill:#000000; fill-opacity:1; font-family:Arial,Helvetica Neue,Helvetica,sans-serif; font-size:48px; text-anchor:end;\" transform=\"rotate(0, 129.898, 893.505)\" x=\"129.898\" y=\"893.505\">0.3</text>\n",
       "</g>\n",
       "<g clip-path=\"url(#clip7200)\">\n",
       "<text style=\"fill:#000000; fill-opacity:1; font-family:Arial,Helvetica Neue,Helvetica,sans-serif; font-size:48px; text-anchor:end;\" transform=\"rotate(0, 129.898, 574.325)\" x=\"129.898\" y=\"574.325\">0.4</text>\n",
       "</g>\n",
       "<g clip-path=\"url(#clip7200)\">\n",
       "<text style=\"fill:#000000; fill-opacity:1; font-family:Arial,Helvetica Neue,Helvetica,sans-serif; font-size:48px; text-anchor:end;\" transform=\"rotate(0, 129.898, 255.146)\" x=\"129.898\" y=\"255.146\">0.5</text>\n",
       "</g>\n",
       "<polyline clip-path=\"url(#clip7202)\" style=\"stroke:#009af9; stroke-width:12; stroke-opacity:0.5; fill:none\" points=\"\n",
       "  246.545,1833.54 246.545,1833.54 \n",
       "  \"/>\n",
       "<polyline clip-path=\"url(#clip7202)\" style=\"stroke:#009af9; stroke-width:12; stroke-opacity:0.5; fill:none\" points=\"\n",
       "  289.886,1833.54 289.886,1833.53 \n",
       "  \"/>\n",
       "<polyline clip-path=\"url(#clip7202)\" style=\"stroke:#009af9; stroke-width:12; stroke-opacity:0.5; fill:none\" points=\"\n",
       "  439.551,1833.54 439.551,1833.48 \n",
       "  \"/>\n",
       "<polyline clip-path=\"url(#clip7202)\" style=\"stroke:#009af9; stroke-width:12; stroke-opacity:0.5; fill:none\" points=\"\n",
       "  538.884,1833.54 538.884,1833.12 \n",
       "  \"/>\n",
       "<polyline clip-path=\"url(#clip7202)\" style=\"stroke:#009af9; stroke-width:12; stroke-opacity:0.5; fill:none\" points=\"\n",
       "  642.061,1833.54 642.061,1831.99 \n",
       "  \"/>\n",
       "<polyline clip-path=\"url(#clip7202)\" style=\"stroke:#009af9; stroke-width:12; stroke-opacity:0.5; fill:none\" points=\"\n",
       "  740.507,1833.54 740.507,1828.23 \n",
       "  \"/>\n",
       "<polyline clip-path=\"url(#clip7202)\" style=\"stroke:#009af9; stroke-width:12; stroke-opacity:0.5; fill:none\" points=\"\n",
       "  830.689,1833.54 830.689,1819.6 \n",
       "  \"/>\n",
       "<polyline clip-path=\"url(#clip7202)\" style=\"stroke:#009af9; stroke-width:12; stroke-opacity:0.5; fill:none\" points=\"\n",
       "  938.642,1833.54 938.642,1781.12 \n",
       "  \"/>\n",
       "<polyline clip-path=\"url(#clip7202)\" style=\"stroke:#009af9; stroke-width:12; stroke-opacity:0.5; fill:none\" points=\"\n",
       "  1044.15,1833.54 1044.15,1712.57 \n",
       "  \"/>\n",
       "<polyline clip-path=\"url(#clip7202)\" style=\"stroke:#009af9; stroke-width:12; stroke-opacity:0.5; fill:none\" points=\"\n",
       "  1120.16,1833.54 1120.16,1725.26 \n",
       "  \"/>\n",
       "<polyline clip-path=\"url(#clip7202)\" style=\"stroke:#009af9; stroke-width:12; stroke-opacity:0.5; fill:none\" points=\"\n",
       "  1187.39,1833.54 1187.39,1559.09 \n",
       "  \"/>\n",
       "<polyline clip-path=\"url(#clip7202)\" style=\"stroke:#009af9; stroke-width:12; stroke-opacity:0.5; fill:none\" points=\"\n",
       "  1271.9,1833.54 1271.9,1405 \n",
       "  \"/>\n",
       "<polyline clip-path=\"url(#clip7202)\" style=\"stroke:#009af9; stroke-width:12; stroke-opacity:0.5; fill:none\" points=\"\n",
       "  1355.2,1833.54 1355.2,1213.76 \n",
       "  \"/>\n",
       "<polyline clip-path=\"url(#clip7202)\" style=\"stroke:#009af9; stroke-width:12; stroke-opacity:0.5; fill:none\" points=\"\n",
       "  1444.18,1833.54 1444.18,915.317 \n",
       "  \"/>\n",
       "<polyline clip-path=\"url(#clip7202)\" style=\"stroke:#009af9; stroke-width:12; stroke-opacity:0.5; fill:none\" points=\"\n",
       "  1555.56,1833.54 1555.56,99.2722 \n",
       "  \"/>\n",
       "<polyline clip-path=\"url(#clip7202)\" style=\"stroke:#009af9; stroke-width:12; stroke-opacity:0.5; fill:none\" points=\"\n",
       "  1665.65,1833.54 1665.65,723.112 \n",
       "  \"/>\n",
       "<polyline clip-path=\"url(#clip7202)\" style=\"stroke:#009af9; stroke-width:12; stroke-opacity:0.5; fill:none\" points=\"\n",
       "  1752.88,1833.54 1752.88,593.694 \n",
       "  \"/>\n",
       "<polyline clip-path=\"url(#clip7202)\" style=\"stroke:#009af9; stroke-width:12; stroke-opacity:0.5; fill:none\" points=\"\n",
       "  1844.04,1833.54 1844.04,959.857 \n",
       "  \"/>\n",
       "<polyline clip-path=\"url(#clip7202)\" style=\"stroke:#009af9; stroke-width:12; stroke-opacity:0.5; fill:none\" points=\"\n",
       "  1931.31,1833.54 1931.31,1064.49 \n",
       "  \"/>\n",
       "<polyline clip-path=\"url(#clip7202)\" style=\"stroke:#009af9; stroke-width:12; stroke-opacity:0.5; fill:none\" points=\"\n",
       "  2018.65,1833.54 2018.65,1345.51 \n",
       "  \"/>\n",
       "<polyline clip-path=\"url(#clip7202)\" style=\"stroke:#009af9; stroke-width:12; stroke-opacity:0.5; fill:none\" points=\"\n",
       "  2107.09,1833.54 2107.09,1480.81 \n",
       "  \"/>\n",
       "<polyline clip-path=\"url(#clip7202)\" style=\"stroke:#009af9; stroke-width:12; stroke-opacity:0.5; fill:none\" points=\"\n",
       "  2199.49,1833.54 2199.49,1670.57 \n",
       "  \"/>\n",
       "<polyline clip-path=\"url(#clip7202)\" style=\"stroke:#009af9; stroke-width:12; stroke-opacity:0.5; fill:none\" points=\"\n",
       "  2281.45,1833.54 2281.45,1746.19 \n",
       "  \"/>\n",
       "<polyline clip-path=\"url(#clip7202)\" style=\"stroke:#009af9; stroke-width:12; stroke-opacity:0.5; fill:none\" points=\"\n",
       "  2365.24,1833.54 2365.24,1789.51 \n",
       "  \"/>\n",
       "<polyline clip-path=\"url(#clip7202)\" style=\"stroke:#009af9; stroke-width:12; stroke-opacity:0.5; fill:none\" points=\"\n",
       "  2454.25,1833.54 2454.25,1814.34 \n",
       "  \"/>\n",
       "<polyline clip-path=\"url(#clip7202)\" style=\"stroke:#009af9; stroke-width:12; stroke-opacity:0.5; fill:none\" points=\"\n",
       "  2543.49,1833.54 2543.49,1826.64 \n",
       "  \"/>\n",
       "<polyline clip-path=\"url(#clip7202)\" style=\"stroke:#009af9; stroke-width:12; stroke-opacity:0.5; fill:none\" points=\"\n",
       "  2634.52,1833.54 2634.52,1831.02 \n",
       "  \"/>\n",
       "<polyline clip-path=\"url(#clip7202)\" style=\"stroke:#009af9; stroke-width:12; stroke-opacity:0.5; fill:none\" points=\"\n",
       "  2734.56,1833.54 2734.56,1832.91 \n",
       "  \"/>\n",
       "<polyline clip-path=\"url(#clip7202)\" style=\"stroke:#009af9; stroke-width:12; stroke-opacity:0.5; fill:none\" points=\"\n",
       "  2822.04,1833.54 2822.04,1833.39 \n",
       "  \"/>\n",
       "<polyline clip-path=\"url(#clip7202)\" style=\"stroke:#009af9; stroke-width:12; stroke-opacity:0.5; fill:none\" points=\"\n",
       "  2926.23,1833.54 2926.23,1833.51 \n",
       "  \"/>\n",
       "<polyline clip-path=\"url(#clip7202)\" style=\"stroke:#009af9; stroke-width:12; stroke-opacity:0.5; fill:none\" points=\"\n",
       "  3039.99,1833.54 3039.99,1833.53 \n",
       "  \"/>\n",
       "<polyline clip-path=\"url(#clip7202)\" style=\"stroke:#009af9; stroke-width:12; stroke-opacity:0.5; fill:none\" points=\"\n",
       "  3068.11,1833.54 3068.11,1833.54 \n",
       "  \"/>\n",
       "<polygon clip-path=\"url(#clip7200)\" points=\"\n",
       "2685.93,299.724 3056.76,299.724 3056.76,178.764 2685.93,178.764 \n",
       "  \" fill=\"#ffffff\" fill-rule=\"evenodd\" fill-opacity=\"1\"/>\n",
       "<polyline clip-path=\"url(#clip7200)\" style=\"stroke:#000000; stroke-width:4; stroke-opacity:1; fill:none\" points=\"\n",
       "  2685.93,299.724 3056.76,299.724 3056.76,178.764 2685.93,178.764 2685.93,299.724 \n",
       "  \"/>\n",
       "<polyline clip-path=\"url(#clip7200)\" style=\"stroke:#009af9; stroke-width:12; stroke-opacity:0.5; fill:none\" points=\"\n",
       "  2717.93,239.244 2909.93,239.244 \n",
       "  \"/>\n",
       "<g clip-path=\"url(#clip7200)\">\n",
       "<text style=\"fill:#000000; fill-opacity:1; font-family:Arial,Helvetica Neue,Helvetica,sans-serif; font-size:48px; text-anchor:start;\" transform=\"rotate(0, 2941.93, 256.744)\" x=\"2941.93\" y=\"256.744\">y1</text>\n",
       "</g>\n",
       "</svg>\n"
      ]
     },
     "execution_count": 32,
     "metadata": {},
     "output_type": "execute_result"
    }
   ],
   "source": [
    "using Distributed\n",
    "addprocs(3)\n",
    "@everywhere using OnlineStats\n",
    "\n",
    "o = @distributed merge for i in 1:3\n",
    "    s = fit!(KHist(30), randn(10^6))\n",
    "end\n",
    "\n",
    "plot(o, seriestype=sticks, lw=3)"
   ]
  }
 ],
 "metadata": {
  "@webio": {
   "lastCommId": "f31005af0b774c5b8c1f8b7ce347e6e2",
   "lastKernelId": "8378a9e8-0926-4fd0-ad3d-b73e13156582"
  },
  "extensions": {
   "jupyter_dashboards": {
    "activeView": "report_default",
    "version": 1,
    "views": {
     "grid_default": {
      "name": "grid",
      "type": "grid"
     },
     "report_default": {
      "name": "report",
      "type": "report"
     }
    }
   }
  },
  "kernelspec": {
   "display_name": "Julia 1.2.0",
   "language": "julia",
   "name": "julia-1.2"
  },
  "language_info": {
   "file_extension": ".jl",
   "mimetype": "application/julia",
   "name": "julia",
   "version": "1.2.0"
  }
 },
 "nbformat": 4,
 "nbformat_minor": 2
}
