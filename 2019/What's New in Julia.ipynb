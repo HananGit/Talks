{
 "cells": [
  {
   "cell_type": "markdown",
   "metadata": {
    "extensions": {
     "jupyter_dashboards": {
      "version": 1,
      "views": {
       "grid_default": {},
       "report_default": {
        "hidden": false
       }
      }
     }
    }
   },
   "source": [
    "<img width=\"300px\" src=\"https://upload.wikimedia.org/wikipedia/commons/thumb/6/69/Julia_prog_language.svg/1280px-Julia_prog_language.svg.png\">\n",
    "\n",
    "# What's new in Julia\n",
    "\n",
    "## Julia Resources\n",
    "- https://julialang.org\n",
    "- https://pkg.julialang.org/ (finding packages)\n",
    "- https://discourse.julialang.org (ask for help)\n",
    "- http://julialang.slack.com/ (ask for help, typically faster response than Discourse)\n",
    "- https://docs.julialang.org/en/ (documentation)\n",
    "\n",
    "---\n",
    "\n",
    "## First: Why does Julia exist?\n",
    "\n",
    "- Do we need another language?\n",
    "\n",
    "### Sapir-Worf Hypothesis (https://en.wikipedia.org/wiki/Linguistic_relativity)\n",
    "\n",
    "- Your language influences/determines how you think\n",
    "- How you solve problems is influenced by your tools\n",
    "\n",
    "e.g. avoid loops in R/Python\n",
    "\n",
    "### The Two-Language Problem\n",
    "\n",
    "- Write prototype code in an easy language (Python)\n",
    "- Write production code in a fast language (Scala)\n",
    "\n",
    "### Julia's claims are:\n",
    "\n",
    "1. Julia is less restrictive to how you solve problems\n",
    "2. Julia solves the two-language problem\n",
    "\n",
    "### Features\n",
    "\n",
    "**Julia is fast because of this set of features.  There's no magic dust you can go sprinkle on python.**\n",
    "\n",
    "- Type system\n",
    "- Multiple dispatch\n",
    "- Type Inference\n",
    "- Metaprogramming (macros)\n",
    "- Just-in-time (JIT) compilation using LLVM\n",
    "- Clean, familiar syntax\n",
    "- Most of Julia is written in Julia\n",
    "\n",
    "### Micro Benchmarks\n",
    "\n",
    "These micro-benchmarks, while not comprehensive, do test compiler performance on a range of common code patterns, such as function calls, string parsing, sorting, numerical loops, random number generation, recursion, and array operations.\n",
    "\n",
    "![](https://julialang.org/images/benchmarks.svg)"
   ]
  },
  {
   "cell_type": "markdown",
   "metadata": {},
   "source": [
    "---\n",
    "\n",
    "## How does Julia work?\n",
    "\n",
    "### JIT"
   ]
  },
  {
   "cell_type": "code",
   "execution_count": 1,
   "metadata": {},
   "outputs": [
    {
     "name": "stdout",
     "output_type": "stream",
     "text": [
      "  0.025898 seconds (93.20 k allocations: 4.829 MiB, 13.74% gc time)\n"
     ]
    },
    {
     "data": {
      "text/plain": [
       "3.7972691307265762"
      ]
     },
     "execution_count": 1,
     "metadata": {},
     "output_type": "execute_result"
    }
   ],
   "source": [
    "using Random\n",
    "\n",
    "x = randn(100)\n",
    "\n",
    "@time sum(x)  # compile, then run"
   ]
  },
  {
   "cell_type": "code",
   "execution_count": 2,
   "metadata": {},
   "outputs": [
    {
     "name": "stdout",
     "output_type": "stream",
     "text": [
      "  0.000002 seconds (5 allocations: 176 bytes)\n"
     ]
    },
    {
     "data": {
      "text/plain": [
       "3.7972691307265762"
      ]
     },
     "execution_count": 2,
     "metadata": {},
     "output_type": "execute_result"
    }
   ],
   "source": [
    "@time sum(x)  # call compiled function"
   ]
  },
  {
   "cell_type": "markdown",
   "metadata": {},
   "source": [
    "### Type System/Multiple Dispatch"
   ]
  },
  {
   "cell_type": "code",
   "execution_count": 3,
   "metadata": {},
   "outputs": [
    {
     "data": {
      "text/plain": [
       "f (generic function with 3 methods)"
      ]
     },
     "execution_count": 3,
     "metadata": {},
     "output_type": "execute_result"
    }
   ],
   "source": [
    "f(x) = 0  # same as f(x::Any)\n",
    "f(x::Int) = 1\n",
    "f(x::Number) = 2"
   ]
  },
  {
   "cell_type": "code",
   "execution_count": 4,
   "metadata": {},
   "outputs": [
    {
     "data": {
      "text/plain": [
       "1"
      ]
     },
     "execution_count": 4,
     "metadata": {},
     "output_type": "execute_result"
    }
   ],
   "source": [
    "f(1)"
   ]
  },
  {
   "cell_type": "code",
   "execution_count": 5,
   "metadata": {},
   "outputs": [
    {
     "data": {
      "text/plain": [
       "(2, 2)"
      ]
     },
     "execution_count": 5,
     "metadata": {},
     "output_type": "execute_result"
    }
   ],
   "source": [
    "f(1.0), f(Float32(1.0))"
   ]
  },
  {
   "cell_type": "code",
   "execution_count": 6,
   "metadata": {},
   "outputs": [
    {
     "data": {
      "text/plain": [
       "0"
      ]
     },
     "execution_count": 6,
     "metadata": {},
     "output_type": "execute_result"
    }
   ],
   "source": [
    "f(\"hi\")"
   ]
  },
  {
   "cell_type": "markdown",
   "metadata": {},
   "source": [
    "### Generic functions specialize to argument types!"
   ]
  },
  {
   "cell_type": "code",
   "execution_count": 7,
   "metadata": {},
   "outputs": [
    {
     "name": "stdout",
     "output_type": "stream",
     "text": [
      "\n",
      ";  @ In[3]:1 within `f'\n",
      "define i64 @julia_f_16504(%jl_value_t addrspace(10)* nonnull) {\n",
      "top:\n",
      "  ret i64 0\n",
      "}\n"
     ]
    }
   ],
   "source": [
    "@code_llvm f(\"hi\")"
   ]
  },
  {
   "cell_type": "markdown",
   "metadata": {},
   "source": [
    "#### For types, think set theory"
   ]
  },
  {
   "cell_type": "code",
   "execution_count": 8,
   "metadata": {},
   "outputs": [
    {
     "data": {
      "text/html": [
       "<script>\n",
       "// Immediately-invoked-function-expression to avoid global variables.\n",
       "(function() {\n",
       "    var warning_div = document.getElementById(\"webio-warning-14287310397723067492\");\n",
       "    var hide = function () {\n",
       "        var script = document.getElementById(\"webio-setup-2352079602464161852\");\n",
       "        var parent = script && script.parentElement;\n",
       "        var grandparent = parent && parent.parentElement;\n",
       "        if (grandparent) {\n",
       "            grandparent.style.display = \"none\";\n",
       "        }\n",
       "        warning_div.style.display = \"none\";\n",
       "    };\n",
       "    if (typeof Jupyter !== \"undefined\") {\n",
       "        console.log(\"WebIO detected Jupyter notebook environment.\");\n",
       "        // Jupyter notebook.\n",
       "        var extensions = (\n",
       "            Jupyter\n",
       "            && Jupyter.notebook.config.data\n",
       "            && Jupyter.notebook.config.data.load_extensions\n",
       "        );\n",
       "        if (extensions && extensions[\"webio-jupyter-notebook\"]) {\n",
       "            // Extension already loaded.\n",
       "            console.log(\"Jupyter WebIO nbextension detected; not loading ad-hoc.\");\n",
       "            hide();\n",
       "            return;\n",
       "        }\n",
       "    } else if (window.location.pathname.includes(\"/lab\")) {\n",
       "        // Guessing JupyterLa\n",
       "        console.log(\"Jupyter Lab detected; make sure the @webio/jupyter-lab-provider labextension is installed.\");\n",
       "        hide();\n",
       "        return;\n",
       "    }\n",
       "})();\n",
       "\n",
       "</script>\n",
       "<p\n",
       "    id=\"webio-warning-14287310397723067492\"\n",
       "    class=\"output_text output_stderr\"\n",
       "    style=\"padding: 1em; font-weight: bold;\"\n",
       ">\n",
       "    Unable to load WebIO. Please make sure WebIO works for your Jupyter client.\n",
       "    For troubleshooting, please see <a href=\"https://juliagizmos.github.io/WebIO.jl/latest/providers/ijulia/\">\n",
       "    the WebIO/IJulia documentation</a>.\n",
       "    <!-- TODO: link to installation docs. -->\n",
       "</p>\n"
      ],
      "text/plain": [
       "HTML{String}(\"<script>\\n// Immediately-invoked-function-expression to avoid global variables.\\n(function() {\\n    var warning_div = document.getElementById(\\\"webio-warning-14287310397723067492\\\");\\n    var hide = function () {\\n        var script = document.getElementById(\\\"webio-setup-2352079602464161852\\\");\\n        var parent = script && script.parentElement;\\n        var grandparent = parent && parent.parentElement;\\n        if (grandparent) {\\n            grandparent.style.display = \\\"none\\\";\\n        }\\n        warning_div.style.display = \\\"none\\\";\\n    };\\n    if (typeof Jupyter !== \\\"undefined\\\") {\\n        console.log(\\\"WebIO detected Jupyter notebook environment.\\\");\\n        // Jupyter notebook.\\n        var extensions = (\\n            Jupyter\\n            && Jupyter.notebook.config.data\\n            && Jupyter.notebook.config.data.load_extensions\\n        );\\n        if (extensions && extensions[\\\"webio-jupyter-notebook\\\"]) {\\n            // Extension already loaded.\\n            console.log(\\\"Jupyter WebIO nbextension detected; not loading ad-hoc.\\\");\\n            hide();\\n            return;\\n        }\\n    } else if (window.location.pathname.includes(\\\"/lab\\\")) {\\n        // Guessing JupyterLa\\n        console.log(\\\"Jupyter Lab detected; make sure the @webio/jupyter-lab-provider labextension is installed.\\\");\\n        hide();\\n        return;\\n    }\\n})();\\n\\n</script>\\n<p\\n    id=\\\"webio-warning-14287310397723067492\\\"\\n    class=\\\"output_text output_stderr\\\"\\n    style=\\\"padding: 1em; font-weight: bold;\\\"\\n>\\n    Unable to load WebIO. Please make sure WebIO works for your Jupyter client.\\n    For troubleshooting, please see <a href=\\\"https://juliagizmos.github.io/WebIO.jl/latest/providers/ijulia/\\\">\\n    the WebIO/IJulia documentation</a>.\\n    <!-- TODO: link to installation docs. -->\\n</p>\\n\")"
      ]
     },
     "metadata": {},
     "output_type": "display_data"
    },
    {
     "name": "stderr",
     "output_type": "stream",
     "text": [
      "┌ Warning: Accessing `scope.id` is deprecated, use `scopeid(scope)` instead.\n",
      "│   caller = ip:0x0\n",
      "└ @ Core :-1\n"
     ]
    },
    {
     "data": {
      "application/vnd.webio.node+json": {
       "children": [
        {
         "children": [
          {
           "children": [
            {
             "children": [
              {
               "children": [
                {
                 "children": [
                  "T"
                 ],
                 "instanceArgs": {
                  "namespace": "html",
                  "tag": "label"
                 },
                 "nodeType": "DOM",
                 "props": {
                  "className": "interact ",
                  "style": {
                   "padding": "5px 10px 0px 10px"
                  }
                 },
                 "type": "node"
                }
               ],
               "instanceArgs": {
                "namespace": "html",
                "tag": "div"
               },
               "nodeType": "DOM",
               "props": {
                "className": "interact-flex-row-left"
               },
               "type": "node"
              },
              {
               "children": [
                {
                 "children": [
                  {
                   "children": [
                    {
                     "children": [],
                     "instanceArgs": {
                      "namespace": "html",
                      "tag": "label"
                     },
                     "nodeType": "DOM",
                     "props": {
                      "attributes": {
                       "data-bind": "text : key"
                      }
                     },
                     "type": "node"
                    }
                   ],
                   "instanceArgs": {
                    "namespace": "html",
                    "tag": "span"
                   },
                   "nodeType": "DOM",
                   "props": {
                    "attributes": {
                     "data-bind": "click: function (){$root.update(val)}, css: {'is-primary is-selected' : $root.index() == val, 'interact-widget is-medium button ' : true}"
                    }
                   },
                   "type": "node"
                  }
                 ],
                 "instanceArgs": {
                  "namespace": "html",
                  "tag": "div"
                 },
                 "nodeType": "DOM",
                 "props": {
                  "attributes": {
                   "data-bind": "foreach : options_js"
                  },
                  "className": "buttons has-addons is-centered"
                 },
                 "type": "node"
                }
               ],
               "instanceArgs": {
                "namespace": "html",
                "tag": "div"
               },
               "nodeType": "DOM",
               "props": {
                "className": "interact-flex-row-center"
               },
               "type": "node"
              },
              {
               "children": [
                {
                 "children": [],
                 "instanceArgs": {
                  "namespace": "html",
                  "tag": "div"
                 },
                 "nodeType": "DOM",
                 "props": {},
                 "type": "node"
                }
               ],
               "instanceArgs": {
                "namespace": "html",
                "tag": "div"
               },
               "nodeType": "DOM",
               "props": {
                "className": "interact-flex-row-right"
               },
               "type": "node"
              }
             ],
             "instanceArgs": {
              "namespace": "html",
              "tag": "div"
             },
             "nodeType": "DOM",
             "props": {
              "className": "interact-flex-row interact-widget"
             },
             "type": "node"
            }
           ],
           "instanceArgs": {
            "handlers": {
             "index": [
              "(function (val){return (val!=this.model[\"index\"]()) ? (this.valueFromJulia[\"index\"]=true, this.model[\"index\"](val)) : undefined})"
             ],
             "options_js": [
              "(function (val){return (val!=this.model[\"options_js\"]()) ? (this.valueFromJulia[\"options_js\"]=true, this.model[\"options_js\"](val)) : undefined})"
             ]
            },
            "id": "737107316497202962",
            "imports": {
             "data": [
              {
               "name": "knockout",
               "type": "js",
               "url": "/assetserver/bf3e344bbbe45b806bbda88c6101232eb1f7318f-knockout.js"
              },
              {
               "name": "knockout_punches",
               "type": "js",
               "url": "/assetserver/3ad363ca1664d7335dff0eabc7ebe7d829397430-knockout_punches.js"
              },
              {
               "name": null,
               "type": "js",
               "url": "/assetserver/c17843d82807177c96402335f7810c38fb70de05-all.js"
              },
              {
               "name": null,
               "type": "css",
               "url": "/assetserver/cf9b1ef11d5ef7ab3ff5a3942d24ca77dcb679d2-style.css"
              },
              {
               "name": null,
               "type": "css",
               "url": "/assetserver/c591c2d5f890a3e4541fd6b806094298d3ec794b-bulma_confined.min.css"
              }
             ],
             "type": "async_block"
            },
            "mount_callbacks": [
             "function () {\n    var handler = (function (ko, koPunches) {\n    ko.punches.enableAll();\n    ko.bindingHandlers.numericValue = {\n        init: function(element, valueAccessor, allBindings, data, context) {\n            var stringified = ko.observable(ko.unwrap(valueAccessor()));\n            stringified.subscribe(function(value) {\n                var val = parseFloat(value);\n                if (!isNaN(val)) {\n                    valueAccessor()(val);\n                }\n            });\n            valueAccessor().subscribe(function(value) {\n                var str = JSON.stringify(value);\n                if ((str == \"0\") && ([\"-0\", \"-0.\"].indexOf(stringified()) >= 0))\n                     return;\n                 if ([\"null\", \"\"].indexOf(str) >= 0)\n                     return;\n                stringified(str);\n            });\n            ko.applyBindingsToNode(\n                element,\n                {\n                    value: stringified,\n                    valueUpdate: allBindings.get('valueUpdate'),\n                },\n                context,\n            );\n        }\n    };\n    var json_data = {\"options_js\":WebIO.getval({\"name\":\"options_js\",\"scope\":\"737107316497202962\",\"id\":\"ob_05\",\"type\":\"observable\"}),\"index\":WebIO.getval({\"name\":\"index\",\"scope\":\"737107316497202962\",\"id\":\"ob_04\",\"type\":\"observable\"})};\n    var self = this;\n    function AppViewModel() {\n        for (var key in json_data) {\n            var el = json_data[key];\n            this[key] = Array.isArray(el) ? ko.observableArray(el) : ko.observable(el);\n        }\n        [this[\"update\"]=function (val) {this.index(val)}]\n        \n        [this[\"options_js\"].subscribe((function (val){!(this.valueFromJulia[\"options_js\"]) ? (WebIO.setval({\"name\":\"options_js\",\"scope\":\"737107316497202962\",\"id\":\"ob_05\",\"type\":\"observable\"},val)) : undefined; return this.valueFromJulia[\"options_js\"]=false}),self),this[\"index\"].subscribe((function (val){!(this.valueFromJulia[\"index\"]) ? (WebIO.setval({\"name\":\"index\",\"scope\":\"737107316497202962\",\"id\":\"ob_04\",\"type\":\"observable\"},val)) : undefined; return this.valueFromJulia[\"index\"]=false}),self)]\n        \n    }\n    self.model = new AppViewModel();\n    self.valueFromJulia = {};\n    for (var key in json_data) {\n        self.valueFromJulia[key] = false;\n    }\n    ko.applyBindings(self.model, self.dom);\n}\n);\n    (WebIO.importBlock({\"data\":[{\"name\":\"knockout\",\"type\":\"js\",\"url\":\"/assetserver/bf3e344bbbe45b806bbda88c6101232eb1f7318f-knockout.js\"},{\"name\":\"knockout_punches\",\"type\":\"js\",\"url\":\"/assetserver/3ad363ca1664d7335dff0eabc7ebe7d829397430-knockout_punches.js\"}],\"type\":\"async_block\"})).then((imports) => handler.apply(this, imports));\n}\n"
            ],
            "observables": {
             "index": {
              "id": "ob_04",
              "sync": true,
              "value": 1
             },
             "options_js": {
              "id": "ob_05",
              "sync": false,
              "value": [
               {
                "id": "idqrsGIi3g",
                "key": "Int64",
                "val": 1
               },
               {
                "id": "id5bYmwnmT",
                "key": "Signed",
                "val": 2
               },
               {
                "id": "idE2XTgs5O",
                "key": "Integer",
                "val": 3
               },
               {
                "id": "idrlHHCD9I",
                "key": "Real",
                "val": 4
               },
               {
                "id": "id9y81aOYs",
                "key": "Number",
                "val": 5
               }
              ]
             }
            },
            "systemjs_options": null
           },
           "nodeType": "Scope",
           "props": {},
           "type": "node"
          }
         ],
         "instanceArgs": {
          "namespace": "html",
          "tag": "div"
         },
         "nodeType": "DOM",
         "props": {
          "className": "interact-widget"
         },
         "type": "node"
        },
        {
         "children": [
          {
           "children": [],
           "instanceArgs": {
            "id": "ob_11",
            "name": "obs-node"
           },
           "nodeType": "ObservableNode",
           "props": {},
           "type": "node"
          }
         ],
         "instanceArgs": {
          "handlers": {},
          "id": "16525049968903091995",
          "imports": {
           "data": [],
           "type": "async_block"
          },
          "mount_callbacks": [],
          "observables": {
           "obs-node": {
            "id": "ob_11",
            "sync": false,
            "value": {
             "children": [
              {
               "children": [],
               "instanceArgs": {
                "namespace": "html",
                "tag": "div"
               },
               "nodeType": "DOM",
               "props": {
                "setInnerHtml": "<?xml version=\"1.0\" encoding=\"utf-8\"?>\n<svg xmlns=\"http://www.w3.org/2000/svg\" xmlns:xlink=\"http://www.w3.org/1999/xlink\" width=\"800\" height=\"800\" viewBox=\"0 0 3200 3200\">\n<defs>\n  <clipPath id=\"clip2700\">\n    <rect x=\"0\" y=\"0\" width=\"3200\" height=\"3200\"/>\n  </clipPath>\n</defs>\n<polygon clip-path=\"url(#clip2700)\" points=\"\n0,3200 3200,3200 3200,0 0,0 \n  \" fill=\"#ffffff\" fill-rule=\"evenodd\" fill-opacity=\"1\"/>\n<defs>\n  <clipPath id=\"clip2701\">\n    <rect x=\"640\" y=\"320\" width=\"2241\" height=\"2241\"/>\n  </clipPath>\n</defs>\n<polygon clip-path=\"url(#clip2700)\" points=\"\n94.9921,3105.01 3152.76,3105.01 3152.76,47.2441 94.9921,47.2441 \n  \" fill=\"#ffffff\" fill-rule=\"evenodd\" fill-opacity=\"1\"/>\n<defs>\n  <clipPath id=\"clip2702\">\n    <rect x=\"94\" y=\"47\" width=\"3059\" height=\"3059\"/>\n  </clipPath>\n</defs>\n<polyline clip-path=\"url(#clip2702)\" style=\"stroke:#d968a2; stroke-width:4; stroke-opacity:1; fill:none\" points=\"\n  210.434,133.785 210.333,154.456 210.04,175.565 209.57,197.078 208.936,218.965 208.153,241.191 207.234,263.726 206.195,286.535 205.049,309.588 203.811,332.851 \n  202.494,356.293 201.114,379.88 199.683,403.581 198.218,427.363 196.73,451.193 195.236,475.04 193.749,498.87 192.283,522.652 190.853,546.353 189.472,569.94 \n  188.156,593.382 186.917,616.645 185.771,639.698 184.732,662.507 183.814,685.042 183.03,707.268 182.396,729.155 181.926,750.668 181.633,771.777 181.533,792.448 \n  \n  \"/>\n<polyline clip-path=\"url(#clip2702)\" style=\"stroke:#d968a2; stroke-width:4; stroke-opacity:1; fill:none\" points=\"\n  181.533,792.448 191.318,809.487 219.754,825.394 265.46,840.252 327.052,854.146 403.15,867.16 492.373,879.376 593.339,890.88 704.666,901.755 824.973,912.084 \n  952.878,921.953 1087,931.444 1225.96,940.641 1368.37,949.629 1512.85,958.491 1658.03,967.311 1802.51,976.172 1944.92,985.16 2083.88,994.358 2218,1003.85 \n  2345.9,1013.72 2466.21,1024.05 2577.54,1034.92 2678.5,1046.42 2767.73,1058.64 2843.82,1071.65 2905.42,1085.55 2951.12,1100.41 2979.56,1116.31 2989.34,1133.35 \n  \n  \"/>\n<polyline clip-path=\"url(#clip2702)\" style=\"stroke:#d968a2; stroke-width:4; stroke-opacity:1; fill:none\" points=\"\n  2989.34,1133.35 2989.61,1149.86 2990.39,1166.71 2991.64,1183.89 2993.33,1201.37 2995.41,1219.11 2997.85,1237.1 3000.62,1255.31 3003.67,1273.72 3006.96,1292.29 \n  3010.46,1311 3014.13,1329.83 3017.94,1348.75 3021.84,1367.73 3025.79,1386.76 3029.77,1405.79 3033.72,1424.82 3037.62,1443.8 3041.43,1462.72 3045.1,1481.55 \n  3048.6,1500.26 3051.89,1518.83 3054.94,1537.24 3057.71,1555.45 3060.15,1573.44 3062.23,1591.18 3063.92,1608.66 3065.17,1625.84 3065.95,1642.69 3066.22,1659.2 \n  \n  \"/>\n<polyline clip-path=\"url(#clip2702)\" style=\"stroke:#d968a2; stroke-width:4; stroke-opacity:1; fill:none\" points=\"\n  3066.22,1659.2 3065.3,1679.36 3062.65,1699.93 3058.4,1720.89 3052.66,1742.21 3045.57,1763.85 3037.25,1785.79 3027.85,1807.98 3017.47,1830.41 3006.26,1853.04 \n  2994.35,1875.84 2981.85,1898.78 2968.9,1921.83 2955.63,1944.96 2942.17,1968.13 2928.65,1991.31 2915.18,2014.49 2901.91,2037.61 2888.97,2060.66 2876.47,2083.6 \n  2864.55,2106.4 2853.34,2129.03 2842.97,2151.46 2833.56,2173.66 2825.25,2195.59 2818.16,2217.23 2812.42,2238.55 2808.16,2259.51 2805.51,2280.09 2804.6,2300.24 \n  \n  \"/>\n<polyline clip-path=\"url(#clip2702)\" style=\"stroke:#d968a2; stroke-width:4; stroke-opacity:1; fill:none\" points=\"\n  2804.6,2300.24 2804.42,2322.79 2803.88,2345.8 2803.02,2369.26 2801.86,2393.13 2800.43,2417.37 2798.75,2441.94 2796.85,2466.81 2794.75,2491.95 2792.49,2517.31 \n  2790.08,2542.87 2787.56,2568.59 2784.94,2594.44 2782.26,2620.37 2779.54,2646.35 2776.81,2672.36 2774.08,2698.34 2771.4,2724.27 2768.79,2750.12 2766.26,2775.84 \n  2763.85,2801.4 2761.59,2826.76 2759.49,2851.9 2757.59,2876.77 2755.91,2901.35 2754.48,2925.58 2753.32,2949.45 2752.46,2972.91 2751.93,2995.93 2751.74,3018.47 \n  \n  \"/>\n<polygon clip-path=\"url(#clip2700)\" points=\"\n210.434,194.618 255.55,191.641 296.251,183 328.55,169.542 349.288,152.583 356.434,133.785 349.288,114.986 328.55,98.0276 296.251,84.5694 255.55,75.9286 \n  210.434,72.9512 165.317,75.9286 124.617,84.5694 92.3174,98.0276 71.5796,114.986 64.4339,133.785 71.5796,152.583 92.3174,169.542 124.617,183 165.317,191.641 \n  210.434,194.618 \n  \" fill=\"#000000\" fill-rule=\"evenodd\" fill-opacity=\"1\"/>\n<polygon clip-path=\"url(#clip2700)\" points=\"\n210.434,192.118 253.696,189.263 292.724,180.977 323.696,168.072 343.582,151.811 350.434,133.785 343.582,115.759 323.696,99.4971 292.724,86.5919 253.696,78.3063 \n  210.434,75.4512 167.172,78.3063 128.144,86.5919 97.1715,99.4971 77.286,115.759 70.4339,133.785 77.286,151.811 97.1715,168.072 128.144,180.977 167.172,189.263 \n  210.434,192.118 \n  \" fill=\"#009af9\" fill-rule=\"evenodd\" fill-opacity=\"1\"/>\n<polygon clip-path=\"url(#clip2700)\" points=\"\n181.533,852.032 269.911,849.116 349.639,840.652 412.911,827.471 453.535,810.861 467.533,792.448 453.535,774.036 412.911,757.426 349.639,744.244 269.911,735.781 \n  181.533,732.865 93.1537,735.781 13.426,744.244 -49.8463,757.426 -90.4696,774.036 -104.467,792.448 -90.4696,810.861 -49.8463,827.471 13.426,840.652 93.1537,849.116 \n  181.533,852.032 \n  \" fill=\"#000000\" fill-rule=\"evenodd\" fill-opacity=\"1\"/>\n<polygon clip-path=\"url(#clip2700)\" points=\"\n181.533,850.782 268.057,847.927 346.112,839.641 408.057,826.736 447.828,810.474 461.533,792.448 447.828,774.422 408.057,758.161 346.112,745.256 268.057,736.97 \n  181.533,734.115 95.0079,736.97 16.9527,745.256 -44.9921,758.161 -84.7632,774.422 -98.4674,792.448 -84.7632,810.474 -44.9921,826.736 16.9527,839.641 95.0079,847.927 \n  181.533,850.782 \n  \" fill=\"#009af9\" fill-rule=\"evenodd\" fill-opacity=\"1\"/>\n<polygon clip-path=\"url(#clip2700)\" points=\"\n2989.34,1193.56 3048.88,1190.61 3102.59,1182.06 3145.21,1168.74 3172.58,1151.96 3182.01,1133.35 3172.58,1114.75 3145.21,1097.96 3102.59,1084.64 3048.88,1076.09 \n  2989.34,1073.14 2929.81,1076.09 2876.1,1084.64 2833.47,1097.96 2806.11,1114.75 2796.68,1133.35 2806.11,1151.96 2833.47,1168.74 2876.1,1182.06 2929.81,1190.61 \n  2989.34,1193.56 \n  \" fill=\"#000000\" fill-rule=\"evenodd\" fill-opacity=\"1\"/>\n<polygon clip-path=\"url(#clip2700)\" points=\"\n2989.34,1191.69 3047.03,1188.83 3099.06,1180.55 3140.36,1167.64 3166.87,1151.38 3176.01,1133.35 3166.87,1115.33 3140.36,1099.07 3099.06,1086.16 3047.03,1077.87 \n  2989.34,1075.02 2931.66,1077.87 2879.62,1086.16 2838.33,1099.07 2811.81,1115.33 2802.68,1133.35 2811.81,1151.38 2838.33,1167.64 2879.62,1180.55 2931.66,1188.83 \n  2989.34,1191.69 \n  \" fill=\"#009af9\" fill-rule=\"evenodd\" fill-opacity=\"1\"/>\n<polygon clip-path=\"url(#clip2700)\" points=\"\n3066.22,1718.6 3169.02,1715.7 3261.75,1707.26 3335.35,1694.12 3382.6,1677.56 3398.88,1659.2 3382.6,1640.84 3335.35,1624.28 3261.75,1611.14 3169.02,1602.7 \n  3066.22,1599.79 2963.42,1602.7 2870.68,1611.14 2797.08,1624.28 2749.83,1640.84 2733.55,1659.2 2749.83,1677.56 2797.08,1694.12 2870.68,1707.26 2963.42,1715.7 \n  3066.22,1718.6 \n  \" fill=\"#000000\" fill-rule=\"evenodd\" fill-opacity=\"1\"/>\n<polygon clip-path=\"url(#clip2700)\" points=\"\n3066.22,1717.53 3167.16,1714.68 3258.23,1706.39 3330.49,1693.49 3376.89,1677.22 3392.88,1659.2 3376.89,1641.17 3330.49,1624.91 3258.23,1612.01 3167.16,1603.72 \n  3066.22,1600.86 2965.27,1603.72 2874.21,1612.01 2801.94,1624.91 2755.54,1641.17 2739.55,1659.2 2755.54,1677.22 2801.94,1693.49 2874.21,1706.39 2965.27,1714.68 \n  3066.22,1717.53 \n  \" fill=\"#009af9\" fill-rule=\"evenodd\" fill-opacity=\"1\"/>\n<polygon clip-path=\"url(#clip2700)\" points=\"\n2804.6,2359.83 2892.98,2356.91 2972.71,2348.45 3035.98,2335.27 3076.6,2318.66 3090.6,2300.24 3076.6,2281.83 3035.98,2265.22 2972.71,2252.04 2892.98,2243.58 \n  2804.6,2240.66 2716.22,2243.58 2636.5,2252.04 2573.22,2265.22 2532.6,2281.83 2518.6,2300.24 2532.6,2318.66 2573.22,2335.27 2636.5,2348.45 2716.22,2356.91 \n  2804.6,2359.83 \n  \" fill=\"#000000\" fill-rule=\"evenodd\" fill-opacity=\"1\"/>\n<polygon clip-path=\"url(#clip2700)\" points=\"\n2804.6,2358.58 2891.13,2355.72 2969.18,2347.44 3031.13,2334.53 3070.9,2318.27 3084.6,2300.24 3070.9,2282.22 3031.13,2265.96 2969.18,2253.05 2891.13,2244.77 \n  2804.6,2241.91 2718.08,2244.77 2640.02,2253.05 2578.08,2265.96 2538.31,2282.22 2524.6,2300.24 2538.31,2318.27 2578.08,2334.53 2640.02,2347.44 2718.08,2355.72 \n  2804.6,2358.58 \n  \" fill=\"#009af9\" fill-rule=\"evenodd\" fill-opacity=\"1\"/>\n<polygon clip-path=\"url(#clip2700)\" points=\"\n2751.74,3078.3 2825.7,3075.37 2892.42,3066.87 2945.37,3053.64 2979.36,3036.96 2991.07,3018.47 2979.36,2999.98 2945.37,2983.3 2892.42,2970.06 2825.7,2961.56 \n  2751.74,2958.63 2677.78,2961.56 2611.06,2970.06 2558.12,2983.3 2524.12,2999.98 2512.41,3018.47 2524.12,3036.96 2558.12,3053.64 2611.06,3066.87 2677.78,3075.37 \n  2751.74,3078.3 \n  \" fill=\"#000000\" fill-rule=\"evenodd\" fill-opacity=\"1\"/>\n<polygon clip-path=\"url(#clip2700)\" points=\"\n2751.74,3076.8 2823.84,3073.95 2888.89,3065.66 2940.51,3052.75 2973.65,3036.49 2985.07,3018.47 2973.65,3000.44 2940.51,2984.18 2888.89,2971.27 2823.84,2962.99 \n  2751.74,2960.13 2679.64,2962.99 2614.59,2971.27 2562.97,2984.18 2529.83,3000.44 2518.41,3018.47 2529.83,3036.49 2562.97,3052.75 2614.59,3065.66 2679.64,3073.95 \n  2751.74,3076.8 \n  \" fill=\"#009af9\" fill-rule=\"evenodd\" fill-opacity=\"1\"/>\n<g clip-path=\"url(#clip2700)\">\n<text style=\"fill:#000000; fill-opacity:1; font-family:Arial,Helvetica Neue,Helvetica,sans-serif; font-size:82px; text-anchor:middle;\" transform=\"rotate(0, 210.434, 163.785)\" x=\"210.434\" y=\"163.785\">Any</text>\n</g>\n<g clip-path=\"url(#clip2700)\">\n<text style=\"fill:#000000; fill-opacity:1; font-family:Arial,Helvetica Neue,Helvetica,sans-serif; font-size:82px; text-anchor:middle;\" transform=\"rotate(0, 181.533, 822.448)\" x=\"181.533\" y=\"822.448\">Number</text>\n</g>\n<g clip-path=\"url(#clip2700)\">\n<text style=\"fill:#000000; fill-opacity:1; font-family:Arial,Helvetica Neue,Helvetica,sans-serif; font-size:82px; text-anchor:middle;\" transform=\"rotate(0, 2989.34, 1163.35)\" x=\"2989.34\" y=\"1163.35\">Real</text>\n</g>\n<g clip-path=\"url(#clip2700)\">\n<text style=\"fill:#000000; fill-opacity:1; font-family:Arial,Helvetica Neue,Helvetica,sans-serif; font-size:82px; text-anchor:middle;\" transform=\"rotate(0, 3066.22, 1689.2)\" x=\"3066.22\" y=\"1689.2\">Integer</text>\n</g>\n<g clip-path=\"url(#clip2700)\">\n<text style=\"fill:#000000; fill-opacity:1; font-family:Arial,Helvetica Neue,Helvetica,sans-serif; font-size:82px; text-anchor:middle;\" transform=\"rotate(0, 2804.6, 2330.24)\" x=\"2804.6\" y=\"2330.24\">Signed</text>\n</g>\n<g clip-path=\"url(#clip2700)\">\n<text style=\"fill:#000000; fill-opacity:1; font-family:Arial,Helvetica Neue,Helvetica,sans-serif; font-size:82px; text-anchor:middle;\" transform=\"rotate(0, 2751.74, 3048.47)\" x=\"2751.74\" y=\"3048.47\">Int64</text>\n</g>\n</svg>\n"
               },
               "type": "node"
              }
             ],
             "instanceArgs": {
              "namespace": "html",
              "tag": "div"
             },
             "nodeType": "DOM",
             "props": {
              "className": "interact-flex-row interact-widget"
             },
             "type": "node"
            }
           }
          },
          "systemjs_options": null
         },
         "nodeType": "Scope",
         "props": {},
         "type": "node"
        }
       ],
       "instanceArgs": {
        "namespace": "html",
        "tag": "div"
       },
       "nodeType": "DOM",
       "props": {},
       "type": "node"
      },
      "text/html": [
       "<div\n",
       "    class=\"webio-mountpoint\"\n",
       "    data-webio-mountpoint=\"10517459630755322085\"\n",
       ">\n",
       "    <script>\n",
       "    if (window.require && require.defined && require.defined(\"nbextensions/webio-jupyter-notebook\")) {\n",
       "        console.log(\"Jupyter WebIO extension detected, not mounting.\");\n",
       "    } else if (window.WebIO) {\n",
       "        WebIO.mount(\n",
       "            document.querySelector('[data-webio-mountpoint=\"10517459630755322085\"]'),\n",
       "            {\"props\":{},\"nodeType\":\"DOM\",\"type\":\"node\",\"instanceArgs\":{\"namespace\":\"html\",\"tag\":\"div\"},\"children\":[{\"props\":{\"className\":\"interact-widget\"},\"nodeType\":\"DOM\",\"type\":\"node\",\"instanceArgs\":{\"namespace\":\"html\",\"tag\":\"div\"},\"children\":[{\"props\":{},\"nodeType\":\"Scope\",\"type\":\"node\",\"instanceArgs\":{\"imports\":{\"data\":[{\"name\":\"knockout\",\"type\":\"js\",\"url\":\"\\/assetserver\\/bf3e344bbbe45b806bbda88c6101232eb1f7318f-knockout.js\"},{\"name\":\"knockout_punches\",\"type\":\"js\",\"url\":\"\\/assetserver\\/3ad363ca1664d7335dff0eabc7ebe7d829397430-knockout_punches.js\"},{\"name\":null,\"type\":\"js\",\"url\":\"\\/assetserver\\/c17843d82807177c96402335f7810c38fb70de05-all.js\"},{\"name\":null,\"type\":\"css\",\"url\":\"\\/assetserver\\/cf9b1ef11d5ef7ab3ff5a3942d24ca77dcb679d2-style.css\"},{\"name\":null,\"type\":\"css\",\"url\":\"\\/assetserver\\/c591c2d5f890a3e4541fd6b806094298d3ec794b-bulma_confined.min.css\"}],\"type\":\"async_block\"},\"id\":\"737107316497202962\",\"handlers\":{\"options_js\":[\"(function (val){return (val!=this.model[\\\"options_js\\\"]()) ? (this.valueFromJulia[\\\"options_js\\\"]=true, this.model[\\\"options_js\\\"](val)) : undefined})\"],\"index\":[\"(function (val){return (val!=this.model[\\\"index\\\"]()) ? (this.valueFromJulia[\\\"index\\\"]=true, this.model[\\\"index\\\"](val)) : undefined})\"]},\"systemjs_options\":null,\"mount_callbacks\":[\"function () {\\n    var handler = (function (ko, koPunches) {\\n    ko.punches.enableAll();\\n    ko.bindingHandlers.numericValue = {\\n        init: function(element, valueAccessor, allBindings, data, context) {\\n            var stringified = ko.observable(ko.unwrap(valueAccessor()));\\n            stringified.subscribe(function(value) {\\n                var val = parseFloat(value);\\n                if (!isNaN(val)) {\\n                    valueAccessor()(val);\\n                }\\n            });\\n            valueAccessor().subscribe(function(value) {\\n                var str = JSON.stringify(value);\\n                if ((str == \\\"0\\\") && ([\\\"-0\\\", \\\"-0.\\\"].indexOf(stringified()) >= 0))\\n                     return;\\n                 if ([\\\"null\\\", \\\"\\\"].indexOf(str) >= 0)\\n                     return;\\n                stringified(str);\\n            });\\n            ko.applyBindingsToNode(\\n                element,\\n                {\\n                    value: stringified,\\n                    valueUpdate: allBindings.get('valueUpdate'),\\n                },\\n                context,\\n            );\\n        }\\n    };\\n    var json_data = {\\\"options_js\\\":WebIO.getval({\\\"name\\\":\\\"options_js\\\",\\\"scope\\\":\\\"737107316497202962\\\",\\\"id\\\":\\\"ob_05\\\",\\\"type\\\":\\\"observable\\\"}),\\\"index\\\":WebIO.getval({\\\"name\\\":\\\"index\\\",\\\"scope\\\":\\\"737107316497202962\\\",\\\"id\\\":\\\"ob_04\\\",\\\"type\\\":\\\"observable\\\"})};\\n    var self = this;\\n    function AppViewModel() {\\n        for (var key in json_data) {\\n            var el = json_data[key];\\n            this[key] = Array.isArray(el) ? ko.observableArray(el) : ko.observable(el);\\n        }\\n        [this[\\\"update\\\"]=function (val) {this.index(val)}]\\n        \\n        [this[\\\"options_js\\\"].subscribe((function (val){!(this.valueFromJulia[\\\"options_js\\\"]) ? (WebIO.setval({\\\"name\\\":\\\"options_js\\\",\\\"scope\\\":\\\"737107316497202962\\\",\\\"id\\\":\\\"ob_05\\\",\\\"type\\\":\\\"observable\\\"},val)) : undefined; return this.valueFromJulia[\\\"options_js\\\"]=false}),self),this[\\\"index\\\"].subscribe((function (val){!(this.valueFromJulia[\\\"index\\\"]) ? (WebIO.setval({\\\"name\\\":\\\"index\\\",\\\"scope\\\":\\\"737107316497202962\\\",\\\"id\\\":\\\"ob_04\\\",\\\"type\\\":\\\"observable\\\"},val)) : undefined; return this.valueFromJulia[\\\"index\\\"]=false}),self)]\\n        \\n    }\\n    self.model = new AppViewModel();\\n    self.valueFromJulia = {};\\n    for (var key in json_data) {\\n        self.valueFromJulia[key] = false;\\n    }\\n    ko.applyBindings(self.model, self.dom);\\n}\\n);\\n    (WebIO.importBlock({\\\"data\\\":[{\\\"name\\\":\\\"knockout\\\",\\\"type\\\":\\\"js\\\",\\\"url\\\":\\\"\\/assetserver\\/bf3e344bbbe45b806bbda88c6101232eb1f7318f-knockout.js\\\"},{\\\"name\\\":\\\"knockout_punches\\\",\\\"type\\\":\\\"js\\\",\\\"url\\\":\\\"\\/assetserver\\/3ad363ca1664d7335dff0eabc7ebe7d829397430-knockout_punches.js\\\"}],\\\"type\\\":\\\"async_block\\\"})).then((imports) => handler.apply(this, imports));\\n}\\n\"],\"observables\":{\"options_js\":{\"sync\":false,\"id\":\"ob_05\",\"value\":[{\"key\":\"Int64\",\"val\":1,\"id\":\"idqrsGIi3g\"},{\"key\":\"Signed\",\"val\":2,\"id\":\"id5bYmwnmT\"},{\"key\":\"Integer\",\"val\":3,\"id\":\"idE2XTgs5O\"},{\"key\":\"Real\",\"val\":4,\"id\":\"idrlHHCD9I\"},{\"key\":\"Number\",\"val\":5,\"id\":\"id9y81aOYs\"}]},\"index\":{\"sync\":true,\"id\":\"ob_04\",\"value\":1}}},\"children\":[{\"props\":{\"className\":\"interact-flex-row interact-widget\"},\"nodeType\":\"DOM\",\"type\":\"node\",\"instanceArgs\":{\"namespace\":\"html\",\"tag\":\"div\"},\"children\":[{\"props\":{\"className\":\"interact-flex-row-left\"},\"nodeType\":\"DOM\",\"type\":\"node\",\"instanceArgs\":{\"namespace\":\"html\",\"tag\":\"div\"},\"children\":[{\"props\":{\"className\":\"interact \",\"style\":{\"padding\":\"5px 10px 0px 10px\"}},\"nodeType\":\"DOM\",\"type\":\"node\",\"instanceArgs\":{\"namespace\":\"html\",\"tag\":\"label\"},\"children\":[\"T\"]}]},{\"props\":{\"className\":\"interact-flex-row-center\"},\"nodeType\":\"DOM\",\"type\":\"node\",\"instanceArgs\":{\"namespace\":\"html\",\"tag\":\"div\"},\"children\":[{\"props\":{\"attributes\":{\"data-bind\":\"foreach : options_js\"},\"className\":\"buttons has-addons is-centered\"},\"nodeType\":\"DOM\",\"type\":\"node\",\"instanceArgs\":{\"namespace\":\"html\",\"tag\":\"div\"},\"children\":[{\"props\":{\"attributes\":{\"data-bind\":\"click: function (){$root.update(val)}, css: {'is-primary is-selected' : $root.index() == val, 'interact-widget is-medium button ' : true}\"}},\"nodeType\":\"DOM\",\"type\":\"node\",\"instanceArgs\":{\"namespace\":\"html\",\"tag\":\"span\"},\"children\":[{\"props\":{\"attributes\":{\"data-bind\":\"text : key\"}},\"nodeType\":\"DOM\",\"type\":\"node\",\"instanceArgs\":{\"namespace\":\"html\",\"tag\":\"label\"},\"children\":[]}]}]}]},{\"props\":{\"className\":\"interact-flex-row-right\"},\"nodeType\":\"DOM\",\"type\":\"node\",\"instanceArgs\":{\"namespace\":\"html\",\"tag\":\"div\"},\"children\":[{\"props\":{},\"nodeType\":\"DOM\",\"type\":\"node\",\"instanceArgs\":{\"namespace\":\"html\",\"tag\":\"div\"},\"children\":[]}]}]}]}]},{\"props\":{},\"nodeType\":\"Scope\",\"type\":\"node\",\"instanceArgs\":{\"imports\":{\"data\":[],\"type\":\"async_block\"},\"id\":\"3728656905500974651\",\"handlers\":{},\"systemjs_options\":null,\"mount_callbacks\":[],\"observables\":{\"obs-node\":{\"sync\":false,\"id\":\"ob_09\",\"value\":{\"props\":{\"className\":\"interact-flex-row interact-widget\"},\"nodeType\":\"DOM\",\"type\":\"node\",\"instanceArgs\":{\"namespace\":\"html\",\"tag\":\"div\"},\"children\":[{\"props\":{\"setInnerHtml\":\"<?xml version=\\\"1.0\\\" encoding=\\\"utf-8\\\"?>\\n<svg xmlns=\\\"http:\\/\\/www.w3.org\\/2000\\/svg\\\" xmlns:xlink=\\\"http:\\/\\/www.w3.org\\/1999\\/xlink\\\" width=\\\"800\\\" height=\\\"800\\\" viewBox=\\\"0 0 3200 3200\\\">\\n<defs>\\n  <clipPath id=\\\"clip2300\\\">\\n    <rect x=\\\"0\\\" y=\\\"0\\\" width=\\\"3200\\\" height=\\\"3200\\\"\\/>\\n  <\\/clipPath>\\n<\\/defs>\\n<polygon clip-path=\\\"url(#clip2300)\\\" points=\\\"\\n0,3200 3200,3200 3200,0 0,0 \\n  \\\" fill=\\\"#ffffff\\\" fill-rule=\\\"evenodd\\\" fill-opacity=\\\"1\\\"\\/>\\n<defs>\\n  <clipPath id=\\\"clip2301\\\">\\n    <rect x=\\\"640\\\" y=\\\"320\\\" width=\\\"2241\\\" height=\\\"2241\\\"\\/>\\n  <\\/clipPath>\\n<\\/defs>\\n<polygon clip-path=\\\"url(#clip2300)\\\" points=\\\"\\n86.9921,3121.01 3152.76,3121.01 3152.76,47.2441 86.9921,47.2441 \\n  \\\" fill=\\\"#ffffff\\\" fill-rule=\\\"evenodd\\\" fill-opacity=\\\"1\\\"\\/>\\n<defs>\\n  <clipPath id=\\\"clip2302\\\">\\n    <rect x=\\\"86\\\" y=\\\"47\\\" width=\\\"3067\\\" height=\\\"3075\\\"\\/>\\n  <\\/clipPath>\\n<\\/defs>\\n<polyline clip-path=\\\"url(#clip2302)\\\" style=\\\"stroke:#d968a2; stroke-width:4; stroke-opacity:1; fill:none\\\" points=\\\"\\n  202.736,134.237 202.635,155.017 202.341,176.236 201.87,197.862 201.234,219.863 200.449,242.206 199.528,264.858 198.486,287.787 197.337,310.961 196.096,334.346 \\n  194.776,357.91 193.391,381.621 191.957,405.446 190.488,429.352 188.997,453.307 187.498,477.278 186.007,501.233 184.538,525.14 183.104,548.964 181.719,572.675 \\n  180.399,596.239 179.158,619.624 178.009,642.798 176.967,665.727 176.046,688.379 175.261,710.722 174.625,732.723 174.153,754.349 173.86,775.568 173.759,796.348 \\n  \\n  \\\"\\/>\\n<polyline clip-path=\\\"url(#clip2302)\\\" style=\\\"stroke:#d968a2; stroke-width:4; stroke-opacity:1; fill:none\\\" points=\\\"\\n  173.759,796.348 183.57,813.476 212.081,829.466 257.906,844.402 319.659,858.369 395.957,871.45 485.413,883.73 586.643,895.294 698.261,906.226 818.882,916.61 \\n  947.122,926.53 1081.6,936.07 1220.92,945.316 1363.7,954.35 1508.56,963.259 1654.11,972.125 1798.98,981.033 1941.76,990.068 2081.08,999.313 2215.55,1008.85 \\n  2343.79,1018.77 2464.41,1029.16 2576.03,1040.09 2677.26,1051.65 2766.72,1063.93 2843.02,1077.02 2904.77,1090.98 2950.59,1105.92 2979.11,1121.91 2988.92,1139.04 \\n  \\n  \\\"\\/>\\n<polyline clip-path=\\\"url(#clip2302)\\\" style=\\\"stroke:#d968a2; stroke-width:4; stroke-opacity:1; fill:none\\\" points=\\\"\\n  2988.92,1139.04 2989.19,1155.63 2989.97,1172.57 2991.22,1189.84 2992.91,1207.41 2995,1225.24 2997.45,1243.33 3000.22,1261.63 3003.28,1280.13 3006.58,1298.8 \\n  3010.09,1317.61 3013.77,1336.54 3017.59,1355.56 3021.49,1374.64 3025.46,1393.77 3029.45,1412.9 3033.41,1432.02 3037.32,1451.11 3041.13,1470.13 3044.82,1489.05 \\n  3048.33,1507.87 3051.63,1526.53 3054.69,1545.03 3057.46,1563.34 3059.91,1581.42 3061.99,1599.26 3063.69,1616.83 3064.94,1634.1 3065.72,1651.04 3065.99,1667.63 \\n  \\n  \\\"\\/>\\n<polyline clip-path=\\\"url(#clip2302)\\\" style=\\\"stroke:#d968a2; stroke-width:4; stroke-opacity:1; fill:none\\\" points=\\\"\\n  3065.99,1667.63 3065.07,1687.9 3062.42,1708.58 3058.15,1729.65 3052.4,1751.08 3045.29,1772.83 3036.95,1794.88 3027.52,1817.2 3017.12,1839.74 3005.88,1862.49 \\n  2993.93,1885.41 2981.4,1908.47 2968.42,1931.64 2955.12,1954.89 2941.62,1978.18 2928.06,2001.49 2914.56,2024.78 2901.26,2048.03 2888.28,2071.19 2875.75,2094.25 \\n  2863.8,2117.17 2852.56,2139.92 2842.16,2162.47 2832.73,2184.78 2824.39,2206.83 2817.29,2228.59 2811.53,2250.02 2807.26,2271.09 2804.61,2291.77 2803.69,2312.03 \\n  \\n  \\\"\\/>\\n<polyline clip-path=\\\"url(#clip2302)\\\" style=\\\"stroke:#d968a2; stroke-width:4; stroke-opacity:1; fill:none\\\" points=\\\"\\n  2803.69,2312.03 2803.51,2334.69 2802.97,2357.83 2802.11,2381.41 2800.94,2405.4 2799.51,2429.77 2797.82,2454.47 2795.92,2479.47 2793.82,2504.74 2791.55,2530.24 \\n  2789.13,2555.93 2786.6,2581.79 2783.98,2607.77 2781.29,2633.83 2778.56,2659.95 2775.82,2686.09 2773.09,2712.21 2770.41,2738.28 2767.78,2764.26 2765.25,2790.11 \\n  2762.84,2815.81 2760.57,2841.31 2758.46,2866.58 2756.56,2891.58 2754.87,2916.28 2753.44,2940.64 2752.28,2964.63 2751.41,2988.22 2750.88,3011.36 2750.69,3034.01 \\n  \\n  \\\"\\/>\\n<polygon clip-path=\\\"url(#clip2300)\\\" points=\\\"\\n202.736,195.071 247.852,192.093 288.553,183.453 320.852,169.994 341.59,153.036 348.736,134.237 341.59,115.439 320.852,98.4805 288.553,85.0222 247.852,76.3815 \\n  202.736,73.4041 157.619,76.3815 116.919,85.0222 84.6194,98.4805 63.8817,115.439 56.7359,134.237 63.8817,153.036 84.6194,169.994 116.919,183.453 157.619,192.093 \\n  202.736,195.071 \\n  \\\" fill=\\\"#000000\\\" fill-rule=\\\"evenodd\\\" fill-opacity=\\\"1\\\"\\/>\\n<polygon clip-path=\\\"url(#clip2300)\\\" points=\\\"\\n202.736,192.571 245.998,189.716 285.026,181.43 315.998,168.525 335.884,152.263 342.736,134.237 335.884,116.211 315.998,99.9499 285.026,87.0448 245.998,78.7591 \\n  202.736,75.9041 159.474,78.7591 120.446,87.0448 89.4735,99.9499 69.588,116.211 62.7359,134.237 69.588,152.263 89.4735,168.525 120.446,181.43 159.474,189.716 \\n  202.736,192.571 \\n  \\\" fill=\\\"#009af9\\\" fill-rule=\\\"evenodd\\\" fill-opacity=\\\"1\\\"\\/>\\n<polygon clip-path=\\\"url(#clip2300)\\\" points=\\\"\\n173.759,855.931 262.138,853.015 341.866,844.552 405.138,831.37 445.761,814.76 459.759,796.348 445.761,777.936 405.138,761.326 341.866,748.144 262.138,739.681 \\n  173.759,736.764 85.3802,739.681 5.65244,748.144 -57.6198,761.326 -98.2431,777.936 -112.241,796.348 -98.2431,814.76 -57.6198,831.37 5.65244,844.552 85.3802,853.015 \\n  173.759,855.931 \\n  \\\" fill=\\\"#000000\\\" fill-rule=\\\"evenodd\\\" fill-opacity=\\\"1\\\"\\/>\\n<polygon clip-path=\\\"url(#clip2300)\\\" points=\\\"\\n173.759,854.681 260.284,851.826 338.339,843.54 400.284,830.635 440.055,814.374 453.759,796.348 440.055,778.322 400.284,762.06 338.339,749.155 260.284,740.869 \\n  173.759,738.014 87.2343,740.869 9.17915,749.155 -52.7657,762.06 -92.5368,778.322 -106.241,796.348 -92.5368,814.374 -52.7657,830.635 9.17915,843.54 87.2343,851.826 \\n  173.759,854.681 \\n  \\\" fill=\\\"#009af9\\\" fill-rule=\\\"evenodd\\\" fill-opacity=\\\"1\\\"\\/>\\n<polygon clip-path=\\\"url(#clip2300)\\\" points=\\\"\\n2988.92,1199.24 3048.45,1196.3 3102.16,1187.75 3144.79,1174.43 3172.15,1157.64 3181.58,1139.04 3172.15,1120.43 3144.79,1103.65 3102.16,1090.33 3048.45,1081.77 \\n  2988.92,1078.83 2929.38,1081.77 2875.67,1090.33 2833.05,1103.65 2805.68,1120.43 2796.25,1139.04 2805.68,1157.64 2833.05,1174.43 2875.67,1187.75 2929.38,1196.3 \\n  2988.92,1199.24 \\n  \\\" fill=\\\"#000000\\\" fill-rule=\\\"evenodd\\\" fill-opacity=\\\"1\\\"\\/>\\n<polygon clip-path=\\\"url(#clip2300)\\\" points=\\\"\\n2988.92,1197.37 3046.6,1194.51 3098.64,1186.23 3139.93,1173.32 3166.45,1157.06 3175.58,1139.04 3166.45,1121.01 3139.93,1104.75 3098.64,1091.84 3046.6,1083.56 \\n  2988.92,1080.7 2931.23,1083.56 2879.2,1091.84 2837.9,1104.75 2811.39,1121.01 2802.25,1139.04 2811.39,1157.06 2837.9,1173.32 2879.2,1186.23 2931.23,1194.51 \\n  2988.92,1197.37 \\n  \\\" fill=\\\"#009af9\\\" fill-rule=\\\"evenodd\\\" fill-opacity=\\\"1\\\"\\/>\\n<polygon clip-path=\\\"url(#clip2300)\\\" points=\\\"\\n3065.99,1727.04 3168.79,1724.13 3261.53,1715.69 3335.12,1702.55 3382.37,1685.99 3398.66,1667.63 3382.37,1649.28 3335.12,1632.72 3261.53,1619.57 3168.79,1611.14 \\n  3065.99,1608.23 2963.19,1611.14 2870.45,1619.57 2796.86,1632.72 2749.6,1649.28 2733.32,1667.63 2749.6,1685.99 2796.86,1702.55 2870.45,1715.69 2963.19,1724.13 \\n  3065.99,1727.04 \\n  \\\" fill=\\\"#000000\\\" fill-rule=\\\"evenodd\\\" fill-opacity=\\\"1\\\"\\/>\\n<polygon clip-path=\\\"url(#clip2300)\\\" points=\\\"\\n3065.99,1725.97 3166.93,1723.11 3258,1714.83 3330.27,1701.92 3376.67,1685.66 3392.66,1667.63 3376.67,1649.61 3330.27,1633.35 3258,1620.44 3166.93,1612.15 \\n  3065.99,1609.3 2965.04,1612.15 2873.98,1620.44 2801.71,1633.35 2755.31,1649.61 2739.32,1667.63 2755.31,1685.66 2801.71,1701.92 2873.98,1714.83 2965.04,1723.11 \\n  3065.99,1725.97 \\n  \\\" fill=\\\"#009af9\\\" fill-rule=\\\"evenodd\\\" fill-opacity=\\\"1\\\"\\/>\\n<polygon clip-path=\\\"url(#clip2300)\\\" points=\\\"\\n2803.69,2371.62 2892.07,2368.7 2971.8,2360.24 3035.07,2347.05 3075.69,2330.44 3089.69,2312.03 3075.69,2293.62 3035.07,2277.01 2971.8,2263.83 2892.07,2255.37 \\n  2803.69,2252.45 2715.31,2255.37 2635.59,2263.83 2572.31,2277.01 2531.69,2293.62 2517.69,2312.03 2531.69,2330.44 2572.31,2347.05 2635.59,2360.24 2715.31,2368.7 \\n  2803.69,2371.62 \\n  \\\" fill=\\\"#000000\\\" fill-rule=\\\"evenodd\\\" fill-opacity=\\\"1\\\"\\/>\\n<polygon clip-path=\\\"url(#clip2300)\\\" points=\\\"\\n2803.69,2370.37 2890.22,2367.51 2968.27,2359.23 3030.22,2346.32 3069.99,2330.06 3083.69,2312.03 3069.99,2294.01 3030.22,2277.75 2968.27,2264.84 2890.22,2256.55 \\n  2803.69,2253.7 2717.17,2256.55 2639.11,2264.84 2577.17,2277.75 2537.4,2294.01 2523.69,2312.03 2537.4,2330.06 2577.17,2346.32 2639.11,2359.23 2717.17,2367.51 \\n  2803.69,2370.37 \\n  \\\" fill=\\\"#009af9\\\" fill-rule=\\\"evenodd\\\" fill-opacity=\\\"1\\\"\\/>\\n<polygon clip-path=\\\"url(#clip2300)\\\" points=\\\"\\n2750.69,3093.85 2824.65,3090.92 2891.37,3082.42 2944.32,3069.18 2978.31,3052.5 2990.03,3034.01 2978.31,3015.53 2944.32,2998.85 2891.37,2985.61 2824.65,2977.11 \\n  2750.69,2974.18 2676.73,2977.11 2610.02,2985.61 2557.07,2998.85 2523.07,3015.53 2511.36,3034.01 2523.07,3052.5 2557.07,3069.18 2610.02,3082.42 2676.73,3090.92 \\n  2750.69,3093.85 \\n  \\\" fill=\\\"#000000\\\" fill-rule=\\\"evenodd\\\" fill-opacity=\\\"1\\\"\\/>\\n<polygon clip-path=\\\"url(#clip2300)\\\" points=\\\"\\n2750.69,3092.35 2822.8,3089.49 2887.84,3081.21 2939.46,3068.3 2972.6,3052.04 2984.03,3034.01 2972.6,3015.99 2939.46,2999.73 2887.84,2986.82 2822.8,2978.54 \\n  2750.69,2975.68 2678.59,2978.54 2613.54,2986.82 2561.92,2999.73 2528.78,3015.99 2517.36,3034.01 2528.78,3052.04 2561.92,3068.3 2613.54,3081.21 2678.59,3089.49 \\n  2750.69,3092.35 \\n  \\\" fill=\\\"#009af9\\\" fill-rule=\\\"evenodd\\\" fill-opacity=\\\"1\\\"\\/>\\n<g clip-path=\\\"url(#clip2300)\\\">\\n<text style=\\\"fill:#000000; fill-opacity:1; font-family:Arial,Helvetica Neue,Helvetica,sans-serif; font-size:82px; text-anchor:middle;\\\" transform=\\\"rotate(0, 202.736, 164.237)\\\" x=\\\"202.736\\\" y=\\\"164.237\\\">Any<\\/text>\\n<\\/g>\\n<g clip-path=\\\"url(#clip2300)\\\">\\n<text style=\\\"fill:#000000; fill-opacity:1; font-family:Arial,Helvetica Neue,Helvetica,sans-serif; font-size:82px; text-anchor:middle;\\\" transform=\\\"rotate(0, 173.759, 826.348)\\\" x=\\\"173.759\\\" y=\\\"826.348\\\">Number<\\/text>\\n<\\/g>\\n<g clip-path=\\\"url(#clip2300)\\\">\\n<text style=\\\"fill:#000000; fill-opacity:1; font-family:Arial,Helvetica Neue,Helvetica,sans-serif; font-size:82px; text-anchor:middle;\\\" transform=\\\"rotate(0, 2988.92, 1169.04)\\\" x=\\\"2988.92\\\" y=\\\"1169.04\\\">Real<\\/text>\\n<\\/g>\\n<g clip-path=\\\"url(#clip2300)\\\">\\n<text style=\\\"fill:#000000; fill-opacity:1; font-family:Arial,Helvetica Neue,Helvetica,sans-serif; font-size:82px; text-anchor:middle;\\\" transform=\\\"rotate(0, 3065.99, 1697.63)\\\" x=\\\"3065.99\\\" y=\\\"1697.63\\\">Integer<\\/text>\\n<\\/g>\\n<g clip-path=\\\"url(#clip2300)\\\">\\n<text style=\\\"fill:#000000; fill-opacity:1; font-family:Arial,Helvetica Neue,Helvetica,sans-serif; font-size:82px; text-anchor:middle;\\\" transform=\\\"rotate(0, 2803.69, 2342.03)\\\" x=\\\"2803.69\\\" y=\\\"2342.03\\\">Signed<\\/text>\\n<\\/g>\\n<g clip-path=\\\"url(#clip2300)\\\">\\n<text style=\\\"fill:#000000; fill-opacity:1; font-family:Arial,Helvetica Neue,Helvetica,sans-serif; font-size:82px; text-anchor:middle;\\\" transform=\\\"rotate(0, 2750.69, 3064.01)\\\" x=\\\"2750.69\\\" y=\\\"3064.01\\\">Int64<\\/text>\\n<\\/g>\\n<\\/svg>\\n\"},\"nodeType\":\"DOM\",\"type\":\"node\",\"instanceArgs\":{\"namespace\":\"html\",\"tag\":\"div\"},\"children\":[]}]}}}},\"children\":[{\"props\":{},\"nodeType\":\"ObservableNode\",\"type\":\"node\",\"instanceArgs\":{\"id\":\"ob_09\",\"name\":\"obs-node\"},\"children\":[]}]}]},\n",
       "            window,\n",
       "        );\n",
       "    } else {\n",
       "        document\n",
       "            .querySelector('[data-webio-mountpoint=\"10517459630755322085\"]')\n",
       "            .innerHTML = (\n",
       "                '<strong>WebIO not detected. Please read ' +\n",
       "                '<a href=\"https://juliagizmos.github.io/WebIO.jl/latest/troubleshooting/not-detected/\">the troubleshooting guide</a> ' +\n",
       "                'for more information on how to resolve this issue.' +\n",
       "                '</strong>'\n",
       "            );\n",
       "    }\n",
       "    </script>\n",
       "</div>\n"
      ],
      "text/plain": [
       "Node{WebIO.DOM}(WebIO.DOM(:html, :div), Any[Node{WebIO.DOM}(WebIO.DOM(:html, :div), Any[Scope(Node{WebIO.DOM}(WebIO.DOM(:html, :div), Any[Node{WebIO.DOM}(WebIO.DOM(:html, :div), Any[Node{WebIO.DOM}(WebIO.DOM(:html, :label), Any[\"T\"], Dict{Symbol,Any}(:className => \"interact \",:style => Dict{Any,Any}(:padding => \"5px 10px 0px 10px\")))], Dict{Symbol,Any}(:className => \"interact-flex-row-left\")), Node{WebIO.DOM}(WebIO.DOM(:html, :div), Any[Node{WebIO.DOM}(WebIO.DOM(:html, :div), Any[Node{WebIO.DOM}(WebIO.DOM(:html, :span), Any[Node{WebIO.DOM}(WebIO.DOM(:html, :label), Any[], Dict{Symbol,Any}(:attributes => Dict(\"data-bind\" => \"text : key\")))], Dict{Symbol,Any}(:attributes => Dict(\"data-bind\" => \"click: function (){\\$root.update(val)}, css: {'is-primary is-selected' : \\$root.index() == val, 'interact-widget is-medium button ' : true}\")))], Dict{Symbol,Any}(:attributes => (\"data-bind\" => \"foreach : options_js\"),:className => \"buttons has-addons is-centered\"))], Dict{Symbol,Any}(:className => \"interact-flex-row-center\")), Node{WebIO.DOM}(WebIO.DOM(:html, :div), Any[Node{WebIO.DOM}(WebIO.DOM(:html, :div), Any[], Dict{Symbol,Any}())], Dict{Symbol,Any}(:className => \"interact-flex-row-right\"))], Dict{Symbol,Any}(:className => \"interact-flex-row interact-widget\")), Dict{String,Tuple{Observables.AbstractObservable,Union{Nothing, Bool}}}(\"options_js\" => (Observable{Any} with 1 listeners. Value:\n",
       "OrderedDict[OrderedDict{String,Any}(\"key\" => \"Int64\",\"val\" => 1,\"id\" => \"idqrsGIi3g\"), OrderedDict{String,Any}(\"key\" => \"Signed\",\"val\" => 2,\"id\" => \"id5bYmwnmT\"), OrderedDict{String,Any}(\"key\" => \"Integer\",\"val\" => 3,\"id\" => \"idE2XTgs5O\"), OrderedDict{String,Any}(\"key\" => \"Real\",\"val\" => 4,\"id\" => \"idrlHHCD9I\"), OrderedDict{String,Any}(\"key\" => \"Number\",\"val\" => 5,\"id\" => \"id9y81aOYs\")], nothing),\"index\" => (Observable{Any} with 2 listeners. Value:\n",
       "1, nothing)), Set(String[]), nothing, Asset[Asset(\"js\", \"knockout\", \"/Users/joday/.julia/packages/Knockout/1sDlc/src/../assets/knockout.js\"), Asset(\"js\", \"knockout_punches\", \"/Users/joday/.julia/packages/Knockout/1sDlc/src/../assets/knockout_punches.js\"), Asset(\"js\", nothing, \"/Users/joday/.julia/packages/InteractBase/9mFwe/src/../assets/all.js\"), Asset(\"css\", nothing, \"/Users/joday/.julia/packages/InteractBase/9mFwe/src/../assets/style.css\"), Asset(\"css\", nothing, \"/Users/joday/.julia/packages/Interact/SbgIk/src/../assets/bulma_confined.min.css\")], Dict{Any,Any}(\"options_js\" => Any[WebIO.JSString(\"(function (val){return (val!=this.model[\\\"options_js\\\"]()) ? (this.valueFromJulia[\\\"options_js\\\"]=true, this.model[\\\"options_js\\\"](val)) : undefined})\")],\"index\" => Any[WebIO.JSString(\"(function (val){return (val!=this.model[\\\"index\\\"]()) ? (this.valueFromJulia[\\\"index\\\"]=true, this.model[\\\"index\\\"](val)) : undefined})\")]), WebIO.ConnectionPool(Channel{Any}(sz_max:32,sz_curr:0), Set(AbstractConnection[]), Base.GenericCondition{Base.AlwaysLockedST}(Base.InvasiveLinkedList{Task}(Task (runnable) @0x0000000120c21f90, Task (runnable) @0x0000000120c21f90), Base.AlwaysLockedST(1))), WebIO.JSString[WebIO.JSString(\"function () {\\n    var handler = (function (ko, koPunches) {\\n    ko.punches.enableAll();\\n    ko.bindingHandlers.numericValue = {\\n        init: function(element, valueAccessor, allBindings, data, context) {\\n            var stringified = ko.observable(ko.unwrap(valueAccessor()));\\n            stringified.subscribe(function(value) {\\n                var val = parseFloat(value);\\n                if (!isNaN(val)) {\\n                    valueAccessor()(val);\\n                }\\n            });\\n            valueAccessor().subscribe(function(value) {\\n                var str = JSON.stringify(value);\\n                if ((str == \\\"0\\\") && ([\\\"-0\\\", \\\"-0.\\\"].indexOf(stringified()) >= 0))\\n                     return;\\n                 if ([\\\"null\\\", \\\"\\\"].indexOf(str) >= 0)\\n                     return;\\n                stringified(str);\\n            });\\n            ko.applyBindingsToNode(\\n                element,\\n                {\\n                    value: stringified,\\n                    valueUpdate: allBindings.get('valueUpdate'),\\n                },\\n                context,\\n            );\\n        }\\n    };\\n    var json_data = {\\\"options_js\\\":WebIO.getval({\\\"name\\\":\\\"options_js\\\",\\\"scope\\\":\\\"737107316497202962\\\",\\\"id\\\":\\\"ob_05\\\",\\\"type\\\":\\\"observable\\\"}),\\\"index\\\":WebIO.getval({\\\"name\\\":\\\"index\\\",\\\"scope\\\":\\\"737107316497202962\\\",\\\"id\\\":\\\"ob_04\\\",\\\"type\\\":\\\"observable\\\"})};\\n    var self = this;\\n    function AppViewModel() {\\n        for (var key in json_data) {\\n            var el = json_data[key];\\n            this[key] = Array.isArray(el) ? ko.observableArray(el) : ko.observable(el);\\n        }\\n        [this[\\\"update\\\"]=function (val) {this.index(val)}]\\n        \\n        [this[\\\"options_js\\\"].subscribe((function (val){!(this.valueFromJulia[\\\"options_js\\\"]) ? (WebIO.setval({\\\"name\\\":\\\"options_js\\\",\\\"scope\\\":\\\"737107316497202962\\\",\\\"id\\\":\\\"ob_05\\\",\\\"type\\\":\\\"observable\\\"},val)) : undefined; return this.valueFromJulia[\\\"options_js\\\"]=false}),self),this[\\\"index\\\"].subscribe((function (val){!(this.valueFromJulia[\\\"index\\\"]) ? (WebIO.setval({\\\"name\\\":\\\"index\\\",\\\"scope\\\":\\\"737107316497202962\\\",\\\"id\\\":\\\"ob_04\\\",\\\"type\\\":\\\"observable\\\"},val)) : undefined; return this.valueFromJulia[\\\"index\\\"]=false}),self)]\\n        \\n    }\\n    self.model = new AppViewModel();\\n    self.valueFromJulia = {};\\n    for (var key in json_data) {\\n        self.valueFromJulia[key] = false;\\n    }\\n    ko.applyBindings(self.model, self.dom);\\n}\\n);\\n    (WebIO.importBlock({\\\"data\\\":[{\\\"name\\\":\\\"knockout\\\",\\\"type\\\":\\\"js\\\",\\\"url\\\":\\\"/assetserver/bf3e344bbbe45b806bbda88c6101232eb1f7318f-knockout.js\\\"},{\\\"name\\\":\\\"knockout_punches\\\",\\\"type\\\":\\\"js\\\",\\\"url\\\":\\\"/assetserver/3ad363ca1664d7335dff0eabc7ebe7d829397430-knockout_punches.js\\\"}],\\\"type\\\":\\\"async_block\\\"})).then((imports) => handler.apply(this, imports));\\n}\\n\")])], Dict{Symbol,Any}(:className => \"interact-widget\")), Observable{Any} with 0 listeners. Value:\n",
       "Node{WebIO.DOM}(WebIO.DOM(:html, :div), Any[Plot{Plots.GRBackend() n=2}], Dict{Symbol,Any}(:className => \"interact-flex-row interact-widget\"))], Dict{Symbol,Any}())"
      ]
     },
     "execution_count": 8,
     "metadata": {
      "application/vnd.webio.node+json": {
       "kernelId": "49604135-6715-46b9-919c-24be4b93e658"
      }
     },
     "output_type": "execute_result"
    }
   ],
   "source": [
    "using GraphRecipes\n",
    "using Plots\n",
    "using Interact\n",
    "gr(size=(800, 800))\n",
    "\n",
    "@manipulate for T in [Int64, Signed, Integer, Real, Number]\n",
    "    plot(T, nodeshape=:circle, nodesize=3, method=:tree)\n",
    "end"
   ]
  },
  {
   "cell_type": "markdown",
   "metadata": {},
   "source": [
    "### Metaprogramming (Macros)\n",
    "\n",
    "- Functions of **expressions**\n",
    "- You can change the expression to whatever you want inside of a macro"
   ]
  },
  {
   "cell_type": "code",
   "execution_count": 9,
   "metadata": {},
   "outputs": [
    {
     "data": {
      "text/plain": [
       "10"
      ]
     },
     "execution_count": 9,
     "metadata": {},
     "output_type": "execute_result"
    }
   ],
   "source": [
    "x = 10"
   ]
  },
  {
   "cell_type": "code",
   "execution_count": 10,
   "metadata": {},
   "outputs": [
    {
     "name": "stdout",
     "output_type": "stream",
     "text": [
      "10"
     ]
    }
   ],
   "source": [
    "show(x)"
   ]
  },
  {
   "cell_type": "code",
   "execution_count": 11,
   "metadata": {},
   "outputs": [
    {
     "name": "stdout",
     "output_type": "stream",
     "text": [
      "x + 5 = 15\n"
     ]
    }
   ],
   "source": [
    "@show x + 5;"
   ]
  },
  {
   "cell_type": "markdown",
   "metadata": {},
   "source": [
    "### The best macro: `@time`"
   ]
  },
  {
   "cell_type": "code",
   "execution_count": 12,
   "metadata": {},
   "outputs": [
    {
     "name": "stdout",
     "output_type": "stream",
     "text": [
      "  1.713147 seconds (106.17 k allocations: 1.496 GiB, 11.15% gc time)\n"
     ]
    },
    {
     "data": {
      "text/plain": [
       "11067.81539163798"
      ]
     },
     "execution_count": 12,
     "metadata": {},
     "output_type": "execute_result"
    }
   ],
   "source": [
    "using BenchmarkTools\n",
    "\n",
    "function f2(n)\n",
    "    x = 0.0\n",
    "    for i in 1:n\n",
    "        x += sum(randn(1000, 1000))\n",
    "    end\n",
    "    x\n",
    "end\n",
    "\n",
    "@time f2(200)"
   ]
  },
  {
   "cell_type": "markdown",
   "metadata": {},
   "source": [
    "### Usefulness of Multiple Dispatch\n",
    "\n",
    "Newton's method for finding the root of a function (where $f(\\theta) = 0$):\n",
    "\n",
    "$$\n",
    "\\theta_{t+1} = \\theta_t - \\frac{F(\\theta_t)}{F'(\\theta_t)}\n",
    "$$\n",
    "\n",
    "Quantile finder for continuous univariate distributions\n",
    "\n",
    "- Want to find $\\theta$ such that $F(\\theta) = q$ for cumulative distribution function $F$ and quantile $0<q<1$."
   ]
  },
  {
   "cell_type": "code",
   "execution_count": 13,
   "metadata": {},
   "outputs": [
    {
     "data": {
      "text/plain": [
       "my_quantile (generic function with 1 method)"
      ]
     },
     "execution_count": 13,
     "metadata": {},
     "output_type": "execute_result"
    }
   ],
   "source": [
    "using Distributions\n",
    "\n",
    "function my_quantile(d, q)\n",
    "    θ = mean(d)\n",
    "    for i in 1:20\n",
    "        θ -= (cdf(d, θ) - q) / pdf(d, θ)\n",
    "    end\n",
    "    θ\n",
    "end"
   ]
  },
  {
   "cell_type": "code",
   "execution_count": 14,
   "metadata": {},
   "outputs": [
    {
     "name": "stdout",
     "output_type": "stream",
     "text": [
      "my_quantile(Normal(), q) = -1.2815515655446004\n",
      "my_quantile(Normal(), q) = 0.0\n",
      "my_quantile(Normal(), q) = 1.2815515655446006\n"
     ]
    }
   ],
   "source": [
    "for q in [.1, .5, .9]\n",
    "    @show my_quantile(Normal(), q)\n",
    "end"
   ]
  },
  {
   "cell_type": "code",
   "execution_count": 15,
   "metadata": {},
   "outputs": [
    {
     "name": "stdout",
     "output_type": "stream",
     "text": [
      "my_quantile(Uniform(), q) = 0.1\n",
      "my_quantile(Uniform(), q) = 0.5\n",
      "my_quantile(Uniform(), q) = 0.9\n"
     ]
    }
   ],
   "source": [
    "for q in [.1, .5, .9]\n",
    "    @show my_quantile(Uniform(), q)\n",
    "end"
   ]
  },
  {
   "cell_type": "markdown",
   "metadata": {},
   "source": [
    "## Fused Broadcasting\n",
    "\n",
    "- Note: Broadcasting must be explicit"
   ]
  },
  {
   "cell_type": "code",
   "execution_count": null,
   "metadata": {},
   "outputs": [],
   "source": []
  },
  {
   "cell_type": "code",
   "execution_count": 16,
   "metadata": {},
   "outputs": [
    {
     "data": {
      "text/plain": [
       "2×2 Array{Float64,2}:\n",
       " 0.802294  0.850538\n",
       " 0.944114  0.715511"
      ]
     },
     "execution_count": 16,
     "metadata": {},
     "output_type": "execute_result"
    }
   ],
   "source": [
    "x = rand(2, 2)\n",
    "\n",
    "cos.(sin.(abs.(x))) == map(x -> cos(sin(abs(x))), x)\n",
    "\n",
    "@. cos(sin(abs(x)))"
   ]
  },
  {
   "cell_type": "markdown",
   "metadata": {},
   "source": [
    "--- \n",
    "\n",
    "# Interop"
   ]
  },
  {
   "cell_type": "code",
   "execution_count": 17,
   "metadata": {},
   "outputs": [
    {
     "data": {
      "image/png": "[encoded data removed]"
     },
     "metadata": {},
     "output_type": "display_data"
    },
    {
     "data": {
      "text/plain": [
       "RObject{VecSxp}\n"
      ]
     },
     "execution_count": 17,
     "metadata": {},
     "output_type": "execute_result"
    },
    {
     "name": "stderr",
     "output_type": "stream",
     "text": [
      "┌ Warning: RCall.jl: `stat_bin()` using `bins = 30`. Pick better value with `binwidth`.\n",
      "└ @ RCall /Users/joday/.julia/packages/RCall/g7dhB/src/io.jl:113\n"
     ]
    }
   ],
   "source": [
    "using RCall\n",
    "\n",
    "x = randn(10^5)\n",
    "\n",
    "R\"\"\"\n",
    "library(ggplot2); qplot($x)\n",
    "\"\"\""
   ]
  },
  {
   "cell_type": "code",
   "execution_count": 18,
   "metadata": {},
   "outputs": [
    {
     "name": "stderr",
     "output_type": "stream",
     "text": [
      "┌ Warning: `@pyimport foo` is deprecated in favor of `foo = pyimport(\"foo\")`.\n",
      "│   caller = _pywrap_pyimport(::PyObject) at PyCall.jl:407\n",
      "└ @ PyCall /Users/joday/.julia/packages/PyCall/ttONZ/src/PyCall.jl:407\n"
     ]
    },
    {
     "data": {
      "text/plain": [
       "3×4 Array{Float64,2}:\n",
       " 0.558475  0.160118  0.583945  0.537891 \n",
       " 0.299217  0.412063  0.67625   0.0994379\n",
       " 0.373033  0.680545  0.179127  0.840938 "
      ]
     },
     "execution_count": 18,
     "metadata": {},
     "output_type": "execute_result"
    }
   ],
   "source": [
    "using PyCall\n",
    "\n",
    "@pyimport numpy.random as nr\n",
    "\n",
    "nr.rand(3, 4)"
   ]
  },
  {
   "cell_type": "markdown",
   "metadata": {},
   "source": [
    "---\n",
    "\n",
    "# REPL Modes\n",
    "\n",
    "- `?` (Help)\n",
    "- `;` (Shell)\n",
    "- `]` (Pkg)\n",
    "- `$` (RCall)"
   ]
  },
  {
   "cell_type": "markdown",
   "metadata": {},
   "source": [
    "---\n",
    "\n",
    "# State of the Art Packages in Julia 1.0 (although we're now at 1.2)\n",
    "\n",
    "http://www.stochasticlifestyle.com/some-state-of-the-art-packages-in-julia-v1-0/\n",
    "\n"
   ]
  },
  {
   "cell_type": "markdown",
   "metadata": {},
   "source": [
    "## DifferentialEquations.jl\n",
    "\n",
    "- State-of-the-art differential equation solvers\n",
    "\n",
    "![](https://camo.githubusercontent.com/011fe73b3a9c48dd7c36c0a5f31d2b37d8d55162/687474703a2f2f7777772e73746f636861737469636c6966657374796c652e636f6d2f77702d636f6e74656e742f75706c6f6164732f323031392f30382f64655f736f6c7665725f736f6674776172655f636f6d70617273696f6e2d312e706e67)"
   ]
  },
  {
   "cell_type": "code",
   "execution_count": 19,
   "metadata": {},
   "outputs": [],
   "source": [
    "using Flux"
   ]
  },
  {
   "cell_type": "markdown",
   "metadata": {},
   "source": [
    "# Flux.jl\n",
    "\n",
    "- Deep Neural Networks in pure Julia\n",
    "\n",
    "```julia\n",
    "model = Chain(\n",
    "  Dense(768, 128, σ),\n",
    "  LSTM(128, 256),\n",
    "  LSTM(256, 128),\n",
    "  Dense(128, 10),\n",
    "  softmax)\n",
    "\n",
    "loss(x, y) = crossentropy(model(x), y)\n",
    "\n",
    "Flux.train!(loss, data, ADAM(...))\n",
    "```"
   ]
  },
  {
   "cell_type": "markdown",
   "metadata": {},
   "source": [
    "## Zygote.jl\n",
    "\n",
    "- Automatic differentiation for arbitrary Julia code\n",
    "- This is a fairly big deal for deep learning applications"
   ]
  },
  {
   "cell_type": "code",
   "execution_count": 20,
   "metadata": {},
   "outputs": [
    {
     "data": {
      "text/plain": [
       "(53, 5)"
      ]
     },
     "execution_count": 20,
     "metadata": {},
     "output_type": "execute_result"
    }
   ],
   "source": [
    "using Zygote\n",
    "\n",
    "thing(x) = 5x + 3\n",
    "\n",
    "thing(10), thing'(10)"
   ]
  },
  {
   "cell_type": "markdown",
   "metadata": {},
   "source": [
    "# MLJ.jl\n",
    "\n",
    "- Big ML Framework in Julia.  Wrapper around SciKitLearn.jl and more"
   ]
  },
  {
   "cell_type": "code",
   "execution_count": 21,
   "metadata": {},
   "outputs": [
    {
     "name": "stderr",
     "output_type": "stream",
     "text": [
      "┌ Info: Recompiling stale cache file /Users/joday/.julia/compiled/v1.2/MLJ/rAU56.ji for MLJ [add582a8-e3ab-11e8-2d5e-e98b27df1bc7]\n",
      "└ @ Base loading.jl:1240\n",
      "WARNING: using MLJ.Node in module Main conflicts with an existing identifier.\n",
      "WARNING: both CSSUtil and Base export \"empty\"; uses of it in module Interact must be qualified\n"
     ]
    },
    {
     "data": {
      "text/plain": [
       "Dict{Any,Any} with 9 entries:\n",
       "  \"MultivariateStats\" => Any[\"RidgeRegressor\", \"PCA\"]\n",
       "  \"MLJ\"               => Any[\"ConstantClassifier\", \"Standardizer\", \"SimpleRidge…\n",
       "  \"DecisionTree\"      => Any[\"DecisionTreeRegressor\", \"DecisionTreeClassifier\"]\n",
       "  \"ScikitLearn\"       => Any[\"SVMLRegressor\", \"SVMNuClassifier\", \"ElasticNet\", …\n",
       "  \"LIBSVM\"            => Any[\"EpsilonSVR\", \"LinearSVC\", \"NuSVR\", \"NuSVC\", \"SVC\"…\n",
       "  \"Clustering\"        => Any[\"KMeans\", \"KMedoids\"]\n",
       "  \"GLM\"               => Any[\"OLSRegressor\", \"GLMCountRegressor\"]\n",
       "  \"NaiveBayes\"        => Any[\"GaussianNBClassifier\", \"MultinomialNBClassifier\"]\n",
       "  \"XGBoost\"           => Any[\"XGBoostCount\", \"XGBoostRegressor\", \"XGBoostClassi…"
      ]
     },
     "execution_count": 21,
     "metadata": {},
     "output_type": "execute_result"
    }
   ],
   "source": [
    "using MLJ\n",
    "models()"
   ]
  },
  {
   "cell_type": "markdown",
   "metadata": {},
   "source": [
    "## Interact.jl\n",
    "\n",
    "- Interactive widgets for Julia"
   ]
  },
  {
   "cell_type": "code",
   "execution_count": 22,
   "metadata": {},
   "outputs": [
    {
     "data": {
      "application/vnd.webio.node+json": {
       "children": [
        {
         "children": [
          {
           "children": [
            {
             "children": [
              {
               "children": [
                {
                 "children": [
                  "i"
                 ],
                 "instanceArgs": {
                  "namespace": "html",
                  "tag": "label"
                 },
                 "nodeType": "DOM",
                 "props": {
                  "className": "interact ",
                  "style": {
                   "padding": "5px 10px 0px 10px"
                  }
                 },
                 "type": "node"
                }
               ],
               "instanceArgs": {
                "namespace": "html",
                "tag": "div"
               },
               "nodeType": "DOM",
               "props": {
                "className": "interact-flex-row-left"
               },
               "type": "node"
              },
              {
               "children": [
                {
                 "children": [],
                 "instanceArgs": {
                  "namespace": "html",
                  "tag": "input"
                 },
                 "nodeType": "DOM",
                 "props": {
                  "attributes": {
                   "data-bind": "numericValue: index, valueUpdate: 'input', event: {change: function (){this.changes(this.changes()+1)}}",
                   "orient": "horizontal",
                   "type": "range"
                  },
                  "className": "slider slider is-fullwidth",
                  "max": 50,
                  "min": 1,
                  "step": 1,
                  "style": {}
                 },
                 "type": "node"
                }
               ],
               "instanceArgs": {
                "namespace": "html",
                "tag": "div"
               },
               "nodeType": "DOM",
               "props": {
                "className": "interact-flex-row-center"
               },
               "type": "node"
              },
              {
               "children": [
                {
                 "children": [],
                 "instanceArgs": {
                  "namespace": "html",
                  "tag": "p"
                 },
                 "nodeType": "DOM",
                 "props": {
                  "attributes": {
                   "data-bind": "text: formatted_val"
                  }
                 },
                 "type": "node"
                }
               ],
               "instanceArgs": {
                "namespace": "html",
                "tag": "div"
               },
               "nodeType": "DOM",
               "props": {
                "className": "interact-flex-row-right"
               },
               "type": "node"
              }
             ],
             "instanceArgs": {
              "namespace": "html",
              "tag": "div"
             },
             "nodeType": "DOM",
             "props": {
              "className": "interact-flex-row interact-widget"
             },
             "type": "node"
            }
           ],
           "instanceArgs": {
            "handlers": {
             "changes": [
              "(function (val){return (val!=this.model[\"changes\"]()) ? (this.valueFromJulia[\"changes\"]=true, this.model[\"changes\"](val)) : undefined})"
             ],
             "index": [
              "(function (val){return (val!=this.model[\"index\"]()) ? (this.valueFromJulia[\"index\"]=true, this.model[\"index\"](val)) : undefined})"
             ]
            },
            "id": "18433944559035668775",
            "imports": {
             "data": [
              {
               "name": "knockout",
               "type": "js",
               "url": "/assetserver/bf3e344bbbe45b806bbda88c6101232eb1f7318f-knockout.js"
              },
              {
               "name": "knockout_punches",
               "type": "js",
               "url": "/assetserver/3ad363ca1664d7335dff0eabc7ebe7d829397430-knockout_punches.js"
              },
              {
               "name": null,
               "type": "js",
               "url": "/assetserver/c17843d82807177c96402335f7810c38fb70de05-all.js"
              },
              {
               "name": null,
               "type": "css",
               "url": "/assetserver/cf9b1ef11d5ef7ab3ff5a3942d24ca77dcb679d2-style.css"
              },
              {
               "name": null,
               "type": "css",
               "url": "/assetserver/c591c2d5f890a3e4541fd6b806094298d3ec794b-bulma_confined.min.css"
              }
             ],
             "type": "async_block"
            },
            "mount_callbacks": [
             "function () {\n    var handler = (function (ko, koPunches) {\n    ko.punches.enableAll();\n    ko.bindingHandlers.numericValue = {\n        init: function(element, valueAccessor, allBindings, data, context) {\n            var stringified = ko.observable(ko.unwrap(valueAccessor()));\n            stringified.subscribe(function(value) {\n                var val = parseFloat(value);\n                if (!isNaN(val)) {\n                    valueAccessor()(val);\n                }\n            });\n            valueAccessor().subscribe(function(value) {\n                var str = JSON.stringify(value);\n                if ((str == \"0\") && ([\"-0\", \"-0.\"].indexOf(stringified()) >= 0))\n                     return;\n                 if ([\"null\", \"\"].indexOf(str) >= 0)\n                     return;\n                stringified(str);\n            });\n            ko.applyBindingsToNode(\n                element,\n                {\n                    value: stringified,\n                    valueUpdate: allBindings.get('valueUpdate'),\n                },\n                context,\n            );\n        }\n    };\n    var json_data = {\"formatted_vals\":[\"1\",\"2\",\"3\",\"4\",\"5\",\"6\",\"7\",\"8\",\"9\",\"10\",\"11\",\"12\",\"13\",\"14\",\"15\",\"16\",\"17\",\"18\",\"19\",\"20\",\"21\",\"22\",\"23\",\"24\",\"25\",\"26\",\"27\",\"28\",\"29\",\"30\",\"31\",\"32\",\"33\",\"34\",\"35\",\"36\",\"37\",\"38\",\"39\",\"40\",\"41\",\"42\",\"43\",\"44\",\"45\",\"46\",\"47\",\"48\",\"49\",\"50\"],\"changes\":WebIO.getval({\"name\":\"changes\",\"scope\":\"18433944559035668775\",\"id\":\"ob_13\",\"type\":\"observable\"}),\"index\":WebIO.getval({\"name\":\"index\",\"scope\":\"18433944559035668775\",\"id\":\"ob_12\",\"type\":\"observable\"})};\n    var self = this;\n    function AppViewModel() {\n        for (var key in json_data) {\n            var el = json_data[key];\n            this[key] = Array.isArray(el) ? ko.observableArray(el) : ko.observable(el);\n        }\n        \n        [this[\"formatted_val\"]=ko.computed(    function(){\n        return this.formatted_vals()[parseInt(this.index())-(1)];\n    }\n,this)]\n        [this[\"changes\"].subscribe((function (val){!(this.valueFromJulia[\"changes\"]) ? (WebIO.setval({\"name\":\"changes\",\"scope\":\"18433944559035668775\",\"id\":\"ob_13\",\"type\":\"observable\"},val)) : undefined; return this.valueFromJulia[\"changes\"]=false}),self),this[\"index\"].subscribe((function (val){!(this.valueFromJulia[\"index\"]) ? (WebIO.setval({\"name\":\"index\",\"scope\":\"18433944559035668775\",\"id\":\"ob_12\",\"type\":\"observable\"},val)) : undefined; return this.valueFromJulia[\"index\"]=false}),self)]\n        \n    }\n    self.model = new AppViewModel();\n    self.valueFromJulia = {};\n    for (var key in json_data) {\n        self.valueFromJulia[key] = false;\n    }\n    ko.applyBindings(self.model, self.dom);\n}\n);\n    (WebIO.importBlock({\"data\":[{\"name\":\"knockout\",\"type\":\"js\",\"url\":\"/assetserver/bf3e344bbbe45b806bbda88c6101232eb1f7318f-knockout.js\"},{\"name\":\"knockout_punches\",\"type\":\"js\",\"url\":\"/assetserver/3ad363ca1664d7335dff0eabc7ebe7d829397430-knockout_punches.js\"}],\"type\":\"async_block\"})).then((imports) => handler.apply(this, imports));\n}\n"
            ],
            "observables": {
             "changes": {
              "id": "ob_13",
              "sync": false,
              "value": 0
             },
             "index": {
              "id": "ob_12",
              "sync": true,
              "value": 25
             }
            },
            "systemjs_options": null
           },
           "nodeType": "Scope",
           "props": {},
           "type": "node"
          }
         ],
         "instanceArgs": {
          "namespace": "html",
          "tag": "div"
         },
         "nodeType": "DOM",
         "props": {
          "className": "field interact-widget"
         },
         "type": "node"
        },
        {
         "children": [
          {
           "children": [
            {
             "children": [
              {
               "children": [
                {
                 "children": [
                  "color"
                 ],
                 "instanceArgs": {
                  "namespace": "html",
                  "tag": "label"
                 },
                 "nodeType": "DOM",
                 "props": {
                  "className": "interact ",
                  "style": {
                   "padding": "5px 10px 0px 10px"
                  }
                 },
                 "type": "node"
                }
               ],
               "instanceArgs": {
                "namespace": "html",
                "tag": "div"
               },
               "nodeType": "DOM",
               "props": {
                "className": "interact-flex-row-left"
               },
               "type": "node"
              },
              {
               "children": [
                {
                 "children": [
                  {
                   "children": [
                    {
                     "children": [],
                     "instanceArgs": {
                      "namespace": "html",
                      "tag": "label"
                     },
                     "nodeType": "DOM",
                     "props": {
                      "attributes": {
                       "data-bind": "text : key"
                      }
                     },
                     "type": "node"
                    }
                   ],
                   "instanceArgs": {
                    "namespace": "html",
                    "tag": "span"
                   },
                   "nodeType": "DOM",
                   "props": {
                    "attributes": {
                     "data-bind": "click: function (){$root.update(val)}, css: {'is-primary is-selected' : $root.index() == val, 'interact-widget is-medium button ' : true}"
                    }
                   },
                   "type": "node"
                  }
                 ],
                 "instanceArgs": {
                  "namespace": "html",
                  "tag": "div"
                 },
                 "nodeType": "DOM",
                 "props": {
                  "attributes": {
                   "data-bind": "foreach : options_js"
                  },
                  "className": "buttons has-addons is-centered"
                 },
                 "type": "node"
                }
               ],
               "instanceArgs": {
                "namespace": "html",
                "tag": "div"
               },
               "nodeType": "DOM",
               "props": {
                "className": "interact-flex-row-center"
               },
               "type": "node"
              },
              {
               "children": [
                {
                 "children": [],
                 "instanceArgs": {
                  "namespace": "html",
                  "tag": "div"
                 },
                 "nodeType": "DOM",
                 "props": {},
                 "type": "node"
                }
               ],
               "instanceArgs": {
                "namespace": "html",
                "tag": "div"
               },
               "nodeType": "DOM",
               "props": {
                "className": "interact-flex-row-right"
               },
               "type": "node"
              }
             ],
             "instanceArgs": {
              "namespace": "html",
              "tag": "div"
             },
             "nodeType": "DOM",
             "props": {
              "className": "interact-flex-row interact-widget"
             },
             "type": "node"
            }
           ],
           "instanceArgs": {
            "handlers": {
             "index": [
              "(function (val){return (val!=this.model[\"index\"]()) ? (this.valueFromJulia[\"index\"]=true, this.model[\"index\"](val)) : undefined})"
             ],
             "options_js": [
              "(function (val){return (val!=this.model[\"options_js\"]()) ? (this.valueFromJulia[\"options_js\"]=true, this.model[\"options_js\"](val)) : undefined})"
             ]
            },
            "id": "15234161082923168727",
            "imports": {
             "data": [
              {
               "name": "knockout",
               "type": "js",
               "url": "/assetserver/bf3e344bbbe45b806bbda88c6101232eb1f7318f-knockout.js"
              },
              {
               "name": "knockout_punches",
               "type": "js",
               "url": "/assetserver/3ad363ca1664d7335dff0eabc7ebe7d829397430-knockout_punches.js"
              },
              {
               "name": null,
               "type": "js",
               "url": "/assetserver/c17843d82807177c96402335f7810c38fb70de05-all.js"
              },
              {
               "name": null,
               "type": "css",
               "url": "/assetserver/cf9b1ef11d5ef7ab3ff5a3942d24ca77dcb679d2-style.css"
              },
              {
               "name": null,
               "type": "css",
               "url": "/assetserver/c591c2d5f890a3e4541fd6b806094298d3ec794b-bulma_confined.min.css"
              }
             ],
             "type": "async_block"
            },
            "mount_callbacks": [
             "function () {\n    var handler = (function (ko, koPunches) {\n    ko.punches.enableAll();\n    ko.bindingHandlers.numericValue = {\n        init: function(element, valueAccessor, allBindings, data, context) {\n            var stringified = ko.observable(ko.unwrap(valueAccessor()));\n            stringified.subscribe(function(value) {\n                var val = parseFloat(value);\n                if (!isNaN(val)) {\n                    valueAccessor()(val);\n                }\n            });\n            valueAccessor().subscribe(function(value) {\n                var str = JSON.stringify(value);\n                if ((str == \"0\") && ([\"-0\", \"-0.\"].indexOf(stringified()) >= 0))\n                     return;\n                 if ([\"null\", \"\"].indexOf(str) >= 0)\n                     return;\n                stringified(str);\n            });\n            ko.applyBindingsToNode(\n                element,\n                {\n                    value: stringified,\n                    valueUpdate: allBindings.get('valueUpdate'),\n                },\n                context,\n            );\n        }\n    };\n    var json_data = {\"options_js\":WebIO.getval({\"name\":\"options_js\",\"scope\":\"15234161082923168727\",\"id\":\"ob_18\",\"type\":\"observable\"}),\"index\":WebIO.getval({\"name\":\"index\",\"scope\":\"15234161082923168727\",\"id\":\"ob_17\",\"type\":\"observable\"})};\n    var self = this;\n    function AppViewModel() {\n        for (var key in json_data) {\n            var el = json_data[key];\n            this[key] = Array.isArray(el) ? ko.observableArray(el) : ko.observable(el);\n        }\n        [this[\"update\"]=function (val) {this.index(val)}]\n        \n        [this[\"options_js\"].subscribe((function (val){!(this.valueFromJulia[\"options_js\"]) ? (WebIO.setval({\"name\":\"options_js\",\"scope\":\"15234161082923168727\",\"id\":\"ob_18\",\"type\":\"observable\"},val)) : undefined; return this.valueFromJulia[\"options_js\"]=false}),self),this[\"index\"].subscribe((function (val){!(this.valueFromJulia[\"index\"]) ? (WebIO.setval({\"name\":\"index\",\"scope\":\"15234161082923168727\",\"id\":\"ob_17\",\"type\":\"observable\"},val)) : undefined; return this.valueFromJulia[\"index\"]=false}),self)]\n        \n    }\n    self.model = new AppViewModel();\n    self.valueFromJulia = {};\n    for (var key in json_data) {\n        self.valueFromJulia[key] = false;\n    }\n    ko.applyBindings(self.model, self.dom);\n}\n);\n    (WebIO.importBlock({\"data\":[{\"name\":\"knockout\",\"type\":\"js\",\"url\":\"/assetserver/bf3e344bbbe45b806bbda88c6101232eb1f7318f-knockout.js\"},{\"name\":\"knockout_punches\",\"type\":\"js\",\"url\":\"/assetserver/3ad363ca1664d7335dff0eabc7ebe7d829397430-knockout_punches.js\"}],\"type\":\"async_block\"})).then((imports) => handler.apply(this, imports));\n}\n"
            ],
            "observables": {
             "index": {
              "id": "ob_17",
              "sync": true,
              "value": 1
             },
             "options_js": {
              "id": "ob_18",
              "sync": false,
              "value": [
               {
                "id": "idtOIbBEtU",
                "key": "black",
                "val": 1
               },
               {
                "id": "idYrIMqvdn",
                "key": "blue",
                "val": 2
               },
               {
                "id": "idAZbNEvcY",
                "key": "green",
                "val": 3
               },
               {
                "id": "idkAkZPL8F",
                "key": "red",
                "val": 4
               }
              ]
             }
            },
            "systemjs_options": null
           },
           "nodeType": "Scope",
           "props": {},
           "type": "node"
          }
         ],
         "instanceArgs": {
          "namespace": "html",
          "tag": "div"
         },
         "nodeType": "DOM",
         "props": {
          "className": "interact-widget"
         },
         "type": "node"
        },
        {
         "children": [
          {
           "children": [
            {
             "children": [
              {
               "children": [
                {
                 "children": [
                  "lw"
                 ],
                 "instanceArgs": {
                  "namespace": "html",
                  "tag": "label"
                 },
                 "nodeType": "DOM",
                 "props": {
                  "className": "interact ",
                  "style": {
                   "padding": "5px 10px 0px 10px"
                  }
                 },
                 "type": "node"
                }
               ],
               "instanceArgs": {
                "namespace": "html",
                "tag": "div"
               },
               "nodeType": "DOM",
               "props": {
                "className": "interact-flex-row-left"
               },
               "type": "node"
              },
              {
               "children": [
                {
                 "children": [],
                 "instanceArgs": {
                  "namespace": "html",
                  "tag": "input"
                 },
                 "nodeType": "DOM",
                 "props": {
                  "attributes": {
                   "data-bind": "numericValue: index, valueUpdate: 'input', event: {change: function (){this.changes(this.changes()+1)}}",
                   "orient": "horizontal",
                   "type": "range"
                  },
                  "className": "slider slider is-fullwidth",
                  "max": 46,
                  "min": 1,
                  "step": 1,
                  "style": {}
                 },
                 "type": "node"
                }
               ],
               "instanceArgs": {
                "namespace": "html",
                "tag": "div"
               },
               "nodeType": "DOM",
               "props": {
                "className": "interact-flex-row-center"
               },
               "type": "node"
              },
              {
               "children": [
                {
                 "children": [],
                 "instanceArgs": {
                  "namespace": "html",
                  "tag": "p"
                 },
                 "nodeType": "DOM",
                 "props": {
                  "attributes": {
                   "data-bind": "text: formatted_val"
                  }
                 },
                 "type": "node"
                }
               ],
               "instanceArgs": {
                "namespace": "html",
                "tag": "div"
               },
               "nodeType": "DOM",
               "props": {
                "className": "interact-flex-row-right"
               },
               "type": "node"
              }
             ],
             "instanceArgs": {
              "namespace": "html",
              "tag": "div"
             },
             "nodeType": "DOM",
             "props": {
              "className": "interact-flex-row interact-widget"
             },
             "type": "node"
            }
           ],
           "instanceArgs": {
            "handlers": {
             "changes": [
              "(function (val){return (val!=this.model[\"changes\"]()) ? (this.valueFromJulia[\"changes\"]=true, this.model[\"changes\"](val)) : undefined})"
             ],
             "index": [
              "(function (val){return (val!=this.model[\"index\"]()) ? (this.valueFromJulia[\"index\"]=true, this.model[\"index\"](val)) : undefined})"
             ]
            },
            "id": "9753274859486261778",
            "imports": {
             "data": [
              {
               "name": "knockout",
               "type": "js",
               "url": "/assetserver/bf3e344bbbe45b806bbda88c6101232eb1f7318f-knockout.js"
              },
              {
               "name": "knockout_punches",
               "type": "js",
               "url": "/assetserver/3ad363ca1664d7335dff0eabc7ebe7d829397430-knockout_punches.js"
              },
              {
               "name": null,
               "type": "js",
               "url": "/assetserver/c17843d82807177c96402335f7810c38fb70de05-all.js"
              },
              {
               "name": null,
               "type": "css",
               "url": "/assetserver/cf9b1ef11d5ef7ab3ff5a3942d24ca77dcb679d2-style.css"
              },
              {
               "name": null,
               "type": "css",
               "url": "/assetserver/c591c2d5f890a3e4541fd6b806094298d3ec794b-bulma_confined.min.css"
              }
             ],
             "type": "async_block"
            },
            "mount_callbacks": [
             "function () {\n    var handler = (function (ko, koPunches) {\n    ko.punches.enableAll();\n    ko.bindingHandlers.numericValue = {\n        init: function(element, valueAccessor, allBindings, data, context) {\n            var stringified = ko.observable(ko.unwrap(valueAccessor()));\n            stringified.subscribe(function(value) {\n                var val = parseFloat(value);\n                if (!isNaN(val)) {\n                    valueAccessor()(val);\n                }\n            });\n            valueAccessor().subscribe(function(value) {\n                var str = JSON.stringify(value);\n                if ((str == \"0\") && ([\"-0\", \"-0.\"].indexOf(stringified()) >= 0))\n                     return;\n                 if ([\"null\", \"\"].indexOf(str) >= 0)\n                     return;\n                stringified(str);\n            });\n            ko.applyBindingsToNode(\n                element,\n                {\n                    value: stringified,\n                    valueUpdate: allBindings.get('valueUpdate'),\n                },\n                context,\n            );\n        }\n    };\n    var json_data = {\"formatted_vals\":[\"1.0\",\"1.2\",\"1.4\",\"1.6\",\"1.8\",\"2.0\",\"2.2\",\"2.4\",\"2.6\",\"2.8\",\"3.0\",\"3.2\",\"3.4\",\"3.6\",\"3.8\",\"4.0\",\"4.2\",\"4.4\",\"4.6\",\"4.8\",\"5.0\",\"5.2\",\"5.4\",\"5.6\",\"5.8\",\"6.0\",\"6.2\",\"6.4\",\"6.6\",\"6.8\",\"7.0\",\"7.2\",\"7.4\",\"7.6\",\"7.8\",\"8.0\",\"8.2\",\"8.4\",\"8.6\",\"8.8\",\"9.0\",\"9.2\",\"9.4\",\"9.6\",\"9.8\",\"10.0\"],\"changes\":WebIO.getval({\"name\":\"changes\",\"scope\":\"9753274859486261778\",\"id\":\"ob_21\",\"type\":\"observable\"}),\"index\":WebIO.getval({\"name\":\"index\",\"scope\":\"9753274859486261778\",\"id\":\"ob_20\",\"type\":\"observable\"})};\n    var self = this;\n    function AppViewModel() {\n        for (var key in json_data) {\n            var el = json_data[key];\n            this[key] = Array.isArray(el) ? ko.observableArray(el) : ko.observable(el);\n        }\n        \n        [this[\"formatted_val\"]=ko.computed(    function(){\n        return this.formatted_vals()[parseInt(this.index())-(1)];\n    }\n,this)]\n        [this[\"changes\"].subscribe((function (val){!(this.valueFromJulia[\"changes\"]) ? (WebIO.setval({\"name\":\"changes\",\"scope\":\"9753274859486261778\",\"id\":\"ob_21\",\"type\":\"observable\"},val)) : undefined; return this.valueFromJulia[\"changes\"]=false}),self),this[\"index\"].subscribe((function (val){!(this.valueFromJulia[\"index\"]) ? (WebIO.setval({\"name\":\"index\",\"scope\":\"9753274859486261778\",\"id\":\"ob_20\",\"type\":\"observable\"},val)) : undefined; return this.valueFromJulia[\"index\"]=false}),self)]\n        \n    }\n    self.model = new AppViewModel();\n    self.valueFromJulia = {};\n    for (var key in json_data) {\n        self.valueFromJulia[key] = false;\n    }\n    ko.applyBindings(self.model, self.dom);\n}\n);\n    (WebIO.importBlock({\"data\":[{\"name\":\"knockout\",\"type\":\"js\",\"url\":\"/assetserver/bf3e344bbbe45b806bbda88c6101232eb1f7318f-knockout.js\"},{\"name\":\"knockout_punches\",\"type\":\"js\",\"url\":\"/assetserver/3ad363ca1664d7335dff0eabc7ebe7d829397430-knockout_punches.js\"}],\"type\":\"async_block\"})).then((imports) => handler.apply(this, imports));\n}\n"
            ],
            "observables": {
             "changes": {
              "id": "ob_21",
              "sync": false,
              "value": 0
             },
             "index": {
              "id": "ob_20",
              "sync": true,
              "value": 23
             }
            },
            "systemjs_options": null
           },
           "nodeType": "Scope",
           "props": {},
           "type": "node"
          }
         ],
         "instanceArgs": {
          "namespace": "html",
          "tag": "div"
         },
         "nodeType": "DOM",
         "props": {
          "className": "field interact-widget"
         },
         "type": "node"
        },
        {
         "children": [
          {
           "children": [],
           "instanceArgs": {
            "id": "ob_27",
            "name": "obs-node"
           },
           "nodeType": "ObservableNode",
           "props": {},
           "type": "node"
          }
         ],
         "instanceArgs": {
          "handlers": {},
          "id": "7987971535411539156",
          "imports": {
           "data": [],
           "type": "async_block"
          },
          "mount_callbacks": [],
          "observables": {
           "obs-node": {
            "id": "ob_27",
            "sync": false,
            "value": {
             "children": [
              {
               "children": [],
               "instanceArgs": {
                "namespace": "html",
                "tag": "div"
               },
               "nodeType": "DOM",
               "props": {
                "setInnerHtml": "<?xml version=\"1.0\" encoding=\"utf-8\"?>\n<svg xmlns=\"http://www.w3.org/2000/svg\" xmlns:xlink=\"http://www.w3.org/1999/xlink\" width=\"800\" height=\"500\" viewBox=\"0 0 3200 2000\">\n<defs>\n  <clipPath id=\"clip3500\">\n    <rect x=\"0\" y=\"0\" width=\"3200\" height=\"2000\"/>\n  </clipPath>\n</defs>\n<polygon clip-path=\"url(#clip3500)\" points=\"\n0,2000 3200,2000 3200,0 0,0 \n  \" fill=\"#ffffff\" fill-rule=\"evenodd\" fill-opacity=\"1\"/>\n<defs>\n  <clipPath id=\"clip3501\">\n    <rect x=\"640\" y=\"0\" width=\"2241\" height=\"2000\"/>\n  </clipPath>\n</defs>\n<polygon clip-path=\"url(#clip3500)\" points=\"\n161.898,1885.57 3152.76,1885.57 3152.76,47.2441 161.898,47.2441 \n  \" fill=\"#ffffff\" fill-rule=\"evenodd\" fill-opacity=\"1\"/>\n<defs>\n  <clipPath id=\"clip3502\">\n    <rect x=\"161\" y=\"47\" width=\"2992\" height=\"1839\"/>\n  </clipPath>\n</defs>\n<polyline clip-path=\"url(#clip3502)\" style=\"stroke:#000000; stroke-width:2; stroke-opacity:0.1; fill:none\" points=\"\n  161.898,1885.57 161.898,47.2441 \n  \"/>\n<polyline clip-path=\"url(#clip3502)\" style=\"stroke:#000000; stroke-width:2; stroke-opacity:0.1; fill:none\" points=\"\n  760.07,1885.57 760.07,47.2441 \n  \"/>\n<polyline clip-path=\"url(#clip3502)\" style=\"stroke:#000000; stroke-width:2; stroke-opacity:0.1; fill:none\" points=\"\n  1358.24,1885.57 1358.24,47.2441 \n  \"/>\n<polyline clip-path=\"url(#clip3502)\" style=\"stroke:#000000; stroke-width:2; stroke-opacity:0.1; fill:none\" points=\"\n  1956.41,1885.57 1956.41,47.2441 \n  \"/>\n<polyline clip-path=\"url(#clip3502)\" style=\"stroke:#000000; stroke-width:2; stroke-opacity:0.1; fill:none\" points=\"\n  2554.58,1885.57 2554.58,47.2441 \n  \"/>\n<polyline clip-path=\"url(#clip3502)\" style=\"stroke:#000000; stroke-width:2; stroke-opacity:0.1; fill:none\" points=\"\n  3152.76,1885.57 3152.76,47.2441 \n  \"/>\n<polyline clip-path=\"url(#clip3502)\" style=\"stroke:#000000; stroke-width:2; stroke-opacity:0.1; fill:none\" points=\"\n  161.898,1885.57 3152.76,1885.57 \n  \"/>\n<polyline clip-path=\"url(#clip3502)\" style=\"stroke:#000000; stroke-width:2; stroke-opacity:0.1; fill:none\" points=\"\n  161.898,1517.91 3152.76,1517.91 \n  \"/>\n<polyline clip-path=\"url(#clip3502)\" style=\"stroke:#000000; stroke-width:2; stroke-opacity:0.1; fill:none\" points=\"\n  161.898,1150.24 3152.76,1150.24 \n  \"/>\n<polyline clip-path=\"url(#clip3502)\" style=\"stroke:#000000; stroke-width:2; stroke-opacity:0.1; fill:none\" points=\"\n  161.898,782.575 3152.76,782.575 \n  \"/>\n<polyline clip-path=\"url(#clip3502)\" style=\"stroke:#000000; stroke-width:2; stroke-opacity:0.1; fill:none\" points=\"\n  161.898,414.909 3152.76,414.909 \n  \"/>\n<polyline clip-path=\"url(#clip3502)\" style=\"stroke:#000000; stroke-width:2; stroke-opacity:0.1; fill:none\" points=\"\n  161.898,47.2441 3152.76,47.2441 \n  \"/>\n<polyline clip-path=\"url(#clip3500)\" style=\"stroke:#000000; stroke-width:4; stroke-opacity:1; fill:none\" points=\"\n  161.898,1885.57 3152.76,1885.57 \n  \"/>\n<polyline clip-path=\"url(#clip3500)\" style=\"stroke:#000000; stroke-width:4; stroke-opacity:1; fill:none\" points=\"\n  161.898,1885.57 161.898,47.2441 \n  \"/>\n<polyline clip-path=\"url(#clip3500)\" style=\"stroke:#000000; stroke-width:4; stroke-opacity:1; fill:none\" points=\"\n  161.898,1885.57 161.898,1858 \n  \"/>\n<polyline clip-path=\"url(#clip3500)\" style=\"stroke:#000000; stroke-width:4; stroke-opacity:1; fill:none\" points=\"\n  760.07,1885.57 760.07,1858 \n  \"/>\n<polyline clip-path=\"url(#clip3500)\" style=\"stroke:#000000; stroke-width:4; stroke-opacity:1; fill:none\" points=\"\n  1358.24,1885.57 1358.24,1858 \n  \"/>\n<polyline clip-path=\"url(#clip3500)\" style=\"stroke:#000000; stroke-width:4; stroke-opacity:1; fill:none\" points=\"\n  1956.41,1885.57 1956.41,1858 \n  \"/>\n<polyline clip-path=\"url(#clip3500)\" style=\"stroke:#000000; stroke-width:4; stroke-opacity:1; fill:none\" points=\"\n  2554.58,1885.57 2554.58,1858 \n  \"/>\n<polyline clip-path=\"url(#clip3500)\" style=\"stroke:#000000; stroke-width:4; stroke-opacity:1; fill:none\" points=\"\n  3152.76,1885.57 3152.76,1858 \n  \"/>\n<polyline clip-path=\"url(#clip3500)\" style=\"stroke:#000000; stroke-width:4; stroke-opacity:1; fill:none\" points=\"\n  161.898,1885.57 206.761,1885.57 \n  \"/>\n<polyline clip-path=\"url(#clip3500)\" style=\"stroke:#000000; stroke-width:4; stroke-opacity:1; fill:none\" points=\"\n  161.898,1517.91 206.761,1517.91 \n  \"/>\n<polyline clip-path=\"url(#clip3500)\" style=\"stroke:#000000; stroke-width:4; stroke-opacity:1; fill:none\" points=\"\n  161.898,1150.24 206.761,1150.24 \n  \"/>\n<polyline clip-path=\"url(#clip3500)\" style=\"stroke:#000000; stroke-width:4; stroke-opacity:1; fill:none\" points=\"\n  161.898,782.575 206.761,782.575 \n  \"/>\n<polyline clip-path=\"url(#clip3500)\" style=\"stroke:#000000; stroke-width:4; stroke-opacity:1; fill:none\" points=\"\n  161.898,414.909 206.761,414.909 \n  \"/>\n<polyline clip-path=\"url(#clip3500)\" style=\"stroke:#000000; stroke-width:4; stroke-opacity:1; fill:none\" points=\"\n  161.898,47.2441 206.761,47.2441 \n  \"/>\n<g clip-path=\"url(#clip3500)\">\n<text style=\"fill:#000000; fill-opacity:1; font-family:Arial,Helvetica Neue,Helvetica,sans-serif; font-size:48px; text-anchor:middle;\" transform=\"rotate(0, 161.898, 1943.57)\" x=\"161.898\" y=\"1943.57\">0</text>\n</g>\n<g clip-path=\"url(#clip3500)\">\n<text style=\"fill:#000000; fill-opacity:1; font-family:Arial,Helvetica Neue,Helvetica,sans-serif; font-size:48px; text-anchor:middle;\" transform=\"rotate(0, 760.07, 1943.57)\" x=\"760.07\" y=\"1943.57\">10</text>\n</g>\n<g clip-path=\"url(#clip3500)\">\n<text style=\"fill:#000000; fill-opacity:1; font-family:Arial,Helvetica Neue,Helvetica,sans-serif; font-size:48px; text-anchor:middle;\" transform=\"rotate(0, 1358.24, 1943.57)\" x=\"1358.24\" y=\"1943.57\">20</text>\n</g>\n<g clip-path=\"url(#clip3500)\">\n<text style=\"fill:#000000; fill-opacity:1; font-family:Arial,Helvetica Neue,Helvetica,sans-serif; font-size:48px; text-anchor:middle;\" transform=\"rotate(0, 1956.41, 1943.57)\" x=\"1956.41\" y=\"1943.57\">30</text>\n</g>\n<g clip-path=\"url(#clip3500)\">\n<text style=\"fill:#000000; fill-opacity:1; font-family:Arial,Helvetica Neue,Helvetica,sans-serif; font-size:48px; text-anchor:middle;\" transform=\"rotate(0, 2554.58, 1943.57)\" x=\"2554.58\" y=\"1943.57\">40</text>\n</g>\n<g clip-path=\"url(#clip3500)\">\n<text style=\"fill:#000000; fill-opacity:1; font-family:Arial,Helvetica Neue,Helvetica,sans-serif; font-size:48px; text-anchor:middle;\" transform=\"rotate(0, 3152.76, 1943.57)\" x=\"3152.76\" y=\"1943.57\">50</text>\n</g>\n<g clip-path=\"url(#clip3500)\">\n<text style=\"fill:#000000; fill-opacity:1; font-family:Arial,Helvetica Neue,Helvetica,sans-serif; font-size:48px; text-anchor:end;\" transform=\"rotate(0, 129.898, 1903.07)\" x=\"129.898\" y=\"1903.07\">0.0</text>\n</g>\n<g clip-path=\"url(#clip3500)\">\n<text style=\"fill:#000000; fill-opacity:1; font-family:Arial,Helvetica Neue,Helvetica,sans-serif; font-size:48px; text-anchor:end;\" transform=\"rotate(0, 129.898, 1535.41)\" x=\"129.898\" y=\"1535.41\">0.2</text>\n</g>\n<g clip-path=\"url(#clip3500)\">\n<text style=\"fill:#000000; fill-opacity:1; font-family:Arial,Helvetica Neue,Helvetica,sans-serif; font-size:48px; text-anchor:end;\" transform=\"rotate(0, 129.898, 1167.74)\" x=\"129.898\" y=\"1167.74\">0.4</text>\n</g>\n<g clip-path=\"url(#clip3500)\">\n<text style=\"fill:#000000; fill-opacity:1; font-family:Arial,Helvetica Neue,Helvetica,sans-serif; font-size:48px; text-anchor:end;\" transform=\"rotate(0, 129.898, 800.075)\" x=\"129.898\" y=\"800.075\">0.6</text>\n</g>\n<g clip-path=\"url(#clip3500)\">\n<text style=\"fill:#000000; fill-opacity:1; font-family:Arial,Helvetica Neue,Helvetica,sans-serif; font-size:48px; text-anchor:end;\" transform=\"rotate(0, 129.898, 432.409)\" x=\"129.898\" y=\"432.409\">0.8</text>\n</g>\n<g clip-path=\"url(#clip3500)\">\n<text style=\"fill:#000000; fill-opacity:1; font-family:Arial,Helvetica Neue,Helvetica,sans-serif; font-size:48px; text-anchor:end;\" transform=\"rotate(0, 129.898, 64.7441)\" x=\"129.898\" y=\"64.7441\">1.0</text>\n</g>\n<circle clip-path=\"url(#clip3502)\" style=\"fill:#000000; stroke:none; fill-opacity:0.5\" cx=\"221.715\" cy=\"472.913\" r=\"18\"/>\n<circle clip-path=\"url(#clip3502)\" style=\"fill:#000000; stroke:none; fill-opacity:0.5\" cx=\"221.715\" cy=\"472.913\" r=\"14\"/>\n<circle clip-path=\"url(#clip3502)\" style=\"fill:#000000; stroke:none; fill-opacity:0.5\" cx=\"281.532\" cy=\"156.597\" r=\"18\"/>\n<circle clip-path=\"url(#clip3502)\" style=\"fill:#000000; stroke:none; fill-opacity:0.5\" cx=\"281.532\" cy=\"156.597\" r=\"14\"/>\n<circle clip-path=\"url(#clip3502)\" style=\"fill:#000000; stroke:none; fill-opacity:0.5\" cx=\"341.349\" cy=\"646.614\" r=\"18\"/>\n<circle clip-path=\"url(#clip3502)\" style=\"fill:#000000; stroke:none; fill-opacity:0.5\" cx=\"341.349\" cy=\"646.614\" r=\"14\"/>\n<circle clip-path=\"url(#clip3502)\" style=\"fill:#000000; stroke:none; fill-opacity:0.5\" cx=\"401.167\" cy=\"1158.6\" r=\"18\"/>\n<circle clip-path=\"url(#clip3502)\" style=\"fill:#000000; stroke:none; fill-opacity:0.5\" cx=\"401.167\" cy=\"1158.6\" r=\"14\"/>\n<circle clip-path=\"url(#clip3502)\" style=\"fill:#000000; stroke:none; fill-opacity:0.5\" cx=\"460.984\" cy=\"1309.73\" r=\"18\"/>\n<circle clip-path=\"url(#clip3502)\" style=\"fill:#000000; stroke:none; fill-opacity:0.5\" cx=\"460.984\" cy=\"1309.73\" r=\"14\"/>\n<circle clip-path=\"url(#clip3502)\" style=\"fill:#000000; stroke:none; fill-opacity:0.5\" cx=\"520.801\" cy=\"667.579\" r=\"18\"/>\n<circle clip-path=\"url(#clip3502)\" style=\"fill:#000000; stroke:none; fill-opacity:0.5\" cx=\"520.801\" cy=\"667.579\" r=\"14\"/>\n<circle clip-path=\"url(#clip3502)\" style=\"fill:#000000; stroke:none; fill-opacity:0.5\" cx=\"580.618\" cy=\"808.271\" r=\"18\"/>\n<circle clip-path=\"url(#clip3502)\" style=\"fill:#000000; stroke:none; fill-opacity:0.5\" cx=\"580.618\" cy=\"808.271\" r=\"14\"/>\n<circle clip-path=\"url(#clip3502)\" style=\"fill:#000000; stroke:none; fill-opacity:0.5\" cx=\"640.435\" cy=\"1789.73\" r=\"18\"/>\n<circle clip-path=\"url(#clip3502)\" style=\"fill:#000000; stroke:none; fill-opacity:0.5\" cx=\"640.435\" cy=\"1789.73\" r=\"14\"/>\n<circle clip-path=\"url(#clip3502)\" style=\"fill:#000000; stroke:none; fill-opacity:0.5\" cx=\"700.252\" cy=\"1391.72\" r=\"18\"/>\n<circle clip-path=\"url(#clip3502)\" style=\"fill:#000000; stroke:none; fill-opacity:0.5\" cx=\"700.252\" cy=\"1391.72\" r=\"14\"/>\n<circle clip-path=\"url(#clip3502)\" style=\"fill:#000000; stroke:none; fill-opacity:0.5\" cx=\"760.07\" cy=\"1685.43\" r=\"18\"/>\n<circle clip-path=\"url(#clip3502)\" style=\"fill:#000000; stroke:none; fill-opacity:0.5\" cx=\"760.07\" cy=\"1685.43\" r=\"14\"/>\n<circle clip-path=\"url(#clip3502)\" style=\"fill:#000000; stroke:none; fill-opacity:0.5\" cx=\"819.887\" cy=\"1584.7\" r=\"18\"/>\n<circle clip-path=\"url(#clip3502)\" style=\"fill:#000000; stroke:none; fill-opacity:0.5\" cx=\"819.887\" cy=\"1584.7\" r=\"14\"/>\n<circle clip-path=\"url(#clip3502)\" style=\"fill:#000000; stroke:none; fill-opacity:0.5\" cx=\"879.704\" cy=\"1016.01\" r=\"18\"/>\n<circle clip-path=\"url(#clip3502)\" style=\"fill:#000000; stroke:none; fill-opacity:0.5\" cx=\"879.704\" cy=\"1016.01\" r=\"14\"/>\n<circle clip-path=\"url(#clip3502)\" style=\"fill:#000000; stroke:none; fill-opacity:0.5\" cx=\"939.521\" cy=\"294.661\" r=\"18\"/>\n<circle clip-path=\"url(#clip3502)\" style=\"fill:#000000; stroke:none; fill-opacity:0.5\" cx=\"939.521\" cy=\"294.661\" r=\"14\"/>\n<circle clip-path=\"url(#clip3502)\" style=\"fill:#000000; stroke:none; fill-opacity:0.5\" cx=\"999.338\" cy=\"750.419\" r=\"18\"/>\n<circle clip-path=\"url(#clip3502)\" style=\"fill:#000000; stroke:none; fill-opacity:0.5\" cx=\"999.338\" cy=\"750.419\" r=\"14\"/>\n<circle clip-path=\"url(#clip3502)\" style=\"fill:#000000; stroke:none; fill-opacity:0.5\" cx=\"1059.16\" cy=\"1360.36\" r=\"18\"/>\n<circle clip-path=\"url(#clip3502)\" style=\"fill:#000000; stroke:none; fill-opacity:0.5\" cx=\"1059.16\" cy=\"1360.36\" r=\"14\"/>\n<circle clip-path=\"url(#clip3502)\" style=\"fill:#000000; stroke:none; fill-opacity:0.5\" cx=\"1118.97\" cy=\"1032.87\" r=\"18\"/>\n<circle clip-path=\"url(#clip3502)\" style=\"fill:#000000; stroke:none; fill-opacity:0.5\" cx=\"1118.97\" cy=\"1032.87\" r=\"14\"/>\n<circle clip-path=\"url(#clip3502)\" style=\"fill:#000000; stroke:none; fill-opacity:0.5\" cx=\"1178.79\" cy=\"1378.52\" r=\"18\"/>\n<circle clip-path=\"url(#clip3502)\" style=\"fill:#000000; stroke:none; fill-opacity:0.5\" cx=\"1178.79\" cy=\"1378.52\" r=\"14\"/>\n<circle clip-path=\"url(#clip3502)\" style=\"fill:#000000; stroke:none; fill-opacity:0.5\" cx=\"1238.61\" cy=\"1064.63\" r=\"18\"/>\n<circle clip-path=\"url(#clip3502)\" style=\"fill:#000000; stroke:none; fill-opacity:0.5\" cx=\"1238.61\" cy=\"1064.63\" r=\"14\"/>\n<circle clip-path=\"url(#clip3502)\" style=\"fill:#000000; stroke:none; fill-opacity:0.5\" cx=\"1298.42\" cy=\"815.08\" r=\"18\"/>\n<circle clip-path=\"url(#clip3502)\" style=\"fill:#000000; stroke:none; fill-opacity:0.5\" cx=\"1298.42\" cy=\"815.08\" r=\"14\"/>\n<circle clip-path=\"url(#clip3502)\" style=\"fill:#000000; stroke:none; fill-opacity:0.5\" cx=\"1358.24\" cy=\"1414.99\" r=\"18\"/>\n<circle clip-path=\"url(#clip3502)\" style=\"fill:#000000; stroke:none; fill-opacity:0.5\" cx=\"1358.24\" cy=\"1414.99\" r=\"14\"/>\n<circle clip-path=\"url(#clip3502)\" style=\"fill:#000000; stroke:none; fill-opacity:0.5\" cx=\"1418.06\" cy=\"587.969\" r=\"18\"/>\n<circle clip-path=\"url(#clip3502)\" style=\"fill:#000000; stroke:none; fill-opacity:0.5\" cx=\"1418.06\" cy=\"587.969\" r=\"14\"/>\n<circle clip-path=\"url(#clip3502)\" style=\"fill:#000000; stroke:none; fill-opacity:0.5\" cx=\"1477.88\" cy=\"1348.82\" r=\"18\"/>\n<circle clip-path=\"url(#clip3502)\" style=\"fill:#000000; stroke:none; fill-opacity:0.5\" cx=\"1477.88\" cy=\"1348.82\" r=\"14\"/>\n<circle clip-path=\"url(#clip3502)\" style=\"fill:#000000; stroke:none; fill-opacity:0.5\" cx=\"1537.69\" cy=\"1368.88\" r=\"18\"/>\n<circle clip-path=\"url(#clip3502)\" style=\"fill:#000000; stroke:none; fill-opacity:0.5\" cx=\"1537.69\" cy=\"1368.88\" r=\"14\"/>\n<circle clip-path=\"url(#clip3502)\" style=\"fill:#000000; stroke:none; fill-opacity:0.5\" cx=\"1597.51\" cy=\"427.904\" r=\"18\"/>\n<circle clip-path=\"url(#clip3502)\" style=\"fill:#000000; stroke:none; fill-opacity:0.5\" cx=\"1597.51\" cy=\"427.904\" r=\"14\"/>\n<circle clip-path=\"url(#clip3502)\" style=\"fill:#000000; stroke:none; fill-opacity:0.5\" cx=\"1657.33\" cy=\"1500.94\" r=\"18\"/>\n<circle clip-path=\"url(#clip3502)\" style=\"fill:#000000; stroke:none; fill-opacity:0.5\" cx=\"1657.33\" cy=\"1500.94\" r=\"14\"/>\n<polyline clip-path=\"url(#clip3502)\" style=\"stroke:#000000; stroke-width:21.6; stroke-opacity:1; fill:none\" points=\"\n  165.549,1773.44 169.2,1661.72 172.851,1550.83 176.502,1441.2 184.942,1194.77 193.382,962.062 201.821,747.713 210.261,555.978 218.701,390.667 227.141,255.067 \n  235.58,151.87 244.02,83.1296 252.46,50.2108 260.899,53.768 269.339,93.7305 277.779,169.304 286.219,278.987 294.658,420.599 303.098,591.326 311.538,787.775 \n  321.682,1052.38 331.826,1340.89 341.97,1645.03 352.113,1956.06 362.257,2265.08 372.401,2563.2 382.545,2841.89 392.689,3093.14 401.265,3278.8 409.842,3435.87 \n  418.418,3561.13 426.995,3652 435.571,3706.62 444.148,3723.86 452.724,3703.38 461.301,3645.6 470.617,3541.95 479.934,3398.21 489.25,3217.85 498.567,3005.24 \n  517.2,2504.49 535.833,1944.18 553.011,1421.35 570.189,936.54 578.778,721.016 587.367,529.461 595.956,365.818 604.545,233.454 613.753,129.374 622.961,66.8296 \n  632.17,47.3006 641.378,71.2484 650.586,138.107 659.795,246.294 664.399,315.124 669.003,393.253 673.607,480.218 678.211,575.506 688.88,825.084 699.549,1108.31 \n  710.217,1416.19 720.886,1738.97 731.555,2066.4 742.223,2388.09 752.892,2693.83 763.561,2973.94 773.042,3194.13 782.523,3381.53 792.004,3531.42 801.485,3640.04 \n  810.966,3704.68 820.448,3723.72 829.929,3696.68 839.41,3624.23 847.724,3524.73 856.038,3393.63 864.352,3233.44 872.666,3047.25 889.294,2611.67 905.922,2120.35 \n  924.051,1565.48 942.181,1039.79 951.245,803.084 960.31,591.192 969.374,408.966 978.439,260.584 987.557,148.903 996.676,77.4996 1005.79,48.0299 1014.91,61.1774 \n  1024.03,116.637 1033.15,213.123 1037.71,276.087 1042.27,348.397 1046.83,429.633 1051.39,519.322 1061.47,744.999 1071.55,1003 1081.63,1286.01 1091.71,1586.01 \n  1111.88,2202.74 1132.04,2783.77 1141.63,3028.36 1151.22,3243.62 1160.82,3424.03 1170.41,3564.97 1180,3662.81 1189.59,3715.05 1194.39,3723.6 1199.19,3720.34 \n  1203.98,3705.29 1208.78,3678.55 1213.77,3638.53 1218.75,3586.33 1223.74,3522.32 1228.73,3446.94 1238.7,3264.24 1248.67,3043.3 1258.65,2790.25 1268.62,2512.1 \n  1278.6,2216.58 1288.57,1911.87 1305.36,1401.59 1322.15,929.206 1330.55,718.975 1338.94,531.688 1347.34,371.03 1355.74,240.16 1360.86,176.041 1365.99,124.464 \n  1371.11,85.808 1376.24,60.3564 1381.36,48.2958 1386.49,49.7149 1391.61,64.6033 1396.74,92.8516 1406.99,188.503 1417.24,333.866 1422.36,423.914 1427.49,524.685 \n  1432.61,635.44 1437.74,755.367 1457.01,1272.58 1476.28,1852.87 1495.55,2436.52 1514.82,2963.48 1522.54,3146.14 1530.26,3307.84 1537.98,3445.89 1545.7,3558 \n  1553.42,3642.3 1561.14,3697.39 1568.85,3722.35 1576.57,3716.78 1584.29,3680.75 1592.01,3614.88 1599.73,3520.26 1607.45,3398.45 1615.17,3251.49 1622.88,3081.82 \n  1630.6,2892.26 1638.32,2685.96 1643.07,2552.12 1647.82,2414.07 1652.58,2272.69 \n  \"/>\n<polygon clip-path=\"url(#clip3500)\" points=\"\n2685.93,360.204 3056.76,360.204 3056.76,178.764 2685.93,178.764 \n  \" fill=\"#ffffff\" fill-rule=\"evenodd\" fill-opacity=\"1\"/>\n<polyline clip-path=\"url(#clip3500)\" style=\"stroke:#000000; stroke-width:4; stroke-opacity:1; fill:none\" points=\"\n  2685.93,360.204 3056.76,360.204 3056.76,178.764 2685.93,178.764 2685.93,360.204 \n  \"/>\n<circle clip-path=\"url(#clip3500)\" style=\"fill:#000000; stroke:none; fill-opacity:0.5\" cx=\"2829.93\" cy=\"239.244\" r=\"25\"/>\n<circle clip-path=\"url(#clip3500)\" style=\"fill:#000000; stroke:none; fill-opacity:0.5\" cx=\"2829.93\" cy=\"239.244\" r=\"21\"/>\n<g clip-path=\"url(#clip3500)\">\n<text style=\"fill:#000000; fill-opacity:1; font-family:Arial,Helvetica Neue,Helvetica,sans-serif; font-size:48px; text-anchor:start;\" transform=\"rotate(0, 2941.93, 256.744)\" x=\"2941.93\" y=\"256.744\">y1</text>\n</g>\n<polyline clip-path=\"url(#clip3500)\" style=\"stroke:#000000; stroke-width:21.6; stroke-opacity:1; fill:none\" points=\"\n  2717.93,299.724 2909.93,299.724 \n  \"/>\n<g clip-path=\"url(#clip3500)\">\n<text style=\"fill:#000000; fill-opacity:1; font-family:Arial,Helvetica Neue,Helvetica,sans-serif; font-size:48px; text-anchor:start;\" transform=\"rotate(0, 2941.93, 317.224)\" x=\"2941.93\" y=\"317.224\">y2</text>\n</g>\n</svg>\n"
               },
               "type": "node"
              }
             ],
             "instanceArgs": {
              "namespace": "html",
              "tag": "div"
             },
             "nodeType": "DOM",
             "props": {
              "className": "interact-flex-row interact-widget"
             },
             "type": "node"
            }
           }
          },
          "systemjs_options": null
         },
         "nodeType": "Scope",
         "props": {},
         "type": "node"
        }
       ],
       "instanceArgs": {
        "namespace": "html",
        "tag": "div"
       },
       "nodeType": "DOM",
       "props": {},
       "type": "node"
      },
      "text/html": [
       "<div\n",
       "    class=\"webio-mountpoint\"\n",
       "    data-webio-mountpoint=\"18267985515607794011\"\n",
       ">\n",
       "    <script>\n",
       "    if (window.require && require.defined && require.defined(\"nbextensions/webio-jupyter-notebook\")) {\n",
       "        console.log(\"Jupyter WebIO extension detected, not mounting.\");\n",
       "    } else if (window.WebIO) {\n",
       "        WebIO.mount(\n",
       "            document.querySelector('[data-webio-mountpoint=\"18267985515607794011\"]'),\n",
       "            {\"props\":{},\"nodeType\":\"DOM\",\"type\":\"node\",\"instanceArgs\":{\"namespace\":\"html\",\"tag\":\"div\"},\"children\":[{\"props\":{\"className\":\"field interact-widget\"},\"nodeType\":\"DOM\",\"type\":\"node\",\"instanceArgs\":{\"namespace\":\"html\",\"tag\":\"div\"},\"children\":[{\"props\":{},\"nodeType\":\"Scope\",\"type\":\"node\",\"instanceArgs\":{\"imports\":{\"data\":[{\"name\":\"knockout\",\"type\":\"js\",\"url\":\"\\/assetserver\\/bf3e344bbbe45b806bbda88c6101232eb1f7318f-knockout.js\"},{\"name\":\"knockout_punches\",\"type\":\"js\",\"url\":\"\\/assetserver\\/3ad363ca1664d7335dff0eabc7ebe7d829397430-knockout_punches.js\"},{\"name\":null,\"type\":\"js\",\"url\":\"\\/assetserver\\/c17843d82807177c96402335f7810c38fb70de05-all.js\"},{\"name\":null,\"type\":\"css\",\"url\":\"\\/assetserver\\/cf9b1ef11d5ef7ab3ff5a3942d24ca77dcb679d2-style.css\"},{\"name\":null,\"type\":\"css\",\"url\":\"\\/assetserver\\/c591c2d5f890a3e4541fd6b806094298d3ec794b-bulma_confined.min.css\"}],\"type\":\"async_block\"},\"id\":\"18433944559035668775\",\"handlers\":{\"changes\":[\"(function (val){return (val!=this.model[\\\"changes\\\"]()) ? (this.valueFromJulia[\\\"changes\\\"]=true, this.model[\\\"changes\\\"](val)) : undefined})\"],\"index\":[\"(function (val){return (val!=this.model[\\\"index\\\"]()) ? (this.valueFromJulia[\\\"index\\\"]=true, this.model[\\\"index\\\"](val)) : undefined})\"]},\"systemjs_options\":null,\"mount_callbacks\":[\"function () {\\n    var handler = (function (ko, koPunches) {\\n    ko.punches.enableAll();\\n    ko.bindingHandlers.numericValue = {\\n        init: function(element, valueAccessor, allBindings, data, context) {\\n            var stringified = ko.observable(ko.unwrap(valueAccessor()));\\n            stringified.subscribe(function(value) {\\n                var val = parseFloat(value);\\n                if (!isNaN(val)) {\\n                    valueAccessor()(val);\\n                }\\n            });\\n            valueAccessor().subscribe(function(value) {\\n                var str = JSON.stringify(value);\\n                if ((str == \\\"0\\\") && ([\\\"-0\\\", \\\"-0.\\\"].indexOf(stringified()) >= 0))\\n                     return;\\n                 if ([\\\"null\\\", \\\"\\\"].indexOf(str) >= 0)\\n                     return;\\n                stringified(str);\\n            });\\n            ko.applyBindingsToNode(\\n                element,\\n                {\\n                    value: stringified,\\n                    valueUpdate: allBindings.get('valueUpdate'),\\n                },\\n                context,\\n            );\\n        }\\n    };\\n    var json_data = {\\\"formatted_vals\\\":[\\\"1\\\",\\\"2\\\",\\\"3\\\",\\\"4\\\",\\\"5\\\",\\\"6\\\",\\\"7\\\",\\\"8\\\",\\\"9\\\",\\\"10\\\",\\\"11\\\",\\\"12\\\",\\\"13\\\",\\\"14\\\",\\\"15\\\",\\\"16\\\",\\\"17\\\",\\\"18\\\",\\\"19\\\",\\\"20\\\",\\\"21\\\",\\\"22\\\",\\\"23\\\",\\\"24\\\",\\\"25\\\",\\\"26\\\",\\\"27\\\",\\\"28\\\",\\\"29\\\",\\\"30\\\",\\\"31\\\",\\\"32\\\",\\\"33\\\",\\\"34\\\",\\\"35\\\",\\\"36\\\",\\\"37\\\",\\\"38\\\",\\\"39\\\",\\\"40\\\",\\\"41\\\",\\\"42\\\",\\\"43\\\",\\\"44\\\",\\\"45\\\",\\\"46\\\",\\\"47\\\",\\\"48\\\",\\\"49\\\",\\\"50\\\"],\\\"changes\\\":WebIO.getval({\\\"name\\\":\\\"changes\\\",\\\"scope\\\":\\\"18433944559035668775\\\",\\\"id\\\":\\\"ob_13\\\",\\\"type\\\":\\\"observable\\\"}),\\\"index\\\":WebIO.getval({\\\"name\\\":\\\"index\\\",\\\"scope\\\":\\\"18433944559035668775\\\",\\\"id\\\":\\\"ob_12\\\",\\\"type\\\":\\\"observable\\\"})};\\n    var self = this;\\n    function AppViewModel() {\\n        for (var key in json_data) {\\n            var el = json_data[key];\\n            this[key] = Array.isArray(el) ? ko.observableArray(el) : ko.observable(el);\\n        }\\n        \\n        [this[\\\"formatted_val\\\"]=ko.computed(    function(){\\n        return this.formatted_vals()[parseInt(this.index())-(1)];\\n    }\\n,this)]\\n        [this[\\\"changes\\\"].subscribe((function (val){!(this.valueFromJulia[\\\"changes\\\"]) ? (WebIO.setval({\\\"name\\\":\\\"changes\\\",\\\"scope\\\":\\\"18433944559035668775\\\",\\\"id\\\":\\\"ob_13\\\",\\\"type\\\":\\\"observable\\\"},val)) : undefined; return this.valueFromJulia[\\\"changes\\\"]=false}),self),this[\\\"index\\\"].subscribe((function (val){!(this.valueFromJulia[\\\"index\\\"]) ? (WebIO.setval({\\\"name\\\":\\\"index\\\",\\\"scope\\\":\\\"18433944559035668775\\\",\\\"id\\\":\\\"ob_12\\\",\\\"type\\\":\\\"observable\\\"},val)) : undefined; return this.valueFromJulia[\\\"index\\\"]=false}),self)]\\n        \\n    }\\n    self.model = new AppViewModel();\\n    self.valueFromJulia = {};\\n    for (var key in json_data) {\\n        self.valueFromJulia[key] = false;\\n    }\\n    ko.applyBindings(self.model, self.dom);\\n}\\n);\\n    (WebIO.importBlock({\\\"data\\\":[{\\\"name\\\":\\\"knockout\\\",\\\"type\\\":\\\"js\\\",\\\"url\\\":\\\"\\/assetserver\\/bf3e344bbbe45b806bbda88c6101232eb1f7318f-knockout.js\\\"},{\\\"name\\\":\\\"knockout_punches\\\",\\\"type\\\":\\\"js\\\",\\\"url\\\":\\\"\\/assetserver\\/3ad363ca1664d7335dff0eabc7ebe7d829397430-knockout_punches.js\\\"}],\\\"type\\\":\\\"async_block\\\"})).then((imports) => handler.apply(this, imports));\\n}\\n\"],\"observables\":{\"changes\":{\"sync\":false,\"id\":\"ob_13\",\"value\":0},\"index\":{\"sync\":true,\"id\":\"ob_12\",\"value\":25}}},\"children\":[{\"props\":{\"className\":\"interact-flex-row interact-widget\"},\"nodeType\":\"DOM\",\"type\":\"node\",\"instanceArgs\":{\"namespace\":\"html\",\"tag\":\"div\"},\"children\":[{\"props\":{\"className\":\"interact-flex-row-left\"},\"nodeType\":\"DOM\",\"type\":\"node\",\"instanceArgs\":{\"namespace\":\"html\",\"tag\":\"div\"},\"children\":[{\"props\":{\"className\":\"interact \",\"style\":{\"padding\":\"5px 10px 0px 10px\"}},\"nodeType\":\"DOM\",\"type\":\"node\",\"instanceArgs\":{\"namespace\":\"html\",\"tag\":\"label\"},\"children\":[\"i\"]}]},{\"props\":{\"className\":\"interact-flex-row-center\"},\"nodeType\":\"DOM\",\"type\":\"node\",\"instanceArgs\":{\"namespace\":\"html\",\"tag\":\"div\"},\"children\":[{\"props\":{\"max\":50,\"min\":1,\"attributes\":{\"type\":\"range\",\"data-bind\":\"numericValue: index, valueUpdate: 'input', event: {change: function (){this.changes(this.changes()+1)}}\",\"orient\":\"horizontal\"},\"step\":1,\"className\":\"slider slider is-fullwidth\",\"style\":{}},\"nodeType\":\"DOM\",\"type\":\"node\",\"instanceArgs\":{\"namespace\":\"html\",\"tag\":\"input\"},\"children\":[]}]},{\"props\":{\"className\":\"interact-flex-row-right\"},\"nodeType\":\"DOM\",\"type\":\"node\",\"instanceArgs\":{\"namespace\":\"html\",\"tag\":\"div\"},\"children\":[{\"props\":{\"attributes\":{\"data-bind\":\"text: formatted_val\"}},\"nodeType\":\"DOM\",\"type\":\"node\",\"instanceArgs\":{\"namespace\":\"html\",\"tag\":\"p\"},\"children\":[]}]}]}]}]},{\"props\":{\"className\":\"interact-widget\"},\"nodeType\":\"DOM\",\"type\":\"node\",\"instanceArgs\":{\"namespace\":\"html\",\"tag\":\"div\"},\"children\":[{\"props\":{},\"nodeType\":\"Scope\",\"type\":\"node\",\"instanceArgs\":{\"imports\":{\"data\":[{\"name\":\"knockout\",\"type\":\"js\",\"url\":\"\\/assetserver\\/bf3e344bbbe45b806bbda88c6101232eb1f7318f-knockout.js\"},{\"name\":\"knockout_punches\",\"type\":\"js\",\"url\":\"\\/assetserver\\/3ad363ca1664d7335dff0eabc7ebe7d829397430-knockout_punches.js\"},{\"name\":null,\"type\":\"js\",\"url\":\"\\/assetserver\\/c17843d82807177c96402335f7810c38fb70de05-all.js\"},{\"name\":null,\"type\":\"css\",\"url\":\"\\/assetserver\\/cf9b1ef11d5ef7ab3ff5a3942d24ca77dcb679d2-style.css\"},{\"name\":null,\"type\":\"css\",\"url\":\"\\/assetserver\\/c591c2d5f890a3e4541fd6b806094298d3ec794b-bulma_confined.min.css\"}],\"type\":\"async_block\"},\"id\":\"15234161082923168727\",\"handlers\":{\"options_js\":[\"(function (val){return (val!=this.model[\\\"options_js\\\"]()) ? (this.valueFromJulia[\\\"options_js\\\"]=true, this.model[\\\"options_js\\\"](val)) : undefined})\"],\"index\":[\"(function (val){return (val!=this.model[\\\"index\\\"]()) ? (this.valueFromJulia[\\\"index\\\"]=true, this.model[\\\"index\\\"](val)) : undefined})\"]},\"systemjs_options\":null,\"mount_callbacks\":[\"function () {\\n    var handler = (function (ko, koPunches) {\\n    ko.punches.enableAll();\\n    ko.bindingHandlers.numericValue = {\\n        init: function(element, valueAccessor, allBindings, data, context) {\\n            var stringified = ko.observable(ko.unwrap(valueAccessor()));\\n            stringified.subscribe(function(value) {\\n                var val = parseFloat(value);\\n                if (!isNaN(val)) {\\n                    valueAccessor()(val);\\n                }\\n            });\\n            valueAccessor().subscribe(function(value) {\\n                var str = JSON.stringify(value);\\n                if ((str == \\\"0\\\") && ([\\\"-0\\\", \\\"-0.\\\"].indexOf(stringified()) >= 0))\\n                     return;\\n                 if ([\\\"null\\\", \\\"\\\"].indexOf(str) >= 0)\\n                     return;\\n                stringified(str);\\n            });\\n            ko.applyBindingsToNode(\\n                element,\\n                {\\n                    value: stringified,\\n                    valueUpdate: allBindings.get('valueUpdate'),\\n                },\\n                context,\\n            );\\n        }\\n    };\\n    var json_data = {\\\"options_js\\\":WebIO.getval({\\\"name\\\":\\\"options_js\\\",\\\"scope\\\":\\\"15234161082923168727\\\",\\\"id\\\":\\\"ob_18\\\",\\\"type\\\":\\\"observable\\\"}),\\\"index\\\":WebIO.getval({\\\"name\\\":\\\"index\\\",\\\"scope\\\":\\\"15234161082923168727\\\",\\\"id\\\":\\\"ob_17\\\",\\\"type\\\":\\\"observable\\\"})};\\n    var self = this;\\n    function AppViewModel() {\\n        for (var key in json_data) {\\n            var el = json_data[key];\\n            this[key] = Array.isArray(el) ? ko.observableArray(el) : ko.observable(el);\\n        }\\n        [this[\\\"update\\\"]=function (val) {this.index(val)}]\\n        \\n        [this[\\\"options_js\\\"].subscribe((function (val){!(this.valueFromJulia[\\\"options_js\\\"]) ? (WebIO.setval({\\\"name\\\":\\\"options_js\\\",\\\"scope\\\":\\\"15234161082923168727\\\",\\\"id\\\":\\\"ob_18\\\",\\\"type\\\":\\\"observable\\\"},val)) : undefined; return this.valueFromJulia[\\\"options_js\\\"]=false}),self),this[\\\"index\\\"].subscribe((function (val){!(this.valueFromJulia[\\\"index\\\"]) ? (WebIO.setval({\\\"name\\\":\\\"index\\\",\\\"scope\\\":\\\"15234161082923168727\\\",\\\"id\\\":\\\"ob_17\\\",\\\"type\\\":\\\"observable\\\"},val)) : undefined; return this.valueFromJulia[\\\"index\\\"]=false}),self)]\\n        \\n    }\\n    self.model = new AppViewModel();\\n    self.valueFromJulia = {};\\n    for (var key in json_data) {\\n        self.valueFromJulia[key] = false;\\n    }\\n    ko.applyBindings(self.model, self.dom);\\n}\\n);\\n    (WebIO.importBlock({\\\"data\\\":[{\\\"name\\\":\\\"knockout\\\",\\\"type\\\":\\\"js\\\",\\\"url\\\":\\\"\\/assetserver\\/bf3e344bbbe45b806bbda88c6101232eb1f7318f-knockout.js\\\"},{\\\"name\\\":\\\"knockout_punches\\\",\\\"type\\\":\\\"js\\\",\\\"url\\\":\\\"\\/assetserver\\/3ad363ca1664d7335dff0eabc7ebe7d829397430-knockout_punches.js\\\"}],\\\"type\\\":\\\"async_block\\\"})).then((imports) => handler.apply(this, imports));\\n}\\n\"],\"observables\":{\"options_js\":{\"sync\":false,\"id\":\"ob_18\",\"value\":[{\"key\":\"black\",\"val\":1,\"id\":\"idtOIbBEtU\"},{\"key\":\"blue\",\"val\":2,\"id\":\"idYrIMqvdn\"},{\"key\":\"green\",\"val\":3,\"id\":\"idAZbNEvcY\"},{\"key\":\"red\",\"val\":4,\"id\":\"idkAkZPL8F\"}]},\"index\":{\"sync\":true,\"id\":\"ob_17\",\"value\":1}}},\"children\":[{\"props\":{\"className\":\"interact-flex-row interact-widget\"},\"nodeType\":\"DOM\",\"type\":\"node\",\"instanceArgs\":{\"namespace\":\"html\",\"tag\":\"div\"},\"children\":[{\"props\":{\"className\":\"interact-flex-row-left\"},\"nodeType\":\"DOM\",\"type\":\"node\",\"instanceArgs\":{\"namespace\":\"html\",\"tag\":\"div\"},\"children\":[{\"props\":{\"className\":\"interact \",\"style\":{\"padding\":\"5px 10px 0px 10px\"}},\"nodeType\":\"DOM\",\"type\":\"node\",\"instanceArgs\":{\"namespace\":\"html\",\"tag\":\"label\"},\"children\":[\"color\"]}]},{\"props\":{\"className\":\"interact-flex-row-center\"},\"nodeType\":\"DOM\",\"type\":\"node\",\"instanceArgs\":{\"namespace\":\"html\",\"tag\":\"div\"},\"children\":[{\"props\":{\"attributes\":{\"data-bind\":\"foreach : options_js\"},\"className\":\"buttons has-addons is-centered\"},\"nodeType\":\"DOM\",\"type\":\"node\",\"instanceArgs\":{\"namespace\":\"html\",\"tag\":\"div\"},\"children\":[{\"props\":{\"attributes\":{\"data-bind\":\"click: function (){$root.update(val)}, css: {'is-primary is-selected' : $root.index() == val, 'interact-widget is-medium button ' : true}\"}},\"nodeType\":\"DOM\",\"type\":\"node\",\"instanceArgs\":{\"namespace\":\"html\",\"tag\":\"span\"},\"children\":[{\"props\":{\"attributes\":{\"data-bind\":\"text : key\"}},\"nodeType\":\"DOM\",\"type\":\"node\",\"instanceArgs\":{\"namespace\":\"html\",\"tag\":\"label\"},\"children\":[]}]}]}]},{\"props\":{\"className\":\"interact-flex-row-right\"},\"nodeType\":\"DOM\",\"type\":\"node\",\"instanceArgs\":{\"namespace\":\"html\",\"tag\":\"div\"},\"children\":[{\"props\":{},\"nodeType\":\"DOM\",\"type\":\"node\",\"instanceArgs\":{\"namespace\":\"html\",\"tag\":\"div\"},\"children\":[]}]}]}]}]},{\"props\":{\"className\":\"field interact-widget\"},\"nodeType\":\"DOM\",\"type\":\"node\",\"instanceArgs\":{\"namespace\":\"html\",\"tag\":\"div\"},\"children\":[{\"props\":{},\"nodeType\":\"Scope\",\"type\":\"node\",\"instanceArgs\":{\"imports\":{\"data\":[{\"name\":\"knockout\",\"type\":\"js\",\"url\":\"\\/assetserver\\/bf3e344bbbe45b806bbda88c6101232eb1f7318f-knockout.js\"},{\"name\":\"knockout_punches\",\"type\":\"js\",\"url\":\"\\/assetserver\\/3ad363ca1664d7335dff0eabc7ebe7d829397430-knockout_punches.js\"},{\"name\":null,\"type\":\"js\",\"url\":\"\\/assetserver\\/c17843d82807177c96402335f7810c38fb70de05-all.js\"},{\"name\":null,\"type\":\"css\",\"url\":\"\\/assetserver\\/cf9b1ef11d5ef7ab3ff5a3942d24ca77dcb679d2-style.css\"},{\"name\":null,\"type\":\"css\",\"url\":\"\\/assetserver\\/c591c2d5f890a3e4541fd6b806094298d3ec794b-bulma_confined.min.css\"}],\"type\":\"async_block\"},\"id\":\"9753274859486261778\",\"handlers\":{\"changes\":[\"(function (val){return (val!=this.model[\\\"changes\\\"]()) ? (this.valueFromJulia[\\\"changes\\\"]=true, this.model[\\\"changes\\\"](val)) : undefined})\"],\"index\":[\"(function (val){return (val!=this.model[\\\"index\\\"]()) ? (this.valueFromJulia[\\\"index\\\"]=true, this.model[\\\"index\\\"](val)) : undefined})\"]},\"systemjs_options\":null,\"mount_callbacks\":[\"function () {\\n    var handler = (function (ko, koPunches) {\\n    ko.punches.enableAll();\\n    ko.bindingHandlers.numericValue = {\\n        init: function(element, valueAccessor, allBindings, data, context) {\\n            var stringified = ko.observable(ko.unwrap(valueAccessor()));\\n            stringified.subscribe(function(value) {\\n                var val = parseFloat(value);\\n                if (!isNaN(val)) {\\n                    valueAccessor()(val);\\n                }\\n            });\\n            valueAccessor().subscribe(function(value) {\\n                var str = JSON.stringify(value);\\n                if ((str == \\\"0\\\") && ([\\\"-0\\\", \\\"-0.\\\"].indexOf(stringified()) >= 0))\\n                     return;\\n                 if ([\\\"null\\\", \\\"\\\"].indexOf(str) >= 0)\\n                     return;\\n                stringified(str);\\n            });\\n            ko.applyBindingsToNode(\\n                element,\\n                {\\n                    value: stringified,\\n                    valueUpdate: allBindings.get('valueUpdate'),\\n                },\\n                context,\\n            );\\n        }\\n    };\\n    var json_data = {\\\"formatted_vals\\\":[\\\"1.0\\\",\\\"1.2\\\",\\\"1.4\\\",\\\"1.6\\\",\\\"1.8\\\",\\\"2.0\\\",\\\"2.2\\\",\\\"2.4\\\",\\\"2.6\\\",\\\"2.8\\\",\\\"3.0\\\",\\\"3.2\\\",\\\"3.4\\\",\\\"3.6\\\",\\\"3.8\\\",\\\"4.0\\\",\\\"4.2\\\",\\\"4.4\\\",\\\"4.6\\\",\\\"4.8\\\",\\\"5.0\\\",\\\"5.2\\\",\\\"5.4\\\",\\\"5.6\\\",\\\"5.8\\\",\\\"6.0\\\",\\\"6.2\\\",\\\"6.4\\\",\\\"6.6\\\",\\\"6.8\\\",\\\"7.0\\\",\\\"7.2\\\",\\\"7.4\\\",\\\"7.6\\\",\\\"7.8\\\",\\\"8.0\\\",\\\"8.2\\\",\\\"8.4\\\",\\\"8.6\\\",\\\"8.8\\\",\\\"9.0\\\",\\\"9.2\\\",\\\"9.4\\\",\\\"9.6\\\",\\\"9.8\\\",\\\"10.0\\\"],\\\"changes\\\":WebIO.getval({\\\"name\\\":\\\"changes\\\",\\\"scope\\\":\\\"9753274859486261778\\\",\\\"id\\\":\\\"ob_21\\\",\\\"type\\\":\\\"observable\\\"}),\\\"index\\\":WebIO.getval({\\\"name\\\":\\\"index\\\",\\\"scope\\\":\\\"9753274859486261778\\\",\\\"id\\\":\\\"ob_20\\\",\\\"type\\\":\\\"observable\\\"})};\\n    var self = this;\\n    function AppViewModel() {\\n        for (var key in json_data) {\\n            var el = json_data[key];\\n            this[key] = Array.isArray(el) ? ko.observableArray(el) : ko.observable(el);\\n        }\\n        \\n        [this[\\\"formatted_val\\\"]=ko.computed(    function(){\\n        return this.formatted_vals()[parseInt(this.index())-(1)];\\n    }\\n,this)]\\n        [this[\\\"changes\\\"].subscribe((function (val){!(this.valueFromJulia[\\\"changes\\\"]) ? (WebIO.setval({\\\"name\\\":\\\"changes\\\",\\\"scope\\\":\\\"9753274859486261778\\\",\\\"id\\\":\\\"ob_21\\\",\\\"type\\\":\\\"observable\\\"},val)) : undefined; return this.valueFromJulia[\\\"changes\\\"]=false}),self),this[\\\"index\\\"].subscribe((function (val){!(this.valueFromJulia[\\\"index\\\"]) ? (WebIO.setval({\\\"name\\\":\\\"index\\\",\\\"scope\\\":\\\"9753274859486261778\\\",\\\"id\\\":\\\"ob_20\\\",\\\"type\\\":\\\"observable\\\"},val)) : undefined; return this.valueFromJulia[\\\"index\\\"]=false}),self)]\\n        \\n    }\\n    self.model = new AppViewModel();\\n    self.valueFromJulia = {};\\n    for (var key in json_data) {\\n        self.valueFromJulia[key] = false;\\n    }\\n    ko.applyBindings(self.model, self.dom);\\n}\\n);\\n    (WebIO.importBlock({\\\"data\\\":[{\\\"name\\\":\\\"knockout\\\",\\\"type\\\":\\\"js\\\",\\\"url\\\":\\\"\\/assetserver\\/bf3e344bbbe45b806bbda88c6101232eb1f7318f-knockout.js\\\"},{\\\"name\\\":\\\"knockout_punches\\\",\\\"type\\\":\\\"js\\\",\\\"url\\\":\\\"\\/assetserver\\/3ad363ca1664d7335dff0eabc7ebe7d829397430-knockout_punches.js\\\"}],\\\"type\\\":\\\"async_block\\\"})).then((imports) => handler.apply(this, imports));\\n}\\n\"],\"observables\":{\"changes\":{\"sync\":false,\"id\":\"ob_21\",\"value\":0},\"index\":{\"sync\":true,\"id\":\"ob_20\",\"value\":23}}},\"children\":[{\"props\":{\"className\":\"interact-flex-row interact-widget\"},\"nodeType\":\"DOM\",\"type\":\"node\",\"instanceArgs\":{\"namespace\":\"html\",\"tag\":\"div\"},\"children\":[{\"props\":{\"className\":\"interact-flex-row-left\"},\"nodeType\":\"DOM\",\"type\":\"node\",\"instanceArgs\":{\"namespace\":\"html\",\"tag\":\"div\"},\"children\":[{\"props\":{\"className\":\"interact \",\"style\":{\"padding\":\"5px 10px 0px 10px\"}},\"nodeType\":\"DOM\",\"type\":\"node\",\"instanceArgs\":{\"namespace\":\"html\",\"tag\":\"label\"},\"children\":[\"lw\"]}]},{\"props\":{\"className\":\"interact-flex-row-center\"},\"nodeType\":\"DOM\",\"type\":\"node\",\"instanceArgs\":{\"namespace\":\"html\",\"tag\":\"div\"},\"children\":[{\"props\":{\"max\":46,\"min\":1,\"attributes\":{\"type\":\"range\",\"data-bind\":\"numericValue: index, valueUpdate: 'input', event: {change: function (){this.changes(this.changes()+1)}}\",\"orient\":\"horizontal\"},\"step\":1,\"className\":\"slider slider is-fullwidth\",\"style\":{}},\"nodeType\":\"DOM\",\"type\":\"node\",\"instanceArgs\":{\"namespace\":\"html\",\"tag\":\"input\"},\"children\":[]}]},{\"props\":{\"className\":\"interact-flex-row-right\"},\"nodeType\":\"DOM\",\"type\":\"node\",\"instanceArgs\":{\"namespace\":\"html\",\"tag\":\"div\"},\"children\":[{\"props\":{\"attributes\":{\"data-bind\":\"text: formatted_val\"}},\"nodeType\":\"DOM\",\"type\":\"node\",\"instanceArgs\":{\"namespace\":\"html\",\"tag\":\"p\"},\"children\":[]}]}]}]}]},{\"props\":{},\"nodeType\":\"Scope\",\"type\":\"node\",\"instanceArgs\":{\"imports\":{\"data\":[],\"type\":\"async_block\"},\"id\":\"6765708071057419062\",\"handlers\":{},\"systemjs_options\":null,\"mount_callbacks\":[],\"observables\":{\"obs-node\":{\"sync\":false,\"id\":\"ob_25\",\"value\":{\"props\":{\"className\":\"interact-flex-row interact-widget\"},\"nodeType\":\"DOM\",\"type\":\"node\",\"instanceArgs\":{\"namespace\":\"html\",\"tag\":\"div\"},\"children\":[{\"props\":{\"setInnerHtml\":\"<?xml version=\\\"1.0\\\" encoding=\\\"utf-8\\\"?>\\n<svg xmlns=\\\"http:\\/\\/www.w3.org\\/2000\\/svg\\\" xmlns:xlink=\\\"http:\\/\\/www.w3.org\\/1999\\/xlink\\\" width=\\\"800\\\" height=\\\"500\\\" viewBox=\\\"0 0 3200 2000\\\">\\n<defs>\\n  <clipPath id=\\\"clip3100\\\">\\n    <rect x=\\\"0\\\" y=\\\"0\\\" width=\\\"3200\\\" height=\\\"2000\\\"\\/>\\n  <\\/clipPath>\\n<\\/defs>\\n<polygon clip-path=\\\"url(#clip3100)\\\" points=\\\"\\n0,2000 3200,2000 3200,0 0,0 \\n  \\\" fill=\\\"#ffffff\\\" fill-rule=\\\"evenodd\\\" fill-opacity=\\\"1\\\"\\/>\\n<defs>\\n  <clipPath id=\\\"clip3101\\\">\\n    <rect x=\\\"640\\\" y=\\\"0\\\" width=\\\"2241\\\" height=\\\"2000\\\"\\/>\\n  <\\/clipPath>\\n<\\/defs>\\n<polygon clip-path=\\\"url(#clip3100)\\\" points=\\\"\\n161.898,1854.71 3152.76,1854.71 3152.76,47.2441 161.898,47.2441 \\n  \\\" fill=\\\"#ffffff\\\" fill-rule=\\\"evenodd\\\" fill-opacity=\\\"1\\\"\\/>\\n<defs>\\n  <clipPath id=\\\"clip3102\\\">\\n    <rect x=\\\"161\\\" y=\\\"47\\\" width=\\\"2992\\\" height=\\\"1808\\\"\\/>\\n  <\\/clipPath>\\n<\\/defs>\\n<polyline clip-path=\\\"url(#clip3102)\\\" style=\\\"stroke:#000000; stroke-width:2; stroke-opacity:0.1; fill:none\\\" points=\\\"\\n  161.898,1854.71 161.898,47.2441 \\n  \\\"\\/>\\n<polyline clip-path=\\\"url(#clip3102)\\\" style=\\\"stroke:#000000; stroke-width:2; stroke-opacity:0.1; fill:none\\\" points=\\\"\\n  760.07,1854.71 760.07,47.2441 \\n  \\\"\\/>\\n<polyline clip-path=\\\"url(#clip3102)\\\" style=\\\"stroke:#000000; stroke-width:2; stroke-opacity:0.1; fill:none\\\" points=\\\"\\n  1358.24,1854.71 1358.24,47.2441 \\n  \\\"\\/>\\n<polyline clip-path=\\\"url(#clip3102)\\\" style=\\\"stroke:#000000; stroke-width:2; stroke-opacity:0.1; fill:none\\\" points=\\\"\\n  1956.41,1854.71 1956.41,47.2441 \\n  \\\"\\/>\\n<polyline clip-path=\\\"url(#clip3102)\\\" style=\\\"stroke:#000000; stroke-width:2; stroke-opacity:0.1; fill:none\\\" points=\\\"\\n  2554.58,1854.71 2554.58,47.2441 \\n  \\\"\\/>\\n<polyline clip-path=\\\"url(#clip3102)\\\" style=\\\"stroke:#000000; stroke-width:2; stroke-opacity:0.1; fill:none\\\" points=\\\"\\n  3152.76,1854.71 3152.76,47.2441 \\n  \\\"\\/>\\n<polyline clip-path=\\\"url(#clip3102)\\\" style=\\\"stroke:#000000; stroke-width:2; stroke-opacity:0.1; fill:none\\\" points=\\\"\\n  161.898,1854.71 3152.76,1854.71 \\n  \\\"\\/>\\n<polyline clip-path=\\\"url(#clip3102)\\\" style=\\\"stroke:#000000; stroke-width:2; stroke-opacity:0.1; fill:none\\\" points=\\\"\\n  161.898,1493.22 3152.76,1493.22 \\n  \\\"\\/>\\n<polyline clip-path=\\\"url(#clip3102)\\\" style=\\\"stroke:#000000; stroke-width:2; stroke-opacity:0.1; fill:none\\\" points=\\\"\\n  161.898,1131.72 3152.76,1131.72 \\n  \\\"\\/>\\n<polyline clip-path=\\\"url(#clip3102)\\\" style=\\\"stroke:#000000; stroke-width:2; stroke-opacity:0.1; fill:none\\\" points=\\\"\\n  161.898,770.23 3152.76,770.23 \\n  \\\"\\/>\\n<polyline clip-path=\\\"url(#clip3102)\\\" style=\\\"stroke:#000000; stroke-width:2; stroke-opacity:0.1; fill:none\\\" points=\\\"\\n  161.898,408.737 3152.76,408.737 \\n  \\\"\\/>\\n<polyline clip-path=\\\"url(#clip3102)\\\" style=\\\"stroke:#000000; stroke-width:2; stroke-opacity:0.1; fill:none\\\" points=\\\"\\n  161.898,47.2441 3152.76,47.2441 \\n  \\\"\\/>\\n<polyline clip-path=\\\"url(#clip3100)\\\" style=\\\"stroke:#000000; stroke-width:4; stroke-opacity:1; fill:none\\\" points=\\\"\\n  161.898,1854.71 3152.76,1854.71 \\n  \\\"\\/>\\n<polyline clip-path=\\\"url(#clip3100)\\\" style=\\\"stroke:#000000; stroke-width:4; stroke-opacity:1; fill:none\\\" points=\\\"\\n  161.898,1854.71 161.898,47.2441 \\n  \\\"\\/>\\n<polyline clip-path=\\\"url(#clip3100)\\\" style=\\\"stroke:#000000; stroke-width:4; stroke-opacity:1; fill:none\\\" points=\\\"\\n  161.898,1854.71 161.898,1827.6 \\n  \\\"\\/>\\n<polyline clip-path=\\\"url(#clip3100)\\\" style=\\\"stroke:#000000; stroke-width:4; stroke-opacity:1; fill:none\\\" points=\\\"\\n  760.07,1854.71 760.07,1827.6 \\n  \\\"\\/>\\n<polyline clip-path=\\\"url(#clip3100)\\\" style=\\\"stroke:#000000; stroke-width:4; stroke-opacity:1; fill:none\\\" points=\\\"\\n  1358.24,1854.71 1358.24,1827.6 \\n  \\\"\\/>\\n<polyline clip-path=\\\"url(#clip3100)\\\" style=\\\"stroke:#000000; stroke-width:4; stroke-opacity:1; fill:none\\\" points=\\\"\\n  1956.41,1854.71 1956.41,1827.6 \\n  \\\"\\/>\\n<polyline clip-path=\\\"url(#clip3100)\\\" style=\\\"stroke:#000000; stroke-width:4; stroke-opacity:1; fill:none\\\" points=\\\"\\n  2554.58,1854.71 2554.58,1827.6 \\n  \\\"\\/>\\n<polyline clip-path=\\\"url(#clip3100)\\\" style=\\\"stroke:#000000; stroke-width:4; stroke-opacity:1; fill:none\\\" points=\\\"\\n  3152.76,1854.71 3152.76,1827.6 \\n  \\\"\\/>\\n<polyline clip-path=\\\"url(#clip3100)\\\" style=\\\"stroke:#000000; stroke-width:4; stroke-opacity:1; fill:none\\\" points=\\\"\\n  161.898,1854.71 206.761,1854.71 \\n  \\\"\\/>\\n<polyline clip-path=\\\"url(#clip3100)\\\" style=\\\"stroke:#000000; stroke-width:4; stroke-opacity:1; fill:none\\\" points=\\\"\\n  161.898,1493.22 206.761,1493.22 \\n  \\\"\\/>\\n<polyline clip-path=\\\"url(#clip3100)\\\" style=\\\"stroke:#000000; stroke-width:4; stroke-opacity:1; fill:none\\\" points=\\\"\\n  161.898,1131.72 206.761,1131.72 \\n  \\\"\\/>\\n<polyline clip-path=\\\"url(#clip3100)\\\" style=\\\"stroke:#000000; stroke-width:4; stroke-opacity:1; fill:none\\\" points=\\\"\\n  161.898,770.23 206.761,770.23 \\n  \\\"\\/>\\n<polyline clip-path=\\\"url(#clip3100)\\\" style=\\\"stroke:#000000; stroke-width:4; stroke-opacity:1; fill:none\\\" points=\\\"\\n  161.898,408.737 206.761,408.737 \\n  \\\"\\/>\\n<polyline clip-path=\\\"url(#clip3100)\\\" style=\\\"stroke:#000000; stroke-width:4; stroke-opacity:1; fill:none\\\" points=\\\"\\n  161.898,47.2441 206.761,47.2441 \\n  \\\"\\/>\\n<g clip-path=\\\"url(#clip3100)\\\">\\n<text style=\\\"fill:#000000; fill-opacity:1; font-family:Arial,Helvetica Neue,Helvetica,sans-serif; font-size:48px; text-anchor:middle;\\\" transform=\\\"rotate(0, 161.898, 1912.71)\\\" x=\\\"161.898\\\" y=\\\"1912.71\\\">0<\\/text>\\n<\\/g>\\n<g clip-path=\\\"url(#clip3100)\\\">\\n<text style=\\\"fill:#000000; fill-opacity:1; font-family:Arial,Helvetica Neue,Helvetica,sans-serif; font-size:48px; text-anchor:middle;\\\" transform=\\\"rotate(0, 760.07, 1912.71)\\\" x=\\\"760.07\\\" y=\\\"1912.71\\\">10<\\/text>\\n<\\/g>\\n<g clip-path=\\\"url(#clip3100)\\\">\\n<text style=\\\"fill:#000000; fill-opacity:1; font-family:Arial,Helvetica Neue,Helvetica,sans-serif; font-size:48px; text-anchor:middle;\\\" transform=\\\"rotate(0, 1358.24, 1912.71)\\\" x=\\\"1358.24\\\" y=\\\"1912.71\\\">20<\\/text>\\n<\\/g>\\n<g clip-path=\\\"url(#clip3100)\\\">\\n<text style=\\\"fill:#000000; fill-opacity:1; font-family:Arial,Helvetica Neue,Helvetica,sans-serif; font-size:48px; text-anchor:middle;\\\" transform=\\\"rotate(0, 1956.41, 1912.71)\\\" x=\\\"1956.41\\\" y=\\\"1912.71\\\">30<\\/text>\\n<\\/g>\\n<g clip-path=\\\"url(#clip3100)\\\">\\n<text style=\\\"fill:#000000; fill-opacity:1; font-family:Arial,Helvetica Neue,Helvetica,sans-serif; font-size:48px; text-anchor:middle;\\\" transform=\\\"rotate(0, 2554.58, 1912.71)\\\" x=\\\"2554.58\\\" y=\\\"1912.71\\\">40<\\/text>\\n<\\/g>\\n<g clip-path=\\\"url(#clip3100)\\\">\\n<text style=\\\"fill:#000000; fill-opacity:1; font-family:Arial,Helvetica Neue,Helvetica,sans-serif; font-size:48px; text-anchor:middle;\\\" transform=\\\"rotate(0, 3152.76, 1912.71)\\\" x=\\\"3152.76\\\" y=\\\"1912.71\\\">50<\\/text>\\n<\\/g>\\n<g clip-path=\\\"url(#clip3100)\\\">\\n<text style=\\\"fill:#000000; fill-opacity:1; font-family:Arial,Helvetica Neue,Helvetica,sans-serif; font-size:48px; text-anchor:end;\\\" transform=\\\"rotate(0, 129.898, 1872.21)\\\" x=\\\"129.898\\\" y=\\\"1872.21\\\">0.0<\\/text>\\n<\\/g>\\n<g clip-path=\\\"url(#clip3100)\\\">\\n<text style=\\\"fill:#000000; fill-opacity:1; font-family:Arial,Helvetica Neue,Helvetica,sans-serif; font-size:48px; text-anchor:end;\\\" transform=\\\"rotate(0, 129.898, 1510.72)\\\" x=\\\"129.898\\\" y=\\\"1510.72\\\">0.2<\\/text>\\n<\\/g>\\n<g clip-path=\\\"url(#clip3100)\\\">\\n<text style=\\\"fill:#000000; fill-opacity:1; font-family:Arial,Helvetica Neue,Helvetica,sans-serif; font-size:48px; text-anchor:end;\\\" transform=\\\"rotate(0, 129.898, 1149.22)\\\" x=\\\"129.898\\\" y=\\\"1149.22\\\">0.4<\\/text>\\n<\\/g>\\n<g clip-path=\\\"url(#clip3100)\\\">\\n<text style=\\\"fill:#000000; fill-opacity:1; font-family:Arial,Helvetica Neue,Helvetica,sans-serif; font-size:48px; text-anchor:end;\\\" transform=\\\"rotate(0, 129.898, 787.73)\\\" x=\\\"129.898\\\" y=\\\"787.73\\\">0.6<\\/text>\\n<\\/g>\\n<g clip-path=\\\"url(#clip3100)\\\">\\n<text style=\\\"fill:#000000; fill-opacity:1; font-family:Arial,Helvetica Neue,Helvetica,sans-serif; font-size:48px; text-anchor:end;\\\" transform=\\\"rotate(0, 129.898, 426.237)\\\" x=\\\"129.898\\\" y=\\\"426.237\\\">0.8<\\/text>\\n<\\/g>\\n<g clip-path=\\\"url(#clip3100)\\\">\\n<text style=\\\"fill:#000000; fill-opacity:1; font-family:Arial,Helvetica Neue,Helvetica,sans-serif; font-size:48px; text-anchor:end;\\\" transform=\\\"rotate(0, 129.898, 64.7441)\\\" x=\\\"129.898\\\" y=\\\"64.7441\\\">1.0<\\/text>\\n<\\/g>\\n<circle clip-path=\\\"url(#clip3102)\\\" style=\\\"fill:#000000; stroke:none; fill-opacity:0.5\\\" cx=\\\"221.715\\\" cy=\\\"465.767\\\" r=\\\"18\\\"\\/>\\n<circle clip-path=\\\"url(#clip3102)\\\" style=\\\"fill:#000000; stroke:none; fill-opacity:0.5\\\" cx=\\\"221.715\\\" cy=\\\"465.767\\\" r=\\\"14\\\"\\/>\\n<circle clip-path=\\\"url(#clip3102)\\\" style=\\\"fill:#000000; stroke:none; fill-opacity:0.5\\\" cx=\\\"281.532\\\" cy=\\\"154.761\\\" r=\\\"18\\\"\\/>\\n<circle clip-path=\\\"url(#clip3102)\\\" style=\\\"fill:#000000; stroke:none; fill-opacity:0.5\\\" cx=\\\"281.532\\\" cy=\\\"154.761\\\" r=\\\"14\\\"\\/>\\n<circle clip-path=\\\"url(#clip3102)\\\" style=\\\"fill:#000000; stroke:none; fill-opacity:0.5\\\" cx=\\\"341.349\\\" cy=\\\"636.552\\\" r=\\\"18\\\"\\/>\\n<circle clip-path=\\\"url(#clip3102)\\\" style=\\\"fill:#000000; stroke:none; fill-opacity:0.5\\\" cx=\\\"341.349\\\" cy=\\\"636.552\\\" r=\\\"14\\\"\\/>\\n<circle clip-path=\\\"url(#clip3102)\\\" style=\\\"fill:#000000; stroke:none; fill-opacity:0.5\\\" cx=\\\"401.167\\\" cy=\\\"1139.94\\\" r=\\\"18\\\"\\/>\\n<circle clip-path=\\\"url(#clip3102)\\\" style=\\\"fill:#000000; stroke:none; fill-opacity:0.5\\\" cx=\\\"401.167\\\" cy=\\\"1139.94\\\" r=\\\"14\\\"\\/>\\n<circle clip-path=\\\"url(#clip3102)\\\" style=\\\"fill:#000000; stroke:none; fill-opacity:0.5\\\" cx=\\\"460.984\\\" cy=\\\"1288.53\\\" r=\\\"18\\\"\\/>\\n<circle clip-path=\\\"url(#clip3102)\\\" style=\\\"fill:#000000; stroke:none; fill-opacity:0.5\\\" cx=\\\"460.984\\\" cy=\\\"1288.53\\\" r=\\\"14\\\"\\/>\\n<circle clip-path=\\\"url(#clip3102)\\\" style=\\\"fill:#000000; stroke:none; fill-opacity:0.5\\\" cx=\\\"520.801\\\" cy=\\\"657.164\\\" r=\\\"18\\\"\\/>\\n<circle clip-path=\\\"url(#clip3102)\\\" style=\\\"fill:#000000; stroke:none; fill-opacity:0.5\\\" cx=\\\"520.801\\\" cy=\\\"657.164\\\" r=\\\"14\\\"\\/>\\n<circle clip-path=\\\"url(#clip3102)\\\" style=\\\"fill:#000000; stroke:none; fill-opacity:0.5\\\" cx=\\\"580.618\\\" cy=\\\"795.494\\\" r=\\\"18\\\"\\/>\\n<circle clip-path=\\\"url(#clip3102)\\\" style=\\\"fill:#000000; stroke:none; fill-opacity:0.5\\\" cx=\\\"580.618\\\" cy=\\\"795.494\\\" r=\\\"14\\\"\\/>\\n<circle clip-path=\\\"url(#clip3102)\\\" style=\\\"fill:#000000; stroke:none; fill-opacity:0.5\\\" cx=\\\"640.435\\\" cy=\\\"1760.48\\\" r=\\\"18\\\"\\/>\\n<circle clip-path=\\\"url(#clip3102)\\\" style=\\\"fill:#000000; stroke:none; fill-opacity:0.5\\\" cx=\\\"640.435\\\" cy=\\\"1760.48\\\" r=\\\"14\\\"\\/>\\n<circle clip-path=\\\"url(#clip3102)\\\" style=\\\"fill:#000000; stroke:none; fill-opacity:0.5\\\" cx=\\\"700.252\\\" cy=\\\"1369.15\\\" r=\\\"18\\\"\\/>\\n<circle clip-path=\\\"url(#clip3102)\\\" style=\\\"fill:#000000; stroke:none; fill-opacity:0.5\\\" cx=\\\"700.252\\\" cy=\\\"1369.15\\\" r=\\\"14\\\"\\/>\\n<circle clip-path=\\\"url(#clip3102)\\\" style=\\\"fill:#000000; stroke:none; fill-opacity:0.5\\\" cx=\\\"760.07\\\" cy=\\\"1657.93\\\" r=\\\"18\\\"\\/>\\n<circle clip-path=\\\"url(#clip3102)\\\" style=\\\"fill:#000000; stroke:none; fill-opacity:0.5\\\" cx=\\\"760.07\\\" cy=\\\"1657.93\\\" r=\\\"14\\\"\\/>\\n<circle clip-path=\\\"url(#clip3102)\\\" style=\\\"fill:#000000; stroke:none; fill-opacity:0.5\\\" cx=\\\"819.887\\\" cy=\\\"1558.89\\\" r=\\\"18\\\"\\/>\\n<circle clip-path=\\\"url(#clip3102)\\\" style=\\\"fill:#000000; stroke:none; fill-opacity:0.5\\\" cx=\\\"819.887\\\" cy=\\\"1558.89\\\" r=\\\"14\\\"\\/>\\n<circle clip-path=\\\"url(#clip3102)\\\" style=\\\"fill:#000000; stroke:none; fill-opacity:0.5\\\" cx=\\\"879.704\\\" cy=\\\"999.747\\\" r=\\\"18\\\"\\/>\\n<circle clip-path=\\\"url(#clip3102)\\\" style=\\\"fill:#000000; stroke:none; fill-opacity:0.5\\\" cx=\\\"879.704\\\" cy=\\\"999.747\\\" r=\\\"14\\\"\\/>\\n<circle clip-path=\\\"url(#clip3102)\\\" style=\\\"fill:#000000; stroke:none; fill-opacity:0.5\\\" cx=\\\"939.521\\\" cy=\\\"290.507\\\" r=\\\"18\\\"\\/>\\n<circle clip-path=\\\"url(#clip3102)\\\" style=\\\"fill:#000000; stroke:none; fill-opacity:0.5\\\" cx=\\\"939.521\\\" cy=\\\"290.507\\\" r=\\\"14\\\"\\/>\\n<circle clip-path=\\\"url(#clip3102)\\\" style=\\\"fill:#000000; stroke:none; fill-opacity:0.5\\\" cx=\\\"999.338\\\" cy=\\\"738.614\\\" r=\\\"18\\\"\\/>\\n<circle clip-path=\\\"url(#clip3102)\\\" style=\\\"fill:#000000; stroke:none; fill-opacity:0.5\\\" cx=\\\"999.338\\\" cy=\\\"738.614\\\" r=\\\"14\\\"\\/>\\n<circle clip-path=\\\"url(#clip3102)\\\" style=\\\"fill:#000000; stroke:none; fill-opacity:0.5\\\" cx=\\\"1059.16\\\" cy=\\\"1338.32\\\" r=\\\"18\\\"\\/>\\n<circle clip-path=\\\"url(#clip3102)\\\" style=\\\"fill:#000000; stroke:none; fill-opacity:0.5\\\" cx=\\\"1059.16\\\" cy=\\\"1338.32\\\" r=\\\"14\\\"\\/>\\n<circle clip-path=\\\"url(#clip3102)\\\" style=\\\"fill:#000000; stroke:none; fill-opacity:0.5\\\" cx=\\\"1118.97\\\" cy=\\\"1016.32\\\" r=\\\"18\\\"\\/>\\n<circle clip-path=\\\"url(#clip3102)\\\" style=\\\"fill:#000000; stroke:none; fill-opacity:0.5\\\" cx=\\\"1118.97\\\" cy=\\\"1016.32\\\" r=\\\"14\\\"\\/>\\n<circle clip-path=\\\"url(#clip3102)\\\" style=\\\"fill:#000000; stroke:none; fill-opacity:0.5\\\" cx=\\\"1178.79\\\" cy=\\\"1356.18\\\" r=\\\"18\\\"\\/>\\n<circle clip-path=\\\"url(#clip3102)\\\" style=\\\"fill:#000000; stroke:none; fill-opacity:0.5\\\" cx=\\\"1178.79\\\" cy=\\\"1356.18\\\" r=\\\"14\\\"\\/>\\n<circle clip-path=\\\"url(#clip3102)\\\" style=\\\"fill:#000000; stroke:none; fill-opacity:0.5\\\" cx=\\\"1238.61\\\" cy=\\\"1047.55\\\" r=\\\"18\\\"\\/>\\n<circle clip-path=\\\"url(#clip3102)\\\" style=\\\"fill:#000000; stroke:none; fill-opacity:0.5\\\" cx=\\\"1238.61\\\" cy=\\\"1047.55\\\" r=\\\"14\\\"\\/>\\n<circle clip-path=\\\"url(#clip3102)\\\" style=\\\"fill:#000000; stroke:none; fill-opacity:0.5\\\" cx=\\\"1298.42\\\" cy=\\\"802.19\\\" r=\\\"18\\\"\\/>\\n<circle clip-path=\\\"url(#clip3102)\\\" style=\\\"fill:#000000; stroke:none; fill-opacity:0.5\\\" cx=\\\"1298.42\\\" cy=\\\"802.19\\\" r=\\\"14\\\"\\/>\\n<circle clip-path=\\\"url(#clip3102)\\\" style=\\\"fill:#000000; stroke:none; fill-opacity:0.5\\\" cx=\\\"1358.24\\\" cy=\\\"1392.03\\\" r=\\\"18\\\"\\/>\\n<circle clip-path=\\\"url(#clip3102)\\\" style=\\\"fill:#000000; stroke:none; fill-opacity:0.5\\\" cx=\\\"1358.24\\\" cy=\\\"1392.03\\\" r=\\\"14\\\"\\/>\\n<circle clip-path=\\\"url(#clip3102)\\\" style=\\\"fill:#000000; stroke:none; fill-opacity:0.5\\\" cx=\\\"1418.06\\\" cy=\\\"578.891\\\" r=\\\"18\\\"\\/>\\n<circle clip-path=\\\"url(#clip3102)\\\" style=\\\"fill:#000000; stroke:none; fill-opacity:0.5\\\" cx=\\\"1418.06\\\" cy=\\\"578.891\\\" r=\\\"14\\\"\\/>\\n<circle clip-path=\\\"url(#clip3102)\\\" style=\\\"fill:#000000; stroke:none; fill-opacity:0.5\\\" cx=\\\"1477.88\\\" cy=\\\"1326.97\\\" r=\\\"18\\\"\\/>\\n<circle clip-path=\\\"url(#clip3102)\\\" style=\\\"fill:#000000; stroke:none; fill-opacity:0.5\\\" cx=\\\"1477.88\\\" cy=\\\"1326.97\\\" r=\\\"14\\\"\\/>\\n<circle clip-path=\\\"url(#clip3102)\\\" style=\\\"fill:#000000; stroke:none; fill-opacity:0.5\\\" cx=\\\"1537.69\\\" cy=\\\"1346.69\\\" r=\\\"18\\\"\\/>\\n<circle clip-path=\\\"url(#clip3102)\\\" style=\\\"fill:#000000; stroke:none; fill-opacity:0.5\\\" cx=\\\"1537.69\\\" cy=\\\"1346.69\\\" r=\\\"14\\\"\\/>\\n<circle clip-path=\\\"url(#clip3102)\\\" style=\\\"fill:#000000; stroke:none; fill-opacity:0.5\\\" cx=\\\"1597.51\\\" cy=\\\"421.514\\\" r=\\\"18\\\"\\/>\\n<circle clip-path=\\\"url(#clip3102)\\\" style=\\\"fill:#000000; stroke:none; fill-opacity:0.5\\\" cx=\\\"1597.51\\\" cy=\\\"421.514\\\" r=\\\"14\\\"\\/>\\n<circle clip-path=\\\"url(#clip3102)\\\" style=\\\"fill:#000000; stroke:none; fill-opacity:0.5\\\" cx=\\\"1657.33\\\" cy=\\\"1476.53\\\" r=\\\"18\\\"\\/>\\n<circle clip-path=\\\"url(#clip3102)\\\" style=\\\"fill:#000000; stroke:none; fill-opacity:0.5\\\" cx=\\\"1657.33\\\" cy=\\\"1476.53\\\" r=\\\"14\\\"\\/>\\n<polyline clip-path=\\\"url(#clip3102)\\\" style=\\\"stroke:#000000; stroke-width:21.6; stroke-opacity:1; fill:none\\\" points=\\\"\\n  165.549,1744.46 169.2,1634.61 172.851,1525.59 176.502,1417.79 184.942,1175.5 193.382,946.704 201.821,735.954 210.261,547.437 218.701,384.902 227.141,251.578 \\n  235.58,150.114 244.02,82.5272 252.46,50.161 260.899,53.6585 269.339,92.9501 277.779,167.255 286.219,275.096 294.658,414.331 303.098,582.192 311.538,775.343 \\n  321.682,1035.51 331.826,1319.17 341.97,1618.2 352.113,1924.02 362.257,2227.84 372.401,2520.96 382.545,2794.97 392.689,3042 401.265,3224.55 409.842,3378.98 \\n  418.418,3502.14 426.995,3591.48 435.571,3645.18 444.148,3662.14 452.724,3642 461.301,3585.19 470.617,3483.28 479.934,3341.95 489.25,3164.62 498.567,2955.58 \\n  517.2,2463.24 535.833,1912.33 553.011,1398.28 570.189,921.61 578.778,709.705 587.367,521.366 595.956,360.469 604.545,230.327 613.753,127.995 622.961,66.5008 \\n  632.17,47.2996 641.378,70.8454 650.586,136.581 659.795,242.953 664.399,310.627 669.003,387.444 673.607,472.949 678.211,566.637 688.88,812.026 699.549,1090.5 \\n  710.217,1393.21 720.886,1710.57 731.555,2032.5 742.223,2348.79 752.892,2649.4 763.561,2924.8 773.042,3141.3 782.523,3325.55 792.004,3472.92 801.485,3579.73 \\n  810.966,3643.28 820.448,3662 829.929,3635.41 839.41,3564.17 847.724,3466.35 856.038,3337.45 864.352,3179.94 872.666,2996.88 889.294,2568.62 905.922,2085.54 \\n  924.051,1539.99 942.181,1023.12 951.245,790.395 960.31,582.06 969.374,402.894 978.439,257.003 987.557,147.196 996.676,76.9917 1005.79,48.0167 1014.91,60.9435 \\n  1024.03,115.472 1033.15,210.338 1037.71,272.245 1042.27,343.341 1046.83,423.213 1051.39,511.397 1061.47,733.285 1071.55,986.953 1081.63,1265.21 1091.71,1560.18 \\n  1111.88,2166.55 1132.04,2737.83 1141.63,2978.31 1151.22,3189.96 1160.82,3367.34 1170.41,3505.91 1180,3602.11 1189.59,3653.47 1194.39,3661.88 1199.19,3658.68 \\n  1203.98,3643.88 1208.78,3617.59 1213.77,3578.24 1218.75,3526.92 1223.74,3463.98 1228.73,3389.87 1238.7,3210.24 1248.67,2993 1258.65,2744.2 1268.62,2470.72 \\n  1278.6,2180.16 1288.57,1880.57 1305.36,1378.86 1322.15,914.399 1330.55,707.697 1338.94,523.555 1347.34,365.594 1355.74,236.922 1360.86,173.879 1365.99,123.168 \\n  1371.11,85.1606 1376.24,60.1362 1381.36,48.2782 1386.49,49.6735 1391.61,64.3118 1396.74,92.0859 1406.99,186.131 1417.24,329.055 1422.36,417.59 1427.49,516.669 \\n  1432.61,625.565 1437.74,743.479 1457.01,1252.01 1476.28,1822.55 1495.55,2396.41 1514.82,2914.52 1522.54,3094.12 1530.26,3253.1 1537.98,3388.83 1545.7,3499.06 \\n  1553.42,3581.94 1561.14,3636.11 1568.85,3660.65 1576.57,3655.17 1584.29,3619.75 1592.01,3554.99 1599.73,3461.95 1607.45,3342.19 1615.17,3197.7 1622.88,3030.87 \\n  1630.6,2844.49 1638.32,2641.66 1643.07,2510.06 1647.82,2374.34 1652.58,2235.33 \\n  \\\"\\/>\\n<polygon clip-path=\\\"url(#clip3100)\\\" points=\\\"\\n2685.93,360.204 3056.76,360.204 3056.76,178.764 2685.93,178.764 \\n  \\\" fill=\\\"#ffffff\\\" fill-rule=\\\"evenodd\\\" fill-opacity=\\\"1\\\"\\/>\\n<polyline clip-path=\\\"url(#clip3100)\\\" style=\\\"stroke:#000000; stroke-width:4; stroke-opacity:1; fill:none\\\" points=\\\"\\n  2685.93,360.204 3056.76,360.204 3056.76,178.764 2685.93,178.764 2685.93,360.204 \\n  \\\"\\/>\\n<circle clip-path=\\\"url(#clip3100)\\\" style=\\\"fill:#000000; stroke:none; fill-opacity:0.5\\\" cx=\\\"2829.93\\\" cy=\\\"239.244\\\" r=\\\"25\\\"\\/>\\n<circle clip-path=\\\"url(#clip3100)\\\" style=\\\"fill:#000000; stroke:none; fill-opacity:0.5\\\" cx=\\\"2829.93\\\" cy=\\\"239.244\\\" r=\\\"21\\\"\\/>\\n<g clip-path=\\\"url(#clip3100)\\\">\\n<text style=\\\"fill:#000000; fill-opacity:1; font-family:Arial,Helvetica Neue,Helvetica,sans-serif; font-size:48px; text-anchor:start;\\\" transform=\\\"rotate(0, 2941.93, 256.744)\\\" x=\\\"2941.93\\\" y=\\\"256.744\\\">y1<\\/text>\\n<\\/g>\\n<polyline clip-path=\\\"url(#clip3100)\\\" style=\\\"stroke:#000000; stroke-width:21.6; stroke-opacity:1; fill:none\\\" points=\\\"\\n  2717.93,299.724 2909.93,299.724 \\n  \\\"\\/>\\n<g clip-path=\\\"url(#clip3100)\\\">\\n<text style=\\\"fill:#000000; fill-opacity:1; font-family:Arial,Helvetica Neue,Helvetica,sans-serif; font-size:48px; text-anchor:start;\\\" transform=\\\"rotate(0, 2941.93, 317.224)\\\" x=\\\"2941.93\\\" y=\\\"317.224\\\">y2<\\/text>\\n<\\/g>\\n<\\/svg>\\n\"},\"nodeType\":\"DOM\",\"type\":\"node\",\"instanceArgs\":{\"namespace\":\"html\",\"tag\":\"div\"},\"children\":[]}]}}}},\"children\":[{\"props\":{},\"nodeType\":\"ObservableNode\",\"type\":\"node\",\"instanceArgs\":{\"id\":\"ob_25\",\"name\":\"obs-node\"},\"children\":[]}]}]},\n",
       "            window,\n",
       "        );\n",
       "    } else {\n",
       "        document\n",
       "            .querySelector('[data-webio-mountpoint=\"18267985515607794011\"]')\n",
       "            .innerHTML = (\n",
       "                '<strong>WebIO not detected. Please read ' +\n",
       "                '<a href=\"https://juliagizmos.github.io/WebIO.jl/latest/troubleshooting/not-detected/\">the troubleshooting guide</a> ' +\n",
       "                'for more information on how to resolve this issue.' +\n",
       "                '</strong>'\n",
       "            );\n",
       "    }\n",
       "    </script>\n",
       "</div>\n"
      ],
      "text/plain": [
       "Node{WebIO.DOM}(WebIO.DOM(:html, :div), Any[Node{WebIO.DOM}(WebIO.DOM(:html, :div), Any[Scope(Node{WebIO.DOM}(WebIO.DOM(:html, :div), Any[Node{WebIO.DOM}(WebIO.DOM(:html, :div), Any[Node{WebIO.DOM}(WebIO.DOM(:html, :label), Any[\"i\"], Dict{Symbol,Any}(:className => \"interact \",:style => Dict{Any,Any}(:padding => \"5px 10px 0px 10px\")))], Dict{Symbol,Any}(:className => \"interact-flex-row-left\")), Node{WebIO.DOM}(WebIO.DOM(:html, :div), Any[Node{WebIO.DOM}(WebIO.DOM(:html, :input), Any[], Dict{Symbol,Any}(:max => 50,:min => 1,:attributes => Dict{Any,Any}(:type => \"range\",Symbol(\"data-bind\") => \"numericValue: index, valueUpdate: 'input', event: {change: function (){this.changes(this.changes()+1)}}\",\"orient\" => \"horizontal\"),:step => 1,:className => \"slider slider is-fullwidth\",:style => Dict{Any,Any}()))], Dict{Symbol,Any}(:className => \"interact-flex-row-center\")), Node{WebIO.DOM}(WebIO.DOM(:html, :div), Any[Node{WebIO.DOM}(WebIO.DOM(:html, :p), Any[], Dict{Symbol,Any}(:attributes => Dict(\"data-bind\" => \"text: formatted_val\")))], Dict{Symbol,Any}(:className => \"interact-flex-row-right\"))], Dict{Symbol,Any}(:className => \"interact-flex-row interact-widget\")), Dict{String,Tuple{Observables.AbstractObservable,Union{Nothing, Bool}}}(\"changes\" => (Observable{Int64} with 1 listeners. Value:\n",
       "0, nothing),\"index\" => (Observable{Int64} with 2 listeners. Value:\n",
       "25, nothing)), Set(String[]), nothing, Asset[Asset(\"js\", \"knockout\", \"/Users/joday/.julia/packages/Knockout/1sDlc/src/../assets/knockout.js\"), Asset(\"js\", \"knockout_punches\", \"/Users/joday/.julia/packages/Knockout/1sDlc/src/../assets/knockout_punches.js\"), Asset(\"js\", nothing, \"/Users/joday/.julia/packages/InteractBase/9mFwe/src/../assets/all.js\"), Asset(\"css\", nothing, \"/Users/joday/.julia/packages/InteractBase/9mFwe/src/../assets/style.css\"), Asset(\"css\", nothing, \"/Users/joday/.julia/packages/Interact/SbgIk/src/../assets/bulma_confined.min.css\")], Dict{Any,Any}(\"changes\" => Any[WebIO.JSString(\"(function (val){return (val!=this.model[\\\"changes\\\"]()) ? (this.valueFromJulia[\\\"changes\\\"]=true, this.model[\\\"changes\\\"](val)) : undefined})\")],\"index\" => Any[WebIO.JSString(\"(function (val){return (val!=this.model[\\\"index\\\"]()) ? (this.valueFromJulia[\\\"index\\\"]=true, this.model[\\\"index\\\"](val)) : undefined})\")]), WebIO.ConnectionPool(Channel{Any}(sz_max:32,sz_curr:0), Set(AbstractConnection[]), Base.GenericCondition{Base.AlwaysLockedST}(Base.InvasiveLinkedList{Task}(Task (runnable) @0x0000000120c21690, Task (runnable) @0x0000000120c21690), Base.AlwaysLockedST(1))), WebIO.JSString[WebIO.JSString(\"function () {\\n    var handler = (function (ko, koPunches) {\\n    ko.punches.enableAll();\\n    ko.bindingHandlers.numericValue = {\\n        init: function(element, valueAccessor, allBindings, data, context) {\\n            var stringified = ko.observable(ko.unwrap(valueAccessor()));\\n            stringified.subscribe(function(value) {\\n                var val = parseFloat(value);\\n                if (!isNaN(val)) {\\n                    valueAccessor()(val);\\n                }\\n            });\\n            valueAccessor().subscribe(function(value) {\\n                var str = JSON.stringify(value);\\n                if ((str == \\\"0\\\") && ([\\\"-0\\\", \\\"-0.\\\"].indexOf(stringified()) >= 0))\\n                     return;\\n                 if ([\\\"null\\\", \\\"\\\"].indexOf(str) >= 0)\\n                     return;\\n                stringified(str);\\n            });\\n            ko.applyBindingsToNode(\\n                element,\\n                {\\n                    value: stringified,\\n                    valueUpdate: allBindings.get('valueUpdate'),\\n                },\\n                context,\\n            );\\n        }\\n    };\\n    var json_data = {\\\"formatted_vals\\\":[\\\"1\\\",\\\"2\\\",\\\"3\\\",\\\"4\\\",\\\"5\\\",\\\"6\\\",\\\"7\\\",\\\"8\\\",\\\"9\\\",\\\"10\\\",\\\"11\\\",\\\"12\\\",\\\"13\\\",\\\"14\\\",\\\"15\\\",\\\"16\\\",\\\"17\\\",\\\"18\\\",\\\"19\\\",\\\"20\\\",\\\"21\\\",\\\"22\\\",\\\"23\\\",\\\"24\\\",\\\"25\\\",\\\"26\\\",\\\"27\\\",\\\"28\\\",\\\"29\\\",\\\"30\\\",\\\"31\\\",\\\"32\\\",\\\"33\\\",\\\"34\\\",\\\"35\\\",\\\"36\\\",\\\"37\\\",\\\"38\\\",\\\"39\\\",\\\"40\\\",\\\"41\\\",\\\"42\\\",\\\"43\\\",\\\"44\\\",\\\"45\\\",\\\"46\\\",\\\"47\\\",\\\"48\\\",\\\"49\\\",\\\"50\\\"],\\\"changes\\\":WebIO.getval({\\\"name\\\":\\\"changes\\\",\\\"scope\\\":\\\"18433944559035668775\\\",\\\"id\\\":\\\"ob_13\\\",\\\"type\\\":\\\"observable\\\"}),\\\"index\\\":WebIO.getval({\\\"name\\\":\\\"index\\\",\\\"scope\\\":\\\"18433944559035668775\\\",\\\"id\\\":\\\"ob_12\\\",\\\"type\\\":\\\"observable\\\"})};\\n    var self = this;\\n    function AppViewModel() {\\n        for (var key in json_data) {\\n            var el = json_data[key];\\n            this[key] = Array.isArray(el) ? ko.observableArray(el) : ko.observable(el);\\n        }\\n        \\n        [this[\\\"formatted_val\\\"]=ko.computed(    function(){\\n        return this.formatted_vals()[parseInt(this.index())-(1)];\\n    }\\n,this)]\\n        [this[\\\"changes\\\"].subscribe((function (val){!(this.valueFromJulia[\\\"changes\\\"]) ? (WebIO.setval({\\\"name\\\":\\\"changes\\\",\\\"scope\\\":\\\"18433944559035668775\\\",\\\"id\\\":\\\"ob_13\\\",\\\"type\\\":\\\"observable\\\"},val)) : undefined; return this.valueFromJulia[\\\"changes\\\"]=false}),self),this[\\\"index\\\"].subscribe((function (val){!(this.valueFromJulia[\\\"index\\\"]) ? (WebIO.setval({\\\"name\\\":\\\"index\\\",\\\"scope\\\":\\\"18433944559035668775\\\",\\\"id\\\":\\\"ob_12\\\",\\\"type\\\":\\\"observable\\\"},val)) : undefined; return this.valueFromJulia[\\\"index\\\"]=false}),self)]\\n        \\n    }\\n    self.model = new AppViewModel();\\n    self.valueFromJulia = {};\\n    for (var key in json_data) {\\n        self.valueFromJulia[key] = false;\\n    }\\n    ko.applyBindings(self.model, self.dom);\\n}\\n);\\n    (WebIO.importBlock({\\\"data\\\":[{\\\"name\\\":\\\"knockout\\\",\\\"type\\\":\\\"js\\\",\\\"url\\\":\\\"/assetserver/bf3e344bbbe45b806bbda88c6101232eb1f7318f-knockout.js\\\"},{\\\"name\\\":\\\"knockout_punches\\\",\\\"type\\\":\\\"js\\\",\\\"url\\\":\\\"/assetserver/3ad363ca1664d7335dff0eabc7ebe7d829397430-knockout_punches.js\\\"}],\\\"type\\\":\\\"async_block\\\"})).then((imports) => handler.apply(this, imports));\\n}\\n\")])], Dict{Symbol,Any}(:className => \"field interact-widget\")), Node{WebIO.DOM}(WebIO.DOM(:html, :div), Any[Scope(Node{WebIO.DOM}(WebIO.DOM(:html, :div), Any[Node{WebIO.DOM}(WebIO.DOM(:html, :div), Any[Node{WebIO.DOM}(WebIO.DOM(:html, :label), Any[\"color\"], Dict{Symbol,Any}(:className => \"interact \",:style => Dict{Any,Any}(:padding => \"5px 10px 0px 10px\")))], Dict{Symbol,Any}(:className => \"interact-flex-row-left\")), Node{WebIO.DOM}(WebIO.DOM(:html, :div), Any[Node{WebIO.DOM}(WebIO.DOM(:html, :div), Any[Node{WebIO.DOM}(WebIO.DOM(:html, :span), Any[Node{WebIO.DOM}(WebIO.DOM(:html, :label), Any[], Dict{Symbol,Any}(:attributes => Dict(\"data-bind\" => \"text : key\")))], Dict{Symbol,Any}(:attributes => Dict(\"data-bind\" => \"click: function (){\\$root.update(val)}, css: {'is-primary is-selected' : \\$root.index() == val, 'interact-widget is-medium button ' : true}\")))], Dict{Symbol,Any}(:attributes => (\"data-bind\" => \"foreach : options_js\"),:className => \"buttons has-addons is-centered\"))], Dict{Symbol,Any}(:className => \"interact-flex-row-center\")), Node{WebIO.DOM}(WebIO.DOM(:html, :div), Any[Node{WebIO.DOM}(WebIO.DOM(:html, :div), Any[], Dict{Symbol,Any}())], Dict{Symbol,Any}(:className => \"interact-flex-row-right\"))], Dict{Symbol,Any}(:className => \"interact-flex-row interact-widget\")), Dict{String,Tuple{Observables.AbstractObservable,Union{Nothing, Bool}}}(\"options_js\" => (Observable{Any} with 1 listeners. Value:\n",
       "OrderedDict[OrderedDict{String,Any}(\"key\" => \"black\",\"val\" => 1,\"id\" => \"idtOIbBEtU\"), OrderedDict{String,Any}(\"key\" => \"blue\",\"val\" => 2,\"id\" => \"idYrIMqvdn\"), OrderedDict{String,Any}(\"key\" => \"green\",\"val\" => 3,\"id\" => \"idAZbNEvcY\"), OrderedDict{String,Any}(\"key\" => \"red\",\"val\" => 4,\"id\" => \"idkAkZPL8F\")], nothing),\"index\" => (Observable{Any} with 2 listeners. Value:\n",
       "1, nothing)), Set(String[]), nothing, Asset[Asset(\"js\", \"knockout\", \"/Users/joday/.julia/packages/Knockout/1sDlc/src/../assets/knockout.js\"), Asset(\"js\", \"knockout_punches\", \"/Users/joday/.julia/packages/Knockout/1sDlc/src/../assets/knockout_punches.js\"), Asset(\"js\", nothing, \"/Users/joday/.julia/packages/InteractBase/9mFwe/src/../assets/all.js\"), Asset(\"css\", nothing, \"/Users/joday/.julia/packages/InteractBase/9mFwe/src/../assets/style.css\"), Asset(\"css\", nothing, \"/Users/joday/.julia/packages/Interact/SbgIk/src/../assets/bulma_confined.min.css\")], Dict{Any,Any}(\"options_js\" => Any[WebIO.JSString(\"(function (val){return (val!=this.model[\\\"options_js\\\"]()) ? (this.valueFromJulia[\\\"options_js\\\"]=true, this.model[\\\"options_js\\\"](val)) : undefined})\")],\"index\" => Any[WebIO.JSString(\"(function (val){return (val!=this.model[\\\"index\\\"]()) ? (this.valueFromJulia[\\\"index\\\"]=true, this.model[\\\"index\\\"](val)) : undefined})\")]), WebIO.ConnectionPool(Channel{Any}(sz_max:32,sz_curr:0), Set(AbstractConnection[]), Base.GenericCondition{Base.AlwaysLockedST}(Base.InvasiveLinkedList{Task}(Task (runnable) @0x0000000120c1c6d0, Task (runnable) @0x0000000120c1c6d0), Base.AlwaysLockedST(1))), WebIO.JSString[WebIO.JSString(\"function () {\\n    var handler = (function (ko, koPunches) {\\n    ko.punches.enableAll();\\n    ko.bindingHandlers.numericValue = {\\n        init: function(element, valueAccessor, allBindings, data, context) {\\n            var stringified = ko.observable(ko.unwrap(valueAccessor()));\\n            stringified.subscribe(function(value) {\\n                var val = parseFloat(value);\\n                if (!isNaN(val)) {\\n                    valueAccessor()(val);\\n                }\\n            });\\n            valueAccessor().subscribe(function(value) {\\n                var str = JSON.stringify(value);\\n                if ((str == \\\"0\\\") && ([\\\"-0\\\", \\\"-0.\\\"].indexOf(stringified()) >= 0))\\n                     return;\\n                 if ([\\\"null\\\", \\\"\\\"].indexOf(str) >= 0)\\n                     return;\\n                stringified(str);\\n            });\\n            ko.applyBindingsToNode(\\n                element,\\n                {\\n                    value: stringified,\\n                    valueUpdate: allBindings.get('valueUpdate'),\\n                },\\n                context,\\n            );\\n        }\\n    };\\n    var json_data = {\\\"options_js\\\":WebIO.getval({\\\"name\\\":\\\"options_js\\\",\\\"scope\\\":\\\"15234161082923168727\\\",\\\"id\\\":\\\"ob_18\\\",\\\"type\\\":\\\"observable\\\"}),\\\"index\\\":WebIO.getval({\\\"name\\\":\\\"index\\\",\\\"scope\\\":\\\"15234161082923168727\\\",\\\"id\\\":\\\"ob_17\\\",\\\"type\\\":\\\"observable\\\"})};\\n    var self = this;\\n    function AppViewModel() {\\n        for (var key in json_data) {\\n            var el = json_data[key];\\n            this[key] = Array.isArray(el) ? ko.observableArray(el) : ko.observable(el);\\n        }\\n        [this[\\\"update\\\"]=function (val) {this.index(val)}]\\n        \\n        [this[\\\"options_js\\\"].subscribe((function (val){!(this.valueFromJulia[\\\"options_js\\\"]) ? (WebIO.setval({\\\"name\\\":\\\"options_js\\\",\\\"scope\\\":\\\"15234161082923168727\\\",\\\"id\\\":\\\"ob_18\\\",\\\"type\\\":\\\"observable\\\"},val)) : undefined; return this.valueFromJulia[\\\"options_js\\\"]=false}),self),this[\\\"index\\\"].subscribe((function (val){!(this.valueFromJulia[\\\"index\\\"]) ? (WebIO.setval({\\\"name\\\":\\\"index\\\",\\\"scope\\\":\\\"15234161082923168727\\\",\\\"id\\\":\\\"ob_17\\\",\\\"type\\\":\\\"observable\\\"},val)) : undefined; return this.valueFromJulia[\\\"index\\\"]=false}),self)]\\n        \\n    }\\n    self.model = new AppViewModel();\\n    self.valueFromJulia = {};\\n    for (var key in json_data) {\\n        self.valueFromJulia[key] = false;\\n    }\\n    ko.applyBindings(self.model, self.dom);\\n}\\n);\\n    (WebIO.importBlock({\\\"data\\\":[{\\\"name\\\":\\\"knockout\\\",\\\"type\\\":\\\"js\\\",\\\"url\\\":\\\"/assetserver/bf3e344bbbe45b806bbda88c6101232eb1f7318f-knockout.js\\\"},{\\\"name\\\":\\\"knockout_punches\\\",\\\"type\\\":\\\"js\\\",\\\"url\\\":\\\"/assetserver/3ad363ca1664d7335dff0eabc7ebe7d829397430-knockout_punches.js\\\"}],\\\"type\\\":\\\"async_block\\\"})).then((imports) => handler.apply(this, imports));\\n}\\n\")])], Dict{Symbol,Any}(:className => \"interact-widget\")), Node{WebIO.DOM}(WebIO.DOM(:html, :div), Any[Scope(Node{WebIO.DOM}(WebIO.DOM(:html, :div), Any[Node{WebIO.DOM}(WebIO.DOM(:html, :div), Any[Node{WebIO.DOM}(WebIO.DOM(:html, :label), Any[\"lw\"], Dict{Symbol,Any}(:className => \"interact \",:style => Dict{Any,Any}(:padding => \"5px 10px 0px 10px\")))], Dict{Symbol,Any}(:className => \"interact-flex-row-left\")), Node{WebIO.DOM}(WebIO.DOM(:html, :div), Any[Node{WebIO.DOM}(WebIO.DOM(:html, :input), Any[], Dict{Symbol,Any}(:max => 46,:min => 1,:attributes => Dict{Any,Any}(:type => \"range\",Symbol(\"data-bind\") => \"numericValue: index, valueUpdate: 'input', event: {change: function (){this.changes(this.changes()+1)}}\",\"orient\" => \"horizontal\"),:step => 1,:className => \"slider slider is-fullwidth\",:style => Dict{Any,Any}()))], Dict{Symbol,Any}(:className => \"interact-flex-row-center\")), Node{WebIO.DOM}(WebIO.DOM(:html, :div), Any[Node{WebIO.DOM}(WebIO.DOM(:html, :p), Any[], Dict{Symbol,Any}(:attributes => Dict(\"data-bind\" => \"text: formatted_val\")))], Dict{Symbol,Any}(:className => \"interact-flex-row-right\"))], Dict{Symbol,Any}(:className => \"interact-flex-row interact-widget\")), Dict{String,Tuple{Observables.AbstractObservable,Union{Nothing, Bool}}}(\"changes\" => (Observable{Int64} with 1 listeners. Value:\n",
       "0, nothing),\"index\" => (Observable{Any} with 2 listeners. Value:\n",
       "23, nothing)), Set(String[]), nothing, Asset[Asset(\"js\", \"knockout\", \"/Users/joday/.julia/packages/Knockout/1sDlc/src/../assets/knockout.js\"), Asset(\"js\", \"knockout_punches\", \"/Users/joday/.julia/packages/Knockout/1sDlc/src/../assets/knockout_punches.js\"), Asset(\"js\", nothing, \"/Users/joday/.julia/packages/InteractBase/9mFwe/src/../assets/all.js\"), Asset(\"css\", nothing, \"/Users/joday/.julia/packages/InteractBase/9mFwe/src/../assets/style.css\"), Asset(\"css\", nothing, \"/Users/joday/.julia/packages/Interact/SbgIk/src/../assets/bulma_confined.min.css\")], Dict{Any,Any}(\"changes\" => Any[WebIO.JSString(\"(function (val){return (val!=this.model[\\\"changes\\\"]()) ? (this.valueFromJulia[\\\"changes\\\"]=true, this.model[\\\"changes\\\"](val)) : undefined})\")],\"index\" => Any[WebIO.JSString(\"(function (val){return (val!=this.model[\\\"index\\\"]()) ? (this.valueFromJulia[\\\"index\\\"]=true, this.model[\\\"index\\\"](val)) : undefined})\")]), WebIO.ConnectionPool(Channel{Any}(sz_max:32,sz_curr:0), Set(AbstractConnection[]), Base.GenericCondition{Base.AlwaysLockedST}(Base.InvasiveLinkedList{Task}(Task (runnable) @0x00000001399d0910, Task (runnable) @0x00000001399d0910), Base.AlwaysLockedST(1))), WebIO.JSString[WebIO.JSString(\"function () {\\n    var handler = (function (ko, koPunches) {\\n    ko.punches.enableAll();\\n    ko.bindingHandlers.numericValue = {\\n        init: function(element, valueAccessor, allBindings, data, context) {\\n            var stringified = ko.observable(ko.unwrap(valueAccessor()));\\n            stringified.subscribe(function(value) {\\n                var val = parseFloat(value);\\n                if (!isNaN(val)) {\\n                    valueAccessor()(val);\\n                }\\n            });\\n            valueAccessor().subscribe(function(value) {\\n                var str = JSON.stringify(value);\\n                if ((str == \\\"0\\\") && ([\\\"-0\\\", \\\"-0.\\\"].indexOf(stringified()) >= 0))\\n                     return;\\n                 if ([\\\"null\\\", \\\"\\\"].indexOf(str) >= 0)\\n                     return;\\n                stringified(str);\\n            });\\n            ko.applyBindingsToNode(\\n                element,\\n                {\\n                    value: stringified,\\n                    valueUpdate: allBindings.get('valueUpdate'),\\n                },\\n                context,\\n            );\\n        }\\n    };\\n    var json_data = {\\\"formatted_vals\\\":[\\\"1.0\\\",\\\"1.2\\\",\\\"1.4\\\",\\\"1.6\\\",\\\"1.8\\\",\\\"2.0\\\",\\\"2.2\\\",\\\"2.4\\\",\\\"2.6\\\",\\\"2.8\\\",\\\"3.0\\\",\\\"3.2\\\",\\\"3.4\\\",\\\"3.6\\\",\\\"3.8\\\",\\\"4.0\\\",\\\"4.2\\\",\\\"4.4\\\",\\\"4.6\\\",\\\"4.8\\\",\\\"5.0\\\",\\\"5.2\\\",\\\"5.4\\\",\\\"5.6\\\",\\\"5.8\\\",\\\"6.0\\\",\\\"6.2\\\",\\\"6.4\\\",\\\"6.6\\\",\\\"6.8\\\",\\\"7.0\\\",\\\"7.2\\\",\\\"7.4\\\",\\\"7.6\\\",\\\"7.8\\\",\\\"8.0\\\",\\\"8.2\\\",\\\"8.4\\\",\\\"8.6\\\",\\\"8.8\\\",\\\"9.0\\\",\\\"9.2\\\",\\\"9.4\\\",\\\"9.6\\\",\\\"9.8\\\",\\\"10.0\\\"],\\\"changes\\\":WebIO.getval({\\\"name\\\":\\\"changes\\\",\\\"scope\\\":\\\"9753274859486261778\\\",\\\"id\\\":\\\"ob_21\\\",\\\"type\\\":\\\"observable\\\"}),\\\"index\\\":WebIO.getval({\\\"name\\\":\\\"index\\\",\\\"scope\\\":\\\"9753274859486261778\\\",\\\"id\\\":\\\"ob_20\\\",\\\"type\\\":\\\"observable\\\"})};\\n    var self = this;\\n    function AppViewModel() {\\n        for (var key in json_data) {\\n            var el = json_data[key];\\n            this[key] = Array.isArray(el) ? ko.observableArray(el) : ko.observable(el);\\n        }\\n        \\n        [this[\\\"formatted_val\\\"]=ko.computed(    function(){\\n        return this.formatted_vals()[parseInt(this.index())-(1)];\\n    }\\n,this)]\\n        [this[\\\"changes\\\"].subscribe((function (val){!(this.valueFromJulia[\\\"changes\\\"]) ? (WebIO.setval({\\\"name\\\":\\\"changes\\\",\\\"scope\\\":\\\"9753274859486261778\\\",\\\"id\\\":\\\"ob_21\\\",\\\"type\\\":\\\"observable\\\"},val)) : undefined; return this.valueFromJulia[\\\"changes\\\"]=false}),self),this[\\\"index\\\"].subscribe((function (val){!(this.valueFromJulia[\\\"index\\\"]) ? (WebIO.setval({\\\"name\\\":\\\"index\\\",\\\"scope\\\":\\\"9753274859486261778\\\",\\\"id\\\":\\\"ob_20\\\",\\\"type\\\":\\\"observable\\\"},val)) : undefined; return this.valueFromJulia[\\\"index\\\"]=false}),self)]\\n        \\n    }\\n    self.model = new AppViewModel();\\n    self.valueFromJulia = {};\\n    for (var key in json_data) {\\n        self.valueFromJulia[key] = false;\\n    }\\n    ko.applyBindings(self.model, self.dom);\\n}\\n);\\n    (WebIO.importBlock({\\\"data\\\":[{\\\"name\\\":\\\"knockout\\\",\\\"type\\\":\\\"js\\\",\\\"url\\\":\\\"/assetserver/bf3e344bbbe45b806bbda88c6101232eb1f7318f-knockout.js\\\"},{\\\"name\\\":\\\"knockout_punches\\\",\\\"type\\\":\\\"js\\\",\\\"url\\\":\\\"/assetserver/3ad363ca1664d7335dff0eabc7ebe7d829397430-knockout_punches.js\\\"}],\\\"type\\\":\\\"async_block\\\"})).then((imports) => handler.apply(this, imports));\\n}\\n\")])], Dict{Symbol,Any}(:className => \"field interact-widget\")), Observable{Any} with 0 listeners. Value:\n",
       "Node{WebIO.DOM}(WebIO.DOM(:html, :div), Any[Plot{Plots.GRBackend() n=2}], Dict{Symbol,Any}(:className => \"interact-flex-row interact-widget\"))], Dict{Symbol,Any}())"
      ]
     },
     "execution_count": 22,
     "metadata": {
      "application/vnd.webio.node+json": {
       "kernelId": "49604135-6715-46b9-919c-24be4b93e658"
      }
     },
     "output_type": "execute_result"
    }
   ],
   "source": [
    "using Interact, Plots, Random\n",
    "gr(size=(800, 500))\n",
    "\n",
    "@manipulate for i in 1:50, color in [:black, :blue, :green, :red], lw in 1:.2:10\n",
    "    Random.seed!(123)\n",
    "    scatter(rand(i), alpha = i/50, ylim=(0,1), xlim=(0,50), color=color)\n",
    "    plot!(sin, 0, i, color=color, linewidth=lw)\n",
    "end"
   ]
  },
  {
   "cell_type": "markdown",
   "metadata": {},
   "source": [
    "## Packages working together with no glue code!\n",
    "\n",
    "- Taxi trip records for every yellow Taxi in NYC in 2018\n",
    "    - 10.43 GB\n",
    "    - ~112 Million Rows\n",
    "    - https://data.cityofnewyork.us/Transportation/2018-Yellow-Taxi-Trip-Data/t29m-gskq/data\n",
    "- **Pandas took 165 seconds to load the table into memory.**"
   ]
  },
  {
   "cell_type": "code",
   "execution_count": 23,
   "metadata": {},
   "outputs": [
    {
     "name": "stdout",
     "output_type": "stream",
     "text": [
      " 48.135588 seconds (452.27 M allocations: 16.890 GiB, 9.49% gc time)\n"
     ]
    },
    {
     "data": {
      "image/svg+xml": [
       "<?xml version=\"1.0\" encoding=\"utf-8\"?>\n",
       "<svg xmlns=\"http://www.w3.org/2000/svg\" xmlns:xlink=\"http://www.w3.org/1999/xlink\" width=\"800\" height=\"500\" viewBox=\"0 0 3200 2000\">\n",
       "<defs>\n",
       "  <clipPath id=\"clip3900\">\n",
       "    <rect x=\"0\" y=\"0\" width=\"3200\" height=\"2000\"/>\n",
       "  </clipPath>\n",
       "</defs>\n",
       "<polygon clip-path=\"url(#clip3900)\" points=\"\n",
       "0,2000 3200,2000 3200,0 0,0 \n",
       "  \" fill=\"#ffffff\" fill-rule=\"evenodd\" fill-opacity=\"1\"/>\n",
       "<defs>\n",
       "  <clipPath id=\"clip3901\">\n",
       "    <rect x=\"640\" y=\"0\" width=\"2241\" height=\"2000\"/>\n",
       "  </clipPath>\n",
       "</defs>\n",
       "<polygon clip-path=\"url(#clip3900)\" points=\"\n",
       "259.272,1885.57 3152.76,1885.57 3152.76,118.007 259.272,118.007 \n",
       "  \" fill=\"#ffffff\" fill-rule=\"evenodd\" fill-opacity=\"1\"/>\n",
       "<defs>\n",
       "  <clipPath id=\"clip3902\">\n",
       "    <rect x=\"259\" y=\"118\" width=\"2894\" height=\"1769\"/>\n",
       "  </clipPath>\n",
       "</defs>\n",
       "<polyline clip-path=\"url(#clip3902)\" style=\"stroke:#000000; stroke-width:2; stroke-opacity:0.1; fill:none\" points=\"\n",
       "  505.714,1885.57 505.714,118.007 \n",
       "  \"/>\n",
       "<polyline clip-path=\"url(#clip3902)\" style=\"stroke:#000000; stroke-width:2; stroke-opacity:0.1; fill:none\" points=\"\n",
       "  723.95,1885.57 723.95,118.007 \n",
       "  \"/>\n",
       "<polyline clip-path=\"url(#clip3902)\" style=\"stroke:#000000; stroke-width:2; stroke-opacity:0.1; fill:none\" points=\"\n",
       "  942.187,1885.57 942.187,118.007 \n",
       "  \"/>\n",
       "<polyline clip-path=\"url(#clip3902)\" style=\"stroke:#000000; stroke-width:2; stroke-opacity:0.1; fill:none\" points=\"\n",
       "  1160.42,1885.57 1160.42,118.007 \n",
       "  \"/>\n",
       "<polyline clip-path=\"url(#clip3902)\" style=\"stroke:#000000; stroke-width:2; stroke-opacity:0.1; fill:none\" points=\"\n",
       "  1378.66,1885.57 1378.66,118.007 \n",
       "  \"/>\n",
       "<polyline clip-path=\"url(#clip3902)\" style=\"stroke:#000000; stroke-width:2; stroke-opacity:0.1; fill:none\" points=\"\n",
       "  1596.9,1885.57 1596.9,118.007 \n",
       "  \"/>\n",
       "<polyline clip-path=\"url(#clip3902)\" style=\"stroke:#000000; stroke-width:2; stroke-opacity:0.1; fill:none\" points=\"\n",
       "  1815.13,1885.57 1815.13,118.007 \n",
       "  \"/>\n",
       "<polyline clip-path=\"url(#clip3902)\" style=\"stroke:#000000; stroke-width:2; stroke-opacity:0.1; fill:none\" points=\"\n",
       "  2033.37,1885.57 2033.37,118.007 \n",
       "  \"/>\n",
       "<polyline clip-path=\"url(#clip3902)\" style=\"stroke:#000000; stroke-width:2; stroke-opacity:0.1; fill:none\" points=\"\n",
       "  2251.61,1885.57 2251.61,118.007 \n",
       "  \"/>\n",
       "<polyline clip-path=\"url(#clip3902)\" style=\"stroke:#000000; stroke-width:2; stroke-opacity:0.1; fill:none\" points=\"\n",
       "  2469.84,1885.57 2469.84,118.007 \n",
       "  \"/>\n",
       "<polyline clip-path=\"url(#clip3902)\" style=\"stroke:#000000; stroke-width:2; stroke-opacity:0.1; fill:none\" points=\"\n",
       "  2688.08,1885.57 2688.08,118.007 \n",
       "  \"/>\n",
       "<polyline clip-path=\"url(#clip3902)\" style=\"stroke:#000000; stroke-width:2; stroke-opacity:0.1; fill:none\" points=\"\n",
       "  2906.31,1885.57 2906.31,118.007 \n",
       "  \"/>\n",
       "<polyline clip-path=\"url(#clip3902)\" style=\"stroke:#000000; stroke-width:2; stroke-opacity:0.1; fill:none\" points=\"\n",
       "  259.272,1835.55 3152.76,1835.55 \n",
       "  \"/>\n",
       "<polyline clip-path=\"url(#clip3902)\" style=\"stroke:#000000; stroke-width:2; stroke-opacity:0.1; fill:none\" points=\"\n",
       "  259.272,1417.55 3152.76,1417.55 \n",
       "  \"/>\n",
       "<polyline clip-path=\"url(#clip3902)\" style=\"stroke:#000000; stroke-width:2; stroke-opacity:0.1; fill:none\" points=\"\n",
       "  259.272,999.56 3152.76,999.56 \n",
       "  \"/>\n",
       "<polyline clip-path=\"url(#clip3902)\" style=\"stroke:#000000; stroke-width:2; stroke-opacity:0.1; fill:none\" points=\"\n",
       "  259.272,581.567 3152.76,581.567 \n",
       "  \"/>\n",
       "<polyline clip-path=\"url(#clip3902)\" style=\"stroke:#000000; stroke-width:2; stroke-opacity:0.1; fill:none\" points=\"\n",
       "  259.272,163.574 3152.76,163.574 \n",
       "  \"/>\n",
       "<polyline clip-path=\"url(#clip3900)\" style=\"stroke:#000000; stroke-width:4; stroke-opacity:1; fill:none\" points=\"\n",
       "  259.272,1885.57 3152.76,1885.57 \n",
       "  \"/>\n",
       "<polyline clip-path=\"url(#clip3900)\" style=\"stroke:#000000; stroke-width:4; stroke-opacity:1; fill:none\" points=\"\n",
       "  259.272,1885.57 259.272,118.007 \n",
       "  \"/>\n",
       "<polyline clip-path=\"url(#clip3900)\" style=\"stroke:#000000; stroke-width:4; stroke-opacity:1; fill:none\" points=\"\n",
       "  505.714,1885.57 505.714,1859.06 \n",
       "  \"/>\n",
       "<polyline clip-path=\"url(#clip3900)\" style=\"stroke:#000000; stroke-width:4; stroke-opacity:1; fill:none\" points=\"\n",
       "  723.95,1885.57 723.95,1859.06 \n",
       "  \"/>\n",
       "<polyline clip-path=\"url(#clip3900)\" style=\"stroke:#000000; stroke-width:4; stroke-opacity:1; fill:none\" points=\"\n",
       "  942.187,1885.57 942.187,1859.06 \n",
       "  \"/>\n",
       "<polyline clip-path=\"url(#clip3900)\" style=\"stroke:#000000; stroke-width:4; stroke-opacity:1; fill:none\" points=\"\n",
       "  1160.42,1885.57 1160.42,1859.06 \n",
       "  \"/>\n",
       "<polyline clip-path=\"url(#clip3900)\" style=\"stroke:#000000; stroke-width:4; stroke-opacity:1; fill:none\" points=\"\n",
       "  1378.66,1885.57 1378.66,1859.06 \n",
       "  \"/>\n",
       "<polyline clip-path=\"url(#clip3900)\" style=\"stroke:#000000; stroke-width:4; stroke-opacity:1; fill:none\" points=\"\n",
       "  1596.9,1885.57 1596.9,1859.06 \n",
       "  \"/>\n",
       "<polyline clip-path=\"url(#clip3900)\" style=\"stroke:#000000; stroke-width:4; stroke-opacity:1; fill:none\" points=\"\n",
       "  1815.13,1885.57 1815.13,1859.06 \n",
       "  \"/>\n",
       "<polyline clip-path=\"url(#clip3900)\" style=\"stroke:#000000; stroke-width:4; stroke-opacity:1; fill:none\" points=\"\n",
       "  2033.37,1885.57 2033.37,1859.06 \n",
       "  \"/>\n",
       "<polyline clip-path=\"url(#clip3900)\" style=\"stroke:#000000; stroke-width:4; stroke-opacity:1; fill:none\" points=\"\n",
       "  2251.61,1885.57 2251.61,1859.06 \n",
       "  \"/>\n",
       "<polyline clip-path=\"url(#clip3900)\" style=\"stroke:#000000; stroke-width:4; stroke-opacity:1; fill:none\" points=\"\n",
       "  2469.84,1885.57 2469.84,1859.06 \n",
       "  \"/>\n",
       "<polyline clip-path=\"url(#clip3900)\" style=\"stroke:#000000; stroke-width:4; stroke-opacity:1; fill:none\" points=\"\n",
       "  2688.08,1885.57 2688.08,1859.06 \n",
       "  \"/>\n",
       "<polyline clip-path=\"url(#clip3900)\" style=\"stroke:#000000; stroke-width:4; stroke-opacity:1; fill:none\" points=\"\n",
       "  2906.31,1885.57 2906.31,1859.06 \n",
       "  \"/>\n",
       "<polyline clip-path=\"url(#clip3900)\" style=\"stroke:#000000; stroke-width:4; stroke-opacity:1; fill:none\" points=\"\n",
       "  259.272,1835.55 302.675,1835.55 \n",
       "  \"/>\n",
       "<polyline clip-path=\"url(#clip3900)\" style=\"stroke:#000000; stroke-width:4; stroke-opacity:1; fill:none\" points=\"\n",
       "  259.272,1417.55 302.675,1417.55 \n",
       "  \"/>\n",
       "<polyline clip-path=\"url(#clip3900)\" style=\"stroke:#000000; stroke-width:4; stroke-opacity:1; fill:none\" points=\"\n",
       "  259.272,999.56 302.675,999.56 \n",
       "  \"/>\n",
       "<polyline clip-path=\"url(#clip3900)\" style=\"stroke:#000000; stroke-width:4; stroke-opacity:1; fill:none\" points=\"\n",
       "  259.272,581.567 302.675,581.567 \n",
       "  \"/>\n",
       "<polyline clip-path=\"url(#clip3900)\" style=\"stroke:#000000; stroke-width:4; stroke-opacity:1; fill:none\" points=\"\n",
       "  259.272,163.574 302.675,163.574 \n",
       "  \"/>\n",
       "<g clip-path=\"url(#clip3900)\">\n",
       "<text style=\"fill:#000000; fill-opacity:1; font-family:Arial,Helvetica Neue,Helvetica,sans-serif; font-size:48px; text-anchor:middle;\" transform=\"rotate(0, 505.714, 1943.57)\" x=\"505.714\" y=\"1943.57\">0</text>\n",
       "</g>\n",
       "<g clip-path=\"url(#clip3900)\">\n",
       "<text style=\"fill:#000000; fill-opacity:1; font-family:Arial,Helvetica Neue,Helvetica,sans-serif; font-size:48px; text-anchor:middle;\" transform=\"rotate(0, 723.95, 1943.57)\" x=\"723.95\" y=\"1943.57\">1</text>\n",
       "</g>\n",
       "<g clip-path=\"url(#clip3900)\">\n",
       "<text style=\"fill:#000000; fill-opacity:1; font-family:Arial,Helvetica Neue,Helvetica,sans-serif; font-size:48px; text-anchor:middle;\" transform=\"rotate(0, 942.187, 1943.57)\" x=\"942.187\" y=\"1943.57\">2</text>\n",
       "</g>\n",
       "<g clip-path=\"url(#clip3900)\">\n",
       "<text style=\"fill:#000000; fill-opacity:1; font-family:Arial,Helvetica Neue,Helvetica,sans-serif; font-size:48px; text-anchor:middle;\" transform=\"rotate(0, 1160.42, 1943.57)\" x=\"1160.42\" y=\"1943.57\">3</text>\n",
       "</g>\n",
       "<g clip-path=\"url(#clip3900)\">\n",
       "<text style=\"fill:#000000; fill-opacity:1; font-family:Arial,Helvetica Neue,Helvetica,sans-serif; font-size:48px; text-anchor:middle;\" transform=\"rotate(0, 1378.66, 1943.57)\" x=\"1378.66\" y=\"1943.57\">4</text>\n",
       "</g>\n",
       "<g clip-path=\"url(#clip3900)\">\n",
       "<text style=\"fill:#000000; fill-opacity:1; font-family:Arial,Helvetica Neue,Helvetica,sans-serif; font-size:48px; text-anchor:middle;\" transform=\"rotate(0, 1596.9, 1943.57)\" x=\"1596.9\" y=\"1943.57\">5</text>\n",
       "</g>\n",
       "<g clip-path=\"url(#clip3900)\">\n",
       "<text style=\"fill:#000000; fill-opacity:1; font-family:Arial,Helvetica Neue,Helvetica,sans-serif; font-size:48px; text-anchor:middle;\" transform=\"rotate(0, 1815.13, 1943.57)\" x=\"1815.13\" y=\"1943.57\">6</text>\n",
       "</g>\n",
       "<g clip-path=\"url(#clip3900)\">\n",
       "<text style=\"fill:#000000; fill-opacity:1; font-family:Arial,Helvetica Neue,Helvetica,sans-serif; font-size:48px; text-anchor:middle;\" transform=\"rotate(0, 2033.37, 1943.57)\" x=\"2033.37\" y=\"1943.57\">7</text>\n",
       "</g>\n",
       "<g clip-path=\"url(#clip3900)\">\n",
       "<text style=\"fill:#000000; fill-opacity:1; font-family:Arial,Helvetica Neue,Helvetica,sans-serif; font-size:48px; text-anchor:middle;\" transform=\"rotate(0, 2251.61, 1943.57)\" x=\"2251.61\" y=\"1943.57\">8</text>\n",
       "</g>\n",
       "<g clip-path=\"url(#clip3900)\">\n",
       "<text style=\"fill:#000000; fill-opacity:1; font-family:Arial,Helvetica Neue,Helvetica,sans-serif; font-size:48px; text-anchor:middle;\" transform=\"rotate(0, 2469.84, 1943.57)\" x=\"2469.84\" y=\"1943.57\">9</text>\n",
       "</g>\n",
       "<g clip-path=\"url(#clip3900)\">\n",
       "<text style=\"fill:#000000; fill-opacity:1; font-family:Arial,Helvetica Neue,Helvetica,sans-serif; font-size:48px; text-anchor:middle;\" transform=\"rotate(0, 2688.08, 1943.57)\" x=\"2688.08\" y=\"1943.57\">96</text>\n",
       "</g>\n",
       "<g clip-path=\"url(#clip3900)\">\n",
       "<text style=\"fill:#000000; fill-opacity:1; font-family:Arial,Helvetica Neue,Helvetica,sans-serif; font-size:48px; text-anchor:middle;\" transform=\"rotate(0, 2906.31, 1943.57)\" x=\"2906.31\" y=\"1943.57\">192</text>\n",
       "</g>\n",
       "<g clip-path=\"url(#clip3900)\">\n",
       "<text style=\"fill:#000000; fill-opacity:1; font-family:Arial,Helvetica Neue,Helvetica,sans-serif; font-size:48px; text-anchor:end;\" transform=\"rotate(0, 227.272, 1853.05)\" x=\"227.272\" y=\"1853.05\">0</text>\n",
       "</g>\n",
       "<g clip-path=\"url(#clip3900)\">\n",
       "<text style=\"fill:#000000; fill-opacity:1; font-family:Arial,Helvetica Neue,Helvetica,sans-serif; font-size:48px; text-anchor:start;\" transform=\"rotate(0, 97.131, 1441.28)\" x=\"97.131\" y=\"1441.28\">2×10</text>\n",
       "</g>\n",
       "<g clip-path=\"url(#clip3900)\">\n",
       "<text style=\"fill:#000000; fill-opacity:1; font-family:Arial,Helvetica Neue,Helvetica,sans-serif; font-size:38px; text-anchor:start;\" transform=\"rotate(0, 205.528, 1413.87)\" x=\"205.528\" y=\"1413.87\">7</text>\n",
       "</g>\n",
       "<g clip-path=\"url(#clip3900)\">\n",
       "<text style=\"fill:#000000; fill-opacity:1; font-family:Arial,Helvetica Neue,Helvetica,sans-serif; font-size:48px; text-anchor:start;\" transform=\"rotate(0, 97.131, 1023.29)\" x=\"97.131\" y=\"1023.29\">4×10</text>\n",
       "</g>\n",
       "<g clip-path=\"url(#clip3900)\">\n",
       "<text style=\"fill:#000000; fill-opacity:1; font-family:Arial,Helvetica Neue,Helvetica,sans-serif; font-size:38px; text-anchor:start;\" transform=\"rotate(0, 205.528, 995.877)\" x=\"205.528\" y=\"995.877\">7</text>\n",
       "</g>\n",
       "<g clip-path=\"url(#clip3900)\">\n",
       "<text style=\"fill:#000000; fill-opacity:1; font-family:Arial,Helvetica Neue,Helvetica,sans-serif; font-size:48px; text-anchor:start;\" transform=\"rotate(0, 97.131, 605.295)\" x=\"97.131\" y=\"605.295\">6×10</text>\n",
       "</g>\n",
       "<g clip-path=\"url(#clip3900)\">\n",
       "<text style=\"fill:#000000; fill-opacity:1; font-family:Arial,Helvetica Neue,Helvetica,sans-serif; font-size:38px; text-anchor:start;\" transform=\"rotate(0, 205.528, 577.884)\" x=\"205.528\" y=\"577.884\">7</text>\n",
       "</g>\n",
       "<g clip-path=\"url(#clip3900)\">\n",
       "<text style=\"fill:#000000; fill-opacity:1; font-family:Arial,Helvetica Neue,Helvetica,sans-serif; font-size:48px; text-anchor:start;\" transform=\"rotate(0, 97.131, 187.302)\" x=\"97.131\" y=\"187.302\">8×10</text>\n",
       "</g>\n",
       "<g clip-path=\"url(#clip3900)\">\n",
       "<text style=\"fill:#000000; fill-opacity:1; font-family:Arial,Helvetica Neue,Helvetica,sans-serif; font-size:38px; text-anchor:start;\" transform=\"rotate(0, 205.528, 159.891)\" x=\"205.528\" y=\"159.891\">7</text>\n",
       "</g>\n",
       "<g clip-path=\"url(#clip3900)\">\n",
       "<text style=\"fill:#000000; fill-opacity:1; font-family:Arial,Helvetica Neue,Helvetica,sans-serif; font-size:82px; text-anchor:middle;\" transform=\"rotate(0, 1706.01, 72)\" x=\"1706.01\" y=\"72\">Number of Passengers in NYC Yellow Taxis (2018)</text>\n",
       "</g>\n",
       "<polygon clip-path=\"url(#clip3902)\" points=\"\n",
       "418.419,1814.58 418.419,1835.55 593.008,1835.55 593.008,1814.58 418.419,1814.58 418.419,1814.58 \n",
       "  \" fill=\"#009af9\" fill-rule=\"evenodd\" fill-opacity=\"1\"/>\n",
       "<polyline clip-path=\"url(#clip3902)\" style=\"stroke:#000000; stroke-width:4; stroke-opacity:1; fill:none\" points=\"\n",
       "  418.419,1814.58 418.419,1835.55 593.008,1835.55 593.008,1814.58 418.419,1814.58 \n",
       "  \"/>\n",
       "<polygon clip-path=\"url(#clip3902)\" points=\"\n",
       "636.656,168.033 636.656,1835.55 811.245,1835.55 811.245,168.033 636.656,168.033 636.656,168.033 \n",
       "  \" fill=\"#009af9\" fill-rule=\"evenodd\" fill-opacity=\"1\"/>\n",
       "<polyline clip-path=\"url(#clip3902)\" style=\"stroke:#000000; stroke-width:4; stroke-opacity:1; fill:none\" points=\"\n",
       "  636.656,168.033 636.656,1835.55 811.245,1835.55 811.245,168.033 636.656,168.033 \n",
       "  \"/>\n",
       "<polygon clip-path=\"url(#clip3902)\" points=\"\n",
       "854.892,1491.37 854.892,1835.55 1029.48,1835.55 1029.48,1491.37 854.892,1491.37 854.892,1491.37 \n",
       "  \" fill=\"#009af9\" fill-rule=\"evenodd\" fill-opacity=\"1\"/>\n",
       "<polyline clip-path=\"url(#clip3902)\" style=\"stroke:#000000; stroke-width:4; stroke-opacity:1; fill:none\" points=\"\n",
       "  854.892,1491.37 854.892,1835.55 1029.48,1835.55 1029.48,1491.37 854.892,1491.37 \n",
       "  \"/>\n",
       "<polygon clip-path=\"url(#clip3902)\" points=\"\n",
       "1073.13,1737.65 1073.13,1835.55 1247.72,1835.55 1247.72,1737.65 1073.13,1737.65 1073.13,1737.65 \n",
       "  \" fill=\"#009af9\" fill-rule=\"evenodd\" fill-opacity=\"1\"/>\n",
       "<polyline clip-path=\"url(#clip3902)\" style=\"stroke:#000000; stroke-width:4; stroke-opacity:1; fill:none\" points=\"\n",
       "  1073.13,1737.65 1073.13,1835.55 1247.72,1835.55 1247.72,1737.65 1073.13,1737.65 \n",
       "  \"/>\n",
       "<polygon clip-path=\"url(#clip3902)\" points=\"\n",
       "1291.36,1789.37 1291.36,1835.55 1465.95,1835.55 1465.95,1789.37 1291.36,1789.37 1291.36,1789.37 \n",
       "  \" fill=\"#009af9\" fill-rule=\"evenodd\" fill-opacity=\"1\"/>\n",
       "<polyline clip-path=\"url(#clip3902)\" style=\"stroke:#000000; stroke-width:4; stroke-opacity:1; fill:none\" points=\"\n",
       "  1291.36,1789.37 1291.36,1835.55 1465.95,1835.55 1465.95,1789.37 1291.36,1789.37 \n",
       "  \"/>\n",
       "<polygon clip-path=\"url(#clip3902)\" points=\"\n",
       "1509.6,1730.19 1509.6,1835.55 1684.19,1835.55 1684.19,1730.19 1509.6,1730.19 1509.6,1730.19 \n",
       "  \" fill=\"#009af9\" fill-rule=\"evenodd\" fill-opacity=\"1\"/>\n",
       "<polyline clip-path=\"url(#clip3902)\" style=\"stroke:#000000; stroke-width:4; stroke-opacity:1; fill:none\" points=\"\n",
       "  1509.6,1730.19 1509.6,1835.55 1684.19,1835.55 1684.19,1730.19 1509.6,1730.19 \n",
       "  \"/>\n",
       "<polygon clip-path=\"url(#clip3902)\" points=\"\n",
       "1727.84,1771.99 1727.84,1835.55 1902.43,1835.55 1902.43,1771.99 1727.84,1771.99 1727.84,1771.99 \n",
       "  \" fill=\"#009af9\" fill-rule=\"evenodd\" fill-opacity=\"1\"/>\n",
       "<polyline clip-path=\"url(#clip3902)\" style=\"stroke:#000000; stroke-width:4; stroke-opacity:1; fill:none\" points=\"\n",
       "  1727.84,1771.99 1727.84,1835.55 1902.43,1835.55 1902.43,1771.99 1727.84,1771.99 \n",
       "  \"/>\n",
       "<polygon clip-path=\"url(#clip3902)\" points=\"\n",
       "1946.07,1835.54 1946.07,1835.55 2120.66,1835.55 2120.66,1835.54 1946.07,1835.54 1946.07,1835.54 \n",
       "  \" fill=\"#009af9\" fill-rule=\"evenodd\" fill-opacity=\"1\"/>\n",
       "<polyline clip-path=\"url(#clip3902)\" style=\"stroke:#000000; stroke-width:4; stroke-opacity:1; fill:none\" points=\"\n",
       "  1946.07,1835.54 1946.07,1835.55 2120.66,1835.55 2120.66,1835.54 1946.07,1835.54 \n",
       "  \"/>\n",
       "<polygon clip-path=\"url(#clip3902)\" points=\"\n",
       "2164.31,1835.54 2164.31,1835.55 2338.9,1835.55 2338.9,1835.54 2164.31,1835.54 2164.31,1835.54 \n",
       "  \" fill=\"#009af9\" fill-rule=\"evenodd\" fill-opacity=\"1\"/>\n",
       "<polyline clip-path=\"url(#clip3902)\" style=\"stroke:#000000; stroke-width:4; stroke-opacity:1; fill:none\" points=\"\n",
       "  2164.31,1835.54 2164.31,1835.55 2338.9,1835.55 2338.9,1835.54 2164.31,1835.54 \n",
       "  \"/>\n",
       "<polygon clip-path=\"url(#clip3902)\" points=\"\n",
       "2382.55,1835.54 2382.55,1835.55 2557.14,1835.55 2557.14,1835.54 2382.55,1835.54 2382.55,1835.54 \n",
       "  \" fill=\"#009af9\" fill-rule=\"evenodd\" fill-opacity=\"1\"/>\n",
       "<polyline clip-path=\"url(#clip3902)\" style=\"stroke:#000000; stroke-width:4; stroke-opacity:1; fill:none\" points=\"\n",
       "  2382.55,1835.54 2382.55,1835.55 2557.14,1835.55 2557.14,1835.54 2382.55,1835.54 \n",
       "  \"/>\n",
       "<polygon clip-path=\"url(#clip3902)\" points=\"\n",
       "2600.78,1835.55 2600.78,1835.55 2775.37,1835.55 2775.37,1835.55 2600.78,1835.55 2600.78,1835.55 \n",
       "  \" fill=\"#009af9\" fill-rule=\"evenodd\" fill-opacity=\"1\"/>\n",
       "<polyline clip-path=\"url(#clip3902)\" style=\"stroke:#000000; stroke-width:4; stroke-opacity:1; fill:none\" points=\"\n",
       "  2600.78,1835.55 2600.78,1835.55 2775.37,1835.55 2775.37,1835.55 2600.78,1835.55 \n",
       "  \"/>\n",
       "<polygon clip-path=\"url(#clip3902)\" points=\"\n",
       "2819.02,1835.55 2819.02,1835.55 2993.61,1835.55 2993.61,1835.55 2819.02,1835.55 2819.02,1835.55 \n",
       "  \" fill=\"#009af9\" fill-rule=\"evenodd\" fill-opacity=\"1\"/>\n",
       "<polyline clip-path=\"url(#clip3902)\" style=\"stroke:#000000; stroke-width:4; stroke-opacity:1; fill:none\" points=\"\n",
       "  2819.02,1835.55 2819.02,1835.55 2993.61,1835.55 2993.61,1835.55 2819.02,1835.55 \n",
       "  \"/>\n",
       "<polygon clip-path=\"url(#clip3900)\" points=\"\n",
       "2608.34,370.487 3056.76,370.487 3056.76,249.527 2608.34,249.527 \n",
       "  \" fill=\"#ffffff\" fill-rule=\"evenodd\" fill-opacity=\"1\"/>\n",
       "<polyline clip-path=\"url(#clip3900)\" style=\"stroke:#000000; stroke-width:4; stroke-opacity:1; fill:none\" points=\"\n",
       "  2608.34,370.487 3056.76,370.487 3056.76,249.527 2608.34,249.527 2608.34,370.487 \n",
       "  \"/>\n",
       "<polygon clip-path=\"url(#clip3900)\" points=\"\n",
       "2640.34,334.199 2832.34,334.199 2832.34,285.815 2640.34,285.815 2640.34,334.199 \n",
       "  \" fill=\"#009af9\" fill-rule=\"evenodd\" fill-opacity=\"1\"/>\n",
       "<polyline clip-path=\"url(#clip3900)\" style=\"stroke:#000000; stroke-width:4; stroke-opacity:1; fill:none\" points=\"\n",
       "  2640.34,334.199 2832.34,334.199 2832.34,285.815 2640.34,285.815 2640.34,334.199 \n",
       "  \"/>\n",
       "<g clip-path=\"url(#clip3900)\">\n",
       "<text style=\"fill:#000000; fill-opacity:1; font-family:Arial,Helvetica Neue,Helvetica,sans-serif; font-size:48px; text-anchor:start;\" transform=\"rotate(0, 2864.34, 327.507)\" x=\"2864.34\" y=\"327.507\">Count</text>\n",
       "</g>\n",
       "</svg>\n"
      ]
     },
     "execution_count": 23,
     "metadata": {},
     "output_type": "execute_result"
    }
   ],
   "source": [
    "using Plots, OnlineStats, CSV, Parsers\n",
    "\n",
    "o = CountMap(Int)\n",
    "\n",
    "path = \"/Users/joday/datasets/2018_Yellow_Taxi_Trip_data.csv\"\n",
    "\n",
    "@time for row in CSV.Rows(path; reusebuffer=true)\n",
    "    fit!(o, Parsers.parse(Int, row.passenger_count))\n",
    "end\n",
    "\n",
    "sort!(o.value)\n",
    "plot(o, title=\"Number of Passengers in NYC Yellow Taxis (2018)\")"
   ]
  },
  {
   "cell_type": "markdown",
   "metadata": {},
   "source": [
    "# What's new?"
   ]
  },
  {
   "cell_type": "markdown",
   "metadata": {},
   "source": [
    "## Missing"
   ]
  },
  {
   "cell_type": "code",
   "execution_count": 24,
   "metadata": {},
   "outputs": [
    {
     "data": {
      "text/plain": [
       "missing"
      ]
     },
     "execution_count": 24,
     "metadata": {},
     "output_type": "execute_result"
    }
   ],
   "source": [
    "missing"
   ]
  },
  {
   "cell_type": "code",
   "execution_count": 25,
   "metadata": {},
   "outputs": [
    {
     "data": {
      "text/plain": [
       "missing"
      ]
     },
     "execution_count": 25,
     "metadata": {},
     "output_type": "execute_result"
    }
   ],
   "source": [
    "sum([1, missing, 3])"
   ]
  },
  {
   "cell_type": "code",
   "execution_count": 26,
   "metadata": {},
   "outputs": [
    {
     "data": {
      "text/plain": [
       "4"
      ]
     },
     "execution_count": 26,
     "metadata": {},
     "output_type": "execute_result"
    }
   ],
   "source": [
    "sum(skipmissing([1, missing, 3]))"
   ]
  },
  {
   "cell_type": "markdown",
   "metadata": {},
   "source": [
    "## Package Manager, `Pkg`\n",
    "\n",
    "Based on two files: \n",
    "\n",
    "1. `Project.toml` - List of dependencies\n",
    "2. `Manifest.toml` - List of exact package versions installed\n",
    "\n",
    "Replicate an environment exactly by simply sharing your `Manifest.toml` file"
   ]
  },
  {
   "cell_type": "code",
   "execution_count": 27,
   "metadata": {},
   "outputs": [
    {
     "name": "stdout",
     "output_type": "stream",
     "text": [
      "\u001b[32m\u001b[1m    Status\u001b[22m\u001b[39m `~/.julia/environments/v1.2/Project.toml`\n",
      " \u001b[90m [77b51b56]\u001b[39m\u001b[37m AverageShiftedHistograms v0.8.1\u001b[39m\n",
      " \u001b[90m [6e4b80f9]\u001b[39m\u001b[37m BenchmarkTools v0.4.2\u001b[39m\n",
      " \u001b[90m [336ed68f]\u001b[39m\u001b[37m CSV v0.5.11\u001b[39m\n",
      " \u001b[90m [a93c6f00]\u001b[39m\u001b[37m DataFrames v0.19.3\u001b[39m\n",
      " \u001b[90m [31c24e10]\u001b[39m\u001b[37m Distributions v0.21.1\u001b[39m\n",
      " \u001b[90m [587475ba]\u001b[39m\u001b[37m Flux v0.9.0\u001b[39m\n",
      " \u001b[90m [bd48cda9]\u001b[39m\u001b[37m GraphRecipes v0.4.0\u001b[39m\n",
      " \u001b[90m [7073ff75]\u001b[39m\u001b[37m IJulia v1.20.0\u001b[39m\n",
      " \u001b[90m [6deec6e2]\u001b[39m\u001b[37m IndexedTables v0.12.2\u001b[39m\n",
      " \u001b[90m [c601a237]\u001b[39m\u001b[37m Interact v0.10.3\u001b[39m\n",
      " \u001b[90m [d3863d7c]\u001b[39m\u001b[37m InteractBase v0.10.3\u001b[39m\n",
      " \u001b[90m [a93385a2]\u001b[39m\u001b[37m JuliaDB v0.12.0\u001b[39m\n",
      " \u001b[90m [30fc2ffe]\u001b[39m\u001b[37m LossFunctions v0.5.1+ [`~/.julia/dev/LossFunctions`]\u001b[39m\n",
      " \u001b[90m [add582a8]\u001b[39m\u001b[37m MLJ v0.2.3\u001b[39m\n",
      " \u001b[90m [a15396b6]\u001b[39m\u001b[37m OnlineStats v0.23.0\u001b[39m\n",
      " \u001b[90m [925886fa]\u001b[39m\u001b[37m OnlineStatsBase v0.10.2\u001b[39m\n",
      " \u001b[90m [bac558e1]\u001b[39m\u001b[37m OrderedCollections v1.1.0\u001b[39m\n",
      " \u001b[90m [69de0a69]\u001b[39m\u001b[37m Parsers v0.3.7\u001b[39m\n",
      " \u001b[90m [91a5bcdd]\u001b[39m\u001b[37m Plots v0.26.2\u001b[39m\n",
      " \u001b[90m [92933f4c]\u001b[39m\u001b[37m ProgressMeter v1.0.0\u001b[39m\n",
      " \u001b[90m [438e738f]\u001b[39m\u001b[37m PyCall v1.91.2\u001b[39m\n",
      " \u001b[90m [6f49c342]\u001b[39m\u001b[37m RCall v0.13.4\u001b[39m\n",
      " \u001b[90m [3cdcf5f2]\u001b[39m\u001b[37m RecipesBase v0.7.0\u001b[39m\n",
      " \u001b[90m [2913bbd2]\u001b[39m\u001b[37m StatsBase v0.32.0\u001b[39m\n",
      " \u001b[90m [f3b207a7]\u001b[39m\u001b[37m StatsPlots v0.10.2\u001b[39m\n",
      " \u001b[90m [0f1e0344]\u001b[39m\u001b[37m WebIO v0.8.11\u001b[39m\n",
      " \u001b[90m [e88e6eb3]\u001b[39m\u001b[37m Zygote v0.3.4\u001b[39m\n"
     ]
    }
   ],
   "source": [
    "using Pkg\n",
    "\n",
    "Pkg.status()"
   ]
  },
  {
   "cell_type": "markdown",
   "metadata": {},
   "source": [
    "# Named Tuples"
   ]
  },
  {
   "cell_type": "code",
   "execution_count": 28,
   "metadata": {},
   "outputs": [
    {
     "data": {
      "text/plain": [
       "(x = 1,\n",
       " y = 2,)"
      ]
     },
     "execution_count": 28,
     "metadata": {},
     "output_type": "execute_result"
    }
   ],
   "source": [
    "(x=1, y=2)"
   ]
  },
  {
   "cell_type": "markdown",
   "metadata": {},
   "source": [
    "# Generators\n",
    "\n",
    "- Lazily map a function/filter to a collection"
   ]
  },
  {
   "cell_type": "code",
   "execution_count": 29,
   "metadata": {},
   "outputs": [
    {
     "data": {
      "text/plain": [
       "0.9998229684236556"
      ]
     },
     "execution_count": 29,
     "metadata": {},
     "output_type": "execute_result"
    }
   ],
   "source": [
    "x = randn(10^7)\n",
    "\n",
    "g = (xi^2 for xi in x if xi > 0)\n",
    "\n",
    "mean(g)"
   ]
  },
  {
   "cell_type": "markdown",
   "metadata": {},
   "source": [
    "# Composable (parallel tasks that call other parallel tasks) Multi-threading!\n",
    "\n",
    "- Partially supported in 1.2.  Full support coming in 1.3!\n",
    "\n",
    "https://julialang.org/blog/2019/07/multithreading"
   ]
  },
  {
   "cell_type": "code",
   "execution_count": 37,
   "metadata": {},
   "outputs": [
    {
     "name": "stdout",
     "output_type": "stream",
     "text": [
      "i = 1 on thread 1\n",
      "i = 2 on thread 1\n",
      "i = 3 on thread 1\n",
      "i = 4 on thread 1\n",
      "i = 5 on thread 1\n",
      "i = 6 on thread 1\n",
      "i = 7 on thread 1\n",
      "i = 8 on thread 1\n",
      "i = 9 on thread 1\n",
      "i = 10 on thread 1\n"
     ]
    }
   ],
   "source": [
    "# Jupyter isn't picking up my JULIA_NUM_THREADS environmental variable for some reason\n",
    "\n",
    "Threads.@threads for i = 1:10\n",
    "    println(\"i = $i on thread $(Threads.threadid())\")\n",
    "end"
   ]
  },
  {
   "cell_type": "markdown",
   "metadata": {},
   "source": [
    "# Distributed Parallelism"
   ]
  },
  {
   "cell_type": "code",
   "execution_count": 46,
   "metadata": {},
   "outputs": [
    {
     "data": {
      "image/svg+xml": [
       "<?xml version=\"1.0\" encoding=\"utf-8\"?>\n",
       "<svg xmlns=\"http://www.w3.org/2000/svg\" xmlns:xlink=\"http://www.w3.org/1999/xlink\" width=\"800\" height=\"500\" viewBox=\"0 0 3200 2000\">\n",
       "<defs>\n",
       "  <clipPath id=\"clip7700\">\n",
       "    <rect x=\"0\" y=\"0\" width=\"3200\" height=\"2000\"/>\n",
       "  </clipPath>\n",
       "</defs>\n",
       "<polygon clip-path=\"url(#clip7700)\" points=\"\n",
       "0,2000 3200,2000 3200,0 0,0 \n",
       "  \" fill=\"#ffffff\" fill-rule=\"evenodd\" fill-opacity=\"1\"/>\n",
       "<defs>\n",
       "  <clipPath id=\"clip7701\">\n",
       "    <rect x=\"640\" y=\"0\" width=\"2241\" height=\"2000\"/>\n",
       "  </clipPath>\n",
       "</defs>\n",
       "<polygon clip-path=\"url(#clip7700)\" points=\"\n",
       "161.898,1885.57 3152.76,1885.57 3152.76,47.2441 161.898,47.2441 \n",
       "  \" fill=\"#ffffff\" fill-rule=\"evenodd\" fill-opacity=\"1\"/>\n",
       "<defs>\n",
       "  <clipPath id=\"clip7702\">\n",
       "    <rect x=\"161\" y=\"47\" width=\"2992\" height=\"1839\"/>\n",
       "  </clipPath>\n",
       "</defs>\n",
       "<polyline clip-path=\"url(#clip7702)\" style=\"stroke:#000000; stroke-width:2; stroke-opacity:0.1; fill:none\" points=\"\n",
       "  564.127,1885.57 564.127,47.2441 \n",
       "  \"/>\n",
       "<polyline clip-path=\"url(#clip7702)\" style=\"stroke:#000000; stroke-width:2; stroke-opacity:0.1; fill:none\" points=\"\n",
       "  1105.17,1885.57 1105.17,47.2441 \n",
       "  \"/>\n",
       "<polyline clip-path=\"url(#clip7702)\" style=\"stroke:#000000; stroke-width:2; stroke-opacity:0.1; fill:none\" points=\"\n",
       "  1646.21,1885.57 1646.21,47.2441 \n",
       "  \"/>\n",
       "<polyline clip-path=\"url(#clip7702)\" style=\"stroke:#000000; stroke-width:2; stroke-opacity:0.1; fill:none\" points=\"\n",
       "  2187.25,1885.57 2187.25,47.2441 \n",
       "  \"/>\n",
       "<polyline clip-path=\"url(#clip7702)\" style=\"stroke:#000000; stroke-width:2; stroke-opacity:0.1; fill:none\" points=\"\n",
       "  2728.29,1885.57 2728.29,47.2441 \n",
       "  \"/>\n",
       "<polyline clip-path=\"url(#clip7702)\" style=\"stroke:#000000; stroke-width:2; stroke-opacity:0.1; fill:none\" points=\"\n",
       "  161.898,1833.54 3152.76,1833.54 \n",
       "  \"/>\n",
       "<polyline clip-path=\"url(#clip7702)\" style=\"stroke:#000000; stroke-width:2; stroke-opacity:0.1; fill:none\" points=\"\n",
       "  161.898,1460.39 3152.76,1460.39 \n",
       "  \"/>\n",
       "<polyline clip-path=\"url(#clip7702)\" style=\"stroke:#000000; stroke-width:2; stroke-opacity:0.1; fill:none\" points=\"\n",
       "  161.898,1087.23 3152.76,1087.23 \n",
       "  \"/>\n",
       "<polyline clip-path=\"url(#clip7702)\" style=\"stroke:#000000; stroke-width:2; stroke-opacity:0.1; fill:none\" points=\"\n",
       "  161.898,714.075 3152.76,714.075 \n",
       "  \"/>\n",
       "<polyline clip-path=\"url(#clip7702)\" style=\"stroke:#000000; stroke-width:2; stroke-opacity:0.1; fill:none\" points=\"\n",
       "  161.898,340.919 3152.76,340.919 \n",
       "  \"/>\n",
       "<polyline clip-path=\"url(#clip7700)\" style=\"stroke:#000000; stroke-width:4; stroke-opacity:1; fill:none\" points=\"\n",
       "  161.898,1885.57 3152.76,1885.57 \n",
       "  \"/>\n",
       "<polyline clip-path=\"url(#clip7700)\" style=\"stroke:#000000; stroke-width:4; stroke-opacity:1; fill:none\" points=\"\n",
       "  161.898,1885.57 161.898,47.2441 \n",
       "  \"/>\n",
       "<polyline clip-path=\"url(#clip7700)\" style=\"stroke:#000000; stroke-width:4; stroke-opacity:1; fill:none\" points=\"\n",
       "  564.127,1885.57 564.127,1858 \n",
       "  \"/>\n",
       "<polyline clip-path=\"url(#clip7700)\" style=\"stroke:#000000; stroke-width:4; stroke-opacity:1; fill:none\" points=\"\n",
       "  1105.17,1885.57 1105.17,1858 \n",
       "  \"/>\n",
       "<polyline clip-path=\"url(#clip7700)\" style=\"stroke:#000000; stroke-width:4; stroke-opacity:1; fill:none\" points=\"\n",
       "  1646.21,1885.57 1646.21,1858 \n",
       "  \"/>\n",
       "<polyline clip-path=\"url(#clip7700)\" style=\"stroke:#000000; stroke-width:4; stroke-opacity:1; fill:none\" points=\"\n",
       "  2187.25,1885.57 2187.25,1858 \n",
       "  \"/>\n",
       "<polyline clip-path=\"url(#clip7700)\" style=\"stroke:#000000; stroke-width:4; stroke-opacity:1; fill:none\" points=\"\n",
       "  2728.29,1885.57 2728.29,1858 \n",
       "  \"/>\n",
       "<polyline clip-path=\"url(#clip7700)\" style=\"stroke:#000000; stroke-width:4; stroke-opacity:1; fill:none\" points=\"\n",
       "  161.898,1833.54 206.761,1833.54 \n",
       "  \"/>\n",
       "<polyline clip-path=\"url(#clip7700)\" style=\"stroke:#000000; stroke-width:4; stroke-opacity:1; fill:none\" points=\"\n",
       "  161.898,1460.39 206.761,1460.39 \n",
       "  \"/>\n",
       "<polyline clip-path=\"url(#clip7700)\" style=\"stroke:#000000; stroke-width:4; stroke-opacity:1; fill:none\" points=\"\n",
       "  161.898,1087.23 206.761,1087.23 \n",
       "  \"/>\n",
       "<polyline clip-path=\"url(#clip7700)\" style=\"stroke:#000000; stroke-width:4; stroke-opacity:1; fill:none\" points=\"\n",
       "  161.898,714.075 206.761,714.075 \n",
       "  \"/>\n",
       "<polyline clip-path=\"url(#clip7700)\" style=\"stroke:#000000; stroke-width:4; stroke-opacity:1; fill:none\" points=\"\n",
       "  161.898,340.919 206.761,340.919 \n",
       "  \"/>\n",
       "<g clip-path=\"url(#clip7700)\">\n",
       "<text style=\"fill:#000000; fill-opacity:1; font-family:Arial,Helvetica Neue,Helvetica,sans-serif; font-size:48px; text-anchor:middle;\" transform=\"rotate(0, 564.127, 1943.57)\" x=\"564.127\" y=\"1943.57\">-4</text>\n",
       "</g>\n",
       "<g clip-path=\"url(#clip7700)\">\n",
       "<text style=\"fill:#000000; fill-opacity:1; font-family:Arial,Helvetica Neue,Helvetica,sans-serif; font-size:48px; text-anchor:middle;\" transform=\"rotate(0, 1105.17, 1943.57)\" x=\"1105.17\" y=\"1943.57\">-2</text>\n",
       "</g>\n",
       "<g clip-path=\"url(#clip7700)\">\n",
       "<text style=\"fill:#000000; fill-opacity:1; font-family:Arial,Helvetica Neue,Helvetica,sans-serif; font-size:48px; text-anchor:middle;\" transform=\"rotate(0, 1646.21, 1943.57)\" x=\"1646.21\" y=\"1943.57\">0</text>\n",
       "</g>\n",
       "<g clip-path=\"url(#clip7700)\">\n",
       "<text style=\"fill:#000000; fill-opacity:1; font-family:Arial,Helvetica Neue,Helvetica,sans-serif; font-size:48px; text-anchor:middle;\" transform=\"rotate(0, 2187.25, 1943.57)\" x=\"2187.25\" y=\"1943.57\">2</text>\n",
       "</g>\n",
       "<g clip-path=\"url(#clip7700)\">\n",
       "<text style=\"fill:#000000; fill-opacity:1; font-family:Arial,Helvetica Neue,Helvetica,sans-serif; font-size:48px; text-anchor:middle;\" transform=\"rotate(0, 2728.29, 1943.57)\" x=\"2728.29\" y=\"1943.57\">4</text>\n",
       "</g>\n",
       "<g clip-path=\"url(#clip7700)\">\n",
       "<text style=\"fill:#000000; fill-opacity:1; font-family:Arial,Helvetica Neue,Helvetica,sans-serif; font-size:48px; text-anchor:end;\" transform=\"rotate(0, 129.898, 1851.04)\" x=\"129.898\" y=\"1851.04\">0.0</text>\n",
       "</g>\n",
       "<g clip-path=\"url(#clip7700)\">\n",
       "<text style=\"fill:#000000; fill-opacity:1; font-family:Arial,Helvetica Neue,Helvetica,sans-serif; font-size:48px; text-anchor:end;\" transform=\"rotate(0, 129.898, 1477.89)\" x=\"129.898\" y=\"1477.89\">0.1</text>\n",
       "</g>\n",
       "<g clip-path=\"url(#clip7700)\">\n",
       "<text style=\"fill:#000000; fill-opacity:1; font-family:Arial,Helvetica Neue,Helvetica,sans-serif; font-size:48px; text-anchor:end;\" transform=\"rotate(0, 129.898, 1104.73)\" x=\"129.898\" y=\"1104.73\">0.2</text>\n",
       "</g>\n",
       "<g clip-path=\"url(#clip7700)\">\n",
       "<text style=\"fill:#000000; fill-opacity:1; font-family:Arial,Helvetica Neue,Helvetica,sans-serif; font-size:48px; text-anchor:end;\" transform=\"rotate(0, 129.898, 731.575)\" x=\"129.898\" y=\"731.575\">0.3</text>\n",
       "</g>\n",
       "<g clip-path=\"url(#clip7700)\">\n",
       "<text style=\"fill:#000000; fill-opacity:1; font-family:Arial,Helvetica Neue,Helvetica,sans-serif; font-size:48px; text-anchor:end;\" transform=\"rotate(0, 129.898, 358.419)\" x=\"129.898\" y=\"358.419\">0.4</text>\n",
       "</g>\n",
       "<polyline clip-path=\"url(#clip7702)\" style=\"stroke:#009af9; stroke-width:12; stroke-opacity:0.5; fill:none\" points=\"\n",
       "  246.545,1833.54 246.545,1833.54 \n",
       "  \"/>\n",
       "<polyline clip-path=\"url(#clip7702)\" style=\"stroke:#009af9; stroke-width:12; stroke-opacity:0.5; fill:none\" points=\"\n",
       "  275.364,1833.54 275.364,1833.53 \n",
       "  \"/>\n",
       "<polyline clip-path=\"url(#clip7702)\" style=\"stroke:#009af9; stroke-width:12; stroke-opacity:0.5; fill:none\" points=\"\n",
       "  468.839,1833.54 468.839,1833.36 \n",
       "  \"/>\n",
       "<polyline clip-path=\"url(#clip7702)\" style=\"stroke:#009af9; stroke-width:12; stroke-opacity:0.5; fill:none\" points=\"\n",
       "  577.931,1833.54 577.931,1832.93 \n",
       "  \"/>\n",
       "<polyline clip-path=\"url(#clip7702)\" style=\"stroke:#009af9; stroke-width:12; stroke-opacity:0.5; fill:none\" points=\"\n",
       "  673.55,1833.54 673.55,1831.23 \n",
       "  \"/>\n",
       "<polyline clip-path=\"url(#clip7702)\" style=\"stroke:#009af9; stroke-width:12; stroke-opacity:0.5; fill:none\" points=\"\n",
       "  762.393,1833.54 762.393,1826.41 \n",
       "  \"/>\n",
       "<polyline clip-path=\"url(#clip7702)\" style=\"stroke:#009af9; stroke-width:12; stroke-opacity:0.5; fill:none\" points=\"\n",
       "  857.41,1833.54 857.41,1812.5 \n",
       "  \"/>\n",
       "<polyline clip-path=\"url(#clip7702)\" style=\"stroke:#009af9; stroke-width:12; stroke-opacity:0.5; fill:none\" points=\"\n",
       "  969.146,1833.54 969.146,1745.75 \n",
       "  \"/>\n",
       "<polyline clip-path=\"url(#clip7702)\" style=\"stroke:#009af9; stroke-width:12; stroke-opacity:0.5; fill:none\" points=\"\n",
       "  1084.71,1833.54 1084.71,1609.54 \n",
       "  \"/>\n",
       "<polyline clip-path=\"url(#clip7702)\" style=\"stroke:#009af9; stroke-width:12; stroke-opacity:0.5; fill:none\" points=\"\n",
       "  1199.57,1833.54 1199.57,1327.67 \n",
       "  \"/>\n",
       "<polyline clip-path=\"url(#clip7702)\" style=\"stroke:#009af9; stroke-width:12; stroke-opacity:0.5; fill:none\" points=\"\n",
       "  1295.88,1833.54 1295.88,1192.64 \n",
       "  \"/>\n",
       "<polyline clip-path=\"url(#clip7702)\" style=\"stroke:#009af9; stroke-width:12; stroke-opacity:0.5; fill:none\" points=\"\n",
       "  1383.3,1833.54 1383.3,853.383 \n",
       "  \"/>\n",
       "<polyline clip-path=\"url(#clip7702)\" style=\"stroke:#009af9; stroke-width:12; stroke-opacity:0.5; fill:none\" points=\"\n",
       "  1467.8,1833.54 1467.8,744.747 \n",
       "  \"/>\n",
       "<polyline clip-path=\"url(#clip7702)\" style=\"stroke:#009af9; stroke-width:12; stroke-opacity:0.5; fill:none\" points=\"\n",
       "  1545.44,1833.54 1545.44,572.505 \n",
       "  \"/>\n",
       "<polyline clip-path=\"url(#clip7702)\" style=\"stroke:#009af9; stroke-width:12; stroke-opacity:0.5; fill:none\" points=\"\n",
       "  1624.8,1833.54 1624.8,398.672 \n",
       "  \"/>\n",
       "<polyline clip-path=\"url(#clip7702)\" style=\"stroke:#009af9; stroke-width:12; stroke-opacity:0.5; fill:none\" points=\"\n",
       "  1715.1,1833.54 1715.1,99.2722 \n",
       "  \"/>\n",
       "<polyline clip-path=\"url(#clip7702)\" style=\"stroke:#009af9; stroke-width:12; stroke-opacity:0.5; fill:none\" points=\"\n",
       "  1806.55,1833.54 1806.55,683.795 \n",
       "  \"/>\n",
       "<polyline clip-path=\"url(#clip7702)\" style=\"stroke:#009af9; stroke-width:12; stroke-opacity:0.5; fill:none\" points=\"\n",
       "  1884.81,1833.54 1884.81,931.528 \n",
       "  \"/>\n",
       "<polyline clip-path=\"url(#clip7702)\" style=\"stroke:#009af9; stroke-width:12; stroke-opacity:0.5; fill:none\" points=\"\n",
       "  1962.82,1833.54 1962.82,1146.87 \n",
       "  \"/>\n",
       "<polyline clip-path=\"url(#clip7702)\" style=\"stroke:#009af9; stroke-width:12; stroke-opacity:0.5; fill:none\" points=\"\n",
       "  2039.51,1833.54 2039.51,1370.69 \n",
       "  \"/>\n",
       "<polyline clip-path=\"url(#clip7702)\" style=\"stroke:#009af9; stroke-width:12; stroke-opacity:0.5; fill:none\" points=\"\n",
       "  2117.22,1833.54 2117.22,1524.39 \n",
       "  \"/>\n",
       "<polyline clip-path=\"url(#clip7702)\" style=\"stroke:#009af9; stroke-width:12; stroke-opacity:0.5; fill:none\" points=\"\n",
       "  2197.08,1833.54 2197.08,1663.66 \n",
       "  \"/>\n",
       "<polyline clip-path=\"url(#clip7702)\" style=\"stroke:#009af9; stroke-width:12; stroke-opacity:0.5; fill:none\" points=\"\n",
       "  2275.6,1833.54 2275.6,1745.98 \n",
       "  \"/>\n",
       "<polyline clip-path=\"url(#clip7702)\" style=\"stroke:#009af9; stroke-width:12; stroke-opacity:0.5; fill:none\" points=\"\n",
       "  2352.02,1833.54 2352.02,1790.74 \n",
       "  \"/>\n",
       "<polyline clip-path=\"url(#clip7702)\" style=\"stroke:#009af9; stroke-width:12; stroke-opacity:0.5; fill:none\" points=\"\n",
       "  2430.32,1833.54 2430.32,1813.42 \n",
       "  \"/>\n",
       "<polyline clip-path=\"url(#clip7702)\" style=\"stroke:#009af9; stroke-width:12; stroke-opacity:0.5; fill:none\" points=\"\n",
       "  2511.46,1833.54 2511.46,1825.26 \n",
       "  \"/>\n",
       "<polyline clip-path=\"url(#clip7702)\" style=\"stroke:#009af9; stroke-width:12; stroke-opacity:0.5; fill:none\" points=\"\n",
       "  2596.06,1833.54 2596.06,1830.53 \n",
       "  \"/>\n",
       "<polyline clip-path=\"url(#clip7702)\" style=\"stroke:#009af9; stroke-width:12; stroke-opacity:0.5; fill:none\" points=\"\n",
       "  2672.38,1833.54 2672.38,1832.83 \n",
       "  \"/>\n",
       "<polyline clip-path=\"url(#clip7702)\" style=\"stroke:#009af9; stroke-width:12; stroke-opacity:0.5; fill:none\" points=\"\n",
       "  2737.25,1833.54 2737.25,1833.17 \n",
       "  \"/>\n",
       "<polyline clip-path=\"url(#clip7702)\" style=\"stroke:#009af9; stroke-width:12; stroke-opacity:0.5; fill:none\" points=\"\n",
       "  2854.31,1833.54 2854.31,1833.44 \n",
       "  \"/>\n",
       "<polyline clip-path=\"url(#clip7702)\" style=\"stroke:#009af9; stroke-width:12; stroke-opacity:0.5; fill:none\" points=\"\n",
       "  3068.11,1833.54 3068.11,1833.54 \n",
       "  \"/>\n",
       "<polygon clip-path=\"url(#clip7700)\" points=\"\n",
       "2685.93,299.724 3056.76,299.724 3056.76,178.764 2685.93,178.764 \n",
       "  \" fill=\"#ffffff\" fill-rule=\"evenodd\" fill-opacity=\"1\"/>\n",
       "<polyline clip-path=\"url(#clip7700)\" style=\"stroke:#000000; stroke-width:4; stroke-opacity:1; fill:none\" points=\"\n",
       "  2685.93,299.724 3056.76,299.724 3056.76,178.764 2685.93,178.764 2685.93,299.724 \n",
       "  \"/>\n",
       "<polyline clip-path=\"url(#clip7700)\" style=\"stroke:#009af9; stroke-width:12; stroke-opacity:0.5; fill:none\" points=\"\n",
       "  2717.93,239.244 2909.93,239.244 \n",
       "  \"/>\n",
       "<g clip-path=\"url(#clip7700)\">\n",
       "<text style=\"fill:#000000; fill-opacity:1; font-family:Arial,Helvetica Neue,Helvetica,sans-serif; font-size:48px; text-anchor:start;\" transform=\"rotate(0, 2941.93, 256.744)\" x=\"2941.93\" y=\"256.744\">y1</text>\n",
       "</g>\n",
       "</svg>\n"
      ]
     },
     "execution_count": 46,
     "metadata": {},
     "output_type": "execute_result"
    }
   ],
   "source": [
    "using Distributed\n",
    "addprocs(3)\n",
    "@everywhere using OnlineStats\n",
    "\n",
    "o = @distributed merge for i in 1:3\n",
    "    s = fit!(KHist(30), randn(10^6))\n",
    "end\n",
    "\n",
    "plot(o, seriestype=sticks, lw=3)"
   ]
  }
 ],
 "metadata": {
  "@webio": {
   "lastCommId": "90eefa2d63be452e9ec89ade81555e40",
   "lastKernelId": "49604135-6715-46b9-919c-24be4b93e658"
  },
  "extensions": {
   "jupyter_dashboards": {
    "activeView": "report_default",
    "version": 1,
    "views": {
     "grid_default": {
      "name": "grid",
      "type": "grid"
     },
     "report_default": {
      "name": "report",
      "type": "report"
     }
    }
   }
  },
  "kernelspec": {
   "display_name": "Julia 1.2.0",
   "language": "julia",
   "name": "julia-1.2"
  },
  "language_info": {
   "file_extension": ".jl",
   "mimetype": "application/julia",
   "name": "julia",
   "version": "1.2.0"
  }
 },
 "nbformat": 4,
 "nbformat_minor": 2
}
