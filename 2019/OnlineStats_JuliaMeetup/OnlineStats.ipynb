{
 "cells": [
  {
   "cell_type": "markdown",
   "metadata": {},
   "source": [
    "# Julia Hype + OnlineStats.jl\n",
    "\n",
    "<img width=\"200px\" src=\"https://upload.wikimedia.org/wikipedia/commons/thumb/6/69/Julia_prog_language.svg/1280px-Julia_prog_language.svg.png\">\n",
    "\n",
    "<img src=\"https://user-images.githubusercontent.com/8075494/46229806-d55a9800-c334-11e8-8616-e4e27e58d66d.gif\" width=500>"
   ]
  },
  {
   "cell_type": "markdown",
   "metadata": {},
   "source": [
    "---\n",
    "\n",
    "# First: Why do I think Julia is great?\n",
    "\n",
    "### [Sapir-Worf Hypothesis](https://en.wikipedia.org/wiki/Linguistic_relativity)\n",
    "\n",
    "- Your language influences/determines how you think\n",
    "- How you solve problems is influenced by your tools\n",
    "    - e.g. avoid loops in R/Python\n",
    "\n",
    "**I claim: Julia is less restrictive in how you solve problems**\n",
    "\n",
    "<div class=\"alert alert-info\">\n",
    "<b>NOTE:</b> However, I highly encourage approaching problems with multiple dispatch in mind.\n",
    "</div>\n",
    "\n",
    "### Multiple Dispatch Via Example\n",
    "\n",
    "Newton's method for finding the root of a function, i.e. where $f(\\theta) = 0$:\n",
    "\n",
    "$$\n",
    "\\theta_{t+1} = \\theta_t - \\frac{F(\\theta_t)}{F'(\\theta_t)}\n",
    "$$\n",
    "\n",
    "Suppose I want to use Newton's method to find the quantiles of various probability distributions.\n",
    "- I to find $\\theta$ such that $F(\\theta) = q$ for cumulative distribution function $F$ and quantile $0<q<1$.\n",
    "- We need:\n",
    "    1. A way to initialize the estimate: `mean`\n",
    "    2. A way to evaluate the cumulative distribution function: `cdf`\n",
    "    3. A way to evaluate the derivative (probability density function): `pdf`"
   ]
  },
  {
   "cell_type": "code",
   "execution_count": 1,
   "metadata": {},
   "outputs": [
    {
     "data": {
      "text/plain": [
       "my_quantile (generic function with 1 method)"
      ]
     },
     "execution_count": 1,
     "metadata": {},
     "output_type": "execute_result"
    }
   ],
   "source": [
    "using Distributions\n",
    "\n",
    "function my_quantile(d, q)\n",
    "    θ = mean(d)\n",
    "    for i in 1:20\n",
    "        θ -= (cdf(d, θ) - q) / pdf(d, θ)\n",
    "    end\n",
    "    θ\n",
    "end"
   ]
  },
  {
   "cell_type": "markdown",
   "metadata": {},
   "source": [
    "<div class=\"alert alert-info\">\n",
    "<b>NOTE:</b> In R/Python, I would need to write a new function for each distribution!\n",
    "</div>"
   ]
  },
  {
   "cell_type": "code",
   "execution_count": 2,
   "metadata": {
    "scrolled": false
   },
   "outputs": [
    {
     "data": {
      "text/html": [
       "<script>\n",
       "// Immediately-invoked-function-expression to avoid global variables.\n",
       "(function() {\n",
       "    var warning_div = document.getElementById(\"webio-warning-12514857069910272675\");\n",
       "    var hide = function () {\n",
       "        var script = document.getElementById(\"webio-setup-6344909452176425857\");\n",
       "        var parent = script && script.parentElement;\n",
       "        var grandparent = parent && parent.parentElement;\n",
       "        if (grandparent) {\n",
       "            grandparent.style.display = \"none\";\n",
       "        }\n",
       "        warning_div.style.display = \"none\";\n",
       "    };\n",
       "    if (typeof Jupyter !== \"undefined\") {\n",
       "        console.log(\"WebIO detected Jupyter notebook environment.\");\n",
       "        // Jupyter notebook.\n",
       "        var extensions = (\n",
       "            Jupyter\n",
       "            && Jupyter.notebook.config.data\n",
       "            && Jupyter.notebook.config.data.load_extensions\n",
       "        );\n",
       "        if (extensions && extensions[\"webio-jupyter-notebook\"]) {\n",
       "            // Extension already loaded.\n",
       "            console.log(\"Jupyter WebIO nbextension detected; not loading ad-hoc.\");\n",
       "            hide();\n",
       "            return;\n",
       "        }\n",
       "    } else if (window.location.pathname.includes(\"/lab\")) {\n",
       "        // Guessing JupyterLa\n",
       "        console.log(\"Jupyter Lab detected; make sure the @webio/jupyter-lab-provider labextension is installed.\");\n",
       "        hide();\n",
       "        return;\n",
       "    }\n",
       "})();\n",
       "\n",
       "</script>\n",
       "<p\n",
       "    id=\"webio-warning-12514857069910272675\"\n",
       "    class=\"output_text output_stderr\"\n",
       "    style=\"padding: 1em; font-weight: bold;\"\n",
       ">\n",
       "    Unable to load WebIO. Please make sure WebIO works for your Jupyter client.\n",
       "    For troubleshooting, please see <a href=\"https://juliagizmos.github.io/WebIO.jl/latest/providers/ijulia/\">\n",
       "    the WebIO/IJulia documentation</a>.\n",
       "    <!-- TODO: link to installation docs. -->\n",
       "</p>\n"
      ],
      "text/plain": [
       "HTML{String}(\"<script>\\n// Immediately-invoked-function-expression to avoid global variables.\\n(function() {\\n    var warning_div = document.getElementById(\\\"webio-warning-12514857069910272675\\\");\\n    var hide = function () {\\n        var script = document.getElementById(\\\"webio-setup-6344909452176425857\\\");\\n        var parent = script && script.parentElement;\\n        var grandparent = parent && parent.parentElement;\\n        if (grandparent) {\\n            grandparent.style.display = \\\"none\\\";\\n        }\\n        warning_div.style.display = \\\"none\\\";\\n    };\\n    if (typeof Jupyter !== \\\"undefined\\\") {\\n        console.log(\\\"WebIO detected Jupyter notebook environment.\\\");\\n        // Jupyter notebook.\\n        var extensions = (\\n            Jupyter\\n            && Jupyter.notebook.config.data\\n            && Jupyter.notebook.config.data.load_extensions\\n        );\\n        if (extensions && extensions[\\\"webio-jupyter-notebook\\\"]) {\\n            // Extension already loaded.\\n            console.log(\\\"Jupyter WebIO nbextension detected; not loading ad-hoc.\\\");\\n            hide();\\n            return;\\n        }\\n    } else if (window.location.pathname.includes(\\\"/lab\\\")) {\\n        // Guessing JupyterLa\\n        console.log(\\\"Jupyter Lab detected; make sure the @webio/jupyter-lab-provider labextension is installed.\\\");\\n        hide();\\n        return;\\n    }\\n})();\\n\\n</script>\\n<p\\n    id=\\\"webio-warning-12514857069910272675\\\"\\n    class=\\\"output_text output_stderr\\\"\\n    style=\\\"padding: 1em; font-weight: bold;\\\"\\n>\\n    Unable to load WebIO. Please make sure WebIO works for your Jupyter client.\\n    For troubleshooting, please see <a href=\\\"https://juliagizmos.github.io/WebIO.jl/latest/providers/ijulia/\\\">\\n    the WebIO/IJulia documentation</a>.\\n    <!-- TODO: link to installation docs. -->\\n</p>\\n\")"
      ]
     },
     "metadata": {},
     "output_type": "display_data"
    },
    {
     "data": {
      "application/vnd.webio.node+json": {
       "children": [
        {
         "children": [
          {
           "children": [
            {
             "children": [
              {
               "children": [
                {
                 "children": [
                  "d"
                 ],
                 "instanceArgs": {
                  "namespace": "html",
                  "tag": "label"
                 },
                 "nodeType": "DOM",
                 "props": {
                  "className": "interact ",
                  "style": {
                   "padding": "5px 10px 0px 10px"
                  }
                 },
                 "type": "node"
                }
               ],
               "instanceArgs": {
                "namespace": "html",
                "tag": "div"
               },
               "nodeType": "DOM",
               "props": {
                "className": "interact-flex-row-left"
               },
               "type": "node"
              },
              {
               "children": [
                {
                 "children": [
                  {
                   "children": [
                    {
                     "children": [],
                     "instanceArgs": {
                      "namespace": "html",
                      "tag": "label"
                     },
                     "nodeType": "DOM",
                     "props": {
                      "attributes": {
                       "data-bind": "text : key"
                      }
                     },
                     "type": "node"
                    }
                   ],
                   "instanceArgs": {
                    "namespace": "html",
                    "tag": "span"
                   },
                   "nodeType": "DOM",
                   "props": {
                    "attributes": {
                     "data-bind": "click: function (){$root.update(val)}, css: {'is-primary is-selected' : $root.index() == val, 'interact-widget is-medium button ' : true}"
                    }
                   },
                   "type": "node"
                  }
                 ],
                 "instanceArgs": {
                  "namespace": "html",
                  "tag": "div"
                 },
                 "nodeType": "DOM",
                 "props": {
                  "attributes": {
                   "data-bind": "foreach : options_js"
                  },
                  "className": "buttons has-addons is-centered"
                 },
                 "type": "node"
                }
               ],
               "instanceArgs": {
                "namespace": "html",
                "tag": "div"
               },
               "nodeType": "DOM",
               "props": {
                "className": "interact-flex-row-center"
               },
               "type": "node"
              },
              {
               "children": [
                {
                 "children": [],
                 "instanceArgs": {
                  "namespace": "html",
                  "tag": "div"
                 },
                 "nodeType": "DOM",
                 "props": {},
                 "type": "node"
                }
               ],
               "instanceArgs": {
                "namespace": "html",
                "tag": "div"
               },
               "nodeType": "DOM",
               "props": {
                "className": "interact-flex-row-right"
               },
               "type": "node"
              }
             ],
             "instanceArgs": {
              "namespace": "html",
              "tag": "div"
             },
             "nodeType": "DOM",
             "props": {
              "className": "interact-flex-row interact-widget"
             },
             "type": "node"
            }
           ],
           "instanceArgs": {
            "handlers": {
             "index": [
              "(function (val){return (val!=this.model[\"index\"]()) ? (this.valueFromJulia[\"index\"]=true, this.model[\"index\"](val)) : undefined})"
             ],
             "options_js": [
              "(function (val){return (val!=this.model[\"options_js\"]()) ? (this.valueFromJulia[\"options_js\"]=true, this.model[\"options_js\"](val)) : undefined})"
             ]
            },
            "id": "12961163092147159695",
            "imports": {
             "data": [
              {
               "name": "knockout",
               "type": "js",
               "url": "/assetserver/138fa309f919ec7484ebc55e3091f379f47cc424-knockout.js"
              },
              {
               "name": "knockout_punches",
               "type": "js",
               "url": "/assetserver/620d29c2d3531d56ec3a1d8a13d747afffb44410-knockout_punches.js"
              },
              {
               "name": null,
               "type": "js",
               "url": "/assetserver/57e29df20789a576b69ae2f70e2711fac6716a39-all.js"
              },
              {
               "name": null,
               "type": "css",
               "url": "/assetserver/417d90e06c0658278ea1ef32551ed090a57a1491-style.css"
              },
              {
               "name": null,
               "type": "css",
               "url": "/assetserver/1f5a763355fa31c38c9cab232bda0758d9a22c0d-bulma_confined.min.css"
              }
             ],
             "type": "async_block"
            },
            "mount_callbacks": [
             "function () {\n    var handler = (function (ko, koPunches) {\n    ko.punches.enableAll();\n    ko.bindingHandlers.numericValue = {\n        init: function(element, valueAccessor, allBindings, data, context) {\n            var stringified = ko.observable(ko.unwrap(valueAccessor()));\n            stringified.subscribe(function(value) {\n                var val = parseFloat(value);\n                if (!isNaN(val)) {\n                    valueAccessor()(val);\n                }\n            });\n            valueAccessor().subscribe(function(value) {\n                var str = JSON.stringify(value);\n                if ((str == \"0\") && ([\"-0\", \"-0.\"].indexOf(stringified()) >= 0))\n                     return;\n                 if ([\"null\", \"\"].indexOf(str) >= 0)\n                     return;\n                stringified(str);\n            });\n            ko.applyBindingsToNode(\n                element,\n                {\n                    value: stringified,\n                    valueUpdate: allBindings.get('valueUpdate'),\n                },\n                context,\n            );\n        }\n    };\n    var json_data = {\"options_js\":WebIO.getval({\"name\":\"options_js\",\"scope\":\"12961163092147159695\",\"id\":\"ob_05\",\"type\":\"observable\"}),\"index\":WebIO.getval({\"name\":\"index\",\"scope\":\"12961163092147159695\",\"id\":\"ob_04\",\"type\":\"observable\"})};\n    var self = this;\n    function AppViewModel() {\n        for (var key in json_data) {\n            var el = json_data[key];\n            this[key] = Array.isArray(el) ? ko.observableArray(el) : ko.observable(el);\n        }\n        [this[\"update\"]=function (val) {this.index(val)}]\n        \n        [this[\"options_js\"].subscribe((function (val){!(this.valueFromJulia[\"options_js\"]) ? (WebIO.setval({\"name\":\"options_js\",\"scope\":\"12961163092147159695\",\"id\":\"ob_05\",\"type\":\"observable\"},val)) : undefined; return this.valueFromJulia[\"options_js\"]=false}),self),this[\"index\"].subscribe((function (val){!(this.valueFromJulia[\"index\"]) ? (WebIO.setval({\"name\":\"index\",\"scope\":\"12961163092147159695\",\"id\":\"ob_04\",\"type\":\"observable\"},val)) : undefined; return this.valueFromJulia[\"index\"]=false}),self)]\n        \n    }\n    self.model = new AppViewModel();\n    self.valueFromJulia = {};\n    for (var key in json_data) {\n        self.valueFromJulia[key] = false;\n    }\n    ko.applyBindings(self.model, self.dom);\n}\n);\n    (WebIO.importBlock({\"data\":[{\"name\":\"knockout\",\"type\":\"js\",\"url\":\"/assetserver/138fa309f919ec7484ebc55e3091f379f47cc424-knockout.js\"},{\"name\":\"knockout_punches\",\"type\":\"js\",\"url\":\"/assetserver/620d29c2d3531d56ec3a1d8a13d747afffb44410-knockout_punches.js\"}],\"type\":\"async_block\"})).then((imports) => handler.apply(this, imports));\n}\n"
            ],
            "observables": {
             "index": {
              "id": "ob_04",
              "sync": true,
              "value": 1
             },
             "options_js": {
              "id": "ob_05",
              "sync": false,
              "value": [
               {
                "id": "idh7bpCFPe",
                "key": "Normal{Float64}(μ=0.0, σ=1.0)",
                "val": 1
               },
               {
                "id": "idLmKp109u",
                "key": "Uniform{Float64}(a=0.0, b=1.0)",
                "val": 2
               },
               {
                "id": "idXLVzykDI",
                "key": "Gamma{Float64}(α=5.0, θ=3.0)",
                "val": 3
               },
               {
                "id": "idqh4GnFGi",
                "key": "Beta{Float64}(α=6.0, β=3.0)",
                "val": 4
               },
               {
                "id": "idArh5dogU",
                "key": "Exponential{Float64}(θ=1.0)",
                "val": 5
               }
              ]
             }
            },
            "systemjs_options": null
           },
           "nodeType": "Scope",
           "props": {},
           "type": "node"
          }
         ],
         "instanceArgs": {
          "namespace": "html",
          "tag": "div"
         },
         "nodeType": "DOM",
         "props": {
          "className": "interact-widget"
         },
         "type": "node"
        },
        {
         "children": [
          {
           "children": [
            {
             "children": [
              {
               "children": [
                {
                 "children": [
                  "q"
                 ],
                 "instanceArgs": {
                  "namespace": "html",
                  "tag": "label"
                 },
                 "nodeType": "DOM",
                 "props": {
                  "className": "interact ",
                  "style": {
                   "padding": "5px 10px 0px 10px"
                  }
                 },
                 "type": "node"
                }
               ],
               "instanceArgs": {
                "namespace": "html",
                "tag": "div"
               },
               "nodeType": "DOM",
               "props": {
                "className": "interact-flex-row-left"
               },
               "type": "node"
              },
              {
               "children": [
                {
                 "children": [],
                 "instanceArgs": {
                  "namespace": "html",
                  "tag": "input"
                 },
                 "nodeType": "DOM",
                 "props": {
                  "attributes": {
                   "data-bind": "numericValue: index, valueUpdate: 'input', event: {change: function (){this.changes(this.changes()+1)}}",
                   "orient": "horizontal",
                   "type": "range"
                  },
                  "className": "slider slider is-fullwidth",
                  "max": 50,
                  "min": 1,
                  "step": 1,
                  "style": {}
                 },
                 "type": "node"
                }
               ],
               "instanceArgs": {
                "namespace": "html",
                "tag": "div"
               },
               "nodeType": "DOM",
               "props": {
                "className": "interact-flex-row-center"
               },
               "type": "node"
              },
              {
               "children": [
                {
                 "children": [],
                 "instanceArgs": {
                  "namespace": "html",
                  "tag": "p"
                 },
                 "nodeType": "DOM",
                 "props": {
                  "attributes": {
                   "data-bind": "text: formatted_val"
                  }
                 },
                 "type": "node"
                }
               ],
               "instanceArgs": {
                "namespace": "html",
                "tag": "div"
               },
               "nodeType": "DOM",
               "props": {
                "className": "interact-flex-row-right"
               },
               "type": "node"
              }
             ],
             "instanceArgs": {
              "namespace": "html",
              "tag": "div"
             },
             "nodeType": "DOM",
             "props": {
              "className": "interact-flex-row interact-widget"
             },
             "type": "node"
            }
           ],
           "instanceArgs": {
            "handlers": {
             "changes": [
              "(function (val){return (val!=this.model[\"changes\"]()) ? (this.valueFromJulia[\"changes\"]=true, this.model[\"changes\"](val)) : undefined})"
             ],
             "index": [
              "(function (val){return (val!=this.model[\"index\"]()) ? (this.valueFromJulia[\"index\"]=true, this.model[\"index\"](val)) : undefined})"
             ]
            },
            "id": "13789307987002524350",
            "imports": {
             "data": [
              {
               "name": "knockout",
               "type": "js",
               "url": "/assetserver/138fa309f919ec7484ebc55e3091f379f47cc424-knockout.js"
              },
              {
               "name": "knockout_punches",
               "type": "js",
               "url": "/assetserver/620d29c2d3531d56ec3a1d8a13d747afffb44410-knockout_punches.js"
              },
              {
               "name": null,
               "type": "js",
               "url": "/assetserver/57e29df20789a576b69ae2f70e2711fac6716a39-all.js"
              },
              {
               "name": null,
               "type": "css",
               "url": "/assetserver/417d90e06c0658278ea1ef32551ed090a57a1491-style.css"
              },
              {
               "name": null,
               "type": "css",
               "url": "/assetserver/1f5a763355fa31c38c9cab232bda0758d9a22c0d-bulma_confined.min.css"
              }
             ],
             "type": "async_block"
            },
            "mount_callbacks": [
             "function () {\n    var handler = (function (ko, koPunches) {\n    ko.punches.enableAll();\n    ko.bindingHandlers.numericValue = {\n        init: function(element, valueAccessor, allBindings, data, context) {\n            var stringified = ko.observable(ko.unwrap(valueAccessor()));\n            stringified.subscribe(function(value) {\n                var val = parseFloat(value);\n                if (!isNaN(val)) {\n                    valueAccessor()(val);\n                }\n            });\n            valueAccessor().subscribe(function(value) {\n                var str = JSON.stringify(value);\n                if ((str == \"0\") && ([\"-0\", \"-0.\"].indexOf(stringified()) >= 0))\n                     return;\n                 if ([\"null\", \"\"].indexOf(str) >= 0)\n                     return;\n                stringified(str);\n            });\n            ko.applyBindingsToNode(\n                element,\n                {\n                    value: stringified,\n                    valueUpdate: allBindings.get('valueUpdate'),\n                },\n                context,\n            );\n        }\n    };\n    var json_data = {\"formatted_vals\":[\"0.01\",\"0.03\",\"0.05\",\"0.07\",\"0.09\",\"0.11\",\"0.13\",\"0.15\",\"0.17\",\"0.19\",\"0.21\",\"0.23\",\"0.25\",\"0.27\",\"0.29\",\"0.31\",\"0.33\",\"0.35\",\"0.37\",\"0.39\",\"0.41\",\"0.43\",\"0.45\",\"0.47\",\"0.49\",\"0.51\",\"0.53\",\"0.55\",\"0.57\",\"0.59\",\"0.61\",\"0.63\",\"0.65\",\"0.67\",\"0.69\",\"0.71\",\"0.73\",\"0.75\",\"0.77\",\"0.79\",\"0.81\",\"0.83\",\"0.85\",\"0.87\",\"0.89\",\"0.91\",\"0.93\",\"0.95\",\"0.97\",\"0.99\"],\"changes\":WebIO.getval({\"name\":\"changes\",\"scope\":\"13789307987002524350\",\"id\":\"ob_08\",\"type\":\"observable\"}),\"index\":WebIO.getval({\"name\":\"index\",\"scope\":\"13789307987002524350\",\"id\":\"ob_07\",\"type\":\"observable\"})};\n    var self = this;\n    function AppViewModel() {\n        for (var key in json_data) {\n            var el = json_data[key];\n            this[key] = Array.isArray(el) ? ko.observableArray(el) : ko.observable(el);\n        }\n        \n        [this[\"formatted_val\"]=ko.computed(    function(){\n        return this.formatted_vals()[parseInt(this.index())-(1)];\n    }\n,this)]\n        [this[\"changes\"].subscribe((function (val){!(this.valueFromJulia[\"changes\"]) ? (WebIO.setval({\"name\":\"changes\",\"scope\":\"13789307987002524350\",\"id\":\"ob_08\",\"type\":\"observable\"},val)) : undefined; return this.valueFromJulia[\"changes\"]=false}),self),this[\"index\"].subscribe((function (val){!(this.valueFromJulia[\"index\"]) ? (WebIO.setval({\"name\":\"index\",\"scope\":\"13789307987002524350\",\"id\":\"ob_07\",\"type\":\"observable\"},val)) : undefined; return this.valueFromJulia[\"index\"]=false}),self)]\n        \n    }\n    self.model = new AppViewModel();\n    self.valueFromJulia = {};\n    for (var key in json_data) {\n        self.valueFromJulia[key] = false;\n    }\n    ko.applyBindings(self.model, self.dom);\n}\n);\n    (WebIO.importBlock({\"data\":[{\"name\":\"knockout\",\"type\":\"js\",\"url\":\"/assetserver/138fa309f919ec7484ebc55e3091f379f47cc424-knockout.js\"},{\"name\":\"knockout_punches\",\"type\":\"js\",\"url\":\"/assetserver/620d29c2d3531d56ec3a1d8a13d747afffb44410-knockout_punches.js\"}],\"type\":\"async_block\"})).then((imports) => handler.apply(this, imports));\n}\n"
            ],
            "observables": {
             "changes": {
              "id": "ob_08",
              "sync": false,
              "value": 0
             },
             "index": {
              "id": "ob_07",
              "sync": true,
              "value": 25
             }
            },
            "systemjs_options": null
           },
           "nodeType": "Scope",
           "props": {},
           "type": "node"
          }
         ],
         "instanceArgs": {
          "namespace": "html",
          "tag": "div"
         },
         "nodeType": "DOM",
         "props": {
          "className": "field interact-widget"
         },
         "type": "node"
        },
        {
         "children": [
          {
           "children": [],
           "instanceArgs": {
            "id": "ob_14",
            "name": "obs-node"
           },
           "nodeType": "ObservableNode",
           "props": {},
           "type": "node"
          }
         ],
         "instanceArgs": {
          "handlers": {},
          "id": "6951931575620812062",
          "imports": {
           "data": [],
           "type": "async_block"
          },
          "mount_callbacks": [],
          "observables": {
           "obs-node": {
            "id": "ob_14",
            "sync": false,
            "value": {
             "children": [
              {
               "children": [],
               "instanceArgs": {
                "namespace": "html",
                "tag": "div"
               },
               "nodeType": "DOM",
               "props": {
                "setInnerHtml": "<?xml version=\"1.0\" encoding=\"utf-8\"?>\n<svg xmlns=\"http://www.w3.org/2000/svg\" xmlns:xlink=\"http://www.w3.org/1999/xlink\" width=\"600\" height=\"400\" viewBox=\"0 0 2400 1600\">\n<defs>\n  <clipPath id=\"clip4700\">\n    <rect x=\"0\" y=\"0\" width=\"2400\" height=\"1600\"/>\n  </clipPath>\n</defs>\n<polygon clip-path=\"url(#clip4700)\" points=\"\n0,1600 2400,1600 2400,0 0,0 \n  \" fill=\"#ffffff\" fill-rule=\"evenodd\" fill-opacity=\"1\"/>\n<defs>\n  <clipPath id=\"clip4701\">\n    <rect x=\"480\" y=\"0\" width=\"1681\" height=\"1600\"/>\n  </clipPath>\n</defs>\n<polygon clip-path=\"url(#clip4700)\" points=\"\n153.898,1487.47 2352.76,1487.47 2352.76,47.2441 153.898,47.2441 \n  \" fill=\"#ffffff\" fill-rule=\"evenodd\" fill-opacity=\"1\"/>\n<defs>\n  <clipPath id=\"clip4702\">\n    <rect x=\"153\" y=\"47\" width=\"2200\" height=\"1441\"/>\n  </clipPath>\n</defs>\n<polyline clip-path=\"url(#clip4702)\" style=\"stroke:#000000; stroke-width:2; stroke-opacity:0.1; fill:none\" points=\"\n  408.691,1487.47 408.691,47.2441 \n  \"/>\n<polyline clip-path=\"url(#clip4702)\" style=\"stroke:#000000; stroke-width:2; stroke-opacity:0.1; fill:none\" points=\"\n  690.751,1487.47 690.751,47.2441 \n  \"/>\n<polyline clip-path=\"url(#clip4702)\" style=\"stroke:#000000; stroke-width:2; stroke-opacity:0.1; fill:none\" points=\"\n  972.811,1487.47 972.811,47.2441 \n  \"/>\n<polyline clip-path=\"url(#clip4702)\" style=\"stroke:#000000; stroke-width:2; stroke-opacity:0.1; fill:none\" points=\"\n  1254.87,1487.47 1254.87,47.2441 \n  \"/>\n<polyline clip-path=\"url(#clip4702)\" style=\"stroke:#000000; stroke-width:2; stroke-opacity:0.1; fill:none\" points=\"\n  1536.93,1487.47 1536.93,47.2441 \n  \"/>\n<polyline clip-path=\"url(#clip4702)\" style=\"stroke:#000000; stroke-width:2; stroke-opacity:0.1; fill:none\" points=\"\n  1818.99,1487.47 1818.99,47.2441 \n  \"/>\n<polyline clip-path=\"url(#clip4702)\" style=\"stroke:#000000; stroke-width:2; stroke-opacity:0.1; fill:none\" points=\"\n  2101.05,1487.47 2101.05,47.2441 \n  \"/>\n<polyline clip-path=\"url(#clip4702)\" style=\"stroke:#000000; stroke-width:2; stroke-opacity:0.1; fill:none\" points=\"\n  153.898,1448.26 2352.76,1448.26 \n  \"/>\n<polyline clip-path=\"url(#clip4702)\" style=\"stroke:#000000; stroke-width:2; stroke-opacity:0.1; fill:none\" points=\"\n  153.898,1107.24 2352.76,1107.24 \n  \"/>\n<polyline clip-path=\"url(#clip4702)\" style=\"stroke:#000000; stroke-width:2; stroke-opacity:0.1; fill:none\" points=\"\n  153.898,766.213 2352.76,766.213 \n  \"/>\n<polyline clip-path=\"url(#clip4702)\" style=\"stroke:#000000; stroke-width:2; stroke-opacity:0.1; fill:none\" points=\"\n  153.898,425.191 2352.76,425.191 \n  \"/>\n<polyline clip-path=\"url(#clip4702)\" style=\"stroke:#000000; stroke-width:2; stroke-opacity:0.1; fill:none\" points=\"\n  153.898,84.1691 2352.76,84.1691 \n  \"/>\n<polyline clip-path=\"url(#clip4700)\" style=\"stroke:#000000; stroke-width:4; stroke-opacity:1; fill:none\" points=\"\n  153.898,1487.47 2352.76,1487.47 \n  \"/>\n<polyline clip-path=\"url(#clip4700)\" style=\"stroke:#000000; stroke-width:4; stroke-opacity:1; fill:none\" points=\"\n  153.898,1487.47 153.898,47.2441 \n  \"/>\n<polyline clip-path=\"url(#clip4700)\" style=\"stroke:#000000; stroke-width:4; stroke-opacity:1; fill:none\" points=\"\n  408.691,1487.47 408.691,1465.87 \n  \"/>\n<polyline clip-path=\"url(#clip4700)\" style=\"stroke:#000000; stroke-width:4; stroke-opacity:1; fill:none\" points=\"\n  690.751,1487.47 690.751,1465.87 \n  \"/>\n<polyline clip-path=\"url(#clip4700)\" style=\"stroke:#000000; stroke-width:4; stroke-opacity:1; fill:none\" points=\"\n  972.811,1487.47 972.811,1465.87 \n  \"/>\n<polyline clip-path=\"url(#clip4700)\" style=\"stroke:#000000; stroke-width:4; stroke-opacity:1; fill:none\" points=\"\n  1254.87,1487.47 1254.87,1465.87 \n  \"/>\n<polyline clip-path=\"url(#clip4700)\" style=\"stroke:#000000; stroke-width:4; stroke-opacity:1; fill:none\" points=\"\n  1536.93,1487.47 1536.93,1465.87 \n  \"/>\n<polyline clip-path=\"url(#clip4700)\" style=\"stroke:#000000; stroke-width:4; stroke-opacity:1; fill:none\" points=\"\n  1818.99,1487.47 1818.99,1465.87 \n  \"/>\n<polyline clip-path=\"url(#clip4700)\" style=\"stroke:#000000; stroke-width:4; stroke-opacity:1; fill:none\" points=\"\n  2101.05,1487.47 2101.05,1465.87 \n  \"/>\n<polyline clip-path=\"url(#clip4700)\" style=\"stroke:#000000; stroke-width:4; stroke-opacity:1; fill:none\" points=\"\n  153.898,1448.26 186.881,1448.26 \n  \"/>\n<polyline clip-path=\"url(#clip4700)\" style=\"stroke:#000000; stroke-width:4; stroke-opacity:1; fill:none\" points=\"\n  153.898,1107.24 186.881,1107.24 \n  \"/>\n<polyline clip-path=\"url(#clip4700)\" style=\"stroke:#000000; stroke-width:4; stroke-opacity:1; fill:none\" points=\"\n  153.898,766.213 186.881,766.213 \n  \"/>\n<polyline clip-path=\"url(#clip4700)\" style=\"stroke:#000000; stroke-width:4; stroke-opacity:1; fill:none\" points=\"\n  153.898,425.191 186.881,425.191 \n  \"/>\n<polyline clip-path=\"url(#clip4700)\" style=\"stroke:#000000; stroke-width:4; stroke-opacity:1; fill:none\" points=\"\n  153.898,84.1691 186.881,84.1691 \n  \"/>\n<g clip-path=\"url(#clip4700)\">\n<text style=\"fill:#000000; fill-opacity:1; font-family:Arial,Helvetica Neue,Helvetica,sans-serif; font-size:48px; text-anchor:middle;\" transform=\"rotate(0, 408.691, 1541.47)\" x=\"408.691\" y=\"1541.47\">-3</text>\n</g>\n<g clip-path=\"url(#clip4700)\">\n<text style=\"fill:#000000; fill-opacity:1; font-family:Arial,Helvetica Neue,Helvetica,sans-serif; font-size:48px; text-anchor:middle;\" transform=\"rotate(0, 690.751, 1541.47)\" x=\"690.751\" y=\"1541.47\">-2</text>\n</g>\n<g clip-path=\"url(#clip4700)\">\n<text style=\"fill:#000000; fill-opacity:1; font-family:Arial,Helvetica Neue,Helvetica,sans-serif; font-size:48px; text-anchor:middle;\" transform=\"rotate(0, 972.811, 1541.47)\" x=\"972.811\" y=\"1541.47\">-1</text>\n</g>\n<g clip-path=\"url(#clip4700)\">\n<text style=\"fill:#000000; fill-opacity:1; font-family:Arial,Helvetica Neue,Helvetica,sans-serif; font-size:48px; text-anchor:middle;\" transform=\"rotate(0, 1254.87, 1541.47)\" x=\"1254.87\" y=\"1541.47\">0</text>\n</g>\n<g clip-path=\"url(#clip4700)\">\n<text style=\"fill:#000000; fill-opacity:1; font-family:Arial,Helvetica Neue,Helvetica,sans-serif; font-size:48px; text-anchor:middle;\" transform=\"rotate(0, 1536.93, 1541.47)\" x=\"1536.93\" y=\"1541.47\">1</text>\n</g>\n<g clip-path=\"url(#clip4700)\">\n<text style=\"fill:#000000; fill-opacity:1; font-family:Arial,Helvetica Neue,Helvetica,sans-serif; font-size:48px; text-anchor:middle;\" transform=\"rotate(0, 1818.99, 1541.47)\" x=\"1818.99\" y=\"1541.47\">2</text>\n</g>\n<g clip-path=\"url(#clip4700)\">\n<text style=\"fill:#000000; fill-opacity:1; font-family:Arial,Helvetica Neue,Helvetica,sans-serif; font-size:48px; text-anchor:middle;\" transform=\"rotate(0, 2101.05, 1541.47)\" x=\"2101.05\" y=\"1541.47\">3</text>\n</g>\n<g clip-path=\"url(#clip4700)\">\n<text style=\"fill:#000000; fill-opacity:1; font-family:Arial,Helvetica Neue,Helvetica,sans-serif; font-size:48px; text-anchor:end;\" transform=\"rotate(0, 129.898, 1465.76)\" x=\"129.898\" y=\"1465.76\">0.0</text>\n</g>\n<g clip-path=\"url(#clip4700)\">\n<text style=\"fill:#000000; fill-opacity:1; font-family:Arial,Helvetica Neue,Helvetica,sans-serif; font-size:48px; text-anchor:end;\" transform=\"rotate(0, 129.898, 1124.74)\" x=\"129.898\" y=\"1124.74\">0.1</text>\n</g>\n<g clip-path=\"url(#clip4700)\">\n<text style=\"fill:#000000; fill-opacity:1; font-family:Arial,Helvetica Neue,Helvetica,sans-serif; font-size:48px; text-anchor:end;\" transform=\"rotate(0, 129.898, 783.713)\" x=\"129.898\" y=\"783.713\">0.2</text>\n</g>\n<g clip-path=\"url(#clip4700)\">\n<text style=\"fill:#000000; fill-opacity:1; font-family:Arial,Helvetica Neue,Helvetica,sans-serif; font-size:48px; text-anchor:end;\" transform=\"rotate(0, 129.898, 442.691)\" x=\"129.898\" y=\"442.691\">0.3</text>\n</g>\n<g clip-path=\"url(#clip4700)\">\n<text style=\"fill:#000000; fill-opacity:1; font-family:Arial,Helvetica Neue,Helvetica,sans-serif; font-size:48px; text-anchor:end;\" transform=\"rotate(0, 129.898, 101.669)\" x=\"129.898\" y=\"101.669\">0.4</text>\n</g>\n<polyline clip-path=\"url(#clip4702)\" style=\"stroke:#009af9; stroke-width:4; stroke-opacity:1; fill:none\" points=\"\n  216.13,1446.71 226.374,1446.49 321.096,1442.58 415.819,1431.96 472.743,1419.15 529.667,1398.34 577.796,1371.97 625.925,1335.02 652.065,1309.62 678.206,1279.97 \n  704.347,1245.74 730.487,1206.62 754.587,1166.06 778.686,1121.08 802.785,1071.69 826.885,1017.99 878.559,889.561 930.233,746.74 990.102,572.562 1049.97,403.293 \n  1076.57,334.155 1103.18,270.962 1129.78,215.201 1156.38,168.237 1179.71,135.231 1203.04,110.555 1226.37,94.7059 1249.69,88.0053 1275.13,91.2801 1300.56,105.509 \n  1325.99,130.349 1351.43,165.204 1377.01,209.539 1402.6,262.142 1428.18,321.818 1453.77,387.257 1510.34,545.537 1566.92,710.492 1620.75,861.693 1674.58,998.587 \n  1702.56,1062.21 1730.55,1120.08 1758.53,1172.01 1786.52,1217.99 1833.63,1282.52 1880.75,1332.24 1938.27,1375.99 1995.79,1405.07 2049.86,1422.63 2103.94,1433.6 \n  2190.56,1442.71 2277.19,1446.35 2290.52,1446.65 \n  \"/>\n<polyline clip-path=\"url(#clip4702)\" style=\"stroke:#e26f46; stroke-width:16; stroke-opacity:1; fill:none\" stroke-dasharray=\"8, 16\" points=\"\n  1247.8,145511 1247.8,-143976 \n  \"/>\n<polyline clip-path=\"url(#clip4702)\" style=\"stroke:#000000; stroke-width:4; stroke-opacity:1; fill:none\" points=\"\n  1247.8,145511 1247.8,-143976 \n  \"/>\n<polygon clip-path=\"url(#clip4700)\" points=\"\n1547.1,372.684 2280.76,372.684 2280.76,130.764 1547.1,130.764 \n  \" fill=\"#ffffff\" fill-rule=\"evenodd\" fill-opacity=\"1\"/>\n<polyline clip-path=\"url(#clip4700)\" style=\"stroke:#000000; stroke-width:4; stroke-opacity:1; fill:none\" points=\"\n  1547.1,372.684 2280.76,372.684 2280.76,130.764 1547.1,130.764 1547.1,372.684 \n  \"/>\n<polyline clip-path=\"url(#clip4700)\" style=\"stroke:#009af9; stroke-width:4; stroke-opacity:1; fill:none\" points=\"\n  1571.1,191.244 1715.1,191.244 \n  \"/>\n<g clip-path=\"url(#clip4700)\">\n<text style=\"fill:#000000; fill-opacity:1; font-family:Arial,Helvetica Neue,Helvetica,sans-serif; font-size:48px; text-anchor:start;\" transform=\"rotate(0, 1739.1, 208.744)\" x=\"1739.1\" y=\"208.744\">y1</text>\n</g>\n<polyline clip-path=\"url(#clip4700)\" style=\"stroke:#e26f46; stroke-width:16; stroke-opacity:1; fill:none\" stroke-dasharray=\"8, 16\" points=\"\n  1571.1,251.724 1715.1,251.724 \n  \"/>\n<g clip-path=\"url(#clip4700)\">\n<text style=\"fill:#000000; fill-opacity:1; font-family:Arial,Helvetica Neue,Helvetica,sans-serif; font-size:48px; text-anchor:start;\" transform=\"rotate(0, 1739.1, 269.224)\" x=\"1739.1\" y=\"269.224\">My Function: -0.0251</text>\n</g>\n<polyline clip-path=\"url(#clip4700)\" style=\"stroke:#000000; stroke-width:4; stroke-opacity:1; fill:none\" points=\"\n  1571.1,312.204 1715.1,312.204 \n  \"/>\n<g clip-path=\"url(#clip4700)\">\n<text style=\"fill:#000000; fill-opacity:1; font-family:Arial,Helvetica Neue,Helvetica,sans-serif; font-size:48px; text-anchor:start;\" transform=\"rotate(0, 1739.1, 329.704)\" x=\"1739.1\" y=\"329.704\">True Quantile: -0.0251</text>\n</g>\n</svg>\n"
               },
               "type": "node"
              }
             ],
             "instanceArgs": {
              "namespace": "html",
              "tag": "div"
             },
             "nodeType": "DOM",
             "props": {
              "className": "interact-flex-row interact-widget"
             },
             "type": "node"
            }
           }
          },
          "systemjs_options": null
         },
         "nodeType": "Scope",
         "props": {},
         "type": "node"
        }
       ],
       "instanceArgs": {
        "namespace": "html",
        "tag": "div"
       },
       "nodeType": "DOM",
       "props": {},
       "type": "node"
      },
      "text/html": [
       "<div\n",
       "    class=\"webio-mountpoint\"\n",
       "    data-webio-mountpoint=\"11568007348058804043\"\n",
       ">\n",
       "    <script>\n",
       "    if (window.require && require.defined && require.defined(\"nbextensions/webio-jupyter-notebook\")) {\n",
       "        console.log(\"Jupyter WebIO extension detected, not mounting.\");\n",
       "    } else if (window.WebIO) {\n",
       "        WebIO.mount(\n",
       "            document.querySelector('[data-webio-mountpoint=\"11568007348058804043\"]'),\n",
       "            {\"props\":{},\"nodeType\":\"DOM\",\"type\":\"node\",\"instanceArgs\":{\"namespace\":\"html\",\"tag\":\"div\"},\"children\":[{\"props\":{\"className\":\"interact-widget\"},\"nodeType\":\"DOM\",\"type\":\"node\",\"instanceArgs\":{\"namespace\":\"html\",\"tag\":\"div\"},\"children\":[{\"props\":{},\"nodeType\":\"Scope\",\"type\":\"node\",\"instanceArgs\":{\"imports\":{\"data\":[{\"name\":\"knockout\",\"type\":\"js\",\"url\":\"\\/assetserver\\/138fa309f919ec7484ebc55e3091f379f47cc424-knockout.js\"},{\"name\":\"knockout_punches\",\"type\":\"js\",\"url\":\"\\/assetserver\\/620d29c2d3531d56ec3a1d8a13d747afffb44410-knockout_punches.js\"},{\"name\":null,\"type\":\"js\",\"url\":\"\\/assetserver\\/57e29df20789a576b69ae2f70e2711fac6716a39-all.js\"},{\"name\":null,\"type\":\"css\",\"url\":\"\\/assetserver\\/417d90e06c0658278ea1ef32551ed090a57a1491-style.css\"},{\"name\":null,\"type\":\"css\",\"url\":\"\\/assetserver\\/1f5a763355fa31c38c9cab232bda0758d9a22c0d-bulma_confined.min.css\"}],\"type\":\"async_block\"},\"id\":\"12961163092147159695\",\"handlers\":{\"options_js\":[\"(function (val){return (val!=this.model[\\\"options_js\\\"]()) ? (this.valueFromJulia[\\\"options_js\\\"]=true, this.model[\\\"options_js\\\"](val)) : undefined})\"],\"index\":[\"(function (val){return (val!=this.model[\\\"index\\\"]()) ? (this.valueFromJulia[\\\"index\\\"]=true, this.model[\\\"index\\\"](val)) : undefined})\"]},\"systemjs_options\":null,\"mount_callbacks\":[\"function () {\\n    var handler = (function (ko, koPunches) {\\n    ko.punches.enableAll();\\n    ko.bindingHandlers.numericValue = {\\n        init: function(element, valueAccessor, allBindings, data, context) {\\n            var stringified = ko.observable(ko.unwrap(valueAccessor()));\\n            stringified.subscribe(function(value) {\\n                var val = parseFloat(value);\\n                if (!isNaN(val)) {\\n                    valueAccessor()(val);\\n                }\\n            });\\n            valueAccessor().subscribe(function(value) {\\n                var str = JSON.stringify(value);\\n                if ((str == \\\"0\\\") && ([\\\"-0\\\", \\\"-0.\\\"].indexOf(stringified()) >= 0))\\n                     return;\\n                 if ([\\\"null\\\", \\\"\\\"].indexOf(str) >= 0)\\n                     return;\\n                stringified(str);\\n            });\\n            ko.applyBindingsToNode(\\n                element,\\n                {\\n                    value: stringified,\\n                    valueUpdate: allBindings.get('valueUpdate'),\\n                },\\n                context,\\n            );\\n        }\\n    };\\n    var json_data = {\\\"options_js\\\":WebIO.getval({\\\"name\\\":\\\"options_js\\\",\\\"scope\\\":\\\"12961163092147159695\\\",\\\"id\\\":\\\"ob_05\\\",\\\"type\\\":\\\"observable\\\"}),\\\"index\\\":WebIO.getval({\\\"name\\\":\\\"index\\\",\\\"scope\\\":\\\"12961163092147159695\\\",\\\"id\\\":\\\"ob_04\\\",\\\"type\\\":\\\"observable\\\"})};\\n    var self = this;\\n    function AppViewModel() {\\n        for (var key in json_data) {\\n            var el = json_data[key];\\n            this[key] = Array.isArray(el) ? ko.observableArray(el) : ko.observable(el);\\n        }\\n        [this[\\\"update\\\"]=function (val) {this.index(val)}]\\n        \\n        [this[\\\"options_js\\\"].subscribe((function (val){!(this.valueFromJulia[\\\"options_js\\\"]) ? (WebIO.setval({\\\"name\\\":\\\"options_js\\\",\\\"scope\\\":\\\"12961163092147159695\\\",\\\"id\\\":\\\"ob_05\\\",\\\"type\\\":\\\"observable\\\"},val)) : undefined; return this.valueFromJulia[\\\"options_js\\\"]=false}),self),this[\\\"index\\\"].subscribe((function (val){!(this.valueFromJulia[\\\"index\\\"]) ? (WebIO.setval({\\\"name\\\":\\\"index\\\",\\\"scope\\\":\\\"12961163092147159695\\\",\\\"id\\\":\\\"ob_04\\\",\\\"type\\\":\\\"observable\\\"},val)) : undefined; return this.valueFromJulia[\\\"index\\\"]=false}),self)]\\n        \\n    }\\n    self.model = new AppViewModel();\\n    self.valueFromJulia = {};\\n    for (var key in json_data) {\\n        self.valueFromJulia[key] = false;\\n    }\\n    ko.applyBindings(self.model, self.dom);\\n}\\n);\\n    (WebIO.importBlock({\\\"data\\\":[{\\\"name\\\":\\\"knockout\\\",\\\"type\\\":\\\"js\\\",\\\"url\\\":\\\"\\/assetserver\\/138fa309f919ec7484ebc55e3091f379f47cc424-knockout.js\\\"},{\\\"name\\\":\\\"knockout_punches\\\",\\\"type\\\":\\\"js\\\",\\\"url\\\":\\\"\\/assetserver\\/620d29c2d3531d56ec3a1d8a13d747afffb44410-knockout_punches.js\\\"}],\\\"type\\\":\\\"async_block\\\"})).then((imports) => handler.apply(this, imports));\\n}\\n\"],\"observables\":{\"options_js\":{\"sync\":false,\"id\":\"ob_05\",\"value\":[{\"key\":\"Normal{Float64}(μ=0.0, σ=1.0)\",\"val\":1,\"id\":\"idh7bpCFPe\"},{\"key\":\"Uniform{Float64}(a=0.0, b=1.0)\",\"val\":2,\"id\":\"idLmKp109u\"},{\"key\":\"Gamma{Float64}(α=5.0, θ=3.0)\",\"val\":3,\"id\":\"idXLVzykDI\"},{\"key\":\"Beta{Float64}(α=6.0, β=3.0)\",\"val\":4,\"id\":\"idqh4GnFGi\"},{\"key\":\"Exponential{Float64}(θ=1.0)\",\"val\":5,\"id\":\"idArh5dogU\"}]},\"index\":{\"sync\":true,\"id\":\"ob_04\",\"value\":1}}},\"children\":[{\"props\":{\"className\":\"interact-flex-row interact-widget\"},\"nodeType\":\"DOM\",\"type\":\"node\",\"instanceArgs\":{\"namespace\":\"html\",\"tag\":\"div\"},\"children\":[{\"props\":{\"className\":\"interact-flex-row-left\"},\"nodeType\":\"DOM\",\"type\":\"node\",\"instanceArgs\":{\"namespace\":\"html\",\"tag\":\"div\"},\"children\":[{\"props\":{\"className\":\"interact \",\"style\":{\"padding\":\"5px 10px 0px 10px\"}},\"nodeType\":\"DOM\",\"type\":\"node\",\"instanceArgs\":{\"namespace\":\"html\",\"tag\":\"label\"},\"children\":[\"d\"]}]},{\"props\":{\"className\":\"interact-flex-row-center\"},\"nodeType\":\"DOM\",\"type\":\"node\",\"instanceArgs\":{\"namespace\":\"html\",\"tag\":\"div\"},\"children\":[{\"props\":{\"attributes\":{\"data-bind\":\"foreach : options_js\"},\"className\":\"buttons has-addons is-centered\"},\"nodeType\":\"DOM\",\"type\":\"node\",\"instanceArgs\":{\"namespace\":\"html\",\"tag\":\"div\"},\"children\":[{\"props\":{\"attributes\":{\"data-bind\":\"click: function (){$root.update(val)}, css: {'is-primary is-selected' : $root.index() == val, 'interact-widget is-medium button ' : true}\"}},\"nodeType\":\"DOM\",\"type\":\"node\",\"instanceArgs\":{\"namespace\":\"html\",\"tag\":\"span\"},\"children\":[{\"props\":{\"attributes\":{\"data-bind\":\"text : key\"}},\"nodeType\":\"DOM\",\"type\":\"node\",\"instanceArgs\":{\"namespace\":\"html\",\"tag\":\"label\"},\"children\":[]}]}]}]},{\"props\":{\"className\":\"interact-flex-row-right\"},\"nodeType\":\"DOM\",\"type\":\"node\",\"instanceArgs\":{\"namespace\":\"html\",\"tag\":\"div\"},\"children\":[{\"props\":{},\"nodeType\":\"DOM\",\"type\":\"node\",\"instanceArgs\":{\"namespace\":\"html\",\"tag\":\"div\"},\"children\":[]}]}]}]}]},{\"props\":{\"className\":\"field interact-widget\"},\"nodeType\":\"DOM\",\"type\":\"node\",\"instanceArgs\":{\"namespace\":\"html\",\"tag\":\"div\"},\"children\":[{\"props\":{},\"nodeType\":\"Scope\",\"type\":\"node\",\"instanceArgs\":{\"imports\":{\"data\":[{\"name\":\"knockout\",\"type\":\"js\",\"url\":\"\\/assetserver\\/138fa309f919ec7484ebc55e3091f379f47cc424-knockout.js\"},{\"name\":\"knockout_punches\",\"type\":\"js\",\"url\":\"\\/assetserver\\/620d29c2d3531d56ec3a1d8a13d747afffb44410-knockout_punches.js\"},{\"name\":null,\"type\":\"js\",\"url\":\"\\/assetserver\\/57e29df20789a576b69ae2f70e2711fac6716a39-all.js\"},{\"name\":null,\"type\":\"css\",\"url\":\"\\/assetserver\\/417d90e06c0658278ea1ef32551ed090a57a1491-style.css\"},{\"name\":null,\"type\":\"css\",\"url\":\"\\/assetserver\\/1f5a763355fa31c38c9cab232bda0758d9a22c0d-bulma_confined.min.css\"}],\"type\":\"async_block\"},\"id\":\"13789307987002524350\",\"handlers\":{\"changes\":[\"(function (val){return (val!=this.model[\\\"changes\\\"]()) ? (this.valueFromJulia[\\\"changes\\\"]=true, this.model[\\\"changes\\\"](val)) : undefined})\"],\"index\":[\"(function (val){return (val!=this.model[\\\"index\\\"]()) ? (this.valueFromJulia[\\\"index\\\"]=true, this.model[\\\"index\\\"](val)) : undefined})\"]},\"systemjs_options\":null,\"mount_callbacks\":[\"function () {\\n    var handler = (function (ko, koPunches) {\\n    ko.punches.enableAll();\\n    ko.bindingHandlers.numericValue = {\\n        init: function(element, valueAccessor, allBindings, data, context) {\\n            var stringified = ko.observable(ko.unwrap(valueAccessor()));\\n            stringified.subscribe(function(value) {\\n                var val = parseFloat(value);\\n                if (!isNaN(val)) {\\n                    valueAccessor()(val);\\n                }\\n            });\\n            valueAccessor().subscribe(function(value) {\\n                var str = JSON.stringify(value);\\n                if ((str == \\\"0\\\") && ([\\\"-0\\\", \\\"-0.\\\"].indexOf(stringified()) >= 0))\\n                     return;\\n                 if ([\\\"null\\\", \\\"\\\"].indexOf(str) >= 0)\\n                     return;\\n                stringified(str);\\n            });\\n            ko.applyBindingsToNode(\\n                element,\\n                {\\n                    value: stringified,\\n                    valueUpdate: allBindings.get('valueUpdate'),\\n                },\\n                context,\\n            );\\n        }\\n    };\\n    var json_data = {\\\"formatted_vals\\\":[\\\"0.01\\\",\\\"0.03\\\",\\\"0.05\\\",\\\"0.07\\\",\\\"0.09\\\",\\\"0.11\\\",\\\"0.13\\\",\\\"0.15\\\",\\\"0.17\\\",\\\"0.19\\\",\\\"0.21\\\",\\\"0.23\\\",\\\"0.25\\\",\\\"0.27\\\",\\\"0.29\\\",\\\"0.31\\\",\\\"0.33\\\",\\\"0.35\\\",\\\"0.37\\\",\\\"0.39\\\",\\\"0.41\\\",\\\"0.43\\\",\\\"0.45\\\",\\\"0.47\\\",\\\"0.49\\\",\\\"0.51\\\",\\\"0.53\\\",\\\"0.55\\\",\\\"0.57\\\",\\\"0.59\\\",\\\"0.61\\\",\\\"0.63\\\",\\\"0.65\\\",\\\"0.67\\\",\\\"0.69\\\",\\\"0.71\\\",\\\"0.73\\\",\\\"0.75\\\",\\\"0.77\\\",\\\"0.79\\\",\\\"0.81\\\",\\\"0.83\\\",\\\"0.85\\\",\\\"0.87\\\",\\\"0.89\\\",\\\"0.91\\\",\\\"0.93\\\",\\\"0.95\\\",\\\"0.97\\\",\\\"0.99\\\"],\\\"changes\\\":WebIO.getval({\\\"name\\\":\\\"changes\\\",\\\"scope\\\":\\\"13789307987002524350\\\",\\\"id\\\":\\\"ob_08\\\",\\\"type\\\":\\\"observable\\\"}),\\\"index\\\":WebIO.getval({\\\"name\\\":\\\"index\\\",\\\"scope\\\":\\\"13789307987002524350\\\",\\\"id\\\":\\\"ob_07\\\",\\\"type\\\":\\\"observable\\\"})};\\n    var self = this;\\n    function AppViewModel() {\\n        for (var key in json_data) {\\n            var el = json_data[key];\\n            this[key] = Array.isArray(el) ? ko.observableArray(el) : ko.observable(el);\\n        }\\n        \\n        [this[\\\"formatted_val\\\"]=ko.computed(    function(){\\n        return this.formatted_vals()[parseInt(this.index())-(1)];\\n    }\\n,this)]\\n        [this[\\\"changes\\\"].subscribe((function (val){!(this.valueFromJulia[\\\"changes\\\"]) ? (WebIO.setval({\\\"name\\\":\\\"changes\\\",\\\"scope\\\":\\\"13789307987002524350\\\",\\\"id\\\":\\\"ob_08\\\",\\\"type\\\":\\\"observable\\\"},val)) : undefined; return this.valueFromJulia[\\\"changes\\\"]=false}),self),this[\\\"index\\\"].subscribe((function (val){!(this.valueFromJulia[\\\"index\\\"]) ? (WebIO.setval({\\\"name\\\":\\\"index\\\",\\\"scope\\\":\\\"13789307987002524350\\\",\\\"id\\\":\\\"ob_07\\\",\\\"type\\\":\\\"observable\\\"},val)) : undefined; return this.valueFromJulia[\\\"index\\\"]=false}),self)]\\n        \\n    }\\n    self.model = new AppViewModel();\\n    self.valueFromJulia = {};\\n    for (var key in json_data) {\\n        self.valueFromJulia[key] = false;\\n    }\\n    ko.applyBindings(self.model, self.dom);\\n}\\n);\\n    (WebIO.importBlock({\\\"data\\\":[{\\\"name\\\":\\\"knockout\\\",\\\"type\\\":\\\"js\\\",\\\"url\\\":\\\"\\/assetserver\\/138fa309f919ec7484ebc55e3091f379f47cc424-knockout.js\\\"},{\\\"name\\\":\\\"knockout_punches\\\",\\\"type\\\":\\\"js\\\",\\\"url\\\":\\\"\\/assetserver\\/620d29c2d3531d56ec3a1d8a13d747afffb44410-knockout_punches.js\\\"}],\\\"type\\\":\\\"async_block\\\"})).then((imports) => handler.apply(this, imports));\\n}\\n\"],\"observables\":{\"changes\":{\"sync\":false,\"id\":\"ob_08\",\"value\":0},\"index\":{\"sync\":true,\"id\":\"ob_07\",\"value\":25}}},\"children\":[{\"props\":{\"className\":\"interact-flex-row interact-widget\"},\"nodeType\":\"DOM\",\"type\":\"node\",\"instanceArgs\":{\"namespace\":\"html\",\"tag\":\"div\"},\"children\":[{\"props\":{\"className\":\"interact-flex-row-left\"},\"nodeType\":\"DOM\",\"type\":\"node\",\"instanceArgs\":{\"namespace\":\"html\",\"tag\":\"div\"},\"children\":[{\"props\":{\"className\":\"interact \",\"style\":{\"padding\":\"5px 10px 0px 10px\"}},\"nodeType\":\"DOM\",\"type\":\"node\",\"instanceArgs\":{\"namespace\":\"html\",\"tag\":\"label\"},\"children\":[\"q\"]}]},{\"props\":{\"className\":\"interact-flex-row-center\"},\"nodeType\":\"DOM\",\"type\":\"node\",\"instanceArgs\":{\"namespace\":\"html\",\"tag\":\"div\"},\"children\":[{\"props\":{\"max\":50,\"min\":1,\"attributes\":{\"type\":\"range\",\"data-bind\":\"numericValue: index, valueUpdate: 'input', event: {change: function (){this.changes(this.changes()+1)}}\",\"orient\":\"horizontal\"},\"step\":1,\"className\":\"slider slider is-fullwidth\",\"style\":{}},\"nodeType\":\"DOM\",\"type\":\"node\",\"instanceArgs\":{\"namespace\":\"html\",\"tag\":\"input\"},\"children\":[]}]},{\"props\":{\"className\":\"interact-flex-row-right\"},\"nodeType\":\"DOM\",\"type\":\"node\",\"instanceArgs\":{\"namespace\":\"html\",\"tag\":\"div\"},\"children\":[{\"props\":{\"attributes\":{\"data-bind\":\"text: formatted_val\"}},\"nodeType\":\"DOM\",\"type\":\"node\",\"instanceArgs\":{\"namespace\":\"html\",\"tag\":\"p\"},\"children\":[]}]}]}]}]},{\"props\":{},\"nodeType\":\"Scope\",\"type\":\"node\",\"instanceArgs\":{\"imports\":{\"data\":[],\"type\":\"async_block\"},\"id\":\"12936973222223256541\",\"handlers\":{},\"systemjs_options\":null,\"mount_callbacks\":[],\"observables\":{\"obs-node\":{\"sync\":false,\"id\":\"ob_12\",\"value\":{\"props\":{\"className\":\"interact-flex-row interact-widget\"},\"nodeType\":\"DOM\",\"type\":\"node\",\"instanceArgs\":{\"namespace\":\"html\",\"tag\":\"div\"},\"children\":[{\"props\":{\"setInnerHtml\":\"<?xml version=\\\"1.0\\\" encoding=\\\"utf-8\\\"?>\\n<svg xmlns=\\\"http:\\/\\/www.w3.org\\/2000\\/svg\\\" xmlns:xlink=\\\"http:\\/\\/www.w3.org\\/1999\\/xlink\\\" width=\\\"600\\\" height=\\\"400\\\" viewBox=\\\"0 0 2400 1600\\\">\\n<defs>\\n  <clipPath id=\\\"clip4300\\\">\\n    <rect x=\\\"0\\\" y=\\\"0\\\" width=\\\"2400\\\" height=\\\"1600\\\"\\/>\\n  <\\/clipPath>\\n<\\/defs>\\n<polygon clip-path=\\\"url(#clip4300)\\\" points=\\\"\\n0,1600 2400,1600 2400,0 0,0 \\n  \\\" fill=\\\"#ffffff\\\" fill-rule=\\\"evenodd\\\" fill-opacity=\\\"1\\\"\\/>\\n<defs>\\n  <clipPath id=\\\"clip4301\\\">\\n    <rect x=\\\"480\\\" y=\\\"0\\\" width=\\\"1681\\\" height=\\\"1600\\\"\\/>\\n  <\\/clipPath>\\n<\\/defs>\\n<polygon clip-path=\\\"url(#clip4300)\\\" points=\\\"\\n153.898,1487.47 2352.76,1487.47 2352.76,47.2441 153.898,47.2441 \\n  \\\" fill=\\\"#ffffff\\\" fill-rule=\\\"evenodd\\\" fill-opacity=\\\"1\\\"\\/>\\n<defs>\\n  <clipPath id=\\\"clip4302\\\">\\n    <rect x=\\\"153\\\" y=\\\"47\\\" width=\\\"2200\\\" height=\\\"1441\\\"\\/>\\n  <\\/clipPath>\\n<\\/defs>\\n<polyline clip-path=\\\"url(#clip4302)\\\" style=\\\"stroke:#000000; stroke-width:2; stroke-opacity:0.1; fill:none\\\" points=\\\"\\n  408.691,1487.47 408.691,47.2441 \\n  \\\"\\/>\\n<polyline clip-path=\\\"url(#clip4302)\\\" style=\\\"stroke:#000000; stroke-width:2; stroke-opacity:0.1; fill:none\\\" points=\\\"\\n  690.751,1487.47 690.751,47.2441 \\n  \\\"\\/>\\n<polyline clip-path=\\\"url(#clip4302)\\\" style=\\\"stroke:#000000; stroke-width:2; stroke-opacity:0.1; fill:none\\\" points=\\\"\\n  972.811,1487.47 972.811,47.2441 \\n  \\\"\\/>\\n<polyline clip-path=\\\"url(#clip4302)\\\" style=\\\"stroke:#000000; stroke-width:2; stroke-opacity:0.1; fill:none\\\" points=\\\"\\n  1254.87,1487.47 1254.87,47.2441 \\n  \\\"\\/>\\n<polyline clip-path=\\\"url(#clip4302)\\\" style=\\\"stroke:#000000; stroke-width:2; stroke-opacity:0.1; fill:none\\\" points=\\\"\\n  1536.93,1487.47 1536.93,47.2441 \\n  \\\"\\/>\\n<polyline clip-path=\\\"url(#clip4302)\\\" style=\\\"stroke:#000000; stroke-width:2; stroke-opacity:0.1; fill:none\\\" points=\\\"\\n  1818.99,1487.47 1818.99,47.2441 \\n  \\\"\\/>\\n<polyline clip-path=\\\"url(#clip4302)\\\" style=\\\"stroke:#000000; stroke-width:2; stroke-opacity:0.1; fill:none\\\" points=\\\"\\n  2101.05,1487.47 2101.05,47.2441 \\n  \\\"\\/>\\n<polyline clip-path=\\\"url(#clip4302)\\\" style=\\\"stroke:#000000; stroke-width:2; stroke-opacity:0.1; fill:none\\\" points=\\\"\\n  153.898,1448.26 2352.76,1448.26 \\n  \\\"\\/>\\n<polyline clip-path=\\\"url(#clip4302)\\\" style=\\\"stroke:#000000; stroke-width:2; stroke-opacity:0.1; fill:none\\\" points=\\\"\\n  153.898,1107.24 2352.76,1107.24 \\n  \\\"\\/>\\n<polyline clip-path=\\\"url(#clip4302)\\\" style=\\\"stroke:#000000; stroke-width:2; stroke-opacity:0.1; fill:none\\\" points=\\\"\\n  153.898,766.213 2352.76,766.213 \\n  \\\"\\/>\\n<polyline clip-path=\\\"url(#clip4302)\\\" style=\\\"stroke:#000000; stroke-width:2; stroke-opacity:0.1; fill:none\\\" points=\\\"\\n  153.898,425.191 2352.76,425.191 \\n  \\\"\\/>\\n<polyline clip-path=\\\"url(#clip4302)\\\" style=\\\"stroke:#000000; stroke-width:2; stroke-opacity:0.1; fill:none\\\" points=\\\"\\n  153.898,84.1691 2352.76,84.1691 \\n  \\\"\\/>\\n<polyline clip-path=\\\"url(#clip4300)\\\" style=\\\"stroke:#000000; stroke-width:4; stroke-opacity:1; fill:none\\\" points=\\\"\\n  153.898,1487.47 2352.76,1487.47 \\n  \\\"\\/>\\n<polyline clip-path=\\\"url(#clip4300)\\\" style=\\\"stroke:#000000; stroke-width:4; stroke-opacity:1; fill:none\\\" points=\\\"\\n  153.898,1487.47 153.898,47.2441 \\n  \\\"\\/>\\n<polyline clip-path=\\\"url(#clip4300)\\\" style=\\\"stroke:#000000; stroke-width:4; stroke-opacity:1; fill:none\\\" points=\\\"\\n  408.691,1487.47 408.691,1465.87 \\n  \\\"\\/>\\n<polyline clip-path=\\\"url(#clip4300)\\\" style=\\\"stroke:#000000; stroke-width:4; stroke-opacity:1; fill:none\\\" points=\\\"\\n  690.751,1487.47 690.751,1465.87 \\n  \\\"\\/>\\n<polyline clip-path=\\\"url(#clip4300)\\\" style=\\\"stroke:#000000; stroke-width:4; stroke-opacity:1; fill:none\\\" points=\\\"\\n  972.811,1487.47 972.811,1465.87 \\n  \\\"\\/>\\n<polyline clip-path=\\\"url(#clip4300)\\\" style=\\\"stroke:#000000; stroke-width:4; stroke-opacity:1; fill:none\\\" points=\\\"\\n  1254.87,1487.47 1254.87,1465.87 \\n  \\\"\\/>\\n<polyline clip-path=\\\"url(#clip4300)\\\" style=\\\"stroke:#000000; stroke-width:4; stroke-opacity:1; fill:none\\\" points=\\\"\\n  1536.93,1487.47 1536.93,1465.87 \\n  \\\"\\/>\\n<polyline clip-path=\\\"url(#clip4300)\\\" style=\\\"stroke:#000000; stroke-width:4; stroke-opacity:1; fill:none\\\" points=\\\"\\n  1818.99,1487.47 1818.99,1465.87 \\n  \\\"\\/>\\n<polyline clip-path=\\\"url(#clip4300)\\\" style=\\\"stroke:#000000; stroke-width:4; stroke-opacity:1; fill:none\\\" points=\\\"\\n  2101.05,1487.47 2101.05,1465.87 \\n  \\\"\\/>\\n<polyline clip-path=\\\"url(#clip4300)\\\" style=\\\"stroke:#000000; stroke-width:4; stroke-opacity:1; fill:none\\\" points=\\\"\\n  153.898,1448.26 186.881,1448.26 \\n  \\\"\\/>\\n<polyline clip-path=\\\"url(#clip4300)\\\" style=\\\"stroke:#000000; stroke-width:4; stroke-opacity:1; fill:none\\\" points=\\\"\\n  153.898,1107.24 186.881,1107.24 \\n  \\\"\\/>\\n<polyline clip-path=\\\"url(#clip4300)\\\" style=\\\"stroke:#000000; stroke-width:4; stroke-opacity:1; fill:none\\\" points=\\\"\\n  153.898,766.213 186.881,766.213 \\n  \\\"\\/>\\n<polyline clip-path=\\\"url(#clip4300)\\\" style=\\\"stroke:#000000; stroke-width:4; stroke-opacity:1; fill:none\\\" points=\\\"\\n  153.898,425.191 186.881,425.191 \\n  \\\"\\/>\\n<polyline clip-path=\\\"url(#clip4300)\\\" style=\\\"stroke:#000000; stroke-width:4; stroke-opacity:1; fill:none\\\" points=\\\"\\n  153.898,84.1691 186.881,84.1691 \\n  \\\"\\/>\\n<g clip-path=\\\"url(#clip4300)\\\">\\n<text style=\\\"fill:#000000; fill-opacity:1; font-family:Arial,Helvetica Neue,Helvetica,sans-serif; font-size:48px; text-anchor:middle;\\\" transform=\\\"rotate(0, 408.691, 1541.47)\\\" x=\\\"408.691\\\" y=\\\"1541.47\\\">-3<\\/text>\\n<\\/g>\\n<g clip-path=\\\"url(#clip4300)\\\">\\n<text style=\\\"fill:#000000; fill-opacity:1; font-family:Arial,Helvetica Neue,Helvetica,sans-serif; font-size:48px; text-anchor:middle;\\\" transform=\\\"rotate(0, 690.751, 1541.47)\\\" x=\\\"690.751\\\" y=\\\"1541.47\\\">-2<\\/text>\\n<\\/g>\\n<g clip-path=\\\"url(#clip4300)\\\">\\n<text style=\\\"fill:#000000; fill-opacity:1; font-family:Arial,Helvetica Neue,Helvetica,sans-serif; font-size:48px; text-anchor:middle;\\\" transform=\\\"rotate(0, 972.811, 1541.47)\\\" x=\\\"972.811\\\" y=\\\"1541.47\\\">-1<\\/text>\\n<\\/g>\\n<g clip-path=\\\"url(#clip4300)\\\">\\n<text style=\\\"fill:#000000; fill-opacity:1; font-family:Arial,Helvetica Neue,Helvetica,sans-serif; font-size:48px; text-anchor:middle;\\\" transform=\\\"rotate(0, 1254.87, 1541.47)\\\" x=\\\"1254.87\\\" y=\\\"1541.47\\\">0<\\/text>\\n<\\/g>\\n<g clip-path=\\\"url(#clip4300)\\\">\\n<text style=\\\"fill:#000000; fill-opacity:1; font-family:Arial,Helvetica Neue,Helvetica,sans-serif; font-size:48px; text-anchor:middle;\\\" transform=\\\"rotate(0, 1536.93, 1541.47)\\\" x=\\\"1536.93\\\" y=\\\"1541.47\\\">1<\\/text>\\n<\\/g>\\n<g clip-path=\\\"url(#clip4300)\\\">\\n<text style=\\\"fill:#000000; fill-opacity:1; font-family:Arial,Helvetica Neue,Helvetica,sans-serif; font-size:48px; text-anchor:middle;\\\" transform=\\\"rotate(0, 1818.99, 1541.47)\\\" x=\\\"1818.99\\\" y=\\\"1541.47\\\">2<\\/text>\\n<\\/g>\\n<g clip-path=\\\"url(#clip4300)\\\">\\n<text style=\\\"fill:#000000; fill-opacity:1; font-family:Arial,Helvetica Neue,Helvetica,sans-serif; font-size:48px; text-anchor:middle;\\\" transform=\\\"rotate(0, 2101.05, 1541.47)\\\" x=\\\"2101.05\\\" y=\\\"1541.47\\\">3<\\/text>\\n<\\/g>\\n<g clip-path=\\\"url(#clip4300)\\\">\\n<text style=\\\"fill:#000000; fill-opacity:1; font-family:Arial,Helvetica Neue,Helvetica,sans-serif; font-size:48px; text-anchor:end;\\\" transform=\\\"rotate(0, 129.898, 1465.76)\\\" x=\\\"129.898\\\" y=\\\"1465.76\\\">0.0<\\/text>\\n<\\/g>\\n<g clip-path=\\\"url(#clip4300)\\\">\\n<text style=\\\"fill:#000000; fill-opacity:1; font-family:Arial,Helvetica Neue,Helvetica,sans-serif; font-size:48px; text-anchor:end;\\\" transform=\\\"rotate(0, 129.898, 1124.74)\\\" x=\\\"129.898\\\" y=\\\"1124.74\\\">0.1<\\/text>\\n<\\/g>\\n<g clip-path=\\\"url(#clip4300)\\\">\\n<text style=\\\"fill:#000000; fill-opacity:1; font-family:Arial,Helvetica Neue,Helvetica,sans-serif; font-size:48px; text-anchor:end;\\\" transform=\\\"rotate(0, 129.898, 783.713)\\\" x=\\\"129.898\\\" y=\\\"783.713\\\">0.2<\\/text>\\n<\\/g>\\n<g clip-path=\\\"url(#clip4300)\\\">\\n<text style=\\\"fill:#000000; fill-opacity:1; font-family:Arial,Helvetica Neue,Helvetica,sans-serif; font-size:48px; text-anchor:end;\\\" transform=\\\"rotate(0, 129.898, 442.691)\\\" x=\\\"129.898\\\" y=\\\"442.691\\\">0.3<\\/text>\\n<\\/g>\\n<g clip-path=\\\"url(#clip4300)\\\">\\n<text style=\\\"fill:#000000; fill-opacity:1; font-family:Arial,Helvetica Neue,Helvetica,sans-serif; font-size:48px; text-anchor:end;\\\" transform=\\\"rotate(0, 129.898, 101.669)\\\" x=\\\"129.898\\\" y=\\\"101.669\\\">0.4<\\/text>\\n<\\/g>\\n<polyline clip-path=\\\"url(#clip4302)\\\" style=\\\"stroke:#009af9; stroke-width:4; stroke-opacity:1; fill:none\\\" points=\\\"\\n  216.13,1446.71 226.374,1446.49 321.096,1442.58 415.819,1431.96 472.743,1419.15 529.667,1398.34 577.796,1371.97 625.925,1335.02 652.065,1309.62 678.206,1279.97 \\n  704.347,1245.74 730.487,1206.62 754.587,1166.06 778.686,1121.08 802.785,1071.69 826.885,1017.99 878.559,889.561 930.233,746.74 990.102,572.562 1049.97,403.293 \\n  1076.57,334.155 1103.18,270.962 1129.78,215.201 1156.38,168.237 1179.71,135.231 1203.04,110.555 1226.37,94.7059 1249.69,88.0053 1275.13,91.2801 1300.56,105.509 \\n  1325.99,130.349 1351.43,165.204 1377.01,209.539 1402.6,262.142 1428.18,321.818 1453.77,387.257 1510.34,545.537 1566.92,710.492 1620.75,861.693 1674.58,998.587 \\n  1702.56,1062.21 1730.55,1120.08 1758.53,1172.01 1786.52,1217.99 1833.63,1282.52 1880.75,1332.24 1938.27,1375.99 1995.79,1405.07 2049.86,1422.63 2103.94,1433.6 \\n  2190.56,1442.71 2277.19,1446.35 2290.52,1446.65 \\n  \\\"\\/>\\n<polyline clip-path=\\\"url(#clip4302)\\\" style=\\\"stroke:#e26f46; stroke-width:16; stroke-opacity:1; fill:none\\\" stroke-dasharray=\\\"8, 16\\\" points=\\\"\\n  1247.8,145511 1247.8,-143976 \\n  \\\"\\/>\\n<polyline clip-path=\\\"url(#clip4302)\\\" style=\\\"stroke:#000000; stroke-width:4; stroke-opacity:1; fill:none\\\" points=\\\"\\n  1247.8,145511 1247.8,-143976 \\n  \\\"\\/>\\n<polygon clip-path=\\\"url(#clip4300)\\\" points=\\\"\\n1547.1,372.684 2280.76,372.684 2280.76,130.764 1547.1,130.764 \\n  \\\" fill=\\\"#ffffff\\\" fill-rule=\\\"evenodd\\\" fill-opacity=\\\"1\\\"\\/>\\n<polyline clip-path=\\\"url(#clip4300)\\\" style=\\\"stroke:#000000; stroke-width:4; stroke-opacity:1; fill:none\\\" points=\\\"\\n  1547.1,372.684 2280.76,372.684 2280.76,130.764 1547.1,130.764 1547.1,372.684 \\n  \\\"\\/>\\n<polyline clip-path=\\\"url(#clip4300)\\\" style=\\\"stroke:#009af9; stroke-width:4; stroke-opacity:1; fill:none\\\" points=\\\"\\n  1571.1,191.244 1715.1,191.244 \\n  \\\"\\/>\\n<g clip-path=\\\"url(#clip4300)\\\">\\n<text style=\\\"fill:#000000; fill-opacity:1; font-family:Arial,Helvetica Neue,Helvetica,sans-serif; font-size:48px; text-anchor:start;\\\" transform=\\\"rotate(0, 1739.1, 208.744)\\\" x=\\\"1739.1\\\" y=\\\"208.744\\\">y1<\\/text>\\n<\\/g>\\n<polyline clip-path=\\\"url(#clip4300)\\\" style=\\\"stroke:#e26f46; stroke-width:16; stroke-opacity:1; fill:none\\\" stroke-dasharray=\\\"8, 16\\\" points=\\\"\\n  1571.1,251.724 1715.1,251.724 \\n  \\\"\\/>\\n<g clip-path=\\\"url(#clip4300)\\\">\\n<text style=\\\"fill:#000000; fill-opacity:1; font-family:Arial,Helvetica Neue,Helvetica,sans-serif; font-size:48px; text-anchor:start;\\\" transform=\\\"rotate(0, 1739.1, 269.224)\\\" x=\\\"1739.1\\\" y=\\\"269.224\\\">My Function: -0.0251<\\/text>\\n<\\/g>\\n<polyline clip-path=\\\"url(#clip4300)\\\" style=\\\"stroke:#000000; stroke-width:4; stroke-opacity:1; fill:none\\\" points=\\\"\\n  1571.1,312.204 1715.1,312.204 \\n  \\\"\\/>\\n<g clip-path=\\\"url(#clip4300)\\\">\\n<text style=\\\"fill:#000000; fill-opacity:1; font-family:Arial,Helvetica Neue,Helvetica,sans-serif; font-size:48px; text-anchor:start;\\\" transform=\\\"rotate(0, 1739.1, 329.704)\\\" x=\\\"1739.1\\\" y=\\\"329.704\\\">True Quantile: -0.0251<\\/text>\\n<\\/g>\\n<\\/svg>\\n\"},\"nodeType\":\"DOM\",\"type\":\"node\",\"instanceArgs\":{\"namespace\":\"html\",\"tag\":\"div\"},\"children\":[]}]}}}},\"children\":[{\"props\":{},\"nodeType\":\"ObservableNode\",\"type\":\"node\",\"instanceArgs\":{\"id\":\"ob_12\",\"name\":\"obs-node\"},\"children\":[]}]}]},\n",
       "            window,\n",
       "        );\n",
       "    } else {\n",
       "        document\n",
       "            .querySelector('[data-webio-mountpoint=\"11568007348058804043\"]')\n",
       "            .innerHTML = (\n",
       "                '<strong>WebIO not detected. Please read ' +\n",
       "                '<a href=\"https://juliagizmos.github.io/WebIO.jl/latest/troubleshooting/not-detected/\">the troubleshooting guide</a> ' +\n",
       "                'for more information on how to resolve this issue.' +\n",
       "                '</strong>'\n",
       "            );\n",
       "    }\n",
       "    </script>\n",
       "</div>\n"
      ],
      "text/plain": [
       "Node{WebIO.DOM}(WebIO.DOM(:html, :div), Any[Node{WebIO.DOM}(WebIO.DOM(:html, :div), Any[Scope(Node{WebIO.DOM}(WebIO.DOM(:html, :div), Any[Node{WebIO.DOM}(WebIO.DOM(:html, :div), Any[Node{WebIO.DOM}(WebIO.DOM(:html, :label), Any[\"d\"], Dict{Symbol,Any}(:className => \"interact \",:style => Dict{Any,Any}(:padding => \"5px 10px 0px 10px\")))], Dict{Symbol,Any}(:className => \"interact-flex-row-left\")), Node{WebIO.DOM}(WebIO.DOM(:html, :div), Any[Node{WebIO.DOM}(WebIO.DOM(:html, :div), Any[Node{WebIO.DOM}(WebIO.DOM(:html, :span), Any[Node{WebIO.DOM}(WebIO.DOM(:html, :label), Any[], Dict{Symbol,Any}(:attributes => Dict(\"data-bind\" => \"text : key\")))], Dict{Symbol,Any}(:attributes => Dict(\"data-bind\" => \"click: function (){\\$root.update(val)}, css: {'is-primary is-selected' : \\$root.index() == val, 'interact-widget is-medium button ' : true}\")))], Dict{Symbol,Any}(:attributes => (\"data-bind\" => \"foreach : options_js\"),:className => \"buttons has-addons is-centered\"))], Dict{Symbol,Any}(:className => \"interact-flex-row-center\")), Node{WebIO.DOM}(WebIO.DOM(:html, :div), Any[Node{WebIO.DOM}(WebIO.DOM(:html, :div), Any[], Dict{Symbol,Any}())], Dict{Symbol,Any}(:className => \"interact-flex-row-right\"))], Dict{Symbol,Any}(:className => \"interact-flex-row interact-widget\")), Dict{String,Tuple{Observables.AbstractObservable,Union{Nothing, Bool}}}(\"options_js\" => (Observable{Any} with 1 listeners. Value:\n",
       "OrderedDict[OrderedDict{String,Any}(\"key\" => \"Normal{Float64}(μ=0.0, σ=1.0)\",\"val\" => 1,\"id\" => \"idh7bpCFPe\"), OrderedDict{String,Any}(\"key\" => \"Uniform{Float64}(a=0.0, b=1.0)\",\"val\" => 2,\"id\" => \"idLmKp109u\"), OrderedDict{String,Any}(\"key\" => \"Gamma{Float64}(α=5.0, θ=3.0)\",\"val\" => 3,\"id\" => \"idXLVzykDI\"), OrderedDict{String,Any}(\"key\" => \"Beta{Float64}(α=6.0, β=3.0)\",\"val\" => 4,\"id\" => \"idqh4GnFGi\"), OrderedDict{String,Any}(\"key\" => \"Exponential{Float64}(θ=1.0)\",\"val\" => 5,\"id\" => \"idArh5dogU\")], nothing),\"index\" => (Observable{Any} with 2 listeners. Value:\n",
       "1, nothing)), Set(String[]), nothing, Asset[Asset(\"js\", \"knockout\", \"/Users/joshday/.julia/packages/Knockout/1sDlc/src/../assets/knockout.js\"), Asset(\"js\", \"knockout_punches\", \"/Users/joshday/.julia/packages/Knockout/1sDlc/src/../assets/knockout_punches.js\"), Asset(\"js\", nothing, \"/Users/joshday/.julia/packages/InteractBase/9mFwe/src/../assets/all.js\"), Asset(\"css\", nothing, \"/Users/joshday/.julia/packages/InteractBase/9mFwe/src/../assets/style.css\"), Asset(\"css\", nothing, \"/Users/joshday/.julia/packages/Interact/SbgIk/src/../assets/bulma_confined.min.css\")], Dict{Any,Any}(\"options_js\" => Any[WebIO.JSString(\"(function (val){return (val!=this.model[\\\"options_js\\\"]()) ? (this.valueFromJulia[\\\"options_js\\\"]=true, this.model[\\\"options_js\\\"](val)) : undefined})\")],\"index\" => Any[WebIO.JSString(\"(function (val){return (val!=this.model[\\\"index\\\"]()) ? (this.valueFromJulia[\\\"index\\\"]=true, this.model[\\\"index\\\"](val)) : undefined})\")]), WebIO.ConnectionPool(Channel{Any}(sz_max:32,sz_curr:0), Set(AbstractConnection[]), Base.GenericCondition{Base.AlwaysLockedST}(Base.InvasiveLinkedList{Task}(Task (runnable) @0x000000012a2b2d10, Task (runnable) @0x000000012a2b2d10), Base.AlwaysLockedST(1))), WebIO.JSString[WebIO.JSString(\"function () {\\n    var handler = (function (ko, koPunches) {\\n    ko.punches.enableAll();\\n    ko.bindingHandlers.numericValue = {\\n        init: function(element, valueAccessor, allBindings, data, context) {\\n            var stringified = ko.observable(ko.unwrap(valueAccessor()));\\n            stringified.subscribe(function(value) {\\n                var val = parseFloat(value);\\n                if (!isNaN(val)) {\\n                    valueAccessor()(val);\\n                }\\n            });\\n            valueAccessor().subscribe(function(value) {\\n                var str = JSON.stringify(value);\\n                if ((str == \\\"0\\\") && ([\\\"-0\\\", \\\"-0.\\\"].indexOf(stringified()) >= 0))\\n                     return;\\n                 if ([\\\"null\\\", \\\"\\\"].indexOf(str) >= 0)\\n                     return;\\n                stringified(str);\\n            });\\n            ko.applyBindingsToNode(\\n                element,\\n                {\\n                    value: stringified,\\n                    valueUpdate: allBindings.get('valueUpdate'),\\n                },\\n                context,\\n            );\\n        }\\n    };\\n    var json_data = {\\\"options_js\\\":WebIO.getval({\\\"name\\\":\\\"options_js\\\",\\\"scope\\\":\\\"12961163092147159695\\\",\\\"id\\\":\\\"ob_05\\\",\\\"type\\\":\\\"observable\\\"}),\\\"index\\\":WebIO.getval({\\\"name\\\":\\\"index\\\",\\\"scope\\\":\\\"12961163092147159695\\\",\\\"id\\\":\\\"ob_04\\\",\\\"type\\\":\\\"observable\\\"})};\\n    var self = this;\\n    function AppViewModel() {\\n        for (var key in json_data) {\\n            var el = json_data[key];\\n            this[key] = Array.isArray(el) ? ko.observableArray(el) : ko.observable(el);\\n        }\\n        [this[\\\"update\\\"]=function (val) {this.index(val)}]\\n        \\n        [this[\\\"options_js\\\"].subscribe((function (val){!(this.valueFromJulia[\\\"options_js\\\"]) ? (WebIO.setval({\\\"name\\\":\\\"options_js\\\",\\\"scope\\\":\\\"12961163092147159695\\\",\\\"id\\\":\\\"ob_05\\\",\\\"type\\\":\\\"observable\\\"},val)) : undefined; return this.valueFromJulia[\\\"options_js\\\"]=false}),self),this[\\\"index\\\"].subscribe((function (val){!(this.valueFromJulia[\\\"index\\\"]) ? (WebIO.setval({\\\"name\\\":\\\"index\\\",\\\"scope\\\":\\\"12961163092147159695\\\",\\\"id\\\":\\\"ob_04\\\",\\\"type\\\":\\\"observable\\\"},val)) : undefined; return this.valueFromJulia[\\\"index\\\"]=false}),self)]\\n        \\n    }\\n    self.model = new AppViewModel();\\n    self.valueFromJulia = {};\\n    for (var key in json_data) {\\n        self.valueFromJulia[key] = false;\\n    }\\n    ko.applyBindings(self.model, self.dom);\\n}\\n);\\n    (WebIO.importBlock({\\\"data\\\":[{\\\"name\\\":\\\"knockout\\\",\\\"type\\\":\\\"js\\\",\\\"url\\\":\\\"/assetserver/138fa309f919ec7484ebc55e3091f379f47cc424-knockout.js\\\"},{\\\"name\\\":\\\"knockout_punches\\\",\\\"type\\\":\\\"js\\\",\\\"url\\\":\\\"/assetserver/620d29c2d3531d56ec3a1d8a13d747afffb44410-knockout_punches.js\\\"}],\\\"type\\\":\\\"async_block\\\"})).then((imports) => handler.apply(this, imports));\\n}\\n\")])], Dict{Symbol,Any}(:className => \"interact-widget\")), Node{WebIO.DOM}(WebIO.DOM(:html, :div), Any[Scope(Node{WebIO.DOM}(WebIO.DOM(:html, :div), Any[Node{WebIO.DOM}(WebIO.DOM(:html, :div), Any[Node{WebIO.DOM}(WebIO.DOM(:html, :label), Any[\"q\"], Dict{Symbol,Any}(:className => \"interact \",:style => Dict{Any,Any}(:padding => \"5px 10px 0px 10px\")))], Dict{Symbol,Any}(:className => \"interact-flex-row-left\")), Node{WebIO.DOM}(WebIO.DOM(:html, :div), Any[Node{WebIO.DOM}(WebIO.DOM(:html, :input), Any[], Dict{Symbol,Any}(:max => 50,:min => 1,:attributes => Dict{Any,Any}(:type => \"range\",Symbol(\"data-bind\") => \"numericValue: index, valueUpdate: 'input', event: {change: function (){this.changes(this.changes()+1)}}\",\"orient\" => \"horizontal\"),:step => 1,:className => \"slider slider is-fullwidth\",:style => Dict{Any,Any}()))], Dict{Symbol,Any}(:className => \"interact-flex-row-center\")), Node{WebIO.DOM}(WebIO.DOM(:html, :div), Any[Node{WebIO.DOM}(WebIO.DOM(:html, :p), Any[], Dict{Symbol,Any}(:attributes => Dict(\"data-bind\" => \"text: formatted_val\")))], Dict{Symbol,Any}(:className => \"interact-flex-row-right\"))], Dict{Symbol,Any}(:className => \"interact-flex-row interact-widget\")), Dict{String,Tuple{Observables.AbstractObservable,Union{Nothing, Bool}}}(\"changes\" => (Observable{Int64} with 1 listeners. Value:\n",
       "0, nothing),\"index\" => (Observable{Any} with 2 listeners. Value:\n",
       "25, nothing)), Set(String[]), nothing, Asset[Asset(\"js\", \"knockout\", \"/Users/joshday/.julia/packages/Knockout/1sDlc/src/../assets/knockout.js\"), Asset(\"js\", \"knockout_punches\", \"/Users/joshday/.julia/packages/Knockout/1sDlc/src/../assets/knockout_punches.js\"), Asset(\"js\", nothing, \"/Users/joshday/.julia/packages/InteractBase/9mFwe/src/../assets/all.js\"), Asset(\"css\", nothing, \"/Users/joshday/.julia/packages/InteractBase/9mFwe/src/../assets/style.css\"), Asset(\"css\", nothing, \"/Users/joshday/.julia/packages/Interact/SbgIk/src/../assets/bulma_confined.min.css\")], Dict{Any,Any}(\"changes\" => Any[WebIO.JSString(\"(function (val){return (val!=this.model[\\\"changes\\\"]()) ? (this.valueFromJulia[\\\"changes\\\"]=true, this.model[\\\"changes\\\"](val)) : undefined})\")],\"index\" => Any[WebIO.JSString(\"(function (val){return (val!=this.model[\\\"index\\\"]()) ? (this.valueFromJulia[\\\"index\\\"]=true, this.model[\\\"index\\\"](val)) : undefined})\")]), WebIO.ConnectionPool(Channel{Any}(sz_max:32,sz_curr:0), Set(AbstractConnection[]), Base.GenericCondition{Base.AlwaysLockedST}(Base.InvasiveLinkedList{Task}(Task (runnable) @0x000000010abcc6d0, Task (runnable) @0x000000010abcc6d0), Base.AlwaysLockedST(1))), WebIO.JSString[WebIO.JSString(\"function () {\\n    var handler = (function (ko, koPunches) {\\n    ko.punches.enableAll();\\n    ko.bindingHandlers.numericValue = {\\n        init: function(element, valueAccessor, allBindings, data, context) {\\n            var stringified = ko.observable(ko.unwrap(valueAccessor()));\\n            stringified.subscribe(function(value) {\\n                var val = parseFloat(value);\\n                if (!isNaN(val)) {\\n                    valueAccessor()(val);\\n                }\\n            });\\n            valueAccessor().subscribe(function(value) {\\n                var str = JSON.stringify(value);\\n                if ((str == \\\"0\\\") && ([\\\"-0\\\", \\\"-0.\\\"].indexOf(stringified()) >= 0))\\n                     return;\\n                 if ([\\\"null\\\", \\\"\\\"].indexOf(str) >= 0)\\n                     return;\\n                stringified(str);\\n            });\\n            ko.applyBindingsToNode(\\n                element,\\n                {\\n                    value: stringified,\\n                    valueUpdate: allBindings.get('valueUpdate'),\\n                },\\n                context,\\n            );\\n        }\\n    };\\n    var json_data = {\\\"formatted_vals\\\":[\\\"0.01\\\",\\\"0.03\\\",\\\"0.05\\\",\\\"0.07\\\",\\\"0.09\\\",\\\"0.11\\\",\\\"0.13\\\",\\\"0.15\\\",\\\"0.17\\\",\\\"0.19\\\",\\\"0.21\\\",\\\"0.23\\\",\\\"0.25\\\",\\\"0.27\\\",\\\"0.29\\\",\\\"0.31\\\",\\\"0.33\\\",\\\"0.35\\\",\\\"0.37\\\",\\\"0.39\\\",\\\"0.41\\\",\\\"0.43\\\",\\\"0.45\\\",\\\"0.47\\\",\\\"0.49\\\",\\\"0.51\\\",\\\"0.53\\\",\\\"0.55\\\",\\\"0.57\\\",\\\"0.59\\\",\\\"0.61\\\",\\\"0.63\\\",\\\"0.65\\\",\\\"0.67\\\",\\\"0.69\\\",\\\"0.71\\\",\\\"0.73\\\",\\\"0.75\\\",\\\"0.77\\\",\\\"0.79\\\",\\\"0.81\\\",\\\"0.83\\\",\\\"0.85\\\",\\\"0.87\\\",\\\"0.89\\\",\\\"0.91\\\",\\\"0.93\\\",\\\"0.95\\\",\\\"0.97\\\",\\\"0.99\\\"],\\\"changes\\\":WebIO.getval({\\\"name\\\":\\\"changes\\\",\\\"scope\\\":\\\"13789307987002524350\\\",\\\"id\\\":\\\"ob_08\\\",\\\"type\\\":\\\"observable\\\"}),\\\"index\\\":WebIO.getval({\\\"name\\\":\\\"index\\\",\\\"scope\\\":\\\"13789307987002524350\\\",\\\"id\\\":\\\"ob_07\\\",\\\"type\\\":\\\"observable\\\"})};\\n    var self = this;\\n    function AppViewModel() {\\n        for (var key in json_data) {\\n            var el = json_data[key];\\n            this[key] = Array.isArray(el) ? ko.observableArray(el) : ko.observable(el);\\n        }\\n        \\n        [this[\\\"formatted_val\\\"]=ko.computed(    function(){\\n        return this.formatted_vals()[parseInt(this.index())-(1)];\\n    }\\n,this)]\\n        [this[\\\"changes\\\"].subscribe((function (val){!(this.valueFromJulia[\\\"changes\\\"]) ? (WebIO.setval({\\\"name\\\":\\\"changes\\\",\\\"scope\\\":\\\"13789307987002524350\\\",\\\"id\\\":\\\"ob_08\\\",\\\"type\\\":\\\"observable\\\"},val)) : undefined; return this.valueFromJulia[\\\"changes\\\"]=false}),self),this[\\\"index\\\"].subscribe((function (val){!(this.valueFromJulia[\\\"index\\\"]) ? (WebIO.setval({\\\"name\\\":\\\"index\\\",\\\"scope\\\":\\\"13789307987002524350\\\",\\\"id\\\":\\\"ob_07\\\",\\\"type\\\":\\\"observable\\\"},val)) : undefined; return this.valueFromJulia[\\\"index\\\"]=false}),self)]\\n        \\n    }\\n    self.model = new AppViewModel();\\n    self.valueFromJulia = {};\\n    for (var key in json_data) {\\n        self.valueFromJulia[key] = false;\\n    }\\n    ko.applyBindings(self.model, self.dom);\\n}\\n);\\n    (WebIO.importBlock({\\\"data\\\":[{\\\"name\\\":\\\"knockout\\\",\\\"type\\\":\\\"js\\\",\\\"url\\\":\\\"/assetserver/138fa309f919ec7484ebc55e3091f379f47cc424-knockout.js\\\"},{\\\"name\\\":\\\"knockout_punches\\\",\\\"type\\\":\\\"js\\\",\\\"url\\\":\\\"/assetserver/620d29c2d3531d56ec3a1d8a13d747afffb44410-knockout_punches.js\\\"}],\\\"type\\\":\\\"async_block\\\"})).then((imports) => handler.apply(this, imports));\\n}\\n\")])], Dict{Symbol,Any}(:className => \"field interact-widget\")), Observable{Any} with 0 listeners. Value:\n",
       "Node{WebIO.DOM}(WebIO.DOM(:html, :div), Any[Plot{Plots.GRBackend() n=3}], Dict{Symbol,Any}(:className => \"interact-flex-row interact-widget\"))], Dict{Symbol,Any}())"
      ]
     },
     "execution_count": 2,
     "metadata": {
      "application/vnd.webio.node+json": {
       "kernelId": "57a1eee1-6c10-4aef-a8ad-422b80c4b0f3"
      }
     },
     "output_type": "execute_result"
    }
   ],
   "source": [
    "using Interact, StatsPlots\n",
    "\n",
    "@manipulate for d in [Normal(), Uniform(), Gamma(5,3), Beta(6,3), Exponential()], q in 0.01:0.02:0.99\n",
    "    plot(d)\n",
    "    x, y = quantile(d, q), my_quantile(d, q)\n",
    "    vline!([y], lab=\"My Function: $(round(y, digits=4))\", line=(4, :dot))\n",
    "    vline!([x], lab=\"True Quantile: $(round(x, digits=4))\", color=:black)\n",
    "end"
   ]
  },
  {
   "cell_type": "markdown",
   "metadata": {},
   "source": [
    "### Other Things That Should Get You To Try Julia\n",
    "\n",
    "- **Multi-threading**\n",
    "    - First add `export JULIA_NUM_THREADS=4` to your `.bash_profile`"
   ]
  },
  {
   "cell_type": "code",
   "execution_count": 3,
   "metadata": {},
   "outputs": [
    {
     "name": "stdout",
     "output_type": "stream",
     "text": [
      "i = 4 on thread 2\n",
      "i = 1 on thread 1\n",
      "i = 5 on thread 2\n",
      "i = 9 on thread 4\n",
      "i = 2 on thread 1\n",
      "i = 10 on thread 4\n",
      "i = 6 on thread 2\n",
      "i = 3 on thread 1\n",
      "i = 7 on thread 3\n",
      "i = 8 on thread 3\n"
     ]
    }
   ],
   "source": [
    "Threads.@threads for i = 1:10\n",
    "    println(\"i = $i on thread $(Threads.threadid())\")\n",
    "end"
   ]
  },
  {
   "cell_type": "markdown",
   "metadata": {},
   "source": [
    "- **Generators** (lazily map/filter a collection)"
   ]
  },
  {
   "cell_type": "code",
   "execution_count": 4,
   "metadata": {},
   "outputs": [
    {
     "data": {
      "text/plain": [
       "0.9991130038345337"
      ]
     },
     "execution_count": 4,
     "metadata": {},
     "output_type": "execute_result"
    }
   ],
   "source": [
    "x = randn(10^7)\n",
    "\n",
    "g = (xi^2 for xi in x if xi > 0)\n",
    "\n",
    "mean(g)"
   ]
  },
  {
   "cell_type": "markdown",
   "metadata": {},
   "source": [
    "- **Automatic Differentiation**\n",
    "    - If you're into the deep learning thing"
   ]
  },
  {
   "cell_type": "code",
   "execution_count": 5,
   "metadata": {},
   "outputs": [
    {
     "data": {
      "text/plain": [
       "(53, 5)"
      ]
     },
     "execution_count": 5,
     "metadata": {},
     "output_type": "execute_result"
    }
   ],
   "source": [
    "using Zygote\n",
    "\n",
    "thing(x) = 5x + 3\n",
    "\n",
    "thing(10), thing'(10)"
   ]
  },
  {
   "cell_type": "markdown",
   "metadata": {},
   "source": [
    "- **Machine Learning**"
   ]
  },
  {
   "cell_type": "code",
   "execution_count": 6,
   "metadata": {},
   "outputs": [
    {
     "name": "stderr",
     "output_type": "stream",
     "text": [
      "WARNING: using MLJ.Node in module Main conflicts with an existing identifier.\n",
      "WARNING: both CSSUtil and Base export \"empty\"; uses of it in module Interact must be qualified\n"
     ]
    },
    {
     "data": {
      "text/plain": [
       "Dict{Any,Any} with 9 entries:\n",
       "  \"MultivariateStats\" => Any[\"RidgeRegressor\", \"PCA\"]\n",
       "  \"MLJ\"               => Any[\"ConstantClassifier\", \"Standardizer\", \"SimpleRidge…\n",
       "  \"DecisionTree\"      => Any[\"DecisionTreeRegressor\", \"DecisionTreeClassifier\"]\n",
       "  \"ScikitLearn\"       => Any[\"SVMLRegressor\", \"SVMNuClassifier\", \"ElasticNet\", …\n",
       "  \"LIBSVM\"            => Any[\"EpsilonSVR\", \"LinearSVC\", \"NuSVR\", \"NuSVC\", \"SVC\"…\n",
       "  \"Clustering\"        => Any[\"KMeans\", \"KMedoids\"]\n",
       "  \"GLM\"               => Any[\"OLSRegressor\", \"GLMCountRegressor\"]\n",
       "  \"NaiveBayes\"        => Any[\"GaussianNBClassifier\", \"MultinomialNBClassifier\"]\n",
       "  \"XGBoost\"           => Any[\"XGBoostCount\", \"XGBoostRegressor\", \"XGBoostClassi…"
      ]
     },
     "execution_count": 6,
     "metadata": {},
     "output_type": "execute_result"
    }
   ],
   "source": [
    "using MLJ\n",
    "models()"
   ]
  },
  {
   "cell_type": "markdown",
   "metadata": {
    "extensions": {
     "jupyter_dashboards": {
      "version": 1,
      "views": {
       "grid_default": {
        "hidden": true
       },
       "report_default": {
        "hidden": true
       }
      }
     }
    }
   },
   "source": [
    "---\n",
    "\n",
    "<img src=\"https://user-images.githubusercontent.com/8075494/57313750-3d890d80-70be-11e9-99c9-b3fe0de6ea81.png\" align=\"center\" width=500>"
   ]
  },
  {
   "cell_type": "markdown",
   "metadata": {
    "extensions": {
     "jupyter_dashboards": {
      "version": 1,
      "views": {
       "grid_default": {},
       "report_default": {}
      }
     }
    }
   },
   "source": [
    "# What is OnlineStats?\n",
    "\n",
    "**OnlineStats calculates statistics, models, and big data visualizations via online algorithms.**\n",
    "\n",
    "- Well suited for streaming data or when data is too large to hold in memory.\n",
    "- Processes observations one by one and all algorithms use O(1) memory."
   ]
  },
  {
   "cell_type": "markdown",
   "metadata": {},
   "source": [
    "# Overview\n",
    "\n",
    "### Fit one observation at a time"
   ]
  },
  {
   "cell_type": "code",
   "execution_count": 7,
   "metadata": {},
   "outputs": [
    {
     "data": {
      "text/plain": [
       "Mean: n=1 | value=0.0"
      ]
     },
     "execution_count": 7,
     "metadata": {},
     "output_type": "execute_result"
    }
   ],
   "source": [
    "using OnlineStats\n",
    "\n",
    "o = Mean()\n",
    "\n",
    "fit!(o, 0)"
   ]
  },
  {
   "cell_type": "markdown",
   "metadata": {},
   "source": [
    "### Use type system to identify when to iterate\n",
    "\n",
    "`Mean <: OnlineStat{Number}`\n",
    "\n",
    "- `fit!(o, 1)` -> fit directly\n",
    "- `fit!(o, 1:10)` -> iterate through and `fit!` each element"
   ]
  },
  {
   "cell_type": "code",
   "execution_count": 8,
   "metadata": {},
   "outputs": [
    {
     "data": {
      "text/plain": [
       "Mean: n=11 | value=5.0"
      ]
     },
     "execution_count": 8,
     "metadata": {},
     "output_type": "execute_result"
    }
   ],
   "source": [
    "fit!(o, 1:10)"
   ]
  },
  {
   "cell_type": "markdown",
   "metadata": {},
   "source": [
    "### Distributed Parallelism\n",
    "\n",
    "- Most stats can also be merged together.\n",
    "\n",
    "<img src=\"https://user-images.githubusercontent.com/8075494/57345083-95079780-7117-11e9-81bf-71b0469f04c7.png\" align=\"center\" width=300>"
   ]
  },
  {
   "cell_type": "code",
   "execution_count": 9,
   "metadata": {},
   "outputs": [
    {
     "name": "stdout",
     "output_type": "stream",
     "text": [
      "      From worker 2:\tmyid() = 2\n",
      "      From worker 3:\tmyid() = 3\n",
      "      From worker 4:\tmyid() = 4\n"
     ]
    },
    {
     "data": {
      "text/plain": [
       "Mean: n=30000 | value=0.00530322"
      ]
     },
     "execution_count": 9,
     "metadata": {},
     "output_type": "execute_result"
    }
   ],
   "source": [
    "using Distributed\n",
    "nprocs() == 1 && addprocs(3)\n",
    "@everywhere using OnlineStats\n",
    "\n",
    "@distributed merge for i in 1:3\n",
    "    @show myid()\n",
    "    fit!(Mean(), randn(10_000))\n",
    "end"
   ]
  },
  {
   "cell_type": "markdown",
   "metadata": {},
   "source": [
    "<div class=\"alert alert-info\">\n",
    "    <b>NOTE:</b> <code>@threads</code> uses shared memory and <code>@distributed</code> does not\n",
    "</div>"
   ]
  },
  {
   "cell_type": "markdown",
   "metadata": {},
   "source": [
    "### Fit Multiple Statistics on the Same Variable"
   ]
  },
  {
   "cell_type": "code",
   "execution_count": 10,
   "metadata": {},
   "outputs": [
    {
     "data": {
      "text/plain": [
       "Series\n",
       "  ├── Mean: n=100 | value=-0.0828711\n",
       "  └── Variance: n=100 | value=1.3453"
      ]
     },
     "execution_count": 10,
     "metadata": {},
     "output_type": "execute_result"
    }
   ],
   "source": [
    "o = Series(Mean(), Variance())\n",
    "\n",
    "fit!(o, randn(100))"
   ]
  },
  {
   "cell_type": "markdown",
   "metadata": {},
   "source": [
    "### Fit Multiple Statistics on Different Variables"
   ]
  },
  {
   "cell_type": "code",
   "execution_count": 11,
   "metadata": {},
   "outputs": [
    {
     "data": {
      "text/plain": [
       "Group\n",
       "  ├── Mean: n=100 | value=0.0226035\n",
       "  └── Mean: n=100 | value=-0.104788"
      ]
     },
     "execution_count": 11,
     "metadata": {},
     "output_type": "execute_result"
    }
   ],
   "source": [
    "o = Group(Mean(), Mean())\n",
    "\n",
    "fit!(o, eachrow(randn(100, 2)))"
   ]
  },
  {
   "cell_type": "code",
   "execution_count": 12,
   "metadata": {},
   "outputs": [
    {
     "data": {
      "text/plain": [
       "Group\n",
       "  ├── Mean: n=100 | value=0.0461244\n",
       "  └── Mean: n=100 | value=0.00605273"
      ]
     },
     "execution_count": 12,
     "metadata": {},
     "output_type": "execute_result"
    }
   ],
   "source": [
    "fit!(2Mean(), eachrow(randn(100, 2)))"
   ]
  },
  {
   "cell_type": "markdown",
   "metadata": {},
   "source": [
    "### Plot Things\n",
    "\n",
    "- Many of types have plot recipes for easy data viz."
   ]
  },
  {
   "cell_type": "code",
   "execution_count": 13,
   "metadata": {},
   "outputs": [
    {
     "data": {
      "image/svg+xml": [
       "<?xml version=\"1.0\" encoding=\"utf-8\"?>\n",
       "<svg xmlns=\"http://www.w3.org/2000/svg\" xmlns:xlink=\"http://www.w3.org/1999/xlink\" width=\"600\" height=\"400\" viewBox=\"0 0 2400 1600\">\n",
       "<defs>\n",
       "  <clipPath id=\"clip5100\">\n",
       "    <rect x=\"0\" y=\"0\" width=\"2400\" height=\"1600\"/>\n",
       "  </clipPath>\n",
       "</defs>\n",
       "<polygon clip-path=\"url(#clip5100)\" points=\"\n",
       "0,1600 2400,1600 2400,0 0,0 \n",
       "  \" fill=\"#ffffff\" fill-rule=\"evenodd\" fill-opacity=\"1\"/>\n",
       "<defs>\n",
       "  <clipPath id=\"clip5101\">\n",
       "    <rect x=\"480\" y=\"0\" width=\"1681\" height=\"1600\"/>\n",
       "  </clipPath>\n",
       "</defs>\n",
       "<polygon clip-path=\"url(#clip5100)\" points=\"\n",
       "247.807,1487.47 2352.76,1487.47 2352.76,47.2441 247.807,47.2441 \n",
       "  \" fill=\"#ffffff\" fill-rule=\"evenodd\" fill-opacity=\"1\"/>\n",
       "<defs>\n",
       "  <clipPath id=\"clip5102\">\n",
       "    <rect x=\"247\" y=\"47\" width=\"2106\" height=\"1441\"/>\n",
       "  </clipPath>\n",
       "</defs>\n",
       "<polyline clip-path=\"url(#clip5102)\" style=\"stroke:#000000; stroke-width:2; stroke-opacity:0.1; fill:none\" points=\"\n",
       "  556.717,1487.47 556.717,47.2441 \n",
       "  \"/>\n",
       "<polyline clip-path=\"url(#clip5102)\" style=\"stroke:#000000; stroke-width:2; stroke-opacity:0.1; fill:none\" points=\"\n",
       "  942.984,1487.47 942.984,47.2441 \n",
       "  \"/>\n",
       "<polyline clip-path=\"url(#clip5102)\" style=\"stroke:#000000; stroke-width:2; stroke-opacity:0.1; fill:none\" points=\"\n",
       "  1329.25,1487.47 1329.25,47.2441 \n",
       "  \"/>\n",
       "<polyline clip-path=\"url(#clip5102)\" style=\"stroke:#000000; stroke-width:2; stroke-opacity:0.1; fill:none\" points=\"\n",
       "  1715.52,1487.47 1715.52,47.2441 \n",
       "  \"/>\n",
       "<polyline clip-path=\"url(#clip5102)\" style=\"stroke:#000000; stroke-width:2; stroke-opacity:0.1; fill:none\" points=\"\n",
       "  2101.79,1487.47 2101.79,47.2441 \n",
       "  \"/>\n",
       "<polyline clip-path=\"url(#clip5102)\" style=\"stroke:#000000; stroke-width:2; stroke-opacity:0.1; fill:none\" points=\"\n",
       "  247.807,1446.71 2352.76,1446.71 \n",
       "  \"/>\n",
       "<polyline clip-path=\"url(#clip5102)\" style=\"stroke:#000000; stroke-width:2; stroke-opacity:0.1; fill:none\" points=\"\n",
       "  247.807,1105.56 2352.76,1105.56 \n",
       "  \"/>\n",
       "<polyline clip-path=\"url(#clip5102)\" style=\"stroke:#000000; stroke-width:2; stroke-opacity:0.1; fill:none\" points=\"\n",
       "  247.807,764.408 2352.76,764.408 \n",
       "  \"/>\n",
       "<polyline clip-path=\"url(#clip5102)\" style=\"stroke:#000000; stroke-width:2; stroke-opacity:0.1; fill:none\" points=\"\n",
       "  247.807,423.256 2352.76,423.256 \n",
       "  \"/>\n",
       "<polyline clip-path=\"url(#clip5102)\" style=\"stroke:#000000; stroke-width:2; stroke-opacity:0.1; fill:none\" points=\"\n",
       "  247.807,82.1034 2352.76,82.1034 \n",
       "  \"/>\n",
       "<polyline clip-path=\"url(#clip5100)\" style=\"stroke:#000000; stroke-width:4; stroke-opacity:1; fill:none\" points=\"\n",
       "  247.807,1487.47 2352.76,1487.47 \n",
       "  \"/>\n",
       "<polyline clip-path=\"url(#clip5100)\" style=\"stroke:#000000; stroke-width:4; stroke-opacity:1; fill:none\" points=\"\n",
       "  247.807,1487.47 247.807,47.2441 \n",
       "  \"/>\n",
       "<polyline clip-path=\"url(#clip5100)\" style=\"stroke:#000000; stroke-width:4; stroke-opacity:1; fill:none\" points=\"\n",
       "  556.717,1487.47 556.717,1465.87 \n",
       "  \"/>\n",
       "<polyline clip-path=\"url(#clip5100)\" style=\"stroke:#000000; stroke-width:4; stroke-opacity:1; fill:none\" points=\"\n",
       "  942.984,1487.47 942.984,1465.87 \n",
       "  \"/>\n",
       "<polyline clip-path=\"url(#clip5100)\" style=\"stroke:#000000; stroke-width:4; stroke-opacity:1; fill:none\" points=\"\n",
       "  1329.25,1487.47 1329.25,1465.87 \n",
       "  \"/>\n",
       "<polyline clip-path=\"url(#clip5100)\" style=\"stroke:#000000; stroke-width:4; stroke-opacity:1; fill:none\" points=\"\n",
       "  1715.52,1487.47 1715.52,1465.87 \n",
       "  \"/>\n",
       "<polyline clip-path=\"url(#clip5100)\" style=\"stroke:#000000; stroke-width:4; stroke-opacity:1; fill:none\" points=\"\n",
       "  2101.79,1487.47 2101.79,1465.87 \n",
       "  \"/>\n",
       "<polyline clip-path=\"url(#clip5100)\" style=\"stroke:#000000; stroke-width:4; stroke-opacity:1; fill:none\" points=\"\n",
       "  247.807,1446.71 279.381,1446.71 \n",
       "  \"/>\n",
       "<polyline clip-path=\"url(#clip5100)\" style=\"stroke:#000000; stroke-width:4; stroke-opacity:1; fill:none\" points=\"\n",
       "  247.807,1105.56 279.381,1105.56 \n",
       "  \"/>\n",
       "<polyline clip-path=\"url(#clip5100)\" style=\"stroke:#000000; stroke-width:4; stroke-opacity:1; fill:none\" points=\"\n",
       "  247.807,764.408 279.381,764.408 \n",
       "  \"/>\n",
       "<polyline clip-path=\"url(#clip5100)\" style=\"stroke:#000000; stroke-width:4; stroke-opacity:1; fill:none\" points=\"\n",
       "  247.807,423.256 279.381,423.256 \n",
       "  \"/>\n",
       "<polyline clip-path=\"url(#clip5100)\" style=\"stroke:#000000; stroke-width:4; stroke-opacity:1; fill:none\" points=\"\n",
       "  247.807,82.1034 279.381,82.1034 \n",
       "  \"/>\n",
       "<g clip-path=\"url(#clip5100)\">\n",
       "<text style=\"fill:#000000; fill-opacity:1; font-family:Arial,Helvetica Neue,Helvetica,sans-serif; font-size:48px; text-anchor:middle;\" transform=\"rotate(0, 556.717, 1541.47)\" x=\"556.717\" y=\"1541.47\">-4</text>\n",
       "</g>\n",
       "<g clip-path=\"url(#clip5100)\">\n",
       "<text style=\"fill:#000000; fill-opacity:1; font-family:Arial,Helvetica Neue,Helvetica,sans-serif; font-size:48px; text-anchor:middle;\" transform=\"rotate(0, 942.984, 1541.47)\" x=\"942.984\" y=\"1541.47\">-2</text>\n",
       "</g>\n",
       "<g clip-path=\"url(#clip5100)\">\n",
       "<text style=\"fill:#000000; fill-opacity:1; font-family:Arial,Helvetica Neue,Helvetica,sans-serif; font-size:48px; text-anchor:middle;\" transform=\"rotate(0, 1329.25, 1541.47)\" x=\"1329.25\" y=\"1541.47\">0</text>\n",
       "</g>\n",
       "<g clip-path=\"url(#clip5100)\">\n",
       "<text style=\"fill:#000000; fill-opacity:1; font-family:Arial,Helvetica Neue,Helvetica,sans-serif; font-size:48px; text-anchor:middle;\" transform=\"rotate(0, 1715.52, 1541.47)\" x=\"1715.52\" y=\"1541.47\">2</text>\n",
       "</g>\n",
       "<g clip-path=\"url(#clip5100)\">\n",
       "<text style=\"fill:#000000; fill-opacity:1; font-family:Arial,Helvetica Neue,Helvetica,sans-serif; font-size:48px; text-anchor:middle;\" transform=\"rotate(0, 2101.79, 1541.47)\" x=\"2101.79\" y=\"1541.47\">4</text>\n",
       "</g>\n",
       "<g clip-path=\"url(#clip5100)\">\n",
       "<text style=\"fill:#000000; fill-opacity:1; font-family:Arial,Helvetica Neue,Helvetica,sans-serif; font-size:48px; text-anchor:end;\" transform=\"rotate(0, 223.807, 1464.21)\" x=\"223.807\" y=\"1464.21\">0</text>\n",
       "</g>\n",
       "<g clip-path=\"url(#clip5100)\">\n",
       "<text style=\"fill:#000000; fill-opacity:1; font-family:Arial,Helvetica Neue,Helvetica,sans-serif; font-size:48px; text-anchor:start;\" transform=\"rotate(0, 93.6653, 1129.29)\" x=\"93.6653\" y=\"1129.29\">1×10</text>\n",
       "</g>\n",
       "<g clip-path=\"url(#clip5100)\">\n",
       "<text style=\"fill:#000000; fill-opacity:1; font-family:Arial,Helvetica Neue,Helvetica,sans-serif; font-size:38px; text-anchor:start;\" transform=\"rotate(0, 202.062, 1101.88)\" x=\"202.062\" y=\"1101.88\">4</text>\n",
       "</g>\n",
       "<g clip-path=\"url(#clip5100)\">\n",
       "<text style=\"fill:#000000; fill-opacity:1; font-family:Arial,Helvetica Neue,Helvetica,sans-serif; font-size:48px; text-anchor:start;\" transform=\"rotate(0, 93.6653, 788.136)\" x=\"93.6653\" y=\"788.136\">2×10</text>\n",
       "</g>\n",
       "<g clip-path=\"url(#clip5100)\">\n",
       "<text style=\"fill:#000000; fill-opacity:1; font-family:Arial,Helvetica Neue,Helvetica,sans-serif; font-size:38px; text-anchor:start;\" transform=\"rotate(0, 202.062, 760.726)\" x=\"202.062\" y=\"760.726\">4</text>\n",
       "</g>\n",
       "<g clip-path=\"url(#clip5100)\">\n",
       "<text style=\"fill:#000000; fill-opacity:1; font-family:Arial,Helvetica Neue,Helvetica,sans-serif; font-size:48px; text-anchor:start;\" transform=\"rotate(0, 93.6653, 446.984)\" x=\"93.6653\" y=\"446.984\">3×10</text>\n",
       "</g>\n",
       "<g clip-path=\"url(#clip5100)\">\n",
       "<text style=\"fill:#000000; fill-opacity:1; font-family:Arial,Helvetica Neue,Helvetica,sans-serif; font-size:38px; text-anchor:start;\" transform=\"rotate(0, 202.062, 419.573)\" x=\"202.062\" y=\"419.573\">4</text>\n",
       "</g>\n",
       "<g clip-path=\"url(#clip5100)\">\n",
       "<text style=\"fill:#000000; fill-opacity:1; font-family:Arial,Helvetica Neue,Helvetica,sans-serif; font-size:48px; text-anchor:start;\" transform=\"rotate(0, 93.6653, 105.831)\" x=\"93.6653\" y=\"105.831\">4×10</text>\n",
       "</g>\n",
       "<g clip-path=\"url(#clip5100)\">\n",
       "<text style=\"fill:#000000; fill-opacity:1; font-family:Arial,Helvetica Neue,Helvetica,sans-serif; font-size:38px; text-anchor:start;\" transform=\"rotate(0, 202.062, 78.4206)\" x=\"202.062\" y=\"78.4206\">4</text>\n",
       "</g>\n",
       "<polygon clip-path=\"url(#clip5102)\" points=\"\n",
       "363.583,1446.68 363.583,1446.71 382.896,1446.71 382.896,1446.68 363.583,1446.68 363.583,1446.68 \n",
       "  \" fill=\"#009af9\" fill-rule=\"evenodd\" fill-opacity=\"1\"/>\n",
       "<polyline clip-path=\"url(#clip5102)\" style=\"stroke:#000000; stroke-width:4; stroke-opacity:1; fill:none\" points=\"\n",
       "  363.583,1446.68 363.583,1446.71 382.896,1446.71 382.896,1446.68 363.583,1446.68 \n",
       "  \"/>\n",
       "<polygon clip-path=\"url(#clip5102)\" points=\"\n",
       "382.896,1446.71 382.896,1446.71 402.21,1446.71 402.21,1446.71 382.896,1446.71 382.896,1446.71 \n",
       "  \" fill=\"#009af9\" fill-rule=\"evenodd\" fill-opacity=\"1\"/>\n",
       "<polyline clip-path=\"url(#clip5102)\" style=\"stroke:#000000; stroke-width:4; stroke-opacity:1; fill:none\" points=\"\n",
       "  382.896,1446.71 382.896,1446.71 402.21,1446.71 382.896,1446.71 \n",
       "  \"/>\n",
       "<polygon clip-path=\"url(#clip5102)\" points=\"\n",
       "402.21,1446.68 402.21,1446.71 421.523,1446.71 421.523,1446.68 402.21,1446.68 402.21,1446.68 \n",
       "  \" fill=\"#009af9\" fill-rule=\"evenodd\" fill-opacity=\"1\"/>\n",
       "<polyline clip-path=\"url(#clip5102)\" style=\"stroke:#000000; stroke-width:4; stroke-opacity:1; fill:none\" points=\"\n",
       "  402.21,1446.68 402.21,1446.71 421.523,1446.71 421.523,1446.68 402.21,1446.68 \n",
       "  \"/>\n",
       "<polygon clip-path=\"url(#clip5102)\" points=\"\n",
       "421.523,1446.71 421.523,1446.71 440.836,1446.71 440.836,1446.71 421.523,1446.71 421.523,1446.71 \n",
       "  \" fill=\"#009af9\" fill-rule=\"evenodd\" fill-opacity=\"1\"/>\n",
       "<polyline clip-path=\"url(#clip5102)\" style=\"stroke:#000000; stroke-width:4; stroke-opacity:1; fill:none\" points=\"\n",
       "  421.523,1446.71 421.523,1446.71 440.836,1446.71 421.523,1446.71 \n",
       "  \"/>\n",
       "<polygon clip-path=\"url(#clip5102)\" points=\"\n",
       "440.836,1446.68 440.836,1446.71 460.15,1446.71 460.15,1446.68 440.836,1446.68 440.836,1446.68 \n",
       "  \" fill=\"#009af9\" fill-rule=\"evenodd\" fill-opacity=\"1\"/>\n",
       "<polyline clip-path=\"url(#clip5102)\" style=\"stroke:#000000; stroke-width:4; stroke-opacity:1; fill:none\" points=\"\n",
       "  440.836,1446.68 440.836,1446.71 460.15,1446.71 460.15,1446.68 440.836,1446.68 \n",
       "  \"/>\n",
       "<polygon clip-path=\"url(#clip5102)\" points=\"\n",
       "460.15,1446.71 460.15,1446.71 479.463,1446.71 479.463,1446.71 460.15,1446.71 460.15,1446.71 \n",
       "  \" fill=\"#009af9\" fill-rule=\"evenodd\" fill-opacity=\"1\"/>\n",
       "<polyline clip-path=\"url(#clip5102)\" style=\"stroke:#000000; stroke-width:4; stroke-opacity:1; fill:none\" points=\"\n",
       "  460.15,1446.71 460.15,1446.71 479.463,1446.71 460.15,1446.71 \n",
       "  \"/>\n",
       "<polygon clip-path=\"url(#clip5102)\" points=\"\n",
       "479.463,1446.61 479.463,1446.71 498.776,1446.71 498.776,1446.61 479.463,1446.61 479.463,1446.61 \n",
       "  \" fill=\"#009af9\" fill-rule=\"evenodd\" fill-opacity=\"1\"/>\n",
       "<polyline clip-path=\"url(#clip5102)\" style=\"stroke:#000000; stroke-width:4; stroke-opacity:1; fill:none\" points=\"\n",
       "  479.463,1446.61 479.463,1446.71 498.776,1446.71 498.776,1446.61 479.463,1446.61 \n",
       "  \"/>\n",
       "<polygon clip-path=\"url(#clip5102)\" points=\"\n",
       "498.776,1446.41 498.776,1446.71 518.09,1446.71 518.09,1446.41 498.776,1446.41 498.776,1446.41 \n",
       "  \" fill=\"#009af9\" fill-rule=\"evenodd\" fill-opacity=\"1\"/>\n",
       "<polyline clip-path=\"url(#clip5102)\" style=\"stroke:#000000; stroke-width:4; stroke-opacity:1; fill:none\" points=\"\n",
       "  498.776,1446.41 498.776,1446.71 518.09,1446.71 518.09,1446.41 498.776,1446.41 \n",
       "  \"/>\n",
       "<polygon clip-path=\"url(#clip5102)\" points=\"\n",
       "518.09,1446.34 518.09,1446.71 537.403,1446.71 537.403,1446.34 518.09,1446.34 518.09,1446.34 \n",
       "  \" fill=\"#009af9\" fill-rule=\"evenodd\" fill-opacity=\"1\"/>\n",
       "<polyline clip-path=\"url(#clip5102)\" style=\"stroke:#000000; stroke-width:4; stroke-opacity:1; fill:none\" points=\"\n",
       "  518.09,1446.34 518.09,1446.71 537.403,1446.71 537.403,1446.34 518.09,1446.34 \n",
       "  \"/>\n",
       "<polygon clip-path=\"url(#clip5102)\" points=\"\n",
       "537.403,1446.2 537.403,1446.71 556.717,1446.71 556.717,1446.2 537.403,1446.2 537.403,1446.2 \n",
       "  \" fill=\"#009af9\" fill-rule=\"evenodd\" fill-opacity=\"1\"/>\n",
       "<polyline clip-path=\"url(#clip5102)\" style=\"stroke:#000000; stroke-width:4; stroke-opacity:1; fill:none\" points=\"\n",
       "  537.403,1446.2 537.403,1446.71 556.717,1446.71 556.717,1446.2 537.403,1446.2 \n",
       "  \"/>\n",
       "<polygon clip-path=\"url(#clip5102)\" points=\"\n",
       "556.717,1446.1 556.717,1446.71 576.03,1446.71 576.03,1446.1 556.717,1446.1 556.717,1446.1 \n",
       "  \" fill=\"#009af9\" fill-rule=\"evenodd\" fill-opacity=\"1\"/>\n",
       "<polyline clip-path=\"url(#clip5102)\" style=\"stroke:#000000; stroke-width:4; stroke-opacity:1; fill:none\" points=\"\n",
       "  556.717,1446.1 556.717,1446.71 576.03,1446.71 576.03,1446.1 556.717,1446.1 \n",
       "  \"/>\n",
       "<polygon clip-path=\"url(#clip5102)\" points=\"\n",
       "576.03,1445.89 576.03,1446.71 595.343,1446.71 595.343,1445.89 576.03,1445.89 576.03,1445.89 \n",
       "  \" fill=\"#009af9\" fill-rule=\"evenodd\" fill-opacity=\"1\"/>\n",
       "<polyline clip-path=\"url(#clip5102)\" style=\"stroke:#000000; stroke-width:4; stroke-opacity:1; fill:none\" points=\"\n",
       "  576.03,1445.89 576.03,1446.71 595.343,1446.71 595.343,1445.89 576.03,1445.89 \n",
       "  \"/>\n",
       "<polygon clip-path=\"url(#clip5102)\" points=\"\n",
       "595.343,1445.45 595.343,1446.71 614.657,1446.71 614.657,1445.45 595.343,1445.45 595.343,1445.45 \n",
       "  \" fill=\"#009af9\" fill-rule=\"evenodd\" fill-opacity=\"1\"/>\n",
       "<polyline clip-path=\"url(#clip5102)\" style=\"stroke:#000000; stroke-width:4; stroke-opacity:1; fill:none\" points=\"\n",
       "  595.343,1445.45 595.343,1446.71 614.657,1446.71 614.657,1445.45 595.343,1445.45 \n",
       "  \"/>\n",
       "<polygon clip-path=\"url(#clip5102)\" points=\"\n",
       "614.657,1444.53 614.657,1446.71 633.97,1446.71 633.97,1444.53 614.657,1444.53 614.657,1444.53 \n",
       "  \" fill=\"#009af9\" fill-rule=\"evenodd\" fill-opacity=\"1\"/>\n",
       "<polyline clip-path=\"url(#clip5102)\" style=\"stroke:#000000; stroke-width:4; stroke-opacity:1; fill:none\" points=\"\n",
       "  614.657,1444.53 614.657,1446.71 633.97,1446.71 633.97,1444.53 614.657,1444.53 \n",
       "  \"/>\n",
       "<polygon clip-path=\"url(#clip5102)\" points=\"\n",
       "633.97,1444.46 633.97,1446.71 653.283,1446.71 653.283,1444.46 633.97,1444.46 633.97,1444.46 \n",
       "  \" fill=\"#009af9\" fill-rule=\"evenodd\" fill-opacity=\"1\"/>\n",
       "<polyline clip-path=\"url(#clip5102)\" style=\"stroke:#000000; stroke-width:4; stroke-opacity:1; fill:none\" points=\"\n",
       "  633.97,1444.46 633.97,1446.71 653.283,1446.71 653.283,1444.46 633.97,1444.46 \n",
       "  \"/>\n",
       "<polygon clip-path=\"url(#clip5102)\" points=\"\n",
       "653.283,1443.37 653.283,1446.71 672.597,1446.71 672.597,1443.37 653.283,1443.37 653.283,1443.37 \n",
       "  \" fill=\"#009af9\" fill-rule=\"evenodd\" fill-opacity=\"1\"/>\n",
       "<polyline clip-path=\"url(#clip5102)\" style=\"stroke:#000000; stroke-width:4; stroke-opacity:1; fill:none\" points=\"\n",
       "  653.283,1443.37 653.283,1446.71 672.597,1446.71 672.597,1443.37 653.283,1443.37 \n",
       "  \"/>\n",
       "<polygon clip-path=\"url(#clip5102)\" points=\"\n",
       "672.597,1441.56 672.597,1446.71 691.91,1446.71 691.91,1441.56 672.597,1441.56 672.597,1441.56 \n",
       "  \" fill=\"#009af9\" fill-rule=\"evenodd\" fill-opacity=\"1\"/>\n",
       "<polyline clip-path=\"url(#clip5102)\" style=\"stroke:#000000; stroke-width:4; stroke-opacity:1; fill:none\" points=\"\n",
       "  672.597,1441.56 672.597,1446.71 691.91,1446.71 691.91,1441.56 672.597,1441.56 \n",
       "  \"/>\n",
       "<polygon clip-path=\"url(#clip5102)\" points=\"\n",
       "691.91,1439.69 691.91,1446.71 711.223,1446.71 711.223,1439.69 691.91,1439.69 691.91,1439.69 \n",
       "  \" fill=\"#009af9\" fill-rule=\"evenodd\" fill-opacity=\"1\"/>\n",
       "<polyline clip-path=\"url(#clip5102)\" style=\"stroke:#000000; stroke-width:4; stroke-opacity:1; fill:none\" points=\"\n",
       "  691.91,1439.69 691.91,1446.71 711.223,1446.71 711.223,1439.69 691.91,1439.69 \n",
       "  \"/>\n",
       "<polygon clip-path=\"url(#clip5102)\" points=\"\n",
       "711.223,1437.02 711.223,1446.71 730.537,1446.71 730.537,1437.02 711.223,1437.02 711.223,1437.02 \n",
       "  \" fill=\"#009af9\" fill-rule=\"evenodd\" fill-opacity=\"1\"/>\n",
       "<polyline clip-path=\"url(#clip5102)\" style=\"stroke:#000000; stroke-width:4; stroke-opacity:1; fill:none\" points=\"\n",
       "  711.223,1437.02 711.223,1446.71 730.537,1446.71 730.537,1437.02 711.223,1437.02 \n",
       "  \"/>\n",
       "<polygon clip-path=\"url(#clip5102)\" points=\"\n",
       "730.537,1432.73 730.537,1446.71 749.85,1446.71 749.85,1432.73 730.537,1432.73 730.537,1432.73 \n",
       "  \" fill=\"#009af9\" fill-rule=\"evenodd\" fill-opacity=\"1\"/>\n",
       "<polyline clip-path=\"url(#clip5102)\" style=\"stroke:#000000; stroke-width:4; stroke-opacity:1; fill:none\" points=\"\n",
       "  730.537,1432.73 730.537,1446.71 749.85,1446.71 749.85,1432.73 730.537,1432.73 \n",
       "  \"/>\n",
       "<polygon clip-path=\"url(#clip5102)\" points=\"\n",
       "749.85,1429.35 749.85,1446.71 769.164,1446.71 769.164,1429.35 749.85,1429.35 749.85,1429.35 \n",
       "  \" fill=\"#009af9\" fill-rule=\"evenodd\" fill-opacity=\"1\"/>\n",
       "<polyline clip-path=\"url(#clip5102)\" style=\"stroke:#000000; stroke-width:4; stroke-opacity:1; fill:none\" points=\"\n",
       "  749.85,1429.35 749.85,1446.71 769.164,1446.71 769.164,1429.35 749.85,1429.35 \n",
       "  \"/>\n",
       "<polygon clip-path=\"url(#clip5102)\" points=\"\n",
       "769.164,1425.9 769.164,1446.71 788.477,1446.71 788.477,1425.9 769.164,1425.9 769.164,1425.9 \n",
       "  \" fill=\"#009af9\" fill-rule=\"evenodd\" fill-opacity=\"1\"/>\n",
       "<polyline clip-path=\"url(#clip5102)\" style=\"stroke:#000000; stroke-width:4; stroke-opacity:1; fill:none\" points=\"\n",
       "  769.164,1425.9 769.164,1446.71 788.477,1446.71 788.477,1425.9 769.164,1425.9 \n",
       "  \"/>\n",
       "<polygon clip-path=\"url(#clip5102)\" points=\"\n",
       "788.477,1415.77 788.477,1446.71 807.79,1446.71 807.79,1415.77 788.477,1415.77 788.477,1415.77 \n",
       "  \" fill=\"#009af9\" fill-rule=\"evenodd\" fill-opacity=\"1\"/>\n",
       "<polyline clip-path=\"url(#clip5102)\" style=\"stroke:#000000; stroke-width:4; stroke-opacity:1; fill:none\" points=\"\n",
       "  788.477,1415.77 788.477,1446.71 807.79,1446.71 807.79,1415.77 788.477,1415.77 \n",
       "  \"/>\n",
       "<polygon clip-path=\"url(#clip5102)\" points=\"\n",
       "807.79,1406.56 807.79,1446.71 827.104,1446.71 827.104,1406.56 807.79,1406.56 807.79,1406.56 \n",
       "  \" fill=\"#009af9\" fill-rule=\"evenodd\" fill-opacity=\"1\"/>\n",
       "<polyline clip-path=\"url(#clip5102)\" style=\"stroke:#000000; stroke-width:4; stroke-opacity:1; fill:none\" points=\"\n",
       "  807.79,1406.56 807.79,1446.71 827.104,1446.71 827.104,1406.56 807.79,1406.56 \n",
       "  \"/>\n",
       "<polygon clip-path=\"url(#clip5102)\" points=\"\n",
       "827.104,1393.43 827.104,1446.71 846.417,1446.71 846.417,1393.43 827.104,1393.43 827.104,1393.43 \n",
       "  \" fill=\"#009af9\" fill-rule=\"evenodd\" fill-opacity=\"1\"/>\n",
       "<polyline clip-path=\"url(#clip5102)\" style=\"stroke:#000000; stroke-width:4; stroke-opacity:1; fill:none\" points=\"\n",
       "  827.104,1393.43 827.104,1446.71 846.417,1446.71 846.417,1393.43 827.104,1393.43 \n",
       "  \"/>\n",
       "<polygon clip-path=\"url(#clip5102)\" points=\"\n",
       "846.417,1377.53 846.417,1446.71 865.73,1446.71 865.73,1377.53 846.417,1377.53 846.417,1377.53 \n",
       "  \" fill=\"#009af9\" fill-rule=\"evenodd\" fill-opacity=\"1\"/>\n",
       "<polyline clip-path=\"url(#clip5102)\" style=\"stroke:#000000; stroke-width:4; stroke-opacity:1; fill:none\" points=\"\n",
       "  846.417,1377.53 846.417,1446.71 865.73,1446.71 865.73,1377.53 846.417,1377.53 \n",
       "  \"/>\n",
       "<polygon clip-path=\"url(#clip5102)\" points=\"\n",
       "865.73,1358.93 865.73,1446.71 885.044,1446.71 885.044,1358.93 865.73,1358.93 865.73,1358.93 \n",
       "  \" fill=\"#009af9\" fill-rule=\"evenodd\" fill-opacity=\"1\"/>\n",
       "<polyline clip-path=\"url(#clip5102)\" style=\"stroke:#000000; stroke-width:4; stroke-opacity:1; fill:none\" points=\"\n",
       "  865.73,1358.93 865.73,1446.71 885.044,1446.71 885.044,1358.93 865.73,1358.93 \n",
       "  \"/>\n",
       "<polygon clip-path=\"url(#clip5102)\" points=\"\n",
       "885.044,1336.73 885.044,1446.71 904.357,1446.71 904.357,1336.73 885.044,1336.73 885.044,1336.73 \n",
       "  \" fill=\"#009af9\" fill-rule=\"evenodd\" fill-opacity=\"1\"/>\n",
       "<polyline clip-path=\"url(#clip5102)\" style=\"stroke:#000000; stroke-width:4; stroke-opacity:1; fill:none\" points=\"\n",
       "  885.044,1336.73 885.044,1446.71 904.357,1446.71 904.357,1336.73 885.044,1336.73 \n",
       "  \"/>\n",
       "<polygon clip-path=\"url(#clip5102)\" points=\"\n",
       "904.357,1313.12 904.357,1446.71 923.671,1446.71 923.671,1313.12 904.357,1313.12 904.357,1313.12 \n",
       "  \" fill=\"#009af9\" fill-rule=\"evenodd\" fill-opacity=\"1\"/>\n",
       "<polyline clip-path=\"url(#clip5102)\" style=\"stroke:#000000; stroke-width:4; stroke-opacity:1; fill:none\" points=\"\n",
       "  904.357,1313.12 904.357,1446.71 923.671,1446.71 923.671,1313.12 904.357,1313.12 \n",
       "  \"/>\n",
       "<polygon clip-path=\"url(#clip5102)\" points=\"\n",
       "923.671,1281.73 923.671,1446.71 942.984,1446.71 942.984,1281.73 923.671,1281.73 923.671,1281.73 \n",
       "  \" fill=\"#009af9\" fill-rule=\"evenodd\" fill-opacity=\"1\"/>\n",
       "<polyline clip-path=\"url(#clip5102)\" style=\"stroke:#000000; stroke-width:4; stroke-opacity:1; fill:none\" points=\"\n",
       "  923.671,1281.73 923.671,1446.71 942.984,1446.71 942.984,1281.73 923.671,1281.73 \n",
       "  \"/>\n",
       "<polygon clip-path=\"url(#clip5102)\" points=\"\n",
       "942.984,1244.72 942.984,1446.71 962.297,1446.71 962.297,1244.72 942.984,1244.72 942.984,1244.72 \n",
       "  \" fill=\"#009af9\" fill-rule=\"evenodd\" fill-opacity=\"1\"/>\n",
       "<polyline clip-path=\"url(#clip5102)\" style=\"stroke:#000000; stroke-width:4; stroke-opacity:1; fill:none\" points=\"\n",
       "  942.984,1244.72 942.984,1446.71 962.297,1446.71 962.297,1244.72 942.984,1244.72 \n",
       "  \"/>\n",
       "<polygon clip-path=\"url(#clip5102)\" points=\"\n",
       "962.297,1200.23 962.297,1446.71 981.611,1446.71 981.611,1200.23 962.297,1200.23 962.297,1200.23 \n",
       "  \" fill=\"#009af9\" fill-rule=\"evenodd\" fill-opacity=\"1\"/>\n",
       "<polyline clip-path=\"url(#clip5102)\" style=\"stroke:#000000; stroke-width:4; stroke-opacity:1; fill:none\" points=\"\n",
       "  962.297,1200.23 962.297,1446.71 981.611,1446.71 981.611,1200.23 962.297,1200.23 \n",
       "  \"/>\n",
       "<polygon clip-path=\"url(#clip5102)\" points=\"\n",
       "981.611,1150.93 981.611,1446.71 1000.92,1446.71 1000.92,1150.93 981.611,1150.93 981.611,1150.93 \n",
       "  \" fill=\"#009af9\" fill-rule=\"evenodd\" fill-opacity=\"1\"/>\n",
       "<polyline clip-path=\"url(#clip5102)\" style=\"stroke:#000000; stroke-width:4; stroke-opacity:1; fill:none\" points=\"\n",
       "  981.611,1150.93 981.611,1446.71 1000.92,1446.71 1000.92,1150.93 981.611,1150.93 \n",
       "  \"/>\n",
       "<polygon clip-path=\"url(#clip5102)\" points=\"\n",
       "1000.92,1101.91 1000.92,1446.71 1020.24,1446.71 1020.24,1101.91 1000.92,1101.91 1000.92,1101.91 \n",
       "  \" fill=\"#009af9\" fill-rule=\"evenodd\" fill-opacity=\"1\"/>\n",
       "<polyline clip-path=\"url(#clip5102)\" style=\"stroke:#000000; stroke-width:4; stroke-opacity:1; fill:none\" points=\"\n",
       "  1000.92,1101.91 1000.92,1446.71 1020.24,1446.71 1020.24,1101.91 1000.92,1101.91 \n",
       "  \"/>\n",
       "<polygon clip-path=\"url(#clip5102)\" points=\"\n",
       "1020.24,1041.19 1020.24,1446.71 1039.55,1446.71 1039.55,1041.19 1020.24,1041.19 1020.24,1041.19 \n",
       "  \" fill=\"#009af9\" fill-rule=\"evenodd\" fill-opacity=\"1\"/>\n",
       "<polyline clip-path=\"url(#clip5102)\" style=\"stroke:#000000; stroke-width:4; stroke-opacity:1; fill:none\" points=\"\n",
       "  1020.24,1041.19 1020.24,1446.71 1039.55,1446.71 1039.55,1041.19 1020.24,1041.19 \n",
       "  \"/>\n",
       "<polygon clip-path=\"url(#clip5102)\" points=\"\n",
       "1039.55,975.445 1039.55,1446.71 1058.86,1446.71 1058.86,975.445 1039.55,975.445 1039.55,975.445 \n",
       "  \" fill=\"#009af9\" fill-rule=\"evenodd\" fill-opacity=\"1\"/>\n",
       "<polyline clip-path=\"url(#clip5102)\" style=\"stroke:#000000; stroke-width:4; stroke-opacity:1; fill:none\" points=\"\n",
       "  1039.55,975.445 1039.55,1446.71 1058.86,1446.71 1058.86,975.445 1039.55,975.445 \n",
       "  \"/>\n",
       "<polygon clip-path=\"url(#clip5102)\" points=\"\n",
       "1058.86,895.889 1058.86,1446.71 1078.18,1446.71 1078.18,895.889 1058.86,895.889 1058.86,895.889 \n",
       "  \" fill=\"#009af9\" fill-rule=\"evenodd\" fill-opacity=\"1\"/>\n",
       "<polyline clip-path=\"url(#clip5102)\" style=\"stroke:#000000; stroke-width:4; stroke-opacity:1; fill:none\" points=\"\n",
       "  1058.86,895.889 1058.86,1446.71 1078.18,1446.71 1078.18,895.889 1058.86,895.889 \n",
       "  \"/>\n",
       "<polygon clip-path=\"url(#clip5102)\" points=\"\n",
       "1078.18,816.571 1078.18,1446.71 1097.49,1446.71 1097.49,816.571 1078.18,816.571 1078.18,816.571 \n",
       "  \" fill=\"#009af9\" fill-rule=\"evenodd\" fill-opacity=\"1\"/>\n",
       "<polyline clip-path=\"url(#clip5102)\" style=\"stroke:#000000; stroke-width:4; stroke-opacity:1; fill:none\" points=\"\n",
       "  1078.18,816.571 1078.18,1446.71 1097.49,1446.71 1097.49,816.571 1078.18,816.571 \n",
       "  \"/>\n",
       "<polygon clip-path=\"url(#clip5102)\" points=\"\n",
       "1097.49,739.982 1097.49,1446.71 1116.8,1446.71 1116.8,739.982 1097.49,739.982 1097.49,739.982 \n",
       "  \" fill=\"#009af9\" fill-rule=\"evenodd\" fill-opacity=\"1\"/>\n",
       "<polyline clip-path=\"url(#clip5102)\" style=\"stroke:#000000; stroke-width:4; stroke-opacity:1; fill:none\" points=\"\n",
       "  1097.49,739.982 1097.49,1446.71 1116.8,1446.71 1116.8,739.982 1097.49,739.982 \n",
       "  \"/>\n",
       "<polygon clip-path=\"url(#clip5102)\" points=\"\n",
       "1116.8,656.297 1116.8,1446.71 1136.12,1446.71 1136.12,656.297 1116.8,656.297 1116.8,656.297 \n",
       "  \" fill=\"#009af9\" fill-rule=\"evenodd\" fill-opacity=\"1\"/>\n",
       "<polyline clip-path=\"url(#clip5102)\" style=\"stroke:#000000; stroke-width:4; stroke-opacity:1; fill:none\" points=\"\n",
       "  1116.8,656.297 1116.8,1446.71 1136.12,1446.71 1136.12,656.297 1116.8,656.297 \n",
       "  \"/>\n",
       "<polygon clip-path=\"url(#clip5102)\" points=\"\n",
       "1136.12,578.856 1136.12,1446.71 1155.43,1446.71 1155.43,578.856 1136.12,578.856 1136.12,578.856 \n",
       "  \" fill=\"#009af9\" fill-rule=\"evenodd\" fill-opacity=\"1\"/>\n",
       "<polyline clip-path=\"url(#clip5102)\" style=\"stroke:#000000; stroke-width:4; stroke-opacity:1; fill:none\" points=\"\n",
       "  1136.12,578.856 1136.12,1446.71 1155.43,1446.71 1155.43,578.856 1136.12,578.856 \n",
       "  \"/>\n",
       "<polygon clip-path=\"url(#clip5102)\" points=\"\n",
       "1155.43,483.776 1155.43,1446.71 1174.74,1446.71 1174.74,483.776 1155.43,483.776 1155.43,483.776 \n",
       "  \" fill=\"#009af9\" fill-rule=\"evenodd\" fill-opacity=\"1\"/>\n",
       "<polyline clip-path=\"url(#clip5102)\" style=\"stroke:#000000; stroke-width:4; stroke-opacity:1; fill:none\" points=\"\n",
       "  1155.43,483.776 1155.43,1446.71 1174.74,1446.71 1174.74,483.776 1155.43,483.776 \n",
       "  \"/>\n",
       "<polygon clip-path=\"url(#clip5102)\" points=\"\n",
       "1174.74,431.751 1174.74,1446.71 1194.06,1446.71 1194.06,431.751 1174.74,431.751 1174.74,431.751 \n",
       "  \" fill=\"#009af9\" fill-rule=\"evenodd\" fill-opacity=\"1\"/>\n",
       "<polyline clip-path=\"url(#clip5102)\" style=\"stroke:#000000; stroke-width:4; stroke-opacity:1; fill:none\" points=\"\n",
       "  1174.74,431.751 1174.74,1446.71 1194.06,1446.71 1194.06,431.751 1174.74,431.751 \n",
       "  \"/>\n",
       "<polygon clip-path=\"url(#clip5102)\" points=\"\n",
       "1194.06,342.676 1194.06,1446.71 1213.37,1446.71 1213.37,342.676 1194.06,342.676 1194.06,342.676 \n",
       "  \" fill=\"#009af9\" fill-rule=\"evenodd\" fill-opacity=\"1\"/>\n",
       "<polyline clip-path=\"url(#clip5102)\" style=\"stroke:#000000; stroke-width:4; stroke-opacity:1; fill:none\" points=\"\n",
       "  1194.06,342.676 1194.06,1446.71 1213.37,1446.71 1213.37,342.676 1194.06,342.676 \n",
       "  \"/>\n",
       "<polygon clip-path=\"url(#clip5102)\" points=\"\n",
       "1213.37,282.36 1213.37,1446.71 1232.68,1446.71 1232.68,282.36 1213.37,282.36 1213.37,282.36 \n",
       "  \" fill=\"#009af9\" fill-rule=\"evenodd\" fill-opacity=\"1\"/>\n",
       "<polyline clip-path=\"url(#clip5102)\" style=\"stroke:#000000; stroke-width:4; stroke-opacity:1; fill:none\" points=\"\n",
       "  1213.37,282.36 1213.37,1446.71 1232.68,1446.71 1232.68,282.36 1213.37,282.36 \n",
       "  \"/>\n",
       "<polygon clip-path=\"url(#clip5102)\" points=\"\n",
       "1232.68,210.923 1232.68,1446.71 1252,1446.71 1252,210.923 1232.68,210.923 1232.68,210.923 \n",
       "  \" fill=\"#009af9\" fill-rule=\"evenodd\" fill-opacity=\"1\"/>\n",
       "<polyline clip-path=\"url(#clip5102)\" style=\"stroke:#000000; stroke-width:4; stroke-opacity:1; fill:none\" points=\"\n",
       "  1232.68,210.923 1232.68,1446.71 1252,1446.71 1252,210.923 1232.68,210.923 \n",
       "  \"/>\n",
       "<polygon clip-path=\"url(#clip5102)\" points=\"\n",
       "1252,161.046 1252,1446.71 1271.31,1446.71 1271.31,161.046 1252,161.046 1252,161.046 \n",
       "  \" fill=\"#009af9\" fill-rule=\"evenodd\" fill-opacity=\"1\"/>\n",
       "<polyline clip-path=\"url(#clip5102)\" style=\"stroke:#000000; stroke-width:4; stroke-opacity:1; fill:none\" points=\"\n",
       "  1252,161.046 1252,1446.71 1271.31,1446.71 1271.31,161.046 1252,161.046 \n",
       "  \"/>\n",
       "<polygon clip-path=\"url(#clip5102)\" points=\"\n",
       "1271.31,133.345 1271.31,1446.71 1290.62,1446.71 1290.62,133.345 1271.31,133.345 1271.31,133.345 \n",
       "  \" fill=\"#009af9\" fill-rule=\"evenodd\" fill-opacity=\"1\"/>\n",
       "<polyline clip-path=\"url(#clip5102)\" style=\"stroke:#000000; stroke-width:4; stroke-opacity:1; fill:none\" points=\"\n",
       "  1271.31,133.345 1271.31,1446.71 1290.62,1446.71 1290.62,133.345 1271.31,133.345 \n",
       "  \"/>\n",
       "<polygon clip-path=\"url(#clip5102)\" points=\"\n",
       "1290.62,112.739 1290.62,1446.71 1309.94,1446.71 1309.94,112.739 1290.62,112.739 1290.62,112.739 \n",
       "  \" fill=\"#009af9\" fill-rule=\"evenodd\" fill-opacity=\"1\"/>\n",
       "<polyline clip-path=\"url(#clip5102)\" style=\"stroke:#000000; stroke-width:4; stroke-opacity:1; fill:none\" points=\"\n",
       "  1290.62,112.739 1290.62,1446.71 1309.94,1446.71 1309.94,112.739 1290.62,112.739 \n",
       "  \"/>\n",
       "<polygon clip-path=\"url(#clip5102)\" points=\"\n",
       "1309.94,88.0053 1309.94,1446.71 1329.25,1446.71 1329.25,88.0053 1309.94,88.0053 1309.94,88.0053 \n",
       "  \" fill=\"#009af9\" fill-rule=\"evenodd\" fill-opacity=\"1\"/>\n",
       "<polyline clip-path=\"url(#clip5102)\" style=\"stroke:#000000; stroke-width:4; stroke-opacity:1; fill:none\" points=\"\n",
       "  1309.94,88.0053 1309.94,1446.71 1329.25,1446.71 1329.25,88.0053 1309.94,88.0053 \n",
       "  \"/>\n",
       "<polygon clip-path=\"url(#clip5102)\" points=\"\n",
       "1329.25,93.0203 1329.25,1446.71 1348.56,1446.71 1348.56,93.0203 1329.25,93.0203 1329.25,93.0203 \n",
       "  \" fill=\"#009af9\" fill-rule=\"evenodd\" fill-opacity=\"1\"/>\n",
       "<polyline clip-path=\"url(#clip5102)\" style=\"stroke:#000000; stroke-width:4; stroke-opacity:1; fill:none\" points=\"\n",
       "  1329.25,93.0203 1329.25,1446.71 1348.56,1446.71 1348.56,93.0203 1329.25,93.0203 \n",
       "  \"/>\n",
       "<polygon clip-path=\"url(#clip5102)\" points=\"\n",
       "1348.56,113.524 1348.56,1446.71 1367.88,1446.71 1367.88,113.524 1348.56,113.524 1348.56,113.524 \n",
       "  \" fill=\"#009af9\" fill-rule=\"evenodd\" fill-opacity=\"1\"/>\n",
       "<polyline clip-path=\"url(#clip5102)\" style=\"stroke:#000000; stroke-width:4; stroke-opacity:1; fill:none\" points=\"\n",
       "  1348.56,113.524 1348.56,1446.71 1367.88,1446.71 1367.88,113.524 1348.56,113.524 \n",
       "  \"/>\n",
       "<polygon clip-path=\"url(#clip5102)\" points=\"\n",
       "1367.88,123.895 1367.88,1446.71 1387.19,1446.71 1387.19,123.895 1367.88,123.895 1367.88,123.895 \n",
       "  \" fill=\"#009af9\" fill-rule=\"evenodd\" fill-opacity=\"1\"/>\n",
       "<polyline clip-path=\"url(#clip5102)\" style=\"stroke:#000000; stroke-width:4; stroke-opacity:1; fill:none\" points=\"\n",
       "  1367.88,123.895 1367.88,1446.71 1387.19,1446.71 1387.19,123.895 1367.88,123.895 \n",
       "  \"/>\n",
       "<polygon clip-path=\"url(#clip5102)\" points=\"\n",
       "1387.19,153.063 1387.19,1446.71 1406.5,1446.71 1406.5,153.063 1387.19,153.063 1387.19,153.063 \n",
       "  \" fill=\"#009af9\" fill-rule=\"evenodd\" fill-opacity=\"1\"/>\n",
       "<polyline clip-path=\"url(#clip5102)\" style=\"stroke:#000000; stroke-width:4; stroke-opacity:1; fill:none\" points=\"\n",
       "  1387.19,153.063 1387.19,1446.71 1406.5,1446.71 1406.5,153.063 1387.19,153.063 \n",
       "  \"/>\n",
       "<polygon clip-path=\"url(#clip5102)\" points=\"\n",
       "1406.5,205.089 1406.5,1446.71 1425.82,1446.71 1425.82,205.089 1406.5,205.089 1406.5,205.089 \n",
       "  \" fill=\"#009af9\" fill-rule=\"evenodd\" fill-opacity=\"1\"/>\n",
       "<polyline clip-path=\"url(#clip5102)\" style=\"stroke:#000000; stroke-width:4; stroke-opacity:1; fill:none\" points=\"\n",
       "  1406.5,205.089 1406.5,1446.71 1425.82,1446.71 1425.82,205.089 1406.5,205.089 \n",
       "  \"/>\n",
       "<polygon clip-path=\"url(#clip5102)\" points=\"\n",
       "1425.82,273.763 1425.82,1446.71 1445.13,1446.71 1445.13,273.763 1425.82,273.763 1425.82,273.763 \n",
       "  \" fill=\"#009af9\" fill-rule=\"evenodd\" fill-opacity=\"1\"/>\n",
       "<polyline clip-path=\"url(#clip5102)\" style=\"stroke:#000000; stroke-width:4; stroke-opacity:1; fill:none\" points=\"\n",
       "  1425.82,273.763 1425.82,1446.71 1445.13,1446.71 1445.13,273.763 1425.82,273.763 \n",
       "  \"/>\n",
       "<polygon clip-path=\"url(#clip5102)\" points=\"\n",
       "1445.13,346.838 1445.13,1446.71 1464.45,1446.71 1464.45,346.838 1445.13,346.838 1445.13,346.838 \n",
       "  \" fill=\"#009af9\" fill-rule=\"evenodd\" fill-opacity=\"1\"/>\n",
       "<polyline clip-path=\"url(#clip5102)\" style=\"stroke:#000000; stroke-width:4; stroke-opacity:1; fill:none\" points=\"\n",
       "  1445.13,346.838 1445.13,1446.71 1464.45,1446.71 1464.45,346.838 1445.13,346.838 \n",
       "  \"/>\n",
       "<polygon clip-path=\"url(#clip5102)\" points=\"\n",
       "1464.45,413.533 1464.45,1446.71 1483.76,1446.71 1483.76,413.533 1464.45,413.533 1464.45,413.533 \n",
       "  \" fill=\"#009af9\" fill-rule=\"evenodd\" fill-opacity=\"1\"/>\n",
       "<polyline clip-path=\"url(#clip5102)\" style=\"stroke:#000000; stroke-width:4; stroke-opacity:1; fill:none\" points=\"\n",
       "  1464.45,413.533 1464.45,1446.71 1483.76,1446.71 1483.76,413.533 1464.45,413.533 \n",
       "  \"/>\n",
       "<polygon clip-path=\"url(#clip5102)\" points=\"\n",
       "1483.76,504.45 1483.76,1446.71 1503.07,1446.71 1503.07,504.45 1483.76,504.45 1483.76,504.45 \n",
       "  \" fill=\"#009af9\" fill-rule=\"evenodd\" fill-opacity=\"1\"/>\n",
       "<polyline clip-path=\"url(#clip5102)\" style=\"stroke:#000000; stroke-width:4; stroke-opacity:1; fill:none\" points=\"\n",
       "  1483.76,504.45 1483.76,1446.71 1503.07,1446.71 1503.07,504.45 1483.76,504.45 \n",
       "  \"/>\n",
       "<polygon clip-path=\"url(#clip5102)\" points=\"\n",
       "1503.07,581.721 1503.07,1446.71 1522.39,1446.71 1522.39,581.721 1503.07,581.721 1503.07,581.721 \n",
       "  \" fill=\"#009af9\" fill-rule=\"evenodd\" fill-opacity=\"1\"/>\n",
       "<polyline clip-path=\"url(#clip5102)\" style=\"stroke:#000000; stroke-width:4; stroke-opacity:1; fill:none\" points=\"\n",
       "  1503.07,581.721 1503.07,1446.71 1522.39,1446.71 1522.39,581.721 1503.07,581.721 \n",
       "  \"/>\n",
       "<polygon clip-path=\"url(#clip5102)\" points=\"\n",
       "1522.39,664.041 1522.39,1446.71 1541.7,1446.71 1541.7,664.041 1522.39,664.041 1522.39,664.041 \n",
       "  \" fill=\"#009af9\" fill-rule=\"evenodd\" fill-opacity=\"1\"/>\n",
       "<polyline clip-path=\"url(#clip5102)\" style=\"stroke:#000000; stroke-width:4; stroke-opacity:1; fill:none\" points=\"\n",
       "  1522.39,664.041 1522.39,1446.71 1541.7,1446.71 1541.7,664.041 1522.39,664.041 \n",
       "  \"/>\n",
       "<polygon clip-path=\"url(#clip5102)\" points=\"\n",
       "1541.7,743.189 1541.7,1446.71 1561.01,1446.71 1561.01,743.189 1541.7,743.189 1541.7,743.189 \n",
       "  \" fill=\"#009af9\" fill-rule=\"evenodd\" fill-opacity=\"1\"/>\n",
       "<polyline clip-path=\"url(#clip5102)\" style=\"stroke:#000000; stroke-width:4; stroke-opacity:1; fill:none\" points=\"\n",
       "  1541.7,743.189 1541.7,1446.71 1561.01,1446.71 1561.01,743.189 1541.7,743.189 \n",
       "  \"/>\n",
       "<polygon clip-path=\"url(#clip5102)\" points=\"\n",
       "1561.01,826.566 1561.01,1446.71 1580.33,1446.71 1580.33,826.566 1561.01,826.566 1561.01,826.566 \n",
       "  \" fill=\"#009af9\" fill-rule=\"evenodd\" fill-opacity=\"1\"/>\n",
       "<polyline clip-path=\"url(#clip5102)\" style=\"stroke:#000000; stroke-width:4; stroke-opacity:1; fill:none\" points=\"\n",
       "  1561.01,826.566 1561.01,1446.71 1580.33,1446.71 1580.33,826.566 1561.01,826.566 \n",
       "  \"/>\n",
       "<polygon clip-path=\"url(#clip5102)\" points=\"\n",
       "1580.33,904.383 1580.33,1446.71 1599.64,1446.71 1599.64,904.383 1580.33,904.383 1580.33,904.383 \n",
       "  \" fill=\"#009af9\" fill-rule=\"evenodd\" fill-opacity=\"1\"/>\n",
       "<polyline clip-path=\"url(#clip5102)\" style=\"stroke:#000000; stroke-width:4; stroke-opacity:1; fill:none\" points=\"\n",
       "  1580.33,904.383 1580.33,1446.71 1599.64,1446.71 1599.64,904.383 1580.33,904.383 \n",
       "  \"/>\n",
       "<polygon clip-path=\"url(#clip5102)\" points=\"\n",
       "1599.64,968.315 1599.64,1446.71 1618.95,1446.71 1618.95,968.315 1599.64,968.315 1599.64,968.315 \n",
       "  \" fill=\"#009af9\" fill-rule=\"evenodd\" fill-opacity=\"1\"/>\n",
       "<polyline clip-path=\"url(#clip5102)\" style=\"stroke:#000000; stroke-width:4; stroke-opacity:1; fill:none\" points=\"\n",
       "  1599.64,968.315 1599.64,1446.71 1618.95,1446.71 1618.95,968.315 1599.64,968.315 \n",
       "  \"/>\n",
       "<polygon clip-path=\"url(#clip5102)\" points=\"\n",
       "1618.95,1034.16 1618.95,1446.71 1638.27,1446.71 1638.27,1034.16 1618.95,1034.16 1618.95,1034.16 \n",
       "  \" fill=\"#009af9\" fill-rule=\"evenodd\" fill-opacity=\"1\"/>\n",
       "<polyline clip-path=\"url(#clip5102)\" style=\"stroke:#000000; stroke-width:4; stroke-opacity:1; fill:none\" points=\"\n",
       "  1618.95,1034.16 1618.95,1446.71 1638.27,1446.71 1638.27,1034.16 1618.95,1034.16 \n",
       "  \"/>\n",
       "<polygon clip-path=\"url(#clip5102)\" points=\"\n",
       "1638.27,1094.75 1638.27,1446.71 1657.58,1446.71 1657.58,1094.75 1638.27,1094.75 1638.27,1094.75 \n",
       "  \" fill=\"#009af9\" fill-rule=\"evenodd\" fill-opacity=\"1\"/>\n",
       "<polyline clip-path=\"url(#clip5102)\" style=\"stroke:#000000; stroke-width:4; stroke-opacity:1; fill:none\" points=\"\n",
       "  1638.27,1094.75 1638.27,1446.71 1657.58,1446.71 1657.58,1094.75 1638.27,1094.75 \n",
       "  \"/>\n",
       "<polygon clip-path=\"url(#clip5102)\" points=\"\n",
       "1657.58,1153.77 1657.58,1446.71 1676.89,1446.71 1676.89,1153.77 1657.58,1153.77 1657.58,1153.77 \n",
       "  \" fill=\"#009af9\" fill-rule=\"evenodd\" fill-opacity=\"1\"/>\n",
       "<polyline clip-path=\"url(#clip5102)\" style=\"stroke:#000000; stroke-width:4; stroke-opacity:1; fill:none\" points=\"\n",
       "  1657.58,1153.77 1657.58,1446.71 1676.89,1446.71 1676.89,1153.77 1657.58,1153.77 \n",
       "  \"/>\n",
       "<polygon clip-path=\"url(#clip5102)\" points=\"\n",
       "1676.89,1205.42 1676.89,1446.71 1696.21,1446.71 1696.21,1205.42 1676.89,1205.42 1676.89,1205.42 \n",
       "  \" fill=\"#009af9\" fill-rule=\"evenodd\" fill-opacity=\"1\"/>\n",
       "<polyline clip-path=\"url(#clip5102)\" style=\"stroke:#000000; stroke-width:4; stroke-opacity:1; fill:none\" points=\"\n",
       "  1676.89,1205.42 1676.89,1446.71 1696.21,1446.71 1696.21,1205.42 1676.89,1205.42 \n",
       "  \"/>\n",
       "<polygon clip-path=\"url(#clip5102)\" points=\"\n",
       "1696.21,1244.07 1696.21,1446.71 1715.52,1446.71 1715.52,1244.07 1696.21,1244.07 1696.21,1244.07 \n",
       "  \" fill=\"#009af9\" fill-rule=\"evenodd\" fill-opacity=\"1\"/>\n",
       "<polyline clip-path=\"url(#clip5102)\" style=\"stroke:#000000; stroke-width:4; stroke-opacity:1; fill:none\" points=\"\n",
       "  1696.21,1244.07 1696.21,1446.71 1715.52,1446.71 1715.52,1244.07 1696.21,1244.07 \n",
       "  \"/>\n",
       "<polygon clip-path=\"url(#clip5102)\" points=\"\n",
       "1715.52,1279.14 1715.52,1446.71 1734.83,1446.71 1734.83,1279.14 1715.52,1279.14 1715.52,1279.14 \n",
       "  \" fill=\"#009af9\" fill-rule=\"evenodd\" fill-opacity=\"1\"/>\n",
       "<polyline clip-path=\"url(#clip5102)\" style=\"stroke:#000000; stroke-width:4; stroke-opacity:1; fill:none\" points=\"\n",
       "  1715.52,1279.14 1715.52,1446.71 1734.83,1446.71 1734.83,1279.14 1715.52,1279.14 \n",
       "  \"/>\n",
       "<polygon clip-path=\"url(#clip5102)\" points=\"\n",
       "1734.83,1313.43 1734.83,1446.71 1754.15,1446.71 1754.15,1313.43 1734.83,1313.43 1734.83,1313.43 \n",
       "  \" fill=\"#009af9\" fill-rule=\"evenodd\" fill-opacity=\"1\"/>\n",
       "<polyline clip-path=\"url(#clip5102)\" style=\"stroke:#000000; stroke-width:4; stroke-opacity:1; fill:none\" points=\"\n",
       "  1734.83,1313.43 1734.83,1446.71 1754.15,1446.71 1754.15,1313.43 1734.83,1313.43 \n",
       "  \"/>\n",
       "<polygon clip-path=\"url(#clip5102)\" points=\"\n",
       "1754.15,1340.82 1754.15,1446.71 1773.46,1446.71 1773.46,1340.82 1754.15,1340.82 1754.15,1340.82 \n",
       "  \" fill=\"#009af9\" fill-rule=\"evenodd\" fill-opacity=\"1\"/>\n",
       "<polyline clip-path=\"url(#clip5102)\" style=\"stroke:#000000; stroke-width:4; stroke-opacity:1; fill:none\" points=\"\n",
       "  1754.15,1340.82 1754.15,1446.71 1773.46,1446.71 1773.46,1340.82 1754.15,1340.82 \n",
       "  \"/>\n",
       "<polygon clip-path=\"url(#clip5102)\" points=\"\n",
       "1773.46,1362.07 1773.46,1446.71 1792.77,1446.71 1792.77,1362.07 1773.46,1362.07 1773.46,1362.07 \n",
       "  \" fill=\"#009af9\" fill-rule=\"evenodd\" fill-opacity=\"1\"/>\n",
       "<polyline clip-path=\"url(#clip5102)\" style=\"stroke:#000000; stroke-width:4; stroke-opacity:1; fill:none\" points=\"\n",
       "  1773.46,1362.07 1773.46,1446.71 1792.77,1446.71 1792.77,1362.07 1773.46,1362.07 \n",
       "  \"/>\n",
       "<polygon clip-path=\"url(#clip5102)\" points=\"\n",
       "1792.77,1378.11 1792.77,1446.71 1812.09,1446.71 1812.09,1378.11 1792.77,1378.11 1792.77,1378.11 \n",
       "  \" fill=\"#009af9\" fill-rule=\"evenodd\" fill-opacity=\"1\"/>\n",
       "<polyline clip-path=\"url(#clip5102)\" style=\"stroke:#000000; stroke-width:4; stroke-opacity:1; fill:none\" points=\"\n",
       "  1792.77,1378.11 1792.77,1446.71 1812.09,1446.71 1812.09,1378.11 1792.77,1378.11 \n",
       "  \"/>\n",
       "<polygon clip-path=\"url(#clip5102)\" points=\"\n",
       "1812.09,1395.78 1812.09,1446.71 1831.4,1446.71 1831.4,1395.78 1812.09,1395.78 1812.09,1395.78 \n",
       "  \" fill=\"#009af9\" fill-rule=\"evenodd\" fill-opacity=\"1\"/>\n",
       "<polyline clip-path=\"url(#clip5102)\" style=\"stroke:#000000; stroke-width:4; stroke-opacity:1; fill:none\" points=\"\n",
       "  1812.09,1395.78 1812.09,1446.71 1831.4,1446.71 1831.4,1395.78 1812.09,1395.78 \n",
       "  \"/>\n",
       "<polygon clip-path=\"url(#clip5102)\" points=\"\n",
       "1831.4,1405.5 1831.4,1446.71 1850.71,1446.71 1850.71,1405.5 1831.4,1405.5 1831.4,1405.5 \n",
       "  \" fill=\"#009af9\" fill-rule=\"evenodd\" fill-opacity=\"1\"/>\n",
       "<polyline clip-path=\"url(#clip5102)\" style=\"stroke:#000000; stroke-width:4; stroke-opacity:1; fill:none\" points=\"\n",
       "  1831.4,1405.5 1831.4,1446.71 1850.71,1446.71 1850.71,1405.5 1831.4,1405.5 \n",
       "  \"/>\n",
       "<polygon clip-path=\"url(#clip5102)\" points=\"\n",
       "1850.71,1416.35 1850.71,1446.71 1870.03,1446.71 1870.03,1416.35 1850.71,1416.35 1850.71,1416.35 \n",
       "  \" fill=\"#009af9\" fill-rule=\"evenodd\" fill-opacity=\"1\"/>\n",
       "<polyline clip-path=\"url(#clip5102)\" style=\"stroke:#000000; stroke-width:4; stroke-opacity:1; fill:none\" points=\"\n",
       "  1850.71,1416.35 1850.71,1446.71 1870.03,1446.71 1870.03,1416.35 1850.71,1416.35 \n",
       "  \"/>\n",
       "<polygon clip-path=\"url(#clip5102)\" points=\"\n",
       "1870.03,1423.99 1870.03,1446.71 1889.34,1446.71 1889.34,1423.99 1870.03,1423.99 1870.03,1423.99 \n",
       "  \" fill=\"#009af9\" fill-rule=\"evenodd\" fill-opacity=\"1\"/>\n",
       "<polyline clip-path=\"url(#clip5102)\" style=\"stroke:#000000; stroke-width:4; stroke-opacity:1; fill:none\" points=\"\n",
       "  1870.03,1423.99 1870.03,1446.71 1889.34,1446.71 1889.34,1423.99 1870.03,1423.99 \n",
       "  \"/>\n",
       "<polygon clip-path=\"url(#clip5102)\" points=\"\n",
       "1889.34,1429.52 1889.34,1446.71 1908.65,1446.71 1908.65,1429.52 1889.34,1429.52 1889.34,1429.52 \n",
       "  \" fill=\"#009af9\" fill-rule=\"evenodd\" fill-opacity=\"1\"/>\n",
       "<polyline clip-path=\"url(#clip5102)\" style=\"stroke:#000000; stroke-width:4; stroke-opacity:1; fill:none\" points=\"\n",
       "  1889.34,1429.52 1889.34,1446.71 1908.65,1446.71 1908.65,1429.52 1889.34,1429.52 \n",
       "  \"/>\n",
       "<polygon clip-path=\"url(#clip5102)\" points=\"\n",
       "1908.65,1434.09 1908.65,1446.71 1927.97,1446.71 1927.97,1434.09 1908.65,1434.09 1908.65,1434.09 \n",
       "  \" fill=\"#009af9\" fill-rule=\"evenodd\" fill-opacity=\"1\"/>\n",
       "<polyline clip-path=\"url(#clip5102)\" style=\"stroke:#000000; stroke-width:4; stroke-opacity:1; fill:none\" points=\"\n",
       "  1908.65,1434.09 1908.65,1446.71 1927.97,1446.71 1927.97,1434.09 1908.65,1434.09 \n",
       "  \"/>\n",
       "<polygon clip-path=\"url(#clip5102)\" points=\"\n",
       "1927.97,1437.23 1927.97,1446.71 1947.28,1446.71 1947.28,1437.23 1927.97,1437.23 1927.97,1437.23 \n",
       "  \" fill=\"#009af9\" fill-rule=\"evenodd\" fill-opacity=\"1\"/>\n",
       "<polyline clip-path=\"url(#clip5102)\" style=\"stroke:#000000; stroke-width:4; stroke-opacity:1; fill:none\" points=\"\n",
       "  1927.97,1437.23 1927.97,1446.71 1947.28,1446.71 1947.28,1437.23 1927.97,1437.23 \n",
       "  \"/>\n",
       "<polygon clip-path=\"url(#clip5102)\" points=\"\n",
       "1947.28,1439.79 1947.28,1446.71 1966.59,1446.71 1966.59,1439.79 1947.28,1439.79 1947.28,1439.79 \n",
       "  \" fill=\"#009af9\" fill-rule=\"evenodd\" fill-opacity=\"1\"/>\n",
       "<polyline clip-path=\"url(#clip5102)\" style=\"stroke:#000000; stroke-width:4; stroke-opacity:1; fill:none\" points=\"\n",
       "  1947.28,1439.79 1947.28,1446.71 1966.59,1446.71 1966.59,1439.79 1947.28,1439.79 \n",
       "  \"/>\n",
       "<polygon clip-path=\"url(#clip5102)\" points=\"\n",
       "1966.59,1442.11 1966.59,1446.71 1985.91,1446.71 1985.91,1442.11 1966.59,1442.11 1966.59,1442.11 \n",
       "  \" fill=\"#009af9\" fill-rule=\"evenodd\" fill-opacity=\"1\"/>\n",
       "<polyline clip-path=\"url(#clip5102)\" style=\"stroke:#000000; stroke-width:4; stroke-opacity:1; fill:none\" points=\"\n",
       "  1966.59,1442.11 1966.59,1446.71 1985.91,1446.71 1985.91,1442.11 1966.59,1442.11 \n",
       "  \"/>\n",
       "<polygon clip-path=\"url(#clip5102)\" points=\"\n",
       "1985.91,1443.2 1985.91,1446.71 2005.22,1446.71 2005.22,1443.2 1985.91,1443.2 1985.91,1443.2 \n",
       "  \" fill=\"#009af9\" fill-rule=\"evenodd\" fill-opacity=\"1\"/>\n",
       "<polyline clip-path=\"url(#clip5102)\" style=\"stroke:#000000; stroke-width:4; stroke-opacity:1; fill:none\" points=\"\n",
       "  1985.91,1443.2 1985.91,1446.71 2005.22,1446.71 2005.22,1443.2 1985.91,1443.2 \n",
       "  \"/>\n",
       "<polygon clip-path=\"url(#clip5102)\" points=\"\n",
       "2005.22,1444.19 2005.22,1446.71 2024.53,1446.71 2024.53,1444.19 2005.22,1444.19 2005.22,1444.19 \n",
       "  \" fill=\"#009af9\" fill-rule=\"evenodd\" fill-opacity=\"1\"/>\n",
       "<polyline clip-path=\"url(#clip5102)\" style=\"stroke:#000000; stroke-width:4; stroke-opacity:1; fill:none\" points=\"\n",
       "  2005.22,1444.19 2005.22,1446.71 2024.53,1446.71 2024.53,1444.19 2005.22,1444.19 \n",
       "  \"/>\n",
       "<polygon clip-path=\"url(#clip5102)\" points=\"\n",
       "2024.53,1445.25 2024.53,1446.71 2043.85,1446.71 2043.85,1445.25 2024.53,1445.25 2024.53,1445.25 \n",
       "  \" fill=\"#009af9\" fill-rule=\"evenodd\" fill-opacity=\"1\"/>\n",
       "<polyline clip-path=\"url(#clip5102)\" style=\"stroke:#000000; stroke-width:4; stroke-opacity:1; fill:none\" points=\"\n",
       "  2024.53,1445.25 2024.53,1446.71 2043.85,1446.71 2043.85,1445.25 2024.53,1445.25 \n",
       "  \"/>\n",
       "<polygon clip-path=\"url(#clip5102)\" points=\"\n",
       "2043.85,1445.31 2043.85,1446.71 2063.16,1446.71 2063.16,1445.31 2043.85,1445.31 2043.85,1445.31 \n",
       "  \" fill=\"#009af9\" fill-rule=\"evenodd\" fill-opacity=\"1\"/>\n",
       "<polyline clip-path=\"url(#clip5102)\" style=\"stroke:#000000; stroke-width:4; stroke-opacity:1; fill:none\" points=\"\n",
       "  2043.85,1445.31 2043.85,1446.71 2063.16,1446.71 2063.16,1445.31 2043.85,1445.31 \n",
       "  \"/>\n",
       "<polygon clip-path=\"url(#clip5102)\" points=\"\n",
       "2063.16,1446 2063.16,1446.71 2082.47,1446.71 2082.47,1446 2063.16,1446 2063.16,1446 \n",
       "  \" fill=\"#009af9\" fill-rule=\"evenodd\" fill-opacity=\"1\"/>\n",
       "<polyline clip-path=\"url(#clip5102)\" style=\"stroke:#000000; stroke-width:4; stroke-opacity:1; fill:none\" points=\"\n",
       "  2063.16,1446 2063.16,1446.71 2082.47,1446.71 2082.47,1446 2063.16,1446 \n",
       "  \"/>\n",
       "<polygon clip-path=\"url(#clip5102)\" points=\"\n",
       "2082.47,1446.41 2082.47,1446.71 2101.79,1446.71 2101.79,1446.41 2082.47,1446.41 2082.47,1446.41 \n",
       "  \" fill=\"#009af9\" fill-rule=\"evenodd\" fill-opacity=\"1\"/>\n",
       "<polyline clip-path=\"url(#clip5102)\" style=\"stroke:#000000; stroke-width:4; stroke-opacity:1; fill:none\" points=\"\n",
       "  2082.47,1446.41 2082.47,1446.71 2101.79,1446.71 2101.79,1446.41 2082.47,1446.41 \n",
       "  \"/>\n",
       "<polygon clip-path=\"url(#clip5102)\" points=\"\n",
       "2101.79,1446.44 2101.79,1446.71 2121.1,1446.71 2121.1,1446.44 2101.79,1446.44 2101.79,1446.44 \n",
       "  \" fill=\"#009af9\" fill-rule=\"evenodd\" fill-opacity=\"1\"/>\n",
       "<polyline clip-path=\"url(#clip5102)\" style=\"stroke:#000000; stroke-width:4; stroke-opacity:1; fill:none\" points=\"\n",
       "  2101.79,1446.44 2101.79,1446.71 2121.1,1446.71 2121.1,1446.44 2101.79,1446.44 \n",
       "  \"/>\n",
       "<polygon clip-path=\"url(#clip5102)\" points=\"\n",
       "2121.1,1446.61 2121.1,1446.71 2140.41,1446.71 2140.41,1446.61 2121.1,1446.61 2121.1,1446.61 \n",
       "  \" fill=\"#009af9\" fill-rule=\"evenodd\" fill-opacity=\"1\"/>\n",
       "<polyline clip-path=\"url(#clip5102)\" style=\"stroke:#000000; stroke-width:4; stroke-opacity:1; fill:none\" points=\"\n",
       "  2121.1,1446.61 2121.1,1446.71 2140.41,1446.71 2140.41,1446.61 2121.1,1446.61 \n",
       "  \"/>\n",
       "<polygon clip-path=\"url(#clip5102)\" points=\"\n",
       "2140.41,1446.54 2140.41,1446.71 2159.73,1446.71 2159.73,1446.54 2140.41,1446.54 2140.41,1446.54 \n",
       "  \" fill=\"#009af9\" fill-rule=\"evenodd\" fill-opacity=\"1\"/>\n",
       "<polyline clip-path=\"url(#clip5102)\" style=\"stroke:#000000; stroke-width:4; stroke-opacity:1; fill:none\" points=\"\n",
       "  2140.41,1446.54 2140.41,1446.71 2159.73,1446.71 2159.73,1446.54 2140.41,1446.54 \n",
       "  \"/>\n",
       "<polygon clip-path=\"url(#clip5102)\" points=\"\n",
       "2159.73,1446.54 2159.73,1446.71 2179.04,1446.71 2179.04,1446.54 2159.73,1446.54 2159.73,1446.54 \n",
       "  \" fill=\"#009af9\" fill-rule=\"evenodd\" fill-opacity=\"1\"/>\n",
       "<polyline clip-path=\"url(#clip5102)\" style=\"stroke:#000000; stroke-width:4; stroke-opacity:1; fill:none\" points=\"\n",
       "  2159.73,1446.54 2159.73,1446.71 2179.04,1446.71 2179.04,1446.54 2159.73,1446.54 \n",
       "  \"/>\n",
       "<polygon clip-path=\"url(#clip5102)\" points=\"\n",
       "2179.04,1446.51 2179.04,1446.71 2198.35,1446.71 2198.35,1446.51 2179.04,1446.51 2179.04,1446.51 \n",
       "  \" fill=\"#009af9\" fill-rule=\"evenodd\" fill-opacity=\"1\"/>\n",
       "<polyline clip-path=\"url(#clip5102)\" style=\"stroke:#000000; stroke-width:4; stroke-opacity:1; fill:none\" points=\"\n",
       "  2179.04,1446.51 2179.04,1446.71 2198.35,1446.71 2198.35,1446.51 2179.04,1446.51 \n",
       "  \"/>\n",
       "<polygon clip-path=\"url(#clip5102)\" points=\"\n",
       "2198.35,1446.61 2198.35,1446.71 2217.67,1446.71 2217.67,1446.61 2198.35,1446.61 2198.35,1446.61 \n",
       "  \" fill=\"#009af9\" fill-rule=\"evenodd\" fill-opacity=\"1\"/>\n",
       "<polyline clip-path=\"url(#clip5102)\" style=\"stroke:#000000; stroke-width:4; stroke-opacity:1; fill:none\" points=\"\n",
       "  2198.35,1446.61 2198.35,1446.71 2217.67,1446.71 2217.67,1446.61 2198.35,1446.61 \n",
       "  \"/>\n",
       "<polygon clip-path=\"url(#clip5102)\" points=\"\n",
       "2217.67,1446.68 2217.67,1446.71 2236.98,1446.71 2236.98,1446.68 2217.67,1446.68 2217.67,1446.68 \n",
       "  \" fill=\"#009af9\" fill-rule=\"evenodd\" fill-opacity=\"1\"/>\n",
       "<polyline clip-path=\"url(#clip5102)\" style=\"stroke:#000000; stroke-width:4; stroke-opacity:1; fill:none\" points=\"\n",
       "  2217.67,1446.68 2217.67,1446.71 2236.98,1446.71 2236.98,1446.68 2217.67,1446.68 \n",
       "  \"/>\n",
       "<polygon clip-path=\"url(#clip5100)\" points=\"\n",
       "1989.93,251.724 2280.76,251.724 2280.76,130.764 1989.93,130.764 \n",
       "  \" fill=\"#ffffff\" fill-rule=\"evenodd\" fill-opacity=\"1\"/>\n",
       "<polyline clip-path=\"url(#clip5100)\" style=\"stroke:#000000; stroke-width:4; stroke-opacity:1; fill:none\" points=\"\n",
       "  1989.93,251.724 2280.76,251.724 2280.76,130.764 1989.93,130.764 1989.93,251.724 \n",
       "  \"/>\n",
       "<polygon clip-path=\"url(#clip5100)\" points=\"\n",
       "2013.93,215.436 2157.93,215.436 2157.93,167.052 2013.93,167.052 2013.93,215.436 \n",
       "  \" fill=\"#009af9\" fill-rule=\"evenodd\" fill-opacity=\"1\"/>\n",
       "<polyline clip-path=\"url(#clip5100)\" style=\"stroke:#000000; stroke-width:4; stroke-opacity:1; fill:none\" points=\"\n",
       "  2013.93,215.436 2157.93,215.436 2157.93,167.052 2013.93,167.052 2013.93,215.436 \n",
       "  \"/>\n",
       "<g clip-path=\"url(#clip5100)\">\n",
       "<text style=\"fill:#000000; fill-opacity:1; font-family:Arial,Helvetica Neue,Helvetica,sans-serif; font-size:48px; text-anchor:start;\" transform=\"rotate(0, 2181.93, 208.744)\" x=\"2181.93\" y=\"208.744\">y1</text>\n",
       "</g>\n",
       "</svg>\n"
      ]
     },
     "execution_count": 13,
     "metadata": {},
     "output_type": "execute_result"
    }
   ],
   "source": [
    "o = Hist(-5:.1:5)\n",
    "\n",
    "fit!(o, randn(10^6))\n",
    "\n",
    "plot(o)"
   ]
  },
  {
   "cell_type": "code",
   "execution_count": 14,
   "metadata": {},
   "outputs": [
    {
     "data": {
      "image/svg+xml": [
       "<?xml version=\"1.0\" encoding=\"utf-8\"?>\n",
       "<svg xmlns=\"http://www.w3.org/2000/svg\" xmlns:xlink=\"http://www.w3.org/1999/xlink\" width=\"600\" height=\"400\" viewBox=\"0 0 2400 1600\">\n",
       "<defs>\n",
       "  <clipPath id=\"clip5500\">\n",
       "    <rect x=\"0\" y=\"0\" width=\"2400\" height=\"1600\"/>\n",
       "  </clipPath>\n",
       "</defs>\n",
       "<polygon clip-path=\"url(#clip5500)\" points=\"\n",
       "0,1600 2400,1600 2400,0 0,0 \n",
       "  \" fill=\"#ffffff\" fill-rule=\"evenodd\" fill-opacity=\"1\"/>\n",
       "<defs>\n",
       "  <clipPath id=\"clip5501\">\n",
       "    <rect x=\"480\" y=\"0\" width=\"1681\" height=\"1600\"/>\n",
       "  </clipPath>\n",
       "</defs>\n",
       "<polygon clip-path=\"url(#clip5500)\" points=\"\n",
       "261.188,1487.47 2352.76,1487.47 2352.76,47.2441 261.188,47.2441 \n",
       "  \" fill=\"#ffffff\" fill-rule=\"evenodd\" fill-opacity=\"1\"/>\n",
       "<defs>\n",
       "  <clipPath id=\"clip5502\">\n",
       "    <rect x=\"261\" y=\"47\" width=\"2093\" height=\"1441\"/>\n",
       "  </clipPath>\n",
       "</defs>\n",
       "<polyline clip-path=\"url(#clip5502)\" style=\"stroke:#000000; stroke-width:2; stroke-opacity:0.1; fill:none\" points=\"\n",
       "  789.892,1487.47 789.892,47.2441 \n",
       "  \"/>\n",
       "<polyline clip-path=\"url(#clip5502)\" style=\"stroke:#000000; stroke-width:2; stroke-opacity:0.1; fill:none\" points=\"\n",
       "  1824.05,1487.47 1824.05,47.2441 \n",
       "  \"/>\n",
       "<polyline clip-path=\"url(#clip5502)\" style=\"stroke:#000000; stroke-width:2; stroke-opacity:0.1; fill:none\" points=\"\n",
       "  261.188,1446.71 2352.76,1446.71 \n",
       "  \"/>\n",
       "<polyline clip-path=\"url(#clip5502)\" style=\"stroke:#000000; stroke-width:2; stroke-opacity:0.1; fill:none\" points=\"\n",
       "  261.188,1243.19 2352.76,1243.19 \n",
       "  \"/>\n",
       "<polyline clip-path=\"url(#clip5502)\" style=\"stroke:#000000; stroke-width:2; stroke-opacity:0.1; fill:none\" points=\"\n",
       "  261.188,1039.67 2352.76,1039.67 \n",
       "  \"/>\n",
       "<polyline clip-path=\"url(#clip5502)\" style=\"stroke:#000000; stroke-width:2; stroke-opacity:0.1; fill:none\" points=\"\n",
       "  261.188,836.148 2352.76,836.148 \n",
       "  \"/>\n",
       "<polyline clip-path=\"url(#clip5502)\" style=\"stroke:#000000; stroke-width:2; stroke-opacity:0.1; fill:none\" points=\"\n",
       "  261.188,632.626 2352.76,632.626 \n",
       "  \"/>\n",
       "<polyline clip-path=\"url(#clip5502)\" style=\"stroke:#000000; stroke-width:2; stroke-opacity:0.1; fill:none\" points=\"\n",
       "  261.188,429.104 2352.76,429.104 \n",
       "  \"/>\n",
       "<polyline clip-path=\"url(#clip5502)\" style=\"stroke:#000000; stroke-width:2; stroke-opacity:0.1; fill:none\" points=\"\n",
       "  261.188,225.582 2352.76,225.582 \n",
       "  \"/>\n",
       "<polyline clip-path=\"url(#clip5500)\" style=\"stroke:#000000; stroke-width:4; stroke-opacity:1; fill:none\" points=\"\n",
       "  261.188,1487.47 2352.76,1487.47 \n",
       "  \"/>\n",
       "<polyline clip-path=\"url(#clip5500)\" style=\"stroke:#000000; stroke-width:4; stroke-opacity:1; fill:none\" points=\"\n",
       "  261.188,1487.47 261.188,47.2441 \n",
       "  \"/>\n",
       "<polyline clip-path=\"url(#clip5500)\" style=\"stroke:#000000; stroke-width:4; stroke-opacity:1; fill:none\" points=\"\n",
       "  789.892,1487.47 789.892,1465.87 \n",
       "  \"/>\n",
       "<polyline clip-path=\"url(#clip5500)\" style=\"stroke:#000000; stroke-width:4; stroke-opacity:1; fill:none\" points=\"\n",
       "  1824.05,1487.47 1824.05,1465.87 \n",
       "  \"/>\n",
       "<polyline clip-path=\"url(#clip5500)\" style=\"stroke:#000000; stroke-width:4; stroke-opacity:1; fill:none\" points=\"\n",
       "  261.188,1446.71 292.562,1446.71 \n",
       "  \"/>\n",
       "<polyline clip-path=\"url(#clip5500)\" style=\"stroke:#000000; stroke-width:4; stroke-opacity:1; fill:none\" points=\"\n",
       "  261.188,1243.19 292.562,1243.19 \n",
       "  \"/>\n",
       "<polyline clip-path=\"url(#clip5500)\" style=\"stroke:#000000; stroke-width:4; stroke-opacity:1; fill:none\" points=\"\n",
       "  261.188,1039.67 292.562,1039.67 \n",
       "  \"/>\n",
       "<polyline clip-path=\"url(#clip5500)\" style=\"stroke:#000000; stroke-width:4; stroke-opacity:1; fill:none\" points=\"\n",
       "  261.188,836.148 292.562,836.148 \n",
       "  \"/>\n",
       "<polyline clip-path=\"url(#clip5500)\" style=\"stroke:#000000; stroke-width:4; stroke-opacity:1; fill:none\" points=\"\n",
       "  261.188,632.626 292.562,632.626 \n",
       "  \"/>\n",
       "<polyline clip-path=\"url(#clip5500)\" style=\"stroke:#000000; stroke-width:4; stroke-opacity:1; fill:none\" points=\"\n",
       "  261.188,429.104 292.562,429.104 \n",
       "  \"/>\n",
       "<polyline clip-path=\"url(#clip5500)\" style=\"stroke:#000000; stroke-width:4; stroke-opacity:1; fill:none\" points=\"\n",
       "  261.188,225.582 292.562,225.582 \n",
       "  \"/>\n",
       "<g clip-path=\"url(#clip5500)\">\n",
       "<text style=\"fill:#000000; fill-opacity:1; font-family:Arial,Helvetica Neue,Helvetica,sans-serif; font-size:48px; text-anchor:middle;\" transform=\"rotate(0, 789.892, 1541.47)\" x=\"789.892\" y=\"1541.47\">A</text>\n",
       "</g>\n",
       "<g clip-path=\"url(#clip5500)\">\n",
       "<text style=\"fill:#000000; fill-opacity:1; font-family:Arial,Helvetica Neue,Helvetica,sans-serif; font-size:48px; text-anchor:middle;\" transform=\"rotate(0, 1824.05, 1541.47)\" x=\"1824.05\" y=\"1541.47\">B</text>\n",
       "</g>\n",
       "<g clip-path=\"url(#clip5500)\">\n",
       "<text style=\"fill:#000000; fill-opacity:1; font-family:Arial,Helvetica Neue,Helvetica,sans-serif; font-size:48px; text-anchor:end;\" transform=\"rotate(0, 237.188, 1464.21)\" x=\"237.188\" y=\"1464.21\">0</text>\n",
       "</g>\n",
       "<g clip-path=\"url(#clip5500)\">\n",
       "<text style=\"fill:#000000; fill-opacity:1; font-family:Arial,Helvetica Neue,Helvetica,sans-serif; font-size:48px; text-anchor:start;\" transform=\"rotate(0, 107.046, 1266.92)\" x=\"107.046\" y=\"1266.92\">1×10</text>\n",
       "</g>\n",
       "<g clip-path=\"url(#clip5500)\">\n",
       "<text style=\"fill:#000000; fill-opacity:1; font-family:Arial,Helvetica Neue,Helvetica,sans-serif; font-size:38px; text-anchor:start;\" transform=\"rotate(0, 215.444, 1239.51)\" x=\"215.444\" y=\"1239.51\">5</text>\n",
       "</g>\n",
       "<g clip-path=\"url(#clip5500)\">\n",
       "<text style=\"fill:#000000; fill-opacity:1; font-family:Arial,Helvetica Neue,Helvetica,sans-serif; font-size:48px; text-anchor:start;\" transform=\"rotate(0, 107.046, 1063.4)\" x=\"107.046\" y=\"1063.4\">2×10</text>\n",
       "</g>\n",
       "<g clip-path=\"url(#clip5500)\">\n",
       "<text style=\"fill:#000000; fill-opacity:1; font-family:Arial,Helvetica Neue,Helvetica,sans-serif; font-size:38px; text-anchor:start;\" transform=\"rotate(0, 215.444, 1035.99)\" x=\"215.444\" y=\"1035.99\">5</text>\n",
       "</g>\n",
       "<g clip-path=\"url(#clip5500)\">\n",
       "<text style=\"fill:#000000; fill-opacity:1; font-family:Arial,Helvetica Neue,Helvetica,sans-serif; font-size:48px; text-anchor:start;\" transform=\"rotate(0, 107.046, 859.875)\" x=\"107.046\" y=\"859.875\">3×10</text>\n",
       "</g>\n",
       "<g clip-path=\"url(#clip5500)\">\n",
       "<text style=\"fill:#000000; fill-opacity:1; font-family:Arial,Helvetica Neue,Helvetica,sans-serif; font-size:38px; text-anchor:start;\" transform=\"rotate(0, 215.444, 832.465)\" x=\"215.444\" y=\"832.465\">5</text>\n",
       "</g>\n",
       "<g clip-path=\"url(#clip5500)\">\n",
       "<text style=\"fill:#000000; fill-opacity:1; font-family:Arial,Helvetica Neue,Helvetica,sans-serif; font-size:48px; text-anchor:start;\" transform=\"rotate(0, 107.046, 656.353)\" x=\"107.046\" y=\"656.353\">4×10</text>\n",
       "</g>\n",
       "<g clip-path=\"url(#clip5500)\">\n",
       "<text style=\"fill:#000000; fill-opacity:1; font-family:Arial,Helvetica Neue,Helvetica,sans-serif; font-size:38px; text-anchor:start;\" transform=\"rotate(0, 215.444, 628.943)\" x=\"215.444\" y=\"628.943\">5</text>\n",
       "</g>\n",
       "<g clip-path=\"url(#clip5500)\">\n",
       "<text style=\"fill:#000000; fill-opacity:1; font-family:Arial,Helvetica Neue,Helvetica,sans-serif; font-size:48px; text-anchor:start;\" transform=\"rotate(0, 107.046, 452.832)\" x=\"107.046\" y=\"452.832\">5×10</text>\n",
       "</g>\n",
       "<g clip-path=\"url(#clip5500)\">\n",
       "<text style=\"fill:#000000; fill-opacity:1; font-family:Arial,Helvetica Neue,Helvetica,sans-serif; font-size:38px; text-anchor:start;\" transform=\"rotate(0, 215.444, 425.421)\" x=\"215.444\" y=\"425.421\">5</text>\n",
       "</g>\n",
       "<g clip-path=\"url(#clip5500)\">\n",
       "<text style=\"fill:#000000; fill-opacity:1; font-family:Arial,Helvetica Neue,Helvetica,sans-serif; font-size:48px; text-anchor:start;\" transform=\"rotate(0, 107.046, 249.31)\" x=\"107.046\" y=\"249.31\">6×10</text>\n",
       "</g>\n",
       "<g clip-path=\"url(#clip5500)\">\n",
       "<text style=\"fill:#000000; fill-opacity:1; font-family:Arial,Helvetica Neue,Helvetica,sans-serif; font-size:38px; text-anchor:start;\" transform=\"rotate(0, 215.444, 221.899)\" x=\"215.444\" y=\"221.899\">5</text>\n",
       "</g>\n",
       "<polygon clip-path=\"url(#clip5502)\" points=\"\n",
       "376.228,88.0053 376.228,1446.71 1203.56,1446.71 1203.56,88.0053 376.228,88.0053 376.228,88.0053 \n",
       "  \" fill=\"#009af9\" fill-rule=\"evenodd\" fill-opacity=\"1\"/>\n",
       "<polyline clip-path=\"url(#clip5502)\" style=\"stroke:#000000; stroke-width:4; stroke-opacity:1; fill:none\" points=\"\n",
       "  376.228,88.0053 376.228,1446.71 1203.56,1446.71 1203.56,88.0053 376.228,88.0053 \n",
       "  \"/>\n",
       "<polygon clip-path=\"url(#clip5502)\" points=\"\n",
       "1410.39,770.203 1410.39,1446.71 2237.72,1446.71 2237.72,770.203 1410.39,770.203 1410.39,770.203 \n",
       "  \" fill=\"#009af9\" fill-rule=\"evenodd\" fill-opacity=\"1\"/>\n",
       "<polyline clip-path=\"url(#clip5502)\" style=\"stroke:#000000; stroke-width:4; stroke-opacity:1; fill:none\" points=\"\n",
       "  1410.39,770.203 1410.39,1446.71 2237.72,1446.71 2237.72,770.203 1410.39,770.203 \n",
       "  \"/>\n",
       "<polygon clip-path=\"url(#clip5500)\" points=\"\n",
       "1912.34,251.724 2280.76,251.724 2280.76,130.764 1912.34,130.764 \n",
       "  \" fill=\"#ffffff\" fill-rule=\"evenodd\" fill-opacity=\"1\"/>\n",
       "<polyline clip-path=\"url(#clip5500)\" style=\"stroke:#000000; stroke-width:4; stroke-opacity:1; fill:none\" points=\"\n",
       "  1912.34,251.724 2280.76,251.724 2280.76,130.764 1912.34,130.764 1912.34,251.724 \n",
       "  \"/>\n",
       "<polygon clip-path=\"url(#clip5500)\" points=\"\n",
       "1936.34,215.436 2080.34,215.436 2080.34,167.052 1936.34,167.052 1936.34,215.436 \n",
       "  \" fill=\"#009af9\" fill-rule=\"evenodd\" fill-opacity=\"1\"/>\n",
       "<polyline clip-path=\"url(#clip5500)\" style=\"stroke:#000000; stroke-width:4; stroke-opacity:1; fill:none\" points=\"\n",
       "  1936.34,215.436 2080.34,215.436 2080.34,167.052 1936.34,167.052 1936.34,215.436 \n",
       "  \"/>\n",
       "<g clip-path=\"url(#clip5500)\">\n",
       "<text style=\"fill:#000000; fill-opacity:1; font-family:Arial,Helvetica Neue,Helvetica,sans-serif; font-size:48px; text-anchor:start;\" transform=\"rotate(0, 2104.34, 208.744)\" x=\"2104.34\" y=\"208.744\">Count</text>\n",
       "</g>\n",
       "</svg>\n"
      ]
     },
     "execution_count": 14,
     "metadata": {},
     "output_type": "execute_result"
    }
   ],
   "source": [
    "o = CountMap(String)\n",
    "\n",
    "fit!(o, rand([\"A\", \"A\", \"B\"], 10^6))\n",
    "\n",
    "plot(o)"
   ]
  },
  {
   "cell_type": "markdown",
   "metadata": {},
   "source": [
    "#### `Partition` shows a statistic indexed by observation order"
   ]
  },
  {
   "cell_type": "code",
   "execution_count": 15,
   "metadata": {},
   "outputs": [
    {
     "data": {
      "application/vnd.webio.node+json": {
       "children": [
        {
         "children": [
          {
           "children": [
            {
             "children": [
              {
               "children": [
                {
                 "children": [
                  ""
                 ],
                 "instanceArgs": {
                  "namespace": "html",
                  "tag": "label"
                 },
                 "nodeType": "DOM",
                 "props": {
                  "className": "interact ",
                  "style": {
                   "padding": "5px 10px 0px 10px"
                  }
                 },
                 "type": "node"
                }
               ],
               "instanceArgs": {
                "namespace": "html",
                "tag": "div"
               },
               "nodeType": "DOM",
               "props": {
                "className": "interact-flex-row-left"
               },
               "type": "node"
              },
              {
               "children": [
                {
                 "children": [],
                 "instanceArgs": {
                  "namespace": "html",
                  "tag": "input"
                 },
                 "nodeType": "DOM",
                 "props": {
                  "attributes": {
                   "data-bind": "numericValue: index, valueUpdate: 'input', event: {change: function (){this.changes(this.changes()+1)}}",
                   "orient": "horizontal",
                   "type": "range"
                  },
                  "className": "slider slider is-fullwidth",
                  "max": 40,
                  "min": 1,
                  "step": 1,
                  "style": {}
                 },
                 "type": "node"
                }
               ],
               "instanceArgs": {
                "namespace": "html",
                "tag": "div"
               },
               "nodeType": "DOM",
               "props": {
                "className": "interact-flex-row-center"
               },
               "type": "node"
              },
              {
               "children": [
                {
                 "children": [],
                 "instanceArgs": {
                  "namespace": "html",
                  "tag": "p"
                 },
                 "nodeType": "DOM",
                 "props": {
                  "attributes": {
                   "data-bind": "text: formatted_val"
                  }
                 },
                 "type": "node"
                }
               ],
               "instanceArgs": {
                "namespace": "html",
                "tag": "div"
               },
               "nodeType": "DOM",
               "props": {
                "className": "interact-flex-row-right"
               },
               "type": "node"
              }
             ],
             "instanceArgs": {
              "namespace": "html",
              "tag": "div"
             },
             "nodeType": "DOM",
             "props": {
              "className": "interact-flex-row interact-widget"
             },
             "type": "node"
            }
           ],
           "instanceArgs": {
            "handlers": {
             "changes": [
              "(function (val){return (val!=this.model[\"changes\"]()) ? (this.valueFromJulia[\"changes\"]=true, this.model[\"changes\"](val)) : undefined})"
             ],
             "index": [
              "(function (val){return (val!=this.model[\"index\"]()) ? (this.valueFromJulia[\"index\"]=true, this.model[\"index\"](val)) : undefined})"
             ]
            },
            "id": "14267611809924477312",
            "imports": {
             "data": [
              {
               "name": "knockout",
               "type": "js",
               "url": "/assetserver/138fa309f919ec7484ebc55e3091f379f47cc424-knockout.js"
              },
              {
               "name": "knockout_punches",
               "type": "js",
               "url": "/assetserver/620d29c2d3531d56ec3a1d8a13d747afffb44410-knockout_punches.js"
              },
              {
               "name": null,
               "type": "js",
               "url": "/assetserver/57e29df20789a576b69ae2f70e2711fac6716a39-all.js"
              },
              {
               "name": null,
               "type": "css",
               "url": "/assetserver/417d90e06c0658278ea1ef32551ed090a57a1491-style.css"
              },
              {
               "name": null,
               "type": "css",
               "url": "/assetserver/1f5a763355fa31c38c9cab232bda0758d9a22c0d-bulma_confined.min.css"
              }
             ],
             "type": "async_block"
            },
            "mount_callbacks": [
             "function () {\n    var handler = (function (ko, koPunches) {\n    ko.punches.enableAll();\n    ko.bindingHandlers.numericValue = {\n        init: function(element, valueAccessor, allBindings, data, context) {\n            var stringified = ko.observable(ko.unwrap(valueAccessor()));\n            stringified.subscribe(function(value) {\n                var val = parseFloat(value);\n                if (!isNaN(val)) {\n                    valueAccessor()(val);\n                }\n            });\n            valueAccessor().subscribe(function(value) {\n                var str = JSON.stringify(value);\n                if ((str == \"0\") && ([\"-0\", \"-0.\"].indexOf(stringified()) >= 0))\n                     return;\n                 if ([\"null\", \"\"].indexOf(str) >= 0)\n                     return;\n                stringified(str);\n            });\n            ko.applyBindingsToNode(\n                element,\n                {\n                    value: stringified,\n                    valueUpdate: allBindings.get('valueUpdate'),\n                },\n                context,\n            );\n        }\n    };\n    var json_data = {\"formatted_vals\":[\"5\",\"10\",\"15\",\"20\",\"25\",\"30\",\"35\",\"40\",\"45\",\"50\",\"55\",\"60\",\"65\",\"70\",\"75\",\"80\",\"85\",\"90\",\"95\",\"100\",\"105\",\"110\",\"115\",\"120\",\"125\",\"130\",\"135\",\"140\",\"145\",\"150\",\"155\",\"160\",\"165\",\"170\",\"175\",\"180\",\"185\",\"190\",\"195\",\"200\"],\"changes\":WebIO.getval({\"name\":\"changes\",\"scope\":\"14267611809924477312\",\"id\":\"ob_17\",\"type\":\"observable\"}),\"index\":WebIO.getval({\"name\":\"index\",\"scope\":\"14267611809924477312\",\"id\":\"ob_16\",\"type\":\"observable\"})};\n    var self = this;\n    function AppViewModel() {\n        for (var key in json_data) {\n            var el = json_data[key];\n            this[key] = Array.isArray(el) ? ko.observableArray(el) : ko.observable(el);\n        }\n        \n        [this[\"formatted_val\"]=ko.computed(    function(){\n        return this.formatted_vals()[parseInt(this.index())-(1)];\n    }\n,this)]\n        [this[\"changes\"].subscribe((function (val){!(this.valueFromJulia[\"changes\"]) ? (WebIO.setval({\"name\":\"changes\",\"scope\":\"14267611809924477312\",\"id\":\"ob_17\",\"type\":\"observable\"},val)) : undefined; return this.valueFromJulia[\"changes\"]=false}),self),this[\"index\"].subscribe((function (val){!(this.valueFromJulia[\"index\"]) ? (WebIO.setval({\"name\":\"index\",\"scope\":\"14267611809924477312\",\"id\":\"ob_16\",\"type\":\"observable\"},val)) : undefined; return this.valueFromJulia[\"index\"]=false}),self)]\n        \n    }\n    self.model = new AppViewModel();\n    self.valueFromJulia = {};\n    for (var key in json_data) {\n        self.valueFromJulia[key] = false;\n    }\n    ko.applyBindings(self.model, self.dom);\n}\n);\n    (WebIO.importBlock({\"data\":[{\"name\":\"knockout\",\"type\":\"js\",\"url\":\"/assetserver/138fa309f919ec7484ebc55e3091f379f47cc424-knockout.js\"},{\"name\":\"knockout_punches\",\"type\":\"js\",\"url\":\"/assetserver/620d29c2d3531d56ec3a1d8a13d747afffb44410-knockout_punches.js\"}],\"type\":\"async_block\"})).then((imports) => handler.apply(this, imports));\n}\n"
            ],
            "observables": {
             "changes": {
              "id": "ob_17",
              "sync": false,
              "value": 0
             },
             "index": {
              "id": "ob_16",
              "sync": true,
              "value": 1
             }
            },
            "systemjs_options": null
           },
           "nodeType": "Scope",
           "props": {},
           "type": "node"
          }
         ],
         "instanceArgs": {
          "namespace": "html",
          "tag": "div"
         },
         "nodeType": "DOM",
         "props": {
          "className": "field interact-widget"
         },
         "type": "node"
        },
        {
         "children": [
          {
           "children": [],
           "instanceArgs": {
            "id": "ob_23",
            "name": "obs-node"
           },
           "nodeType": "ObservableNode",
           "props": {},
           "type": "node"
          }
         ],
         "instanceArgs": {
          "handlers": {},
          "id": "9141910925599643005",
          "imports": {
           "data": [],
           "type": "async_block"
          },
          "mount_callbacks": [],
          "observables": {
           "obs-node": {
            "id": "ob_23",
            "sync": false,
            "value": {
             "children": [
              {
               "children": [],
               "instanceArgs": {
                "namespace": "html",
                "tag": "div"
               },
               "nodeType": "DOM",
               "props": {
                "setInnerHtml": "<?xml version=\"1.0\" encoding=\"utf-8\"?>\n<svg xmlns=\"http://www.w3.org/2000/svg\" xmlns:xlink=\"http://www.w3.org/1999/xlink\" width=\"600\" height=\"400\" viewBox=\"0 0 2400 1600\">\n<defs>\n  <clipPath id=\"clip6300\">\n    <rect x=\"0\" y=\"0\" width=\"2400\" height=\"1600\"/>\n  </clipPath>\n</defs>\n<polygon clip-path=\"url(#clip6300)\" points=\"\n0,1600 2400,1600 2400,0 0,0 \n  \" fill=\"#ffffff\" fill-rule=\"evenodd\" fill-opacity=\"1\"/>\n<defs>\n  <clipPath id=\"clip6301\">\n    <rect x=\"480\" y=\"0\" width=\"1681\" height=\"1600\"/>\n  </clipPath>\n</defs>\n<polygon clip-path=\"url(#clip6300)\" points=\"\n194.041,1425.62 2352.76,1425.62 2352.76,47.2441 194.041,47.2441 \n  \" fill=\"#ffffff\" fill-rule=\"evenodd\" fill-opacity=\"1\"/>\n<defs>\n  <clipPath id=\"clip6302\">\n    <rect x=\"194\" y=\"47\" width=\"2160\" height=\"1379\"/>\n  </clipPath>\n</defs>\n<polyline clip-path=\"url(#clip6302)\" style=\"stroke:#000000; stroke-width:2; stroke-opacity:0.1; fill:none\" points=\"\n  419.9,1425.62 419.9,47.2441 \n  \"/>\n<polyline clip-path=\"url(#clip6302)\" style=\"stroke:#000000; stroke-width:2; stroke-opacity:0.1; fill:none\" points=\"\n  897.975,1425.62 897.975,47.2441 \n  \"/>\n<polyline clip-path=\"url(#clip6302)\" style=\"stroke:#000000; stroke-width:2; stroke-opacity:0.1; fill:none\" points=\"\n  1376.05,1425.62 1376.05,47.2441 \n  \"/>\n<polyline clip-path=\"url(#clip6302)\" style=\"stroke:#000000; stroke-width:2; stroke-opacity:0.1; fill:none\" points=\"\n  1854.12,1425.62 1854.12,47.2441 \n  \"/>\n<polyline clip-path=\"url(#clip6302)\" style=\"stroke:#000000; stroke-width:2; stroke-opacity:0.1; fill:none\" points=\"\n  2332.2,1425.62 2332.2,47.2441 \n  \"/>\n<polyline clip-path=\"url(#clip6302)\" style=\"stroke:#000000; stroke-width:2; stroke-opacity:0.1; fill:none\" points=\"\n  194.041,1326.04 2352.76,1326.04 \n  \"/>\n<polyline clip-path=\"url(#clip6302)\" style=\"stroke:#000000; stroke-width:2; stroke-opacity:0.1; fill:none\" points=\"\n  194.041,1068.95 2352.76,1068.95 \n  \"/>\n<polyline clip-path=\"url(#clip6302)\" style=\"stroke:#000000; stroke-width:2; stroke-opacity:0.1; fill:none\" points=\"\n  194.041,811.855 2352.76,811.855 \n  \"/>\n<polyline clip-path=\"url(#clip6302)\" style=\"stroke:#000000; stroke-width:2; stroke-opacity:0.1; fill:none\" points=\"\n  194.041,554.761 2352.76,554.761 \n  \"/>\n<polyline clip-path=\"url(#clip6302)\" style=\"stroke:#000000; stroke-width:2; stroke-opacity:0.1; fill:none\" points=\"\n  194.041,297.668 2352.76,297.668 \n  \"/>\n<polyline clip-path=\"url(#clip6300)\" style=\"stroke:#000000; stroke-width:4; stroke-opacity:1; fill:none\" points=\"\n  194.041,1425.62 2352.76,1425.62 \n  \"/>\n<polyline clip-path=\"url(#clip6300)\" style=\"stroke:#000000; stroke-width:4; stroke-opacity:1; fill:none\" points=\"\n  194.041,1425.62 194.041,47.2441 \n  \"/>\n<polyline clip-path=\"url(#clip6300)\" style=\"stroke:#000000; stroke-width:4; stroke-opacity:1; fill:none\" points=\"\n  419.9,1425.62 419.9,1404.94 \n  \"/>\n<polyline clip-path=\"url(#clip6300)\" style=\"stroke:#000000; stroke-width:4; stroke-opacity:1; fill:none\" points=\"\n  897.975,1425.62 897.975,1404.94 \n  \"/>\n<polyline clip-path=\"url(#clip6300)\" style=\"stroke:#000000; stroke-width:4; stroke-opacity:1; fill:none\" points=\"\n  1376.05,1425.62 1376.05,1404.94 \n  \"/>\n<polyline clip-path=\"url(#clip6300)\" style=\"stroke:#000000; stroke-width:4; stroke-opacity:1; fill:none\" points=\"\n  1854.12,1425.62 1854.12,1404.94 \n  \"/>\n<polyline clip-path=\"url(#clip6300)\" style=\"stroke:#000000; stroke-width:4; stroke-opacity:1; fill:none\" points=\"\n  2332.2,1425.62 2332.2,1404.94 \n  \"/>\n<polyline clip-path=\"url(#clip6300)\" style=\"stroke:#000000; stroke-width:4; stroke-opacity:1; fill:none\" points=\"\n  194.041,1326.04 226.422,1326.04 \n  \"/>\n<polyline clip-path=\"url(#clip6300)\" style=\"stroke:#000000; stroke-width:4; stroke-opacity:1; fill:none\" points=\"\n  194.041,1068.95 226.422,1068.95 \n  \"/>\n<polyline clip-path=\"url(#clip6300)\" style=\"stroke:#000000; stroke-width:4; stroke-opacity:1; fill:none\" points=\"\n  194.041,811.855 226.422,811.855 \n  \"/>\n<polyline clip-path=\"url(#clip6300)\" style=\"stroke:#000000; stroke-width:4; stroke-opacity:1; fill:none\" points=\"\n  194.041,554.761 226.422,554.761 \n  \"/>\n<polyline clip-path=\"url(#clip6300)\" style=\"stroke:#000000; stroke-width:4; stroke-opacity:1; fill:none\" points=\"\n  194.041,297.668 226.422,297.668 \n  \"/>\n<g clip-path=\"url(#clip6300)\">\n<text style=\"fill:#000000; fill-opacity:1; font-family:Arial,Helvetica Neue,Helvetica,sans-serif; font-size:48px; text-anchor:start;\" transform=\"rotate(0, 354.829, 1500.63)\" x=\"354.829\" y=\"1500.63\">2×10</text>\n</g>\n<g clip-path=\"url(#clip6300)\">\n<text style=\"fill:#000000; fill-opacity:1; font-family:Arial,Helvetica Neue,Helvetica,sans-serif; font-size:38px; text-anchor:start;\" transform=\"rotate(0, 463.226, 1473.22)\" x=\"463.226\" y=\"1473.22\">5</text>\n</g>\n<g clip-path=\"url(#clip6300)\">\n<text style=\"fill:#000000; fill-opacity:1; font-family:Arial,Helvetica Neue,Helvetica,sans-serif; font-size:48px; text-anchor:start;\" transform=\"rotate(0, 832.904, 1500.63)\" x=\"832.904\" y=\"1500.63\">4×10</text>\n</g>\n<g clip-path=\"url(#clip6300)\">\n<text style=\"fill:#000000; fill-opacity:1; font-family:Arial,Helvetica Neue,Helvetica,sans-serif; font-size:38px; text-anchor:start;\" transform=\"rotate(0, 941.301, 1473.22)\" x=\"941.301\" y=\"1473.22\">5</text>\n</g>\n<g clip-path=\"url(#clip6300)\">\n<text style=\"fill:#000000; fill-opacity:1; font-family:Arial,Helvetica Neue,Helvetica,sans-serif; font-size:48px; text-anchor:start;\" transform=\"rotate(0, 1310.98, 1500.63)\" x=\"1310.98\" y=\"1500.63\">6×10</text>\n</g>\n<g clip-path=\"url(#clip6300)\">\n<text style=\"fill:#000000; fill-opacity:1; font-family:Arial,Helvetica Neue,Helvetica,sans-serif; font-size:38px; text-anchor:start;\" transform=\"rotate(0, 1419.38, 1473.22)\" x=\"1419.38\" y=\"1473.22\">5</text>\n</g>\n<g clip-path=\"url(#clip6300)\">\n<text style=\"fill:#000000; fill-opacity:1; font-family:Arial,Helvetica Neue,Helvetica,sans-serif; font-size:48px; text-anchor:start;\" transform=\"rotate(0, 1789.05, 1500.63)\" x=\"1789.05\" y=\"1500.63\">8×10</text>\n</g>\n<g clip-path=\"url(#clip6300)\">\n<text style=\"fill:#000000; fill-opacity:1; font-family:Arial,Helvetica Neue,Helvetica,sans-serif; font-size:38px; text-anchor:start;\" transform=\"rotate(0, 1897.45, 1473.22)\" x=\"1897.45\" y=\"1473.22\">5</text>\n</g>\n<g clip-path=\"url(#clip6300)\">\n<text style=\"fill:#000000; fill-opacity:1; font-family:Arial,Helvetica Neue,Helvetica,sans-serif; font-size:48px; text-anchor:start;\" transform=\"rotate(0, 2267.13, 1500.63)\" x=\"2267.13\" y=\"1500.63\">1×10</text>\n</g>\n<g clip-path=\"url(#clip6300)\">\n<text style=\"fill:#000000; fill-opacity:1; font-family:Arial,Helvetica Neue,Helvetica,sans-serif; font-size:38px; text-anchor:start;\" transform=\"rotate(0, 2375.53, 1473.22)\" x=\"2375.53\" y=\"1473.22\">6</text>\n</g>\n<g clip-path=\"url(#clip6300)\">\n<text style=\"fill:#000000; fill-opacity:1; font-family:Arial,Helvetica Neue,Helvetica,sans-serif; font-size:48px; text-anchor:end;\" transform=\"rotate(0, 170.041, 1343.54)\" x=\"170.041\" y=\"1343.54\">400</text>\n</g>\n<g clip-path=\"url(#clip6300)\">\n<text style=\"fill:#000000; fill-opacity:1; font-family:Arial,Helvetica Neue,Helvetica,sans-serif; font-size:48px; text-anchor:end;\" transform=\"rotate(0, 170.041, 1086.45)\" x=\"170.041\" y=\"1086.45\">600</text>\n</g>\n<g clip-path=\"url(#clip6300)\">\n<text style=\"fill:#000000; fill-opacity:1; font-family:Arial,Helvetica Neue,Helvetica,sans-serif; font-size:48px; text-anchor:end;\" transform=\"rotate(0, 170.041, 829.355)\" x=\"170.041\" y=\"829.355\">800</text>\n</g>\n<g clip-path=\"url(#clip6300)\">\n<text style=\"fill:#000000; fill-opacity:1; font-family:Arial,Helvetica Neue,Helvetica,sans-serif; font-size:48px; text-anchor:end;\" transform=\"rotate(0, 170.041, 572.261)\" x=\"170.041\" y=\"572.261\">1000</text>\n</g>\n<g clip-path=\"url(#clip6300)\">\n<text style=\"fill:#000000; fill-opacity:1; font-family:Arial,Helvetica Neue,Helvetica,sans-serif; font-size:48px; text-anchor:end;\" transform=\"rotate(0, 170.041, 315.168)\" x=\"170.041\" y=\"315.168\">1200</text>\n</g>\n<g clip-path=\"url(#clip6300)\">\n<text style=\"fill:#000000; fill-opacity:1; font-family:Arial,Helvetica Neue,Helvetica,sans-serif; font-size:66px; text-anchor:middle;\" transform=\"rotate(0, 1273.4, 1559.48)\" x=\"1273.4\" y=\"1559.48\">Nobs</text>\n</g>\n<polyline clip-path=\"url(#clip6302)\" style=\"stroke:#009af9; stroke-width:4; stroke-opacity:1; fill:none\" points=\"\n  255.137,1386.61 881.76,1386.61 881.76,988.839 1351.73,988.839 1351.73,361.417 1665.04,361.417 1665.04,471.966 1978.35,471.966 1978.35,357.898 2291.66,357.898 \n  2291.66,86.2547 \n  \"/>\n<polygon clip-path=\"url(#clip6300)\" points=\"\n1920.37,251.724 2280.76,251.724 2280.76,130.764 1920.37,130.764 \n  \" fill=\"#ffffff\" fill-rule=\"evenodd\" fill-opacity=\"1\"/>\n<polyline clip-path=\"url(#clip6300)\" style=\"stroke:#000000; stroke-width:4; stroke-opacity:1; fill:none\" points=\"\n  1920.37,251.724 2280.76,251.724 2280.76,130.764 1920.37,130.764 1920.37,251.724 \n  \"/>\n<polyline clip-path=\"url(#clip6300)\" style=\"stroke:#009af9; stroke-width:4; stroke-opacity:1; fill:none\" points=\"\n  1944.37,191.244 2088.37,191.244 \n  \"/>\n<g clip-path=\"url(#clip6300)\">\n<text style=\"fill:#000000; fill-opacity:1; font-family:Arial,Helvetica Neue,Helvetica,sans-serif; font-size:48px; text-anchor:start;\" transform=\"rotate(0, 2112.37, 208.744)\" x=\"2112.37\" y=\"208.744\">Mean</text>\n</g>\n</svg>\n"
               },
               "type": "node"
              }
             ],
             "instanceArgs": {
              "namespace": "html",
              "tag": "div"
             },
             "nodeType": "DOM",
             "props": {
              "className": "interact-flex-row interact-widget"
             },
             "type": "node"
            }
           }
          },
          "systemjs_options": null
         },
         "nodeType": "Scope",
         "props": {},
         "type": "node"
        }
       ],
       "instanceArgs": {
        "namespace": "html",
        "tag": "div"
       },
       "nodeType": "DOM",
       "props": {},
       "type": "node"
      },
      "text/html": [
       "<div\n",
       "    class=\"webio-mountpoint\"\n",
       "    data-webio-mountpoint=\"5818026449333933647\"\n",
       ">\n",
       "    <script>\n",
       "    if (window.require && require.defined && require.defined(\"nbextensions/webio-jupyter-notebook\")) {\n",
       "        console.log(\"Jupyter WebIO extension detected, not mounting.\");\n",
       "    } else if (window.WebIO) {\n",
       "        WebIO.mount(\n",
       "            document.querySelector('[data-webio-mountpoint=\"5818026449333933647\"]'),\n",
       "            {\"props\":{},\"nodeType\":\"DOM\",\"type\":\"node\",\"instanceArgs\":{\"namespace\":\"html\",\"tag\":\"div\"},\"children\":[{\"props\":{\"className\":\"field interact-widget\"},\"nodeType\":\"DOM\",\"type\":\"node\",\"instanceArgs\":{\"namespace\":\"html\",\"tag\":\"div\"},\"children\":[{\"props\":{},\"nodeType\":\"Scope\",\"type\":\"node\",\"instanceArgs\":{\"imports\":{\"data\":[{\"name\":\"knockout\",\"type\":\"js\",\"url\":\"\\/assetserver\\/138fa309f919ec7484ebc55e3091f379f47cc424-knockout.js\"},{\"name\":\"knockout_punches\",\"type\":\"js\",\"url\":\"\\/assetserver\\/620d29c2d3531d56ec3a1d8a13d747afffb44410-knockout_punches.js\"},{\"name\":null,\"type\":\"js\",\"url\":\"\\/assetserver\\/57e29df20789a576b69ae2f70e2711fac6716a39-all.js\"},{\"name\":null,\"type\":\"css\",\"url\":\"\\/assetserver\\/417d90e06c0658278ea1ef32551ed090a57a1491-style.css\"},{\"name\":null,\"type\":\"css\",\"url\":\"\\/assetserver\\/1f5a763355fa31c38c9cab232bda0758d9a22c0d-bulma_confined.min.css\"}],\"type\":\"async_block\"},\"id\":\"14267611809924477312\",\"handlers\":{\"changes\":[\"(function (val){return (val!=this.model[\\\"changes\\\"]()) ? (this.valueFromJulia[\\\"changes\\\"]=true, this.model[\\\"changes\\\"](val)) : undefined})\"],\"index\":[\"(function (val){return (val!=this.model[\\\"index\\\"]()) ? (this.valueFromJulia[\\\"index\\\"]=true, this.model[\\\"index\\\"](val)) : undefined})\"]},\"systemjs_options\":null,\"mount_callbacks\":[\"function () {\\n    var handler = (function (ko, koPunches) {\\n    ko.punches.enableAll();\\n    ko.bindingHandlers.numericValue = {\\n        init: function(element, valueAccessor, allBindings, data, context) {\\n            var stringified = ko.observable(ko.unwrap(valueAccessor()));\\n            stringified.subscribe(function(value) {\\n                var val = parseFloat(value);\\n                if (!isNaN(val)) {\\n                    valueAccessor()(val);\\n                }\\n            });\\n            valueAccessor().subscribe(function(value) {\\n                var str = JSON.stringify(value);\\n                if ((str == \\\"0\\\") && ([\\\"-0\\\", \\\"-0.\\\"].indexOf(stringified()) >= 0))\\n                     return;\\n                 if ([\\\"null\\\", \\\"\\\"].indexOf(str) >= 0)\\n                     return;\\n                stringified(str);\\n            });\\n            ko.applyBindingsToNode(\\n                element,\\n                {\\n                    value: stringified,\\n                    valueUpdate: allBindings.get('valueUpdate'),\\n                },\\n                context,\\n            );\\n        }\\n    };\\n    var json_data = {\\\"formatted_vals\\\":[\\\"5\\\",\\\"10\\\",\\\"15\\\",\\\"20\\\",\\\"25\\\",\\\"30\\\",\\\"35\\\",\\\"40\\\",\\\"45\\\",\\\"50\\\",\\\"55\\\",\\\"60\\\",\\\"65\\\",\\\"70\\\",\\\"75\\\",\\\"80\\\",\\\"85\\\",\\\"90\\\",\\\"95\\\",\\\"100\\\",\\\"105\\\",\\\"110\\\",\\\"115\\\",\\\"120\\\",\\\"125\\\",\\\"130\\\",\\\"135\\\",\\\"140\\\",\\\"145\\\",\\\"150\\\",\\\"155\\\",\\\"160\\\",\\\"165\\\",\\\"170\\\",\\\"175\\\",\\\"180\\\",\\\"185\\\",\\\"190\\\",\\\"195\\\",\\\"200\\\"],\\\"changes\\\":WebIO.getval({\\\"name\\\":\\\"changes\\\",\\\"scope\\\":\\\"14267611809924477312\\\",\\\"id\\\":\\\"ob_17\\\",\\\"type\\\":\\\"observable\\\"}),\\\"index\\\":WebIO.getval({\\\"name\\\":\\\"index\\\",\\\"scope\\\":\\\"14267611809924477312\\\",\\\"id\\\":\\\"ob_16\\\",\\\"type\\\":\\\"observable\\\"})};\\n    var self = this;\\n    function AppViewModel() {\\n        for (var key in json_data) {\\n            var el = json_data[key];\\n            this[key] = Array.isArray(el) ? ko.observableArray(el) : ko.observable(el);\\n        }\\n        \\n        [this[\\\"formatted_val\\\"]=ko.computed(    function(){\\n        return this.formatted_vals()[parseInt(this.index())-(1)];\\n    }\\n,this)]\\n        [this[\\\"changes\\\"].subscribe((function (val){!(this.valueFromJulia[\\\"changes\\\"]) ? (WebIO.setval({\\\"name\\\":\\\"changes\\\",\\\"scope\\\":\\\"14267611809924477312\\\",\\\"id\\\":\\\"ob_17\\\",\\\"type\\\":\\\"observable\\\"},val)) : undefined; return this.valueFromJulia[\\\"changes\\\"]=false}),self),this[\\\"index\\\"].subscribe((function (val){!(this.valueFromJulia[\\\"index\\\"]) ? (WebIO.setval({\\\"name\\\":\\\"index\\\",\\\"scope\\\":\\\"14267611809924477312\\\",\\\"id\\\":\\\"ob_16\\\",\\\"type\\\":\\\"observable\\\"},val)) : undefined; return this.valueFromJulia[\\\"index\\\"]=false}),self)]\\n        \\n    }\\n    self.model = new AppViewModel();\\n    self.valueFromJulia = {};\\n    for (var key in json_data) {\\n        self.valueFromJulia[key] = false;\\n    }\\n    ko.applyBindings(self.model, self.dom);\\n}\\n);\\n    (WebIO.importBlock({\\\"data\\\":[{\\\"name\\\":\\\"knockout\\\",\\\"type\\\":\\\"js\\\",\\\"url\\\":\\\"\\/assetserver\\/138fa309f919ec7484ebc55e3091f379f47cc424-knockout.js\\\"},{\\\"name\\\":\\\"knockout_punches\\\",\\\"type\\\":\\\"js\\\",\\\"url\\\":\\\"\\/assetserver\\/620d29c2d3531d56ec3a1d8a13d747afffb44410-knockout_punches.js\\\"}],\\\"type\\\":\\\"async_block\\\"})).then((imports) => handler.apply(this, imports));\\n}\\n\"],\"observables\":{\"changes\":{\"sync\":false,\"id\":\"ob_17\",\"value\":0},\"index\":{\"sync\":true,\"id\":\"ob_16\",\"value\":1}}},\"children\":[{\"props\":{\"className\":\"interact-flex-row interact-widget\"},\"nodeType\":\"DOM\",\"type\":\"node\",\"instanceArgs\":{\"namespace\":\"html\",\"tag\":\"div\"},\"children\":[{\"props\":{\"className\":\"interact-flex-row-left\"},\"nodeType\":\"DOM\",\"type\":\"node\",\"instanceArgs\":{\"namespace\":\"html\",\"tag\":\"div\"},\"children\":[{\"props\":{\"className\":\"interact \",\"style\":{\"padding\":\"5px 10px 0px 10px\"}},\"nodeType\":\"DOM\",\"type\":\"node\",\"instanceArgs\":{\"namespace\":\"html\",\"tag\":\"label\"},\"children\":[\"\"]}]},{\"props\":{\"className\":\"interact-flex-row-center\"},\"nodeType\":\"DOM\",\"type\":\"node\",\"instanceArgs\":{\"namespace\":\"html\",\"tag\":\"div\"},\"children\":[{\"props\":{\"max\":40,\"min\":1,\"attributes\":{\"type\":\"range\",\"data-bind\":\"numericValue: index, valueUpdate: 'input', event: {change: function (){this.changes(this.changes()+1)}}\",\"orient\":\"horizontal\"},\"step\":1,\"className\":\"slider slider is-fullwidth\",\"style\":{}},\"nodeType\":\"DOM\",\"type\":\"node\",\"instanceArgs\":{\"namespace\":\"html\",\"tag\":\"input\"},\"children\":[]}]},{\"props\":{\"className\":\"interact-flex-row-right\"},\"nodeType\":\"DOM\",\"type\":\"node\",\"instanceArgs\":{\"namespace\":\"html\",\"tag\":\"div\"},\"children\":[{\"props\":{\"attributes\":{\"data-bind\":\"text: formatted_val\"}},\"nodeType\":\"DOM\",\"type\":\"node\",\"instanceArgs\":{\"namespace\":\"html\",\"tag\":\"p\"},\"children\":[]}]}]}]}]},{\"props\":{},\"nodeType\":\"Scope\",\"type\":\"node\",\"instanceArgs\":{\"imports\":{\"data\":[],\"type\":\"async_block\"},\"id\":\"10725219139956792730\",\"handlers\":{},\"systemjs_options\":null,\"mount_callbacks\":[],\"observables\":{\"obs-node\":{\"sync\":false,\"id\":\"ob_21\",\"value\":{\"props\":{\"className\":\"interact-flex-row interact-widget\"},\"nodeType\":\"DOM\",\"type\":\"node\",\"instanceArgs\":{\"namespace\":\"html\",\"tag\":\"div\"},\"children\":[{\"props\":{\"setInnerHtml\":\"<?xml version=\\\"1.0\\\" encoding=\\\"utf-8\\\"?>\\n<svg xmlns=\\\"http:\\/\\/www.w3.org\\/2000\\/svg\\\" xmlns:xlink=\\\"http:\\/\\/www.w3.org\\/1999\\/xlink\\\" width=\\\"600\\\" height=\\\"400\\\" viewBox=\\\"0 0 2400 1600\\\">\\n<defs>\\n  <clipPath id=\\\"clip5900\\\">\\n    <rect x=\\\"0\\\" y=\\\"0\\\" width=\\\"2400\\\" height=\\\"1600\\\"\\/>\\n  <\\/clipPath>\\n<\\/defs>\\n<polygon clip-path=\\\"url(#clip5900)\\\" points=\\\"\\n0,1600 2400,1600 2400,0 0,0 \\n  \\\" fill=\\\"#ffffff\\\" fill-rule=\\\"evenodd\\\" fill-opacity=\\\"1\\\"\\/>\\n<defs>\\n  <clipPath id=\\\"clip5901\\\">\\n    <rect x=\\\"480\\\" y=\\\"0\\\" width=\\\"1681\\\" height=\\\"1600\\\"\\/>\\n  <\\/clipPath>\\n<\\/defs>\\n<polygon clip-path=\\\"url(#clip5900)\\\" points=\\\"\\n194.041,1425.62 2352.76,1425.62 2352.76,47.2441 194.041,47.2441 \\n  \\\" fill=\\\"#ffffff\\\" fill-rule=\\\"evenodd\\\" fill-opacity=\\\"1\\\"\\/>\\n<defs>\\n  <clipPath id=\\\"clip5902\\\">\\n    <rect x=\\\"194\\\" y=\\\"47\\\" width=\\\"2160\\\" height=\\\"1379\\\"\\/>\\n  <\\/clipPath>\\n<\\/defs>\\n<polyline clip-path=\\\"url(#clip5902)\\\" style=\\\"stroke:#000000; stroke-width:2; stroke-opacity:0.1; fill:none\\\" points=\\\"\\n  419.9,1425.62 419.9,47.2441 \\n  \\\"\\/>\\n<polyline clip-path=\\\"url(#clip5902)\\\" style=\\\"stroke:#000000; stroke-width:2; stroke-opacity:0.1; fill:none\\\" points=\\\"\\n  897.975,1425.62 897.975,47.2441 \\n  \\\"\\/>\\n<polyline clip-path=\\\"url(#clip5902)\\\" style=\\\"stroke:#000000; stroke-width:2; stroke-opacity:0.1; fill:none\\\" points=\\\"\\n  1376.05,1425.62 1376.05,47.2441 \\n  \\\"\\/>\\n<polyline clip-path=\\\"url(#clip5902)\\\" style=\\\"stroke:#000000; stroke-width:2; stroke-opacity:0.1; fill:none\\\" points=\\\"\\n  1854.12,1425.62 1854.12,47.2441 \\n  \\\"\\/>\\n<polyline clip-path=\\\"url(#clip5902)\\\" style=\\\"stroke:#000000; stroke-width:2; stroke-opacity:0.1; fill:none\\\" points=\\\"\\n  2332.2,1425.62 2332.2,47.2441 \\n  \\\"\\/>\\n<polyline clip-path=\\\"url(#clip5902)\\\" style=\\\"stroke:#000000; stroke-width:2; stroke-opacity:0.1; fill:none\\\" points=\\\"\\n  194.041,1326.04 2352.76,1326.04 \\n  \\\"\\/>\\n<polyline clip-path=\\\"url(#clip5902)\\\" style=\\\"stroke:#000000; stroke-width:2; stroke-opacity:0.1; fill:none\\\" points=\\\"\\n  194.041,1068.95 2352.76,1068.95 \\n  \\\"\\/>\\n<polyline clip-path=\\\"url(#clip5902)\\\" style=\\\"stroke:#000000; stroke-width:2; stroke-opacity:0.1; fill:none\\\" points=\\\"\\n  194.041,811.855 2352.76,811.855 \\n  \\\"\\/>\\n<polyline clip-path=\\\"url(#clip5902)\\\" style=\\\"stroke:#000000; stroke-width:2; stroke-opacity:0.1; fill:none\\\" points=\\\"\\n  194.041,554.761 2352.76,554.761 \\n  \\\"\\/>\\n<polyline clip-path=\\\"url(#clip5902)\\\" style=\\\"stroke:#000000; stroke-width:2; stroke-opacity:0.1; fill:none\\\" points=\\\"\\n  194.041,297.668 2352.76,297.668 \\n  \\\"\\/>\\n<polyline clip-path=\\\"url(#clip5900)\\\" style=\\\"stroke:#000000; stroke-width:4; stroke-opacity:1; fill:none\\\" points=\\\"\\n  194.041,1425.62 2352.76,1425.62 \\n  \\\"\\/>\\n<polyline clip-path=\\\"url(#clip5900)\\\" style=\\\"stroke:#000000; stroke-width:4; stroke-opacity:1; fill:none\\\" points=\\\"\\n  194.041,1425.62 194.041,47.2441 \\n  \\\"\\/>\\n<polyline clip-path=\\\"url(#clip5900)\\\" style=\\\"stroke:#000000; stroke-width:4; stroke-opacity:1; fill:none\\\" points=\\\"\\n  419.9,1425.62 419.9,1404.94 \\n  \\\"\\/>\\n<polyline clip-path=\\\"url(#clip5900)\\\" style=\\\"stroke:#000000; stroke-width:4; stroke-opacity:1; fill:none\\\" points=\\\"\\n  897.975,1425.62 897.975,1404.94 \\n  \\\"\\/>\\n<polyline clip-path=\\\"url(#clip5900)\\\" style=\\\"stroke:#000000; stroke-width:4; stroke-opacity:1; fill:none\\\" points=\\\"\\n  1376.05,1425.62 1376.05,1404.94 \\n  \\\"\\/>\\n<polyline clip-path=\\\"url(#clip5900)\\\" style=\\\"stroke:#000000; stroke-width:4; stroke-opacity:1; fill:none\\\" points=\\\"\\n  1854.12,1425.62 1854.12,1404.94 \\n  \\\"\\/>\\n<polyline clip-path=\\\"url(#clip5900)\\\" style=\\\"stroke:#000000; stroke-width:4; stroke-opacity:1; fill:none\\\" points=\\\"\\n  2332.2,1425.62 2332.2,1404.94 \\n  \\\"\\/>\\n<polyline clip-path=\\\"url(#clip5900)\\\" style=\\\"stroke:#000000; stroke-width:4; stroke-opacity:1; fill:none\\\" points=\\\"\\n  194.041,1326.04 226.422,1326.04 \\n  \\\"\\/>\\n<polyline clip-path=\\\"url(#clip5900)\\\" style=\\\"stroke:#000000; stroke-width:4; stroke-opacity:1; fill:none\\\" points=\\\"\\n  194.041,1068.95 226.422,1068.95 \\n  \\\"\\/>\\n<polyline clip-path=\\\"url(#clip5900)\\\" style=\\\"stroke:#000000; stroke-width:4; stroke-opacity:1; fill:none\\\" points=\\\"\\n  194.041,811.855 226.422,811.855 \\n  \\\"\\/>\\n<polyline clip-path=\\\"url(#clip5900)\\\" style=\\\"stroke:#000000; stroke-width:4; stroke-opacity:1; fill:none\\\" points=\\\"\\n  194.041,554.761 226.422,554.761 \\n  \\\"\\/>\\n<polyline clip-path=\\\"url(#clip5900)\\\" style=\\\"stroke:#000000; stroke-width:4; stroke-opacity:1; fill:none\\\" points=\\\"\\n  194.041,297.668 226.422,297.668 \\n  \\\"\\/>\\n<g clip-path=\\\"url(#clip5900)\\\">\\n<text style=\\\"fill:#000000; fill-opacity:1; font-family:Arial,Helvetica Neue,Helvetica,sans-serif; font-size:48px; text-anchor:start;\\\" transform=\\\"rotate(0, 354.829, 1500.63)\\\" x=\\\"354.829\\\" y=\\\"1500.63\\\">2×10<\\/text>\\n<\\/g>\\n<g clip-path=\\\"url(#clip5900)\\\">\\n<text style=\\\"fill:#000000; fill-opacity:1; font-family:Arial,Helvetica Neue,Helvetica,sans-serif; font-size:38px; text-anchor:start;\\\" transform=\\\"rotate(0, 463.226, 1473.22)\\\" x=\\\"463.226\\\" y=\\\"1473.22\\\">5<\\/text>\\n<\\/g>\\n<g clip-path=\\\"url(#clip5900)\\\">\\n<text style=\\\"fill:#000000; fill-opacity:1; font-family:Arial,Helvetica Neue,Helvetica,sans-serif; font-size:48px; text-anchor:start;\\\" transform=\\\"rotate(0, 832.904, 1500.63)\\\" x=\\\"832.904\\\" y=\\\"1500.63\\\">4×10<\\/text>\\n<\\/g>\\n<g clip-path=\\\"url(#clip5900)\\\">\\n<text style=\\\"fill:#000000; fill-opacity:1; font-family:Arial,Helvetica Neue,Helvetica,sans-serif; font-size:38px; text-anchor:start;\\\" transform=\\\"rotate(0, 941.301, 1473.22)\\\" x=\\\"941.301\\\" y=\\\"1473.22\\\">5<\\/text>\\n<\\/g>\\n<g clip-path=\\\"url(#clip5900)\\\">\\n<text style=\\\"fill:#000000; fill-opacity:1; font-family:Arial,Helvetica Neue,Helvetica,sans-serif; font-size:48px; text-anchor:start;\\\" transform=\\\"rotate(0, 1310.98, 1500.63)\\\" x=\\\"1310.98\\\" y=\\\"1500.63\\\">6×10<\\/text>\\n<\\/g>\\n<g clip-path=\\\"url(#clip5900)\\\">\\n<text style=\\\"fill:#000000; fill-opacity:1; font-family:Arial,Helvetica Neue,Helvetica,sans-serif; font-size:38px; text-anchor:start;\\\" transform=\\\"rotate(0, 1419.38, 1473.22)\\\" x=\\\"1419.38\\\" y=\\\"1473.22\\\">5<\\/text>\\n<\\/g>\\n<g clip-path=\\\"url(#clip5900)\\\">\\n<text style=\\\"fill:#000000; fill-opacity:1; font-family:Arial,Helvetica Neue,Helvetica,sans-serif; font-size:48px; text-anchor:start;\\\" transform=\\\"rotate(0, 1789.05, 1500.63)\\\" x=\\\"1789.05\\\" y=\\\"1500.63\\\">8×10<\\/text>\\n<\\/g>\\n<g clip-path=\\\"url(#clip5900)\\\">\\n<text style=\\\"fill:#000000; fill-opacity:1; font-family:Arial,Helvetica Neue,Helvetica,sans-serif; font-size:38px; text-anchor:start;\\\" transform=\\\"rotate(0, 1897.45, 1473.22)\\\" x=\\\"1897.45\\\" y=\\\"1473.22\\\">5<\\/text>\\n<\\/g>\\n<g clip-path=\\\"url(#clip5900)\\\">\\n<text style=\\\"fill:#000000; fill-opacity:1; font-family:Arial,Helvetica Neue,Helvetica,sans-serif; font-size:48px; text-anchor:start;\\\" transform=\\\"rotate(0, 2267.13, 1500.63)\\\" x=\\\"2267.13\\\" y=\\\"1500.63\\\">1×10<\\/text>\\n<\\/g>\\n<g clip-path=\\\"url(#clip5900)\\\">\\n<text style=\\\"fill:#000000; fill-opacity:1; font-family:Arial,Helvetica Neue,Helvetica,sans-serif; font-size:38px; text-anchor:start;\\\" transform=\\\"rotate(0, 2375.53, 1473.22)\\\" x=\\\"2375.53\\\" y=\\\"1473.22\\\">6<\\/text>\\n<\\/g>\\n<g clip-path=\\\"url(#clip5900)\\\">\\n<text style=\\\"fill:#000000; fill-opacity:1; font-family:Arial,Helvetica Neue,Helvetica,sans-serif; font-size:48px; text-anchor:end;\\\" transform=\\\"rotate(0, 170.041, 1343.54)\\\" x=\\\"170.041\\\" y=\\\"1343.54\\\">400<\\/text>\\n<\\/g>\\n<g clip-path=\\\"url(#clip5900)\\\">\\n<text style=\\\"fill:#000000; fill-opacity:1; font-family:Arial,Helvetica Neue,Helvetica,sans-serif; font-size:48px; text-anchor:end;\\\" transform=\\\"rotate(0, 170.041, 1086.45)\\\" x=\\\"170.041\\\" y=\\\"1086.45\\\">600<\\/text>\\n<\\/g>\\n<g clip-path=\\\"url(#clip5900)\\\">\\n<text style=\\\"fill:#000000; fill-opacity:1; font-family:Arial,Helvetica Neue,Helvetica,sans-serif; font-size:48px; text-anchor:end;\\\" transform=\\\"rotate(0, 170.041, 829.355)\\\" x=\\\"170.041\\\" y=\\\"829.355\\\">800<\\/text>\\n<\\/g>\\n<g clip-path=\\\"url(#clip5900)\\\">\\n<text style=\\\"fill:#000000; fill-opacity:1; font-family:Arial,Helvetica Neue,Helvetica,sans-serif; font-size:48px; text-anchor:end;\\\" transform=\\\"rotate(0, 170.041, 572.261)\\\" x=\\\"170.041\\\" y=\\\"572.261\\\">1000<\\/text>\\n<\\/g>\\n<g clip-path=\\\"url(#clip5900)\\\">\\n<text style=\\\"fill:#000000; fill-opacity:1; font-family:Arial,Helvetica Neue,Helvetica,sans-serif; font-size:48px; text-anchor:end;\\\" transform=\\\"rotate(0, 170.041, 315.168)\\\" x=\\\"170.041\\\" y=\\\"315.168\\\">1200<\\/text>\\n<\\/g>\\n<g clip-path=\\\"url(#clip5900)\\\">\\n<text style=\\\"fill:#000000; fill-opacity:1; font-family:Arial,Helvetica Neue,Helvetica,sans-serif; font-size:66px; text-anchor:middle;\\\" transform=\\\"rotate(0, 1273.4, 1559.48)\\\" x=\\\"1273.4\\\" y=\\\"1559.48\\\">Nobs<\\/text>\\n<\\/g>\\n<polyline clip-path=\\\"url(#clip5902)\\\" style=\\\"stroke:#009af9; stroke-width:4; stroke-opacity:1; fill:none\\\" points=\\\"\\n  255.137,1386.61 881.76,1386.61 881.76,988.839 1351.73,988.839 1351.73,361.417 1665.04,361.417 1665.04,471.966 1978.35,471.966 1978.35,357.898 2291.66,357.898 \\n  2291.66,86.2547 \\n  \\\"\\/>\\n<polygon clip-path=\\\"url(#clip5900)\\\" points=\\\"\\n1920.37,251.724 2280.76,251.724 2280.76,130.764 1920.37,130.764 \\n  \\\" fill=\\\"#ffffff\\\" fill-rule=\\\"evenodd\\\" fill-opacity=\\\"1\\\"\\/>\\n<polyline clip-path=\\\"url(#clip5900)\\\" style=\\\"stroke:#000000; stroke-width:4; stroke-opacity:1; fill:none\\\" points=\\\"\\n  1920.37,251.724 2280.76,251.724 2280.76,130.764 1920.37,130.764 1920.37,251.724 \\n  \\\"\\/>\\n<polyline clip-path=\\\"url(#clip5900)\\\" style=\\\"stroke:#009af9; stroke-width:4; stroke-opacity:1; fill:none\\\" points=\\\"\\n  1944.37,191.244 2088.37,191.244 \\n  \\\"\\/>\\n<g clip-path=\\\"url(#clip5900)\\\">\\n<text style=\\\"fill:#000000; fill-opacity:1; font-family:Arial,Helvetica Neue,Helvetica,sans-serif; font-size:48px; text-anchor:start;\\\" transform=\\\"rotate(0, 2112.37, 208.744)\\\" x=\\\"2112.37\\\" y=\\\"208.744\\\">Mean<\\/text>\\n<\\/g>\\n<\\/svg>\\n\"},\"nodeType\":\"DOM\",\"type\":\"node\",\"instanceArgs\":{\"namespace\":\"html\",\"tag\":\"div\"},\"children\":[]}]}}}},\"children\":[{\"props\":{},\"nodeType\":\"ObservableNode\",\"type\":\"node\",\"instanceArgs\":{\"id\":\"ob_21\",\"name\":\"obs-node\"},\"children\":[]}]}]},\n",
       "            window,\n",
       "        );\n",
       "    } else {\n",
       "        document\n",
       "            .querySelector('[data-webio-mountpoint=\"5818026449333933647\"]')\n",
       "            .innerHTML = (\n",
       "                '<strong>WebIO not detected. Please read ' +\n",
       "                '<a href=\"https://juliagizmos.github.io/WebIO.jl/latest/troubleshooting/not-detected/\">the troubleshooting guide</a> ' +\n",
       "                'for more information on how to resolve this issue.' +\n",
       "                '</strong>'\n",
       "            );\n",
       "    }\n",
       "    </script>\n",
       "</div>\n"
      ],
      "text/plain": [
       "Node{WebIO.DOM}(WebIO.DOM(:html, :div), Any[Node{WebIO.DOM}(WebIO.DOM(:html, :div), Any[Scope(Node{WebIO.DOM}(WebIO.DOM(:html, :div), Any[Node{WebIO.DOM}(WebIO.DOM(:html, :div), Any[Node{WebIO.DOM}(WebIO.DOM(:html, :label), Any[nothing], Dict{Symbol,Any}(:className => \"interact \",:style => Dict{Any,Any}(:padding => \"5px 10px 0px 10px\")))], Dict{Symbol,Any}(:className => \"interact-flex-row-left\")), Node{WebIO.DOM}(WebIO.DOM(:html, :div), Any[Node{WebIO.DOM}(WebIO.DOM(:html, :input), Any[], Dict{Symbol,Any}(:max => 40,:min => 1,:attributes => Dict{Any,Any}(:type => \"range\",Symbol(\"data-bind\") => \"numericValue: index, valueUpdate: 'input', event: {change: function (){this.changes(this.changes()+1)}}\",\"orient\" => \"horizontal\"),:step => 1,:className => \"slider slider is-fullwidth\",:style => Dict{Any,Any}()))], Dict{Symbol,Any}(:className => \"interact-flex-row-center\")), Node{WebIO.DOM}(WebIO.DOM(:html, :div), Any[Node{WebIO.DOM}(WebIO.DOM(:html, :p), Any[], Dict{Symbol,Any}(:attributes => Dict(\"data-bind\" => \"text: formatted_val\")))], Dict{Symbol,Any}(:className => \"interact-flex-row-right\"))], Dict{Symbol,Any}(:className => \"interact-flex-row interact-widget\")), Dict{String,Tuple{Observables.AbstractObservable,Union{Nothing, Bool}}}(\"changes\" => (Observable{Int64} with 1 listeners. Value:\n",
       "0, nothing),\"index\" => (Observable{Any} with 2 listeners. Value:\n",
       "1, nothing)), Set(String[]), nothing, Asset[Asset(\"js\", \"knockout\", \"/Users/joshday/.julia/packages/Knockout/1sDlc/src/../assets/knockout.js\"), Asset(\"js\", \"knockout_punches\", \"/Users/joshday/.julia/packages/Knockout/1sDlc/src/../assets/knockout_punches.js\"), Asset(\"js\", nothing, \"/Users/joshday/.julia/packages/InteractBase/9mFwe/src/../assets/all.js\"), Asset(\"css\", nothing, \"/Users/joshday/.julia/packages/InteractBase/9mFwe/src/../assets/style.css\"), Asset(\"css\", nothing, \"/Users/joshday/.julia/packages/Interact/SbgIk/src/../assets/bulma_confined.min.css\")], Dict{Any,Any}(\"changes\" => Any[WebIO.JSString(\"(function (val){return (val!=this.model[\\\"changes\\\"]()) ? (this.valueFromJulia[\\\"changes\\\"]=true, this.model[\\\"changes\\\"](val)) : undefined})\")],\"index\" => Any[WebIO.JSString(\"(function (val){return (val!=this.model[\\\"index\\\"]()) ? (this.valueFromJulia[\\\"index\\\"]=true, this.model[\\\"index\\\"](val)) : undefined})\")]), WebIO.ConnectionPool(Channel{Any}(sz_max:32,sz_curr:0), Set(AbstractConnection[]), Base.GenericCondition{Base.AlwaysLockedST}(Base.InvasiveLinkedList{Task}(Task (runnable) @0x000000012a049f90, Task (runnable) @0x000000012a049f90), Base.AlwaysLockedST(1))), WebIO.JSString[WebIO.JSString(\"function () {\\n    var handler = (function (ko, koPunches) {\\n    ko.punches.enableAll();\\n    ko.bindingHandlers.numericValue = {\\n        init: function(element, valueAccessor, allBindings, data, context) {\\n            var stringified = ko.observable(ko.unwrap(valueAccessor()));\\n            stringified.subscribe(function(value) {\\n                var val = parseFloat(value);\\n                if (!isNaN(val)) {\\n                    valueAccessor()(val);\\n                }\\n            });\\n            valueAccessor().subscribe(function(value) {\\n                var str = JSON.stringify(value);\\n                if ((str == \\\"0\\\") && ([\\\"-0\\\", \\\"-0.\\\"].indexOf(stringified()) >= 0))\\n                     return;\\n                 if ([\\\"null\\\", \\\"\\\"].indexOf(str) >= 0)\\n                     return;\\n                stringified(str);\\n            });\\n            ko.applyBindingsToNode(\\n                element,\\n                {\\n                    value: stringified,\\n                    valueUpdate: allBindings.get('valueUpdate'),\\n                },\\n                context,\\n            );\\n        }\\n    };\\n    var json_data = {\\\"formatted_vals\\\":[\\\"5\\\",\\\"10\\\",\\\"15\\\",\\\"20\\\",\\\"25\\\",\\\"30\\\",\\\"35\\\",\\\"40\\\",\\\"45\\\",\\\"50\\\",\\\"55\\\",\\\"60\\\",\\\"65\\\",\\\"70\\\",\\\"75\\\",\\\"80\\\",\\\"85\\\",\\\"90\\\",\\\"95\\\",\\\"100\\\",\\\"105\\\",\\\"110\\\",\\\"115\\\",\\\"120\\\",\\\"125\\\",\\\"130\\\",\\\"135\\\",\\\"140\\\",\\\"145\\\",\\\"150\\\",\\\"155\\\",\\\"160\\\",\\\"165\\\",\\\"170\\\",\\\"175\\\",\\\"180\\\",\\\"185\\\",\\\"190\\\",\\\"195\\\",\\\"200\\\"],\\\"changes\\\":WebIO.getval({\\\"name\\\":\\\"changes\\\",\\\"scope\\\":\\\"14267611809924477312\\\",\\\"id\\\":\\\"ob_17\\\",\\\"type\\\":\\\"observable\\\"}),\\\"index\\\":WebIO.getval({\\\"name\\\":\\\"index\\\",\\\"scope\\\":\\\"14267611809924477312\\\",\\\"id\\\":\\\"ob_16\\\",\\\"type\\\":\\\"observable\\\"})};\\n    var self = this;\\n    function AppViewModel() {\\n        for (var key in json_data) {\\n            var el = json_data[key];\\n            this[key] = Array.isArray(el) ? ko.observableArray(el) : ko.observable(el);\\n        }\\n        \\n        [this[\\\"formatted_val\\\"]=ko.computed(    function(){\\n        return this.formatted_vals()[parseInt(this.index())-(1)];\\n    }\\n,this)]\\n        [this[\\\"changes\\\"].subscribe((function (val){!(this.valueFromJulia[\\\"changes\\\"]) ? (WebIO.setval({\\\"name\\\":\\\"changes\\\",\\\"scope\\\":\\\"14267611809924477312\\\",\\\"id\\\":\\\"ob_17\\\",\\\"type\\\":\\\"observable\\\"},val)) : undefined; return this.valueFromJulia[\\\"changes\\\"]=false}),self),this[\\\"index\\\"].subscribe((function (val){!(this.valueFromJulia[\\\"index\\\"]) ? (WebIO.setval({\\\"name\\\":\\\"index\\\",\\\"scope\\\":\\\"14267611809924477312\\\",\\\"id\\\":\\\"ob_16\\\",\\\"type\\\":\\\"observable\\\"},val)) : undefined; return this.valueFromJulia[\\\"index\\\"]=false}),self)]\\n        \\n    }\\n    self.model = new AppViewModel();\\n    self.valueFromJulia = {};\\n    for (var key in json_data) {\\n        self.valueFromJulia[key] = false;\\n    }\\n    ko.applyBindings(self.model, self.dom);\\n}\\n);\\n    (WebIO.importBlock({\\\"data\\\":[{\\\"name\\\":\\\"knockout\\\",\\\"type\\\":\\\"js\\\",\\\"url\\\":\\\"/assetserver/138fa309f919ec7484ebc55e3091f379f47cc424-knockout.js\\\"},{\\\"name\\\":\\\"knockout_punches\\\",\\\"type\\\":\\\"js\\\",\\\"url\\\":\\\"/assetserver/620d29c2d3531d56ec3a1d8a13d747afffb44410-knockout_punches.js\\\"}],\\\"type\\\":\\\"async_block\\\"})).then((imports) => handler.apply(this, imports));\\n}\\n\")])], Dict{Symbol,Any}(:className => \"field interact-widget\")), Observable{Any} with 0 listeners. Value:\n",
       "Node{WebIO.DOM}(WebIO.DOM(:html, :div), Any[Plot{Plots.GRBackend() n=1}], Dict{Symbol,Any}(:className => \"interact-flex-row interact-widget\"))], Dict{Symbol,Any}())"
      ]
     },
     "execution_count": 15,
     "metadata": {
      "application/vnd.webio.node+json": {
       "kernelId": "57a1eee1-6c10-4aef-a8ad-422b80c4b0f3"
      }
     },
     "output_type": "execute_result"
    }
   ],
   "source": [
    "using Random\n",
    "\n",
    "@manipulate for b in slider(5:5:200, value=5)\n",
    "    Random.seed!(123)\n",
    "    o = Partition(Mean(), b)\n",
    "    fit!(o, cumsum(randn(10^6)))\n",
    "    plot(o, xlab=\"Nobs\")\n",
    "end"
   ]
  },
  {
   "cell_type": "markdown",
   "metadata": {},
   "source": [
    "#### `IndexedPartition` shows a statistic indexed by another variable"
   ]
  },
  {
   "cell_type": "code",
   "execution_count": 16,
   "metadata": {},
   "outputs": [
    {
     "name": "stderr",
     "output_type": "stream",
     "text": [
      "┌ Info: Saved animation to \n",
      "│   fn = /Users/joshday/github/Talks/2019/OnlineStats_JuliaMeetup/tmp.gif\n",
      "└ @ Plots /Users/joshday/.julia/packages/Plots/h3o4c/src/animation.jl:95\n"
     ]
    },
    {
     "data": {
      "text/html": [
       "<img src=\"tmp.gif\" />"
      ],
      "text/plain": [
       "Plots.AnimatedGif(\"/Users/joshday/github/Talks/2019/OnlineStats_JuliaMeetup/tmp.gif\")"
      ]
     },
     "execution_count": 16,
     "metadata": {},
     "output_type": "execute_result"
    }
   ],
   "source": [
    "@gif for b in 5:2:100\n",
    "    Random.seed!(123)\n",
    "    o = IndexedPartition(Float64, Hist(-10:.5:10), b)\n",
    "    x = randn(10^6)\n",
    "    y = x .+ randn(10^6)\n",
    "    fit!(o, zip(x, y))\n",
    "    plot(o, title=\"Partition Size: $b\", color=:blues)\n",
    "end"
   ]
  },
  {
   "cell_type": "markdown",
   "metadata": {},
   "source": [
    "### Do Machine Learning"
   ]
  },
  {
   "cell_type": "code",
   "execution_count": 17,
   "metadata": {},
   "outputs": [
    {
     "data": {
      "text/plain": [
       "LinReg: n=1000000 | value=[0.999451, 1.99994, 3.00037, 3.9993, 5.00019]"
      ]
     },
     "execution_count": 17,
     "metadata": {},
     "output_type": "execute_result"
    }
   ],
   "source": [
    "using LossFunctions, PenaltyFunctions\n",
    "\n",
    "x = randn(10^6, 5)\n",
    "y = x * (1:5) + randn(10^6)\n",
    "data = zip(eachrow(x), y)\n",
    "\n",
    "fit!(LinReg(), data)"
   ]
  },
  {
   "cell_type": "markdown",
   "metadata": {},
   "source": [
    "- `StatLearn` lets you put together just about any: \n",
    "    - [`LossFunction`](https://github.com/JuliaML/LossFunctions.jl) \n",
    "    - [`PenaltyFunction`](https://github.com/JuliaML/PenaltyFunctions.jl) \n",
    "    - Stochastic Approximation algorithm"
   ]
  },
  {
   "cell_type": "code",
   "execution_count": 18,
   "metadata": {},
   "outputs": [
    {
     "data": {
      "text/plain": [
       "10-element Array{Any,1}:\n",
       " ADADELTA               \n",
       " ADAGRAD                \n",
       " ADAM                   \n",
       " ADAMAX                 \n",
       " RMSPROP                \n",
       " SGD                    \n",
       " MSPI                   \n",
       " OMAP                   \n",
       " OMAS                   \n",
       " OnlineStats.SGAlgorithm"
      ]
     },
     "execution_count": 18,
     "metadata": {},
     "output_type": "execute_result"
    }
   ],
   "source": [
    "union(subtypes(OnlineStats.SGAlgorithm), subtypes(OnlineStats.Algorithm))"
   ]
  },
  {
   "cell_type": "code",
   "execution_count": 19,
   "metadata": {},
   "outputs": [
    {
     "data": {
      "text/plain": [
       "5-element Array{Float64,1}:\n",
       " 0.9995693671399458\n",
       " 1.9984076816366332\n",
       " 3.008250652349699 \n",
       " 4.000504293428595 \n",
       " 4.998185779633273 "
      ]
     },
     "execution_count": 19,
     "metadata": {},
     "output_type": "execute_result"
    }
   ],
   "source": [
    "o = StatLearn(5, SGD())\n",
    "coef(fit!(o, data))"
   ]
  },
  {
   "cell_type": "code",
   "execution_count": 20,
   "metadata": {},
   "outputs": [
    {
     "data": {
      "text/plain": [
       "5-element Array{Float64,1}:\n",
       " 0.6705075202665447\n",
       " 1.3705293170857202\n",
       " 2.0175111634835363\n",
       " 2.6641441823562024\n",
       " 3.351186646617901 "
      ]
     },
     "execution_count": 20,
     "metadata": {},
     "output_type": "execute_result"
    }
   ],
   "source": [
    "o = StatLearn(5, MSPI(), .5ones(5), L2Penalty())\n",
    "\n",
    "coef(fit!(o, data))"
   ]
  },
  {
   "cell_type": "markdown",
   "metadata": {},
   "source": [
    "---\n",
    "\n",
    "# Real Data Example\n",
    "\n",
    "<div class=\"alert alert-info\">\n",
    "<b>NOTE:</b> OnlineStats doesn't care about where your data comes from (it doesn't need to).\n",
    "</div>\n",
    "\n",
    "### Statistics Directly from CSV\n",
    "\n",
    "- For this example, we are looking at the trip data for every yellow taxi in NYC during December 2018.\n",
    "- https://www1.nyc.gov/site/tlc/about/tlc-trip-record-data.page\n",
    "\n",
    "#### 1) Register data with DataDeps.jl (Optional)\n",
    "\n",
    "- Super helpful for reproducibility\n",
    "- Downloads data only if you don't already have it"
   ]
  },
  {
   "cell_type": "code",
   "execution_count": 21,
   "metadata": {
    "scrolled": false
   },
   "outputs": [
    {
     "data": {
      "text/plain": [
       "\"/Users/joshday/.julia/datadeps/nyc-taxi/yellow_tripdata_2018-12.csv\""
      ]
     },
     "execution_count": 21,
     "metadata": {},
     "output_type": "execute_result"
    }
   ],
   "source": [
    "using DataDeps\n",
    "\n",
    "register(DataDep(\n",
    "    \"nyc-taxi\", \n",
    "    \"About to download ~700MB\",\n",
    "    \"https://s3.amazonaws.com/nyc-tlc/trip+data/yellow_tripdata_2018-12.csv\"\n",
    "))\n",
    "\n",
    "path = datadep\"nyc-taxi/yellow_tripdata_2018-12.csv\""
   ]
  },
  {
   "cell_type": "markdown",
   "metadata": {},
   "source": [
    "#### 2) Quick inspection of file"
   ]
  },
  {
   "cell_type": "code",
   "execution_count": 22,
   "metadata": {},
   "outputs": [
    {
     "name": "stdout",
     "output_type": "stream",
     "text": [
      "VendorID,tpep_pickup_datetime,tpep_dropoff_datetime,passenger_count,trip_distance,RatecodeID,store_and_fwd_flag,PULocationID,DOLocationID,payment_type,fare_amount,extra,mta_tax,tip_amount,tolls_amount,improvement_surcharge,total_amount\n",
      "\r\n",
      "1,2018-12-01 00:28:22,2018-12-01 00:44:07,2,2.50,1,N,148,234,1,12,0.5,0.5,3.95,0,0.3,17.25\r\n",
      "1,2018-12-01 00:52:29,2018-12-01 01:11:37,3,2.30,1,N,170,144,1,13,0.5,0.5,2.85,0,0.3,17.15\r\n",
      "2,2018-12-01 00:12:52,2018-12-01 00:36:23,1,.00,1,N,113,193,2,2.5,0.5,0.5,0,0,0.3,3.8\r\n",
      "1,2018-12-01 00:35:08,2018-12-01 00:43:11,1,3.90,1,N,95,92,1,12.5,0.5,0.5,2.75,0,0.3,16.55\r\n",
      "1,2018-12-01 00:21:54,2018-12-01 01:15:13,1,12.80,1,N,163,228,1,45,0.5,0.5,9.25,0,0.3,55.55\r\n",
      "1,2018-12-01 00:00:38,2018-12-01 00:29:26,1,18.80,1,N,132,97,1,50.5,0.5,0.5,10.35,0,0.3,62.15\r\n",
      "1,2018-12-01 00:59:39,2018-12-01 01:09:07,1,1.00,1,N,246,164,1,7.5,0.5,0.5,0.44,0,0.3,9.24\r\n",
      "1,2018-12-01 00:19:19,2018-12-01 00:22:19,1,.30,1,N,161,163,4,4,0.5,0.5,0,0,0.3,5.3\r\n"
     ]
    }
   ],
   "source": [
    ";head $path"
   ]
  },
  {
   "cell_type": "markdown",
   "metadata": {},
   "source": [
    "#### 3) Iterate through rows\n",
    "\n",
    "- Lazily read the data and parse it into the data type we want (`Int`)\n",
    "- Add each value to our `CountMap`"
   ]
  },
  {
   "cell_type": "markdown",
   "metadata": {},
   "source": [
    "<div class=\"alert alert-info\">\n",
    "<b>NOTE:</b> These packages don't know about each other.  One of the great things about Julia is composability.\n",
    "</div>"
   ]
  },
  {
   "cell_type": "code",
   "execution_count": 23,
   "metadata": {},
   "outputs": [
    {
     "name": "stdout",
     "output_type": "stream",
     "text": [
      "  5.837875 seconds (35.86 M allocations: 1.375 GiB, 10.71% gc time)\n"
     ]
    }
   ],
   "source": [
    "using Plots, OnlineStats, CSV, Parsers\n",
    "\n",
    "o = CountMap(Int)\n",
    "\n",
    "@time for row in CSV.Rows(path; reusebuffer=true, skipto=3)\n",
    "    fit!(o, Parsers.parse(Int, row.passenger_count))\n",
    "end"
   ]
  },
  {
   "cell_type": "markdown",
   "metadata": {},
   "source": [
    "**Note this is faster than loading the entire dataset**"
   ]
  },
  {
   "cell_type": "code",
   "execution_count": 24,
   "metadata": {},
   "outputs": [
    {
     "name": "stdout",
     "output_type": "stream",
     "text": [
      " 15.355474 seconds (16.84 M allocations: 946.288 MiB, 13.99% gc time)\n"
     ]
    },
    {
     "data": {
      "text/html": [
       "<table class=\"data-frame\"><thead><tr><th></th><th>VendorID</th><th>tpep_pickup_datetime</th><th>tpep_dropoff_datetime</th><th>passenger_count</th><th>trip_distance</th></tr><tr><th></th><th>Int64</th><th>String</th><th>String</th><th>Int64</th><th>Float64</th></tr></thead><tbody><p>5 rows × 17 columns (omitted printing of 12 columns)</p><tr><th>1</th><td>1</td><td>2018-12-01 00:28:22</td><td>2018-12-01 00:44:07</td><td>2</td><td>2.5</td></tr><tr><th>2</th><td>1</td><td>2018-12-01 00:52:29</td><td>2018-12-01 01:11:37</td><td>3</td><td>2.3</td></tr><tr><th>3</th><td>2</td><td>2018-12-01 00:12:52</td><td>2018-12-01 00:36:23</td><td>1</td><td>0.0</td></tr><tr><th>4</th><td>1</td><td>2018-12-01 00:35:08</td><td>2018-12-01 00:43:11</td><td>1</td><td>3.9</td></tr><tr><th>5</th><td>1</td><td>2018-12-01 00:21:54</td><td>2018-12-01 01:15:13</td><td>1</td><td>12.8</td></tr></tbody></table>"
      ],
      "text/latex": [
       "\\begin{tabular}{r|cccccc}\n",
       "\t& VendorID & tpep\\_pickup\\_datetime & tpep\\_dropoff\\_datetime & passenger\\_count & trip\\_distance & \\\\\n",
       "\t\\hline\n",
       "\t& Int64 & String & String & Int64 & Float64 & \\\\\n",
       "\t\\hline\n",
       "\t1 & 1 & 2018-12-01 00:28:22 & 2018-12-01 00:44:07 & 2 & 2.5 & $\\dots$ \\\\\n",
       "\t2 & 1 & 2018-12-01 00:52:29 & 2018-12-01 01:11:37 & 3 & 2.3 & $\\dots$ \\\\\n",
       "\t3 & 2 & 2018-12-01 00:12:52 & 2018-12-01 00:36:23 & 1 & 0.0 & $\\dots$ \\\\\n",
       "\t4 & 1 & 2018-12-01 00:35:08 & 2018-12-01 00:43:11 & 1 & 3.9 & $\\dots$ \\\\\n",
       "\t5 & 1 & 2018-12-01 00:21:54 & 2018-12-01 01:15:13 & 1 & 12.8 & $\\dots$ \\\\\n",
       "\\end{tabular}\n"
      ],
      "text/plain": [
       "5×17 DataFrame. Omitted printing of 14 columns\n",
       "│ Row │ VendorID │ tpep_pickup_datetime │ tpep_dropoff_datetime │\n",
       "│     │ \u001b[90mInt64\u001b[39m    │ \u001b[90mString\u001b[39m               │ \u001b[90mString\u001b[39m                │\n",
       "├─────┼──────────┼──────────────────────┼───────────────────────┤\n",
       "│ 1   │ 1        │ 2018-12-01 00:28:22  │ 2018-12-01 00:44:07   │\n",
       "│ 2   │ 1        │ 2018-12-01 00:52:29  │ 2018-12-01 01:11:37   │\n",
       "│ 3   │ 2        │ 2018-12-01 00:12:52  │ 2018-12-01 00:36:23   │\n",
       "│ 4   │ 1        │ 2018-12-01 00:35:08  │ 2018-12-01 00:43:11   │\n",
       "│ 5   │ 1        │ 2018-12-01 00:21:54  │ 2018-12-01 01:15:13   │"
      ]
     },
     "execution_count": 24,
     "metadata": {},
     "output_type": "execute_result"
    }
   ],
   "source": [
    "using DataFrames\n",
    "\n",
    "@time df = CSV.read(path, skipto=3)\n",
    "\n",
    "first(df, 5)"
   ]
  },
  {
   "cell_type": "markdown",
   "metadata": {},
   "source": [
    "#### 4) Plot"
   ]
  },
  {
   "cell_type": "code",
   "execution_count": 25,
   "metadata": {},
   "outputs": [
    {
     "name": "stdout",
     "output_type": "stream",
     "text": [
      "Total Number of Yellow Taxi Rides in Dec 2018: 8173231\n"
     ]
    },
    {
     "data": {
      "image/svg+xml": [
       "<?xml version=\"1.0\" encoding=\"utf-8\"?>\n",
       "<svg xmlns=\"http://www.w3.org/2000/svg\" xmlns:xlink=\"http://www.w3.org/1999/xlink\" width=\"600\" height=\"400\" viewBox=\"0 0 2400 1600\">\n",
       "<defs>\n",
       "  <clipPath id=\"clip1500\">\n",
       "    <rect x=\"0\" y=\"0\" width=\"2400\" height=\"1600\"/>\n",
       "  </clipPath>\n",
       "</defs>\n",
       "<polygon clip-path=\"url(#clip1500)\" points=\"\n",
       "0,1600 2400,1600 2400,0 0,0 \n",
       "  \" fill=\"#ffffff\" fill-rule=\"evenodd\" fill-opacity=\"1\"/>\n",
       "<defs>\n",
       "  <clipPath id=\"clip1501\">\n",
       "    <rect x=\"480\" y=\"0\" width=\"1681\" height=\"1600\"/>\n",
       "  </clipPath>\n",
       "</defs>\n",
       "<polygon clip-path=\"url(#clip1500)\" points=\"\n",
       "260.273,1487.47 2352.76,1487.47 2352.76,121.675 260.273,121.675 \n",
       "  \" fill=\"#ffffff\" fill-rule=\"evenodd\" fill-opacity=\"1\"/>\n",
       "<defs>\n",
       "  <clipPath id=\"clip1502\">\n",
       "    <rect x=\"260\" y=\"121\" width=\"2093\" height=\"1367\"/>\n",
       "  </clipPath>\n",
       "</defs>\n",
       "<polyline clip-path=\"url(#clip1502)\" style=\"stroke:#000000; stroke-width:2; stroke-opacity:0.1; fill:none\" points=\"\n",
       "  451.376,1487.47 451.376,121.675 \n",
       "  \"/>\n",
       "<polyline clip-path=\"url(#clip1502)\" style=\"stroke:#000000; stroke-width:2; stroke-opacity:0.1; fill:none\" points=\"\n",
       "  641.407,1487.47 641.407,121.675 \n",
       "  \"/>\n",
       "<polyline clip-path=\"url(#clip1502)\" style=\"stroke:#000000; stroke-width:2; stroke-opacity:0.1; fill:none\" points=\"\n",
       "  831.438,1487.47 831.438,121.675 \n",
       "  \"/>\n",
       "<polyline clip-path=\"url(#clip1502)\" style=\"stroke:#000000; stroke-width:2; stroke-opacity:0.1; fill:none\" points=\"\n",
       "  1021.47,1487.47 1021.47,121.675 \n",
       "  \"/>\n",
       "<polyline clip-path=\"url(#clip1502)\" style=\"stroke:#000000; stroke-width:2; stroke-opacity:0.1; fill:none\" points=\"\n",
       "  1211.5,1487.47 1211.5,121.675 \n",
       "  \"/>\n",
       "<polyline clip-path=\"url(#clip1502)\" style=\"stroke:#000000; stroke-width:2; stroke-opacity:0.1; fill:none\" points=\"\n",
       "  1401.53,1487.47 1401.53,121.675 \n",
       "  \"/>\n",
       "<polyline clip-path=\"url(#clip1502)\" style=\"stroke:#000000; stroke-width:2; stroke-opacity:0.1; fill:none\" points=\"\n",
       "  1591.56,1487.47 1591.56,121.675 \n",
       "  \"/>\n",
       "<polyline clip-path=\"url(#clip1502)\" style=\"stroke:#000000; stroke-width:2; stroke-opacity:0.1; fill:none\" points=\"\n",
       "  1781.59,1487.47 1781.59,121.675 \n",
       "  \"/>\n",
       "<polyline clip-path=\"url(#clip1502)\" style=\"stroke:#000000; stroke-width:2; stroke-opacity:0.1; fill:none\" points=\"\n",
       "  1971.62,1487.47 1971.62,121.675 \n",
       "  \"/>\n",
       "<polyline clip-path=\"url(#clip1502)\" style=\"stroke:#000000; stroke-width:2; stroke-opacity:0.1; fill:none\" points=\"\n",
       "  2161.65,1487.47 2161.65,121.675 \n",
       "  \"/>\n",
       "<polyline clip-path=\"url(#clip1502)\" style=\"stroke:#000000; stroke-width:2; stroke-opacity:0.1; fill:none\" points=\"\n",
       "  260.273,1448.82 2352.76,1448.82 \n",
       "  \"/>\n",
       "<polyline clip-path=\"url(#clip1502)\" style=\"stroke:#000000; stroke-width:2; stroke-opacity:0.1; fill:none\" points=\"\n",
       "  260.273,1222.49 2352.76,1222.49 \n",
       "  \"/>\n",
       "<polyline clip-path=\"url(#clip1502)\" style=\"stroke:#000000; stroke-width:2; stroke-opacity:0.1; fill:none\" points=\"\n",
       "  260.273,996.165 2352.76,996.165 \n",
       "  \"/>\n",
       "<polyline clip-path=\"url(#clip1502)\" style=\"stroke:#000000; stroke-width:2; stroke-opacity:0.1; fill:none\" points=\"\n",
       "  260.273,769.838 2352.76,769.838 \n",
       "  \"/>\n",
       "<polyline clip-path=\"url(#clip1502)\" style=\"stroke:#000000; stroke-width:2; stroke-opacity:0.1; fill:none\" points=\"\n",
       "  260.273,543.51 2352.76,543.51 \n",
       "  \"/>\n",
       "<polyline clip-path=\"url(#clip1502)\" style=\"stroke:#000000; stroke-width:2; stroke-opacity:0.1; fill:none\" points=\"\n",
       "  260.273,317.183 2352.76,317.183 \n",
       "  \"/>\n",
       "<polyline clip-path=\"url(#clip1500)\" style=\"stroke:#000000; stroke-width:4; stroke-opacity:1; fill:none\" points=\"\n",
       "  260.273,1487.47 2352.76,1487.47 \n",
       "  \"/>\n",
       "<polyline clip-path=\"url(#clip1500)\" style=\"stroke:#000000; stroke-width:4; stroke-opacity:1; fill:none\" points=\"\n",
       "  260.273,1487.47 260.273,121.675 \n",
       "  \"/>\n",
       "<polyline clip-path=\"url(#clip1500)\" style=\"stroke:#000000; stroke-width:4; stroke-opacity:1; fill:none\" points=\"\n",
       "  451.376,1487.47 451.376,1466.99 \n",
       "  \"/>\n",
       "<polyline clip-path=\"url(#clip1500)\" style=\"stroke:#000000; stroke-width:4; stroke-opacity:1; fill:none\" points=\"\n",
       "  641.407,1487.47 641.407,1466.99 \n",
       "  \"/>\n",
       "<polyline clip-path=\"url(#clip1500)\" style=\"stroke:#000000; stroke-width:4; stroke-opacity:1; fill:none\" points=\"\n",
       "  831.438,1487.47 831.438,1466.99 \n",
       "  \"/>\n",
       "<polyline clip-path=\"url(#clip1500)\" style=\"stroke:#000000; stroke-width:4; stroke-opacity:1; fill:none\" points=\"\n",
       "  1021.47,1487.47 1021.47,1466.99 \n",
       "  \"/>\n",
       "<polyline clip-path=\"url(#clip1500)\" style=\"stroke:#000000; stroke-width:4; stroke-opacity:1; fill:none\" points=\"\n",
       "  1211.5,1487.47 1211.5,1466.99 \n",
       "  \"/>\n",
       "<polyline clip-path=\"url(#clip1500)\" style=\"stroke:#000000; stroke-width:4; stroke-opacity:1; fill:none\" points=\"\n",
       "  1401.53,1487.47 1401.53,1466.99 \n",
       "  \"/>\n",
       "<polyline clip-path=\"url(#clip1500)\" style=\"stroke:#000000; stroke-width:4; stroke-opacity:1; fill:none\" points=\"\n",
       "  1591.56,1487.47 1591.56,1466.99 \n",
       "  \"/>\n",
       "<polyline clip-path=\"url(#clip1500)\" style=\"stroke:#000000; stroke-width:4; stroke-opacity:1; fill:none\" points=\"\n",
       "  1781.59,1487.47 1781.59,1466.99 \n",
       "  \"/>\n",
       "<polyline clip-path=\"url(#clip1500)\" style=\"stroke:#000000; stroke-width:4; stroke-opacity:1; fill:none\" points=\"\n",
       "  1971.62,1487.47 1971.62,1466.99 \n",
       "  \"/>\n",
       "<polyline clip-path=\"url(#clip1500)\" style=\"stroke:#000000; stroke-width:4; stroke-opacity:1; fill:none\" points=\"\n",
       "  2161.65,1487.47 2161.65,1466.99 \n",
       "  \"/>\n",
       "<polyline clip-path=\"url(#clip1500)\" style=\"stroke:#000000; stroke-width:4; stroke-opacity:1; fill:none\" points=\"\n",
       "  260.273,1448.82 291.661,1448.82 \n",
       "  \"/>\n",
       "<polyline clip-path=\"url(#clip1500)\" style=\"stroke:#000000; stroke-width:4; stroke-opacity:1; fill:none\" points=\"\n",
       "  260.273,1222.49 291.661,1222.49 \n",
       "  \"/>\n",
       "<polyline clip-path=\"url(#clip1500)\" style=\"stroke:#000000; stroke-width:4; stroke-opacity:1; fill:none\" points=\"\n",
       "  260.273,996.165 291.661,996.165 \n",
       "  \"/>\n",
       "<polyline clip-path=\"url(#clip1500)\" style=\"stroke:#000000; stroke-width:4; stroke-opacity:1; fill:none\" points=\"\n",
       "  260.273,769.838 291.661,769.838 \n",
       "  \"/>\n",
       "<polyline clip-path=\"url(#clip1500)\" style=\"stroke:#000000; stroke-width:4; stroke-opacity:1; fill:none\" points=\"\n",
       "  260.273,543.51 291.661,543.51 \n",
       "  \"/>\n",
       "<polyline clip-path=\"url(#clip1500)\" style=\"stroke:#000000; stroke-width:4; stroke-opacity:1; fill:none\" points=\"\n",
       "  260.273,317.183 291.661,317.183 \n",
       "  \"/>\n",
       "<g clip-path=\"url(#clip1500)\">\n",
       "<text style=\"fill:#000000; fill-opacity:1; font-family:Arial,Helvetica Neue,Helvetica,sans-serif; font-size:48px; text-anchor:middle;\" transform=\"rotate(0, 451.376, 1541.47)\" x=\"451.376\" y=\"1541.47\">0</text>\n",
       "</g>\n",
       "<g clip-path=\"url(#clip1500)\">\n",
       "<text style=\"fill:#000000; fill-opacity:1; font-family:Arial,Helvetica Neue,Helvetica,sans-serif; font-size:48px; text-anchor:middle;\" transform=\"rotate(0, 641.407, 1541.47)\" x=\"641.407\" y=\"1541.47\">1</text>\n",
       "</g>\n",
       "<g clip-path=\"url(#clip1500)\">\n",
       "<text style=\"fill:#000000; fill-opacity:1; font-family:Arial,Helvetica Neue,Helvetica,sans-serif; font-size:48px; text-anchor:middle;\" transform=\"rotate(0, 831.438, 1541.47)\" x=\"831.438\" y=\"1541.47\">2</text>\n",
       "</g>\n",
       "<g clip-path=\"url(#clip1500)\">\n",
       "<text style=\"fill:#000000; fill-opacity:1; font-family:Arial,Helvetica Neue,Helvetica,sans-serif; font-size:48px; text-anchor:middle;\" transform=\"rotate(0, 1021.47, 1541.47)\" x=\"1021.47\" y=\"1541.47\">3</text>\n",
       "</g>\n",
       "<g clip-path=\"url(#clip1500)\">\n",
       "<text style=\"fill:#000000; fill-opacity:1; font-family:Arial,Helvetica Neue,Helvetica,sans-serif; font-size:48px; text-anchor:middle;\" transform=\"rotate(0, 1211.5, 1541.47)\" x=\"1211.5\" y=\"1541.47\">4</text>\n",
       "</g>\n",
       "<g clip-path=\"url(#clip1500)\">\n",
       "<text style=\"fill:#000000; fill-opacity:1; font-family:Arial,Helvetica Neue,Helvetica,sans-serif; font-size:48px; text-anchor:middle;\" transform=\"rotate(0, 1401.53, 1541.47)\" x=\"1401.53\" y=\"1541.47\">5</text>\n",
       "</g>\n",
       "<g clip-path=\"url(#clip1500)\">\n",
       "<text style=\"fill:#000000; fill-opacity:1; font-family:Arial,Helvetica Neue,Helvetica,sans-serif; font-size:48px; text-anchor:middle;\" transform=\"rotate(0, 1591.56, 1541.47)\" x=\"1591.56\" y=\"1541.47\">6</text>\n",
       "</g>\n",
       "<g clip-path=\"url(#clip1500)\">\n",
       "<text style=\"fill:#000000; fill-opacity:1; font-family:Arial,Helvetica Neue,Helvetica,sans-serif; font-size:48px; text-anchor:middle;\" transform=\"rotate(0, 1781.59, 1541.47)\" x=\"1781.59\" y=\"1541.47\">7</text>\n",
       "</g>\n",
       "<g clip-path=\"url(#clip1500)\">\n",
       "<text style=\"fill:#000000; fill-opacity:1; font-family:Arial,Helvetica Neue,Helvetica,sans-serif; font-size:48px; text-anchor:middle;\" transform=\"rotate(0, 1971.62, 1541.47)\" x=\"1971.62\" y=\"1541.47\">8</text>\n",
       "</g>\n",
       "<g clip-path=\"url(#clip1500)\">\n",
       "<text style=\"fill:#000000; fill-opacity:1; font-family:Arial,Helvetica Neue,Helvetica,sans-serif; font-size:48px; text-anchor:middle;\" transform=\"rotate(0, 2161.65, 1541.47)\" x=\"2161.65\" y=\"1541.47\">9</text>\n",
       "</g>\n",
       "<g clip-path=\"url(#clip1500)\">\n",
       "<text style=\"fill:#000000; fill-opacity:1; font-family:Arial,Helvetica Neue,Helvetica,sans-serif; font-size:48px; text-anchor:end;\" transform=\"rotate(0, 236.273, 1466.32)\" x=\"236.273\" y=\"1466.32\">0</text>\n",
       "</g>\n",
       "<g clip-path=\"url(#clip1500)\">\n",
       "<text style=\"fill:#000000; fill-opacity:1; font-family:Arial,Helvetica Neue,Helvetica,sans-serif; font-size:48px; text-anchor:start;\" transform=\"rotate(0, 106.132, 1246.22)\" x=\"106.132\" y=\"1246.22\">1×10</text>\n",
       "</g>\n",
       "<g clip-path=\"url(#clip1500)\">\n",
       "<text style=\"fill:#000000; fill-opacity:1; font-family:Arial,Helvetica Neue,Helvetica,sans-serif; font-size:38px; text-anchor:start;\" transform=\"rotate(0, 214.529, 1218.81)\" x=\"214.529\" y=\"1218.81\">6</text>\n",
       "</g>\n",
       "<g clip-path=\"url(#clip1500)\">\n",
       "<text style=\"fill:#000000; fill-opacity:1; font-family:Arial,Helvetica Neue,Helvetica,sans-serif; font-size:48px; text-anchor:start;\" transform=\"rotate(0, 106.132, 1019.89)\" x=\"106.132\" y=\"1019.89\">2×10</text>\n",
       "</g>\n",
       "<g clip-path=\"url(#clip1500)\">\n",
       "<text style=\"fill:#000000; fill-opacity:1; font-family:Arial,Helvetica Neue,Helvetica,sans-serif; font-size:38px; text-anchor:start;\" transform=\"rotate(0, 214.529, 992.482)\" x=\"214.529\" y=\"992.482\">6</text>\n",
       "</g>\n",
       "<g clip-path=\"url(#clip1500)\">\n",
       "<text style=\"fill:#000000; fill-opacity:1; font-family:Arial,Helvetica Neue,Helvetica,sans-serif; font-size:48px; text-anchor:start;\" transform=\"rotate(0, 106.132, 793.565)\" x=\"106.132\" y=\"793.565\">3×10</text>\n",
       "</g>\n",
       "<g clip-path=\"url(#clip1500)\">\n",
       "<text style=\"fill:#000000; fill-opacity:1; font-family:Arial,Helvetica Neue,Helvetica,sans-serif; font-size:38px; text-anchor:start;\" transform=\"rotate(0, 214.529, 766.155)\" x=\"214.529\" y=\"766.155\">6</text>\n",
       "</g>\n",
       "<g clip-path=\"url(#clip1500)\">\n",
       "<text style=\"fill:#000000; fill-opacity:1; font-family:Arial,Helvetica Neue,Helvetica,sans-serif; font-size:48px; text-anchor:start;\" transform=\"rotate(0, 106.132, 567.238)\" x=\"106.132\" y=\"567.238\">4×10</text>\n",
       "</g>\n",
       "<g clip-path=\"url(#clip1500)\">\n",
       "<text style=\"fill:#000000; fill-opacity:1; font-family:Arial,Helvetica Neue,Helvetica,sans-serif; font-size:38px; text-anchor:start;\" transform=\"rotate(0, 214.529, 539.828)\" x=\"214.529\" y=\"539.828\">6</text>\n",
       "</g>\n",
       "<g clip-path=\"url(#clip1500)\">\n",
       "<text style=\"fill:#000000; fill-opacity:1; font-family:Arial,Helvetica Neue,Helvetica,sans-serif; font-size:48px; text-anchor:start;\" transform=\"rotate(0, 106.132, 340.911)\" x=\"106.132\" y=\"340.911\">5×10</text>\n",
       "</g>\n",
       "<g clip-path=\"url(#clip1500)\">\n",
       "<text style=\"fill:#000000; fill-opacity:1; font-family:Arial,Helvetica Neue,Helvetica,sans-serif; font-size:38px; text-anchor:start;\" transform=\"rotate(0, 214.529, 313.5)\" x=\"214.529\" y=\"313.5\">6</text>\n",
       "</g>\n",
       "<g clip-path=\"url(#clip1500)\">\n",
       "<text style=\"fill:#000000; fill-opacity:1; font-family:Arial,Helvetica Neue,Helvetica,sans-serif; font-size:84px; text-anchor:middle;\" transform=\"rotate(0, 1306.51, 73.2)\" x=\"1306.51\" y=\"73.2\">Number of Passengers in NYC Yellow Taxis (Dec 2018)</text>\n",
       "</g>\n",
       "<polygon clip-path=\"url(#clip1502)\" points=\"\n",
       "375.364,1422.62 375.364,1448.82 527.388,1448.82 527.388,1422.62 375.364,1422.62 375.364,1422.62 \n",
       "  \" fill=\"#009af9\" fill-rule=\"evenodd\" fill-opacity=\"1\"/>\n",
       "<polyline clip-path=\"url(#clip1502)\" style=\"stroke:#000000; stroke-width:4; stroke-opacity:1; fill:none\" points=\"\n",
       "  375.364,1422.62 375.364,1448.82 527.388,1448.82 527.388,1422.62 375.364,1422.62 \n",
       "  \"/>\n",
       "<polygon clip-path=\"url(#clip1502)\" points=\"\n",
       "565.395,160.33 565.395,1448.82 717.419,1448.82 717.419,160.33 565.395,160.33 565.395,160.33 \n",
       "  \" fill=\"#009af9\" fill-rule=\"evenodd\" fill-opacity=\"1\"/>\n",
       "<polyline clip-path=\"url(#clip1502)\" style=\"stroke:#000000; stroke-width:4; stroke-opacity:1; fill:none\" points=\"\n",
       "  565.395,160.33 565.395,1448.82 717.419,1448.82 717.419,160.33 565.395,160.33 \n",
       "  \"/>\n",
       "<polygon clip-path=\"url(#clip1502)\" points=\"\n",
       "755.425,1165.64 755.425,1448.82 907.45,1448.82 907.45,1165.64 755.425,1165.64 755.425,1165.64 \n",
       "  \" fill=\"#009af9\" fill-rule=\"evenodd\" fill-opacity=\"1\"/>\n",
       "<polyline clip-path=\"url(#clip1502)\" style=\"stroke:#000000; stroke-width:4; stroke-opacity:1; fill:none\" points=\"\n",
       "  755.425,1165.64 755.425,1448.82 907.45,1448.82 907.45,1165.64 755.425,1165.64 \n",
       "  \"/>\n",
       "<polygon clip-path=\"url(#clip1502)\" points=\"\n",
       "945.456,1364.63 945.456,1448.82 1097.48,1448.82 1097.48,1364.63 945.456,1364.63 945.456,1364.63 \n",
       "  \" fill=\"#009af9\" fill-rule=\"evenodd\" fill-opacity=\"1\"/>\n",
       "<polyline clip-path=\"url(#clip1502)\" style=\"stroke:#000000; stroke-width:4; stroke-opacity:1; fill:none\" points=\"\n",
       "  945.456,1364.63 945.456,1448.82 1097.48,1448.82 1097.48,1364.63 945.456,1364.63 \n",
       "  \"/>\n",
       "<polygon clip-path=\"url(#clip1502)\" points=\"\n",
       "1135.49,1407.61 1135.49,1448.82 1287.51,1448.82 1287.51,1407.61 1135.49,1407.61 1135.49,1407.61 \n",
       "  \" fill=\"#009af9\" fill-rule=\"evenodd\" fill-opacity=\"1\"/>\n",
       "<polyline clip-path=\"url(#clip1502)\" style=\"stroke:#000000; stroke-width:4; stroke-opacity:1; fill:none\" points=\"\n",
       "  1135.49,1407.61 1135.49,1448.82 1287.51,1448.82 1287.51,1407.61 1135.49,1407.61 \n",
       "  \"/>\n",
       "<polygon clip-path=\"url(#clip1502)\" points=\"\n",
       "1325.52,1370.29 1325.52,1448.82 1477.54,1448.82 1477.54,1370.29 1325.52,1370.29 1325.52,1370.29 \n",
       "  \" fill=\"#009af9\" fill-rule=\"evenodd\" fill-opacity=\"1\"/>\n",
       "<polyline clip-path=\"url(#clip1502)\" style=\"stroke:#000000; stroke-width:4; stroke-opacity:1; fill:none\" points=\"\n",
       "  1325.52,1370.29 1325.52,1448.82 1477.54,1448.82 1477.54,1370.29 1325.52,1370.29 \n",
       "  \"/>\n",
       "<polygon clip-path=\"url(#clip1502)\" points=\"\n",
       "1515.55,1400.82 1515.55,1448.82 1667.57,1448.82 1667.57,1400.82 1515.55,1400.82 1515.55,1400.82 \n",
       "  \" fill=\"#009af9\" fill-rule=\"evenodd\" fill-opacity=\"1\"/>\n",
       "<polyline clip-path=\"url(#clip1502)\" style=\"stroke:#000000; stroke-width:4; stroke-opacity:1; fill:none\" points=\"\n",
       "  1515.55,1400.82 1515.55,1448.82 1667.57,1448.82 1667.57,1400.82 1515.55,1400.82 \n",
       "  \"/>\n",
       "<polygon clip-path=\"url(#clip1502)\" points=\"\n",
       "1705.58,1448.81 1705.58,1448.82 1857.6,1448.82 1857.6,1448.81 1705.58,1448.81 1705.58,1448.81 \n",
       "  \" fill=\"#009af9\" fill-rule=\"evenodd\" fill-opacity=\"1\"/>\n",
       "<polyline clip-path=\"url(#clip1502)\" style=\"stroke:#000000; stroke-width:4; stroke-opacity:1; fill:none\" points=\"\n",
       "  1705.58,1448.81 1705.58,1448.82 1857.6,1448.82 1857.6,1448.81 1705.58,1448.81 \n",
       "  \"/>\n",
       "<polygon clip-path=\"url(#clip1502)\" points=\"\n",
       "1895.61,1448.81 1895.61,1448.82 2047.63,1448.82 2047.63,1448.81 1895.61,1448.81 1895.61,1448.81 \n",
       "  \" fill=\"#009af9\" fill-rule=\"evenodd\" fill-opacity=\"1\"/>\n",
       "<polyline clip-path=\"url(#clip1502)\" style=\"stroke:#000000; stroke-width:4; stroke-opacity:1; fill:none\" points=\"\n",
       "  1895.61,1448.81 1895.61,1448.82 2047.63,1448.82 2047.63,1448.81 1895.61,1448.81 \n",
       "  \"/>\n",
       "<polygon clip-path=\"url(#clip1502)\" points=\"\n",
       "2085.64,1448.82 2085.64,1448.82 2237.67,1448.82 2237.67,1448.82 2085.64,1448.82 2085.64,1448.82 \n",
       "  \" fill=\"#009af9\" fill-rule=\"evenodd\" fill-opacity=\"1\"/>\n",
       "<polyline clip-path=\"url(#clip1502)\" style=\"stroke:#000000; stroke-width:4; stroke-opacity:1; fill:none\" points=\"\n",
       "  2085.64,1448.82 2085.64,1448.82 2237.67,1448.82 2237.67,1448.82 2085.64,1448.82 \n",
       "  \"/>\n",
       "<polygon clip-path=\"url(#clip1500)\" points=\"\n",
       "1912.34,326.155 2280.76,326.155 2280.76,205.195 1912.34,205.195 \n",
       "  \" fill=\"#ffffff\" fill-rule=\"evenodd\" fill-opacity=\"1\"/>\n",
       "<polyline clip-path=\"url(#clip1500)\" style=\"stroke:#000000; stroke-width:4; stroke-opacity:1; fill:none\" points=\"\n",
       "  1912.34,326.155 2280.76,326.155 2280.76,205.195 1912.34,205.195 1912.34,326.155 \n",
       "  \"/>\n",
       "<polygon clip-path=\"url(#clip1500)\" points=\"\n",
       "1936.34,289.867 2080.34,289.867 2080.34,241.483 1936.34,241.483 1936.34,289.867 \n",
       "  \" fill=\"#009af9\" fill-rule=\"evenodd\" fill-opacity=\"1\"/>\n",
       "<polyline clip-path=\"url(#clip1500)\" style=\"stroke:#000000; stroke-width:4; stroke-opacity:1; fill:none\" points=\"\n",
       "  1936.34,289.867 2080.34,289.867 2080.34,241.483 1936.34,241.483 1936.34,289.867 \n",
       "  \"/>\n",
       "<g clip-path=\"url(#clip1500)\">\n",
       "<text style=\"fill:#000000; fill-opacity:1; font-family:Arial,Helvetica Neue,Helvetica,sans-serif; font-size:48px; text-anchor:start;\" transform=\"rotate(0, 2104.34, 283.175)\" x=\"2104.34\" y=\"283.175\">Count</text>\n",
       "</g>\n",
       "</svg>\n"
      ]
     },
     "execution_count": 25,
     "metadata": {},
     "output_type": "execute_result"
    }
   ],
   "source": [
    "sort!(o.value)\n",
    "println(\"Total Number of Yellow Taxi Rides in Dec 2018: $(nobs(o))\")\n",
    "plot(o, title=\"Number of Passengers in NYC Yellow Taxis (Dec 2018)\")"
   ]
  },
  {
   "cell_type": "markdown",
   "metadata": {},
   "source": [
    "# Thanks!"
   ]
  },
  {
   "cell_type": "markdown",
   "metadata": {},
   "source": [
    "## Questions/Comments/Concerns\n",
    "\n",
    "<br><br><br><br><br><br><br><br><br><br><br><br><br><br><br><br><br><br><br><br>\n",
    "<br><br><br><br><br><br><br><br><br><br><br><br><br><br><br><br><br><br><br><br>"
   ]
  }
 ],
 "metadata": {
  "@webio": {
   "lastCommId": "423494ada8ee45538fc19c0aa1f7856a",
   "lastKernelId": "57a1eee1-6c10-4aef-a8ad-422b80c4b0f3"
  },
  "extensions": {
   "jupyter_dashboards": {
    "activeView": "report_default",
    "version": 1,
    "views": {
     "grid_default": {
      "cellMargin": 10,
      "defaultCellHeight": 20,
      "maxColumns": 12,
      "name": "grid",
      "type": "grid"
     },
     "report_default": {
      "name": "report",
      "type": "report"
     }
    }
   }
  },
  "kernelspec": {
   "display_name": "Julia 1.2.0",
   "language": "julia",
   "name": "julia-1.2"
  },
  "language_info": {
   "file_extension": ".jl",
   "mimetype": "application/julia",
   "name": "julia",
   "version": "1.2.0"
  }
 },
 "nbformat": 4,
 "nbformat_minor": 2
}
