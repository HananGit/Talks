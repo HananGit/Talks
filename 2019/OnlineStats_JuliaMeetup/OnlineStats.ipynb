{
 "cells": [
  {
   "cell_type": "markdown",
   "metadata": {},
   "source": [
    "# Julia Hype + OnlineStats.jl\n",
    "\n",
    "<img width=\"200px\" src=\"https://upload.wikimedia.org/wikipedia/commons/thumb/6/69/Julia_prog_language.svg/1280px-Julia_prog_language.svg.png\">\n",
    "\n",
    "<img src=\"https://user-images.githubusercontent.com/8075494/46229806-d55a9800-c334-11e8-8616-e4e27e58d66d.gif\" width=500>"
   ]
  },
  {
   "cell_type": "markdown",
   "metadata": {},
   "source": [
    "---\n",
    "\n",
    "# First: Why do I think Julia is great?\n",
    "\n",
    "### [Sapir-Worf Hypothesis](https://en.wikipedia.org/wiki/Linguistic_relativity)\n",
    "\n",
    "- Your language influences/determines how you think\n",
    "- How you solve problems is influenced by your tools\n",
    "    - e.g. avoid loops in R/Python\n",
    "\n",
    "**I claim: Julia is less restrictive in how you solve problems**\n",
    "\n",
    "<div class=\"alert alert-info\">\n",
    "<b>NOTE:</b> However, I highly encourage approaching problems with multiple dispatch in mind.\n",
    "</div>\n",
    "\n",
    "### Multiple Dispatch Via Example\n",
    "\n",
    "Newton's method for finding the root of a function, i.e. where $f(\\theta) = 0$:\n",
    "\n",
    "$$\n",
    "\\theta_{t+1} = \\theta_t - \\frac{F(\\theta_t)}{F'(\\theta_t)}\n",
    "$$\n",
    "\n",
    "Suppose I want to use Newton's method to find the quantiles of various probability distributions.\n",
    "- I to find $\\theta$ such that $F(\\theta) = q$ for cumulative distribution function $F$ and quantile $0<q<1$.\n",
    "- We need:\n",
    "    1. A way to initialize the estimate: `mean`\n",
    "    2. A way to evaluate the cumulative distribution function: `cdf`\n",
    "    3. A way to evaluate the derivative (probability density function): `pdf`"
   ]
  },
  {
   "cell_type": "code",
   "execution_count": 1,
   "metadata": {},
   "outputs": [
    {
     "data": {
      "text/plain": [
       "my_quantile (generic function with 1 method)"
      ]
     },
     "execution_count": 1,
     "metadata": {},
     "output_type": "execute_result"
    }
   ],
   "source": [
    "using Distributions\n",
    "\n",
    "function my_quantile(d, q)\n",
    "    θ = mean(d)\n",
    "    for i in 1:20\n",
    "        θ -= (cdf(d, θ) - q) / pdf(d, θ)\n",
    "    end\n",
    "    θ\n",
    "end"
   ]
  },
  {
   "cell_type": "markdown",
   "metadata": {},
   "source": [
    "<div class=\"alert alert-info\">\n",
    "<b>NOTE:</b> In R/Python, I would need to write a new function for each distribution!\n",
    "</div>"
   ]
  },
  {
   "cell_type": "code",
   "execution_count": 2,
   "metadata": {
    "scrolled": false
   },
   "outputs": [
    {
     "data": {
      "text/html": [
       "<script>\n",
       "// Immediately-invoked-function-expression to avoid global variables.\n",
       "(function() {\n",
       "    var warning_div = document.getElementById(\"webio-warning-18117828484156437272\");\n",
       "    var hide = function () {\n",
       "        var script = document.getElementById(\"webio-setup-11073260185214420047\");\n",
       "        var parent = script && script.parentElement;\n",
       "        var grandparent = parent && parent.parentElement;\n",
       "        if (grandparent) {\n",
       "            grandparent.style.display = \"none\";\n",
       "        }\n",
       "        warning_div.style.display = \"none\";\n",
       "    };\n",
       "    if (typeof Jupyter !== \"undefined\") {\n",
       "        console.log(\"WebIO detected Jupyter notebook environment.\");\n",
       "        // Jupyter notebook.\n",
       "        var extensions = (\n",
       "            Jupyter\n",
       "            && Jupyter.notebook.config.data\n",
       "            && Jupyter.notebook.config.data.load_extensions\n",
       "        );\n",
       "        if (extensions && extensions[\"webio-jupyter-notebook\"]) {\n",
       "            // Extension already loaded.\n",
       "            console.log(\"Jupyter WebIO nbextension detected; not loading ad-hoc.\");\n",
       "            hide();\n",
       "            return;\n",
       "        }\n",
       "    } else if (window.location.pathname.includes(\"/lab\")) {\n",
       "        // Guessing JupyterLa\n",
       "        console.log(\"Jupyter Lab detected; make sure the @webio/jupyter-lab-provider labextension is installed.\");\n",
       "        hide();\n",
       "        return;\n",
       "    }\n",
       "})();\n",
       "\n",
       "</script>\n",
       "<p\n",
       "    id=\"webio-warning-18117828484156437272\"\n",
       "    class=\"output_text output_stderr\"\n",
       "    style=\"padding: 1em; font-weight: bold;\"\n",
       ">\n",
       "    Unable to load WebIO. Please make sure WebIO works for your Jupyter client.\n",
       "    For troubleshooting, please see <a href=\"https://juliagizmos.github.io/WebIO.jl/latest/providers/ijulia/\">\n",
       "    the WebIO/IJulia documentation</a>.\n",
       "    <!-- TODO: link to installation docs. -->\n",
       "</p>\n"
      ],
      "text/plain": [
       "HTML{String}(\"<script>\\n// Immediately-invoked-function-expression to avoid global variables.\\n(function() {\\n    var warning_div = document.getElementById(\\\"webio-warning-18117828484156437272\\\");\\n    var hide = function () {\\n        var script = document.getElementById(\\\"webio-setup-11073260185214420047\\\");\\n        var parent = script && script.parentElement;\\n        var grandparent = parent && parent.parentElement;\\n        if (grandparent) {\\n            grandparent.style.display = \\\"none\\\";\\n        }\\n        warning_div.style.display = \\\"none\\\";\\n    };\\n    if (typeof Jupyter !== \\\"undefined\\\") {\\n        console.log(\\\"WebIO detected Jupyter notebook environment.\\\");\\n        // Jupyter notebook.\\n        var extensions = (\\n            Jupyter\\n            && Jupyter.notebook.config.data\\n            && Jupyter.notebook.config.data.load_extensions\\n        );\\n        if (extensions && extensions[\\\"webio-jupyter-notebook\\\"]) {\\n            // Extension already loaded.\\n            console.log(\\\"Jupyter WebIO nbextension detected; not loading ad-hoc.\\\");\\n            hide();\\n            return;\\n        }\\n    } else if (window.location.pathname.includes(\\\"/lab\\\")) {\\n        // Guessing JupyterLa\\n        console.log(\\\"Jupyter Lab detected; make sure the @webio/jupyter-lab-provider labextension is installed.\\\");\\n        hide();\\n        return;\\n    }\\n})();\\n\\n</script>\\n<p\\n    id=\\\"webio-warning-18117828484156437272\\\"\\n    class=\\\"output_text output_stderr\\\"\\n    style=\\\"padding: 1em; font-weight: bold;\\\"\\n>\\n    Unable to load WebIO. Please make sure WebIO works for your Jupyter client.\\n    For troubleshooting, please see <a href=\\\"https://juliagizmos.github.io/WebIO.jl/latest/providers/ijulia/\\\">\\n    the WebIO/IJulia documentation</a>.\\n    <!-- TODO: link to installation docs. -->\\n</p>\\n\")"
      ]
     },
     "metadata": {},
     "output_type": "display_data"
    },
    {
     "data": {
      "application/vnd.webio.node+json": {
       "children": [
        {
         "children": [
          {
           "children": [
            {
             "children": [
              {
               "children": [
                {
                 "children": [
                  "d"
                 ],
                 "instanceArgs": {
                  "namespace": "html",
                  "tag": "label"
                 },
                 "nodeType": "DOM",
                 "props": {
                  "className": "interact ",
                  "style": {
                   "padding": "5px 10px 0px 10px"
                  }
                 },
                 "type": "node"
                }
               ],
               "instanceArgs": {
                "namespace": "html",
                "tag": "div"
               },
               "nodeType": "DOM",
               "props": {
                "className": "interact-flex-row-left"
               },
               "type": "node"
              },
              {
               "children": [
                {
                 "children": [
                  {
                   "children": [
                    {
                     "children": [],
                     "instanceArgs": {
                      "namespace": "html",
                      "tag": "label"
                     },
                     "nodeType": "DOM",
                     "props": {
                      "attributes": {
                       "data-bind": "text : key"
                      }
                     },
                     "type": "node"
                    }
                   ],
                   "instanceArgs": {
                    "namespace": "html",
                    "tag": "span"
                   },
                   "nodeType": "DOM",
                   "props": {
                    "attributes": {
                     "data-bind": "click: function (){$root.update(val)}, css: {'is-primary is-selected' : $root.index() == val, 'interact-widget is-medium button ' : true}"
                    }
                   },
                   "type": "node"
                  }
                 ],
                 "instanceArgs": {
                  "namespace": "html",
                  "tag": "div"
                 },
                 "nodeType": "DOM",
                 "props": {
                  "attributes": {
                   "data-bind": "foreach : options_js"
                  },
                  "className": "buttons has-addons is-centered"
                 },
                 "type": "node"
                }
               ],
               "instanceArgs": {
                "namespace": "html",
                "tag": "div"
               },
               "nodeType": "DOM",
               "props": {
                "className": "interact-flex-row-center"
               },
               "type": "node"
              },
              {
               "children": [
                {
                 "children": [],
                 "instanceArgs": {
                  "namespace": "html",
                  "tag": "div"
                 },
                 "nodeType": "DOM",
                 "props": {},
                 "type": "node"
                }
               ],
               "instanceArgs": {
                "namespace": "html",
                "tag": "div"
               },
               "nodeType": "DOM",
               "props": {
                "className": "interact-flex-row-right"
               },
               "type": "node"
              }
             ],
             "instanceArgs": {
              "namespace": "html",
              "tag": "div"
             },
             "nodeType": "DOM",
             "props": {
              "className": "interact-flex-row interact-widget"
             },
             "type": "node"
            }
           ],
           "instanceArgs": {
            "handlers": {
             "index": [
              "(function (val){return (val!=this.model[\"index\"]()) ? (this.valueFromJulia[\"index\"]=true, this.model[\"index\"](val)) : undefined})"
             ],
             "options_js": [
              "(function (val){return (val!=this.model[\"options_js\"]()) ? (this.valueFromJulia[\"options_js\"]=true, this.model[\"options_js\"](val)) : undefined})"
             ]
            },
            "id": "15200369884050932124",
            "imports": {
             "data": [
              {
               "name": "knockout",
               "type": "js",
               "url": "/assetserver/138fa309f919ec7484ebc55e3091f379f47cc424-knockout.js"
              },
              {
               "name": "knockout_punches",
               "type": "js",
               "url": "/assetserver/620d29c2d3531d56ec3a1d8a13d747afffb44410-knockout_punches.js"
              },
              {
               "name": null,
               "type": "js",
               "url": "/assetserver/57e29df20789a576b69ae2f70e2711fac6716a39-all.js"
              },
              {
               "name": null,
               "type": "css",
               "url": "/assetserver/417d90e06c0658278ea1ef32551ed090a57a1491-style.css"
              },
              {
               "name": null,
               "type": "css",
               "url": "/assetserver/1f5a763355fa31c38c9cab232bda0758d9a22c0d-bulma_confined.min.css"
              }
             ],
             "type": "async_block"
            },
            "mount_callbacks": [
             "function () {\n    var handler = (function (ko, koPunches) {\n    ko.punches.enableAll();\n    ko.bindingHandlers.numericValue = {\n        init: function(element, valueAccessor, allBindings, data, context) {\n            var stringified = ko.observable(ko.unwrap(valueAccessor()));\n            stringified.subscribe(function(value) {\n                var val = parseFloat(value);\n                if (!isNaN(val)) {\n                    valueAccessor()(val);\n                }\n            });\n            valueAccessor().subscribe(function(value) {\n                var str = JSON.stringify(value);\n                if ((str == \"0\") && ([\"-0\", \"-0.\"].indexOf(stringified()) >= 0))\n                     return;\n                 if ([\"null\", \"\"].indexOf(str) >= 0)\n                     return;\n                stringified(str);\n            });\n            ko.applyBindingsToNode(\n                element,\n                {\n                    value: stringified,\n                    valueUpdate: allBindings.get('valueUpdate'),\n                },\n                context,\n            );\n        }\n    };\n    var json_data = {\"options_js\":WebIO.getval({\"name\":\"options_js\",\"scope\":\"15200369884050932124\",\"id\":\"ob_05\",\"type\":\"observable\"}),\"index\":WebIO.getval({\"name\":\"index\",\"scope\":\"15200369884050932124\",\"id\":\"ob_04\",\"type\":\"observable\"})};\n    var self = this;\n    function AppViewModel() {\n        for (var key in json_data) {\n            var el = json_data[key];\n            this[key] = Array.isArray(el) ? ko.observableArray(el) : ko.observable(el);\n        }\n        [this[\"update\"]=function (val) {this.index(val)}]\n        \n        [this[\"options_js\"].subscribe((function (val){!(this.valueFromJulia[\"options_js\"]) ? (WebIO.setval({\"name\":\"options_js\",\"scope\":\"15200369884050932124\",\"id\":\"ob_05\",\"type\":\"observable\"},val)) : undefined; return this.valueFromJulia[\"options_js\"]=false}),self),this[\"index\"].subscribe((function (val){!(this.valueFromJulia[\"index\"]) ? (WebIO.setval({\"name\":\"index\",\"scope\":\"15200369884050932124\",\"id\":\"ob_04\",\"type\":\"observable\"},val)) : undefined; return this.valueFromJulia[\"index\"]=false}),self)]\n        \n    }\n    self.model = new AppViewModel();\n    self.valueFromJulia = {};\n    for (var key in json_data) {\n        self.valueFromJulia[key] = false;\n    }\n    ko.applyBindings(self.model, self.dom);\n}\n);\n    (WebIO.importBlock({\"data\":[{\"name\":\"knockout\",\"type\":\"js\",\"url\":\"/assetserver/138fa309f919ec7484ebc55e3091f379f47cc424-knockout.js\"},{\"name\":\"knockout_punches\",\"type\":\"js\",\"url\":\"/assetserver/620d29c2d3531d56ec3a1d8a13d747afffb44410-knockout_punches.js\"}],\"type\":\"async_block\"})).then((imports) => handler.apply(this, imports));\n}\n"
            ],
            "observables": {
             "index": {
              "id": "ob_04",
              "sync": true,
              "value": 1
             },
             "options_js": {
              "id": "ob_05",
              "sync": false,
              "value": [
               {
                "id": "idU0o0PfxL",
                "key": "Normal{Float64}(μ=0.0, σ=1.0)",
                "val": 1
               },
               {
                "id": "id8Ql0GwM6",
                "key": "Uniform{Float64}(a=0.0, b=1.0)",
                "val": 2
               },
               {
                "id": "idNizY7wo1",
                "key": "Gamma{Float64}(α=5.0, θ=3.0)",
                "val": 3
               },
               {
                "id": "id2A8PMfBU",
                "key": "Beta{Float64}(α=6.0, β=3.0)",
                "val": 4
               },
               {
                "id": "id84dw28cp",
                "key": "Exponential{Float64}(θ=1.0)",
                "val": 5
               }
              ]
             }
            },
            "systemjs_options": null
           },
           "nodeType": "Scope",
           "props": {},
           "type": "node"
          }
         ],
         "instanceArgs": {
          "namespace": "html",
          "tag": "div"
         },
         "nodeType": "DOM",
         "props": {
          "className": "interact-widget"
         },
         "type": "node"
        },
        {
         "children": [
          {
           "children": [
            {
             "children": [
              {
               "children": [
                {
                 "children": [
                  "q"
                 ],
                 "instanceArgs": {
                  "namespace": "html",
                  "tag": "label"
                 },
                 "nodeType": "DOM",
                 "props": {
                  "className": "interact ",
                  "style": {
                   "padding": "5px 10px 0px 10px"
                  }
                 },
                 "type": "node"
                }
               ],
               "instanceArgs": {
                "namespace": "html",
                "tag": "div"
               },
               "nodeType": "DOM",
               "props": {
                "className": "interact-flex-row-left"
               },
               "type": "node"
              },
              {
               "children": [
                {
                 "children": [],
                 "instanceArgs": {
                  "namespace": "html",
                  "tag": "input"
                 },
                 "nodeType": "DOM",
                 "props": {
                  "attributes": {
                   "data-bind": "numericValue: index, valueUpdate: 'input', event: {change: function (){this.changes(this.changes()+1)}}",
                   "orient": "horizontal",
                   "type": "range"
                  },
                  "className": "slider slider is-fullwidth",
                  "max": 50,
                  "min": 1,
                  "step": 1,
                  "style": {}
                 },
                 "type": "node"
                }
               ],
               "instanceArgs": {
                "namespace": "html",
                "tag": "div"
               },
               "nodeType": "DOM",
               "props": {
                "className": "interact-flex-row-center"
               },
               "type": "node"
              },
              {
               "children": [
                {
                 "children": [],
                 "instanceArgs": {
                  "namespace": "html",
                  "tag": "p"
                 },
                 "nodeType": "DOM",
                 "props": {
                  "attributes": {
                   "data-bind": "text: formatted_val"
                  }
                 },
                 "type": "node"
                }
               ],
               "instanceArgs": {
                "namespace": "html",
                "tag": "div"
               },
               "nodeType": "DOM",
               "props": {
                "className": "interact-flex-row-right"
               },
               "type": "node"
              }
             ],
             "instanceArgs": {
              "namespace": "html",
              "tag": "div"
             },
             "nodeType": "DOM",
             "props": {
              "className": "interact-flex-row interact-widget"
             },
             "type": "node"
            }
           ],
           "instanceArgs": {
            "handlers": {
             "changes": [
              "(function (val){return (val!=this.model[\"changes\"]()) ? (this.valueFromJulia[\"changes\"]=true, this.model[\"changes\"](val)) : undefined})"
             ],
             "index": [
              "(function (val){return (val!=this.model[\"index\"]()) ? (this.valueFromJulia[\"index\"]=true, this.model[\"index\"](val)) : undefined})"
             ]
            },
            "id": "16308536912995460682",
            "imports": {
             "data": [
              {
               "name": "knockout",
               "type": "js",
               "url": "/assetserver/138fa309f919ec7484ebc55e3091f379f47cc424-knockout.js"
              },
              {
               "name": "knockout_punches",
               "type": "js",
               "url": "/assetserver/620d29c2d3531d56ec3a1d8a13d747afffb44410-knockout_punches.js"
              },
              {
               "name": null,
               "type": "js",
               "url": "/assetserver/57e29df20789a576b69ae2f70e2711fac6716a39-all.js"
              },
              {
               "name": null,
               "type": "css",
               "url": "/assetserver/417d90e06c0658278ea1ef32551ed090a57a1491-style.css"
              },
              {
               "name": null,
               "type": "css",
               "url": "/assetserver/1f5a763355fa31c38c9cab232bda0758d9a22c0d-bulma_confined.min.css"
              }
             ],
             "type": "async_block"
            },
            "mount_callbacks": [
             "function () {\n    var handler = (function (ko, koPunches) {\n    ko.punches.enableAll();\n    ko.bindingHandlers.numericValue = {\n        init: function(element, valueAccessor, allBindings, data, context) {\n            var stringified = ko.observable(ko.unwrap(valueAccessor()));\n            stringified.subscribe(function(value) {\n                var val = parseFloat(value);\n                if (!isNaN(val)) {\n                    valueAccessor()(val);\n                }\n            });\n            valueAccessor().subscribe(function(value) {\n                var str = JSON.stringify(value);\n                if ((str == \"0\") && ([\"-0\", \"-0.\"].indexOf(stringified()) >= 0))\n                     return;\n                 if ([\"null\", \"\"].indexOf(str) >= 0)\n                     return;\n                stringified(str);\n            });\n            ko.applyBindingsToNode(\n                element,\n                {\n                    value: stringified,\n                    valueUpdate: allBindings.get('valueUpdate'),\n                },\n                context,\n            );\n        }\n    };\n    var json_data = {\"formatted_vals\":[\"0.01\",\"0.03\",\"0.05\",\"0.07\",\"0.09\",\"0.11\",\"0.13\",\"0.15\",\"0.17\",\"0.19\",\"0.21\",\"0.23\",\"0.25\",\"0.27\",\"0.29\",\"0.31\",\"0.33\",\"0.35\",\"0.37\",\"0.39\",\"0.41\",\"0.43\",\"0.45\",\"0.47\",\"0.49\",\"0.51\",\"0.53\",\"0.55\",\"0.57\",\"0.59\",\"0.61\",\"0.63\",\"0.65\",\"0.67\",\"0.69\",\"0.71\",\"0.73\",\"0.75\",\"0.77\",\"0.79\",\"0.81\",\"0.83\",\"0.85\",\"0.87\",\"0.89\",\"0.91\",\"0.93\",\"0.95\",\"0.97\",\"0.99\"],\"changes\":WebIO.getval({\"name\":\"changes\",\"scope\":\"16308536912995460682\",\"id\":\"ob_08\",\"type\":\"observable\"}),\"index\":WebIO.getval({\"name\":\"index\",\"scope\":\"16308536912995460682\",\"id\":\"ob_07\",\"type\":\"observable\"})};\n    var self = this;\n    function AppViewModel() {\n        for (var key in json_data) {\n            var el = json_data[key];\n            this[key] = Array.isArray(el) ? ko.observableArray(el) : ko.observable(el);\n        }\n        \n        [this[\"formatted_val\"]=ko.computed(    function(){\n        return this.formatted_vals()[parseInt(this.index())-(1)];\n    }\n,this)]\n        [this[\"changes\"].subscribe((function (val){!(this.valueFromJulia[\"changes\"]) ? (WebIO.setval({\"name\":\"changes\",\"scope\":\"16308536912995460682\",\"id\":\"ob_08\",\"type\":\"observable\"},val)) : undefined; return this.valueFromJulia[\"changes\"]=false}),self),this[\"index\"].subscribe((function (val){!(this.valueFromJulia[\"index\"]) ? (WebIO.setval({\"name\":\"index\",\"scope\":\"16308536912995460682\",\"id\":\"ob_07\",\"type\":\"observable\"},val)) : undefined; return this.valueFromJulia[\"index\"]=false}),self)]\n        \n    }\n    self.model = new AppViewModel();\n    self.valueFromJulia = {};\n    for (var key in json_data) {\n        self.valueFromJulia[key] = false;\n    }\n    ko.applyBindings(self.model, self.dom);\n}\n);\n    (WebIO.importBlock({\"data\":[{\"name\":\"knockout\",\"type\":\"js\",\"url\":\"/assetserver/138fa309f919ec7484ebc55e3091f379f47cc424-knockout.js\"},{\"name\":\"knockout_punches\",\"type\":\"js\",\"url\":\"/assetserver/620d29c2d3531d56ec3a1d8a13d747afffb44410-knockout_punches.js\"}],\"type\":\"async_block\"})).then((imports) => handler.apply(this, imports));\n}\n"
            ],
            "observables": {
             "changes": {
              "id": "ob_08",
              "sync": false,
              "value": 0
             },
             "index": {
              "id": "ob_07",
              "sync": true,
              "value": 25
             }
            },
            "systemjs_options": null
           },
           "nodeType": "Scope",
           "props": {},
           "type": "node"
          }
         ],
         "instanceArgs": {
          "namespace": "html",
          "tag": "div"
         },
         "nodeType": "DOM",
         "props": {
          "className": "field interact-widget"
         },
         "type": "node"
        },
        {
         "children": [
          {
           "children": [],
           "instanceArgs": {
            "id": "ob_14",
            "name": "obs-node"
           },
           "nodeType": "ObservableNode",
           "props": {},
           "type": "node"
          }
         ],
         "instanceArgs": {
          "handlers": {},
          "id": "10297613878202310685",
          "imports": {
           "data": [],
           "type": "async_block"
          },
          "mount_callbacks": [],
          "observables": {
           "obs-node": {
            "id": "ob_14",
            "sync": false,
            "value": {
             "children": [
              {
               "children": [],
               "instanceArgs": {
                "namespace": "html",
                "tag": "div"
               },
               "nodeType": "DOM",
               "props": {
                "setInnerHtml": "<?xml version=\"1.0\" encoding=\"utf-8\"?>\n<svg xmlns=\"http://www.w3.org/2000/svg\" xmlns:xlink=\"http://www.w3.org/1999/xlink\" width=\"600\" height=\"400\" viewBox=\"0 0 2400 1600\">\n<defs>\n  <clipPath id=\"clip9100\">\n    <rect x=\"0\" y=\"0\" width=\"2400\" height=\"1600\"/>\n  </clipPath>\n</defs>\n<polygon clip-path=\"url(#clip9100)\" points=\"\n0,1600 2400,1600 2400,0 0,0 \n  \" fill=\"#ffffff\" fill-rule=\"evenodd\" fill-opacity=\"1\"/>\n<defs>\n  <clipPath id=\"clip9101\">\n    <rect x=\"480\" y=\"0\" width=\"1681\" height=\"1600\"/>\n  </clipPath>\n</defs>\n<polygon clip-path=\"url(#clip9100)\" points=\"\n153.898,1487.47 2352.76,1487.47 2352.76,47.2441 153.898,47.2441 \n  \" fill=\"#ffffff\" fill-rule=\"evenodd\" fill-opacity=\"1\"/>\n<defs>\n  <clipPath id=\"clip9102\">\n    <rect x=\"153\" y=\"47\" width=\"2200\" height=\"1441\"/>\n  </clipPath>\n</defs>\n<polyline clip-path=\"url(#clip9102)\" style=\"stroke:#000000; stroke-width:2; stroke-opacity:0.1; fill:none\" points=\"\n  408.691,1487.47 408.691,47.2441 \n  \"/>\n<polyline clip-path=\"url(#clip9102)\" style=\"stroke:#000000; stroke-width:2; stroke-opacity:0.1; fill:none\" points=\"\n  690.751,1487.47 690.751,47.2441 \n  \"/>\n<polyline clip-path=\"url(#clip9102)\" style=\"stroke:#000000; stroke-width:2; stroke-opacity:0.1; fill:none\" points=\"\n  972.811,1487.47 972.811,47.2441 \n  \"/>\n<polyline clip-path=\"url(#clip9102)\" style=\"stroke:#000000; stroke-width:2; stroke-opacity:0.1; fill:none\" points=\"\n  1254.87,1487.47 1254.87,47.2441 \n  \"/>\n<polyline clip-path=\"url(#clip9102)\" style=\"stroke:#000000; stroke-width:2; stroke-opacity:0.1; fill:none\" points=\"\n  1536.93,1487.47 1536.93,47.2441 \n  \"/>\n<polyline clip-path=\"url(#clip9102)\" style=\"stroke:#000000; stroke-width:2; stroke-opacity:0.1; fill:none\" points=\"\n  1818.99,1487.47 1818.99,47.2441 \n  \"/>\n<polyline clip-path=\"url(#clip9102)\" style=\"stroke:#000000; stroke-width:2; stroke-opacity:0.1; fill:none\" points=\"\n  2101.05,1487.47 2101.05,47.2441 \n  \"/>\n<polyline clip-path=\"url(#clip9102)\" style=\"stroke:#000000; stroke-width:2; stroke-opacity:0.1; fill:none\" points=\"\n  153.898,1448.26 2352.76,1448.26 \n  \"/>\n<polyline clip-path=\"url(#clip9102)\" style=\"stroke:#000000; stroke-width:2; stroke-opacity:0.1; fill:none\" points=\"\n  153.898,1107.24 2352.76,1107.24 \n  \"/>\n<polyline clip-path=\"url(#clip9102)\" style=\"stroke:#000000; stroke-width:2; stroke-opacity:0.1; fill:none\" points=\"\n  153.898,766.213 2352.76,766.213 \n  \"/>\n<polyline clip-path=\"url(#clip9102)\" style=\"stroke:#000000; stroke-width:2; stroke-opacity:0.1; fill:none\" points=\"\n  153.898,425.191 2352.76,425.191 \n  \"/>\n<polyline clip-path=\"url(#clip9102)\" style=\"stroke:#000000; stroke-width:2; stroke-opacity:0.1; fill:none\" points=\"\n  153.898,84.1691 2352.76,84.1691 \n  \"/>\n<polyline clip-path=\"url(#clip9100)\" style=\"stroke:#000000; stroke-width:4; stroke-opacity:1; fill:none\" points=\"\n  153.898,1487.47 2352.76,1487.47 \n  \"/>\n<polyline clip-path=\"url(#clip9100)\" style=\"stroke:#000000; stroke-width:4; stroke-opacity:1; fill:none\" points=\"\n  153.898,1487.47 153.898,47.2441 \n  \"/>\n<polyline clip-path=\"url(#clip9100)\" style=\"stroke:#000000; stroke-width:4; stroke-opacity:1; fill:none\" points=\"\n  408.691,1487.47 408.691,1465.87 \n  \"/>\n<polyline clip-path=\"url(#clip9100)\" style=\"stroke:#000000; stroke-width:4; stroke-opacity:1; fill:none\" points=\"\n  690.751,1487.47 690.751,1465.87 \n  \"/>\n<polyline clip-path=\"url(#clip9100)\" style=\"stroke:#000000; stroke-width:4; stroke-opacity:1; fill:none\" points=\"\n  972.811,1487.47 972.811,1465.87 \n  \"/>\n<polyline clip-path=\"url(#clip9100)\" style=\"stroke:#000000; stroke-width:4; stroke-opacity:1; fill:none\" points=\"\n  1254.87,1487.47 1254.87,1465.87 \n  \"/>\n<polyline clip-path=\"url(#clip9100)\" style=\"stroke:#000000; stroke-width:4; stroke-opacity:1; fill:none\" points=\"\n  1536.93,1487.47 1536.93,1465.87 \n  \"/>\n<polyline clip-path=\"url(#clip9100)\" style=\"stroke:#000000; stroke-width:4; stroke-opacity:1; fill:none\" points=\"\n  1818.99,1487.47 1818.99,1465.87 \n  \"/>\n<polyline clip-path=\"url(#clip9100)\" style=\"stroke:#000000; stroke-width:4; stroke-opacity:1; fill:none\" points=\"\n  2101.05,1487.47 2101.05,1465.87 \n  \"/>\n<polyline clip-path=\"url(#clip9100)\" style=\"stroke:#000000; stroke-width:4; stroke-opacity:1; fill:none\" points=\"\n  153.898,1448.26 186.881,1448.26 \n  \"/>\n<polyline clip-path=\"url(#clip9100)\" style=\"stroke:#000000; stroke-width:4; stroke-opacity:1; fill:none\" points=\"\n  153.898,1107.24 186.881,1107.24 \n  \"/>\n<polyline clip-path=\"url(#clip9100)\" style=\"stroke:#000000; stroke-width:4; stroke-opacity:1; fill:none\" points=\"\n  153.898,766.213 186.881,766.213 \n  \"/>\n<polyline clip-path=\"url(#clip9100)\" style=\"stroke:#000000; stroke-width:4; stroke-opacity:1; fill:none\" points=\"\n  153.898,425.191 186.881,425.191 \n  \"/>\n<polyline clip-path=\"url(#clip9100)\" style=\"stroke:#000000; stroke-width:4; stroke-opacity:1; fill:none\" points=\"\n  153.898,84.1691 186.881,84.1691 \n  \"/>\n<g clip-path=\"url(#clip9100)\">\n<text style=\"fill:#000000; fill-opacity:1; font-family:Arial,Helvetica Neue,Helvetica,sans-serif; font-size:48px; text-anchor:middle;\" transform=\"rotate(0, 408.691, 1541.47)\" x=\"408.691\" y=\"1541.47\">-3</text>\n</g>\n<g clip-path=\"url(#clip9100)\">\n<text style=\"fill:#000000; fill-opacity:1; font-family:Arial,Helvetica Neue,Helvetica,sans-serif; font-size:48px; text-anchor:middle;\" transform=\"rotate(0, 690.751, 1541.47)\" x=\"690.751\" y=\"1541.47\">-2</text>\n</g>\n<g clip-path=\"url(#clip9100)\">\n<text style=\"fill:#000000; fill-opacity:1; font-family:Arial,Helvetica Neue,Helvetica,sans-serif; font-size:48px; text-anchor:middle;\" transform=\"rotate(0, 972.811, 1541.47)\" x=\"972.811\" y=\"1541.47\">-1</text>\n</g>\n<g clip-path=\"url(#clip9100)\">\n<text style=\"fill:#000000; fill-opacity:1; font-family:Arial,Helvetica Neue,Helvetica,sans-serif; font-size:48px; text-anchor:middle;\" transform=\"rotate(0, 1254.87, 1541.47)\" x=\"1254.87\" y=\"1541.47\">0</text>\n</g>\n<g clip-path=\"url(#clip9100)\">\n<text style=\"fill:#000000; fill-opacity:1; font-family:Arial,Helvetica Neue,Helvetica,sans-serif; font-size:48px; text-anchor:middle;\" transform=\"rotate(0, 1536.93, 1541.47)\" x=\"1536.93\" y=\"1541.47\">1</text>\n</g>\n<g clip-path=\"url(#clip9100)\">\n<text style=\"fill:#000000; fill-opacity:1; font-family:Arial,Helvetica Neue,Helvetica,sans-serif; font-size:48px; text-anchor:middle;\" transform=\"rotate(0, 1818.99, 1541.47)\" x=\"1818.99\" y=\"1541.47\">2</text>\n</g>\n<g clip-path=\"url(#clip9100)\">\n<text style=\"fill:#000000; fill-opacity:1; font-family:Arial,Helvetica Neue,Helvetica,sans-serif; font-size:48px; text-anchor:middle;\" transform=\"rotate(0, 2101.05, 1541.47)\" x=\"2101.05\" y=\"1541.47\">3</text>\n</g>\n<g clip-path=\"url(#clip9100)\">\n<text style=\"fill:#000000; fill-opacity:1; font-family:Arial,Helvetica Neue,Helvetica,sans-serif; font-size:48px; text-anchor:end;\" transform=\"rotate(0, 129.898, 1465.76)\" x=\"129.898\" y=\"1465.76\">0.0</text>\n</g>\n<g clip-path=\"url(#clip9100)\">\n<text style=\"fill:#000000; fill-opacity:1; font-family:Arial,Helvetica Neue,Helvetica,sans-serif; font-size:48px; text-anchor:end;\" transform=\"rotate(0, 129.898, 1124.74)\" x=\"129.898\" y=\"1124.74\">0.1</text>\n</g>\n<g clip-path=\"url(#clip9100)\">\n<text style=\"fill:#000000; fill-opacity:1; font-family:Arial,Helvetica Neue,Helvetica,sans-serif; font-size:48px; text-anchor:end;\" transform=\"rotate(0, 129.898, 783.713)\" x=\"129.898\" y=\"783.713\">0.2</text>\n</g>\n<g clip-path=\"url(#clip9100)\">\n<text style=\"fill:#000000; fill-opacity:1; font-family:Arial,Helvetica Neue,Helvetica,sans-serif; font-size:48px; text-anchor:end;\" transform=\"rotate(0, 129.898, 442.691)\" x=\"129.898\" y=\"442.691\">0.3</text>\n</g>\n<g clip-path=\"url(#clip9100)\">\n<text style=\"fill:#000000; fill-opacity:1; font-family:Arial,Helvetica Neue,Helvetica,sans-serif; font-size:48px; text-anchor:end;\" transform=\"rotate(0, 129.898, 101.669)\" x=\"129.898\" y=\"101.669\">0.4</text>\n</g>\n<polyline clip-path=\"url(#clip9102)\" style=\"stroke:#009af9; stroke-width:4; stroke-opacity:1; fill:none\" points=\"\n  216.13,1446.71 226.374,1446.49 321.096,1442.58 415.819,1431.96 472.743,1419.15 529.667,1398.34 577.796,1371.97 625.925,1335.02 652.065,1309.62 678.206,1279.97 \n  704.347,1245.74 730.487,1206.62 754.587,1166.06 778.686,1121.08 802.785,1071.69 826.885,1017.99 878.559,889.561 930.233,746.74 990.102,572.562 1049.97,403.293 \n  1076.57,334.155 1103.18,270.962 1129.78,215.201 1156.38,168.237 1179.71,135.231 1203.04,110.555 1226.37,94.7059 1249.69,88.0053 1275.13,91.2801 1300.56,105.509 \n  1325.99,130.349 1351.43,165.204 1377.01,209.539 1402.6,262.142 1428.18,321.818 1453.77,387.257 1510.34,545.537 1566.92,710.492 1620.75,861.693 1674.58,998.587 \n  1702.56,1062.21 1730.55,1120.08 1758.53,1172.01 1786.52,1217.99 1833.63,1282.52 1880.75,1332.24 1938.27,1375.99 1995.79,1405.07 2049.86,1422.63 2103.94,1433.6 \n  2190.56,1442.71 2277.19,1446.35 2290.52,1446.65 \n  \"/>\n<polyline clip-path=\"url(#clip9102)\" style=\"stroke:#e26f46; stroke-width:16; stroke-opacity:1; fill:none\" stroke-dasharray=\"8, 16\" points=\"\n  1247.8,145511 1247.8,-143976 \n  \"/>\n<polyline clip-path=\"url(#clip9102)\" style=\"stroke:#000000; stroke-width:4; stroke-opacity:1; fill:none\" points=\"\n  1247.8,145511 1247.8,-143976 \n  \"/>\n<polygon clip-path=\"url(#clip9100)\" points=\"\n1547.1,372.684 2280.76,372.684 2280.76,130.764 1547.1,130.764 \n  \" fill=\"#ffffff\" fill-rule=\"evenodd\" fill-opacity=\"1\"/>\n<polyline clip-path=\"url(#clip9100)\" style=\"stroke:#000000; stroke-width:4; stroke-opacity:1; fill:none\" points=\"\n  1547.1,372.684 2280.76,372.684 2280.76,130.764 1547.1,130.764 1547.1,372.684 \n  \"/>\n<polyline clip-path=\"url(#clip9100)\" style=\"stroke:#009af9; stroke-width:4; stroke-opacity:1; fill:none\" points=\"\n  1571.1,191.244 1715.1,191.244 \n  \"/>\n<g clip-path=\"url(#clip9100)\">\n<text style=\"fill:#000000; fill-opacity:1; font-family:Arial,Helvetica Neue,Helvetica,sans-serif; font-size:48px; text-anchor:start;\" transform=\"rotate(0, 1739.1, 208.744)\" x=\"1739.1\" y=\"208.744\">y1</text>\n</g>\n<polyline clip-path=\"url(#clip9100)\" style=\"stroke:#e26f46; stroke-width:16; stroke-opacity:1; fill:none\" stroke-dasharray=\"8, 16\" points=\"\n  1571.1,251.724 1715.1,251.724 \n  \"/>\n<g clip-path=\"url(#clip9100)\">\n<text style=\"fill:#000000; fill-opacity:1; font-family:Arial,Helvetica Neue,Helvetica,sans-serif; font-size:48px; text-anchor:start;\" transform=\"rotate(0, 1739.1, 269.224)\" x=\"1739.1\" y=\"269.224\">My Function: -0.0251</text>\n</g>\n<polyline clip-path=\"url(#clip9100)\" style=\"stroke:#000000; stroke-width:4; stroke-opacity:1; fill:none\" points=\"\n  1571.1,312.204 1715.1,312.204 \n  \"/>\n<g clip-path=\"url(#clip9100)\">\n<text style=\"fill:#000000; fill-opacity:1; font-family:Arial,Helvetica Neue,Helvetica,sans-serif; font-size:48px; text-anchor:start;\" transform=\"rotate(0, 1739.1, 329.704)\" x=\"1739.1\" y=\"329.704\">True Quantile: -0.0251</text>\n</g>\n</svg>\n"
               },
               "type": "node"
              }
             ],
             "instanceArgs": {
              "namespace": "html",
              "tag": "div"
             },
             "nodeType": "DOM",
             "props": {
              "className": "interact-flex-row interact-widget"
             },
             "type": "node"
            }
           }
          },
          "systemjs_options": null
         },
         "nodeType": "Scope",
         "props": {},
         "type": "node"
        }
       ],
       "instanceArgs": {
        "namespace": "html",
        "tag": "div"
       },
       "nodeType": "DOM",
       "props": {},
       "type": "node"
      },
      "text/html": [
       "<div\n",
       "    class=\"webio-mountpoint\"\n",
       "    data-webio-mountpoint=\"11489338228799983746\"\n",
       ">\n",
       "    <script>\n",
       "    if (window.require && require.defined && require.defined(\"nbextensions/webio-jupyter-notebook\")) {\n",
       "        console.log(\"Jupyter WebIO extension detected, not mounting.\");\n",
       "    } else if (window.WebIO) {\n",
       "        WebIO.mount(\n",
       "            document.querySelector('[data-webio-mountpoint=\"11489338228799983746\"]'),\n",
       "            {\"props\":{},\"nodeType\":\"DOM\",\"type\":\"node\",\"instanceArgs\":{\"namespace\":\"html\",\"tag\":\"div\"},\"children\":[{\"props\":{\"className\":\"interact-widget\"},\"nodeType\":\"DOM\",\"type\":\"node\",\"instanceArgs\":{\"namespace\":\"html\",\"tag\":\"div\"},\"children\":[{\"props\":{},\"nodeType\":\"Scope\",\"type\":\"node\",\"instanceArgs\":{\"imports\":{\"data\":[{\"name\":\"knockout\",\"type\":\"js\",\"url\":\"\\/assetserver\\/138fa309f919ec7484ebc55e3091f379f47cc424-knockout.js\"},{\"name\":\"knockout_punches\",\"type\":\"js\",\"url\":\"\\/assetserver\\/620d29c2d3531d56ec3a1d8a13d747afffb44410-knockout_punches.js\"},{\"name\":null,\"type\":\"js\",\"url\":\"\\/assetserver\\/57e29df20789a576b69ae2f70e2711fac6716a39-all.js\"},{\"name\":null,\"type\":\"css\",\"url\":\"\\/assetserver\\/417d90e06c0658278ea1ef32551ed090a57a1491-style.css\"},{\"name\":null,\"type\":\"css\",\"url\":\"\\/assetserver\\/1f5a763355fa31c38c9cab232bda0758d9a22c0d-bulma_confined.min.css\"}],\"type\":\"async_block\"},\"id\":\"15200369884050932124\",\"handlers\":{\"options_js\":[\"(function (val){return (val!=this.model[\\\"options_js\\\"]()) ? (this.valueFromJulia[\\\"options_js\\\"]=true, this.model[\\\"options_js\\\"](val)) : undefined})\"],\"index\":[\"(function (val){return (val!=this.model[\\\"index\\\"]()) ? (this.valueFromJulia[\\\"index\\\"]=true, this.model[\\\"index\\\"](val)) : undefined})\"]},\"systemjs_options\":null,\"mount_callbacks\":[\"function () {\\n    var handler = (function (ko, koPunches) {\\n    ko.punches.enableAll();\\n    ko.bindingHandlers.numericValue = {\\n        init: function(element, valueAccessor, allBindings, data, context) {\\n            var stringified = ko.observable(ko.unwrap(valueAccessor()));\\n            stringified.subscribe(function(value) {\\n                var val = parseFloat(value);\\n                if (!isNaN(val)) {\\n                    valueAccessor()(val);\\n                }\\n            });\\n            valueAccessor().subscribe(function(value) {\\n                var str = JSON.stringify(value);\\n                if ((str == \\\"0\\\") && ([\\\"-0\\\", \\\"-0.\\\"].indexOf(stringified()) >= 0))\\n                     return;\\n                 if ([\\\"null\\\", \\\"\\\"].indexOf(str) >= 0)\\n                     return;\\n                stringified(str);\\n            });\\n            ko.applyBindingsToNode(\\n                element,\\n                {\\n                    value: stringified,\\n                    valueUpdate: allBindings.get('valueUpdate'),\\n                },\\n                context,\\n            );\\n        }\\n    };\\n    var json_data = {\\\"options_js\\\":WebIO.getval({\\\"name\\\":\\\"options_js\\\",\\\"scope\\\":\\\"15200369884050932124\\\",\\\"id\\\":\\\"ob_05\\\",\\\"type\\\":\\\"observable\\\"}),\\\"index\\\":WebIO.getval({\\\"name\\\":\\\"index\\\",\\\"scope\\\":\\\"15200369884050932124\\\",\\\"id\\\":\\\"ob_04\\\",\\\"type\\\":\\\"observable\\\"})};\\n    var self = this;\\n    function AppViewModel() {\\n        for (var key in json_data) {\\n            var el = json_data[key];\\n            this[key] = Array.isArray(el) ? ko.observableArray(el) : ko.observable(el);\\n        }\\n        [this[\\\"update\\\"]=function (val) {this.index(val)}]\\n        \\n        [this[\\\"options_js\\\"].subscribe((function (val){!(this.valueFromJulia[\\\"options_js\\\"]) ? (WebIO.setval({\\\"name\\\":\\\"options_js\\\",\\\"scope\\\":\\\"15200369884050932124\\\",\\\"id\\\":\\\"ob_05\\\",\\\"type\\\":\\\"observable\\\"},val)) : undefined; return this.valueFromJulia[\\\"options_js\\\"]=false}),self),this[\\\"index\\\"].subscribe((function (val){!(this.valueFromJulia[\\\"index\\\"]) ? (WebIO.setval({\\\"name\\\":\\\"index\\\",\\\"scope\\\":\\\"15200369884050932124\\\",\\\"id\\\":\\\"ob_04\\\",\\\"type\\\":\\\"observable\\\"},val)) : undefined; return this.valueFromJulia[\\\"index\\\"]=false}),self)]\\n        \\n    }\\n    self.model = new AppViewModel();\\n    self.valueFromJulia = {};\\n    for (var key in json_data) {\\n        self.valueFromJulia[key] = false;\\n    }\\n    ko.applyBindings(self.model, self.dom);\\n}\\n);\\n    (WebIO.importBlock({\\\"data\\\":[{\\\"name\\\":\\\"knockout\\\",\\\"type\\\":\\\"js\\\",\\\"url\\\":\\\"\\/assetserver\\/138fa309f919ec7484ebc55e3091f379f47cc424-knockout.js\\\"},{\\\"name\\\":\\\"knockout_punches\\\",\\\"type\\\":\\\"js\\\",\\\"url\\\":\\\"\\/assetserver\\/620d29c2d3531d56ec3a1d8a13d747afffb44410-knockout_punches.js\\\"}],\\\"type\\\":\\\"async_block\\\"})).then((imports) => handler.apply(this, imports));\\n}\\n\"],\"observables\":{\"options_js\":{\"sync\":false,\"id\":\"ob_05\",\"value\":[{\"key\":\"Normal{Float64}(μ=0.0, σ=1.0)\",\"val\":1,\"id\":\"idU0o0PfxL\"},{\"key\":\"Uniform{Float64}(a=0.0, b=1.0)\",\"val\":2,\"id\":\"id8Ql0GwM6\"},{\"key\":\"Gamma{Float64}(α=5.0, θ=3.0)\",\"val\":3,\"id\":\"idNizY7wo1\"},{\"key\":\"Beta{Float64}(α=6.0, β=3.0)\",\"val\":4,\"id\":\"id2A8PMfBU\"},{\"key\":\"Exponential{Float64}(θ=1.0)\",\"val\":5,\"id\":\"id84dw28cp\"}]},\"index\":{\"sync\":true,\"id\":\"ob_04\",\"value\":1}}},\"children\":[{\"props\":{\"className\":\"interact-flex-row interact-widget\"},\"nodeType\":\"DOM\",\"type\":\"node\",\"instanceArgs\":{\"namespace\":\"html\",\"tag\":\"div\"},\"children\":[{\"props\":{\"className\":\"interact-flex-row-left\"},\"nodeType\":\"DOM\",\"type\":\"node\",\"instanceArgs\":{\"namespace\":\"html\",\"tag\":\"div\"},\"children\":[{\"props\":{\"className\":\"interact \",\"style\":{\"padding\":\"5px 10px 0px 10px\"}},\"nodeType\":\"DOM\",\"type\":\"node\",\"instanceArgs\":{\"namespace\":\"html\",\"tag\":\"label\"},\"children\":[\"d\"]}]},{\"props\":{\"className\":\"interact-flex-row-center\"},\"nodeType\":\"DOM\",\"type\":\"node\",\"instanceArgs\":{\"namespace\":\"html\",\"tag\":\"div\"},\"children\":[{\"props\":{\"attributes\":{\"data-bind\":\"foreach : options_js\"},\"className\":\"buttons has-addons is-centered\"},\"nodeType\":\"DOM\",\"type\":\"node\",\"instanceArgs\":{\"namespace\":\"html\",\"tag\":\"div\"},\"children\":[{\"props\":{\"attributes\":{\"data-bind\":\"click: function (){$root.update(val)}, css: {'is-primary is-selected' : $root.index() == val, 'interact-widget is-medium button ' : true}\"}},\"nodeType\":\"DOM\",\"type\":\"node\",\"instanceArgs\":{\"namespace\":\"html\",\"tag\":\"span\"},\"children\":[{\"props\":{\"attributes\":{\"data-bind\":\"text : key\"}},\"nodeType\":\"DOM\",\"type\":\"node\",\"instanceArgs\":{\"namespace\":\"html\",\"tag\":\"label\"},\"children\":[]}]}]}]},{\"props\":{\"className\":\"interact-flex-row-right\"},\"nodeType\":\"DOM\",\"type\":\"node\",\"instanceArgs\":{\"namespace\":\"html\",\"tag\":\"div\"},\"children\":[{\"props\":{},\"nodeType\":\"DOM\",\"type\":\"node\",\"instanceArgs\":{\"namespace\":\"html\",\"tag\":\"div\"},\"children\":[]}]}]}]}]},{\"props\":{\"className\":\"field interact-widget\"},\"nodeType\":\"DOM\",\"type\":\"node\",\"instanceArgs\":{\"namespace\":\"html\",\"tag\":\"div\"},\"children\":[{\"props\":{},\"nodeType\":\"Scope\",\"type\":\"node\",\"instanceArgs\":{\"imports\":{\"data\":[{\"name\":\"knockout\",\"type\":\"js\",\"url\":\"\\/assetserver\\/138fa309f919ec7484ebc55e3091f379f47cc424-knockout.js\"},{\"name\":\"knockout_punches\",\"type\":\"js\",\"url\":\"\\/assetserver\\/620d29c2d3531d56ec3a1d8a13d747afffb44410-knockout_punches.js\"},{\"name\":null,\"type\":\"js\",\"url\":\"\\/assetserver\\/57e29df20789a576b69ae2f70e2711fac6716a39-all.js\"},{\"name\":null,\"type\":\"css\",\"url\":\"\\/assetserver\\/417d90e06c0658278ea1ef32551ed090a57a1491-style.css\"},{\"name\":null,\"type\":\"css\",\"url\":\"\\/assetserver\\/1f5a763355fa31c38c9cab232bda0758d9a22c0d-bulma_confined.min.css\"}],\"type\":\"async_block\"},\"id\":\"16308536912995460682\",\"handlers\":{\"changes\":[\"(function (val){return (val!=this.model[\\\"changes\\\"]()) ? (this.valueFromJulia[\\\"changes\\\"]=true, this.model[\\\"changes\\\"](val)) : undefined})\"],\"index\":[\"(function (val){return (val!=this.model[\\\"index\\\"]()) ? (this.valueFromJulia[\\\"index\\\"]=true, this.model[\\\"index\\\"](val)) : undefined})\"]},\"systemjs_options\":null,\"mount_callbacks\":[\"function () {\\n    var handler = (function (ko, koPunches) {\\n    ko.punches.enableAll();\\n    ko.bindingHandlers.numericValue = {\\n        init: function(element, valueAccessor, allBindings, data, context) {\\n            var stringified = ko.observable(ko.unwrap(valueAccessor()));\\n            stringified.subscribe(function(value) {\\n                var val = parseFloat(value);\\n                if (!isNaN(val)) {\\n                    valueAccessor()(val);\\n                }\\n            });\\n            valueAccessor().subscribe(function(value) {\\n                var str = JSON.stringify(value);\\n                if ((str == \\\"0\\\") && ([\\\"-0\\\", \\\"-0.\\\"].indexOf(stringified()) >= 0))\\n                     return;\\n                 if ([\\\"null\\\", \\\"\\\"].indexOf(str) >= 0)\\n                     return;\\n                stringified(str);\\n            });\\n            ko.applyBindingsToNode(\\n                element,\\n                {\\n                    value: stringified,\\n                    valueUpdate: allBindings.get('valueUpdate'),\\n                },\\n                context,\\n            );\\n        }\\n    };\\n    var json_data = {\\\"formatted_vals\\\":[\\\"0.01\\\",\\\"0.03\\\",\\\"0.05\\\",\\\"0.07\\\",\\\"0.09\\\",\\\"0.11\\\",\\\"0.13\\\",\\\"0.15\\\",\\\"0.17\\\",\\\"0.19\\\",\\\"0.21\\\",\\\"0.23\\\",\\\"0.25\\\",\\\"0.27\\\",\\\"0.29\\\",\\\"0.31\\\",\\\"0.33\\\",\\\"0.35\\\",\\\"0.37\\\",\\\"0.39\\\",\\\"0.41\\\",\\\"0.43\\\",\\\"0.45\\\",\\\"0.47\\\",\\\"0.49\\\",\\\"0.51\\\",\\\"0.53\\\",\\\"0.55\\\",\\\"0.57\\\",\\\"0.59\\\",\\\"0.61\\\",\\\"0.63\\\",\\\"0.65\\\",\\\"0.67\\\",\\\"0.69\\\",\\\"0.71\\\",\\\"0.73\\\",\\\"0.75\\\",\\\"0.77\\\",\\\"0.79\\\",\\\"0.81\\\",\\\"0.83\\\",\\\"0.85\\\",\\\"0.87\\\",\\\"0.89\\\",\\\"0.91\\\",\\\"0.93\\\",\\\"0.95\\\",\\\"0.97\\\",\\\"0.99\\\"],\\\"changes\\\":WebIO.getval({\\\"name\\\":\\\"changes\\\",\\\"scope\\\":\\\"16308536912995460682\\\",\\\"id\\\":\\\"ob_08\\\",\\\"type\\\":\\\"observable\\\"}),\\\"index\\\":WebIO.getval({\\\"name\\\":\\\"index\\\",\\\"scope\\\":\\\"16308536912995460682\\\",\\\"id\\\":\\\"ob_07\\\",\\\"type\\\":\\\"observable\\\"})};\\n    var self = this;\\n    function AppViewModel() {\\n        for (var key in json_data) {\\n            var el = json_data[key];\\n            this[key] = Array.isArray(el) ? ko.observableArray(el) : ko.observable(el);\\n        }\\n        \\n        [this[\\\"formatted_val\\\"]=ko.computed(    function(){\\n        return this.formatted_vals()[parseInt(this.index())-(1)];\\n    }\\n,this)]\\n        [this[\\\"changes\\\"].subscribe((function (val){!(this.valueFromJulia[\\\"changes\\\"]) ? (WebIO.setval({\\\"name\\\":\\\"changes\\\",\\\"scope\\\":\\\"16308536912995460682\\\",\\\"id\\\":\\\"ob_08\\\",\\\"type\\\":\\\"observable\\\"},val)) : undefined; return this.valueFromJulia[\\\"changes\\\"]=false}),self),this[\\\"index\\\"].subscribe((function (val){!(this.valueFromJulia[\\\"index\\\"]) ? (WebIO.setval({\\\"name\\\":\\\"index\\\",\\\"scope\\\":\\\"16308536912995460682\\\",\\\"id\\\":\\\"ob_07\\\",\\\"type\\\":\\\"observable\\\"},val)) : undefined; return this.valueFromJulia[\\\"index\\\"]=false}),self)]\\n        \\n    }\\n    self.model = new AppViewModel();\\n    self.valueFromJulia = {};\\n    for (var key in json_data) {\\n        self.valueFromJulia[key] = false;\\n    }\\n    ko.applyBindings(self.model, self.dom);\\n}\\n);\\n    (WebIO.importBlock({\\\"data\\\":[{\\\"name\\\":\\\"knockout\\\",\\\"type\\\":\\\"js\\\",\\\"url\\\":\\\"\\/assetserver\\/138fa309f919ec7484ebc55e3091f379f47cc424-knockout.js\\\"},{\\\"name\\\":\\\"knockout_punches\\\",\\\"type\\\":\\\"js\\\",\\\"url\\\":\\\"\\/assetserver\\/620d29c2d3531d56ec3a1d8a13d747afffb44410-knockout_punches.js\\\"}],\\\"type\\\":\\\"async_block\\\"})).then((imports) => handler.apply(this, imports));\\n}\\n\"],\"observables\":{\"changes\":{\"sync\":false,\"id\":\"ob_08\",\"value\":0},\"index\":{\"sync\":true,\"id\":\"ob_07\",\"value\":25}}},\"children\":[{\"props\":{\"className\":\"interact-flex-row interact-widget\"},\"nodeType\":\"DOM\",\"type\":\"node\",\"instanceArgs\":{\"namespace\":\"html\",\"tag\":\"div\"},\"children\":[{\"props\":{\"className\":\"interact-flex-row-left\"},\"nodeType\":\"DOM\",\"type\":\"node\",\"instanceArgs\":{\"namespace\":\"html\",\"tag\":\"div\"},\"children\":[{\"props\":{\"className\":\"interact \",\"style\":{\"padding\":\"5px 10px 0px 10px\"}},\"nodeType\":\"DOM\",\"type\":\"node\",\"instanceArgs\":{\"namespace\":\"html\",\"tag\":\"label\"},\"children\":[\"q\"]}]},{\"props\":{\"className\":\"interact-flex-row-center\"},\"nodeType\":\"DOM\",\"type\":\"node\",\"instanceArgs\":{\"namespace\":\"html\",\"tag\":\"div\"},\"children\":[{\"props\":{\"max\":50,\"min\":1,\"attributes\":{\"type\":\"range\",\"data-bind\":\"numericValue: index, valueUpdate: 'input', event: {change: function (){this.changes(this.changes()+1)}}\",\"orient\":\"horizontal\"},\"step\":1,\"className\":\"slider slider is-fullwidth\",\"style\":{}},\"nodeType\":\"DOM\",\"type\":\"node\",\"instanceArgs\":{\"namespace\":\"html\",\"tag\":\"input\"},\"children\":[]}]},{\"props\":{\"className\":\"interact-flex-row-right\"},\"nodeType\":\"DOM\",\"type\":\"node\",\"instanceArgs\":{\"namespace\":\"html\",\"tag\":\"div\"},\"children\":[{\"props\":{\"attributes\":{\"data-bind\":\"text: formatted_val\"}},\"nodeType\":\"DOM\",\"type\":\"node\",\"instanceArgs\":{\"namespace\":\"html\",\"tag\":\"p\"},\"children\":[]}]}]}]}]},{\"props\":{},\"nodeType\":\"Scope\",\"type\":\"node\",\"instanceArgs\":{\"imports\":{\"data\":[],\"type\":\"async_block\"},\"id\":\"12750894080760351990\",\"handlers\":{},\"systemjs_options\":null,\"mount_callbacks\":[],\"observables\":{\"obs-node\":{\"sync\":false,\"id\":\"ob_12\",\"value\":{\"props\":{\"className\":\"interact-flex-row interact-widget\"},\"nodeType\":\"DOM\",\"type\":\"node\",\"instanceArgs\":{\"namespace\":\"html\",\"tag\":\"div\"},\"children\":[{\"props\":{\"setInnerHtml\":\"<?xml version=\\\"1.0\\\" encoding=\\\"utf-8\\\"?>\\n<svg xmlns=\\\"http:\\/\\/www.w3.org\\/2000\\/svg\\\" xmlns:xlink=\\\"http:\\/\\/www.w3.org\\/1999\\/xlink\\\" width=\\\"600\\\" height=\\\"400\\\" viewBox=\\\"0 0 2400 1600\\\">\\n<defs>\\n  <clipPath id=\\\"clip8700\\\">\\n    <rect x=\\\"0\\\" y=\\\"0\\\" width=\\\"2400\\\" height=\\\"1600\\\"\\/>\\n  <\\/clipPath>\\n<\\/defs>\\n<polygon clip-path=\\\"url(#clip8700)\\\" points=\\\"\\n0,1600 2400,1600 2400,0 0,0 \\n  \\\" fill=\\\"#ffffff\\\" fill-rule=\\\"evenodd\\\" fill-opacity=\\\"1\\\"\\/>\\n<defs>\\n  <clipPath id=\\\"clip8701\\\">\\n    <rect x=\\\"480\\\" y=\\\"0\\\" width=\\\"1681\\\" height=\\\"1600\\\"\\/>\\n  <\\/clipPath>\\n<\\/defs>\\n<polygon clip-path=\\\"url(#clip8700)\\\" points=\\\"\\n153.898,1487.47 2352.76,1487.47 2352.76,47.2441 153.898,47.2441 \\n  \\\" fill=\\\"#ffffff\\\" fill-rule=\\\"evenodd\\\" fill-opacity=\\\"1\\\"\\/>\\n<defs>\\n  <clipPath id=\\\"clip8702\\\">\\n    <rect x=\\\"153\\\" y=\\\"47\\\" width=\\\"2200\\\" height=\\\"1441\\\"\\/>\\n  <\\/clipPath>\\n<\\/defs>\\n<polyline clip-path=\\\"url(#clip8702)\\\" style=\\\"stroke:#000000; stroke-width:2; stroke-opacity:0.1; fill:none\\\" points=\\\"\\n  408.691,1487.47 408.691,47.2441 \\n  \\\"\\/>\\n<polyline clip-path=\\\"url(#clip8702)\\\" style=\\\"stroke:#000000; stroke-width:2; stroke-opacity:0.1; fill:none\\\" points=\\\"\\n  690.751,1487.47 690.751,47.2441 \\n  \\\"\\/>\\n<polyline clip-path=\\\"url(#clip8702)\\\" style=\\\"stroke:#000000; stroke-width:2; stroke-opacity:0.1; fill:none\\\" points=\\\"\\n  972.811,1487.47 972.811,47.2441 \\n  \\\"\\/>\\n<polyline clip-path=\\\"url(#clip8702)\\\" style=\\\"stroke:#000000; stroke-width:2; stroke-opacity:0.1; fill:none\\\" points=\\\"\\n  1254.87,1487.47 1254.87,47.2441 \\n  \\\"\\/>\\n<polyline clip-path=\\\"url(#clip8702)\\\" style=\\\"stroke:#000000; stroke-width:2; stroke-opacity:0.1; fill:none\\\" points=\\\"\\n  1536.93,1487.47 1536.93,47.2441 \\n  \\\"\\/>\\n<polyline clip-path=\\\"url(#clip8702)\\\" style=\\\"stroke:#000000; stroke-width:2; stroke-opacity:0.1; fill:none\\\" points=\\\"\\n  1818.99,1487.47 1818.99,47.2441 \\n  \\\"\\/>\\n<polyline clip-path=\\\"url(#clip8702)\\\" style=\\\"stroke:#000000; stroke-width:2; stroke-opacity:0.1; fill:none\\\" points=\\\"\\n  2101.05,1487.47 2101.05,47.2441 \\n  \\\"\\/>\\n<polyline clip-path=\\\"url(#clip8702)\\\" style=\\\"stroke:#000000; stroke-width:2; stroke-opacity:0.1; fill:none\\\" points=\\\"\\n  153.898,1448.26 2352.76,1448.26 \\n  \\\"\\/>\\n<polyline clip-path=\\\"url(#clip8702)\\\" style=\\\"stroke:#000000; stroke-width:2; stroke-opacity:0.1; fill:none\\\" points=\\\"\\n  153.898,1107.24 2352.76,1107.24 \\n  \\\"\\/>\\n<polyline clip-path=\\\"url(#clip8702)\\\" style=\\\"stroke:#000000; stroke-width:2; stroke-opacity:0.1; fill:none\\\" points=\\\"\\n  153.898,766.213 2352.76,766.213 \\n  \\\"\\/>\\n<polyline clip-path=\\\"url(#clip8702)\\\" style=\\\"stroke:#000000; stroke-width:2; stroke-opacity:0.1; fill:none\\\" points=\\\"\\n  153.898,425.191 2352.76,425.191 \\n  \\\"\\/>\\n<polyline clip-path=\\\"url(#clip8702)\\\" style=\\\"stroke:#000000; stroke-width:2; stroke-opacity:0.1; fill:none\\\" points=\\\"\\n  153.898,84.1691 2352.76,84.1691 \\n  \\\"\\/>\\n<polyline clip-path=\\\"url(#clip8700)\\\" style=\\\"stroke:#000000; stroke-width:4; stroke-opacity:1; fill:none\\\" points=\\\"\\n  153.898,1487.47 2352.76,1487.47 \\n  \\\"\\/>\\n<polyline clip-path=\\\"url(#clip8700)\\\" style=\\\"stroke:#000000; stroke-width:4; stroke-opacity:1; fill:none\\\" points=\\\"\\n  153.898,1487.47 153.898,47.2441 \\n  \\\"\\/>\\n<polyline clip-path=\\\"url(#clip8700)\\\" style=\\\"stroke:#000000; stroke-width:4; stroke-opacity:1; fill:none\\\" points=\\\"\\n  408.691,1487.47 408.691,1465.87 \\n  \\\"\\/>\\n<polyline clip-path=\\\"url(#clip8700)\\\" style=\\\"stroke:#000000; stroke-width:4; stroke-opacity:1; fill:none\\\" points=\\\"\\n  690.751,1487.47 690.751,1465.87 \\n  \\\"\\/>\\n<polyline clip-path=\\\"url(#clip8700)\\\" style=\\\"stroke:#000000; stroke-width:4; stroke-opacity:1; fill:none\\\" points=\\\"\\n  972.811,1487.47 972.811,1465.87 \\n  \\\"\\/>\\n<polyline clip-path=\\\"url(#clip8700)\\\" style=\\\"stroke:#000000; stroke-width:4; stroke-opacity:1; fill:none\\\" points=\\\"\\n  1254.87,1487.47 1254.87,1465.87 \\n  \\\"\\/>\\n<polyline clip-path=\\\"url(#clip8700)\\\" style=\\\"stroke:#000000; stroke-width:4; stroke-opacity:1; fill:none\\\" points=\\\"\\n  1536.93,1487.47 1536.93,1465.87 \\n  \\\"\\/>\\n<polyline clip-path=\\\"url(#clip8700)\\\" style=\\\"stroke:#000000; stroke-width:4; stroke-opacity:1; fill:none\\\" points=\\\"\\n  1818.99,1487.47 1818.99,1465.87 \\n  \\\"\\/>\\n<polyline clip-path=\\\"url(#clip8700)\\\" style=\\\"stroke:#000000; stroke-width:4; stroke-opacity:1; fill:none\\\" points=\\\"\\n  2101.05,1487.47 2101.05,1465.87 \\n  \\\"\\/>\\n<polyline clip-path=\\\"url(#clip8700)\\\" style=\\\"stroke:#000000; stroke-width:4; stroke-opacity:1; fill:none\\\" points=\\\"\\n  153.898,1448.26 186.881,1448.26 \\n  \\\"\\/>\\n<polyline clip-path=\\\"url(#clip8700)\\\" style=\\\"stroke:#000000; stroke-width:4; stroke-opacity:1; fill:none\\\" points=\\\"\\n  153.898,1107.24 186.881,1107.24 \\n  \\\"\\/>\\n<polyline clip-path=\\\"url(#clip8700)\\\" style=\\\"stroke:#000000; stroke-width:4; stroke-opacity:1; fill:none\\\" points=\\\"\\n  153.898,766.213 186.881,766.213 \\n  \\\"\\/>\\n<polyline clip-path=\\\"url(#clip8700)\\\" style=\\\"stroke:#000000; stroke-width:4; stroke-opacity:1; fill:none\\\" points=\\\"\\n  153.898,425.191 186.881,425.191 \\n  \\\"\\/>\\n<polyline clip-path=\\\"url(#clip8700)\\\" style=\\\"stroke:#000000; stroke-width:4; stroke-opacity:1; fill:none\\\" points=\\\"\\n  153.898,84.1691 186.881,84.1691 \\n  \\\"\\/>\\n<g clip-path=\\\"url(#clip8700)\\\">\\n<text style=\\\"fill:#000000; fill-opacity:1; font-family:Arial,Helvetica Neue,Helvetica,sans-serif; font-size:48px; text-anchor:middle;\\\" transform=\\\"rotate(0, 408.691, 1541.47)\\\" x=\\\"408.691\\\" y=\\\"1541.47\\\">-3<\\/text>\\n<\\/g>\\n<g clip-path=\\\"url(#clip8700)\\\">\\n<text style=\\\"fill:#000000; fill-opacity:1; font-family:Arial,Helvetica Neue,Helvetica,sans-serif; font-size:48px; text-anchor:middle;\\\" transform=\\\"rotate(0, 690.751, 1541.47)\\\" x=\\\"690.751\\\" y=\\\"1541.47\\\">-2<\\/text>\\n<\\/g>\\n<g clip-path=\\\"url(#clip8700)\\\">\\n<text style=\\\"fill:#000000; fill-opacity:1; font-family:Arial,Helvetica Neue,Helvetica,sans-serif; font-size:48px; text-anchor:middle;\\\" transform=\\\"rotate(0, 972.811, 1541.47)\\\" x=\\\"972.811\\\" y=\\\"1541.47\\\">-1<\\/text>\\n<\\/g>\\n<g clip-path=\\\"url(#clip8700)\\\">\\n<text style=\\\"fill:#000000; fill-opacity:1; font-family:Arial,Helvetica Neue,Helvetica,sans-serif; font-size:48px; text-anchor:middle;\\\" transform=\\\"rotate(0, 1254.87, 1541.47)\\\" x=\\\"1254.87\\\" y=\\\"1541.47\\\">0<\\/text>\\n<\\/g>\\n<g clip-path=\\\"url(#clip8700)\\\">\\n<text style=\\\"fill:#000000; fill-opacity:1; font-family:Arial,Helvetica Neue,Helvetica,sans-serif; font-size:48px; text-anchor:middle;\\\" transform=\\\"rotate(0, 1536.93, 1541.47)\\\" x=\\\"1536.93\\\" y=\\\"1541.47\\\">1<\\/text>\\n<\\/g>\\n<g clip-path=\\\"url(#clip8700)\\\">\\n<text style=\\\"fill:#000000; fill-opacity:1; font-family:Arial,Helvetica Neue,Helvetica,sans-serif; font-size:48px; text-anchor:middle;\\\" transform=\\\"rotate(0, 1818.99, 1541.47)\\\" x=\\\"1818.99\\\" y=\\\"1541.47\\\">2<\\/text>\\n<\\/g>\\n<g clip-path=\\\"url(#clip8700)\\\">\\n<text style=\\\"fill:#000000; fill-opacity:1; font-family:Arial,Helvetica Neue,Helvetica,sans-serif; font-size:48px; text-anchor:middle;\\\" transform=\\\"rotate(0, 2101.05, 1541.47)\\\" x=\\\"2101.05\\\" y=\\\"1541.47\\\">3<\\/text>\\n<\\/g>\\n<g clip-path=\\\"url(#clip8700)\\\">\\n<text style=\\\"fill:#000000; fill-opacity:1; font-family:Arial,Helvetica Neue,Helvetica,sans-serif; font-size:48px; text-anchor:end;\\\" transform=\\\"rotate(0, 129.898, 1465.76)\\\" x=\\\"129.898\\\" y=\\\"1465.76\\\">0.0<\\/text>\\n<\\/g>\\n<g clip-path=\\\"url(#clip8700)\\\">\\n<text style=\\\"fill:#000000; fill-opacity:1; font-family:Arial,Helvetica Neue,Helvetica,sans-serif; font-size:48px; text-anchor:end;\\\" transform=\\\"rotate(0, 129.898, 1124.74)\\\" x=\\\"129.898\\\" y=\\\"1124.74\\\">0.1<\\/text>\\n<\\/g>\\n<g clip-path=\\\"url(#clip8700)\\\">\\n<text style=\\\"fill:#000000; fill-opacity:1; font-family:Arial,Helvetica Neue,Helvetica,sans-serif; font-size:48px; text-anchor:end;\\\" transform=\\\"rotate(0, 129.898, 783.713)\\\" x=\\\"129.898\\\" y=\\\"783.713\\\">0.2<\\/text>\\n<\\/g>\\n<g clip-path=\\\"url(#clip8700)\\\">\\n<text style=\\\"fill:#000000; fill-opacity:1; font-family:Arial,Helvetica Neue,Helvetica,sans-serif; font-size:48px; text-anchor:end;\\\" transform=\\\"rotate(0, 129.898, 442.691)\\\" x=\\\"129.898\\\" y=\\\"442.691\\\">0.3<\\/text>\\n<\\/g>\\n<g clip-path=\\\"url(#clip8700)\\\">\\n<text style=\\\"fill:#000000; fill-opacity:1; font-family:Arial,Helvetica Neue,Helvetica,sans-serif; font-size:48px; text-anchor:end;\\\" transform=\\\"rotate(0, 129.898, 101.669)\\\" x=\\\"129.898\\\" y=\\\"101.669\\\">0.4<\\/text>\\n<\\/g>\\n<polyline clip-path=\\\"url(#clip8702)\\\" style=\\\"stroke:#009af9; stroke-width:4; stroke-opacity:1; fill:none\\\" points=\\\"\\n  216.13,1446.71 226.374,1446.49 321.096,1442.58 415.819,1431.96 472.743,1419.15 529.667,1398.34 577.796,1371.97 625.925,1335.02 652.065,1309.62 678.206,1279.97 \\n  704.347,1245.74 730.487,1206.62 754.587,1166.06 778.686,1121.08 802.785,1071.69 826.885,1017.99 878.559,889.561 930.233,746.74 990.102,572.562 1049.97,403.293 \\n  1076.57,334.155 1103.18,270.962 1129.78,215.201 1156.38,168.237 1179.71,135.231 1203.04,110.555 1226.37,94.7059 1249.69,88.0053 1275.13,91.2801 1300.56,105.509 \\n  1325.99,130.349 1351.43,165.204 1377.01,209.539 1402.6,262.142 1428.18,321.818 1453.77,387.257 1510.34,545.537 1566.92,710.492 1620.75,861.693 1674.58,998.587 \\n  1702.56,1062.21 1730.55,1120.08 1758.53,1172.01 1786.52,1217.99 1833.63,1282.52 1880.75,1332.24 1938.27,1375.99 1995.79,1405.07 2049.86,1422.63 2103.94,1433.6 \\n  2190.56,1442.71 2277.19,1446.35 2290.52,1446.65 \\n  \\\"\\/>\\n<polyline clip-path=\\\"url(#clip8702)\\\" style=\\\"stroke:#e26f46; stroke-width:16; stroke-opacity:1; fill:none\\\" stroke-dasharray=\\\"8, 16\\\" points=\\\"\\n  1247.8,145511 1247.8,-143976 \\n  \\\"\\/>\\n<polyline clip-path=\\\"url(#clip8702)\\\" style=\\\"stroke:#000000; stroke-width:4; stroke-opacity:1; fill:none\\\" points=\\\"\\n  1247.8,145511 1247.8,-143976 \\n  \\\"\\/>\\n<polygon clip-path=\\\"url(#clip8700)\\\" points=\\\"\\n1547.1,372.684 2280.76,372.684 2280.76,130.764 1547.1,130.764 \\n  \\\" fill=\\\"#ffffff\\\" fill-rule=\\\"evenodd\\\" fill-opacity=\\\"1\\\"\\/>\\n<polyline clip-path=\\\"url(#clip8700)\\\" style=\\\"stroke:#000000; stroke-width:4; stroke-opacity:1; fill:none\\\" points=\\\"\\n  1547.1,372.684 2280.76,372.684 2280.76,130.764 1547.1,130.764 1547.1,372.684 \\n  \\\"\\/>\\n<polyline clip-path=\\\"url(#clip8700)\\\" style=\\\"stroke:#009af9; stroke-width:4; stroke-opacity:1; fill:none\\\" points=\\\"\\n  1571.1,191.244 1715.1,191.244 \\n  \\\"\\/>\\n<g clip-path=\\\"url(#clip8700)\\\">\\n<text style=\\\"fill:#000000; fill-opacity:1; font-family:Arial,Helvetica Neue,Helvetica,sans-serif; font-size:48px; text-anchor:start;\\\" transform=\\\"rotate(0, 1739.1, 208.744)\\\" x=\\\"1739.1\\\" y=\\\"208.744\\\">y1<\\/text>\\n<\\/g>\\n<polyline clip-path=\\\"url(#clip8700)\\\" style=\\\"stroke:#e26f46; stroke-width:16; stroke-opacity:1; fill:none\\\" stroke-dasharray=\\\"8, 16\\\" points=\\\"\\n  1571.1,251.724 1715.1,251.724 \\n  \\\"\\/>\\n<g clip-path=\\\"url(#clip8700)\\\">\\n<text style=\\\"fill:#000000; fill-opacity:1; font-family:Arial,Helvetica Neue,Helvetica,sans-serif; font-size:48px; text-anchor:start;\\\" transform=\\\"rotate(0, 1739.1, 269.224)\\\" x=\\\"1739.1\\\" y=\\\"269.224\\\">My Function: -0.0251<\\/text>\\n<\\/g>\\n<polyline clip-path=\\\"url(#clip8700)\\\" style=\\\"stroke:#000000; stroke-width:4; stroke-opacity:1; fill:none\\\" points=\\\"\\n  1571.1,312.204 1715.1,312.204 \\n  \\\"\\/>\\n<g clip-path=\\\"url(#clip8700)\\\">\\n<text style=\\\"fill:#000000; fill-opacity:1; font-family:Arial,Helvetica Neue,Helvetica,sans-serif; font-size:48px; text-anchor:start;\\\" transform=\\\"rotate(0, 1739.1, 329.704)\\\" x=\\\"1739.1\\\" y=\\\"329.704\\\">True Quantile: -0.0251<\\/text>\\n<\\/g>\\n<\\/svg>\\n\"},\"nodeType\":\"DOM\",\"type\":\"node\",\"instanceArgs\":{\"namespace\":\"html\",\"tag\":\"div\"},\"children\":[]}]}}}},\"children\":[{\"props\":{},\"nodeType\":\"ObservableNode\",\"type\":\"node\",\"instanceArgs\":{\"id\":\"ob_12\",\"name\":\"obs-node\"},\"children\":[]}]}]},\n",
       "            window,\n",
       "        );\n",
       "    } else {\n",
       "        document\n",
       "            .querySelector('[data-webio-mountpoint=\"11489338228799983746\"]')\n",
       "            .innerHTML = (\n",
       "                '<strong>WebIO not detected. Please read ' +\n",
       "                '<a href=\"https://juliagizmos.github.io/WebIO.jl/latest/troubleshooting/not-detected/\">the troubleshooting guide</a> ' +\n",
       "                'for more information on how to resolve this issue.' +\n",
       "                '</strong>'\n",
       "            );\n",
       "    }\n",
       "    </script>\n",
       "</div>\n"
      ],
      "text/plain": [
       "Node{WebIO.DOM}(WebIO.DOM(:html, :div), Any[Node{WebIO.DOM}(WebIO.DOM(:html, :div), Any[Scope(Node{WebIO.DOM}(WebIO.DOM(:html, :div), Any[Node{WebIO.DOM}(WebIO.DOM(:html, :div), Any[Node{WebIO.DOM}(WebIO.DOM(:html, :label), Any[\"d\"], Dict{Symbol,Any}(:className => \"interact \",:style => Dict{Any,Any}(:padding => \"5px 10px 0px 10px\")))], Dict{Symbol,Any}(:className => \"interact-flex-row-left\")), Node{WebIO.DOM}(WebIO.DOM(:html, :div), Any[Node{WebIO.DOM}(WebIO.DOM(:html, :div), Any[Node{WebIO.DOM}(WebIO.DOM(:html, :span), Any[Node{WebIO.DOM}(WebIO.DOM(:html, :label), Any[], Dict{Symbol,Any}(:attributes => Dict(\"data-bind\" => \"text : key\")))], Dict{Symbol,Any}(:attributes => Dict(\"data-bind\" => \"click: function (){\\$root.update(val)}, css: {'is-primary is-selected' : \\$root.index() == val, 'interact-widget is-medium button ' : true}\")))], Dict{Symbol,Any}(:attributes => (\"data-bind\" => \"foreach : options_js\"),:className => \"buttons has-addons is-centered\"))], Dict{Symbol,Any}(:className => \"interact-flex-row-center\")), Node{WebIO.DOM}(WebIO.DOM(:html, :div), Any[Node{WebIO.DOM}(WebIO.DOM(:html, :div), Any[], Dict{Symbol,Any}())], Dict{Symbol,Any}(:className => \"interact-flex-row-right\"))], Dict{Symbol,Any}(:className => \"interact-flex-row interact-widget\")), Dict{String,Tuple{Observables.AbstractObservable,Union{Nothing, Bool}}}(\"options_js\" => (Observable{Any} with 1 listeners. Value:\n",
       "OrderedDict[OrderedDict{String,Any}(\"key\" => \"Normal{Float64}(μ=0.0, σ=1.0)\",\"val\" => 1,\"id\" => \"idU0o0PfxL\"), OrderedDict{String,Any}(\"key\" => \"Uniform{Float64}(a=0.0, b=1.0)\",\"val\" => 2,\"id\" => \"id8Ql0GwM6\"), OrderedDict{String,Any}(\"key\" => \"Gamma{Float64}(α=5.0, θ=3.0)\",\"val\" => 3,\"id\" => \"idNizY7wo1\"), OrderedDict{String,Any}(\"key\" => \"Beta{Float64}(α=6.0, β=3.0)\",\"val\" => 4,\"id\" => \"id2A8PMfBU\"), OrderedDict{String,Any}(\"key\" => \"Exponential{Float64}(θ=1.0)\",\"val\" => 5,\"id\" => \"id84dw28cp\")], nothing),\"index\" => (Observable{Any} with 2 listeners. Value:\n",
       "1, nothing)), Set(String[]), nothing, Asset[Asset(\"js\", \"knockout\", \"/Users/joshday/.julia/packages/Knockout/1sDlc/src/../assets/knockout.js\"), Asset(\"js\", \"knockout_punches\", \"/Users/joshday/.julia/packages/Knockout/1sDlc/src/../assets/knockout_punches.js\"), Asset(\"js\", nothing, \"/Users/joshday/.julia/packages/InteractBase/9mFwe/src/../assets/all.js\"), Asset(\"css\", nothing, \"/Users/joshday/.julia/packages/InteractBase/9mFwe/src/../assets/style.css\"), Asset(\"css\", nothing, \"/Users/joshday/.julia/packages/Interact/SbgIk/src/../assets/bulma_confined.min.css\")], Dict{Any,Any}(\"options_js\" => Any[WebIO.JSString(\"(function (val){return (val!=this.model[\\\"options_js\\\"]()) ? (this.valueFromJulia[\\\"options_js\\\"]=true, this.model[\\\"options_js\\\"](val)) : undefined})\")],\"index\" => Any[WebIO.JSString(\"(function (val){return (val!=this.model[\\\"index\\\"]()) ? (this.valueFromJulia[\\\"index\\\"]=true, this.model[\\\"index\\\"](val)) : undefined})\")]), WebIO.ConnectionPool(Channel{Any}(sz_max:32,sz_curr:0), Set(AbstractConnection[]), Base.GenericCondition{Base.AlwaysLockedST}(Base.InvasiveLinkedList{Task}(Task (runnable) @0x00000001267eed10, Task (runnable) @0x00000001267eed10), Base.AlwaysLockedST(1))), WebIO.JSString[WebIO.JSString(\"function () {\\n    var handler = (function (ko, koPunches) {\\n    ko.punches.enableAll();\\n    ko.bindingHandlers.numericValue = {\\n        init: function(element, valueAccessor, allBindings, data, context) {\\n            var stringified = ko.observable(ko.unwrap(valueAccessor()));\\n            stringified.subscribe(function(value) {\\n                var val = parseFloat(value);\\n                if (!isNaN(val)) {\\n                    valueAccessor()(val);\\n                }\\n            });\\n            valueAccessor().subscribe(function(value) {\\n                var str = JSON.stringify(value);\\n                if ((str == \\\"0\\\") && ([\\\"-0\\\", \\\"-0.\\\"].indexOf(stringified()) >= 0))\\n                     return;\\n                 if ([\\\"null\\\", \\\"\\\"].indexOf(str) >= 0)\\n                     return;\\n                stringified(str);\\n            });\\n            ko.applyBindingsToNode(\\n                element,\\n                {\\n                    value: stringified,\\n                    valueUpdate: allBindings.get('valueUpdate'),\\n                },\\n                context,\\n            );\\n        }\\n    };\\n    var json_data = {\\\"options_js\\\":WebIO.getval({\\\"name\\\":\\\"options_js\\\",\\\"scope\\\":\\\"15200369884050932124\\\",\\\"id\\\":\\\"ob_05\\\",\\\"type\\\":\\\"observable\\\"}),\\\"index\\\":WebIO.getval({\\\"name\\\":\\\"index\\\",\\\"scope\\\":\\\"15200369884050932124\\\",\\\"id\\\":\\\"ob_04\\\",\\\"type\\\":\\\"observable\\\"})};\\n    var self = this;\\n    function AppViewModel() {\\n        for (var key in json_data) {\\n            var el = json_data[key];\\n            this[key] = Array.isArray(el) ? ko.observableArray(el) : ko.observable(el);\\n        }\\n        [this[\\\"update\\\"]=function (val) {this.index(val)}]\\n        \\n        [this[\\\"options_js\\\"].subscribe((function (val){!(this.valueFromJulia[\\\"options_js\\\"]) ? (WebIO.setval({\\\"name\\\":\\\"options_js\\\",\\\"scope\\\":\\\"15200369884050932124\\\",\\\"id\\\":\\\"ob_05\\\",\\\"type\\\":\\\"observable\\\"},val)) : undefined; return this.valueFromJulia[\\\"options_js\\\"]=false}),self),this[\\\"index\\\"].subscribe((function (val){!(this.valueFromJulia[\\\"index\\\"]) ? (WebIO.setval({\\\"name\\\":\\\"index\\\",\\\"scope\\\":\\\"15200369884050932124\\\",\\\"id\\\":\\\"ob_04\\\",\\\"type\\\":\\\"observable\\\"},val)) : undefined; return this.valueFromJulia[\\\"index\\\"]=false}),self)]\\n        \\n    }\\n    self.model = new AppViewModel();\\n    self.valueFromJulia = {};\\n    for (var key in json_data) {\\n        self.valueFromJulia[key] = false;\\n    }\\n    ko.applyBindings(self.model, self.dom);\\n}\\n);\\n    (WebIO.importBlock({\\\"data\\\":[{\\\"name\\\":\\\"knockout\\\",\\\"type\\\":\\\"js\\\",\\\"url\\\":\\\"/assetserver/138fa309f919ec7484ebc55e3091f379f47cc424-knockout.js\\\"},{\\\"name\\\":\\\"knockout_punches\\\",\\\"type\\\":\\\"js\\\",\\\"url\\\":\\\"/assetserver/620d29c2d3531d56ec3a1d8a13d747afffb44410-knockout_punches.js\\\"}],\\\"type\\\":\\\"async_block\\\"})).then((imports) => handler.apply(this, imports));\\n}\\n\")])], Dict{Symbol,Any}(:className => \"interact-widget\")), Node{WebIO.DOM}(WebIO.DOM(:html, :div), Any[Scope(Node{WebIO.DOM}(WebIO.DOM(:html, :div), Any[Node{WebIO.DOM}(WebIO.DOM(:html, :div), Any[Node{WebIO.DOM}(WebIO.DOM(:html, :label), Any[\"q\"], Dict{Symbol,Any}(:className => \"interact \",:style => Dict{Any,Any}(:padding => \"5px 10px 0px 10px\")))], Dict{Symbol,Any}(:className => \"interact-flex-row-left\")), Node{WebIO.DOM}(WebIO.DOM(:html, :div), Any[Node{WebIO.DOM}(WebIO.DOM(:html, :input), Any[], Dict{Symbol,Any}(:max => 50,:min => 1,:attributes => Dict{Any,Any}(:type => \"range\",Symbol(\"data-bind\") => \"numericValue: index, valueUpdate: 'input', event: {change: function (){this.changes(this.changes()+1)}}\",\"orient\" => \"horizontal\"),:step => 1,:className => \"slider slider is-fullwidth\",:style => Dict{Any,Any}()))], Dict{Symbol,Any}(:className => \"interact-flex-row-center\")), Node{WebIO.DOM}(WebIO.DOM(:html, :div), Any[Node{WebIO.DOM}(WebIO.DOM(:html, :p), Any[], Dict{Symbol,Any}(:attributes => Dict(\"data-bind\" => \"text: formatted_val\")))], Dict{Symbol,Any}(:className => \"interact-flex-row-right\"))], Dict{Symbol,Any}(:className => \"interact-flex-row interact-widget\")), Dict{String,Tuple{Observables.AbstractObservable,Union{Nothing, Bool}}}(\"changes\" => (Observable{Int64} with 1 listeners. Value:\n",
       "0, nothing),\"index\" => (Observable{Any} with 2 listeners. Value:\n",
       "25, nothing)), Set(String[]), nothing, Asset[Asset(\"js\", \"knockout\", \"/Users/joshday/.julia/packages/Knockout/1sDlc/src/../assets/knockout.js\"), Asset(\"js\", \"knockout_punches\", \"/Users/joshday/.julia/packages/Knockout/1sDlc/src/../assets/knockout_punches.js\"), Asset(\"js\", nothing, \"/Users/joshday/.julia/packages/InteractBase/9mFwe/src/../assets/all.js\"), Asset(\"css\", nothing, \"/Users/joshday/.julia/packages/InteractBase/9mFwe/src/../assets/style.css\"), Asset(\"css\", nothing, \"/Users/joshday/.julia/packages/Interact/SbgIk/src/../assets/bulma_confined.min.css\")], Dict{Any,Any}(\"changes\" => Any[WebIO.JSString(\"(function (val){return (val!=this.model[\\\"changes\\\"]()) ? (this.valueFromJulia[\\\"changes\\\"]=true, this.model[\\\"changes\\\"](val)) : undefined})\")],\"index\" => Any[WebIO.JSString(\"(function (val){return (val!=this.model[\\\"index\\\"]()) ? (this.valueFromJulia[\\\"index\\\"]=true, this.model[\\\"index\\\"](val)) : undefined})\")]), WebIO.ConnectionPool(Channel{Any}(sz_max:32,sz_curr:0), Set(AbstractConnection[]), Base.GenericCondition{Base.AlwaysLockedST}(Base.InvasiveLinkedList{Task}(Task (runnable) @0x000000010fdf06d0, Task (runnable) @0x000000010fdf06d0), Base.AlwaysLockedST(1))), WebIO.JSString[WebIO.JSString(\"function () {\\n    var handler = (function (ko, koPunches) {\\n    ko.punches.enableAll();\\n    ko.bindingHandlers.numericValue = {\\n        init: function(element, valueAccessor, allBindings, data, context) {\\n            var stringified = ko.observable(ko.unwrap(valueAccessor()));\\n            stringified.subscribe(function(value) {\\n                var val = parseFloat(value);\\n                if (!isNaN(val)) {\\n                    valueAccessor()(val);\\n                }\\n            });\\n            valueAccessor().subscribe(function(value) {\\n                var str = JSON.stringify(value);\\n                if ((str == \\\"0\\\") && ([\\\"-0\\\", \\\"-0.\\\"].indexOf(stringified()) >= 0))\\n                     return;\\n                 if ([\\\"null\\\", \\\"\\\"].indexOf(str) >= 0)\\n                     return;\\n                stringified(str);\\n            });\\n            ko.applyBindingsToNode(\\n                element,\\n                {\\n                    value: stringified,\\n                    valueUpdate: allBindings.get('valueUpdate'),\\n                },\\n                context,\\n            );\\n        }\\n    };\\n    var json_data = {\\\"formatted_vals\\\":[\\\"0.01\\\",\\\"0.03\\\",\\\"0.05\\\",\\\"0.07\\\",\\\"0.09\\\",\\\"0.11\\\",\\\"0.13\\\",\\\"0.15\\\",\\\"0.17\\\",\\\"0.19\\\",\\\"0.21\\\",\\\"0.23\\\",\\\"0.25\\\",\\\"0.27\\\",\\\"0.29\\\",\\\"0.31\\\",\\\"0.33\\\",\\\"0.35\\\",\\\"0.37\\\",\\\"0.39\\\",\\\"0.41\\\",\\\"0.43\\\",\\\"0.45\\\",\\\"0.47\\\",\\\"0.49\\\",\\\"0.51\\\",\\\"0.53\\\",\\\"0.55\\\",\\\"0.57\\\",\\\"0.59\\\",\\\"0.61\\\",\\\"0.63\\\",\\\"0.65\\\",\\\"0.67\\\",\\\"0.69\\\",\\\"0.71\\\",\\\"0.73\\\",\\\"0.75\\\",\\\"0.77\\\",\\\"0.79\\\",\\\"0.81\\\",\\\"0.83\\\",\\\"0.85\\\",\\\"0.87\\\",\\\"0.89\\\",\\\"0.91\\\",\\\"0.93\\\",\\\"0.95\\\",\\\"0.97\\\",\\\"0.99\\\"],\\\"changes\\\":WebIO.getval({\\\"name\\\":\\\"changes\\\",\\\"scope\\\":\\\"16308536912995460682\\\",\\\"id\\\":\\\"ob_08\\\",\\\"type\\\":\\\"observable\\\"}),\\\"index\\\":WebIO.getval({\\\"name\\\":\\\"index\\\",\\\"scope\\\":\\\"16308536912995460682\\\",\\\"id\\\":\\\"ob_07\\\",\\\"type\\\":\\\"observable\\\"})};\\n    var self = this;\\n    function AppViewModel() {\\n        for (var key in json_data) {\\n            var el = json_data[key];\\n            this[key] = Array.isArray(el) ? ko.observableArray(el) : ko.observable(el);\\n        }\\n        \\n        [this[\\\"formatted_val\\\"]=ko.computed(    function(){\\n        return this.formatted_vals()[parseInt(this.index())-(1)];\\n    }\\n,this)]\\n        [this[\\\"changes\\\"].subscribe((function (val){!(this.valueFromJulia[\\\"changes\\\"]) ? (WebIO.setval({\\\"name\\\":\\\"changes\\\",\\\"scope\\\":\\\"16308536912995460682\\\",\\\"id\\\":\\\"ob_08\\\",\\\"type\\\":\\\"observable\\\"},val)) : undefined; return this.valueFromJulia[\\\"changes\\\"]=false}),self),this[\\\"index\\\"].subscribe((function (val){!(this.valueFromJulia[\\\"index\\\"]) ? (WebIO.setval({\\\"name\\\":\\\"index\\\",\\\"scope\\\":\\\"16308536912995460682\\\",\\\"id\\\":\\\"ob_07\\\",\\\"type\\\":\\\"observable\\\"},val)) : undefined; return this.valueFromJulia[\\\"index\\\"]=false}),self)]\\n        \\n    }\\n    self.model = new AppViewModel();\\n    self.valueFromJulia = {};\\n    for (var key in json_data) {\\n        self.valueFromJulia[key] = false;\\n    }\\n    ko.applyBindings(self.model, self.dom);\\n}\\n);\\n    (WebIO.importBlock({\\\"data\\\":[{\\\"name\\\":\\\"knockout\\\",\\\"type\\\":\\\"js\\\",\\\"url\\\":\\\"/assetserver/138fa309f919ec7484ebc55e3091f379f47cc424-knockout.js\\\"},{\\\"name\\\":\\\"knockout_punches\\\",\\\"type\\\":\\\"js\\\",\\\"url\\\":\\\"/assetserver/620d29c2d3531d56ec3a1d8a13d747afffb44410-knockout_punches.js\\\"}],\\\"type\\\":\\\"async_block\\\"})).then((imports) => handler.apply(this, imports));\\n}\\n\")])], Dict{Symbol,Any}(:className => \"field interact-widget\")), Observable{Any} with 0 listeners. Value:\n",
       "Node{WebIO.DOM}(WebIO.DOM(:html, :div), Any[Plot{Plots.GRBackend() n=3}], Dict{Symbol,Any}(:className => \"interact-flex-row interact-widget\"))], Dict{Symbol,Any}())"
      ]
     },
     "execution_count": 2,
     "metadata": {
      "application/vnd.webio.node+json": {
       "kernelId": "75fafab2-39df-48b8-8256-effacf3ea1da"
      }
     },
     "output_type": "execute_result"
    }
   ],
   "source": [
    "using Interact, StatsPlots\n",
    "\n",
    "@manipulate for d in [Normal(), Uniform(), Gamma(5,3), Beta(6,3), Exponential()], q in 0.01:0.02:0.99\n",
    "    plot(d)\n",
    "    x, y = quantile(d, q), my_quantile(d, q)\n",
    "    vline!([y], lab=\"My Function: $(round(y, digits=4))\", line=(4, :dot))\n",
    "    vline!([x], lab=\"True Quantile: $(round(x, digits=4))\", color=:black)\n",
    "end"
   ]
  },
  {
   "cell_type": "markdown",
   "metadata": {},
   "source": [
    "### Other Things That Should Get You To Try Julia\n",
    "\n",
    "- **Multi-threading**\n",
    "    - First add `export JULIA_NUM_THREADS=4` to your `.bash_profile`"
   ]
  },
  {
   "cell_type": "code",
   "execution_count": 3,
   "metadata": {},
   "outputs": [
    {
     "name": "stdout",
     "output_type": "stream",
     "text": [
      "i = 9 on thread 4\n",
      "i = 1 on thread 1\n",
      "i = 10 on thread 4\n",
      "i = 2 on thread 1\n",
      "i = 4 on thread 2\n",
      "i = 3 on thread 1\n",
      "i = 7 on thread 3\n",
      "i = 5 on thread 2\n",
      "i = 8 on thread 3\n",
      "i = 6 on thread 2\n"
     ]
    }
   ],
   "source": [
    "Threads.@threads for i = 1:10\n",
    "    println(\"i = $i on thread $(Threads.threadid())\")\n",
    "end"
   ]
  },
  {
   "cell_type": "markdown",
   "metadata": {},
   "source": [
    "- **Generators** (lazily map/filter a collection)"
   ]
  },
  {
   "cell_type": "code",
   "execution_count": 4,
   "metadata": {},
   "outputs": [
    {
     "data": {
      "text/plain": [
       "0.9997738515943755"
      ]
     },
     "execution_count": 4,
     "metadata": {},
     "output_type": "execute_result"
    }
   ],
   "source": [
    "x = randn(10^7)\n",
    "\n",
    "g = (xi^2 for xi in x if xi > 0)\n",
    "\n",
    "mean(g)"
   ]
  },
  {
   "cell_type": "markdown",
   "metadata": {},
   "source": [
    "- **Automatic Differentiation**\n",
    "    - If you're into the deep learning thing"
   ]
  },
  {
   "cell_type": "code",
   "execution_count": 5,
   "metadata": {},
   "outputs": [
    {
     "data": {
      "text/plain": [
       "(53, 5)"
      ]
     },
     "execution_count": 5,
     "metadata": {},
     "output_type": "execute_result"
    }
   ],
   "source": [
    "using Zygote\n",
    "\n",
    "thing(x) = 5x + 3\n",
    "\n",
    "thing(10), thing'(10)"
   ]
  },
  {
   "cell_type": "markdown",
   "metadata": {},
   "source": [
    "- **Machine Learning**"
   ]
  },
  {
   "cell_type": "code",
   "execution_count": 6,
   "metadata": {},
   "outputs": [
    {
     "name": "stderr",
     "output_type": "stream",
     "text": [
      "WARNING: using MLJ.Node in module Main conflicts with an existing identifier.\n",
      "WARNING: both CSSUtil and Base export \"empty\"; uses of it in module Interact must be qualified\n"
     ]
    },
    {
     "data": {
      "text/plain": [
       "Dict{Any,Any} with 9 entries:\n",
       "  \"MultivariateStats\" => Any[\"RidgeRegressor\", \"PCA\"]\n",
       "  \"MLJ\"               => Any[\"ConstantClassifier\", \"Standardizer\", \"SimpleRidge…\n",
       "  \"DecisionTree\"      => Any[\"DecisionTreeRegressor\", \"DecisionTreeClassifier\"]\n",
       "  \"ScikitLearn\"       => Any[\"SVMLRegressor\", \"SVMNuClassifier\", \"ElasticNet\", …\n",
       "  \"LIBSVM\"            => Any[\"EpsilonSVR\", \"LinearSVC\", \"NuSVR\", \"NuSVC\", \"SVC\"…\n",
       "  \"Clustering\"        => Any[\"KMeans\", \"KMedoids\"]\n",
       "  \"GLM\"               => Any[\"OLSRegressor\", \"GLMCountRegressor\"]\n",
       "  \"NaiveBayes\"        => Any[\"GaussianNBClassifier\", \"MultinomialNBClassifier\"]\n",
       "  \"XGBoost\"           => Any[\"XGBoostCount\", \"XGBoostRegressor\", \"XGBoostClassi…"
      ]
     },
     "execution_count": 6,
     "metadata": {},
     "output_type": "execute_result"
    }
   ],
   "source": [
    "using MLJ\n",
    "models()"
   ]
  },
  {
   "cell_type": "markdown",
   "metadata": {
    "extensions": {
     "jupyter_dashboards": {
      "version": 1,
      "views": {
       "grid_default": {
        "hidden": true
       },
       "report_default": {
        "hidden": true
       }
      }
     }
    }
   },
   "source": [
    "---\n",
    "\n",
    "<img src=\"https://user-images.githubusercontent.com/8075494/57313750-3d890d80-70be-11e9-99c9-b3fe0de6ea81.png\" align=\"center\" width=500>"
   ]
  },
  {
   "cell_type": "markdown",
   "metadata": {
    "extensions": {
     "jupyter_dashboards": {
      "version": 1,
      "views": {
       "grid_default": {},
       "report_default": {}
      }
     }
    }
   },
   "source": [
    "# What is OnlineStats?\n",
    "\n",
    "**OnlineStats calculates statistics, models, and big data visualizations via online algorithms.**\n",
    "\n",
    "- Well suited for streaming data or when data is too large to hold in memory.\n",
    "- Processes observations one by one and all algorithms use O(1) memory."
   ]
  },
  {
   "cell_type": "markdown",
   "metadata": {},
   "source": [
    "# Overview\n",
    "\n",
    "### Fit one observation at a time"
   ]
  },
  {
   "cell_type": "code",
   "execution_count": 26,
   "metadata": {},
   "outputs": [
    {
     "data": {
      "text/plain": [
       "Mean: n=1 | value=0.0"
      ]
     },
     "execution_count": 26,
     "metadata": {},
     "output_type": "execute_result"
    }
   ],
   "source": [
    "using OnlineStats\n",
    "\n",
    "o = Mean()\n",
    "\n",
    "fit!(o, 0)"
   ]
  },
  {
   "cell_type": "markdown",
   "metadata": {},
   "source": [
    "### Use type system to identify when to iterate\n",
    "\n",
    "`Mean <: OnlineStat{Number}`\n",
    "\n",
    "- `fit!(o, 1)` -> fit directly\n",
    "- `fit!(o, 1:10)` -> iterate through and `fit!` each element"
   ]
  },
  {
   "cell_type": "code",
   "execution_count": 27,
   "metadata": {},
   "outputs": [
    {
     "data": {
      "text/plain": [
       "Mean: n=6 | value=0.163522"
      ]
     },
     "execution_count": 27,
     "metadata": {},
     "output_type": "execute_result"
    }
   ],
   "source": [
    "fit!(o, (xi^2 for xi in rand(5)))"
   ]
  },
  {
   "cell_type": "markdown",
   "metadata": {},
   "source": [
    "### Distributed Parallelism\n",
    "\n",
    "- Most stats can also be merged together.\n",
    "\n",
    "<img src=\"https://user-images.githubusercontent.com/8075494/57345083-95079780-7117-11e9-81bf-71b0469f04c7.png\" align=\"center\" width=300>"
   ]
  },
  {
   "cell_type": "code",
   "execution_count": 9,
   "metadata": {},
   "outputs": [
    {
     "name": "stdout",
     "output_type": "stream",
     "text": [
      "      From worker 2:\tmyid() = 2\n",
      "      From worker 4:\tmyid() = 4\n",
      "      From worker 3:\tmyid() = 3\n"
     ]
    },
    {
     "data": {
      "text/plain": [
       "Mean: n=30000 | value=-0.00617704"
      ]
     },
     "execution_count": 9,
     "metadata": {},
     "output_type": "execute_result"
    }
   ],
   "source": [
    "using Distributed\n",
    "nprocs() == 1 && addprocs(3)\n",
    "@everywhere using OnlineStats\n",
    "\n",
    "@distributed merge for i in 1:3\n",
    "    @show myid()\n",
    "    fit!(Mean(), randn(10_000))\n",
    "end"
   ]
  },
  {
   "cell_type": "markdown",
   "metadata": {},
   "source": [
    "<div class=\"alert alert-info\">\n",
    "    <b>NOTE:</b> <code>@threads</code> uses shared memory and <code>@distributed</code> does not\n",
    "</div>"
   ]
  },
  {
   "cell_type": "markdown",
   "metadata": {},
   "source": [
    "### Fit Multiple Statistics on the Same Variable"
   ]
  },
  {
   "cell_type": "code",
   "execution_count": 10,
   "metadata": {},
   "outputs": [
    {
     "data": {
      "text/plain": [
       "Series\n",
       "  ├── Mean: n=100 | value=-0.0768325\n",
       "  └── Variance: n=100 | value=0.931412"
      ]
     },
     "execution_count": 10,
     "metadata": {},
     "output_type": "execute_result"
    }
   ],
   "source": [
    "o = Series(Mean(), Variance())\n",
    "\n",
    "fit!(o, randn(100))"
   ]
  },
  {
   "cell_type": "markdown",
   "metadata": {},
   "source": [
    "### Fit Multiple Statistics on Different Variables"
   ]
  },
  {
   "cell_type": "code",
   "execution_count": 11,
   "metadata": {},
   "outputs": [
    {
     "data": {
      "text/plain": [
       "Group\n",
       "  ├── Mean: n=100 | value=-0.126167\n",
       "  └── Mean: n=100 | value=0.0691087"
      ]
     },
     "execution_count": 11,
     "metadata": {},
     "output_type": "execute_result"
    }
   ],
   "source": [
    "o = Group(Mean(), Mean())\n",
    "\n",
    "fit!(o, eachrow(randn(100, 2)))"
   ]
  },
  {
   "cell_type": "code",
   "execution_count": 12,
   "metadata": {},
   "outputs": [
    {
     "data": {
      "text/plain": [
       "Group\n",
       "  ├── Mean: n=100 | value=0.0841227\n",
       "  └── Mean: n=100 | value=-0.118384"
      ]
     },
     "execution_count": 12,
     "metadata": {},
     "output_type": "execute_result"
    }
   ],
   "source": [
    "fit!(2Mean(), eachrow(randn(100, 2)))"
   ]
  },
  {
   "cell_type": "markdown",
   "metadata": {},
   "source": [
    "### Plot Things\n",
    "\n",
    "- Many of types have plot recipes for easy data viz."
   ]
  },
  {
   "cell_type": "code",
   "execution_count": 13,
   "metadata": {},
   "outputs": [
    {
     "data": {
      "image/svg+xml": [
       "<?xml version=\"1.0\" encoding=\"utf-8\"?>\n",
       "<svg xmlns=\"http://www.w3.org/2000/svg\" xmlns:xlink=\"http://www.w3.org/1999/xlink\" width=\"600\" height=\"400\" viewBox=\"0 0 2400 1600\">\n",
       "<defs>\n",
       "  <clipPath id=\"clip9500\">\n",
       "    <rect x=\"0\" y=\"0\" width=\"2400\" height=\"1600\"/>\n",
       "  </clipPath>\n",
       "</defs>\n",
       "<polygon clip-path=\"url(#clip9500)\" points=\"\n",
       "0,1600 2400,1600 2400,0 0,0 \n",
       "  \" fill=\"#ffffff\" fill-rule=\"evenodd\" fill-opacity=\"1\"/>\n",
       "<defs>\n",
       "  <clipPath id=\"clip9501\">\n",
       "    <rect x=\"480\" y=\"0\" width=\"1681\" height=\"1600\"/>\n",
       "  </clipPath>\n",
       "</defs>\n",
       "<polygon clip-path=\"url(#clip9500)\" points=\"\n",
       "247.807,1487.47 2352.76,1487.47 2352.76,47.2441 247.807,47.2441 \n",
       "  \" fill=\"#ffffff\" fill-rule=\"evenodd\" fill-opacity=\"1\"/>\n",
       "<defs>\n",
       "  <clipPath id=\"clip9502\">\n",
       "    <rect x=\"247\" y=\"47\" width=\"2106\" height=\"1441\"/>\n",
       "  </clipPath>\n",
       "</defs>\n",
       "<polyline clip-path=\"url(#clip9502)\" style=\"stroke:#000000; stroke-width:2; stroke-opacity:0.1; fill:none\" points=\"\n",
       "  500.185,1487.47 500.185,47.2441 \n",
       "  \"/>\n",
       "<polyline clip-path=\"url(#clip9502)\" style=\"stroke:#000000; stroke-width:2; stroke-opacity:0.1; fill:none\" points=\"\n",
       "  890.476,1487.47 890.476,47.2441 \n",
       "  \"/>\n",
       "<polyline clip-path=\"url(#clip9502)\" style=\"stroke:#000000; stroke-width:2; stroke-opacity:0.1; fill:none\" points=\"\n",
       "  1280.77,1487.47 1280.77,47.2441 \n",
       "  \"/>\n",
       "<polyline clip-path=\"url(#clip9502)\" style=\"stroke:#000000; stroke-width:2; stroke-opacity:0.1; fill:none\" points=\"\n",
       "  1671.06,1487.47 1671.06,47.2441 \n",
       "  \"/>\n",
       "<polyline clip-path=\"url(#clip9502)\" style=\"stroke:#000000; stroke-width:2; stroke-opacity:0.1; fill:none\" points=\"\n",
       "  2061.35,1487.47 2061.35,47.2441 \n",
       "  \"/>\n",
       "<polyline clip-path=\"url(#clip9502)\" style=\"stroke:#000000; stroke-width:2; stroke-opacity:0.1; fill:none\" points=\"\n",
       "  247.807,1446.71 2352.76,1446.71 \n",
       "  \"/>\n",
       "<polyline clip-path=\"url(#clip9502)\" style=\"stroke:#000000; stroke-width:2; stroke-opacity:0.1; fill:none\" points=\"\n",
       "  247.807,1105.92 2352.76,1105.92 \n",
       "  \"/>\n",
       "<polyline clip-path=\"url(#clip9502)\" style=\"stroke:#000000; stroke-width:2; stroke-opacity:0.1; fill:none\" points=\"\n",
       "  247.807,765.127 2352.76,765.127 \n",
       "  \"/>\n",
       "<polyline clip-path=\"url(#clip9502)\" style=\"stroke:#000000; stroke-width:2; stroke-opacity:0.1; fill:none\" points=\"\n",
       "  247.807,424.334 2352.76,424.334 \n",
       "  \"/>\n",
       "<polyline clip-path=\"url(#clip9502)\" style=\"stroke:#000000; stroke-width:2; stroke-opacity:0.1; fill:none\" points=\"\n",
       "  247.807,83.5409 2352.76,83.5409 \n",
       "  \"/>\n",
       "<polyline clip-path=\"url(#clip9500)\" style=\"stroke:#000000; stroke-width:4; stroke-opacity:1; fill:none\" points=\"\n",
       "  247.807,1487.47 2352.76,1487.47 \n",
       "  \"/>\n",
       "<polyline clip-path=\"url(#clip9500)\" style=\"stroke:#000000; stroke-width:4; stroke-opacity:1; fill:none\" points=\"\n",
       "  247.807,1487.47 247.807,47.2441 \n",
       "  \"/>\n",
       "<polyline clip-path=\"url(#clip9500)\" style=\"stroke:#000000; stroke-width:4; stroke-opacity:1; fill:none\" points=\"\n",
       "  500.185,1487.47 500.185,1465.87 \n",
       "  \"/>\n",
       "<polyline clip-path=\"url(#clip9500)\" style=\"stroke:#000000; stroke-width:4; stroke-opacity:1; fill:none\" points=\"\n",
       "  890.476,1487.47 890.476,1465.87 \n",
       "  \"/>\n",
       "<polyline clip-path=\"url(#clip9500)\" style=\"stroke:#000000; stroke-width:4; stroke-opacity:1; fill:none\" points=\"\n",
       "  1280.77,1487.47 1280.77,1465.87 \n",
       "  \"/>\n",
       "<polyline clip-path=\"url(#clip9500)\" style=\"stroke:#000000; stroke-width:4; stroke-opacity:1; fill:none\" points=\"\n",
       "  1671.06,1487.47 1671.06,1465.87 \n",
       "  \"/>\n",
       "<polyline clip-path=\"url(#clip9500)\" style=\"stroke:#000000; stroke-width:4; stroke-opacity:1; fill:none\" points=\"\n",
       "  2061.35,1487.47 2061.35,1465.87 \n",
       "  \"/>\n",
       "<polyline clip-path=\"url(#clip9500)\" style=\"stroke:#000000; stroke-width:4; stroke-opacity:1; fill:none\" points=\"\n",
       "  247.807,1446.71 279.381,1446.71 \n",
       "  \"/>\n",
       "<polyline clip-path=\"url(#clip9500)\" style=\"stroke:#000000; stroke-width:4; stroke-opacity:1; fill:none\" points=\"\n",
       "  247.807,1105.92 279.381,1105.92 \n",
       "  \"/>\n",
       "<polyline clip-path=\"url(#clip9500)\" style=\"stroke:#000000; stroke-width:4; stroke-opacity:1; fill:none\" points=\"\n",
       "  247.807,765.127 279.381,765.127 \n",
       "  \"/>\n",
       "<polyline clip-path=\"url(#clip9500)\" style=\"stroke:#000000; stroke-width:4; stroke-opacity:1; fill:none\" points=\"\n",
       "  247.807,424.334 279.381,424.334 \n",
       "  \"/>\n",
       "<polyline clip-path=\"url(#clip9500)\" style=\"stroke:#000000; stroke-width:4; stroke-opacity:1; fill:none\" points=\"\n",
       "  247.807,83.5409 279.381,83.5409 \n",
       "  \"/>\n",
       "<g clip-path=\"url(#clip9500)\">\n",
       "<text style=\"fill:#000000; fill-opacity:1; font-family:Arial,Helvetica Neue,Helvetica,sans-serif; font-size:48px; text-anchor:middle;\" transform=\"rotate(0, 500.185, 1541.47)\" x=\"500.185\" y=\"1541.47\">-4</text>\n",
       "</g>\n",
       "<g clip-path=\"url(#clip9500)\">\n",
       "<text style=\"fill:#000000; fill-opacity:1; font-family:Arial,Helvetica Neue,Helvetica,sans-serif; font-size:48px; text-anchor:middle;\" transform=\"rotate(0, 890.476, 1541.47)\" x=\"890.476\" y=\"1541.47\">-2</text>\n",
       "</g>\n",
       "<g clip-path=\"url(#clip9500)\">\n",
       "<text style=\"fill:#000000; fill-opacity:1; font-family:Arial,Helvetica Neue,Helvetica,sans-serif; font-size:48px; text-anchor:middle;\" transform=\"rotate(0, 1280.77, 1541.47)\" x=\"1280.77\" y=\"1541.47\">0</text>\n",
       "</g>\n",
       "<g clip-path=\"url(#clip9500)\">\n",
       "<text style=\"fill:#000000; fill-opacity:1; font-family:Arial,Helvetica Neue,Helvetica,sans-serif; font-size:48px; text-anchor:middle;\" transform=\"rotate(0, 1671.06, 1541.47)\" x=\"1671.06\" y=\"1541.47\">2</text>\n",
       "</g>\n",
       "<g clip-path=\"url(#clip9500)\">\n",
       "<text style=\"fill:#000000; fill-opacity:1; font-family:Arial,Helvetica Neue,Helvetica,sans-serif; font-size:48px; text-anchor:middle;\" transform=\"rotate(0, 2061.35, 1541.47)\" x=\"2061.35\" y=\"1541.47\">4</text>\n",
       "</g>\n",
       "<g clip-path=\"url(#clip9500)\">\n",
       "<text style=\"fill:#000000; fill-opacity:1; font-family:Arial,Helvetica Neue,Helvetica,sans-serif; font-size:48px; text-anchor:end;\" transform=\"rotate(0, 223.807, 1464.21)\" x=\"223.807\" y=\"1464.21\">0</text>\n",
       "</g>\n",
       "<g clip-path=\"url(#clip9500)\">\n",
       "<text style=\"fill:#000000; fill-opacity:1; font-family:Arial,Helvetica Neue,Helvetica,sans-serif; font-size:48px; text-anchor:start;\" transform=\"rotate(0, 93.6653, 1129.65)\" x=\"93.6653\" y=\"1129.65\">1×10</text>\n",
       "</g>\n",
       "<g clip-path=\"url(#clip9500)\">\n",
       "<text style=\"fill:#000000; fill-opacity:1; font-family:Arial,Helvetica Neue,Helvetica,sans-serif; font-size:38px; text-anchor:start;\" transform=\"rotate(0, 202.062, 1102.24)\" x=\"202.062\" y=\"1102.24\">4</text>\n",
       "</g>\n",
       "<g clip-path=\"url(#clip9500)\">\n",
       "<text style=\"fill:#000000; fill-opacity:1; font-family:Arial,Helvetica Neue,Helvetica,sans-serif; font-size:48px; text-anchor:start;\" transform=\"rotate(0, 93.6653, 788.855)\" x=\"93.6653\" y=\"788.855\">2×10</text>\n",
       "</g>\n",
       "<g clip-path=\"url(#clip9500)\">\n",
       "<text style=\"fill:#000000; fill-opacity:1; font-family:Arial,Helvetica Neue,Helvetica,sans-serif; font-size:38px; text-anchor:start;\" transform=\"rotate(0, 202.062, 761.444)\" x=\"202.062\" y=\"761.444\">4</text>\n",
       "</g>\n",
       "<g clip-path=\"url(#clip9500)\">\n",
       "<text style=\"fill:#000000; fill-opacity:1; font-family:Arial,Helvetica Neue,Helvetica,sans-serif; font-size:48px; text-anchor:start;\" transform=\"rotate(0, 93.6653, 448.062)\" x=\"93.6653\" y=\"448.062\">3×10</text>\n",
       "</g>\n",
       "<g clip-path=\"url(#clip9500)\">\n",
       "<text style=\"fill:#000000; fill-opacity:1; font-family:Arial,Helvetica Neue,Helvetica,sans-serif; font-size:38px; text-anchor:start;\" transform=\"rotate(0, 202.062, 420.651)\" x=\"202.062\" y=\"420.651\">4</text>\n",
       "</g>\n",
       "<g clip-path=\"url(#clip9500)\">\n",
       "<text style=\"fill:#000000; fill-opacity:1; font-family:Arial,Helvetica Neue,Helvetica,sans-serif; font-size:48px; text-anchor:start;\" transform=\"rotate(0, 93.6653, 107.269)\" x=\"93.6653\" y=\"107.269\">4×10</text>\n",
       "</g>\n",
       "<g clip-path=\"url(#clip9500)\">\n",
       "<text style=\"fill:#000000; fill-opacity:1; font-family:Arial,Helvetica Neue,Helvetica,sans-serif; font-size:38px; text-anchor:start;\" transform=\"rotate(0, 202.062, 79.8581)\" x=\"202.062\" y=\"79.8581\">4</text>\n",
       "</g>\n",
       "<polygon clip-path=\"url(#clip9502)\" points=\"\n",
       "363.583,1446.68 363.583,1446.71 383.097,1446.71 383.097,1446.68 363.583,1446.68 363.583,1446.68 \n",
       "  \" fill=\"#009af9\" fill-rule=\"evenodd\" fill-opacity=\"1\"/>\n",
       "<polyline clip-path=\"url(#clip9502)\" style=\"stroke:#000000; stroke-width:4; stroke-opacity:1; fill:none\" points=\"\n",
       "  363.583,1446.68 363.583,1446.71 383.097,1446.71 383.097,1446.68 363.583,1446.68 \n",
       "  \"/>\n",
       "<polygon clip-path=\"url(#clip9502)\" points=\"\n",
       "383.097,1446.58 383.097,1446.71 402.612,1446.71 402.612,1446.58 383.097,1446.58 383.097,1446.58 \n",
       "  \" fill=\"#009af9\" fill-rule=\"evenodd\" fill-opacity=\"1\"/>\n",
       "<polyline clip-path=\"url(#clip9502)\" style=\"stroke:#000000; stroke-width:4; stroke-opacity:1; fill:none\" points=\"\n",
       "  383.097,1446.58 383.097,1446.71 402.612,1446.71 402.612,1446.58 383.097,1446.58 \n",
       "  \"/>\n",
       "<polygon clip-path=\"url(#clip9502)\" points=\"\n",
       "402.612,1446.61 402.612,1446.71 422.126,1446.71 422.126,1446.61 402.612,1446.61 402.612,1446.61 \n",
       "  \" fill=\"#009af9\" fill-rule=\"evenodd\" fill-opacity=\"1\"/>\n",
       "<polyline clip-path=\"url(#clip9502)\" style=\"stroke:#000000; stroke-width:4; stroke-opacity:1; fill:none\" points=\"\n",
       "  402.612,1446.61 402.612,1446.71 422.126,1446.71 422.126,1446.61 402.612,1446.61 \n",
       "  \"/>\n",
       "<polygon clip-path=\"url(#clip9502)\" points=\"\n",
       "422.126,1446.65 422.126,1446.71 441.641,1446.71 441.641,1446.65 422.126,1446.65 422.126,1446.65 \n",
       "  \" fill=\"#009af9\" fill-rule=\"evenodd\" fill-opacity=\"1\"/>\n",
       "<polyline clip-path=\"url(#clip9502)\" style=\"stroke:#000000; stroke-width:4; stroke-opacity:1; fill:none\" points=\"\n",
       "  422.126,1446.65 422.126,1446.71 441.641,1446.71 441.641,1446.65 422.126,1446.65 \n",
       "  \"/>\n",
       "<polygon clip-path=\"url(#clip9502)\" points=\"\n",
       "441.641,1446.47 441.641,1446.71 461.156,1446.71 461.156,1446.47 441.641,1446.47 441.641,1446.47 \n",
       "  \" fill=\"#009af9\" fill-rule=\"evenodd\" fill-opacity=\"1\"/>\n",
       "<polyline clip-path=\"url(#clip9502)\" style=\"stroke:#000000; stroke-width:4; stroke-opacity:1; fill:none\" points=\"\n",
       "  441.641,1446.47 441.641,1446.71 461.156,1446.71 461.156,1446.47 441.641,1446.47 \n",
       "  \"/>\n",
       "<polygon clip-path=\"url(#clip9502)\" points=\"\n",
       "461.156,1446.58 461.156,1446.71 480.67,1446.71 480.67,1446.58 461.156,1446.58 461.156,1446.58 \n",
       "  \" fill=\"#009af9\" fill-rule=\"evenodd\" fill-opacity=\"1\"/>\n",
       "<polyline clip-path=\"url(#clip9502)\" style=\"stroke:#000000; stroke-width:4; stroke-opacity:1; fill:none\" points=\"\n",
       "  461.156,1446.58 461.156,1446.71 480.67,1446.71 480.67,1446.58 461.156,1446.58 \n",
       "  \"/>\n",
       "<polygon clip-path=\"url(#clip9502)\" points=\"\n",
       "480.67,1446.34 480.67,1446.71 500.185,1446.71 500.185,1446.34 480.67,1446.34 480.67,1446.34 \n",
       "  \" fill=\"#009af9\" fill-rule=\"evenodd\" fill-opacity=\"1\"/>\n",
       "<polyline clip-path=\"url(#clip9502)\" style=\"stroke:#000000; stroke-width:4; stroke-opacity:1; fill:none\" points=\"\n",
       "  480.67,1446.34 480.67,1446.71 500.185,1446.71 500.185,1446.34 480.67,1446.34 \n",
       "  \"/>\n",
       "<polygon clip-path=\"url(#clip9502)\" points=\"\n",
       "500.185,1446.2 500.185,1446.71 519.699,1446.71 519.699,1446.2 500.185,1446.2 500.185,1446.2 \n",
       "  \" fill=\"#009af9\" fill-rule=\"evenodd\" fill-opacity=\"1\"/>\n",
       "<polyline clip-path=\"url(#clip9502)\" style=\"stroke:#000000; stroke-width:4; stroke-opacity:1; fill:none\" points=\"\n",
       "  500.185,1446.2 500.185,1446.71 519.699,1446.71 519.699,1446.2 500.185,1446.2 \n",
       "  \"/>\n",
       "<polygon clip-path=\"url(#clip9502)\" points=\"\n",
       "519.699,1445.76 519.699,1446.71 539.214,1446.71 539.214,1445.76 519.699,1445.76 519.699,1445.76 \n",
       "  \" fill=\"#009af9\" fill-rule=\"evenodd\" fill-opacity=\"1\"/>\n",
       "<polyline clip-path=\"url(#clip9502)\" style=\"stroke:#000000; stroke-width:4; stroke-opacity:1; fill:none\" points=\"\n",
       "  519.699,1445.76 519.699,1446.71 539.214,1446.71 539.214,1445.76 519.699,1445.76 \n",
       "  \"/>\n",
       "<polygon clip-path=\"url(#clip9502)\" points=\"\n",
       "539.214,1445.66 539.214,1446.71 558.728,1446.71 558.728,1445.66 539.214,1445.66 539.214,1445.66 \n",
       "  \" fill=\"#009af9\" fill-rule=\"evenodd\" fill-opacity=\"1\"/>\n",
       "<polyline clip-path=\"url(#clip9502)\" style=\"stroke:#000000; stroke-width:4; stroke-opacity:1; fill:none\" points=\"\n",
       "  539.214,1445.66 539.214,1446.71 558.728,1446.71 558.728,1445.66 539.214,1445.66 \n",
       "  \"/>\n",
       "<polygon clip-path=\"url(#clip9502)\" points=\"\n",
       "558.728,1444.84 558.728,1446.71 578.243,1446.71 578.243,1444.84 558.728,1444.84 558.728,1444.84 \n",
       "  \" fill=\"#009af9\" fill-rule=\"evenodd\" fill-opacity=\"1\"/>\n",
       "<polyline clip-path=\"url(#clip9502)\" style=\"stroke:#000000; stroke-width:4; stroke-opacity:1; fill:none\" points=\"\n",
       "  558.728,1444.84 558.728,1446.71 578.243,1446.71 578.243,1444.84 558.728,1444.84 \n",
       "  \"/>\n",
       "<polygon clip-path=\"url(#clip9502)\" points=\"\n",
       "578.243,1443.51 578.243,1446.71 597.757,1446.71 597.757,1443.51 578.243,1443.51 578.243,1443.51 \n",
       "  \" fill=\"#009af9\" fill-rule=\"evenodd\" fill-opacity=\"1\"/>\n",
       "<polyline clip-path=\"url(#clip9502)\" style=\"stroke:#000000; stroke-width:4; stroke-opacity:1; fill:none\" points=\"\n",
       "  578.243,1443.51 578.243,1446.71 597.757,1446.71 597.757,1443.51 578.243,1443.51 \n",
       "  \"/>\n",
       "<polygon clip-path=\"url(#clip9502)\" points=\"\n",
       "597.757,1442.79 597.757,1446.71 617.272,1446.71 617.272,1442.79 597.757,1442.79 597.757,1442.79 \n",
       "  \" fill=\"#009af9\" fill-rule=\"evenodd\" fill-opacity=\"1\"/>\n",
       "<polyline clip-path=\"url(#clip9502)\" style=\"stroke:#000000; stroke-width:4; stroke-opacity:1; fill:none\" points=\"\n",
       "  597.757,1442.79 597.757,1446.71 617.272,1446.71 617.272,1442.79 597.757,1442.79 \n",
       "  \"/>\n",
       "<polygon clip-path=\"url(#clip9502)\" points=\"\n",
       "617.272,1441.7 617.272,1446.71 636.787,1446.71 636.787,1441.7 617.272,1441.7 617.272,1441.7 \n",
       "  \" fill=\"#009af9\" fill-rule=\"evenodd\" fill-opacity=\"1\"/>\n",
       "<polyline clip-path=\"url(#clip9502)\" style=\"stroke:#000000; stroke-width:4; stroke-opacity:1; fill:none\" points=\"\n",
       "  617.272,1441.7 617.272,1446.71 636.787,1446.71 636.787,1441.7 617.272,1441.7 \n",
       "  \"/>\n",
       "<polygon clip-path=\"url(#clip9502)\" points=\"\n",
       "636.787,1439.62 636.787,1446.71 656.301,1446.71 656.301,1439.62 636.787,1439.62 636.787,1439.62 \n",
       "  \" fill=\"#009af9\" fill-rule=\"evenodd\" fill-opacity=\"1\"/>\n",
       "<polyline clip-path=\"url(#clip9502)\" style=\"stroke:#000000; stroke-width:4; stroke-opacity:1; fill:none\" points=\"\n",
       "  636.787,1439.62 636.787,1446.71 656.301,1446.71 656.301,1439.62 636.787,1439.62 \n",
       "  \"/>\n",
       "<polygon clip-path=\"url(#clip9502)\" points=\"\n",
       "656.301,1437.61 656.301,1446.71 675.816,1446.71 675.816,1437.61 656.301,1437.61 656.301,1437.61 \n",
       "  \" fill=\"#009af9\" fill-rule=\"evenodd\" fill-opacity=\"1\"/>\n",
       "<polyline clip-path=\"url(#clip9502)\" style=\"stroke:#000000; stroke-width:4; stroke-opacity:1; fill:none\" points=\"\n",
       "  656.301,1437.61 656.301,1446.71 675.816,1446.71 675.816,1437.61 656.301,1437.61 \n",
       "  \"/>\n",
       "<polygon clip-path=\"url(#clip9502)\" points=\"\n",
       "675.816,1432.88 675.816,1446.71 695.33,1446.71 695.33,1432.88 675.816,1432.88 675.816,1432.88 \n",
       "  \" fill=\"#009af9\" fill-rule=\"evenodd\" fill-opacity=\"1\"/>\n",
       "<polyline clip-path=\"url(#clip9502)\" style=\"stroke:#000000; stroke-width:4; stroke-opacity:1; fill:none\" points=\"\n",
       "  675.816,1432.88 675.816,1446.71 695.33,1446.71 695.33,1432.88 675.816,1432.88 \n",
       "  \"/>\n",
       "<polygon clip-path=\"url(#clip9502)\" points=\"\n",
       "695.33,1428.82 695.33,1446.71 714.845,1446.71 714.845,1428.82 695.33,1428.82 695.33,1428.82 \n",
       "  \" fill=\"#009af9\" fill-rule=\"evenodd\" fill-opacity=\"1\"/>\n",
       "<polyline clip-path=\"url(#clip9502)\" style=\"stroke:#000000; stroke-width:4; stroke-opacity:1; fill:none\" points=\"\n",
       "  695.33,1428.82 695.33,1446.71 714.845,1446.71 714.845,1428.82 695.33,1428.82 \n",
       "  \"/>\n",
       "<polygon clip-path=\"url(#clip9502)\" points=\"\n",
       "714.845,1421.6 714.845,1446.71 734.359,1446.71 734.359,1421.6 714.845,1421.6 714.845,1421.6 \n",
       "  \" fill=\"#009af9\" fill-rule=\"evenodd\" fill-opacity=\"1\"/>\n",
       "<polyline clip-path=\"url(#clip9502)\" style=\"stroke:#000000; stroke-width:4; stroke-opacity:1; fill:none\" points=\"\n",
       "  714.845,1421.6 714.845,1446.71 734.359,1446.71 734.359,1421.6 714.845,1421.6 \n",
       "  \"/>\n",
       "<polygon clip-path=\"url(#clip9502)\" points=\"\n",
       "734.359,1416.45 734.359,1446.71 753.874,1446.71 753.874,1416.45 734.359,1416.45 734.359,1416.45 \n",
       "  \" fill=\"#009af9\" fill-rule=\"evenodd\" fill-opacity=\"1\"/>\n",
       "<polyline clip-path=\"url(#clip9502)\" style=\"stroke:#000000; stroke-width:4; stroke-opacity:1; fill:none\" points=\"\n",
       "  734.359,1416.45 734.359,1446.71 753.874,1446.71 753.874,1416.45 734.359,1416.45 \n",
       "  \"/>\n",
       "<polygon clip-path=\"url(#clip9502)\" points=\"\n",
       "753.874,1407.69 753.874,1446.71 773.388,1446.71 773.388,1407.69 753.874,1407.69 753.874,1407.69 \n",
       "  \" fill=\"#009af9\" fill-rule=\"evenodd\" fill-opacity=\"1\"/>\n",
       "<polyline clip-path=\"url(#clip9502)\" style=\"stroke:#000000; stroke-width:4; stroke-opacity:1; fill:none\" points=\"\n",
       "  753.874,1407.69 753.874,1446.71 773.388,1446.71 773.388,1407.69 753.874,1407.69 \n",
       "  \"/>\n",
       "<polygon clip-path=\"url(#clip9502)\" points=\"\n",
       "773.388,1392.22 773.388,1446.71 792.903,1446.71 792.903,1392.22 773.388,1392.22 773.388,1392.22 \n",
       "  \" fill=\"#009af9\" fill-rule=\"evenodd\" fill-opacity=\"1\"/>\n",
       "<polyline clip-path=\"url(#clip9502)\" style=\"stroke:#000000; stroke-width:4; stroke-opacity:1; fill:none\" points=\"\n",
       "  773.388,1392.22 773.388,1446.71 792.903,1446.71 792.903,1392.22 773.388,1392.22 \n",
       "  \"/>\n",
       "<polygon clip-path=\"url(#clip9502)\" points=\"\n",
       "792.903,1381.35 792.903,1446.71 812.418,1446.71 812.418,1381.35 792.903,1381.35 792.903,1381.35 \n",
       "  \" fill=\"#009af9\" fill-rule=\"evenodd\" fill-opacity=\"1\"/>\n",
       "<polyline clip-path=\"url(#clip9502)\" style=\"stroke:#000000; stroke-width:4; stroke-opacity:1; fill:none\" points=\"\n",
       "  792.903,1381.35 792.903,1446.71 812.418,1446.71 812.418,1381.35 792.903,1381.35 \n",
       "  \"/>\n",
       "<polygon clip-path=\"url(#clip9502)\" points=\"\n",
       "812.418,1363.42 812.418,1446.71 831.932,1446.71 831.932,1363.42 812.418,1363.42 812.418,1363.42 \n",
       "  \" fill=\"#009af9\" fill-rule=\"evenodd\" fill-opacity=\"1\"/>\n",
       "<polyline clip-path=\"url(#clip9502)\" style=\"stroke:#000000; stroke-width:4; stroke-opacity:1; fill:none\" points=\"\n",
       "  812.418,1363.42 812.418,1446.71 831.932,1446.71 831.932,1363.42 812.418,1363.42 \n",
       "  \"/>\n",
       "<polygon clip-path=\"url(#clip9502)\" points=\"\n",
       "831.932,1336.77 831.932,1446.71 851.447,1446.71 851.447,1336.77 831.932,1336.77 831.932,1336.77 \n",
       "  \" fill=\"#009af9\" fill-rule=\"evenodd\" fill-opacity=\"1\"/>\n",
       "<polyline clip-path=\"url(#clip9502)\" style=\"stroke:#000000; stroke-width:4; stroke-opacity:1; fill:none\" points=\"\n",
       "  831.932,1336.77 831.932,1446.71 851.447,1446.71 851.447,1336.77 831.932,1336.77 \n",
       "  \"/>\n",
       "<polygon clip-path=\"url(#clip9502)\" points=\"\n",
       "851.447,1309.07 851.447,1446.71 870.961,1446.71 870.961,1309.07 851.447,1309.07 851.447,1309.07 \n",
       "  \" fill=\"#009af9\" fill-rule=\"evenodd\" fill-opacity=\"1\"/>\n",
       "<polyline clip-path=\"url(#clip9502)\" style=\"stroke:#000000; stroke-width:4; stroke-opacity:1; fill:none\" points=\"\n",
       "  851.447,1309.07 851.447,1446.71 870.961,1446.71 870.961,1309.07 851.447,1309.07 \n",
       "  \"/>\n",
       "<polygon clip-path=\"url(#clip9502)\" points=\"\n",
       "870.961,1281.19 870.961,1446.71 890.476,1446.71 890.476,1281.19 870.961,1281.19 870.961,1281.19 \n",
       "  \" fill=\"#009af9\" fill-rule=\"evenodd\" fill-opacity=\"1\"/>\n",
       "<polyline clip-path=\"url(#clip9502)\" style=\"stroke:#000000; stroke-width:4; stroke-opacity:1; fill:none\" points=\"\n",
       "  870.961,1281.19 870.961,1446.71 890.476,1446.71 890.476,1281.19 870.961,1281.19 \n",
       "  \"/>\n",
       "<polygon clip-path=\"url(#clip9502)\" points=\"\n",
       "890.476,1243.94 890.476,1446.71 909.99,1446.71 909.99,1243.94 890.476,1243.94 890.476,1243.94 \n",
       "  \" fill=\"#009af9\" fill-rule=\"evenodd\" fill-opacity=\"1\"/>\n",
       "<polyline clip-path=\"url(#clip9502)\" style=\"stroke:#000000; stroke-width:4; stroke-opacity:1; fill:none\" points=\"\n",
       "  890.476,1243.94 890.476,1446.71 909.99,1446.71 909.99,1243.94 890.476,1243.94 \n",
       "  \"/>\n",
       "<polygon clip-path=\"url(#clip9502)\" points=\"\n",
       "909.99,1201.31 909.99,1446.71 929.505,1446.71 929.505,1201.31 909.99,1201.31 909.99,1201.31 \n",
       "  \" fill=\"#009af9\" fill-rule=\"evenodd\" fill-opacity=\"1\"/>\n",
       "<polyline clip-path=\"url(#clip9502)\" style=\"stroke:#000000; stroke-width:4; stroke-opacity:1; fill:none\" points=\"\n",
       "  909.99,1201.31 909.99,1446.71 929.505,1446.71 929.505,1201.31 909.99,1201.31 \n",
       "  \"/>\n",
       "<polygon clip-path=\"url(#clip9502)\" points=\"\n",
       "929.505,1150.05 929.505,1446.71 949.019,1446.71 949.019,1150.05 929.505,1150.05 929.505,1150.05 \n",
       "  \" fill=\"#009af9\" fill-rule=\"evenodd\" fill-opacity=\"1\"/>\n",
       "<polyline clip-path=\"url(#clip9502)\" style=\"stroke:#000000; stroke-width:4; stroke-opacity:1; fill:none\" points=\"\n",
       "  929.505,1150.05 929.505,1446.71 949.019,1446.71 949.019,1150.05 929.505,1150.05 \n",
       "  \"/>\n",
       "<polygon clip-path=\"url(#clip9502)\" points=\"\n",
       "949.019,1097.23 949.019,1446.71 968.534,1446.71 968.534,1097.23 949.019,1097.23 949.019,1097.23 \n",
       "  \" fill=\"#009af9\" fill-rule=\"evenodd\" fill-opacity=\"1\"/>\n",
       "<polyline clip-path=\"url(#clip9502)\" style=\"stroke:#000000; stroke-width:4; stroke-opacity:1; fill:none\" points=\"\n",
       "  949.019,1097.23 949.019,1446.71 968.534,1446.71 968.534,1097.23 949.019,1097.23 \n",
       "  \"/>\n",
       "<polygon clip-path=\"url(#clip9502)\" points=\"\n",
       "968.534,1031.66 968.534,1446.71 988.049,1446.71 988.049,1031.66 968.534,1031.66 968.534,1031.66 \n",
       "  \" fill=\"#009af9\" fill-rule=\"evenodd\" fill-opacity=\"1\"/>\n",
       "<polyline clip-path=\"url(#clip9502)\" style=\"stroke:#000000; stroke-width:4; stroke-opacity:1; fill:none\" points=\"\n",
       "  968.534,1031.66 968.534,1446.71 988.049,1446.71 988.049,1031.66 968.534,1031.66 \n",
       "  \"/>\n",
       "<polygon clip-path=\"url(#clip9502)\" points=\"\n",
       "988.049,972.875 988.049,1446.71 1007.56,1446.71 1007.56,972.875 988.049,972.875 988.049,972.875 \n",
       "  \" fill=\"#009af9\" fill-rule=\"evenodd\" fill-opacity=\"1\"/>\n",
       "<polyline clip-path=\"url(#clip9502)\" style=\"stroke:#000000; stroke-width:4; stroke-opacity:1; fill:none\" points=\"\n",
       "  988.049,972.875 988.049,1446.71 1007.56,1446.71 1007.56,972.875 988.049,972.875 \n",
       "  \"/>\n",
       "<polygon clip-path=\"url(#clip9502)\" points=\"\n",
       "1007.56,898.752 1007.56,1446.71 1027.08,1446.71 1027.08,898.752 1007.56,898.752 1007.56,898.752 \n",
       "  \" fill=\"#009af9\" fill-rule=\"evenodd\" fill-opacity=\"1\"/>\n",
       "<polyline clip-path=\"url(#clip9502)\" style=\"stroke:#000000; stroke-width:4; stroke-opacity:1; fill:none\" points=\"\n",
       "  1007.56,898.752 1007.56,1446.71 1027.08,1446.71 1027.08,898.752 1007.56,898.752 \n",
       "  \"/>\n",
       "<polygon clip-path=\"url(#clip9502)\" points=\"\n",
       "1027.08,821.903 1027.08,1446.71 1046.59,1446.71 1046.59,821.903 1027.08,821.903 1027.08,821.903 \n",
       "  \" fill=\"#009af9\" fill-rule=\"evenodd\" fill-opacity=\"1\"/>\n",
       "<polyline clip-path=\"url(#clip9502)\" style=\"stroke:#000000; stroke-width:4; stroke-opacity:1; fill:none\" points=\"\n",
       "  1027.08,821.903 1027.08,1446.71 1046.59,1446.71 1046.59,821.903 1027.08,821.903 \n",
       "  \"/>\n",
       "<polygon clip-path=\"url(#clip9502)\" points=\"\n",
       "1046.59,746.861 1046.59,1446.71 1066.11,1446.71 1066.11,746.861 1046.59,746.861 1046.59,746.861 \n",
       "  \" fill=\"#009af9\" fill-rule=\"evenodd\" fill-opacity=\"1\"/>\n",
       "<polyline clip-path=\"url(#clip9502)\" style=\"stroke:#000000; stroke-width:4; stroke-opacity:1; fill:none\" points=\"\n",
       "  1046.59,746.861 1046.59,1446.71 1066.11,1446.71 1066.11,746.861 1046.59,746.861 \n",
       "  \"/>\n",
       "<polygon clip-path=\"url(#clip9502)\" points=\"\n",
       "1066.11,665.275 1066.11,1446.71 1085.62,1446.71 1085.62,665.275 1066.11,665.275 1066.11,665.275 \n",
       "  \" fill=\"#009af9\" fill-rule=\"evenodd\" fill-opacity=\"1\"/>\n",
       "<polyline clip-path=\"url(#clip9502)\" style=\"stroke:#000000; stroke-width:4; stroke-opacity:1; fill:none\" points=\"\n",
       "  1066.11,665.275 1066.11,1446.71 1085.62,1446.71 1085.62,665.275 1066.11,665.275 \n",
       "  \"/>\n",
       "<polygon clip-path=\"url(#clip9502)\" points=\"\n",
       "1085.62,581.167 1085.62,1446.71 1105.14,1446.71 1105.14,581.167 1085.62,581.167 1085.62,581.167 \n",
       "  \" fill=\"#009af9\" fill-rule=\"evenodd\" fill-opacity=\"1\"/>\n",
       "<polyline clip-path=\"url(#clip9502)\" style=\"stroke:#000000; stroke-width:4; stroke-opacity:1; fill:none\" points=\"\n",
       "  1085.62,581.167 1085.62,1446.71 1105.14,1446.71 1105.14,581.167 1085.62,581.167 \n",
       "  \"/>\n",
       "<polygon clip-path=\"url(#clip9502)\" points=\"\n",
       "1105.14,492.493 1105.14,1446.71 1124.65,1446.71 1124.65,492.493 1105.14,492.493 1105.14,492.493 \n",
       "  \" fill=\"#009af9\" fill-rule=\"evenodd\" fill-opacity=\"1\"/>\n",
       "<polyline clip-path=\"url(#clip9502)\" style=\"stroke:#000000; stroke-width:4; stroke-opacity:1; fill:none\" points=\"\n",
       "  1105.14,492.493 1105.14,1446.71 1124.65,1446.71 1124.65,492.493 1105.14,492.493 \n",
       "  \"/>\n",
       "<polygon clip-path=\"url(#clip9502)\" points=\"\n",
       "1124.65,409.373 1124.65,1446.71 1144.16,1446.71 1144.16,409.373 1124.65,409.373 1124.65,409.373 \n",
       "  \" fill=\"#009af9\" fill-rule=\"evenodd\" fill-opacity=\"1\"/>\n",
       "<polyline clip-path=\"url(#clip9502)\" style=\"stroke:#000000; stroke-width:4; stroke-opacity:1; fill:none\" points=\"\n",
       "  1124.65,409.373 1124.65,1446.71 1144.16,1446.71 1144.16,409.373 1124.65,409.373 \n",
       "  \"/>\n",
       "<polygon clip-path=\"url(#clip9502)\" points=\"\n",
       "1144.16,347.792 1144.16,1446.71 1163.68,1446.71 1163.68,347.792 1144.16,347.792 1144.16,347.792 \n",
       "  \" fill=\"#009af9\" fill-rule=\"evenodd\" fill-opacity=\"1\"/>\n",
       "<polyline clip-path=\"url(#clip9502)\" style=\"stroke:#000000; stroke-width:4; stroke-opacity:1; fill:none\" points=\"\n",
       "  1144.16,347.792 1144.16,1446.71 1163.68,1446.71 1163.68,347.792 1144.16,347.792 \n",
       "  \"/>\n",
       "<polygon clip-path=\"url(#clip9502)\" points=\"\n",
       "1163.68,277.998 1163.68,1446.71 1183.19,1446.71 1183.19,277.998 1163.68,277.998 1163.68,277.998 \n",
       "  \" fill=\"#009af9\" fill-rule=\"evenodd\" fill-opacity=\"1\"/>\n",
       "<polyline clip-path=\"url(#clip9502)\" style=\"stroke:#000000; stroke-width:4; stroke-opacity:1; fill:none\" points=\"\n",
       "  1163.68,277.998 1163.68,1446.71 1183.19,1446.71 1183.19,277.998 1163.68,277.998 \n",
       "  \"/>\n",
       "<polygon clip-path=\"url(#clip9502)\" points=\"\n",
       "1183.19,223.777 1183.19,1446.71 1202.71,1446.71 1202.71,223.777 1183.19,223.777 1183.19,223.777 \n",
       "  \" fill=\"#009af9\" fill-rule=\"evenodd\" fill-opacity=\"1\"/>\n",
       "<polyline clip-path=\"url(#clip9502)\" style=\"stroke:#000000; stroke-width:4; stroke-opacity:1; fill:none\" points=\"\n",
       "  1183.19,223.777 1183.19,1446.71 1202.71,1446.71 1202.71,223.777 1183.19,223.777 \n",
       "  \"/>\n",
       "<polygon clip-path=\"url(#clip9502)\" points=\"\n",
       "1202.71,170.784 1202.71,1446.71 1222.22,1446.71 1222.22,170.784 1202.71,170.784 1202.71,170.784 \n",
       "  \" fill=\"#009af9\" fill-rule=\"evenodd\" fill-opacity=\"1\"/>\n",
       "<polyline clip-path=\"url(#clip9502)\" style=\"stroke:#000000; stroke-width:4; stroke-opacity:1; fill:none\" points=\"\n",
       "  1202.71,170.784 1202.71,1446.71 1222.22,1446.71 1222.22,170.784 1202.71,170.784 \n",
       "  \"/>\n",
       "<polygon clip-path=\"url(#clip9502)\" points=\"\n",
       "1222.22,136.228 1222.22,1446.71 1241.74,1446.71 1241.74,136.228 1222.22,136.228 1222.22,136.228 \n",
       "  \" fill=\"#009af9\" fill-rule=\"evenodd\" fill-opacity=\"1\"/>\n",
       "<polyline clip-path=\"url(#clip9502)\" style=\"stroke:#000000; stroke-width:4; stroke-opacity:1; fill:none\" points=\"\n",
       "  1222.22,136.228 1222.22,1446.71 1241.74,1446.71 1241.74,136.228 1222.22,136.228 \n",
       "  \"/>\n",
       "<polygon clip-path=\"url(#clip9502)\" points=\"\n",
       "1241.74,99.6264 1241.74,1446.71 1261.25,1446.71 1261.25,99.6264 1241.74,99.6264 1241.74,99.6264 \n",
       "  \" fill=\"#009af9\" fill-rule=\"evenodd\" fill-opacity=\"1\"/>\n",
       "<polyline clip-path=\"url(#clip9502)\" style=\"stroke:#000000; stroke-width:4; stroke-opacity:1; fill:none\" points=\"\n",
       "  1241.74,99.6264 1241.74,1446.71 1261.25,1446.71 1261.25,99.6264 1241.74,99.6264 \n",
       "  \"/>\n",
       "<polygon clip-path=\"url(#clip9502)\" points=\"\n",
       "1261.25,91.9245 1261.25,1446.71 1280.77,1446.71 1280.77,91.9245 1261.25,91.9245 1261.25,91.9245 \n",
       "  \" fill=\"#009af9\" fill-rule=\"evenodd\" fill-opacity=\"1\"/>\n",
       "<polyline clip-path=\"url(#clip9502)\" style=\"stroke:#000000; stroke-width:4; stroke-opacity:1; fill:none\" points=\"\n",
       "  1261.25,91.9245 1261.25,1446.71 1280.77,1446.71 1280.77,91.9245 1261.25,91.9245 \n",
       "  \"/>\n",
       "<polygon clip-path=\"url(#clip9502)\" points=\"\n",
       "1280.77,88.0053 1280.77,1446.71 1300.28,1446.71 1300.28,88.0053 1280.77,88.0053 1280.77,88.0053 \n",
       "  \" fill=\"#009af9\" fill-rule=\"evenodd\" fill-opacity=\"1\"/>\n",
       "<polyline clip-path=\"url(#clip9502)\" style=\"stroke:#000000; stroke-width:4; stroke-opacity:1; fill:none\" points=\"\n",
       "  1280.77,88.0053 1280.77,1446.71 1300.28,1446.71 1300.28,88.0053 1280.77,88.0053 \n",
       "  \"/>\n",
       "<polygon clip-path=\"url(#clip9502)\" points=\"\n",
       "1300.28,105.147 1300.28,1446.71 1319.8,1446.71 1319.8,105.147 1300.28,105.147 1300.28,105.147 \n",
       "  \" fill=\"#009af9\" fill-rule=\"evenodd\" fill-opacity=\"1\"/>\n",
       "<polyline clip-path=\"url(#clip9502)\" style=\"stroke:#000000; stroke-width:4; stroke-opacity:1; fill:none\" points=\"\n",
       "  1300.28,105.147 1300.28,1446.71 1319.8,1446.71 1319.8,105.147 1300.28,105.147 \n",
       "  \"/>\n",
       "<polygon clip-path=\"url(#clip9502)\" points=\"\n",
       "1319.8,134.251 1319.8,1446.71 1339.31,1446.71 1339.31,134.251 1319.8,134.251 1319.8,134.251 \n",
       "  \" fill=\"#009af9\" fill-rule=\"evenodd\" fill-opacity=\"1\"/>\n",
       "<polyline clip-path=\"url(#clip9502)\" style=\"stroke:#000000; stroke-width:4; stroke-opacity:1; fill:none\" points=\"\n",
       "  1319.8,134.251 1319.8,1446.71 1339.31,1446.71 1339.31,134.251 1319.8,134.251 \n",
       "  \"/>\n",
       "<polygon clip-path=\"url(#clip9502)\" points=\"\n",
       "1339.31,165.979 1339.31,1446.71 1358.83,1446.71 1358.83,165.979 1339.31,165.979 1339.31,165.979 \n",
       "  \" fill=\"#009af9\" fill-rule=\"evenodd\" fill-opacity=\"1\"/>\n",
       "<polyline clip-path=\"url(#clip9502)\" style=\"stroke:#000000; stroke-width:4; stroke-opacity:1; fill:none\" points=\"\n",
       "  1339.31,165.979 1339.31,1446.71 1358.83,1446.71 1358.83,165.979 1339.31,165.979 \n",
       "  \"/>\n",
       "<polygon clip-path=\"url(#clip9502)\" points=\"\n",
       "1358.83,224.05 1358.83,1446.71 1378.34,1446.71 1378.34,224.05 1358.83,224.05 1358.83,224.05 \n",
       "  \" fill=\"#009af9\" fill-rule=\"evenodd\" fill-opacity=\"1\"/>\n",
       "<polyline clip-path=\"url(#clip9502)\" style=\"stroke:#000000; stroke-width:4; stroke-opacity:1; fill:none\" points=\"\n",
       "  1358.83,224.05 1358.83,1446.71 1378.34,1446.71 1378.34,224.05 1358.83,224.05 \n",
       "  \"/>\n",
       "<polygon clip-path=\"url(#clip9502)\" points=\"\n",
       "1378.34,275.203 1378.34,1446.71 1397.85,1446.71 1397.85,275.203 1378.34,275.203 1378.34,275.203 \n",
       "  \" fill=\"#009af9\" fill-rule=\"evenodd\" fill-opacity=\"1\"/>\n",
       "<polyline clip-path=\"url(#clip9502)\" style=\"stroke:#000000; stroke-width:4; stroke-opacity:1; fill:none\" points=\"\n",
       "  1378.34,275.203 1378.34,1446.71 1397.85,1446.71 1397.85,275.203 1378.34,275.203 \n",
       "  \"/>\n",
       "<polygon clip-path=\"url(#clip9502)\" points=\"\n",
       "1397.85,349.291 1397.85,1446.71 1417.37,1446.71 1417.37,349.291 1397.85,349.291 1397.85,349.291 \n",
       "  \" fill=\"#009af9\" fill-rule=\"evenodd\" fill-opacity=\"1\"/>\n",
       "<polyline clip-path=\"url(#clip9502)\" style=\"stroke:#000000; stroke-width:4; stroke-opacity:1; fill:none\" points=\"\n",
       "  1397.85,349.291 1397.85,1446.71 1417.37,1446.71 1417.37,349.291 1397.85,349.291 \n",
       "  \"/>\n",
       "<polygon clip-path=\"url(#clip9502)\" points=\"\n",
       "1417.37,441.51 1417.37,1446.71 1436.88,1446.71 1436.88,441.51 1417.37,441.51 1417.37,441.51 \n",
       "  \" fill=\"#009af9\" fill-rule=\"evenodd\" fill-opacity=\"1\"/>\n",
       "<polyline clip-path=\"url(#clip9502)\" style=\"stroke:#000000; stroke-width:4; stroke-opacity:1; fill:none\" points=\"\n",
       "  1417.37,441.51 1417.37,1446.71 1436.88,1446.71 1436.88,441.51 1417.37,441.51 \n",
       "  \"/>\n",
       "<polygon clip-path=\"url(#clip9502)\" points=\"\n",
       "1436.88,502.205 1436.88,1446.71 1456.4,1446.71 1456.4,502.205 1436.88,502.205 1436.88,502.205 \n",
       "  \" fill=\"#009af9\" fill-rule=\"evenodd\" fill-opacity=\"1\"/>\n",
       "<polyline clip-path=\"url(#clip9502)\" style=\"stroke:#000000; stroke-width:4; stroke-opacity:1; fill:none\" points=\"\n",
       "  1436.88,502.205 1436.88,1446.71 1456.4,1446.71 1456.4,502.205 1436.88,502.205 \n",
       "  \"/>\n",
       "<polygon clip-path=\"url(#clip9502)\" points=\"\n",
       "1456.4,585.87 1456.4,1446.71 1475.91,1446.71 1475.91,585.87 1456.4,585.87 1456.4,585.87 \n",
       "  \" fill=\"#009af9\" fill-rule=\"evenodd\" fill-opacity=\"1\"/>\n",
       "<polyline clip-path=\"url(#clip9502)\" style=\"stroke:#000000; stroke-width:4; stroke-opacity:1; fill:none\" points=\"\n",
       "  1456.4,585.87 1456.4,1446.71 1475.91,1446.71 1475.91,585.87 1456.4,585.87 \n",
       "  \"/>\n",
       "<polygon clip-path=\"url(#clip9502)\" points=\"\n",
       "1475.91,661.015 1475.91,1446.71 1495.43,1446.71 1495.43,661.015 1475.91,661.015 1475.91,661.015 \n",
       "  \" fill=\"#009af9\" fill-rule=\"evenodd\" fill-opacity=\"1\"/>\n",
       "<polyline clip-path=\"url(#clip9502)\" style=\"stroke:#000000; stroke-width:4; stroke-opacity:1; fill:none\" points=\"\n",
       "  1475.91,661.015 1475.91,1446.71 1495.43,1446.71 1495.43,661.015 1475.91,661.015 \n",
       "  \"/>\n",
       "<polygon clip-path=\"url(#clip9502)\" points=\"\n",
       "1495.43,735.274 1495.43,1446.71 1514.94,1446.71 1514.94,735.274 1495.43,735.274 1495.43,735.274 \n",
       "  \" fill=\"#009af9\" fill-rule=\"evenodd\" fill-opacity=\"1\"/>\n",
       "<polyline clip-path=\"url(#clip9502)\" style=\"stroke:#000000; stroke-width:4; stroke-opacity:1; fill:none\" points=\"\n",
       "  1495.43,735.274 1495.43,1446.71 1514.94,1446.71 1514.94,735.274 1495.43,735.274 \n",
       "  \"/>\n",
       "<polygon clip-path=\"url(#clip9502)\" points=\"\n",
       "1514.94,820.506 1514.94,1446.71 1534.46,1446.71 1534.46,820.506 1514.94,820.506 1514.94,820.506 \n",
       "  \" fill=\"#009af9\" fill-rule=\"evenodd\" fill-opacity=\"1\"/>\n",
       "<polyline clip-path=\"url(#clip9502)\" style=\"stroke:#000000; stroke-width:4; stroke-opacity:1; fill:none\" points=\"\n",
       "  1514.94,820.506 1514.94,1446.71 1534.46,1446.71 1534.46,820.506 1514.94,820.506 \n",
       "  \"/>\n",
       "<polygon clip-path=\"url(#clip9502)\" points=\"\n",
       "1534.46,895.992 1534.46,1446.71 1553.97,1446.71 1553.97,895.992 1534.46,895.992 1534.46,895.992 \n",
       "  \" fill=\"#009af9\" fill-rule=\"evenodd\" fill-opacity=\"1\"/>\n",
       "<polyline clip-path=\"url(#clip9502)\" style=\"stroke:#000000; stroke-width:4; stroke-opacity:1; fill:none\" points=\"\n",
       "  1534.46,895.992 1534.46,1446.71 1553.97,1446.71 1553.97,895.992 1534.46,895.992 \n",
       "  \"/>\n",
       "<polygon clip-path=\"url(#clip9502)\" points=\"\n",
       "1553.97,969.637 1553.97,1446.71 1573.49,1446.71 1573.49,969.637 1553.97,969.637 1553.97,969.637 \n",
       "  \" fill=\"#009af9\" fill-rule=\"evenodd\" fill-opacity=\"1\"/>\n",
       "<polyline clip-path=\"url(#clip9502)\" style=\"stroke:#000000; stroke-width:4; stroke-opacity:1; fill:none\" points=\"\n",
       "  1553.97,969.637 1553.97,1446.71 1573.49,1446.71 1573.49,969.637 1553.97,969.637 \n",
       "  \"/>\n",
       "<polygon clip-path=\"url(#clip9502)\" points=\"\n",
       "1573.49,1022.87 1573.49,1446.71 1593,1446.71 1593,1022.87 1573.49,1022.87 1573.49,1022.87 \n",
       "  \" fill=\"#009af9\" fill-rule=\"evenodd\" fill-opacity=\"1\"/>\n",
       "<polyline clip-path=\"url(#clip9502)\" style=\"stroke:#000000; stroke-width:4; stroke-opacity:1; fill:none\" points=\"\n",
       "  1573.49,1022.87 1573.49,1446.71 1593,1446.71 1593,1022.87 1573.49,1022.87 \n",
       "  \"/>\n",
       "<polygon clip-path=\"url(#clip9502)\" points=\"\n",
       "1593,1104.15 1593,1446.71 1612.51,1446.71 1612.51,1104.15 1593,1104.15 1593,1104.15 \n",
       "  \" fill=\"#009af9\" fill-rule=\"evenodd\" fill-opacity=\"1\"/>\n",
       "<polyline clip-path=\"url(#clip9502)\" style=\"stroke:#000000; stroke-width:4; stroke-opacity:1; fill:none\" points=\"\n",
       "  1593,1104.15 1593,1446.71 1612.51,1446.71 1612.51,1104.15 1593,1104.15 \n",
       "  \"/>\n",
       "<polygon clip-path=\"url(#clip9502)\" points=\"\n",
       "1612.51,1152.03 1612.51,1446.71 1632.03,1446.71 1632.03,1152.03 1612.51,1152.03 1612.51,1152.03 \n",
       "  \" fill=\"#009af9\" fill-rule=\"evenodd\" fill-opacity=\"1\"/>\n",
       "<polyline clip-path=\"url(#clip9502)\" style=\"stroke:#000000; stroke-width:4; stroke-opacity:1; fill:none\" points=\"\n",
       "  1612.51,1152.03 1612.51,1446.71 1632.03,1446.71 1632.03,1152.03 1612.51,1152.03 \n",
       "  \"/>\n",
       "<polygon clip-path=\"url(#clip9502)\" points=\"\n",
       "1632.03,1200.83 1632.03,1446.71 1651.54,1446.71 1651.54,1200.83 1632.03,1200.83 1632.03,1200.83 \n",
       "  \" fill=\"#009af9\" fill-rule=\"evenodd\" fill-opacity=\"1\"/>\n",
       "<polyline clip-path=\"url(#clip9502)\" style=\"stroke:#000000; stroke-width:4; stroke-opacity:1; fill:none\" points=\"\n",
       "  1632.03,1200.83 1632.03,1446.71 1651.54,1446.71 1651.54,1200.83 1632.03,1200.83 \n",
       "  \"/>\n",
       "<polygon clip-path=\"url(#clip9502)\" points=\"\n",
       "1651.54,1241.59 1651.54,1446.71 1671.06,1446.71 1671.06,1241.59 1651.54,1241.59 1651.54,1241.59 \n",
       "  \" fill=\"#009af9\" fill-rule=\"evenodd\" fill-opacity=\"1\"/>\n",
       "<polyline clip-path=\"url(#clip9502)\" style=\"stroke:#000000; stroke-width:4; stroke-opacity:1; fill:none\" points=\"\n",
       "  1651.54,1241.59 1651.54,1446.71 1671.06,1446.71 1671.06,1241.59 1651.54,1241.59 \n",
       "  \"/>\n",
       "<polygon clip-path=\"url(#clip9502)\" points=\"\n",
       "1671.06,1281.36 1671.06,1446.71 1690.57,1446.71 1690.57,1281.36 1671.06,1281.36 1671.06,1281.36 \n",
       "  \" fill=\"#009af9\" fill-rule=\"evenodd\" fill-opacity=\"1\"/>\n",
       "<polyline clip-path=\"url(#clip9502)\" style=\"stroke:#000000; stroke-width:4; stroke-opacity:1; fill:none\" points=\"\n",
       "  1671.06,1281.36 1671.06,1446.71 1690.57,1446.71 1690.57,1281.36 1671.06,1281.36 \n",
       "  \"/>\n",
       "<polygon clip-path=\"url(#clip9502)\" points=\"\n",
       "1690.57,1314.66 1690.57,1446.71 1710.09,1446.71 1710.09,1314.66 1690.57,1314.66 1690.57,1314.66 \n",
       "  \" fill=\"#009af9\" fill-rule=\"evenodd\" fill-opacity=\"1\"/>\n",
       "<polyline clip-path=\"url(#clip9502)\" style=\"stroke:#000000; stroke-width:4; stroke-opacity:1; fill:none\" points=\"\n",
       "  1690.57,1314.66 1690.57,1446.71 1710.09,1446.71 1710.09,1314.66 1690.57,1314.66 \n",
       "  \"/>\n",
       "<polygon clip-path=\"url(#clip9502)\" points=\"\n",
       "1710.09,1338.17 1710.09,1446.71 1729.6,1446.71 1729.6,1338.17 1710.09,1338.17 1710.09,1338.17 \n",
       "  \" fill=\"#009af9\" fill-rule=\"evenodd\" fill-opacity=\"1\"/>\n",
       "<polyline clip-path=\"url(#clip9502)\" style=\"stroke:#000000; stroke-width:4; stroke-opacity:1; fill:none\" points=\"\n",
       "  1710.09,1338.17 1710.09,1446.71 1729.6,1446.71 1729.6,1338.17 1710.09,1338.17 \n",
       "  \"/>\n",
       "<polygon clip-path=\"url(#clip9502)\" points=\"\n",
       "1729.6,1359.88 1729.6,1446.71 1749.12,1446.71 1749.12,1359.88 1729.6,1359.88 1729.6,1359.88 \n",
       "  \" fill=\"#009af9\" fill-rule=\"evenodd\" fill-opacity=\"1\"/>\n",
       "<polyline clip-path=\"url(#clip9502)\" style=\"stroke:#000000; stroke-width:4; stroke-opacity:1; fill:none\" points=\"\n",
       "  1729.6,1359.88 1729.6,1446.71 1749.12,1446.71 1749.12,1359.88 1729.6,1359.88 \n",
       "  \"/>\n",
       "<polygon clip-path=\"url(#clip9502)\" points=\"\n",
       "1749.12,1378.28 1749.12,1446.71 1768.63,1446.71 1768.63,1378.28 1749.12,1378.28 1749.12,1378.28 \n",
       "  \" fill=\"#009af9\" fill-rule=\"evenodd\" fill-opacity=\"1\"/>\n",
       "<polyline clip-path=\"url(#clip9502)\" style=\"stroke:#000000; stroke-width:4; stroke-opacity:1; fill:none\" points=\"\n",
       "  1749.12,1378.28 1749.12,1446.71 1768.63,1446.71 1768.63,1378.28 1749.12,1378.28 \n",
       "  \"/>\n",
       "<polygon clip-path=\"url(#clip9502)\" points=\"\n",
       "1768.63,1394.4 1768.63,1446.71 1788.15,1446.71 1788.15,1394.4 1768.63,1394.4 1768.63,1394.4 \n",
       "  \" fill=\"#009af9\" fill-rule=\"evenodd\" fill-opacity=\"1\"/>\n",
       "<polyline clip-path=\"url(#clip9502)\" style=\"stroke:#000000; stroke-width:4; stroke-opacity:1; fill:none\" points=\"\n",
       "  1768.63,1394.4 1768.63,1446.71 1788.15,1446.71 1788.15,1394.4 1768.63,1394.4 \n",
       "  \"/>\n",
       "<polygon clip-path=\"url(#clip9502)\" points=\"\n",
       "1788.15,1407.18 1788.15,1446.71 1807.66,1446.71 1807.66,1407.18 1788.15,1407.18 1788.15,1407.18 \n",
       "  \" fill=\"#009af9\" fill-rule=\"evenodd\" fill-opacity=\"1\"/>\n",
       "<polyline clip-path=\"url(#clip9502)\" style=\"stroke:#000000; stroke-width:4; stroke-opacity:1; fill:none\" points=\"\n",
       "  1788.15,1407.18 1788.15,1446.71 1807.66,1446.71 1807.66,1407.18 1788.15,1407.18 \n",
       "  \"/>\n",
       "<polygon clip-path=\"url(#clip9502)\" points=\"\n",
       "1807.66,1415.97 1807.66,1446.71 1827.17,1446.71 1827.17,1415.97 1807.66,1415.97 1807.66,1415.97 \n",
       "  \" fill=\"#009af9\" fill-rule=\"evenodd\" fill-opacity=\"1\"/>\n",
       "<polyline clip-path=\"url(#clip9502)\" style=\"stroke:#000000; stroke-width:4; stroke-opacity:1; fill:none\" points=\"\n",
       "  1807.66,1415.97 1807.66,1446.71 1827.17,1446.71 1827.17,1415.97 1807.66,1415.97 \n",
       "  \"/>\n",
       "<polygon clip-path=\"url(#clip9502)\" points=\"\n",
       "1827.17,1422.82 1827.17,1446.71 1846.69,1446.71 1846.69,1422.82 1827.17,1422.82 1827.17,1422.82 \n",
       "  \" fill=\"#009af9\" fill-rule=\"evenodd\" fill-opacity=\"1\"/>\n",
       "<polyline clip-path=\"url(#clip9502)\" style=\"stroke:#000000; stroke-width:4; stroke-opacity:1; fill:none\" points=\"\n",
       "  1827.17,1422.82 1827.17,1446.71 1846.69,1446.71 1846.69,1422.82 1827.17,1422.82 \n",
       "  \"/>\n",
       "<polygon clip-path=\"url(#clip9502)\" points=\"\n",
       "1846.69,1428.62 1846.69,1446.71 1866.2,1446.71 1866.2,1428.62 1846.69,1428.62 1846.69,1428.62 \n",
       "  \" fill=\"#009af9\" fill-rule=\"evenodd\" fill-opacity=\"1\"/>\n",
       "<polyline clip-path=\"url(#clip9502)\" style=\"stroke:#000000; stroke-width:4; stroke-opacity:1; fill:none\" points=\"\n",
       "  1846.69,1428.62 1846.69,1446.71 1866.2,1446.71 1866.2,1428.62 1846.69,1428.62 \n",
       "  \"/>\n",
       "<polygon clip-path=\"url(#clip9502)\" points=\"\n",
       "1866.2,1434.38 1866.2,1446.71 1885.72,1446.71 1885.72,1434.38 1866.2,1434.38 1866.2,1434.38 \n",
       "  \" fill=\"#009af9\" fill-rule=\"evenodd\" fill-opacity=\"1\"/>\n",
       "<polyline clip-path=\"url(#clip9502)\" style=\"stroke:#000000; stroke-width:4; stroke-opacity:1; fill:none\" points=\"\n",
       "  1866.2,1434.38 1866.2,1446.71 1885.72,1446.71 1885.72,1434.38 1866.2,1434.38 \n",
       "  \"/>\n",
       "<polygon clip-path=\"url(#clip9502)\" points=\"\n",
       "1885.72,1437.27 1885.72,1446.71 1905.23,1446.71 1905.23,1437.27 1885.72,1437.27 1885.72,1437.27 \n",
       "  \" fill=\"#009af9\" fill-rule=\"evenodd\" fill-opacity=\"1\"/>\n",
       "<polyline clip-path=\"url(#clip9502)\" style=\"stroke:#000000; stroke-width:4; stroke-opacity:1; fill:none\" points=\"\n",
       "  1885.72,1437.27 1885.72,1446.71 1905.23,1446.71 1905.23,1437.27 1885.72,1437.27 \n",
       "  \"/>\n",
       "<polygon clip-path=\"url(#clip9502)\" points=\"\n",
       "1905.23,1440.65 1905.23,1446.71 1924.75,1446.71 1924.75,1440.65 1905.23,1440.65 1905.23,1440.65 \n",
       "  \" fill=\"#009af9\" fill-rule=\"evenodd\" fill-opacity=\"1\"/>\n",
       "<polyline clip-path=\"url(#clip9502)\" style=\"stroke:#000000; stroke-width:4; stroke-opacity:1; fill:none\" points=\"\n",
       "  1905.23,1440.65 1905.23,1446.71 1924.75,1446.71 1924.75,1440.65 1905.23,1440.65 \n",
       "  \"/>\n",
       "<polygon clip-path=\"url(#clip9502)\" points=\"\n",
       "1924.75,1441.91 1924.75,1446.71 1944.26,1446.71 1944.26,1441.91 1924.75,1441.91 1924.75,1441.91 \n",
       "  \" fill=\"#009af9\" fill-rule=\"evenodd\" fill-opacity=\"1\"/>\n",
       "<polyline clip-path=\"url(#clip9502)\" style=\"stroke:#000000; stroke-width:4; stroke-opacity:1; fill:none\" points=\"\n",
       "  1924.75,1441.91 1924.75,1446.71 1944.26,1446.71 1944.26,1441.91 1924.75,1441.91 \n",
       "  \"/>\n",
       "<polygon clip-path=\"url(#clip9502)\" points=\"\n",
       "1944.26,1442.69 1944.26,1446.71 1963.78,1446.71 1963.78,1442.69 1944.26,1442.69 1944.26,1442.69 \n",
       "  \" fill=\"#009af9\" fill-rule=\"evenodd\" fill-opacity=\"1\"/>\n",
       "<polyline clip-path=\"url(#clip9502)\" style=\"stroke:#000000; stroke-width:4; stroke-opacity:1; fill:none\" points=\"\n",
       "  1944.26,1442.69 1944.26,1446.71 1963.78,1446.71 1963.78,1442.69 1944.26,1442.69 \n",
       "  \"/>\n",
       "<polygon clip-path=\"url(#clip9502)\" points=\"\n",
       "1963.78,1444.09 1963.78,1446.71 1983.29,1446.71 1983.29,1444.09 1963.78,1444.09 1963.78,1444.09 \n",
       "  \" fill=\"#009af9\" fill-rule=\"evenodd\" fill-opacity=\"1\"/>\n",
       "<polyline clip-path=\"url(#clip9502)\" style=\"stroke:#000000; stroke-width:4; stroke-opacity:1; fill:none\" points=\"\n",
       "  1963.78,1444.09 1963.78,1446.71 1983.29,1446.71 1983.29,1444.09 1963.78,1444.09 \n",
       "  \"/>\n",
       "<polygon clip-path=\"url(#clip9502)\" points=\"\n",
       "1983.29,1444.77 1983.29,1446.71 2002.81,1446.71 2002.81,1444.77 1983.29,1444.77 1983.29,1444.77 \n",
       "  \" fill=\"#009af9\" fill-rule=\"evenodd\" fill-opacity=\"1\"/>\n",
       "<polyline clip-path=\"url(#clip9502)\" style=\"stroke:#000000; stroke-width:4; stroke-opacity:1; fill:none\" points=\"\n",
       "  1983.29,1444.77 1983.29,1446.71 2002.81,1446.71 2002.81,1444.77 1983.29,1444.77 \n",
       "  \"/>\n",
       "<polygon clip-path=\"url(#clip9502)\" points=\"\n",
       "2002.81,1445.42 2002.81,1446.71 2022.32,1446.71 2022.32,1445.42 2002.81,1445.42 2002.81,1445.42 \n",
       "  \" fill=\"#009af9\" fill-rule=\"evenodd\" fill-opacity=\"1\"/>\n",
       "<polyline clip-path=\"url(#clip9502)\" style=\"stroke:#000000; stroke-width:4; stroke-opacity:1; fill:none\" points=\"\n",
       "  2002.81,1445.42 2002.81,1446.71 2022.32,1446.71 2022.32,1445.42 2002.81,1445.42 \n",
       "  \"/>\n",
       "<polygon clip-path=\"url(#clip9502)\" points=\"\n",
       "2022.32,1445.79 2022.32,1446.71 2041.83,1446.71 2041.83,1445.79 2022.32,1445.79 2022.32,1445.79 \n",
       "  \" fill=\"#009af9\" fill-rule=\"evenodd\" fill-opacity=\"1\"/>\n",
       "<polyline clip-path=\"url(#clip9502)\" style=\"stroke:#000000; stroke-width:4; stroke-opacity:1; fill:none\" points=\"\n",
       "  2022.32,1445.79 2022.32,1446.71 2041.83,1446.71 2041.83,1445.79 2022.32,1445.79 \n",
       "  \"/>\n",
       "<polygon clip-path=\"url(#clip9502)\" points=\"\n",
       "2041.83,1446.07 2041.83,1446.71 2061.35,1446.71 2061.35,1446.07 2041.83,1446.07 2041.83,1446.07 \n",
       "  \" fill=\"#009af9\" fill-rule=\"evenodd\" fill-opacity=\"1\"/>\n",
       "<polyline clip-path=\"url(#clip9502)\" style=\"stroke:#000000; stroke-width:4; stroke-opacity:1; fill:none\" points=\"\n",
       "  2041.83,1446.07 2041.83,1446.71 2061.35,1446.71 2061.35,1446.07 2041.83,1446.07 \n",
       "  \"/>\n",
       "<polygon clip-path=\"url(#clip9502)\" points=\"\n",
       "2061.35,1446.34 2061.35,1446.71 2080.86,1446.71 2080.86,1446.34 2061.35,1446.34 2061.35,1446.34 \n",
       "  \" fill=\"#009af9\" fill-rule=\"evenodd\" fill-opacity=\"1\"/>\n",
       "<polyline clip-path=\"url(#clip9502)\" style=\"stroke:#000000; stroke-width:4; stroke-opacity:1; fill:none\" points=\"\n",
       "  2061.35,1446.34 2061.35,1446.71 2080.86,1446.71 2080.86,1446.34 2061.35,1446.34 \n",
       "  \"/>\n",
       "<polygon clip-path=\"url(#clip9502)\" points=\"\n",
       "2080.86,1446.37 2080.86,1446.71 2100.38,1446.71 2100.38,1446.37 2080.86,1446.37 2080.86,1446.37 \n",
       "  \" fill=\"#009af9\" fill-rule=\"evenodd\" fill-opacity=\"1\"/>\n",
       "<polyline clip-path=\"url(#clip9502)\" style=\"stroke:#000000; stroke-width:4; stroke-opacity:1; fill:none\" points=\"\n",
       "  2080.86,1446.37 2080.86,1446.71 2100.38,1446.71 2100.38,1446.37 2080.86,1446.37 \n",
       "  \"/>\n",
       "<polygon clip-path=\"url(#clip9502)\" points=\"\n",
       "2100.38,1446.51 2100.38,1446.71 2119.89,1446.71 2119.89,1446.51 2100.38,1446.51 2100.38,1446.51 \n",
       "  \" fill=\"#009af9\" fill-rule=\"evenodd\" fill-opacity=\"1\"/>\n",
       "<polyline clip-path=\"url(#clip9502)\" style=\"stroke:#000000; stroke-width:4; stroke-opacity:1; fill:none\" points=\"\n",
       "  2100.38,1446.51 2100.38,1446.71 2119.89,1446.71 2119.89,1446.51 2100.38,1446.51 \n",
       "  \"/>\n",
       "<polygon clip-path=\"url(#clip9502)\" points=\"\n",
       "2119.89,1446.65 2119.89,1446.71 2139.41,1446.71 2139.41,1446.65 2119.89,1446.65 2119.89,1446.65 \n",
       "  \" fill=\"#009af9\" fill-rule=\"evenodd\" fill-opacity=\"1\"/>\n",
       "<polyline clip-path=\"url(#clip9502)\" style=\"stroke:#000000; stroke-width:4; stroke-opacity:1; fill:none\" points=\"\n",
       "  2119.89,1446.65 2119.89,1446.71 2139.41,1446.71 2139.41,1446.65 2119.89,1446.65 \n",
       "  \"/>\n",
       "<polygon clip-path=\"url(#clip9502)\" points=\"\n",
       "2139.41,1446.65 2139.41,1446.71 2158.92,1446.71 2158.92,1446.65 2139.41,1446.65 2139.41,1446.65 \n",
       "  \" fill=\"#009af9\" fill-rule=\"evenodd\" fill-opacity=\"1\"/>\n",
       "<polyline clip-path=\"url(#clip9502)\" style=\"stroke:#000000; stroke-width:4; stroke-opacity:1; fill:none\" points=\"\n",
       "  2139.41,1446.65 2139.41,1446.71 2158.92,1446.71 2158.92,1446.65 2139.41,1446.65 \n",
       "  \"/>\n",
       "<polygon clip-path=\"url(#clip9502)\" points=\"\n",
       "2158.92,1446.71 2158.92,1446.71 2178.44,1446.71 2178.44,1446.71 2158.92,1446.71 2158.92,1446.71 \n",
       "  \" fill=\"#009af9\" fill-rule=\"evenodd\" fill-opacity=\"1\"/>\n",
       "<polyline clip-path=\"url(#clip9502)\" style=\"stroke:#000000; stroke-width:4; stroke-opacity:1; fill:none\" points=\"\n",
       "  2158.92,1446.71 2158.92,1446.71 2178.44,1446.71 2158.92,1446.71 \n",
       "  \"/>\n",
       "<polygon clip-path=\"url(#clip9502)\" points=\"\n",
       "2178.44,1446.71 2178.44,1446.71 2197.95,1446.71 2197.95,1446.71 2178.44,1446.71 2178.44,1446.71 \n",
       "  \" fill=\"#009af9\" fill-rule=\"evenodd\" fill-opacity=\"1\"/>\n",
       "<polyline clip-path=\"url(#clip9502)\" style=\"stroke:#000000; stroke-width:4; stroke-opacity:1; fill:none\" points=\"\n",
       "  2178.44,1446.71 2178.44,1446.71 2197.95,1446.71 2178.44,1446.71 \n",
       "  \"/>\n",
       "<polygon clip-path=\"url(#clip9502)\" points=\"\n",
       "2197.95,1446.68 2197.95,1446.71 2217.47,1446.71 2217.47,1446.68 2197.95,1446.68 2197.95,1446.68 \n",
       "  \" fill=\"#009af9\" fill-rule=\"evenodd\" fill-opacity=\"1\"/>\n",
       "<polyline clip-path=\"url(#clip9502)\" style=\"stroke:#000000; stroke-width:4; stroke-opacity:1; fill:none\" points=\"\n",
       "  2197.95,1446.68 2197.95,1446.71 2217.47,1446.71 2217.47,1446.68 2197.95,1446.68 \n",
       "  \"/>\n",
       "<polygon clip-path=\"url(#clip9502)\" points=\"\n",
       "2217.47,1446.68 2217.47,1446.71 2236.98,1446.71 2236.98,1446.68 2217.47,1446.68 2217.47,1446.68 \n",
       "  \" fill=\"#009af9\" fill-rule=\"evenodd\" fill-opacity=\"1\"/>\n",
       "<polyline clip-path=\"url(#clip9502)\" style=\"stroke:#000000; stroke-width:4; stroke-opacity:1; fill:none\" points=\"\n",
       "  2217.47,1446.68 2217.47,1446.71 2236.98,1446.71 2236.98,1446.68 2217.47,1446.68 \n",
       "  \"/>\n",
       "<polygon clip-path=\"url(#clip9500)\" points=\"\n",
       "1989.93,251.724 2280.76,251.724 2280.76,130.764 1989.93,130.764 \n",
       "  \" fill=\"#ffffff\" fill-rule=\"evenodd\" fill-opacity=\"1\"/>\n",
       "<polyline clip-path=\"url(#clip9500)\" style=\"stroke:#000000; stroke-width:4; stroke-opacity:1; fill:none\" points=\"\n",
       "  1989.93,251.724 2280.76,251.724 2280.76,130.764 1989.93,130.764 1989.93,251.724 \n",
       "  \"/>\n",
       "<polygon clip-path=\"url(#clip9500)\" points=\"\n",
       "2013.93,215.436 2157.93,215.436 2157.93,167.052 2013.93,167.052 2013.93,215.436 \n",
       "  \" fill=\"#009af9\" fill-rule=\"evenodd\" fill-opacity=\"1\"/>\n",
       "<polyline clip-path=\"url(#clip9500)\" style=\"stroke:#000000; stroke-width:4; stroke-opacity:1; fill:none\" points=\"\n",
       "  2013.93,215.436 2157.93,215.436 2157.93,167.052 2013.93,167.052 2013.93,215.436 \n",
       "  \"/>\n",
       "<g clip-path=\"url(#clip9500)\">\n",
       "<text style=\"fill:#000000; fill-opacity:1; font-family:Arial,Helvetica Neue,Helvetica,sans-serif; font-size:48px; text-anchor:start;\" transform=\"rotate(0, 2181.93, 208.744)\" x=\"2181.93\" y=\"208.744\">y1</text>\n",
       "</g>\n",
       "</svg>\n"
      ]
     },
     "execution_count": 13,
     "metadata": {},
     "output_type": "execute_result"
    }
   ],
   "source": [
    "o = Hist(-5:.1:5)\n",
    "\n",
    "fit!(o, randn(10^6))\n",
    "\n",
    "plot(o)"
   ]
  },
  {
   "cell_type": "code",
   "execution_count": 14,
   "metadata": {},
   "outputs": [
    {
     "data": {
      "image/svg+xml": [
       "<?xml version=\"1.0\" encoding=\"utf-8\"?>\n",
       "<svg xmlns=\"http://www.w3.org/2000/svg\" xmlns:xlink=\"http://www.w3.org/1999/xlink\" width=\"600\" height=\"400\" viewBox=\"0 0 2400 1600\">\n",
       "<defs>\n",
       "  <clipPath id=\"clip9900\">\n",
       "    <rect x=\"0\" y=\"0\" width=\"2400\" height=\"1600\"/>\n",
       "  </clipPath>\n",
       "</defs>\n",
       "<polygon clip-path=\"url(#clip9900)\" points=\"\n",
       "0,1600 2400,1600 2400,0 0,0 \n",
       "  \" fill=\"#ffffff\" fill-rule=\"evenodd\" fill-opacity=\"1\"/>\n",
       "<defs>\n",
       "  <clipPath id=\"clip9901\">\n",
       "    <rect x=\"480\" y=\"0\" width=\"1681\" height=\"1600\"/>\n",
       "  </clipPath>\n",
       "</defs>\n",
       "<polygon clip-path=\"url(#clip9900)\" points=\"\n",
       "261.188,1487.47 2352.76,1487.47 2352.76,47.2441 261.188,47.2441 \n",
       "  \" fill=\"#ffffff\" fill-rule=\"evenodd\" fill-opacity=\"1\"/>\n",
       "<defs>\n",
       "  <clipPath id=\"clip9902\">\n",
       "    <rect x=\"261\" y=\"47\" width=\"2093\" height=\"1441\"/>\n",
       "  </clipPath>\n",
       "</defs>\n",
       "<polyline clip-path=\"url(#clip9902)\" style=\"stroke:#000000; stroke-width:2; stroke-opacity:0.1; fill:none\" points=\"\n",
       "  789.892,1487.47 789.892,47.2441 \n",
       "  \"/>\n",
       "<polyline clip-path=\"url(#clip9902)\" style=\"stroke:#000000; stroke-width:2; stroke-opacity:0.1; fill:none\" points=\"\n",
       "  1824.05,1487.47 1824.05,47.2441 \n",
       "  \"/>\n",
       "<polyline clip-path=\"url(#clip9902)\" style=\"stroke:#000000; stroke-width:2; stroke-opacity:0.1; fill:none\" points=\"\n",
       "  261.188,1446.71 2352.76,1446.71 \n",
       "  \"/>\n",
       "<polyline clip-path=\"url(#clip9902)\" style=\"stroke:#000000; stroke-width:2; stroke-opacity:0.1; fill:none\" points=\"\n",
       "  261.188,1242.92 2352.76,1242.92 \n",
       "  \"/>\n",
       "<polyline clip-path=\"url(#clip9902)\" style=\"stroke:#000000; stroke-width:2; stroke-opacity:0.1; fill:none\" points=\"\n",
       "  261.188,1039.12 2352.76,1039.12 \n",
       "  \"/>\n",
       "<polyline clip-path=\"url(#clip9902)\" style=\"stroke:#000000; stroke-width:2; stroke-opacity:0.1; fill:none\" points=\"\n",
       "  261.188,835.324 2352.76,835.324 \n",
       "  \"/>\n",
       "<polyline clip-path=\"url(#clip9902)\" style=\"stroke:#000000; stroke-width:2; stroke-opacity:0.1; fill:none\" points=\"\n",
       "  261.188,631.527 2352.76,631.527 \n",
       "  \"/>\n",
       "<polyline clip-path=\"url(#clip9902)\" style=\"stroke:#000000; stroke-width:2; stroke-opacity:0.1; fill:none\" points=\"\n",
       "  261.188,427.73 2352.76,427.73 \n",
       "  \"/>\n",
       "<polyline clip-path=\"url(#clip9902)\" style=\"stroke:#000000; stroke-width:2; stroke-opacity:0.1; fill:none\" points=\"\n",
       "  261.188,223.934 2352.76,223.934 \n",
       "  \"/>\n",
       "<polyline clip-path=\"url(#clip9900)\" style=\"stroke:#000000; stroke-width:4; stroke-opacity:1; fill:none\" points=\"\n",
       "  261.188,1487.47 2352.76,1487.47 \n",
       "  \"/>\n",
       "<polyline clip-path=\"url(#clip9900)\" style=\"stroke:#000000; stroke-width:4; stroke-opacity:1; fill:none\" points=\"\n",
       "  261.188,1487.47 261.188,47.2441 \n",
       "  \"/>\n",
       "<polyline clip-path=\"url(#clip9900)\" style=\"stroke:#000000; stroke-width:4; stroke-opacity:1; fill:none\" points=\"\n",
       "  789.892,1487.47 789.892,1465.87 \n",
       "  \"/>\n",
       "<polyline clip-path=\"url(#clip9900)\" style=\"stroke:#000000; stroke-width:4; stroke-opacity:1; fill:none\" points=\"\n",
       "  1824.05,1487.47 1824.05,1465.87 \n",
       "  \"/>\n",
       "<polyline clip-path=\"url(#clip9900)\" style=\"stroke:#000000; stroke-width:4; stroke-opacity:1; fill:none\" points=\"\n",
       "  261.188,1446.71 292.562,1446.71 \n",
       "  \"/>\n",
       "<polyline clip-path=\"url(#clip9900)\" style=\"stroke:#000000; stroke-width:4; stroke-opacity:1; fill:none\" points=\"\n",
       "  261.188,1242.92 292.562,1242.92 \n",
       "  \"/>\n",
       "<polyline clip-path=\"url(#clip9900)\" style=\"stroke:#000000; stroke-width:4; stroke-opacity:1; fill:none\" points=\"\n",
       "  261.188,1039.12 292.562,1039.12 \n",
       "  \"/>\n",
       "<polyline clip-path=\"url(#clip9900)\" style=\"stroke:#000000; stroke-width:4; stroke-opacity:1; fill:none\" points=\"\n",
       "  261.188,835.324 292.562,835.324 \n",
       "  \"/>\n",
       "<polyline clip-path=\"url(#clip9900)\" style=\"stroke:#000000; stroke-width:4; stroke-opacity:1; fill:none\" points=\"\n",
       "  261.188,631.527 292.562,631.527 \n",
       "  \"/>\n",
       "<polyline clip-path=\"url(#clip9900)\" style=\"stroke:#000000; stroke-width:4; stroke-opacity:1; fill:none\" points=\"\n",
       "  261.188,427.73 292.562,427.73 \n",
       "  \"/>\n",
       "<polyline clip-path=\"url(#clip9900)\" style=\"stroke:#000000; stroke-width:4; stroke-opacity:1; fill:none\" points=\"\n",
       "  261.188,223.934 292.562,223.934 \n",
       "  \"/>\n",
       "<g clip-path=\"url(#clip9900)\">\n",
       "<text style=\"fill:#000000; fill-opacity:1; font-family:Arial,Helvetica Neue,Helvetica,sans-serif; font-size:48px; text-anchor:middle;\" transform=\"rotate(0, 789.892, 1541.47)\" x=\"789.892\" y=\"1541.47\">A</text>\n",
       "</g>\n",
       "<g clip-path=\"url(#clip9900)\">\n",
       "<text style=\"fill:#000000; fill-opacity:1; font-family:Arial,Helvetica Neue,Helvetica,sans-serif; font-size:48px; text-anchor:middle;\" transform=\"rotate(0, 1824.05, 1541.47)\" x=\"1824.05\" y=\"1541.47\">B</text>\n",
       "</g>\n",
       "<g clip-path=\"url(#clip9900)\">\n",
       "<text style=\"fill:#000000; fill-opacity:1; font-family:Arial,Helvetica Neue,Helvetica,sans-serif; font-size:48px; text-anchor:end;\" transform=\"rotate(0, 237.188, 1464.21)\" x=\"237.188\" y=\"1464.21\">0</text>\n",
       "</g>\n",
       "<g clip-path=\"url(#clip9900)\">\n",
       "<text style=\"fill:#000000; fill-opacity:1; font-family:Arial,Helvetica Neue,Helvetica,sans-serif; font-size:48px; text-anchor:start;\" transform=\"rotate(0, 107.046, 1266.64)\" x=\"107.046\" y=\"1266.64\">1×10</text>\n",
       "</g>\n",
       "<g clip-path=\"url(#clip9900)\">\n",
       "<text style=\"fill:#000000; fill-opacity:1; font-family:Arial,Helvetica Neue,Helvetica,sans-serif; font-size:38px; text-anchor:start;\" transform=\"rotate(0, 215.444, 1239.23)\" x=\"215.444\" y=\"1239.23\">5</text>\n",
       "</g>\n",
       "<g clip-path=\"url(#clip9900)\">\n",
       "<text style=\"fill:#000000; fill-opacity:1; font-family:Arial,Helvetica Neue,Helvetica,sans-serif; font-size:48px; text-anchor:start;\" transform=\"rotate(0, 107.046, 1062.85)\" x=\"107.046\" y=\"1062.85\">2×10</text>\n",
       "</g>\n",
       "<g clip-path=\"url(#clip9900)\">\n",
       "<text style=\"fill:#000000; fill-opacity:1; font-family:Arial,Helvetica Neue,Helvetica,sans-serif; font-size:38px; text-anchor:start;\" transform=\"rotate(0, 215.444, 1035.44)\" x=\"215.444\" y=\"1035.44\">5</text>\n",
       "</g>\n",
       "<g clip-path=\"url(#clip9900)\">\n",
       "<text style=\"fill:#000000; fill-opacity:1; font-family:Arial,Helvetica Neue,Helvetica,sans-serif; font-size:48px; text-anchor:start;\" transform=\"rotate(0, 107.046, 859.051)\" x=\"107.046\" y=\"859.051\">3×10</text>\n",
       "</g>\n",
       "<g clip-path=\"url(#clip9900)\">\n",
       "<text style=\"fill:#000000; fill-opacity:1; font-family:Arial,Helvetica Neue,Helvetica,sans-serif; font-size:38px; text-anchor:start;\" transform=\"rotate(0, 215.444, 831.641)\" x=\"215.444\" y=\"831.641\">5</text>\n",
       "</g>\n",
       "<g clip-path=\"url(#clip9900)\">\n",
       "<text style=\"fill:#000000; fill-opacity:1; font-family:Arial,Helvetica Neue,Helvetica,sans-serif; font-size:48px; text-anchor:start;\" transform=\"rotate(0, 107.046, 655.255)\" x=\"107.046\" y=\"655.255\">4×10</text>\n",
       "</g>\n",
       "<g clip-path=\"url(#clip9900)\">\n",
       "<text style=\"fill:#000000; fill-opacity:1; font-family:Arial,Helvetica Neue,Helvetica,sans-serif; font-size:38px; text-anchor:start;\" transform=\"rotate(0, 215.444, 627.844)\" x=\"215.444\" y=\"627.844\">5</text>\n",
       "</g>\n",
       "<g clip-path=\"url(#clip9900)\">\n",
       "<text style=\"fill:#000000; fill-opacity:1; font-family:Arial,Helvetica Neue,Helvetica,sans-serif; font-size:48px; text-anchor:start;\" transform=\"rotate(0, 107.046, 451.458)\" x=\"107.046\" y=\"451.458\">5×10</text>\n",
       "</g>\n",
       "<g clip-path=\"url(#clip9900)\">\n",
       "<text style=\"fill:#000000; fill-opacity:1; font-family:Arial,Helvetica Neue,Helvetica,sans-serif; font-size:38px; text-anchor:start;\" transform=\"rotate(0, 215.444, 424.047)\" x=\"215.444\" y=\"424.047\">5</text>\n",
       "</g>\n",
       "<g clip-path=\"url(#clip9900)\">\n",
       "<text style=\"fill:#000000; fill-opacity:1; font-family:Arial,Helvetica Neue,Helvetica,sans-serif; font-size:48px; text-anchor:start;\" transform=\"rotate(0, 107.046, 247.661)\" x=\"107.046\" y=\"247.661\">6×10</text>\n",
       "</g>\n",
       "<g clip-path=\"url(#clip9900)\">\n",
       "<text style=\"fill:#000000; fill-opacity:1; font-family:Arial,Helvetica Neue,Helvetica,sans-serif; font-size:38px; text-anchor:start;\" transform=\"rotate(0, 215.444, 220.251)\" x=\"215.444\" y=\"220.251\">5</text>\n",
       "</g>\n",
       "<polygon clip-path=\"url(#clip9902)\" points=\"\n",
       "376.228,88.0053 376.228,1446.71 1203.56,1446.71 1203.56,88.0053 376.228,88.0053 376.228,88.0053 \n",
       "  \" fill=\"#009af9\" fill-rule=\"evenodd\" fill-opacity=\"1\"/>\n",
       "<polyline clip-path=\"url(#clip9902)\" style=\"stroke:#000000; stroke-width:4; stroke-opacity:1; fill:none\" points=\"\n",
       "  376.228,88.0053 376.228,1446.71 1203.56,1446.71 1203.56,88.0053 376.228,88.0053 \n",
       "  \"/>\n",
       "<polygon clip-path=\"url(#clip9902)\" points=\"\n",
       "1410.39,767.455 1410.39,1446.71 2237.72,1446.71 2237.72,767.455 1410.39,767.455 1410.39,767.455 \n",
       "  \" fill=\"#009af9\" fill-rule=\"evenodd\" fill-opacity=\"1\"/>\n",
       "<polyline clip-path=\"url(#clip9902)\" style=\"stroke:#000000; stroke-width:4; stroke-opacity:1; fill:none\" points=\"\n",
       "  1410.39,767.455 1410.39,1446.71 2237.72,1446.71 2237.72,767.455 1410.39,767.455 \n",
       "  \"/>\n",
       "<polygon clip-path=\"url(#clip9900)\" points=\"\n",
       "1912.34,251.724 2280.76,251.724 2280.76,130.764 1912.34,130.764 \n",
       "  \" fill=\"#ffffff\" fill-rule=\"evenodd\" fill-opacity=\"1\"/>\n",
       "<polyline clip-path=\"url(#clip9900)\" style=\"stroke:#000000; stroke-width:4; stroke-opacity:1; fill:none\" points=\"\n",
       "  1912.34,251.724 2280.76,251.724 2280.76,130.764 1912.34,130.764 1912.34,251.724 \n",
       "  \"/>\n",
       "<polygon clip-path=\"url(#clip9900)\" points=\"\n",
       "1936.34,215.436 2080.34,215.436 2080.34,167.052 1936.34,167.052 1936.34,215.436 \n",
       "  \" fill=\"#009af9\" fill-rule=\"evenodd\" fill-opacity=\"1\"/>\n",
       "<polyline clip-path=\"url(#clip9900)\" style=\"stroke:#000000; stroke-width:4; stroke-opacity:1; fill:none\" points=\"\n",
       "  1936.34,215.436 2080.34,215.436 2080.34,167.052 1936.34,167.052 1936.34,215.436 \n",
       "  \"/>\n",
       "<g clip-path=\"url(#clip9900)\">\n",
       "<text style=\"fill:#000000; fill-opacity:1; font-family:Arial,Helvetica Neue,Helvetica,sans-serif; font-size:48px; text-anchor:start;\" transform=\"rotate(0, 2104.34, 208.744)\" x=\"2104.34\" y=\"208.744\">Count</text>\n",
       "</g>\n",
       "</svg>\n"
      ]
     },
     "execution_count": 14,
     "metadata": {},
     "output_type": "execute_result"
    }
   ],
   "source": [
    "o = CountMap(String)\n",
    "\n",
    "fit!(o, rand([\"A\", \"A\", \"B\"], 10^6))\n",
    "\n",
    "plot(o)"
   ]
  },
  {
   "cell_type": "markdown",
   "metadata": {},
   "source": [
    "#### `Partition` shows a statistic indexed by observation order"
   ]
  },
  {
   "cell_type": "code",
   "execution_count": 15,
   "metadata": {},
   "outputs": [
    {
     "data": {
      "application/vnd.webio.node+json": {
       "children": [
        {
         "children": [
          {
           "children": [
            {
             "children": [
              {
               "children": [
                {
                 "children": [
                  ""
                 ],
                 "instanceArgs": {
                  "namespace": "html",
                  "tag": "label"
                 },
                 "nodeType": "DOM",
                 "props": {
                  "className": "interact ",
                  "style": {
                   "padding": "5px 10px 0px 10px"
                  }
                 },
                 "type": "node"
                }
               ],
               "instanceArgs": {
                "namespace": "html",
                "tag": "div"
               },
               "nodeType": "DOM",
               "props": {
                "className": "interact-flex-row-left"
               },
               "type": "node"
              },
              {
               "children": [
                {
                 "children": [],
                 "instanceArgs": {
                  "namespace": "html",
                  "tag": "input"
                 },
                 "nodeType": "DOM",
                 "props": {
                  "attributes": {
                   "data-bind": "numericValue: index, valueUpdate: 'input', event: {change: function (){this.changes(this.changes()+1)}}",
                   "orient": "horizontal",
                   "type": "range"
                  },
                  "className": "slider slider is-fullwidth",
                  "max": 40,
                  "min": 1,
                  "step": 1,
                  "style": {}
                 },
                 "type": "node"
                }
               ],
               "instanceArgs": {
                "namespace": "html",
                "tag": "div"
               },
               "nodeType": "DOM",
               "props": {
                "className": "interact-flex-row-center"
               },
               "type": "node"
              },
              {
               "children": [
                {
                 "children": [],
                 "instanceArgs": {
                  "namespace": "html",
                  "tag": "p"
                 },
                 "nodeType": "DOM",
                 "props": {
                  "attributes": {
                   "data-bind": "text: formatted_val"
                  }
                 },
                 "type": "node"
                }
               ],
               "instanceArgs": {
                "namespace": "html",
                "tag": "div"
               },
               "nodeType": "DOM",
               "props": {
                "className": "interact-flex-row-right"
               },
               "type": "node"
              }
             ],
             "instanceArgs": {
              "namespace": "html",
              "tag": "div"
             },
             "nodeType": "DOM",
             "props": {
              "className": "interact-flex-row interact-widget"
             },
             "type": "node"
            }
           ],
           "instanceArgs": {
            "handlers": {
             "changes": [
              "(function (val){return (val!=this.model[\"changes\"]()) ? (this.valueFromJulia[\"changes\"]=true, this.model[\"changes\"](val)) : undefined})"
             ],
             "index": [
              "(function (val){return (val!=this.model[\"index\"]()) ? (this.valueFromJulia[\"index\"]=true, this.model[\"index\"](val)) : undefined})"
             ]
            },
            "id": "9447431333096862331",
            "imports": {
             "data": [
              {
               "name": "knockout",
               "type": "js",
               "url": "/assetserver/138fa309f919ec7484ebc55e3091f379f47cc424-knockout.js"
              },
              {
               "name": "knockout_punches",
               "type": "js",
               "url": "/assetserver/620d29c2d3531d56ec3a1d8a13d747afffb44410-knockout_punches.js"
              },
              {
               "name": null,
               "type": "js",
               "url": "/assetserver/57e29df20789a576b69ae2f70e2711fac6716a39-all.js"
              },
              {
               "name": null,
               "type": "css",
               "url": "/assetserver/417d90e06c0658278ea1ef32551ed090a57a1491-style.css"
              },
              {
               "name": null,
               "type": "css",
               "url": "/assetserver/1f5a763355fa31c38c9cab232bda0758d9a22c0d-bulma_confined.min.css"
              }
             ],
             "type": "async_block"
            },
            "mount_callbacks": [
             "function () {\n    var handler = (function (ko, koPunches) {\n    ko.punches.enableAll();\n    ko.bindingHandlers.numericValue = {\n        init: function(element, valueAccessor, allBindings, data, context) {\n            var stringified = ko.observable(ko.unwrap(valueAccessor()));\n            stringified.subscribe(function(value) {\n                var val = parseFloat(value);\n                if (!isNaN(val)) {\n                    valueAccessor()(val);\n                }\n            });\n            valueAccessor().subscribe(function(value) {\n                var str = JSON.stringify(value);\n                if ((str == \"0\") && ([\"-0\", \"-0.\"].indexOf(stringified()) >= 0))\n                     return;\n                 if ([\"null\", \"\"].indexOf(str) >= 0)\n                     return;\n                stringified(str);\n            });\n            ko.applyBindingsToNode(\n                element,\n                {\n                    value: stringified,\n                    valueUpdate: allBindings.get('valueUpdate'),\n                },\n                context,\n            );\n        }\n    };\n    var json_data = {\"formatted_vals\":[\"5\",\"10\",\"15\",\"20\",\"25\",\"30\",\"35\",\"40\",\"45\",\"50\",\"55\",\"60\",\"65\",\"70\",\"75\",\"80\",\"85\",\"90\",\"95\",\"100\",\"105\",\"110\",\"115\",\"120\",\"125\",\"130\",\"135\",\"140\",\"145\",\"150\",\"155\",\"160\",\"165\",\"170\",\"175\",\"180\",\"185\",\"190\",\"195\",\"200\"],\"changes\":WebIO.getval({\"name\":\"changes\",\"scope\":\"9447431333096862331\",\"id\":\"ob_17\",\"type\":\"observable\"}),\"index\":WebIO.getval({\"name\":\"index\",\"scope\":\"9447431333096862331\",\"id\":\"ob_16\",\"type\":\"observable\"})};\n    var self = this;\n    function AppViewModel() {\n        for (var key in json_data) {\n            var el = json_data[key];\n            this[key] = Array.isArray(el) ? ko.observableArray(el) : ko.observable(el);\n        }\n        \n        [this[\"formatted_val\"]=ko.computed(    function(){\n        return this.formatted_vals()[parseInt(this.index())-(1)];\n    }\n,this)]\n        [this[\"changes\"].subscribe((function (val){!(this.valueFromJulia[\"changes\"]) ? (WebIO.setval({\"name\":\"changes\",\"scope\":\"9447431333096862331\",\"id\":\"ob_17\",\"type\":\"observable\"},val)) : undefined; return this.valueFromJulia[\"changes\"]=false}),self),this[\"index\"].subscribe((function (val){!(this.valueFromJulia[\"index\"]) ? (WebIO.setval({\"name\":\"index\",\"scope\":\"9447431333096862331\",\"id\":\"ob_16\",\"type\":\"observable\"},val)) : undefined; return this.valueFromJulia[\"index\"]=false}),self)]\n        \n    }\n    self.model = new AppViewModel();\n    self.valueFromJulia = {};\n    for (var key in json_data) {\n        self.valueFromJulia[key] = false;\n    }\n    ko.applyBindings(self.model, self.dom);\n}\n);\n    (WebIO.importBlock({\"data\":[{\"name\":\"knockout\",\"type\":\"js\",\"url\":\"/assetserver/138fa309f919ec7484ebc55e3091f379f47cc424-knockout.js\"},{\"name\":\"knockout_punches\",\"type\":\"js\",\"url\":\"/assetserver/620d29c2d3531d56ec3a1d8a13d747afffb44410-knockout_punches.js\"}],\"type\":\"async_block\"})).then((imports) => handler.apply(this, imports));\n}\n"
            ],
            "observables": {
             "changes": {
              "id": "ob_17",
              "sync": false,
              "value": 0
             },
             "index": {
              "id": "ob_16",
              "sync": true,
              "value": 1
             }
            },
            "systemjs_options": null
           },
           "nodeType": "Scope",
           "props": {},
           "type": "node"
          }
         ],
         "instanceArgs": {
          "namespace": "html",
          "tag": "div"
         },
         "nodeType": "DOM",
         "props": {
          "className": "field interact-widget"
         },
         "type": "node"
        },
        {
         "children": [
          {
           "children": [],
           "instanceArgs": {
            "id": "ob_23",
            "name": "obs-node"
           },
           "nodeType": "ObservableNode",
           "props": {},
           "type": "node"
          }
         ],
         "instanceArgs": {
          "handlers": {},
          "id": "4628789265929458540",
          "imports": {
           "data": [],
           "type": "async_block"
          },
          "mount_callbacks": [],
          "observables": {
           "obs-node": {
            "id": "ob_23",
            "sync": false,
            "value": {
             "children": [
              {
               "children": [],
               "instanceArgs": {
                "namespace": "html",
                "tag": "div"
               },
               "nodeType": "DOM",
               "props": {
                "setInnerHtml": "<?xml version=\"1.0\" encoding=\"utf-8\"?>\n<svg xmlns=\"http://www.w3.org/2000/svg\" xmlns:xlink=\"http://www.w3.org/1999/xlink\" width=\"600\" height=\"400\" viewBox=\"0 0 2400 1600\">\n<defs>\n  <clipPath id=\"clip0700\">\n    <rect x=\"0\" y=\"0\" width=\"2400\" height=\"1600\"/>\n  </clipPath>\n</defs>\n<polygon clip-path=\"url(#clip0700)\" points=\"\n0,1600 2400,1600 2400,0 0,0 \n  \" fill=\"#ffffff\" fill-rule=\"evenodd\" fill-opacity=\"1\"/>\n<defs>\n  <clipPath id=\"clip0701\">\n    <rect x=\"480\" y=\"0\" width=\"1681\" height=\"1600\"/>\n  </clipPath>\n</defs>\n<polygon clip-path=\"url(#clip0700)\" points=\"\n194.041,1425.62 2352.76,1425.62 2352.76,47.2441 194.041,47.2441 \n  \" fill=\"#ffffff\" fill-rule=\"evenodd\" fill-opacity=\"1\"/>\n<defs>\n  <clipPath id=\"clip0702\">\n    <rect x=\"194\" y=\"47\" width=\"2160\" height=\"1379\"/>\n  </clipPath>\n</defs>\n<polyline clip-path=\"url(#clip0702)\" style=\"stroke:#000000; stroke-width:2; stroke-opacity:0.1; fill:none\" points=\"\n  419.9,1425.62 419.9,47.2441 \n  \"/>\n<polyline clip-path=\"url(#clip0702)\" style=\"stroke:#000000; stroke-width:2; stroke-opacity:0.1; fill:none\" points=\"\n  897.975,1425.62 897.975,47.2441 \n  \"/>\n<polyline clip-path=\"url(#clip0702)\" style=\"stroke:#000000; stroke-width:2; stroke-opacity:0.1; fill:none\" points=\"\n  1376.05,1425.62 1376.05,47.2441 \n  \"/>\n<polyline clip-path=\"url(#clip0702)\" style=\"stroke:#000000; stroke-width:2; stroke-opacity:0.1; fill:none\" points=\"\n  1854.12,1425.62 1854.12,47.2441 \n  \"/>\n<polyline clip-path=\"url(#clip0702)\" style=\"stroke:#000000; stroke-width:2; stroke-opacity:0.1; fill:none\" points=\"\n  2332.2,1425.62 2332.2,47.2441 \n  \"/>\n<polyline clip-path=\"url(#clip0702)\" style=\"stroke:#000000; stroke-width:2; stroke-opacity:0.1; fill:none\" points=\"\n  194.041,1326.04 2352.76,1326.04 \n  \"/>\n<polyline clip-path=\"url(#clip0702)\" style=\"stroke:#000000; stroke-width:2; stroke-opacity:0.1; fill:none\" points=\"\n  194.041,1068.95 2352.76,1068.95 \n  \"/>\n<polyline clip-path=\"url(#clip0702)\" style=\"stroke:#000000; stroke-width:2; stroke-opacity:0.1; fill:none\" points=\"\n  194.041,811.855 2352.76,811.855 \n  \"/>\n<polyline clip-path=\"url(#clip0702)\" style=\"stroke:#000000; stroke-width:2; stroke-opacity:0.1; fill:none\" points=\"\n  194.041,554.761 2352.76,554.761 \n  \"/>\n<polyline clip-path=\"url(#clip0702)\" style=\"stroke:#000000; stroke-width:2; stroke-opacity:0.1; fill:none\" points=\"\n  194.041,297.668 2352.76,297.668 \n  \"/>\n<polyline clip-path=\"url(#clip0700)\" style=\"stroke:#000000; stroke-width:4; stroke-opacity:1; fill:none\" points=\"\n  194.041,1425.62 2352.76,1425.62 \n  \"/>\n<polyline clip-path=\"url(#clip0700)\" style=\"stroke:#000000; stroke-width:4; stroke-opacity:1; fill:none\" points=\"\n  194.041,1425.62 194.041,47.2441 \n  \"/>\n<polyline clip-path=\"url(#clip0700)\" style=\"stroke:#000000; stroke-width:4; stroke-opacity:1; fill:none\" points=\"\n  419.9,1425.62 419.9,1404.94 \n  \"/>\n<polyline clip-path=\"url(#clip0700)\" style=\"stroke:#000000; stroke-width:4; stroke-opacity:1; fill:none\" points=\"\n  897.975,1425.62 897.975,1404.94 \n  \"/>\n<polyline clip-path=\"url(#clip0700)\" style=\"stroke:#000000; stroke-width:4; stroke-opacity:1; fill:none\" points=\"\n  1376.05,1425.62 1376.05,1404.94 \n  \"/>\n<polyline clip-path=\"url(#clip0700)\" style=\"stroke:#000000; stroke-width:4; stroke-opacity:1; fill:none\" points=\"\n  1854.12,1425.62 1854.12,1404.94 \n  \"/>\n<polyline clip-path=\"url(#clip0700)\" style=\"stroke:#000000; stroke-width:4; stroke-opacity:1; fill:none\" points=\"\n  2332.2,1425.62 2332.2,1404.94 \n  \"/>\n<polyline clip-path=\"url(#clip0700)\" style=\"stroke:#000000; stroke-width:4; stroke-opacity:1; fill:none\" points=\"\n  194.041,1326.04 226.422,1326.04 \n  \"/>\n<polyline clip-path=\"url(#clip0700)\" style=\"stroke:#000000; stroke-width:4; stroke-opacity:1; fill:none\" points=\"\n  194.041,1068.95 226.422,1068.95 \n  \"/>\n<polyline clip-path=\"url(#clip0700)\" style=\"stroke:#000000; stroke-width:4; stroke-opacity:1; fill:none\" points=\"\n  194.041,811.855 226.422,811.855 \n  \"/>\n<polyline clip-path=\"url(#clip0700)\" style=\"stroke:#000000; stroke-width:4; stroke-opacity:1; fill:none\" points=\"\n  194.041,554.761 226.422,554.761 \n  \"/>\n<polyline clip-path=\"url(#clip0700)\" style=\"stroke:#000000; stroke-width:4; stroke-opacity:1; fill:none\" points=\"\n  194.041,297.668 226.422,297.668 \n  \"/>\n<g clip-path=\"url(#clip0700)\">\n<text style=\"fill:#000000; fill-opacity:1; font-family:Arial,Helvetica Neue,Helvetica,sans-serif; font-size:48px; text-anchor:start;\" transform=\"rotate(0, 354.829, 1500.63)\" x=\"354.829\" y=\"1500.63\">2×10</text>\n</g>\n<g clip-path=\"url(#clip0700)\">\n<text style=\"fill:#000000; fill-opacity:1; font-family:Arial,Helvetica Neue,Helvetica,sans-serif; font-size:38px; text-anchor:start;\" transform=\"rotate(0, 463.226, 1473.22)\" x=\"463.226\" y=\"1473.22\">5</text>\n</g>\n<g clip-path=\"url(#clip0700)\">\n<text style=\"fill:#000000; fill-opacity:1; font-family:Arial,Helvetica Neue,Helvetica,sans-serif; font-size:48px; text-anchor:start;\" transform=\"rotate(0, 832.904, 1500.63)\" x=\"832.904\" y=\"1500.63\">4×10</text>\n</g>\n<g clip-path=\"url(#clip0700)\">\n<text style=\"fill:#000000; fill-opacity:1; font-family:Arial,Helvetica Neue,Helvetica,sans-serif; font-size:38px; text-anchor:start;\" transform=\"rotate(0, 941.301, 1473.22)\" x=\"941.301\" y=\"1473.22\">5</text>\n</g>\n<g clip-path=\"url(#clip0700)\">\n<text style=\"fill:#000000; fill-opacity:1; font-family:Arial,Helvetica Neue,Helvetica,sans-serif; font-size:48px; text-anchor:start;\" transform=\"rotate(0, 1310.98, 1500.63)\" x=\"1310.98\" y=\"1500.63\">6×10</text>\n</g>\n<g clip-path=\"url(#clip0700)\">\n<text style=\"fill:#000000; fill-opacity:1; font-family:Arial,Helvetica Neue,Helvetica,sans-serif; font-size:38px; text-anchor:start;\" transform=\"rotate(0, 1419.38, 1473.22)\" x=\"1419.38\" y=\"1473.22\">5</text>\n</g>\n<g clip-path=\"url(#clip0700)\">\n<text style=\"fill:#000000; fill-opacity:1; font-family:Arial,Helvetica Neue,Helvetica,sans-serif; font-size:48px; text-anchor:start;\" transform=\"rotate(0, 1789.05, 1500.63)\" x=\"1789.05\" y=\"1500.63\">8×10</text>\n</g>\n<g clip-path=\"url(#clip0700)\">\n<text style=\"fill:#000000; fill-opacity:1; font-family:Arial,Helvetica Neue,Helvetica,sans-serif; font-size:38px; text-anchor:start;\" transform=\"rotate(0, 1897.45, 1473.22)\" x=\"1897.45\" y=\"1473.22\">5</text>\n</g>\n<g clip-path=\"url(#clip0700)\">\n<text style=\"fill:#000000; fill-opacity:1; font-family:Arial,Helvetica Neue,Helvetica,sans-serif; font-size:48px; text-anchor:start;\" transform=\"rotate(0, 2267.13, 1500.63)\" x=\"2267.13\" y=\"1500.63\">1×10</text>\n</g>\n<g clip-path=\"url(#clip0700)\">\n<text style=\"fill:#000000; fill-opacity:1; font-family:Arial,Helvetica Neue,Helvetica,sans-serif; font-size:38px; text-anchor:start;\" transform=\"rotate(0, 2375.53, 1473.22)\" x=\"2375.53\" y=\"1473.22\">6</text>\n</g>\n<g clip-path=\"url(#clip0700)\">\n<text style=\"fill:#000000; fill-opacity:1; font-family:Arial,Helvetica Neue,Helvetica,sans-serif; font-size:48px; text-anchor:end;\" transform=\"rotate(0, 170.041, 1343.54)\" x=\"170.041\" y=\"1343.54\">400</text>\n</g>\n<g clip-path=\"url(#clip0700)\">\n<text style=\"fill:#000000; fill-opacity:1; font-family:Arial,Helvetica Neue,Helvetica,sans-serif; font-size:48px; text-anchor:end;\" transform=\"rotate(0, 170.041, 1086.45)\" x=\"170.041\" y=\"1086.45\">600</text>\n</g>\n<g clip-path=\"url(#clip0700)\">\n<text style=\"fill:#000000; fill-opacity:1; font-family:Arial,Helvetica Neue,Helvetica,sans-serif; font-size:48px; text-anchor:end;\" transform=\"rotate(0, 170.041, 829.355)\" x=\"170.041\" y=\"829.355\">800</text>\n</g>\n<g clip-path=\"url(#clip0700)\">\n<text style=\"fill:#000000; fill-opacity:1; font-family:Arial,Helvetica Neue,Helvetica,sans-serif; font-size:48px; text-anchor:end;\" transform=\"rotate(0, 170.041, 572.261)\" x=\"170.041\" y=\"572.261\">1000</text>\n</g>\n<g clip-path=\"url(#clip0700)\">\n<text style=\"fill:#000000; fill-opacity:1; font-family:Arial,Helvetica Neue,Helvetica,sans-serif; font-size:48px; text-anchor:end;\" transform=\"rotate(0, 170.041, 315.168)\" x=\"170.041\" y=\"315.168\">1200</text>\n</g>\n<g clip-path=\"url(#clip0700)\">\n<text style=\"fill:#000000; fill-opacity:1; font-family:Arial,Helvetica Neue,Helvetica,sans-serif; font-size:66px; text-anchor:middle;\" transform=\"rotate(0, 1273.4, 1559.48)\" x=\"1273.4\" y=\"1559.48\">Nobs</text>\n</g>\n<polyline clip-path=\"url(#clip0702)\" style=\"stroke:#009af9; stroke-width:4; stroke-opacity:1; fill:none\" points=\"\n  255.137,1386.61 881.76,1386.61 881.76,988.839 1351.73,988.839 1351.73,361.417 1665.04,361.417 1665.04,471.966 1978.35,471.966 1978.35,357.898 2291.66,357.898 \n  2291.66,86.2547 \n  \"/>\n<polygon clip-path=\"url(#clip0700)\" points=\"\n1920.37,251.724 2280.76,251.724 2280.76,130.764 1920.37,130.764 \n  \" fill=\"#ffffff\" fill-rule=\"evenodd\" fill-opacity=\"1\"/>\n<polyline clip-path=\"url(#clip0700)\" style=\"stroke:#000000; stroke-width:4; stroke-opacity:1; fill:none\" points=\"\n  1920.37,251.724 2280.76,251.724 2280.76,130.764 1920.37,130.764 1920.37,251.724 \n  \"/>\n<polyline clip-path=\"url(#clip0700)\" style=\"stroke:#009af9; stroke-width:4; stroke-opacity:1; fill:none\" points=\"\n  1944.37,191.244 2088.37,191.244 \n  \"/>\n<g clip-path=\"url(#clip0700)\">\n<text style=\"fill:#000000; fill-opacity:1; font-family:Arial,Helvetica Neue,Helvetica,sans-serif; font-size:48px; text-anchor:start;\" transform=\"rotate(0, 2112.37, 208.744)\" x=\"2112.37\" y=\"208.744\">Mean</text>\n</g>\n</svg>\n"
               },
               "type": "node"
              }
             ],
             "instanceArgs": {
              "namespace": "html",
              "tag": "div"
             },
             "nodeType": "DOM",
             "props": {
              "className": "interact-flex-row interact-widget"
             },
             "type": "node"
            }
           }
          },
          "systemjs_options": null
         },
         "nodeType": "Scope",
         "props": {},
         "type": "node"
        }
       ],
       "instanceArgs": {
        "namespace": "html",
        "tag": "div"
       },
       "nodeType": "DOM",
       "props": {},
       "type": "node"
      },
      "text/html": [
       "<div\n",
       "    class=\"webio-mountpoint\"\n",
       "    data-webio-mountpoint=\"5818026449333933647\"\n",
       ">\n",
       "    <script>\n",
       "    if (window.require && require.defined && require.defined(\"nbextensions/webio-jupyter-notebook\")) {\n",
       "        console.log(\"Jupyter WebIO extension detected, not mounting.\");\n",
       "    } else if (window.WebIO) {\n",
       "        WebIO.mount(\n",
       "            document.querySelector('[data-webio-mountpoint=\"5818026449333933647\"]'),\n",
       "            {\"props\":{},\"nodeType\":\"DOM\",\"type\":\"node\",\"instanceArgs\":{\"namespace\":\"html\",\"tag\":\"div\"},\"children\":[{\"props\":{\"className\":\"field interact-widget\"},\"nodeType\":\"DOM\",\"type\":\"node\",\"instanceArgs\":{\"namespace\":\"html\",\"tag\":\"div\"},\"children\":[{\"props\":{},\"nodeType\":\"Scope\",\"type\":\"node\",\"instanceArgs\":{\"imports\":{\"data\":[{\"name\":\"knockout\",\"type\":\"js\",\"url\":\"\\/assetserver\\/138fa309f919ec7484ebc55e3091f379f47cc424-knockout.js\"},{\"name\":\"knockout_punches\",\"type\":\"js\",\"url\":\"\\/assetserver\\/620d29c2d3531d56ec3a1d8a13d747afffb44410-knockout_punches.js\"},{\"name\":null,\"type\":\"js\",\"url\":\"\\/assetserver\\/57e29df20789a576b69ae2f70e2711fac6716a39-all.js\"},{\"name\":null,\"type\":\"css\",\"url\":\"\\/assetserver\\/417d90e06c0658278ea1ef32551ed090a57a1491-style.css\"},{\"name\":null,\"type\":\"css\",\"url\":\"\\/assetserver\\/1f5a763355fa31c38c9cab232bda0758d9a22c0d-bulma_confined.min.css\"}],\"type\":\"async_block\"},\"id\":\"9447431333096862331\",\"handlers\":{\"changes\":[\"(function (val){return (val!=this.model[\\\"changes\\\"]()) ? (this.valueFromJulia[\\\"changes\\\"]=true, this.model[\\\"changes\\\"](val)) : undefined})\"],\"index\":[\"(function (val){return (val!=this.model[\\\"index\\\"]()) ? (this.valueFromJulia[\\\"index\\\"]=true, this.model[\\\"index\\\"](val)) : undefined})\"]},\"systemjs_options\":null,\"mount_callbacks\":[\"function () {\\n    var handler = (function (ko, koPunches) {\\n    ko.punches.enableAll();\\n    ko.bindingHandlers.numericValue = {\\n        init: function(element, valueAccessor, allBindings, data, context) {\\n            var stringified = ko.observable(ko.unwrap(valueAccessor()));\\n            stringified.subscribe(function(value) {\\n                var val = parseFloat(value);\\n                if (!isNaN(val)) {\\n                    valueAccessor()(val);\\n                }\\n            });\\n            valueAccessor().subscribe(function(value) {\\n                var str = JSON.stringify(value);\\n                if ((str == \\\"0\\\") && ([\\\"-0\\\", \\\"-0.\\\"].indexOf(stringified()) >= 0))\\n                     return;\\n                 if ([\\\"null\\\", \\\"\\\"].indexOf(str) >= 0)\\n                     return;\\n                stringified(str);\\n            });\\n            ko.applyBindingsToNode(\\n                element,\\n                {\\n                    value: stringified,\\n                    valueUpdate: allBindings.get('valueUpdate'),\\n                },\\n                context,\\n            );\\n        }\\n    };\\n    var json_data = {\\\"formatted_vals\\\":[\\\"5\\\",\\\"10\\\",\\\"15\\\",\\\"20\\\",\\\"25\\\",\\\"30\\\",\\\"35\\\",\\\"40\\\",\\\"45\\\",\\\"50\\\",\\\"55\\\",\\\"60\\\",\\\"65\\\",\\\"70\\\",\\\"75\\\",\\\"80\\\",\\\"85\\\",\\\"90\\\",\\\"95\\\",\\\"100\\\",\\\"105\\\",\\\"110\\\",\\\"115\\\",\\\"120\\\",\\\"125\\\",\\\"130\\\",\\\"135\\\",\\\"140\\\",\\\"145\\\",\\\"150\\\",\\\"155\\\",\\\"160\\\",\\\"165\\\",\\\"170\\\",\\\"175\\\",\\\"180\\\",\\\"185\\\",\\\"190\\\",\\\"195\\\",\\\"200\\\"],\\\"changes\\\":WebIO.getval({\\\"name\\\":\\\"changes\\\",\\\"scope\\\":\\\"9447431333096862331\\\",\\\"id\\\":\\\"ob_17\\\",\\\"type\\\":\\\"observable\\\"}),\\\"index\\\":WebIO.getval({\\\"name\\\":\\\"index\\\",\\\"scope\\\":\\\"9447431333096862331\\\",\\\"id\\\":\\\"ob_16\\\",\\\"type\\\":\\\"observable\\\"})};\\n    var self = this;\\n    function AppViewModel() {\\n        for (var key in json_data) {\\n            var el = json_data[key];\\n            this[key] = Array.isArray(el) ? ko.observableArray(el) : ko.observable(el);\\n        }\\n        \\n        [this[\\\"formatted_val\\\"]=ko.computed(    function(){\\n        return this.formatted_vals()[parseInt(this.index())-(1)];\\n    }\\n,this)]\\n        [this[\\\"changes\\\"].subscribe((function (val){!(this.valueFromJulia[\\\"changes\\\"]) ? (WebIO.setval({\\\"name\\\":\\\"changes\\\",\\\"scope\\\":\\\"9447431333096862331\\\",\\\"id\\\":\\\"ob_17\\\",\\\"type\\\":\\\"observable\\\"},val)) : undefined; return this.valueFromJulia[\\\"changes\\\"]=false}),self),this[\\\"index\\\"].subscribe((function (val){!(this.valueFromJulia[\\\"index\\\"]) ? (WebIO.setval({\\\"name\\\":\\\"index\\\",\\\"scope\\\":\\\"9447431333096862331\\\",\\\"id\\\":\\\"ob_16\\\",\\\"type\\\":\\\"observable\\\"},val)) : undefined; return this.valueFromJulia[\\\"index\\\"]=false}),self)]\\n        \\n    }\\n    self.model = new AppViewModel();\\n    self.valueFromJulia = {};\\n    for (var key in json_data) {\\n        self.valueFromJulia[key] = false;\\n    }\\n    ko.applyBindings(self.model, self.dom);\\n}\\n);\\n    (WebIO.importBlock({\\\"data\\\":[{\\\"name\\\":\\\"knockout\\\",\\\"type\\\":\\\"js\\\",\\\"url\\\":\\\"\\/assetserver\\/138fa309f919ec7484ebc55e3091f379f47cc424-knockout.js\\\"},{\\\"name\\\":\\\"knockout_punches\\\",\\\"type\\\":\\\"js\\\",\\\"url\\\":\\\"\\/assetserver\\/620d29c2d3531d56ec3a1d8a13d747afffb44410-knockout_punches.js\\\"}],\\\"type\\\":\\\"async_block\\\"})).then((imports) => handler.apply(this, imports));\\n}\\n\"],\"observables\":{\"changes\":{\"sync\":false,\"id\":\"ob_17\",\"value\":0},\"index\":{\"sync\":true,\"id\":\"ob_16\",\"value\":1}}},\"children\":[{\"props\":{\"className\":\"interact-flex-row interact-widget\"},\"nodeType\":\"DOM\",\"type\":\"node\",\"instanceArgs\":{\"namespace\":\"html\",\"tag\":\"div\"},\"children\":[{\"props\":{\"className\":\"interact-flex-row-left\"},\"nodeType\":\"DOM\",\"type\":\"node\",\"instanceArgs\":{\"namespace\":\"html\",\"tag\":\"div\"},\"children\":[{\"props\":{\"className\":\"interact \",\"style\":{\"padding\":\"5px 10px 0px 10px\"}},\"nodeType\":\"DOM\",\"type\":\"node\",\"instanceArgs\":{\"namespace\":\"html\",\"tag\":\"label\"},\"children\":[\"\"]}]},{\"props\":{\"className\":\"interact-flex-row-center\"},\"nodeType\":\"DOM\",\"type\":\"node\",\"instanceArgs\":{\"namespace\":\"html\",\"tag\":\"div\"},\"children\":[{\"props\":{\"max\":40,\"min\":1,\"attributes\":{\"type\":\"range\",\"data-bind\":\"numericValue: index, valueUpdate: 'input', event: {change: function (){this.changes(this.changes()+1)}}\",\"orient\":\"horizontal\"},\"step\":1,\"className\":\"slider slider is-fullwidth\",\"style\":{}},\"nodeType\":\"DOM\",\"type\":\"node\",\"instanceArgs\":{\"namespace\":\"html\",\"tag\":\"input\"},\"children\":[]}]},{\"props\":{\"className\":\"interact-flex-row-right\"},\"nodeType\":\"DOM\",\"type\":\"node\",\"instanceArgs\":{\"namespace\":\"html\",\"tag\":\"div\"},\"children\":[{\"props\":{\"attributes\":{\"data-bind\":\"text: formatted_val\"}},\"nodeType\":\"DOM\",\"type\":\"node\",\"instanceArgs\":{\"namespace\":\"html\",\"tag\":\"p\"},\"children\":[]}]}]}]}]},{\"props\":{},\"nodeType\":\"Scope\",\"type\":\"node\",\"instanceArgs\":{\"imports\":{\"data\":[],\"type\":\"async_block\"},\"id\":\"14383312407271919033\",\"handlers\":{},\"systemjs_options\":null,\"mount_callbacks\":[],\"observables\":{\"obs-node\":{\"sync\":false,\"id\":\"ob_21\",\"value\":{\"props\":{\"className\":\"interact-flex-row interact-widget\"},\"nodeType\":\"DOM\",\"type\":\"node\",\"instanceArgs\":{\"namespace\":\"html\",\"tag\":\"div\"},\"children\":[{\"props\":{\"setInnerHtml\":\"<?xml version=\\\"1.0\\\" encoding=\\\"utf-8\\\"?>\\n<svg xmlns=\\\"http:\\/\\/www.w3.org\\/2000\\/svg\\\" xmlns:xlink=\\\"http:\\/\\/www.w3.org\\/1999\\/xlink\\\" width=\\\"600\\\" height=\\\"400\\\" viewBox=\\\"0 0 2400 1600\\\">\\n<defs>\\n  <clipPath id=\\\"clip0300\\\">\\n    <rect x=\\\"0\\\" y=\\\"0\\\" width=\\\"2400\\\" height=\\\"1600\\\"\\/>\\n  <\\/clipPath>\\n<\\/defs>\\n<polygon clip-path=\\\"url(#clip0300)\\\" points=\\\"\\n0,1600 2400,1600 2400,0 0,0 \\n  \\\" fill=\\\"#ffffff\\\" fill-rule=\\\"evenodd\\\" fill-opacity=\\\"1\\\"\\/>\\n<defs>\\n  <clipPath id=\\\"clip0301\\\">\\n    <rect x=\\\"480\\\" y=\\\"0\\\" width=\\\"1681\\\" height=\\\"1600\\\"\\/>\\n  <\\/clipPath>\\n<\\/defs>\\n<polygon clip-path=\\\"url(#clip0300)\\\" points=\\\"\\n194.041,1425.62 2352.76,1425.62 2352.76,47.2441 194.041,47.2441 \\n  \\\" fill=\\\"#ffffff\\\" fill-rule=\\\"evenodd\\\" fill-opacity=\\\"1\\\"\\/>\\n<defs>\\n  <clipPath id=\\\"clip0302\\\">\\n    <rect x=\\\"194\\\" y=\\\"47\\\" width=\\\"2160\\\" height=\\\"1379\\\"\\/>\\n  <\\/clipPath>\\n<\\/defs>\\n<polyline clip-path=\\\"url(#clip0302)\\\" style=\\\"stroke:#000000; stroke-width:2; stroke-opacity:0.1; fill:none\\\" points=\\\"\\n  419.9,1425.62 419.9,47.2441 \\n  \\\"\\/>\\n<polyline clip-path=\\\"url(#clip0302)\\\" style=\\\"stroke:#000000; stroke-width:2; stroke-opacity:0.1; fill:none\\\" points=\\\"\\n  897.975,1425.62 897.975,47.2441 \\n  \\\"\\/>\\n<polyline clip-path=\\\"url(#clip0302)\\\" style=\\\"stroke:#000000; stroke-width:2; stroke-opacity:0.1; fill:none\\\" points=\\\"\\n  1376.05,1425.62 1376.05,47.2441 \\n  \\\"\\/>\\n<polyline clip-path=\\\"url(#clip0302)\\\" style=\\\"stroke:#000000; stroke-width:2; stroke-opacity:0.1; fill:none\\\" points=\\\"\\n  1854.12,1425.62 1854.12,47.2441 \\n  \\\"\\/>\\n<polyline clip-path=\\\"url(#clip0302)\\\" style=\\\"stroke:#000000; stroke-width:2; stroke-opacity:0.1; fill:none\\\" points=\\\"\\n  2332.2,1425.62 2332.2,47.2441 \\n  \\\"\\/>\\n<polyline clip-path=\\\"url(#clip0302)\\\" style=\\\"stroke:#000000; stroke-width:2; stroke-opacity:0.1; fill:none\\\" points=\\\"\\n  194.041,1326.04 2352.76,1326.04 \\n  \\\"\\/>\\n<polyline clip-path=\\\"url(#clip0302)\\\" style=\\\"stroke:#000000; stroke-width:2; stroke-opacity:0.1; fill:none\\\" points=\\\"\\n  194.041,1068.95 2352.76,1068.95 \\n  \\\"\\/>\\n<polyline clip-path=\\\"url(#clip0302)\\\" style=\\\"stroke:#000000; stroke-width:2; stroke-opacity:0.1; fill:none\\\" points=\\\"\\n  194.041,811.855 2352.76,811.855 \\n  \\\"\\/>\\n<polyline clip-path=\\\"url(#clip0302)\\\" style=\\\"stroke:#000000; stroke-width:2; stroke-opacity:0.1; fill:none\\\" points=\\\"\\n  194.041,554.761 2352.76,554.761 \\n  \\\"\\/>\\n<polyline clip-path=\\\"url(#clip0302)\\\" style=\\\"stroke:#000000; stroke-width:2; stroke-opacity:0.1; fill:none\\\" points=\\\"\\n  194.041,297.668 2352.76,297.668 \\n  \\\"\\/>\\n<polyline clip-path=\\\"url(#clip0300)\\\" style=\\\"stroke:#000000; stroke-width:4; stroke-opacity:1; fill:none\\\" points=\\\"\\n  194.041,1425.62 2352.76,1425.62 \\n  \\\"\\/>\\n<polyline clip-path=\\\"url(#clip0300)\\\" style=\\\"stroke:#000000; stroke-width:4; stroke-opacity:1; fill:none\\\" points=\\\"\\n  194.041,1425.62 194.041,47.2441 \\n  \\\"\\/>\\n<polyline clip-path=\\\"url(#clip0300)\\\" style=\\\"stroke:#000000; stroke-width:4; stroke-opacity:1; fill:none\\\" points=\\\"\\n  419.9,1425.62 419.9,1404.94 \\n  \\\"\\/>\\n<polyline clip-path=\\\"url(#clip0300)\\\" style=\\\"stroke:#000000; stroke-width:4; stroke-opacity:1; fill:none\\\" points=\\\"\\n  897.975,1425.62 897.975,1404.94 \\n  \\\"\\/>\\n<polyline clip-path=\\\"url(#clip0300)\\\" style=\\\"stroke:#000000; stroke-width:4; stroke-opacity:1; fill:none\\\" points=\\\"\\n  1376.05,1425.62 1376.05,1404.94 \\n  \\\"\\/>\\n<polyline clip-path=\\\"url(#clip0300)\\\" style=\\\"stroke:#000000; stroke-width:4; stroke-opacity:1; fill:none\\\" points=\\\"\\n  1854.12,1425.62 1854.12,1404.94 \\n  \\\"\\/>\\n<polyline clip-path=\\\"url(#clip0300)\\\" style=\\\"stroke:#000000; stroke-width:4; stroke-opacity:1; fill:none\\\" points=\\\"\\n  2332.2,1425.62 2332.2,1404.94 \\n  \\\"\\/>\\n<polyline clip-path=\\\"url(#clip0300)\\\" style=\\\"stroke:#000000; stroke-width:4; stroke-opacity:1; fill:none\\\" points=\\\"\\n  194.041,1326.04 226.422,1326.04 \\n  \\\"\\/>\\n<polyline clip-path=\\\"url(#clip0300)\\\" style=\\\"stroke:#000000; stroke-width:4; stroke-opacity:1; fill:none\\\" points=\\\"\\n  194.041,1068.95 226.422,1068.95 \\n  \\\"\\/>\\n<polyline clip-path=\\\"url(#clip0300)\\\" style=\\\"stroke:#000000; stroke-width:4; stroke-opacity:1; fill:none\\\" points=\\\"\\n  194.041,811.855 226.422,811.855 \\n  \\\"\\/>\\n<polyline clip-path=\\\"url(#clip0300)\\\" style=\\\"stroke:#000000; stroke-width:4; stroke-opacity:1; fill:none\\\" points=\\\"\\n  194.041,554.761 226.422,554.761 \\n  \\\"\\/>\\n<polyline clip-path=\\\"url(#clip0300)\\\" style=\\\"stroke:#000000; stroke-width:4; stroke-opacity:1; fill:none\\\" points=\\\"\\n  194.041,297.668 226.422,297.668 \\n  \\\"\\/>\\n<g clip-path=\\\"url(#clip0300)\\\">\\n<text style=\\\"fill:#000000; fill-opacity:1; font-family:Arial,Helvetica Neue,Helvetica,sans-serif; font-size:48px; text-anchor:start;\\\" transform=\\\"rotate(0, 354.829, 1500.63)\\\" x=\\\"354.829\\\" y=\\\"1500.63\\\">2×10<\\/text>\\n<\\/g>\\n<g clip-path=\\\"url(#clip0300)\\\">\\n<text style=\\\"fill:#000000; fill-opacity:1; font-family:Arial,Helvetica Neue,Helvetica,sans-serif; font-size:38px; text-anchor:start;\\\" transform=\\\"rotate(0, 463.226, 1473.22)\\\" x=\\\"463.226\\\" y=\\\"1473.22\\\">5<\\/text>\\n<\\/g>\\n<g clip-path=\\\"url(#clip0300)\\\">\\n<text style=\\\"fill:#000000; fill-opacity:1; font-family:Arial,Helvetica Neue,Helvetica,sans-serif; font-size:48px; text-anchor:start;\\\" transform=\\\"rotate(0, 832.904, 1500.63)\\\" x=\\\"832.904\\\" y=\\\"1500.63\\\">4×10<\\/text>\\n<\\/g>\\n<g clip-path=\\\"url(#clip0300)\\\">\\n<text style=\\\"fill:#000000; fill-opacity:1; font-family:Arial,Helvetica Neue,Helvetica,sans-serif; font-size:38px; text-anchor:start;\\\" transform=\\\"rotate(0, 941.301, 1473.22)\\\" x=\\\"941.301\\\" y=\\\"1473.22\\\">5<\\/text>\\n<\\/g>\\n<g clip-path=\\\"url(#clip0300)\\\">\\n<text style=\\\"fill:#000000; fill-opacity:1; font-family:Arial,Helvetica Neue,Helvetica,sans-serif; font-size:48px; text-anchor:start;\\\" transform=\\\"rotate(0, 1310.98, 1500.63)\\\" x=\\\"1310.98\\\" y=\\\"1500.63\\\">6×10<\\/text>\\n<\\/g>\\n<g clip-path=\\\"url(#clip0300)\\\">\\n<text style=\\\"fill:#000000; fill-opacity:1; font-family:Arial,Helvetica Neue,Helvetica,sans-serif; font-size:38px; text-anchor:start;\\\" transform=\\\"rotate(0, 1419.38, 1473.22)\\\" x=\\\"1419.38\\\" y=\\\"1473.22\\\">5<\\/text>\\n<\\/g>\\n<g clip-path=\\\"url(#clip0300)\\\">\\n<text style=\\\"fill:#000000; fill-opacity:1; font-family:Arial,Helvetica Neue,Helvetica,sans-serif; font-size:48px; text-anchor:start;\\\" transform=\\\"rotate(0, 1789.05, 1500.63)\\\" x=\\\"1789.05\\\" y=\\\"1500.63\\\">8×10<\\/text>\\n<\\/g>\\n<g clip-path=\\\"url(#clip0300)\\\">\\n<text style=\\\"fill:#000000; fill-opacity:1; font-family:Arial,Helvetica Neue,Helvetica,sans-serif; font-size:38px; text-anchor:start;\\\" transform=\\\"rotate(0, 1897.45, 1473.22)\\\" x=\\\"1897.45\\\" y=\\\"1473.22\\\">5<\\/text>\\n<\\/g>\\n<g clip-path=\\\"url(#clip0300)\\\">\\n<text style=\\\"fill:#000000; fill-opacity:1; font-family:Arial,Helvetica Neue,Helvetica,sans-serif; font-size:48px; text-anchor:start;\\\" transform=\\\"rotate(0, 2267.13, 1500.63)\\\" x=\\\"2267.13\\\" y=\\\"1500.63\\\">1×10<\\/text>\\n<\\/g>\\n<g clip-path=\\\"url(#clip0300)\\\">\\n<text style=\\\"fill:#000000; fill-opacity:1; font-family:Arial,Helvetica Neue,Helvetica,sans-serif; font-size:38px; text-anchor:start;\\\" transform=\\\"rotate(0, 2375.53, 1473.22)\\\" x=\\\"2375.53\\\" y=\\\"1473.22\\\">6<\\/text>\\n<\\/g>\\n<g clip-path=\\\"url(#clip0300)\\\">\\n<text style=\\\"fill:#000000; fill-opacity:1; font-family:Arial,Helvetica Neue,Helvetica,sans-serif; font-size:48px; text-anchor:end;\\\" transform=\\\"rotate(0, 170.041, 1343.54)\\\" x=\\\"170.041\\\" y=\\\"1343.54\\\">400<\\/text>\\n<\\/g>\\n<g clip-path=\\\"url(#clip0300)\\\">\\n<text style=\\\"fill:#000000; fill-opacity:1; font-family:Arial,Helvetica Neue,Helvetica,sans-serif; font-size:48px; text-anchor:end;\\\" transform=\\\"rotate(0, 170.041, 1086.45)\\\" x=\\\"170.041\\\" y=\\\"1086.45\\\">600<\\/text>\\n<\\/g>\\n<g clip-path=\\\"url(#clip0300)\\\">\\n<text style=\\\"fill:#000000; fill-opacity:1; font-family:Arial,Helvetica Neue,Helvetica,sans-serif; font-size:48px; text-anchor:end;\\\" transform=\\\"rotate(0, 170.041, 829.355)\\\" x=\\\"170.041\\\" y=\\\"829.355\\\">800<\\/text>\\n<\\/g>\\n<g clip-path=\\\"url(#clip0300)\\\">\\n<text style=\\\"fill:#000000; fill-opacity:1; font-family:Arial,Helvetica Neue,Helvetica,sans-serif; font-size:48px; text-anchor:end;\\\" transform=\\\"rotate(0, 170.041, 572.261)\\\" x=\\\"170.041\\\" y=\\\"572.261\\\">1000<\\/text>\\n<\\/g>\\n<g clip-path=\\\"url(#clip0300)\\\">\\n<text style=\\\"fill:#000000; fill-opacity:1; font-family:Arial,Helvetica Neue,Helvetica,sans-serif; font-size:48px; text-anchor:end;\\\" transform=\\\"rotate(0, 170.041, 315.168)\\\" x=\\\"170.041\\\" y=\\\"315.168\\\">1200<\\/text>\\n<\\/g>\\n<g clip-path=\\\"url(#clip0300)\\\">\\n<text style=\\\"fill:#000000; fill-opacity:1; font-family:Arial,Helvetica Neue,Helvetica,sans-serif; font-size:66px; text-anchor:middle;\\\" transform=\\\"rotate(0, 1273.4, 1559.48)\\\" x=\\\"1273.4\\\" y=\\\"1559.48\\\">Nobs<\\/text>\\n<\\/g>\\n<polyline clip-path=\\\"url(#clip0302)\\\" style=\\\"stroke:#009af9; stroke-width:4; stroke-opacity:1; fill:none\\\" points=\\\"\\n  255.137,1386.61 881.76,1386.61 881.76,988.839 1351.73,988.839 1351.73,361.417 1665.04,361.417 1665.04,471.966 1978.35,471.966 1978.35,357.898 2291.66,357.898 \\n  2291.66,86.2547 \\n  \\\"\\/>\\n<polygon clip-path=\\\"url(#clip0300)\\\" points=\\\"\\n1920.37,251.724 2280.76,251.724 2280.76,130.764 1920.37,130.764 \\n  \\\" fill=\\\"#ffffff\\\" fill-rule=\\\"evenodd\\\" fill-opacity=\\\"1\\\"\\/>\\n<polyline clip-path=\\\"url(#clip0300)\\\" style=\\\"stroke:#000000; stroke-width:4; stroke-opacity:1; fill:none\\\" points=\\\"\\n  1920.37,251.724 2280.76,251.724 2280.76,130.764 1920.37,130.764 1920.37,251.724 \\n  \\\"\\/>\\n<polyline clip-path=\\\"url(#clip0300)\\\" style=\\\"stroke:#009af9; stroke-width:4; stroke-opacity:1; fill:none\\\" points=\\\"\\n  1944.37,191.244 2088.37,191.244 \\n  \\\"\\/>\\n<g clip-path=\\\"url(#clip0300)\\\">\\n<text style=\\\"fill:#000000; fill-opacity:1; font-family:Arial,Helvetica Neue,Helvetica,sans-serif; font-size:48px; text-anchor:start;\\\" transform=\\\"rotate(0, 2112.37, 208.744)\\\" x=\\\"2112.37\\\" y=\\\"208.744\\\">Mean<\\/text>\\n<\\/g>\\n<\\/svg>\\n\"},\"nodeType\":\"DOM\",\"type\":\"node\",\"instanceArgs\":{\"namespace\":\"html\",\"tag\":\"div\"},\"children\":[]}]}}}},\"children\":[{\"props\":{},\"nodeType\":\"ObservableNode\",\"type\":\"node\",\"instanceArgs\":{\"id\":\"ob_21\",\"name\":\"obs-node\"},\"children\":[]}]}]},\n",
       "            window,\n",
       "        );\n",
       "    } else {\n",
       "        document\n",
       "            .querySelector('[data-webio-mountpoint=\"5818026449333933647\"]')\n",
       "            .innerHTML = (\n",
       "                '<strong>WebIO not detected. Please read ' +\n",
       "                '<a href=\"https://juliagizmos.github.io/WebIO.jl/latest/troubleshooting/not-detected/\">the troubleshooting guide</a> ' +\n",
       "                'for more information on how to resolve this issue.' +\n",
       "                '</strong>'\n",
       "            );\n",
       "    }\n",
       "    </script>\n",
       "</div>\n"
      ],
      "text/plain": [
       "Node{WebIO.DOM}(WebIO.DOM(:html, :div), Any[Node{WebIO.DOM}(WebIO.DOM(:html, :div), Any[Scope(Node{WebIO.DOM}(WebIO.DOM(:html, :div), Any[Node{WebIO.DOM}(WebIO.DOM(:html, :div), Any[Node{WebIO.DOM}(WebIO.DOM(:html, :label), Any[nothing], Dict{Symbol,Any}(:className => \"interact \",:style => Dict{Any,Any}(:padding => \"5px 10px 0px 10px\")))], Dict{Symbol,Any}(:className => \"interact-flex-row-left\")), Node{WebIO.DOM}(WebIO.DOM(:html, :div), Any[Node{WebIO.DOM}(WebIO.DOM(:html, :input), Any[], Dict{Symbol,Any}(:max => 40,:min => 1,:attributes => Dict{Any,Any}(:type => \"range\",Symbol(\"data-bind\") => \"numericValue: index, valueUpdate: 'input', event: {change: function (){this.changes(this.changes()+1)}}\",\"orient\" => \"horizontal\"),:step => 1,:className => \"slider slider is-fullwidth\",:style => Dict{Any,Any}()))], Dict{Symbol,Any}(:className => \"interact-flex-row-center\")), Node{WebIO.DOM}(WebIO.DOM(:html, :div), Any[Node{WebIO.DOM}(WebIO.DOM(:html, :p), Any[], Dict{Symbol,Any}(:attributes => Dict(\"data-bind\" => \"text: formatted_val\")))], Dict{Symbol,Any}(:className => \"interact-flex-row-right\"))], Dict{Symbol,Any}(:className => \"interact-flex-row interact-widget\")), Dict{String,Tuple{Observables.AbstractObservable,Union{Nothing, Bool}}}(\"changes\" => (Observable{Int64} with 1 listeners. Value:\n",
       "0, nothing),\"index\" => (Observable{Any} with 2 listeners. Value:\n",
       "1, nothing)), Set(String[]), nothing, Asset[Asset(\"js\", \"knockout\", \"/Users/joshday/.julia/packages/Knockout/1sDlc/src/../assets/knockout.js\"), Asset(\"js\", \"knockout_punches\", \"/Users/joshday/.julia/packages/Knockout/1sDlc/src/../assets/knockout_punches.js\"), Asset(\"js\", nothing, \"/Users/joshday/.julia/packages/InteractBase/9mFwe/src/../assets/all.js\"), Asset(\"css\", nothing, \"/Users/joshday/.julia/packages/InteractBase/9mFwe/src/../assets/style.css\"), Asset(\"css\", nothing, \"/Users/joshday/.julia/packages/Interact/SbgIk/src/../assets/bulma_confined.min.css\")], Dict{Any,Any}(\"changes\" => Any[WebIO.JSString(\"(function (val){return (val!=this.model[\\\"changes\\\"]()) ? (this.valueFromJulia[\\\"changes\\\"]=true, this.model[\\\"changes\\\"](val)) : undefined})\")],\"index\" => Any[WebIO.JSString(\"(function (val){return (val!=this.model[\\\"index\\\"]()) ? (this.valueFromJulia[\\\"index\\\"]=true, this.model[\\\"index\\\"](val)) : undefined})\")]), WebIO.ConnectionPool(Channel{Any}(sz_max:32,sz_curr:0), Set(AbstractConnection[]), Base.GenericCondition{Base.AlwaysLockedST}(Base.InvasiveLinkedList{Task}(Task (runnable) @0x0000000126585b10, Task (runnable) @0x0000000126585b10), Base.AlwaysLockedST(1))), WebIO.JSString[WebIO.JSString(\"function () {\\n    var handler = (function (ko, koPunches) {\\n    ko.punches.enableAll();\\n    ko.bindingHandlers.numericValue = {\\n        init: function(element, valueAccessor, allBindings, data, context) {\\n            var stringified = ko.observable(ko.unwrap(valueAccessor()));\\n            stringified.subscribe(function(value) {\\n                var val = parseFloat(value);\\n                if (!isNaN(val)) {\\n                    valueAccessor()(val);\\n                }\\n            });\\n            valueAccessor().subscribe(function(value) {\\n                var str = JSON.stringify(value);\\n                if ((str == \\\"0\\\") && ([\\\"-0\\\", \\\"-0.\\\"].indexOf(stringified()) >= 0))\\n                     return;\\n                 if ([\\\"null\\\", \\\"\\\"].indexOf(str) >= 0)\\n                     return;\\n                stringified(str);\\n            });\\n            ko.applyBindingsToNode(\\n                element,\\n                {\\n                    value: stringified,\\n                    valueUpdate: allBindings.get('valueUpdate'),\\n                },\\n                context,\\n            );\\n        }\\n    };\\n    var json_data = {\\\"formatted_vals\\\":[\\\"5\\\",\\\"10\\\",\\\"15\\\",\\\"20\\\",\\\"25\\\",\\\"30\\\",\\\"35\\\",\\\"40\\\",\\\"45\\\",\\\"50\\\",\\\"55\\\",\\\"60\\\",\\\"65\\\",\\\"70\\\",\\\"75\\\",\\\"80\\\",\\\"85\\\",\\\"90\\\",\\\"95\\\",\\\"100\\\",\\\"105\\\",\\\"110\\\",\\\"115\\\",\\\"120\\\",\\\"125\\\",\\\"130\\\",\\\"135\\\",\\\"140\\\",\\\"145\\\",\\\"150\\\",\\\"155\\\",\\\"160\\\",\\\"165\\\",\\\"170\\\",\\\"175\\\",\\\"180\\\",\\\"185\\\",\\\"190\\\",\\\"195\\\",\\\"200\\\"],\\\"changes\\\":WebIO.getval({\\\"name\\\":\\\"changes\\\",\\\"scope\\\":\\\"9447431333096862331\\\",\\\"id\\\":\\\"ob_17\\\",\\\"type\\\":\\\"observable\\\"}),\\\"index\\\":WebIO.getval({\\\"name\\\":\\\"index\\\",\\\"scope\\\":\\\"9447431333096862331\\\",\\\"id\\\":\\\"ob_16\\\",\\\"type\\\":\\\"observable\\\"})};\\n    var self = this;\\n    function AppViewModel() {\\n        for (var key in json_data) {\\n            var el = json_data[key];\\n            this[key] = Array.isArray(el) ? ko.observableArray(el) : ko.observable(el);\\n        }\\n        \\n        [this[\\\"formatted_val\\\"]=ko.computed(    function(){\\n        return this.formatted_vals()[parseInt(this.index())-(1)];\\n    }\\n,this)]\\n        [this[\\\"changes\\\"].subscribe((function (val){!(this.valueFromJulia[\\\"changes\\\"]) ? (WebIO.setval({\\\"name\\\":\\\"changes\\\",\\\"scope\\\":\\\"9447431333096862331\\\",\\\"id\\\":\\\"ob_17\\\",\\\"type\\\":\\\"observable\\\"},val)) : undefined; return this.valueFromJulia[\\\"changes\\\"]=false}),self),this[\\\"index\\\"].subscribe((function (val){!(this.valueFromJulia[\\\"index\\\"]) ? (WebIO.setval({\\\"name\\\":\\\"index\\\",\\\"scope\\\":\\\"9447431333096862331\\\",\\\"id\\\":\\\"ob_16\\\",\\\"type\\\":\\\"observable\\\"},val)) : undefined; return this.valueFromJulia[\\\"index\\\"]=false}),self)]\\n        \\n    }\\n    self.model = new AppViewModel();\\n    self.valueFromJulia = {};\\n    for (var key in json_data) {\\n        self.valueFromJulia[key] = false;\\n    }\\n    ko.applyBindings(self.model, self.dom);\\n}\\n);\\n    (WebIO.importBlock({\\\"data\\\":[{\\\"name\\\":\\\"knockout\\\",\\\"type\\\":\\\"js\\\",\\\"url\\\":\\\"/assetserver/138fa309f919ec7484ebc55e3091f379f47cc424-knockout.js\\\"},{\\\"name\\\":\\\"knockout_punches\\\",\\\"type\\\":\\\"js\\\",\\\"url\\\":\\\"/assetserver/620d29c2d3531d56ec3a1d8a13d747afffb44410-knockout_punches.js\\\"}],\\\"type\\\":\\\"async_block\\\"})).then((imports) => handler.apply(this, imports));\\n}\\n\")])], Dict{Symbol,Any}(:className => \"field interact-widget\")), Observable{Any} with 0 listeners. Value:\n",
       "Node{WebIO.DOM}(WebIO.DOM(:html, :div), Any[Plot{Plots.GRBackend() n=1}], Dict{Symbol,Any}(:className => \"interact-flex-row interact-widget\"))], Dict{Symbol,Any}())"
      ]
     },
     "execution_count": 15,
     "metadata": {
      "application/vnd.webio.node+json": {
       "kernelId": "75fafab2-39df-48b8-8256-effacf3ea1da"
      }
     },
     "output_type": "execute_result"
    }
   ],
   "source": [
    "using Random\n",
    "\n",
    "@manipulate for b in slider(5:5:200, value=5)\n",
    "    Random.seed!(123)\n",
    "    o = Partition(Mean(), b)\n",
    "    fit!(o, cumsum(randn(10^6)))\n",
    "    plot(o, xlab=\"Nobs\")\n",
    "end"
   ]
  },
  {
   "cell_type": "markdown",
   "metadata": {},
   "source": [
    "#### `IndexedPartition` shows a statistic indexed by another variable"
   ]
  },
  {
   "cell_type": "code",
   "execution_count": 16,
   "metadata": {},
   "outputs": [
    {
     "name": "stderr",
     "output_type": "stream",
     "text": [
      "┌ Info: Saved animation to \n",
      "│   fn = /Users/joshday/github/Talks/2019/OnlineStats_JuliaMeetup/tmp.gif\n",
      "└ @ Plots /Users/joshday/.julia/packages/Plots/h3o4c/src/animation.jl:95\n"
     ]
    },
    {
     "data": {
      "text/html": [
       "<img src=\"tmp.gif\" />"
      ],
      "text/plain": [
       "Plots.AnimatedGif(\"/Users/joshday/github/Talks/2019/OnlineStats_JuliaMeetup/tmp.gif\")"
      ]
     },
     "execution_count": 16,
     "metadata": {},
     "output_type": "execute_result"
    }
   ],
   "source": [
    "@gif for b in 5:2:100\n",
    "    Random.seed!(123)\n",
    "    o = IndexedPartition(Float64, Hist(-10:.5:10), b)\n",
    "    x = randn(10^6)\n",
    "    y = x .+ randn(10^6)\n",
    "    fit!(o, zip(x, y))\n",
    "    plot(o, title=\"Partition Size: $b\", color=:blues)\n",
    "end"
   ]
  },
  {
   "cell_type": "markdown",
   "metadata": {},
   "source": [
    "### Do Machine Learning"
   ]
  },
  {
   "cell_type": "code",
   "execution_count": 17,
   "metadata": {},
   "outputs": [
    {
     "data": {
      "text/plain": [
       "LinReg: n=1000000 | value=[0.999451, 1.99994, 3.00037, 3.9993, 5.00019]"
      ]
     },
     "execution_count": 17,
     "metadata": {},
     "output_type": "execute_result"
    }
   ],
   "source": [
    "using LossFunctions, PenaltyFunctions\n",
    "\n",
    "x = randn(10^6, 5)\n",
    "y = x * (1:5) + randn(10^6)\n",
    "data = zip(eachrow(x), y)\n",
    "\n",
    "fit!(LinReg(), data)"
   ]
  },
  {
   "cell_type": "markdown",
   "metadata": {},
   "source": [
    "- `StatLearn` lets you put together just about any: \n",
    "    - [`LossFunction`](https://github.com/JuliaML/LossFunctions.jl) \n",
    "    - [`PenaltyFunction`](https://github.com/JuliaML/PenaltyFunctions.jl) \n",
    "    - Stochastic Approximation algorithm"
   ]
  },
  {
   "cell_type": "code",
   "execution_count": 18,
   "metadata": {
    "scrolled": true
   },
   "outputs": [
    {
     "data": {
      "text/plain": [
       "10-element Array{Any,1}:\n",
       " ADADELTA               \n",
       " ADAGRAD                \n",
       " ADAM                   \n",
       " ADAMAX                 \n",
       " RMSPROP                \n",
       " SGD                    \n",
       " MSPI                   \n",
       " OMAP                   \n",
       " OMAS                   \n",
       " OnlineStats.SGAlgorithm"
      ]
     },
     "execution_count": 18,
     "metadata": {},
     "output_type": "execute_result"
    }
   ],
   "source": [
    "union(subtypes(OnlineStats.SGAlgorithm), subtypes(OnlineStats.Algorithm))"
   ]
  },
  {
   "cell_type": "code",
   "execution_count": 19,
   "metadata": {},
   "outputs": [
    {
     "data": {
      "text/plain": [
       "5-element Array{Float64,1}:\n",
       " 0.9995693671399458\n",
       " 1.9984076816366332\n",
       " 3.008250652349699 \n",
       " 4.000504293428595 \n",
       " 4.998185779633273 "
      ]
     },
     "execution_count": 19,
     "metadata": {},
     "output_type": "execute_result"
    }
   ],
   "source": [
    "o = StatLearn(5, SGD())\n",
    "coef(fit!(o, data))"
   ]
  },
  {
   "cell_type": "code",
   "execution_count": 20,
   "metadata": {},
   "outputs": [
    {
     "data": {
      "text/plain": [
       "5-element Array{Float64,1}:\n",
       " 0.6705075202665447\n",
       " 1.3705293170857202\n",
       " 2.0175111634835363\n",
       " 2.6641441823562024\n",
       " 3.351186646617901 "
      ]
     },
     "execution_count": 20,
     "metadata": {},
     "output_type": "execute_result"
    }
   ],
   "source": [
    "o = StatLearn(5, MSPI(), .5ones(5), L2Penalty())\n",
    "\n",
    "coef(fit!(o, data))"
   ]
  },
  {
   "cell_type": "markdown",
   "metadata": {},
   "source": [
    "---\n",
    "\n",
    "# Real Data Example\n",
    "\n",
    "<div class=\"alert alert-info\">\n",
    "<b>NOTE:</b> OnlineStats doesn't care about where your data comes from (it doesn't need to).\n",
    "</div>\n",
    "\n",
    "### Statistics Directly from CSV\n",
    "\n",
    "- For this example, we are looking at the trip data for every yellow taxi in NYC during December 2018.\n",
    "- https://www1.nyc.gov/site/tlc/about/tlc-trip-record-data.page\n",
    "\n",
    "#### 1) Register data with DataDeps.jl (Optional)\n",
    "\n",
    "- Super helpful for reproducibility\n",
    "- Downloads data only if you don't already have it"
   ]
  },
  {
   "cell_type": "code",
   "execution_count": 21,
   "metadata": {
    "scrolled": false
   },
   "outputs": [
    {
     "data": {
      "text/plain": [
       "\"/Users/joshday/.julia/datadeps/nyc-taxi/yellow_tripdata_2018-12.csv\""
      ]
     },
     "execution_count": 21,
     "metadata": {},
     "output_type": "execute_result"
    }
   ],
   "source": [
    "using DataDeps\n",
    "\n",
    "register(DataDep(\n",
    "    \"nyc-taxi\", \n",
    "    \"About to download ~700MB\",\n",
    "    \"https://s3.amazonaws.com/nyc-tlc/trip+data/yellow_tripdata_2018-12.csv\"\n",
    "))\n",
    "\n",
    "path = datadep\"nyc-taxi/yellow_tripdata_2018-12.csv\""
   ]
  },
  {
   "cell_type": "markdown",
   "metadata": {},
   "source": [
    "#### 2) Quick inspection of file"
   ]
  },
  {
   "cell_type": "code",
   "execution_count": 22,
   "metadata": {},
   "outputs": [
    {
     "name": "stdout",
     "output_type": "stream",
     "text": [
      "VendorID,tpep_pickup_datetime,tpep_dropoff_datetime,passenger_count,trip_distance,RatecodeID,store_and_fwd_flag,PULocationID,DOLocationID,payment_type,fare_amount,extra,mta_tax,tip_amount,tolls_amount,improvement_surcharge,total_amount\n",
      "\r\n",
      "1,2018-12-01 00:28:22,2018-12-01 00:44:07,2,2.50,1,N,148,234,1,12,0.5,0.5,3.95,0,0.3,17.25\r\n",
      "1,2018-12-01 00:52:29,2018-12-01 01:11:37,3,2.30,1,N,170,144,1,13,0.5,0.5,2.85,0,0.3,17.15\r\n",
      "2,2018-12-01 00:12:52,2018-12-01 00:36:23,1,.00,1,N,113,193,2,2.5,0.5,0.5,0,0,0.3,3.8\r\n",
      "1,2018-12-01 00:35:08,2018-12-01 00:43:11,1,3.90,1,N,95,92,1,12.5,0.5,0.5,2.75,0,0.3,16.55\r\n",
      "1,2018-12-01 00:21:54,2018-12-01 01:15:13,1,12.80,1,N,163,228,1,45,0.5,0.5,9.25,0,0.3,55.55\r\n",
      "1,2018-12-01 00:00:38,2018-12-01 00:29:26,1,18.80,1,N,132,97,1,50.5,0.5,0.5,10.35,0,0.3,62.15\r\n",
      "1,2018-12-01 00:59:39,2018-12-01 01:09:07,1,1.00,1,N,246,164,1,7.5,0.5,0.5,0.44,0,0.3,9.24\r\n",
      "1,2018-12-01 00:19:19,2018-12-01 00:22:19,1,.30,1,N,161,163,4,4,0.5,0.5,0,0,0.3,5.3\r\n"
     ]
    }
   ],
   "source": [
    ";head $path"
   ]
  },
  {
   "cell_type": "markdown",
   "metadata": {},
   "source": [
    "#### 3) Iterate through rows\n",
    "\n",
    "- Lazily read the data and parse it into the data type we want (`Int`)\n",
    "- Add each value to our `CountMap`"
   ]
  },
  {
   "cell_type": "markdown",
   "metadata": {},
   "source": [
    "<div class=\"alert alert-info\">\n",
    "<b>NOTE:</b> These packages don't know about each other.  One of the great things about Julia is composability.\n",
    "</div>"
   ]
  },
  {
   "cell_type": "code",
   "execution_count": 30,
   "metadata": {},
   "outputs": [
    {
     "name": "stdout",
     "output_type": "stream",
     "text": [
      "  4.940100 seconds (34.97 M allocations: 1.333 GiB, 15.77% gc time)\n"
     ]
    }
   ],
   "source": [
    "using Plots, OnlineStats, CSV, Parsers\n",
    "\n",
    "o = CountMap(Int)\n",
    "\n",
    "function f()\n",
    "    for row in CSV.Rows(path; reusebuffer=true, skipto=3)\n",
    "        fit!(o, Parsers.parse(Int, row.passenger_count))\n",
    "    end\n",
    "end\n",
    "@time f()"
   ]
  },
  {
   "cell_type": "markdown",
   "metadata": {},
   "source": [
    "**Note this is faster than loading the entire dataset**"
   ]
  },
  {
   "cell_type": "code",
   "execution_count": 29,
   "metadata": {},
   "outputs": [
    {
     "name": "stdout",
     "output_type": "stream",
     "text": [
      " 10.245334 seconds (3.57 M allocations: 300.681 MiB, 17.75% gc time)\n"
     ]
    },
    {
     "data": {
      "text/html": [
       "<table class=\"data-frame\"><thead><tr><th></th><th>VendorID</th><th>tpep_pickup_datetime</th><th>tpep_dropoff_datetime</th><th>passenger_count</th><th>trip_distance</th></tr><tr><th></th><th>Int64</th><th>String</th><th>String</th><th>Int64</th><th>Float64</th></tr></thead><tbody><p>5 rows × 17 columns (omitted printing of 12 columns)</p><tr><th>1</th><td>1</td><td>2018-12-01 00:28:22</td><td>2018-12-01 00:44:07</td><td>2</td><td>2.5</td></tr><tr><th>2</th><td>1</td><td>2018-12-01 00:52:29</td><td>2018-12-01 01:11:37</td><td>3</td><td>2.3</td></tr><tr><th>3</th><td>2</td><td>2018-12-01 00:12:52</td><td>2018-12-01 00:36:23</td><td>1</td><td>0.0</td></tr><tr><th>4</th><td>1</td><td>2018-12-01 00:35:08</td><td>2018-12-01 00:43:11</td><td>1</td><td>3.9</td></tr><tr><th>5</th><td>1</td><td>2018-12-01 00:21:54</td><td>2018-12-01 01:15:13</td><td>1</td><td>12.8</td></tr></tbody></table>"
      ],
      "text/latex": [
       "\\begin{tabular}{r|cccccc}\n",
       "\t& VendorID & tpep\\_pickup\\_datetime & tpep\\_dropoff\\_datetime & passenger\\_count & trip\\_distance & \\\\\n",
       "\t\\hline\n",
       "\t& Int64 & String & String & Int64 & Float64 & \\\\\n",
       "\t\\hline\n",
       "\t1 & 1 & 2018-12-01 00:28:22 & 2018-12-01 00:44:07 & 2 & 2.5 & $\\dots$ \\\\\n",
       "\t2 & 1 & 2018-12-01 00:52:29 & 2018-12-01 01:11:37 & 3 & 2.3 & $\\dots$ \\\\\n",
       "\t3 & 2 & 2018-12-01 00:12:52 & 2018-12-01 00:36:23 & 1 & 0.0 & $\\dots$ \\\\\n",
       "\t4 & 1 & 2018-12-01 00:35:08 & 2018-12-01 00:43:11 & 1 & 3.9 & $\\dots$ \\\\\n",
       "\t5 & 1 & 2018-12-01 00:21:54 & 2018-12-01 01:15:13 & 1 & 12.8 & $\\dots$ \\\\\n",
       "\\end{tabular}\n"
      ],
      "text/plain": [
       "5×17 DataFrame. Omitted printing of 14 columns\n",
       "│ Row │ VendorID │ tpep_pickup_datetime │ tpep_dropoff_datetime │\n",
       "│     │ \u001b[90mInt64\u001b[39m    │ \u001b[90mString\u001b[39m               │ \u001b[90mString\u001b[39m                │\n",
       "├─────┼──────────┼──────────────────────┼───────────────────────┤\n",
       "│ 1   │ 1        │ 2018-12-01 00:28:22  │ 2018-12-01 00:44:07   │\n",
       "│ 2   │ 1        │ 2018-12-01 00:52:29  │ 2018-12-01 01:11:37   │\n",
       "│ 3   │ 2        │ 2018-12-01 00:12:52  │ 2018-12-01 00:36:23   │\n",
       "│ 4   │ 1        │ 2018-12-01 00:35:08  │ 2018-12-01 00:43:11   │\n",
       "│ 5   │ 1        │ 2018-12-01 00:21:54  │ 2018-12-01 01:15:13   │"
      ]
     },
     "execution_count": 29,
     "metadata": {},
     "output_type": "execute_result"
    }
   ],
   "source": [
    "using DataFrames\n",
    "\n",
    "@time df = CSV.read(path, skipto=3)\n",
    "\n",
    "first(df, 5)"
   ]
  },
  {
   "cell_type": "markdown",
   "metadata": {},
   "source": [
    "#### 4) Plot"
   ]
  },
  {
   "cell_type": "code",
   "execution_count": 25,
   "metadata": {
    "scrolled": false
   },
   "outputs": [
    {
     "name": "stdout",
     "output_type": "stream",
     "text": [
      "Total Number of Yellow Taxi Rides in Dec 2018: 8173231\n"
     ]
    },
    {
     "data": {
      "image/svg+xml": [
       "<?xml version=\"1.0\" encoding=\"utf-8\"?>\n",
       "<svg xmlns=\"http://www.w3.org/2000/svg\" xmlns:xlink=\"http://www.w3.org/1999/xlink\" width=\"600\" height=\"400\" viewBox=\"0 0 2400 1600\">\n",
       "<defs>\n",
       "  <clipPath id=\"clip5900\">\n",
       "    <rect x=\"0\" y=\"0\" width=\"2400\" height=\"1600\"/>\n",
       "  </clipPath>\n",
       "</defs>\n",
       "<polygon clip-path=\"url(#clip5900)\" points=\"\n",
       "0,1600 2400,1600 2400,0 0,0 \n",
       "  \" fill=\"#ffffff\" fill-rule=\"evenodd\" fill-opacity=\"1\"/>\n",
       "<defs>\n",
       "  <clipPath id=\"clip5901\">\n",
       "    <rect x=\"480\" y=\"0\" width=\"1681\" height=\"1600\"/>\n",
       "  </clipPath>\n",
       "</defs>\n",
       "<polygon clip-path=\"url(#clip5900)\" points=\"\n",
       "260.273,1487.47 2352.76,1487.47 2352.76,121.675 260.273,121.675 \n",
       "  \" fill=\"#ffffff\" fill-rule=\"evenodd\" fill-opacity=\"1\"/>\n",
       "<defs>\n",
       "  <clipPath id=\"clip5902\">\n",
       "    <rect x=\"260\" y=\"121\" width=\"2093\" height=\"1367\"/>\n",
       "  </clipPath>\n",
       "</defs>\n",
       "<polyline clip-path=\"url(#clip5902)\" style=\"stroke:#000000; stroke-width:2; stroke-opacity:0.1; fill:none\" points=\"\n",
       "  451.376,1487.47 451.376,121.675 \n",
       "  \"/>\n",
       "<polyline clip-path=\"url(#clip5902)\" style=\"stroke:#000000; stroke-width:2; stroke-opacity:0.1; fill:none\" points=\"\n",
       "  641.407,1487.47 641.407,121.675 \n",
       "  \"/>\n",
       "<polyline clip-path=\"url(#clip5902)\" style=\"stroke:#000000; stroke-width:2; stroke-opacity:0.1; fill:none\" points=\"\n",
       "  831.438,1487.47 831.438,121.675 \n",
       "  \"/>\n",
       "<polyline clip-path=\"url(#clip5902)\" style=\"stroke:#000000; stroke-width:2; stroke-opacity:0.1; fill:none\" points=\"\n",
       "  1021.47,1487.47 1021.47,121.675 \n",
       "  \"/>\n",
       "<polyline clip-path=\"url(#clip5902)\" style=\"stroke:#000000; stroke-width:2; stroke-opacity:0.1; fill:none\" points=\"\n",
       "  1211.5,1487.47 1211.5,121.675 \n",
       "  \"/>\n",
       "<polyline clip-path=\"url(#clip5902)\" style=\"stroke:#000000; stroke-width:2; stroke-opacity:0.1; fill:none\" points=\"\n",
       "  1401.53,1487.47 1401.53,121.675 \n",
       "  \"/>\n",
       "<polyline clip-path=\"url(#clip5902)\" style=\"stroke:#000000; stroke-width:2; stroke-opacity:0.1; fill:none\" points=\"\n",
       "  1591.56,1487.47 1591.56,121.675 \n",
       "  \"/>\n",
       "<polyline clip-path=\"url(#clip5902)\" style=\"stroke:#000000; stroke-width:2; stroke-opacity:0.1; fill:none\" points=\"\n",
       "  1781.59,1487.47 1781.59,121.675 \n",
       "  \"/>\n",
       "<polyline clip-path=\"url(#clip5902)\" style=\"stroke:#000000; stroke-width:2; stroke-opacity:0.1; fill:none\" points=\"\n",
       "  1971.62,1487.47 1971.62,121.675 \n",
       "  \"/>\n",
       "<polyline clip-path=\"url(#clip5902)\" style=\"stroke:#000000; stroke-width:2; stroke-opacity:0.1; fill:none\" points=\"\n",
       "  2161.65,1487.47 2161.65,121.675 \n",
       "  \"/>\n",
       "<polyline clip-path=\"url(#clip5902)\" style=\"stroke:#000000; stroke-width:2; stroke-opacity:0.1; fill:none\" points=\"\n",
       "  260.273,1448.82 2352.76,1448.82 \n",
       "  \"/>\n",
       "<polyline clip-path=\"url(#clip5902)\" style=\"stroke:#000000; stroke-width:2; stroke-opacity:0.1; fill:none\" points=\"\n",
       "  260.273,1222.49 2352.76,1222.49 \n",
       "  \"/>\n",
       "<polyline clip-path=\"url(#clip5902)\" style=\"stroke:#000000; stroke-width:2; stroke-opacity:0.1; fill:none\" points=\"\n",
       "  260.273,996.165 2352.76,996.165 \n",
       "  \"/>\n",
       "<polyline clip-path=\"url(#clip5902)\" style=\"stroke:#000000; stroke-width:2; stroke-opacity:0.1; fill:none\" points=\"\n",
       "  260.273,769.838 2352.76,769.838 \n",
       "  \"/>\n",
       "<polyline clip-path=\"url(#clip5902)\" style=\"stroke:#000000; stroke-width:2; stroke-opacity:0.1; fill:none\" points=\"\n",
       "  260.273,543.51 2352.76,543.51 \n",
       "  \"/>\n",
       "<polyline clip-path=\"url(#clip5902)\" style=\"stroke:#000000; stroke-width:2; stroke-opacity:0.1; fill:none\" points=\"\n",
       "  260.273,317.183 2352.76,317.183 \n",
       "  \"/>\n",
       "<polyline clip-path=\"url(#clip5900)\" style=\"stroke:#000000; stroke-width:4; stroke-opacity:1; fill:none\" points=\"\n",
       "  260.273,1487.47 2352.76,1487.47 \n",
       "  \"/>\n",
       "<polyline clip-path=\"url(#clip5900)\" style=\"stroke:#000000; stroke-width:4; stroke-opacity:1; fill:none\" points=\"\n",
       "  260.273,1487.47 260.273,121.675 \n",
       "  \"/>\n",
       "<polyline clip-path=\"url(#clip5900)\" style=\"stroke:#000000; stroke-width:4; stroke-opacity:1; fill:none\" points=\"\n",
       "  451.376,1487.47 451.376,1466.99 \n",
       "  \"/>\n",
       "<polyline clip-path=\"url(#clip5900)\" style=\"stroke:#000000; stroke-width:4; stroke-opacity:1; fill:none\" points=\"\n",
       "  641.407,1487.47 641.407,1466.99 \n",
       "  \"/>\n",
       "<polyline clip-path=\"url(#clip5900)\" style=\"stroke:#000000; stroke-width:4; stroke-opacity:1; fill:none\" points=\"\n",
       "  831.438,1487.47 831.438,1466.99 \n",
       "  \"/>\n",
       "<polyline clip-path=\"url(#clip5900)\" style=\"stroke:#000000; stroke-width:4; stroke-opacity:1; fill:none\" points=\"\n",
       "  1021.47,1487.47 1021.47,1466.99 \n",
       "  \"/>\n",
       "<polyline clip-path=\"url(#clip5900)\" style=\"stroke:#000000; stroke-width:4; stroke-opacity:1; fill:none\" points=\"\n",
       "  1211.5,1487.47 1211.5,1466.99 \n",
       "  \"/>\n",
       "<polyline clip-path=\"url(#clip5900)\" style=\"stroke:#000000; stroke-width:4; stroke-opacity:1; fill:none\" points=\"\n",
       "  1401.53,1487.47 1401.53,1466.99 \n",
       "  \"/>\n",
       "<polyline clip-path=\"url(#clip5900)\" style=\"stroke:#000000; stroke-width:4; stroke-opacity:1; fill:none\" points=\"\n",
       "  1591.56,1487.47 1591.56,1466.99 \n",
       "  \"/>\n",
       "<polyline clip-path=\"url(#clip5900)\" style=\"stroke:#000000; stroke-width:4; stroke-opacity:1; fill:none\" points=\"\n",
       "  1781.59,1487.47 1781.59,1466.99 \n",
       "  \"/>\n",
       "<polyline clip-path=\"url(#clip5900)\" style=\"stroke:#000000; stroke-width:4; stroke-opacity:1; fill:none\" points=\"\n",
       "  1971.62,1487.47 1971.62,1466.99 \n",
       "  \"/>\n",
       "<polyline clip-path=\"url(#clip5900)\" style=\"stroke:#000000; stroke-width:4; stroke-opacity:1; fill:none\" points=\"\n",
       "  2161.65,1487.47 2161.65,1466.99 \n",
       "  \"/>\n",
       "<polyline clip-path=\"url(#clip5900)\" style=\"stroke:#000000; stroke-width:4; stroke-opacity:1; fill:none\" points=\"\n",
       "  260.273,1448.82 291.661,1448.82 \n",
       "  \"/>\n",
       "<polyline clip-path=\"url(#clip5900)\" style=\"stroke:#000000; stroke-width:4; stroke-opacity:1; fill:none\" points=\"\n",
       "  260.273,1222.49 291.661,1222.49 \n",
       "  \"/>\n",
       "<polyline clip-path=\"url(#clip5900)\" style=\"stroke:#000000; stroke-width:4; stroke-opacity:1; fill:none\" points=\"\n",
       "  260.273,996.165 291.661,996.165 \n",
       "  \"/>\n",
       "<polyline clip-path=\"url(#clip5900)\" style=\"stroke:#000000; stroke-width:4; stroke-opacity:1; fill:none\" points=\"\n",
       "  260.273,769.838 291.661,769.838 \n",
       "  \"/>\n",
       "<polyline clip-path=\"url(#clip5900)\" style=\"stroke:#000000; stroke-width:4; stroke-opacity:1; fill:none\" points=\"\n",
       "  260.273,543.51 291.661,543.51 \n",
       "  \"/>\n",
       "<polyline clip-path=\"url(#clip5900)\" style=\"stroke:#000000; stroke-width:4; stroke-opacity:1; fill:none\" points=\"\n",
       "  260.273,317.183 291.661,317.183 \n",
       "  \"/>\n",
       "<g clip-path=\"url(#clip5900)\">\n",
       "<text style=\"fill:#000000; fill-opacity:1; font-family:Arial,Helvetica Neue,Helvetica,sans-serif; font-size:48px; text-anchor:middle;\" transform=\"rotate(0, 451.376, 1541.47)\" x=\"451.376\" y=\"1541.47\">0</text>\n",
       "</g>\n",
       "<g clip-path=\"url(#clip5900)\">\n",
       "<text style=\"fill:#000000; fill-opacity:1; font-family:Arial,Helvetica Neue,Helvetica,sans-serif; font-size:48px; text-anchor:middle;\" transform=\"rotate(0, 641.407, 1541.47)\" x=\"641.407\" y=\"1541.47\">1</text>\n",
       "</g>\n",
       "<g clip-path=\"url(#clip5900)\">\n",
       "<text style=\"fill:#000000; fill-opacity:1; font-family:Arial,Helvetica Neue,Helvetica,sans-serif; font-size:48px; text-anchor:middle;\" transform=\"rotate(0, 831.438, 1541.47)\" x=\"831.438\" y=\"1541.47\">2</text>\n",
       "</g>\n",
       "<g clip-path=\"url(#clip5900)\">\n",
       "<text style=\"fill:#000000; fill-opacity:1; font-family:Arial,Helvetica Neue,Helvetica,sans-serif; font-size:48px; text-anchor:middle;\" transform=\"rotate(0, 1021.47, 1541.47)\" x=\"1021.47\" y=\"1541.47\">3</text>\n",
       "</g>\n",
       "<g clip-path=\"url(#clip5900)\">\n",
       "<text style=\"fill:#000000; fill-opacity:1; font-family:Arial,Helvetica Neue,Helvetica,sans-serif; font-size:48px; text-anchor:middle;\" transform=\"rotate(0, 1211.5, 1541.47)\" x=\"1211.5\" y=\"1541.47\">4</text>\n",
       "</g>\n",
       "<g clip-path=\"url(#clip5900)\">\n",
       "<text style=\"fill:#000000; fill-opacity:1; font-family:Arial,Helvetica Neue,Helvetica,sans-serif; font-size:48px; text-anchor:middle;\" transform=\"rotate(0, 1401.53, 1541.47)\" x=\"1401.53\" y=\"1541.47\">5</text>\n",
       "</g>\n",
       "<g clip-path=\"url(#clip5900)\">\n",
       "<text style=\"fill:#000000; fill-opacity:1; font-family:Arial,Helvetica Neue,Helvetica,sans-serif; font-size:48px; text-anchor:middle;\" transform=\"rotate(0, 1591.56, 1541.47)\" x=\"1591.56\" y=\"1541.47\">6</text>\n",
       "</g>\n",
       "<g clip-path=\"url(#clip5900)\">\n",
       "<text style=\"fill:#000000; fill-opacity:1; font-family:Arial,Helvetica Neue,Helvetica,sans-serif; font-size:48px; text-anchor:middle;\" transform=\"rotate(0, 1781.59, 1541.47)\" x=\"1781.59\" y=\"1541.47\">7</text>\n",
       "</g>\n",
       "<g clip-path=\"url(#clip5900)\">\n",
       "<text style=\"fill:#000000; fill-opacity:1; font-family:Arial,Helvetica Neue,Helvetica,sans-serif; font-size:48px; text-anchor:middle;\" transform=\"rotate(0, 1971.62, 1541.47)\" x=\"1971.62\" y=\"1541.47\">8</text>\n",
       "</g>\n",
       "<g clip-path=\"url(#clip5900)\">\n",
       "<text style=\"fill:#000000; fill-opacity:1; font-family:Arial,Helvetica Neue,Helvetica,sans-serif; font-size:48px; text-anchor:middle;\" transform=\"rotate(0, 2161.65, 1541.47)\" x=\"2161.65\" y=\"1541.47\">9</text>\n",
       "</g>\n",
       "<g clip-path=\"url(#clip5900)\">\n",
       "<text style=\"fill:#000000; fill-opacity:1; font-family:Arial,Helvetica Neue,Helvetica,sans-serif; font-size:48px; text-anchor:end;\" transform=\"rotate(0, 236.273, 1466.32)\" x=\"236.273\" y=\"1466.32\">0</text>\n",
       "</g>\n",
       "<g clip-path=\"url(#clip5900)\">\n",
       "<text style=\"fill:#000000; fill-opacity:1; font-family:Arial,Helvetica Neue,Helvetica,sans-serif; font-size:48px; text-anchor:start;\" transform=\"rotate(0, 106.132, 1246.22)\" x=\"106.132\" y=\"1246.22\">1×10</text>\n",
       "</g>\n",
       "<g clip-path=\"url(#clip5900)\">\n",
       "<text style=\"fill:#000000; fill-opacity:1; font-family:Arial,Helvetica Neue,Helvetica,sans-serif; font-size:38px; text-anchor:start;\" transform=\"rotate(0, 214.529, 1218.81)\" x=\"214.529\" y=\"1218.81\">6</text>\n",
       "</g>\n",
       "<g clip-path=\"url(#clip5900)\">\n",
       "<text style=\"fill:#000000; fill-opacity:1; font-family:Arial,Helvetica Neue,Helvetica,sans-serif; font-size:48px; text-anchor:start;\" transform=\"rotate(0, 106.132, 1019.89)\" x=\"106.132\" y=\"1019.89\">2×10</text>\n",
       "</g>\n",
       "<g clip-path=\"url(#clip5900)\">\n",
       "<text style=\"fill:#000000; fill-opacity:1; font-family:Arial,Helvetica Neue,Helvetica,sans-serif; font-size:38px; text-anchor:start;\" transform=\"rotate(0, 214.529, 992.482)\" x=\"214.529\" y=\"992.482\">6</text>\n",
       "</g>\n",
       "<g clip-path=\"url(#clip5900)\">\n",
       "<text style=\"fill:#000000; fill-opacity:1; font-family:Arial,Helvetica Neue,Helvetica,sans-serif; font-size:48px; text-anchor:start;\" transform=\"rotate(0, 106.132, 793.565)\" x=\"106.132\" y=\"793.565\">3×10</text>\n",
       "</g>\n",
       "<g clip-path=\"url(#clip5900)\">\n",
       "<text style=\"fill:#000000; fill-opacity:1; font-family:Arial,Helvetica Neue,Helvetica,sans-serif; font-size:38px; text-anchor:start;\" transform=\"rotate(0, 214.529, 766.155)\" x=\"214.529\" y=\"766.155\">6</text>\n",
       "</g>\n",
       "<g clip-path=\"url(#clip5900)\">\n",
       "<text style=\"fill:#000000; fill-opacity:1; font-family:Arial,Helvetica Neue,Helvetica,sans-serif; font-size:48px; text-anchor:start;\" transform=\"rotate(0, 106.132, 567.238)\" x=\"106.132\" y=\"567.238\">4×10</text>\n",
       "</g>\n",
       "<g clip-path=\"url(#clip5900)\">\n",
       "<text style=\"fill:#000000; fill-opacity:1; font-family:Arial,Helvetica Neue,Helvetica,sans-serif; font-size:38px; text-anchor:start;\" transform=\"rotate(0, 214.529, 539.828)\" x=\"214.529\" y=\"539.828\">6</text>\n",
       "</g>\n",
       "<g clip-path=\"url(#clip5900)\">\n",
       "<text style=\"fill:#000000; fill-opacity:1; font-family:Arial,Helvetica Neue,Helvetica,sans-serif; font-size:48px; text-anchor:start;\" transform=\"rotate(0, 106.132, 340.911)\" x=\"106.132\" y=\"340.911\">5×10</text>\n",
       "</g>\n",
       "<g clip-path=\"url(#clip5900)\">\n",
       "<text style=\"fill:#000000; fill-opacity:1; font-family:Arial,Helvetica Neue,Helvetica,sans-serif; font-size:38px; text-anchor:start;\" transform=\"rotate(0, 214.529, 313.5)\" x=\"214.529\" y=\"313.5\">6</text>\n",
       "</g>\n",
       "<g clip-path=\"url(#clip5900)\">\n",
       "<text style=\"fill:#000000; fill-opacity:1; font-family:Arial,Helvetica Neue,Helvetica,sans-serif; font-size:84px; text-anchor:middle;\" transform=\"rotate(0, 1306.51, 73.2)\" x=\"1306.51\" y=\"73.2\">Number of Passengers in NYC Yellow Taxis (Dec 2018)</text>\n",
       "</g>\n",
       "<polygon clip-path=\"url(#clip5902)\" points=\"\n",
       "375.364,1422.62 375.364,1448.82 527.388,1448.82 527.388,1422.62 375.364,1422.62 375.364,1422.62 \n",
       "  \" fill=\"#009af9\" fill-rule=\"evenodd\" fill-opacity=\"1\"/>\n",
       "<polyline clip-path=\"url(#clip5902)\" style=\"stroke:#000000; stroke-width:4; stroke-opacity:1; fill:none\" points=\"\n",
       "  375.364,1422.62 375.364,1448.82 527.388,1448.82 527.388,1422.62 375.364,1422.62 \n",
       "  \"/>\n",
       "<polygon clip-path=\"url(#clip5902)\" points=\"\n",
       "565.395,160.33 565.395,1448.82 717.419,1448.82 717.419,160.33 565.395,160.33 565.395,160.33 \n",
       "  \" fill=\"#009af9\" fill-rule=\"evenodd\" fill-opacity=\"1\"/>\n",
       "<polyline clip-path=\"url(#clip5902)\" style=\"stroke:#000000; stroke-width:4; stroke-opacity:1; fill:none\" points=\"\n",
       "  565.395,160.33 565.395,1448.82 717.419,1448.82 717.419,160.33 565.395,160.33 \n",
       "  \"/>\n",
       "<polygon clip-path=\"url(#clip5902)\" points=\"\n",
       "755.425,1165.64 755.425,1448.82 907.45,1448.82 907.45,1165.64 755.425,1165.64 755.425,1165.64 \n",
       "  \" fill=\"#009af9\" fill-rule=\"evenodd\" fill-opacity=\"1\"/>\n",
       "<polyline clip-path=\"url(#clip5902)\" style=\"stroke:#000000; stroke-width:4; stroke-opacity:1; fill:none\" points=\"\n",
       "  755.425,1165.64 755.425,1448.82 907.45,1448.82 907.45,1165.64 755.425,1165.64 \n",
       "  \"/>\n",
       "<polygon clip-path=\"url(#clip5902)\" points=\"\n",
       "945.456,1364.63 945.456,1448.82 1097.48,1448.82 1097.48,1364.63 945.456,1364.63 945.456,1364.63 \n",
       "  \" fill=\"#009af9\" fill-rule=\"evenodd\" fill-opacity=\"1\"/>\n",
       "<polyline clip-path=\"url(#clip5902)\" style=\"stroke:#000000; stroke-width:4; stroke-opacity:1; fill:none\" points=\"\n",
       "  945.456,1364.63 945.456,1448.82 1097.48,1448.82 1097.48,1364.63 945.456,1364.63 \n",
       "  \"/>\n",
       "<polygon clip-path=\"url(#clip5902)\" points=\"\n",
       "1135.49,1407.61 1135.49,1448.82 1287.51,1448.82 1287.51,1407.61 1135.49,1407.61 1135.49,1407.61 \n",
       "  \" fill=\"#009af9\" fill-rule=\"evenodd\" fill-opacity=\"1\"/>\n",
       "<polyline clip-path=\"url(#clip5902)\" style=\"stroke:#000000; stroke-width:4; stroke-opacity:1; fill:none\" points=\"\n",
       "  1135.49,1407.61 1135.49,1448.82 1287.51,1448.82 1287.51,1407.61 1135.49,1407.61 \n",
       "  \"/>\n",
       "<polygon clip-path=\"url(#clip5902)\" points=\"\n",
       "1325.52,1370.29 1325.52,1448.82 1477.54,1448.82 1477.54,1370.29 1325.52,1370.29 1325.52,1370.29 \n",
       "  \" fill=\"#009af9\" fill-rule=\"evenodd\" fill-opacity=\"1\"/>\n",
       "<polyline clip-path=\"url(#clip5902)\" style=\"stroke:#000000; stroke-width:4; stroke-opacity:1; fill:none\" points=\"\n",
       "  1325.52,1370.29 1325.52,1448.82 1477.54,1448.82 1477.54,1370.29 1325.52,1370.29 \n",
       "  \"/>\n",
       "<polygon clip-path=\"url(#clip5902)\" points=\"\n",
       "1515.55,1400.82 1515.55,1448.82 1667.57,1448.82 1667.57,1400.82 1515.55,1400.82 1515.55,1400.82 \n",
       "  \" fill=\"#009af9\" fill-rule=\"evenodd\" fill-opacity=\"1\"/>\n",
       "<polyline clip-path=\"url(#clip5902)\" style=\"stroke:#000000; stroke-width:4; stroke-opacity:1; fill:none\" points=\"\n",
       "  1515.55,1400.82 1515.55,1448.82 1667.57,1448.82 1667.57,1400.82 1515.55,1400.82 \n",
       "  \"/>\n",
       "<polygon clip-path=\"url(#clip5902)\" points=\"\n",
       "1705.58,1448.81 1705.58,1448.82 1857.6,1448.82 1857.6,1448.81 1705.58,1448.81 1705.58,1448.81 \n",
       "  \" fill=\"#009af9\" fill-rule=\"evenodd\" fill-opacity=\"1\"/>\n",
       "<polyline clip-path=\"url(#clip5902)\" style=\"stroke:#000000; stroke-width:4; stroke-opacity:1; fill:none\" points=\"\n",
       "  1705.58,1448.81 1705.58,1448.82 1857.6,1448.82 1857.6,1448.81 1705.58,1448.81 \n",
       "  \"/>\n",
       "<polygon clip-path=\"url(#clip5902)\" points=\"\n",
       "1895.61,1448.81 1895.61,1448.82 2047.63,1448.82 2047.63,1448.81 1895.61,1448.81 1895.61,1448.81 \n",
       "  \" fill=\"#009af9\" fill-rule=\"evenodd\" fill-opacity=\"1\"/>\n",
       "<polyline clip-path=\"url(#clip5902)\" style=\"stroke:#000000; stroke-width:4; stroke-opacity:1; fill:none\" points=\"\n",
       "  1895.61,1448.81 1895.61,1448.82 2047.63,1448.82 2047.63,1448.81 1895.61,1448.81 \n",
       "  \"/>\n",
       "<polygon clip-path=\"url(#clip5902)\" points=\"\n",
       "2085.64,1448.82 2085.64,1448.82 2237.67,1448.82 2237.67,1448.82 2085.64,1448.82 2085.64,1448.82 \n",
       "  \" fill=\"#009af9\" fill-rule=\"evenodd\" fill-opacity=\"1\"/>\n",
       "<polyline clip-path=\"url(#clip5902)\" style=\"stroke:#000000; stroke-width:4; stroke-opacity:1; fill:none\" points=\"\n",
       "  2085.64,1448.82 2085.64,1448.82 2237.67,1448.82 2237.67,1448.82 2085.64,1448.82 \n",
       "  \"/>\n",
       "<polygon clip-path=\"url(#clip5900)\" points=\"\n",
       "1912.34,326.155 2280.76,326.155 2280.76,205.195 1912.34,205.195 \n",
       "  \" fill=\"#ffffff\" fill-rule=\"evenodd\" fill-opacity=\"1\"/>\n",
       "<polyline clip-path=\"url(#clip5900)\" style=\"stroke:#000000; stroke-width:4; stroke-opacity:1; fill:none\" points=\"\n",
       "  1912.34,326.155 2280.76,326.155 2280.76,205.195 1912.34,205.195 1912.34,326.155 \n",
       "  \"/>\n",
       "<polygon clip-path=\"url(#clip5900)\" points=\"\n",
       "1936.34,289.867 2080.34,289.867 2080.34,241.483 1936.34,241.483 1936.34,289.867 \n",
       "  \" fill=\"#009af9\" fill-rule=\"evenodd\" fill-opacity=\"1\"/>\n",
       "<polyline clip-path=\"url(#clip5900)\" style=\"stroke:#000000; stroke-width:4; stroke-opacity:1; fill:none\" points=\"\n",
       "  1936.34,289.867 2080.34,289.867 2080.34,241.483 1936.34,241.483 1936.34,289.867 \n",
       "  \"/>\n",
       "<g clip-path=\"url(#clip5900)\">\n",
       "<text style=\"fill:#000000; fill-opacity:1; font-family:Arial,Helvetica Neue,Helvetica,sans-serif; font-size:48px; text-anchor:start;\" transform=\"rotate(0, 2104.34, 283.175)\" x=\"2104.34\" y=\"283.175\">Count</text>\n",
       "</g>\n",
       "</svg>\n"
      ]
     },
     "execution_count": 25,
     "metadata": {},
     "output_type": "execute_result"
    }
   ],
   "source": [
    "sort!(o.value)\n",
    "println(\"Total Number of Yellow Taxi Rides in Dec 2018: $(nobs(o))\")\n",
    "plot(o, title=\"Number of Passengers in NYC Yellow Taxis (Dec 2018)\")"
   ]
  },
  {
   "cell_type": "code",
   "execution_count": 31,
   "metadata": {},
   "outputs": [
    {
     "data": {
      "text/plain": [
       "HeatMap: n=1000000 | value=(x = -5.0:0.1:5.0, y = -5.0:0.1:5.0, z = [0 0 … 0 0; 0 0 … 0 0; … ; 0 0 … 0 0; 0 0 … 0 0])"
      ]
     },
     "execution_count": 31,
     "metadata": {},
     "output_type": "execute_result"
    }
   ],
   "source": [
    "o = HeatMap(-5:.1:5, -5:.1:5)\n",
    "\n",
    "fit!(o, eachrow(randn(10^6, 2)))"
   ]
  },
  {
   "cell_type": "code",
   "execution_count": 32,
   "metadata": {},
   "outputs": [
    {
     "data": {
      "image/svg+xml": [
       "<?xml version=\"1.0\" encoding=\"utf-8\"?>\n",
       "<svg xmlns=\"http://www.w3.org/2000/svg\" xmlns:xlink=\"http://www.w3.org/1999/xlink\" width=\"600\" height=\"400\" viewBox=\"0 0 2400 1600\">\n",
       "<defs>\n",
       "  <clipPath id=\"clip4700\">\n",
       "    <rect x=\"0\" y=\"0\" width=\"2400\" height=\"1600\"/>\n",
       "  </clipPath>\n",
       "</defs>\n",
       "<polygon clip-path=\"url(#clip4700)\" points=\"\n",
       "0,1600 2400,1600 2400,0 0,0 \n",
       "  \" fill=\"#ffffff\" fill-rule=\"evenodd\" fill-opacity=\"1\"/>\n",
       "<defs>\n",
       "  <clipPath id=\"clip4701\">\n",
       "    <rect x=\"480\" y=\"0\" width=\"1681\" height=\"1600\"/>\n",
       "  </clipPath>\n",
       "</defs>\n",
       "<polygon clip-path=\"url(#clip4700)\" points=\"\n",
       "182.008,1487.47 2112.76,1487.47 2112.76,47.2441 182.008,47.2441 \n",
       "  \" fill=\"#ffffff\" fill-rule=\"evenodd\" fill-opacity=\"1\"/>\n",
       "<defs>\n",
       "  <clipPath id=\"clip4702\">\n",
       "    <rect x=\"182\" y=\"47\" width=\"1932\" height=\"1441\"/>\n",
       "  </clipPath>\n",
       "</defs>\n",
       "<polyline clip-path=\"url(#clip4702)\" style=\"stroke:#000000; stroke-width:2; stroke-opacity:0.1; fill:none\" points=\"\n",
       "  182.008,1487.47 182.008,47.2441 \n",
       "  \"/>\n",
       "<polyline clip-path=\"url(#clip4702)\" style=\"stroke:#000000; stroke-width:2; stroke-opacity:0.1; fill:none\" points=\"\n",
       "  664.695,1487.47 664.695,47.2441 \n",
       "  \"/>\n",
       "<polyline clip-path=\"url(#clip4702)\" style=\"stroke:#000000; stroke-width:2; stroke-opacity:0.1; fill:none\" points=\"\n",
       "  1147.38,1487.47 1147.38,47.2441 \n",
       "  \"/>\n",
       "<polyline clip-path=\"url(#clip4702)\" style=\"stroke:#000000; stroke-width:2; stroke-opacity:0.1; fill:none\" points=\"\n",
       "  1630.07,1487.47 1630.07,47.2441 \n",
       "  \"/>\n",
       "<polyline clip-path=\"url(#clip4702)\" style=\"stroke:#000000; stroke-width:2; stroke-opacity:0.1; fill:none\" points=\"\n",
       "  2112.76,1487.47 2112.76,47.2441 \n",
       "  \"/>\n",
       "<polyline clip-path=\"url(#clip4702)\" style=\"stroke:#000000; stroke-width:2; stroke-opacity:0.1; fill:none\" points=\"\n",
       "  182.008,1487.47 2112.76,1487.47 \n",
       "  \"/>\n",
       "<polyline clip-path=\"url(#clip4702)\" style=\"stroke:#000000; stroke-width:2; stroke-opacity:0.1; fill:none\" points=\"\n",
       "  182.008,1127.42 2112.76,1127.42 \n",
       "  \"/>\n",
       "<polyline clip-path=\"url(#clip4702)\" style=\"stroke:#000000; stroke-width:2; stroke-opacity:0.1; fill:none\" points=\"\n",
       "  182.008,767.359 2112.76,767.359 \n",
       "  \"/>\n",
       "<polyline clip-path=\"url(#clip4702)\" style=\"stroke:#000000; stroke-width:2; stroke-opacity:0.1; fill:none\" points=\"\n",
       "  182.008,407.302 2112.76,407.302 \n",
       "  \"/>\n",
       "<polyline clip-path=\"url(#clip4702)\" style=\"stroke:#000000; stroke-width:2; stroke-opacity:0.1; fill:none\" points=\"\n",
       "  182.008,47.2441 2112.76,47.2441 \n",
       "  \"/>\n",
       "<polyline clip-path=\"url(#clip4700)\" style=\"stroke:#000000; stroke-width:4; stroke-opacity:1; fill:none\" points=\"\n",
       "  182.008,1487.47 2112.76,1487.47 \n",
       "  \"/>\n",
       "<polyline clip-path=\"url(#clip4700)\" style=\"stroke:#000000; stroke-width:4; stroke-opacity:1; fill:none\" points=\"\n",
       "  182.008,1487.47 182.008,47.2441 \n",
       "  \"/>\n",
       "<polyline clip-path=\"url(#clip4700)\" style=\"stroke:#000000; stroke-width:4; stroke-opacity:1; fill:none\" points=\"\n",
       "  182.008,1487.47 182.008,1465.87 \n",
       "  \"/>\n",
       "<polyline clip-path=\"url(#clip4700)\" style=\"stroke:#000000; stroke-width:4; stroke-opacity:1; fill:none\" points=\"\n",
       "  664.695,1487.47 664.695,1465.87 \n",
       "  \"/>\n",
       "<polyline clip-path=\"url(#clip4700)\" style=\"stroke:#000000; stroke-width:4; stroke-opacity:1; fill:none\" points=\"\n",
       "  1147.38,1487.47 1147.38,1465.87 \n",
       "  \"/>\n",
       "<polyline clip-path=\"url(#clip4700)\" style=\"stroke:#000000; stroke-width:4; stroke-opacity:1; fill:none\" points=\"\n",
       "  1630.07,1487.47 1630.07,1465.87 \n",
       "  \"/>\n",
       "<polyline clip-path=\"url(#clip4700)\" style=\"stroke:#000000; stroke-width:4; stroke-opacity:1; fill:none\" points=\"\n",
       "  2112.76,1487.47 2112.76,1465.87 \n",
       "  \"/>\n",
       "<polyline clip-path=\"url(#clip4700)\" style=\"stroke:#000000; stroke-width:4; stroke-opacity:1; fill:none\" points=\"\n",
       "  182.008,1487.47 210.969,1487.47 \n",
       "  \"/>\n",
       "<polyline clip-path=\"url(#clip4700)\" style=\"stroke:#000000; stroke-width:4; stroke-opacity:1; fill:none\" points=\"\n",
       "  182.008,1127.42 210.969,1127.42 \n",
       "  \"/>\n",
       "<polyline clip-path=\"url(#clip4700)\" style=\"stroke:#000000; stroke-width:4; stroke-opacity:1; fill:none\" points=\"\n",
       "  182.008,767.359 210.969,767.359 \n",
       "  \"/>\n",
       "<polyline clip-path=\"url(#clip4700)\" style=\"stroke:#000000; stroke-width:4; stroke-opacity:1; fill:none\" points=\"\n",
       "  182.008,407.302 210.969,407.302 \n",
       "  \"/>\n",
       "<polyline clip-path=\"url(#clip4700)\" style=\"stroke:#000000; stroke-width:4; stroke-opacity:1; fill:none\" points=\"\n",
       "  182.008,47.2441 210.969,47.2441 \n",
       "  \"/>\n",
       "<g clip-path=\"url(#clip4700)\">\n",
       "<text style=\"fill:#000000; fill-opacity:1; font-family:Arial,Helvetica Neue,Helvetica,sans-serif; font-size:48px; text-anchor:middle;\" transform=\"rotate(0, 182.008, 1541.47)\" x=\"182.008\" y=\"1541.47\">-5.0</text>\n",
       "</g>\n",
       "<g clip-path=\"url(#clip4700)\">\n",
       "<text style=\"fill:#000000; fill-opacity:1; font-family:Arial,Helvetica Neue,Helvetica,sans-serif; font-size:48px; text-anchor:middle;\" transform=\"rotate(0, 664.695, 1541.47)\" x=\"664.695\" y=\"1541.47\">-2.5</text>\n",
       "</g>\n",
       "<g clip-path=\"url(#clip4700)\">\n",
       "<text style=\"fill:#000000; fill-opacity:1; font-family:Arial,Helvetica Neue,Helvetica,sans-serif; font-size:48px; text-anchor:middle;\" transform=\"rotate(0, 1147.38, 1541.47)\" x=\"1147.38\" y=\"1541.47\">0.0</text>\n",
       "</g>\n",
       "<g clip-path=\"url(#clip4700)\">\n",
       "<text style=\"fill:#000000; fill-opacity:1; font-family:Arial,Helvetica Neue,Helvetica,sans-serif; font-size:48px; text-anchor:middle;\" transform=\"rotate(0, 1630.07, 1541.47)\" x=\"1630.07\" y=\"1541.47\">2.5</text>\n",
       "</g>\n",
       "<g clip-path=\"url(#clip4700)\">\n",
       "<text style=\"fill:#000000; fill-opacity:1; font-family:Arial,Helvetica Neue,Helvetica,sans-serif; font-size:48px; text-anchor:middle;\" transform=\"rotate(0, 2112.76, 1541.47)\" x=\"2112.76\" y=\"1541.47\">5.0</text>\n",
       "</g>\n",
       "<g clip-path=\"url(#clip4700)\">\n",
       "<text style=\"fill:#000000; fill-opacity:1; font-family:Arial,Helvetica Neue,Helvetica,sans-serif; font-size:48px; text-anchor:end;\" transform=\"rotate(0, 158.008, 1504.97)\" x=\"158.008\" y=\"1504.97\">-5.0</text>\n",
       "</g>\n",
       "<g clip-path=\"url(#clip4700)\">\n",
       "<text style=\"fill:#000000; fill-opacity:1; font-family:Arial,Helvetica Neue,Helvetica,sans-serif; font-size:48px; text-anchor:end;\" transform=\"rotate(0, 158.008, 1144.92)\" x=\"158.008\" y=\"1144.92\">-2.5</text>\n",
       "</g>\n",
       "<g clip-path=\"url(#clip4700)\">\n",
       "<text style=\"fill:#000000; fill-opacity:1; font-family:Arial,Helvetica Neue,Helvetica,sans-serif; font-size:48px; text-anchor:end;\" transform=\"rotate(0, 158.008, 784.859)\" x=\"158.008\" y=\"784.859\">0.0</text>\n",
       "</g>\n",
       "<g clip-path=\"url(#clip4700)\">\n",
       "<text style=\"fill:#000000; fill-opacity:1; font-family:Arial,Helvetica Neue,Helvetica,sans-serif; font-size:48px; text-anchor:end;\" transform=\"rotate(0, 158.008, 424.802)\" x=\"158.008\" y=\"424.802\">2.5</text>\n",
       "</g>\n",
       "<g clip-path=\"url(#clip4700)\">\n",
       "<text style=\"fill:#000000; fill-opacity:1; font-family:Arial,Helvetica Neue,Helvetica,sans-serif; font-size:48px; text-anchor:end;\" transform=\"rotate(0, 158.008, 64.7441)\" x=\"158.008\" y=\"64.7441\">5.0</text>\n",
       "</g>\n",
       "<g clip-path=\"url(#clip4702)\">\n",
       "<image width=\"1931\" height=\"1440\" xlink:href=\"data:image/png;base64,\n",
       "iVBORw0KGgoAAAANSUhEUgAAB4sAAAWgCAYAAABHcaUuAAAgAElEQVR4nOzb247cSHYF0BNMpm6t\n",
       "ngHsN///D86luyUVk+EHNQwD7h5MybvEKJ21PuAg7kFyZ44CAHh19pmtd4xsPQAAAACA9W1XNwAA\n",
       "AAAAAACA709YDAAAAAAAANCQsBgAAAAAAACgIWExAAAAAAAAQEPCYgAAAAAAAICGhMUAAAAAAAAA\n",
       "DQmLAQAAAAAAABoSFgMAAAAAAAA0JCwGAAAAAAAAaEhYDAAAAAAAANCQsBgAAAAAAACgIWExAAAA\n",
       "AAAAQEPCYgAAAAAAAICGhMUAAAAAAAAAAAAAAAAAAAAAAAAAAAAAAAAAAAAAAAAAAAAAAAAAAAAA\n",
       "AAAAAAAAAAAAAAAAAAAAAAAAAAAAAAAAAAAAAAAAAAAAAAAAAAAAAAAAAAAAAAAAAAAAAAAAAAAA\n",
       "AAAAAAAAAAAAAAAAAAAAAAAAAAAAAAAAAAAAAAAAAAAAAAAAAAAAAAAAAAAAAAAAAAAAAAAAAAAA\n",
       "AAAAAAAAAAAAAAAAAAAAAAAAAAAAAAAAAAAAAAAAAAAAAAAAAAAAAAAAAAAAAAAAAAAAAAAAAAAA\n",
       "AAAAAAAAAAAAAAAAAPz/jasbAAAAANfaZ67W0eQ9OzlmVX3GbVX2AAAAdLVd3QAAAAAAAAAAvj9h\n",
       "MQAAAAAAAEBDwmIAAAAAAACAhoTFAAAAAAAAAA0JiwEAAAAAAAAaEhYDAAAAAAAANCQsBgAAAAAA\n",
       "AGhIWAwAAAAAAADQkLAYAAAAAAAAoCFhMQAAAAAAAEBDwmIAAAAAAACAhoTFAAAAAAAAAA0JiwEA\n",
       "AAAAAAAaGlc3AAAAoLd9Zusd3vMAAACAf4t/FgMAAAAAAAA0JCwGAAAAAAAAaEhYDAAAAAAAANCQ\n",
       "sBgAAAAAAACgIWExAAAAAAAAQEPCYgAAAAAAAICGhMUAAAAAAAAADQmLAQAAAAAAABoSFgMAAAAA\n",
       "AAA0JCwGAAAAAAAAaEhYDAAAAAAAANCQsBgAAAAAAACgIWExAAAAAAAAQEPj6gYAAABX22eu1uEd\n",
       "AwAAAOCV8M9iAAAAAAAAgIaExQAAAAAAAAANCYsBAAAAAAAAGhIWAwAAAAAAADQkLAYAAAAAAABo\n",
       "SFgMAAAAAAAA0JCwGAAAAAAAAKAhYTEAAAAAAABAQ8JiAAAAAAAAgIaExQAAAAAAAAANCYsBAAAA\n",
       "AAAAGhIWAwAAAAAAADQkLAYAAAAAAABoSFgMAAAAAAAA0NC4ugEAAACvzz5ztY4m72XJMavKjtvK\n",
       "85ket5Qu6xZeo5XPNAAAVuOfxQAAAAAAAAANCYsBAAAAAAAAGhIWAwAAAAAAADQkLAYAAAAAAABo\n",
       "SFgMAAAAAAAA0JCwGAAAAAAAAKAhYTEAAAAAAABAQ8JiAAAAAAAAgIaExQAAAAAAAAANCYsBAAAA\n",
       "AAAAGhIWAwAAAAAAADQkLAYAAAAAAABoSFgMAAAAAAAA0NC4ugEAAADwfPvM1ToWfjdO9jNp5THj\n",
       "+brsp6T03uwybgAArMY/iwEAAAAAAAAaEhYDAAAAAAAANCQsBgAAAAAAAGhIWAwAAAAAAADQkLAY\n",
       "AAAAAAAAoCFhMQAAAAAAAEBDwmIAAAAAAACAhoTFAAAAAAAAAA0JiwEAAAAAAAAaEhYDAAAAAAAA\n",
       "NCQsBgAAAAAAAGhIWAwAAAAAAADQkLAYAAAAAAAAoCFhMQAAAAAAAEBD4+oGAAAA0ME+s/UO77PP\n",
       "lpyD9Piv3DauZW0AAMBL8s9iAAAAAAAAgIaExQAAAAAAAAANCYsBAAAAAAAAGhIWAwAAAAAAADQk\n",
       "LAYAAAAAAABoSFgMAAAAAAAA0JCwGAAAAAAAAKAhYTEAAAAAAABAQ8JiAAAAAAAAgIaExQAAAAAA\n",
       "AAANCYsBAAAAAAAAGhIWAwAAAAAAADQkLAYAAAAAAABoaL+6AQAAfC/7zNU6Rq5WF8nxrzIHfB/p\n",
       "dZu0atvsTciypwAA4CX5ZzEAAAAAAABAQ8JiAAAAAAAAgIaExQAAAAAAAAANCYsBAAAAAAAAGhIW\n",
       "AwAAAAAAADQkLAYAAAAAAABoSFgMAAAAAAAA0JCwGAAAAAAAAKAhYTEAAAAAAABAQ8JiAAAAAAAA\n",
       "gIaExQAAAAAAAAANCYsBAAAAAAAAGhIWAwAAAAAAADQ0rm4AAACv0T5ztY7wM2mybUnpfnax6lpb\n",
       "tV0rS+9N4/Z8q+6BqnXnc9Xx58fTZa116ScAwOvhn8UAAAAAAAAADQmLAQAAAAAAABoSFgMAAAAA\n",
       "AAA0JCwGAAAAAAAAaEhYDAAAAAAAANCQsBgAAAAAAACgIWExAAAAAAAAQEPCYgAAAAAAAICGhMUA\n",
       "AAAAAAAADQmLAQAAAAAAABoSFgMAAAAAAAA0JCwGAAAAAAAAaEhYDAAAAAAAANCQsBgAAAAAAACg\n",
       "oXF1AwAAnm+f2XpHk2ei5LitPGbp9ZGy7piN4JgtOvi/S87BquuM66X3+pprLX2gLdnJuHXvgVXX\n",
       "2VcrjxsAALx+/lkMAAAAAAAA0JCwGAAAAAAAAKAhYTEAAAAAAABAQ8JiAAAAAAAAgIaExQAAAAAA\n",
       "AAANCYsBAAAAAAAAGhIWAwAAAAAAADQkLAYAAAAAAABoSFgMAAAAAAAA0JCwGAAAAAAAAKAhYTEA\n",
       "AAAAAABAQ8JiAAAAAAAAgIaExQAAAAAAAAANjasbAABwvX3mah2ery6XnM+k9NpYdd2uOv4rW/nc\n",
       "WHWdVa261haezJr2+jdYd3+O4BysPZmrzsHKe2DVMUtb+Y4CAHg9/LMYAAAAAAAAoCFhMQAAAAAA\n",
       "AEBDwmIAAAAAAACAhoTFAAAAAAAAAA0JiwEAAAAAAAAaEhYDAAAAAAAANCQsBgAAAAAAAGhIWAwA\n",
       "AAAAAADQkLAYAAAAAAAAoCFhMQAAAAAAAEBDwmIAAAAAAACAhoTFAAAAAAAAAA0JiwEAAAAAAAAa\n",
       "EhYDAAAAAAAANDSubgAAP5p95mod7qkfirXxfMkxq8qOm/l8vux8Jgctu9DS85neB1zH2rjauudG\n",
       "1ap31MoX1Lpn97p7c+09kLTyfHZ57gMAeD38sxgAAAAAAACgIWExAAAAAAAAQEPCYgAAAAAAAICG\n",
       "hMUAAAAAAAAADQmLAQAAAAAAABoSFgMAAAAAAAA0JCwGAAAAAAAAaEhYDAAAAAAAANCQsBgAAAAA\n",
       "AACgIWExAAAAAAAAQEPCYgAAAAAAAICGhMUAAAAAAAAADQmLAQAAAAAAABoaVzcAAOD59nl1C/7c\n",
       "EXy+Svcz17YRbFt+MleeA55rBF9ZZj0t+f6T3E9V2T2VHLD0Zlq1bUsusmam++4brHzfJfuZtPKY\n",
       "Ja06/qtLrg9z8HzGHwCewz+LAQAAAAAAABoSFgMAAAAAAAA0JCwGAAAAAAAAaEhYDAAAAAAAANCQ\n",
       "sBgAAAAAAACgIWExAAAAAAAAQEPCYgAAAAAAAICGhMUAAAAAAAAADQmLAQAAAAAAABoSFgMAAAAA\n",
       "AAA0JCwGAAAAAAAAaEhYDAAAAAAAANCQsBgAAAAAAACgoXF1AwDgz+0zW+8I3nvJtiXblaafz7fq\n",
       "OuNbjODj8qyVpzO3bkfdwx1dedxWtea6XfgSCFu5p/bT8yX301N4cXR5Tlj5GTLJfD6fMbvWyu/r\n",
       "AMBz+GcxAAAAAAAAQEPCYgAAAAAAAICGhMUAAAAAAAAADQmLAQAAAAAAABoSFgMAAAAAAAA0JCwG\n",
       "AAAAAAAAaEhYDAAAAAAAANCQsBgAAAAAAACgIWExAAAAAAAAQEPCYgAAAAAAAICGhMUAAAAAAAAA\n",
       "DQmLAQAAAAAAABoSFgMAAAAAAAA0JCwGAAAAAAAAaGhc3QAAgOfbZ7beEXwmyrUt/aAWHrSYlfuZ\n",
       "bFt6/FdtW/4F48fv6QyvjjFuuWLzkauVNoK/fZ5nrlayXVVVM7k+Vr0J1rXmqdHLXPQ5Lfv8WJV/\n",
       "vl3VmvOZfx5Nr48OVt6fAPBj889iAAAAAAAAgIaExQAAAAAAAAANCYsBAAAAAAAAGhIWAwAAAAAA\n",
       "ADQkLAYAAAAAAABoSFgMAAAAAAAA0JCwGAAAAAAAAKAhYTEAAAAAAABAQ8JiAAAAAAAAgIaExQAA\n",
       "AAAAAAANCYsBAAAAAAAAGhIWAwAAAAAAADQkLAYAAAAAAABoaFzdAABgZfu8ugXfx7HkM9GIj3+u\n",
       "m7PWXRpj2Ufc7Jglq2XHLL02Vm5byqprNmyE+znPYLF119kY91itOY9Yrbjk+giujXXP2qoawd//\n",
       "z0euVvxMy83CqrdA1ep3cc5c9Lk7/96zaj/5sSTXrTUL0Jl/FgMAAAAAAAA0JCwGAAAAAAAAaEhY\n",
       "DAAAAAAAANCQsBgAAAAAAACgIWExAAAAAAAAQEPCYgAAAAAAAICGhMUAAAAAAAAADQmLAQAAAAAA\n",
       "ABoSFgMAAAAAAAA0JCwGAAAAAAAAaEhYDAAAAAAAANCQsBgAAAAAAACgIWExAAAAAAAAQEPCYgAA\n",
       "AAAAAICGxtUNAIA/t89svWPRey/dzx9feiJXnYD8gk1WTI7aoluzqvr0c2EjOW5d5mDVvb7qaVu1\n",
       "7phV9Vm3K6+PlPBczjNXK3nWzg5z+RJy47by00t2dSTf71Z+J1v1PZbrJdetdQbQmX8WAwAAAAAA\n",
       "ADQkLAYAAAAAAABoSFgMAAAAAAAA0JCwGAAAAAAAAKAhYTEAAAAAAABAQ8JiAAAAAAAAgIaExQAA\n",
       "AAAAAAANCYsBAAAAAAAAGhIWAwAAAAAAADQkLAYAAAAAAABoSFgMAAAAAAAA0JCwGAAAAAAAAKAh\n",
       "YTEAAAAAAABAQ+PqBgDA67TPXK0jeh+PYNtmtG3JMUtbs59tHtTGLVxw4aXWQnrlJuutuTZGZffA\n",
       "rDNaL2fN8ecbzfA6G8nfsifPjWQ/Fz4f55GrFZ3LCq+1hZ+uRnI+e5y3s54WntBV332y757w59b9\n",
       "ZgLA/+WfxQAAAAAAAAANCYsBAAAAAAAAGhIWAwAAAAAAADQkLAYAAAAAAABoSFgMAAAAAAAA0JCw\n",
       "GAAAAAAAAKAhYTEAAAAAAABAQ8JiAAAAAAAAgIaExQAAAAAAAAANCYsBAAAAAAAAGhIWAwAAAAAA\n",
       "ADQkLAYAAAAAAABoSFgMAAAAAAAA0NC4ugEA8P3sM1UpeYHGGvW7sez1nuvpymM2g60b4xarVVVV\n",
       "85GtlzLCv1+cwRUykvspvTeTOyE5B2ewVlV23HK1Vj03vsrNwajkOZTdAzPZz+R5mzyDqrLnULRt\n",
       "+ds4Zdai910b4fsu+fyy7H6qcNty52N6pydlV1r6jlp15I5gR3Pv118l25a0cj+TbVt1/AH4Hvyz\n",
       "GAAAAAAAAKAhYTEAAAAAAABAQ8JiAAAAAAAAgIaExQAAAAAAAAANCYsBAAAAAAAAGhIWAwAAAAAA\n",
       "ADQkLAYAAAAAAABoSFgMAAAAAAAA0JCwGAAAAAAAAKAhYTEAAAAAAABAQ8JiAAAAAAAAgIaExQAA\n",
       "AAAAAAANCYsBAAAAAAAAGhIWAwAAAAAAADQ0rm4AAD+afaYqpS+pWMOqquqINW8Ex6wq288RnYXs\n",
       "DGTl+jmD/cyOf1WN5O8EF57PGZyDscdqJddGVdWI/u4z17Z4P8c9V2w+crWi+ym816P9vOVqJduV\n",
       "luxn2qLzmb6jZrSfuVI1z2CxrFWfOWal9/qin67Sa2ME+xl8Flpb9s0nK/lslZN9u8u9E3+VfS/O\n",
       "SfeTH0ty3XZZa8YMVuSfxQAAAAAAAAANCYsBAAAAAAAAGhIWAwAAAAAAADQkLAYAAAAAAABoSFgM\n",
       "AAAAAAAA0JCwGAAAAAAAAKAhYTEAAAAAAABAQ8JiAAAAAAAAgIaExQAAAAAAAAANCYsBAAAAAAAA\n",
       "GhIWAwAAAAAAADQkLAYAAAAAAABoSFgMAAAAAAAA0NC4ugEAVfvM1Tqca5czn881omNWlSw2go8K\n",
       "M9iyZLuqwm0bK/8WLzhu88zVajJmK6/bpJH+PWpyfcxHrpZXqecbt2y5ZL2V10Z43FLm/BKtN2qP\n",
       "1ZoVvKPmkasVlzxvF77XZ/K+y9Wa6bUx3CvPFl0bPaz6/PhV8v0/946d3pmzyXcOrubbHPA8K3+Z\n",
       "AwAAAAAAAOCFCIsBAAAAAAAAGhIWAwAAAAAAADQkLAYAAAAAAABoSFgMAAAAAAAA0JCwGAAAAAAA\n",
       "AKAhYTEAAAAAAABAQ8JiAAAAAAAAgIaExQAAAAAAAAANCYsBAAAAAAAAGhIWAwAAAAAAADQkLAYA\n",
       "AAAAAABoSFgMAAAAAAAA0JCwGAAAAAAAAKChcXUDANa2z1ytI3jmJtuVluxnWm7ckp1MT+ZY9npP\n",
       "9nTVPoaNlfu57m8Os3sgV2vWGatVVTXGHqy27rUy6hatlisVrLXu8NcY92C17B6Y9QhWW/i8nblx\n",
       "GyO3n9JnWrKf2Tsq16658maPjn+4nyM3n3MesVrpZ+7s+gjvz6QZ7Gf0Lk6P2ZpvjAufQsvexCuP\n",
       "WdbK33IAeGnrfuUDAAAAAAAA4MUIiwEAAAAAAAAaEhYDAAAAAAAANCQsBgAAAAAAAGhIWAwAAAAA\n",
       "AADQkLAYAAAAAAAAoCFhMQAAAAAAAEBDwmIAAAAAAACAhoTFAAAAAAAAAA0JiwEAAAAAAAAaEhYD\n",
       "AAAAAAAANCQsBgAAAAAAAGhIWAwAAAAAAADQ0Li6AcBrtc+rW/DHjoXPtVXHLC05B9kxSy6OZMPS\n",
       "i3bdtgWrjYW3+tKPV2u2bSzarq9ybRvjFqtVVTXrjNXaxrtYrTm/xGpVVY1xD1bLzcGsI1YrvQe2\n",
       "8TZWa9YjVus8s2vjtgXXbbCfc+b2ZlXVGMnfeOdqpdftOZ+i9XJy/ZzL9rEq+QSZvJ++Cq61mdvr\n",
       "6eeq5L2SfSNI81b2/FLBPRW8U+L3XbRazsq7aW2rfhtKfzdcuW0A/z7/LAYAAAAAAABoSFgMAAAA\n",
       "AAAA0JCwGAAAAAAAAKAhYTEAAAAAAABAQ8JiAAAAAAAAgIaExQAAAAAAAAANCYsBAAAAAAAAGhIW\n",
       "AwAAAAAAADQkLAYAAAAAAABoSFgMAAAAAAAA0JCwGAAAAAAAAKAhYTEAAAAAAABAQ8JiAAAAAAAA\n",
       "gIbG1Q2AH88+c7UOe5Q/NKLrrCpZLLloo52sqrF065IWPTpGsF0zPP7jlq0Xkl2zVdnfCZ6xSmPs\n",
       "sVpVVXMm25ZbG2PcY7WqqmZyDoJrbRtvYrWqqs55JKvFKiXn8xZeG8f5KVZrv32I1Rrh3yrP+YjV\n",
       "2rbcHDzOz7FaVVVbcH0c52+xWitLnmnnfIrVSj8/Ju+BZV8IqqqC9/qs3LmRl3xWTo5ZcJ39XjFn\n",
       "4fe74Bxkrfwem5NdZdlDbUZbt/J3w+x3qx5Wns8k385hRf5ZDAAAAAAAANCQsBgAAAAAAACgIWEx\n",
       "AAAAAAAAQEPCYgAAAAAAAICGhMUAAAAAAAAADQmLAQAAAAAAABoSFgMAAAAAAAA0JCwGAAAAAAAA\n",
       "aEhYDAAAAAAAANCQsBgAAAAAAACgIWExAAAAAAAAQEPCYgAAAAAAAICGhMUAAAAAAAAADQmLAQAA\n",
       "AAAAABoaVzcAoGqfV7fg+ziCZ+7KY5br51i6n7npnJXt5khe7yP5qJD8jVp6zJJtS45/+nd9yfnM\n",
       "zcGoW6xWXHAP5PsZnIORa9ttvIvVqqrsOTRzY7aNPVYrbQTPjnM+YrXSY5bs5wz2M7mfqrJtS94D\n",
       "6fl8On8JVkueG2es1FnJuczeK0d0/MOP8MGzuyo3nxXf60eyWq5S9AwKv6sEzeTa+L3ikqL7KdvH\n",
       "ZLU1V9naFl2xLyD5ba5q7e9zKekxA1bkn8UAAAAAAAAADQmLAQAAAAAAABoSFgMAAAAAAAA0JCwG\n",
       "AAAAAAAAaEhYDAAAAAAAANCQsBgAAAAAAACgIWExAAAAAAAAQEPCYgAAAAAAAICGhMUAAAAAAAAA\n",
       "DQmLAQAAAAAAABoSFgMAAAAAAAA0JCwGAAAAAAAAaEhYDAAAAAAAANDQuLoBwGu1z1ytI3gWJdtV\n",
       "lW1b0sr9zLVtxK+p8LCljJV/u7XmFhjx37sl+5lbZ2O8idVKm3XEao3aY7Wqqm7b+1itWY9YrVG3\n",
       "WK2qbNu28TZYK9vPbdxjtUbwvJ0zN/779i5Wq6rqvv0Uq3Wcn2K10vdw8i5Iro303fmYX2K1ks9W\n",
       "Z/AMSjsev8VqRcc/fD4mz6HblrsHzpl7Rqiqepy5+ZzzDNZ6itWqqqrk+giujXg/F5V8rspL3lHB\n",
       "uzi4n6qqauTuqORez1vz+8u637/SVv6eBnCdlb9OAwAAAAAAAPBChMUAAAAAAAAADQmLAQAAAAAA\n",
       "ABoSFgMAAAAAAAA0JCwGAAAAAAAAaEhYDAAAAAAAANCQsBgAAAAAAACgIWExAAAAAAAAQEPCYgAA\n",
       "AAAAAICGhMUAAAAAAAAADQmLAQAAAAAAABoSFgMAAAAAAAA0JCwGAAAAAAAAaEhYDAAAAAAAANDQ\n",
       "uLoBwGu1z6tb8MeO8Lm2aj/XtfLFkpzMMYK/t5pnrlZV1bgFiyVHbd3fqI3omOV2wYjvqOAcBPfA\n",
       "qOT4Z+dz397FauXl1sd9+xCrNSt7pm1jj9U65yNW601wzG7jTaxWVdU5j1itMXLr7Azfd1v0HMrV\n",
       "2sY9Vquq6jg/ReulRJ+Fqurz+c9Yra1y50byJn6a2bmc0b2euzvTa/acT7FaybWRbFdV1SO8PlLm\n",
       "+SVbMHx2xASfEaqqZvQ9Knh/zmC7Vp3Lqvh8JvX5yJT8Prfyt7n0d0iAayx8qwMAAAAAAADwUoTF\n",
       "AAAAAAAAAA0JiwEAAAAAAAAaEhYDAAAAAAAANCQsBgAAAAAAAGhIWAwAAAAAAADQkLAYAAAAAAAA\n",
       "oCFhMQAAAAAAAEBDwmIAAAAAAACAhoTFAAAAAAAAAA0JiwEAAAAAAAAaEhYDAAAAAAAANCQsBgAA\n",
       "AAAAAGhov7oBwGt1jFSlUftM1YoV+h+5fmblxqyqatFOxo0R/I3UPHO1ku36WjBYadXflWVX7Rj3\n",
       "XLHk7gxvzhF89Evupzmzp/e+vYvWS9mS66yq7tuHWK1ZuTNtC79ivN1+jtVK9vPNyK2zL/O3WK2q\n",
       "qp+2/4jVSo7ZMT7HalVl19rKe+D9ontghp+8t23N+TzriNV6nE+xWlVV23gTq3XOR6zWCD/A3Lef\n",
       "YrUeM3cOzeCYVWXnc0bfVYK1qir5sBx97B7hT6Qzd3bM5DtZdD7DX2BWfccOv6us+v1l1lO4adnv\n",
       "Vj0kx2zV75nAqlb9AgwAAAAAAADACxIWAwAAAAAAADQkLAYAAAAAAABoSFgMAAAAAAAA0JCwGAAA\n",
       "AAAAAKAhYTEAAAAAAABAQ8JiAAAAAAAAgIaExQAAAAAAAAANCYsBAAAAAAAAGhIWAwAAAAAAADQk\n",
       "LAYAAAAAAABoSFgMAAAAAAAA0JCwGAAAAAAAAKChcXUDgNdqn1e34LVZ+8BdtHUj3K4ZXLYj+Xur\n",
       "9HZKjluu1kj+Ri06/tm2jbHHaqX35m17m6s1crXOecRqVVWN4PrYt/exWlt0bWTX7axHrNa77a+x\n",
       "WlVVM3hG3oPr9l7vYrXez4+xWlVVn8avsVojeA59mD/FalVVnXXGaiX7mWxXVdWtcmfHL+PvsVpp\n",
       "Z/AcmsE5+Dx/i9V6Ctaqqnq75fbUMb8Ea32O1aqqejpz4zaDzxzH+SlWqyq7bpOvF4/g+H+V62dy\n",
       "zEbdYrWqqs6ZWx9j3GO15nyK1Vr6PXZm7+Kk5LNt8vklPZ+zjkU/NK1s1W+tK89lcsxW7ie8PP8s\n",
       "BgAAAAAAAGhIWAwAAAAAAADQkLAYAAAAAAAAoCFhMQAAAAAAAEBDwmIAAAAAAACAhoTFAAAAAAAA\n",
       "AA0JiwEAAAAAAAAaEhYDAAAAAAAANCQsBgAAAAAAAGhIWAwAAAAAAADQkLAYAAAAAAAAoCFhMQAA\n",
       "AAAAAEBDwmIAAAAAAACAhoTFAAAAAAAAAA3tVzcAvs0+s/WOka2X0qWfSek+pucgI9+oXMVRCy+z\n",
       "kfyN1Lr9HMnfgo3ko0Jynd1itaqqxsjWy8muszlzczBHsFY9YrWqqvbtQ7DWu1itt9vHWK2q7F7f\n",
       "602s1hb+Per7+XOs1uf6LVZrr3us1puZG/+qqo/zp1itW/i8XdUtuG5/Da6zqqpb8LX9y/gcq3Wb\n",
       "6c8JuXvll/G3WK3/rP+K1fpt+yVWq6pq1hmrdQZr3Uf4+WXknhOOWKWqfXsfrJZ9j3rMp1it5Dqr\n",
       "qpozNwvJlXbOL8FqVWPknhNq5vZA8j0q/Qwf/dKRPIeC71BVi38ziVrze9raOny3rcqujS5jBi/P\n",
       "P4sBAAAAAAAAGhIWAwAAAAAAADQkLAYAAAAAAABoSFgMAAAAAAAA0JCwGAAAAAAAAKAhYTEAAAAA\n",
       "AABAQ8JiAAAAAAAAgIaExQAAAAAAAAANCYsBAAAAAAAAGhIWAwAAAAAAADQkLAYAAAAAAABoSFgM\n",
       "AAAAAAAA0JCwGAAAAAAAAKChcXUDgH9ln9l6R4M9nx6zHkb0OkhOQXjJji6/kcqN2wj+rmyMe6xW\n",
       "jezaGLXnao1brNYtOWZVddvexmrt2/tYrTnPWK2qqvv2LlbrNt7Ear0ff4nVqqq6V24+t8qt2w/n\n",
       "T7FaVVVfxpdYrZ/nx1itt8Fz4xb+De/nOmK1PlTuHLqH7+H7lrsL/vHIjdkZfRaq2oL3+h5ca1+C\n",
       "66yq6hEct7/XL7Fa53jEaqVfVD6NX2O1jnqK1Ur7VP/M1Xr8LVYr+w5V9Zi5OXh65PbACD93J/v5\n",
       "OD/FasV3aPD5dibbNnNn96zc+fhVcK3NYNvS3xFmbj6TayP9wdDHuW/R4bstsKouX80BAAAAAAAA\n",
       "+F+ExQAAAAAAAAANCYsBAAAAAAAAGhIWAwAAAAAAADQkLAYAAAAAAABoSFgMAAAAAAAA0JCwGAAA\n",
       "AAAAAKAhYTEAAAAAAABAQ8JiAAAAAAAAgIaExQAAAAAAAAANCYsBAAAAAAAAGhIWAwAAAAAAADQk\n",
       "LAYAAAAAAABoSFgMAAAAAAAA0NB+dQOAf6hYIz8AACAASURBVOUY2Xr7zNVKty0j3ajggMXbljSD\n",
       "PR3Jno51f9M0or+3Wnd1jHEP1rrFaqV/7zZGbg5u25tYrTnPWK2vcv1M7oEtujaqtuC6fTM+xGrd\n",
       "wo/eybP7PnPr9kO9i9Wqqvp5vo/VugXX7cctt86SzxtVVfeZ6+df99y63cLX3QwO3Mf9bazWr4/s\n",
       "2f0meEclW/aP8OtAstqbmbtXfplfYrWSZ1BV1X3mzqFP41Os1tPIjVlV9v58t/0lVutp5sasKnyv\n",
       "3z7Gap3BPfC13iNWa1TyGTJ7dp/1FKuV7OeMvg+kPyvn9sBc9xU7e+ElH4bCot0M1lp5acwG322B\n",
       "da37FR4AAAAAAACAFyMsBgAAAAAA+G/27aRXsi09C/C39o7utJlZebvC5TIyzcQyIDFmgMTPZsIA\n",
       "ISQmGGEbLNvlKspVt6m82Zw+IvZikICE4CLdq7c44VrP8wNerb336r8IgAEpFgMAAAAAAAAMSLEY\n",
       "AAAAAAAAYECKxQAAAAAAAAADUiwGAAAAAAAAGJBiMQAAAAAAAMCAFIsBAAAAAAAABqRYDAAAAAAA\n",
       "ADAgxWIAAAAAAACAASkWAwAAAAAAAAxIsRgAAAAAAABgQIrFAAAAAAAAAANaPXcD4IdZ9WzeoWXz\n",
       "fve14DdIfsxwx4jqwX6WfP8f8wyB76vXEstq6eW4Jb9nrqv1nntn6/killVV0XeWfPvTtA2mVU0t\n",
       "19fmto5lrVr2OZNtO6urWFa2d1Tt+i6Wdd7PYlm78Jz2cpX7nnNwrG/nXNYS3sBcredY1j43ddd1\n",
       "7lNWVXbfd3fIZV2ts7/JPgS/wSH40tZTdqw/BQfCZeXGwHXPddzHJfgxq+pheYxlzcF3NgfXp6qq\n",
       "1nJj6rZ9G8taV/g5g//neFzexbLSkvvRpeUm7/SZLHn2qeDZs4Ljqfoxl1VV6b1yTrhdwb6RnB+z\n",
       "ffZ0nfK94eneT7uHhxH4ZzEAAAAAAADAgBSLAQAAAAAAAAakWAwAAAAAAAAwIMViAAAAAAAAgAEp\n",
       "FgMAAAAAAAAMSLEYAAAAAAAAYECKxQAAAAAAAAADUiwGAAAAAAAAGJBiMQAAAAAAAMCAFIsBAAAA\n",
       "AAAABqRYDAAAAAAAADAgxWIAAAAAAACAASkWAwAAAAAAAAyoPXcD4IdZ9eduwXc7xMZVCz9n9qXl\n",
       "njP5PU97Ujvh1rVg23qup7W2imVVVfXgKGjJ31u17G+3su8t1zdaMGuedrGstPV8Gcua2yaWVVW1\n",
       "attY1na6iGVNlR3rZ3UVy1r1XNs+669jWVVVT3WIZX02n8eyVlN2vTubc3nb4HSb3Fe9yA712ky5\n",
       "1j0dg+9/zu5Gkz0t2bbH4Durym7Tku7Dz/nuKZeVnIZu9rm+8bBkx8CHQ24dmIIj6r72sayqqsfg\n",
       "enff7mNZb9qXsayqqkN/iGX1WmJZD8d3sayqqtbmWNbT4X0sK332PCy5vnZc7mJZrXLvv4fHevIu\n",
       "ISk5nj7K5fWey0qe1z861e/J95e8A67K3uun2wbj8s9iAAAAAAAAgAEpFgMAAAAAAAAMSLEYAAAA\n",
       "AAAAYECKxQAAAAAAAAADUiwGAAAAAAAAGJBiMQAAAAAAAMCAFIsBAAAAAAAABqRYDAAAAAAAADAg\n",
       "xWIAAAAAAACAASkWAwAAAAAAAAxIsRgAAAAAAABgQIrFAAAAAAAAAANSLAYAAAAAAAAYkGIxAAAA\n",
       "AAAAwIBWz90AOA2H9twt+L/pz92A/6fViTYv/SmTj3mir6yqor8darlv0OsYy6qqajUHw07391Yt\n",
       "+luwk5weq4fH09w2saxV28Wy1lMuq6pq3c5yWZVr21m/jGVVVe16sG21jWWtwr/TvJpy33MOzt27\n",
       "KTtvvMoNz1oFP8Gq5eahy/C2ajsvsazNlGvby81TLKuq6mafO87Owe/5tGTH+rvgc77e7mNZb5+y\n",
       "1wmf73Lf4Mv7XNtacC900bPz47Hn9rZz8Dl7dgtfD5Xrt3PwnV20F7Gsqqqblntx98f3saztdB3L\n",
       "qqp66rexrDm4Vz72x1hWVVULnhez59hcVPX0mfgQS8qeF8N3OT2X11qub/Tw5J1cP5Pf8zRvOD7q\n",
       "0fvpU723rcrew4/ynKNIfk/v//s63ZtuAAAAAAAAAH5rFIsBAAAAAAAABqRYDAAAAAAAADAgxWIA\n",
       "AAAAAACAASkWAwAAAAAAAAxIsRgAAAAAAABgQIrFAAAAAAAAAANSLAYAAAAAAAAYkGIxAAAAAAAA\n",
       "wIAUiwEAAAAAAAAGpFgMAAAAAAAAMCDFYgAAAAAAAIABKRYDAAAAAAAADGj13A2AH+bQnrsF323V\n",
       "c1np50y2LSn3nD38jNkPkEwLf8q+5LJa7ndILb5MJd/b6X7PXrnvObddLKsF+8bUsn1jautYVvL9\n",
       "p7Xg7wR7sN+uwmP9RV3EslbBd/ZynetnVVWXq9w8dDbHomoTzKqqugwu7XNw6p5arl0vN4dYVlXV\n",
       "6+1jLGvpuZe2mrLz46vtQyzr8Zibh1Yt+5yfBNuW3L3cHrKD/dVmH8s6m3Pf4Ge3m1hWegu/VO4b\n",
       "3B1yjevBdlVVrZbcuv6hP8Wyjv0Yy6qq2rfcc05z7hsslX3OZcnl9eh8mx2gyX33seXWu+wdR/Y/\n",
       "SL3l+m0L3nH08BhI3pkktXDvSJ4Xk/KtSt7d5g4+2Rur9H1y8p2dco2A78/3fE6nuToBAAAAAAAA\n",
       "8FulWAwAAAAAAAAwIMViAAAAAAAAgAEpFgMAAAAAAAAMSLEYAAAAAAAAYECKxQAAAAAAAAADUiwG\n",
       "AAAAAAAAGJBiMQAAAAAAAMCAFIsBAAAAAAAABqRYDAAAAAAAADAgxWIAAAAAAACAASkWAwAAAAAA\n",
       "AAxIsRgAAAAAAABgQIrFAAAAAAAAAANaPXcDAKpW/blb8N3aczfgO4Tb1ZK/Hcq1rdcSy6qqam0O\n",
       "puXa1to6llVV1YLL+9RyWcf+FMtaTWexrKqq7Xwdy1q1bSxr07LPuauLWNbcc/1213exrKqq8ynZ\n",
       "b3NLVPpXmmfBKW0XzHq5yc7dr7f7WNbZfIxlzS3XN5bwTuhq8xjLerG7j2X1nt2/rILfc3/MzRv3\n",
       "++y6/tnlh1jWu/vcunK+yo3NqqrbQ+69fdjnvucXu0MsazNl58f5fhPLmoJ7+M2UHevv9rlJcnPM\n",
       "LXiv+4tYVlX2G7xr38ay9pVbU6qq5uT5IphVlV2MD0tu/WzBXWT2jJ19Zy04Bpbkeb2S9whVvXL7\n",
       "l+g3aNm5O7hVjuq1jz5oC95pJl9Zr8OpXmgOJHnf7Xt+f+l6w+/+N/DPYgAAAAAAAIABKRYDAAAA\n",
       "AAAADEixGAAAAAAAAGBAisUAAAAAAAAAA1IsBgAAAAAAABiQYjEAAAAAAADAgBSLAQAAAAAAAAak\n",
       "WAwAAAAAAAAwIMViAAAAAAAAgAEpFgMAAAAAAAAMSLEYAAAAAAAAYECKxQAAAAAAAAADUiwGAAAA\n",
       "AAAAGNDquRsAP8yqZ/MOLZs3guQ7S3/PpGTTgq+snXKXXWJJreZY1v9MzAn2jfAImKbc8r70Qyxr\n",
       "NZ3FslrL9o0W/P3cse9jWVO7iGVVVS3B8Xndc227rG0sq6pq03LfczPn5o0Xm+zc/ck2N3nMUy7r\n",
       "en2MZVVVzS3XtrM5N6ddbx5jWbt1bt6oqrrY5tq2Cb6z87P7WFZV1dJzY3055rIOx+wa1Xtu7khm\n",
       "vXvIretVVZ+e3cayrtZPsazb/SaW9av7XSyrqurVJjffzsG18+uH7Hq3m3NtW7V1LOvmmF3vKjg+\n",
       "r+pFLOumfYhlVVUdKzc+W/B818OHsuR5JZoVPGP38H+Qlh7sG8GxXsEz8UfJOTKZlTsrVmXH1Cnf\n",
       "gJ3qhWYL3rXmn/FU75TVB363+J7fl38WAwAAAAAAAAxIsRgAAAAAAABgQIrFAAAAAAAAAANSLAYA\n",
       "AAAAAAAYkGIxAAAAAAAAwIAUiwEAAAAAAAAGpFgMAAAAAAAAMCDFYgAAAAAAAIABKRYDAAAAAAAA\n",
       "DEixGAAAAAAAAGBAisUAAAAAAAAAA1IsBgAAAAAAABiQYjEAAAAAAADAgFbP3QD4YQ7tuVvw3U65\n",
       "bUmrnkrKvrDw62/BvB57ZXGt5lhWryWWle8dueesyn3P1pLtymot97uyzXwZyzosj7Gsj3Lfcztd\n",
       "5bLqIpZVVbXtu1jWeW1jWWctuyWdglPHj7a5sE34Z5pzy/Xb15tDLOuzs/tYVlXVejrGsi7WT7Gs\n",
       "H796E8uapuweYbd9iGU9POTmjYvL21hWVVXvufHZptz+5TH4zqqqLi5vYlm3H3Jr8ev9JpZVVfWb\n",
       "d9exrDn4PQ89N3l/cZYbm1VVv7w7i2W93uTm2pt9dl1PjvUPwel2N2UX9utjbt9323N9bdXWsayq\n",
       "qnXL7SH3LbfnmHpuDFRVteD/c+aWm28PS3Kflt2/TMG+tvTcnu+0nfI9U/BQFr2by91nfpS7B27B\n",
       "u9YevZ9Ov7N03qk61W8wSu1iFLm+4Z/FAAAAAAAAAANSLAYAAAAAAAAYkGIxAAAAAAAAwIAUiwEA\n",
       "AAAAAAAGpFgMAAAAAAAAMCDFYgAAAAAAAIABKRYDAAAAAAAADEixGAAAAAAAAGBAisUAAAAAAAAA\n",
       "A1IsBgAAAAAAABiQYjEAAAAAAADAgBSLAQAAAAAAAAakWAwAAAAAAAAwIMViAAAAAAAAgAGtnrsB\n",
       "wP/Lqj93C77boeWycs/ZK/vKWjKuJX+fk33OXsdYVgv+Dqm19DIV7LbR75nV2hzL6j3XN479EMva\n",
       "zS9iWVVVm+kilnVVr2JZm76NZVVVXfTzWNZ5W8eyzubsePpsl8tbBZt2vc7O3Vfr3PhcT0ss62L1\n",
       "FMuqqjpb72NZn7/6NpZ1cXEbyzq/uollVVXd3+TmtE9efB3LOv/kbSyrqmo55Na7zXXue9787Sex\n",
       "rKqqvuQmok//4G9jWd/8/MexrKqqn3zxZSzr119/Gsuap9zc/asP17GsqqrPdo+xrF/d72JZ5+Fj\n",
       "7KHn9vCvplzW26fs/mU55t7bHDyTzZWba6uqpuBV5HrK7W2T59iqqiV4xt4fc/uEecqdL45Lbg6q\n",
       "quqV24+2YL/t0YuhqtZzz5n8H1iv3Hk9rue+QfBWqKqqevROM+mU75T5/pL38PxuyfWN073pBgAA\n",
       "AAAAAOC3RrEYAAAAAAAAYECKxQAAAAAAAAADUiwGAAAAAAAAGJBiMQAAAAAAAMCAFIsBAAAAAAAA\n",
       "BqRYDAAAAAAAADAgxWIAAAAAAACAASkWAwAAAAAAAAxIsRgAAAAAAABgQIrFAAAAAAAAAANSLAYA\n",
       "AAAAAAAYkGIxAAAAAAAAwIBWz90A+GFWPZt3aLmsdNtOUws+5xAvrKqyT5r+rU+ybbnh1PshllVV\n",
       "1dommpcTnILC1vNlLOt0n7Lq2J9iWT34oFPPjvUp+BUu5jmWtZuzz3kTnDq+OMtlvdpk57TX21y/\n",
       "/fTsLpbVWnZl/71Pvo5lLUuur61Wue85zUssq6rq5d/7Kpa1eXkTy2rzMZZVVTXt9rGs/ZurWNbV\n",
       "738Zy6qqmq8eYlmHd+exrOu7XSyrqur4tI5lfVG5eeOrb17Hsl4H59qqqsdjbi3+6mEby/q989zY\n",
       "rKqa73N94yZ49N/37Hr32ZzbdLw7Bq/7luwu/mG6jWXt6iKW9a5/iGVVVU0tNz7Xc+45n46555zC\n",
       "5+ul59a7pYJ7jvClVY8GJveQ4RN7C+b17B4yKfnWTvNmrqpH782rRrk7h79r/LMYAAAAAAAAYECK\n",
       "xQAAAAAAAAADUiwGAAAAAAAAGJBiMQAAAAAAAMCAFIsBAAAAAAAABqRYDAAAAAAAADAgxWIAAAAA\n",
       "AACAASkWAwAAAAAAAAxIsRgAAAAAAABgQIrFAAAAAAAAAANSLAYAAAAAAAAYkGIxAAAAAAAAwIAU\n",
       "iwEAAAAAAAAGpFgMAAAAAAAAMKDVczcAfphDy+atejbvNGVfWjLthF9/85ua7y/4PePvP9i2nstq\n",
       "0yaW9VGubb0fY1nTtItltfDv3XbtKpaVnB23fRtMq9q0OZaVnLmn8Kr+04tc665WuTGwm5dYVlXV\n",
       "3HLP+WJ3F8s63z7GsqqqenBUffLjr2JZq+1TLOvs8zexrKqq1We3ubB9Lqpd5rKqqvp9Luvs773N\n",
       "ha2zx+zl17l5aL7KvbRXf/xXsayqqru//iKW1Xtw3nj1bSxrFV4H3t+fxbL+8OpDLOtpye03qqoe\n",
       "j7l932HJjc8/uMjuR39xe8Ln4qApeBX5WLn9yzp4Vqmquj/m1pXkmSx6jgrv4avn2taC/ay3Qyyr\n",
       "qqoF16hq61hU79k9fPLOpILn2OrZtfhU7zR79O78lO/N0zUCGJcqCAAAAAAAAMCAFIsBAAAAAAAA\n",
       "BqRYDAAAAAAAADAgxWIAAAAAAACAASkWAwAAAAAAAAxIsRgAAAAAAABgQIrFAAAAAAAAAANSLAYA\n",
       "AAAAAAAYkGIxAAAAAAAAwIAUiwEAAAAAAAAGpFgMAAAAAAAAMCDFYgAAAAAAAIABKRYDAAAAAAAA\n",
       "DGj13A3g1K36c7fg/+7QnrsFJLtG7nu2cJ/t/RjLai35+5zsEGjJ3w5FnzMt1z1aW8ey0uZpl8tq\n",
       "m1jW1HLbjqnNsayqqhYcU5u+jWWtw+PpYsr128tVrm2f5rpsVWVnyIvVEsu6Xu9jWVVVX1x8iGVt\n",
       "g227vsq1q6rq/Oo2ljWtcuv67tNvY1kt2K60dhEM+/0vgmFVbcqN9mUVXO/efBPLqqpq/+gyl/Wn\n",
       "72JZT1+9jGVVVZ399KtY1rLP7TmWQ27PcXnIXsE8BfOmh9w++c1jbi9UVbWZcmtxcpNw85TLSvtR\n",
       "cE67O2Qf9Lzn5rRjO8SyDvUYy6qq2ky5BfThmJu7k+eo3oNjs6rS9xwx8ecM6rkxkH//weu5E/4G\n",
       "J3pxHpa+h0/e3eay8iNA/YK/W075Rh8AAAAAAACA3xLFYgAAAAAAAIABKRYDAAAAAAAADEixGAAA\n",
       "AAAAAGBAisUAAAAAAAAAA1IsBgAAAAAAABiQYjEAAAAAAADAgBSLAQAAAAAAAAakWAwAAAAAAAAw\n",
       "IMViAAAAAAAAgAEpFgMAAAAAAAAMSLEYAAAAAAAAYECKxQAAAAAAAAADWv0WInsu69ByWfwwp/oN\n",
       "kv2sKvmcLdi2Hn7/Pdi2bMcIfs+W/Q1M9jlPdDhVVfS3Qz04PNucy6qq1tbBrNwSOk/bWFZV1dL3\n",
       "sazVdBbL6v0Yy5qm7BZmrk0sq/XcWN+Et2pnc26sJ2fbszm7rK+nXN7jknvSy/VTLKuqarM6xLLO\n",
       "zx5iWUvwnVVVrbe593b501/Hslaf5d5ZcNquqqrp91/Esg4//oNY1vT+TSyrqmp59Vksqwf3kH27\n",
       "i2VVVU3vcu9t+qefxrJ2X38dy6qqOv4ql3Xxh7mw9fVtLOvpv/79WFZV1cXuPpZ19ZTbj/7omN2/\n",
       "fHWfG1OXqyWWdQivd63l9pC/vM/tEdK2PdfX7oJnsk3LnXuqqp6W3Nwxt9w7a1NuPN3vv4llnbTg\n",
       "2KyqquDRp1duTouLvrdgVs++s1O96UveAZ+23N35IC+sTrmuwvPyz2IAAAAAAACAASkWAwAAAAAA\n",
       "AAxIsRgAAAAAAABgQIrFAAAAAAAAAANSLAYAAAAAAAAYkGIxAAAAAAAAwIAUiwEAAAAAAAAGpFgM\n",
       "AAAAAAAAMCDFYgAAAAAAAIABKRYDAAAAAAAADEixGAAAAAAAAGBAisUAAAAAAAAAA1IsBgAAAAAA\n",
       "ABiQYjEAAAAAAADAgFb5yEPLZ/K7YdVzWafbz4IPWdl3lpVsWPJj9r4E07JaS/4+Jz0Egl+05dqW\n",
       "f8pc/5iCrev9GMuqqppacnnP9Y1V28Wy5vAWZqo5lnVeZ7Gs9Bg49tz3PF/lWncIT92XweXzx2f3\n",
       "sax5yj7odrWPZbWWa9vl9U0sq6rq8idfxbLanHvOtsuNgeM//yexrKqq9qufx7KW8+tY1tM/+Jex\n",
       "rKqq7V/861jWcv1JLOu4u4xlVVUtVz+KZa2+zPWN2m5yWVU1/+N1LOvh3+X23f2Q23OcXdzFsqqq\n",
       "3r+/imW9Os/N3e8fcnu+qqpXm6dY1u0ht+dbhf9+8RA8EqyDZ7J1cJ+c1oK75Rb+P816yo2D1nNt\n",
       "2x9vY1npd9YrNwha8kwcvmfqdQimBfe2LbcOV1X1njurpG9bR3CyF+dV1U/2Xj99D3+qz3mq7eK5\n",
       "+WcxAAAAAAAAwIAUiwEAAAAAAAAGpFgMAAAAAAAAMCDFYgAAAAAAAIABKRYDAAAAAAAADEixGAAA\n",
       "AAAAAGBAisUAAAAAAAAAA1IsBgAAAAAAABiQYjEAAAAAAADAgBSLAQAAAAAAAAakWAwAAAAAAAAw\n",
       "IMViAAAAAAAAgAEpFgMAAAAAAAAMaPXcDSBt1bN5h3aaWaf8nDynVuFP2YK/qelLLiv8mL2OsazW\n",
       "51jWUvtYVlXV1E5z2ZvaOpo3T5tgWq6z9cqNgXWdxbKqqqbgcx6C42kJb9WmlnvOfXBKCy/qNbVc\n",
       "4nrKPWh6s3G+e4hl7ZJZVzexrKqq+cVtLuwYXNevL2NR7XiIZVVV9RcvY1nL7iqW1d7/LJZVVfX4\n",
       "j/5VLKvd/TqWtf38X8Syqqoe3v9ZLOt49Wksa/tf/n0sq6qqvXsXy1q9yK3Fx7tdLOvs1ftYVlXV\n",
       "+dvrWNb7m9ycNk/Zlf3hmNsPHXpuNZ6D+42qqnVwn7abc+vdxZI8W1T9pgfX9fjuKufYc2fZ3nN9\n",
       "rQd33q3lzv5VVS14Xuw9t7dKnmOrsu+t99x6l3xn/yMwlxWcH0eRXaHS9+bJe313+pDin8UAAAAA\n",
       "AAAAA1IsBgAAAAAAABiQYjEAAAAAAADAgBSLAQAAAAAAAAakWAwAAAAAAAAwIMViAAAAAAAAgAEp\n",
       "FgMAAAAAAAAMSLEYAAAAAAAAYECKxQAAAAAAAAADUiwGAAAAAAAAGJBiMQAAAAAAAMCAFIsBAAAA\n",
       "AAAABqRYDAAAAAAAADAgxWIAAAAAAACAAa2euwFUVa36c7fg755Dy+ad5jcIP2QlHzLbtvST5vR+\n",
       "jGW1Nuey0u+sneZyMNU6mtcq9w2WfohlTbXEsj7K9Y8p+c4qN56Wyr3/qqpVv4xlrYPvbAqP9d5z\n",
       "K0Frubadzdll+NhzbUu2bLvaB9Oq7h52sawfvX4Ty+rB919V1R82sazVH21jWTXlfnd7vP4kllVV\n",
       "dTx7Gcua79/Gsg6f/H4sq6pq2r6KZS3BfdrDt38Sy6qqmr/9y2BablZbrnPvv6qqrXL7vvnDf4tl\n",
       "tbe5PUc/5PpZVdV6k1tXlp6b0y7Wj7GsqqqX29x7e1pya9Qv7nLrU1VFj8XJlfgxeO6pqlqCZ5+L\n",
       "4B7+TbuJZVVVTcEr195yY30Knv2n4NpZVdV7rm8sPTsPJfXgWtyC/wPr6XuJlvyP2kle2w7kNO/N\n",
       "P0q2LV1vSBrlOXlO/lkMAAAAAAAAMCDFYgAAAAAAAIABKRYDAAAAAAAADEixGAAAAAAAAGBAisUA\n",
       "AAAAAAAAA1IsBgAAAAAAABiQYjEAAAAAAADAgBSLAQAAAAAAAAakWAwAAAAAAAAwIMViAAAAAAAA\n",
       "gAEpFgMAAAAAAAAMSLEYAAAAAAAAYECKxQAAAAAAAAADWj13A6iqOrTnbsHfPav+3C34brnv2U/6\n",
       "OYPa6Q6BdqJfoNcSzWs9+Q2CL21KL1O599baHMuKvrOqanWaY2rdzmJZLfx7tymYd1v3sazrtotl\n",
       "VVVNwfk2+QXmcJfdzbmxflxyT7qasnP3enWIZfXgOnDcr2NZVVXH+00sa/76fSyrffEqlnW8+CSW\n",
       "VVXVjvtY1nL2Ipa1e/XPYllVVQ93fxPLane/imXNP/rjWFZV1WGVWz+n9z+LZfXteSyrqmq6/RDL\n",
       "ate5tk3LXSzr+IttLKuq6njI7Ue366dY1tIvYllVVdebh1jWbXCNSu+4j8EjwRzc8+1a9kx2t+T6\n",
       "7X3L7bsv6mUsq6rqqeXmjuR5/dhzYz39H6SWvBtquba1nt3Dp0//fE/xO8hcXo/2tWS9IXs/faI3\n",
       "kJWvN+S+Qfadne5z8rz8sxgAAAAAAABgQIrFAAAAAAAAAANSLAYAAAAAAAAYkGIxAAAAAAAAwIAU\n",
       "iwEAAAAAAAAGpFgMAAAAAAAAMCDFYgAAAAAAAIABKRYDAAAAAAAADEixGAAAAAAAAGBAisUAAAAA\n",
       "AAAAA1IsBgAAAAAAABiQYjEAAAAAAADAgBSLAQAAAAAAAAa0eu4GwA9zaNm8VT/NrKzwS8vpwVfW\n",
       "wk8ZzUt2jfBvfVowry/BrOxwmqZNLKsHv+ey7GNZVVXH9hTLmlvynR1jWcc6xLKqqu7aTSzrVX8d\n",
       "y/p2uYtlVVW9bFexrFVw2ni3z85pc8uNz7NVbny+fTiLZVVVffHqTSxrtc6Nqe11bjxVVa1eBMfB\n",
       "730Si1q2u1jWdP8ullVV1fb3sazD538Uy3q4+5tYVlXVdvfjWNZjcM+x2X4Wy6qqmqZcX3uq3D4t\n",
       "uxJXzX/7s1xY8Hv24JS2v9/mwqpqvcmtUdtDbv94WOZYVlXV7T65H805m7Nnldeb3NnzbfB4MYWP\n",
       "2HPy7Bn9otkHnVtuvO+X3LregncJx/4Qy6qqOi6Psazkcy7JO46PibmoFpxve+68Hhe+G8rKtS17\n",
       "A3m699Mn27C43Dfo8VoI/J/8sxgAAAAAAABgQIrFAAAAAAAAAANSLAYAAAAAAAAYkGIxAAAAAAAA\n",
       "wIAUiwEAAAAAAAAGpFgMAAAAAAAAMCDFYgAAAAAAAIABKRYDAAAAAAAADEixGAAAAAAAAGBAisUA\n",
       "AAAAAAAAA1IsBgAAAAAAABiQYjEAAAAAAADAgBSLAQAAAAAAAAakWAwAAAAAAAAwoNVzNwBOQQtm\n",
       "9WDWKHrtY5+g9VX2E7Q5GpcT7ml9yeaFtJb9TdPS97Gs1nJL6DStY1lVVS06q+W04G/UnvptLKuq\n",
       "6qJexLLmnps3rtsullWVnTkej7msMsAmxwAAIABJREFU8/BUe77KzWk3+00s66cvvo1lVVU9PuXa\n",
       "dvv+Mpa1ubiPZVVV7d/k2rZ7+y6W1c6fYlnzh69jWVVVh9d/EMtqZ5/HsqYp12erqh7f/Xksa331\n",
       "h7Gsu7f/MZZVVVVzbi3Y/OzfxrLaU3as1zrYPx7exqKevs7tEVbb3LxRVTXNucX4/iHXz87W2ef8\n",
       "9jHXtm+Da+cU3nK/zx1V6iG4T0tLnlXu210s66lyWVVVT8tNLOvQH2NZLXjHkTzfVWX3CcuSm4da\n",
       "y57XewUHe/QuJ32PcJr3TBW+Z6qem3CT5/XTvBX6qNch2LzkPXCyXfwwvudz8s9iAAAAAAAAgAEp\n",
       "FgMAAAAAAAAMSLEYAAAAAAAAYECKxQAAAAAAAAADUiwGAAAAAAAAGJBiMQAAAAAAAMCAFIsBAAAA\n",
       "AAAABqRYDAAAAAAAADAgxWIAAAAAAACAASkWAwAAAAAAAAxIsRgAAAAAAABgQIrFAAAAAAAAAANS\n",
       "LAYAAAAAAAAY0Oq5G0DaqmfzDi2bd5rCL20IyXfWov023GX7kstqcy4r3muT7y3Xtt6PsayPgt8z\n",
       "ahNNay23vPfgOzv0x1jWbnoRy6qq2vTcN7if7mNZL2sXy6qqejjmvufrbW5O24W3Lx/2uba93OTm\n",
       "x9unbSyrqups8xTLWpbcb0jn9SGWVVXVD8EjSwuud/vccx5e/SSWVVW1+eWfxrKOt9/Esg6v/2Es\n",
       "q6pq+/qfx7Kie479bS6rqpK/8e4tmHV2Hcuqqmr/4c9yYcHlc//hPJZ1uM+uA4/3uQd9e3sZy9qu\n",
       "suvAfXAdWIJbjt88Zf9/MQWXqOSer4XP2A+VOxNcLy9jWW+mXLuqqua2jmWt2lks6/H4NpaVPCt+\n",
       "DEyeCYL3EpWd06KS90zx+5fkHJls2xi3wNmnHKM+wCnQ156TfxYDAAAAAAAADEixGAAAAAAAAGBA\n",
       "isUAAAAAAAAAA1IsBgAAAAAAABiQYjEAAAAAAADAgBSLAQAAAAAAAAakWAwAAAAAAAAwIMViAAAA\n",
       "AAAAgAEpFgMAAAAAAAAMSLEYAAAAAAAAYECKxQAAAAAAAAADUiwGAAAAAAAAGJBiMQAAAAAAAMCA\n",
       "FIsBAAAAAAAABrR67gZw6lY9l3VouaxTlnzO5PuviobxA+S+QIv/1mcJZuWGQI+2q6rVHMua2jqW\n",
       "1fsxllVVdTje5cLms1jU1HLbjnTfuGnvY1mvl09jWYfwc1ZwDPTgovKUHQJ1uc29tw/73Fj/ZMnO\n",
       "3e/uz2NZLy4/xLKWfa6fVVWtPr+NZR3+JtdxVz95imXt/uTfxLKqqvou1zfm5GA/7HNZVXV8+/NY\n",
       "Vl9tYlnbb3Ltqqrq24tc2CHXb1f/+T/Fsqqq6iq3h3z6y9wYWJ09xrKebnLtqqrktrvWq0Ms621w\n",
       "faqq2ky5jcKH/S6WdZ09rtfNPvdBVy2X9e2SmzeqqvYt19du2rtY1lLZDWny7NmDbVtNufPd4yE3\n",
       "P1ZlnzM6QcYF2xa9S0jfGp7oLWRybxt2qr02/8bUG+AU+WcxAAAAAAAAwIAUiwEAAAAAAAAGpFgM\n",
       "AAAAAAAAMCDFYgAAAAAAAIABKRYDAAAAAAAADEixGAAAAAAAAGBAisUAAAAAAAAAA1IsBgAAAAAA\n",
       "ABiQYjEAAAAAAADAgBSLAQAAAAAAAAakWAwAAAAAAAAwIMViAAAAAAAAgAEpFgMAAAAAAAAMaPXc\n",
       "DSDt0J67Bd9t1XNZ6ec8zfeWblTwA0Tblm1XMq2q2hwMy7Wtp58zmNfaJpcVHgWt5Za9pe9jWa2S\n",
       "/axqO1/Eslrwd2W9L7GsudaxrKqqKficj+0xl9Wzz3kZfG83h1hUbefsWD8subz1OtdvD0v2d5pn\n",
       "66dY1vGYm4e+/MXvxbKqqj5dcm27/MmXsaz9Xwb72T+4j2VVVfUXr2JZ7cO7WNbq/jaWVVVVS258\n",
       "LlcvYlnHF5/Fsqqqprv3sazVX/3XWFYPrgNVVU8/u8oGhjy+u4xl3b3PZVVVHQ+5+fHpkNsn3+6z\n",
       "+5cPh1zeesqde27D1wj73JRWHw7HXFjYU+X2L6vKnT3v60Msq6rq2HPPmTz/J8+xU8uO9cOSa1uv\n",
       "3IBKnomrqnpwAU0+Z/4/ZcG2teB8G7yX+Og0b0izt4bJO/1TdsrPeZq1i49OuebD9+GfxQAAAAAA\n",
       "AAADUiwGAAAAAAAAGJBiMQAAAAAAAMCAFIsBAAAAAAAABqRYDAAAAAAAADAgxWIAAAAAAACAASkW\n",
       "AwAAAAAAAAxIsRgAAAAAAABgQIrFAAAAAAAAAANSLAYAAAAAAAAYkGIxAAAAAAAAwIAUiwEAAAAA\n",
       "AAAGpFgMAAAAAAAAMKDVczcAfveseiopFnTiWjAr/c5aX4Jhyd/nZJ+01RzMOt0v2vshltVabglt\n",
       "Lff+q6qO/TGWtZmuY1k9+D0f+4dYVlXVFPwGh8r1s3X4d31LP82VJd2s/ZKbhz7sc2N9O+1iWVVV\n",
       "u9U+lnW+fYhlffbpN7GsqqrD4yaWdfu3n8aydq/fxbLaL59iWVVV88MvYlntchvLqrNgVlX1i6tY\n",
       "1vwXf5HLOvt5LKuqqs7PYlGHv8pNuPPnsaiqqloOubX4/utXuawPF7Gsm5tcVlXVL3/zSSzrNw/n\n",
       "sazek+eBqpt9rm/cHnJte/OUfc79khufT/0Yy5qi57vseXFfuf1LC++7k2efJXiOPfbc/rFXrp/F\n",
       "86IHjPBhJXg31IJN6xW8/zpp2TktKdvTggte8K77o1NtW7JdI/Heflf4ZzEAAAAAAADAgBSLAQAA\n",
       "AAAAAAakWAwAAAAAAAAwIMViAAAAAAAAgAEpFgMAAAAAAAAMSLEYAAAAAAAAYECKxQAAAAAAAAAD\n",
       "UiwGAAAAAAAAGJBiMQAAAAAAAMCAFIsBAAAAAAAABqRYDAAAAAAAADAgxWIAAAAAAACAASkWAwAA\n",
       "AAAAAAxIsRgAAAAAAABgQKvnbgBVVav+3C34/+PQnrsF3y35DZLPebp9I9mwZMdo0bSq7JMms9K/\n",
       "9cm1rdcxlhV9ZVXVWq5/tDbHspblEMuqqmpTrn8sPde2qa1jWXPbxrKqqg71FMtaBbdX97WPZVVV\n",
       "1ZKLasGm7ebceKqqmve5MbCechPR3TH7nG8ezmNZ21VurB+X7HO+vHofy3p9cRfLOtycnWRWVdXZ\n",
       "6stY1vLr3No57W5iWVVV08tc3zi+yfXbHp66a7oNhuW+5/7nF7GsqqrlKbdPeLzLjaneg/vHWNJH\n",
       "L85yc9pXd5exrMcle1ZJ5s3Bj3Cb3cJHzyrJY9SHegimVT203Jw2V27e6JWca6sOy30sK3nPMbXc\n",
       "WWW/PMayqip80ZSbN/qSOyt+lBzrwQMeP0gPdtzsPiF3p3yyl9NVddr38KfctqRTrvnwffhnMQAA\n",
       "AAAAAMCAFIsBAAAAAAAABqRYDAAAAAAAADAgxWIAAAAAAACAASkWAwAAAAAAAAxIsRgAAAAAAABg\n",
       "QIrFAAAAAAAAAANSLAYAAAAAAAAYkGIxAAAAAAAAwIAUiwEAAAAAAAAGpFgMAAAAAAAAMCDFYgAA\n",
       "AAAAAIABKRYDAAAAAAAADGj13A2gqurQnrsF+AbfX+6d9Vr1VFarWNT/Sozpwba17HP24HtrPfjO\n",
       "2pzLqqrkb6R6P8SyWvg5ez/Gso79KZY1t00sqyXHZjjvvt3GspZaYllVVef9VSxrCU5Dd7nhVFVV\n",
       "62D3OATntCU5P1bV3SG3lb/f58bnasr229V0Ecs6/M1PYlnXL97FsjbnD7Gsqqr2y09iWauzx1hW\n",
       "hfdph7/eRvNSVi9z60BV1f7by1jW4eY8lrW/y77/d9/8KJa1HHN7vqfg/PjuNjefVVX95ZtPY1lT\n",
       "8Hzxq/ts33hacuvnlw+5rJ4831XV231uD7+vXNahshu1bc/NQ2/bl7Gspe9jWVVV1XLz0P74IZa1\n",
       "LLnzXYXPKq3l9ra9B/cvwXZVVVXwvJ48x/bw94zegUVl25U84fXo/XTurvW0JZ/zlOsDp9w2flf4\n",
       "ZzEAAAAAAADAgBSLAQAAAAAAAAakWAwAAAAAAAAwIMViAAAAAAAAgAEpFgMAAAAAAAAMSLEYAAAA\n",
       "AAAAYECKxQAAAAAAAAADUiwGAAAAAAAAGJBiMQAAAAAAAMCAFIsBAAAAAAAABqRYDAAAAAAAADAg\n",
       "xWIAAAAAAACAASkWAwAAAAAAAAxIsRgAAAAAAABgQKvnbgBpq57NO7RsXkr6OUeR+54t+A1O+2MG\n",
       "W9fG+H1OryWW1Xq4dwRntGzT0s+Z62u9577nfrmLZc1tE8uqqloF83q7jGXt2z6WVVV133N5657r\n",
       "Z0swq6rq7pgb7O/3wfEU3nqfz7m2vdisY1kfnraxrKqqz4P9Y/24i2Xt97nv+fLlu1hWVdX+IfcN\n",
       "5tUhlnXx2ZtYVlXVEvwGq4uHWNb7P/9pLKuqalrnvsH7r34Uy1pvs2vU02NuLb65O49lHY5zLOuX\n",
       "71/FsqqyO8g3j8m5O3uNsM9tR+sQfGnBZlVV1V1wn7avYyzrEN6Pvm/fxLJ6Dz5nf4plfZTrbFPl\n",
       "5qFqubXzsGT7Rg/22+xxPTzaW26OTJ7X+WGytzmj3Hcnn/NUaxdVp/uco9SP+L7GqFwAAAAAAAAA\n",
       "8L9RLAYAAAAAAAAYkGIxAAAAAAAAwIAUiwEAAAAAAAAGpFgMAAAAAAAAMCDFYgAAAAAAAIABKRYD\n",
       "AAAAAAAADEixGAAAAAAAAGBAisUAAAAAAAAAA1IsBgAAAAAAABiQYjEAAAAAAADAgBSL/zv79rYj\n",
       "y3GlB3hFVXb33qRISSNpYGN84fd/I195fGFLBiiJ3Kc+VGWGL3oMGJ7hYEj8mxXc6/seYCEiMk6Z\n",
       "fxUAAAAAAABAQ8JiAAAAAAAAgIa2WzeAtOu4dQt+GT36OWqb2Yq5ejP4DPL9zEk2bMwjWKzJb33G\n",
       "OVpuVu4ZjMq1bc7sEhjBHXLOPVds5K4d+3yJ1arKzo3LeIrV2sO/63sXfAanmZtoLy/BeVZV/+n+\n",
       "IVbrcc/18+6Uvb7cBRf7//r0VazWf/7qMVarqur7p7exWueRW+unkdu7n17uY7Wqqu7OuTX129++\n",
       "i9X69P43sVpVVdt2jdW6XO5itT5++DpWq6rqt7/7IVbr46dc2+5eLrFaVVV/+fsfgtVy6/Nvj7kx\n",
       "e96zd9sfgnvH0567czwFz86qqr885up9uObOge+v2TVwH3y/+Mvpu1ito7L3tOT6PGbuHNiP7PvF\n",
       "qpLvUcl3qKqqEX33ybUt3c+Z/DaU/WoVrFW1atvSHyCTo7bqx9GVZ0byW3feqvlFul3JZ7DqmPXQ\n",
       "JG0AAAAAAAAA4P8lLAYAAAAAAABoSFgMAAAAAAAA0JCwGAAAAAAAAKAhYTEAAAAAAABAQ8JiAAAA\n",
       "AAAAgIaExQAAAAAAAAANCYsBAAAAAAAAGhIWAwAAAAAAADQkLAYAAAAAAABoSFgMAAAAAAAA0JCw\n",
       "GAAAAAAAAKAhYTEAAAAAAABAQ9utGwBfnm2mKs26jlStV7m2rSs7ZNlqweGfR65WVdU4J4vlSoX7\n",
       "OcZdtF5Oemnmxm2M3O/KZrBd+7zEalVl+3mpp1itrR5itaqqPo33sVp3M7ee3tQ3sVpVVR/34N7x\n",
       "nJsbHy7ZU+VPb3J79+Oe6+c+s/38w8NLrNZ2ys2Nu2Ct7bzHalVVnUeubS/X3FofI3vevb1/jtW6\n",
       "v8/Ns6fLfaxWVdWf//m/xmrdB+faN28eY7Wqqp6vuc8T//vT17Fab4Jj9u4lOzf++WOu3jm4Pj+F\n",
       "X2MvR65t+8zVulR27/7z+Hus1jZz6+lx5O62r3LzI/lOMMPvZPvMnVH7zJ1R2ff18HvsyLVtBtdn\n",
       "8j32VXKPTD7P7J6WbFt6fWYln2fyhTH5fXplyUtHh+/mn0M6v+BW/LMYAAAAAAAAoCFhMQAAAAAA\n",
       "AEBDwmIAAAAAAACAhoTFAAAAAAAAAA0JiwEAAAAAAAAaEhYDAAAAAAAANCQsBgAAAAAAAGhIWAwA\n",
       "AAAAAADQkLAYAAAAAAAAoCFhMQAAAAAAAEBDwmIAAAAAAACAhoTFAAAAAAAAAA0JiwEAAAAAAAAa\n",
       "EhYDAAAAAAAANLTdugHw5bmOW7fgx+XaNmqbqVqxQlU1otXCxjlXax65WmGjcktgxp9nbtyS/Rwj\n",
       "+9utGZwfl/1jrNbd+etYrX0+xWq9yo1ZsmUP4Z/13dWbWK2X8RKr9TgvsVpVVec9N3BPe25u/Onh\n",
       "Llarqup5z9V6OXJ72h8fsnv3x+uaryzXIzfPvrnPraeqqufgmP3u+hirlfawvY3VmsFpexrZNfB8\n",
       "ze0dlz03N/784dtYraqqN+drrNZfnx5itZ6Ca/3TNXuwX4OvBE8zdw48Bc+nqqr3wY5+OHJ3jqfK\n",
       "3l/u532s1ofTu1itT5WrVVV1hO99q7ruufPzmLn9sSq3QGd4DdRMfjPJfmnKSrZt4W9gQcnvL/kx\n",
       "S9bLfWvNWvlbN5Din8UAAAAAAAAADQmLAQAAAAAAABoSFgMAAAAAAAA0JCwGAAAAAAAAaEhYDAAA\n",
       "AAAAANCQsBgAAAAAAACgIWExAAAAAAAAQEPCYgAAAAAAAICGhMUAAAAAAAAADQmLAQAAAAAAABoS\n",
       "FgMAAAAAAAA0JCwGAAAAAAAAaEhYDAAAAAAAANDQdusGUFW1zVyt68jV4suTm2szOteSayAt2M15\n",
       "5GqN8FIPtm0GmzbSv2mK9jM5N9JLIFfvdHqI1dqP51itu/NvYrWqqsY4x2od8xqsdYnVqqp6Hh9y\n",
       "xUZunv09OGerqvbj21itr8d9rNbjHjwHqur+mtsj9+Aj+G/vcmNWVfX7+1zjvr3bY7XOwTXw/Pg2\n",
       "Vquq6u2W24f++vhVrFb6tEv2M3kU/+35Ta5YVZ2Ccy1Z63nPnZ1VVQ/n3OeJT3tuf/zbc66fD+fs\n",
       "Kvg+eE14Th4EYc9H7vy8VO4cGMkXn6r6/vzXYLXg8wxPjWPmnsHL8TFWK93REXxfHMHvEkfyu8TK\n",
       "/0FKjn94rc/o+gzWGunvL7m1vu4JFf1qGNYlI1g5V1m5bfCvLXyqAwAAAAAAAPC5CIsBAAAAAAAA\n",
       "GhIWAwAAAAAAADQkLAYAAAAAAABoSFgMAAAAAAAA0JCwGAAAAAAAAKAhYTEAAAAAAABAQ8JiAAAA\n",
       "AAAAgIaExQAAAAAAAAANCYsBAAAAAAAAGhIWAwAAAAAAADQkLAYAAAAAAABoSFgMAAAAAAAA0JCw\n",
       "GAAAAAAAAKCh7dYNoKrqOnK1tpmrVbVu25Ltqlq3bennuarcmM3wmI1KlgtOjbny1Mi1bUbHv2oE\n",
       "n8Gcl1itGudcraoawXrJfo7TQ6zWkRz/14KxUqdxF6v1cjzGalVV1Sm3BsbI/ebweXyM1aqqejve\n",
       "xmq9ryNW6xS+vlyO3Fr/3X2u1vvw8pzBvfvjNff688MlN2Z7+Fj/40Oun8lZu52yHb2/5Pbbt+c9\n",
       "VuvTNXuuf3ufW1Tfv+TGLO2/f8jdE96ec3PtMTc16m8v2XPg8Zrr513wjvA/n7P3lw/1FKv1PF5i\n",
       "tV5Oz7FaVdn99v3xXbBa1vP+LlbrmNdgrewFZs7cHTLZtug7cfh9fc7ghhs0g+8D/7fikoJztqqq\n",
       "gu+LNXMH6Ah/N8w+zdwLY7Kf+Rmb/q6/qi795Evhn8UAAAAAAAAADQmLAQAAAAAAABoSFgMAAAAA\n",
       "AAA0JCwGAAAAAAAAaEhYDAAAAAAAANCQsBgAAAAAAACgIWExAAAAAAAAQEPCYgAAAAAAAICGhMUA\n",
       "AAAAAAAADQmLAQAAAAAAABoSFgMAAAAAAAA0JCwGAAAAAAAAaEhYDAAAAAAAANDQuHUDAKq2eesW\n",
       "/BJGdMtdeMjGOVksWKsqOW4j+nurdX+7dTq9SVaLVTqf7mK1qqpGcN6ex0OsVnbfqHo4fxurdR73\n",
       "sVpfj9/HalVVbZVr2zfHN7FaD5Wdt98E59oMHiu/u9tyxapqBJfBHx9yxY6Fj+IteKx8Hbym3YWP\n",
       "9eQj+LTnGvdf3l5itaqq/sen3N7x5pQbtcfgmL3Wy9VK7ml7sNa7y5ErVlWXYEe/2x9jtY7kA6iq\n",
       "96cPsVpH5Z7Bp/EuVquq6lLPuVrHp1yt+RSrVVW1z9weOWdu47gGx6yq6gj28ziS50pufc66xmq9\n",
       "Fsytzxl998+ed7Ny83YGx2zlkGDha3dVXVceupD0d9sOYwa/Put+nQYAAAAAAADgsxEWAwAAAAAA\n",
       "ADQkLAYAAAAAAABoSFgMAAAAAAAA0JCwGAAAAAAAAKAhYTEAAAAAAABAQ8JiAAAAAAAAgIaExQAA\n",
       "AAAAAAANCYsBAAAAAAAAGhIWAwAAAAAAADQkLAYAAAAAAABoSFgMAAAAAAAA0JCwGAAAAAAAAKCh\n",
       "cesGwM+zzWy9a4u1MILjlnwAKw/+uv0Mj9oI1pvBURvnXK2qqjqCtdb9vdUIjtuoLVYruaLGeIjV\n",
       "qqo6n+5itUZwbpxPb2K1qqruT1/Hap3HfazWSO5BVfUwcv380/FPsVpHdA+quqvcvH0TrHVf2b37\n",
       "t1uubc9H7hn8Zsv18xxeA18FH8EWPO62hS99H6+5Ws/ZpV4PwWdwDj6Dpz1Xq6rqFGzb85G7c7y7\n",
       "5Dp6ndnJ8UM9xWq91EusVnqpvz+9i9V6qg+xWteZG7OqqsvMPc/kvftyJNtVdT0+xWodM7d57+F+\n",
       "zsrtHfO4xGpFF2jy3b+yY5YV/gS5qvjzvARnW/o7cAc9vnVn50aXMYN/27pfugEAAAAAAAD4bITF\n",
       "AAAAAAAAAA0JiwEAAAAAAAAaEhYDAAAAAAAANCQsBgAAAAAAAGhIWAwAAAAAAADQkLAYAAAAAAAA\n",
       "oCFhMQAAAAAAAEBDwmIAAAAAAACAhoTFAAAAAAAAAA0JiwEAAAAAAAAaEhYDAAAAAAAANCQsBgAA\n",
       "AAAAAGhIWAwAAAAAAADQ0Lh1A+Dn2Wa23nXRtZDuZ5Ixu6VFB7+qqpIPYIzwb5pmrnVjbLFaNc65\n",
       "WnHBMavcmJ1OD7Far3L9PJ/exmqN8GrfTm9itU7jLlZrhH+/+Pb821it5J72ULm5UVX17fyHaL2U\n",
       "NzO7Ph8qN9feJmudc/M2fXm5G7m9Yzute+tI7hzJZ/D+ugerVf3hPnd+Pu+5nn5/vcZqVVW9PeXu\n",
       "Q3vwzvfhuMRqPVd2zJIe6zlW6/3ph1itqqpPlat3qtw8ezrex2pVVe0zN9f2+RKrddk/xmpVVZ2C\n",
       "71HX+RSrlXxXrKraj9y4zfhNIWPO9J6W7GeyVvq7RPaesK7cM8iugPT3zFW/Q6763RZYlX8WAwAA\n",
       "AAAAADQkLAYAAAAAAABoSFgMAAAAAAAA0JCwGAAAAAAAAKAhYTEAAAAAAABAQ8JiAAAAAAAAgIaE\n",
       "xQAAAAAAAAANCYsBAAAAAAAAGhIWAwAAAAAAADQkLAYAAAAAAABoSFgMAAAAAAAA0JCwGAAAAAAA\n",
       "AKAhYTEAAAAAAABAQ+PWDQCo2uatW/BjkptkspMjvX2PYL0Z7GmyXa8Fw/UyRvq3WyNZLzdmo7ZY\n",
       "raojWKvqdHobqzXnHqt1d/4qVquqaozkM8jZxptovVOwn+dxF6v11en3sVpVVVvl2vZcn2K1/vH4\n",
       "p1itqqrLuMRqfTO/idXag/vQ70duD6qq+jhzY/Z1cA2kT+EteN5dg/eXLXx/eTpy58o52LZPwXlW\n",
       "lV1TyXv3Yz3Fau0j9yyrqp7GY6zWUbm2vZ/fxWqlHcF72j5fYrXS9fbjOVdr5mpVZZ/BceTWQPqU\n",
       "msE1FRU872ZdY7XSku/Yc2b7OYOnVHbWptfAJVhw3e+GWdc1P1otPf6rjhn8+vhnMQAAAAAAAEBD\n",
       "wmIAAAAAAACAhoTFAAAAAAAAAA0JiwEAAAAAAAAaEhYDAAAAAAAANCQsBgAAAAAAAGhIWAwAAAAA\n",
       "AADQkLAYAAAAAAAAoCFhMQAAAAAAAEBDwmIAAAAAAACAhoTFAAAAAAAAAA0JiwEAAAAAAAAaEhYD\n",
       "AAAAAAAANCQsBgAAAAAAAGho3LoB8OXZZq7WdeE1muwnt5adaLlqs7LTbIzkb6SStdLLKfcMxjjH\n",
       "akXbVcl2pedGrm2ncRerVVW1nd5E66Vk51nVaWxL1jqnn+fIPc+H8VWs1l29jdWqqjoF99trXWK1\n",
       "3szcmH01s2O2zdxcO411z/W3levnc11jtU7hm9W78TFW6zxz6+kycuupquo8g/ttcN/4cPoQq/VS\n",
       "T7FaVVV7vcRqJVfn4/FDsFrVMXPrM9nTy/EYq/Uq17b9yM2NfWbn7XE8x2ol75Bz7rFa/1IxWCm4\n",
       "QueRK1XpMQtKPs/wu0pyro3onSN7T0tWS/YzfR9d+9stwH+cfxYDAAAAAAAANCQsBgAAAAAAAGhI\n",
       "WAwAAAAAAADQkLAYAAAAAAAAoCFhMQAAAAAAAEBDwmIAAAAAAACAhoTFAAAAAAAAAA0JiwEAAAAA\n",
       "AAAaEhYDAAAAAAAANCQsBgAAAAAAAGhIWAwAAAAAAADQkLAYAAAAAAAAoCFhMQAAAAAAAEBD260b\n",
       "AF+e68jV2mauVlW2bUkrj1lOcvDTnUzWG8FqIzpqadlRW9YM9nMkf6OWXQXHvMRqjTpitfZ5jdWq\n",
       "qpq1x2qdRu4aear7WK2qqjHOsVov+4dYrYfzN7FaVVXP832s1jjl1uccuTVQVbXVm1itaz3Far1E\n",
       "97Ss/ZSbt+eZW0+/mV/HalVVfTc+xWol7xxP4zFWq6rqFHwGz6fcmKXP4lNw794reX7m5san+X2s\n",
       "VlXVnLn9dgbvL9cjuwZmcK4la6XXwGXPrc9j5s67tf9nEry/RMesqoJ72gy+qyz97plcU8l7WnCv\n",
       "rVr9O8easnt31gh+h5zLfh9d9XsykLTyjQ8AAAAAAACAz0RYDAAAAAAAANCQsBgAAAAAAACgIWEx\n",
       "AAAAAAAAQEPCYgAAAAAAAICGhMUAAAAAAAAADQmLAQAAAAAAABoSFgMAAAAAAAA0JCwGAAAAAAAA\n",
       "aEhYDAAAAAAAANCQsBgAAAAmnQ9fAAAbIElEQVQAAACgIWExAAAAAAAAQEPCYgAAAAAAAICGxq0b\n",
       "APx7tpmtdw2u+XTbVtVjzKKHwQj+DmkuO2RZI30cJ38LlnsGo86xWtF5VlU1j1ipMbZYrRkc/6qq\n",
       "03gIVttjlc6nr2K1XuXG7Xx6E6t1Sq6BqjqNu1it7ZSbGyP8e9RzsJ/X+RKrdX/6OlbrHJ4byWew\n",
       "VW5uHHWJ1XqV6+cpWCu+Bip3rryf38VqzcqdnVVVx7zmii16H73Op1itqqo9uKcl3wj24zlWq6pq\n",
       "jNweedk/xmpF52xVnYL9PGbuGaTvo8l795zBcyU4/lXhtkU1ecfu8i0h+DzTIzaC50p2H0p+5wP4\n",
       "cvhnMQAAAAAAAEBDwmIAAAAAAACAhoTFAAAAAAAAAA0JiwEAAAAAAAAaEhYDAAAAAAAANCQsBgAA\n",
       "AAAAAGhIWAwAAAAAAADQkLAYAAAAAAAAoCFhMQAAAAAAAEBDwmIAAAAAAACAhoTFAAAAAAAAAA0J\n",
       "iwEAAAAAAAAaEhYDAAAAAAAANCQsBgAAAAAAAGho3LoBAH1s89Yt+DHZwyBXbdayQ7b2ATrOuVKV\n",
       "qzVrj9Ua6d+7jVy9bNvSv+vLrakx7mK15szNjaqq7fxVrNYxr7Fa6Z1jO72J1TqNLVZrBPegqqqa\n",
       "uXmb7OfdKTfPRvokDu5pp8qN2RE8B6o+w1kQcpmP0XrJfegc3LvTe9qsI1creK4kb6PJu1BV1XXP\n",
       "zrWUfT5H6yXX+vVIjll4DUTvHMH1tPDenV3ryfHPvkclzXnJFQveN6oqeufL7t7p827N7xzpbxzZ\n",
       "Xl6DzUt/m0u2LSnZz1X7WNWnn/D5rfl2DQAAAAAAAMBnJSwGAAAAAAAAaEhYDAAAAAAAANCQsBgA\n",
       "AAAAAACgIWExAAAAAAAAQEPCYgAAAAAAAICGhMUAAAAAAAAADQmLAQAAAAAAABoSFgMAAAAAAAA0\n",
       "JCwGAAAAAAAAaEhYDAAAAAAAANCQsBgAAAAAAACgIWExAAAAAAAAQEPbrRsA/Fpt89Yt+GVcx61b\n",
       "8EvIPsxctfzgr/o408spV2/WEau1tJnr50w+z5Ee/+TvBJNjtsdqVVXtx3OwWnJ9Zn+nOWdu3KIz\n",
       "bV6T1aL9HCP3+hNd62EjeN6dxl2s1hjZNXA9nmK1TsG5McJr/QiugVOdY7XSjuBZcNk/xmrVyK2n\n",
       "5H72Kte2Pbie8vfH4PvFyK2B43iJ1UqLPoOZflvM3hNysu+K2WeQXFPBfobnxqpWvvMlpXuZXFFz\n",
       "6W+Qq7atx/fMPv2Ez88/iwEAAAAAAAAaEhYDAAAAAAAANCQsBgAAAAAAAGhIWAwAAAAAAADQkLAY\n",
       "AAAAAAAAoCFhMQAAAAAAAEBDwmIAAAAAAACAhoTFAAAAAAAAAA0JiwEAAAAAAAAaEhYDAAAAAAAA\n",
       "NCQsBgAAAAAAAGhIWAwAAAAAAADQkLAYAAAAAAAAoCFhMQAAAAAAAEBD49YNAKjaZq7WdeF9TT+/\n",
       "JAs/gLBgT8e6ozbGXazWnNdYrZH+Xd8I1kuu9PDcOI37WK0591itMbZYrdd6ued5Cq6B+LxNSq6B\n",
       "pHlEy41xjtXaTm9jtfb5EqtVVXWqXD+TjsrtG1VV5+Ceth/PsVrJPaiq6gjut8mzONquyrWrqmqG\n",
       "946c7OtA8iyO3jnC4z+T45Ycs7AZ3iP5qRZ+XZ+rti28p0WrJfnO9POsPG7wS+jyvfvLt+jXEgAA\n",
       "AAAAAAA+J2ExAAAAAAAAQEPCYgAAAAAAAICGhMUAAAAAAAAADQmLAQAAAAAAABoSFgMAAAAAAAA0\n",
       "JCwGAAAAAAAAaEhYDAAAAAAAANCQsBgAAAAAAACgIWExAAAAAAAAQEPCYgAAAAAAAICGhMUAAAAA\n",
       "AAAADQmLAQAAAAAAABoat24AwNq2mat1XXjPXbWfyXZVjeCxNyvXtPjEGMHfgs3gI4i268jVqsq2\n",
       "LTg30r/rG+OcK7bq3KiqsejvIZP7RlX2eSb3x/Sudj69idWawb0j+zyze9p2+ipWKzlm2f2x6ph7\n",
       "rNYI7kPRvbaq5rxG66WMCvezcs9zP55itbJncXatJ+facTzHao2xxWpVVc15CVZLvg/k5uxrweT8\n",
       "WLefyXvaymdxVvI9KnmmZO986btyBwt/ZKq58LehrJW/9QH8x635JQ0AAAAAAACAz0pYDAAAAAAA\n",
       "ANCQsBgAAAAAAACgIWExAAAAAAAAQEPCYgAAAAAAAICGhMUAAAAAAAAADQmLAQAAAAAAABoSFgMA\n",
       "AAAAAAA0JCwGAAAAAAAAaEhYDAAAAAAAANCQsBgAAAAAAACgIWExAAAAAAAAQEPCYgAAAAAAAICG\n",
       "xq0bANDHNm/dAta09GE8gr8rm0euVnrUxjlYbN1+jmV/J5jt5ww+g+SYjbHFalVVzcodK9EnEO5n\n",
       "cu9IP4MORnR/zJpzj9VauZ8VXOszehZnr7bJvfs83sZq7cenWK3T6T5Wq6pqPx5jtUatuz/OugSr\n",
       "BU+86Hqqiq716H00LXnryPUzuz9WjUXf8rL3x/Qd/hIrOILfX9IfcpKjlm3bNTxpk9/A0m1L6tJP\n",
       "4Eu36hdDAAAAAAAAAD4jYTEAAAAAAABAQ8JiAAAAAAAAgIaExQAAAAAAAAANCYsBAAAAAAAAGhIW\n",
       "AwAAAAAAADQkLAYAAAAAAABoSFgMAAAAAAAA0JCwGAAAAAAAAKAhYTEAAAAAAABAQ8JiAAAAAAAA\n",
       "gIaExQAAAAAAAAANCYsBAAAAAAAAGhIWAwAAAAAAADQ0bt0AgKxtZutdm+yT6XFLSY+/fv5U2YYl\n",
       "q6UfZbBtI9nP9BPI/U5w1hGrlWxX3NiCxXJj9mrNcUsfnMnVfgo+zzmDayA6z6rye2TGDLcruqfN\n",
       "PVZrjHOsVlXVnJdcsWTbgmNWlR23Oa/BWsm5kV3rybM4+zxXPglybYuO/9LSZ0qw3ky2bc2zM20G\n",
       "3z1H+P062bZ134nTM63LNysAPrc1vzABAAAAAAAA8FkJiwEAAAAAAAAaEhYDAAAAAAAANCQsBgAA\n",
       "AAAAAGhIWAwAAAAAAADQkLAYAAAAAAAAoCFhMQAAAAAAAEBDwmIAAAAAAACAhoTFAAAAAAAAAA0J\n",
       "iwEAAAAAAAAaEhYDAAAAAAAANCQsBgAAAAAAAGhIWAwAAAAAAADQ0Lh1AwDWts1cras99+ZWfZ7J\n",
       "dq1rLHztmJV7BNF+jvCYzSNXa2y5WnG5fo46x2qlzWQ/x12sVnSeVVWN5DMIbrdzz9WK9rFqJH8T\n",
       "nGzbzB53s4LPIHoOrPub7OR5F10DVTWC58qc11itrPSVL3nnyM3bOS+xWv9SMVwvJb3Ww+dnSnjv\n",
       "7iK63zaRfPPJjn76W86q7/9dvlmlx7/LuAFfunXfYgEAAAAAAAD4bITFAAAAAAAAAA0JiwEAAAAA\n",
       "AAAaEhYDAAAAAAAANCQsBgAAAAAAAGhIWAwAAAAAAADQkLAYAAAAAAAAoCFhMQAAAAAAAEBDwmIA\n",
       "AAAAAACAhoTFAAAAAAAAAA0JiwEAAAAAAAAaEhYDAAAAAAAANCQsBgAAAAAAAGhIWAwAAAAAAADQ\n",
       "0Lh1AwDWts1bt+DX5xo8W7qMf3LMqpLjlmzYDPZzxOdGtqfrWvTqN8K/X5xHrla0bT3mxqgtVutV\n",
       "ctyStZJzIzhnqyq61kewVnJtVlW2n8HnGe9nzgzOtRH/7XlwfY5zrNScl1itMcL7Y3CuJefG0qJ3\n",
       "hPS9atH76Exfu5Pnyqp3hKpVn2eyl+kVkHxfzH5LWPd9Pd+2pC79BPgy+GcxAAAAAAAAQEPCYgAA\n",
       "AAAAAICGhMUAAAAAAAAADQmLAQAAAAAAABoSFgMAAAAAAAA0JCwGAAAAAAAAaEhYDAAAAAAAANCQ\n",
       "sBgAAAAAAACgIWExAAAAAAAAQEPCYgAAAAAAAICGhMUAAAAAAAAADQmLAQAAAAAAABoSFgMAAAAA\n",
       "AAA0NG7dAODXapu5Wld7ET8iOc86ya2psewzSG8byW422dJG8jeHi06zuC7zdt01MJK/lR25fs55\n",
       "jdV6lWtbdMzia33VubbunjbrCFbLjv8I1kv2M7kGsuOfFe1nek8L7rc1g89gnHO1qiq6dyT7ubTk\n",
       "PpTdu9c9CZLfX1Z9V0xLf7PyPQ2A9fhnMQAAAAAAAEBDwmIAAAAAAACAhoTFAAAAAAAAAA0JiwEA\n",
       "AAAAAAAaEhYDAAAAAAAANCQsBgAAAAAAAGhIWAwAAAAAAADQkLAYAAAAAAAAoCFhMQAAAAAAAEBD\n",
       "wmIAAAAAAACAhoTFAAAAAAAAAA0JiwEAAAAAAAAaEhYDAAAAAAAANDRu3QAAfo5tZutdFz0P0v1c\n",
       "VXb8R3DcZrRtPZ7noovpM+jT05gRHrO56JIa6d+jJvuZfAbJWulnuWrb0vvGEayVnLfZ5znqHKyW\n",
       "a9uc11ituOh+u+p6quw5kNy7Z3Jtpq28py16rreRfZ6zLg0uyyu/3638Hrvq9xd+nuT8MDeA2/HP\n",
       "YgAAAAAAAICGhMUAAAAAAAAADQmLAQAAAAAAABoSFgMAAAAAAAA0JCwGAAAAAAAAaEhYDAAAAAAA\n",
       "ANCQsBgAAAAAAACgIWExAAAAAAAAQEPCYgAAAAAAAICGhMUAAAAAAAAADQmLAQAAAAAAABoSFgMA\n",
       "AAAAAAA0JCwGAAAAAAAAaEhYDAAAAAAAANDQuHUDAIB1jdpmqtasa/DekWvXq2TbkrL9XLSTcclB\n",
       "G9FRC0/bZNtGsNYM9zPZtqgmc2MeuVpj5d8qZ3eOHhaet9E1sOdqLbufVX7vbmDG10BO8v6S7ue6\n",
       "p2f6fSB3jzdmP8eq73cAsKaV39YBAAAAAAAA+EyExQAAAAAAAAANCYsBAAAAAAAAGhIWAwAAAAAA\n",
       "ADQkLAYAAAAAAABoSFgMAAAAAAAA0JCwGAAAAAAAAKAhYTEAAAAAAABAQ8JiAAAAAAAAgIaExQAA\n",
       "AAAAAAANCYsBAAAAAAAAGhIWAwAAAAAAADQkLAYAAAAAAABoaNy6AQDANm/dgl/Gtcm9o8fzTD7M\n",
       "9IBl25abt6Puwl3NlVt50o4R/H3rXLmnDYz0MbDyThQUnbfBWsm1WVU1j2Cx4NxIzttoH7Oztskl\n",
       "bWnJO0fSCN9t191t0+OfHLc15waQZt8Absc/iwEAAAAAAAAaEhYDAAAAAAAANCQsBgAAAAAAAGhI\n",
       "WAwAAAAAAADQkLAYAAAAAAAAoCFhMQAAAAAAAEBDwmIAAAAAAACAhoTFAAAAAAAAAA0JiwEAAAAA\n",
       "AAAaEhYDAAAAAAAANCQsBgAAAAAAAGhIWAwAAAAAAADQkLAYAAAAAAAAoCFhMQAAAAAAAEBD49YN\n",
       "AIBfp23eugU/7ho835P9XLVdVdm2rWsEx20u/Tz5qUb0taDL42yxbWSN8JjNLnMt2M8R/L34PHK1\n",
       "KrtzjIX7mZVbUzP4BOyOP4+71W2l5232AfR4V1nXyu+eq76vA/Br45/FAAAAAAAAAA0JiwEAAAAA\n",
       "AAAaEhYDAAAAAAAANCQsBgAAAAAAAGhIWAwAAAAAAADQkLAYAAAAAAAAoCFhMQAAAAAAAEBDwmIA\n",
       "AAAAAACAhoTFAAAAAAAAAA0JiwEAAAAAAAAaEhYDAAAAAAAANCQsBgAAAAAAAGhIWAwAAAAAAADQ\n",
       "0Lh1AwCAbWbrXRc935P9TPdx5bZ1kF0DyQeQXZzZuTGi45Zr2gyP2li0bevOs6zk+K/e03Ulx23d\n",
       "fq66PvtYd62vexan7/Crcu/+shh/AOBf889iAAAAAAAAgIaExQAAAAAAAAANCYsBAAAAAAAAGhIW\n",
       "AwAAAAAAADQkLAYAAAAAAABoSFgMAAAAAAAA0JCwGAAAAAAAAKAhYTEAAAAAAABAQ8JiAAAAAAAA\n",
       "gIaExQAAAAAAAAANCYsBAAAAAAAAGhIWAwAAAAAAADQkLAYAAAAAAABoaNy6AQDAyraZq3V17+BX\n",
       "aOU1kGxbDyP4+jNr3eFPTrRkL5Pj/yrXumw/03rM21XvCSO41+ZHPzlm654pq+5pq87ZVyvfXwAA\n",
       "WI1/FgMAAAAAAAA0JCwGAAAAAAAAaEhYDAAAAAAAANCQsBgAAAAAAACgIWExAAAAAAAAQEPCYgAA\n",
       "AAAAAICGhMUAAAAAAAAADQmLAQAAAAAAABoSFgMAAAAAAAA0JCwGAAAAAAAAaEhYDAAAAAAAANCQ\n",
       "sBgAAAAAAACgIWExAAAAAAAAQEPCYgAAAAAAAICGtls3AABY2XXcugUkbTNXq8fcSHYyOPj8bJ7C\n",
       "Lc26RPeNEdzTRnC1z/A8W3WzTbcrO2rJ885J8NNl7wgz+jyT0u1KjluPexr8OO89APBT+GcxAAAA\n",
       "AAAAQEPCYgAAAAAAAICGhMUAAAAAAAAADQmLAQAAAAAAABoSFgMAAAAAAAA0JCwGAAAAAAAAaEhY\n",
       "DAAAAAAAANCQsBgAAAAAAACgIWExAAAAAAAAQEPCYgAAAAAAAICGhMUAAAAAAAAADQmLAQAAAAAA\n",
       "ABoSFgMAAAAAAAA0tN26AQAA/Jht3roF3fV5ANeRq5Wet7m2ZRuW7Gdy/Nft51h4T5sLr/Zs25Lr\n",
       "Kf0815wfq47/2tY9B7LWnLOv1j2j1m4bXw5zAwB+Cv8sBgAAAAAAAGhIWAwAAAAAAADQkLAYAAAA\n",
       "AAAAoCFhMQAAAAAAAEBDwmIAAAAAAACAhoTFAAAAAAAAAA0JiwEAAAAAAAAaEhYDAAAAAAAANCQs\n",
       "BgAAAAAAAGhIWAwAAAAAAADQkLAYAAAAAAAAoCFhMQAAAAAAAEBDwmIAAAAAAACAhoTFAAAAAAAA\n",
       "AA2NWzcAAIBfo23mal3dSfl3rDrXku1K67KmVn4GHfSYZyM4z2aTMesjvQeZHwAA3IZ/FgMAAAAA\n",
       "AAA0JCwGAAAAAAAAaEhYDAAAAAAAANCQsBgAAAAAAACgIWExAAAAAAAAQEPCYgAAAAAAAICGhMUA\n",
       "AAAAAAAADQmLAQAAAAAAABoSFgMAAAAAAAA0JCwGAAAAAAAAaEhYDAAAAAAAANCQsBgAAAAAAACg\n",
       "IWExAAAAAAAAQEPbrRsAAMCP2Wa23nWsWWtlyWeQHrOV29ZBcszSa93c+LJ0eQZrztu59PivOWZr\n",
       "318AAID/n38WAwAAAAAAADQkLAYAAAAAAABoSFgMAAAAAAAA0JCwGAAAAAAA4P+0b0epDcNAAAVr\n",
       "8P1PbHC/WxoodKkUv5kDiE1sJXEeAggSiwEAAAAAAACCxGIAAAAAAACAILEYAAAAAAAAIEgsBgAA\n",
       "AAAAAAgSiwEAAAAAAACCxGIAAAAAAACAILEYAAAAAAAAIEgsBgAAAAAAAAgSiwEAAAAAAACCjtUD\n",
       "AADwynnPrnf57ccbmtwHu+4Be/1Zpq/npMl7Y+f7dudrMMleBwAA/s7JYgAAAAAAAIAgsRgAAAAA\n",
       "AAAgSCwGAAAAAAAACBKLAQAAAAAAAILEYgAAAAAAAIAgsRgAAAAAAAAgSCwGAAAAAAAACBKLAQAA\n",
       "AAAAAILEYgAAAAAAAIAgsRgAAAAAAAAgSCwGAAAAAAAACBKLAQAAAAAAAILEYgAAAAAAAIAgsRgA\n",
       "AAAAAAAg6Fg9AAAAwP8477m1rsizlPfsWXa+njvPBsyx1wEAduNkMQAAAAAAAECQWAwAAAAAAAAQ\n",
       "JBYDAAAAAAAABInFAAAAAAAAAEFiMQAAAAAAAECQWAwAAAAAAAAQJBYDAAAAAAAABInFAAAAAAAA\n",
       "AEFiMQAAAAAAAECQWAwAAAAAAAAQJBYDAAAAAAAABInFAAAAAAAAAEFiMQAAAAAAAEDQsXoAAAD+\n",
       "y3nPrXVt/Dty19c5OdfHx97XgOfYdT9Nq7zOCtcTAADgt5wsBgAAAAAAAAgSiwEAAAAAAACCxGIA\n",
       "AAAAAACAILEYAAAAAAAAIEgsBgAAAAAAAAgSiwEAAAAAAACCxGIAAAAAAACAILEYAAAAAAAAIEgs\n",
       "BgAAAAAAAAgSiwEAAAAAAACCxGIAAAAAAACAILEYAAAAAAAAIEgsBgAAAAAAAAgSiwEAAAAAAACC\n",
       "jtUDAAAAtJ337HqX5zzgQSY/I30+AgDAd04WAwAAAAAAAASJxQAAAAAAAABBYjEAAAAAAABAkFgM\n",
       "AAAAAAAAECQWAwAAAAAAAASJxQAAAAAAAABBYjEAAAAAAABAkFgMAAAAAAAAECQWAwAAAAAAAASJ\n",
       "xQAAAAAAAABBYjEAAAAAAABAkFgMAAAAAAAAECQWAwAAAAAAAAQdqwcAAAB4P+e9eoLXrshz3uQ1\n",
       "qLxnAAAA8JWTxQAAAAAAAABBYjEAAAAAAABAkFgMAAAAAAAAECQWAwAAAAAAAASJxQAAAAAAAABB\n",
       "YjEAAAAAAABAkFgMAAAAAAAAECQWAwAAAAAAAASJxQAAAAAAAABBYjEAAAAAAABAkFgMAAAAAAAA\n",
       "ECQWAwAAAAAAAASJxQAAAAAAAABBx+oBAIDznl3v8v3OC5P3mvsM4Ge+1wEAAHgfThYDAAAAAAAA\n",
       "BInFAAAAAAAAAEFiMQAAAAAAAECQWAwAAAAAAAAQJBYDAAAAAAAABInFAAAAAAAAAEFiMQAAAAAA\n",
       "AECQWAwAAAAAAAAQJBYDAAAAAAAABInFAAAAAAAAAEFiMQAAAAAAAECQWAwAAAAAAAAQJBYDAAAA\n",
       "AAAABInFAAAAAAAAAEHH6gEAAAAAoO2859a6/N8HAMCvOVkMAAAAAAAAECQWAwAAAAAAAASJxQAA\n",
       "AAAAAABBYjEAAAAAAABAkFgMAAAAAAAAECQWAwAAAAAAAASJxQAAAAAAAABBYjEAAAAAAABAkFgM\n",
       "AAAAAAAAECQWAwAAAAAAAASJxQAAAAAAAABBYjEAAAAAAABAkFgMAAAAAAAAEHSsHgAAAABgznnP\n",
       "rXX53wQAAHg0J4sBAAAAAAAAgsRiAAAAAAAAgCCxGAAAAAAAACBILAYAAAAAAAAIEosBAAAAAAAA\n",
       "gsRiAAAAAAAAgCCxGAAAAAAAACBILAYAAAAAAAAIEosBAAAAAAAAgsRiAAAAAAAAgCCxGAAAAAAA\n",
       "ACBILAYAAAAAAAAIEosBAAAAAAAAgsRiAAAAAAAAAAAAAAAAAAAAAAAAAAAAAAAAAAAAAAAAAAAA\n",
       "AAAAAAAAAAAAAAAAAAAAAAAAAAAAAAAAAAAAAAAAAAAAAAAAAAAAAAAAAAAAAAAAAAAAAAAAAAAA\n",
       "AAAAAAAAAAAAAAAAAAAAAAAAAAAAAAAAAAAAAAAAAAAAAAAAAAAAAAAAAAAAAAAAAAAAAAAAAAAA\n",
       "AAAAAAAAAAAAAAAAAAAAAAAAAAAAAAAAAAAAAAAAAAAAAAAAAAAAAAAAAAAAAAAAAAAAAAAAAAAA\n",
       "AAAAAAAAAAAAAAAAYNwnAOaaV14J/mcAAAAASUVORK5CYII=\n",
       "\" transform=\"translate(182, 47)\"/>\n",
       "</g>\n",
       "<defs>\n",
       "  <clipPath id=\"clip4703\">\n",
       "    <rect x=\"2160\" y=\"47\" width=\"73\" height=\"1441\"/>\n",
       "  </clipPath>\n",
       "</defs>\n",
       "<g clip-path=\"url(#clip4703)\">\n",
       "<image width=\"72\" height=\"1440\" xlink:href=\"data:image/png;base64,\n",
       "iVBORw0KGgoAAAANSUhEUgAAAEgAAAWgCAYAAAD9wgUPAAAMT0lEQVR4nO3dwY3sRhAFQY5Q/lsh\n",
       "L6XfLQtUeSQPERYsEg8kmpyZ/f17/r4P/+uvt/+ArxMoCBQECgKFOffft/+GT7OgIFAQKAgUBApz\n",
       "3cVWFhQECgIFgcLc4yK9saAgUBAoCBQECo4awYKCQEGgIFAQKLiLBQsKAgWBgkDBRTpYUBAoCBQE\n",
       "CgIFr32CBQWBgkBBoOCoESwoCBQECgIFgYK7WLCgIFAQKAgUBArzeGC2sqAgUBAoCBRcpIMFBYGC\n",
       "QEGgIFCYxwOzlQUFgYJAQaAgUHAWCxYUBAoCBYGCi3SwoCBQECgIFAQK85x/3v4bPs2CgkBBoCBQ\n",
       "8FYjWFAQKAgUBAoCBQ/MggUFgYJAQaAgUHAXCxYUBAoCBYHC/O6ft/+GT7OgIFAQKAgUBArzHHex\n",
       "jQUFgYJAQaAgUJifu9jKgoJAQaAgUHDUCBYUBAoCBYGCQGEer31WFhQECgIFgYLnQcGCgkBBoCBQ\n",
       "ECh4YBYsKAgUBAoCBYGCs1iwoCBQECgIFBw1ggUFgYJAQaAgUJjfOW//DZ9mQUGgIFAQKAgUnMWC\n",
       "BQWBgkBBoOAiHSwoCBQECgIFgYJ388GCgkBBoCBQmMdbjZUFBYGCQEGgIFBw1AgWFAQKAgWBgkDB\n",
       "a59gQUGgIFAQKLhIBwsKAgWBgkBBoODLLMGCgkBBoCBQECj48EKwoCBQECgIFDwwCxYUBAoCBYGC\n",
       "QMFRI1hQECgIFAQKLtLBgoJAQaAgUBAoeDcfLCgIFAQKAgWBgtc+wYKCQEGgIFDwwCxYUBAoCBQE\n",
       "CgIFd7FgQUGgIFAQKAgU3MWCBQWBgkBBoDDPuW//DZ9mQUGgIFAQKAgU5rmOGhsLCgIFgYJAwfOg\n",
       "YEFBoCBQECgIFDwwCxYUBAoCBYGCQMFZLFhQECgIFAQKLtLBgoJAQaAgUBAoeGAWLCgIFAQKAgWB\n",
       "grNYsKAgUBAoCBTmcY1eWVAQKAgUBAoCBXexYEFBoCBQECiMLxzuLCgIFAQKAgWBgqNGsKAgUBAo\n",
       "CBQECu5iwYKCQEGgIFBwkQ4WFAQKAgWBgkBhHt9lWVlQECgIFAQKAoW55/f23/BpFhQECgIFgYIH\n",
       "ZsGCgkBBoCBQECjM46ixsqAgUBAoCBTmXhfpjQUFgYJAQaAgUHDUCBYUBAoCBYGCQMFdLFhQECgI\n",
       "FAQKHpgFCwoCBYGCQEGg4KgRLCgIFAQKAgWBwjxHo406QaAgUBAoeGAWLCgIFAQKAgWBggdmwYKC\n",
       "QEGgIFDw4ybBgoJAQaAgUBAozHM12qgTBAoCBYGCQMFZLFhQECgIFAQKLtLBgoJAQaAgUBAo+Bhw\n",
       "UCcIFAQKAgWBgs9JBwsKAgWBgkDBx4CDBQWBgkBBoCBQmOuB2UqdIFAQKAgUPA8KFhQECgIFgYJA\n",
       "wQOzYEFBoCBQECgIFDwwC+oEgYJAQaDggVmwoCBQECgIFAQKvpIZLCgIFAQKAgWBwly/YbZSJwgU\n",
       "BAoCBe/mgwUFgYJAQaAgUPDALFhQECgIFAQK3s0HCwoCBYGCQEGg4GPAQZ0gUBAoCBQECs5iwYKC\n",
       "QEGgIFDwViNYUBAoCBQECgIFR41gQUGgIFAQKAgUvPYJ6gSBgkBBoOCoESwoCBQECgIFgYLXPsGC\n",
       "gkBBoCBQcNQIFhQECgIFgYJAwVuNoE4QKAgUBAoCBWexYEFBoCBQECi4SAcLCgIFgYJAQaDgLhYs\n",
       "KAgUBAoCBYGCT5gFCwoCBYGCQGGOf5+1UicIFAQKAgWBggdmwYKCQEGgIFDwPChYUBAoCBQECgIF\n",
       "R41gQUGgIFAQKAgU3MWCBQWBgkBBoOAiHSwoCBQECgIFgYK7WLCgIFAQKAgUBApz3MVWFhQECgIF\n",
       "gYKjRrCgIFAQKAgUBAruYsGCgkBBoCBQcJEOFhQECgIFgYJAwV0sWFAQKAgUBAoCBXexYEFBoCBQ\n",
       "ECj4AFWwoCBQECgIFAQKjhrBgoJAQaAgUBAouIsFCwoCBYGCQMF/ZgnqBIGCQEGgIFBw1AgWFAQK\n",
       "AgWBgnfzwYKCQEGgIFAQKDhqBAsKAgWBgkBBoOAsFiwoCBQECgIFR41gQUGgIFAQKAgU3MWCBQWB\n",
       "gkBBoCBQ8MAsWFAQKAgUBApzHxfpjQUFgYJAQaAgUHDUCBYUBAoCBYGCtxrBgoJAQaAgUBAozLlv\n",
       "/wnfZkFBoCBQECgIFJzFggUFgYJAQaDgrUawoCBQECgIFAQKc3zCbGVBQaAgUBAoCBQ8MAsWFAQK\n",
       "AgWBggdmwYKCQEGgIFAQKDhqBAsKAgWBgkBhztt/wcdZUBAoCBQECgIFR41gQUGgIFAQKAgUvPYJ\n",
       "FhQECgIFgYIfmgwWFAQKAgWBgkDBUSNYUBAoCBQECgIFv2EWLCgIFAQKAgUPzIIFBYGCQEGgIFDw\n",
       "CbNgQUGgIFAQKPgyS7CgIFAQKAgUBAqOGsGCgkBBoCBQECg4iwULCgIFgYJAwVEjWFAQKAgUBAoC\n",
       "BV9mCRYUBAoCBYGCQGF8l2VnQUGgIFAQKDhqBAsKAgWBgkBBoOCoESwoCBQECgIFR41gQUGgIFAQ\n",
       "KAgUHDWCBQWBgkBBoCBQcBYLFhQECgIFgYJfAw4WFAQKAgWBgkDBzyUHCwoCBYGCQEGg4CwWLCgI\n",
       "FAQKAoU5jhorCwoCBYGCQEGgMNdRY2VBQaAgUBAo+ABVsKAgUBAoCBQECr7MEiwoCBQECgIFgYJ3\n",
       "88GCgkBBoCBQ8G4+WFAQKAgUBAoCBe/mgwUFgYJAQaAgUPCvjIMFBYGCQEGg4BNmwYKCQEGgIFAQ\n",
       "KHhgFiwoCBQECgIFz4OCBQWBgkBBoCBQcNQIFhQECgIFgYJAweekgwUFgYJAQaDgG4fBgoJAQaAg\n",
       "UBAo+PWXYEFBoCBQECgIFJzFggUFgYJAQaDgIh0sKAgUBAoCBYGCf2UcLCgIFAQKAgVHjWBBQaAg\n",
       "UBAoCBS8mw8WFAQKAgWBgkDBWSxYUBAoCBQECi7SwYKCQEGgIFAQKHhgFiwoCBQECgIFgYKzWLCg\n",
       "IFAQKAgU/FxysKAgUBAoCBQECn4uOVhQECgIFAQKngcFCwoCBYGCQEGg4N18sKAgUBAoCBQECs5i\n",
       "wYKCQEGgIFCY+7hKbywoCBQECgIFgYKjRrCgIFAQKAgUBApe+wQLCgIFgYJAwVEjWFAQKAgUBAoC\n",
       "BUeNYEFBoCBQECg4agQLCgIFgYJAQaDge/PBgoJAQaAgUBAozPE56ZUFBYGCQEGg4KgRLCgIFAQK\n",
       "AgWBgqNGsKAgUBAoCBQECn70P1hQECgIFAQKcz0xW1lQECgIFAQKAgVHjWBBQaAgUBAo+DJLsKAg\n",
       "UBAoCBQECn4uOVhQECgIFAQKAgVnsWBBQaAgUBAo+BhwsKAgUBAoCBQECh6YBQsKAgWBgkBBoOAs\n",
       "FiwoCBQECgIFF+lgQUGgIFAQKAgU5vhK5sqCgkBBoCBQ8FYjWFAQKAgUBAoCBQ/MggUFgYJAQaAg\n",
       "UHAXCxYUBAoCBYGCi3SwoCBQECgIFAQKcx8/NbmxoCBQECgIFAQKzmLBgoJAQaAgUJjzc9TYWFAQ\n",
       "KAgUBAoChTkemK0sKAgUBAoCBRfpYEFBoCBQECgIFLybDxYUBAoCBYGCQGHOz7v5jQUFgYJAQaDg\n",
       "gVmwoCBQECgIFAQK7mLBgoJAQaAgUBAoeO0TLCgIFAQKAoU5z5+3/4ZPs6AgUBAoCBQECh6YBQsK\n",
       "AgWBgkBhrqPGyoKCQEGgIFAQKDhqBAsKAgWBgkBBoOAuFiwoCBQECgIFD8yCBQWBgkBBoCBQcNQI\n",
       "FhQECgIFgYJAwVksWFAQKAgUBAq+cRgsKAgUBAoCBYHCnOsutrGgIFAQKAgUHDWCBQWBgkBBoCBQ\n",
       "mOuosbKgIFAQKAgUBArOYsGCgkBBoCBQ8AGqYEFBoCBQECgIFLybDxYUBAoCBYGCQMEDs2BBQaAg\n",
       "UBAoeDcfLCgIFAQKAgWBgtc+wYKCQEGgIFBw1AgWFAQKAgWBgkDBW41gQUGgIFAQKAgUnMWCBQWB\n",
       "gkBBoOCtRrCgIFAQKAgUBAqOGsGCgkBBoCBQECh47RMsKAgUBAoChbnXA7ONBQWBgkBBoCBQcNQI\n",
       "FhQECgIFgcI89779N3yaBQWBgkBBoCBQmMdRY2VBQaAgUBAoCBR8wixYUBAoCBQECo4awYKCQEGg\n",
       "IFAQKHg3HywoCBQECgIFgcI8HpitLCgIFAQKAgVHjWBBQaAgUBAoCBS89gkWFAQKAgWBwn8v2/BP\n",
       "X8iooQAAAABJRU5ErkJggg==\n",
       "\" transform=\"translate(2161, 47)\"/>\n",
       "</g>\n",
       "<g clip-path=\"url(#clip4700)\">\n",
       "<text style=\"fill:#000000; fill-opacity:1; font-family:Arial,Helvetica Neue,Helvetica,sans-serif; font-size:48px; text-anchor:start;\" transform=\"rotate(0, 2268.76, 1281.25)\" x=\"2268.76\" y=\"1281.25\">250</text>\n",
       "</g>\n",
       "<g clip-path=\"url(#clip4700)\">\n",
       "<text style=\"fill:#000000; fill-opacity:1; font-family:Arial,Helvetica Neue,Helvetica,sans-serif; font-size:48px; text-anchor:start;\" transform=\"rotate(0, 2268.76, 1060.49)\" x=\"2268.76\" y=\"1060.49\">500</text>\n",
       "</g>\n",
       "<g clip-path=\"url(#clip4700)\">\n",
       "<text style=\"fill:#000000; fill-opacity:1; font-family:Arial,Helvetica Neue,Helvetica,sans-serif; font-size:48px; text-anchor:start;\" transform=\"rotate(0, 2268.76, 839.732)\" x=\"2268.76\" y=\"839.732\">750</text>\n",
       "</g>\n",
       "<g clip-path=\"url(#clip4700)\">\n",
       "<text style=\"fill:#000000; fill-opacity:1; font-family:Arial,Helvetica Neue,Helvetica,sans-serif; font-size:48px; text-anchor:start;\" transform=\"rotate(0, 2268.76, 618.974)\" x=\"2268.76\" y=\"618.974\">1000</text>\n",
       "</g>\n",
       "<g clip-path=\"url(#clip4700)\">\n",
       "<text style=\"fill:#000000; fill-opacity:1; font-family:Arial,Helvetica Neue,Helvetica,sans-serif; font-size:48px; text-anchor:start;\" transform=\"rotate(0, 2268.76, 398.215)\" x=\"2268.76\" y=\"398.215\">1250</text>\n",
       "</g>\n",
       "<g clip-path=\"url(#clip4700)\">\n",
       "<text style=\"fill:#000000; fill-opacity:1; font-family:Arial,Helvetica Neue,Helvetica,sans-serif; font-size:48px; text-anchor:start;\" transform=\"rotate(0, 2268.76, 177.456)\" x=\"2268.76\" y=\"177.456\">1500</text>\n",
       "</g>\n",
       "<polyline clip-path=\"url(#clip4700)\" style=\"stroke:#000000; stroke-width:4; stroke-opacity:1; fill:none\" points=\"\n",
       "  2232.76,1487.47 2232.76,1267.6 2256.76,1267.6 2232.76,1267.6 2232.76,1046.84 2256.76,1046.84 2232.76,1046.84 2232.76,826.081 2256.76,826.081 2232.76,826.081 \n",
       "  2232.76,605.322 2256.76,605.322 2232.76,605.322 2232.76,384.564 2256.76,384.564 2232.76,384.564 2232.76,163.805 2256.76,163.805 2232.76,163.805 2232.76,47.2441 \n",
       "  \n",
       "  \"/>\n",
       "</svg>\n"
      ]
     },
     "execution_count": 32,
     "metadata": {},
     "output_type": "execute_result"
    }
   ],
   "source": [
    "plot(o)"
   ]
  },
  {
   "cell_type": "markdown",
   "metadata": {},
   "source": [
    "# Thanks!"
   ]
  },
  {
   "cell_type": "markdown",
   "metadata": {},
   "source": [
    "## Questions/Comments/Concerns\n",
    "\n",
    "<br><br><br><br><br><br><br><br><br><br><br><br><br><br><br><br><br><br><br><br>\n",
    "<br><br><br><br><br><br><br><br><br><br><br><br><br><br><br><br><br><br><br><br>"
   ]
  }
 ],
 "metadata": {
  "@webio": {
   "lastCommId": "da7ab7747caf4f23b5934c48ef02dd04",
   "lastKernelId": "75fafab2-39df-48b8-8256-effacf3ea1da"
  },
  "extensions": {
   "jupyter_dashboards": {
    "activeView": "report_default",
    "version": 1,
    "views": {
     "grid_default": {
      "cellMargin": 10,
      "defaultCellHeight": 20,
      "maxColumns": 12,
      "name": "grid",
      "type": "grid"
     },
     "report_default": {
      "name": "report",
      "type": "report"
     }
    }
   }
  },
  "kernelspec": {
   "display_name": "Julia 1.2.0",
   "language": "julia",
   "name": "julia-1.2"
  },
  "language_info": {
   "file_extension": ".jl",
   "mimetype": "application/julia",
   "name": "julia",
   "version": "1.2.0"
  }
 },
 "nbformat": 4,
 "nbformat_minor": 2
}
