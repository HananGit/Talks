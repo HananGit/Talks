{
 "cells": [
  {
   "cell_type": "code",
   "execution_count": null,
   "metadata": {},
   "outputs": [],
   "source": [
    "using Dates, CSV, JuliaDB, OnlineStats, Plots, PlotThemes, Interact\n",
    "theme(:dark)"
   ]
  },
  {
   "cell_type": "markdown",
   "metadata": {},
   "source": [
    "# Big Data Visualization Tools"
   ]
  },
  {
   "cell_type": "markdown",
   "metadata": {},
   "source": [
    "## `OnlineStats.Partition`\n",
    "\n",
    "- Plot any-sized dataset.\n",
    "- Here's a plot of 100 Million observations:"
   ]
  },
  {
   "cell_type": "code",
   "execution_count": null,
   "metadata": {},
   "outputs": [],
   "source": [
    "o = Partition(Series(Mean(), Extrema()), 200)\n",
    "\n",
    "y = randn()\n",
    "\n",
    "for _ in 1:10^8\n",
    "    fit!(o,  y += randn())\n",
    "end\n",
    "\n",
    "plot(o)"
   ]
  },
  {
   "cell_type": "markdown",
   "metadata": {},
   "source": [
    "# Kaggle's [Huge Stock Market Dataset](https://www.kaggle.com/borismarjanovic/price-volume-data-for-all-us-stocks-etfs)\n",
    "\n",
    "- OHLC data for each stock/ETF (each is a separate CSV) traded in the US\n",
    "- Just over 700MB"
   ]
  },
  {
   "cell_type": "code",
   "execution_count": null,
   "metadata": {},
   "outputs": [],
   "source": [
    "path = \"/Users/joshday/datasets/price-volume-data-for-all-us-stocks-etfs/Stocks/\"\n",
    "\n",
    "readdir(path)"
   ]
  },
  {
   "cell_type": "code",
   "execution_count": null,
   "metadata": {},
   "outputs": [],
   "source": [
    ";head \"$path/aapl.us.txt\""
   ]
  },
  {
   "cell_type": "markdown",
   "metadata": {},
   "source": [
    "## Statistics/Plots Directly From CSV"
   ]
  },
  {
   "cell_type": "code",
   "execution_count": null,
   "metadata": {},
   "outputs": [],
   "source": [
    "function plot_high_low(stock; kw...)\n",
    "    o = IndexedPartition(Date, Extrema(), 500)\n",
    "    for row in CSV.File(\"$path/$stock.us.txt\") \n",
    "        fit!(o, [row.Date => row.Low, row.Date => row.High])\n",
    "    end\n",
    "    t = uppercase(stock) * \" (nobs = $(nobs(o)))\"\n",
    "    plot(o; xlab=\"Date\", title=t, legend=false, kw...)\n",
    "end"
   ]
  },
  {
   "cell_type": "code",
   "execution_count": null,
   "metadata": {
    "scrolled": false
   },
   "outputs": [],
   "source": [
    "plot_high_low(\"aapl\")"
   ]
  },
  {
   "cell_type": "markdown",
   "metadata": {},
   "source": [
    "## ...But this loads the entire CSV!\n",
    "\n",
    "Even though we are creating the plots with OnlineStats, the entire file is loaded into memory.\n",
    "\n",
    "### `CSV.Rows`\n",
    "\n",
    "- `CSV.Rows` lets you lazily read from a CSV file\n",
    "    - **Minimal memory footprint**\n",
    "    - At the cost of **no type inference** (everything is treated as `String`)"
   ]
  },
  {
   "cell_type": "code",
   "execution_count": null,
   "metadata": {},
   "outputs": [],
   "source": [
    "function plot_high_low2(stock; kw...)\n",
    "    o = IndexedPartition(Date, Extrema(), 500)\n",
    "    for row in CSV.Rows(\"$path/$stock.us.txt\")\n",
    "        dt = Date(row.Date, \"yyyy-mm-dd\")\n",
    "        low = parse(Float64, row.Low)\n",
    "        hi = parse(Float64, row.High)\n",
    "        fit!(o, [dt => low, dt => hi])\n",
    "    end\n",
    "    t = uppercase(stock) * \" (nobs = $(nobs(o)))\"\n",
    "    plot(o; xlab=\"Date\", title=t, legend=false, kw...)\n",
    "end"
   ]
  },
  {
   "cell_type": "code",
   "execution_count": null,
   "metadata": {},
   "outputs": [],
   "source": [
    "plot_high_low2(\"aapl\")"
   ]
  },
  {
   "cell_type": "code",
   "execution_count": null,
   "metadata": {},
   "outputs": [],
   "source": [
    "plot(plot_high_low2(\"aapl\"), plot_high_low2(\"msft\"), layout=(2,1), link=:x)"
   ]
  },
  {
   "cell_type": "markdown",
   "metadata": {},
   "source": [
    "## Loading Multiple Datasets at Once\n",
    "\n",
    "- Working with only one CSV at a time limits what kinds of analyses we can do."
   ]
  },
  {
   "cell_type": "code",
   "execution_count": null,
   "metadata": {},
   "outputs": [],
   "source": [
    "using JuliaDB"
   ]
  },
  {
   "cell_type": "code",
   "execution_count": null,
   "metadata": {},
   "outputs": [],
   "source": [
    "t = loadtable(path, filenamecol = :stock)"
   ]
  },
  {
   "cell_type": "markdown",
   "metadata": {},
   "source": [
    "### Passing an `OnlineStat` as a reducer"
   ]
  },
  {
   "cell_type": "code",
   "execution_count": null,
   "metadata": {},
   "outputs": [],
   "source": [
    "reduce(Mean(), t, select=:Open)"
   ]
  },
  {
   "cell_type": "code",
   "execution_count": null,
   "metadata": {},
   "outputs": [],
   "source": [
    "temp = groupreduce(Mean(), t, :stock, select=:Open)\n",
    "select(temp, (1, 2 => value))"
   ]
  },
  {
   "cell_type": "code",
   "execution_count": null,
   "metadata": {},
   "outputs": [],
   "source": [
    "temp = groupreduce(IndexedPartition(Date, Extrema(),50), t, :stock, select=(:Date, :Open))"
   ]
  },
  {
   "cell_type": "code",
   "execution_count": null,
   "metadata": {},
   "outputs": [],
   "source": [
    "using Interact\n",
    "\n",
    "@manipulate for i in 1:7163\n",
    "    plot(temp[i].IndexedPartition, title=temp[i])\n",
    "end"
   ]
  },
  {
   "cell_type": "markdown",
   "metadata": {},
   "source": [
    "# TrueFX API"
   ]
  },
  {
   "cell_type": "code",
   "execution_count": null,
   "metadata": {},
   "outputs": [],
   "source": [
    "function get_data(q = \"\")\n",
    "    endpoint = \"https://webrates.truefx.com/rates/connect.html?f=csv&$q\"\n",
    "    hdr = [:pair, :utc, :big_bid_figure, :bid_points, :offer_bid_figure,\n",
    "           :offer_points, :high, :low, :open]\n",
    "    CSV.read(download(endpoint); header=hdr, footerskip=1)\n",
    "end"
   ]
  },
  {
   "cell_type": "code",
   "execution_count": null,
   "metadata": {},
   "outputs": [],
   "source": [
    "get_data()"
   ]
  },
  {
   "cell_type": "code",
   "execution_count": null,
   "metadata": {},
   "outputs": [],
   "source": [
    "get_data(\"c=EUR/USD\")"
   ]
  },
  {
   "cell_type": "code",
   "execution_count": null,
   "metadata": {},
   "outputs": [],
   "source": [
    "using OnlineStats, Plots\n",
    "theme(:juno)\n",
    "gr()\n",
    "\n",
    "o = IndexedPartition(Int, Extrema(), 10)\n",
    "\n",
    "while true\n",
    "    IJulia.clear_output(true)\n",
    "    df = get_data(\"c=USD/JPY\")\n",
    "    fit!(o, (df[1, :utc], df[1, :bid_points]))\n",
    "    display(plot(o, xlab=\"UTC Time\", ylab=\"Bid Points\", title=\"nobs = $(nobs(o))\"))\n",
    "end"
   ]
  }
 ],
 "metadata": {
  "@webio": {
   "lastCommId": null,
   "lastKernelId": null
  },
  "kernelspec": {
   "display_name": "Julia 1.3.0",
   "language": "julia",
   "name": "julia-1.3"
  },
  "language_info": {
   "file_extension": ".jl",
   "mimetype": "application/julia",
   "name": "julia",
   "version": "1.3.0"
  }
 },
 "nbformat": 4,
 "nbformat_minor": 2
}
