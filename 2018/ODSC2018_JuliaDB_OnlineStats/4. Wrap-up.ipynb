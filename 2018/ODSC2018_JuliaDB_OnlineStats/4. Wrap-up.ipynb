{
 "cells": [
  {
   "cell_type": "markdown",
   "metadata": {},
   "source": [
    "# Language Composition\n",
    "\n",
    "![](packages.png)"
   ]
  },
  {
   "cell_type": "markdown",
   "metadata": {},
   "source": [
    "# Benchmarks against Pandas\n",
    "\n",
    "- NY Taxi dataset\n",
    "    - Sometimes JuliaDB is faster (JuliaDB benchmarks were *not* run in parallel)\n",
    "    - Sometimes it's not"
   ]
  },
  {
   "cell_type": "markdown",
   "metadata": {},
   "source": [
    "![](benchmarks.png)"
   ]
  },
  {
   "cell_type": "markdown",
   "metadata": {},
   "source": [
    "# More information\n",
    "\n",
    "### More detailed tutorial:\n",
    "\n",
    "[www.juliabox.com](www.juliabox.com)\n",
    "\n",
    "- Log in and open `tutorials/intro-to-juliadb.ipynb`"
   ]
  }
 ],
 "metadata": {
  "kernelspec": {
   "display_name": "Julia 0.6.2-pre",
   "language": "julia",
   "name": "julia-0.6"
  },
  "language_info": {
   "file_extension": ".jl",
   "mimetype": "application/julia",
   "name": "julia",
   "version": "0.6.2"
  }
 },
 "nbformat": 4,
 "nbformat_minor": 2
}
