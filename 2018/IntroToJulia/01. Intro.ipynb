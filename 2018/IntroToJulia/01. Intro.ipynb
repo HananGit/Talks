{
 "cells": [
  {
   "cell_type": "markdown",
   "metadata": {
    "slideshow": {
     "slide_type": "slide"
    }
   },
   "source": [
    "<center>\n",
    "<img src=\"https://upload.wikimedia.org/wikipedia/commons/thumb/6/69/Julia_prog_language.svg/1280px-Julia_prog_language.svg.png\" width=300>\n",
    "</center>\n",
    "\n",
    "# Introduction to Julia\n",
    "\n",
    "## Dr. Josh Day\n",
    "\n",
    "- GitHub: `@joshday`\n",
    "- Email: josh@seqstat.com\n",
    "- Slides: https://github.com/joshday/Talks\n"
   ]
  },
  {
   "cell_type": "markdown",
   "metadata": {
    "slideshow": {
     "slide_type": "slide"
    }
   },
   "source": [
    "# Julia Resources\n",
    "\n",
    "- [https://julialang.org](https://julialang.org)\n",
    "- [https://juliabox.com](https://juliabox.com) (run Julia on the cloud, free tutorials)\n",
    "- [https://juliaobserver.com/](https://juliaobserver.com/) (finding packages)\n",
    "- [https://discourse.julialang.org](https://discourse.julialang.org) (ask for help)\n",
    "- [http://julialang.slack.com/](http://julialang.slack.com/) (ask for help)\n",
    "- [https://docs.julialang.org/en/](https://docs.julialang.org/en/) (documentation)"
   ]
  },
  {
   "cell_type": "markdown",
   "metadata": {
    "slideshow": {
     "slide_type": "slide"
    }
   },
   "source": [
    "# Motivation\n",
    "\n",
    "- Do we need another language?\n",
    "- Let's start with Sapir-Worf Hypothesis"
   ]
  },
  {
   "cell_type": "markdown",
   "metadata": {
    "slideshow": {
     "slide_type": "slide"
    }
   },
   "source": [
    "# Sapir-Worf Hypothesis\n",
    "\n",
    "- Your language influences/determines how you think"
   ]
  },
  {
   "cell_type": "markdown",
   "metadata": {
    "slideshow": {
     "slide_type": "fragment"
    }
   },
   "source": [
    "**How you solve problems is influenced by your tools**\n",
    "\n",
    "- e.g. with R, avoid loops "
   ]
  },
  {
   "cell_type": "markdown",
   "metadata": {
    "slideshow": {
     "slide_type": "slide"
    }
   },
   "source": [
    "# The Two-Language Problem\n",
    "\n",
    "- Write your prototype in an easy language (R)\n",
    "- Write your final version in a fast language (C++)"
   ]
  },
  {
   "cell_type": "markdown",
   "metadata": {
    "slideshow": {
     "slide_type": "slide"
    }
   },
   "source": [
    "# Julia\n",
    "\n",
    "I claim that:\n",
    "\n",
    "### 1) Julia is less controlling over how you solve problems\n",
    "### 2) Julia solves the two-language problem"
   ]
  },
  {
   "cell_type": "markdown",
   "metadata": {
    "slideshow": {
     "slide_type": "slide"
    }
   },
   "source": [
    "# What is Julia?\n",
    "> Julia is a high-level, high-performance dynamic programming language for technical computing, with syntax that is familiar to users of other technical computing environments\n",
    "\n",
    "- Julia is more than just \"Fast R\"\n",
    "    - Performance comes from features that work well together.  \n",
    "    - You can't just take the magic dust that makes Julia fast and sprinkle it on [language of choice]\n",
    "    \n",
    "## Julia Features\n",
    "\n",
    "- Type system\n",
    "- Multiple dispatch\n",
    "- Type Inference\n",
    "- Metaprogramming (macros)\n",
    "- Just-in-time (JIT) compilation using LLVM\n",
    "- Clean, familiar syntax\n",
    "- Most of Julia is written in Julia!"
   ]
  },
  {
   "cell_type": "markdown",
   "metadata": {
    "slideshow": {
     "slide_type": "slide"
    }
   },
   "source": [
    "# Benchmarks\n",
    "\n",
    "<center><img src=\"https://julialang.org/images/benchmarks.svg\" width=900></center>"
   ]
  },
  {
   "cell_type": "markdown",
   "metadata": {
    "slideshow": {
     "slide_type": "slide"
    }
   },
   "source": [
    "# Julia is Just-In-Time Compiled\n",
    "\n",
    "- The first time a function is run, Julia compiles it"
   ]
  },
  {
   "cell_type": "code",
   "execution_count": 1,
   "metadata": {},
   "outputs": [
    {
     "name": "stdout",
     "output_type": "stream",
     "text": [
      "  0.044702 seconds (95.32 k allocations: 4.756 MiB, 29.00% gc time)\n",
      "  0.000598 seconds (5 allocations: 176 bytes)\n"
     ]
    },
    {
     "data": {
      "text/plain": [
       "500043.8571402271"
      ]
     },
     "execution_count": 1,
     "metadata": {},
     "output_type": "execute_result"
    }
   ],
   "source": [
    "y = rand(10^6)\n",
    "\n",
    "@time sum(y)\n",
    "\n",
    "@time sum(y)"
   ]
  },
  {
   "cell_type": "markdown",
   "metadata": {
    "slideshow": {
     "slide_type": "slide"
    }
   },
   "source": [
    "# Generic Code Gets Specialized\n",
    "\n",
    "- Julia specializes on **types of arguments** (without you telling Julia what those types are)"
   ]
  },
  {
   "cell_type": "code",
   "execution_count": 2,
   "metadata": {},
   "outputs": [
    {
     "name": "stdout",
     "output_type": "stream",
     "text": [
      "  0.003870 seconds (11.24 k allocations: 638.555 KiB)\n",
      "  0.000001 seconds (5 allocations: 176 bytes)\n"
     ]
    },
    {
     "data": {
      "text/plain": [
       "5.0"
      ]
     },
     "execution_count": 2,
     "metadata": {},
     "output_type": "execute_result"
    }
   ],
   "source": [
    "f(x) = x + 4\n",
    "\n",
    "@time f(1.0)\n",
    "@time f(1.0)"
   ]
  },
  {
   "cell_type": "code",
   "execution_count": 3,
   "metadata": {},
   "outputs": [
    {
     "name": "stdout",
     "output_type": "stream",
     "text": [
      "  0.002339 seconds (1.23 k allocations: 73.730 KiB)\n",
      "  0.000001 seconds (4 allocations: 160 bytes)\n"
     ]
    },
    {
     "data": {
      "text/plain": [
       "5"
      ]
     },
     "execution_count": 3,
     "metadata": {},
     "output_type": "execute_result"
    }
   ],
   "source": [
    "@time f(1)\n",
    "@time f(1)"
   ]
  },
  {
   "cell_type": "markdown",
   "metadata": {
    "slideshow": {
     "slide_type": "slide"
    }
   },
   "source": [
    "# Most of Julia is Written in Julia\n",
    "\n",
    "- Easy to find out what's going on inside a function \n",
    "    - `@edit`\n",
    "- Also most Julia packages are 100% Julia\n",
    "    - **Tensorflow**:\n",
    "    ![](tensorflow.png)\n",
    "    - **Flux.jl**\n",
    "    ![](flux.png)"
   ]
  },
  {
   "cell_type": "markdown",
   "metadata": {
    "slideshow": {
     "slide_type": "slide"
    }
   },
   "source": [
    "# Julia Makes Use of Metaprogramming\n",
    "\n",
    "- A function of an expression that can be altered before it is evaluated\n",
    "- Code that writes code\n",
    "- Can do everything a function can do plus much more"
   ]
  },
  {
   "cell_type": "code",
   "execution_count": 4,
   "metadata": {},
   "outputs": [
    {
     "name": "stdout",
     "output_type": "stream",
     "text": [
      "Expr\n"
     ]
    },
    {
     "data": {
      "text/plain": [
       "\"This is a thing\""
      ]
     },
     "execution_count": 4,
     "metadata": {},
     "output_type": "execute_result"
    }
   ],
   "source": [
    "macro thing(x)\n",
    "    println(typeof(x))\n",
    "    :(\"This is a thing\")\n",
    "end\n",
    "\n",
    "@thing 1 + 2 + 3"
   ]
  },
  {
   "cell_type": "code",
   "execution_count": 5,
   "metadata": {
    "slideshow": {
     "slide_type": "-"
    }
   },
   "outputs": [
    {
     "name": "stdout",
     "output_type": "stream",
     "text": [
      "\n",
      "; Function f\n",
      "; Location: In[2]:1\n",
      "define i64 @julia_f_36347(i64) {\n",
      "top:\n",
      "; Function +; {\n",
      "; Location: int.jl:53\n",
      "  %1 = add i64 %0, 4\n",
      ";}\n",
      "  ret i64 %1\n",
      "}\n"
     ]
    }
   ],
   "source": [
    "@code_llvm f(1)"
   ]
  },
  {
   "cell_type": "markdown",
   "metadata": {},
   "source": [
    "- What is the difference between `show` and `@show`?"
   ]
  },
  {
   "cell_type": "code",
   "execution_count": 6,
   "metadata": {},
   "outputs": [
    {
     "name": "stdout",
     "output_type": "stream",
     "text": [
      "val = 100\n"
     ]
    }
   ],
   "source": [
    "val = 100\n",
    "@show val;"
   ]
  },
  {
   "cell_type": "code",
   "execution_count": 7,
   "metadata": {},
   "outputs": [
    {
     "name": "stdout",
     "output_type": "stream",
     "text": [
      "100"
     ]
    }
   ],
   "source": [
    "show(val)"
   ]
  },
  {
   "cell_type": "markdown",
   "metadata": {},
   "source": [
    "## One of the Most Useful Macros: `@time`\n",
    "\n",
    "- Provides elapsed time **as well as allocations**\n",
    "- Removing temporary allocations (garbage collection) is expensive!\n",
    "- It's impossible to oversell how useful this is"
   ]
  },
  {
   "cell_type": "code",
   "execution_count": 8,
   "metadata": {},
   "outputs": [
    {
     "name": "stdout",
     "output_type": "stream",
     "text": [
      "  0.009261 seconds (7 allocations: 7.630 MiB, 47.39% gc time)\n"
     ]
    }
   ],
   "source": [
    "@time rand(10^6);"
   ]
  },
  {
   "cell_type": "markdown",
   "metadata": {
    "slideshow": {
     "slide_type": "slide"
    }
   },
   "source": [
    "# Julia Has a Great Type System"
   ]
  },
  {
   "cell_type": "code",
   "execution_count": 9,
   "metadata": {},
   "outputs": [
    {
     "data": {
      "text/plain": [
       "2×2 Array{Float64,2}:\n",
       " 0.396512  0.700009\n",
       " 0.721726  0.999401"
      ]
     },
     "execution_count": 9,
     "metadata": {},
     "output_type": "execute_result"
    }
   ],
   "source": [
    "rand(2, 2)"
   ]
  },
  {
   "cell_type": "code",
   "execution_count": 10,
   "metadata": {},
   "outputs": [
    {
     "data": {
      "text/plain": [
       "Float64"
      ]
     },
     "execution_count": 10,
     "metadata": {},
     "output_type": "execute_result"
    }
   ],
   "source": [
    "typeof(1.0)"
   ]
  },
  {
   "cell_type": "code",
   "execution_count": 11,
   "metadata": {},
   "outputs": [
    {
     "data": {
      "text/plain": [
       "Int64"
      ]
     },
     "execution_count": 11,
     "metadata": {},
     "output_type": "execute_result"
    }
   ],
   "source": [
    "typeof(1)"
   ]
  },
  {
   "cell_type": "markdown",
   "metadata": {
    "slideshow": {
     "slide_type": "slide"
    }
   },
   "source": [
    "# Types Define Sets of Things\n",
    "\n",
    "![](tree.png)\n",
    "\n",
    "- Abstract types \"don't exist\".  They define a set of things that behave similarly.\n",
    "- Concrete types \"are real\".  They exist in a set of things defined by an abstract type.\n",
    "    - Concrete types do not have subtypes\n",
    "\n",
    "Type tree from `Any` to `Float64`:\n",
    "- Any (abstract)\n",
    "    - Number (abstract)\n",
    "        - Real (abstract)\n",
    "            - AbstractFloat (abstract)\n",
    "                - Float64 (concrete)\n",
    "                \n",
    "Is a `Float64` a `Number`? Yes\n",
    "\n",
    "Is a `Float64` an `AbstractFloat`? Yes\n",
    "\n",
    "One \"set\" is smaller than the other: `AbstractFloat <: Number`"
   ]
  },
  {
   "cell_type": "code",
   "execution_count": 12,
   "metadata": {},
   "outputs": [
    {
     "data": {
      "text/plain": [
       "AbstractFloat"
      ]
     },
     "execution_count": 12,
     "metadata": {},
     "output_type": "execute_result"
    }
   ],
   "source": [
    "supertype(Float64)"
   ]
  },
  {
   "cell_type": "code",
   "execution_count": 13,
   "metadata": {},
   "outputs": [
    {
     "data": {
      "text/plain": [
       "Real"
      ]
     },
     "execution_count": 13,
     "metadata": {},
     "output_type": "execute_result"
    }
   ],
   "source": [
    "supertype(AbstractFloat)"
   ]
  },
  {
   "cell_type": "code",
   "execution_count": 14,
   "metadata": {},
   "outputs": [
    {
     "data": {
      "text/plain": [
       "Number"
      ]
     },
     "execution_count": 14,
     "metadata": {},
     "output_type": "execute_result"
    }
   ],
   "source": [
    "supertype(Real)"
   ]
  },
  {
   "cell_type": "code",
   "execution_count": 15,
   "metadata": {},
   "outputs": [
    {
     "data": {
      "text/plain": [
       "Any"
      ]
     },
     "execution_count": 15,
     "metadata": {},
     "output_type": "execute_result"
    }
   ],
   "source": [
    "supertype(Number)"
   ]
  },
  {
   "cell_type": "markdown",
   "metadata": {
    "slideshow": {
     "slide_type": "slide"
    }
   },
   "source": [
    "# Programs are Organized Around Multiple Dispatch\n",
    "\n",
    "- The idea that different code gets called depending on the types of the arguments\n",
    "- Multiple dispatch is amazing"
   ]
  },
  {
   "cell_type": "code",
   "execution_count": 16,
   "metadata": {},
   "outputs": [
    {
     "data": {
      "text/plain": [
       "f (generic function with 3 methods)"
      ]
     },
     "execution_count": 16,
     "metadata": {},
     "output_type": "execute_result"
    }
   ],
   "source": [
    "f(x::Number) = \"This is a Number\"\n",
    "f(x::String) = \"This is a String\"\n",
    "f(x) = \"This is something else\""
   ]
  },
  {
   "cell_type": "code",
   "execution_count": 17,
   "metadata": {},
   "outputs": [
    {
     "data": {
      "text/plain": [
       "\"This is a Number\""
      ]
     },
     "execution_count": 17,
     "metadata": {},
     "output_type": "execute_result"
    }
   ],
   "source": [
    "f(1)"
   ]
  },
  {
   "cell_type": "code",
   "execution_count": 18,
   "metadata": {},
   "outputs": [
    {
     "data": {
      "text/plain": [
       "\"This is a String\""
      ]
     },
     "execution_count": 18,
     "metadata": {},
     "output_type": "execute_result"
    }
   ],
   "source": [
    "f(\"asdf\")"
   ]
  },
  {
   "cell_type": "code",
   "execution_count": 19,
   "metadata": {},
   "outputs": [
    {
     "data": {
      "text/plain": [
       "\"This is something else\""
      ]
     },
     "execution_count": 19,
     "metadata": {},
     "output_type": "execute_result"
    }
   ],
   "source": [
    "f([1, 2])"
   ]
  },
  {
   "cell_type": "markdown",
   "metadata": {
    "slideshow": {
     "slide_type": "slide"
    }
   },
   "source": [
    "## Quintessential R vs. Julia\n",
    "\n",
    "- Consider R's `pnorm`, `dnorm`, `qnorm`, etc. family of functions.\n",
    "- In Julia, multiple dispatch is used to create a grammar/interface for \"how to talk about\" a set of things\n",
    "    - What is the interface for probability distributions?"
   ]
  },
  {
   "cell_type": "code",
   "execution_count": 20,
   "metadata": {
    "slideshow": {
     "slide_type": "-"
    }
   },
   "outputs": [],
   "source": [
    "using Distributions\n",
    "\n",
    "d = Normal(0, 1)\n",
    "d2 = Gamma(3, 5);"
   ]
  },
  {
   "cell_type": "code",
   "execution_count": 21,
   "metadata": {},
   "outputs": [
    {
     "data": {
      "text/plain": [
       "(0.0, 1.0, 0.841344746068543)"
      ]
     },
     "execution_count": 21,
     "metadata": {},
     "output_type": "execute_result"
    }
   ],
   "source": [
    "mean(d), var(d), cdf(d, 1)"
   ]
  },
  {
   "cell_type": "code",
   "execution_count": 22,
   "metadata": {},
   "outputs": [
    {
     "data": {
      "text/plain": [
       "(15.0, 75.0, 0.0011484812448621334)"
      ]
     },
     "execution_count": 22,
     "metadata": {},
     "output_type": "execute_result"
    }
   ],
   "source": [
    "mean(d2), var(d2), cdf(d2, 1)"
   ]
  },
  {
   "cell_type": "markdown",
   "metadata": {
    "slideshow": {
     "slide_type": "slide"
    }
   },
   "source": [
    "## A Concrete Example\n",
    "\n",
    "- Here is a very naive Newton's algorithm for finding the quantile `q` of a distribution `d`\n",
    "- I haven't told Julia anything about types, but this will work as long as \n",
    "    1. `d` is something that I can calculate the `mean`, `cdf`, and `pdf` of\n",
    "    2. `q` is a Number\n",
    "- Also because of the JIT, I get specialized code for each distribution!"
   ]
  },
  {
   "cell_type": "code",
   "execution_count": 23,
   "metadata": {},
   "outputs": [
    {
     "data": {
      "text/plain": [
       "my_quantile (generic function with 1 method)"
      ]
     },
     "execution_count": 23,
     "metadata": {},
     "output_type": "execute_result"
    }
   ],
   "source": [
    "function my_quantile(d, q)\n",
    "    θ = mean(d)\n",
    "    for i in 1:20\n",
    "        θ -= (cdf(d, θ) - q) / pdf(d, θ)\n",
    "    end\n",
    "    θ\n",
    "end"
   ]
  },
  {
   "cell_type": "code",
   "execution_count": 24,
   "metadata": {},
   "outputs": [
    {
     "data": {
      "text/plain": [
       "0.0"
      ]
     },
     "execution_count": 24,
     "metadata": {},
     "output_type": "execute_result"
    }
   ],
   "source": [
    "my_quantile(Normal(), .5)"
   ]
  },
  {
   "cell_type": "code",
   "execution_count": 25,
   "metadata": {},
   "outputs": [
    {
     "data": {
      "text/plain": [
       "3.6336090829638032"
      ]
     },
     "execution_count": 25,
     "metadata": {},
     "output_type": "execute_result"
    }
   ],
   "source": [
    "my_quantile(Gamma(5, 1), .3)"
   ]
  },
  {
   "cell_type": "markdown",
   "metadata": {
    "slideshow": {
     "slide_type": "slide"
    }
   },
   "source": [
    "# Julia's Growth (Number of Packages)\n",
    "\n",
    "![](https://pkg.julialang.org/img/allver.svg)"
   ]
  },
  {
   "cell_type": "markdown",
   "metadata": {
    "slideshow": {
     "slide_type": "slide"
    }
   },
   "source": [
    "# Julia's Growth (GitHub Stars)\n",
    "\n",
    "![](https://pkg.julialang.org/img/stars.svg)"
   ]
  },
  {
   "cell_type": "markdown",
   "metadata": {},
   "source": [
    "# Pass by Reference\n",
    "\n",
    "- R makes a copy of function arguments\n",
    "    - You can't do any damage\n",
    "    - But you lose performance\n",
    "- In Julia, you're free to really mess with objects inside a function\n",
    "- By convention, if you are **mutating** an argument, end the function with `!`"
   ]
  },
  {
   "cell_type": "code",
   "execution_count": 26,
   "metadata": {},
   "outputs": [
    {
     "data": {
      "text/plain": [
       "4-element Array{Int64,1}:\n",
       " 0\n",
       " 0\n",
       " 0\n",
       " 0"
      ]
     },
     "execution_count": 26,
     "metadata": {},
     "output_type": "execute_result"
    }
   ],
   "source": [
    "# Don't do this\n",
    "function totally_safe_function(x)\n",
    "    x .= 0\n",
    "end\n",
    "\n",
    "val = [1,2,3,4]\n",
    "\n",
    "totally_safe_function(val)\n",
    "\n",
    "val"
   ]
  },
  {
   "cell_type": "markdown",
   "metadata": {},
   "source": [
    "# Broadcasting\n",
    "\n",
    "- `sin` of a vector is not defined\n",
    "- Most languages use the syntactic sugar that `sin` of a vector means \"apply `sin` to each element of the vector\"\n",
    "- Julia doesn't, because\n",
    "    1. It's wrong\n",
    "    2. It's unnecessary and can be generalized to all functions of singletons"
   ]
  },
  {
   "cell_type": "code",
   "execution_count": 27,
   "metadata": {},
   "outputs": [
    {
     "ename": "MethodError",
     "evalue": "MethodError: no method matching sin(::Array{Float64,1})\nClosest candidates are:\n  sin(!Matched::BigFloat) at mpfr.jl:683\n  sin(!Matched::Missing) at math.jl:1056\n  sin(!Matched::Complex{Float16}) at math.jl:1005\n  ...",
     "output_type": "error",
     "traceback": [
      "MethodError: no method matching sin(::Array{Float64,1})\nClosest candidates are:\n  sin(!Matched::BigFloat) at mpfr.jl:683\n  sin(!Matched::Missing) at math.jl:1056\n  sin(!Matched::Complex{Float16}) at math.jl:1005\n  ...",
      "",
      "Stacktrace:",
      " [1] top-level scope at In[27]:1"
     ]
    }
   ],
   "source": [
    "sin(rand(5))"
   ]
  },
  {
   "cell_type": "markdown",
   "metadata": {},
   "source": [
    "- Dot syntax does broadcasting/maps the function to each element"
   ]
  },
  {
   "cell_type": "code",
   "execution_count": 28,
   "metadata": {},
   "outputs": [
    {
     "data": {
      "text/plain": [
       "5-element Array{Float64,1}:\n",
       " 0.5280721833739159 \n",
       " 0.8011842530154186 \n",
       " 0.3021067135780506 \n",
       " 0.07894317534013369\n",
       " 0.06603271899990608"
      ]
     },
     "execution_count": 28,
     "metadata": {},
     "output_type": "execute_result"
    }
   ],
   "source": [
    "sin.(rand(5))"
   ]
  },
  {
   "cell_type": "markdown",
   "metadata": {},
   "source": [
    "- Multiple broadcasting functions can be chained together (without creating temporary copies)"
   ]
  },
  {
   "cell_type": "code",
   "execution_count": 29,
   "metadata": {},
   "outputs": [
    {
     "data": {
      "text/plain": [
       "2×2 Array{Float64,2}:\n",
       " 0.997827  0.681746\n",
       " 0.909406  0.708576"
      ]
     },
     "execution_count": 29,
     "metadata": {},
     "output_type": "execute_result"
    }
   ],
   "source": [
    "cos.(sin.(abs.(rand(2, 2))))"
   ]
  },
  {
   "cell_type": "markdown",
   "metadata": {},
   "source": [
    "# Julia is Lazy\n",
    "\n",
    "- Many types in Julia are lazy\n",
    "- `AbstractRange` subtypes store the information for generating a range of numbers, not the numbers themselves."
   ]
  },
  {
   "cell_type": "code",
   "execution_count": 30,
   "metadata": {},
   "outputs": [
    {
     "data": {
      "text/plain": [
       "1:100"
      ]
     },
     "execution_count": 30,
     "metadata": {},
     "output_type": "execute_result"
    }
   ],
   "source": [
    "rng = 1:100"
   ]
  },
  {
   "cell_type": "code",
   "execution_count": 31,
   "metadata": {},
   "outputs": [
    {
     "data": {
      "text/plain": [
       "UnitRange{Int64}"
      ]
     },
     "execution_count": 31,
     "metadata": {},
     "output_type": "execute_result"
    }
   ],
   "source": [
    "typeof(rng)"
   ]
  },
  {
   "cell_type": "code",
   "execution_count": 32,
   "metadata": {},
   "outputs": [
    {
     "data": {
      "text/plain": [
       "(:start, :stop)"
      ]
     },
     "execution_count": 32,
     "metadata": {},
     "output_type": "execute_result"
    }
   ],
   "source": [
    "fieldnames(typeof(rng))"
   ]
  },
  {
   "cell_type": "code",
   "execution_count": 33,
   "metadata": {},
   "outputs": [
    {
     "data": {
      "text/plain": [
       "(1, 100)"
      ]
     },
     "execution_count": 33,
     "metadata": {},
     "output_type": "execute_result"
    }
   ],
   "source": [
    "rng.start, rng.stop"
   ]
  },
  {
   "cell_type": "code",
   "execution_count": 34,
   "metadata": {},
   "outputs": [
    {
     "data": {
      "text/plain": [
       "50"
      ]
     },
     "execution_count": 34,
     "metadata": {},
     "output_type": "execute_result"
    }
   ],
   "source": [
    "rng[50]"
   ]
  },
  {
   "cell_type": "markdown",
   "metadata": {},
   "source": [
    "- You can typically turn a lazy type into a \"real thing\" with `collect`"
   ]
  },
  {
   "cell_type": "code",
   "execution_count": 35,
   "metadata": {},
   "outputs": [
    {
     "data": {
      "text/plain": [
       "100-element Array{Int64,1}:\n",
       "   1\n",
       "   2\n",
       "   3\n",
       "   4\n",
       "   5\n",
       "   6\n",
       "   7\n",
       "   8\n",
       "   9\n",
       "  10\n",
       "  11\n",
       "  12\n",
       "  13\n",
       "   ⋮\n",
       "  89\n",
       "  90\n",
       "  91\n",
       "  92\n",
       "  93\n",
       "  94\n",
       "  95\n",
       "  96\n",
       "  97\n",
       "  98\n",
       "  99\n",
       " 100"
      ]
     },
     "execution_count": 35,
     "metadata": {},
     "output_type": "execute_result"
    }
   ],
   "source": [
    "collect(rng)"
   ]
  },
  {
   "cell_type": "markdown",
   "metadata": {},
   "source": [
    "# For Loops\n",
    "\n",
    "- **In Julia, loops are fast.  Don't avoid them.**\n",
    "- It took me several weeks of Julia programming before I shook my R habit of vectorizing everything\n",
    "\n",
    "\n",
    "- Tip: Use `eachindex` to iterate over the elements of a collection"
   ]
  },
  {
   "cell_type": "code",
   "execution_count": 36,
   "metadata": {},
   "outputs": [
    {
     "name": "stdout",
     "output_type": "stream",
     "text": [
      "0.9927171265515466\n",
      "0.054395032238005125\n",
      "0.6836070695796173\n",
      "0.23750286565691026\n",
      "0.7044995338311355\n"
     ]
    }
   ],
   "source": [
    "x = rand(5)\n",
    "\n",
    "for i in eachindex(x)\n",
    "    println(x[i])\n",
    "end"
   ]
  },
  {
   "cell_type": "code",
   "execution_count": 37,
   "metadata": {},
   "outputs": [
    {
     "name": "stdout",
     "output_type": "stream",
     "text": [
      "0.9927171265515466\n",
      "0.054395032238005125\n",
      "0.6836070695796173\n",
      "0.23750286565691026\n",
      "0.7044995338311355\n"
     ]
    }
   ],
   "source": [
    "for xi in x\n",
    "    println(xi)\n",
    "end"
   ]
  },
  {
   "cell_type": "code",
   "execution_count": 38,
   "metadata": {},
   "outputs": [
    {
     "name": "stdout",
     "output_type": "stream",
     "text": [
      "Element 1 is 0.9927171265515466\n",
      "Element 2 is 0.054395032238005125\n",
      "Element 3 is 0.6836070695796173\n",
      "Element 4 is 0.23750286565691026\n",
      "Element 5 is 0.7044995338311355\n"
     ]
    }
   ],
   "source": [
    "for (i, xi) in enumerate(x)\n",
    "    println(\"Element $i is $xi\")\n",
    "end"
   ]
  },
  {
   "cell_type": "markdown",
   "metadata": {},
   "source": [
    "# Anonymous Functions and the `do` Syntax\n",
    "\n",
    "- An **anonymous function** is a function you probabily won't use again\n",
    "    - Created with syntax: `(x,y,z) -> x + y + z`\n",
    "- `do` blocks:\n",
    "    - An easy way of writing longer anonymous functions\n",
    "    - For functions that accept a function as its first argument\n",
    "- The following are different ways of doing the same thing"
   ]
  },
  {
   "cell_type": "code",
   "execution_count": 39,
   "metadata": {},
   "outputs": [
    {
     "data": {
      "text/plain": [
       "3-element Array{Int64,1}:\n",
       " 1\n",
       " 2\n",
       " 3"
      ]
     },
     "execution_count": 39,
     "metadata": {},
     "output_type": "execute_result"
    }
   ],
   "source": [
    "map(abs, [-1, -2, -3])"
   ]
  },
  {
   "cell_type": "code",
   "execution_count": 40,
   "metadata": {},
   "outputs": [
    {
     "data": {
      "text/plain": [
       "3-element Array{Int64,1}:\n",
       " 1\n",
       " 2\n",
       " 3"
      ]
     },
     "execution_count": 40,
     "metadata": {},
     "output_type": "execute_result"
    }
   ],
   "source": [
    "map(x -> abs(x), [-1, -2, -3])"
   ]
  },
  {
   "cell_type": "code",
   "execution_count": 41,
   "metadata": {},
   "outputs": [
    {
     "data": {
      "text/plain": [
       "3-element Array{Int64,1}:\n",
       " 1\n",
       " 2\n",
       " 3"
      ]
     },
     "execution_count": 41,
     "metadata": {},
     "output_type": "execute_result"
    }
   ],
   "source": [
    "map([-1, -2, -3]) do x\n",
    "    abs(x)\n",
    "end"
   ]
  },
  {
   "cell_type": "markdown",
   "metadata": {},
   "source": [
    "# Tuples and NamedTuples\n",
    "\n",
    "- Efficient way to join heterogenous objects together in a type-stable way"
   ]
  },
  {
   "cell_type": "code",
   "execution_count": 42,
   "metadata": {},
   "outputs": [
    {
     "data": {
      "text/plain": [
       "(\"I\", \"am\", \"a\", \"tuple\", 1, 2, 3.0)"
      ]
     },
     "execution_count": 42,
     "metadata": {},
     "output_type": "execute_result"
    }
   ],
   "source": [
    "(\"I\", \"am\", \"a\", \"tuple\", 1 , 2, 3.0)"
   ]
  },
  {
   "cell_type": "markdown",
   "metadata": {},
   "source": [
    "- You can also give items a name"
   ]
  },
  {
   "cell_type": "code",
   "execution_count": 43,
   "metadata": {},
   "outputs": [
    {
     "data": {
      "text/plain": [
       "(x = 1, y = 2)"
      ]
     },
     "execution_count": 43,
     "metadata": {},
     "output_type": "execute_result"
    }
   ],
   "source": [
    "nt = (x = 1, y = 2)"
   ]
  },
  {
   "cell_type": "code",
   "execution_count": 44,
   "metadata": {},
   "outputs": [
    {
     "data": {
      "text/plain": [
       "1"
      ]
     },
     "execution_count": 44,
     "metadata": {},
     "output_type": "execute_result"
    }
   ],
   "source": [
    "nt.x"
   ]
  },
  {
   "cell_type": "markdown",
   "metadata": {},
   "source": [
    "# Creating Your Own Types\n",
    "\n",
    "- `struct`: Contents that won't change\n",
    "- `mutable struct`: Contents that may change"
   ]
  },
  {
   "cell_type": "code",
   "execution_count": 45,
   "metadata": {},
   "outputs": [],
   "source": [
    "struct Population\n",
    "    x::Vector{Int}\n",
    "end\n",
    "\n",
    "struct SampleWithReplacement\n",
    "    x::Vector{Int}\n",
    "end"
   ]
  },
  {
   "cell_type": "code",
   "execution_count": 46,
   "metadata": {},
   "outputs": [
    {
     "data": {
      "text/plain": [
       "SampleWithReplacement"
      ]
     },
     "execution_count": 46,
     "metadata": {},
     "output_type": "execute_result"
    }
   ],
   "source": [
    "SampleWithReplacement(pop::Population, n) = SampleWithReplacement(rand(pop.x, n))"
   ]
  },
  {
   "cell_type": "code",
   "execution_count": 47,
   "metadata": {},
   "outputs": [
    {
     "data": {
      "text/plain": [
       "Population([1, 2, 3, 4, 5, 6, 7, 8, 9, 10])"
      ]
     },
     "execution_count": 47,
     "metadata": {},
     "output_type": "execute_result"
    }
   ],
   "source": [
    "pop = Population(collect(1:10))"
   ]
  },
  {
   "cell_type": "code",
   "execution_count": 48,
   "metadata": {},
   "outputs": [
    {
     "data": {
      "text/plain": [
       "10-element Array{Int64,1}:\n",
       "  1\n",
       "  2\n",
       "  3\n",
       "  4\n",
       "  5\n",
       "  6\n",
       "  7\n",
       "  8\n",
       "  9\n",
       " 10"
      ]
     },
     "execution_count": 48,
     "metadata": {},
     "output_type": "execute_result"
    }
   ],
   "source": [
    "pop.x"
   ]
  },
  {
   "cell_type": "code",
   "execution_count": 49,
   "metadata": {},
   "outputs": [
    {
     "data": {
      "text/plain": [
       "SampleWithReplacement([10, 9, 9, 5, 8, 9, 5, 4])"
      ]
     },
     "execution_count": 49,
     "metadata": {},
     "output_type": "execute_result"
    }
   ],
   "source": [
    "SampleWithReplacement(pop, 8)"
   ]
  },
  {
   "cell_type": "markdown",
   "metadata": {
    "slideshow": {
     "slide_type": "slide"
    }
   },
   "source": [
    "# Interop\n",
    "\n",
    "- You don't need to leave your favorite R/Python/C/Fortran/C++ code behind\n",
    "- All are easily callable from Julia\n",
    "\n",
    "## R\n",
    "\n",
    "You can \"send\" objects from Julia to R using interpolation syntax `$`"
   ]
  },
  {
   "cell_type": "code",
   "execution_count": 50,
   "metadata": {},
   "outputs": [
    {
     "data": {
      "image/png": "[encoded data removed]"
     },
     "metadata": {},
     "output_type": "display_data"
    },
    {
     "data": {
      "text/plain": [
       "RObject{VecSxp}\n",
       "$breaks\n",
       " [1] -2.5 -2.0 -1.5 -1.0 -0.5  0.0  0.5  1.0  1.5  2.0\n",
       "\n",
       "$counts\n",
       "[1]  3  2 13 15 18 22  9 13  5\n",
       "\n",
       "$density\n",
       "[1] 0.06 0.04 0.26 0.30 0.36 0.44 0.18 0.26 0.10\n",
       "\n",
       "$mids\n",
       "[1] -2.25 -1.75 -1.25 -0.75 -0.25  0.25  0.75  1.25  1.75\n",
       "\n",
       "$xname\n",
       "[1] \"`#JL`$x\"\n",
       "\n",
       "$equidist\n",
       "[1] TRUE\n",
       "\n",
       "attr(,\"class\")\n",
       "[1] \"histogram\"\n"
      ]
     },
     "execution_count": 50,
     "metadata": {},
     "output_type": "execute_result"
    }
   ],
   "source": [
    "using RCall\n",
    "\n",
    "x = randn(100)\n",
    "\n",
    "R\"hist($x)\""
   ]
  },
  {
   "cell_type": "code",
   "execution_count": 51,
   "metadata": {
    "slideshow": {
     "slide_type": "slide"
    }
   },
   "outputs": [
    {
     "data": {
      "image/png": "[encoded data removed]"
     },
     "metadata": {},
     "output_type": "display_data"
    },
    {
     "data": {
      "text/plain": [
       "RObject{VecSxp}\n"
      ]
     },
     "execution_count": 51,
     "metadata": {},
     "output_type": "execute_result"
    },
    {
     "name": "stderr",
     "output_type": "stream",
     "text": [
      "┌ Warning: RCall.jl: `stat_bin()` using `bins = 30`. Pick better value with `binwidth`.\n",
      "└ @ RCall /Users/joshday/.julia/packages/RCall/Q4n8R/src/io.jl:110\n"
     ]
    }
   ],
   "source": [
    "R\"library(ggplot2); qplot($x)\""
   ]
  },
  {
   "cell_type": "markdown",
   "metadata": {
    "slideshow": {
     "slide_type": "slide"
    }
   },
   "source": [
    "## Python"
   ]
  },
  {
   "cell_type": "code",
   "execution_count": 52,
   "metadata": {
    "slideshow": {
     "slide_type": "-"
    }
   },
   "outputs": [
    {
     "data": {
      "text/plain": [
       "3×4 Array{Float64,2}:\n",
       " 0.775292  0.168649   0.378351  0.607832\n",
       " 0.357349  0.885507   0.402047  0.443632\n",
       " 0.879717  0.0249528  0.579264  0.595484"
      ]
     },
     "execution_count": 52,
     "metadata": {},
     "output_type": "execute_result"
    }
   ],
   "source": [
    "using PyCall\n",
    "\n",
    "@pyimport numpy.random as nr\n",
    "\n",
    "nr.rand(3, 4)"
   ]
  },
  {
   "cell_type": "markdown",
   "metadata": {},
   "source": [
    "# REPL Modes\n",
    "\n",
    "- Your first experience with Julia is probably through the REPL (read-eval-print-loop)\n",
    "\n",
    "There are several **REPL Modes** that can be activated by certain characters:\n",
    "\n",
    "- `?` (help)\n",
    "- `]` (package manager)\n",
    "- `;` (shell)\n",
    "- `$` (R via [RCall.jl](https://github.com/JuliaInterop/RCall.jl))"
   ]
  },
  {
   "cell_type": "markdown",
   "metadata": {},
   "source": [
    "# Linear Algebra\n",
    "\n",
    "- **I could do multiple lectures on numerical linear algebra in Julia.  It's fantastic.**\n",
    "- Call `BLAS` functions directly\n",
    "- In-place (mutating) operations lead to huge performance gains!\n",
    "- Types for storing matrix factorizations for quickly solving linear systems, etc."
   ]
  },
  {
   "cell_type": "code",
   "execution_count": 53,
   "metadata": {},
   "outputs": [],
   "source": [
    "using LinearAlgebra"
   ]
  },
  {
   "cell_type": "code",
   "execution_count": 54,
   "metadata": {},
   "outputs": [
    {
     "data": {
      "text/plain": [
       "LU{Float64,Array{Float64,2}}\n",
       "L factor:\n",
       "10×2 Array{Float64,2}:\n",
       "  1.0         0.0      \n",
       "  0.657287    1.0      \n",
       "  0.258778    0.396275 \n",
       "  0.152751    0.757843 \n",
       " -0.18661     0.0376225\n",
       "  0.49608     0.0977601\n",
       " -0.0411215   0.245317 \n",
       "  0.371992   -0.127662 \n",
       " -0.0691495  -0.055911 \n",
       "  0.595217    0.634234 \n",
       "U factor:\n",
       "2×2 Array{Float64,2}:\n",
       " 0.925101  -1.13541\n",
       " 0.0        2.33587"
      ]
     },
     "execution_count": 54,
     "metadata": {},
     "output_type": "execute_result"
    }
   ],
   "source": [
    "x = randn(10, 2)\n",
    "\n",
    "lu(x)"
   ]
  },
  {
   "cell_type": "code",
   "execution_count": 55,
   "metadata": {},
   "outputs": [
    {
     "data": {
      "text/plain": [
       "Cholesky{Float64,Array{Float64,2}}\n",
       "U factor:\n",
       "2×2 UpperTriangular{Float64,Array{Float64,2}}:\n",
       " 1.40371  0.187416\n",
       "  ⋅       2.91322 "
      ]
     },
     "execution_count": 55,
     "metadata": {},
     "output_type": "execute_result"
    }
   ],
   "source": [
    "c = cholesky(x'x)"
   ]
  },
  {
   "cell_type": "code",
   "execution_count": 56,
   "metadata": {},
   "outputs": [
    {
     "data": {
      "text/plain": [
       "2×2 Array{Float64,2}:\n",
       "  0.509611  -0.015732\n",
       " -0.015732   0.117829"
      ]
     },
     "execution_count": 56,
     "metadata": {},
     "output_type": "execute_result"
    }
   ],
   "source": [
    "inv(c)  # You very rarely need to do this"
   ]
  },
  {
   "cell_type": "code",
   "execution_count": 57,
   "metadata": {},
   "outputs": [
    {
     "data": {
      "text/plain": [
       "SVD{Float64,Float64,Array{Float64,2}}([0.283147 0.369956; -0.241762 0.266237; … ; -0.018695 -0.0441676; -0.375699 0.692769], [2.92105, 1.39995], [0.0400582 0.999197; 0.999197 -0.0400582])"
      ]
     },
     "execution_count": 57,
     "metadata": {},
     "output_type": "execute_result"
    }
   ],
   "source": [
    "svd(x)"
   ]
  },
  {
   "cell_type": "code",
   "execution_count": 58,
   "metadata": {},
   "outputs": [
    {
     "data": {
      "text/plain": [
       "Eigen{Float64,Float64,Array{Float64,2},Array{Float64,1}}\n",
       "eigenvalues:\n",
       "2-element Array{Float64,1}:\n",
       " 1.959854630780974\n",
       " 8.532524898496206\n",
       "eigenvectors:\n",
       "2×2 Array{Float64,2}:\n",
       " -0.999197   0.0400582\n",
       "  0.0400582  0.999197 "
      ]
     },
     "execution_count": 58,
     "metadata": {},
     "output_type": "execute_result"
    }
   ],
   "source": [
    "eigen(x'x)"
   ]
  },
  {
   "cell_type": "markdown",
   "metadata": {},
   "source": [
    "# Standard Library\n",
    "\n",
    "- Some things you may expect to already be in Julia need to be loaded\n",
    "    - `using Statistics`\n",
    "    - `using LinearAlgebra`\n",
    "    - `using DelimitedFiles`"
   ]
  }
 ],
 "metadata": {
  "kernelspec": {
   "display_name": "Julia 1.0.0",
   "language": "julia",
   "name": "julia-1.0"
  },
  "language_info": {
   "file_extension": ".jl",
   "mimetype": "application/julia",
   "name": "julia",
   "version": "1.0.0"
  }
 },
 "nbformat": 4,
 "nbformat_minor": 2
}
