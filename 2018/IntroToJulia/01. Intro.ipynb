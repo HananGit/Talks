{
 "cells": [
  {
   "cell_type": "markdown",
   "metadata": {
    "slideshow": {
     "slide_type": "slide"
    }
   },
   "source": [
    "<center>\n",
    "<img src=\"https://upload.wikimedia.org/wikipedia/commons/thumb/6/69/Julia_prog_language.svg/1280px-Julia_prog_language.svg.png\" width=300>\n",
    "</center>\n",
    "\n",
    "# Introduction to Julia\n",
    "\n",
    "## Dr. Josh Day\n",
    "\n",
    "- GitHub: `@joshday`\n",
    "- Email: josh@seqstat.com\n",
    "- Slides: https://github.com/joshday/Talks\n"
   ]
  },
  {
   "cell_type": "markdown",
   "metadata": {
    "slideshow": {
     "slide_type": "slide"
    }
   },
   "source": [
    "# Julia Resources\n",
    "\n",
    "- [https://julialang.org](https://julialang.org)\n",
    "- [https://juliabox.com](https://juliabox.com) (run Julia on the cloud, free tutorials)\n",
    "- [https://juliaobserver.com/](https://juliaobserver.com/) (finding packages)\n",
    "- [https://discourse.julialang.org](https://discourse.julialang.org) (ask for help)\n",
    "- [http://julialang.slack.com/](http://julialang.slack.com/) (ask for help)\n",
    "- [https://docs.julialang.org/en/](https://docs.julialang.org/en/) (documentation)"
   ]
  },
  {
   "cell_type": "markdown",
   "metadata": {
    "slideshow": {
     "slide_type": "slide"
    }
   },
   "source": [
    "# Motivation\n",
    "\n",
    "- Do we need another language?\n",
    "- Let's start with Sapir-Worf Hypothesis"
   ]
  },
  {
   "cell_type": "markdown",
   "metadata": {
    "slideshow": {
     "slide_type": "slide"
    }
   },
   "source": [
    "# Sapir-Worf Hypothesis\n",
    "\n",
    "- Your language influences/determines how you think"
   ]
  },
  {
   "cell_type": "markdown",
   "metadata": {
    "slideshow": {
     "slide_type": "fragment"
    }
   },
   "source": [
    "**How you solve problems is influenced by your tools**\n",
    "\n",
    "- e.g. with R, avoid loops "
   ]
  },
  {
   "cell_type": "markdown",
   "metadata": {
    "slideshow": {
     "slide_type": "slide"
    }
   },
   "source": [
    "# The Two-Language Problem\n",
    "\n",
    "- Write your prototype in an easy language (R)\n",
    "- Write your final version in a fast language (C++)"
   ]
  },
  {
   "cell_type": "markdown",
   "metadata": {
    "slideshow": {
     "slide_type": "slide"
    }
   },
   "source": [
    "# Julia\n",
    "\n",
    "I claim that:\n",
    "\n",
    "### 1) Julia is less controlling over how you solve problems\n",
    "### 2) Julia solves the two-language problem"
   ]
  },
  {
   "cell_type": "markdown",
   "metadata": {
    "slideshow": {
     "slide_type": "slide"
    }
   },
   "source": [
    "# What is Julia?\n",
    "> Julia is a high-level, high-performance dynamic programming language for technical computing, with syntax that is familiar to users of other technical computing environments\n",
    "\n",
    "- Julia is more than just \"Fast R\"\n",
    "    - Performance comes from features that work well together.  \n",
    "    - You can't just take the magic dust that makes Julia fast and sprinkle it on [language of choice]\n",
    "    \n",
    "## Julia Features\n",
    "\n",
    "- Type system\n",
    "- Multiple dispatch\n",
    "- Type Inference\n",
    "- Metaprogramming (macros)\n",
    "- Just-in-time (JIT) compilation using LLVM\n",
    "- Clean, familiar syntax\n",
    "- Most of Julia is written in Julia!"
   ]
  },
  {
   "cell_type": "markdown",
   "metadata": {
    "slideshow": {
     "slide_type": "slide"
    }
   },
   "source": [
    "# Benchmarks\n",
    "\n",
    "<center><img src=\"https://julialang.org/images/benchmarks.svg\" width=900></center>"
   ]
  },
  {
   "cell_type": "markdown",
   "metadata": {
    "slideshow": {
     "slide_type": "slide"
    }
   },
   "source": [
    "# Julia is Just-In-Time Compiled\n",
    "\n",
    "- The first time a function is run, Julia compiles it"
   ]
  },
  {
   "cell_type": "code",
   "execution_count": 1,
   "metadata": {},
   "outputs": [
    {
     "name": "stdout",
     "output_type": "stream",
     "text": [
      "  0.039990 seconds (95.32 k allocations: 4.756 MiB, 26.01% gc time)\n",
      "  0.000572 seconds (5 allocations: 176 bytes)\n"
     ]
    },
    {
     "data": {
      "text/plain": [
       "500263.49482442567"
      ]
     },
     "execution_count": 1,
     "metadata": {},
     "output_type": "execute_result"
    }
   ],
   "source": [
    "y = rand(10^6)\n",
    "\n",
    "@time sum(y)\n",
    "\n",
    "@time sum(y)"
   ]
  },
  {
   "cell_type": "markdown",
   "metadata": {
    "slideshow": {
     "slide_type": "slide"
    }
   },
   "source": [
    "# Generic Code Gets Specialized\n",
    "\n",
    "- Julia specializes on **types of arguments** (without you telling Julia what those types are)"
   ]
  },
  {
   "cell_type": "code",
   "execution_count": 2,
   "metadata": {},
   "outputs": [
    {
     "name": "stdout",
     "output_type": "stream",
     "text": [
      "  0.004964 seconds (11.24 k allocations: 638.555 KiB)\n",
      "  0.000001 seconds (4 allocations: 160 bytes)\n"
     ]
    },
    {
     "data": {
      "text/plain": [
       "5.0"
      ]
     },
     "execution_count": 2,
     "metadata": {},
     "output_type": "execute_result"
    }
   ],
   "source": [
    "f(x) = x + 4\n",
    "\n",
    "@time f(1.0)\n",
    "@time f(1.0)"
   ]
  },
  {
   "cell_type": "code",
   "execution_count": 3,
   "metadata": {},
   "outputs": [
    {
     "name": "stdout",
     "output_type": "stream",
     "text": [
      "  0.002342 seconds (1.23 k allocations: 73.730 KiB)\n",
      "  0.000001 seconds (3 allocations: 144 bytes)\n"
     ]
    },
    {
     "data": {
      "text/plain": [
       "5"
      ]
     },
     "execution_count": 3,
     "metadata": {},
     "output_type": "execute_result"
    }
   ],
   "source": [
    "@time f(1)\n",
    "@time f(1)"
   ]
  },
  {
   "cell_type": "markdown",
   "metadata": {
    "slideshow": {
     "slide_type": "slide"
    }
   },
   "source": [
    "# Most of Julia is Written in Julia\n",
    "\n",
    "- Easy to find out what's going on inside a function \n",
    "    - `@edit`\n",
    "- Also most Julia packages are 100% Julia\n",
    "    - **Tensorflow**:\n",
    "    ![](tensorflow.png)\n",
    "    - **Flux.jl**\n",
    "    ![](flux.png)"
   ]
  },
  {
   "cell_type": "markdown",
   "metadata": {
    "slideshow": {
     "slide_type": "slide"
    }
   },
   "source": [
    "# Julia Makes Use of Metaprogramming\n",
    "\n",
    "- Code that writes code\n",
    "- Can do everything a function can do plus much more"
   ]
  },
  {
   "cell_type": "code",
   "execution_count": 4,
   "metadata": {
    "slideshow": {
     "slide_type": "-"
    }
   },
   "outputs": [
    {
     "name": "stdout",
     "output_type": "stream",
     "text": [
      "\n",
      "; Function f\n",
      "; Location: In[2]:1\n",
      "define i64 @julia_f_36347(i64) {\n",
      "top:\n",
      "; Function +; {\n",
      "; Location: int.jl:53\n",
      "  %1 = add i64 %0, 4\n",
      ";}\n",
      "  ret i64 %1\n",
      "}\n"
     ]
    }
   ],
   "source": [
    "@code_llvm f(1)"
   ]
  },
  {
   "cell_type": "markdown",
   "metadata": {},
   "source": [
    "- What is the difference between `show` and `@show`?"
   ]
  },
  {
   "cell_type": "code",
   "execution_count": 5,
   "metadata": {},
   "outputs": [
    {
     "name": "stdout",
     "output_type": "stream",
     "text": [
      "val = 100\n"
     ]
    }
   ],
   "source": [
    "val = 100\n",
    "@show val;"
   ]
  },
  {
   "cell_type": "code",
   "execution_count": 6,
   "metadata": {},
   "outputs": [
    {
     "name": "stdout",
     "output_type": "stream",
     "text": [
      "100"
     ]
    }
   ],
   "source": [
    "show(val)"
   ]
  },
  {
   "cell_type": "markdown",
   "metadata": {},
   "source": [
    "## One of the Most Useful Macros: `@time`\n",
    "\n",
    "- Provides elapsed time **as well as allocations**\n",
    "- Removing temporary allocations (garbage collection) is expensive!\n",
    "- It's impossible to oversell how useful this is"
   ]
  },
  {
   "cell_type": "code",
   "execution_count": 7,
   "metadata": {},
   "outputs": [
    {
     "name": "stdout",
     "output_type": "stream",
     "text": [
      "  0.009441 seconds (7 allocations: 7.630 MiB, 48.78% gc time)\n"
     ]
    }
   ],
   "source": [
    "@time rand(10^6);"
   ]
  },
  {
   "cell_type": "markdown",
   "metadata": {
    "slideshow": {
     "slide_type": "slide"
    }
   },
   "source": [
    "# Julia Has a Great Type System"
   ]
  },
  {
   "cell_type": "code",
   "execution_count": 8,
   "metadata": {},
   "outputs": [
    {
     "data": {
      "text/plain": [
       "2×2 Array{Float64,2}:\n",
       " 0.725277  0.75289 \n",
       " 0.490498  0.850136"
      ]
     },
     "execution_count": 8,
     "metadata": {},
     "output_type": "execute_result"
    }
   ],
   "source": [
    "rand(2, 2)"
   ]
  },
  {
   "cell_type": "code",
   "execution_count": 9,
   "metadata": {},
   "outputs": [
    {
     "data": {
      "text/plain": [
       "Float64"
      ]
     },
     "execution_count": 9,
     "metadata": {},
     "output_type": "execute_result"
    }
   ],
   "source": [
    "typeof(1.0)"
   ]
  },
  {
   "cell_type": "code",
   "execution_count": 10,
   "metadata": {},
   "outputs": [
    {
     "data": {
      "text/plain": [
       "Int64"
      ]
     },
     "execution_count": 10,
     "metadata": {},
     "output_type": "execute_result"
    }
   ],
   "source": [
    "typeof(1)"
   ]
  },
  {
   "cell_type": "markdown",
   "metadata": {
    "slideshow": {
     "slide_type": "slide"
    }
   },
   "source": [
    "# Types Define Sets of Things\n",
    "\n",
    "- Abstract types \"don't exist\".  They define a set of things that behave similarly.\n",
    "- Concrete types \"are real\".  They exist in a set of things defined by an abstract type.\n",
    "    - Concrete types do not have subtypes\n",
    "\n",
    "Type tree from `Any` to `Float64`:\n",
    "- Any (abstract)\n",
    "    - Number (abstract)\n",
    "        - Real (abstract)\n",
    "            - AbstractFloat (abstract)\n",
    "                - Float64 (concrete)\n",
    "                \n",
    "Is a `Float64` a `Number`? Yes\n",
    "\n",
    "Is a `Float64` an `AbstractFloat`? Yes\n",
    "\n",
    "One \"set\" is smaller than the other: `AbstractFloat <: Number`"
   ]
  },
  {
   "cell_type": "code",
   "execution_count": 11,
   "metadata": {},
   "outputs": [
    {
     "data": {
      "text/plain": [
       "AbstractFloat"
      ]
     },
     "execution_count": 11,
     "metadata": {},
     "output_type": "execute_result"
    }
   ],
   "source": [
    "supertype(Float64)"
   ]
  },
  {
   "cell_type": "code",
   "execution_count": 12,
   "metadata": {},
   "outputs": [
    {
     "data": {
      "text/plain": [
       "Real"
      ]
     },
     "execution_count": 12,
     "metadata": {},
     "output_type": "execute_result"
    }
   ],
   "source": [
    "supertype(AbstractFloat)"
   ]
  },
  {
   "cell_type": "code",
   "execution_count": 13,
   "metadata": {},
   "outputs": [
    {
     "data": {
      "text/plain": [
       "Number"
      ]
     },
     "execution_count": 13,
     "metadata": {},
     "output_type": "execute_result"
    }
   ],
   "source": [
    "supertype(Real)"
   ]
  },
  {
   "cell_type": "code",
   "execution_count": 14,
   "metadata": {},
   "outputs": [
    {
     "data": {
      "text/plain": [
       "Any"
      ]
     },
     "execution_count": 14,
     "metadata": {},
     "output_type": "execute_result"
    }
   ],
   "source": [
    "supertype(Number)"
   ]
  },
  {
   "cell_type": "markdown",
   "metadata": {
    "slideshow": {
     "slide_type": "slide"
    }
   },
   "source": [
    "# Programs are Organized Around Multiple Dispatch\n",
    "\n",
    "- The idea that different code gets called depending on the types of the arguments\n",
    "- Multiple dispatch is amazing"
   ]
  },
  {
   "cell_type": "code",
   "execution_count": 15,
   "metadata": {},
   "outputs": [
    {
     "data": {
      "text/plain": [
       "f (generic function with 3 methods)"
      ]
     },
     "execution_count": 15,
     "metadata": {},
     "output_type": "execute_result"
    }
   ],
   "source": [
    "f(x::Number) = \"This is a Number\"\n",
    "f(x::String) = \"This is a String\"\n",
    "f(x) = \"This is something else\""
   ]
  },
  {
   "cell_type": "code",
   "execution_count": 16,
   "metadata": {},
   "outputs": [
    {
     "name": "stdout",
     "output_type": "stream",
     "text": [
      "f(1) = \"This is a Number\"\n",
      "f(\"asdf\") = \"This is a String\"\n",
      "f([1, 2]) = \"This is something else\"\n"
     ]
    }
   ],
   "source": [
    "@show f(1)\n",
    "@show f(\"asdf\")\n",
    "@show f([1, 2]);"
   ]
  },
  {
   "cell_type": "markdown",
   "metadata": {
    "slideshow": {
     "slide_type": "slide"
    }
   },
   "source": [
    "## Quintessential R vs. Julia\n",
    "\n",
    "- Consider R's `pnorm`, `dnorm`, `qnorm`, etc. family of functions.\n",
    "- In Julia, multiple dispatch is used to create a grammar/interface for \"how to talk about\" a set of things\n",
    "    - What is the interface for probability distributions?"
   ]
  },
  {
   "cell_type": "code",
   "execution_count": 17,
   "metadata": {
    "slideshow": {
     "slide_type": "-"
    }
   },
   "outputs": [],
   "source": [
    "using Distributions\n",
    "\n",
    "d = Normal(0, 1)\n",
    "d2 = Gamma(3, 5);"
   ]
  },
  {
   "cell_type": "code",
   "execution_count": 18,
   "metadata": {},
   "outputs": [
    {
     "data": {
      "text/plain": [
       "(0.0, 1.0, 0.841344746068543)"
      ]
     },
     "execution_count": 18,
     "metadata": {},
     "output_type": "execute_result"
    }
   ],
   "source": [
    "mean(d), var(d), cdf(d, 1)"
   ]
  },
  {
   "cell_type": "code",
   "execution_count": 19,
   "metadata": {},
   "outputs": [
    {
     "data": {
      "text/plain": [
       "(15.0, 75.0, 0.0011484812448621334)"
      ]
     },
     "execution_count": 19,
     "metadata": {},
     "output_type": "execute_result"
    }
   ],
   "source": [
    "mean(d2), var(d2), cdf(d2, 1)"
   ]
  },
  {
   "cell_type": "markdown",
   "metadata": {
    "slideshow": {
     "slide_type": "slide"
    }
   },
   "source": [
    "## A More Concrete Example\n",
    "\n",
    "- Here is a very naive Newton's algorithm for finding the quantile `q` of a distribution `d`\n",
    "- I haven't told Julia anything about types, but this will work as long as \n",
    "    1. `d` is something that I can calculate the `mean`, `cdf`, and `pdf` of\n",
    "    2. `q` is a Number\n",
    "- Also because of the JIT, I get specialized code for each distribution!"
   ]
  },
  {
   "cell_type": "code",
   "execution_count": 20,
   "metadata": {},
   "outputs": [
    {
     "data": {
      "text/plain": [
       "my_quantile (generic function with 1 method)"
      ]
     },
     "execution_count": 20,
     "metadata": {},
     "output_type": "execute_result"
    }
   ],
   "source": [
    "function my_quantile(d, q)\n",
    "    θ = mean(d)\n",
    "    for i in 1:20\n",
    "        θ -= (cdf(d, θ) - q) / pdf(d, θ)\n",
    "    end\n",
    "    θ\n",
    "end"
   ]
  },
  {
   "cell_type": "code",
   "execution_count": 21,
   "metadata": {},
   "outputs": [
    {
     "data": {
      "text/plain": [
       "0.0"
      ]
     },
     "execution_count": 21,
     "metadata": {},
     "output_type": "execute_result"
    }
   ],
   "source": [
    "my_quantile(Normal(), .5)"
   ]
  },
  {
   "cell_type": "code",
   "execution_count": 22,
   "metadata": {},
   "outputs": [
    {
     "data": {
      "text/plain": [
       "3.6336090829638032"
      ]
     },
     "execution_count": 22,
     "metadata": {},
     "output_type": "execute_result"
    }
   ],
   "source": [
    "my_quantile(Gamma(5, 1), .3)"
   ]
  },
  {
   "cell_type": "markdown",
   "metadata": {
    "slideshow": {
     "slide_type": "slide"
    }
   },
   "source": [
    "# Julia's Growth (Number of Packages)\n",
    "\n",
    "![](https://pkg.julialang.org/img/allver.svg)"
   ]
  },
  {
   "cell_type": "markdown",
   "metadata": {
    "slideshow": {
     "slide_type": "slide"
    }
   },
   "source": [
    "# Julia's Growth (GitHub Stars)\n",
    "\n",
    "![](https://pkg.julialang.org/img/stars.svg)"
   ]
  },
  {
   "cell_type": "markdown",
   "metadata": {},
   "source": [
    "# Pass by Reference\n",
    "\n",
    "- You can really mess with objects inside a function\n",
    "- By convention, if you are **mutating** an argument, end the function with `!`"
   ]
  },
  {
   "cell_type": "code",
   "execution_count": 23,
   "metadata": {},
   "outputs": [
    {
     "data": {
      "text/plain": [
       "4-element Array{Int64,1}:\n",
       " 0\n",
       " 0\n",
       " 0\n",
       " 0"
      ]
     },
     "execution_count": 23,
     "metadata": {},
     "output_type": "execute_result"
    }
   ],
   "source": [
    "function totally_safe_function(x)\n",
    "    x .= 0.0\n",
    "end\n",
    "\n",
    "val = [1,2,3,4]\n",
    "\n",
    "totally_safe_function(val)\n",
    "\n",
    "val"
   ]
  },
  {
   "cell_type": "markdown",
   "metadata": {},
   "source": [
    "# Broadcasting\n",
    "\n",
    "- `sin` of a vector is not defined\n",
    "- Most languages use the syntactic sugar that `sin` of a vector means \"apply `sin` to each element of the vector\"\n",
    "- Julia doesn't, because\n",
    "    1. It's wrong\n",
    "    2. It's unnecessary and can be generalized to all functions of singletons"
   ]
  },
  {
   "cell_type": "code",
   "execution_count": 24,
   "metadata": {},
   "outputs": [
    {
     "ename": "MethodError",
     "evalue": "MethodError: no method matching sin(::Array{Float64,1})\nClosest candidates are:\n  sin(!Matched::BigFloat) at mpfr.jl:683\n  sin(!Matched::Missing) at math.jl:1056\n  sin(!Matched::Complex{Float16}) at math.jl:1005\n  ...",
     "output_type": "error",
     "traceback": [
      "MethodError: no method matching sin(::Array{Float64,1})\nClosest candidates are:\n  sin(!Matched::BigFloat) at mpfr.jl:683\n  sin(!Matched::Missing) at math.jl:1056\n  sin(!Matched::Complex{Float16}) at math.jl:1005\n  ...",
      "",
      "Stacktrace:",
      " [1] top-level scope at In[24]:1"
     ]
    }
   ],
   "source": [
    "sin(rand(5))"
   ]
  },
  {
   "cell_type": "markdown",
   "metadata": {},
   "source": [
    "- Dot syntax does broadcasting/maps the function to each element"
   ]
  },
  {
   "cell_type": "code",
   "execution_count": 25,
   "metadata": {},
   "outputs": [
    {
     "data": {
      "text/plain": [
       "5-element Array{Float64,1}:\n",
       " 0.14718974706281282\n",
       " 0.7724748730932269 \n",
       " 0.7378619617072879 \n",
       " 0.3534593334038129 \n",
       " 0.6521094893111177 "
      ]
     },
     "execution_count": 25,
     "metadata": {},
     "output_type": "execute_result"
    }
   ],
   "source": [
    "sin.(rand(5))"
   ]
  },
  {
   "cell_type": "markdown",
   "metadata": {},
   "source": [
    "- Multiple broadcasting functions can be chained together (without creating temporary copies)"
   ]
  },
  {
   "cell_type": "code",
   "execution_count": 26,
   "metadata": {},
   "outputs": [
    {
     "data": {
      "text/plain": [
       "2×2 Array{Float64,2}:\n",
       " 0.915612  0.722981\n",
       " 0.868302  0.774137"
      ]
     },
     "execution_count": 26,
     "metadata": {},
     "output_type": "execute_result"
    }
   ],
   "source": [
    "cos.(sin.(abs.(rand(2, 2))))"
   ]
  },
  {
   "cell_type": "markdown",
   "metadata": {},
   "source": [
    "# Anonymous Functions and the `do` Syntax\n",
    "\n",
    "- An **anonymous function** is a function you probabily won't use again\n",
    "    - Created with syntax: `(x,y,z) -> x + y + z`\n",
    "    - (\"map\" x,y,z to their sum)\n",
    "- `do` blocks:\n",
    "    - An easy way of writing longer anonymous functions\n",
    "    - For functions that accept a function as its first argument\n",
    "- The following are different ways of doing the same thing"
   ]
  },
  {
   "cell_type": "code",
   "execution_count": 27,
   "metadata": {},
   "outputs": [
    {
     "data": {
      "text/plain": [
       "3-element Array{Int64,1}:\n",
       " 1\n",
       " 2\n",
       " 3"
      ]
     },
     "execution_count": 27,
     "metadata": {},
     "output_type": "execute_result"
    }
   ],
   "source": [
    "map(abs, [-1, -2, -3])"
   ]
  },
  {
   "cell_type": "code",
   "execution_count": 28,
   "metadata": {},
   "outputs": [
    {
     "data": {
      "text/plain": [
       "3-element Array{Int64,1}:\n",
       " 1\n",
       " 2\n",
       " 3"
      ]
     },
     "execution_count": 28,
     "metadata": {},
     "output_type": "execute_result"
    }
   ],
   "source": [
    "map(x -> abs(x), [-1, -2, -3])"
   ]
  },
  {
   "cell_type": "code",
   "execution_count": 29,
   "metadata": {},
   "outputs": [
    {
     "data": {
      "text/plain": [
       "3-element Array{Int64,1}:\n",
       " 1\n",
       " 2\n",
       " 3"
      ]
     },
     "execution_count": 29,
     "metadata": {},
     "output_type": "execute_result"
    }
   ],
   "source": [
    "map([-1, -2, -3]) do x\n",
    "    abs(x)\n",
    "end"
   ]
  },
  {
   "cell_type": "markdown",
   "metadata": {},
   "source": [
    "# Creating Your Own Types\n",
    "\n",
    "- `struct`: Contents that won't change\n",
    "- `mutable struct`: Contents that may change"
   ]
  },
  {
   "cell_type": "code",
   "execution_count": 30,
   "metadata": {},
   "outputs": [],
   "source": [
    "struct Population\n",
    "    x::Vector{Int}\n",
    "end\n",
    "\n",
    "struct SampleWithReplacement\n",
    "    x::Vector{Int}\n",
    "end"
   ]
  },
  {
   "cell_type": "code",
   "execution_count": 44,
   "metadata": {},
   "outputs": [
    {
     "data": {
      "text/plain": [
       "SampleWithReplacement"
      ]
     },
     "execution_count": 44,
     "metadata": {},
     "output_type": "execute_result"
    }
   ],
   "source": [
    "SampleWithReplacement(pop::Population, n) = SampleWithReplacement(rand(pop.x, n))"
   ]
  },
  {
   "cell_type": "code",
   "execution_count": 45,
   "metadata": {},
   "outputs": [
    {
     "data": {
      "text/plain": [
       "Population([1, 2, 3, 4, 5, 6, 7, 8, 9, 10])"
      ]
     },
     "execution_count": 45,
     "metadata": {},
     "output_type": "execute_result"
    }
   ],
   "source": [
    "pop = Population(collect(1:10))"
   ]
  },
  {
   "cell_type": "code",
   "execution_count": 47,
   "metadata": {},
   "outputs": [
    {
     "data": {
      "text/plain": [
       "SampleWithReplacement([9, 9, 4, 7, 4, 4, 4, 1])"
      ]
     },
     "execution_count": 47,
     "metadata": {},
     "output_type": "execute_result"
    }
   ],
   "source": [
    "SampleWithReplacement(pop, 8)"
   ]
  },
  {
   "cell_type": "markdown",
   "metadata": {
    "slideshow": {
     "slide_type": "slide"
    }
   },
   "source": [
    "# Interop\n",
    "\n",
    "- You don't need to leave your favorite R/Python/C/Fortran/C++ code behind\n",
    "- All are easily callable from Julia\n",
    "\n",
    "## R\n",
    "\n",
    "You can \"send\" objects from Julia to R using interpolation syntax `$`"
   ]
  },
  {
   "cell_type": "code",
   "execution_count": 34,
   "metadata": {},
   "outputs": [
    {
     "data": {
      "image/png": "[encoded data removed]"
     },
     "metadata": {},
     "output_type": "display_data"
    },
    {
     "data": {
      "text/plain": [
       "RObject{VecSxp}\n",
       "$breaks\n",
       " [1] -3.0 -2.5 -2.0 -1.5 -1.0 -0.5  0.0  0.5  1.0  1.5  2.0\n",
       "\n",
       "$counts\n",
       " [1]  2  4  6  9 10 21 21 15 10  2\n",
       "\n",
       "$density\n",
       " [1] 0.04 0.08 0.12 0.18 0.20 0.42 0.42 0.30 0.20 0.04\n",
       "\n",
       "$mids\n",
       " [1] -2.75 -2.25 -1.75 -1.25 -0.75 -0.25  0.25  0.75  1.25  1.75\n",
       "\n",
       "$xname\n",
       "[1] \"`#JL`$x\"\n",
       "\n",
       "$equidist\n",
       "[1] TRUE\n",
       "\n",
       "attr(,\"class\")\n",
       "[1] \"histogram\"\n"
      ]
     },
     "execution_count": 34,
     "metadata": {},
     "output_type": "execute_result"
    }
   ],
   "source": [
    "using RCall\n",
    "\n",
    "x = randn(100)\n",
    "\n",
    "R\"hist($x)\""
   ]
  },
  {
   "cell_type": "code",
   "execution_count": 35,
   "metadata": {
    "slideshow": {
     "slide_type": "slide"
    }
   },
   "outputs": [
    {
     "data": {
      "image/png": "[encoded data removed]"
     },
     "metadata": {},
     "output_type": "display_data"
    },
    {
     "data": {
      "text/plain": [
       "RObject{VecSxp}\n"
      ]
     },
     "execution_count": 35,
     "metadata": {},
     "output_type": "execute_result"
    },
    {
     "name": "stderr",
     "output_type": "stream",
     "text": [
      "┌ Warning: RCall.jl: `stat_bin()` using `bins = 30`. Pick better value with `binwidth`.\n",
      "└ @ RCall /Users/joshday/.julia/packages/RCall/Q4n8R/src/io.jl:110\n"
     ]
    }
   ],
   "source": [
    "R\"library(ggplot2); qplot($x)\""
   ]
  },
  {
   "cell_type": "markdown",
   "metadata": {
    "slideshow": {
     "slide_type": "slide"
    }
   },
   "source": [
    "## Python"
   ]
  },
  {
   "cell_type": "code",
   "execution_count": 36,
   "metadata": {
    "slideshow": {
     "slide_type": "-"
    }
   },
   "outputs": [
    {
     "data": {
      "text/plain": [
       "3×4 Array{Float64,2}:\n",
       " 0.211634  0.0867495  0.196341  0.292917\n",
       " 0.418094  0.629202   0.430701  0.958753\n",
       " 0.379004  0.701447   0.259894  0.548574"
      ]
     },
     "execution_count": 36,
     "metadata": {},
     "output_type": "execute_result"
    }
   ],
   "source": [
    "using PyCall\n",
    "\n",
    "@pyimport numpy.random as nr\n",
    "\n",
    "nr.rand(3, 4)"
   ]
  },
  {
   "cell_type": "markdown",
   "metadata": {},
   "source": [
    "# REPL Modes\n",
    "\n",
    "- Your first experience with Julia is probably through the REPL (read-eval-print-loop)\n",
    "\n",
    "There are several **REPL Modes** that can be activated by certain characters:\n",
    "\n",
    "- `?` (help)\n",
    "- `]` (package manager)\n",
    "- `;` (shell)\n",
    "- `$` (R via [RCall.jl](https://github.com/JuliaInterop/RCall.jl))"
   ]
  },
  {
   "cell_type": "markdown",
   "metadata": {},
   "source": [
    "# Linear Algebra\n",
    "\n",
    "- **I could do multiple lectures on numerical linear algebra in Julia.  It's fantastic.**\n",
    "- Call `BLAS` functions directly\n",
    "- In-place (mutating) operations lead to huge performance gains!\n",
    "- Types for storing matrix factorizations for quickly solving linear systems, etc."
   ]
  },
  {
   "cell_type": "code",
   "execution_count": 37,
   "metadata": {},
   "outputs": [],
   "source": [
    "using LinearAlgebra"
   ]
  },
  {
   "cell_type": "code",
   "execution_count": 38,
   "metadata": {},
   "outputs": [
    {
     "data": {
      "text/plain": [
       "LU{Float64,Array{Float64,2}}\n",
       "L factor:\n",
       "10×2 Array{Float64,2}:\n",
       "  1.0         0.0      \n",
       "  0.500978    1.0      \n",
       "  0.263843   -0.0334216\n",
       " -0.523558    0.0138241\n",
       "  0.65308     0.724802 \n",
       " -0.933983   -0.46915  \n",
       " -0.0811935  -0.303485 \n",
       "  0.462035    0.452718 \n",
       " -0.253607   -0.0825286\n",
       " -0.991092    0.264154 \n",
       "U factor:\n",
       "2×2 Array{Float64,2}:\n",
       " 1.09787  -0.0892731\n",
       " 0.0       1.91774  "
      ]
     },
     "execution_count": 38,
     "metadata": {},
     "output_type": "execute_result"
    }
   ],
   "source": [
    "x = randn(10, 2)\n",
    "\n",
    "lu(x)"
   ]
  },
  {
   "cell_type": "code",
   "execution_count": 39,
   "metadata": {},
   "outputs": [
    {
     "data": {
      "text/plain": [
       "Cholesky{Float64,Array{Float64,2}}\n",
       "U factor:\n",
       "2×2 UpperTriangular{Float64,Array{Float64,2}}:\n",
       " 2.23928  1.12426\n",
       "  ⋅       2.46813"
      ]
     },
     "execution_count": 39,
     "metadata": {},
     "output_type": "execute_result"
    }
   ],
   "source": [
    "c = cholesky(x'x)"
   ]
  },
  {
   "cell_type": "code",
   "execution_count": 40,
   "metadata": {},
   "outputs": [
    {
     "data": {
      "text/plain": [
       "2×2 Array{Float64,2}:\n",
       "  0.240805   -0.0824179\n",
       " -0.0824179   0.164159 "
      ]
     },
     "execution_count": 40,
     "metadata": {},
     "output_type": "execute_result"
    }
   ],
   "source": [
    "inv(c)  # You very rarely need to do this"
   ]
  },
  {
   "cell_type": "code",
   "execution_count": 41,
   "metadata": {},
   "outputs": [
    {
     "data": {
      "text/plain": [
       "SVD{Float64,Float64,Array{Float64,2}}([0.414109 0.230481; 0.0278723 0.670208; … ; 0.0882143 0.087642; -0.626315 0.294388], [2.99356, 1.84624], [-0.537757 -0.8431; -0.8431 0.537757])"
      ]
     },
     "execution_count": 41,
     "metadata": {},
     "output_type": "execute_result"
    }
   ],
   "source": [
    "svd(x)"
   ]
  },
  {
   "cell_type": "code",
   "execution_count": 42,
   "metadata": {},
   "outputs": [
    {
     "data": {
      "text/plain": [
       "Eigen{Float64,Float64,Array{Float64,2},Array{Float64,1}}\n",
       "eigenvalues:\n",
       "2-element Array{Float64,1}:\n",
       " 3.4086171993283347\n",
       " 8.961399619518117 \n",
       "eigenvectors:\n",
       "2×2 Array{Float64,2}:\n",
       " -0.8431    0.537757\n",
       "  0.537757  0.8431  "
      ]
     },
     "execution_count": 42,
     "metadata": {},
     "output_type": "execute_result"
    }
   ],
   "source": [
    "eigen(x'x)"
   ]
  }
 ],
 "metadata": {
  "kernelspec": {
   "display_name": "Julia 1.0.0",
   "language": "julia",
   "name": "julia-1.0"
  },
  "language_info": {
   "file_extension": ".jl",
   "mimetype": "application/julia",
   "name": "julia",
   "version": "1.0.0"
  }
 },
 "nbformat": 4,
 "nbformat_minor": 2
}
