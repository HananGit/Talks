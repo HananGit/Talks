{
 "cells": [
  {
   "cell_type": "markdown",
   "metadata": {},
   "source": [
    "# Find Packages?\n",
    "\n",
    "- [https://juliaobserver.com/](https://juliaobserver.com/)\n",
    "- Google"
   ]
  },
  {
   "cell_type": "markdown",
   "metadata": {},
   "source": [
    "# Install a Package?\n",
    "\n",
    "- `using Pkg` followed by `Pkg.add(\"...\")`\n",
    "- Access Pkg REPL mode via `]`"
   ]
  },
  {
   "cell_type": "markdown",
   "metadata": {},
   "source": [
    "# Load a Package?"
   ]
  },
  {
   "cell_type": "code",
   "execution_count": 1,
   "metadata": {},
   "outputs": [
    {
     "data": {
      "text/plain": [
       "Mean: n=10 | value=5.5"
      ]
     },
     "execution_count": 1,
     "metadata": {},
     "output_type": "execute_result"
    }
   ],
   "source": [
    "import OnlineStats # bring nothing into namespace\n",
    "\n",
    "OnlineStats.fit!(OnlineStats.Mean(), 1:10)"
   ]
  },
  {
   "cell_type": "code",
   "execution_count": 2,
   "metadata": {},
   "outputs": [
    {
     "data": {
      "text/plain": [
       "Mean: n=10 | value=5.5"
      ]
     },
     "execution_count": 2,
     "metadata": {},
     "output_type": "execute_result"
    }
   ],
   "source": [
    "using OnlineStats  # bring exported functions into namespace\n",
    "\n",
    "fit!(Mean(), 1:10)"
   ]
  },
  {
   "cell_type": "markdown",
   "metadata": {},
   "source": [
    "# Find Help?\n",
    "\n",
    "(roughly the order you should try)\n",
    "\n",
    "- `?` (help REPL mode) \n",
    "- [https://docs.julialang.org/en/](https://docs.julialang.org/en/)\n",
    "- [http://julialang.slack.com/](http://julialang.slack.com/)\n",
    "- [https://discourse.julialang.org](https://discourse.julialang.org)\n"
   ]
  },
  {
   "cell_type": "markdown",
   "metadata": {},
   "source": [
    "# Save and Load data?\n",
    "\n",
    "- Save as CSV (Super inefficient)"
   ]
  },
  {
   "cell_type": "code",
   "execution_count": 3,
   "metadata": {},
   "outputs": [],
   "source": [
    "using DelimitedFiles\n",
    "\n",
    "x = randn(2, 2)\n",
    "\n",
    "writedlm(\"temp.csv\", x, ',')"
   ]
  },
  {
   "cell_type": "code",
   "execution_count": 4,
   "metadata": {},
   "outputs": [
    {
     "data": {
      "text/plain": [
       "2×2 Array{Float64,2}:\n",
       " -1.59752   1.08454\n",
       "  0.481324  1.62425"
      ]
     },
     "execution_count": 4,
     "metadata": {},
     "output_type": "execute_result"
    }
   ],
   "source": [
    "readdlm(\"temp.csv\", ',')"
   ]
  },
  {
   "cell_type": "markdown",
   "metadata": {},
   "source": [
    "- Serialize/Deserialize (efficient)"
   ]
  },
  {
   "cell_type": "code",
   "execution_count": 5,
   "metadata": {},
   "outputs": [
    {
     "data": {
      "text/plain": [
       "2×2 Array{Float64,2}:\n",
       " -1.59752   1.08454\n",
       "  0.481324  1.62425"
      ]
     },
     "execution_count": 5,
     "metadata": {},
     "output_type": "execute_result"
    }
   ],
   "source": [
    "using Serialization\n",
    "\n",
    "open(touch(\"temp\"), \"w\") do io\n",
    "    serialize(io, x)\n",
    "end\n",
    "\n",
    "y = open(deserialize, \"temp\", \"r\")"
   ]
  },
  {
   "cell_type": "markdown",
   "metadata": {},
   "source": [
    "# Work with Tabular Data?\n",
    "\n",
    "- Use [**JuliaDB**](https://github.com/JuliaComputing/JuliaDB.jl)...which isn't ready for Julia 1.0 yet 😞\n",
    "    - Type stable operations\n",
    "    - Can work with data out-of-core (larger than memory)\n",
    "- Until it's updated, use [**DataFrames**](https://github.com/JuliaData/DataFrames.jl)"
   ]
  },
  {
   "cell_type": "code",
   "execution_count": 6,
   "metadata": {},
   "outputs": [
    {
     "data": {
      "text/html": [
       "<table class=\"data-frame\"><thead><tr><th></th><th>Column1</th><th>Column2</th></tr></thead><tbody><tr><th>1</th><td>-1.59752</td><td>1.08454</td></tr><tr><th>2</th><td>0.481324</td><td>1.62425</td></tr></tbody></table>"
      ],
      "text/plain": [
       "2×2 DataFrames.DataFrame\n",
       "│ Row │ Column1  │ Column2  │\n",
       "│     │ \u001b[90mFloat64⍰\u001b[39m │ \u001b[90mFloat64⍰\u001b[39m │\n",
       "├─────┼──────────┼──────────┤\n",
       "│ 1   │ -1.59752 │ 1.08454  │\n",
       "│ 2   │ 0.481324 │ 1.62425  │"
      ]
     },
     "execution_count": 6,
     "metadata": {},
     "output_type": "execute_result"
    }
   ],
   "source": [
    "using CSV  # Also loads DataFrames\n",
    "\n",
    "CSV.read(\"temp.csv\", header=false)"
   ]
  },
  {
   "cell_type": "markdown",
   "metadata": {},
   "source": [
    "# Run a Regression?\n",
    "\n",
    "- [GLM.jl](https://github.com/JuliaStats/GLM.jl)\n",
    "- [SparseRegression.jl](https://github.com/joshday/SparseRegression.jl)"
   ]
  },
  {
   "cell_type": "code",
   "execution_count": 7,
   "metadata": {},
   "outputs": [
    {
     "data": {
      "text/plain": [
       "LinearModel{LmResp{Array{Float64,1}},DensePredChol{Float64,LinearAlgebra.Cholesky{Float64,Array{Float64,2}}}}:\n",
       "\n",
       "Coefficients:\n",
       "     Estimate Std.Error t value Pr(>|t|)\n",
       "x1    1.00435  0.030864 32.5413   <1e-99\n",
       "x2    2.00777 0.0302242 66.4293   <1e-99\n",
       "x3    2.97062 0.0306885 96.7991   <1e-99\n",
       "x4    4.01402 0.0315404 127.266   <1e-99\n",
       "x5    5.00456 0.0315386  158.68   <1e-99\n",
       "x6    6.02633 0.0307176 196.185   <1e-99\n",
       "x7    6.98183 0.0305881 228.253   <1e-99\n",
       "x8    7.99273 0.0315579 253.272   <1e-99\n",
       "x9    8.96835 0.0314113 285.513   <1e-99\n",
       "x10   10.0225 0.0306084 327.443   <1e-99\n",
       "\n"
      ]
     },
     "execution_count": 7,
     "metadata": {},
     "output_type": "execute_result"
    }
   ],
   "source": [
    "using GLM\n",
    "\n",
    "x = randn(1000, 10)\n",
    "y = x * (1:10) + randn(1000)\n",
    "\n",
    "lm(x, y)"
   ]
  },
  {
   "cell_type": "code",
   "execution_count": 8,
   "metadata": {},
   "outputs": [
    {
     "name": "stderr",
     "output_type": "stream",
     "text": [
      "┌ Info: Sweep finished\n",
      "└ @ LearningStrategies /Users/joshday/.julia/packages/LearningStrategies/HcQtL/src/LearningStrategies.jl:151\n"
     ]
    },
    {
     "data": {
      "text/plain": [
       "SModel\n",
       "  > abs.(β)  : ▁▂▃▃▄▅▅▆▇▇\n",
       "  > λ factor : [0.1 0.1 … 0.1 0.1]\n",
       "  > Loss     : L2DistLoss\n",
       "  > Penalty  : NoPenalty\n",
       "  > Data\n",
       "    - x : 1000×10 Array{Float64,2}\n",
       "    - y : 1000-element Array{Float64,1}\n",
       "    - w : Nothing"
      ]
     },
     "execution_count": 8,
     "metadata": {},
     "output_type": "execute_result"
    }
   ],
   "source": [
    "using SparseRegression\n",
    "\n",
    "s = SModel(x, y, L2DistLoss(), NoPenalty())\n",
    "learn!(s)\n",
    "s"
   ]
  },
  {
   "cell_type": "code",
   "execution_count": 9,
   "metadata": {},
   "outputs": [
    {
     "data": {
      "text/plain": [
       "10-element Array{Float64,1}:\n",
       "  1.004354692897583 \n",
       "  2.0077707084315652\n",
       "  2.970619547186788 \n",
       "  4.014019126929158 \n",
       "  5.004556740590109 \n",
       "  6.026334439719998 \n",
       "  6.9818251908429145\n",
       "  7.992727653329022 \n",
       "  8.968348101909493 \n",
       " 10.022513089626534 "
      ]
     },
     "execution_count": 9,
     "metadata": {},
     "output_type": "execute_result"
    }
   ],
   "source": [
    "coef(s)"
   ]
  }
 ],
 "metadata": {
  "kernelspec": {
   "display_name": "Julia 1.0.0",
   "language": "julia",
   "name": "julia-1.0"
  },
  "language_info": {
   "file_extension": ".jl",
   "mimetype": "application/julia",
   "name": "julia",
   "version": "1.0.0"
  }
 },
 "nbformat": 4,
 "nbformat_minor": 2
}
