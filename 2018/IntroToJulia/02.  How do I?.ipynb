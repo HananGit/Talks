{
 "cells": [
  {
   "cell_type": "markdown",
   "metadata": {},
   "source": [
    "# Find Packages?\n",
    "\n",
    "- [https://juliaobserver.com/](https://juliaobserver.com/)\n",
    "- Google"
   ]
  },
  {
   "cell_type": "markdown",
   "metadata": {},
   "source": [
    "# Install a Package?\n",
    "\n",
    "- `using Pkg` followed by `Pkg.add(\"...\")`\n",
    "- Access Pkg REPL mode via `]`"
   ]
  },
  {
   "cell_type": "markdown",
   "metadata": {},
   "source": [
    "# Load a Package?"
   ]
  },
  {
   "cell_type": "code",
   "execution_count": 3,
   "metadata": {},
   "outputs": [
    {
     "data": {
      "text/plain": [
       "Mean: n=10 | value=5.5"
      ]
     },
     "execution_count": 3,
     "metadata": {},
     "output_type": "execute_result"
    }
   ],
   "source": [
    "import OnlineStats # bring nothing into namespace\n",
    "\n",
    "OnlineStats.fit!(OnlineStats.Mean(), 1:10)"
   ]
  },
  {
   "cell_type": "code",
   "execution_count": 4,
   "metadata": {},
   "outputs": [
    {
     "data": {
      "text/plain": [
       "Mean: n=10 | value=5.5"
      ]
     },
     "execution_count": 4,
     "metadata": {},
     "output_type": "execute_result"
    }
   ],
   "source": [
    "using OnlineStats  # bring exported functions into namespace\n",
    "\n",
    "fit!(Mean(), 1:10)"
   ]
  },
  {
   "cell_type": "markdown",
   "metadata": {},
   "source": [
    "# Find Help?\n",
    "\n",
    "(roughly the order you should try)\n",
    "\n",
    "- `?` (help REPL mode) \n",
    "- [https://docs.julialang.org/en/](https://docs.julialang.org/en/)\n",
    "- [http://julialang.slack.com/](http://julialang.slack.com/)\n",
    "- [https://discourse.julialang.org](https://discourse.julialang.org)\n"
   ]
  },
  {
   "cell_type": "markdown",
   "metadata": {},
   "source": [
    "# Save and Load data?\n",
    "\n",
    "- Save as CSV (Super inefficient)"
   ]
  },
  {
   "cell_type": "code",
   "execution_count": 8,
   "metadata": {},
   "outputs": [],
   "source": [
    "using DelimitedFiles\n",
    "\n",
    "x = randn(2, 2)\n",
    "\n",
    "writedlm(\"temp.csv\", x, ',')"
   ]
  },
  {
   "cell_type": "code",
   "execution_count": 11,
   "metadata": {},
   "outputs": [
    {
     "data": {
      "text/plain": [
       "2×2 Array{Float64,2}:\n",
       " -1.27558    -0.48719 \n",
       "  0.0488727  -0.402804"
      ]
     },
     "execution_count": 11,
     "metadata": {},
     "output_type": "execute_result"
    }
   ],
   "source": [
    "readdlm(\"temp.csv\", ',')"
   ]
  },
  {
   "cell_type": "markdown",
   "metadata": {},
   "source": [
    "- Serialize/Deserialize (efficient)"
   ]
  },
  {
   "cell_type": "code",
   "execution_count": 10,
   "metadata": {},
   "outputs": [
    {
     "data": {
      "text/plain": [
       "2×2 Array{Float64,2}:\n",
       " -1.27558    -0.48719 \n",
       "  0.0488727  -0.402804"
      ]
     },
     "execution_count": 10,
     "metadata": {},
     "output_type": "execute_result"
    }
   ],
   "source": [
    "using Serialization\n",
    "\n",
    "open(touch(\"temp\"), \"w\") do io\n",
    "    serialize(io, x)\n",
    "end\n",
    "\n",
    "y = open(deserialize, \"temp\", \"r\")"
   ]
  },
  {
   "cell_type": "markdown",
   "metadata": {},
   "source": [
    "# Work with Tabular Data?\n",
    "\n",
    "- Use **JuliaDB**...which isn't ready for Julia 1.0 yet 😞\n",
    "    - Type stable operations\n",
    "    - Can work with data out-of-core (larger than memory)\n",
    "- Until it's updated, use **DataFrames**"
   ]
  },
  {
   "cell_type": "code",
   "execution_count": 14,
   "metadata": {},
   "outputs": [
    {
     "data": {
      "text/html": [
       "<table class=\"data-frame\"><thead><tr><th></th><th>Column1</th><th>Column2</th></tr></thead><tbody><tr><th>1</th><td>-1.27558</td><td>-0.48719</td></tr><tr><th>2</th><td>0.0488727</td><td>-0.402804</td></tr></tbody></table>"
      ],
      "text/plain": [
       "2×2 DataFrames.DataFrame\n",
       "│ Row │ Column1   │ Column2   │\n",
       "│     │ \u001b[90mFloat64⍰\u001b[39m  │ \u001b[90mFloat64⍰\u001b[39m  │\n",
       "├─────┼───────────┼───────────┤\n",
       "│ 1   │ -1.27558  │ -0.48719  │\n",
       "│ 2   │ 0.0488727 │ -0.402804 │"
      ]
     },
     "execution_count": 14,
     "metadata": {},
     "output_type": "execute_result"
    }
   ],
   "source": [
    "using CSV  # Also loads DataFrames\n",
    "\n",
    "CSV.read(\"temp.csv\", header=false)"
   ]
  },
  {
   "cell_type": "markdown",
   "metadata": {},
   "source": [
    "# Run a Regression?"
   ]
  },
  {
   "cell_type": "code",
   "execution_count": 16,
   "metadata": {},
   "outputs": [
    {
     "data": {
      "text/plain": [
       "LinearModel{LmResp{Array{Float64,1}},DensePredChol{Float64,LinearAlgebra.Cholesky{Float64,Array{Float64,2}}}}:\n",
       "\n",
       "Coefficients:\n",
       "        Estimate Std.Error   t value Pr(>|t|)\n",
       "x1    -0.0287894 0.0304312 -0.946049   0.3444\n",
       "x2    0.00582576 0.0312108  0.186659   0.8520\n",
       "x3     0.0196215 0.0312664  0.627559   0.5304\n",
       "x4     0.0138451 0.0310414   0.44602   0.6557\n",
       "x5    -0.0596227 0.0298185  -1.99952   0.0458\n",
       "x6   -0.00609401 0.0316865 -0.192322   0.8475\n",
       "x7    -0.0290076 0.0307678 -0.942788   0.3460\n",
       "x8    -0.0105224 0.0321785 -0.327001   0.7437\n",
       "x9      0.015079 0.0302014  0.499282   0.6177\n",
       "x10   0.00471741 0.0307989  0.153168   0.8783\n",
       "\n"
      ]
     },
     "execution_count": 16,
     "metadata": {},
     "output_type": "execute_result"
    }
   ],
   "source": [
    "using GLM\n",
    "\n",
    "x, y = randn(1000, 10), randn(1000)\n",
    "\n",
    "lm(x, y)"
   ]
  }
 ],
 "metadata": {
  "kernelspec": {
   "display_name": "Julia 1.0.0",
   "language": "julia",
   "name": "julia-1.0"
  },
  "language_info": {
   "file_extension": ".jl",
   "mimetype": "application/julia",
   "name": "julia",
   "version": "1.0.0"
  }
 },
 "nbformat": 4,
 "nbformat_minor": 2
}
