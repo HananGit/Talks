{
 "cells": [
  {
   "cell_type": "markdown",
   "metadata": {
    "slideshow": {
     "slide_type": "slide"
    }
   },
   "source": [
    "# SparseRegression.jl\n",
    "\n",
    "### https://github.com/joshday/SparseRegression.jl\n",
    "\n",
    "- Josh Day (`@joshday`)\n",
    "- emailjoshday@gmail.com"
   ]
  },
  {
   "cell_type": "markdown",
   "metadata": {
    "slideshow": {
     "slide_type": "slide"
    }
   },
   "source": [
    "# A brief History of [JuliaML](https://github.com/JuliaML)\n",
    "\n",
    "- Created at last year's JuliaCon\n",
    "- A lot has happened since then\n",
    "    - LearnBase, LossFunctions, PenaltyFunctions, LearningStrategies, Transformations, MLDataUtils, Reinforce,..."
   ]
  },
  {
   "cell_type": "markdown",
   "metadata": {
    "slideshow": {
     "slide_type": "slide"
    }
   },
   "source": [
    "# SparseRegression\n",
    "SparseRegression uses primitives defined in the [JuliaML](https://github.com/JuliaML) ecosystem to implement high-performance algorithms for linear models.\n",
    "- [LossFunctions](https://github.com/JuliaML/LossFunctions.jl)\n",
    "- [PenaltyFunctions](https://github.com/JuliaML/PenaltyFunctions.jl)\n",
    "- [LearningStrategies](https://github.com/JuliaML/LearningStrategies.jl)"
   ]
  },
  {
   "cell_type": "markdown",
   "metadata": {
    "slideshow": {
     "slide_type": "slide"
    }
   },
   "source": [
    "# SparseRegression Model\n",
    "<img src=\"https://cloud.githubusercontent.com/assets/8075494/25072239/5d85db30-2297-11e7-817e-e7bebaf056cd.png\", width=600>"
   ]
  },
  {
   "cell_type": "markdown",
   "metadata": {
    "slideshow": {
     "slide_type": "slide"
    }
   },
   "source": [
    "# Loss + (Elementwise) Penalty\n",
    "Many models have this form\n",
    "- LASSO: Linear regression with an L1 penalty\n",
    "$$\n",
    "\\begin{aligned}\n",
    "f_i(\\beta) &= \\frac{1}{2}(y_i - x_i^T\\beta)^2 \\\\ J\\left(\\left|\\beta_j\\right|\\right) &= \\left|\\beta_j\\right|\n",
    "\\end{aligned}\n",
    "$$"
   ]
  },
  {
   "cell_type": "markdown",
   "metadata": {
    "slideshow": {
     "slide_type": "slide"
    }
   },
   "source": [
    "# LossFunctions\n",
    "\n",
    "Primary author : Evizero (Christof Stocker)"
   ]
  },
  {
   "cell_type": "markdown",
   "metadata": {
    "slideshow": {
     "slide_type": "slide"
    }
   },
   "source": [
    "### Distance - Based Losses $(y-yhat)$\n",
    "<img src=\"https://camo.githubusercontent.com/80ae72e5878d98aacb0eed6863958c02fd73b1b3/68747470733a2f2f7261776769746875622e636f6d2f4a756c69614d4c2f46696c6553746f726167652f6d61737465722f4c6f737346756e6374696f6e732f64697374616e63652e737667\">"
   ]
  },
  {
   "cell_type": "markdown",
   "metadata": {
    "slideshow": {
     "slide_type": "slide"
    }
   },
   "source": [
    "### Margin - Based Losses $(y * yhat)$\n",
    "<img src = \"https://camo.githubusercontent.com/80dc81d308845dd34ff70a953aafffb30b2c5c3a/68747470733a2f2f7261776769746875622e636f6d2f4a756c69614d4c2f46696c6553746f726167652f6d61737465722f4c6f737346756e6374696f6e732f6d617267696e2e737667\">"
   ]
  },
  {
   "cell_type": "markdown",
   "metadata": {
    "slideshow": {
     "slide_type": "slide"
    }
   },
   "source": [
    "# Penalty Functions\n",
    "\n",
    "Primary Author: joshday (me)\n",
    "\n",
    "### Element Penalties\n",
    "\n",
    "![](https://camo.githubusercontent.com/6e0b322991cdb606579e438d3868de0bdd06c7d0/68747470733a2f2f7261776769746875622e636f6d2f4a756c69614d4c2f46696c6553746f726167652f6d61737465722f50656e616c747946756e6374696f6e732f756e69766172696174652e737667)\n",
    "![](https://camo.githubusercontent.com/930d5222183e795190a19462eac381311c8db680/68747470733a2f2f7261776769746875622e636f6d2f4a756c69614d4c2f46696c6553746f726167652f6d61737465722f50656e616c747946756e6374696f6e732f6269766172696174652e737667)"
   ]
  },
  {
   "cell_type": "markdown",
   "metadata": {
    "slideshow": {
     "slide_type": "slide"
    }
   },
   "source": [
    "# Learning Strategies\n",
    "\n",
    "Primary Author: tbreloff (Tom Breloff)\n",
    "\n",
    "Unifying framework for strategies involved with iterative algorithms, including:\n",
    "\n",
    "- `MaxIter`, `TimeLimit`, `Converged`, ...\n",
    "- Now when I want to implement a new algorithm, **I don't need to include my usual boilerplate**"
   ]
  },
  {
   "cell_type": "markdown",
   "metadata": {
    "slideshow": {
     "slide_type": "slide"
    }
   },
   "source": [
    "```julia\n",
    "function learn!(model, strategies...)\n",
    "    pre_hook.(strategies, model)\n",
    "    i = 0\n",
    "    while true\n",
    "        i += 1\n",
    "        learn!.(model, strategies)\n",
    "        iter_hook.(strategies, model, i)\n",
    "        any(finished.(strategies, model, i)) && break\n",
    "    end\n",
    "    post_hook.(strategies, model)\n",
    "end\n",
    "```"
   ]
  },
  {
   "cell_type": "markdown",
   "metadata": {
    "slideshow": {
     "slide_type": "slide"
    }
   },
   "source": [
    "# Quick Example\n",
    "\n",
    "### The LASSO\n",
    "- `LinearRegression()`, which is alias for `scaled(L2DistLoss(), .5)`\n",
    "- `L1Penalty()`"
   ]
  },
  {
   "cell_type": "code",
   "execution_count": 1,
   "metadata": {},
   "outputs": [],
   "source": [
    "using SparseRegression, DataGenerator\n",
    "using Plots; gr()\n",
    "\n",
    "# Fake Data\n",
    "n, p = 10_000, 50\n",
    "x, y, β = linregdata(n, p);"
   ]
  },
  {
   "cell_type": "markdown",
   "metadata": {},
   "source": [
    "### Create the model\n",
    "\n",
    "- Observations (observation=row) are wrapped in `Obs` type\n",
    "- `Obs` is the only required argument\n",
    "- Order of arguments doesn't matter (and it's type stable!)\n",
    "- Possible arguments are\n",
    "    - `Loss`\n",
    "    - `Penalty`\n",
    "    - penalty factor `Vector{Float64}`"
   ]
  },
  {
   "cell_type": "code",
   "execution_count": 2,
   "metadata": {},
   "outputs": [
    {
     "data": {
      "text/plain": [
       "■ SparseReg\n",
       "  >           β:  [0.0 0.0 … 0.0 0.0]\n",
       "  >    λ factor:  [0.2 0.2 … 0.2 0.2]\n",
       "  >        Loss:  0.5 * (L2DistLoss)\n",
       "  >     Penalty:  L1Penalty\n"
      ]
     },
     "execution_count": 2,
     "metadata": {},
     "output_type": "execute_result"
    }
   ],
   "source": [
    "o = SparseReg(Obs(x, y), LinearRegression(), L1Penalty(), fill(.2, p))"
   ]
  },
  {
   "cell_type": "code",
   "execution_count": 3,
   "metadata": {},
   "outputs": [],
   "source": [
    "plot(o, ylim=(-1,1))\n",
    "png(\"plot1.png\")"
   ]
  },
  {
   "cell_type": "markdown",
   "metadata": {},
   "source": [
    "### \"Learn\" the Model\n",
    "- Using Proximal Gradient Method\n",
    "- Maximum iterations of 50\n",
    "- Criteria for convergence is `norm(coef(o) - old_coef) < 1e-6`"
   ]
  },
  {
   "cell_type": "code",
   "execution_count": 4,
   "metadata": {
    "slideshow": {
     "slide_type": "-"
    }
   },
   "outputs": [
    {
     "name": "stderr",
     "output_type": "stream",
     "text": [
      "\u001b[1m\u001b[36mINFO: \u001b[39m\u001b[22m\u001b[36mConverged after 8 iterations: [-0.795787, -0.751458, -0.710455, -0.643737, -0.664963, -0.586922, -0.533593, -0.515631, -0.432768, -0.460394, -0.416148, -0.357223, -0.312021, -0.284171, -0.2445, -0.20269, -0.151904, -0.0896865, -0.0823056, -0.043611, -0.0, -0.0, -0.0, -0.0, -0.0, 0.0, 0.0, 0.0, 0.0, 0.0, 0.00591399, 0.067068, 0.0823051, 0.136827, 0.190247, 0.279803, 0.233562, 0.31656, 0.350783, 0.389854, 0.446148, 0.453686, 0.508485, 0.586099, 0.606811, 0.62542, 0.651108, 0.733226, 0.778829, 0.804444]\n",
      "\u001b[39m"
     ]
    },
    {
     "data": {
      "text/plain": [
       "■ SparseReg\n",
       "  >           β:  [-0.795787 -0.751458 … 0.778829 0.804444]\n",
       "  >    λ factor:  [0.2 0.2 … 0.2 0.2]\n",
       "  >        Loss:  0.5 * (L2DistLoss)\n",
       "  >     Penalty:  L1Penalty\n"
      ]
     },
     "execution_count": 4,
     "metadata": {},
     "output_type": "execute_result"
    }
   ],
   "source": [
    "learn!(o, ProxGrad(), MaxIter(50), Converged(coef))"
   ]
  },
  {
   "cell_type": "code",
   "execution_count": 5,
   "metadata": {},
   "outputs": [],
   "source": [
    "plot(o)\n",
    "png(\"plot2.png\")"
   ]
  },
  {
   "cell_type": "code",
   "execution_count": 6,
   "metadata": {
    "slideshow": {
     "slide_type": "slide"
    }
   },
   "outputs": [],
   "source": [
    "scatter!(β, label = \"Truth\")\n",
    "png(\"plot3.png\")"
   ]
  },
  {
   "cell_type": "markdown",
   "metadata": {},
   "source": [
    "# Why *Sparse* Regression?\n",
    "\n",
    "As tuning parameter $\\lambda_j$ increases, $\\beta_j$ shrinks to 0"
   ]
  },
  {
   "cell_type": "code",
   "execution_count": 7,
   "metadata": {
    "scrolled": false
   },
   "outputs": [
    {
     "name": "stderr",
     "output_type": "stream",
     "text": [
      "\u001b[1m\u001b[36mINFO: \u001b[39m\u001b[22m\u001b[36mSaved animation to /Users/joshday/github/Talks/JuliaCon2017_SparseRegression/tmp.gif\n",
      "\u001b[39m"
     ]
    },
    {
     "data": {
      "text/html": [
       "<img src=\"tmp.gif?0.07477383882174049>\" />"
      ],
      "text/plain": [
       "Plots.AnimatedGif(\"/Users/joshday/github/Talks/JuliaCon2017_SparseRegression/tmp.gif\")"
      ]
     },
     "execution_count": 7,
     "metadata": {},
     "output_type": "execute_result"
    }
   ],
   "source": [
    "β = zeros(500)\n",
    "β[1] = β[100] = β[200] = β[300] = β[400] = β[500] = 1.0\n",
    "x, y, _ = linregdata(1000, 500; β = β)\n",
    "@gif for λ in 0:.001:0.1\n",
    "    o = SparseReg(Obs(x, y), L1Penalty(), fill(λ, 500))\n",
    "    learn!(o, ProxGrad(.5), MaxIter(50))\n",
    "    plot(o, ylim = (-.5, 1.3), g = coef(o) .== 0, xlab = \"hi\",\n",
    "        label = [\"nonzero\" \"zero\"], marker = (5, stroke(0)), \n",
    "        legend = :bottomright)\n",
    "end"
   ]
  },
  {
   "cell_type": "markdown",
   "metadata": {
    "slideshow": {
     "slide_type": "slide"
    }
   },
   "source": [
    "### Algorithms\n",
    "- `ProxGrad` (Proximal Gradient)\n",
    "- `Fista` (Accelerated Proximal Gradient)\n",
    "- `Sweep` (LinearRegression with NoPenalty or L1Penalty)\n",
    "- `GradientDescent`"
   ]
  },
  {
   "cell_type": "code",
   "execution_count": 8,
   "metadata": {
    "collapsed": true
   },
   "outputs": [],
   "source": [
    "using MultivariateStats, BenchmarkTools"
   ]
  },
  {
   "cell_type": "code",
   "execution_count": 9,
   "metadata": {},
   "outputs": [
    {
     "name": "stdout",
     "output_type": "stream",
     "text": [
      "  31.532 μs (26 allocations: 3.41 KiB)\n",
      "  29.021 μs (10 allocations: 1.42 KiB)\n"
     ]
    }
   ],
   "source": [
    "x, y, β = linregdata(1_000, 10)\n",
    "@btime learn!(SparseReg(Obs(x, y), NoPenalty()), Sweep())\n",
    "@btime llsq(x, y; bias=false);"
   ]
  },
  {
   "cell_type": "code",
   "execution_count": 10,
   "metadata": {},
   "outputs": [
    {
     "name": "stdout",
     "output_type": "stream",
     "text": [
      "  4.336 ms (28 allocations: 163.80 KiB)\n",
      "  3.836 ms (11 allocations: 80.19 KiB)\n"
     ]
    }
   ],
   "source": [
    "x, y, β = linregdata(10_000, 100)\n",
    "@btime learn!(SparseReg(Obs(x, y), NoPenalty()), Sweep())\n",
    "@btime llsq(x, y; bias=false);"
   ]
  },
  {
   "cell_type": "markdown",
   "metadata": {
    "slideshow": {
     "slide_type": "slide"
    }
   },
   "source": [
    "Essentially, all SparseRegression does is\n",
    "\n",
    "- Add a model type (`SparseReg`), and \n",
    "- New learning strategies (algorithms)\n",
    "\n",
    "to use with LearningStrategies"
   ]
  },
  {
   "cell_type": "markdown",
   "metadata": {},
   "source": [
    "# Solution Paths\n",
    "\n",
    "Slightly different parameterization of tuning parameter:\n",
    "$$\n",
    "... + \\alpha \\sum_j \\lambda_j J\\left(\\left|\\beta_j\\right|\\right)\n",
    "$$"
   ]
  },
  {
   "cell_type": "code",
   "execution_count": 11,
   "metadata": {},
   "outputs": [
    {
     "data": {
      "text/plain": [
       "■ SparseRegPath\n",
       "  >    λ factor:  [1.0, 1.0, 1.0, 1.0, 1.0]\n",
       "  >        Loss:  0.5 * (L2DistLoss)\n",
       "  >     Penalty:  L1Penalty\n",
       "  > β(0.00) : [0.0, 0.0, 0.0, 0.0, 0.0]\n",
       "  > β(0.05) : [0.0, 0.0, 0.0, 0.0, 0.0]\n",
       "  > β(0.10) : [0.0, 0.0, 0.0, 0.0, 0.0]\n",
       "  > β(0.15) : [0.0, 0.0, 0.0, 0.0, 0.0]\n",
       "  > β(0.20) : [0.0, 0.0, 0.0, 0.0, 0.0]\n",
       "  > β(0.25) : [0.0, 0.0, 0.0, 0.0, 0.0]\n",
       "  > β(0.30) : [0.0, 0.0, 0.0, 0.0, 0.0]\n",
       "  > β(0.35) : [0.0, 0.0, 0.0, 0.0, 0.0]\n",
       "  > β(0.40) : [0.0, 0.0, 0.0, 0.0, 0.0]\n",
       "  > β(0.45) : [0.0, 0.0, 0.0, 0.0, 0.0]\n",
       "  > β(0.50) : [0.0, 0.0, 0.0, 0.0, 0.0]\n",
       "  > β(0.55) : [0.0, 0.0, 0.0, 0.0, 0.0]\n",
       "  > β(0.60) : [0.0, 0.0, 0.0, 0.0, 0.0]\n",
       "  > β(0.65) : [0.0, 0.0, 0.0, 0.0, 0.0]\n",
       "  > β(0.70) : [0.0, 0.0, 0.0, 0.0, 0.0]\n",
       "  > β(0.75) : [0.0, 0.0, 0.0, 0.0, 0.0]\n",
       "  > β(0.80) : [0.0, 0.0, 0.0, 0.0, 0.0]\n",
       "  > β(0.85) : [0.0, 0.0, 0.0, 0.0, 0.0]\n",
       "  > β(0.90) : [0.0, 0.0, 0.0, 0.0, 0.0]\n",
       "  > β(0.95) : [0.0, 0.0, 0.0, 0.0, 0.0]\n",
       "  > β(1.00) : [0.0, 0.0, 0.0, 0.0, 0.0]\n"
      ]
     },
     "execution_count": 11,
     "metadata": {},
     "output_type": "execute_result"
    }
   ],
   "source": [
    "x, y, β = linregdata(1000, 5)\n",
    "\n",
    "# provide the λ_j's\n",
    "o = SparseReg(Obs(x, y), LinearRegression(), L1Penalty(), ones(5))\n",
    "\n",
    "# provide the α's for the path\n",
    "path = SparseRegPath(o, 0:.05:1)"
   ]
  },
  {
   "cell_type": "code",
   "execution_count": 12,
   "metadata": {},
   "outputs": [
    {
     "data": {
      "text/plain": [
       "■ SparseRegPath\n",
       "  >    λ factor:  [1.0, 1.0, 1.0, 1.0, 1.0]\n",
       "  >        Loss:  0.5 * (L2DistLoss)\n",
       "  >     Penalty:  L1Penalty\n",
       "  > β(0.00) : [-1.06909, -0.449434, 0.0300856, 0.537436, 1.03042]\n",
       "  > β(0.05) : [-1.02056, -0.398305, 0.0, 0.495178, 0.974834]\n",
       "  > β(0.10) : [-0.971135, -0.346901, 0.0, 0.451892, 0.918945]\n",
       "  > β(0.15) : [-0.921713, -0.295498, 0.0, 0.408605, 0.863057]\n",
       "  > β(0.20) : [-0.872291, -0.244094, 0.0, 0.365319, 0.807169]\n",
       "  > β(0.25) : [-0.822868, -0.192691, 0.0, 0.322032, 0.751281]\n",
       "  > β(0.30) : [-0.773446, -0.141287, 0.0, 0.278745, 0.695392]\n",
       "  > β(0.35) : [-0.724023, -0.0898839, 0.0, 0.235459, 0.639504]\n",
       "  > β(0.40) : [-0.674601, -0.0384805, 0.0, 0.192172, 0.583616]\n",
       "  > β(0.45) : [-0.625167, -0.0, 0.0, 0.148976, 0.527941]\n",
       "  > β(0.50) : [-0.575697, -0.0, 0.0, 0.106051, 0.472904]\n",
       "  > β(0.55) : [-0.526227, -0.0, 0.0, 0.0631258, 0.417867]\n",
       "  > β(0.60) : [-0.476756, -0.0, 0.0, 0.0202007, 0.362829]\n",
       "  > β(0.65) : [-0.425514, -0.0, 0.0, 0.0, 0.307566]\n",
       "  > β(0.70) : [-0.372697, -0.0, 0.0, 0.0, 0.252101]\n",
       "  > β(0.75) : [-0.31988, -0.0, 0.0, 0.0, 0.196636]\n",
       "  > β(0.80) : [-0.267063, -0.0, 0.0, 0.0, 0.141171]\n",
       "  > β(0.85) : [-0.214245, -0.0, 0.0, 0.0, 0.085706]\n",
       "  > β(0.90) : [-0.161428, -0.0, 0.0, 0.0, 0.0302411]\n",
       "  > β(0.95) : [-0.111207, -0.0, 0.0, 0.0, 0.0]\n",
       "  > β(1.00) : [-0.0640974, -0.0, 0.0, 0.0, 0.0]\n"
      ]
     },
     "execution_count": 12,
     "metadata": {},
     "output_type": "execute_result"
    }
   ],
   "source": [
    "learn!(path, ProxGrad(.5), MaxIter(30))"
   ]
  },
  {
   "cell_type": "code",
   "execution_count": 13,
   "metadata": {},
   "outputs": [
    {
     "data": {
      "text/html": [
       "<?xml version=\"1.0\" encoding=\"utf-8\"?>\n",
       "<svg xmlns=\"http://www.w3.org/2000/svg\" xmlns:xlink=\"http://www.w3.org/1999/xlink\" width=\"600\" height=\"400\" viewBox=\"0 0 600 400\">\n",
       "<defs>\n",
       "  <clipPath id=\"clip00\">\n",
       "    <rect x=\"0\" y=\"0\" width=\"600\" height=\"400\"/>\n",
       "  </clipPath>\n",
       "</defs>\n",
       "<polygon clip-path=\"url(#clip00)\" points=\"\n",
       "0,400 600,400 600,0 0,0 \n",
       "  \" fill=\"#ffffff\" fill-opacity=\"1\"/>\n",
       "<defs>\n",
       "  <clipPath id=\"clip01\">\n",
       "    <rect x=\"120\" y=\"0\" width=\"421\" height=\"400\"/>\n",
       "  </clipPath>\n",
       "</defs>\n",
       "<polygon clip-path=\"url(#clip00)\" points=\"\n",
       "39.3701,368.504 592.126,368.504 592.126,7.87402 39.3701,7.87402 \n",
       "  \" fill=\"#ffffff\" fill-opacity=\"1\"/>\n",
       "<defs>\n",
       "  <clipPath id=\"clip02\">\n",
       "    <rect x=\"39\" y=\"7\" width=\"553\" height=\"361\"/>\n",
       "  </clipPath>\n",
       "</defs>\n",
       "<polyline clip-path=\"url(#clip02)\" style=\"stroke:#000000; stroke-width:1; stroke-opacity:0.5; fill:none\" stroke-dasharray=\"1, 2\" points=\"\n",
       "  39.3701,363.094 39.3701,13.2835 \n",
       "  \"/>\n",
       "<polyline clip-path=\"url(#clip02)\" style=\"stroke:#000000; stroke-width:1; stroke-opacity:0.5; fill:none\" stroke-dasharray=\"1, 2\" points=\"\n",
       "  149.921,363.094 149.921,13.2835 \n",
       "  \"/>\n",
       "<polyline clip-path=\"url(#clip02)\" style=\"stroke:#000000; stroke-width:1; stroke-opacity:0.5; fill:none\" stroke-dasharray=\"1, 2\" points=\"\n",
       "  260.472,363.094 260.472,13.2835 \n",
       "  \"/>\n",
       "<polyline clip-path=\"url(#clip02)\" style=\"stroke:#000000; stroke-width:1; stroke-opacity:0.5; fill:none\" stroke-dasharray=\"1, 2\" points=\"\n",
       "  371.024,363.094 371.024,13.2835 \n",
       "  \"/>\n",
       "<polyline clip-path=\"url(#clip02)\" style=\"stroke:#000000; stroke-width:1; stroke-opacity:0.5; fill:none\" stroke-dasharray=\"1, 2\" points=\"\n",
       "  481.575,363.094 481.575,13.2835 \n",
       "  \"/>\n",
       "<polyline clip-path=\"url(#clip02)\" style=\"stroke:#000000; stroke-width:1; stroke-opacity:0.5; fill:none\" stroke-dasharray=\"1, 2\" points=\"\n",
       "  592.126,363.094 592.126,13.2835 \n",
       "  \"/>\n",
       "<polyline clip-path=\"url(#clip02)\" style=\"stroke:#000000; stroke-width:1; stroke-opacity:0.5; fill:none\" stroke-dasharray=\"1, 2\" points=\"\n",
       "  47.6614,356.636 583.835,356.636 \n",
       "  \"/>\n",
       "<polyline clip-path=\"url(#clip02)\" style=\"stroke:#000000; stroke-width:1; stroke-opacity:0.5; fill:none\" stroke-dasharray=\"1, 2\" points=\"\n",
       "  47.6614,184.867 583.835,184.867 \n",
       "  \"/>\n",
       "<polyline clip-path=\"url(#clip02)\" style=\"stroke:#000000; stroke-width:1; stroke-opacity:0.5; fill:none\" stroke-dasharray=\"1, 2\" points=\"\n",
       "  47.6614,13.0985 583.835,13.0985 \n",
       "  \"/>\n",
       "<polyline clip-path=\"url(#clip00)\" style=\"stroke:#000000; stroke-width:1; stroke-opacity:1; fill:none\" points=\"\n",
       "  39.3701,368.504 592.126,368.504 \n",
       "  \"/>\n",
       "<polyline clip-path=\"url(#clip00)\" style=\"stroke:#000000; stroke-width:1; stroke-opacity:1; fill:none\" points=\"\n",
       "  39.3701,368.504 39.3701,363.094 \n",
       "  \"/>\n",
       "<polyline clip-path=\"url(#clip00)\" style=\"stroke:#000000; stroke-width:1; stroke-opacity:1; fill:none\" points=\"\n",
       "  149.921,368.504 149.921,363.094 \n",
       "  \"/>\n",
       "<polyline clip-path=\"url(#clip00)\" style=\"stroke:#000000; stroke-width:1; stroke-opacity:1; fill:none\" points=\"\n",
       "  260.472,368.504 260.472,363.094 \n",
       "  \"/>\n",
       "<polyline clip-path=\"url(#clip00)\" style=\"stroke:#000000; stroke-width:1; stroke-opacity:1; fill:none\" points=\"\n",
       "  371.024,368.504 371.024,363.094 \n",
       "  \"/>\n",
       "<polyline clip-path=\"url(#clip00)\" style=\"stroke:#000000; stroke-width:1; stroke-opacity:1; fill:none\" points=\"\n",
       "  481.575,368.504 481.575,363.094 \n",
       "  \"/>\n",
       "<polyline clip-path=\"url(#clip00)\" style=\"stroke:#000000; stroke-width:1; stroke-opacity:1; fill:none\" points=\"\n",
       "  592.126,368.504 592.126,363.094 \n",
       "  \"/>\n",
       "<polyline clip-path=\"url(#clip00)\" style=\"stroke:#000000; stroke-width:1; stroke-opacity:1; fill:none\" points=\"\n",
       "  39.3701,368.504 39.3701,7.87402 \n",
       "  \"/>\n",
       "<polyline clip-path=\"url(#clip00)\" style=\"stroke:#000000; stroke-width:1; stroke-opacity:1; fill:none\" points=\"\n",
       "  39.3701,356.636 47.6614,356.636 \n",
       "  \"/>\n",
       "<polyline clip-path=\"url(#clip00)\" style=\"stroke:#000000; stroke-width:1; stroke-opacity:1; fill:none\" points=\"\n",
       "  39.3701,184.867 47.6614,184.867 \n",
       "  \"/>\n",
       "<polyline clip-path=\"url(#clip00)\" style=\"stroke:#000000; stroke-width:1; stroke-opacity:1; fill:none\" points=\"\n",
       "  39.3701,13.0985 47.6614,13.0985 \n",
       "  \"/>\n",
       "<g clip-path=\"url(#clip00)\">\n",
       "<text style=\"fill:#000000; fill-opacity:1; font-family:Arial,Helvetica Neue,Helvetica,sans-serif; font-size:12; text-anchor:middle;\" transform=\"rotate(0, 39.3701, 382.304)\" x=\"39.3701\" y=\"382.304\">0.0</text>\n",
       "</g>\n",
       "<g clip-path=\"url(#clip00)\">\n",
       "<text style=\"fill:#000000; fill-opacity:1; font-family:Arial,Helvetica Neue,Helvetica,sans-serif; font-size:12; text-anchor:middle;\" transform=\"rotate(0, 149.921, 382.304)\" x=\"149.921\" y=\"382.304\">0.2</text>\n",
       "</g>\n",
       "<g clip-path=\"url(#clip00)\">\n",
       "<text style=\"fill:#000000; fill-opacity:1; font-family:Arial,Helvetica Neue,Helvetica,sans-serif; font-size:12; text-anchor:middle;\" transform=\"rotate(0, 260.472, 382.304)\" x=\"260.472\" y=\"382.304\">0.4</text>\n",
       "</g>\n",
       "<g clip-path=\"url(#clip00)\">\n",
       "<text style=\"fill:#000000; fill-opacity:1; font-family:Arial,Helvetica Neue,Helvetica,sans-serif; font-size:12; text-anchor:middle;\" transform=\"rotate(0, 371.024, 382.304)\" x=\"371.024\" y=\"382.304\">0.6</text>\n",
       "</g>\n",
       "<g clip-path=\"url(#clip00)\">\n",
       "<text style=\"fill:#000000; fill-opacity:1; font-family:Arial,Helvetica Neue,Helvetica,sans-serif; font-size:12; text-anchor:middle;\" transform=\"rotate(0, 481.575, 382.304)\" x=\"481.575\" y=\"382.304\">0.8</text>\n",
       "</g>\n",
       "<g clip-path=\"url(#clip00)\">\n",
       "<text style=\"fill:#000000; fill-opacity:1; font-family:Arial,Helvetica Neue,Helvetica,sans-serif; font-size:12; text-anchor:middle;\" transform=\"rotate(0, 592.126, 382.304)\" x=\"592.126\" y=\"382.304\">1.0</text>\n",
       "</g>\n",
       "<g clip-path=\"url(#clip00)\">\n",
       "<text style=\"fill:#000000; fill-opacity:1; font-family:Arial,Helvetica Neue,Helvetica,sans-serif; font-size:12; text-anchor:end;\" transform=\"rotate(0, 33.3701, 361.136)\" x=\"33.3701\" y=\"361.136\">-1</text>\n",
       "</g>\n",
       "<g clip-path=\"url(#clip00)\">\n",
       "<text style=\"fill:#000000; fill-opacity:1; font-family:Arial,Helvetica Neue,Helvetica,sans-serif; font-size:12; text-anchor:end;\" transform=\"rotate(0, 33.3701, 189.367)\" x=\"33.3701\" y=\"189.367\">0</text>\n",
       "</g>\n",
       "<g clip-path=\"url(#clip00)\">\n",
       "<text style=\"fill:#000000; fill-opacity:1; font-family:Arial,Helvetica Neue,Helvetica,sans-serif; font-size:12; text-anchor:end;\" transform=\"rotate(0, 33.3701, 17.5985)\" x=\"33.3701\" y=\"17.5985\">1</text>\n",
       "</g>\n",
       "<g clip-path=\"url(#clip00)\">\n",
       "<text style=\"fill:#000000; fill-opacity:1; font-family:Arial,Helvetica Neue,Helvetica,sans-serif; font-size:16; text-anchor:middle;\" transform=\"rotate(0, 315.748, 397.6)\" x=\"315.748\" y=\"397.6\">lambda</text>\n",
       "</g>\n",
       "<polyline clip-path=\"url(#clip02)\" style=\"stroke:#009af9; stroke-width:3; stroke-opacity:1; fill:none\" points=\"\n",
       "  39.3701,368.504 67.0079,360.167 94.6457,351.678 122.283,343.188 149.921,334.699 177.559,326.21 205.197,317.721 232.835,309.232 260.472,300.742 288.11,292.251 \n",
       "  315.748,283.754 343.386,275.256 371.024,266.759 398.661,257.957 426.299,248.885 453.937,239.812 481.575,230.74 509.213,221.668 536.85,212.595 564.488,203.969 \n",
       "  592.126,195.877 \n",
       "  \"/>\n",
       "<polyline clip-path=\"url(#clip02)\" style=\"stroke:#e26f46; stroke-width:3; stroke-opacity:1; fill:none\" points=\"\n",
       "  39.3701,262.066 67.0079,253.283 94.6457,244.454 122.283,235.624 149.921,226.795 177.559,217.965 205.197,209.136 232.835,200.306 260.472,191.477 288.11,184.867 \n",
       "  315.748,184.867 343.386,184.867 371.024,184.867 398.661,184.867 426.299,184.867 453.937,184.867 481.575,184.867 509.213,184.867 536.85,184.867 564.488,184.867 \n",
       "  592.126,184.867 \n",
       "  \"/>\n",
       "<polyline clip-path=\"url(#clip02)\" style=\"stroke:#3da44d; stroke-width:3; stroke-opacity:1; fill:none\" points=\"\n",
       "  39.3701,179.699 67.0079,184.867 94.6457,184.867 122.283,184.867 149.921,184.867 177.559,184.867 205.197,184.867 232.835,184.867 260.472,184.867 288.11,184.867 \n",
       "  315.748,184.867 343.386,184.867 371.024,184.867 398.661,184.867 426.299,184.867 453.937,184.867 481.575,184.867 509.213,184.867 536.85,184.867 564.488,184.867 \n",
       "  592.126,184.867 \n",
       "  \"/>\n",
       "<polyline clip-path=\"url(#clip02)\" style=\"stroke:#c271d2; stroke-width:3; stroke-opacity:1; fill:none\" points=\"\n",
       "  39.3701,92.5525 67.0079,99.811 94.6457,107.246 122.283,114.682 149.921,122.117 177.559,129.552 205.197,136.987 232.835,144.423 260.472,151.858 288.11,159.278 \n",
       "  315.748,166.651 343.386,174.024 371.024,181.397 398.661,184.867 426.299,184.867 453.937,184.867 481.575,184.867 509.213,184.867 536.85,184.867 564.488,184.867 \n",
       "  592.126,184.867 \n",
       "  \"/>\n",
       "<polyline clip-path=\"url(#clip02)\" style=\"stroke:#ac8d18; stroke-width:3; stroke-opacity:1; fill:none\" points=\"\n",
       "  39.3701,7.87402 67.0079,17.4213 94.6457,27.0212 122.283,36.621 149.921,46.2209 177.559,55.8207 205.197,65.4206 232.835,75.0204 260.472,84.6203 288.11,94.1834 \n",
       "  315.748,103.637 343.386,113.091 371.024,122.544 398.661,132.037 426.299,141.564 453.937,151.091 481.575,160.618 509.213,170.145 536.85,179.673 564.488,184.867 \n",
       "  592.126,184.867 \n",
       "  \"/>\n",
       "<polygon clip-path=\"url(#clip00)\" points=\"\n",
       "441.32,119.474 574.126,119.474 574.126,28.754 441.32,28.754 \n",
       "  \" fill=\"#ffffff\" fill-opacity=\"1\"/>\n",
       "<polyline clip-path=\"url(#clip00)\" style=\"stroke:#000000; stroke-width:1; stroke-opacity:1; fill:none\" points=\"\n",
       "  441.32,119.474 574.126,119.474 574.126,28.754 441.32,28.754 441.32,119.474 \n",
       "  \"/>\n",
       "<polyline clip-path=\"url(#clip00)\" style=\"stroke:#009af9; stroke-width:3; stroke-opacity:1; fill:none\" points=\"\n",
       "  447.32,43.874 483.32,43.874 \n",
       "  \"/>\n",
       "<g clip-path=\"url(#clip00)\">\n",
       "<text style=\"fill:#000000; fill-opacity:1; font-family:Arial,Helvetica Neue,Helvetica,sans-serif; font-size:12; text-anchor:start;\" transform=\"rotate(0, 489.32, 48.374)\" x=\"489.32\" y=\"48.374\">factor[1] = 1.0</text>\n",
       "</g>\n",
       "<polyline clip-path=\"url(#clip00)\" style=\"stroke:#e26f46; stroke-width:3; stroke-opacity:1; fill:none\" points=\"\n",
       "  447.32,58.994 483.32,58.994 \n",
       "  \"/>\n",
       "<g clip-path=\"url(#clip00)\">\n",
       "<text style=\"fill:#000000; fill-opacity:1; font-family:Arial,Helvetica Neue,Helvetica,sans-serif; font-size:12; text-anchor:start;\" transform=\"rotate(0, 489.32, 63.494)\" x=\"489.32\" y=\"63.494\">factor[2] = 1.0</text>\n",
       "</g>\n",
       "<polyline clip-path=\"url(#clip00)\" style=\"stroke:#3da44d; stroke-width:3; stroke-opacity:1; fill:none\" points=\"\n",
       "  447.32,74.114 483.32,74.114 \n",
       "  \"/>\n",
       "<g clip-path=\"url(#clip00)\">\n",
       "<text style=\"fill:#000000; fill-opacity:1; font-family:Arial,Helvetica Neue,Helvetica,sans-serif; font-size:12; text-anchor:start;\" transform=\"rotate(0, 489.32, 78.614)\" x=\"489.32\" y=\"78.614\">factor[3] = 1.0</text>\n",
       "</g>\n",
       "<polyline clip-path=\"url(#clip00)\" style=\"stroke:#c271d2; stroke-width:3; stroke-opacity:1; fill:none\" points=\"\n",
       "  447.32,89.234 483.32,89.234 \n",
       "  \"/>\n",
       "<g clip-path=\"url(#clip00)\">\n",
       "<text style=\"fill:#000000; fill-opacity:1; font-family:Arial,Helvetica Neue,Helvetica,sans-serif; font-size:12; text-anchor:start;\" transform=\"rotate(0, 489.32, 93.734)\" x=\"489.32\" y=\"93.734\">factor[4] = 1.0</text>\n",
       "</g>\n",
       "<polyline clip-path=\"url(#clip00)\" style=\"stroke:#ac8d18; stroke-width:3; stroke-opacity:1; fill:none\" points=\"\n",
       "  447.32,104.354 483.32,104.354 \n",
       "  \"/>\n",
       "<g clip-path=\"url(#clip00)\">\n",
       "<text style=\"fill:#000000; fill-opacity:1; font-family:Arial,Helvetica Neue,Helvetica,sans-serif; font-size:12; text-anchor:start;\" transform=\"rotate(0, 489.32, 108.854)\" x=\"489.32\" y=\"108.854\">factor[5] = 1.0</text>\n",
       "</g>\n",
       "</svg>\n"
      ]
     },
     "execution_count": 13,
     "metadata": {},
     "output_type": "execute_result"
    }
   ],
   "source": [
    "plot(path, w=3)"
   ]
  }
 ],
 "metadata": {
  "kernelspec": {
   "display_name": "Julia 0.6.1-pre",
   "language": "julia",
   "name": "julia-0.6"
  },
  "language_info": {
   "file_extension": ".jl",
   "mimetype": "application/julia",
   "name": "julia",
   "version": "0.6.1"
  }
 },
 "nbformat": 4,
 "nbformat_minor": 2
}
