{
 "cells": [
  {
   "cell_type": "markdown",
   "metadata": {},
   "source": [
    "# Distributed Tables\n",
    "\n",
    "### Running JuliaDB in parallel is available at the \"flick of a switch\":"
   ]
  },
  {
   "cell_type": "code",
   "execution_count": 1,
   "metadata": {},
   "outputs": [
    {
     "data": {
      "text/plain": [
       "8-element Array{Int64,1}:\n",
       " 2\n",
       " 3\n",
       " 4\n",
       " 5\n",
       " 6\n",
       " 7\n",
       " 8\n",
       " 9"
      ]
     },
     "execution_count": 1,
     "metadata": {},
     "output_type": "execute_result"
    }
   ],
   "source": [
    "addprocs()"
   ]
  },
  {
   "cell_type": "code",
   "execution_count": 2,
   "metadata": {},
   "outputs": [],
   "source": [
    "using JuliaDB, OnlineStats"
   ]
  },
  {
   "cell_type": "markdown",
   "metadata": {},
   "source": [
    "### After `addprocs`, `loadtable` produces a DTable"
   ]
  },
  {
   "cell_type": "code",
   "execution_count": 3,
   "metadata": {},
   "outputs": [
    {
     "data": {
      "text/plain": [
       "Distributed Table with 56023 rows in 8 chunks:\n",
       "\u001b[1mTicker         \u001b[22m\u001b[1mDate        \u001b[22mOpen     High     Low      Close    Volume\n",
       "────────────────────────────────────────────────────────────────────────\n",
       "\"aapl.us.txt\"  1984-09-07  0.42388  0.42902  0.41874  0.42388  23220030\n",
       "\"aapl.us.txt\"  1984-09-10  0.42388  0.42516  0.41366  0.42134  18022532\n",
       "\"aapl.us.txt\"  1984-09-11  0.42516  0.43668  0.42516  0.42902  42498199\n",
       "\"aapl.us.txt\"  1984-09-12  0.42902  0.43157  0.41618  0.41618  37125801\n",
       "\"aapl.us.txt\"  1984-09-13  0.43927  0.44052  0.43927  0.43927  57822062\n",
       "\"aapl.us.txt\"  1984-09-14  0.44052  0.45589  0.44052  0.44566  68847968\n",
       "\"aapl.us.txt\"  1984-09-17  0.45718  0.46357  0.45718  0.45718  53755262\n",
       "\"aapl.us.txt\"  1984-09-18  0.45718  0.46103  0.44052  0.44052  27136886\n",
       "\"aapl.us.txt\"  1984-09-19  0.44052  0.44566  0.43157  0.43157  29641922\n",
       "\"aapl.us.txt\"  1984-09-20  0.43286  0.43668  0.43286  0.43286  18453585\n",
       "\"aapl.us.txt\"  1984-09-21  0.43286  0.44566  0.42388  0.42902  27842780\n",
       "\"aapl.us.txt\"  1984-09-24  0.42902  0.43157  0.42516  0.42516  22033109\n",
       "\"aapl.us.txt\"  1984-09-25  0.42388  0.42388  0.41618  0.41618  46515020\n",
       "\"aapl.us.txt\"  1984-09-26  0.41618  0.4354   0.41111  0.41111  30947546\n",
       "\"aapl.us.txt\"  1984-09-27  0.41111  0.41366  0.41111  0.41111  29541971\n",
       "\"aapl.us.txt\"  1984-09-28  0.41111  0.41111  0.39316  0.40081  65093531\n",
       "\"aapl.us.txt\"  1984-10-01  0.39956  0.39956  0.39186  0.39186  27268068\n",
       "\"aapl.us.txt\"  1984-10-02  0.39443  0.40853  0.39443  0.39443  32977801\n",
       "\"aapl.us.txt\"  1984-10-03  0.40081  0.40724  0.40081  0.40081  33583772\n",
       "\"aapl.us.txt\"  1984-10-04  0.40593  0.40853  0.40593  0.40593  34995586\n",
       "\"aapl.us.txt\"  1984-10-05  0.40593  0.40593  0.39443  0.39699  27211851\n",
       "\"aapl.us.txt\"  1984-10-08  0.39699  0.39956  0.39699  0.39699  13099922\n",
       "\"aapl.us.txt\"  1984-10-09  0.39699  0.39956  0.39316  0.39316  34933112\n",
       "\"aapl.us.txt\"  1984-10-10  0.39316  0.39316  0.38164  0.38164  101750813\n",
       "⋮"
      ]
     },
     "execution_count": 3,
     "metadata": {},
     "output_type": "execute_result"
    }
   ],
   "source": [
    "t = loadtable(\"stocks\"; filenamecol = :Ticker, datacols = 3:7, indexcols=1:2)"
   ]
  },
  {
   "cell_type": "markdown",
   "metadata": {},
   "source": [
    "### Everything still works, but operations that returned a Table now return a DTable"
   ]
  },
  {
   "cell_type": "code",
   "execution_count": 23,
   "metadata": {},
   "outputs": [
    {
     "data": {
      "text/plain": [
       "Distributed Table with 8 rows in 8 chunks:\n",
       "\u001b[1mTicker          \u001b[22mMean\n",
       "─────────────────────────────────────────────\n",
       "\"aapl.us.txt\"   Mean: n=8364 | value=106.642\n",
       "\"amzn.us.txt\"   Mean: n=5153 | value=7.83732\n",
       "\"dis.us.txt\"    Mean: n=12072 | value=7.10866\n",
       "\"googl.us.txt\"  Mean: n=3333 | value=7.95173\n",
       "\"ibm.us.txt\"    Mean: n=14059 | value=5.78297\n",
       "\"msft.us.txt\"   Mean: n=7983 | value=79.458\n",
       "\"nflx.us.txt\"   Mean: n=3201 | value=19.5311\n",
       "\"tsla.us.txt\"   Mean: n=1858 | value=4.41651"
      ]
     },
     "execution_count": 23,
     "metadata": {},
     "output_type": "execute_result"
    }
   ],
   "source": [
    "groupreduce(Mean(), t, :Ticker, select = :Volume => x -> x / 10^6)"
   ]
  },
  {
   "cell_type": "markdown",
   "metadata": {},
   "source": [
    "# Now let's save the table to disk"
   ]
  },
  {
   "cell_type": "code",
   "execution_count": 24,
   "metadata": {},
   "outputs": [
    {
     "data": {
      "text/plain": [
       "Distributed Table with 56023 rows in 8 chunks:\n",
       "\u001b[1mTicker         \u001b[22m\u001b[1mDate        \u001b[22mOpen     High     Low      Close    Volume\n",
       "────────────────────────────────────────────────────────────────────────\n",
       "\"aapl.us.txt\"  1984-09-07  0.42388  0.42902  0.41874  0.42388  23220030\n",
       "\"aapl.us.txt\"  1984-09-10  0.42388  0.42516  0.41366  0.42134  18022532\n",
       "\"aapl.us.txt\"  1984-09-11  0.42516  0.43668  0.42516  0.42902  42498199\n",
       "\"aapl.us.txt\"  1984-09-12  0.42902  0.43157  0.41618  0.41618  37125801\n",
       "\"aapl.us.txt\"  1984-09-13  0.43927  0.44052  0.43927  0.43927  57822062\n",
       "\"aapl.us.txt\"  1984-09-14  0.44052  0.45589  0.44052  0.44566  68847968\n",
       "\"aapl.us.txt\"  1984-09-17  0.45718  0.46357  0.45718  0.45718  53755262\n",
       "\"aapl.us.txt\"  1984-09-18  0.45718  0.46103  0.44052  0.44052  27136886\n",
       "\"aapl.us.txt\"  1984-09-19  0.44052  0.44566  0.43157  0.43157  29641922\n",
       "\"aapl.us.txt\"  1984-09-20  0.43286  0.43668  0.43286  0.43286  18453585\n",
       "\"aapl.us.txt\"  1984-09-21  0.43286  0.44566  0.42388  0.42902  27842780\n",
       "\"aapl.us.txt\"  1984-09-24  0.42902  0.43157  0.42516  0.42516  22033109\n",
       "\"aapl.us.txt\"  1984-09-25  0.42388  0.42388  0.41618  0.41618  46515020\n",
       "\"aapl.us.txt\"  1984-09-26  0.41618  0.4354   0.41111  0.41111  30947546\n",
       "\"aapl.us.txt\"  1984-09-27  0.41111  0.41366  0.41111  0.41111  29541971\n",
       "\"aapl.us.txt\"  1984-09-28  0.41111  0.41111  0.39316  0.40081  65093531\n",
       "\"aapl.us.txt\"  1984-10-01  0.39956  0.39956  0.39186  0.39186  27268068\n",
       "\"aapl.us.txt\"  1984-10-02  0.39443  0.40853  0.39443  0.39443  32977801\n",
       "\"aapl.us.txt\"  1984-10-03  0.40081  0.40724  0.40081  0.40081  33583772\n",
       "\"aapl.us.txt\"  1984-10-04  0.40593  0.40853  0.40593  0.40593  34995586\n",
       "\"aapl.us.txt\"  1984-10-05  0.40593  0.40593  0.39443  0.39699  27211851\n",
       "\"aapl.us.txt\"  1984-10-08  0.39699  0.39956  0.39699  0.39699  13099922\n",
       "\"aapl.us.txt\"  1984-10-09  0.39699  0.39956  0.39316  0.39316  34933112\n",
       "\"aapl.us.txt\"  1984-10-10  0.39316  0.39316  0.38164  0.38164  101750813\n",
       "⋮"
      ]
     },
     "execution_count": 24,
     "metadata": {},
     "output_type": "execute_result"
    }
   ],
   "source": [
    "save(t, \"stocks/stocks.jdb\")"
   ]
  }
 ],
 "metadata": {
  "kernelspec": {
   "display_name": "Julia 0.6.2-pre",
   "language": "julia",
   "name": "julia-0.6"
  },
  "language_info": {
   "file_extension": ".jl",
   "mimetype": "application/julia",
   "name": "julia",
   "version": "0.6.2"
  }
 },
 "nbformat": 4,
 "nbformat_minor": 2
}
